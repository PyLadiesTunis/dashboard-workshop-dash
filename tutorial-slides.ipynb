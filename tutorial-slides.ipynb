{
 "cells": [
  {
   "cell_type": "markdown",
   "metadata": {
    "slideshow": {
     "slide_type": "slide"
    }
   },
   "source": [
    "<h1 align='center'>Create your first dashboard using Dash and Plotly</h1>\n",
    "\n",
    "<h2 align='center'>Vancouver Datajam 2021</h2>\n",
    "\n",
    "<h2 align='center'>Laura Gutierrez Funderburk</h2>\n",
    "\n",
    "<h2 align='center'>Hanh Tong</h2>\n",
    "\n",
    "\n"
   ]
  },
  {
   "cell_type": "markdown",
   "metadata": {
    "slideshow": {
     "slide_type": "slide"
    }
   },
   "source": [
    "<h2 align='center'>Introductions</h2>"
   ]
  },
  {
   "cell_type": "markdown",
   "metadata": {
    "slideshow": {
     "slide_type": "subslide"
    }
   },
   "source": [
    "<h2 align='center'>About Laura</h2>"
   ]
  },
  {
   "cell_type": "markdown",
   "metadata": {
    "slideshow": {
     "slide_type": "subslide"
    }
   },
   "source": [
    "<h2 align='center'>About Hanh</h2>"
   ]
  },
  {
   "cell_type": "markdown",
   "metadata": {
    "slideshow": {
     "slide_type": "slide"
    }
   },
   "source": [
    "<h2 align='center'>Workshop schedule</h2>\n",
    "\n",
    "* Part I\n",
    "    1. Introduction to the dataset and the question we are addressing\n",
    "    2. Visualizing data with Plotly\n",
    "    3. Code refactoring: scripting\n",
    "    4. Run script to generate visualizations"
   ]
  },
  {
   "cell_type": "markdown",
   "metadata": {
    "slideshow": {
     "slide_type": "subslide"
    }
   },
   "source": [
    "<h2 align='center'>Workshop schedule</h2>\n",
    "\n",
    "* Part II\n",
    "    1. Introduction to layouts\n",
    "    2. Tools for designing layouts \n",
    "    3. Implementing layout using code\n",
    "    4. Test dashboard locally\n",
    "    5. Engineering check: files needed to move to production\n",
    "    6. Deploying dashboard"
   ]
  }
 ],
 "metadata": {
  "celltoolbar": "Slideshow",
  "kernelspec": {
   "display_name": "Python 3",
   "language": "python",
   "name": "python3"
  },
  "language_info": {
   "codemirror_mode": {
    "name": "ipython",
    "version": 3
   },
   "file_extension": ".py",
   "mimetype": "text/x-python",
   "name": "python",
   "nbconvert_exporter": "python",
   "pygments_lexer": "ipython3",
   "version": "3.7.6"
  }
 },
 "nbformat": 4,
 "nbformat_minor": 4
}
