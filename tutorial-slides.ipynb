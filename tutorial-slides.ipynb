{
 "cells": [
  {
   "cell_type": "markdown",
   "metadata": {
    "slideshow": {
     "slide_type": "slide"
    }
   },
   "source": [
    "<h1 align='center'>Create your first dashboard using Dash and Plotly</h1>\n",
    "\n",
    "<h2 align='center'>Vancouver Datajam 2021</h2>\n",
    "\n",
    "<h2 align='center'>Laura Gutierrez Funderburk</h2>\n",
    "\n",
    "<h2 align='center'>Hanh Tong</h2>\n",
    "\n",
    "\n"
   ]
  },
  {
   "cell_type": "markdown",
   "metadata": {
    "slideshow": {
     "slide_type": "slide"
    }
   },
   "source": [
    "<h2 align='center'>Introductions</h2>"
   ]
  },
  {
   "cell_type": "markdown",
   "metadata": {
    "slideshow": {
     "slide_type": "subslide"
    }
   },
   "source": [
    "<h2 align='center'>About Laura</h2>"
   ]
  },
  {
   "cell_type": "markdown",
   "metadata": {
    "slideshow": {
     "slide_type": "subslide"
    }
   },
   "source": [
    "<h2 align='center'>About Hanh</h2>"
   ]
  },
  {
   "cell_type": "markdown",
   "metadata": {
    "slideshow": {
     "slide_type": "slide"
    }
   },
   "source": [
    "<h2 align='center'>Workshop schedule</h2>\n",
    "\n",
    "* Part I (1.5 hours)\n",
    "    1. Introduction to the dataset and the question we are addressing\n",
    "    2. Visualizing data with Plotly\n",
    "    3. Code refactoring: scripting\n",
    "    4. Run script to generate visualizations"
   ]
  },
  {
   "cell_type": "markdown",
   "metadata": {
    "slideshow": {
     "slide_type": "subslide"
    }
   },
   "source": [
    "<h2 align='center'>Workshop schedule</h2>\n",
    "\n",
    "* Part II (1.5 hours)\n",
    "    1. Introduction to layouts\n",
    "    2. Tools for designing layouts \n",
    "    3. Implementing layout using code\n",
    "    4. Test dashboard locally\n",
    "    5. Engineering check: files needed to move to production\n",
    "    6. Deploying dashboard"
   ]
  },
  {
   "cell_type": "markdown",
   "metadata": {
    "slideshow": {
     "slide_type": "slide"
    }
   },
   "source": [
    "<h2 align='center'>Part I: exploring the data</h2>"
   ]
  },
  {
   "cell_type": "code",
   "execution_count": 4,
   "metadata": {
    "slideshow": {
     "slide_type": "fragment"
    }
   },
   "outputs": [],
   "source": [
    "import pandas as pd\n",
    "import pathlib\n",
    "import plotly.express as px\n",
    "import sys\n",
    "sys.path.append(r'./scripts/')\n",
    "import data_cleaning"
   ]
  },
  {
   "cell_type": "code",
   "execution_count": 10,
   "metadata": {
    "slideshow": {
     "slide_type": "subslide"
    }
   },
   "outputs": [],
   "source": [
    "# Read data\n",
    "data = r'./data/'\n",
    "merged_filename = \"delinquency_mortgage_population_2021_2020.csv\"\n",
    "data_pop_del_mort = pathlib.Path(data, merged_filename)\n",
    "\n",
    "# Format data as a pandas dataframe\n",
    "\n",
    "data_pop_del_mort_df  = pd.read_csv(data_pop_del_mort)"
   ]
  },
  {
   "cell_type": "code",
   "execution_count": 11,
   "metadata": {
    "slideshow": {
     "slide_type": "subslide"
    }
   },
   "outputs": [
    {
     "data": {
      "text/html": [
       "<div>\n",
       "<style scoped>\n",
       "    .dataframe tbody tr th:only-of-type {\n",
       "        vertical-align: middle;\n",
       "    }\n",
       "\n",
       "    .dataframe tbody tr th {\n",
       "        vertical-align: top;\n",
       "    }\n",
       "\n",
       "    .dataframe thead th {\n",
       "        text-align: right;\n",
       "    }\n",
       "</style>\n",
       "<table border=\"1\" class=\"dataframe\">\n",
       "  <thead>\n",
       "    <tr style=\"text-align: right;\">\n",
       "      <th></th>\n",
       "      <th>Unnamed: 0</th>\n",
       "      <th>Geography</th>\n",
       "      <th>Time</th>\n",
       "      <th>DelinquencyRate</th>\n",
       "      <th>AverageMortgageAmount</th>\n",
       "      <th>PopulationSize</th>\n",
       "    </tr>\n",
       "  </thead>\n",
       "  <tbody>\n",
       "    <tr>\n",
       "      <th>0</th>\n",
       "      <td>0</td>\n",
       "      <td>Newfoundland</td>\n",
       "      <td>2012Q3</td>\n",
       "      <td>0.24</td>\n",
       "      <td>188732</td>\n",
       "      <td>526345</td>\n",
       "    </tr>\n",
       "    <tr>\n",
       "      <th>1</th>\n",
       "      <td>1</td>\n",
       "      <td>Prince Edward Island</td>\n",
       "      <td>2012Q3</td>\n",
       "      <td>0.57</td>\n",
       "      <td>140279</td>\n",
       "      <td>144530</td>\n",
       "    </tr>\n",
       "    <tr>\n",
       "      <th>2</th>\n",
       "      <td>2</td>\n",
       "      <td>Nova Scotia</td>\n",
       "      <td>2012Q3</td>\n",
       "      <td>0.53</td>\n",
       "      <td>174688</td>\n",
       "      <td>943635</td>\n",
       "    </tr>\n",
       "    <tr>\n",
       "      <th>3</th>\n",
       "      <td>3</td>\n",
       "      <td>New Brunswick</td>\n",
       "      <td>2012Q3</td>\n",
       "      <td>0.63</td>\n",
       "      <td>133390</td>\n",
       "      <td>758378</td>\n",
       "    </tr>\n",
       "    <tr>\n",
       "      <th>4</th>\n",
       "      <td>4</td>\n",
       "      <td>Québec</td>\n",
       "      <td>2012Q3</td>\n",
       "      <td>0.33</td>\n",
       "      <td>159661</td>\n",
       "      <td>8061101</td>\n",
       "    </tr>\n",
       "  </tbody>\n",
       "</table>\n",
       "</div>"
      ],
      "text/plain": [
       "   Unnamed: 0             Geography    Time  DelinquencyRate  \\\n",
       "0           0          Newfoundland  2012Q3             0.24   \n",
       "1           1  Prince Edward Island  2012Q3             0.57   \n",
       "2           2           Nova Scotia  2012Q3             0.53   \n",
       "3           3         New Brunswick  2012Q3             0.63   \n",
       "4           4                Québec  2012Q3             0.33   \n",
       "\n",
       "   AverageMortgageAmount  PopulationSize  \n",
       "0                 188732          526345  \n",
       "1                 140279          144530  \n",
       "2                 174688          943635  \n",
       "3                 133390          758378  \n",
       "4                 159661         8061101  "
      ]
     },
     "execution_count": 11,
     "metadata": {},
     "output_type": "execute_result"
    }
   ],
   "source": [
    "data_pop_del_mort_df.head()"
   ]
  },
  {
   "cell_type": "code",
   "execution_count": 12,
   "metadata": {
    "slideshow": {
     "slide_type": "subslide"
    }
   },
   "outputs": [
    {
     "name": "stdout",
     "output_type": "stream",
     "text": [
      "<class 'pandas.core.frame.DataFrame'>\n",
      "RangeIndex: 330 entries, 0 to 329\n",
      "Data columns (total 6 columns):\n",
      " #   Column                 Non-Null Count  Dtype  \n",
      "---  ------                 --------------  -----  \n",
      " 0   Unnamed: 0             330 non-null    int64  \n",
      " 1   Geography              330 non-null    object \n",
      " 2   Time                   330 non-null    object \n",
      " 3   DelinquencyRate        330 non-null    float64\n",
      " 4   AverageMortgageAmount  330 non-null    int64  \n",
      " 5   PopulationSize         330 non-null    int64  \n",
      "dtypes: float64(1), int64(3), object(2)\n",
      "memory usage: 15.6+ KB\n"
     ]
    }
   ],
   "source": [
    "data_pop_del_mort_df.info()"
   ]
  },
  {
   "cell_type": "markdown",
   "metadata": {
    "slideshow": {
     "slide_type": "slide"
    }
   },
   "source": [
    "<h2 align='center'>Data cleaning</h2>"
   ]
  },
  {
   "cell_type": "code",
   "execution_count": 13,
   "metadata": {
    "slideshow": {
     "slide_type": "subslide"
    }
   },
   "outputs": [],
   "source": [
    "# Column cleanup\n",
    "data_pop_del_mort_df.drop(columns=['Unnamed: 0'], inplace=True)\n"
   ]
  },
  {
   "cell_type": "code",
   "execution_count": 14,
   "metadata": {
    "slideshow": {
     "slide_type": "fragment"
    }
   },
   "outputs": [
    {
     "name": "stdout",
     "output_type": "stream",
     "text": [
      "<class 'pandas.core.frame.DataFrame'>\n",
      "RangeIndex: 330 entries, 0 to 329\n",
      "Data columns (total 5 columns):\n",
      " #   Column                 Non-Null Count  Dtype  \n",
      "---  ------                 --------------  -----  \n",
      " 0   Geography              330 non-null    object \n",
      " 1   Time                   330 non-null    object \n",
      " 2   DelinquencyRate        330 non-null    float64\n",
      " 3   AverageMortgageAmount  330 non-null    int64  \n",
      " 4   PopulationSize         330 non-null    int64  \n",
      "dtypes: float64(1), int64(2), object(2)\n",
      "memory usage: 13.0+ KB\n"
     ]
    }
   ],
   "source": [
    "data_pop_del_mort_df.info()"
   ]
  },
  {
   "cell_type": "code",
   "execution_count": null,
   "metadata": {
    "slideshow": {
     "slide_type": "slide"
    }
   },
   "outputs": [],
   "source": []
  }
 ],
 "metadata": {
  "celltoolbar": "Slideshow",
  "kernelspec": {
   "display_name": "Python 3",
   "language": "python",
   "name": "python3"
  },
  "language_info": {
   "codemirror_mode": {
    "name": "ipython",
    "version": 3
   },
   "file_extension": ".py",
   "mimetype": "text/x-python",
   "name": "python",
   "nbconvert_exporter": "python",
   "pygments_lexer": "ipython3",
   "version": "3.7.6"
  }
 },
 "nbformat": 4,
 "nbformat_minor": 4
}
