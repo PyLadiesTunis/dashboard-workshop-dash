{
 "cells": [
  {
   "cell_type": "markdown",
   "metadata": {},
   "source": [
    "How to cite: Statistics Canada. Table 36-10-0612-01  Adjusted household disposable income, Canada, provinces and territories, annual (x 1,000,000)\n",
    "DOI: https://doi.org/10.25318/3610061201-eng\n",
    "\n"
   ]
  },
  {
   "cell_type": "code",
   "execution_count": 15,
   "metadata": {},
   "outputs": [],
   "source": [
    "import pandas as pd\n",
    "import pathlib\n",
    "import plotly.express as px"
   ]
  },
  {
   "cell_type": "code",
   "execution_count": 4,
   "metadata": {},
   "outputs": [],
   "source": [
    "household = 'household_income_yearly.csv'\n",
    "data = r'C:\\Users\\Laura GF\\Documents\\GitHub\\dashboard-workshop-dash\\data/'\n",
    "\n",
    "data_income = pathlib.Path(data, household)\n",
    "data_income_df = pd.read_csv(data_income)"
   ]
  },
  {
   "cell_type": "code",
   "execution_count": 6,
   "metadata": {},
   "outputs": [
    {
     "data": {
      "text/plain": [
       "array(['Household disposable income', 'Plus: social transfers in kind',\n",
       "       'Equals: adjusted household disposable income',\n",
       "       'Adjusted household disposable income',\n",
       "       'Minus: household actual final consumption',\n",
       "       'Plus: change in pension entitlements',\n",
       "       'Equals: household net saving'], dtype=object)"
      ]
     },
     "execution_count": 6,
     "metadata": {},
     "output_type": "execute_result"
    }
   ],
   "source": [
    "data_income_df['Estimates'].unique()"
   ]
  },
  {
   "cell_type": "markdown",
   "metadata": {},
   "source": [
    "We are selecting 'Adjusted household disposable income'."
   ]
  },
  {
   "cell_type": "code",
   "execution_count": 10,
   "metadata": {},
   "outputs": [],
   "source": [
    "adjusted_income = data_income_df[data_income_df['Estimates']=='Adjusted household disposable income']"
   ]
  },
  {
   "cell_type": "code",
   "execution_count": 17,
   "metadata": {},
   "outputs": [
    {
     "data": {
      "text/html": [
       "<div>\n",
       "<style scoped>\n",
       "    .dataframe tbody tr th:only-of-type {\n",
       "        vertical-align: middle;\n",
       "    }\n",
       "\n",
       "    .dataframe tbody tr th {\n",
       "        vertical-align: top;\n",
       "    }\n",
       "\n",
       "    .dataframe thead th {\n",
       "        text-align: right;\n",
       "    }\n",
       "</style>\n",
       "<table border=\"1\" class=\"dataframe\">\n",
       "  <thead>\n",
       "    <tr style=\"text-align: right;\">\n",
       "      <th></th>\n",
       "      <th>REF_DATE</th>\n",
       "      <th>GEO</th>\n",
       "      <th>Estimates</th>\n",
       "      <th>VALUE</th>\n",
       "    </tr>\n",
       "  </thead>\n",
       "  <tbody>\n",
       "    <tr>\n",
       "      <th>73</th>\n",
       "      <td>2008</td>\n",
       "      <td>British Columbia</td>\n",
       "      <td>Adjusted household disposable income</td>\n",
       "      <td>148261.0</td>\n",
       "    </tr>\n",
       "    <tr>\n",
       "      <th>178</th>\n",
       "      <td>2009</td>\n",
       "      <td>British Columbia</td>\n",
       "      <td>Adjusted household disposable income</td>\n",
       "      <td>150818.0</td>\n",
       "    </tr>\n",
       "    <tr>\n",
       "      <th>283</th>\n",
       "      <td>2010</td>\n",
       "      <td>British Columbia</td>\n",
       "      <td>Adjusted household disposable income</td>\n",
       "      <td>157065.0</td>\n",
       "    </tr>\n",
       "    <tr>\n",
       "      <th>388</th>\n",
       "      <td>2011</td>\n",
       "      <td>British Columbia</td>\n",
       "      <td>Adjusted household disposable income</td>\n",
       "      <td>162843.0</td>\n",
       "    </tr>\n",
       "    <tr>\n",
       "      <th>493</th>\n",
       "      <td>2012</td>\n",
       "      <td>British Columbia</td>\n",
       "      <td>Adjusted household disposable income</td>\n",
       "      <td>169323.0</td>\n",
       "    </tr>\n",
       "    <tr>\n",
       "      <th>598</th>\n",
       "      <td>2013</td>\n",
       "      <td>British Columbia</td>\n",
       "      <td>Adjusted household disposable income</td>\n",
       "      <td>178411.0</td>\n",
       "    </tr>\n",
       "    <tr>\n",
       "      <th>703</th>\n",
       "      <td>2014</td>\n",
       "      <td>British Columbia</td>\n",
       "      <td>Adjusted household disposable income</td>\n",
       "      <td>183462.0</td>\n",
       "    </tr>\n",
       "    <tr>\n",
       "      <th>808</th>\n",
       "      <td>2015</td>\n",
       "      <td>British Columbia</td>\n",
       "      <td>Adjusted household disposable income</td>\n",
       "      <td>192232.0</td>\n",
       "    </tr>\n",
       "    <tr>\n",
       "      <th>913</th>\n",
       "      <td>2016</td>\n",
       "      <td>British Columbia</td>\n",
       "      <td>Adjusted household disposable income</td>\n",
       "      <td>198190.0</td>\n",
       "    </tr>\n",
       "    <tr>\n",
       "      <th>1018</th>\n",
       "      <td>2017</td>\n",
       "      <td>British Columbia</td>\n",
       "      <td>Adjusted household disposable income</td>\n",
       "      <td>210907.0</td>\n",
       "    </tr>\n",
       "    <tr>\n",
       "      <th>1123</th>\n",
       "      <td>2018</td>\n",
       "      <td>British Columbia</td>\n",
       "      <td>Adjusted household disposable income</td>\n",
       "      <td>216056.0</td>\n",
       "    </tr>\n",
       "    <tr>\n",
       "      <th>1228</th>\n",
       "      <td>2019</td>\n",
       "      <td>British Columbia</td>\n",
       "      <td>Adjusted household disposable income</td>\n",
       "      <td>229220.0</td>\n",
       "    </tr>\n",
       "    <tr>\n",
       "      <th>1333</th>\n",
       "      <td>2020</td>\n",
       "      <td>British Columbia</td>\n",
       "      <td>Adjusted household disposable income</td>\n",
       "      <td>NaN</td>\n",
       "    </tr>\n",
       "  </tbody>\n",
       "</table>\n",
       "</div>"
      ],
      "text/plain": [
       "      REF_DATE               GEO                             Estimates  \\\n",
       "73        2008  British Columbia  Adjusted household disposable income   \n",
       "178       2009  British Columbia  Adjusted household disposable income   \n",
       "283       2010  British Columbia  Adjusted household disposable income   \n",
       "388       2011  British Columbia  Adjusted household disposable income   \n",
       "493       2012  British Columbia  Adjusted household disposable income   \n",
       "598       2013  British Columbia  Adjusted household disposable income   \n",
       "703       2014  British Columbia  Adjusted household disposable income   \n",
       "808       2015  British Columbia  Adjusted household disposable income   \n",
       "913       2016  British Columbia  Adjusted household disposable income   \n",
       "1018      2017  British Columbia  Adjusted household disposable income   \n",
       "1123      2018  British Columbia  Adjusted household disposable income   \n",
       "1228      2019  British Columbia  Adjusted household disposable income   \n",
       "1333      2020  British Columbia  Adjusted household disposable income   \n",
       "\n",
       "         VALUE  \n",
       "73    148261.0  \n",
       "178   150818.0  \n",
       "283   157065.0  \n",
       "388   162843.0  \n",
       "493   169323.0  \n",
       "598   178411.0  \n",
       "703   183462.0  \n",
       "808   192232.0  \n",
       "913   198190.0  \n",
       "1018  210907.0  \n",
       "1123  216056.0  \n",
       "1228  229220.0  \n",
       "1333       NaN  "
      ]
     },
     "execution_count": 17,
     "metadata": {},
     "output_type": "execute_result"
    }
   ],
   "source": [
    "prov = \"British Columbia\"\n",
    "adjusted_income[adjusted_income['GEO']==prov][[\"REF_DATE\",\"GEO\",\"Estimates\",\"VALUE\"]]"
   ]
  },
  {
   "cell_type": "markdown",
   "metadata": {},
   "source": [
    "# Slider:\n",
    "\n",
    "Size of dot reflects population\n",
    "\n",
    "Huge dot in population, high delinquency rate (flag)\n",
    "\n",
    "Sliding bar on time\n",
    "X axis time\n",
    "Y axis would be rate "
   ]
  }
 ],
 "metadata": {
  "kernelspec": {
   "display_name": "Python 3",
   "language": "python",
   "name": "python3"
  },
  "language_info": {
   "codemirror_mode": {
    "name": "ipython",
    "version": 3
   },
   "file_extension": ".py",
   "mimetype": "text/x-python",
   "name": "python",
   "nbconvert_exporter": "python",
   "pygments_lexer": "ipython3",
   "version": "3.7.6"
  }
 },
 "nbformat": 4,
 "nbformat_minor": 4
}
