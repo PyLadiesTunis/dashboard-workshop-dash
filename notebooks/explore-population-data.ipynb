{
 "cells": [
  {
   "cell_type": "code",
   "execution_count": null,
   "metadata": {},
   "outputs": [],
   "source": [
    "import pandas as pd\n",
    "import pathlib\n",
    "import plotly.express as px\n",
    "import sys\n",
    "sys.path.append(r'C:\\Users\\Laura GF\\Documents\\GitHub\\dashboard-workshop-dash\\scripts/')\n",
    "import data_cleaning"
   ]
  },
  {
   "cell_type": "code",
   "execution_count": null,
   "metadata": {},
   "outputs": [],
   "source": [
    "# Read data\n",
    "data = r'C:\\Users\\Laura GF\\Documents\\GitHub\\dashboard-workshop-dash\\data/'\n",
    "population_filename = \"population_q_2012-2020.xlsx\"\n",
    "data_population = pathlib.Path(data, population_filename)"
   ]
  },
  {
   "cell_type": "code",
   "execution_count": null,
   "metadata": {},
   "outputs": [],
   "source": [
    "population_df = data_cleaning.data_prep(data_population)"
   ]
  },
  {
   "cell_type": "code",
   "execution_count": null,
   "metadata": {},
   "outputs": [],
   "source": [
    "population_df['Region/City'][population_df.index >= 11] = 'Province'"
   ]
  },
  {
   "cell_type": "code",
   "execution_count": null,
   "metadata": {},
   "outputs": [],
   "source": [
    "level = \"Province\"\n",
    "population_long_df = data_cleaning.slice_data(population_df, level = level)"
   ]
  },
  {
   "cell_type": "code",
   "execution_count": null,
   "metadata": {},
   "outputs": [],
   "source": [
    "population_df"
   ]
  },
  {
   "cell_type": "code",
   "execution_count": null,
   "metadata": {},
   "outputs": [],
   "source": [
    "population_long_df.rename(columns={5: \"Time\"}, inplace=True)"
   ]
  },
  {
   "cell_type": "code",
   "execution_count": null,
   "metadata": {},
   "outputs": [],
   "source": [
    "# a function for box or violin graphs\n",
    "def graph_region(region_df, graph_type: str, title):\n",
    "    \"\"\"\n",
    "    region_df: reshaped data frame object with mortage data\n",
    "    graph_type: \"box\", \"violin\"\n",
    "    title: title of the graph\n",
    "    \"\"\"\n",
    "    \n",
    "    plot_dict = {'box': px.box,'violin': px.violin}\n",
    "        \n",
    "    try:\n",
    "        fig = plot_dict[graph_type](region_df, x=\"Geography\", y=\"value\", color = \"Geography\", points='all')\n",
    "        fig.update_layout(title = title)\n",
    "        fig.update_xaxes(tickangle=-45)\n",
    "        fig.show()\n",
    "    \n",
    "    except KeyError:\n",
    "        print(\"Key not found. Make sure that 'graph_type' is in ['box','violin']\")"
   ]
  },
  {
   "cell_type": "code",
   "execution_count": null,
   "metadata": {},
   "outputs": [],
   "source": [
    "graph_region(population_long_df, \"box\", \"Population \")"
   ]
  },
  {
   "cell_type": "code",
   "execution_count": null,
   "metadata": {
    "scrolled": false
   },
   "outputs": [],
   "source": [
    "#line plot\n",
    "fig = px.line(population_long_df, x='Time', y='value', color = 'Geography',\n",
    "              title = f'Line plot of population by {level}'.upper())\n",
    "fig.update_xaxes(tickangle=-45)\n",
    "fig.show()"
   ]
  },
  {
   "cell_type": "markdown",
   "metadata": {},
   "source": [
    "## Data merging"
   ]
  },
  {
   "cell_type": "code",
   "execution_count": null,
   "metadata": {},
   "outputs": [],
   "source": [
    "population_long_df"
   ]
  },
  {
   "cell_type": "markdown",
   "metadata": {},
   "source": [
    "We'll need to rename column values"
   ]
  },
  {
   "cell_type": "code",
   "execution_count": null,
   "metadata": {},
   "outputs": [],
   "source": [
    "quarter = population_long_df['Time'].str[0:2]\n",
    "year = population_long_df['Time'].str[3:]\n",
    "\n",
    "population_long_df['Time'] = year + quarter"
   ]
  },
  {
   "cell_type": "code",
   "execution_count": null,
   "metadata": {},
   "outputs": [],
   "source": [
    "population_long_df"
   ]
  },
  {
   "cell_type": "code",
   "execution_count": null,
   "metadata": {},
   "outputs": [],
   "source": []
  }
 ],
 "metadata": {
  "kernelspec": {
   "display_name": "Python 3",
   "language": "python",
   "name": "python3"
  },
  "language_info": {
   "codemirror_mode": {
    "name": "ipython",
    "version": 3
   },
   "file_extension": ".py",
   "mimetype": "text/x-python",
   "name": "python",
   "nbconvert_exporter": "python",
   "pygments_lexer": "ipython3",
   "version": "3.7.6"
  }
 },
 "nbformat": 4,
 "nbformat_minor": 4
}
