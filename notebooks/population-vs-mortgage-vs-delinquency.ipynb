{
 "cells": [
  {
   "cell_type": "markdown",
   "metadata": {},
   "source": [
    "## Generating time series plot"
   ]
  },
  {
   "cell_type": "code",
   "execution_count": 1,
   "metadata": {},
   "outputs": [],
   "source": [
    "import pandas as pd\n",
    "import pathlib\n",
    "import plotly.express as px\n",
    "import sys\n",
    "sys.path.append(r'C:\\Users\\Laura GF\\Documents\\GitHub\\dashboard-workshop-dash\\scripts/')\n",
    "import data_cleaning"
   ]
  },
  {
   "cell_type": "code",
   "execution_count": 2,
   "metadata": {},
   "outputs": [],
   "source": [
    "# Read data\n",
    "data = r'C:\\Users\\Laura GF\\Documents\\GitHub\\dashboard-workshop-dash\\data/'\n",
    "merged_filename = \"delinquency_mortgage_population_2021_2020.csv\"\n",
    "data_pop_del_mort = pathlib.Path(data, merged_filename)\n",
    "\n",
    "# Format data as a pandas dataframe\n",
    "\n",
    "data_pop_del_mort_df  = pd.read_csv(data_pop_del_mort)"
   ]
  },
  {
   "cell_type": "code",
   "execution_count": 3,
   "metadata": {},
   "outputs": [],
   "source": [
    "# Column cleanup\n",
    "data_pop_del_mort_df.drop(columns=['Unnamed: 0'], inplace=True)"
   ]
  },
  {
   "cell_type": "code",
   "execution_count": 4,
   "metadata": {},
   "outputs": [
    {
     "data": {
      "text/html": [
       "<div>\n",
       "<style scoped>\n",
       "    .dataframe tbody tr th:only-of-type {\n",
       "        vertical-align: middle;\n",
       "    }\n",
       "\n",
       "    .dataframe tbody tr th {\n",
       "        vertical-align: top;\n",
       "    }\n",
       "\n",
       "    .dataframe thead th {\n",
       "        text-align: right;\n",
       "    }\n",
       "</style>\n",
       "<table border=\"1\" class=\"dataframe\">\n",
       "  <thead>\n",
       "    <tr style=\"text-align: right;\">\n",
       "      <th></th>\n",
       "      <th>Geography</th>\n",
       "      <th>Time</th>\n",
       "      <th>DelinquencyRate</th>\n",
       "      <th>AverageMortgageAmount</th>\n",
       "      <th>PopulationSize</th>\n",
       "    </tr>\n",
       "  </thead>\n",
       "  <tbody>\n",
       "    <tr>\n",
       "      <th>0</th>\n",
       "      <td>Newfoundland</td>\n",
       "      <td>2012Q3</td>\n",
       "      <td>0.24</td>\n",
       "      <td>188732</td>\n",
       "      <td>526345</td>\n",
       "    </tr>\n",
       "    <tr>\n",
       "      <th>1</th>\n",
       "      <td>Prince Edward Island</td>\n",
       "      <td>2012Q3</td>\n",
       "      <td>0.57</td>\n",
       "      <td>140279</td>\n",
       "      <td>144530</td>\n",
       "    </tr>\n",
       "    <tr>\n",
       "      <th>2</th>\n",
       "      <td>Nova Scotia</td>\n",
       "      <td>2012Q3</td>\n",
       "      <td>0.53</td>\n",
       "      <td>174688</td>\n",
       "      <td>943635</td>\n",
       "    </tr>\n",
       "    <tr>\n",
       "      <th>3</th>\n",
       "      <td>New Brunswick</td>\n",
       "      <td>2012Q3</td>\n",
       "      <td>0.63</td>\n",
       "      <td>133390</td>\n",
       "      <td>758378</td>\n",
       "    </tr>\n",
       "    <tr>\n",
       "      <th>4</th>\n",
       "      <td>Québec</td>\n",
       "      <td>2012Q3</td>\n",
       "      <td>0.33</td>\n",
       "      <td>159661</td>\n",
       "      <td>8061101</td>\n",
       "    </tr>\n",
       "  </tbody>\n",
       "</table>\n",
       "</div>"
      ],
      "text/plain": [
       "              Geography    Time  DelinquencyRate  AverageMortgageAmount  \\\n",
       "0          Newfoundland  2012Q3             0.24                 188732   \n",
       "1  Prince Edward Island  2012Q3             0.57                 140279   \n",
       "2           Nova Scotia  2012Q3             0.53                 174688   \n",
       "3         New Brunswick  2012Q3             0.63                 133390   \n",
       "4                Québec  2012Q3             0.33                 159661   \n",
       "\n",
       "   PopulationSize  \n",
       "0          526345  \n",
       "1          144530  \n",
       "2          943635  \n",
       "3          758378  \n",
       "4         8061101  "
      ]
     },
     "execution_count": 4,
     "metadata": {},
     "output_type": "execute_result"
    }
   ],
   "source": [
    "data_pop_del_mort_df.head()"
   ]
  },
  {
   "cell_type": "code",
   "execution_count": 16,
   "metadata": {},
   "outputs": [
    {
     "data": {
      "text/plain": [
       "0.43"
      ]
     },
     "execution_count": 16,
     "metadata": {},
     "output_type": "execute_result"
    }
   ],
   "source": [
    "region['DelinquencyRate'].max()\n"
   ]
  },
  {
   "cell_type": "code",
   "execution_count": 17,
   "metadata": {},
   "outputs": [
    {
     "data": {
      "text/plain": [
       "0.16"
      ]
     },
     "execution_count": 17,
     "metadata": {},
     "output_type": "execute_result"
    }
   ],
   "source": [
    "region['DelinquencyRate'].min()"
   ]
  },
  {
   "cell_type": "code",
   "execution_count": 50,
   "metadata": {},
   "outputs": [
    {
     "data": {
      "application/vnd.plotly.v1+json": {
       "config": {
        "plotlyServerURL": "https://plot.ly"
       },
       "data": [
        {
         "hovertemplate": "Geography=Newfoundland<br>Time=2012Q3<br>DelinquencyRate=%{x}<br>AverageMortgageAmount=%{y}<br>PopulationSize=%{marker.size}<extra></extra>",
         "ids": [
          "Newfoundland"
         ],
         "legendgroup": "Newfoundland",
         "marker": {
          "color": "#636efa",
          "size": [
           526345
          ],
          "sizemode": "area",
          "sizeref": 36835.035,
          "symbol": "circle"
         },
         "mode": "markers",
         "name": "Newfoundland",
         "orientation": "v",
         "showlegend": true,
         "type": "scatter",
         "x": [
          0.24
         ],
         "xaxis": "x",
         "y": [
          188732
         ],
         "yaxis": "y"
        },
        {
         "hovertemplate": "Geography=Prince Edward Island<br>Time=2012Q3<br>DelinquencyRate=%{x}<br>AverageMortgageAmount=%{y}<br>PopulationSize=%{marker.size}<extra></extra>",
         "ids": [
          "Prince Edward Island"
         ],
         "legendgroup": "Prince Edward Island",
         "marker": {
          "color": "#EF553B",
          "size": [
           144530
          ],
          "sizemode": "area",
          "sizeref": 36835.035,
          "symbol": "circle"
         },
         "mode": "markers",
         "name": "Prince Edward Island",
         "orientation": "v",
         "showlegend": true,
         "type": "scatter",
         "x": [
          0.57
         ],
         "xaxis": "x",
         "y": [
          140279
         ],
         "yaxis": "y"
        },
        {
         "hovertemplate": "Geography=Nova Scotia<br>Time=2012Q3<br>DelinquencyRate=%{x}<br>AverageMortgageAmount=%{y}<br>PopulationSize=%{marker.size}<extra></extra>",
         "ids": [
          "Nova Scotia"
         ],
         "legendgroup": "Nova Scotia",
         "marker": {
          "color": "#00cc96",
          "size": [
           943635
          ],
          "sizemode": "area",
          "sizeref": 36835.035,
          "symbol": "circle"
         },
         "mode": "markers",
         "name": "Nova Scotia",
         "orientation": "v",
         "showlegend": true,
         "type": "scatter",
         "x": [
          0.53
         ],
         "xaxis": "x",
         "y": [
          174688
         ],
         "yaxis": "y"
        },
        {
         "hovertemplate": "Geography=New Brunswick<br>Time=2012Q3<br>DelinquencyRate=%{x}<br>AverageMortgageAmount=%{y}<br>PopulationSize=%{marker.size}<extra></extra>",
         "ids": [
          "New Brunswick"
         ],
         "legendgroup": "New Brunswick",
         "marker": {
          "color": "#ab63fa",
          "size": [
           758378
          ],
          "sizemode": "area",
          "sizeref": 36835.035,
          "symbol": "circle"
         },
         "mode": "markers",
         "name": "New Brunswick",
         "orientation": "v",
         "showlegend": true,
         "type": "scatter",
         "x": [
          0.63
         ],
         "xaxis": "x",
         "y": [
          133390
         ],
         "yaxis": "y"
        },
        {
         "hovertemplate": "Geography=Québec<br>Time=2012Q3<br>DelinquencyRate=%{x}<br>AverageMortgageAmount=%{y}<br>PopulationSize=%{marker.size}<extra></extra>",
         "ids": [
          "Québec"
         ],
         "legendgroup": "Québec",
         "marker": {
          "color": "#FFA15A",
          "size": [
           8061101
          ],
          "sizemode": "area",
          "sizeref": 36835.035,
          "symbol": "circle"
         },
         "mode": "markers",
         "name": "Québec",
         "orientation": "v",
         "showlegend": true,
         "type": "scatter",
         "x": [
          0.33
         ],
         "xaxis": "x",
         "y": [
          159661
         ],
         "yaxis": "y"
        },
        {
         "hovertemplate": "Geography=Ontario<br>Time=2012Q3<br>DelinquencyRate=%{x}<br>AverageMortgageAmount=%{y}<br>PopulationSize=%{marker.size}<extra></extra>",
         "ids": [
          "Ontario"
         ],
         "legendgroup": "Ontario",
         "marker": {
          "color": "#19d3f3",
          "size": [
           13390632
          ],
          "sizemode": "area",
          "sizeref": 36835.035,
          "symbol": "circle"
         },
         "mode": "markers",
         "name": "Ontario",
         "orientation": "v",
         "showlegend": true,
         "type": "scatter",
         "x": [
          0.31
         ],
         "xaxis": "x",
         "y": [
          247455
         ],
         "yaxis": "y"
        },
        {
         "hovertemplate": "Geography=Manitoba<br>Time=2012Q3<br>DelinquencyRate=%{x}<br>AverageMortgageAmount=%{y}<br>PopulationSize=%{marker.size}<extra></extra>",
         "ids": [
          "Manitoba"
         ],
         "legendgroup": "Manitoba",
         "marker": {
          "color": "#FF6692",
          "size": [
           1249975
          ],
          "sizemode": "area",
          "sizeref": 36835.035,
          "symbol": "circle"
         },
         "mode": "markers",
         "name": "Manitoba",
         "orientation": "v",
         "showlegend": true,
         "type": "scatter",
         "x": [
          0.25
         ],
         "xaxis": "x",
         "y": [
          188298
         ],
         "yaxis": "y"
        },
        {
         "hovertemplate": "Geography=Saskatchewan<br>Time=2012Q3<br>DelinquencyRate=%{x}<br>AverageMortgageAmount=%{y}<br>PopulationSize=%{marker.size}<extra></extra>",
         "ids": [
          "Saskatchewan"
         ],
         "legendgroup": "Saskatchewan",
         "marker": {
          "color": "#B6E880",
          "size": [
           1083755
          ],
          "sizemode": "area",
          "sizeref": 36835.035,
          "symbol": "circle"
         },
         "mode": "markers",
         "name": "Saskatchewan",
         "orientation": "v",
         "showlegend": true,
         "type": "scatter",
         "x": [
          0.37
         ],
         "xaxis": "x",
         "y": [
          217945
         ],
         "yaxis": "y"
        },
        {
         "hovertemplate": "Geography=Alberta<br>Time=2012Q3<br>DelinquencyRate=%{x}<br>AverageMortgageAmount=%{y}<br>PopulationSize=%{marker.size}<extra></extra>",
         "ids": [
          "Alberta"
         ],
         "legendgroup": "Alberta",
         "marker": {
          "color": "#FF97FF",
          "size": [
           3874548
          ],
          "sizemode": "area",
          "sizeref": 36835.035,
          "symbol": "circle"
         },
         "mode": "markers",
         "name": "Alberta",
         "orientation": "v",
         "showlegend": true,
         "type": "scatter",
         "x": [
          0.6
         ],
         "xaxis": "x",
         "y": [
          282371
         ],
         "yaxis": "y"
        },
        {
         "hovertemplate": "Geography=British Columbia<br>Time=2012Q3<br>DelinquencyRate=%{x}<br>AverageMortgageAmount=%{y}<br>PopulationSize=%{marker.size}<extra></extra>",
         "ids": [
          "British Columbia"
         ],
         "legendgroup": "British Columbia",
         "marker": {
          "color": "#FECB52",
          "size": [
           4566769
          ],
          "sizemode": "area",
          "sizeref": 36835.035,
          "symbol": "circle"
         },
         "mode": "markers",
         "name": "British Columbia",
         "orientation": "v",
         "showlegend": true,
         "type": "scatter",
         "x": [
          0.42
         ],
         "xaxis": "x",
         "y": [
          305427
         ],
         "yaxis": "y"
        }
       ],
       "frames": [
        {
         "data": [
          {
           "hovertemplate": "Geography=Newfoundland<br>Time=2012Q3<br>DelinquencyRate=%{x}<br>AverageMortgageAmount=%{y}<br>PopulationSize=%{marker.size}<extra></extra>",
           "ids": [
            "Newfoundland"
           ],
           "legendgroup": "Newfoundland",
           "marker": {
            "color": "#636efa",
            "size": [
             526345
            ],
            "sizemode": "area",
            "sizeref": 36835.035,
            "symbol": "circle"
           },
           "mode": "markers",
           "name": "Newfoundland",
           "orientation": "v",
           "showlegend": true,
           "type": "scatter",
           "x": [
            0.24
           ],
           "xaxis": "x",
           "y": [
            188732
           ],
           "yaxis": "y"
          },
          {
           "hovertemplate": "Geography=Prince Edward Island<br>Time=2012Q3<br>DelinquencyRate=%{x}<br>AverageMortgageAmount=%{y}<br>PopulationSize=%{marker.size}<extra></extra>",
           "ids": [
            "Prince Edward Island"
           ],
           "legendgroup": "Prince Edward Island",
           "marker": {
            "color": "#EF553B",
            "size": [
             144530
            ],
            "sizemode": "area",
            "sizeref": 36835.035,
            "symbol": "circle"
           },
           "mode": "markers",
           "name": "Prince Edward Island",
           "orientation": "v",
           "showlegend": true,
           "type": "scatter",
           "x": [
            0.57
           ],
           "xaxis": "x",
           "y": [
            140279
           ],
           "yaxis": "y"
          },
          {
           "hovertemplate": "Geography=Nova Scotia<br>Time=2012Q3<br>DelinquencyRate=%{x}<br>AverageMortgageAmount=%{y}<br>PopulationSize=%{marker.size}<extra></extra>",
           "ids": [
            "Nova Scotia"
           ],
           "legendgroup": "Nova Scotia",
           "marker": {
            "color": "#00cc96",
            "size": [
             943635
            ],
            "sizemode": "area",
            "sizeref": 36835.035,
            "symbol": "circle"
           },
           "mode": "markers",
           "name": "Nova Scotia",
           "orientation": "v",
           "showlegend": true,
           "type": "scatter",
           "x": [
            0.53
           ],
           "xaxis": "x",
           "y": [
            174688
           ],
           "yaxis": "y"
          },
          {
           "hovertemplate": "Geography=New Brunswick<br>Time=2012Q3<br>DelinquencyRate=%{x}<br>AverageMortgageAmount=%{y}<br>PopulationSize=%{marker.size}<extra></extra>",
           "ids": [
            "New Brunswick"
           ],
           "legendgroup": "New Brunswick",
           "marker": {
            "color": "#ab63fa",
            "size": [
             758378
            ],
            "sizemode": "area",
            "sizeref": 36835.035,
            "symbol": "circle"
           },
           "mode": "markers",
           "name": "New Brunswick",
           "orientation": "v",
           "showlegend": true,
           "type": "scatter",
           "x": [
            0.63
           ],
           "xaxis": "x",
           "y": [
            133390
           ],
           "yaxis": "y"
          },
          {
           "hovertemplate": "Geography=Québec<br>Time=2012Q3<br>DelinquencyRate=%{x}<br>AverageMortgageAmount=%{y}<br>PopulationSize=%{marker.size}<extra></extra>",
           "ids": [
            "Québec"
           ],
           "legendgroup": "Québec",
           "marker": {
            "color": "#FFA15A",
            "size": [
             8061101
            ],
            "sizemode": "area",
            "sizeref": 36835.035,
            "symbol": "circle"
           },
           "mode": "markers",
           "name": "Québec",
           "orientation": "v",
           "showlegend": true,
           "type": "scatter",
           "x": [
            0.33
           ],
           "xaxis": "x",
           "y": [
            159661
           ],
           "yaxis": "y"
          },
          {
           "hovertemplate": "Geography=Ontario<br>Time=2012Q3<br>DelinquencyRate=%{x}<br>AverageMortgageAmount=%{y}<br>PopulationSize=%{marker.size}<extra></extra>",
           "ids": [
            "Ontario"
           ],
           "legendgroup": "Ontario",
           "marker": {
            "color": "#19d3f3",
            "size": [
             13390632
            ],
            "sizemode": "area",
            "sizeref": 36835.035,
            "symbol": "circle"
           },
           "mode": "markers",
           "name": "Ontario",
           "orientation": "v",
           "showlegend": true,
           "type": "scatter",
           "x": [
            0.31
           ],
           "xaxis": "x",
           "y": [
            247455
           ],
           "yaxis": "y"
          },
          {
           "hovertemplate": "Geography=Manitoba<br>Time=2012Q3<br>DelinquencyRate=%{x}<br>AverageMortgageAmount=%{y}<br>PopulationSize=%{marker.size}<extra></extra>",
           "ids": [
            "Manitoba"
           ],
           "legendgroup": "Manitoba",
           "marker": {
            "color": "#FF6692",
            "size": [
             1249975
            ],
            "sizemode": "area",
            "sizeref": 36835.035,
            "symbol": "circle"
           },
           "mode": "markers",
           "name": "Manitoba",
           "orientation": "v",
           "showlegend": true,
           "type": "scatter",
           "x": [
            0.25
           ],
           "xaxis": "x",
           "y": [
            188298
           ],
           "yaxis": "y"
          },
          {
           "hovertemplate": "Geography=Saskatchewan<br>Time=2012Q3<br>DelinquencyRate=%{x}<br>AverageMortgageAmount=%{y}<br>PopulationSize=%{marker.size}<extra></extra>",
           "ids": [
            "Saskatchewan"
           ],
           "legendgroup": "Saskatchewan",
           "marker": {
            "color": "#B6E880",
            "size": [
             1083755
            ],
            "sizemode": "area",
            "sizeref": 36835.035,
            "symbol": "circle"
           },
           "mode": "markers",
           "name": "Saskatchewan",
           "orientation": "v",
           "showlegend": true,
           "type": "scatter",
           "x": [
            0.37
           ],
           "xaxis": "x",
           "y": [
            217945
           ],
           "yaxis": "y"
          },
          {
           "hovertemplate": "Geography=Alberta<br>Time=2012Q3<br>DelinquencyRate=%{x}<br>AverageMortgageAmount=%{y}<br>PopulationSize=%{marker.size}<extra></extra>",
           "ids": [
            "Alberta"
           ],
           "legendgroup": "Alberta",
           "marker": {
            "color": "#FF97FF",
            "size": [
             3874548
            ],
            "sizemode": "area",
            "sizeref": 36835.035,
            "symbol": "circle"
           },
           "mode": "markers",
           "name": "Alberta",
           "orientation": "v",
           "showlegend": true,
           "type": "scatter",
           "x": [
            0.6
           ],
           "xaxis": "x",
           "y": [
            282371
           ],
           "yaxis": "y"
          },
          {
           "hovertemplate": "Geography=British Columbia<br>Time=2012Q3<br>DelinquencyRate=%{x}<br>AverageMortgageAmount=%{y}<br>PopulationSize=%{marker.size}<extra></extra>",
           "ids": [
            "British Columbia"
           ],
           "legendgroup": "British Columbia",
           "marker": {
            "color": "#FECB52",
            "size": [
             4566769
            ],
            "sizemode": "area",
            "sizeref": 36835.035,
            "symbol": "circle"
           },
           "mode": "markers",
           "name": "British Columbia",
           "orientation": "v",
           "showlegend": true,
           "type": "scatter",
           "x": [
            0.42
           ],
           "xaxis": "x",
           "y": [
            305427
           ],
           "yaxis": "y"
          }
         ],
         "name": "2012Q3"
        },
        {
         "data": [
          {
           "hovertemplate": "Geography=Newfoundland<br>Time=2012Q4<br>DelinquencyRate=%{x}<br>AverageMortgageAmount=%{y}<br>PopulationSize=%{marker.size}<extra></extra>",
           "ids": [
            "Newfoundland"
           ],
           "legendgroup": "Newfoundland",
           "marker": {
            "color": "#636efa",
            "size": [
             527180
            ],
            "sizemode": "area",
            "sizeref": 36835.035,
            "symbol": "circle"
           },
           "mode": "markers",
           "name": "Newfoundland",
           "orientation": "v",
           "showlegend": true,
           "type": "scatter",
           "x": [
            0.22
           ],
           "xaxis": "x",
           "y": [
            185794
           ],
           "yaxis": "y"
          },
          {
           "hovertemplate": "Geography=Prince Edward Island<br>Time=2012Q4<br>DelinquencyRate=%{x}<br>AverageMortgageAmount=%{y}<br>PopulationSize=%{marker.size}<extra></extra>",
           "ids": [
            "Prince Edward Island"
           ],
           "legendgroup": "Prince Edward Island",
           "marker": {
            "color": "#EF553B",
            "size": [
             144520
            ],
            "sizemode": "area",
            "sizeref": 36835.035,
            "symbol": "circle"
           },
           "mode": "markers",
           "name": "Prince Edward Island",
           "orientation": "v",
           "showlegend": true,
           "type": "scatter",
           "x": [
            0.5
           ],
           "xaxis": "x",
           "y": [
            138415
           ],
           "yaxis": "y"
          },
          {
           "hovertemplate": "Geography=Nova Scotia<br>Time=2012Q4<br>DelinquencyRate=%{x}<br>AverageMortgageAmount=%{y}<br>PopulationSize=%{marker.size}<extra></extra>",
           "ids": [
            "Nova Scotia"
           ],
           "legendgroup": "Nova Scotia",
           "marker": {
            "color": "#00cc96",
            "size": [
             943341
            ],
            "sizemode": "area",
            "sizeref": 36835.035,
            "symbol": "circle"
           },
           "mode": "markers",
           "name": "Nova Scotia",
           "orientation": "v",
           "showlegend": true,
           "type": "scatter",
           "x": [
            0.53
           ],
           "xaxis": "x",
           "y": [
            160046
           ],
           "yaxis": "y"
          },
          {
           "hovertemplate": "Geography=New Brunswick<br>Time=2012Q4<br>DelinquencyRate=%{x}<br>AverageMortgageAmount=%{y}<br>PopulationSize=%{marker.size}<extra></extra>",
           "ids": [
            "New Brunswick"
           ],
           "legendgroup": "New Brunswick",
           "marker": {
            "color": "#ab63fa",
            "size": [
             758673
            ],
            "sizemode": "area",
            "sizeref": 36835.035,
            "symbol": "circle"
           },
           "mode": "markers",
           "name": "New Brunswick",
           "orientation": "v",
           "showlegend": true,
           "type": "scatter",
           "x": [
            0.63
           ],
           "xaxis": "x",
           "y": [
            126138
           ],
           "yaxis": "y"
          },
          {
           "hovertemplate": "Geography=Québec<br>Time=2012Q4<br>DelinquencyRate=%{x}<br>AverageMortgageAmount=%{y}<br>PopulationSize=%{marker.size}<extra></extra>",
           "ids": [
            "Québec"
           ],
           "legendgroup": "Québec",
           "marker": {
            "color": "#FFA15A",
            "size": [
             8078388
            ],
            "sizemode": "area",
            "sizeref": 36835.035,
            "symbol": "circle"
           },
           "mode": "markers",
           "name": "Québec",
           "orientation": "v",
           "showlegend": true,
           "type": "scatter",
           "x": [
            0.33
           ],
           "xaxis": "x",
           "y": [
            153413
           ],
           "yaxis": "y"
          },
          {
           "hovertemplate": "Geography=Ontario<br>Time=2012Q4<br>DelinquencyRate=%{x}<br>AverageMortgageAmount=%{y}<br>PopulationSize=%{marker.size}<extra></extra>",
           "ids": [
            "Ontario"
           ],
           "legendgroup": "Ontario",
           "marker": {
            "color": "#19d3f3",
            "size": [
             13434943
            ],
            "sizemode": "area",
            "sizeref": 36835.035,
            "symbol": "circle"
           },
           "mode": "markers",
           "name": "Ontario",
           "orientation": "v",
           "showlegend": true,
           "type": "scatter",
           "x": [
            0.31
           ],
           "xaxis": "x",
           "y": [
            235667
           ],
           "yaxis": "y"
          },
          {
           "hovertemplate": "Geography=Manitoba<br>Time=2012Q4<br>DelinquencyRate=%{x}<br>AverageMortgageAmount=%{y}<br>PopulationSize=%{marker.size}<extra></extra>",
           "ids": [
            "Manitoba"
           ],
           "legendgroup": "Manitoba",
           "marker": {
            "color": "#FF6692",
            "size": [
             1254178
            ],
            "sizemode": "area",
            "sizeref": 36835.035,
            "symbol": "circle"
           },
           "mode": "markers",
           "name": "Manitoba",
           "orientation": "v",
           "showlegend": true,
           "type": "scatter",
           "x": [
            0.27
           ],
           "xaxis": "x",
           "y": [
            181097
           ],
           "yaxis": "y"
          },
          {
           "hovertemplate": "Geography=Saskatchewan<br>Time=2012Q4<br>DelinquencyRate=%{x}<br>AverageMortgageAmount=%{y}<br>PopulationSize=%{marker.size}<extra></extra>",
           "ids": [
            "Saskatchewan"
           ],
           "legendgroup": "Saskatchewan",
           "marker": {
            "color": "#B6E880",
            "size": [
             1088959
            ],
            "sizemode": "area",
            "sizeref": 36835.035,
            "symbol": "circle"
           },
           "mode": "markers",
           "name": "Saskatchewan",
           "orientation": "v",
           "showlegend": true,
           "type": "scatter",
           "x": [
            0.37
           ],
           "xaxis": "x",
           "y": [
            213126
           ],
           "yaxis": "y"
          },
          {
           "hovertemplate": "Geography=Alberta<br>Time=2012Q4<br>DelinquencyRate=%{x}<br>AverageMortgageAmount=%{y}<br>PopulationSize=%{marker.size}<extra></extra>",
           "ids": [
            "Alberta"
           ],
           "legendgroup": "Alberta",
           "marker": {
            "color": "#FF97FF",
            "size": [
             3900333
            ],
            "sizemode": "area",
            "sizeref": 36835.035,
            "symbol": "circle"
           },
           "mode": "markers",
           "name": "Alberta",
           "orientation": "v",
           "showlegend": true,
           "type": "scatter",
           "x": [
            0.55
           ],
           "xaxis": "x",
           "y": [
            277555
           ],
           "yaxis": "y"
          },
          {
           "hovertemplate": "Geography=British Columbia<br>Time=2012Q4<br>DelinquencyRate=%{x}<br>AverageMortgageAmount=%{y}<br>PopulationSize=%{marker.size}<extra></extra>",
           "ids": [
            "British Columbia"
           ],
           "legendgroup": "British Columbia",
           "marker": {
            "color": "#FECB52",
            "size": [
             4590545
            ],
            "sizemode": "area",
            "sizeref": 36835.035,
            "symbol": "circle"
           },
           "mode": "markers",
           "name": "British Columbia",
           "orientation": "v",
           "showlegend": true,
           "type": "scatter",
           "x": [
            0.42
           ],
           "xaxis": "x",
           "y": [
            289864
           ],
           "yaxis": "y"
          }
         ],
         "name": "2012Q4"
        },
        {
         "data": [
          {
           "hovertemplate": "Geography=Newfoundland<br>Time=2013Q1<br>DelinquencyRate=%{x}<br>AverageMortgageAmount=%{y}<br>PopulationSize=%{marker.size}<extra></extra>",
           "ids": [
            "Newfoundland"
           ],
           "legendgroup": "Newfoundland",
           "marker": {
            "color": "#636efa",
            "size": [
             527248
            ],
            "sizemode": "area",
            "sizeref": 36835.035,
            "symbol": "circle"
           },
           "mode": "markers",
           "name": "Newfoundland",
           "orientation": "v",
           "showlegend": true,
           "type": "scatter",
           "x": [
            0.25
           ],
           "xaxis": "x",
           "y": [
            189098
           ],
           "yaxis": "y"
          },
          {
           "hovertemplate": "Geography=Prince Edward Island<br>Time=2013Q1<br>DelinquencyRate=%{x}<br>AverageMortgageAmount=%{y}<br>PopulationSize=%{marker.size}<extra></extra>",
           "ids": [
            "Prince Edward Island"
           ],
           "legendgroup": "Prince Edward Island",
           "marker": {
            "color": "#EF553B",
            "size": [
             144175
            ],
            "sizemode": "area",
            "sizeref": 36835.035,
            "symbol": "circle"
           },
           "mode": "markers",
           "name": "Prince Edward Island",
           "orientation": "v",
           "showlegend": true,
           "type": "scatter",
           "x": [
            0.55
           ],
           "xaxis": "x",
           "y": [
            137162
           ],
           "yaxis": "y"
          },
          {
           "hovertemplate": "Geography=Nova Scotia<br>Time=2013Q1<br>DelinquencyRate=%{x}<br>AverageMortgageAmount=%{y}<br>PopulationSize=%{marker.size}<extra></extra>",
           "ids": [
            "Nova Scotia"
           ],
           "legendgroup": "Nova Scotia",
           "marker": {
            "color": "#00cc96",
            "size": [
             942598
            ],
            "sizemode": "area",
            "sizeref": 36835.035,
            "symbol": "circle"
           },
           "mode": "markers",
           "name": "Nova Scotia",
           "orientation": "v",
           "showlegend": true,
           "type": "scatter",
           "x": [
            0.55
           ],
           "xaxis": "x",
           "y": [
            158806
           ],
           "yaxis": "y"
          },
          {
           "hovertemplate": "Geography=New Brunswick<br>Time=2013Q1<br>DelinquencyRate=%{x}<br>AverageMortgageAmount=%{y}<br>PopulationSize=%{marker.size}<extra></extra>",
           "ids": [
            "New Brunswick"
           ],
           "legendgroup": "New Brunswick",
           "marker": {
            "color": "#ab63fa",
            "size": [
             758298
            ],
            "sizemode": "area",
            "sizeref": 36835.035,
            "symbol": "circle"
           },
           "mode": "markers",
           "name": "New Brunswick",
           "orientation": "v",
           "showlegend": true,
           "type": "scatter",
           "x": [
            0.65
           ],
           "xaxis": "x",
           "y": [
            124645
           ],
           "yaxis": "y"
          },
          {
           "hovertemplate": "Geography=Québec<br>Time=2013Q1<br>DelinquencyRate=%{x}<br>AverageMortgageAmount=%{y}<br>PopulationSize=%{marker.size}<extra></extra>",
           "ids": [
            "Québec"
           ],
           "legendgroup": "Québec",
           "marker": {
            "color": "#FFA15A",
            "size": [
             8082771
            ],
            "sizemode": "area",
            "sizeref": 36835.035,
            "symbol": "circle"
           },
           "mode": "markers",
           "name": "Québec",
           "orientation": "v",
           "showlegend": true,
           "type": "scatter",
           "x": [
            0.35
           ],
           "xaxis": "x",
           "y": [
            153909
           ],
           "yaxis": "y"
          },
          {
           "hovertemplate": "Geography=Ontario<br>Time=2013Q1<br>DelinquencyRate=%{x}<br>AverageMortgageAmount=%{y}<br>PopulationSize=%{marker.size}<extra></extra>",
           "ids": [
            "Ontario"
           ],
           "legendgroup": "Ontario",
           "marker": {
            "color": "#19d3f3",
            "size": [
             13444704
            ],
            "sizemode": "area",
            "sizeref": 36835.035,
            "symbol": "circle"
           },
           "mode": "markers",
           "name": "Ontario",
           "orientation": "v",
           "showlegend": true,
           "type": "scatter",
           "x": [
            0.31
           ],
           "xaxis": "x",
           "y": [
            233122
           ],
           "yaxis": "y"
          },
          {
           "hovertemplate": "Geography=Manitoba<br>Time=2013Q1<br>DelinquencyRate=%{x}<br>AverageMortgageAmount=%{y}<br>PopulationSize=%{marker.size}<extra></extra>",
           "ids": [
            "Manitoba"
           ],
           "legendgroup": "Manitoba",
           "marker": {
            "color": "#FF6692",
            "size": [
             1257940
            ],
            "sizemode": "area",
            "sizeref": 36835.035,
            "symbol": "circle"
           },
           "mode": "markers",
           "name": "Manitoba",
           "orientation": "v",
           "showlegend": true,
           "type": "scatter",
           "x": [
            0.28
           ],
           "xaxis": "x",
           "y": [
            177560
           ],
           "yaxis": "y"
          },
          {
           "hovertemplate": "Geography=Saskatchewan<br>Time=2013Q1<br>DelinquencyRate=%{x}<br>AverageMortgageAmount=%{y}<br>PopulationSize=%{marker.size}<extra></extra>",
           "ids": [
            "Saskatchewan"
           ],
           "legendgroup": "Saskatchewan",
           "marker": {
            "color": "#B6E880",
            "size": [
             1091547
            ],
            "sizemode": "area",
            "sizeref": 36835.035,
            "symbol": "circle"
           },
           "mode": "markers",
           "name": "Saskatchewan",
           "orientation": "v",
           "showlegend": true,
           "type": "scatter",
           "x": [
            0.36
           ],
           "xaxis": "x",
           "y": [
            206354
           ],
           "yaxis": "y"
          },
          {
           "hovertemplate": "Geography=Alberta<br>Time=2013Q1<br>DelinquencyRate=%{x}<br>AverageMortgageAmount=%{y}<br>PopulationSize=%{marker.size}<extra></extra>",
           "ids": [
            "Alberta"
           ],
           "legendgroup": "Alberta",
           "marker": {
            "color": "#FF97FF",
            "size": [
             3920499
            ],
            "sizemode": "area",
            "sizeref": 36835.035,
            "symbol": "circle"
           },
           "mode": "markers",
           "name": "Alberta",
           "orientation": "v",
           "showlegend": true,
           "type": "scatter",
           "x": [
            0.52
           ],
           "xaxis": "x",
           "y": [
            277158
           ],
           "yaxis": "y"
          },
          {
           "hovertemplate": "Geography=British Columbia<br>Time=2013Q1<br>DelinquencyRate=%{x}<br>AverageMortgageAmount=%{y}<br>PopulationSize=%{marker.size}<extra></extra>",
           "ids": [
            "British Columbia"
           ],
           "legendgroup": "British Columbia",
           "marker": {
            "color": "#FECB52",
            "size": [
             4598255
            ],
            "sizemode": "area",
            "sizeref": 36835.035,
            "symbol": "circle"
           },
           "mode": "markers",
           "name": "British Columbia",
           "orientation": "v",
           "showlegend": true,
           "type": "scatter",
           "x": [
            0.43
           ],
           "xaxis": "x",
           "y": [
            286652
           ],
           "yaxis": "y"
          }
         ],
         "name": "2013Q1"
        },
        {
         "data": [
          {
           "hovertemplate": "Geography=Newfoundland<br>Time=2013Q2<br>DelinquencyRate=%{x}<br>AverageMortgageAmount=%{y}<br>PopulationSize=%{marker.size}<extra></extra>",
           "ids": [
            "Newfoundland"
           ],
           "legendgroup": "Newfoundland",
           "marker": {
            "color": "#636efa",
            "size": [
             527313
            ],
            "sizemode": "area",
            "sizeref": 36835.035,
            "symbol": "circle"
           },
           "mode": "markers",
           "name": "Newfoundland",
           "orientation": "v",
           "showlegend": true,
           "type": "scatter",
           "x": [
            0.19
           ],
           "xaxis": "x",
           "y": [
            181331
           ],
           "yaxis": "y"
          },
          {
           "hovertemplate": "Geography=Prince Edward Island<br>Time=2013Q2<br>DelinquencyRate=%{x}<br>AverageMortgageAmount=%{y}<br>PopulationSize=%{marker.size}<extra></extra>",
           "ids": [
            "Prince Edward Island"
           ],
           "legendgroup": "Prince Edward Island",
           "marker": {
            "color": "#EF553B",
            "size": [
             143948
            ],
            "sizemode": "area",
            "sizeref": 36835.035,
            "symbol": "circle"
           },
           "mode": "markers",
           "name": "Prince Edward Island",
           "orientation": "v",
           "showlegend": true,
           "type": "scatter",
           "x": [
            0.47
           ],
           "xaxis": "x",
           "y": [
            126763
           ],
           "yaxis": "y"
          },
          {
           "hovertemplate": "Geography=Nova Scotia<br>Time=2013Q2<br>DelinquencyRate=%{x}<br>AverageMortgageAmount=%{y}<br>PopulationSize=%{marker.size}<extra></extra>",
           "ids": [
            "Nova Scotia"
           ],
           "legendgroup": "Nova Scotia",
           "marker": {
            "color": "#00cc96",
            "size": [
             941230
            ],
            "sizemode": "area",
            "sizeref": 36835.035,
            "symbol": "circle"
           },
           "mode": "markers",
           "name": "Nova Scotia",
           "orientation": "v",
           "showlegend": true,
           "type": "scatter",
           "x": [
            0.56
           ],
           "xaxis": "x",
           "y": [
            159945
           ],
           "yaxis": "y"
          },
          {
           "hovertemplate": "Geography=New Brunswick<br>Time=2013Q2<br>DelinquencyRate=%{x}<br>AverageMortgageAmount=%{y}<br>PopulationSize=%{marker.size}<extra></extra>",
           "ids": [
            "New Brunswick"
           ],
           "legendgroup": "New Brunswick",
           "marker": {
            "color": "#ab63fa",
            "size": [
             758132
            ],
            "sizemode": "area",
            "sizeref": 36835.035,
            "symbol": "circle"
           },
           "mode": "markers",
           "name": "New Brunswick",
           "orientation": "v",
           "showlegend": true,
           "type": "scatter",
           "x": [
            0.6
           ],
           "xaxis": "x",
           "y": [
            122572
           ],
           "yaxis": "y"
          },
          {
           "hovertemplate": "Geography=Québec<br>Time=2013Q2<br>DelinquencyRate=%{x}<br>AverageMortgageAmount=%{y}<br>PopulationSize=%{marker.size}<extra></extra>",
           "ids": [
            "Québec"
           ],
           "legendgroup": "Québec",
           "marker": {
            "color": "#FFA15A",
            "size": [
             8090916
            ],
            "sizemode": "area",
            "sizeref": 36835.035,
            "symbol": "circle"
           },
           "mode": "markers",
           "name": "Québec",
           "orientation": "v",
           "showlegend": true,
           "type": "scatter",
           "x": [
            0.34
           ],
           "xaxis": "x",
           "y": [
            155016
           ],
           "yaxis": "y"
          },
          {
           "hovertemplate": "Geography=Ontario<br>Time=2013Q2<br>DelinquencyRate=%{x}<br>AverageMortgageAmount=%{y}<br>PopulationSize=%{marker.size}<extra></extra>",
           "ids": [
            "Ontario"
           ],
           "legendgroup": "Ontario",
           "marker": {
            "color": "#19d3f3",
            "size": [
             13467829
            ],
            "sizemode": "area",
            "sizeref": 36835.035,
            "symbol": "circle"
           },
           "mode": "markers",
           "name": "Ontario",
           "orientation": "v",
           "showlegend": true,
           "type": "scatter",
           "x": [
            0.29
           ],
           "xaxis": "x",
           "y": [
            230770
           ],
           "yaxis": "y"
          },
          {
           "hovertemplate": "Geography=Manitoba<br>Time=2013Q2<br>DelinquencyRate=%{x}<br>AverageMortgageAmount=%{y}<br>PopulationSize=%{marker.size}<extra></extra>",
           "ids": [
            "Manitoba"
           ],
           "legendgroup": "Manitoba",
           "marker": {
            "color": "#FF6692",
            "size": [
             1260834
            ],
            "sizemode": "area",
            "sizeref": 36835.035,
            "symbol": "circle"
           },
           "mode": "markers",
           "name": "Manitoba",
           "orientation": "v",
           "showlegend": true,
           "type": "scatter",
           "x": [
            0.26
           ],
           "xaxis": "x",
           "y": [
            177517
           ],
           "yaxis": "y"
          },
          {
           "hovertemplate": "Geography=Saskatchewan<br>Time=2013Q2<br>DelinquencyRate=%{x}<br>AverageMortgageAmount=%{y}<br>PopulationSize=%{marker.size}<extra></extra>",
           "ids": [
            "Saskatchewan"
           ],
           "legendgroup": "Saskatchewan",
           "marker": {
            "color": "#B6E880",
            "size": [
             1094390
            ],
            "sizemode": "area",
            "sizeref": 36835.035,
            "symbol": "circle"
           },
           "mode": "markers",
           "name": "Saskatchewan",
           "orientation": "v",
           "showlegend": true,
           "type": "scatter",
           "x": [
            0.34
           ],
           "xaxis": "x",
           "y": [
            211979
           ],
           "yaxis": "y"
          },
          {
           "hovertemplate": "Geography=Alberta<br>Time=2013Q2<br>DelinquencyRate=%{x}<br>AverageMortgageAmount=%{y}<br>PopulationSize=%{marker.size}<extra></extra>",
           "ids": [
            "Alberta"
           ],
           "legendgroup": "Alberta",
           "marker": {
            "color": "#FF97FF",
            "size": [
             3946798
            ],
            "sizemode": "area",
            "sizeref": 36835.035,
            "symbol": "circle"
           },
           "mode": "markers",
           "name": "Alberta",
           "orientation": "v",
           "showlegend": true,
           "type": "scatter",
           "x": [
            0.47
           ],
           "xaxis": "x",
           "y": [
            278516
           ],
           "yaxis": "y"
          },
          {
           "hovertemplate": "Geography=British Columbia<br>Time=2013Q2<br>DelinquencyRate=%{x}<br>AverageMortgageAmount=%{y}<br>PopulationSize=%{marker.size}<extra></extra>",
           "ids": [
            "British Columbia"
           ],
           "legendgroup": "British Columbia",
           "marker": {
            "color": "#FECB52",
            "size": [
             4611648
            ],
            "sizemode": "area",
            "sizeref": 36835.035,
            "symbol": "circle"
           },
           "mode": "markers",
           "name": "British Columbia",
           "orientation": "v",
           "showlegend": true,
           "type": "scatter",
           "x": [
            0.43
           ],
           "xaxis": "x",
           "y": [
            290928
           ],
           "yaxis": "y"
          }
         ],
         "name": "2013Q2"
        },
        {
         "data": [
          {
           "hovertemplate": "Geography=Newfoundland<br>Time=2013Q3<br>DelinquencyRate=%{x}<br>AverageMortgageAmount=%{y}<br>PopulationSize=%{marker.size}<extra></extra>",
           "ids": [
            "Newfoundland"
           ],
           "legendgroup": "Newfoundland",
           "marker": {
            "color": "#636efa",
            "size": [
             527114
            ],
            "sizemode": "area",
            "sizeref": 36835.035,
            "symbol": "circle"
           },
           "mode": "markers",
           "name": "Newfoundland",
           "orientation": "v",
           "showlegend": true,
           "type": "scatter",
           "x": [
            0.2
           ],
           "xaxis": "x",
           "y": [
            191818
           ],
           "yaxis": "y"
          },
          {
           "hovertemplate": "Geography=Prince Edward Island<br>Time=2013Q3<br>DelinquencyRate=%{x}<br>AverageMortgageAmount=%{y}<br>PopulationSize=%{marker.size}<extra></extra>",
           "ids": [
            "Prince Edward Island"
           ],
           "legendgroup": "Prince Edward Island",
           "marker": {
            "color": "#EF553B",
            "size": [
             144094
            ],
            "sizemode": "area",
            "sizeref": 36835.035,
            "symbol": "circle"
           },
           "mode": "markers",
           "name": "Prince Edward Island",
           "orientation": "v",
           "showlegend": true,
           "type": "scatter",
           "x": [
            0.56
           ],
           "xaxis": "x",
           "y": [
            139506
           ],
           "yaxis": "y"
          },
          {
           "hovertemplate": "Geography=Nova Scotia<br>Time=2013Q3<br>DelinquencyRate=%{x}<br>AverageMortgageAmount=%{y}<br>PopulationSize=%{marker.size}<extra></extra>",
           "ids": [
            "Nova Scotia"
           ],
           "legendgroup": "Nova Scotia",
           "marker": {
            "color": "#00cc96",
            "size": [
             940434
            ],
            "sizemode": "area",
            "sizeref": 36835.035,
            "symbol": "circle"
           },
           "mode": "markers",
           "name": "Nova Scotia",
           "orientation": "v",
           "showlegend": true,
           "type": "scatter",
           "x": [
            0.58
           ],
           "xaxis": "x",
           "y": [
            166426
           ],
           "yaxis": "y"
          },
          {
           "hovertemplate": "Geography=New Brunswick<br>Time=2013Q3<br>DelinquencyRate=%{x}<br>AverageMortgageAmount=%{y}<br>PopulationSize=%{marker.size}<extra></extra>",
           "ids": [
            "New Brunswick"
           ],
           "legendgroup": "New Brunswick",
           "marker": {
            "color": "#ab63fa",
            "size": [
             758544
            ],
            "sizemode": "area",
            "sizeref": 36835.035,
            "symbol": "circle"
           },
           "mode": "markers",
           "name": "New Brunswick",
           "orientation": "v",
           "showlegend": true,
           "type": "scatter",
           "x": [
            0.61
           ],
           "xaxis": "x",
           "y": [
            131542
           ],
           "yaxis": "y"
          },
          {
           "hovertemplate": "Geography=Québec<br>Time=2013Q3<br>DelinquencyRate=%{x}<br>AverageMortgageAmount=%{y}<br>PopulationSize=%{marker.size}<extra></extra>",
           "ids": [
            "Québec"
           ],
           "legendgroup": "Québec",
           "marker": {
            "color": "#FFA15A",
            "size": [
             8110880
            ],
            "sizemode": "area",
            "sizeref": 36835.035,
            "symbol": "circle"
           },
           "mode": "markers",
           "name": "Québec",
           "orientation": "v",
           "showlegend": true,
           "type": "scatter",
           "x": [
            0.33
           ],
           "xaxis": "x",
           "y": [
            160147
           ],
           "yaxis": "y"
          },
          {
           "hovertemplate": "Geography=Ontario<br>Time=2013Q3<br>DelinquencyRate=%{x}<br>AverageMortgageAmount=%{y}<br>PopulationSize=%{marker.size}<extra></extra>",
           "ids": [
            "Ontario"
           ],
           "legendgroup": "Ontario",
           "marker": {
            "color": "#19d3f3",
            "size": [
             13510781
            ],
            "sizemode": "area",
            "sizeref": 36835.035,
            "symbol": "circle"
           },
           "mode": "markers",
           "name": "Ontario",
           "orientation": "v",
           "showlegend": true,
           "type": "scatter",
           "x": [
            0.28
           ],
           "xaxis": "x",
           "y": [
            249054
           ],
           "yaxis": "y"
          },
          {
           "hovertemplate": "Geography=Manitoba<br>Time=2013Q3<br>DelinquencyRate=%{x}<br>AverageMortgageAmount=%{y}<br>PopulationSize=%{marker.size}<extra></extra>",
           "ids": [
            "Manitoba"
           ],
           "legendgroup": "Manitoba",
           "marker": {
            "color": "#FF6692",
            "size": [
             1264620
            ],
            "sizemode": "area",
            "sizeref": 36835.035,
            "symbol": "circle"
           },
           "mode": "markers",
           "name": "Manitoba",
           "orientation": "v",
           "showlegend": true,
           "type": "scatter",
           "x": [
            0.28
           ],
           "xaxis": "x",
           "y": [
            192732
           ],
           "yaxis": "y"
          },
          {
           "hovertemplate": "Geography=Saskatchewan<br>Time=2013Q3<br>DelinquencyRate=%{x}<br>AverageMortgageAmount=%{y}<br>PopulationSize=%{marker.size}<extra></extra>",
           "ids": [
            "Saskatchewan"
           ],
           "legendgroup": "Saskatchewan",
           "marker": {
            "color": "#B6E880",
            "size": [
             1099736
            ],
            "sizemode": "area",
            "sizeref": 36835.035,
            "symbol": "circle"
           },
           "mode": "markers",
           "name": "Saskatchewan",
           "orientation": "v",
           "showlegend": true,
           "type": "scatter",
           "x": [
            0.3
           ],
           "xaxis": "x",
           "y": [
            224868
           ],
           "yaxis": "y"
          },
          {
           "hovertemplate": "Geography=Alberta<br>Time=2013Q3<br>DelinquencyRate=%{x}<br>AverageMortgageAmount=%{y}<br>PopulationSize=%{marker.size}<extra></extra>",
           "ids": [
            "Alberta"
           ],
           "legendgroup": "Alberta",
           "marker": {
            "color": "#FF97FF",
            "size": [
             3981011
            ],
            "sizemode": "area",
            "sizeref": 36835.035,
            "symbol": "circle"
           },
           "mode": "markers",
           "name": "Alberta",
           "orientation": "v",
           "showlegend": true,
           "type": "scatter",
           "x": [
            0.45
           ],
           "xaxis": "x",
           "y": [
            289263
           ],
           "yaxis": "y"
          },
          {
           "hovertemplate": "Geography=British Columbia<br>Time=2013Q3<br>DelinquencyRate=%{x}<br>AverageMortgageAmount=%{y}<br>PopulationSize=%{marker.size}<extra></extra>",
           "ids": [
            "British Columbia"
           ],
           "legendgroup": "British Columbia",
           "marker": {
            "color": "#FECB52",
            "size": [
             4630077
            ],
            "sizemode": "area",
            "sizeref": 36835.035,
            "symbol": "circle"
           },
           "mode": "markers",
           "name": "British Columbia",
           "orientation": "v",
           "showlegend": true,
           "type": "scatter",
           "x": [
            0.42
           ],
           "xaxis": "x",
           "y": [
            303663
           ],
           "yaxis": "y"
          }
         ],
         "name": "2013Q3"
        },
        {
         "data": [
          {
           "hovertemplate": "Geography=Newfoundland<br>Time=2013Q4<br>DelinquencyRate=%{x}<br>AverageMortgageAmount=%{y}<br>PopulationSize=%{marker.size}<extra></extra>",
           "ids": [
            "Newfoundland"
           ],
           "legendgroup": "Newfoundland",
           "marker": {
            "color": "#636efa",
            "size": [
             528117
            ],
            "sizemode": "area",
            "sizeref": 36835.035,
            "symbol": "circle"
           },
           "mode": "markers",
           "name": "Newfoundland",
           "orientation": "v",
           "showlegend": true,
           "type": "scatter",
           "x": [
            0.22
           ],
           "xaxis": "x",
           "y": [
            193100
           ],
           "yaxis": "y"
          },
          {
           "hovertemplate": "Geography=Prince Edward Island<br>Time=2013Q4<br>DelinquencyRate=%{x}<br>AverageMortgageAmount=%{y}<br>PopulationSize=%{marker.size}<extra></extra>",
           "ids": [
            "Prince Edward Island"
           ],
           "legendgroup": "Prince Edward Island",
           "marker": {
            "color": "#EF553B",
            "size": [
             144103
            ],
            "sizemode": "area",
            "sizeref": 36835.035,
            "symbol": "circle"
           },
           "mode": "markers",
           "name": "Prince Edward Island",
           "orientation": "v",
           "showlegend": true,
           "type": "scatter",
           "x": [
            0.58
           ],
           "xaxis": "x",
           "y": [
            141453
           ],
           "yaxis": "y"
          },
          {
           "hovertemplate": "Geography=Nova Scotia<br>Time=2013Q4<br>DelinquencyRate=%{x}<br>AverageMortgageAmount=%{y}<br>PopulationSize=%{marker.size}<extra></extra>",
           "ids": [
            "Nova Scotia"
           ],
           "legendgroup": "Nova Scotia",
           "marker": {
            "color": "#00cc96",
            "size": [
             940105
            ],
            "sizemode": "area",
            "sizeref": 36835.035,
            "symbol": "circle"
           },
           "mode": "markers",
           "name": "Nova Scotia",
           "orientation": "v",
           "showlegend": true,
           "type": "scatter",
           "x": [
            0.62
           ],
           "xaxis": "x",
           "y": [
            160189
           ],
           "yaxis": "y"
          },
          {
           "hovertemplate": "Geography=New Brunswick<br>Time=2013Q4<br>DelinquencyRate=%{x}<br>AverageMortgageAmount=%{y}<br>PopulationSize=%{marker.size}<extra></extra>",
           "ids": [
            "New Brunswick"
           ],
           "legendgroup": "New Brunswick",
           "marker": {
            "color": "#ab63fa",
            "size": [
             758670
            ],
            "sizemode": "area",
            "sizeref": 36835.035,
            "symbol": "circle"
           },
           "mode": "markers",
           "name": "New Brunswick",
           "orientation": "v",
           "showlegend": true,
           "type": "scatter",
           "x": [
            0.68
           ],
           "xaxis": "x",
           "y": [
            128155
           ],
           "yaxis": "y"
          },
          {
           "hovertemplate": "Geography=Québec<br>Time=2013Q4<br>DelinquencyRate=%{x}<br>AverageMortgageAmount=%{y}<br>PopulationSize=%{marker.size}<extra></extra>",
           "ids": [
            "Québec"
           ],
           "legendgroup": "Québec",
           "marker": {
            "color": "#FFA15A",
            "size": [
             8124660
            ],
            "sizemode": "area",
            "sizeref": 36835.035,
            "symbol": "circle"
           },
           "mode": "markers",
           "name": "Québec",
           "orientation": "v",
           "showlegend": true,
           "type": "scatter",
           "x": [
            0.35
           ],
           "xaxis": "x",
           "y": [
            155512
           ],
           "yaxis": "y"
          },
          {
           "hovertemplate": "Geography=Ontario<br>Time=2013Q4<br>DelinquencyRate=%{x}<br>AverageMortgageAmount=%{y}<br>PopulationSize=%{marker.size}<extra></extra>",
           "ids": [
            "Ontario"
           ],
           "legendgroup": "Ontario",
           "marker": {
            "color": "#19d3f3",
            "size": [
             13558528
            ],
            "sizemode": "area",
            "sizeref": 36835.035,
            "symbol": "circle"
           },
           "mode": "markers",
           "name": "Ontario",
           "orientation": "v",
           "showlegend": true,
           "type": "scatter",
           "x": [
            0.28
           ],
           "xaxis": "x",
           "y": [
            244060
           ],
           "yaxis": "y"
          },
          {
           "hovertemplate": "Geography=Manitoba<br>Time=2013Q4<br>DelinquencyRate=%{x}<br>AverageMortgageAmount=%{y}<br>PopulationSize=%{marker.size}<extra></extra>",
           "ids": [
            "Manitoba"
           ],
           "legendgroup": "Manitoba",
           "marker": {
            "color": "#FF6692",
            "size": [
             1268428
            ],
            "sizemode": "area",
            "sizeref": 36835.035,
            "symbol": "circle"
           },
           "mode": "markers",
           "name": "Manitoba",
           "orientation": "v",
           "showlegend": true,
           "type": "scatter",
           "x": [
            0.28
           ],
           "xaxis": "x",
           "y": [
            189570
           ],
           "yaxis": "y"
          },
          {
           "hovertemplate": "Geography=Saskatchewan<br>Time=2013Q4<br>DelinquencyRate=%{x}<br>AverageMortgageAmount=%{y}<br>PopulationSize=%{marker.size}<extra></extra>",
           "ids": [
            "Saskatchewan"
           ],
           "legendgroup": "Saskatchewan",
           "marker": {
            "color": "#B6E880",
            "size": [
             1103730
            ],
            "sizemode": "area",
            "sizeref": 36835.035,
            "symbol": "circle"
           },
           "mode": "markers",
           "name": "Saskatchewan",
           "orientation": "v",
           "showlegend": true,
           "type": "scatter",
           "x": [
            0.32
           ],
           "xaxis": "x",
           "y": [
            225414
           ],
           "yaxis": "y"
          },
          {
           "hovertemplate": "Geography=Alberta<br>Time=2013Q4<br>DelinquencyRate=%{x}<br>AverageMortgageAmount=%{y}<br>PopulationSize=%{marker.size}<extra></extra>",
           "ids": [
            "Alberta"
           ],
           "legendgroup": "Alberta",
           "marker": {
            "color": "#FF97FF",
            "size": [
             4010903
            ],
            "sizemode": "area",
            "sizeref": 36835.035,
            "symbol": "circle"
           },
           "mode": "markers",
           "name": "Alberta",
           "orientation": "v",
           "showlegend": true,
           "type": "scatter",
           "x": [
            0.43
           ],
           "xaxis": "x",
           "y": [
            284928
           ],
           "yaxis": "y"
          },
          {
           "hovertemplate": "Geography=British Columbia<br>Time=2013Q4<br>DelinquencyRate=%{x}<br>AverageMortgageAmount=%{y}<br>PopulationSize=%{marker.size}<extra></extra>",
           "ids": [
            "British Columbia"
           ],
           "legendgroup": "British Columbia",
           "marker": {
            "color": "#FECB52",
            "size": [
             4658875
            ],
            "sizemode": "area",
            "sizeref": 36835.035,
            "symbol": "circle"
           },
           "mode": "markers",
           "name": "British Columbia",
           "orientation": "v",
           "showlegend": true,
           "type": "scatter",
           "x": [
            0.43
           ],
           "xaxis": "x",
           "y": [
            305256
           ],
           "yaxis": "y"
          }
         ],
         "name": "2013Q4"
        },
        {
         "data": [
          {
           "hovertemplate": "Geography=Newfoundland<br>Time=2014Q1<br>DelinquencyRate=%{x}<br>AverageMortgageAmount=%{y}<br>PopulationSize=%{marker.size}<extra></extra>",
           "ids": [
            "Newfoundland"
           ],
           "legendgroup": "Newfoundland",
           "marker": {
            "color": "#636efa",
            "size": [
             528242
            ],
            "sizemode": "area",
            "sizeref": 36835.035,
            "symbol": "circle"
           },
           "mode": "markers",
           "name": "Newfoundland",
           "orientation": "v",
           "showlegend": true,
           "type": "scatter",
           "x": [
            0.23
           ],
           "xaxis": "x",
           "y": [
            195479
           ],
           "yaxis": "y"
          },
          {
           "hovertemplate": "Geography=Prince Edward Island<br>Time=2014Q1<br>DelinquencyRate=%{x}<br>AverageMortgageAmount=%{y}<br>PopulationSize=%{marker.size}<extra></extra>",
           "ids": [
            "Prince Edward Island"
           ],
           "legendgroup": "Prince Edward Island",
           "marker": {
            "color": "#EF553B",
            "size": [
             143996
            ],
            "sizemode": "area",
            "sizeref": 36835.035,
            "symbol": "circle"
           },
           "mode": "markers",
           "name": "Prince Edward Island",
           "orientation": "v",
           "showlegend": true,
           "type": "scatter",
           "x": [
            0.6
           ],
           "xaxis": "x",
           "y": [
            141141
           ],
           "yaxis": "y"
          },
          {
           "hovertemplate": "Geography=Nova Scotia<br>Time=2014Q1<br>DelinquencyRate=%{x}<br>AverageMortgageAmount=%{y}<br>PopulationSize=%{marker.size}<extra></extra>",
           "ids": [
            "Nova Scotia"
           ],
           "legendgroup": "Nova Scotia",
           "marker": {
            "color": "#00cc96",
            "size": [
             939867
            ],
            "sizemode": "area",
            "sizeref": 36835.035,
            "symbol": "circle"
           },
           "mode": "markers",
           "name": "Nova Scotia",
           "orientation": "v",
           "showlegend": true,
           "type": "scatter",
           "x": [
            0.65
           ],
           "xaxis": "x",
           "y": [
            161383
           ],
           "yaxis": "y"
          },
          {
           "hovertemplate": "Geography=New Brunswick<br>Time=2014Q1<br>DelinquencyRate=%{x}<br>AverageMortgageAmount=%{y}<br>PopulationSize=%{marker.size}<extra></extra>",
           "ids": [
            "New Brunswick"
           ],
           "legendgroup": "New Brunswick",
           "marker": {
            "color": "#ab63fa",
            "size": [
             759018
            ],
            "sizemode": "area",
            "sizeref": 36835.035,
            "symbol": "circle"
           },
           "mode": "markers",
           "name": "New Brunswick",
           "orientation": "v",
           "showlegend": true,
           "type": "scatter",
           "x": [
            0.72
           ],
           "xaxis": "x",
           "y": [
            127766
           ],
           "yaxis": "y"
          },
          {
           "hovertemplate": "Geography=Québec<br>Time=2014Q1<br>DelinquencyRate=%{x}<br>AverageMortgageAmount=%{y}<br>PopulationSize=%{marker.size}<extra></extra>",
           "ids": [
            "Québec"
           ],
           "legendgroup": "Québec",
           "marker": {
            "color": "#FFA15A",
            "size": [
             8125478
            ],
            "sizemode": "area",
            "sizeref": 36835.035,
            "symbol": "circle"
           },
           "mode": "markers",
           "name": "Québec",
           "orientation": "v",
           "showlegend": true,
           "type": "scatter",
           "x": [
            0.37
           ],
           "xaxis": "x",
           "y": [
            156424
           ],
           "yaxis": "y"
          },
          {
           "hovertemplate": "Geography=Ontario<br>Time=2014Q1<br>DelinquencyRate=%{x}<br>AverageMortgageAmount=%{y}<br>PopulationSize=%{marker.size}<extra></extra>",
           "ids": [
            "Ontario"
           ],
           "legendgroup": "Ontario",
           "marker": {
            "color": "#19d3f3",
            "size": [
             13562583
            ],
            "sizemode": "area",
            "sizeref": 36835.035,
            "symbol": "circle"
           },
           "mode": "markers",
           "name": "Ontario",
           "orientation": "v",
           "showlegend": true,
           "type": "scatter",
           "x": [
            0.29
           ],
           "xaxis": "x",
           "y": [
            244077
           ],
           "yaxis": "y"
          },
          {
           "hovertemplate": "Geography=Manitoba<br>Time=2014Q1<br>DelinquencyRate=%{x}<br>AverageMortgageAmount=%{y}<br>PopulationSize=%{marker.size}<extra></extra>",
           "ids": [
            "Manitoba"
           ],
           "legendgroup": "Manitoba",
           "marker": {
            "color": "#FF6692",
            "size": [
             1271562
            ],
            "sizemode": "area",
            "sizeref": 36835.035,
            "symbol": "circle"
           },
           "mode": "markers",
           "name": "Manitoba",
           "orientation": "v",
           "showlegend": true,
           "type": "scatter",
           "x": [
            0.28
           ],
           "xaxis": "x",
           "y": [
            188107
           ],
           "yaxis": "y"
          },
          {
           "hovertemplate": "Geography=Saskatchewan<br>Time=2014Q1<br>DelinquencyRate=%{x}<br>AverageMortgageAmount=%{y}<br>PopulationSize=%{marker.size}<extra></extra>",
           "ids": [
            "Saskatchewan"
           ],
           "legendgroup": "Saskatchewan",
           "marker": {
            "color": "#B6E880",
            "size": [
             1106374
            ],
            "sizemode": "area",
            "sizeref": 36835.035,
            "symbol": "circle"
           },
           "mode": "markers",
           "name": "Saskatchewan",
           "orientation": "v",
           "showlegend": true,
           "type": "scatter",
           "x": [
            0.35
           ],
           "xaxis": "x",
           "y": [
            226559
           ],
           "yaxis": "y"
          },
          {
           "hovertemplate": "Geography=Alberta<br>Time=2014Q1<br>DelinquencyRate=%{x}<br>AverageMortgageAmount=%{y}<br>PopulationSize=%{marker.size}<extra></extra>",
           "ids": [
            "Alberta"
           ],
           "legendgroup": "Alberta",
           "marker": {
            "color": "#FF97FF",
            "size": [
             4029951
            ],
            "sizemode": "area",
            "sizeref": 36835.035,
            "symbol": "circle"
           },
           "mode": "markers",
           "name": "Alberta",
           "orientation": "v",
           "showlegend": true,
           "type": "scatter",
           "x": [
            0.42
           ],
           "xaxis": "x",
           "y": [
            291926
           ],
           "yaxis": "y"
          },
          {
           "hovertemplate": "Geography=British Columbia<br>Time=2014Q1<br>DelinquencyRate=%{x}<br>AverageMortgageAmount=%{y}<br>PopulationSize=%{marker.size}<extra></extra>",
           "ids": [
            "British Columbia"
           ],
           "legendgroup": "British Columbia",
           "marker": {
            "color": "#FECB52",
            "size": [
             4666788
            ],
            "sizemode": "area",
            "sizeref": 36835.035,
            "symbol": "circle"
           },
           "mode": "markers",
           "name": "British Columbia",
           "orientation": "v",
           "showlegend": true,
           "type": "scatter",
           "x": [
            0.43
           ],
           "xaxis": "x",
           "y": [
            309374
           ],
           "yaxis": "y"
          }
         ],
         "name": "2014Q1"
        },
        {
         "data": [
          {
           "hovertemplate": "Geography=Newfoundland<br>Time=2014Q2<br>DelinquencyRate=%{x}<br>AverageMortgageAmount=%{y}<br>PopulationSize=%{marker.size}<extra></extra>",
           "ids": [
            "Newfoundland"
           ],
           "legendgroup": "Newfoundland",
           "marker": {
            "color": "#636efa",
            "size": [
             527498
            ],
            "sizemode": "area",
            "sizeref": 36835.035,
            "symbol": "circle"
           },
           "mode": "markers",
           "name": "Newfoundland",
           "orientation": "v",
           "showlegend": true,
           "type": "scatter",
           "x": [
            0.25
           ],
           "xaxis": "x",
           "y": [
            192856
           ],
           "yaxis": "y"
          },
          {
           "hovertemplate": "Geography=Prince Edward Island<br>Time=2014Q2<br>DelinquencyRate=%{x}<br>AverageMortgageAmount=%{y}<br>PopulationSize=%{marker.size}<extra></extra>",
           "ids": [
            "Prince Edward Island"
           ],
           "legendgroup": "Prince Edward Island",
           "marker": {
            "color": "#EF553B",
            "size": [
             143984
            ],
            "sizemode": "area",
            "sizeref": 36835.035,
            "symbol": "circle"
           },
           "mode": "markers",
           "name": "Prince Edward Island",
           "orientation": "v",
           "showlegend": true,
           "type": "scatter",
           "x": [
            0.6
           ],
           "xaxis": "x",
           "y": [
            137427
           ],
           "yaxis": "y"
          },
          {
           "hovertemplate": "Geography=Nova Scotia<br>Time=2014Q2<br>DelinquencyRate=%{x}<br>AverageMortgageAmount=%{y}<br>PopulationSize=%{marker.size}<extra></extra>",
           "ids": [
            "Nova Scotia"
           ],
           "legendgroup": "Nova Scotia",
           "marker": {
            "color": "#00cc96",
            "size": [
             938913
            ],
            "sizemode": "area",
            "sizeref": 36835.035,
            "symbol": "circle"
           },
           "mode": "markers",
           "name": "Nova Scotia",
           "orientation": "v",
           "showlegend": true,
           "type": "scatter",
           "x": [
            0.65
           ],
           "xaxis": "x",
           "y": [
            157664
           ],
           "yaxis": "y"
          },
          {
           "hovertemplate": "Geography=New Brunswick<br>Time=2014Q2<br>DelinquencyRate=%{x}<br>AverageMortgageAmount=%{y}<br>PopulationSize=%{marker.size}<extra></extra>",
           "ids": [
            "New Brunswick"
           ],
           "legendgroup": "New Brunswick",
           "marker": {
            "color": "#ab63fa",
            "size": [
             758876
            ],
            "sizemode": "area",
            "sizeref": 36835.035,
            "symbol": "circle"
           },
           "mode": "markers",
           "name": "New Brunswick",
           "orientation": "v",
           "showlegend": true,
           "type": "scatter",
           "x": [
            0.67
           ],
           "xaxis": "x",
           "y": [
            124221
           ],
           "yaxis": "y"
          },
          {
           "hovertemplate": "Geography=Québec<br>Time=2014Q2<br>DelinquencyRate=%{x}<br>AverageMortgageAmount=%{y}<br>PopulationSize=%{marker.size}<extra></extra>",
           "ids": [
            "Québec"
           ],
           "legendgroup": "Québec",
           "marker": {
            "color": "#FFA15A",
            "size": [
             8132425
            ],
            "sizemode": "area",
            "sizeref": 36835.035,
            "symbol": "circle"
           },
           "mode": "markers",
           "name": "Québec",
           "orientation": "v",
           "showlegend": true,
           "type": "scatter",
           "x": [
            0.36
           ],
           "xaxis": "x",
           "y": [
            160165
           ],
           "yaxis": "y"
          },
          {
           "hovertemplate": "Geography=Ontario<br>Time=2014Q2<br>DelinquencyRate=%{x}<br>AverageMortgageAmount=%{y}<br>PopulationSize=%{marker.size}<extra></extra>",
           "ids": [
            "Ontario"
           ],
           "legendgroup": "Ontario",
           "marker": {
            "color": "#19d3f3",
            "size": [
             13582747
            ],
            "sizemode": "area",
            "sizeref": 36835.035,
            "symbol": "circle"
           },
           "mode": "markers",
           "name": "Ontario",
           "orientation": "v",
           "showlegend": true,
           "type": "scatter",
           "x": [
            0.27
           ],
           "xaxis": "x",
           "y": [
            240828
           ],
           "yaxis": "y"
          },
          {
           "hovertemplate": "Geography=Manitoba<br>Time=2014Q2<br>DelinquencyRate=%{x}<br>AverageMortgageAmount=%{y}<br>PopulationSize=%{marker.size}<extra></extra>",
           "ids": [
            "Manitoba"
           ],
           "legendgroup": "Manitoba",
           "marker": {
            "color": "#FF6692",
            "size": [
             1274407
            ],
            "sizemode": "area",
            "sizeref": 36835.035,
            "symbol": "circle"
           },
           "mode": "markers",
           "name": "Manitoba",
           "orientation": "v",
           "showlegend": true,
           "type": "scatter",
           "x": [
            0.25
           ],
           "xaxis": "x",
           "y": [
            184554
           ],
           "yaxis": "y"
          },
          {
           "hovertemplate": "Geography=Saskatchewan<br>Time=2014Q2<br>DelinquencyRate=%{x}<br>AverageMortgageAmount=%{y}<br>PopulationSize=%{marker.size}<extra></extra>",
           "ids": [
            "Saskatchewan"
           ],
           "legendgroup": "Saskatchewan",
           "marker": {
            "color": "#B6E880",
            "size": [
             1109631
            ],
            "sizemode": "area",
            "sizeref": 36835.035,
            "symbol": "circle"
           },
           "mode": "markers",
           "name": "Saskatchewan",
           "orientation": "v",
           "showlegend": true,
           "type": "scatter",
           "x": [
            0.31
           ],
           "xaxis": "x",
           "y": [
            218781
           ],
           "yaxis": "y"
          },
          {
           "hovertemplate": "Geography=Alberta<br>Time=2014Q2<br>DelinquencyRate=%{x}<br>AverageMortgageAmount=%{y}<br>PopulationSize=%{marker.size}<extra></extra>",
           "ids": [
            "Alberta"
           ],
           "legendgroup": "Alberta",
           "marker": {
            "color": "#FF97FF",
            "size": [
             4054280
            ],
            "sizemode": "area",
            "sizeref": 36835.035,
            "symbol": "circle"
           },
           "mode": "markers",
           "name": "Alberta",
           "orientation": "v",
           "showlegend": true,
           "type": "scatter",
           "x": [
            0.37
           ],
           "xaxis": "x",
           "y": [
            290722
           ],
           "yaxis": "y"
          },
          {
           "hovertemplate": "Geography=British Columbia<br>Time=2014Q2<br>DelinquencyRate=%{x}<br>AverageMortgageAmount=%{y}<br>PopulationSize=%{marker.size}<extra></extra>",
           "ids": [
            "British Columbia"
           ],
           "legendgroup": "British Columbia",
           "marker": {
            "color": "#FECB52",
            "size": [
             4684490
            ],
            "sizemode": "area",
            "sizeref": 36835.035,
            "symbol": "circle"
           },
           "mode": "markers",
           "name": "British Columbia",
           "orientation": "v",
           "showlegend": true,
           "type": "scatter",
           "x": [
            0.4
           ],
           "xaxis": "x",
           "y": [
            305138
           ],
           "yaxis": "y"
          }
         ],
         "name": "2014Q2"
        },
        {
         "data": [
          {
           "hovertemplate": "Geography=Newfoundland<br>Time=2014Q3<br>DelinquencyRate=%{x}<br>AverageMortgageAmount=%{y}<br>PopulationSize=%{marker.size}<extra></extra>",
           "ids": [
            "Newfoundland"
           ],
           "legendgroup": "Newfoundland",
           "marker": {
            "color": "#636efa",
            "size": [
             528159
            ],
            "sizemode": "area",
            "sizeref": 36835.035,
            "symbol": "circle"
           },
           "mode": "markers",
           "name": "Newfoundland",
           "orientation": "v",
           "showlegend": true,
           "type": "scatter",
           "x": [
            0.26
           ],
           "xaxis": "x",
           "y": [
            199560
           ],
           "yaxis": "y"
          },
          {
           "hovertemplate": "Geography=Prince Edward Island<br>Time=2014Q3<br>DelinquencyRate=%{x}<br>AverageMortgageAmount=%{y}<br>PopulationSize=%{marker.size}<extra></extra>",
           "ids": [
            "Prince Edward Island"
           ],
           "legendgroup": "Prince Edward Island",
           "marker": {
            "color": "#EF553B",
            "size": [
             144283
            ],
            "sizemode": "area",
            "sizeref": 36835.035,
            "symbol": "circle"
           },
           "mode": "markers",
           "name": "Prince Edward Island",
           "orientation": "v",
           "showlegend": true,
           "type": "scatter",
           "x": [
            0.56
           ],
           "xaxis": "x",
           "y": [
            143320
           ],
           "yaxis": "y"
          },
          {
           "hovertemplate": "Geography=Nova Scotia<br>Time=2014Q3<br>DelinquencyRate=%{x}<br>AverageMortgageAmount=%{y}<br>PopulationSize=%{marker.size}<extra></extra>",
           "ids": [
            "Nova Scotia"
           ],
           "legendgroup": "Nova Scotia",
           "marker": {
            "color": "#00cc96",
            "size": [
             938545
            ],
            "sizemode": "area",
            "sizeref": 36835.035,
            "symbol": "circle"
           },
           "mode": "markers",
           "name": "Nova Scotia",
           "orientation": "v",
           "showlegend": true,
           "type": "scatter",
           "x": [
            0.67
           ],
           "xaxis": "x",
           "y": [
            172827
           ],
           "yaxis": "y"
          },
          {
           "hovertemplate": "Geography=New Brunswick<br>Time=2014Q3<br>DelinquencyRate=%{x}<br>AverageMortgageAmount=%{y}<br>PopulationSize=%{marker.size}<extra></extra>",
           "ids": [
            "New Brunswick"
           ],
           "legendgroup": "New Brunswick",
           "marker": {
            "color": "#ab63fa",
            "size": [
             758976
            ],
            "sizemode": "area",
            "sizeref": 36835.035,
            "symbol": "circle"
           },
           "mode": "markers",
           "name": "New Brunswick",
           "orientation": "v",
           "showlegend": true,
           "type": "scatter",
           "x": [
            0.72
           ],
           "xaxis": "x",
           "y": [
            135592
           ],
           "yaxis": "y"
          },
          {
           "hovertemplate": "Geography=Québec<br>Time=2014Q3<br>DelinquencyRate=%{x}<br>AverageMortgageAmount=%{y}<br>PopulationSize=%{marker.size}<extra></extra>",
           "ids": [
            "Québec"
           ],
           "legendgroup": "Québec",
           "marker": {
            "color": "#FFA15A",
            "size": [
             8150183
            ],
            "sizemode": "area",
            "sizeref": 36835.035,
            "symbol": "circle"
           },
           "mode": "markers",
           "name": "Québec",
           "orientation": "v",
           "showlegend": true,
           "type": "scatter",
           "x": [
            0.37
           ],
           "xaxis": "x",
           "y": [
            166426
           ],
           "yaxis": "y"
          },
          {
           "hovertemplate": "Geography=Ontario<br>Time=2014Q3<br>DelinquencyRate=%{x}<br>AverageMortgageAmount=%{y}<br>PopulationSize=%{marker.size}<extra></extra>",
           "ids": [
            "Ontario"
           ],
           "legendgroup": "Ontario",
           "marker": {
            "color": "#19d3f3",
            "size": [
             13617553
            ],
            "sizemode": "area",
            "sizeref": 36835.035,
            "symbol": "circle"
           },
           "mode": "markers",
           "name": "Ontario",
           "orientation": "v",
           "showlegend": true,
           "type": "scatter",
           "x": [
            0.27
           ],
           "xaxis": "x",
           "y": [
            262838
           ],
           "yaxis": "y"
          },
          {
           "hovertemplate": "Geography=Manitoba<br>Time=2014Q3<br>DelinquencyRate=%{x}<br>AverageMortgageAmount=%{y}<br>PopulationSize=%{marker.size}<extra></extra>",
           "ids": [
            "Manitoba"
           ],
           "legendgroup": "Manitoba",
           "marker": {
            "color": "#FF6692",
            "size": [
             1279014
            ],
            "sizemode": "area",
            "sizeref": 36835.035,
            "symbol": "circle"
           },
           "mode": "markers",
           "name": "Manitoba",
           "orientation": "v",
           "showlegend": true,
           "type": "scatter",
           "x": [
            0.24
           ],
           "xaxis": "x",
           "y": [
            200051
           ],
           "yaxis": "y"
          },
          {
           "hovertemplate": "Geography=Saskatchewan<br>Time=2014Q3<br>DelinquencyRate=%{x}<br>AverageMortgageAmount=%{y}<br>PopulationSize=%{marker.size}<extra></extra>",
           "ids": [
            "Saskatchewan"
           ],
           "legendgroup": "Saskatchewan",
           "marker": {
            "color": "#B6E880",
            "size": [
             1112979
            ],
            "sizemode": "area",
            "sizeref": 36835.035,
            "symbol": "circle"
           },
           "mode": "markers",
           "name": "Saskatchewan",
           "orientation": "v",
           "showlegend": true,
           "type": "scatter",
           "x": [
            0.32
           ],
           "xaxis": "x",
           "y": [
            231768
           ],
           "yaxis": "y"
          },
          {
           "hovertemplate": "Geography=Alberta<br>Time=2014Q3<br>DelinquencyRate=%{x}<br>AverageMortgageAmount=%{y}<br>PopulationSize=%{marker.size}<extra></extra>",
           "ids": [
            "Alberta"
           ],
           "legendgroup": "Alberta",
           "marker": {
            "color": "#FF97FF",
            "size": [
             4083648
            ],
            "sizemode": "area",
            "sizeref": 36835.035,
            "symbol": "circle"
           },
           "mode": "markers",
           "name": "Alberta",
           "orientation": "v",
           "showlegend": true,
           "type": "scatter",
           "x": [
            0.34
           ],
           "xaxis": "x",
           "y": [
            304374
           ],
           "yaxis": "y"
          },
          {
           "hovertemplate": "Geography=British Columbia<br>Time=2014Q3<br>DelinquencyRate=%{x}<br>AverageMortgageAmount=%{y}<br>PopulationSize=%{marker.size}<extra></extra>",
           "ids": [
            "British Columbia"
           ],
           "legendgroup": "British Columbia",
           "marker": {
            "color": "#FECB52",
            "size": [
             4707103
            ],
            "sizemode": "area",
            "sizeref": 36835.035,
            "symbol": "circle"
           },
           "mode": "markers",
           "name": "British Columbia",
           "orientation": "v",
           "showlegend": true,
           "type": "scatter",
           "x": [
            0.4
           ],
           "xaxis": "x",
           "y": [
            321625
           ],
           "yaxis": "y"
          }
         ],
         "name": "2014Q3"
        },
        {
         "data": [
          {
           "hovertemplate": "Geography=Newfoundland<br>Time=2014Q4<br>DelinquencyRate=%{x}<br>AverageMortgageAmount=%{y}<br>PopulationSize=%{marker.size}<extra></extra>",
           "ids": [
            "Newfoundland"
           ],
           "legendgroup": "Newfoundland",
           "marker": {
            "color": "#636efa",
            "size": [
             528461
            ],
            "sizemode": "area",
            "sizeref": 36835.035,
            "symbol": "circle"
           },
           "mode": "markers",
           "name": "Newfoundland",
           "orientation": "v",
           "showlegend": true,
           "type": "scatter",
           "x": [
            0.28
           ],
           "xaxis": "x",
           "y": [
            200310
           ],
           "yaxis": "y"
          },
          {
           "hovertemplate": "Geography=Prince Edward Island<br>Time=2014Q4<br>DelinquencyRate=%{x}<br>AverageMortgageAmount=%{y}<br>PopulationSize=%{marker.size}<extra></extra>",
           "ids": [
            "Prince Edward Island"
           ],
           "legendgroup": "Prince Edward Island",
           "marker": {
            "color": "#EF553B",
            "size": [
             144538
            ],
            "sizemode": "area",
            "sizeref": 36835.035,
            "symbol": "circle"
           },
           "mode": "markers",
           "name": "Prince Edward Island",
           "orientation": "v",
           "showlegend": true,
           "type": "scatter",
           "x": [
            0.57
           ],
           "xaxis": "x",
           "y": [
            141232
           ],
           "yaxis": "y"
          },
          {
           "hovertemplate": "Geography=Nova Scotia<br>Time=2014Q4<br>DelinquencyRate=%{x}<br>AverageMortgageAmount=%{y}<br>PopulationSize=%{marker.size}<extra></extra>",
           "ids": [
            "Nova Scotia"
           ],
           "legendgroup": "Nova Scotia",
           "marker": {
            "color": "#00cc96",
            "size": [
             938972
            ],
            "sizemode": "area",
            "sizeref": 36835.035,
            "symbol": "circle"
           },
           "mode": "markers",
           "name": "Nova Scotia",
           "orientation": "v",
           "showlegend": true,
           "type": "scatter",
           "x": [
            0.68
           ],
           "xaxis": "x",
           "y": [
            163584
           ],
           "yaxis": "y"
          },
          {
           "hovertemplate": "Geography=New Brunswick<br>Time=2014Q4<br>DelinquencyRate=%{x}<br>AverageMortgageAmount=%{y}<br>PopulationSize=%{marker.size}<extra></extra>",
           "ids": [
            "New Brunswick"
           ],
           "legendgroup": "New Brunswick",
           "marker": {
            "color": "#ab63fa",
            "size": [
             759524
            ],
            "sizemode": "area",
            "sizeref": 36835.035,
            "symbol": "circle"
           },
           "mode": "markers",
           "name": "New Brunswick",
           "orientation": "v",
           "showlegend": true,
           "type": "scatter",
           "x": [
            0.72
           ],
           "xaxis": "x",
           "y": [
            132766
           ],
           "yaxis": "y"
          },
          {
           "hovertemplate": "Geography=Québec<br>Time=2014Q4<br>DelinquencyRate=%{x}<br>AverageMortgageAmount=%{y}<br>PopulationSize=%{marker.size}<extra></extra>",
           "ids": [
            "Québec"
           ],
           "legendgroup": "Québec",
           "marker": {
            "color": "#FFA15A",
            "size": [
             8165447
            ],
            "sizemode": "area",
            "sizeref": 36835.035,
            "symbol": "circle"
           },
           "mode": "markers",
           "name": "Québec",
           "orientation": "v",
           "showlegend": true,
           "type": "scatter",
           "x": [
            0.39
           ],
           "xaxis": "x",
           "y": [
            160073
           ],
           "yaxis": "y"
          },
          {
           "hovertemplate": "Geography=Ontario<br>Time=2014Q4<br>DelinquencyRate=%{x}<br>AverageMortgageAmount=%{y}<br>PopulationSize=%{marker.size}<extra></extra>",
           "ids": [
            "Ontario"
           ],
           "legendgroup": "Ontario",
           "marker": {
            "color": "#19d3f3",
            "size": [
             13661314
            ],
            "sizemode": "area",
            "sizeref": 36835.035,
            "symbol": "circle"
           },
           "mode": "markers",
           "name": "Ontario",
           "orientation": "v",
           "showlegend": true,
           "type": "scatter",
           "x": [
            0.26
           ],
           "xaxis": "x",
           "y": [
            257244
           ],
           "yaxis": "y"
          },
          {
           "hovertemplate": "Geography=Manitoba<br>Time=2014Q4<br>DelinquencyRate=%{x}<br>AverageMortgageAmount=%{y}<br>PopulationSize=%{marker.size}<extra></extra>",
           "ids": [
            "Manitoba"
           ],
           "legendgroup": "Manitoba",
           "marker": {
            "color": "#FF6692",
            "size": [
             1283366
            ],
            "sizemode": "area",
            "sizeref": 36835.035,
            "symbol": "circle"
           },
           "mode": "markers",
           "name": "Manitoba",
           "orientation": "v",
           "showlegend": true,
           "type": "scatter",
           "x": [
            0.27
           ],
           "xaxis": "x",
           "y": [
            197527
           ],
           "yaxis": "y"
          },
          {
           "hovertemplate": "Geography=Saskatchewan<br>Time=2014Q4<br>DelinquencyRate=%{x}<br>AverageMortgageAmount=%{y}<br>PopulationSize=%{marker.size}<extra></extra>",
           "ids": [
            "Saskatchewan"
           ],
           "legendgroup": "Saskatchewan",
           "marker": {
            "color": "#B6E880",
            "size": [
             1116203
            ],
            "sizemode": "area",
            "sizeref": 36835.035,
            "symbol": "circle"
           },
           "mode": "markers",
           "name": "Saskatchewan",
           "orientation": "v",
           "showlegend": true,
           "type": "scatter",
           "x": [
            0.36
           ],
           "xaxis": "x",
           "y": [
            233854
           ],
           "yaxis": "y"
          },
          {
           "hovertemplate": "Geography=Alberta<br>Time=2014Q4<br>DelinquencyRate=%{x}<br>AverageMortgageAmount=%{y}<br>PopulationSize=%{marker.size}<extra></extra>",
           "ids": [
            "Alberta"
           ],
           "legendgroup": "Alberta",
           "marker": {
            "color": "#FF97FF",
            "size": [
             4106056
            ],
            "sizemode": "area",
            "sizeref": 36835.035,
            "symbol": "circle"
           },
           "mode": "markers",
           "name": "Alberta",
           "orientation": "v",
           "showlegend": true,
           "type": "scatter",
           "x": [
            0.32
           ],
           "xaxis": "x",
           "y": [
            305558
           ],
           "yaxis": "y"
          },
          {
           "hovertemplate": "Geography=British Columbia<br>Time=2014Q4<br>DelinquencyRate=%{x}<br>AverageMortgageAmount=%{y}<br>PopulationSize=%{marker.size}<extra></extra>",
           "ids": [
            "British Columbia"
           ],
           "legendgroup": "British Columbia",
           "marker": {
            "color": "#FECB52",
            "size": [
             4737725
            ],
            "sizemode": "area",
            "sizeref": 36835.035,
            "symbol": "circle"
           },
           "mode": "markers",
           "name": "British Columbia",
           "orientation": "v",
           "showlegend": true,
           "type": "scatter",
           "x": [
            0.4
           ],
           "xaxis": "x",
           "y": [
            323373
           ],
           "yaxis": "y"
          }
         ],
         "name": "2014Q4"
        },
        {
         "data": [
          {
           "hovertemplate": "Geography=Newfoundland<br>Time=2015Q1<br>DelinquencyRate=%{x}<br>AverageMortgageAmount=%{y}<br>PopulationSize=%{marker.size}<extra></extra>",
           "ids": [
            "Newfoundland"
           ],
           "legendgroup": "Newfoundland",
           "marker": {
            "color": "#636efa",
            "size": [
             528361
            ],
            "sizemode": "area",
            "sizeref": 36835.035,
            "symbol": "circle"
           },
           "mode": "markers",
           "name": "Newfoundland",
           "orientation": "v",
           "showlegend": true,
           "type": "scatter",
           "x": [
            0.37
           ],
           "xaxis": "x",
           "y": [
            197406
           ],
           "yaxis": "y"
          },
          {
           "hovertemplate": "Geography=Prince Edward Island<br>Time=2015Q1<br>DelinquencyRate=%{x}<br>AverageMortgageAmount=%{y}<br>PopulationSize=%{marker.size}<extra></extra>",
           "ids": [
            "Prince Edward Island"
           ],
           "legendgroup": "Prince Edward Island",
           "marker": {
            "color": "#EF553B",
            "size": [
             144368
            ],
            "sizemode": "area",
            "sizeref": 36835.035,
            "symbol": "circle"
           },
           "mode": "markers",
           "name": "Prince Edward Island",
           "orientation": "v",
           "showlegend": true,
           "type": "scatter",
           "x": [
            0.68
           ],
           "xaxis": "x",
           "y": [
            146885
           ],
           "yaxis": "y"
          },
          {
           "hovertemplate": "Geography=Nova Scotia<br>Time=2015Q1<br>DelinquencyRate=%{x}<br>AverageMortgageAmount=%{y}<br>PopulationSize=%{marker.size}<extra></extra>",
           "ids": [
            "Nova Scotia"
           ],
           "legendgroup": "Nova Scotia",
           "marker": {
            "color": "#00cc96",
            "size": [
             938296
            ],
            "sizemode": "area",
            "sizeref": 36835.035,
            "symbol": "circle"
           },
           "mode": "markers",
           "name": "Nova Scotia",
           "orientation": "v",
           "showlegend": true,
           "type": "scatter",
           "x": [
            0.7
           ],
           "xaxis": "x",
           "y": [
            163607
           ],
           "yaxis": "y"
          },
          {
           "hovertemplate": "Geography=New Brunswick<br>Time=2015Q1<br>DelinquencyRate=%{x}<br>AverageMortgageAmount=%{y}<br>PopulationSize=%{marker.size}<extra></extra>",
           "ids": [
            "New Brunswick"
           ],
           "legendgroup": "New Brunswick",
           "marker": {
            "color": "#ab63fa",
            "size": [
             759617
            ],
            "sizemode": "area",
            "sizeref": 36835.035,
            "symbol": "circle"
           },
           "mode": "markers",
           "name": "New Brunswick",
           "orientation": "v",
           "showlegend": true,
           "type": "scatter",
           "x": [
            0.79
           ],
           "xaxis": "x",
           "y": [
            132025
           ],
           "yaxis": "y"
          },
          {
           "hovertemplate": "Geography=Québec<br>Time=2015Q1<br>DelinquencyRate=%{x}<br>AverageMortgageAmount=%{y}<br>PopulationSize=%{marker.size}<extra></extra>",
           "ids": [
            "Québec"
           ],
           "legendgroup": "Québec",
           "marker": {
            "color": "#FFA15A",
            "size": [
             8163132
            ],
            "sizemode": "area",
            "sizeref": 36835.035,
            "symbol": "circle"
           },
           "mode": "markers",
           "name": "Québec",
           "orientation": "v",
           "showlegend": true,
           "type": "scatter",
           "x": [
            0.42
           ],
           "xaxis": "x",
           "y": [
            161563
           ],
           "yaxis": "y"
          },
          {
           "hovertemplate": "Geography=Ontario<br>Time=2015Q1<br>DelinquencyRate=%{x}<br>AverageMortgageAmount=%{y}<br>PopulationSize=%{marker.size}<extra></extra>",
           "ids": [
            "Ontario"
           ],
           "legendgroup": "Ontario",
           "marker": {
            "color": "#19d3f3",
            "size": [
             13657737
            ],
            "sizemode": "area",
            "sizeref": 36835.035,
            "symbol": "circle"
           },
           "mode": "markers",
           "name": "Ontario",
           "orientation": "v",
           "showlegend": true,
           "type": "scatter",
           "x": [
            0.27
           ],
           "xaxis": "x",
           "y": [
            254854
           ],
           "yaxis": "y"
          },
          {
           "hovertemplate": "Geography=Manitoba<br>Time=2015Q1<br>DelinquencyRate=%{x}<br>AverageMortgageAmount=%{y}<br>PopulationSize=%{marker.size}<extra></extra>",
           "ids": [
            "Manitoba"
           ],
           "legendgroup": "Manitoba",
           "marker": {
            "color": "#FF6692",
            "size": [
             1286453
            ],
            "sizemode": "area",
            "sizeref": 36835.035,
            "symbol": "circle"
           },
           "mode": "markers",
           "name": "Manitoba",
           "orientation": "v",
           "showlegend": true,
           "type": "scatter",
           "x": [
            0.31
           ],
           "xaxis": "x",
           "y": [
            191444
           ],
           "yaxis": "y"
          },
          {
           "hovertemplate": "Geography=Saskatchewan<br>Time=2015Q1<br>DelinquencyRate=%{x}<br>AverageMortgageAmount=%{y}<br>PopulationSize=%{marker.size}<extra></extra>",
           "ids": [
            "Saskatchewan"
           ],
           "legendgroup": "Saskatchewan",
           "marker": {
            "color": "#B6E880",
            "size": [
             1118181
            ],
            "sizemode": "area",
            "sizeref": 36835.035,
            "symbol": "circle"
           },
           "mode": "markers",
           "name": "Saskatchewan",
           "orientation": "v",
           "showlegend": true,
           "type": "scatter",
           "x": [
            0.41
           ],
           "xaxis": "x",
           "y": [
            228569
           ],
           "yaxis": "y"
          },
          {
           "hovertemplate": "Geography=Alberta<br>Time=2015Q1<br>DelinquencyRate=%{x}<br>AverageMortgageAmount=%{y}<br>PopulationSize=%{marker.size}<extra></extra>",
           "ids": [
            "Alberta"
           ],
           "legendgroup": "Alberta",
           "marker": {
            "color": "#FF97FF",
            "size": [
             4116047
            ],
            "sizemode": "area",
            "sizeref": 36835.035,
            "symbol": "circle"
           },
           "mode": "markers",
           "name": "Alberta",
           "orientation": "v",
           "showlegend": true,
           "type": "scatter",
           "x": [
            0.32
           ],
           "xaxis": "x",
           "y": [
            303976
           ],
           "yaxis": "y"
          },
          {
           "hovertemplate": "Geography=British Columbia<br>Time=2015Q1<br>DelinquencyRate=%{x}<br>AverageMortgageAmount=%{y}<br>PopulationSize=%{marker.size}<extra></extra>",
           "ids": [
            "British Columbia"
           ],
           "legendgroup": "British Columbia",
           "marker": {
            "color": "#FECB52",
            "size": [
             4745468
            ],
            "sizemode": "area",
            "sizeref": 36835.035,
            "symbol": "circle"
           },
           "mode": "markers",
           "name": "British Columbia",
           "orientation": "v",
           "showlegend": true,
           "type": "scatter",
           "x": [
            0.4
           ],
           "xaxis": "x",
           "y": [
            325035
           ],
           "yaxis": "y"
          }
         ],
         "name": "2015Q1"
        },
        {
         "data": [
          {
           "hovertemplate": "Geography=Newfoundland<br>Time=2015Q2<br>DelinquencyRate=%{x}<br>AverageMortgageAmount=%{y}<br>PopulationSize=%{marker.size}<extra></extra>",
           "ids": [
            "Newfoundland"
           ],
           "legendgroup": "Newfoundland",
           "marker": {
            "color": "#636efa",
            "size": [
             528063
            ],
            "sizemode": "area",
            "sizeref": 36835.035,
            "symbol": "circle"
           },
           "mode": "markers",
           "name": "Newfoundland",
           "orientation": "v",
           "showlegend": true,
           "type": "scatter",
           "x": [
            0.37
           ],
           "xaxis": "x",
           "y": [
            193956
           ],
           "yaxis": "y"
          },
          {
           "hovertemplate": "Geography=Prince Edward Island<br>Time=2015Q2<br>DelinquencyRate=%{x}<br>AverageMortgageAmount=%{y}<br>PopulationSize=%{marker.size}<extra></extra>",
           "ids": [
            "Prince Edward Island"
           ],
           "legendgroup": "Prince Edward Island",
           "marker": {
            "color": "#EF553B",
            "size": [
             144259
            ],
            "sizemode": "area",
            "sizeref": 36835.035,
            "symbol": "circle"
           },
           "mode": "markers",
           "name": "Prince Edward Island",
           "orientation": "v",
           "showlegend": true,
           "type": "scatter",
           "x": [
            0.62
           ],
           "xaxis": "x",
           "y": [
            146818
           ],
           "yaxis": "y"
          },
          {
           "hovertemplate": "Geography=Nova Scotia<br>Time=2015Q2<br>DelinquencyRate=%{x}<br>AverageMortgageAmount=%{y}<br>PopulationSize=%{marker.size}<extra></extra>",
           "ids": [
            "Nova Scotia"
           ],
           "legendgroup": "Nova Scotia",
           "marker": {
            "color": "#00cc96",
            "size": [
             936271
            ],
            "sizemode": "area",
            "sizeref": 36835.035,
            "symbol": "circle"
           },
           "mode": "markers",
           "name": "Nova Scotia",
           "orientation": "v",
           "showlegend": true,
           "type": "scatter",
           "x": [
            0.67
           ],
           "xaxis": "x",
           "y": [
            165288
           ],
           "yaxis": "y"
          },
          {
           "hovertemplate": "Geography=New Brunswick<br>Time=2015Q2<br>DelinquencyRate=%{x}<br>AverageMortgageAmount=%{y}<br>PopulationSize=%{marker.size}<extra></extra>",
           "ids": [
            "New Brunswick"
           ],
           "legendgroup": "New Brunswick",
           "marker": {
            "color": "#ab63fa",
            "size": [
             758948
            ],
            "sizemode": "area",
            "sizeref": 36835.035,
            "symbol": "circle"
           },
           "mode": "markers",
           "name": "New Brunswick",
           "orientation": "v",
           "showlegend": true,
           "type": "scatter",
           "x": [
            0.8
           ],
           "xaxis": "x",
           "y": [
            128378
           ],
           "yaxis": "y"
          },
          {
           "hovertemplate": "Geography=Québec<br>Time=2015Q2<br>DelinquencyRate=%{x}<br>AverageMortgageAmount=%{y}<br>PopulationSize=%{marker.size}<extra></extra>",
           "ids": [
            "Québec"
           ],
           "legendgroup": "Québec",
           "marker": {
            "color": "#FFA15A",
            "size": [
             8163063
            ],
            "sizemode": "area",
            "sizeref": 36835.035,
            "symbol": "circle"
           },
           "mode": "markers",
           "name": "Québec",
           "orientation": "v",
           "showlegend": true,
           "type": "scatter",
           "x": [
            0.41
           ],
           "xaxis": "x",
           "y": [
            164764
           ],
           "yaxis": "y"
          },
          {
           "hovertemplate": "Geography=Ontario<br>Time=2015Q2<br>DelinquencyRate=%{x}<br>AverageMortgageAmount=%{y}<br>PopulationSize=%{marker.size}<extra></extra>",
           "ids": [
            "Ontario"
           ],
           "legendgroup": "Ontario",
           "marker": {
            "color": "#19d3f3",
            "size": [
             13669860
            ],
            "sizemode": "area",
            "sizeref": 36835.035,
            "symbol": "circle"
           },
           "mode": "markers",
           "name": "Ontario",
           "orientation": "v",
           "showlegend": true,
           "type": "scatter",
           "x": [
            0.25
           ],
           "xaxis": "x",
           "y": [
            259093
           ],
           "yaxis": "y"
          },
          {
           "hovertemplate": "Geography=Manitoba<br>Time=2015Q2<br>DelinquencyRate=%{x}<br>AverageMortgageAmount=%{y}<br>PopulationSize=%{marker.size}<extra></extra>",
           "ids": [
            "Manitoba"
           ],
           "legendgroup": "Manitoba",
           "marker": {
            "color": "#FF6692",
            "size": [
             1288094
            ],
            "sizemode": "area",
            "sizeref": 36835.035,
            "symbol": "circle"
           },
           "mode": "markers",
           "name": "Manitoba",
           "orientation": "v",
           "showlegend": true,
           "type": "scatter",
           "x": [
            0.3
           ],
           "xaxis": "x",
           "y": [
            190383
           ],
           "yaxis": "y"
          },
          {
           "hovertemplate": "Geography=Saskatchewan<br>Time=2015Q2<br>DelinquencyRate=%{x}<br>AverageMortgageAmount=%{y}<br>PopulationSize=%{marker.size}<extra></extra>",
           "ids": [
            "Saskatchewan"
           ],
           "legendgroup": "Saskatchewan",
           "marker": {
            "color": "#B6E880",
            "size": [
             1118806
            ],
            "sizemode": "area",
            "sizeref": 36835.035,
            "symbol": "circle"
           },
           "mode": "markers",
           "name": "Saskatchewan",
           "orientation": "v",
           "showlegend": true,
           "type": "scatter",
           "x": [
            0.43
           ],
           "xaxis": "x",
           "y": [
            226957
           ],
           "yaxis": "y"
          },
          {
           "hovertemplate": "Geography=Alberta<br>Time=2015Q2<br>DelinquencyRate=%{x}<br>AverageMortgageAmount=%{y}<br>PopulationSize=%{marker.size}<extra></extra>",
           "ids": [
            "Alberta"
           ],
           "legendgroup": "Alberta",
           "marker": {
            "color": "#FF97FF",
            "size": [
             4128300
            ],
            "sizemode": "area",
            "sizeref": 36835.035,
            "symbol": "circle"
           },
           "mode": "markers",
           "name": "Alberta",
           "orientation": "v",
           "showlegend": true,
           "type": "scatter",
           "x": [
            0.33
           ],
           "xaxis": "x",
           "y": [
            299837
           ],
           "yaxis": "y"
          },
          {
           "hovertemplate": "Geography=British Columbia<br>Time=2015Q2<br>DelinquencyRate=%{x}<br>AverageMortgageAmount=%{y}<br>PopulationSize=%{marker.size}<extra></extra>",
           "ids": [
            "British Columbia"
           ],
           "legendgroup": "British Columbia",
           "marker": {
            "color": "#FECB52",
            "size": [
             4757759
            ],
            "sizemode": "area",
            "sizeref": 36835.035,
            "symbol": "circle"
           },
           "mode": "markers",
           "name": "British Columbia",
           "orientation": "v",
           "showlegend": true,
           "type": "scatter",
           "x": [
            0.38
           ],
           "xaxis": "x",
           "y": [
            328540
           ],
           "yaxis": "y"
          }
         ],
         "name": "2015Q2"
        },
        {
         "data": [
          {
           "hovertemplate": "Geography=Newfoundland<br>Time=2015Q3<br>DelinquencyRate=%{x}<br>AverageMortgageAmount=%{y}<br>PopulationSize=%{marker.size}<extra></extra>",
           "ids": [
            "Newfoundland"
           ],
           "legendgroup": "Newfoundland",
           "marker": {
            "color": "#636efa",
            "size": [
             528117
            ],
            "sizemode": "area",
            "sizeref": 36835.035,
            "symbol": "circle"
           },
           "mode": "markers",
           "name": "Newfoundland",
           "orientation": "v",
           "showlegend": true,
           "type": "scatter",
           "x": [
            0.37
           ],
           "xaxis": "x",
           "y": [
            199758
           ],
           "yaxis": "y"
          },
          {
           "hovertemplate": "Geography=Prince Edward Island<br>Time=2015Q3<br>DelinquencyRate=%{x}<br>AverageMortgageAmount=%{y}<br>PopulationSize=%{marker.size}<extra></extra>",
           "ids": [
            "Prince Edward Island"
           ],
           "legendgroup": "Prince Edward Island",
           "marker": {
            "color": "#EF553B",
            "size": [
             144546
            ],
            "sizemode": "area",
            "sizeref": 36835.035,
            "symbol": "circle"
           },
           "mode": "markers",
           "name": "Prince Edward Island",
           "orientation": "v",
           "showlegend": true,
           "type": "scatter",
           "x": [
            0.63
           ],
           "xaxis": "x",
           "y": [
            150403
           ],
           "yaxis": "y"
          },
          {
           "hovertemplate": "Geography=Nova Scotia<br>Time=2015Q3<br>DelinquencyRate=%{x}<br>AverageMortgageAmount=%{y}<br>PopulationSize=%{marker.size}<extra></extra>",
           "ids": [
            "Nova Scotia"
           ],
           "legendgroup": "Nova Scotia",
           "marker": {
            "color": "#00cc96",
            "size": [
             936525
            ],
            "sizemode": "area",
            "sizeref": 36835.035,
            "symbol": "circle"
           },
           "mode": "markers",
           "name": "Nova Scotia",
           "orientation": "v",
           "showlegend": true,
           "type": "scatter",
           "x": [
            0.66
           ],
           "xaxis": "x",
           "y": [
            178091
           ],
           "yaxis": "y"
          },
          {
           "hovertemplate": "Geography=New Brunswick<br>Time=2015Q3<br>DelinquencyRate=%{x}<br>AverageMortgageAmount=%{y}<br>PopulationSize=%{marker.size}<extra></extra>",
           "ids": [
            "New Brunswick"
           ],
           "legendgroup": "New Brunswick",
           "marker": {
            "color": "#ab63fa",
            "size": [
             758842
            ],
            "sizemode": "area",
            "sizeref": 36835.035,
            "symbol": "circle"
           },
           "mode": "markers",
           "name": "New Brunswick",
           "orientation": "v",
           "showlegend": true,
           "type": "scatter",
           "x": [
            0.81
           ],
           "xaxis": "x",
           "y": [
            137565
           ],
           "yaxis": "y"
          },
          {
           "hovertemplate": "Geography=Québec<br>Time=2015Q3<br>DelinquencyRate=%{x}<br>AverageMortgageAmount=%{y}<br>PopulationSize=%{marker.size}<extra></extra>",
           "ids": [
            "Québec"
           ],
           "legendgroup": "Québec",
           "marker": {
            "color": "#FFA15A",
            "size": [
             8175272
            ],
            "sizemode": "area",
            "sizeref": 36835.035,
            "symbol": "circle"
           },
           "mode": "markers",
           "name": "Québec",
           "orientation": "v",
           "showlegend": true,
           "type": "scatter",
           "x": [
            0.41
           ],
           "xaxis": "x",
           "y": [
            170403
           ],
           "yaxis": "y"
          },
          {
           "hovertemplate": "Geography=Ontario<br>Time=2015Q3<br>DelinquencyRate=%{x}<br>AverageMortgageAmount=%{y}<br>PopulationSize=%{marker.size}<extra></extra>",
           "ids": [
            "Ontario"
           ],
           "legendgroup": "Ontario",
           "marker": {
            "color": "#19d3f3",
            "size": [
             13707118
            ],
            "sizemode": "area",
            "sizeref": 36835.035,
            "symbol": "circle"
           },
           "mode": "markers",
           "name": "Ontario",
           "orientation": "v",
           "showlegend": true,
           "type": "scatter",
           "x": [
            0.24
           ],
           "xaxis": "x",
           "y": [
            281259
           ],
           "yaxis": "y"
          },
          {
           "hovertemplate": "Geography=Manitoba<br>Time=2015Q3<br>DelinquencyRate=%{x}<br>AverageMortgageAmount=%{y}<br>PopulationSize=%{marker.size}<extra></extra>",
           "ids": [
            "Manitoba"
           ],
           "legendgroup": "Manitoba",
           "marker": {
            "color": "#FF6692",
            "size": [
             1292227
            ],
            "sizemode": "area",
            "sizeref": 36835.035,
            "symbol": "circle"
           },
           "mode": "markers",
           "name": "Manitoba",
           "orientation": "v",
           "showlegend": true,
           "type": "scatter",
           "x": [
            0.29
           ],
           "xaxis": "x",
           "y": [
            206275
           ],
           "yaxis": "y"
          },
          {
           "hovertemplate": "Geography=Saskatchewan<br>Time=2015Q3<br>DelinquencyRate=%{x}<br>AverageMortgageAmount=%{y}<br>PopulationSize=%{marker.size}<extra></extra>",
           "ids": [
            "Saskatchewan"
           ],
           "legendgroup": "Saskatchewan",
           "marker": {
            "color": "#B6E880",
            "size": [
             1120967
            ],
            "sizemode": "area",
            "sizeref": 36835.035,
            "symbol": "circle"
           },
           "mode": "markers",
           "name": "Saskatchewan",
           "orientation": "v",
           "showlegend": true,
           "type": "scatter",
           "x": [
            0.45
           ],
           "xaxis": "x",
           "y": [
            234840
           ],
           "yaxis": "y"
          },
          {
           "hovertemplate": "Geography=Alberta<br>Time=2015Q3<br>DelinquencyRate=%{x}<br>AverageMortgageAmount=%{y}<br>PopulationSize=%{marker.size}<extra></extra>",
           "ids": [
            "Alberta"
           ],
           "legendgroup": "Alberta",
           "marker": {
            "color": "#FF97FF",
            "size": [
             4144491
            ],
            "sizemode": "area",
            "sizeref": 36835.035,
            "symbol": "circle"
           },
           "mode": "markers",
           "name": "Alberta",
           "orientation": "v",
           "showlegend": true,
           "type": "scatter",
           "x": [
            0.35
           ],
           "xaxis": "x",
           "y": [
            309953
           ],
           "yaxis": "y"
          },
          {
           "hovertemplate": "Geography=British Columbia<br>Time=2015Q3<br>DelinquencyRate=%{x}<br>AverageMortgageAmount=%{y}<br>PopulationSize=%{marker.size}<extra></extra>",
           "ids": [
            "British Columbia"
           ],
           "legendgroup": "British Columbia",
           "marker": {
            "color": "#FECB52",
            "size": [
             4776388
            ],
            "sizemode": "area",
            "sizeref": 36835.035,
            "symbol": "circle"
           },
           "mode": "markers",
           "name": "British Columbia",
           "orientation": "v",
           "showlegend": true,
           "type": "scatter",
           "x": [
            0.34
           ],
           "xaxis": "x",
           "y": [
            350672
           ],
           "yaxis": "y"
          }
         ],
         "name": "2015Q3"
        },
        {
         "data": [
          {
           "hovertemplate": "Geography=Newfoundland<br>Time=2015Q4<br>DelinquencyRate=%{x}<br>AverageMortgageAmount=%{y}<br>PopulationSize=%{marker.size}<extra></extra>",
           "ids": [
            "Newfoundland"
           ],
           "legendgroup": "Newfoundland",
           "marker": {
            "color": "#636efa",
            "size": [
             528696
            ],
            "sizemode": "area",
            "sizeref": 36835.035,
            "symbol": "circle"
           },
           "mode": "markers",
           "name": "Newfoundland",
           "orientation": "v",
           "showlegend": true,
           "type": "scatter",
           "x": [
            0.41
           ],
           "xaxis": "x",
           "y": [
            202487
           ],
           "yaxis": "y"
          },
          {
           "hovertemplate": "Geography=Prince Edward Island<br>Time=2015Q4<br>DelinquencyRate=%{x}<br>AverageMortgageAmount=%{y}<br>PopulationSize=%{marker.size}<extra></extra>",
           "ids": [
            "Prince Edward Island"
           ],
           "legendgroup": "Prince Edward Island",
           "marker": {
            "color": "#EF553B",
            "size": [
             144894
            ],
            "sizemode": "area",
            "sizeref": 36835.035,
            "symbol": "circle"
           },
           "mode": "markers",
           "name": "Prince Edward Island",
           "orientation": "v",
           "showlegend": true,
           "type": "scatter",
           "x": [
            0.67
           ],
           "xaxis": "x",
           "y": [
            155926
           ],
           "yaxis": "y"
          },
          {
           "hovertemplate": "Geography=Nova Scotia<br>Time=2015Q4<br>DelinquencyRate=%{x}<br>AverageMortgageAmount=%{y}<br>PopulationSize=%{marker.size}<extra></extra>",
           "ids": [
            "Nova Scotia"
           ],
           "legendgroup": "Nova Scotia",
           "marker": {
            "color": "#00cc96",
            "size": [
             938320
            ],
            "sizemode": "area",
            "sizeref": 36835.035,
            "symbol": "circle"
           },
           "mode": "markers",
           "name": "Nova Scotia",
           "orientation": "v",
           "showlegend": true,
           "type": "scatter",
           "x": [
            0.68
           ],
           "xaxis": "x",
           "y": [
            172863
           ],
           "yaxis": "y"
          },
          {
           "hovertemplate": "Geography=New Brunswick<br>Time=2015Q4<br>DelinquencyRate=%{x}<br>AverageMortgageAmount=%{y}<br>PopulationSize=%{marker.size}<extra></extra>",
           "ids": [
            "New Brunswick"
           ],
           "legendgroup": "New Brunswick",
           "marker": {
            "color": "#ab63fa",
            "size": [
             759778
            ],
            "sizemode": "area",
            "sizeref": 36835.035,
            "symbol": "circle"
           },
           "mode": "markers",
           "name": "New Brunswick",
           "orientation": "v",
           "showlegend": true,
           "type": "scatter",
           "x": [
            0.79
           ],
           "xaxis": "x",
           "y": [
            137039
           ],
           "yaxis": "y"
          },
          {
           "hovertemplate": "Geography=Québec<br>Time=2015Q4<br>DelinquencyRate=%{x}<br>AverageMortgageAmount=%{y}<br>PopulationSize=%{marker.size}<extra></extra>",
           "ids": [
            "Québec"
           ],
           "legendgroup": "Québec",
           "marker": {
            "color": "#FFA15A",
            "size": [
             8190014
            ],
            "sizemode": "area",
            "sizeref": 36835.035,
            "symbol": "circle"
           },
           "mode": "markers",
           "name": "Québec",
           "orientation": "v",
           "showlegend": true,
           "type": "scatter",
           "x": [
            0.42
           ],
           "xaxis": "x",
           "y": [
            164235
           ],
           "yaxis": "y"
          },
          {
           "hovertemplate": "Geography=Ontario<br>Time=2015Q4<br>DelinquencyRate=%{x}<br>AverageMortgageAmount=%{y}<br>PopulationSize=%{marker.size}<extra></extra>",
           "ids": [
            "Ontario"
           ],
           "legendgroup": "Ontario",
           "marker": {
            "color": "#19d3f3",
            "size": [
             13757688
            ],
            "sizemode": "area",
            "sizeref": 36835.035,
            "symbol": "circle"
           },
           "mode": "markers",
           "name": "Ontario",
           "orientation": "v",
           "showlegend": true,
           "type": "scatter",
           "x": [
            0.23
           ],
           "xaxis": "x",
           "y": [
            277802
           ],
           "yaxis": "y"
          },
          {
           "hovertemplate": "Geography=Manitoba<br>Time=2015Q4<br>DelinquencyRate=%{x}<br>AverageMortgageAmount=%{y}<br>PopulationSize=%{marker.size}<extra></extra>",
           "ids": [
            "Manitoba"
           ],
           "legendgroup": "Manitoba",
           "marker": {
            "color": "#FF6692",
            "size": [
             1297329
            ],
            "sizemode": "area",
            "sizeref": 36835.035,
            "symbol": "circle"
           },
           "mode": "markers",
           "name": "Manitoba",
           "orientation": "v",
           "showlegend": true,
           "type": "scatter",
           "x": [
            0.33
           ],
           "xaxis": "x",
           "y": [
            201640
           ],
           "yaxis": "y"
          },
          {
           "hovertemplate": "Geography=Saskatchewan<br>Time=2015Q4<br>DelinquencyRate=%{x}<br>AverageMortgageAmount=%{y}<br>PopulationSize=%{marker.size}<extra></extra>",
           "ids": [
            "Saskatchewan"
           ],
           "legendgroup": "Saskatchewan",
           "marker": {
            "color": "#B6E880",
            "size": [
             1124919
            ],
            "sizemode": "area",
            "sizeref": 36835.035,
            "symbol": "circle"
           },
           "mode": "markers",
           "name": "Saskatchewan",
           "orientation": "v",
           "showlegend": true,
           "type": "scatter",
           "x": [
            0.49
           ],
           "xaxis": "x",
           "y": [
            231611
           ],
           "yaxis": "y"
          },
          {
           "hovertemplate": "Geography=Alberta<br>Time=2015Q4<br>DelinquencyRate=%{x}<br>AverageMortgageAmount=%{y}<br>PopulationSize=%{marker.size}<extra></extra>",
           "ids": [
            "Alberta"
           ],
           "legendgroup": "Alberta",
           "marker": {
            "color": "#FF97FF",
            "size": [
             4159519
            ],
            "sizemode": "area",
            "sizeref": 36835.035,
            "symbol": "circle"
           },
           "mode": "markers",
           "name": "Alberta",
           "orientation": "v",
           "showlegend": true,
           "type": "scatter",
           "x": [
            0.36
           ],
           "xaxis": "x",
           "y": [
            303244
           ],
           "yaxis": "y"
          },
          {
           "hovertemplate": "Geography=British Columbia<br>Time=2015Q4<br>DelinquencyRate=%{x}<br>AverageMortgageAmount=%{y}<br>PopulationSize=%{marker.size}<extra></extra>",
           "ids": [
            "British Columbia"
           ],
           "legendgroup": "British Columbia",
           "marker": {
            "color": "#FECB52",
            "size": [
             4802955
            ],
            "sizemode": "area",
            "sizeref": 36835.035,
            "symbol": "circle"
           },
           "mode": "markers",
           "name": "British Columbia",
           "orientation": "v",
           "showlegend": true,
           "type": "scatter",
           "x": [
            0.32
           ],
           "xaxis": "x",
           "y": [
            357016
           ],
           "yaxis": "y"
          }
         ],
         "name": "2015Q4"
        },
        {
         "data": [
          {
           "hovertemplate": "Geography=Newfoundland<br>Time=2016Q1<br>DelinquencyRate=%{x}<br>AverageMortgageAmount=%{y}<br>PopulationSize=%{marker.size}<extra></extra>",
           "ids": [
            "Newfoundland"
           ],
           "legendgroup": "Newfoundland",
           "marker": {
            "color": "#636efa",
            "size": [
             528800
            ],
            "sizemode": "area",
            "sizeref": 36835.035,
            "symbol": "circle"
           },
           "mode": "markers",
           "name": "Newfoundland",
           "orientation": "v",
           "showlegend": true,
           "type": "scatter",
           "x": [
            0.45
           ],
           "xaxis": "x",
           "y": [
            196798
           ],
           "yaxis": "y"
          },
          {
           "hovertemplate": "Geography=Prince Edward Island<br>Time=2016Q1<br>DelinquencyRate=%{x}<br>AverageMortgageAmount=%{y}<br>PopulationSize=%{marker.size}<extra></extra>",
           "ids": [
            "Prince Edward Island"
           ],
           "legendgroup": "Prince Edward Island",
           "marker": {
            "color": "#EF553B",
            "size": [
             145202
            ],
            "sizemode": "area",
            "sizeref": 36835.035,
            "symbol": "circle"
           },
           "mode": "markers",
           "name": "Prince Edward Island",
           "orientation": "v",
           "showlegend": true,
           "type": "scatter",
           "x": [
            0.7
           ],
           "xaxis": "x",
           "y": [
            157322
           ],
           "yaxis": "y"
          },
          {
           "hovertemplate": "Geography=Nova Scotia<br>Time=2016Q1<br>DelinquencyRate=%{x}<br>AverageMortgageAmount=%{y}<br>PopulationSize=%{marker.size}<extra></extra>",
           "ids": [
            "Nova Scotia"
           ],
           "legendgroup": "Nova Scotia",
           "marker": {
            "color": "#00cc96",
            "size": [
             938690
            ],
            "sizemode": "area",
            "sizeref": 36835.035,
            "symbol": "circle"
           },
           "mode": "markers",
           "name": "Nova Scotia",
           "orientation": "v",
           "showlegend": true,
           "type": "scatter",
           "x": [
            0.7
           ],
           "xaxis": "x",
           "y": [
            167596
           ],
           "yaxis": "y"
          },
          {
           "hovertemplate": "Geography=New Brunswick<br>Time=2016Q1<br>DelinquencyRate=%{x}<br>AverageMortgageAmount=%{y}<br>PopulationSize=%{marker.size}<extra></extra>",
           "ids": [
            "New Brunswick"
           ],
           "legendgroup": "New Brunswick",
           "marker": {
            "color": "#ab63fa",
            "size": [
             760580
            ],
            "sizemode": "area",
            "sizeref": 36835.035,
            "symbol": "circle"
           },
           "mode": "markers",
           "name": "New Brunswick",
           "orientation": "v",
           "showlegend": true,
           "type": "scatter",
           "x": [
            0.82
           ],
           "xaxis": "x",
           "y": [
            132325
           ],
           "yaxis": "y"
          },
          {
           "hovertemplate": "Geography=Québec<br>Time=2016Q1<br>DelinquencyRate=%{x}<br>AverageMortgageAmount=%{y}<br>PopulationSize=%{marker.size}<extra></extra>",
           "ids": [
            "Québec"
           ],
           "legendgroup": "Québec",
           "marker": {
            "color": "#FFA15A",
            "size": [
             8193624
            ],
            "sizemode": "area",
            "sizeref": 36835.035,
            "symbol": "circle"
           },
           "mode": "markers",
           "name": "Québec",
           "orientation": "v",
           "showlegend": true,
           "type": "scatter",
           "x": [
            0.44
           ],
           "xaxis": "x",
           "y": [
            167154
           ],
           "yaxis": "y"
          },
          {
           "hovertemplate": "Geography=Ontario<br>Time=2016Q1<br>DelinquencyRate=%{x}<br>AverageMortgageAmount=%{y}<br>PopulationSize=%{marker.size}<extra></extra>",
           "ids": [
            "Ontario"
           ],
           "legendgroup": "Ontario",
           "marker": {
            "color": "#19d3f3",
            "size": [
             13773629
            ],
            "sizemode": "area",
            "sizeref": 36835.035,
            "symbol": "circle"
           },
           "mode": "markers",
           "name": "Ontario",
           "orientation": "v",
           "showlegend": true,
           "type": "scatter",
           "x": [
            0.24
           ],
           "xaxis": "x",
           "y": [
            278626
           ],
           "yaxis": "y"
          },
          {
           "hovertemplate": "Geography=Manitoba<br>Time=2016Q1<br>DelinquencyRate=%{x}<br>AverageMortgageAmount=%{y}<br>PopulationSize=%{marker.size}<extra></extra>",
           "ids": [
            "Manitoba"
           ],
           "legendgroup": "Manitoba",
           "marker": {
            "color": "#FF6692",
            "size": [
             1302544
            ],
            "sizemode": "area",
            "sizeref": 36835.035,
            "symbol": "circle"
           },
           "mode": "markers",
           "name": "Manitoba",
           "orientation": "v",
           "showlegend": true,
           "type": "scatter",
           "x": [
            0.34
           ],
           "xaxis": "x",
           "y": [
            193970
           ],
           "yaxis": "y"
          },
          {
           "hovertemplate": "Geography=Saskatchewan<br>Time=2016Q1<br>DelinquencyRate=%{x}<br>AverageMortgageAmount=%{y}<br>PopulationSize=%{marker.size}<extra></extra>",
           "ids": [
            "Saskatchewan"
           ],
           "legendgroup": "Saskatchewan",
           "marker": {
            "color": "#B6E880",
            "size": [
             1127773
            ],
            "sizemode": "area",
            "sizeref": 36835.035,
            "symbol": "circle"
           },
           "mode": "markers",
           "name": "Saskatchewan",
           "orientation": "v",
           "showlegend": true,
           "type": "scatter",
           "x": [
            0.54
           ],
           "xaxis": "x",
           "y": [
            225641
           ],
           "yaxis": "y"
          },
          {
           "hovertemplate": "Geography=Alberta<br>Time=2016Q1<br>DelinquencyRate=%{x}<br>AverageMortgageAmount=%{y}<br>PopulationSize=%{marker.size}<extra></extra>",
           "ids": [
            "Alberta"
           ],
           "legendgroup": "Alberta",
           "marker": {
            "color": "#FF97FF",
            "size": [
             4169830
            ],
            "sizemode": "area",
            "sizeref": 36835.035,
            "symbol": "circle"
           },
           "mode": "markers",
           "name": "Alberta",
           "orientation": "v",
           "showlegend": true,
           "type": "scatter",
           "x": [
            0.41
           ],
           "xaxis": "x",
           "y": [
            296111
           ],
           "yaxis": "y"
          },
          {
           "hovertemplate": "Geography=British Columbia<br>Time=2016Q1<br>DelinquencyRate=%{x}<br>AverageMortgageAmount=%{y}<br>PopulationSize=%{marker.size}<extra></extra>",
           "ids": [
            "British Columbia"
           ],
           "legendgroup": "British Columbia",
           "marker": {
            "color": "#FECB52",
            "size": [
             4811465
            ],
            "sizemode": "area",
            "sizeref": 36835.035,
            "symbol": "circle"
           },
           "mode": "markers",
           "name": "British Columbia",
           "orientation": "v",
           "showlegend": true,
           "type": "scatter",
           "x": [
            0.32
           ],
           "xaxis": "x",
           "y": [
            368782
           ],
           "yaxis": "y"
          }
         ],
         "name": "2016Q1"
        },
        {
         "data": [
          {
           "hovertemplate": "Geography=Newfoundland<br>Time=2016Q2<br>DelinquencyRate=%{x}<br>AverageMortgageAmount=%{y}<br>PopulationSize=%{marker.size}<extra></extra>",
           "ids": [
            "Newfoundland"
           ],
           "legendgroup": "Newfoundland",
           "marker": {
            "color": "#636efa",
            "size": [
             529063
            ],
            "sizemode": "area",
            "sizeref": 36835.035,
            "symbol": "circle"
           },
           "mode": "markers",
           "name": "Newfoundland",
           "orientation": "v",
           "showlegend": true,
           "type": "scatter",
           "x": [
            0.46
           ],
           "xaxis": "x",
           "y": [
            196806
           ],
           "yaxis": "y"
          },
          {
           "hovertemplate": "Geography=Prince Edward Island<br>Time=2016Q2<br>DelinquencyRate=%{x}<br>AverageMortgageAmount=%{y}<br>PopulationSize=%{marker.size}<extra></extra>",
           "ids": [
            "Prince Edward Island"
           ],
           "legendgroup": "Prince Edward Island",
           "marker": {
            "color": "#EF553B",
            "size": [
             145784
            ],
            "sizemode": "area",
            "sizeref": 36835.035,
            "symbol": "circle"
           },
           "mode": "markers",
           "name": "Prince Edward Island",
           "orientation": "v",
           "showlegend": true,
           "type": "scatter",
           "x": [
            0.7
           ],
           "xaxis": "x",
           "y": [
            150732
           ],
           "yaxis": "y"
          },
          {
           "hovertemplate": "Geography=Nova Scotia<br>Time=2016Q2<br>DelinquencyRate=%{x}<br>AverageMortgageAmount=%{y}<br>PopulationSize=%{marker.size}<extra></extra>",
           "ids": [
            "Nova Scotia"
           ],
           "legendgroup": "Nova Scotia",
           "marker": {
            "color": "#00cc96",
            "size": [
             940382
            ],
            "sizemode": "area",
            "sizeref": 36835.035,
            "symbol": "circle"
           },
           "mode": "markers",
           "name": "Nova Scotia",
           "orientation": "v",
           "showlegend": true,
           "type": "scatter",
           "x": [
            0.72
           ],
           "xaxis": "x",
           "y": [
            168948
           ],
           "yaxis": "y"
          },
          {
           "hovertemplate": "Geography=New Brunswick<br>Time=2016Q2<br>DelinquencyRate=%{x}<br>AverageMortgageAmount=%{y}<br>PopulationSize=%{marker.size}<extra></extra>",
           "ids": [
            "New Brunswick"
           ],
           "legendgroup": "New Brunswick",
           "marker": {
            "color": "#ab63fa",
            "size": [
             762289
            ],
            "sizemode": "area",
            "sizeref": 36835.035,
            "symbol": "circle"
           },
           "mode": "markers",
           "name": "New Brunswick",
           "orientation": "v",
           "showlegend": true,
           "type": "scatter",
           "x": [
            0.78
           ],
           "xaxis": "x",
           "y": [
            133027
           ],
           "yaxis": "y"
          },
          {
           "hovertemplate": "Geography=Québec<br>Time=2016Q2<br>DelinquencyRate=%{x}<br>AverageMortgageAmount=%{y}<br>PopulationSize=%{marker.size}<extra></extra>",
           "ids": [
            "Québec"
           ],
           "legendgroup": "Québec",
           "marker": {
            "color": "#FFA15A",
            "size": [
             8204085
            ],
            "sizemode": "area",
            "sizeref": 36835.035,
            "symbol": "circle"
           },
           "mode": "markers",
           "name": "Québec",
           "orientation": "v",
           "showlegend": true,
           "type": "scatter",
           "x": [
            0.43
           ],
           "xaxis": "x",
           "y": [
            169326
           ],
           "yaxis": "y"
          },
          {
           "hovertemplate": "Geography=Ontario<br>Time=2016Q2<br>DelinquencyRate=%{x}<br>AverageMortgageAmount=%{y}<br>PopulationSize=%{marker.size}<extra></extra>",
           "ids": [
            "Ontario"
           ],
           "legendgroup": "Ontario",
           "marker": {
            "color": "#19d3f3",
            "size": [
             13816545
            ],
            "sizemode": "area",
            "sizeref": 36835.035,
            "symbol": "circle"
           },
           "mode": "markers",
           "name": "Ontario",
           "orientation": "v",
           "showlegend": true,
           "type": "scatter",
           "x": [
            0.22
           ],
           "xaxis": "x",
           "y": [
            285024
           ],
           "yaxis": "y"
          },
          {
           "hovertemplate": "Geography=Manitoba<br>Time=2016Q2<br>DelinquencyRate=%{x}<br>AverageMortgageAmount=%{y}<br>PopulationSize=%{marker.size}<extra></extra>",
           "ids": [
            "Manitoba"
           ],
           "legendgroup": "Manitoba",
           "marker": {
            "color": "#FF6692",
            "size": [
             1307689
            ],
            "sizemode": "area",
            "sizeref": 36835.035,
            "symbol": "circle"
           },
           "mode": "markers",
           "name": "Manitoba",
           "orientation": "v",
           "showlegend": true,
           "type": "scatter",
           "x": [
            0.35
           ],
           "xaxis": "x",
           "y": [
            196385
           ],
           "yaxis": "y"
          },
          {
           "hovertemplate": "Geography=Saskatchewan<br>Time=2016Q2<br>DelinquencyRate=%{x}<br>AverageMortgageAmount=%{y}<br>PopulationSize=%{marker.size}<extra></extra>",
           "ids": [
            "Saskatchewan"
           ],
           "legendgroup": "Saskatchewan",
           "marker": {
            "color": "#B6E880",
            "size": [
             1131147
            ],
            "sizemode": "area",
            "sizeref": 36835.035,
            "symbol": "circle"
           },
           "mode": "markers",
           "name": "Saskatchewan",
           "orientation": "v",
           "showlegend": true,
           "type": "scatter",
           "x": [
            0.57
           ],
           "xaxis": "x",
           "y": [
            230729
           ],
           "yaxis": "y"
          },
          {
           "hovertemplate": "Geography=Alberta<br>Time=2016Q2<br>DelinquencyRate=%{x}<br>AverageMortgageAmount=%{y}<br>PopulationSize=%{marker.size}<extra></extra>",
           "ids": [
            "Alberta"
           ],
           "legendgroup": "Alberta",
           "marker": {
            "color": "#FF97FF",
            "size": [
             4181765
            ],
            "sizemode": "area",
            "sizeref": 36835.035,
            "symbol": "circle"
           },
           "mode": "markers",
           "name": "Alberta",
           "orientation": "v",
           "showlegend": true,
           "type": "scatter",
           "x": [
            0.45
           ],
           "xaxis": "x",
           "y": [
            298884
           ],
           "yaxis": "y"
          },
          {
           "hovertemplate": "Geography=British Columbia<br>Time=2016Q2<br>DelinquencyRate=%{x}<br>AverageMortgageAmount=%{y}<br>PopulationSize=%{marker.size}<extra></extra>",
           "ids": [
            "British Columbia"
           ],
           "legendgroup": "British Columbia",
           "marker": {
            "color": "#FECB52",
            "size": [
             4832155
            ],
            "sizemode": "area",
            "sizeref": 36835.035,
            "symbol": "circle"
           },
           "mode": "markers",
           "name": "British Columbia",
           "orientation": "v",
           "showlegend": true,
           "type": "scatter",
           "x": [
            0.29
           ],
           "xaxis": "x",
           "y": [
            385910
           ],
           "yaxis": "y"
          }
         ],
         "name": "2016Q2"
        },
        {
         "data": [
          {
           "hovertemplate": "Geography=Newfoundland<br>Time=2016Q3<br>DelinquencyRate=%{x}<br>AverageMortgageAmount=%{y}<br>PopulationSize=%{marker.size}<extra></extra>",
           "ids": [
            "Newfoundland"
           ],
           "legendgroup": "Newfoundland",
           "marker": {
            "color": "#636efa",
            "size": [
             529426
            ],
            "sizemode": "area",
            "sizeref": 36835.035,
            "symbol": "circle"
           },
           "mode": "markers",
           "name": "Newfoundland",
           "orientation": "v",
           "showlegend": true,
           "type": "scatter",
           "x": [
            0.49
           ],
           "xaxis": "x",
           "y": [
            198265
           ],
           "yaxis": "y"
          },
          {
           "hovertemplate": "Geography=Prince Edward Island<br>Time=2016Q3<br>DelinquencyRate=%{x}<br>AverageMortgageAmount=%{y}<br>PopulationSize=%{marker.size}<extra></extra>",
           "ids": [
            "Prince Edward Island"
           ],
           "legendgroup": "Prince Edward Island",
           "marker": {
            "color": "#EF553B",
            "size": [
             146969
            ],
            "sizemode": "area",
            "sizeref": 36835.035,
            "symbol": "circle"
           },
           "mode": "markers",
           "name": "Prince Edward Island",
           "orientation": "v",
           "showlegend": true,
           "type": "scatter",
           "x": [
            0.67
           ],
           "xaxis": "x",
           "y": [
            169651
           ],
           "yaxis": "y"
          },
          {
           "hovertemplate": "Geography=Nova Scotia<br>Time=2016Q3<br>DelinquencyRate=%{x}<br>AverageMortgageAmount=%{y}<br>PopulationSize=%{marker.size}<extra></extra>",
           "ids": [
            "Nova Scotia"
           ],
           "legendgroup": "Nova Scotia",
           "marker": {
            "color": "#00cc96",
            "size": [
             942790
            ],
            "sizemode": "area",
            "sizeref": 36835.035,
            "symbol": "circle"
           },
           "mode": "markers",
           "name": "Nova Scotia",
           "orientation": "v",
           "showlegend": true,
           "type": "scatter",
           "x": [
            0.76
           ],
           "xaxis": "x",
           "y": [
            178784
           ],
           "yaxis": "y"
          },
          {
           "hovertemplate": "Geography=New Brunswick<br>Time=2016Q3<br>DelinquencyRate=%{x}<br>AverageMortgageAmount=%{y}<br>PopulationSize=%{marker.size}<extra></extra>",
           "ids": [
            "New Brunswick"
           ],
           "legendgroup": "New Brunswick",
           "marker": {
            "color": "#ab63fa",
            "size": [
             763350
            ],
            "sizemode": "area",
            "sizeref": 36835.035,
            "symbol": "circle"
           },
           "mode": "markers",
           "name": "New Brunswick",
           "orientation": "v",
           "showlegend": true,
           "type": "scatter",
           "x": [
            0.84
           ],
           "xaxis": "x",
           "y": [
            143533
           ],
           "yaxis": "y"
          },
          {
           "hovertemplate": "Geography=Québec<br>Time=2016Q3<br>DelinquencyRate=%{x}<br>AverageMortgageAmount=%{y}<br>PopulationSize=%{marker.size}<extra></extra>",
           "ids": [
            "Québec"
           ],
           "legendgroup": "Québec",
           "marker": {
            "color": "#FFA15A",
            "size": [
             8225950
            ],
            "sizemode": "area",
            "sizeref": 36835.035,
            "symbol": "circle"
           },
           "mode": "markers",
           "name": "Québec",
           "orientation": "v",
           "showlegend": true,
           "type": "scatter",
           "x": [
            0.42
           ],
           "xaxis": "x",
           "y": [
            176522
           ],
           "yaxis": "y"
          },
          {
           "hovertemplate": "Geography=Ontario<br>Time=2016Q3<br>DelinquencyRate=%{x}<br>AverageMortgageAmount=%{y}<br>PopulationSize=%{marker.size}<extra></extra>",
           "ids": [
            "Ontario"
           ],
           "legendgroup": "Ontario",
           "marker": {
            "color": "#19d3f3",
            "size": [
             13875394
            ],
            "sizemode": "area",
            "sizeref": 36835.035,
            "symbol": "circle"
           },
           "mode": "markers",
           "name": "Ontario",
           "orientation": "v",
           "showlegend": true,
           "type": "scatter",
           "x": [
            0.2
           ],
           "xaxis": "x",
           "y": [
            307369
           ],
           "yaxis": "y"
          },
          {
           "hovertemplate": "Geography=Manitoba<br>Time=2016Q3<br>DelinquencyRate=%{x}<br>AverageMortgageAmount=%{y}<br>PopulationSize=%{marker.size}<extra></extra>",
           "ids": [
            "Manitoba"
           ],
           "legendgroup": "Manitoba",
           "marker": {
            "color": "#FF6692",
            "size": [
             1314139
            ],
            "sizemode": "area",
            "sizeref": 36835.035,
            "symbol": "circle"
           },
           "mode": "markers",
           "name": "Manitoba",
           "orientation": "v",
           "showlegend": true,
           "type": "scatter",
           "x": [
            0.34
           ],
           "xaxis": "x",
           "y": [
            209051
           ],
           "yaxis": "y"
          },
          {
           "hovertemplate": "Geography=Saskatchewan<br>Time=2016Q3<br>DelinquencyRate=%{x}<br>AverageMortgageAmount=%{y}<br>PopulationSize=%{marker.size}<extra></extra>",
           "ids": [
            "Saskatchewan"
           ],
           "legendgroup": "Saskatchewan",
           "marker": {
            "color": "#B6E880",
            "size": [
             1135987
            ],
            "sizemode": "area",
            "sizeref": 36835.035,
            "symbol": "circle"
           },
           "mode": "markers",
           "name": "Saskatchewan",
           "orientation": "v",
           "showlegend": true,
           "type": "scatter",
           "x": [
            0.61
           ],
           "xaxis": "x",
           "y": [
            236380
           ],
           "yaxis": "y"
          },
          {
           "hovertemplate": "Geography=Alberta<br>Time=2016Q3<br>DelinquencyRate=%{x}<br>AverageMortgageAmount=%{y}<br>PopulationSize=%{marker.size}<extra></extra>",
           "ids": [
            "Alberta"
           ],
           "legendgroup": "Alberta",
           "marker": {
            "color": "#FF97FF",
            "size": [
             4196061
            ],
            "sizemode": "area",
            "sizeref": 36835.035,
            "symbol": "circle"
           },
           "mode": "markers",
           "name": "Alberta",
           "orientation": "v",
           "showlegend": true,
           "type": "scatter",
           "x": [
            0.53
           ],
           "xaxis": "x",
           "y": [
            304683
           ],
           "yaxis": "y"
          },
          {
           "hovertemplate": "Geography=British Columbia<br>Time=2016Q3<br>DelinquencyRate=%{x}<br>AverageMortgageAmount=%{y}<br>PopulationSize=%{marker.size}<extra></extra>",
           "ids": [
            "British Columbia"
           ],
           "legendgroup": "British Columbia",
           "marker": {
            "color": "#FECB52",
            "size": [
             4859250
            ],
            "sizemode": "area",
            "sizeref": 36835.035,
            "symbol": "circle"
           },
           "mode": "markers",
           "name": "British Columbia",
           "orientation": "v",
           "showlegend": true,
           "type": "scatter",
           "x": [
            0.26
           ],
           "xaxis": "x",
           "y": [
            395297
           ],
           "yaxis": "y"
          }
         ],
         "name": "2016Q3"
        },
        {
         "data": [
          {
           "hovertemplate": "Geography=Newfoundland<br>Time=2016Q4<br>DelinquencyRate=%{x}<br>AverageMortgageAmount=%{y}<br>PopulationSize=%{marker.size}<extra></extra>",
           "ids": [
            "Newfoundland"
           ],
           "legendgroup": "Newfoundland",
           "marker": {
            "color": "#636efa",
            "size": [
             529900
            ],
            "sizemode": "area",
            "sizeref": 36835.035,
            "symbol": "circle"
           },
           "mode": "markers",
           "name": "Newfoundland",
           "orientation": "v",
           "showlegend": true,
           "type": "scatter",
           "x": [
            0.46
           ],
           "xaxis": "x",
           "y": [
            197794
           ],
           "yaxis": "y"
          },
          {
           "hovertemplate": "Geography=Prince Edward Island<br>Time=2016Q4<br>DelinquencyRate=%{x}<br>AverageMortgageAmount=%{y}<br>PopulationSize=%{marker.size}<extra></extra>",
           "ids": [
            "Prince Edward Island"
           ],
           "legendgroup": "Prince Edward Island",
           "marker": {
            "color": "#EF553B",
            "size": [
             147936
            ],
            "sizemode": "area",
            "sizeref": 36835.035,
            "symbol": "circle"
           },
           "mode": "markers",
           "name": "Prince Edward Island",
           "orientation": "v",
           "showlegend": true,
           "type": "scatter",
           "x": [
            0.6
           ],
           "xaxis": "x",
           "y": [
            155799
           ],
           "yaxis": "y"
          },
          {
           "hovertemplate": "Geography=Nova Scotia<br>Time=2016Q4<br>DelinquencyRate=%{x}<br>AverageMortgageAmount=%{y}<br>PopulationSize=%{marker.size}<extra></extra>",
           "ids": [
            "Nova Scotia"
           ],
           "legendgroup": "Nova Scotia",
           "marker": {
            "color": "#00cc96",
            "size": [
             946030
            ],
            "sizemode": "area",
            "sizeref": 36835.035,
            "symbol": "circle"
           },
           "mode": "markers",
           "name": "Nova Scotia",
           "orientation": "v",
           "showlegend": true,
           "type": "scatter",
           "x": [
            0.75
           ],
           "xaxis": "x",
           "y": [
            173305
           ],
           "yaxis": "y"
          },
          {
           "hovertemplate": "Geography=New Brunswick<br>Time=2016Q4<br>DelinquencyRate=%{x}<br>AverageMortgageAmount=%{y}<br>PopulationSize=%{marker.size}<extra></extra>",
           "ids": [
            "New Brunswick"
           ],
           "legendgroup": "New Brunswick",
           "marker": {
            "color": "#ab63fa",
            "size": [
             764844
            ],
            "sizemode": "area",
            "sizeref": 36835.035,
            "symbol": "circle"
           },
           "mode": "markers",
           "name": "New Brunswick",
           "orientation": "v",
           "showlegend": true,
           "type": "scatter",
           "x": [
            0.79
           ],
           "xaxis": "x",
           "y": [
            140124
           ],
           "yaxis": "y"
          },
          {
           "hovertemplate": "Geography=Québec<br>Time=2016Q4<br>DelinquencyRate=%{x}<br>AverageMortgageAmount=%{y}<br>PopulationSize=%{marker.size}<extra></extra>",
           "ids": [
            "Québec"
           ],
           "legendgroup": "Québec",
           "marker": {
            "color": "#FFA15A",
            "size": [
             8249692
            ],
            "sizemode": "area",
            "sizeref": 36835.035,
            "symbol": "circle"
           },
           "mode": "markers",
           "name": "Québec",
           "orientation": "v",
           "showlegend": true,
           "type": "scatter",
           "x": [
            0.4
           ],
           "xaxis": "x",
           "y": [
            170309
           ],
           "yaxis": "y"
          },
          {
           "hovertemplate": "Geography=Ontario<br>Time=2016Q4<br>DelinquencyRate=%{x}<br>AverageMortgageAmount=%{y}<br>PopulationSize=%{marker.size}<extra></extra>",
           "ids": [
            "Ontario"
           ],
           "legendgroup": "Ontario",
           "marker": {
            "color": "#19d3f3",
            "size": [
             13946431
            ],
            "sizemode": "area",
            "sizeref": 36835.035,
            "symbol": "circle"
           },
           "mode": "markers",
           "name": "Ontario",
           "orientation": "v",
           "showlegend": true,
           "type": "scatter",
           "x": [
            0.19
           ],
           "xaxis": "x",
           "y": [
            310236
           ],
           "yaxis": "y"
          },
          {
           "hovertemplate": "Geography=Manitoba<br>Time=2016Q4<br>DelinquencyRate=%{x}<br>AverageMortgageAmount=%{y}<br>PopulationSize=%{marker.size}<extra></extra>",
           "ids": [
            "Manitoba"
           ],
           "legendgroup": "Manitoba",
           "marker": {
            "color": "#FF6692",
            "size": [
             1319911
            ],
            "sizemode": "area",
            "sizeref": 36835.035,
            "symbol": "circle"
           },
           "mode": "markers",
           "name": "Manitoba",
           "orientation": "v",
           "showlegend": true,
           "type": "scatter",
           "x": [
            0.35
           ],
           "xaxis": "x",
           "y": [
            206958
           ],
           "yaxis": "y"
          },
          {
           "hovertemplate": "Geography=Saskatchewan<br>Time=2016Q4<br>DelinquencyRate=%{x}<br>AverageMortgageAmount=%{y}<br>PopulationSize=%{marker.size}<extra></extra>",
           "ids": [
            "Saskatchewan"
           ],
           "legendgroup": "Saskatchewan",
           "marker": {
            "color": "#B6E880",
            "size": [
             1140690
            ],
            "sizemode": "area",
            "sizeref": 36835.035,
            "symbol": "circle"
           },
           "mode": "markers",
           "name": "Saskatchewan",
           "orientation": "v",
           "showlegend": true,
           "type": "scatter",
           "x": [
            0.62
           ],
           "xaxis": "x",
           "y": [
            232174
           ],
           "yaxis": "y"
          },
          {
           "hovertemplate": "Geography=Alberta<br>Time=2016Q4<br>DelinquencyRate=%{x}<br>AverageMortgageAmount=%{y}<br>PopulationSize=%{marker.size}<extra></extra>",
           "ids": [
            "Alberta"
           ],
           "legendgroup": "Alberta",
           "marker": {
            "color": "#FF97FF",
            "size": [
             4208958
            ],
            "sizemode": "area",
            "sizeref": 36835.035,
            "symbol": "circle"
           },
           "mode": "markers",
           "name": "Alberta",
           "orientation": "v",
           "showlegend": true,
           "type": "scatter",
           "x": [
            0.53
           ],
           "xaxis": "x",
           "y": [
            302095
           ],
           "yaxis": "y"
          },
          {
           "hovertemplate": "Geography=British Columbia<br>Time=2016Q4<br>DelinquencyRate=%{x}<br>AverageMortgageAmount=%{y}<br>PopulationSize=%{marker.size}<extra></extra>",
           "ids": [
            "British Columbia"
           ],
           "legendgroup": "British Columbia",
           "marker": {
            "color": "#FECB52",
            "size": [
             4884002
            ],
            "sizemode": "area",
            "sizeref": 36835.035,
            "symbol": "circle"
           },
           "mode": "markers",
           "name": "British Columbia",
           "orientation": "v",
           "showlegend": true,
           "type": "scatter",
           "x": [
            0.25
           ],
           "xaxis": "x",
           "y": [
            366703
           ],
           "yaxis": "y"
          }
         ],
         "name": "2016Q4"
        },
        {
         "data": [
          {
           "hovertemplate": "Geography=Newfoundland<br>Time=2017Q1<br>DelinquencyRate=%{x}<br>AverageMortgageAmount=%{y}<br>PopulationSize=%{marker.size}<extra></extra>",
           "ids": [
            "Newfoundland"
           ],
           "legendgroup": "Newfoundland",
           "marker": {
            "color": "#636efa",
            "size": [
             529347
            ],
            "sizemode": "area",
            "sizeref": 36835.035,
            "symbol": "circle"
           },
           "mode": "markers",
           "name": "Newfoundland",
           "orientation": "v",
           "showlegend": true,
           "type": "scatter",
           "x": [
            0.47
           ],
           "xaxis": "x",
           "y": [
            192057
           ],
           "yaxis": "y"
          },
          {
           "hovertemplate": "Geography=Prince Edward Island<br>Time=2017Q1<br>DelinquencyRate=%{x}<br>AverageMortgageAmount=%{y}<br>PopulationSize=%{marker.size}<extra></extra>",
           "ids": [
            "Prince Edward Island"
           ],
           "legendgroup": "Prince Edward Island",
           "marker": {
            "color": "#EF553B",
            "size": [
             148181
            ],
            "sizemode": "area",
            "sizeref": 36835.035,
            "symbol": "circle"
           },
           "mode": "markers",
           "name": "Prince Edward Island",
           "orientation": "v",
           "showlegend": true,
           "type": "scatter",
           "x": [
            0.66
           ],
           "xaxis": "x",
           "y": [
            175124
           ],
           "yaxis": "y"
          },
          {
           "hovertemplate": "Geography=Nova Scotia<br>Time=2017Q1<br>DelinquencyRate=%{x}<br>AverageMortgageAmount=%{y}<br>PopulationSize=%{marker.size}<extra></extra>",
           "ids": [
            "Nova Scotia"
           ],
           "legendgroup": "Nova Scotia",
           "marker": {
            "color": "#00cc96",
            "size": [
             945943
            ],
            "sizemode": "area",
            "sizeref": 36835.035,
            "symbol": "circle"
           },
           "mode": "markers",
           "name": "Nova Scotia",
           "orientation": "v",
           "showlegend": true,
           "type": "scatter",
           "x": [
            0.7
           ],
           "xaxis": "x",
           "y": [
            186024
           ],
           "yaxis": "y"
          },
          {
           "hovertemplate": "Geography=New Brunswick<br>Time=2017Q1<br>DelinquencyRate=%{x}<br>AverageMortgageAmount=%{y}<br>PopulationSize=%{marker.size}<extra></extra>",
           "ids": [
            "New Brunswick"
           ],
           "legendgroup": "New Brunswick",
           "marker": {
            "color": "#ab63fa",
            "size": [
             764617
            ],
            "sizemode": "area",
            "sizeref": 36835.035,
            "symbol": "circle"
           },
           "mode": "markers",
           "name": "New Brunswick",
           "orientation": "v",
           "showlegend": true,
           "type": "scatter",
           "x": [
            0.78
           ],
           "xaxis": "x",
           "y": [
            141196
           ],
           "yaxis": "y"
          },
          {
           "hovertemplate": "Geography=Québec<br>Time=2017Q1<br>DelinquencyRate=%{x}<br>AverageMortgageAmount=%{y}<br>PopulationSize=%{marker.size}<extra></extra>",
           "ids": [
            "Québec"
           ],
           "legendgroup": "Québec",
           "marker": {
            "color": "#FFA15A",
            "size": [
             8257450
            ],
            "sizemode": "area",
            "sizeref": 36835.035,
            "symbol": "circle"
           },
           "mode": "markers",
           "name": "Québec",
           "orientation": "v",
           "showlegend": true,
           "type": "scatter",
           "x": [
            0.41
           ],
           "xaxis": "x",
           "y": [
            171992
           ],
           "yaxis": "y"
          },
          {
           "hovertemplate": "Geography=Ontario<br>Time=2017Q1<br>DelinquencyRate=%{x}<br>AverageMortgageAmount=%{y}<br>PopulationSize=%{marker.size}<extra></extra>",
           "ids": [
            "Ontario"
           ],
           "legendgroup": "Ontario",
           "marker": {
            "color": "#19d3f3",
            "size": [
             13971785
            ],
            "sizemode": "area",
            "sizeref": 36835.035,
            "symbol": "circle"
           },
           "mode": "markers",
           "name": "Ontario",
           "orientation": "v",
           "showlegend": true,
           "type": "scatter",
           "x": [
            0.18
           ],
           "xaxis": "x",
           "y": [
            319009
           ],
           "yaxis": "y"
          },
          {
           "hovertemplate": "Geography=Manitoba<br>Time=2017Q1<br>DelinquencyRate=%{x}<br>AverageMortgageAmount=%{y}<br>PopulationSize=%{marker.size}<extra></extra>",
           "ids": [
            "Manitoba"
           ],
           "legendgroup": "Manitoba",
           "marker": {
            "color": "#FF6692",
            "size": [
             1324129
            ],
            "sizemode": "area",
            "sizeref": 36835.035,
            "symbol": "circle"
           },
           "mode": "markers",
           "name": "Manitoba",
           "orientation": "v",
           "showlegend": true,
           "type": "scatter",
           "x": [
            0.36
           ],
           "xaxis": "x",
           "y": [
            203999
           ],
           "yaxis": "y"
          },
          {
           "hovertemplate": "Geography=Saskatchewan<br>Time=2017Q1<br>DelinquencyRate=%{x}<br>AverageMortgageAmount=%{y}<br>PopulationSize=%{marker.size}<extra></extra>",
           "ids": [
            "Saskatchewan"
           ],
           "legendgroup": "Saskatchewan",
           "marker": {
            "color": "#B6E880",
            "size": [
             1143313
            ],
            "sizemode": "area",
            "sizeref": 36835.035,
            "symbol": "circle"
           },
           "mode": "markers",
           "name": "Saskatchewan",
           "orientation": "v",
           "showlegend": true,
           "type": "scatter",
           "x": [
            0.62
           ],
           "xaxis": "x",
           "y": [
            234786
           ],
           "yaxis": "y"
          },
          {
           "hovertemplate": "Geography=Alberta<br>Time=2017Q1<br>DelinquencyRate=%{x}<br>AverageMortgageAmount=%{y}<br>PopulationSize=%{marker.size}<extra></extra>",
           "ids": [
            "Alberta"
           ],
           "legendgroup": "Alberta",
           "marker": {
            "color": "#FF97FF",
            "size": [
             4217855
            ],
            "sizemode": "area",
            "sizeref": 36835.035,
            "symbol": "circle"
           },
           "mode": "markers",
           "name": "Alberta",
           "orientation": "v",
           "showlegend": true,
           "type": "scatter",
           "x": [
            0.54
           ],
           "xaxis": "x",
           "y": [
            301254
           ],
           "yaxis": "y"
          },
          {
           "hovertemplate": "Geography=British Columbia<br>Time=2017Q1<br>DelinquencyRate=%{x}<br>AverageMortgageAmount=%{y}<br>PopulationSize=%{marker.size}<extra></extra>",
           "ids": [
            "British Columbia"
           ],
           "legendgroup": "British Columbia",
           "marker": {
            "color": "#FECB52",
            "size": [
             4890848
            ],
            "sizemode": "area",
            "sizeref": 36835.035,
            "symbol": "circle"
           },
           "mode": "markers",
           "name": "British Columbia",
           "orientation": "v",
           "showlegend": true,
           "type": "scatter",
           "x": [
            0.23
           ],
           "xaxis": "x",
           "y": [
            358655
           ],
           "yaxis": "y"
          }
         ],
         "name": "2017Q1"
        },
        {
         "data": [
          {
           "hovertemplate": "Geography=Newfoundland<br>Time=2017Q2<br>DelinquencyRate=%{x}<br>AverageMortgageAmount=%{y}<br>PopulationSize=%{marker.size}<extra></extra>",
           "ids": [
            "Newfoundland"
           ],
           "legendgroup": "Newfoundland",
           "marker": {
            "color": "#636efa",
            "size": [
             528544
            ],
            "sizemode": "area",
            "sizeref": 36835.035,
            "symbol": "circle"
           },
           "mode": "markers",
           "name": "Newfoundland",
           "orientation": "v",
           "showlegend": true,
           "type": "scatter",
           "x": [
            0.47
           ],
           "xaxis": "x",
           "y": [
            191412
           ],
           "yaxis": "y"
          },
          {
           "hovertemplate": "Geography=Prince Edward Island<br>Time=2017Q2<br>DelinquencyRate=%{x}<br>AverageMortgageAmount=%{y}<br>PopulationSize=%{marker.size}<extra></extra>",
           "ids": [
            "Prince Edward Island"
           ],
           "legendgroup": "Prince Edward Island",
           "marker": {
            "color": "#EF553B",
            "size": [
             148860
            ],
            "sizemode": "area",
            "sizeref": 36835.035,
            "symbol": "circle"
           },
           "mode": "markers",
           "name": "Prince Edward Island",
           "orientation": "v",
           "showlegend": true,
           "type": "scatter",
           "x": [
            0.55
           ],
           "xaxis": "x",
           "y": [
            174901
           ],
           "yaxis": "y"
          },
          {
           "hovertemplate": "Geography=Nova Scotia<br>Time=2017Q2<br>DelinquencyRate=%{x}<br>AverageMortgageAmount=%{y}<br>PopulationSize=%{marker.size}<extra></extra>",
           "ids": [
            "Nova Scotia"
           ],
           "legendgroup": "Nova Scotia",
           "marker": {
            "color": "#00cc96",
            "size": [
             947384
            ],
            "sizemode": "area",
            "sizeref": 36835.035,
            "symbol": "circle"
           },
           "mode": "markers",
           "name": "Nova Scotia",
           "orientation": "v",
           "showlegend": true,
           "type": "scatter",
           "x": [
            0.64
           ],
           "xaxis": "x",
           "y": [
            182526
           ],
           "yaxis": "y"
          },
          {
           "hovertemplate": "Geography=New Brunswick<br>Time=2017Q2<br>DelinquencyRate=%{x}<br>AverageMortgageAmount=%{y}<br>PopulationSize=%{marker.size}<extra></extra>",
           "ids": [
            "New Brunswick"
           ],
           "legendgroup": "New Brunswick",
           "marker": {
            "color": "#ab63fa",
            "size": [
             764813
            ],
            "sizemode": "area",
            "sizeref": 36835.035,
            "symbol": "circle"
           },
           "mode": "markers",
           "name": "New Brunswick",
           "orientation": "v",
           "showlegend": true,
           "type": "scatter",
           "x": [
            0.73
           ],
           "xaxis": "x",
           "y": [
            135748
           ],
           "yaxis": "y"
          },
          {
           "hovertemplate": "Geography=Québec<br>Time=2017Q2<br>DelinquencyRate=%{x}<br>AverageMortgageAmount=%{y}<br>PopulationSize=%{marker.size}<extra></extra>",
           "ids": [
            "Québec"
           ],
           "legendgroup": "Québec",
           "marker": {
            "color": "#FFA15A",
            "size": [
             8272894
            ],
            "sizemode": "area",
            "sizeref": 36835.035,
            "symbol": "circle"
           },
           "mode": "markers",
           "name": "Québec",
           "orientation": "v",
           "showlegend": true,
           "type": "scatter",
           "x": [
            0.4
           ],
           "xaxis": "x",
           "y": [
            171716
           ],
           "yaxis": "y"
          },
          {
           "hovertemplate": "Geography=Ontario<br>Time=2017Q2<br>DelinquencyRate=%{x}<br>AverageMortgageAmount=%{y}<br>PopulationSize=%{marker.size}<extra></extra>",
           "ids": [
            "Ontario"
           ],
           "legendgroup": "Ontario",
           "marker": {
            "color": "#19d3f3",
            "size": [
             14006386
            ],
            "sizemode": "area",
            "sizeref": 36835.035,
            "symbol": "circle"
           },
           "mode": "markers",
           "name": "Ontario",
           "orientation": "v",
           "showlegend": true,
           "type": "scatter",
           "x": [
            0.16
           ],
           "xaxis": "x",
           "y": [
            326645
           ],
           "yaxis": "y"
          },
          {
           "hovertemplate": "Geography=Manitoba<br>Time=2017Q2<br>DelinquencyRate=%{x}<br>AverageMortgageAmount=%{y}<br>PopulationSize=%{marker.size}<extra></extra>",
           "ids": [
            "Manitoba"
           ],
           "legendgroup": "Manitoba",
           "marker": {
            "color": "#FF6692",
            "size": [
             1328412
            ],
            "sizemode": "area",
            "sizeref": 36835.035,
            "symbol": "circle"
           },
           "mode": "markers",
           "name": "Manitoba",
           "orientation": "v",
           "showlegend": true,
           "type": "scatter",
           "x": [
            0.35
           ],
           "xaxis": "x",
           "y": [
            205085
           ],
           "yaxis": "y"
          },
          {
           "hovertemplate": "Geography=Saskatchewan<br>Time=2017Q2<br>DelinquencyRate=%{x}<br>AverageMortgageAmount=%{y}<br>PopulationSize=%{marker.size}<extra></extra>",
           "ids": [
            "Saskatchewan"
           ],
           "legendgroup": "Saskatchewan",
           "marker": {
            "color": "#B6E880",
            "size": [
             1146218
            ],
            "sizemode": "area",
            "sizeref": 36835.035,
            "symbol": "circle"
           },
           "mode": "markers",
           "name": "Saskatchewan",
           "orientation": "v",
           "showlegend": true,
           "type": "scatter",
           "x": [
            0.66
           ],
           "xaxis": "x",
           "y": [
            233545
           ],
           "yaxis": "y"
          },
          {
           "hovertemplate": "Geography=Alberta<br>Time=2017Q2<br>DelinquencyRate=%{x}<br>AverageMortgageAmount=%{y}<br>PopulationSize=%{marker.size}<extra></extra>",
           "ids": [
            "Alberta"
           ],
           "legendgroup": "Alberta",
           "marker": {
            "color": "#FF97FF",
            "size": [
             4227969
            ],
            "sizemode": "area",
            "sizeref": 36835.035,
            "symbol": "circle"
           },
           "mode": "markers",
           "name": "Alberta",
           "orientation": "v",
           "showlegend": true,
           "type": "scatter",
           "x": [
            0.52
           ],
           "xaxis": "x",
           "y": [
            300115
           ],
           "yaxis": "y"
          },
          {
           "hovertemplate": "Geography=British Columbia<br>Time=2017Q2<br>DelinquencyRate=%{x}<br>AverageMortgageAmount=%{y}<br>PopulationSize=%{marker.size}<extra></extra>",
           "ids": [
            "British Columbia"
           ],
           "legendgroup": "British Columbia",
           "marker": {
            "color": "#FECB52",
            "size": [
             4905210
            ],
            "sizemode": "area",
            "sizeref": 36835.035,
            "symbol": "circle"
           },
           "mode": "markers",
           "name": "British Columbia",
           "orientation": "v",
           "showlegend": true,
           "type": "scatter",
           "x": [
            0.2
           ],
           "xaxis": "x",
           "y": [
            369174
           ],
           "yaxis": "y"
          }
         ],
         "name": "2017Q2"
        },
        {
         "data": [
          {
           "hovertemplate": "Geography=Newfoundland<br>Time=2017Q3<br>DelinquencyRate=%{x}<br>AverageMortgageAmount=%{y}<br>PopulationSize=%{marker.size}<extra></extra>",
           "ids": [
            "Newfoundland"
           ],
           "legendgroup": "Newfoundland",
           "marker": {
            "color": "#636efa",
            "size": [
             528249
            ],
            "sizemode": "area",
            "sizeref": 36835.035,
            "symbol": "circle"
           },
           "mode": "markers",
           "name": "Newfoundland",
           "orientation": "v",
           "showlegend": true,
           "type": "scatter",
           "x": [
            0.46
           ],
           "xaxis": "x",
           "y": [
            200378
           ],
           "yaxis": "y"
          },
          {
           "hovertemplate": "Geography=Prince Edward Island<br>Time=2017Q3<br>DelinquencyRate=%{x}<br>AverageMortgageAmount=%{y}<br>PopulationSize=%{marker.size}<extra></extra>",
           "ids": [
            "Prince Edward Island"
           ],
           "legendgroup": "Prince Edward Island",
           "marker": {
            "color": "#EF553B",
            "size": [
             150402
            ],
            "sizemode": "area",
            "sizeref": 36835.035,
            "symbol": "circle"
           },
           "mode": "markers",
           "name": "Prince Edward Island",
           "orientation": "v",
           "showlegend": true,
           "type": "scatter",
           "x": [
            0.54
           ],
           "xaxis": "x",
           "y": [
            176919
           ],
           "yaxis": "y"
          },
          {
           "hovertemplate": "Geography=Nova Scotia<br>Time=2017Q3<br>DelinquencyRate=%{x}<br>AverageMortgageAmount=%{y}<br>PopulationSize=%{marker.size}<extra></extra>",
           "ids": [
            "Nova Scotia"
           ],
           "legendgroup": "Nova Scotia",
           "marker": {
            "color": "#00cc96",
            "size": [
             950108
            ],
            "sizemode": "area",
            "sizeref": 36835.035,
            "symbol": "circle"
           },
           "mode": "markers",
           "name": "Nova Scotia",
           "orientation": "v",
           "showlegend": true,
           "type": "scatter",
           "x": [
            0.6
           ],
           "xaxis": "x",
           "y": [
            194802
           ],
           "yaxis": "y"
          },
          {
           "hovertemplate": "Geography=New Brunswick<br>Time=2017Q3<br>DelinquencyRate=%{x}<br>AverageMortgageAmount=%{y}<br>PopulationSize=%{marker.size}<extra></extra>",
           "ids": [
            "New Brunswick"
           ],
           "legendgroup": "New Brunswick",
           "marker": {
            "color": "#ab63fa",
            "size": [
             766621
            ],
            "sizemode": "area",
            "sizeref": 36835.035,
            "symbol": "circle"
           },
           "mode": "markers",
           "name": "New Brunswick",
           "orientation": "v",
           "showlegend": true,
           "type": "scatter",
           "x": [
            0.71
           ],
           "xaxis": "x",
           "y": [
            147934
           ],
           "yaxis": "y"
          },
          {
           "hovertemplate": "Geography=Québec<br>Time=2017Q3<br>DelinquencyRate=%{x}<br>AverageMortgageAmount=%{y}<br>PopulationSize=%{marker.size}<extra></extra>",
           "ids": [
            "Québec"
           ],
           "legendgroup": "Québec",
           "marker": {
            "color": "#FFA15A",
            "size": [
             8302063
            ],
            "sizemode": "area",
            "sizeref": 36835.035,
            "symbol": "circle"
           },
           "mode": "markers",
           "name": "Québec",
           "orientation": "v",
           "showlegend": true,
           "type": "scatter",
           "x": [
            0.37
           ],
           "xaxis": "x",
           "y": [
            177306
           ],
           "yaxis": "y"
          },
          {
           "hovertemplate": "Geography=Ontario<br>Time=2017Q3<br>DelinquencyRate=%{x}<br>AverageMortgageAmount=%{y}<br>PopulationSize=%{marker.size}<extra></extra>",
           "ids": [
            "Ontario"
           ],
           "legendgroup": "Ontario",
           "marker": {
            "color": "#19d3f3",
            "size": [
             14070141
            ],
            "sizemode": "area",
            "sizeref": 36835.035,
            "symbol": "circle"
           },
           "mode": "markers",
           "name": "Ontario",
           "orientation": "v",
           "showlegend": true,
           "type": "scatter",
           "x": [
            0.16
           ],
           "xaxis": "x",
           "y": [
            338561
           ],
           "yaxis": "y"
          },
          {
           "hovertemplate": "Geography=Manitoba<br>Time=2017Q3<br>DelinquencyRate=%{x}<br>AverageMortgageAmount=%{y}<br>PopulationSize=%{marker.size}<extra></extra>",
           "ids": [
            "Manitoba"
           ],
           "legendgroup": "Manitoba",
           "marker": {
            "color": "#FF6692",
            "size": [
             1334790
            ],
            "sizemode": "area",
            "sizeref": 36835.035,
            "symbol": "circle"
           },
           "mode": "markers",
           "name": "Manitoba",
           "orientation": "v",
           "showlegend": true,
           "type": "scatter",
           "x": [
            0.33
           ],
           "xaxis": "x",
           "y": [
            216750
           ],
           "yaxis": "y"
          },
          {
           "hovertemplate": "Geography=Saskatchewan<br>Time=2017Q3<br>DelinquencyRate=%{x}<br>AverageMortgageAmount=%{y}<br>PopulationSize=%{marker.size}<extra></extra>",
           "ids": [
            "Saskatchewan"
           ],
           "legendgroup": "Saskatchewan",
           "marker": {
            "color": "#B6E880",
            "size": [
             1150331
            ],
            "sizemode": "area",
            "sizeref": 36835.035,
            "symbol": "circle"
           },
           "mode": "markers",
           "name": "Saskatchewan",
           "orientation": "v",
           "showlegend": true,
           "type": "scatter",
           "x": [
            0.65
           ],
           "xaxis": "x",
           "y": [
            238533
           ],
           "yaxis": "y"
          },
          {
           "hovertemplate": "Geography=Alberta<br>Time=2017Q3<br>DelinquencyRate=%{x}<br>AverageMortgageAmount=%{y}<br>PopulationSize=%{marker.size}<extra></extra>",
           "ids": [
            "Alberta"
           ],
           "legendgroup": "Alberta",
           "marker": {
            "color": "#FF97FF",
            "size": [
             4241100
            ],
            "sizemode": "area",
            "sizeref": 36835.035,
            "symbol": "circle"
           },
           "mode": "markers",
           "name": "Alberta",
           "orientation": "v",
           "showlegend": true,
           "type": "scatter",
           "x": [
            0.51
           ],
           "xaxis": "x",
           "y": [
            307837
           ],
           "yaxis": "y"
          },
          {
           "hovertemplate": "Geography=British Columbia<br>Time=2017Q3<br>DelinquencyRate=%{x}<br>AverageMortgageAmount=%{y}<br>PopulationSize=%{marker.size}<extra></extra>",
           "ids": [
            "British Columbia"
           ],
           "legendgroup": "British Columbia",
           "marker": {
            "color": "#FECB52",
            "size": [
             4929384
            ],
            "sizemode": "area",
            "sizeref": 36835.035,
            "symbol": "circle"
           },
           "mode": "markers",
           "name": "British Columbia",
           "orientation": "v",
           "showlegend": true,
           "type": "scatter",
           "x": [
            0.18
           ],
           "xaxis": "x",
           "y": [
            389430
           ],
           "yaxis": "y"
          }
         ],
         "name": "2017Q3"
        },
        {
         "data": [
          {
           "hovertemplate": "Geography=Newfoundland<br>Time=2017Q4<br>DelinquencyRate=%{x}<br>AverageMortgageAmount=%{y}<br>PopulationSize=%{marker.size}<extra></extra>",
           "ids": [
            "Newfoundland"
           ],
           "legendgroup": "Newfoundland",
           "marker": {
            "color": "#636efa",
            "size": [
             528288
            ],
            "sizemode": "area",
            "sizeref": 36835.035,
            "symbol": "circle"
           },
           "mode": "markers",
           "name": "Newfoundland",
           "orientation": "v",
           "showlegend": true,
           "type": "scatter",
           "x": [
            0.52
           ],
           "xaxis": "x",
           "y": [
            193619
           ],
           "yaxis": "y"
          },
          {
           "hovertemplate": "Geography=Prince Edward Island<br>Time=2017Q4<br>DelinquencyRate=%{x}<br>AverageMortgageAmount=%{y}<br>PopulationSize=%{marker.size}<extra></extra>",
           "ids": [
            "Prince Edward Island"
           ],
           "legendgroup": "Prince Edward Island",
           "marker": {
            "color": "#EF553B",
            "size": [
             151376
            ],
            "sizemode": "area",
            "sizeref": 36835.035,
            "symbol": "circle"
           },
           "mode": "markers",
           "name": "Prince Edward Island",
           "orientation": "v",
           "showlegend": true,
           "type": "scatter",
           "x": [
            0.44
           ],
           "xaxis": "x",
           "y": [
            175523
           ],
           "yaxis": "y"
          },
          {
           "hovertemplate": "Geography=Nova Scotia<br>Time=2017Q4<br>DelinquencyRate=%{x}<br>AverageMortgageAmount=%{y}<br>PopulationSize=%{marker.size}<extra></extra>",
           "ids": [
            "Nova Scotia"
           ],
           "legendgroup": "Nova Scotia",
           "marker": {
            "color": "#00cc96",
            "size": [
             953683
            ],
            "sizemode": "area",
            "sizeref": 36835.035,
            "symbol": "circle"
           },
           "mode": "markers",
           "name": "Nova Scotia",
           "orientation": "v",
           "showlegend": true,
           "type": "scatter",
           "x": [
            0.58
           ],
           "xaxis": "x",
           "y": [
            188559
           ],
           "yaxis": "y"
          },
          {
           "hovertemplate": "Geography=New Brunswick<br>Time=2017Q4<br>DelinquencyRate=%{x}<br>AverageMortgageAmount=%{y}<br>PopulationSize=%{marker.size}<extra></extra>",
           "ids": [
            "New Brunswick"
           ],
           "legendgroup": "New Brunswick",
           "marker": {
            "color": "#ab63fa",
            "size": [
             767935
            ],
            "sizemode": "area",
            "sizeref": 36835.035,
            "symbol": "circle"
           },
           "mode": "markers",
           "name": "New Brunswick",
           "orientation": "v",
           "showlegend": true,
           "type": "scatter",
           "x": [
            0.66
           ],
           "xaxis": "x",
           "y": [
            142799
           ],
           "yaxis": "y"
          },
          {
           "hovertemplate": "Geography=Québec<br>Time=2017Q4<br>DelinquencyRate=%{x}<br>AverageMortgageAmount=%{y}<br>PopulationSize=%{marker.size}<extra></extra>",
           "ids": [
            "Québec"
           ],
           "legendgroup": "Québec",
           "marker": {
            "color": "#FFA15A",
            "size": [
             8336460
            ],
            "sizemode": "area",
            "sizeref": 36835.035,
            "symbol": "circle"
           },
           "mode": "markers",
           "name": "Québec",
           "orientation": "v",
           "showlegend": true,
           "type": "scatter",
           "x": [
            0.34
           ],
           "xaxis": "x",
           "y": [
            173182
           ],
           "yaxis": "y"
          },
          {
           "hovertemplate": "Geography=Ontario<br>Time=2017Q4<br>DelinquencyRate=%{x}<br>AverageMortgageAmount=%{y}<br>PopulationSize=%{marker.size}<extra></extra>",
           "ids": [
            "Ontario"
           ],
           "legendgroup": "Ontario",
           "marker": {
            "color": "#19d3f3",
            "size": [
             14150783
            ],
            "sizemode": "area",
            "sizeref": 36835.035,
            "symbol": "circle"
           },
           "mode": "markers",
           "name": "Ontario",
           "orientation": "v",
           "showlegend": true,
           "type": "scatter",
           "x": [
            0.15
           ],
           "xaxis": "x",
           "y": [
            323821
           ],
           "yaxis": "y"
          },
          {
           "hovertemplate": "Geography=Manitoba<br>Time=2017Q4<br>DelinquencyRate=%{x}<br>AverageMortgageAmount=%{y}<br>PopulationSize=%{marker.size}<extra></extra>",
           "ids": [
            "Manitoba"
           ],
           "legendgroup": "Manitoba",
           "marker": {
            "color": "#FF6692",
            "size": [
             1340565
            ],
            "sizemode": "area",
            "sizeref": 36835.035,
            "symbol": "circle"
           },
           "mode": "markers",
           "name": "Manitoba",
           "orientation": "v",
           "showlegend": true,
           "type": "scatter",
           "x": [
            0.3
           ],
           "xaxis": "x",
           "y": [
            217136
           ],
           "yaxis": "y"
          },
          {
           "hovertemplate": "Geography=Saskatchewan<br>Time=2017Q4<br>DelinquencyRate=%{x}<br>AverageMortgageAmount=%{y}<br>PopulationSize=%{marker.size}<extra></extra>",
           "ids": [
            "Saskatchewan"
           ],
           "legendgroup": "Saskatchewan",
           "marker": {
            "color": "#B6E880",
            "size": [
             1154755
            ],
            "sizemode": "area",
            "sizeref": 36835.035,
            "symbol": "circle"
           },
           "mode": "markers",
           "name": "Saskatchewan",
           "orientation": "v",
           "showlegend": true,
           "type": "scatter",
           "x": [
            0.66
           ],
           "xaxis": "x",
           "y": [
            234340
           ],
           "yaxis": "y"
          },
          {
           "hovertemplate": "Geography=Alberta<br>Time=2017Q4<br>DelinquencyRate=%{x}<br>AverageMortgageAmount=%{y}<br>PopulationSize=%{marker.size}<extra></extra>",
           "ids": [
            "Alberta"
           ],
           "legendgroup": "Alberta",
           "marker": {
            "color": "#FF97FF",
            "size": [
             4258195
            ],
            "sizemode": "area",
            "sizeref": 36835.035,
            "symbol": "circle"
           },
           "mode": "markers",
           "name": "Alberta",
           "orientation": "v",
           "showlegend": true,
           "type": "scatter",
           "x": [
            0.5
           ],
           "xaxis": "x",
           "y": [
            307662
           ],
           "yaxis": "y"
          },
          {
           "hovertemplate": "Geography=British Columbia<br>Time=2017Q4<br>DelinquencyRate=%{x}<br>AverageMortgageAmount=%{y}<br>PopulationSize=%{marker.size}<extra></extra>",
           "ids": [
            "British Columbia"
           ],
           "legendgroup": "British Columbia",
           "marker": {
            "color": "#FECB52",
            "size": [
             4956550
            ],
            "sizemode": "area",
            "sizeref": 36835.035,
            "symbol": "circle"
           },
           "mode": "markers",
           "name": "British Columbia",
           "orientation": "v",
           "showlegend": true,
           "type": "scatter",
           "x": [
            0.18
           ],
           "xaxis": "x",
           "y": [
            381223
           ],
           "yaxis": "y"
          }
         ],
         "name": "2017Q4"
        },
        {
         "data": [
          {
           "hovertemplate": "Geography=Newfoundland<br>Time=2018Q1<br>DelinquencyRate=%{x}<br>AverageMortgageAmount=%{y}<br>PopulationSize=%{marker.size}<extra></extra>",
           "ids": [
            "Newfoundland"
           ],
           "legendgroup": "Newfoundland",
           "marker": {
            "color": "#636efa",
            "size": [
             527544
            ],
            "sizemode": "area",
            "sizeref": 36835.035,
            "symbol": "circle"
           },
           "mode": "markers",
           "name": "Newfoundland",
           "orientation": "v",
           "showlegend": true,
           "type": "scatter",
           "x": [
            0.56
           ],
           "xaxis": "x",
           "y": [
            196431
           ],
           "yaxis": "y"
          },
          {
           "hovertemplate": "Geography=Prince Edward Island<br>Time=2018Q1<br>DelinquencyRate=%{x}<br>AverageMortgageAmount=%{y}<br>PopulationSize=%{marker.size}<extra></extra>",
           "ids": [
            "Prince Edward Island"
           ],
           "legendgroup": "Prince Edward Island",
           "marker": {
            "color": "#EF553B",
            "size": [
             151516
            ],
            "sizemode": "area",
            "sizeref": 36835.035,
            "symbol": "circle"
           },
           "mode": "markers",
           "name": "Prince Edward Island",
           "orientation": "v",
           "showlegend": true,
           "type": "scatter",
           "x": [
            0.5
           ],
           "xaxis": "x",
           "y": [
            179179
           ],
           "yaxis": "y"
          },
          {
           "hovertemplate": "Geography=Nova Scotia<br>Time=2018Q1<br>DelinquencyRate=%{x}<br>AverageMortgageAmount=%{y}<br>PopulationSize=%{marker.size}<extra></extra>",
           "ids": [
            "Nova Scotia"
           ],
           "legendgroup": "Nova Scotia",
           "marker": {
            "color": "#00cc96",
            "size": [
             953838
            ],
            "sizemode": "area",
            "sizeref": 36835.035,
            "symbol": "circle"
           },
           "mode": "markers",
           "name": "Nova Scotia",
           "orientation": "v",
           "showlegend": true,
           "type": "scatter",
           "x": [
            0.59
           ],
           "xaxis": "x",
           "y": [
            185858
           ],
           "yaxis": "y"
          },
          {
           "hovertemplate": "Geography=New Brunswick<br>Time=2018Q1<br>DelinquencyRate=%{x}<br>AverageMortgageAmount=%{y}<br>PopulationSize=%{marker.size}<extra></extra>",
           "ids": [
            "New Brunswick"
           ],
           "legendgroup": "New Brunswick",
           "marker": {
            "color": "#ab63fa",
            "size": [
             768005
            ],
            "sizemode": "area",
            "sizeref": 36835.035,
            "symbol": "circle"
           },
           "mode": "markers",
           "name": "New Brunswick",
           "orientation": "v",
           "showlegend": true,
           "type": "scatter",
           "x": [
            0.65
           ],
           "xaxis": "x",
           "y": [
            139711
           ],
           "yaxis": "y"
          },
          {
           "hovertemplate": "Geography=Québec<br>Time=2018Q1<br>DelinquencyRate=%{x}<br>AverageMortgageAmount=%{y}<br>PopulationSize=%{marker.size}<extra></extra>",
           "ids": [
            "Québec"
           ],
           "legendgroup": "Québec",
           "marker": {
            "color": "#FFA15A",
            "size": [
             8350601
            ],
            "sizemode": "area",
            "sizeref": 36835.035,
            "symbol": "circle"
           },
           "mode": "markers",
           "name": "Québec",
           "orientation": "v",
           "showlegend": true,
           "type": "scatter",
           "x": [
            0.34
           ],
           "xaxis": "x",
           "y": [
            175297
           ],
           "yaxis": "y"
          },
          {
           "hovertemplate": "Geography=Ontario<br>Time=2018Q1<br>DelinquencyRate=%{x}<br>AverageMortgageAmount=%{y}<br>PopulationSize=%{marker.size}<extra></extra>",
           "ids": [
            "Ontario"
           ],
           "legendgroup": "Ontario",
           "marker": {
            "color": "#19d3f3",
            "size": [
             14186830
            ],
            "sizemode": "area",
            "sizeref": 36835.035,
            "symbol": "circle"
           },
           "mode": "markers",
           "name": "Ontario",
           "orientation": "v",
           "showlegend": true,
           "type": "scatter",
           "x": [
            0.15
           ],
           "xaxis": "x",
           "y": [
            322179
           ],
           "yaxis": "y"
          },
          {
           "hovertemplate": "Geography=Manitoba<br>Time=2018Q1<br>DelinquencyRate=%{x}<br>AverageMortgageAmount=%{y}<br>PopulationSize=%{marker.size}<extra></extra>",
           "ids": [
            "Manitoba"
           ],
           "legendgroup": "Manitoba",
           "marker": {
            "color": "#FF6692",
            "size": [
             1344418
            ],
            "sizemode": "area",
            "sizeref": 36835.035,
            "symbol": "circle"
           },
           "mode": "markers",
           "name": "Manitoba",
           "orientation": "v",
           "showlegend": true,
           "type": "scatter",
           "x": [
            0.3
           ],
           "xaxis": "x",
           "y": [
            207988
           ],
           "yaxis": "y"
          },
          {
           "hovertemplate": "Geography=Saskatchewan<br>Time=2018Q1<br>DelinquencyRate=%{x}<br>AverageMortgageAmount=%{y}<br>PopulationSize=%{marker.size}<extra></extra>",
           "ids": [
            "Saskatchewan"
           ],
           "legendgroup": "Saskatchewan",
           "marker": {
            "color": "#B6E880",
            "size": [
             1156659
            ],
            "sizemode": "area",
            "sizeref": 36835.035,
            "symbol": "circle"
           },
           "mode": "markers",
           "name": "Saskatchewan",
           "orientation": "v",
           "showlegend": true,
           "type": "scatter",
           "x": [
            0.66
           ],
           "xaxis": "x",
           "y": [
            230702
           ],
           "yaxis": "y"
          },
          {
           "hovertemplate": "Geography=Alberta<br>Time=2018Q1<br>DelinquencyRate=%{x}<br>AverageMortgageAmount=%{y}<br>PopulationSize=%{marker.size}<extra></extra>",
           "ids": [
            "Alberta"
           ],
           "legendgroup": "Alberta",
           "marker": {
            "color": "#FF97FF",
            "size": [
             4268853
            ],
            "sizemode": "area",
            "sizeref": 36835.035,
            "symbol": "circle"
           },
           "mode": "markers",
           "name": "Alberta",
           "orientation": "v",
           "showlegend": true,
           "type": "scatter",
           "x": [
            0.5
           ],
           "xaxis": "x",
           "y": [
            302814
           ],
           "yaxis": "y"
          },
          {
           "hovertemplate": "Geography=British Columbia<br>Time=2018Q1<br>DelinquencyRate=%{x}<br>AverageMortgageAmount=%{y}<br>PopulationSize=%{marker.size}<extra></extra>",
           "ids": [
            "British Columbia"
           ],
           "legendgroup": "British Columbia",
           "marker": {
            "color": "#FECB52",
            "size": [
             4967421
            ],
            "sizemode": "area",
            "sizeref": 36835.035,
            "symbol": "circle"
           },
           "mode": "markers",
           "name": "British Columbia",
           "orientation": "v",
           "showlegend": true,
           "type": "scatter",
           "x": [
            0.17
           ],
           "xaxis": "x",
           "y": [
            384794
           ],
           "yaxis": "y"
          }
         ],
         "name": "2018Q1"
        },
        {
         "data": [
          {
           "hovertemplate": "Geography=Newfoundland<br>Time=2018Q2<br>DelinquencyRate=%{x}<br>AverageMortgageAmount=%{y}<br>PopulationSize=%{marker.size}<extra></extra>",
           "ids": [
            "Newfoundland"
           ],
           "legendgroup": "Newfoundland",
           "marker": {
            "color": "#636efa",
            "size": [
             526395
            ],
            "sizemode": "area",
            "sizeref": 36835.035,
            "symbol": "circle"
           },
           "mode": "markers",
           "name": "Newfoundland",
           "orientation": "v",
           "showlegend": true,
           "type": "scatter",
           "x": [
            0.6
           ],
           "xaxis": "x",
           "y": [
            192252
           ],
           "yaxis": "y"
          },
          {
           "hovertemplate": "Geography=Prince Edward Island<br>Time=2018Q2<br>DelinquencyRate=%{x}<br>AverageMortgageAmount=%{y}<br>PopulationSize=%{marker.size}<extra></extra>",
           "ids": [
            "Prince Edward Island"
           ],
           "legendgroup": "Prince Edward Island",
           "marker": {
            "color": "#EF553B",
            "size": [
             152039
            ],
            "sizemode": "area",
            "sizeref": 36835.035,
            "symbol": "circle"
           },
           "mode": "markers",
           "name": "Prince Edward Island",
           "orientation": "v",
           "showlegend": true,
           "type": "scatter",
           "x": [
            0.45
           ],
           "xaxis": "x",
           "y": [
            182114
           ],
           "yaxis": "y"
          },
          {
           "hovertemplate": "Geography=Nova Scotia<br>Time=2018Q2<br>DelinquencyRate=%{x}<br>AverageMortgageAmount=%{y}<br>PopulationSize=%{marker.size}<extra></extra>",
           "ids": [
            "Nova Scotia"
           ],
           "legendgroup": "Nova Scotia",
           "marker": {
            "color": "#00cc96",
            "size": [
             954618
            ],
            "sizemode": "area",
            "sizeref": 36835.035,
            "symbol": "circle"
           },
           "mode": "markers",
           "name": "Nova Scotia",
           "orientation": "v",
           "showlegend": true,
           "type": "scatter",
           "x": [
            0.54
           ],
           "xaxis": "x",
           "y": [
            179407
           ],
           "yaxis": "y"
          },
          {
           "hovertemplate": "Geography=New Brunswick<br>Time=2018Q2<br>DelinquencyRate=%{x}<br>AverageMortgageAmount=%{y}<br>PopulationSize=%{marker.size}<extra></extra>",
           "ids": [
            "New Brunswick"
           ],
           "legendgroup": "New Brunswick",
           "marker": {
            "color": "#ab63fa",
            "size": [
             768522
            ],
            "sizemode": "area",
            "sizeref": 36835.035,
            "symbol": "circle"
           },
           "mode": "markers",
           "name": "New Brunswick",
           "orientation": "v",
           "showlegend": true,
           "type": "scatter",
           "x": [
            0.59
           ],
           "xaxis": "x",
           "y": [
            139750
           ],
           "yaxis": "y"
          },
          {
           "hovertemplate": "Geography=Québec<br>Time=2018Q2<br>DelinquencyRate=%{x}<br>AverageMortgageAmount=%{y}<br>PopulationSize=%{marker.size}<extra></extra>",
           "ids": [
            "Québec"
           ],
           "legendgroup": "Québec",
           "marker": {
            "color": "#FFA15A",
            "size": [
             8367551
            ],
            "sizemode": "area",
            "sizeref": 36835.035,
            "symbol": "circle"
           },
           "mode": "markers",
           "name": "Québec",
           "orientation": "v",
           "showlegend": true,
           "type": "scatter",
           "x": [
            0.35
           ],
           "xaxis": "x",
           "y": [
            183507
           ],
           "yaxis": "y"
          },
          {
           "hovertemplate": "Geography=Ontario<br>Time=2018Q2<br>DelinquencyRate=%{x}<br>AverageMortgageAmount=%{y}<br>PopulationSize=%{marker.size}<extra></extra>",
           "ids": [
            "Ontario"
           ],
           "legendgroup": "Ontario",
           "marker": {
            "color": "#19d3f3",
            "size": [
             14235643
            ],
            "sizemode": "area",
            "sizeref": 36835.035,
            "symbol": "circle"
           },
           "mode": "markers",
           "name": "Ontario",
           "orientation": "v",
           "showlegend": true,
           "type": "scatter",
           "x": [
            0.14
           ],
           "xaxis": "x",
           "y": [
            315576
           ],
           "yaxis": "y"
          },
          {
           "hovertemplate": "Geography=Manitoba<br>Time=2018Q2<br>DelinquencyRate=%{x}<br>AverageMortgageAmount=%{y}<br>PopulationSize=%{marker.size}<extra></extra>",
           "ids": [
            "Manitoba"
           ],
           "legendgroup": "Manitoba",
           "marker": {
            "color": "#FF6692",
            "size": [
             1347055
            ],
            "sizemode": "area",
            "sizeref": 36835.035,
            "symbol": "circle"
           },
           "mode": "markers",
           "name": "Manitoba",
           "orientation": "v",
           "showlegend": true,
           "type": "scatter",
           "x": [
            0.31
           ],
           "xaxis": "x",
           "y": [
            207436
           ],
           "yaxis": "y"
          },
          {
           "hovertemplate": "Geography=Saskatchewan<br>Time=2018Q2<br>DelinquencyRate=%{x}<br>AverageMortgageAmount=%{y}<br>PopulationSize=%{marker.size}<extra></extra>",
           "ids": [
            "Saskatchewan"
           ],
           "legendgroup": "Saskatchewan",
           "marker": {
            "color": "#B6E880",
            "size": [
             1158451
            ],
            "sizemode": "area",
            "sizeref": 36835.035,
            "symbol": "circle"
           },
           "mode": "markers",
           "name": "Saskatchewan",
           "orientation": "v",
           "showlegend": true,
           "type": "scatter",
           "x": [
            0.67
           ],
           "xaxis": "x",
           "y": [
            229851
           ],
           "yaxis": "y"
          },
          {
           "hovertemplate": "Geography=Alberta<br>Time=2018Q2<br>DelinquencyRate=%{x}<br>AverageMortgageAmount=%{y}<br>PopulationSize=%{marker.size}<extra></extra>",
           "ids": [
            "Alberta"
           ],
           "legendgroup": "Alberta",
           "marker": {
            "color": "#FF97FF",
            "size": [
             4281706
            ],
            "sizemode": "area",
            "sizeref": 36835.035,
            "symbol": "circle"
           },
           "mode": "markers",
           "name": "Alberta",
           "orientation": "v",
           "showlegend": true,
           "type": "scatter",
           "x": [
            0.46
           ],
           "xaxis": "x",
           "y": [
            302116
           ],
           "yaxis": "y"
          },
          {
           "hovertemplate": "Geography=British Columbia<br>Time=2018Q2<br>DelinquencyRate=%{x}<br>AverageMortgageAmount=%{y}<br>PopulationSize=%{marker.size}<extra></extra>",
           "ids": [
            "British Columbia"
           ],
           "legendgroup": "British Columbia",
           "marker": {
            "color": "#FECB52",
            "size": [
             4983183
            ],
            "sizemode": "area",
            "sizeref": 36835.035,
            "symbol": "circle"
           },
           "mode": "markers",
           "name": "British Columbia",
           "orientation": "v",
           "showlegend": true,
           "type": "scatter",
           "x": [
            0.17
           ],
           "xaxis": "x",
           "y": [
            371860
           ],
           "yaxis": "y"
          }
         ],
         "name": "2018Q2"
        },
        {
         "data": [
          {
           "hovertemplate": "Geography=Newfoundland<br>Time=2018Q3<br>DelinquencyRate=%{x}<br>AverageMortgageAmount=%{y}<br>PopulationSize=%{marker.size}<extra></extra>",
           "ids": [
            "Newfoundland"
           ],
           "legendgroup": "Newfoundland",
           "marker": {
            "color": "#636efa",
            "size": [
             525560
            ],
            "sizemode": "area",
            "sizeref": 36835.035,
            "symbol": "circle"
           },
           "mode": "markers",
           "name": "Newfoundland",
           "orientation": "v",
           "showlegend": true,
           "type": "scatter",
           "x": [
            0.6
           ],
           "xaxis": "x",
           "y": [
            192106
           ],
           "yaxis": "y"
          },
          {
           "hovertemplate": "Geography=Prince Edward Island<br>Time=2018Q3<br>DelinquencyRate=%{x}<br>AverageMortgageAmount=%{y}<br>PopulationSize=%{marker.size}<extra></extra>",
           "ids": [
            "Prince Edward Island"
           ],
           "legendgroup": "Prince Edward Island",
           "marker": {
            "color": "#EF553B",
            "size": [
             153396
            ],
            "sizemode": "area",
            "sizeref": 36835.035,
            "symbol": "circle"
           },
           "mode": "markers",
           "name": "Prince Edward Island",
           "orientation": "v",
           "showlegend": true,
           "type": "scatter",
           "x": [
            0.43
           ],
           "xaxis": "x",
           "y": [
            181967
           ],
           "yaxis": "y"
          },
          {
           "hovertemplate": "Geography=Nova Scotia<br>Time=2018Q3<br>DelinquencyRate=%{x}<br>AverageMortgageAmount=%{y}<br>PopulationSize=%{marker.size}<extra></extra>",
           "ids": [
            "Nova Scotia"
           ],
           "legendgroup": "Nova Scotia",
           "marker": {
            "color": "#00cc96",
            "size": [
             958406
            ],
            "sizemode": "area",
            "sizeref": 36835.035,
            "symbol": "circle"
           },
           "mode": "markers",
           "name": "Nova Scotia",
           "orientation": "v",
           "showlegend": true,
           "type": "scatter",
           "x": [
            0.52
           ],
           "xaxis": "x",
           "y": [
            190443
           ],
           "yaxis": "y"
          },
          {
           "hovertemplate": "Geography=New Brunswick<br>Time=2018Q3<br>DelinquencyRate=%{x}<br>AverageMortgageAmount=%{y}<br>PopulationSize=%{marker.size}<extra></extra>",
           "ids": [
            "New Brunswick"
           ],
           "legendgroup": "New Brunswick",
           "marker": {
            "color": "#ab63fa",
            "size": [
             770301
            ],
            "sizemode": "area",
            "sizeref": 36835.035,
            "symbol": "circle"
           },
           "mode": "markers",
           "name": "New Brunswick",
           "orientation": "v",
           "showlegend": true,
           "type": "scatter",
           "x": [
            0.58
           ],
           "xaxis": "x",
           "y": [
            150353
           ],
           "yaxis": "y"
          },
          {
           "hovertemplate": "Geography=Québec<br>Time=2018Q3<br>DelinquencyRate=%{x}<br>AverageMortgageAmount=%{y}<br>PopulationSize=%{marker.size}<extra></extra>",
           "ids": [
            "Québec"
           ],
           "legendgroup": "Québec",
           "marker": {
            "color": "#FFA15A",
            "size": [
             8401738
            ],
            "sizemode": "area",
            "sizeref": 36835.035,
            "symbol": "circle"
           },
           "mode": "markers",
           "name": "Québec",
           "orientation": "v",
           "showlegend": true,
           "type": "scatter",
           "x": [
            0.35
           ],
           "xaxis": "x",
           "y": [
            187727
           ],
           "yaxis": "y"
          },
          {
           "hovertemplate": "Geography=Ontario<br>Time=2018Q3<br>DelinquencyRate=%{x}<br>AverageMortgageAmount=%{y}<br>PopulationSize=%{marker.size}<extra></extra>",
           "ids": [
            "Ontario"
           ],
           "legendgroup": "Ontario",
           "marker": {
            "color": "#19d3f3",
            "size": [
             14308697
            ],
            "sizemode": "area",
            "sizeref": 36835.035,
            "symbol": "circle"
           },
           "mode": "markers",
           "name": "Ontario",
           "orientation": "v",
           "showlegend": true,
           "type": "scatter",
           "x": [
            0.13
           ],
           "xaxis": "x",
           "y": [
            327367
           ],
           "yaxis": "y"
          },
          {
           "hovertemplate": "Geography=Manitoba<br>Time=2018Q3<br>DelinquencyRate=%{x}<br>AverageMortgageAmount=%{y}<br>PopulationSize=%{marker.size}<extra></extra>",
           "ids": [
            "Manitoba"
           ],
           "legendgroup": "Manitoba",
           "marker": {
            "color": "#FF6692",
            "size": [
             1352825
            ],
            "sizemode": "area",
            "sizeref": 36835.035,
            "symbol": "circle"
           },
           "mode": "markers",
           "name": "Manitoba",
           "orientation": "v",
           "showlegend": true,
           "type": "scatter",
           "x": [
            0.32
           ],
           "xaxis": "x",
           "y": [
            220454
           ],
           "yaxis": "y"
          },
          {
           "hovertemplate": "Geography=Saskatchewan<br>Time=2018Q3<br>DelinquencyRate=%{x}<br>AverageMortgageAmount=%{y}<br>PopulationSize=%{marker.size}<extra></extra>",
           "ids": [
            "Saskatchewan"
           ],
           "legendgroup": "Saskatchewan",
           "marker": {
            "color": "#B6E880",
            "size": [
             1161767
            ],
            "sizemode": "area",
            "sizeref": 36835.035,
            "symbol": "circle"
           },
           "mode": "markers",
           "name": "Saskatchewan",
           "orientation": "v",
           "showlegend": true,
           "type": "scatter",
           "x": [
            0.7
           ],
           "xaxis": "x",
           "y": [
            233255
           ],
           "yaxis": "y"
          },
          {
           "hovertemplate": "Geography=Alberta<br>Time=2018Q3<br>DelinquencyRate=%{x}<br>AverageMortgageAmount=%{y}<br>PopulationSize=%{marker.size}<extra></extra>",
           "ids": [
            "Alberta"
           ],
           "legendgroup": "Alberta",
           "marker": {
            "color": "#FF97FF",
            "size": [
             4298275
            ],
            "sizemode": "area",
            "sizeref": 36835.035,
            "symbol": "circle"
           },
           "mode": "markers",
           "name": "Alberta",
           "orientation": "v",
           "showlegend": true,
           "type": "scatter",
           "x": [
            0.47
           ],
           "xaxis": "x",
           "y": [
            305101
           ],
           "yaxis": "y"
          },
          {
           "hovertemplate": "Geography=British Columbia<br>Time=2018Q3<br>DelinquencyRate=%{x}<br>AverageMortgageAmount=%{y}<br>PopulationSize=%{marker.size}<extra></extra>",
           "ids": [
            "British Columbia"
           ],
           "legendgroup": "British Columbia",
           "marker": {
            "color": "#FECB52",
            "size": [
             5010476
            ],
            "sizemode": "area",
            "sizeref": 36835.035,
            "symbol": "circle"
           },
           "mode": "markers",
           "name": "British Columbia",
           "orientation": "v",
           "showlegend": true,
           "type": "scatter",
           "x": [
            0.16
           ],
           "xaxis": "x",
           "y": [
            378187
           ],
           "yaxis": "y"
          }
         ],
         "name": "2018Q3"
        },
        {
         "data": [
          {
           "hovertemplate": "Geography=Newfoundland<br>Time=2018Q4<br>DelinquencyRate=%{x}<br>AverageMortgageAmount=%{y}<br>PopulationSize=%{marker.size}<extra></extra>",
           "ids": [
            "Newfoundland"
           ],
           "legendgroup": "Newfoundland",
           "marker": {
            "color": "#636efa",
            "size": [
             525765
            ],
            "sizemode": "area",
            "sizeref": 36835.035,
            "symbol": "circle"
           },
           "mode": "markers",
           "name": "Newfoundland",
           "orientation": "v",
           "showlegend": true,
           "type": "scatter",
           "x": [
            0.62
           ],
           "xaxis": "x",
           "y": [
            188614
           ],
           "yaxis": "y"
          },
          {
           "hovertemplate": "Geography=Prince Edward Island<br>Time=2018Q4<br>DelinquencyRate=%{x}<br>AverageMortgageAmount=%{y}<br>PopulationSize=%{marker.size}<extra></extra>",
           "ids": [
            "Prince Edward Island"
           ],
           "legendgroup": "Prince Edward Island",
           "marker": {
            "color": "#EF553B",
            "size": [
             155129
            ],
            "sizemode": "area",
            "sizeref": 36835.035,
            "symbol": "circle"
           },
           "mode": "markers",
           "name": "Prince Edward Island",
           "orientation": "v",
           "showlegend": true,
           "type": "scatter",
           "x": [
            0.39
           ],
           "xaxis": "x",
           "y": [
            178140
           ],
           "yaxis": "y"
          },
          {
           "hovertemplate": "Geography=Nova Scotia<br>Time=2018Q4<br>DelinquencyRate=%{x}<br>AverageMortgageAmount=%{y}<br>PopulationSize=%{marker.size}<extra></extra>",
           "ids": [
            "Nova Scotia"
           ],
           "legendgroup": "Nova Scotia",
           "marker": {
            "color": "#00cc96",
            "size": [
             963309
            ],
            "sizemode": "area",
            "sizeref": 36835.035,
            "symbol": "circle"
           },
           "mode": "markers",
           "name": "Nova Scotia",
           "orientation": "v",
           "showlegend": true,
           "type": "scatter",
           "x": [
            0.56
           ],
           "xaxis": "x",
           "y": [
            179921
           ],
           "yaxis": "y"
          },
          {
           "hovertemplate": "Geography=New Brunswick<br>Time=2018Q4<br>DelinquencyRate=%{x}<br>AverageMortgageAmount=%{y}<br>PopulationSize=%{marker.size}<extra></extra>",
           "ids": [
            "New Brunswick"
           ],
           "legendgroup": "New Brunswick",
           "marker": {
            "color": "#ab63fa",
            "size": [
             772524
            ],
            "sizemode": "area",
            "sizeref": 36835.035,
            "symbol": "circle"
           },
           "mode": "markers",
           "name": "New Brunswick",
           "orientation": "v",
           "showlegend": true,
           "type": "scatter",
           "x": [
            0.62
           ],
           "xaxis": "x",
           "y": [
            143324
           ],
           "yaxis": "y"
          },
          {
           "hovertemplate": "Geography=Québec<br>Time=2018Q4<br>DelinquencyRate=%{x}<br>AverageMortgageAmount=%{y}<br>PopulationSize=%{marker.size}<extra></extra>",
           "ids": [
            "Québec"
           ],
           "legendgroup": "Québec",
           "marker": {
            "color": "#FFA15A",
            "size": [
             8433888
            ],
            "sizemode": "area",
            "sizeref": 36835.035,
            "symbol": "circle"
           },
           "mode": "markers",
           "name": "Québec",
           "orientation": "v",
           "showlegend": true,
           "type": "scatter",
           "x": [
            0.38
           ],
           "xaxis": "x",
           "y": [
            173911
           ],
           "yaxis": "y"
          },
          {
           "hovertemplate": "Geography=Ontario<br>Time=2018Q4<br>DelinquencyRate=%{x}<br>AverageMortgageAmount=%{y}<br>PopulationSize=%{marker.size}<extra></extra>",
           "ids": [
            "Ontario"
           ],
           "legendgroup": "Ontario",
           "marker": {
            "color": "#19d3f3",
            "size": [
             14393683
            ],
            "sizemode": "area",
            "sizeref": 36835.035,
            "symbol": "circle"
           },
           "mode": "markers",
           "name": "Ontario",
           "orientation": "v",
           "showlegend": true,
           "type": "scatter",
           "x": [
            0.14
           ],
           "xaxis": "x",
           "y": [
            321579
           ],
           "yaxis": "y"
          },
          {
           "hovertemplate": "Geography=Manitoba<br>Time=2018Q4<br>DelinquencyRate=%{x}<br>AverageMortgageAmount=%{y}<br>PopulationSize=%{marker.size}<extra></extra>",
           "ids": [
            "Manitoba"
           ],
           "legendgroup": "Manitoba",
           "marker": {
            "color": "#FF6692",
            "size": [
             1357879
            ],
            "sizemode": "area",
            "sizeref": 36835.035,
            "symbol": "circle"
           },
           "mode": "markers",
           "name": "Manitoba",
           "orientation": "v",
           "showlegend": true,
           "type": "scatter",
           "x": [
            0.35
           ],
           "xaxis": "x",
           "y": [
            214060
           ],
           "yaxis": "y"
          },
          {
           "hovertemplate": "Geography=Saskatchewan<br>Time=2018Q4<br>DelinquencyRate=%{x}<br>AverageMortgageAmount=%{y}<br>PopulationSize=%{marker.size}<extra></extra>",
           "ids": [
            "Saskatchewan"
           ],
           "legendgroup": "Saskatchewan",
           "marker": {
            "color": "#B6E880",
            "size": [
             1165938
            ],
            "sizemode": "area",
            "sizeref": 36835.035,
            "symbol": "circle"
           },
           "mode": "markers",
           "name": "Saskatchewan",
           "orientation": "v",
           "showlegend": true,
           "type": "scatter",
           "x": [
            0.72
           ],
           "xaxis": "x",
           "y": [
            223628
           ],
           "yaxis": "y"
          },
          {
           "hovertemplate": "Geography=Alberta<br>Time=2018Q4<br>DelinquencyRate=%{x}<br>AverageMortgageAmount=%{y}<br>PopulationSize=%{marker.size}<extra></extra>",
           "ids": [
            "Alberta"
           ],
           "legendgroup": "Alberta",
           "marker": {
            "color": "#FF97FF",
            "size": [
             4317453
            ],
            "sizemode": "area",
            "sizeref": 36835.035,
            "symbol": "circle"
           },
           "mode": "markers",
           "name": "Alberta",
           "orientation": "v",
           "showlegend": true,
           "type": "scatter",
           "x": [
            0.5
           ],
           "xaxis": "x",
           "y": [
            295839
           ],
           "yaxis": "y"
          },
          {
           "hovertemplate": "Geography=British Columbia<br>Time=2018Q4<br>DelinquencyRate=%{x}<br>AverageMortgageAmount=%{y}<br>PopulationSize=%{marker.size}<extra></extra>",
           "ids": [
            "British Columbia"
           ],
           "legendgroup": "British Columbia",
           "marker": {
            "color": "#FECB52",
            "size": [
             5039661
            ],
            "sizemode": "area",
            "sizeref": 36835.035,
            "symbol": "circle"
           },
           "mode": "markers",
           "name": "British Columbia",
           "orientation": "v",
           "showlegend": true,
           "type": "scatter",
           "x": [
            0.17
           ],
           "xaxis": "x",
           "y": [
            364330
           ],
           "yaxis": "y"
          }
         ],
         "name": "2018Q4"
        },
        {
         "data": [
          {
           "hovertemplate": "Geography=Newfoundland<br>Time=2019Q1<br>DelinquencyRate=%{x}<br>AverageMortgageAmount=%{y}<br>PopulationSize=%{marker.size}<extra></extra>",
           "ids": [
            "Newfoundland"
           ],
           "legendgroup": "Newfoundland",
           "marker": {
            "color": "#636efa",
            "size": [
             524883
            ],
            "sizemode": "area",
            "sizeref": 36835.035,
            "symbol": "circle"
           },
           "mode": "markers",
           "name": "Newfoundland",
           "orientation": "v",
           "showlegend": true,
           "type": "scatter",
           "x": [
            0.64
           ],
           "xaxis": "x",
           "y": [
            185276
           ],
           "yaxis": "y"
          },
          {
           "hovertemplate": "Geography=Prince Edward Island<br>Time=2019Q1<br>DelinquencyRate=%{x}<br>AverageMortgageAmount=%{y}<br>PopulationSize=%{marker.size}<extra></extra>",
           "ids": [
            "Prince Edward Island"
           ],
           "legendgroup": "Prince Edward Island",
           "marker": {
            "color": "#EF553B",
            "size": [
             155244
            ],
            "sizemode": "area",
            "sizeref": 36835.035,
            "symbol": "circle"
           },
           "mode": "markers",
           "name": "Prince Edward Island",
           "orientation": "v",
           "showlegend": true,
           "type": "scatter",
           "x": [
            0.39
           ],
           "xaxis": "x",
           "y": [
            181172
           ],
           "yaxis": "y"
          },
          {
           "hovertemplate": "Geography=Nova Scotia<br>Time=2019Q1<br>DelinquencyRate=%{x}<br>AverageMortgageAmount=%{y}<br>PopulationSize=%{marker.size}<extra></extra>",
           "ids": [
            "Nova Scotia"
           ],
           "legendgroup": "Nova Scotia",
           "marker": {
            "color": "#00cc96",
            "size": [
             963890
            ],
            "sizemode": "area",
            "sizeref": 36835.035,
            "symbol": "circle"
           },
           "mode": "markers",
           "name": "Nova Scotia",
           "orientation": "v",
           "showlegend": true,
           "type": "scatter",
           "x": [
            0.54
           ],
           "xaxis": "x",
           "y": [
            177863
           ],
           "yaxis": "y"
          },
          {
           "hovertemplate": "Geography=New Brunswick<br>Time=2019Q1<br>DelinquencyRate=%{x}<br>AverageMortgageAmount=%{y}<br>PopulationSize=%{marker.size}<extra></extra>",
           "ids": [
            "New Brunswick"
           ],
           "legendgroup": "New Brunswick",
           "marker": {
            "color": "#ab63fa",
            "size": [
             772748
            ],
            "sizemode": "area",
            "sizeref": 36835.035,
            "symbol": "circle"
           },
           "mode": "markers",
           "name": "New Brunswick",
           "orientation": "v",
           "showlegend": true,
           "type": "scatter",
           "x": [
            0.63
           ],
           "xaxis": "x",
           "y": [
            140850
           ],
           "yaxis": "y"
          },
          {
           "hovertemplate": "Geography=Québec<br>Time=2019Q1<br>DelinquencyRate=%{x}<br>AverageMortgageAmount=%{y}<br>PopulationSize=%{marker.size}<extra></extra>",
           "ids": [
            "Québec"
           ],
           "legendgroup": "Québec",
           "marker": {
            "color": "#FFA15A",
            "size": [
             8446906
            ],
            "sizemode": "area",
            "sizeref": 36835.035,
            "symbol": "circle"
           },
           "mode": "markers",
           "name": "Québec",
           "orientation": "v",
           "showlegend": true,
           "type": "scatter",
           "x": [
            0.38
           ],
           "xaxis": "x",
           "y": [
            175658
           ],
           "yaxis": "y"
          },
          {
           "hovertemplate": "Geography=Ontario<br>Time=2019Q1<br>DelinquencyRate=%{x}<br>AverageMortgageAmount=%{y}<br>PopulationSize=%{marker.size}<extra></extra>",
           "ids": [
            "Ontario"
           ],
           "legendgroup": "Ontario",
           "marker": {
            "color": "#19d3f3",
            "size": [
             14428712
            ],
            "sizemode": "area",
            "sizeref": 36835.035,
            "symbol": "circle"
           },
           "mode": "markers",
           "name": "Ontario",
           "orientation": "v",
           "showlegend": true,
           "type": "scatter",
           "x": [
            0.14
           ],
           "xaxis": "x",
           "y": [
            321074
           ],
           "yaxis": "y"
          },
          {
           "hovertemplate": "Geography=Manitoba<br>Time=2019Q1<br>DelinquencyRate=%{x}<br>AverageMortgageAmount=%{y}<br>PopulationSize=%{marker.size}<extra></extra>",
           "ids": [
            "Manitoba"
           ],
           "legendgroup": "Manitoba",
           "marker": {
            "color": "#FF6692",
            "size": [
             1361632
            ],
            "sizemode": "area",
            "sizeref": 36835.035,
            "symbol": "circle"
           },
           "mode": "markers",
           "name": "Manitoba",
           "orientation": "v",
           "showlegend": true,
           "type": "scatter",
           "x": [
            0.35
           ],
           "xaxis": "x",
           "y": [
            206692
           ],
           "yaxis": "y"
          },
          {
           "hovertemplate": "Geography=Saskatchewan<br>Time=2019Q1<br>DelinquencyRate=%{x}<br>AverageMortgageAmount=%{y}<br>PopulationSize=%{marker.size}<extra></extra>",
           "ids": [
            "Saskatchewan"
           ],
           "legendgroup": "Saskatchewan",
           "marker": {
            "color": "#B6E880",
            "size": [
             1168461
            ],
            "sizemode": "area",
            "sizeref": 36835.035,
            "symbol": "circle"
           },
           "mode": "markers",
           "name": "Saskatchewan",
           "orientation": "v",
           "showlegend": true,
           "type": "scatter",
           "x": [
            0.74
           ],
           "xaxis": "x",
           "y": [
            217157
           ],
           "yaxis": "y"
          },
          {
           "hovertemplate": "Geography=Alberta<br>Time=2019Q1<br>DelinquencyRate=%{x}<br>AverageMortgageAmount=%{y}<br>PopulationSize=%{marker.size}<extra></extra>",
           "ids": [
            "Alberta"
           ],
           "legendgroup": "Alberta",
           "marker": {
            "color": "#FF97FF",
            "size": [
             4330698
            ],
            "sizemode": "area",
            "sizeref": 36835.035,
            "symbol": "circle"
           },
           "mode": "markers",
           "name": "Alberta",
           "orientation": "v",
           "showlegend": true,
           "type": "scatter",
           "x": [
            0.51
           ],
           "xaxis": "x",
           "y": [
            291721
           ],
           "yaxis": "y"
          },
          {
           "hovertemplate": "Geography=British Columbia<br>Time=2019Q1<br>DelinquencyRate=%{x}<br>AverageMortgageAmount=%{y}<br>PopulationSize=%{marker.size}<extra></extra>",
           "ids": [
            "British Columbia"
           ],
           "legendgroup": "British Columbia",
           "marker": {
            "color": "#FECB52",
            "size": [
             5046576
            ],
            "sizemode": "area",
            "sizeref": 36835.035,
            "symbol": "circle"
           },
           "mode": "markers",
           "name": "British Columbia",
           "orientation": "v",
           "showlegend": true,
           "type": "scatter",
           "x": [
            0.17
           ],
           "xaxis": "x",
           "y": [
            363239
           ],
           "yaxis": "y"
          }
         ],
         "name": "2019Q1"
        },
        {
         "data": [
          {
           "hovertemplate": "Geography=Newfoundland<br>Time=2019Q2<br>DelinquencyRate=%{x}<br>AverageMortgageAmount=%{y}<br>PopulationSize=%{marker.size}<extra></extra>",
           "ids": [
            "Newfoundland"
           ],
           "legendgroup": "Newfoundland",
           "marker": {
            "color": "#636efa",
            "size": [
             524126
            ],
            "sizemode": "area",
            "sizeref": 36835.035,
            "symbol": "circle"
           },
           "mode": "markers",
           "name": "Newfoundland",
           "orientation": "v",
           "showlegend": true,
           "type": "scatter",
           "x": [
            0.65
           ],
           "xaxis": "x",
           "y": [
            190582
           ],
           "yaxis": "y"
          },
          {
           "hovertemplate": "Geography=Prince Edward Island<br>Time=2019Q2<br>DelinquencyRate=%{x}<br>AverageMortgageAmount=%{y}<br>PopulationSize=%{marker.size}<extra></extra>",
           "ids": [
            "Prince Edward Island"
           ],
           "legendgroup": "Prince Edward Island",
           "marker": {
            "color": "#EF553B",
            "size": [
             155833
            ],
            "sizemode": "area",
            "sizeref": 36835.035,
            "symbol": "circle"
           },
           "mode": "markers",
           "name": "Prince Edward Island",
           "orientation": "v",
           "showlegend": true,
           "type": "scatter",
           "x": [
            0.38
           ],
           "xaxis": "x",
           "y": [
            181358
           ],
           "yaxis": "y"
          },
          {
           "hovertemplate": "Geography=Nova Scotia<br>Time=2019Q2<br>DelinquencyRate=%{x}<br>AverageMortgageAmount=%{y}<br>PopulationSize=%{marker.size}<extra></extra>",
           "ids": [
            "Nova Scotia"
           ],
           "legendgroup": "Nova Scotia",
           "marker": {
            "color": "#00cc96",
            "size": [
             965287
            ],
            "sizemode": "area",
            "sizeref": 36835.035,
            "symbol": "circle"
           },
           "mode": "markers",
           "name": "Nova Scotia",
           "orientation": "v",
           "showlegend": true,
           "type": "scatter",
           "x": [
            0.52
           ],
           "xaxis": "x",
           "y": [
            180958
           ],
           "yaxis": "y"
          },
          {
           "hovertemplate": "Geography=New Brunswick<br>Time=2019Q2<br>DelinquencyRate=%{x}<br>AverageMortgageAmount=%{y}<br>PopulationSize=%{marker.size}<extra></extra>",
           "ids": [
            "New Brunswick"
           ],
           "legendgroup": "New Brunswick",
           "marker": {
            "color": "#ab63fa",
            "size": [
             773805
            ],
            "sizemode": "area",
            "sizeref": 36835.035,
            "symbol": "circle"
           },
           "mode": "markers",
           "name": "New Brunswick",
           "orientation": "v",
           "showlegend": true,
           "type": "scatter",
           "x": [
            0.6
           ],
           "xaxis": "x",
           "y": [
            137809
           ],
           "yaxis": "y"
          },
          {
           "hovertemplate": "Geography=Québec<br>Time=2019Q2<br>DelinquencyRate=%{x}<br>AverageMortgageAmount=%{y}<br>PopulationSize=%{marker.size}<extra></extra>",
           "ids": [
            "Québec"
           ],
           "legendgroup": "Québec",
           "marker": {
            "color": "#FFA15A",
            "size": [
             8465271
            ],
            "sizemode": "area",
            "sizeref": 36835.035,
            "symbol": "circle"
           },
           "mode": "markers",
           "name": "Québec",
           "orientation": "v",
           "showlegend": true,
           "type": "scatter",
           "x": [
            0.37
           ],
           "xaxis": "x",
           "y": [
            179523
           ],
           "yaxis": "y"
          },
          {
           "hovertemplate": "Geography=Ontario<br>Time=2019Q2<br>DelinquencyRate=%{x}<br>AverageMortgageAmount=%{y}<br>PopulationSize=%{marker.size}<extra></extra>",
           "ids": [
            "Ontario"
           ],
           "legendgroup": "Ontario",
           "marker": {
            "color": "#19d3f3",
            "size": [
             14467162
            ],
            "sizemode": "area",
            "sizeref": 36835.035,
            "symbol": "circle"
           },
           "mode": "markers",
           "name": "Ontario",
           "orientation": "v",
           "showlegend": true,
           "type": "scatter",
           "x": [
            0.14
           ],
           "xaxis": "x",
           "y": [
            324080
           ],
           "yaxis": "y"
          },
          {
           "hovertemplate": "Geography=Manitoba<br>Time=2019Q2<br>DelinquencyRate=%{x}<br>AverageMortgageAmount=%{y}<br>PopulationSize=%{marker.size}<extra></extra>",
           "ids": [
            "Manitoba"
           ],
           "legendgroup": "Manitoba",
           "marker": {
            "color": "#FF6692",
            "size": [
             1364223
            ],
            "sizemode": "area",
            "sizeref": 36835.035,
            "symbol": "circle"
           },
           "mode": "markers",
           "name": "Manitoba",
           "orientation": "v",
           "showlegend": true,
           "type": "scatter",
           "x": [
            0.35
           ],
           "xaxis": "x",
           "y": [
            214873
           ],
           "yaxis": "y"
          },
          {
           "hovertemplate": "Geography=Saskatchewan<br>Time=2019Q2<br>DelinquencyRate=%{x}<br>AverageMortgageAmount=%{y}<br>PopulationSize=%{marker.size}<extra></extra>",
           "ids": [
            "Saskatchewan"
           ],
           "legendgroup": "Saskatchewan",
           "marker": {
            "color": "#B6E880",
            "size": [
             1169286
            ],
            "sizemode": "area",
            "sizeref": 36835.035,
            "symbol": "circle"
           },
           "mode": "markers",
           "name": "Saskatchewan",
           "orientation": "v",
           "showlegend": true,
           "type": "scatter",
           "x": [
            0.75
           ],
           "xaxis": "x",
           "y": [
            216369
           ],
           "yaxis": "y"
          },
          {
           "hovertemplate": "Geography=Alberta<br>Time=2019Q2<br>DelinquencyRate=%{x}<br>AverageMortgageAmount=%{y}<br>PopulationSize=%{marker.size}<extra></extra>",
           "ids": [
            "Alberta"
           ],
           "legendgroup": "Alberta",
           "marker": {
            "color": "#FF97FF",
            "size": [
             4343951
            ],
            "sizemode": "area",
            "sizeref": 36835.035,
            "symbol": "circle"
           },
           "mode": "markers",
           "name": "Alberta",
           "orientation": "v",
           "showlegend": true,
           "type": "scatter",
           "x": [
            0.53
           ],
           "xaxis": "x",
           "y": [
            293612
           ],
           "yaxis": "y"
          },
          {
           "hovertemplate": "Geography=British Columbia<br>Time=2019Q2<br>DelinquencyRate=%{x}<br>AverageMortgageAmount=%{y}<br>PopulationSize=%{marker.size}<extra></extra>",
           "ids": [
            "British Columbia"
           ],
           "legendgroup": "British Columbia",
           "marker": {
            "color": "#FECB52",
            "size": [
             5063527
            ],
            "sizemode": "area",
            "sizeref": 36835.035,
            "symbol": "circle"
           },
           "mode": "markers",
           "name": "British Columbia",
           "orientation": "v",
           "showlegend": true,
           "type": "scatter",
           "x": [
            0.17
           ],
           "xaxis": "x",
           "y": [
            363924
           ],
           "yaxis": "y"
          }
         ],
         "name": "2019Q2"
        },
        {
         "data": [
          {
           "hovertemplate": "Geography=Newfoundland<br>Time=2019Q3<br>DelinquencyRate=%{x}<br>AverageMortgageAmount=%{y}<br>PopulationSize=%{marker.size}<extra></extra>",
           "ids": [
            "Newfoundland"
           ],
           "legendgroup": "Newfoundland",
           "marker": {
            "color": "#636efa",
            "size": [
             523476
            ],
            "sizemode": "area",
            "sizeref": 36835.035,
            "symbol": "circle"
           },
           "mode": "markers",
           "name": "Newfoundland",
           "orientation": "v",
           "showlegend": true,
           "type": "scatter",
           "x": [
            0.65
           ],
           "xaxis": "x",
           "y": [
            194536
           ],
           "yaxis": "y"
          },
          {
           "hovertemplate": "Geography=Prince Edward Island<br>Time=2019Q3<br>DelinquencyRate=%{x}<br>AverageMortgageAmount=%{y}<br>PopulationSize=%{marker.size}<extra></extra>",
           "ids": [
            "Prince Edward Island"
           ],
           "legendgroup": "Prince Edward Island",
           "marker": {
            "color": "#EF553B",
            "size": [
             157262
            ],
            "sizemode": "area",
            "sizeref": 36835.035,
            "symbol": "circle"
           },
           "mode": "markers",
           "name": "Prince Edward Island",
           "orientation": "v",
           "showlegend": true,
           "type": "scatter",
           "x": [
            0.34
           ],
           "xaxis": "x",
           "y": [
            190715
           ],
           "yaxis": "y"
          },
          {
           "hovertemplate": "Geography=Nova Scotia<br>Time=2019Q3<br>DelinquencyRate=%{x}<br>AverageMortgageAmount=%{y}<br>PopulationSize=%{marker.size}<extra></extra>",
           "ids": [
            "Nova Scotia"
           ],
           "legendgroup": "Nova Scotia",
           "marker": {
            "color": "#00cc96",
            "size": [
             969747
            ],
            "sizemode": "area",
            "sizeref": 36835.035,
            "symbol": "circle"
           },
           "mode": "markers",
           "name": "Nova Scotia",
           "orientation": "v",
           "showlegend": true,
           "type": "scatter",
           "x": [
            0.5
           ],
           "xaxis": "x",
           "y": [
            193586
           ],
           "yaxis": "y"
          },
          {
           "hovertemplate": "Geography=New Brunswick<br>Time=2019Q3<br>DelinquencyRate=%{x}<br>AverageMortgageAmount=%{y}<br>PopulationSize=%{marker.size}<extra></extra>",
           "ids": [
            "New Brunswick"
           ],
           "legendgroup": "New Brunswick",
           "marker": {
            "color": "#ab63fa",
            "size": [
             776868
            ],
            "sizemode": "area",
            "sizeref": 36835.035,
            "symbol": "circle"
           },
           "mode": "markers",
           "name": "New Brunswick",
           "orientation": "v",
           "showlegend": true,
           "type": "scatter",
           "x": [
            0.57
           ],
           "xaxis": "x",
           "y": [
            152606
           ],
           "yaxis": "y"
          },
          {
           "hovertemplate": "Geography=Québec<br>Time=2019Q3<br>DelinquencyRate=%{x}<br>AverageMortgageAmount=%{y}<br>PopulationSize=%{marker.size}<extra></extra>",
           "ids": [
            "Québec"
           ],
           "legendgroup": "Québec",
           "marker": {
            "color": "#FFA15A",
            "size": [
             8501703
            ],
            "sizemode": "area",
            "sizeref": 36835.035,
            "symbol": "circle"
           },
           "mode": "markers",
           "name": "Québec",
           "orientation": "v",
           "showlegend": true,
           "type": "scatter",
           "x": [
            0.37
           ],
           "xaxis": "x",
           "y": [
            187136
           ],
           "yaxis": "y"
          },
          {
           "hovertemplate": "Geography=Ontario<br>Time=2019Q3<br>DelinquencyRate=%{x}<br>AverageMortgageAmount=%{y}<br>PopulationSize=%{marker.size}<extra></extra>",
           "ids": [
            "Ontario"
           ],
           "legendgroup": "Ontario",
           "marker": {
            "color": "#19d3f3",
            "size": [
             14544718
            ],
            "sizemode": "area",
            "sizeref": 36835.035,
            "symbol": "circle"
           },
           "mode": "markers",
           "name": "Ontario",
           "orientation": "v",
           "showlegend": true,
           "type": "scatter",
           "x": [
            0.14
           ],
           "xaxis": "x",
           "y": [
            343117
           ],
           "yaxis": "y"
          },
          {
           "hovertemplate": "Geography=Manitoba<br>Time=2019Q3<br>DelinquencyRate=%{x}<br>AverageMortgageAmount=%{y}<br>PopulationSize=%{marker.size}<extra></extra>",
           "ids": [
            "Manitoba"
           ],
           "legendgroup": "Manitoba",
           "marker": {
            "color": "#FF6692",
            "size": [
             1369540
            ],
            "sizemode": "area",
            "sizeref": 36835.035,
            "symbol": "circle"
           },
           "mode": "markers",
           "name": "Manitoba",
           "orientation": "v",
           "showlegend": true,
           "type": "scatter",
           "x": [
            0.34
           ],
           "xaxis": "x",
           "y": [
            222637
           ],
           "yaxis": "y"
          },
          {
           "hovertemplate": "Geography=Saskatchewan<br>Time=2019Q3<br>DelinquencyRate=%{x}<br>AverageMortgageAmount=%{y}<br>PopulationSize=%{marker.size}<extra></extra>",
           "ids": [
            "Saskatchewan"
           ],
           "legendgroup": "Saskatchewan",
           "marker": {
            "color": "#B6E880",
            "size": [
             1172302
            ],
            "sizemode": "area",
            "sizeref": 36835.035,
            "symbol": "circle"
           },
           "mode": "markers",
           "name": "Saskatchewan",
           "orientation": "v",
           "showlegend": true,
           "type": "scatter",
           "x": [
            0.73
           ],
           "xaxis": "x",
           "y": [
            228721
           ],
           "yaxis": "y"
          },
          {
           "hovertemplate": "Geography=Alberta<br>Time=2019Q3<br>DelinquencyRate=%{x}<br>AverageMortgageAmount=%{y}<br>PopulationSize=%{marker.size}<extra></extra>",
           "ids": [
            "Alberta"
           ],
           "legendgroup": "Alberta",
           "marker": {
            "color": "#FF97FF",
            "size": [
             4361694
            ],
            "sizemode": "area",
            "sizeref": 36835.035,
            "symbol": "circle"
           },
           "mode": "markers",
           "name": "Alberta",
           "orientation": "v",
           "showlegend": true,
           "type": "scatter",
           "x": [
            0.51
           ],
           "xaxis": "x",
           "y": [
            297609
           ],
           "yaxis": "y"
          },
          {
           "hovertemplate": "Geography=British Columbia<br>Time=2019Q3<br>DelinquencyRate=%{x}<br>AverageMortgageAmount=%{y}<br>PopulationSize=%{marker.size}<extra></extra>",
           "ids": [
            "British Columbia"
           ],
           "legendgroup": "British Columbia",
           "marker": {
            "color": "#FECB52",
            "size": [
             5090955
            ],
            "sizemode": "area",
            "sizeref": 36835.035,
            "symbol": "circle"
           },
           "mode": "markers",
           "name": "British Columbia",
           "orientation": "v",
           "showlegend": true,
           "type": "scatter",
           "x": [
            0.16
           ],
           "xaxis": "x",
           "y": [
            376343
           ],
           "yaxis": "y"
          }
         ],
         "name": "2019Q3"
        },
        {
         "data": [
          {
           "hovertemplate": "Geography=Newfoundland<br>Time=2019Q4<br>DelinquencyRate=%{x}<br>AverageMortgageAmount=%{y}<br>PopulationSize=%{marker.size}<extra></extra>",
           "ids": [
            "Newfoundland"
           ],
           "legendgroup": "Newfoundland",
           "marker": {
            "color": "#636efa",
            "size": [
             524137
            ],
            "sizemode": "area",
            "sizeref": 36835.035,
            "symbol": "circle"
           },
           "mode": "markers",
           "name": "Newfoundland",
           "orientation": "v",
           "showlegend": true,
           "type": "scatter",
           "x": [
            0.65
           ],
           "xaxis": "x",
           "y": [
            193870
           ],
           "yaxis": "y"
          },
          {
           "hovertemplate": "Geography=Prince Edward Island<br>Time=2019Q4<br>DelinquencyRate=%{x}<br>AverageMortgageAmount=%{y}<br>PopulationSize=%{marker.size}<extra></extra>",
           "ids": [
            "Prince Edward Island"
           ],
           "legendgroup": "Prince Edward Island",
           "marker": {
            "color": "#EF553B",
            "size": [
             158334
            ],
            "sizemode": "area",
            "sizeref": 36835.035,
            "symbol": "circle"
           },
           "mode": "markers",
           "name": "Prince Edward Island",
           "orientation": "v",
           "showlegend": true,
           "type": "scatter",
           "x": [
            0.32
           ],
           "xaxis": "x",
           "y": [
            185934
           ],
           "yaxis": "y"
          },
          {
           "hovertemplate": "Geography=Nova Scotia<br>Time=2019Q4<br>DelinquencyRate=%{x}<br>AverageMortgageAmount=%{y}<br>PopulationSize=%{marker.size}<extra></extra>",
           "ids": [
            "Nova Scotia"
           ],
           "legendgroup": "Nova Scotia",
           "marker": {
            "color": "#00cc96",
            "size": [
             975231
            ],
            "sizemode": "area",
            "sizeref": 36835.035,
            "symbol": "circle"
           },
           "mode": "markers",
           "name": "Nova Scotia",
           "orientation": "v",
           "showlegend": true,
           "type": "scatter",
           "x": [
            0.5
           ],
           "xaxis": "x",
           "y": [
            190168
           ],
           "yaxis": "y"
          },
          {
           "hovertemplate": "Geography=New Brunswick<br>Time=2019Q4<br>DelinquencyRate=%{x}<br>AverageMortgageAmount=%{y}<br>PopulationSize=%{marker.size}<extra></extra>",
           "ids": [
            "New Brunswick"
           ],
           "legendgroup": "New Brunswick",
           "marker": {
            "color": "#ab63fa",
            "size": [
             780154
            ],
            "sizemode": "area",
            "sizeref": 36835.035,
            "symbol": "circle"
           },
           "mode": "markers",
           "name": "New Brunswick",
           "orientation": "v",
           "showlegend": true,
           "type": "scatter",
           "x": [
            0.57
           ],
           "xaxis": "x",
           "y": [
            147047
           ],
           "yaxis": "y"
          },
          {
           "hovertemplate": "Geography=Québec<br>Time=2019Q4<br>DelinquencyRate=%{x}<br>AverageMortgageAmount=%{y}<br>PopulationSize=%{marker.size}<extra></extra>",
           "ids": [
            "Québec"
           ],
           "legendgroup": "Québec",
           "marker": {
            "color": "#FFA15A",
            "size": [
             8540429
            ],
            "sizemode": "area",
            "sizeref": 36835.035,
            "symbol": "circle"
           },
           "mode": "markers",
           "name": "Québec",
           "orientation": "v",
           "showlegend": true,
           "type": "scatter",
           "x": [
            0.36
           ],
           "xaxis": "x",
           "y": [
            183501
           ],
           "yaxis": "y"
          },
          {
           "hovertemplate": "Geography=Ontario<br>Time=2019Q4<br>DelinquencyRate=%{x}<br>AverageMortgageAmount=%{y}<br>PopulationSize=%{marker.size}<extra></extra>",
           "ids": [
            "Ontario"
           ],
           "legendgroup": "Ontario",
           "marker": {
            "color": "#19d3f3",
            "size": [
             14637880
            ],
            "sizemode": "area",
            "sizeref": 36835.035,
            "symbol": "circle"
           },
           "mode": "markers",
           "name": "Ontario",
           "orientation": "v",
           "showlegend": true,
           "type": "scatter",
           "x": [
            0.14
           ],
           "xaxis": "x",
           "y": [
            343768
           ],
           "yaxis": "y"
          },
          {
           "hovertemplate": "Geography=Manitoba<br>Time=2019Q4<br>DelinquencyRate=%{x}<br>AverageMortgageAmount=%{y}<br>PopulationSize=%{marker.size}<extra></extra>",
           "ids": [
            "Manitoba"
           ],
           "legendgroup": "Manitoba",
           "marker": {
            "color": "#FF6692",
            "size": [
             1373574
            ],
            "sizemode": "area",
            "sizeref": 36835.035,
            "symbol": "circle"
           },
           "mode": "markers",
           "name": "Manitoba",
           "orientation": "v",
           "showlegend": true,
           "type": "scatter",
           "x": [
            0.36
           ],
           "xaxis": "x",
           "y": [
            218918
           ],
           "yaxis": "y"
          },
          {
           "hovertemplate": "Geography=Saskatchewan<br>Time=2019Q4<br>DelinquencyRate=%{x}<br>AverageMortgageAmount=%{y}<br>PopulationSize=%{marker.size}<extra></extra>",
           "ids": [
            "Saskatchewan"
           ],
           "legendgroup": "Saskatchewan",
           "marker": {
            "color": "#B6E880",
            "size": [
             1176272
            ],
            "sizemode": "area",
            "sizeref": 36835.035,
            "symbol": "circle"
           },
           "mode": "markers",
           "name": "Saskatchewan",
           "orientation": "v",
           "showlegend": true,
           "type": "scatter",
           "x": [
            0.73
           ],
           "xaxis": "x",
           "y": [
            224315
           ],
           "yaxis": "y"
          },
          {
           "hovertemplate": "Geography=Alberta<br>Time=2019Q4<br>DelinquencyRate=%{x}<br>AverageMortgageAmount=%{y}<br>PopulationSize=%{marker.size}<extra></extra>",
           "ids": [
            "Alberta"
           ],
           "legendgroup": "Alberta",
           "marker": {
            "color": "#FF97FF",
            "size": [
             4384968
            ],
            "sizemode": "area",
            "sizeref": 36835.035,
            "symbol": "circle"
           },
           "mode": "markers",
           "name": "Alberta",
           "orientation": "v",
           "showlegend": true,
           "type": "scatter",
           "x": [
            0.5
           ],
           "xaxis": "x",
           "y": [
            297552
           ],
           "yaxis": "y"
          },
          {
           "hovertemplate": "Geography=British Columbia<br>Time=2019Q4<br>DelinquencyRate=%{x}<br>AverageMortgageAmount=%{y}<br>PopulationSize=%{marker.size}<extra></extra>",
           "ids": [
            "British Columbia"
           ],
           "legendgroup": "British Columbia",
           "marker": {
            "color": "#FECB52",
            "size": [
             5125659
            ],
            "sizemode": "area",
            "sizeref": 36835.035,
            "symbol": "circle"
           },
           "mode": "markers",
           "name": "British Columbia",
           "orientation": "v",
           "showlegend": true,
           "type": "scatter",
           "x": [
            0.16
           ],
           "xaxis": "x",
           "y": [
            386494
           ],
           "yaxis": "y"
          }
         ],
         "name": "2019Q4"
        },
        {
         "data": [
          {
           "hovertemplate": "Geography=Newfoundland<br>Time=2020Q1<br>DelinquencyRate=%{x}<br>AverageMortgageAmount=%{y}<br>PopulationSize=%{marker.size}<extra></extra>",
           "ids": [
            "Newfoundland"
           ],
           "legendgroup": "Newfoundland",
           "marker": {
            "color": "#636efa",
            "size": [
             523631
            ],
            "sizemode": "area",
            "sizeref": 36835.035,
            "symbol": "circle"
           },
           "mode": "markers",
           "name": "Newfoundland",
           "orientation": "v",
           "showlegend": true,
           "type": "scatter",
           "x": [
            0.67
           ],
           "xaxis": "x",
           "y": [
            186268
           ],
           "yaxis": "y"
          },
          {
           "hovertemplate": "Geography=Prince Edward Island<br>Time=2020Q1<br>DelinquencyRate=%{x}<br>AverageMortgageAmount=%{y}<br>PopulationSize=%{marker.size}<extra></extra>",
           "ids": [
            "Prince Edward Island"
           ],
           "legendgroup": "Prince Edward Island",
           "marker": {
            "color": "#EF553B",
            "size": [
             158629
            ],
            "sizemode": "area",
            "sizeref": 36835.035,
            "symbol": "circle"
           },
           "mode": "markers",
           "name": "Prince Edward Island",
           "orientation": "v",
           "showlegend": true,
           "type": "scatter",
           "x": [
            0.25
           ],
           "xaxis": "x",
           "y": [
            193439
           ],
           "yaxis": "y"
          },
          {
           "hovertemplate": "Geography=Nova Scotia<br>Time=2020Q1<br>DelinquencyRate=%{x}<br>AverageMortgageAmount=%{y}<br>PopulationSize=%{marker.size}<extra></extra>",
           "ids": [
            "Nova Scotia"
           ],
           "legendgroup": "Nova Scotia",
           "marker": {
            "color": "#00cc96",
            "size": [
             975898
            ],
            "sizemode": "area",
            "sizeref": 36835.035,
            "symbol": "circle"
           },
           "mode": "markers",
           "name": "Nova Scotia",
           "orientation": "v",
           "showlegend": true,
           "type": "scatter",
           "x": [
            0.46
           ],
           "xaxis": "x",
           "y": [
            188267
           ],
           "yaxis": "y"
          },
          {
           "hovertemplate": "Geography=New Brunswick<br>Time=2020Q1<br>DelinquencyRate=%{x}<br>AverageMortgageAmount=%{y}<br>PopulationSize=%{marker.size}<extra></extra>",
           "ids": [
            "New Brunswick"
           ],
           "legendgroup": "New Brunswick",
           "marker": {
            "color": "#ab63fa",
            "size": [
             780040
            ],
            "sizemode": "area",
            "sizeref": 36835.035,
            "symbol": "circle"
           },
           "mode": "markers",
           "name": "New Brunswick",
           "orientation": "v",
           "showlegend": true,
           "type": "scatter",
           "x": [
            0.57
           ],
           "xaxis": "x",
           "y": [
            146701
           ],
           "yaxis": "y"
          },
          {
           "hovertemplate": "Geography=Québec<br>Time=2020Q1<br>DelinquencyRate=%{x}<br>AverageMortgageAmount=%{y}<br>PopulationSize=%{marker.size}<extra></extra>",
           "ids": [
            "Québec"
           ],
           "legendgroup": "Québec",
           "marker": {
            "color": "#FFA15A",
            "size": [
             8556650
            ],
            "sizemode": "area",
            "sizeref": 36835.035,
            "symbol": "circle"
           },
           "mode": "markers",
           "name": "Québec",
           "orientation": "v",
           "showlegend": true,
           "type": "scatter",
           "x": [
            0.36
           ],
           "xaxis": "x",
           "y": [
            189390
           ],
           "yaxis": "y"
          },
          {
           "hovertemplate": "Geography=Ontario<br>Time=2020Q1<br>DelinquencyRate=%{x}<br>AverageMortgageAmount=%{y}<br>PopulationSize=%{marker.size}<extra></extra>",
           "ids": [
            "Ontario"
           ],
           "legendgroup": "Ontario",
           "marker": {
            "color": "#19d3f3",
            "size": [
             14689075
            ],
            "sizemode": "area",
            "sizeref": 36835.035,
            "symbol": "circle"
           },
           "mode": "markers",
           "name": "Ontario",
           "orientation": "v",
           "showlegend": true,
           "type": "scatter",
           "x": [
            0.14
           ],
           "xaxis": "x",
           "y": [
            348272
           ],
           "yaxis": "y"
          },
          {
           "hovertemplate": "Geography=Manitoba<br>Time=2020Q1<br>DelinquencyRate=%{x}<br>AverageMortgageAmount=%{y}<br>PopulationSize=%{marker.size}<extra></extra>",
           "ids": [
            "Manitoba"
           ],
           "legendgroup": "Manitoba",
           "marker": {
            "color": "#FF6692",
            "size": [
             1377004
            ],
            "sizemode": "area",
            "sizeref": 36835.035,
            "symbol": "circle"
           },
           "mode": "markers",
           "name": "Manitoba",
           "orientation": "v",
           "showlegend": true,
           "type": "scatter",
           "x": [
            0.37
           ],
           "xaxis": "x",
           "y": [
            212508
           ],
           "yaxis": "y"
          },
          {
           "hovertemplate": "Geography=Saskatchewan<br>Time=2020Q1<br>DelinquencyRate=%{x}<br>AverageMortgageAmount=%{y}<br>PopulationSize=%{marker.size}<extra></extra>",
           "ids": [
            "Saskatchewan"
           ],
           "legendgroup": "Saskatchewan",
           "marker": {
            "color": "#B6E880",
            "size": [
             1179154
            ],
            "sizemode": "area",
            "sizeref": 36835.035,
            "symbol": "circle"
           },
           "mode": "markers",
           "name": "Saskatchewan",
           "orientation": "v",
           "showlegend": true,
           "type": "scatter",
           "x": [
            0.75
           ],
           "xaxis": "x",
           "y": [
            216188
           ],
           "yaxis": "y"
          },
          {
           "hovertemplate": "Geography=Alberta<br>Time=2020Q1<br>DelinquencyRate=%{x}<br>AverageMortgageAmount=%{y}<br>PopulationSize=%{marker.size}<extra></extra>",
           "ids": [
            "Alberta"
           ],
           "legendgroup": "Alberta",
           "marker": {
            "color": "#FF97FF",
            "size": [
             4402045
            ],
            "sizemode": "area",
            "sizeref": 36835.035,
            "symbol": "circle"
           },
           "mode": "markers",
           "name": "Alberta",
           "orientation": "v",
           "showlegend": true,
           "type": "scatter",
           "x": [
            0.52
           ],
           "xaxis": "x",
           "y": [
            291747
           ],
           "yaxis": "y"
          },
          {
           "hovertemplate": "Geography=British Columbia<br>Time=2020Q1<br>DelinquencyRate=%{x}<br>AverageMortgageAmount=%{y}<br>PopulationSize=%{marker.size}<extra></extra>",
           "ids": [
            "British Columbia"
           ],
           "legendgroup": "British Columbia",
           "marker": {
            "color": "#FECB52",
            "size": [
             5131575
            ],
            "sizemode": "area",
            "sizeref": 36835.035,
            "symbol": "circle"
           },
           "mode": "markers",
           "name": "British Columbia",
           "orientation": "v",
           "showlegend": true,
           "type": "scatter",
           "x": [
            0.17
           ],
           "xaxis": "x",
           "y": [
            393711
           ],
           "yaxis": "y"
          }
         ],
         "name": "2020Q1"
        },
        {
         "data": [
          {
           "hovertemplate": "Geography=Newfoundland<br>Time=2020Q2<br>DelinquencyRate=%{x}<br>AverageMortgageAmount=%{y}<br>PopulationSize=%{marker.size}<extra></extra>",
           "ids": [
            "Newfoundland"
           ],
           "legendgroup": "Newfoundland",
           "marker": {
            "color": "#636efa",
            "size": [
             522994
            ],
            "sizemode": "area",
            "sizeref": 36835.035,
            "symbol": "circle"
           },
           "mode": "markers",
           "name": "Newfoundland",
           "orientation": "v",
           "showlegend": true,
           "type": "scatter",
           "x": [
            0.68
           ],
           "xaxis": "x",
           "y": [
            187431
           ],
           "yaxis": "y"
          },
          {
           "hovertemplate": "Geography=Prince Edward Island<br>Time=2020Q2<br>DelinquencyRate=%{x}<br>AverageMortgageAmount=%{y}<br>PopulationSize=%{marker.size}<extra></extra>",
           "ids": [
            "Prince Edward Island"
           ],
           "legendgroup": "Prince Edward Island",
           "marker": {
            "color": "#EF553B",
            "size": [
             159249
            ],
            "sizemode": "area",
            "sizeref": 36835.035,
            "symbol": "circle"
           },
           "mode": "markers",
           "name": "Prince Edward Island",
           "orientation": "v",
           "showlegend": true,
           "type": "scatter",
           "x": [
            0.26
           ],
           "xaxis": "x",
           "y": [
            189309
           ],
           "yaxis": "y"
          },
          {
           "hovertemplate": "Geography=Nova Scotia<br>Time=2020Q2<br>DelinquencyRate=%{x}<br>AverageMortgageAmount=%{y}<br>PopulationSize=%{marker.size}<extra></extra>",
           "ids": [
            "Nova Scotia"
           ],
           "legendgroup": "Nova Scotia",
           "marker": {
            "color": "#00cc96",
            "size": [
             977043
            ],
            "sizemode": "area",
            "sizeref": 36835.035,
            "symbol": "circle"
           },
           "mode": "markers",
           "name": "Nova Scotia",
           "orientation": "v",
           "showlegend": true,
           "type": "scatter",
           "x": [
            0.47
           ],
           "xaxis": "x",
           "y": [
            192060
           ],
           "yaxis": "y"
          },
          {
           "hovertemplate": "Geography=New Brunswick<br>Time=2020Q2<br>DelinquencyRate=%{x}<br>AverageMortgageAmount=%{y}<br>PopulationSize=%{marker.size}<extra></extra>",
           "ids": [
            "New Brunswick"
           ],
           "legendgroup": "New Brunswick",
           "marker": {
            "color": "#ab63fa",
            "size": [
             781024
            ],
            "sizemode": "area",
            "sizeref": 36835.035,
            "symbol": "circle"
           },
           "mode": "markers",
           "name": "New Brunswick",
           "orientation": "v",
           "showlegend": true,
           "type": "scatter",
           "x": [
            0.54
           ],
           "xaxis": "x",
           "y": [
            149590
           ],
           "yaxis": "y"
          },
          {
           "hovertemplate": "Geography=Québec<br>Time=2020Q2<br>DelinquencyRate=%{x}<br>AverageMortgageAmount=%{y}<br>PopulationSize=%{marker.size}<extra></extra>",
           "ids": [
            "Québec"
           ],
           "legendgroup": "Québec",
           "marker": {
            "color": "#FFA15A",
            "size": [
             8572054
            ],
            "sizemode": "area",
            "sizeref": 36835.035,
            "symbol": "circle"
           },
           "mode": "markers",
           "name": "Québec",
           "orientation": "v",
           "showlegend": true,
           "type": "scatter",
           "x": [
            0.34
           ],
           "xaxis": "x",
           "y": [
            195538
           ],
           "yaxis": "y"
          },
          {
           "hovertemplate": "Geography=Ontario<br>Time=2020Q2<br>DelinquencyRate=%{x}<br>AverageMortgageAmount=%{y}<br>PopulationSize=%{marker.size}<extra></extra>",
           "ids": [
            "Ontario"
           ],
           "legendgroup": "Ontario",
           "marker": {
            "color": "#19d3f3",
            "size": [
             14723497
            ],
            "sizemode": "area",
            "sizeref": 36835.035,
            "symbol": "circle"
           },
           "mode": "markers",
           "name": "Ontario",
           "orientation": "v",
           "showlegend": true,
           "type": "scatter",
           "x": [
            0.14
           ],
           "xaxis": "x",
           "y": [
            363432
           ],
           "yaxis": "y"
          },
          {
           "hovertemplate": "Geography=Manitoba<br>Time=2020Q2<br>DelinquencyRate=%{x}<br>AverageMortgageAmount=%{y}<br>PopulationSize=%{marker.size}<extra></extra>",
           "ids": [
            "Manitoba"
           ],
           "legendgroup": "Manitoba",
           "marker": {
            "color": "#FF6692",
            "size": [
             1378818
            ],
            "sizemode": "area",
            "sizeref": 36835.035,
            "symbol": "circle"
           },
           "mode": "markers",
           "name": "Manitoba",
           "orientation": "v",
           "showlegend": true,
           "type": "scatter",
           "x": [
            0.38
           ],
           "xaxis": "x",
           "y": [
            217416
           ],
           "yaxis": "y"
          },
          {
           "hovertemplate": "Geography=Saskatchewan<br>Time=2020Q2<br>DelinquencyRate=%{x}<br>AverageMortgageAmount=%{y}<br>PopulationSize=%{marker.size}<extra></extra>",
           "ids": [
            "Saskatchewan"
           ],
           "legendgroup": "Saskatchewan",
           "marker": {
            "color": "#B6E880",
            "size": [
             1179618
            ],
            "sizemode": "area",
            "sizeref": 36835.035,
            "symbol": "circle"
           },
           "mode": "markers",
           "name": "Saskatchewan",
           "orientation": "v",
           "showlegend": true,
           "type": "scatter",
           "x": [
            0.76
           ],
           "xaxis": "x",
           "y": [
            225641
           ],
           "yaxis": "y"
          },
          {
           "hovertemplate": "Geography=Alberta<br>Time=2020Q2<br>DelinquencyRate=%{x}<br>AverageMortgageAmount=%{y}<br>PopulationSize=%{marker.size}<extra></extra>",
           "ids": [
            "Alberta"
           ],
           "legendgroup": "Alberta",
           "marker": {
            "color": "#FF97FF",
            "size": [
             4417006
            ],
            "sizemode": "area",
            "sizeref": 36835.035,
            "symbol": "circle"
           },
           "mode": "markers",
           "name": "Alberta",
           "orientation": "v",
           "showlegend": true,
           "type": "scatter",
           "x": [
            0.52
           ],
           "xaxis": "x",
           "y": [
            296269
           ],
           "yaxis": "y"
          },
          {
           "hovertemplate": "Geography=British Columbia<br>Time=2020Q2<br>DelinquencyRate=%{x}<br>AverageMortgageAmount=%{y}<br>PopulationSize=%{marker.size}<extra></extra>",
           "ids": [
            "British Columbia"
           ],
           "legendgroup": "British Columbia",
           "marker": {
            "color": "#FECB52",
            "size": [
             5142404
            ],
            "sizemode": "area",
            "sizeref": 36835.035,
            "symbol": "circle"
           },
           "mode": "markers",
           "name": "British Columbia",
           "orientation": "v",
           "showlegend": true,
           "type": "scatter",
           "x": [
            0.19
           ],
           "xaxis": "x",
           "y": [
            397853
           ],
           "yaxis": "y"
          }
         ],
         "name": "2020Q2"
        },
        {
         "data": [
          {
           "hovertemplate": "Geography=Newfoundland<br>Time=2020Q3<br>DelinquencyRate=%{x}<br>AverageMortgageAmount=%{y}<br>PopulationSize=%{marker.size}<extra></extra>",
           "ids": [
            "Newfoundland"
           ],
           "legendgroup": "Newfoundland",
           "marker": {
            "color": "#636efa",
            "size": [
             522103
            ],
            "sizemode": "area",
            "sizeref": 36835.035,
            "symbol": "circle"
           },
           "mode": "markers",
           "name": "Newfoundland",
           "orientation": "v",
           "showlegend": true,
           "type": "scatter",
           "x": [
            0.64
           ],
           "xaxis": "x",
           "y": [
            196100
           ],
           "yaxis": "y"
          },
          {
           "hovertemplate": "Geography=Prince Edward Island<br>Time=2020Q3<br>DelinquencyRate=%{x}<br>AverageMortgageAmount=%{y}<br>PopulationSize=%{marker.size}<extra></extra>",
           "ids": [
            "Prince Edward Island"
           ],
           "legendgroup": "Prince Edward Island",
           "marker": {
            "color": "#EF553B",
            "size": [
             159625
            ],
            "sizemode": "area",
            "sizeref": 36835.035,
            "symbol": "circle"
           },
           "mode": "markers",
           "name": "Prince Edward Island",
           "orientation": "v",
           "showlegend": true,
           "type": "scatter",
           "x": [
            0.27
           ],
           "xaxis": "x",
           "y": [
            204415
           ],
           "yaxis": "y"
          },
          {
           "hovertemplate": "Geography=Nova Scotia<br>Time=2020Q3<br>DelinquencyRate=%{x}<br>AverageMortgageAmount=%{y}<br>PopulationSize=%{marker.size}<extra></extra>",
           "ids": [
            "Nova Scotia"
           ],
           "legendgroup": "Nova Scotia",
           "marker": {
            "color": "#00cc96",
            "size": [
             979351
            ],
            "sizemode": "area",
            "sizeref": 36835.035,
            "symbol": "circle"
           },
           "mode": "markers",
           "name": "Nova Scotia",
           "orientation": "v",
           "showlegend": true,
           "type": "scatter",
           "x": [
            0.45
           ],
           "xaxis": "x",
           "y": [
            207877
           ],
           "yaxis": "y"
          },
          {
           "hovertemplate": "Geography=New Brunswick<br>Time=2020Q3<br>DelinquencyRate=%{x}<br>AverageMortgageAmount=%{y}<br>PopulationSize=%{marker.size}<extra></extra>",
           "ids": [
            "New Brunswick"
           ],
           "legendgroup": "New Brunswick",
           "marker": {
            "color": "#ab63fa",
            "size": [
             781476
            ],
            "sizemode": "area",
            "sizeref": 36835.035,
            "symbol": "circle"
           },
           "mode": "markers",
           "name": "New Brunswick",
           "orientation": "v",
           "showlegend": true,
           "type": "scatter",
           "x": [
            0.52
           ],
           "xaxis": "x",
           "y": [
            160349
           ],
           "yaxis": "y"
          },
          {
           "hovertemplate": "Geography=Québec<br>Time=2020Q3<br>DelinquencyRate=%{x}<br>AverageMortgageAmount=%{y}<br>PopulationSize=%{marker.size}<extra></extra>",
           "ids": [
            "Québec"
           ],
           "legendgroup": "Québec",
           "marker": {
            "color": "#FFA15A",
            "size": [
             8574571
            ],
            "sizemode": "area",
            "sizeref": 36835.035,
            "symbol": "circle"
           },
           "mode": "markers",
           "name": "Québec",
           "orientation": "v",
           "showlegend": true,
           "type": "scatter",
           "x": [
            0.36
           ],
           "xaxis": "x",
           "y": [
            203861
           ],
           "yaxis": "y"
          },
          {
           "hovertemplate": "Geography=Ontario<br>Time=2020Q3<br>DelinquencyRate=%{x}<br>AverageMortgageAmount=%{y}<br>PopulationSize=%{marker.size}<extra></extra>",
           "ids": [
            "Ontario"
           ],
           "legendgroup": "Ontario",
           "marker": {
            "color": "#19d3f3",
            "size": [
             14734014
            ],
            "sizemode": "area",
            "sizeref": 36835.035,
            "symbol": "circle"
           },
           "mode": "markers",
           "name": "Ontario",
           "orientation": "v",
           "showlegend": true,
           "type": "scatter",
           "x": [
            0.14
           ],
           "xaxis": "x",
           "y": [
            373371
           ],
           "yaxis": "y"
          },
          {
           "hovertemplate": "Geography=Manitoba<br>Time=2020Q3<br>DelinquencyRate=%{x}<br>AverageMortgageAmount=%{y}<br>PopulationSize=%{marker.size}<extra></extra>",
           "ids": [
            "Manitoba"
           ],
           "legendgroup": "Manitoba",
           "marker": {
            "color": "#FF6692",
            "size": [
             1379263
            ],
            "sizemode": "area",
            "sizeref": 36835.035,
            "symbol": "circle"
           },
           "mode": "markers",
           "name": "Manitoba",
           "orientation": "v",
           "showlegend": true,
           "type": "scatter",
           "x": [
            0.35
           ],
           "xaxis": "x",
           "y": [
            232725
           ],
           "yaxis": "y"
          },
          {
           "hovertemplate": "Geography=Saskatchewan<br>Time=2020Q3<br>DelinquencyRate=%{x}<br>AverageMortgageAmount=%{y}<br>PopulationSize=%{marker.size}<extra></extra>",
           "ids": [
            "Saskatchewan"
           ],
           "legendgroup": "Saskatchewan",
           "marker": {
            "color": "#B6E880",
            "size": [
             1178681
            ],
            "sizemode": "area",
            "sizeref": 36835.035,
            "symbol": "circle"
           },
           "mode": "markers",
           "name": "Saskatchewan",
           "orientation": "v",
           "showlegend": true,
           "type": "scatter",
           "x": [
            0.72
           ],
           "xaxis": "x",
           "y": [
            237386
           ],
           "yaxis": "y"
          },
          {
           "hovertemplate": "Geography=Alberta<br>Time=2020Q3<br>DelinquencyRate=%{x}<br>AverageMortgageAmount=%{y}<br>PopulationSize=%{marker.size}<extra></extra>",
           "ids": [
            "Alberta"
           ],
           "legendgroup": "Alberta",
           "marker": {
            "color": "#FF97FF",
            "size": [
             4421876
            ],
            "sizemode": "area",
            "sizeref": 36835.035,
            "symbol": "circle"
           },
           "mode": "markers",
           "name": "Alberta",
           "orientation": "v",
           "showlegend": true,
           "type": "scatter",
           "x": [
            0.5
           ],
           "xaxis": "x",
           "y": [
            305600
           ],
           "yaxis": "y"
          },
          {
           "hovertemplate": "Geography=British Columbia<br>Time=2020Q3<br>DelinquencyRate=%{x}<br>AverageMortgageAmount=%{y}<br>PopulationSize=%{marker.size}<extra></extra>",
           "ids": [
            "British Columbia"
           ],
           "legendgroup": "British Columbia",
           "marker": {
            "color": "#FECB52",
            "size": [
             5147712
            ],
            "sizemode": "area",
            "sizeref": 36835.035,
            "symbol": "circle"
           },
           "mode": "markers",
           "name": "British Columbia",
           "orientation": "v",
           "showlegend": true,
           "type": "scatter",
           "x": [
            0.19
           ],
           "xaxis": "x",
           "y": [
            417004
           ],
           "yaxis": "y"
          }
         ],
         "name": "2020Q3"
        }
       ],
       "layout": {
        "legend": {
         "itemsizing": "constant",
         "title": {
          "text": "Geography"
         },
         "tracegroupgap": 0
        },
        "sliders": [
         {
          "active": 0,
          "currentvalue": {
           "prefix": "Time="
          },
          "len": 0.9,
          "pad": {
           "b": 10,
           "t": 60
          },
          "steps": [
           {
            "args": [
             [
              "2012Q3"
             ],
             {
              "frame": {
               "duration": 0,
               "redraw": false
              },
              "fromcurrent": true,
              "mode": "immediate",
              "transition": {
               "duration": 0,
               "easing": "linear"
              }
             }
            ],
            "label": "2012Q3",
            "method": "animate"
           },
           {
            "args": [
             [
              "2012Q4"
             ],
             {
              "frame": {
               "duration": 0,
               "redraw": false
              },
              "fromcurrent": true,
              "mode": "immediate",
              "transition": {
               "duration": 0,
               "easing": "linear"
              }
             }
            ],
            "label": "2012Q4",
            "method": "animate"
           },
           {
            "args": [
             [
              "2013Q1"
             ],
             {
              "frame": {
               "duration": 0,
               "redraw": false
              },
              "fromcurrent": true,
              "mode": "immediate",
              "transition": {
               "duration": 0,
               "easing": "linear"
              }
             }
            ],
            "label": "2013Q1",
            "method": "animate"
           },
           {
            "args": [
             [
              "2013Q2"
             ],
             {
              "frame": {
               "duration": 0,
               "redraw": false
              },
              "fromcurrent": true,
              "mode": "immediate",
              "transition": {
               "duration": 0,
               "easing": "linear"
              }
             }
            ],
            "label": "2013Q2",
            "method": "animate"
           },
           {
            "args": [
             [
              "2013Q3"
             ],
             {
              "frame": {
               "duration": 0,
               "redraw": false
              },
              "fromcurrent": true,
              "mode": "immediate",
              "transition": {
               "duration": 0,
               "easing": "linear"
              }
             }
            ],
            "label": "2013Q3",
            "method": "animate"
           },
           {
            "args": [
             [
              "2013Q4"
             ],
             {
              "frame": {
               "duration": 0,
               "redraw": false
              },
              "fromcurrent": true,
              "mode": "immediate",
              "transition": {
               "duration": 0,
               "easing": "linear"
              }
             }
            ],
            "label": "2013Q4",
            "method": "animate"
           },
           {
            "args": [
             [
              "2014Q1"
             ],
             {
              "frame": {
               "duration": 0,
               "redraw": false
              },
              "fromcurrent": true,
              "mode": "immediate",
              "transition": {
               "duration": 0,
               "easing": "linear"
              }
             }
            ],
            "label": "2014Q1",
            "method": "animate"
           },
           {
            "args": [
             [
              "2014Q2"
             ],
             {
              "frame": {
               "duration": 0,
               "redraw": false
              },
              "fromcurrent": true,
              "mode": "immediate",
              "transition": {
               "duration": 0,
               "easing": "linear"
              }
             }
            ],
            "label": "2014Q2",
            "method": "animate"
           },
           {
            "args": [
             [
              "2014Q3"
             ],
             {
              "frame": {
               "duration": 0,
               "redraw": false
              },
              "fromcurrent": true,
              "mode": "immediate",
              "transition": {
               "duration": 0,
               "easing": "linear"
              }
             }
            ],
            "label": "2014Q3",
            "method": "animate"
           },
           {
            "args": [
             [
              "2014Q4"
             ],
             {
              "frame": {
               "duration": 0,
               "redraw": false
              },
              "fromcurrent": true,
              "mode": "immediate",
              "transition": {
               "duration": 0,
               "easing": "linear"
              }
             }
            ],
            "label": "2014Q4",
            "method": "animate"
           },
           {
            "args": [
             [
              "2015Q1"
             ],
             {
              "frame": {
               "duration": 0,
               "redraw": false
              },
              "fromcurrent": true,
              "mode": "immediate",
              "transition": {
               "duration": 0,
               "easing": "linear"
              }
             }
            ],
            "label": "2015Q1",
            "method": "animate"
           },
           {
            "args": [
             [
              "2015Q2"
             ],
             {
              "frame": {
               "duration": 0,
               "redraw": false
              },
              "fromcurrent": true,
              "mode": "immediate",
              "transition": {
               "duration": 0,
               "easing": "linear"
              }
             }
            ],
            "label": "2015Q2",
            "method": "animate"
           },
           {
            "args": [
             [
              "2015Q3"
             ],
             {
              "frame": {
               "duration": 0,
               "redraw": false
              },
              "fromcurrent": true,
              "mode": "immediate",
              "transition": {
               "duration": 0,
               "easing": "linear"
              }
             }
            ],
            "label": "2015Q3",
            "method": "animate"
           },
           {
            "args": [
             [
              "2015Q4"
             ],
             {
              "frame": {
               "duration": 0,
               "redraw": false
              },
              "fromcurrent": true,
              "mode": "immediate",
              "transition": {
               "duration": 0,
               "easing": "linear"
              }
             }
            ],
            "label": "2015Q4",
            "method": "animate"
           },
           {
            "args": [
             [
              "2016Q1"
             ],
             {
              "frame": {
               "duration": 0,
               "redraw": false
              },
              "fromcurrent": true,
              "mode": "immediate",
              "transition": {
               "duration": 0,
               "easing": "linear"
              }
             }
            ],
            "label": "2016Q1",
            "method": "animate"
           },
           {
            "args": [
             [
              "2016Q2"
             ],
             {
              "frame": {
               "duration": 0,
               "redraw": false
              },
              "fromcurrent": true,
              "mode": "immediate",
              "transition": {
               "duration": 0,
               "easing": "linear"
              }
             }
            ],
            "label": "2016Q2",
            "method": "animate"
           },
           {
            "args": [
             [
              "2016Q3"
             ],
             {
              "frame": {
               "duration": 0,
               "redraw": false
              },
              "fromcurrent": true,
              "mode": "immediate",
              "transition": {
               "duration": 0,
               "easing": "linear"
              }
             }
            ],
            "label": "2016Q3",
            "method": "animate"
           },
           {
            "args": [
             [
              "2016Q4"
             ],
             {
              "frame": {
               "duration": 0,
               "redraw": false
              },
              "fromcurrent": true,
              "mode": "immediate",
              "transition": {
               "duration": 0,
               "easing": "linear"
              }
             }
            ],
            "label": "2016Q4",
            "method": "animate"
           },
           {
            "args": [
             [
              "2017Q1"
             ],
             {
              "frame": {
               "duration": 0,
               "redraw": false
              },
              "fromcurrent": true,
              "mode": "immediate",
              "transition": {
               "duration": 0,
               "easing": "linear"
              }
             }
            ],
            "label": "2017Q1",
            "method": "animate"
           },
           {
            "args": [
             [
              "2017Q2"
             ],
             {
              "frame": {
               "duration": 0,
               "redraw": false
              },
              "fromcurrent": true,
              "mode": "immediate",
              "transition": {
               "duration": 0,
               "easing": "linear"
              }
             }
            ],
            "label": "2017Q2",
            "method": "animate"
           },
           {
            "args": [
             [
              "2017Q3"
             ],
             {
              "frame": {
               "duration": 0,
               "redraw": false
              },
              "fromcurrent": true,
              "mode": "immediate",
              "transition": {
               "duration": 0,
               "easing": "linear"
              }
             }
            ],
            "label": "2017Q3",
            "method": "animate"
           },
           {
            "args": [
             [
              "2017Q4"
             ],
             {
              "frame": {
               "duration": 0,
               "redraw": false
              },
              "fromcurrent": true,
              "mode": "immediate",
              "transition": {
               "duration": 0,
               "easing": "linear"
              }
             }
            ],
            "label": "2017Q4",
            "method": "animate"
           },
           {
            "args": [
             [
              "2018Q1"
             ],
             {
              "frame": {
               "duration": 0,
               "redraw": false
              },
              "fromcurrent": true,
              "mode": "immediate",
              "transition": {
               "duration": 0,
               "easing": "linear"
              }
             }
            ],
            "label": "2018Q1",
            "method": "animate"
           },
           {
            "args": [
             [
              "2018Q2"
             ],
             {
              "frame": {
               "duration": 0,
               "redraw": false
              },
              "fromcurrent": true,
              "mode": "immediate",
              "transition": {
               "duration": 0,
               "easing": "linear"
              }
             }
            ],
            "label": "2018Q2",
            "method": "animate"
           },
           {
            "args": [
             [
              "2018Q3"
             ],
             {
              "frame": {
               "duration": 0,
               "redraw": false
              },
              "fromcurrent": true,
              "mode": "immediate",
              "transition": {
               "duration": 0,
               "easing": "linear"
              }
             }
            ],
            "label": "2018Q3",
            "method": "animate"
           },
           {
            "args": [
             [
              "2018Q4"
             ],
             {
              "frame": {
               "duration": 0,
               "redraw": false
              },
              "fromcurrent": true,
              "mode": "immediate",
              "transition": {
               "duration": 0,
               "easing": "linear"
              }
             }
            ],
            "label": "2018Q4",
            "method": "animate"
           },
           {
            "args": [
             [
              "2019Q1"
             ],
             {
              "frame": {
               "duration": 0,
               "redraw": false
              },
              "fromcurrent": true,
              "mode": "immediate",
              "transition": {
               "duration": 0,
               "easing": "linear"
              }
             }
            ],
            "label": "2019Q1",
            "method": "animate"
           },
           {
            "args": [
             [
              "2019Q2"
             ],
             {
              "frame": {
               "duration": 0,
               "redraw": false
              },
              "fromcurrent": true,
              "mode": "immediate",
              "transition": {
               "duration": 0,
               "easing": "linear"
              }
             }
            ],
            "label": "2019Q2",
            "method": "animate"
           },
           {
            "args": [
             [
              "2019Q3"
             ],
             {
              "frame": {
               "duration": 0,
               "redraw": false
              },
              "fromcurrent": true,
              "mode": "immediate",
              "transition": {
               "duration": 0,
               "easing": "linear"
              }
             }
            ],
            "label": "2019Q3",
            "method": "animate"
           },
           {
            "args": [
             [
              "2019Q4"
             ],
             {
              "frame": {
               "duration": 0,
               "redraw": false
              },
              "fromcurrent": true,
              "mode": "immediate",
              "transition": {
               "duration": 0,
               "easing": "linear"
              }
             }
            ],
            "label": "2019Q4",
            "method": "animate"
           },
           {
            "args": [
             [
              "2020Q1"
             ],
             {
              "frame": {
               "duration": 0,
               "redraw": false
              },
              "fromcurrent": true,
              "mode": "immediate",
              "transition": {
               "duration": 0,
               "easing": "linear"
              }
             }
            ],
            "label": "2020Q1",
            "method": "animate"
           },
           {
            "args": [
             [
              "2020Q2"
             ],
             {
              "frame": {
               "duration": 0,
               "redraw": false
              },
              "fromcurrent": true,
              "mode": "immediate",
              "transition": {
               "duration": 0,
               "easing": "linear"
              }
             }
            ],
            "label": "2020Q2",
            "method": "animate"
           },
           {
            "args": [
             [
              "2020Q3"
             ],
             {
              "frame": {
               "duration": 0,
               "redraw": false
              },
              "fromcurrent": true,
              "mode": "immediate",
              "transition": {
               "duration": 0,
               "easing": "linear"
              }
             }
            ],
            "label": "2020Q3",
            "method": "animate"
           }
          ],
          "x": 0.1,
          "xanchor": "left",
          "y": 0,
          "yanchor": "top"
         }
        ],
        "template": {
         "data": {
          "bar": [
           {
            "error_x": {
             "color": "#2a3f5f"
            },
            "error_y": {
             "color": "#2a3f5f"
            },
            "marker": {
             "line": {
              "color": "#E5ECF6",
              "width": 0.5
             }
            },
            "type": "bar"
           }
          ],
          "barpolar": [
           {
            "marker": {
             "line": {
              "color": "#E5ECF6",
              "width": 0.5
             }
            },
            "type": "barpolar"
           }
          ],
          "carpet": [
           {
            "aaxis": {
             "endlinecolor": "#2a3f5f",
             "gridcolor": "white",
             "linecolor": "white",
             "minorgridcolor": "white",
             "startlinecolor": "#2a3f5f"
            },
            "baxis": {
             "endlinecolor": "#2a3f5f",
             "gridcolor": "white",
             "linecolor": "white",
             "minorgridcolor": "white",
             "startlinecolor": "#2a3f5f"
            },
            "type": "carpet"
           }
          ],
          "choropleth": [
           {
            "colorbar": {
             "outlinewidth": 0,
             "ticks": ""
            },
            "type": "choropleth"
           }
          ],
          "contour": [
           {
            "colorbar": {
             "outlinewidth": 0,
             "ticks": ""
            },
            "colorscale": [
             [
              0,
              "#0d0887"
             ],
             [
              0.1111111111111111,
              "#46039f"
             ],
             [
              0.2222222222222222,
              "#7201a8"
             ],
             [
              0.3333333333333333,
              "#9c179e"
             ],
             [
              0.4444444444444444,
              "#bd3786"
             ],
             [
              0.5555555555555556,
              "#d8576b"
             ],
             [
              0.6666666666666666,
              "#ed7953"
             ],
             [
              0.7777777777777778,
              "#fb9f3a"
             ],
             [
              0.8888888888888888,
              "#fdca26"
             ],
             [
              1,
              "#f0f921"
             ]
            ],
            "type": "contour"
           }
          ],
          "contourcarpet": [
           {
            "colorbar": {
             "outlinewidth": 0,
             "ticks": ""
            },
            "type": "contourcarpet"
           }
          ],
          "heatmap": [
           {
            "colorbar": {
             "outlinewidth": 0,
             "ticks": ""
            },
            "colorscale": [
             [
              0,
              "#0d0887"
             ],
             [
              0.1111111111111111,
              "#46039f"
             ],
             [
              0.2222222222222222,
              "#7201a8"
             ],
             [
              0.3333333333333333,
              "#9c179e"
             ],
             [
              0.4444444444444444,
              "#bd3786"
             ],
             [
              0.5555555555555556,
              "#d8576b"
             ],
             [
              0.6666666666666666,
              "#ed7953"
             ],
             [
              0.7777777777777778,
              "#fb9f3a"
             ],
             [
              0.8888888888888888,
              "#fdca26"
             ],
             [
              1,
              "#f0f921"
             ]
            ],
            "type": "heatmap"
           }
          ],
          "heatmapgl": [
           {
            "colorbar": {
             "outlinewidth": 0,
             "ticks": ""
            },
            "colorscale": [
             [
              0,
              "#0d0887"
             ],
             [
              0.1111111111111111,
              "#46039f"
             ],
             [
              0.2222222222222222,
              "#7201a8"
             ],
             [
              0.3333333333333333,
              "#9c179e"
             ],
             [
              0.4444444444444444,
              "#bd3786"
             ],
             [
              0.5555555555555556,
              "#d8576b"
             ],
             [
              0.6666666666666666,
              "#ed7953"
             ],
             [
              0.7777777777777778,
              "#fb9f3a"
             ],
             [
              0.8888888888888888,
              "#fdca26"
             ],
             [
              1,
              "#f0f921"
             ]
            ],
            "type": "heatmapgl"
           }
          ],
          "histogram": [
           {
            "marker": {
             "colorbar": {
              "outlinewidth": 0,
              "ticks": ""
             }
            },
            "type": "histogram"
           }
          ],
          "histogram2d": [
           {
            "colorbar": {
             "outlinewidth": 0,
             "ticks": ""
            },
            "colorscale": [
             [
              0,
              "#0d0887"
             ],
             [
              0.1111111111111111,
              "#46039f"
             ],
             [
              0.2222222222222222,
              "#7201a8"
             ],
             [
              0.3333333333333333,
              "#9c179e"
             ],
             [
              0.4444444444444444,
              "#bd3786"
             ],
             [
              0.5555555555555556,
              "#d8576b"
             ],
             [
              0.6666666666666666,
              "#ed7953"
             ],
             [
              0.7777777777777778,
              "#fb9f3a"
             ],
             [
              0.8888888888888888,
              "#fdca26"
             ],
             [
              1,
              "#f0f921"
             ]
            ],
            "type": "histogram2d"
           }
          ],
          "histogram2dcontour": [
           {
            "colorbar": {
             "outlinewidth": 0,
             "ticks": ""
            },
            "colorscale": [
             [
              0,
              "#0d0887"
             ],
             [
              0.1111111111111111,
              "#46039f"
             ],
             [
              0.2222222222222222,
              "#7201a8"
             ],
             [
              0.3333333333333333,
              "#9c179e"
             ],
             [
              0.4444444444444444,
              "#bd3786"
             ],
             [
              0.5555555555555556,
              "#d8576b"
             ],
             [
              0.6666666666666666,
              "#ed7953"
             ],
             [
              0.7777777777777778,
              "#fb9f3a"
             ],
             [
              0.8888888888888888,
              "#fdca26"
             ],
             [
              1,
              "#f0f921"
             ]
            ],
            "type": "histogram2dcontour"
           }
          ],
          "mesh3d": [
           {
            "colorbar": {
             "outlinewidth": 0,
             "ticks": ""
            },
            "type": "mesh3d"
           }
          ],
          "parcoords": [
           {
            "line": {
             "colorbar": {
              "outlinewidth": 0,
              "ticks": ""
             }
            },
            "type": "parcoords"
           }
          ],
          "pie": [
           {
            "automargin": true,
            "type": "pie"
           }
          ],
          "scatter": [
           {
            "marker": {
             "colorbar": {
              "outlinewidth": 0,
              "ticks": ""
             }
            },
            "type": "scatter"
           }
          ],
          "scatter3d": [
           {
            "line": {
             "colorbar": {
              "outlinewidth": 0,
              "ticks": ""
             }
            },
            "marker": {
             "colorbar": {
              "outlinewidth": 0,
              "ticks": ""
             }
            },
            "type": "scatter3d"
           }
          ],
          "scattercarpet": [
           {
            "marker": {
             "colorbar": {
              "outlinewidth": 0,
              "ticks": ""
             }
            },
            "type": "scattercarpet"
           }
          ],
          "scattergeo": [
           {
            "marker": {
             "colorbar": {
              "outlinewidth": 0,
              "ticks": ""
             }
            },
            "type": "scattergeo"
           }
          ],
          "scattergl": [
           {
            "marker": {
             "colorbar": {
              "outlinewidth": 0,
              "ticks": ""
             }
            },
            "type": "scattergl"
           }
          ],
          "scattermapbox": [
           {
            "marker": {
             "colorbar": {
              "outlinewidth": 0,
              "ticks": ""
             }
            },
            "type": "scattermapbox"
           }
          ],
          "scatterpolar": [
           {
            "marker": {
             "colorbar": {
              "outlinewidth": 0,
              "ticks": ""
             }
            },
            "type": "scatterpolar"
           }
          ],
          "scatterpolargl": [
           {
            "marker": {
             "colorbar": {
              "outlinewidth": 0,
              "ticks": ""
             }
            },
            "type": "scatterpolargl"
           }
          ],
          "scatterternary": [
           {
            "marker": {
             "colorbar": {
              "outlinewidth": 0,
              "ticks": ""
             }
            },
            "type": "scatterternary"
           }
          ],
          "surface": [
           {
            "colorbar": {
             "outlinewidth": 0,
             "ticks": ""
            },
            "colorscale": [
             [
              0,
              "#0d0887"
             ],
             [
              0.1111111111111111,
              "#46039f"
             ],
             [
              0.2222222222222222,
              "#7201a8"
             ],
             [
              0.3333333333333333,
              "#9c179e"
             ],
             [
              0.4444444444444444,
              "#bd3786"
             ],
             [
              0.5555555555555556,
              "#d8576b"
             ],
             [
              0.6666666666666666,
              "#ed7953"
             ],
             [
              0.7777777777777778,
              "#fb9f3a"
             ],
             [
              0.8888888888888888,
              "#fdca26"
             ],
             [
              1,
              "#f0f921"
             ]
            ],
            "type": "surface"
           }
          ],
          "table": [
           {
            "cells": {
             "fill": {
              "color": "#EBF0F8"
             },
             "line": {
              "color": "white"
             }
            },
            "header": {
             "fill": {
              "color": "#C8D4E3"
             },
             "line": {
              "color": "white"
             }
            },
            "type": "table"
           }
          ]
         },
         "layout": {
          "annotationdefaults": {
           "arrowcolor": "#2a3f5f",
           "arrowhead": 0,
           "arrowwidth": 1
          },
          "autotypenumbers": "strict",
          "coloraxis": {
           "colorbar": {
            "outlinewidth": 0,
            "ticks": ""
           }
          },
          "colorscale": {
           "diverging": [
            [
             0,
             "#8e0152"
            ],
            [
             0.1,
             "#c51b7d"
            ],
            [
             0.2,
             "#de77ae"
            ],
            [
             0.3,
             "#f1b6da"
            ],
            [
             0.4,
             "#fde0ef"
            ],
            [
             0.5,
             "#f7f7f7"
            ],
            [
             0.6,
             "#e6f5d0"
            ],
            [
             0.7,
             "#b8e186"
            ],
            [
             0.8,
             "#7fbc41"
            ],
            [
             0.9,
             "#4d9221"
            ],
            [
             1,
             "#276419"
            ]
           ],
           "sequential": [
            [
             0,
             "#0d0887"
            ],
            [
             0.1111111111111111,
             "#46039f"
            ],
            [
             0.2222222222222222,
             "#7201a8"
            ],
            [
             0.3333333333333333,
             "#9c179e"
            ],
            [
             0.4444444444444444,
             "#bd3786"
            ],
            [
             0.5555555555555556,
             "#d8576b"
            ],
            [
             0.6666666666666666,
             "#ed7953"
            ],
            [
             0.7777777777777778,
             "#fb9f3a"
            ],
            [
             0.8888888888888888,
             "#fdca26"
            ],
            [
             1,
             "#f0f921"
            ]
           ],
           "sequentialminus": [
            [
             0,
             "#0d0887"
            ],
            [
             0.1111111111111111,
             "#46039f"
            ],
            [
             0.2222222222222222,
             "#7201a8"
            ],
            [
             0.3333333333333333,
             "#9c179e"
            ],
            [
             0.4444444444444444,
             "#bd3786"
            ],
            [
             0.5555555555555556,
             "#d8576b"
            ],
            [
             0.6666666666666666,
             "#ed7953"
            ],
            [
             0.7777777777777778,
             "#fb9f3a"
            ],
            [
             0.8888888888888888,
             "#fdca26"
            ],
            [
             1,
             "#f0f921"
            ]
           ]
          },
          "colorway": [
           "#636efa",
           "#EF553B",
           "#00cc96",
           "#ab63fa",
           "#FFA15A",
           "#19d3f3",
           "#FF6692",
           "#B6E880",
           "#FF97FF",
           "#FECB52"
          ],
          "font": {
           "color": "#2a3f5f"
          },
          "geo": {
           "bgcolor": "white",
           "lakecolor": "white",
           "landcolor": "#E5ECF6",
           "showlakes": true,
           "showland": true,
           "subunitcolor": "white"
          },
          "hoverlabel": {
           "align": "left"
          },
          "hovermode": "closest",
          "mapbox": {
           "style": "light"
          },
          "paper_bgcolor": "white",
          "plot_bgcolor": "#E5ECF6",
          "polar": {
           "angularaxis": {
            "gridcolor": "white",
            "linecolor": "white",
            "ticks": ""
           },
           "bgcolor": "#E5ECF6",
           "radialaxis": {
            "gridcolor": "white",
            "linecolor": "white",
            "ticks": ""
           }
          },
          "scene": {
           "xaxis": {
            "backgroundcolor": "#E5ECF6",
            "gridcolor": "white",
            "gridwidth": 2,
            "linecolor": "white",
            "showbackground": true,
            "ticks": "",
            "zerolinecolor": "white"
           },
           "yaxis": {
            "backgroundcolor": "#E5ECF6",
            "gridcolor": "white",
            "gridwidth": 2,
            "linecolor": "white",
            "showbackground": true,
            "ticks": "",
            "zerolinecolor": "white"
           },
           "zaxis": {
            "backgroundcolor": "#E5ECF6",
            "gridcolor": "white",
            "gridwidth": 2,
            "linecolor": "white",
            "showbackground": true,
            "ticks": "",
            "zerolinecolor": "white"
           }
          },
          "shapedefaults": {
           "line": {
            "color": "#2a3f5f"
           }
          },
          "ternary": {
           "aaxis": {
            "gridcolor": "white",
            "linecolor": "white",
            "ticks": ""
           },
           "baxis": {
            "gridcolor": "white",
            "linecolor": "white",
            "ticks": ""
           },
           "bgcolor": "#E5ECF6",
           "caxis": {
            "gridcolor": "white",
            "linecolor": "white",
            "ticks": ""
           }
          },
          "title": {
           "x": 0.05
          },
          "xaxis": {
           "automargin": true,
           "gridcolor": "white",
           "linecolor": "white",
           "ticks": "",
           "title": {
            "standoff": 15
           },
           "zerolinecolor": "white",
           "zerolinewidth": 2
          },
          "yaxis": {
           "automargin": true,
           "gridcolor": "white",
           "linecolor": "white",
           "ticks": "",
           "title": {
            "standoff": 15
           },
           "zerolinecolor": "white",
           "zerolinewidth": 2
          }
         }
        },
        "title": {
         "text": "Delinquency rate vs average mortgage over time"
        },
        "updatemenus": [
         {
          "buttons": [
           {
            "args": [
             null,
             {
              "frame": {
               "duration": 500,
               "redraw": false
              },
              "fromcurrent": true,
              "mode": "immediate",
              "transition": {
               "duration": 500,
               "easing": "linear"
              }
             }
            ],
            "label": "&#9654;",
            "method": "animate"
           },
           {
            "args": [
             [
              null
             ],
             {
              "frame": {
               "duration": 0,
               "redraw": false
              },
              "fromcurrent": true,
              "mode": "immediate",
              "transition": {
               "duration": 0,
               "easing": "linear"
              }
             }
            ],
            "label": "&#9724;",
            "method": "animate"
           }
          ],
          "direction": "left",
          "pad": {
           "r": 10,
           "t": 70
          },
          "showactive": false,
          "type": "buttons",
          "x": 0.1,
          "xanchor": "right",
          "y": 0,
          "yanchor": "top"
         }
        ],
        "xaxis": {
         "anchor": "y",
         "domain": [
          0,
          1
         ],
         "range": [
          0,
          1
         ],
         "title": {
          "text": "DelinquencyRate"
         }
        },
        "yaxis": {
         "anchor": "x",
         "domain": [
          0,
          1
         ],
         "range": [
          100000,
          500000
         ],
         "title": {
          "text": "AverageMortgageAmount"
         }
        }
       }
      },
      "text/html": [
       "<div>                            <div id=\"6282dd44-b516-49ca-9234-3c11e7c12892\" class=\"plotly-graph-div\" style=\"height:525px; width:100%;\"></div>            <script type=\"text/javascript\">                require([\"plotly\"], function(Plotly) {                    window.PLOTLYENV=window.PLOTLYENV || {};                                    if (document.getElementById(\"6282dd44-b516-49ca-9234-3c11e7c12892\")) {                    Plotly.newPlot(                        \"6282dd44-b516-49ca-9234-3c11e7c12892\",                        [{\"hovertemplate\": \"Geography=Newfoundland<br>Time=2012Q3<br>DelinquencyRate=%{x}<br>AverageMortgageAmount=%{y}<br>PopulationSize=%{marker.size}<extra></extra>\", \"ids\": [\"Newfoundland\"], \"legendgroup\": \"Newfoundland\", \"marker\": {\"color\": \"#636efa\", \"size\": [526345], \"sizemode\": \"area\", \"sizeref\": 36835.035, \"symbol\": \"circle\"}, \"mode\": \"markers\", \"name\": \"Newfoundland\", \"orientation\": \"v\", \"showlegend\": true, \"type\": \"scatter\", \"x\": [0.24], \"xaxis\": \"x\", \"y\": [188732], \"yaxis\": \"y\"}, {\"hovertemplate\": \"Geography=Prince Edward Island<br>Time=2012Q3<br>DelinquencyRate=%{x}<br>AverageMortgageAmount=%{y}<br>PopulationSize=%{marker.size}<extra></extra>\", \"ids\": [\"Prince Edward Island\"], \"legendgroup\": \"Prince Edward Island\", \"marker\": {\"color\": \"#EF553B\", \"size\": [144530], \"sizemode\": \"area\", \"sizeref\": 36835.035, \"symbol\": \"circle\"}, \"mode\": \"markers\", \"name\": \"Prince Edward Island\", \"orientation\": \"v\", \"showlegend\": true, \"type\": \"scatter\", \"x\": [0.57], \"xaxis\": \"x\", \"y\": [140279], \"yaxis\": \"y\"}, {\"hovertemplate\": \"Geography=Nova Scotia<br>Time=2012Q3<br>DelinquencyRate=%{x}<br>AverageMortgageAmount=%{y}<br>PopulationSize=%{marker.size}<extra></extra>\", \"ids\": [\"Nova Scotia\"], \"legendgroup\": \"Nova Scotia\", \"marker\": {\"color\": \"#00cc96\", \"size\": [943635], \"sizemode\": \"area\", \"sizeref\": 36835.035, \"symbol\": \"circle\"}, \"mode\": \"markers\", \"name\": \"Nova Scotia\", \"orientation\": \"v\", \"showlegend\": true, \"type\": \"scatter\", \"x\": [0.53], \"xaxis\": \"x\", \"y\": [174688], \"yaxis\": \"y\"}, {\"hovertemplate\": \"Geography=New Brunswick<br>Time=2012Q3<br>DelinquencyRate=%{x}<br>AverageMortgageAmount=%{y}<br>PopulationSize=%{marker.size}<extra></extra>\", \"ids\": [\"New Brunswick\"], \"legendgroup\": \"New Brunswick\", \"marker\": {\"color\": \"#ab63fa\", \"size\": [758378], \"sizemode\": \"area\", \"sizeref\": 36835.035, \"symbol\": \"circle\"}, \"mode\": \"markers\", \"name\": \"New Brunswick\", \"orientation\": \"v\", \"showlegend\": true, \"type\": \"scatter\", \"x\": [0.63], \"xaxis\": \"x\", \"y\": [133390], \"yaxis\": \"y\"}, {\"hovertemplate\": \"Geography=Qu\\u00e9bec<br>Time=2012Q3<br>DelinquencyRate=%{x}<br>AverageMortgageAmount=%{y}<br>PopulationSize=%{marker.size}<extra></extra>\", \"ids\": [\"Qu\\u00e9bec\"], \"legendgroup\": \"Qu\\u00e9bec\", \"marker\": {\"color\": \"#FFA15A\", \"size\": [8061101], \"sizemode\": \"area\", \"sizeref\": 36835.035, \"symbol\": \"circle\"}, \"mode\": \"markers\", \"name\": \"Qu\\u00e9bec\", \"orientation\": \"v\", \"showlegend\": true, \"type\": \"scatter\", \"x\": [0.33], \"xaxis\": \"x\", \"y\": [159661], \"yaxis\": \"y\"}, {\"hovertemplate\": \"Geography=Ontario<br>Time=2012Q3<br>DelinquencyRate=%{x}<br>AverageMortgageAmount=%{y}<br>PopulationSize=%{marker.size}<extra></extra>\", \"ids\": [\"Ontario\"], \"legendgroup\": \"Ontario\", \"marker\": {\"color\": \"#19d3f3\", \"size\": [13390632], \"sizemode\": \"area\", \"sizeref\": 36835.035, \"symbol\": \"circle\"}, \"mode\": \"markers\", \"name\": \"Ontario\", \"orientation\": \"v\", \"showlegend\": true, \"type\": \"scatter\", \"x\": [0.31], \"xaxis\": \"x\", \"y\": [247455], \"yaxis\": \"y\"}, {\"hovertemplate\": \"Geography=Manitoba<br>Time=2012Q3<br>DelinquencyRate=%{x}<br>AverageMortgageAmount=%{y}<br>PopulationSize=%{marker.size}<extra></extra>\", \"ids\": [\"Manitoba\"], \"legendgroup\": \"Manitoba\", \"marker\": {\"color\": \"#FF6692\", \"size\": [1249975], \"sizemode\": \"area\", \"sizeref\": 36835.035, \"symbol\": \"circle\"}, \"mode\": \"markers\", \"name\": \"Manitoba\", \"orientation\": \"v\", \"showlegend\": true, \"type\": \"scatter\", \"x\": [0.25], \"xaxis\": \"x\", \"y\": [188298], \"yaxis\": \"y\"}, {\"hovertemplate\": \"Geography=Saskatchewan<br>Time=2012Q3<br>DelinquencyRate=%{x}<br>AverageMortgageAmount=%{y}<br>PopulationSize=%{marker.size}<extra></extra>\", \"ids\": [\"Saskatchewan\"], \"legendgroup\": \"Saskatchewan\", \"marker\": {\"color\": \"#B6E880\", \"size\": [1083755], \"sizemode\": \"area\", \"sizeref\": 36835.035, \"symbol\": \"circle\"}, \"mode\": \"markers\", \"name\": \"Saskatchewan\", \"orientation\": \"v\", \"showlegend\": true, \"type\": \"scatter\", \"x\": [0.37], \"xaxis\": \"x\", \"y\": [217945], \"yaxis\": \"y\"}, {\"hovertemplate\": \"Geography=Alberta<br>Time=2012Q3<br>DelinquencyRate=%{x}<br>AverageMortgageAmount=%{y}<br>PopulationSize=%{marker.size}<extra></extra>\", \"ids\": [\"Alberta\"], \"legendgroup\": \"Alberta\", \"marker\": {\"color\": \"#FF97FF\", \"size\": [3874548], \"sizemode\": \"area\", \"sizeref\": 36835.035, \"symbol\": \"circle\"}, \"mode\": \"markers\", \"name\": \"Alberta\", \"orientation\": \"v\", \"showlegend\": true, \"type\": \"scatter\", \"x\": [0.6], \"xaxis\": \"x\", \"y\": [282371], \"yaxis\": \"y\"}, {\"hovertemplate\": \"Geography=British Columbia<br>Time=2012Q3<br>DelinquencyRate=%{x}<br>AverageMortgageAmount=%{y}<br>PopulationSize=%{marker.size}<extra></extra>\", \"ids\": [\"British Columbia\"], \"legendgroup\": \"British Columbia\", \"marker\": {\"color\": \"#FECB52\", \"size\": [4566769], \"sizemode\": \"area\", \"sizeref\": 36835.035, \"symbol\": \"circle\"}, \"mode\": \"markers\", \"name\": \"British Columbia\", \"orientation\": \"v\", \"showlegend\": true, \"type\": \"scatter\", \"x\": [0.42], \"xaxis\": \"x\", \"y\": [305427], \"yaxis\": \"y\"}],                        {\"legend\": {\"itemsizing\": \"constant\", \"title\": {\"text\": \"Geography\"}, \"tracegroupgap\": 0}, \"sliders\": [{\"active\": 0, \"currentvalue\": {\"prefix\": \"Time=\"}, \"len\": 0.9, \"pad\": {\"b\": 10, \"t\": 60}, \"steps\": [{\"args\": [[\"2012Q3\"], {\"frame\": {\"duration\": 0, \"redraw\": false}, \"fromcurrent\": true, \"mode\": \"immediate\", \"transition\": {\"duration\": 0, \"easing\": \"linear\"}}], \"label\": \"2012Q3\", \"method\": \"animate\"}, {\"args\": [[\"2012Q4\"], {\"frame\": {\"duration\": 0, \"redraw\": false}, \"fromcurrent\": true, \"mode\": \"immediate\", \"transition\": {\"duration\": 0, \"easing\": \"linear\"}}], \"label\": \"2012Q4\", \"method\": \"animate\"}, {\"args\": [[\"2013Q1\"], {\"frame\": {\"duration\": 0, \"redraw\": false}, \"fromcurrent\": true, \"mode\": \"immediate\", \"transition\": {\"duration\": 0, \"easing\": \"linear\"}}], \"label\": \"2013Q1\", \"method\": \"animate\"}, {\"args\": [[\"2013Q2\"], {\"frame\": {\"duration\": 0, \"redraw\": false}, \"fromcurrent\": true, \"mode\": \"immediate\", \"transition\": {\"duration\": 0, \"easing\": \"linear\"}}], \"label\": \"2013Q2\", \"method\": \"animate\"}, {\"args\": [[\"2013Q3\"], {\"frame\": {\"duration\": 0, \"redraw\": false}, \"fromcurrent\": true, \"mode\": \"immediate\", \"transition\": {\"duration\": 0, \"easing\": \"linear\"}}], \"label\": \"2013Q3\", \"method\": \"animate\"}, {\"args\": [[\"2013Q4\"], {\"frame\": {\"duration\": 0, \"redraw\": false}, \"fromcurrent\": true, \"mode\": \"immediate\", \"transition\": {\"duration\": 0, \"easing\": \"linear\"}}], \"label\": \"2013Q4\", \"method\": \"animate\"}, {\"args\": [[\"2014Q1\"], {\"frame\": {\"duration\": 0, \"redraw\": false}, \"fromcurrent\": true, \"mode\": \"immediate\", \"transition\": {\"duration\": 0, \"easing\": \"linear\"}}], \"label\": \"2014Q1\", \"method\": \"animate\"}, {\"args\": [[\"2014Q2\"], {\"frame\": {\"duration\": 0, \"redraw\": false}, \"fromcurrent\": true, \"mode\": \"immediate\", \"transition\": {\"duration\": 0, \"easing\": \"linear\"}}], \"label\": \"2014Q2\", \"method\": \"animate\"}, {\"args\": [[\"2014Q3\"], {\"frame\": {\"duration\": 0, \"redraw\": false}, \"fromcurrent\": true, \"mode\": \"immediate\", \"transition\": {\"duration\": 0, \"easing\": \"linear\"}}], \"label\": \"2014Q3\", \"method\": \"animate\"}, {\"args\": [[\"2014Q4\"], {\"frame\": {\"duration\": 0, \"redraw\": false}, \"fromcurrent\": true, \"mode\": \"immediate\", \"transition\": {\"duration\": 0, \"easing\": \"linear\"}}], \"label\": \"2014Q4\", \"method\": \"animate\"}, {\"args\": [[\"2015Q1\"], {\"frame\": {\"duration\": 0, \"redraw\": false}, \"fromcurrent\": true, \"mode\": \"immediate\", \"transition\": {\"duration\": 0, \"easing\": \"linear\"}}], \"label\": \"2015Q1\", \"method\": \"animate\"}, {\"args\": [[\"2015Q2\"], {\"frame\": {\"duration\": 0, \"redraw\": false}, \"fromcurrent\": true, \"mode\": \"immediate\", \"transition\": {\"duration\": 0, \"easing\": \"linear\"}}], \"label\": \"2015Q2\", \"method\": \"animate\"}, {\"args\": [[\"2015Q3\"], {\"frame\": {\"duration\": 0, \"redraw\": false}, \"fromcurrent\": true, \"mode\": \"immediate\", \"transition\": {\"duration\": 0, \"easing\": \"linear\"}}], \"label\": \"2015Q3\", \"method\": \"animate\"}, {\"args\": [[\"2015Q4\"], {\"frame\": {\"duration\": 0, \"redraw\": false}, \"fromcurrent\": true, \"mode\": \"immediate\", \"transition\": {\"duration\": 0, \"easing\": \"linear\"}}], \"label\": \"2015Q4\", \"method\": \"animate\"}, {\"args\": [[\"2016Q1\"], {\"frame\": {\"duration\": 0, \"redraw\": false}, \"fromcurrent\": true, \"mode\": \"immediate\", \"transition\": {\"duration\": 0, \"easing\": \"linear\"}}], \"label\": \"2016Q1\", \"method\": \"animate\"}, {\"args\": [[\"2016Q2\"], {\"frame\": {\"duration\": 0, \"redraw\": false}, \"fromcurrent\": true, \"mode\": \"immediate\", \"transition\": {\"duration\": 0, \"easing\": \"linear\"}}], \"label\": \"2016Q2\", \"method\": \"animate\"}, {\"args\": [[\"2016Q3\"], {\"frame\": {\"duration\": 0, \"redraw\": false}, \"fromcurrent\": true, \"mode\": \"immediate\", \"transition\": {\"duration\": 0, \"easing\": \"linear\"}}], \"label\": \"2016Q3\", \"method\": \"animate\"}, {\"args\": [[\"2016Q4\"], {\"frame\": {\"duration\": 0, \"redraw\": false}, \"fromcurrent\": true, \"mode\": \"immediate\", \"transition\": {\"duration\": 0, \"easing\": \"linear\"}}], \"label\": \"2016Q4\", \"method\": \"animate\"}, {\"args\": [[\"2017Q1\"], {\"frame\": {\"duration\": 0, \"redraw\": false}, \"fromcurrent\": true, \"mode\": \"immediate\", \"transition\": {\"duration\": 0, \"easing\": \"linear\"}}], \"label\": \"2017Q1\", \"method\": \"animate\"}, {\"args\": [[\"2017Q2\"], {\"frame\": {\"duration\": 0, \"redraw\": false}, \"fromcurrent\": true, \"mode\": \"immediate\", \"transition\": {\"duration\": 0, \"easing\": \"linear\"}}], \"label\": \"2017Q2\", \"method\": \"animate\"}, {\"args\": [[\"2017Q3\"], {\"frame\": {\"duration\": 0, \"redraw\": false}, \"fromcurrent\": true, \"mode\": \"immediate\", \"transition\": {\"duration\": 0, \"easing\": \"linear\"}}], \"label\": \"2017Q3\", \"method\": \"animate\"}, {\"args\": [[\"2017Q4\"], {\"frame\": {\"duration\": 0, \"redraw\": false}, \"fromcurrent\": true, \"mode\": \"immediate\", \"transition\": {\"duration\": 0, \"easing\": \"linear\"}}], \"label\": \"2017Q4\", \"method\": \"animate\"}, {\"args\": [[\"2018Q1\"], {\"frame\": {\"duration\": 0, \"redraw\": false}, \"fromcurrent\": true, \"mode\": \"immediate\", \"transition\": {\"duration\": 0, \"easing\": \"linear\"}}], \"label\": \"2018Q1\", \"method\": \"animate\"}, {\"args\": [[\"2018Q2\"], {\"frame\": {\"duration\": 0, \"redraw\": false}, \"fromcurrent\": true, \"mode\": \"immediate\", \"transition\": {\"duration\": 0, \"easing\": \"linear\"}}], \"label\": \"2018Q2\", \"method\": \"animate\"}, {\"args\": [[\"2018Q3\"], {\"frame\": {\"duration\": 0, \"redraw\": false}, \"fromcurrent\": true, \"mode\": \"immediate\", \"transition\": {\"duration\": 0, \"easing\": \"linear\"}}], \"label\": \"2018Q3\", \"method\": \"animate\"}, {\"args\": [[\"2018Q4\"], {\"frame\": {\"duration\": 0, \"redraw\": false}, \"fromcurrent\": true, \"mode\": \"immediate\", \"transition\": {\"duration\": 0, \"easing\": \"linear\"}}], \"label\": \"2018Q4\", \"method\": \"animate\"}, {\"args\": [[\"2019Q1\"], {\"frame\": {\"duration\": 0, \"redraw\": false}, \"fromcurrent\": true, \"mode\": \"immediate\", \"transition\": {\"duration\": 0, \"easing\": \"linear\"}}], \"label\": \"2019Q1\", \"method\": \"animate\"}, {\"args\": [[\"2019Q2\"], {\"frame\": {\"duration\": 0, \"redraw\": false}, \"fromcurrent\": true, \"mode\": \"immediate\", \"transition\": {\"duration\": 0, \"easing\": \"linear\"}}], \"label\": \"2019Q2\", \"method\": \"animate\"}, {\"args\": [[\"2019Q3\"], {\"frame\": {\"duration\": 0, \"redraw\": false}, \"fromcurrent\": true, \"mode\": \"immediate\", \"transition\": {\"duration\": 0, \"easing\": \"linear\"}}], \"label\": \"2019Q3\", \"method\": \"animate\"}, {\"args\": [[\"2019Q4\"], {\"frame\": {\"duration\": 0, \"redraw\": false}, \"fromcurrent\": true, \"mode\": \"immediate\", \"transition\": {\"duration\": 0, \"easing\": \"linear\"}}], \"label\": \"2019Q4\", \"method\": \"animate\"}, {\"args\": [[\"2020Q1\"], {\"frame\": {\"duration\": 0, \"redraw\": false}, \"fromcurrent\": true, \"mode\": \"immediate\", \"transition\": {\"duration\": 0, \"easing\": \"linear\"}}], \"label\": \"2020Q1\", \"method\": \"animate\"}, {\"args\": [[\"2020Q2\"], {\"frame\": {\"duration\": 0, \"redraw\": false}, \"fromcurrent\": true, \"mode\": \"immediate\", \"transition\": {\"duration\": 0, \"easing\": \"linear\"}}], \"label\": \"2020Q2\", \"method\": \"animate\"}, {\"args\": [[\"2020Q3\"], {\"frame\": {\"duration\": 0, \"redraw\": false}, \"fromcurrent\": true, \"mode\": \"immediate\", \"transition\": {\"duration\": 0, \"easing\": \"linear\"}}], \"label\": \"2020Q3\", \"method\": \"animate\"}], \"x\": 0.1, \"xanchor\": \"left\", \"y\": 0, \"yanchor\": \"top\"}], \"template\": {\"data\": {\"bar\": [{\"error_x\": {\"color\": \"#2a3f5f\"}, \"error_y\": {\"color\": \"#2a3f5f\"}, \"marker\": {\"line\": {\"color\": \"#E5ECF6\", \"width\": 0.5}}, \"type\": \"bar\"}], \"barpolar\": [{\"marker\": {\"line\": {\"color\": \"#E5ECF6\", \"width\": 0.5}}, \"type\": \"barpolar\"}], \"carpet\": [{\"aaxis\": {\"endlinecolor\": \"#2a3f5f\", \"gridcolor\": \"white\", \"linecolor\": \"white\", \"minorgridcolor\": \"white\", \"startlinecolor\": \"#2a3f5f\"}, \"baxis\": {\"endlinecolor\": \"#2a3f5f\", \"gridcolor\": \"white\", \"linecolor\": \"white\", \"minorgridcolor\": \"white\", \"startlinecolor\": \"#2a3f5f\"}, \"type\": \"carpet\"}], \"choropleth\": [{\"colorbar\": {\"outlinewidth\": 0, \"ticks\": \"\"}, \"type\": \"choropleth\"}], \"contour\": [{\"colorbar\": {\"outlinewidth\": 0, \"ticks\": \"\"}, \"colorscale\": [[0.0, \"#0d0887\"], [0.1111111111111111, \"#46039f\"], [0.2222222222222222, \"#7201a8\"], [0.3333333333333333, \"#9c179e\"], [0.4444444444444444, \"#bd3786\"], [0.5555555555555556, \"#d8576b\"], [0.6666666666666666, \"#ed7953\"], [0.7777777777777778, \"#fb9f3a\"], [0.8888888888888888, \"#fdca26\"], [1.0, \"#f0f921\"]], \"type\": \"contour\"}], \"contourcarpet\": [{\"colorbar\": {\"outlinewidth\": 0, \"ticks\": \"\"}, \"type\": \"contourcarpet\"}], \"heatmap\": [{\"colorbar\": {\"outlinewidth\": 0, \"ticks\": \"\"}, \"colorscale\": [[0.0, \"#0d0887\"], [0.1111111111111111, \"#46039f\"], [0.2222222222222222, \"#7201a8\"], [0.3333333333333333, \"#9c179e\"], [0.4444444444444444, \"#bd3786\"], [0.5555555555555556, \"#d8576b\"], [0.6666666666666666, \"#ed7953\"], [0.7777777777777778, \"#fb9f3a\"], [0.8888888888888888, \"#fdca26\"], [1.0, \"#f0f921\"]], \"type\": \"heatmap\"}], \"heatmapgl\": [{\"colorbar\": {\"outlinewidth\": 0, \"ticks\": \"\"}, \"colorscale\": [[0.0, \"#0d0887\"], [0.1111111111111111, \"#46039f\"], [0.2222222222222222, \"#7201a8\"], [0.3333333333333333, \"#9c179e\"], [0.4444444444444444, \"#bd3786\"], [0.5555555555555556, \"#d8576b\"], [0.6666666666666666, \"#ed7953\"], [0.7777777777777778, \"#fb9f3a\"], [0.8888888888888888, \"#fdca26\"], [1.0, \"#f0f921\"]], \"type\": \"heatmapgl\"}], \"histogram\": [{\"marker\": {\"colorbar\": {\"outlinewidth\": 0, \"ticks\": \"\"}}, \"type\": \"histogram\"}], \"histogram2d\": [{\"colorbar\": {\"outlinewidth\": 0, \"ticks\": \"\"}, \"colorscale\": [[0.0, \"#0d0887\"], [0.1111111111111111, \"#46039f\"], [0.2222222222222222, \"#7201a8\"], [0.3333333333333333, \"#9c179e\"], [0.4444444444444444, \"#bd3786\"], [0.5555555555555556, \"#d8576b\"], [0.6666666666666666, \"#ed7953\"], [0.7777777777777778, \"#fb9f3a\"], [0.8888888888888888, \"#fdca26\"], [1.0, \"#f0f921\"]], \"type\": \"histogram2d\"}], \"histogram2dcontour\": [{\"colorbar\": {\"outlinewidth\": 0, \"ticks\": \"\"}, \"colorscale\": [[0.0, \"#0d0887\"], [0.1111111111111111, \"#46039f\"], [0.2222222222222222, \"#7201a8\"], [0.3333333333333333, \"#9c179e\"], [0.4444444444444444, \"#bd3786\"], [0.5555555555555556, \"#d8576b\"], [0.6666666666666666, \"#ed7953\"], [0.7777777777777778, \"#fb9f3a\"], [0.8888888888888888, \"#fdca26\"], [1.0, \"#f0f921\"]], \"type\": \"histogram2dcontour\"}], \"mesh3d\": [{\"colorbar\": {\"outlinewidth\": 0, \"ticks\": \"\"}, \"type\": \"mesh3d\"}], \"parcoords\": [{\"line\": {\"colorbar\": {\"outlinewidth\": 0, \"ticks\": \"\"}}, \"type\": \"parcoords\"}], \"pie\": [{\"automargin\": true, \"type\": \"pie\"}], \"scatter\": [{\"marker\": {\"colorbar\": {\"outlinewidth\": 0, \"ticks\": \"\"}}, \"type\": \"scatter\"}], \"scatter3d\": [{\"line\": {\"colorbar\": {\"outlinewidth\": 0, \"ticks\": \"\"}}, \"marker\": {\"colorbar\": {\"outlinewidth\": 0, \"ticks\": \"\"}}, \"type\": \"scatter3d\"}], \"scattercarpet\": [{\"marker\": {\"colorbar\": {\"outlinewidth\": 0, \"ticks\": \"\"}}, \"type\": \"scattercarpet\"}], \"scattergeo\": [{\"marker\": {\"colorbar\": {\"outlinewidth\": 0, \"ticks\": \"\"}}, \"type\": \"scattergeo\"}], \"scattergl\": [{\"marker\": {\"colorbar\": {\"outlinewidth\": 0, \"ticks\": \"\"}}, \"type\": \"scattergl\"}], \"scattermapbox\": [{\"marker\": {\"colorbar\": {\"outlinewidth\": 0, \"ticks\": \"\"}}, \"type\": \"scattermapbox\"}], \"scatterpolar\": [{\"marker\": {\"colorbar\": {\"outlinewidth\": 0, \"ticks\": \"\"}}, \"type\": \"scatterpolar\"}], \"scatterpolargl\": [{\"marker\": {\"colorbar\": {\"outlinewidth\": 0, \"ticks\": \"\"}}, \"type\": \"scatterpolargl\"}], \"scatterternary\": [{\"marker\": {\"colorbar\": {\"outlinewidth\": 0, \"ticks\": \"\"}}, \"type\": \"scatterternary\"}], \"surface\": [{\"colorbar\": {\"outlinewidth\": 0, \"ticks\": \"\"}, \"colorscale\": [[0.0, \"#0d0887\"], [0.1111111111111111, \"#46039f\"], [0.2222222222222222, \"#7201a8\"], [0.3333333333333333, \"#9c179e\"], [0.4444444444444444, \"#bd3786\"], [0.5555555555555556, \"#d8576b\"], [0.6666666666666666, \"#ed7953\"], [0.7777777777777778, \"#fb9f3a\"], [0.8888888888888888, \"#fdca26\"], [1.0, \"#f0f921\"]], \"type\": \"surface\"}], \"table\": [{\"cells\": {\"fill\": {\"color\": \"#EBF0F8\"}, \"line\": {\"color\": \"white\"}}, \"header\": {\"fill\": {\"color\": \"#C8D4E3\"}, \"line\": {\"color\": \"white\"}}, \"type\": \"table\"}]}, \"layout\": {\"annotationdefaults\": {\"arrowcolor\": \"#2a3f5f\", \"arrowhead\": 0, \"arrowwidth\": 1}, \"autotypenumbers\": \"strict\", \"coloraxis\": {\"colorbar\": {\"outlinewidth\": 0, \"ticks\": \"\"}}, \"colorscale\": {\"diverging\": [[0, \"#8e0152\"], [0.1, \"#c51b7d\"], [0.2, \"#de77ae\"], [0.3, \"#f1b6da\"], [0.4, \"#fde0ef\"], [0.5, \"#f7f7f7\"], [0.6, \"#e6f5d0\"], [0.7, \"#b8e186\"], [0.8, \"#7fbc41\"], [0.9, \"#4d9221\"], [1, \"#276419\"]], \"sequential\": [[0.0, \"#0d0887\"], [0.1111111111111111, \"#46039f\"], [0.2222222222222222, \"#7201a8\"], [0.3333333333333333, \"#9c179e\"], [0.4444444444444444, \"#bd3786\"], [0.5555555555555556, \"#d8576b\"], [0.6666666666666666, \"#ed7953\"], [0.7777777777777778, \"#fb9f3a\"], [0.8888888888888888, \"#fdca26\"], [1.0, \"#f0f921\"]], \"sequentialminus\": [[0.0, \"#0d0887\"], [0.1111111111111111, \"#46039f\"], [0.2222222222222222, \"#7201a8\"], [0.3333333333333333, \"#9c179e\"], [0.4444444444444444, \"#bd3786\"], [0.5555555555555556, \"#d8576b\"], [0.6666666666666666, \"#ed7953\"], [0.7777777777777778, \"#fb9f3a\"], [0.8888888888888888, \"#fdca26\"], [1.0, \"#f0f921\"]]}, \"colorway\": [\"#636efa\", \"#EF553B\", \"#00cc96\", \"#ab63fa\", \"#FFA15A\", \"#19d3f3\", \"#FF6692\", \"#B6E880\", \"#FF97FF\", \"#FECB52\"], \"font\": {\"color\": \"#2a3f5f\"}, \"geo\": {\"bgcolor\": \"white\", \"lakecolor\": \"white\", \"landcolor\": \"#E5ECF6\", \"showlakes\": true, \"showland\": true, \"subunitcolor\": \"white\"}, \"hoverlabel\": {\"align\": \"left\"}, \"hovermode\": \"closest\", \"mapbox\": {\"style\": \"light\"}, \"paper_bgcolor\": \"white\", \"plot_bgcolor\": \"#E5ECF6\", \"polar\": {\"angularaxis\": {\"gridcolor\": \"white\", \"linecolor\": \"white\", \"ticks\": \"\"}, \"bgcolor\": \"#E5ECF6\", \"radialaxis\": {\"gridcolor\": \"white\", \"linecolor\": \"white\", \"ticks\": \"\"}}, \"scene\": {\"xaxis\": {\"backgroundcolor\": \"#E5ECF6\", \"gridcolor\": \"white\", \"gridwidth\": 2, \"linecolor\": \"white\", \"showbackground\": true, \"ticks\": \"\", \"zerolinecolor\": \"white\"}, \"yaxis\": {\"backgroundcolor\": \"#E5ECF6\", \"gridcolor\": \"white\", \"gridwidth\": 2, \"linecolor\": \"white\", \"showbackground\": true, \"ticks\": \"\", \"zerolinecolor\": \"white\"}, \"zaxis\": {\"backgroundcolor\": \"#E5ECF6\", \"gridcolor\": \"white\", \"gridwidth\": 2, \"linecolor\": \"white\", \"showbackground\": true, \"ticks\": \"\", \"zerolinecolor\": \"white\"}}, \"shapedefaults\": {\"line\": {\"color\": \"#2a3f5f\"}}, \"ternary\": {\"aaxis\": {\"gridcolor\": \"white\", \"linecolor\": \"white\", \"ticks\": \"\"}, \"baxis\": {\"gridcolor\": \"white\", \"linecolor\": \"white\", \"ticks\": \"\"}, \"bgcolor\": \"#E5ECF6\", \"caxis\": {\"gridcolor\": \"white\", \"linecolor\": \"white\", \"ticks\": \"\"}}, \"title\": {\"x\": 0.05}, \"xaxis\": {\"automargin\": true, \"gridcolor\": \"white\", \"linecolor\": \"white\", \"ticks\": \"\", \"title\": {\"standoff\": 15}, \"zerolinecolor\": \"white\", \"zerolinewidth\": 2}, \"yaxis\": {\"automargin\": true, \"gridcolor\": \"white\", \"linecolor\": \"white\", \"ticks\": \"\", \"title\": {\"standoff\": 15}, \"zerolinecolor\": \"white\", \"zerolinewidth\": 2}}}, \"title\": {\"text\": \"Delinquency rate vs average mortgage over time\"}, \"updatemenus\": [{\"buttons\": [{\"args\": [null, {\"frame\": {\"duration\": 500, \"redraw\": false}, \"fromcurrent\": true, \"mode\": \"immediate\", \"transition\": {\"duration\": 500, \"easing\": \"linear\"}}], \"label\": \"&#9654;\", \"method\": \"animate\"}, {\"args\": [[null], {\"frame\": {\"duration\": 0, \"redraw\": false}, \"fromcurrent\": true, \"mode\": \"immediate\", \"transition\": {\"duration\": 0, \"easing\": \"linear\"}}], \"label\": \"&#9724;\", \"method\": \"animate\"}], \"direction\": \"left\", \"pad\": {\"r\": 10, \"t\": 70}, \"showactive\": false, \"type\": \"buttons\", \"x\": 0.1, \"xanchor\": \"right\", \"y\": 0, \"yanchor\": \"top\"}], \"xaxis\": {\"anchor\": \"y\", \"domain\": [0.0, 1.0], \"range\": [0, 1], \"title\": {\"text\": \"DelinquencyRate\"}}, \"yaxis\": {\"anchor\": \"x\", \"domain\": [0.0, 1.0], \"range\": [100000, 500000], \"title\": {\"text\": \"AverageMortgageAmount\"}}},                        {\"responsive\": true}                    ).then(function(){\n",
       "                            Plotly.addFrames('6282dd44-b516-49ca-9234-3c11e7c12892', [{\"data\": [{\"hovertemplate\": \"Geography=Newfoundland<br>Time=2012Q3<br>DelinquencyRate=%{x}<br>AverageMortgageAmount=%{y}<br>PopulationSize=%{marker.size}<extra></extra>\", \"ids\": [\"Newfoundland\"], \"legendgroup\": \"Newfoundland\", \"marker\": {\"color\": \"#636efa\", \"size\": [526345], \"sizemode\": \"area\", \"sizeref\": 36835.035, \"symbol\": \"circle\"}, \"mode\": \"markers\", \"name\": \"Newfoundland\", \"orientation\": \"v\", \"showlegend\": true, \"x\": [0.24], \"xaxis\": \"x\", \"y\": [188732], \"yaxis\": \"y\", \"type\": \"scatter\"}, {\"hovertemplate\": \"Geography=Prince Edward Island<br>Time=2012Q3<br>DelinquencyRate=%{x}<br>AverageMortgageAmount=%{y}<br>PopulationSize=%{marker.size}<extra></extra>\", \"ids\": [\"Prince Edward Island\"], \"legendgroup\": \"Prince Edward Island\", \"marker\": {\"color\": \"#EF553B\", \"size\": [144530], \"sizemode\": \"area\", \"sizeref\": 36835.035, \"symbol\": \"circle\"}, \"mode\": \"markers\", \"name\": \"Prince Edward Island\", \"orientation\": \"v\", \"showlegend\": true, \"x\": [0.57], \"xaxis\": \"x\", \"y\": [140279], \"yaxis\": \"y\", \"type\": \"scatter\"}, {\"hovertemplate\": \"Geography=Nova Scotia<br>Time=2012Q3<br>DelinquencyRate=%{x}<br>AverageMortgageAmount=%{y}<br>PopulationSize=%{marker.size}<extra></extra>\", \"ids\": [\"Nova Scotia\"], \"legendgroup\": \"Nova Scotia\", \"marker\": {\"color\": \"#00cc96\", \"size\": [943635], \"sizemode\": \"area\", \"sizeref\": 36835.035, \"symbol\": \"circle\"}, \"mode\": \"markers\", \"name\": \"Nova Scotia\", \"orientation\": \"v\", \"showlegend\": true, \"x\": [0.53], \"xaxis\": \"x\", \"y\": [174688], \"yaxis\": \"y\", \"type\": \"scatter\"}, {\"hovertemplate\": \"Geography=New Brunswick<br>Time=2012Q3<br>DelinquencyRate=%{x}<br>AverageMortgageAmount=%{y}<br>PopulationSize=%{marker.size}<extra></extra>\", \"ids\": [\"New Brunswick\"], \"legendgroup\": \"New Brunswick\", \"marker\": {\"color\": \"#ab63fa\", \"size\": [758378], \"sizemode\": \"area\", \"sizeref\": 36835.035, \"symbol\": \"circle\"}, \"mode\": \"markers\", \"name\": \"New Brunswick\", \"orientation\": \"v\", \"showlegend\": true, \"x\": [0.63], \"xaxis\": \"x\", \"y\": [133390], \"yaxis\": \"y\", \"type\": \"scatter\"}, {\"hovertemplate\": \"Geography=Qu\\u00e9bec<br>Time=2012Q3<br>DelinquencyRate=%{x}<br>AverageMortgageAmount=%{y}<br>PopulationSize=%{marker.size}<extra></extra>\", \"ids\": [\"Qu\\u00e9bec\"], \"legendgroup\": \"Qu\\u00e9bec\", \"marker\": {\"color\": \"#FFA15A\", \"size\": [8061101], \"sizemode\": \"area\", \"sizeref\": 36835.035, \"symbol\": \"circle\"}, \"mode\": \"markers\", \"name\": \"Qu\\u00e9bec\", \"orientation\": \"v\", \"showlegend\": true, \"x\": [0.33], \"xaxis\": \"x\", \"y\": [159661], \"yaxis\": \"y\", \"type\": \"scatter\"}, {\"hovertemplate\": \"Geography=Ontario<br>Time=2012Q3<br>DelinquencyRate=%{x}<br>AverageMortgageAmount=%{y}<br>PopulationSize=%{marker.size}<extra></extra>\", \"ids\": [\"Ontario\"], \"legendgroup\": \"Ontario\", \"marker\": {\"color\": \"#19d3f3\", \"size\": [13390632], \"sizemode\": \"area\", \"sizeref\": 36835.035, \"symbol\": \"circle\"}, \"mode\": \"markers\", \"name\": \"Ontario\", \"orientation\": \"v\", \"showlegend\": true, \"x\": [0.31], \"xaxis\": \"x\", \"y\": [247455], \"yaxis\": \"y\", \"type\": \"scatter\"}, {\"hovertemplate\": \"Geography=Manitoba<br>Time=2012Q3<br>DelinquencyRate=%{x}<br>AverageMortgageAmount=%{y}<br>PopulationSize=%{marker.size}<extra></extra>\", \"ids\": [\"Manitoba\"], \"legendgroup\": \"Manitoba\", \"marker\": {\"color\": \"#FF6692\", \"size\": [1249975], \"sizemode\": \"area\", \"sizeref\": 36835.035, \"symbol\": \"circle\"}, \"mode\": \"markers\", \"name\": \"Manitoba\", \"orientation\": \"v\", \"showlegend\": true, \"x\": [0.25], \"xaxis\": \"x\", \"y\": [188298], \"yaxis\": \"y\", \"type\": \"scatter\"}, {\"hovertemplate\": \"Geography=Saskatchewan<br>Time=2012Q3<br>DelinquencyRate=%{x}<br>AverageMortgageAmount=%{y}<br>PopulationSize=%{marker.size}<extra></extra>\", \"ids\": [\"Saskatchewan\"], \"legendgroup\": \"Saskatchewan\", \"marker\": {\"color\": \"#B6E880\", \"size\": [1083755], \"sizemode\": \"area\", \"sizeref\": 36835.035, \"symbol\": \"circle\"}, \"mode\": \"markers\", \"name\": \"Saskatchewan\", \"orientation\": \"v\", \"showlegend\": true, \"x\": [0.37], \"xaxis\": \"x\", \"y\": [217945], \"yaxis\": \"y\", \"type\": \"scatter\"}, {\"hovertemplate\": \"Geography=Alberta<br>Time=2012Q3<br>DelinquencyRate=%{x}<br>AverageMortgageAmount=%{y}<br>PopulationSize=%{marker.size}<extra></extra>\", \"ids\": [\"Alberta\"], \"legendgroup\": \"Alberta\", \"marker\": {\"color\": \"#FF97FF\", \"size\": [3874548], \"sizemode\": \"area\", \"sizeref\": 36835.035, \"symbol\": \"circle\"}, \"mode\": \"markers\", \"name\": \"Alberta\", \"orientation\": \"v\", \"showlegend\": true, \"x\": [0.6], \"xaxis\": \"x\", \"y\": [282371], \"yaxis\": \"y\", \"type\": \"scatter\"}, {\"hovertemplate\": \"Geography=British Columbia<br>Time=2012Q3<br>DelinquencyRate=%{x}<br>AverageMortgageAmount=%{y}<br>PopulationSize=%{marker.size}<extra></extra>\", \"ids\": [\"British Columbia\"], \"legendgroup\": \"British Columbia\", \"marker\": {\"color\": \"#FECB52\", \"size\": [4566769], \"sizemode\": \"area\", \"sizeref\": 36835.035, \"symbol\": \"circle\"}, \"mode\": \"markers\", \"name\": \"British Columbia\", \"orientation\": \"v\", \"showlegend\": true, \"x\": [0.42], \"xaxis\": \"x\", \"y\": [305427], \"yaxis\": \"y\", \"type\": \"scatter\"}], \"name\": \"2012Q3\"}, {\"data\": [{\"hovertemplate\": \"Geography=Newfoundland<br>Time=2012Q4<br>DelinquencyRate=%{x}<br>AverageMortgageAmount=%{y}<br>PopulationSize=%{marker.size}<extra></extra>\", \"ids\": [\"Newfoundland\"], \"legendgroup\": \"Newfoundland\", \"marker\": {\"color\": \"#636efa\", \"size\": [527180], \"sizemode\": \"area\", \"sizeref\": 36835.035, \"symbol\": \"circle\"}, \"mode\": \"markers\", \"name\": \"Newfoundland\", \"orientation\": \"v\", \"showlegend\": true, \"x\": [0.22], \"xaxis\": \"x\", \"y\": [185794], \"yaxis\": \"y\", \"type\": \"scatter\"}, {\"hovertemplate\": \"Geography=Prince Edward Island<br>Time=2012Q4<br>DelinquencyRate=%{x}<br>AverageMortgageAmount=%{y}<br>PopulationSize=%{marker.size}<extra></extra>\", \"ids\": [\"Prince Edward Island\"], \"legendgroup\": \"Prince Edward Island\", \"marker\": {\"color\": \"#EF553B\", \"size\": [144520], \"sizemode\": \"area\", \"sizeref\": 36835.035, \"symbol\": \"circle\"}, \"mode\": \"markers\", \"name\": \"Prince Edward Island\", \"orientation\": \"v\", \"showlegend\": true, \"x\": [0.5], \"xaxis\": \"x\", \"y\": [138415], \"yaxis\": \"y\", \"type\": \"scatter\"}, {\"hovertemplate\": \"Geography=Nova Scotia<br>Time=2012Q4<br>DelinquencyRate=%{x}<br>AverageMortgageAmount=%{y}<br>PopulationSize=%{marker.size}<extra></extra>\", \"ids\": [\"Nova Scotia\"], \"legendgroup\": \"Nova Scotia\", \"marker\": {\"color\": \"#00cc96\", \"size\": [943341], \"sizemode\": \"area\", \"sizeref\": 36835.035, \"symbol\": \"circle\"}, \"mode\": \"markers\", \"name\": \"Nova Scotia\", \"orientation\": \"v\", \"showlegend\": true, \"x\": [0.53], \"xaxis\": \"x\", \"y\": [160046], \"yaxis\": \"y\", \"type\": \"scatter\"}, {\"hovertemplate\": \"Geography=New Brunswick<br>Time=2012Q4<br>DelinquencyRate=%{x}<br>AverageMortgageAmount=%{y}<br>PopulationSize=%{marker.size}<extra></extra>\", \"ids\": [\"New Brunswick\"], \"legendgroup\": \"New Brunswick\", \"marker\": {\"color\": \"#ab63fa\", \"size\": [758673], \"sizemode\": \"area\", \"sizeref\": 36835.035, \"symbol\": \"circle\"}, \"mode\": \"markers\", \"name\": \"New Brunswick\", \"orientation\": \"v\", \"showlegend\": true, \"x\": [0.63], \"xaxis\": \"x\", \"y\": [126138], \"yaxis\": \"y\", \"type\": \"scatter\"}, {\"hovertemplate\": \"Geography=Qu\\u00e9bec<br>Time=2012Q4<br>DelinquencyRate=%{x}<br>AverageMortgageAmount=%{y}<br>PopulationSize=%{marker.size}<extra></extra>\", \"ids\": [\"Qu\\u00e9bec\"], \"legendgroup\": \"Qu\\u00e9bec\", \"marker\": {\"color\": \"#FFA15A\", \"size\": [8078388], \"sizemode\": \"area\", \"sizeref\": 36835.035, \"symbol\": \"circle\"}, \"mode\": \"markers\", \"name\": \"Qu\\u00e9bec\", \"orientation\": \"v\", \"showlegend\": true, \"x\": [0.33], \"xaxis\": \"x\", \"y\": [153413], \"yaxis\": \"y\", \"type\": \"scatter\"}, {\"hovertemplate\": \"Geography=Ontario<br>Time=2012Q4<br>DelinquencyRate=%{x}<br>AverageMortgageAmount=%{y}<br>PopulationSize=%{marker.size}<extra></extra>\", \"ids\": [\"Ontario\"], \"legendgroup\": \"Ontario\", \"marker\": {\"color\": \"#19d3f3\", \"size\": [13434943], \"sizemode\": \"area\", \"sizeref\": 36835.035, \"symbol\": \"circle\"}, \"mode\": \"markers\", \"name\": \"Ontario\", \"orientation\": \"v\", \"showlegend\": true, \"x\": [0.31], \"xaxis\": \"x\", \"y\": [235667], \"yaxis\": \"y\", \"type\": \"scatter\"}, {\"hovertemplate\": \"Geography=Manitoba<br>Time=2012Q4<br>DelinquencyRate=%{x}<br>AverageMortgageAmount=%{y}<br>PopulationSize=%{marker.size}<extra></extra>\", \"ids\": [\"Manitoba\"], \"legendgroup\": \"Manitoba\", \"marker\": {\"color\": \"#FF6692\", \"size\": [1254178], \"sizemode\": \"area\", \"sizeref\": 36835.035, \"symbol\": \"circle\"}, \"mode\": \"markers\", \"name\": \"Manitoba\", \"orientation\": \"v\", \"showlegend\": true, \"x\": [0.27], \"xaxis\": \"x\", \"y\": [181097], \"yaxis\": \"y\", \"type\": \"scatter\"}, {\"hovertemplate\": \"Geography=Saskatchewan<br>Time=2012Q4<br>DelinquencyRate=%{x}<br>AverageMortgageAmount=%{y}<br>PopulationSize=%{marker.size}<extra></extra>\", \"ids\": [\"Saskatchewan\"], \"legendgroup\": \"Saskatchewan\", \"marker\": {\"color\": \"#B6E880\", \"size\": [1088959], \"sizemode\": \"area\", \"sizeref\": 36835.035, \"symbol\": \"circle\"}, \"mode\": \"markers\", \"name\": \"Saskatchewan\", \"orientation\": \"v\", \"showlegend\": true, \"x\": [0.37], \"xaxis\": \"x\", \"y\": [213126], \"yaxis\": \"y\", \"type\": \"scatter\"}, {\"hovertemplate\": \"Geography=Alberta<br>Time=2012Q4<br>DelinquencyRate=%{x}<br>AverageMortgageAmount=%{y}<br>PopulationSize=%{marker.size}<extra></extra>\", \"ids\": [\"Alberta\"], \"legendgroup\": \"Alberta\", \"marker\": {\"color\": \"#FF97FF\", \"size\": [3900333], \"sizemode\": \"area\", \"sizeref\": 36835.035, \"symbol\": \"circle\"}, \"mode\": \"markers\", \"name\": \"Alberta\", \"orientation\": \"v\", \"showlegend\": true, \"x\": [0.55], \"xaxis\": \"x\", \"y\": [277555], \"yaxis\": \"y\", \"type\": \"scatter\"}, {\"hovertemplate\": \"Geography=British Columbia<br>Time=2012Q4<br>DelinquencyRate=%{x}<br>AverageMortgageAmount=%{y}<br>PopulationSize=%{marker.size}<extra></extra>\", \"ids\": [\"British Columbia\"], \"legendgroup\": \"British Columbia\", \"marker\": {\"color\": \"#FECB52\", \"size\": [4590545], \"sizemode\": \"area\", \"sizeref\": 36835.035, \"symbol\": \"circle\"}, \"mode\": \"markers\", \"name\": \"British Columbia\", \"orientation\": \"v\", \"showlegend\": true, \"x\": [0.42], \"xaxis\": \"x\", \"y\": [289864], \"yaxis\": \"y\", \"type\": \"scatter\"}], \"name\": \"2012Q4\"}, {\"data\": [{\"hovertemplate\": \"Geography=Newfoundland<br>Time=2013Q1<br>DelinquencyRate=%{x}<br>AverageMortgageAmount=%{y}<br>PopulationSize=%{marker.size}<extra></extra>\", \"ids\": [\"Newfoundland\"], \"legendgroup\": \"Newfoundland\", \"marker\": {\"color\": \"#636efa\", \"size\": [527248], \"sizemode\": \"area\", \"sizeref\": 36835.035, \"symbol\": \"circle\"}, \"mode\": \"markers\", \"name\": \"Newfoundland\", \"orientation\": \"v\", \"showlegend\": true, \"x\": [0.25], \"xaxis\": \"x\", \"y\": [189098], \"yaxis\": \"y\", \"type\": \"scatter\"}, {\"hovertemplate\": \"Geography=Prince Edward Island<br>Time=2013Q1<br>DelinquencyRate=%{x}<br>AverageMortgageAmount=%{y}<br>PopulationSize=%{marker.size}<extra></extra>\", \"ids\": [\"Prince Edward Island\"], \"legendgroup\": \"Prince Edward Island\", \"marker\": {\"color\": \"#EF553B\", \"size\": [144175], \"sizemode\": \"area\", \"sizeref\": 36835.035, \"symbol\": \"circle\"}, \"mode\": \"markers\", \"name\": \"Prince Edward Island\", \"orientation\": \"v\", \"showlegend\": true, \"x\": [0.55], \"xaxis\": \"x\", \"y\": [137162], \"yaxis\": \"y\", \"type\": \"scatter\"}, {\"hovertemplate\": \"Geography=Nova Scotia<br>Time=2013Q1<br>DelinquencyRate=%{x}<br>AverageMortgageAmount=%{y}<br>PopulationSize=%{marker.size}<extra></extra>\", \"ids\": [\"Nova Scotia\"], \"legendgroup\": \"Nova Scotia\", \"marker\": {\"color\": \"#00cc96\", \"size\": [942598], \"sizemode\": \"area\", \"sizeref\": 36835.035, \"symbol\": \"circle\"}, \"mode\": \"markers\", \"name\": \"Nova Scotia\", \"orientation\": \"v\", \"showlegend\": true, \"x\": [0.55], \"xaxis\": \"x\", \"y\": [158806], \"yaxis\": \"y\", \"type\": \"scatter\"}, {\"hovertemplate\": \"Geography=New Brunswick<br>Time=2013Q1<br>DelinquencyRate=%{x}<br>AverageMortgageAmount=%{y}<br>PopulationSize=%{marker.size}<extra></extra>\", \"ids\": [\"New Brunswick\"], \"legendgroup\": \"New Brunswick\", \"marker\": {\"color\": \"#ab63fa\", \"size\": [758298], \"sizemode\": \"area\", \"sizeref\": 36835.035, \"symbol\": \"circle\"}, \"mode\": \"markers\", \"name\": \"New Brunswick\", \"orientation\": \"v\", \"showlegend\": true, \"x\": [0.65], \"xaxis\": \"x\", \"y\": [124645], \"yaxis\": \"y\", \"type\": \"scatter\"}, {\"hovertemplate\": \"Geography=Qu\\u00e9bec<br>Time=2013Q1<br>DelinquencyRate=%{x}<br>AverageMortgageAmount=%{y}<br>PopulationSize=%{marker.size}<extra></extra>\", \"ids\": [\"Qu\\u00e9bec\"], \"legendgroup\": \"Qu\\u00e9bec\", \"marker\": {\"color\": \"#FFA15A\", \"size\": [8082771], \"sizemode\": \"area\", \"sizeref\": 36835.035, \"symbol\": \"circle\"}, \"mode\": \"markers\", \"name\": \"Qu\\u00e9bec\", \"orientation\": \"v\", \"showlegend\": true, \"x\": [0.35], \"xaxis\": \"x\", \"y\": [153909], \"yaxis\": \"y\", \"type\": \"scatter\"}, {\"hovertemplate\": \"Geography=Ontario<br>Time=2013Q1<br>DelinquencyRate=%{x}<br>AverageMortgageAmount=%{y}<br>PopulationSize=%{marker.size}<extra></extra>\", \"ids\": [\"Ontario\"], \"legendgroup\": \"Ontario\", \"marker\": {\"color\": \"#19d3f3\", \"size\": [13444704], \"sizemode\": \"area\", \"sizeref\": 36835.035, \"symbol\": \"circle\"}, \"mode\": \"markers\", \"name\": \"Ontario\", \"orientation\": \"v\", \"showlegend\": true, \"x\": [0.31], \"xaxis\": \"x\", \"y\": [233122], \"yaxis\": \"y\", \"type\": \"scatter\"}, {\"hovertemplate\": \"Geography=Manitoba<br>Time=2013Q1<br>DelinquencyRate=%{x}<br>AverageMortgageAmount=%{y}<br>PopulationSize=%{marker.size}<extra></extra>\", \"ids\": [\"Manitoba\"], \"legendgroup\": \"Manitoba\", \"marker\": {\"color\": \"#FF6692\", \"size\": [1257940], \"sizemode\": \"area\", \"sizeref\": 36835.035, \"symbol\": \"circle\"}, \"mode\": \"markers\", \"name\": \"Manitoba\", \"orientation\": \"v\", \"showlegend\": true, \"x\": [0.28], \"xaxis\": \"x\", \"y\": [177560], \"yaxis\": \"y\", \"type\": \"scatter\"}, {\"hovertemplate\": \"Geography=Saskatchewan<br>Time=2013Q1<br>DelinquencyRate=%{x}<br>AverageMortgageAmount=%{y}<br>PopulationSize=%{marker.size}<extra></extra>\", \"ids\": [\"Saskatchewan\"], \"legendgroup\": \"Saskatchewan\", \"marker\": {\"color\": \"#B6E880\", \"size\": [1091547], \"sizemode\": \"area\", \"sizeref\": 36835.035, \"symbol\": \"circle\"}, \"mode\": \"markers\", \"name\": \"Saskatchewan\", \"orientation\": \"v\", \"showlegend\": true, \"x\": [0.36], \"xaxis\": \"x\", \"y\": [206354], \"yaxis\": \"y\", \"type\": \"scatter\"}, {\"hovertemplate\": \"Geography=Alberta<br>Time=2013Q1<br>DelinquencyRate=%{x}<br>AverageMortgageAmount=%{y}<br>PopulationSize=%{marker.size}<extra></extra>\", \"ids\": [\"Alberta\"], \"legendgroup\": \"Alberta\", \"marker\": {\"color\": \"#FF97FF\", \"size\": [3920499], \"sizemode\": \"area\", \"sizeref\": 36835.035, \"symbol\": \"circle\"}, \"mode\": \"markers\", \"name\": \"Alberta\", \"orientation\": \"v\", \"showlegend\": true, \"x\": [0.52], \"xaxis\": \"x\", \"y\": [277158], \"yaxis\": \"y\", \"type\": \"scatter\"}, {\"hovertemplate\": \"Geography=British Columbia<br>Time=2013Q1<br>DelinquencyRate=%{x}<br>AverageMortgageAmount=%{y}<br>PopulationSize=%{marker.size}<extra></extra>\", \"ids\": [\"British Columbia\"], \"legendgroup\": \"British Columbia\", \"marker\": {\"color\": \"#FECB52\", \"size\": [4598255], \"sizemode\": \"area\", \"sizeref\": 36835.035, \"symbol\": \"circle\"}, \"mode\": \"markers\", \"name\": \"British Columbia\", \"orientation\": \"v\", \"showlegend\": true, \"x\": [0.43], \"xaxis\": \"x\", \"y\": [286652], \"yaxis\": \"y\", \"type\": \"scatter\"}], \"name\": \"2013Q1\"}, {\"data\": [{\"hovertemplate\": \"Geography=Newfoundland<br>Time=2013Q2<br>DelinquencyRate=%{x}<br>AverageMortgageAmount=%{y}<br>PopulationSize=%{marker.size}<extra></extra>\", \"ids\": [\"Newfoundland\"], \"legendgroup\": \"Newfoundland\", \"marker\": {\"color\": \"#636efa\", \"size\": [527313], \"sizemode\": \"area\", \"sizeref\": 36835.035, \"symbol\": \"circle\"}, \"mode\": \"markers\", \"name\": \"Newfoundland\", \"orientation\": \"v\", \"showlegend\": true, \"x\": [0.19], \"xaxis\": \"x\", \"y\": [181331], \"yaxis\": \"y\", \"type\": \"scatter\"}, {\"hovertemplate\": \"Geography=Prince Edward Island<br>Time=2013Q2<br>DelinquencyRate=%{x}<br>AverageMortgageAmount=%{y}<br>PopulationSize=%{marker.size}<extra></extra>\", \"ids\": [\"Prince Edward Island\"], \"legendgroup\": \"Prince Edward Island\", \"marker\": {\"color\": \"#EF553B\", \"size\": [143948], \"sizemode\": \"area\", \"sizeref\": 36835.035, \"symbol\": \"circle\"}, \"mode\": \"markers\", \"name\": \"Prince Edward Island\", \"orientation\": \"v\", \"showlegend\": true, \"x\": [0.47], \"xaxis\": \"x\", \"y\": [126763], \"yaxis\": \"y\", \"type\": \"scatter\"}, {\"hovertemplate\": \"Geography=Nova Scotia<br>Time=2013Q2<br>DelinquencyRate=%{x}<br>AverageMortgageAmount=%{y}<br>PopulationSize=%{marker.size}<extra></extra>\", \"ids\": [\"Nova Scotia\"], \"legendgroup\": \"Nova Scotia\", \"marker\": {\"color\": \"#00cc96\", \"size\": [941230], \"sizemode\": \"area\", \"sizeref\": 36835.035, \"symbol\": \"circle\"}, \"mode\": \"markers\", \"name\": \"Nova Scotia\", \"orientation\": \"v\", \"showlegend\": true, \"x\": [0.56], \"xaxis\": \"x\", \"y\": [159945], \"yaxis\": \"y\", \"type\": \"scatter\"}, {\"hovertemplate\": \"Geography=New Brunswick<br>Time=2013Q2<br>DelinquencyRate=%{x}<br>AverageMortgageAmount=%{y}<br>PopulationSize=%{marker.size}<extra></extra>\", \"ids\": [\"New Brunswick\"], \"legendgroup\": \"New Brunswick\", \"marker\": {\"color\": \"#ab63fa\", \"size\": [758132], \"sizemode\": \"area\", \"sizeref\": 36835.035, \"symbol\": \"circle\"}, \"mode\": \"markers\", \"name\": \"New Brunswick\", \"orientation\": \"v\", \"showlegend\": true, \"x\": [0.6], \"xaxis\": \"x\", \"y\": [122572], \"yaxis\": \"y\", \"type\": \"scatter\"}, {\"hovertemplate\": \"Geography=Qu\\u00e9bec<br>Time=2013Q2<br>DelinquencyRate=%{x}<br>AverageMortgageAmount=%{y}<br>PopulationSize=%{marker.size}<extra></extra>\", \"ids\": [\"Qu\\u00e9bec\"], \"legendgroup\": \"Qu\\u00e9bec\", \"marker\": {\"color\": \"#FFA15A\", \"size\": [8090916], \"sizemode\": \"area\", \"sizeref\": 36835.035, \"symbol\": \"circle\"}, \"mode\": \"markers\", \"name\": \"Qu\\u00e9bec\", \"orientation\": \"v\", \"showlegend\": true, \"x\": [0.34], \"xaxis\": \"x\", \"y\": [155016], \"yaxis\": \"y\", \"type\": \"scatter\"}, {\"hovertemplate\": \"Geography=Ontario<br>Time=2013Q2<br>DelinquencyRate=%{x}<br>AverageMortgageAmount=%{y}<br>PopulationSize=%{marker.size}<extra></extra>\", \"ids\": [\"Ontario\"], \"legendgroup\": \"Ontario\", \"marker\": {\"color\": \"#19d3f3\", \"size\": [13467829], \"sizemode\": \"area\", \"sizeref\": 36835.035, \"symbol\": \"circle\"}, \"mode\": \"markers\", \"name\": \"Ontario\", \"orientation\": \"v\", \"showlegend\": true, \"x\": [0.29], \"xaxis\": \"x\", \"y\": [230770], \"yaxis\": \"y\", \"type\": \"scatter\"}, {\"hovertemplate\": \"Geography=Manitoba<br>Time=2013Q2<br>DelinquencyRate=%{x}<br>AverageMortgageAmount=%{y}<br>PopulationSize=%{marker.size}<extra></extra>\", \"ids\": [\"Manitoba\"], \"legendgroup\": \"Manitoba\", \"marker\": {\"color\": \"#FF6692\", \"size\": [1260834], \"sizemode\": \"area\", \"sizeref\": 36835.035, \"symbol\": \"circle\"}, \"mode\": \"markers\", \"name\": \"Manitoba\", \"orientation\": \"v\", \"showlegend\": true, \"x\": [0.26], \"xaxis\": \"x\", \"y\": [177517], \"yaxis\": \"y\", \"type\": \"scatter\"}, {\"hovertemplate\": \"Geography=Saskatchewan<br>Time=2013Q2<br>DelinquencyRate=%{x}<br>AverageMortgageAmount=%{y}<br>PopulationSize=%{marker.size}<extra></extra>\", \"ids\": [\"Saskatchewan\"], \"legendgroup\": \"Saskatchewan\", \"marker\": {\"color\": \"#B6E880\", \"size\": [1094390], \"sizemode\": \"area\", \"sizeref\": 36835.035, \"symbol\": \"circle\"}, \"mode\": \"markers\", \"name\": \"Saskatchewan\", \"orientation\": \"v\", \"showlegend\": true, \"x\": [0.34], \"xaxis\": \"x\", \"y\": [211979], \"yaxis\": \"y\", \"type\": \"scatter\"}, {\"hovertemplate\": \"Geography=Alberta<br>Time=2013Q2<br>DelinquencyRate=%{x}<br>AverageMortgageAmount=%{y}<br>PopulationSize=%{marker.size}<extra></extra>\", \"ids\": [\"Alberta\"], \"legendgroup\": \"Alberta\", \"marker\": {\"color\": \"#FF97FF\", \"size\": [3946798], \"sizemode\": \"area\", \"sizeref\": 36835.035, \"symbol\": \"circle\"}, \"mode\": \"markers\", \"name\": \"Alberta\", \"orientation\": \"v\", \"showlegend\": true, \"x\": [0.47], \"xaxis\": \"x\", \"y\": [278516], \"yaxis\": \"y\", \"type\": \"scatter\"}, {\"hovertemplate\": \"Geography=British Columbia<br>Time=2013Q2<br>DelinquencyRate=%{x}<br>AverageMortgageAmount=%{y}<br>PopulationSize=%{marker.size}<extra></extra>\", \"ids\": [\"British Columbia\"], \"legendgroup\": \"British Columbia\", \"marker\": {\"color\": \"#FECB52\", \"size\": [4611648], \"sizemode\": \"area\", \"sizeref\": 36835.035, \"symbol\": \"circle\"}, \"mode\": \"markers\", \"name\": \"British Columbia\", \"orientation\": \"v\", \"showlegend\": true, \"x\": [0.43], \"xaxis\": \"x\", \"y\": [290928], \"yaxis\": \"y\", \"type\": \"scatter\"}], \"name\": \"2013Q2\"}, {\"data\": [{\"hovertemplate\": \"Geography=Newfoundland<br>Time=2013Q3<br>DelinquencyRate=%{x}<br>AverageMortgageAmount=%{y}<br>PopulationSize=%{marker.size}<extra></extra>\", \"ids\": [\"Newfoundland\"], \"legendgroup\": \"Newfoundland\", \"marker\": {\"color\": \"#636efa\", \"size\": [527114], \"sizemode\": \"area\", \"sizeref\": 36835.035, \"symbol\": \"circle\"}, \"mode\": \"markers\", \"name\": \"Newfoundland\", \"orientation\": \"v\", \"showlegend\": true, \"x\": [0.2], \"xaxis\": \"x\", \"y\": [191818], \"yaxis\": \"y\", \"type\": \"scatter\"}, {\"hovertemplate\": \"Geography=Prince Edward Island<br>Time=2013Q3<br>DelinquencyRate=%{x}<br>AverageMortgageAmount=%{y}<br>PopulationSize=%{marker.size}<extra></extra>\", \"ids\": [\"Prince Edward Island\"], \"legendgroup\": \"Prince Edward Island\", \"marker\": {\"color\": \"#EF553B\", \"size\": [144094], \"sizemode\": \"area\", \"sizeref\": 36835.035, \"symbol\": \"circle\"}, \"mode\": \"markers\", \"name\": \"Prince Edward Island\", \"orientation\": \"v\", \"showlegend\": true, \"x\": [0.56], \"xaxis\": \"x\", \"y\": [139506], \"yaxis\": \"y\", \"type\": \"scatter\"}, {\"hovertemplate\": \"Geography=Nova Scotia<br>Time=2013Q3<br>DelinquencyRate=%{x}<br>AverageMortgageAmount=%{y}<br>PopulationSize=%{marker.size}<extra></extra>\", \"ids\": [\"Nova Scotia\"], \"legendgroup\": \"Nova Scotia\", \"marker\": {\"color\": \"#00cc96\", \"size\": [940434], \"sizemode\": \"area\", \"sizeref\": 36835.035, \"symbol\": \"circle\"}, \"mode\": \"markers\", \"name\": \"Nova Scotia\", \"orientation\": \"v\", \"showlegend\": true, \"x\": [0.58], \"xaxis\": \"x\", \"y\": [166426], \"yaxis\": \"y\", \"type\": \"scatter\"}, {\"hovertemplate\": \"Geography=New Brunswick<br>Time=2013Q3<br>DelinquencyRate=%{x}<br>AverageMortgageAmount=%{y}<br>PopulationSize=%{marker.size}<extra></extra>\", \"ids\": [\"New Brunswick\"], \"legendgroup\": \"New Brunswick\", \"marker\": {\"color\": \"#ab63fa\", \"size\": [758544], \"sizemode\": \"area\", \"sizeref\": 36835.035, \"symbol\": \"circle\"}, \"mode\": \"markers\", \"name\": \"New Brunswick\", \"orientation\": \"v\", \"showlegend\": true, \"x\": [0.61], \"xaxis\": \"x\", \"y\": [131542], \"yaxis\": \"y\", \"type\": \"scatter\"}, {\"hovertemplate\": \"Geography=Qu\\u00e9bec<br>Time=2013Q3<br>DelinquencyRate=%{x}<br>AverageMortgageAmount=%{y}<br>PopulationSize=%{marker.size}<extra></extra>\", \"ids\": [\"Qu\\u00e9bec\"], \"legendgroup\": \"Qu\\u00e9bec\", \"marker\": {\"color\": \"#FFA15A\", \"size\": [8110880], \"sizemode\": \"area\", \"sizeref\": 36835.035, \"symbol\": \"circle\"}, \"mode\": \"markers\", \"name\": \"Qu\\u00e9bec\", \"orientation\": \"v\", \"showlegend\": true, \"x\": [0.33], \"xaxis\": \"x\", \"y\": [160147], \"yaxis\": \"y\", \"type\": \"scatter\"}, {\"hovertemplate\": \"Geography=Ontario<br>Time=2013Q3<br>DelinquencyRate=%{x}<br>AverageMortgageAmount=%{y}<br>PopulationSize=%{marker.size}<extra></extra>\", \"ids\": [\"Ontario\"], \"legendgroup\": \"Ontario\", \"marker\": {\"color\": \"#19d3f3\", \"size\": [13510781], \"sizemode\": \"area\", \"sizeref\": 36835.035, \"symbol\": \"circle\"}, \"mode\": \"markers\", \"name\": \"Ontario\", \"orientation\": \"v\", \"showlegend\": true, \"x\": [0.28], \"xaxis\": \"x\", \"y\": [249054], \"yaxis\": \"y\", \"type\": \"scatter\"}, {\"hovertemplate\": \"Geography=Manitoba<br>Time=2013Q3<br>DelinquencyRate=%{x}<br>AverageMortgageAmount=%{y}<br>PopulationSize=%{marker.size}<extra></extra>\", \"ids\": [\"Manitoba\"], \"legendgroup\": \"Manitoba\", \"marker\": {\"color\": \"#FF6692\", \"size\": [1264620], \"sizemode\": \"area\", \"sizeref\": 36835.035, \"symbol\": \"circle\"}, \"mode\": \"markers\", \"name\": \"Manitoba\", \"orientation\": \"v\", \"showlegend\": true, \"x\": [0.28], \"xaxis\": \"x\", \"y\": [192732], \"yaxis\": \"y\", \"type\": \"scatter\"}, {\"hovertemplate\": \"Geography=Saskatchewan<br>Time=2013Q3<br>DelinquencyRate=%{x}<br>AverageMortgageAmount=%{y}<br>PopulationSize=%{marker.size}<extra></extra>\", \"ids\": [\"Saskatchewan\"], \"legendgroup\": \"Saskatchewan\", \"marker\": {\"color\": \"#B6E880\", \"size\": [1099736], \"sizemode\": \"area\", \"sizeref\": 36835.035, \"symbol\": \"circle\"}, \"mode\": \"markers\", \"name\": \"Saskatchewan\", \"orientation\": \"v\", \"showlegend\": true, \"x\": [0.3], \"xaxis\": \"x\", \"y\": [224868], \"yaxis\": \"y\", \"type\": \"scatter\"}, {\"hovertemplate\": \"Geography=Alberta<br>Time=2013Q3<br>DelinquencyRate=%{x}<br>AverageMortgageAmount=%{y}<br>PopulationSize=%{marker.size}<extra></extra>\", \"ids\": [\"Alberta\"], \"legendgroup\": \"Alberta\", \"marker\": {\"color\": \"#FF97FF\", \"size\": [3981011], \"sizemode\": \"area\", \"sizeref\": 36835.035, \"symbol\": \"circle\"}, \"mode\": \"markers\", \"name\": \"Alberta\", \"orientation\": \"v\", \"showlegend\": true, \"x\": [0.45], \"xaxis\": \"x\", \"y\": [289263], \"yaxis\": \"y\", \"type\": \"scatter\"}, {\"hovertemplate\": \"Geography=British Columbia<br>Time=2013Q3<br>DelinquencyRate=%{x}<br>AverageMortgageAmount=%{y}<br>PopulationSize=%{marker.size}<extra></extra>\", \"ids\": [\"British Columbia\"], \"legendgroup\": \"British Columbia\", \"marker\": {\"color\": \"#FECB52\", \"size\": [4630077], \"sizemode\": \"area\", \"sizeref\": 36835.035, \"symbol\": \"circle\"}, \"mode\": \"markers\", \"name\": \"British Columbia\", \"orientation\": \"v\", \"showlegend\": true, \"x\": [0.42], \"xaxis\": \"x\", \"y\": [303663], \"yaxis\": \"y\", \"type\": \"scatter\"}], \"name\": \"2013Q3\"}, {\"data\": [{\"hovertemplate\": \"Geography=Newfoundland<br>Time=2013Q4<br>DelinquencyRate=%{x}<br>AverageMortgageAmount=%{y}<br>PopulationSize=%{marker.size}<extra></extra>\", \"ids\": [\"Newfoundland\"], \"legendgroup\": \"Newfoundland\", \"marker\": {\"color\": \"#636efa\", \"size\": [528117], \"sizemode\": \"area\", \"sizeref\": 36835.035, \"symbol\": \"circle\"}, \"mode\": \"markers\", \"name\": \"Newfoundland\", \"orientation\": \"v\", \"showlegend\": true, \"x\": [0.22], \"xaxis\": \"x\", \"y\": [193100], \"yaxis\": \"y\", \"type\": \"scatter\"}, {\"hovertemplate\": \"Geography=Prince Edward Island<br>Time=2013Q4<br>DelinquencyRate=%{x}<br>AverageMortgageAmount=%{y}<br>PopulationSize=%{marker.size}<extra></extra>\", \"ids\": [\"Prince Edward Island\"], \"legendgroup\": \"Prince Edward Island\", \"marker\": {\"color\": \"#EF553B\", \"size\": [144103], \"sizemode\": \"area\", \"sizeref\": 36835.035, \"symbol\": \"circle\"}, \"mode\": \"markers\", \"name\": \"Prince Edward Island\", \"orientation\": \"v\", \"showlegend\": true, \"x\": [0.58], \"xaxis\": \"x\", \"y\": [141453], \"yaxis\": \"y\", \"type\": \"scatter\"}, {\"hovertemplate\": \"Geography=Nova Scotia<br>Time=2013Q4<br>DelinquencyRate=%{x}<br>AverageMortgageAmount=%{y}<br>PopulationSize=%{marker.size}<extra></extra>\", \"ids\": [\"Nova Scotia\"], \"legendgroup\": \"Nova Scotia\", \"marker\": {\"color\": \"#00cc96\", \"size\": [940105], \"sizemode\": \"area\", \"sizeref\": 36835.035, \"symbol\": \"circle\"}, \"mode\": \"markers\", \"name\": \"Nova Scotia\", \"orientation\": \"v\", \"showlegend\": true, \"x\": [0.62], \"xaxis\": \"x\", \"y\": [160189], \"yaxis\": \"y\", \"type\": \"scatter\"}, {\"hovertemplate\": \"Geography=New Brunswick<br>Time=2013Q4<br>DelinquencyRate=%{x}<br>AverageMortgageAmount=%{y}<br>PopulationSize=%{marker.size}<extra></extra>\", \"ids\": [\"New Brunswick\"], \"legendgroup\": \"New Brunswick\", \"marker\": {\"color\": \"#ab63fa\", \"size\": [758670], \"sizemode\": \"area\", \"sizeref\": 36835.035, \"symbol\": \"circle\"}, \"mode\": \"markers\", \"name\": \"New Brunswick\", \"orientation\": \"v\", \"showlegend\": true, \"x\": [0.68], \"xaxis\": \"x\", \"y\": [128155], \"yaxis\": \"y\", \"type\": \"scatter\"}, {\"hovertemplate\": \"Geography=Qu\\u00e9bec<br>Time=2013Q4<br>DelinquencyRate=%{x}<br>AverageMortgageAmount=%{y}<br>PopulationSize=%{marker.size}<extra></extra>\", \"ids\": [\"Qu\\u00e9bec\"], \"legendgroup\": \"Qu\\u00e9bec\", \"marker\": {\"color\": \"#FFA15A\", \"size\": [8124660], \"sizemode\": \"area\", \"sizeref\": 36835.035, \"symbol\": \"circle\"}, \"mode\": \"markers\", \"name\": \"Qu\\u00e9bec\", \"orientation\": \"v\", \"showlegend\": true, \"x\": [0.35], \"xaxis\": \"x\", \"y\": [155512], \"yaxis\": \"y\", \"type\": \"scatter\"}, {\"hovertemplate\": \"Geography=Ontario<br>Time=2013Q4<br>DelinquencyRate=%{x}<br>AverageMortgageAmount=%{y}<br>PopulationSize=%{marker.size}<extra></extra>\", \"ids\": [\"Ontario\"], \"legendgroup\": \"Ontario\", \"marker\": {\"color\": \"#19d3f3\", \"size\": [13558528], \"sizemode\": \"area\", \"sizeref\": 36835.035, \"symbol\": \"circle\"}, \"mode\": \"markers\", \"name\": \"Ontario\", \"orientation\": \"v\", \"showlegend\": true, \"x\": [0.28], \"xaxis\": \"x\", \"y\": [244060], \"yaxis\": \"y\", \"type\": \"scatter\"}, {\"hovertemplate\": \"Geography=Manitoba<br>Time=2013Q4<br>DelinquencyRate=%{x}<br>AverageMortgageAmount=%{y}<br>PopulationSize=%{marker.size}<extra></extra>\", \"ids\": [\"Manitoba\"], \"legendgroup\": \"Manitoba\", \"marker\": {\"color\": \"#FF6692\", \"size\": [1268428], \"sizemode\": \"area\", \"sizeref\": 36835.035, \"symbol\": \"circle\"}, \"mode\": \"markers\", \"name\": \"Manitoba\", \"orientation\": \"v\", \"showlegend\": true, \"x\": [0.28], \"xaxis\": \"x\", \"y\": [189570], \"yaxis\": \"y\", \"type\": \"scatter\"}, {\"hovertemplate\": \"Geography=Saskatchewan<br>Time=2013Q4<br>DelinquencyRate=%{x}<br>AverageMortgageAmount=%{y}<br>PopulationSize=%{marker.size}<extra></extra>\", \"ids\": [\"Saskatchewan\"], \"legendgroup\": \"Saskatchewan\", \"marker\": {\"color\": \"#B6E880\", \"size\": [1103730], \"sizemode\": \"area\", \"sizeref\": 36835.035, \"symbol\": \"circle\"}, \"mode\": \"markers\", \"name\": \"Saskatchewan\", \"orientation\": \"v\", \"showlegend\": true, \"x\": [0.32], \"xaxis\": \"x\", \"y\": [225414], \"yaxis\": \"y\", \"type\": \"scatter\"}, {\"hovertemplate\": \"Geography=Alberta<br>Time=2013Q4<br>DelinquencyRate=%{x}<br>AverageMortgageAmount=%{y}<br>PopulationSize=%{marker.size}<extra></extra>\", \"ids\": [\"Alberta\"], \"legendgroup\": \"Alberta\", \"marker\": {\"color\": \"#FF97FF\", \"size\": [4010903], \"sizemode\": \"area\", \"sizeref\": 36835.035, \"symbol\": \"circle\"}, \"mode\": \"markers\", \"name\": \"Alberta\", \"orientation\": \"v\", \"showlegend\": true, \"x\": [0.43], \"xaxis\": \"x\", \"y\": [284928], \"yaxis\": \"y\", \"type\": \"scatter\"}, {\"hovertemplate\": \"Geography=British Columbia<br>Time=2013Q4<br>DelinquencyRate=%{x}<br>AverageMortgageAmount=%{y}<br>PopulationSize=%{marker.size}<extra></extra>\", \"ids\": [\"British Columbia\"], \"legendgroup\": \"British Columbia\", \"marker\": {\"color\": \"#FECB52\", \"size\": [4658875], \"sizemode\": \"area\", \"sizeref\": 36835.035, \"symbol\": \"circle\"}, \"mode\": \"markers\", \"name\": \"British Columbia\", \"orientation\": \"v\", \"showlegend\": true, \"x\": [0.43], \"xaxis\": \"x\", \"y\": [305256], \"yaxis\": \"y\", \"type\": \"scatter\"}], \"name\": \"2013Q4\"}, {\"data\": [{\"hovertemplate\": \"Geography=Newfoundland<br>Time=2014Q1<br>DelinquencyRate=%{x}<br>AverageMortgageAmount=%{y}<br>PopulationSize=%{marker.size}<extra></extra>\", \"ids\": [\"Newfoundland\"], \"legendgroup\": \"Newfoundland\", \"marker\": {\"color\": \"#636efa\", \"size\": [528242], \"sizemode\": \"area\", \"sizeref\": 36835.035, \"symbol\": \"circle\"}, \"mode\": \"markers\", \"name\": \"Newfoundland\", \"orientation\": \"v\", \"showlegend\": true, \"x\": [0.23], \"xaxis\": \"x\", \"y\": [195479], \"yaxis\": \"y\", \"type\": \"scatter\"}, {\"hovertemplate\": \"Geography=Prince Edward Island<br>Time=2014Q1<br>DelinquencyRate=%{x}<br>AverageMortgageAmount=%{y}<br>PopulationSize=%{marker.size}<extra></extra>\", \"ids\": [\"Prince Edward Island\"], \"legendgroup\": \"Prince Edward Island\", \"marker\": {\"color\": \"#EF553B\", \"size\": [143996], \"sizemode\": \"area\", \"sizeref\": 36835.035, \"symbol\": \"circle\"}, \"mode\": \"markers\", \"name\": \"Prince Edward Island\", \"orientation\": \"v\", \"showlegend\": true, \"x\": [0.6], \"xaxis\": \"x\", \"y\": [141141], \"yaxis\": \"y\", \"type\": \"scatter\"}, {\"hovertemplate\": \"Geography=Nova Scotia<br>Time=2014Q1<br>DelinquencyRate=%{x}<br>AverageMortgageAmount=%{y}<br>PopulationSize=%{marker.size}<extra></extra>\", \"ids\": [\"Nova Scotia\"], \"legendgroup\": \"Nova Scotia\", \"marker\": {\"color\": \"#00cc96\", \"size\": [939867], \"sizemode\": \"area\", \"sizeref\": 36835.035, \"symbol\": \"circle\"}, \"mode\": \"markers\", \"name\": \"Nova Scotia\", \"orientation\": \"v\", \"showlegend\": true, \"x\": [0.65], \"xaxis\": \"x\", \"y\": [161383], \"yaxis\": \"y\", \"type\": \"scatter\"}, {\"hovertemplate\": \"Geography=New Brunswick<br>Time=2014Q1<br>DelinquencyRate=%{x}<br>AverageMortgageAmount=%{y}<br>PopulationSize=%{marker.size}<extra></extra>\", \"ids\": [\"New Brunswick\"], \"legendgroup\": \"New Brunswick\", \"marker\": {\"color\": \"#ab63fa\", \"size\": [759018], \"sizemode\": \"area\", \"sizeref\": 36835.035, \"symbol\": \"circle\"}, \"mode\": \"markers\", \"name\": \"New Brunswick\", \"orientation\": \"v\", \"showlegend\": true, \"x\": [0.72], \"xaxis\": \"x\", \"y\": [127766], \"yaxis\": \"y\", \"type\": \"scatter\"}, {\"hovertemplate\": \"Geography=Qu\\u00e9bec<br>Time=2014Q1<br>DelinquencyRate=%{x}<br>AverageMortgageAmount=%{y}<br>PopulationSize=%{marker.size}<extra></extra>\", \"ids\": [\"Qu\\u00e9bec\"], \"legendgroup\": \"Qu\\u00e9bec\", \"marker\": {\"color\": \"#FFA15A\", \"size\": [8125478], \"sizemode\": \"area\", \"sizeref\": 36835.035, \"symbol\": \"circle\"}, \"mode\": \"markers\", \"name\": \"Qu\\u00e9bec\", \"orientation\": \"v\", \"showlegend\": true, \"x\": [0.37], \"xaxis\": \"x\", \"y\": [156424], \"yaxis\": \"y\", \"type\": \"scatter\"}, {\"hovertemplate\": \"Geography=Ontario<br>Time=2014Q1<br>DelinquencyRate=%{x}<br>AverageMortgageAmount=%{y}<br>PopulationSize=%{marker.size}<extra></extra>\", \"ids\": [\"Ontario\"], \"legendgroup\": \"Ontario\", \"marker\": {\"color\": \"#19d3f3\", \"size\": [13562583], \"sizemode\": \"area\", \"sizeref\": 36835.035, \"symbol\": \"circle\"}, \"mode\": \"markers\", \"name\": \"Ontario\", \"orientation\": \"v\", \"showlegend\": true, \"x\": [0.29], \"xaxis\": \"x\", \"y\": [244077], \"yaxis\": \"y\", \"type\": \"scatter\"}, {\"hovertemplate\": \"Geography=Manitoba<br>Time=2014Q1<br>DelinquencyRate=%{x}<br>AverageMortgageAmount=%{y}<br>PopulationSize=%{marker.size}<extra></extra>\", \"ids\": [\"Manitoba\"], \"legendgroup\": \"Manitoba\", \"marker\": {\"color\": \"#FF6692\", \"size\": [1271562], \"sizemode\": \"area\", \"sizeref\": 36835.035, \"symbol\": \"circle\"}, \"mode\": \"markers\", \"name\": \"Manitoba\", \"orientation\": \"v\", \"showlegend\": true, \"x\": [0.28], \"xaxis\": \"x\", \"y\": [188107], \"yaxis\": \"y\", \"type\": \"scatter\"}, {\"hovertemplate\": \"Geography=Saskatchewan<br>Time=2014Q1<br>DelinquencyRate=%{x}<br>AverageMortgageAmount=%{y}<br>PopulationSize=%{marker.size}<extra></extra>\", \"ids\": [\"Saskatchewan\"], \"legendgroup\": \"Saskatchewan\", \"marker\": {\"color\": \"#B6E880\", \"size\": [1106374], \"sizemode\": \"area\", \"sizeref\": 36835.035, \"symbol\": \"circle\"}, \"mode\": \"markers\", \"name\": \"Saskatchewan\", \"orientation\": \"v\", \"showlegend\": true, \"x\": [0.35], \"xaxis\": \"x\", \"y\": [226559], \"yaxis\": \"y\", \"type\": \"scatter\"}, {\"hovertemplate\": \"Geography=Alberta<br>Time=2014Q1<br>DelinquencyRate=%{x}<br>AverageMortgageAmount=%{y}<br>PopulationSize=%{marker.size}<extra></extra>\", \"ids\": [\"Alberta\"], \"legendgroup\": \"Alberta\", \"marker\": {\"color\": \"#FF97FF\", \"size\": [4029951], \"sizemode\": \"area\", \"sizeref\": 36835.035, \"symbol\": \"circle\"}, \"mode\": \"markers\", \"name\": \"Alberta\", \"orientation\": \"v\", \"showlegend\": true, \"x\": [0.42], \"xaxis\": \"x\", \"y\": [291926], \"yaxis\": \"y\", \"type\": \"scatter\"}, {\"hovertemplate\": \"Geography=British Columbia<br>Time=2014Q1<br>DelinquencyRate=%{x}<br>AverageMortgageAmount=%{y}<br>PopulationSize=%{marker.size}<extra></extra>\", \"ids\": [\"British Columbia\"], \"legendgroup\": \"British Columbia\", \"marker\": {\"color\": \"#FECB52\", \"size\": [4666788], \"sizemode\": \"area\", \"sizeref\": 36835.035, \"symbol\": \"circle\"}, \"mode\": \"markers\", \"name\": \"British Columbia\", \"orientation\": \"v\", \"showlegend\": true, \"x\": [0.43], \"xaxis\": \"x\", \"y\": [309374], \"yaxis\": \"y\", \"type\": \"scatter\"}], \"name\": \"2014Q1\"}, {\"data\": [{\"hovertemplate\": \"Geography=Newfoundland<br>Time=2014Q2<br>DelinquencyRate=%{x}<br>AverageMortgageAmount=%{y}<br>PopulationSize=%{marker.size}<extra></extra>\", \"ids\": [\"Newfoundland\"], \"legendgroup\": \"Newfoundland\", \"marker\": {\"color\": \"#636efa\", \"size\": [527498], \"sizemode\": \"area\", \"sizeref\": 36835.035, \"symbol\": \"circle\"}, \"mode\": \"markers\", \"name\": \"Newfoundland\", \"orientation\": \"v\", \"showlegend\": true, \"x\": [0.25], \"xaxis\": \"x\", \"y\": [192856], \"yaxis\": \"y\", \"type\": \"scatter\"}, {\"hovertemplate\": \"Geography=Prince Edward Island<br>Time=2014Q2<br>DelinquencyRate=%{x}<br>AverageMortgageAmount=%{y}<br>PopulationSize=%{marker.size}<extra></extra>\", \"ids\": [\"Prince Edward Island\"], \"legendgroup\": \"Prince Edward Island\", \"marker\": {\"color\": \"#EF553B\", \"size\": [143984], \"sizemode\": \"area\", \"sizeref\": 36835.035, \"symbol\": \"circle\"}, \"mode\": \"markers\", \"name\": \"Prince Edward Island\", \"orientation\": \"v\", \"showlegend\": true, \"x\": [0.6], \"xaxis\": \"x\", \"y\": [137427], \"yaxis\": \"y\", \"type\": \"scatter\"}, {\"hovertemplate\": \"Geography=Nova Scotia<br>Time=2014Q2<br>DelinquencyRate=%{x}<br>AverageMortgageAmount=%{y}<br>PopulationSize=%{marker.size}<extra></extra>\", \"ids\": [\"Nova Scotia\"], \"legendgroup\": \"Nova Scotia\", \"marker\": {\"color\": \"#00cc96\", \"size\": [938913], \"sizemode\": \"area\", \"sizeref\": 36835.035, \"symbol\": \"circle\"}, \"mode\": \"markers\", \"name\": \"Nova Scotia\", \"orientation\": \"v\", \"showlegend\": true, \"x\": [0.65], \"xaxis\": \"x\", \"y\": [157664], \"yaxis\": \"y\", \"type\": \"scatter\"}, {\"hovertemplate\": \"Geography=New Brunswick<br>Time=2014Q2<br>DelinquencyRate=%{x}<br>AverageMortgageAmount=%{y}<br>PopulationSize=%{marker.size}<extra></extra>\", \"ids\": [\"New Brunswick\"], \"legendgroup\": \"New Brunswick\", \"marker\": {\"color\": \"#ab63fa\", \"size\": [758876], \"sizemode\": \"area\", \"sizeref\": 36835.035, \"symbol\": \"circle\"}, \"mode\": \"markers\", \"name\": \"New Brunswick\", \"orientation\": \"v\", \"showlegend\": true, \"x\": [0.67], \"xaxis\": \"x\", \"y\": [124221], \"yaxis\": \"y\", \"type\": \"scatter\"}, {\"hovertemplate\": \"Geography=Qu\\u00e9bec<br>Time=2014Q2<br>DelinquencyRate=%{x}<br>AverageMortgageAmount=%{y}<br>PopulationSize=%{marker.size}<extra></extra>\", \"ids\": [\"Qu\\u00e9bec\"], \"legendgroup\": \"Qu\\u00e9bec\", \"marker\": {\"color\": \"#FFA15A\", \"size\": [8132425], \"sizemode\": \"area\", \"sizeref\": 36835.035, \"symbol\": \"circle\"}, \"mode\": \"markers\", \"name\": \"Qu\\u00e9bec\", \"orientation\": \"v\", \"showlegend\": true, \"x\": [0.36], \"xaxis\": \"x\", \"y\": [160165], \"yaxis\": \"y\", \"type\": \"scatter\"}, {\"hovertemplate\": \"Geography=Ontario<br>Time=2014Q2<br>DelinquencyRate=%{x}<br>AverageMortgageAmount=%{y}<br>PopulationSize=%{marker.size}<extra></extra>\", \"ids\": [\"Ontario\"], \"legendgroup\": \"Ontario\", \"marker\": {\"color\": \"#19d3f3\", \"size\": [13582747], \"sizemode\": \"area\", \"sizeref\": 36835.035, \"symbol\": \"circle\"}, \"mode\": \"markers\", \"name\": \"Ontario\", \"orientation\": \"v\", \"showlegend\": true, \"x\": [0.27], \"xaxis\": \"x\", \"y\": [240828], \"yaxis\": \"y\", \"type\": \"scatter\"}, {\"hovertemplate\": \"Geography=Manitoba<br>Time=2014Q2<br>DelinquencyRate=%{x}<br>AverageMortgageAmount=%{y}<br>PopulationSize=%{marker.size}<extra></extra>\", \"ids\": [\"Manitoba\"], \"legendgroup\": \"Manitoba\", \"marker\": {\"color\": \"#FF6692\", \"size\": [1274407], \"sizemode\": \"area\", \"sizeref\": 36835.035, \"symbol\": \"circle\"}, \"mode\": \"markers\", \"name\": \"Manitoba\", \"orientation\": \"v\", \"showlegend\": true, \"x\": [0.25], \"xaxis\": \"x\", \"y\": [184554], \"yaxis\": \"y\", \"type\": \"scatter\"}, {\"hovertemplate\": \"Geography=Saskatchewan<br>Time=2014Q2<br>DelinquencyRate=%{x}<br>AverageMortgageAmount=%{y}<br>PopulationSize=%{marker.size}<extra></extra>\", \"ids\": [\"Saskatchewan\"], \"legendgroup\": \"Saskatchewan\", \"marker\": {\"color\": \"#B6E880\", \"size\": [1109631], \"sizemode\": \"area\", \"sizeref\": 36835.035, \"symbol\": \"circle\"}, \"mode\": \"markers\", \"name\": \"Saskatchewan\", \"orientation\": \"v\", \"showlegend\": true, \"x\": [0.31], \"xaxis\": \"x\", \"y\": [218781], \"yaxis\": \"y\", \"type\": \"scatter\"}, {\"hovertemplate\": \"Geography=Alberta<br>Time=2014Q2<br>DelinquencyRate=%{x}<br>AverageMortgageAmount=%{y}<br>PopulationSize=%{marker.size}<extra></extra>\", \"ids\": [\"Alberta\"], \"legendgroup\": \"Alberta\", \"marker\": {\"color\": \"#FF97FF\", \"size\": [4054280], \"sizemode\": \"area\", \"sizeref\": 36835.035, \"symbol\": \"circle\"}, \"mode\": \"markers\", \"name\": \"Alberta\", \"orientation\": \"v\", \"showlegend\": true, \"x\": [0.37], \"xaxis\": \"x\", \"y\": [290722], \"yaxis\": \"y\", \"type\": \"scatter\"}, {\"hovertemplate\": \"Geography=British Columbia<br>Time=2014Q2<br>DelinquencyRate=%{x}<br>AverageMortgageAmount=%{y}<br>PopulationSize=%{marker.size}<extra></extra>\", \"ids\": [\"British Columbia\"], \"legendgroup\": \"British Columbia\", \"marker\": {\"color\": \"#FECB52\", \"size\": [4684490], \"sizemode\": \"area\", \"sizeref\": 36835.035, \"symbol\": \"circle\"}, \"mode\": \"markers\", \"name\": \"British Columbia\", \"orientation\": \"v\", \"showlegend\": true, \"x\": [0.4], \"xaxis\": \"x\", \"y\": [305138], \"yaxis\": \"y\", \"type\": \"scatter\"}], \"name\": \"2014Q2\"}, {\"data\": [{\"hovertemplate\": \"Geography=Newfoundland<br>Time=2014Q3<br>DelinquencyRate=%{x}<br>AverageMortgageAmount=%{y}<br>PopulationSize=%{marker.size}<extra></extra>\", \"ids\": [\"Newfoundland\"], \"legendgroup\": \"Newfoundland\", \"marker\": {\"color\": \"#636efa\", \"size\": [528159], \"sizemode\": \"area\", \"sizeref\": 36835.035, \"symbol\": \"circle\"}, \"mode\": \"markers\", \"name\": \"Newfoundland\", \"orientation\": \"v\", \"showlegend\": true, \"x\": [0.26], \"xaxis\": \"x\", \"y\": [199560], \"yaxis\": \"y\", \"type\": \"scatter\"}, {\"hovertemplate\": \"Geography=Prince Edward Island<br>Time=2014Q3<br>DelinquencyRate=%{x}<br>AverageMortgageAmount=%{y}<br>PopulationSize=%{marker.size}<extra></extra>\", \"ids\": [\"Prince Edward Island\"], \"legendgroup\": \"Prince Edward Island\", \"marker\": {\"color\": \"#EF553B\", \"size\": [144283], \"sizemode\": \"area\", \"sizeref\": 36835.035, \"symbol\": \"circle\"}, \"mode\": \"markers\", \"name\": \"Prince Edward Island\", \"orientation\": \"v\", \"showlegend\": true, \"x\": [0.56], \"xaxis\": \"x\", \"y\": [143320], \"yaxis\": \"y\", \"type\": \"scatter\"}, {\"hovertemplate\": \"Geography=Nova Scotia<br>Time=2014Q3<br>DelinquencyRate=%{x}<br>AverageMortgageAmount=%{y}<br>PopulationSize=%{marker.size}<extra></extra>\", \"ids\": [\"Nova Scotia\"], \"legendgroup\": \"Nova Scotia\", \"marker\": {\"color\": \"#00cc96\", \"size\": [938545], \"sizemode\": \"area\", \"sizeref\": 36835.035, \"symbol\": \"circle\"}, \"mode\": \"markers\", \"name\": \"Nova Scotia\", \"orientation\": \"v\", \"showlegend\": true, \"x\": [0.67], \"xaxis\": \"x\", \"y\": [172827], \"yaxis\": \"y\", \"type\": \"scatter\"}, {\"hovertemplate\": \"Geography=New Brunswick<br>Time=2014Q3<br>DelinquencyRate=%{x}<br>AverageMortgageAmount=%{y}<br>PopulationSize=%{marker.size}<extra></extra>\", \"ids\": [\"New Brunswick\"], \"legendgroup\": \"New Brunswick\", \"marker\": {\"color\": \"#ab63fa\", \"size\": [758976], \"sizemode\": \"area\", \"sizeref\": 36835.035, \"symbol\": \"circle\"}, \"mode\": \"markers\", \"name\": \"New Brunswick\", \"orientation\": \"v\", \"showlegend\": true, \"x\": [0.72], \"xaxis\": \"x\", \"y\": [135592], \"yaxis\": \"y\", \"type\": \"scatter\"}, {\"hovertemplate\": \"Geography=Qu\\u00e9bec<br>Time=2014Q3<br>DelinquencyRate=%{x}<br>AverageMortgageAmount=%{y}<br>PopulationSize=%{marker.size}<extra></extra>\", \"ids\": [\"Qu\\u00e9bec\"], \"legendgroup\": \"Qu\\u00e9bec\", \"marker\": {\"color\": \"#FFA15A\", \"size\": [8150183], \"sizemode\": \"area\", \"sizeref\": 36835.035, \"symbol\": \"circle\"}, \"mode\": \"markers\", \"name\": \"Qu\\u00e9bec\", \"orientation\": \"v\", \"showlegend\": true, \"x\": [0.37], \"xaxis\": \"x\", \"y\": [166426], \"yaxis\": \"y\", \"type\": \"scatter\"}, {\"hovertemplate\": \"Geography=Ontario<br>Time=2014Q3<br>DelinquencyRate=%{x}<br>AverageMortgageAmount=%{y}<br>PopulationSize=%{marker.size}<extra></extra>\", \"ids\": [\"Ontario\"], \"legendgroup\": \"Ontario\", \"marker\": {\"color\": \"#19d3f3\", \"size\": [13617553], \"sizemode\": \"area\", \"sizeref\": 36835.035, \"symbol\": \"circle\"}, \"mode\": \"markers\", \"name\": \"Ontario\", \"orientation\": \"v\", \"showlegend\": true, \"x\": [0.27], \"xaxis\": \"x\", \"y\": [262838], \"yaxis\": \"y\", \"type\": \"scatter\"}, {\"hovertemplate\": \"Geography=Manitoba<br>Time=2014Q3<br>DelinquencyRate=%{x}<br>AverageMortgageAmount=%{y}<br>PopulationSize=%{marker.size}<extra></extra>\", \"ids\": [\"Manitoba\"], \"legendgroup\": \"Manitoba\", \"marker\": {\"color\": \"#FF6692\", \"size\": [1279014], \"sizemode\": \"area\", \"sizeref\": 36835.035, \"symbol\": \"circle\"}, \"mode\": \"markers\", \"name\": \"Manitoba\", \"orientation\": \"v\", \"showlegend\": true, \"x\": [0.24], \"xaxis\": \"x\", \"y\": [200051], \"yaxis\": \"y\", \"type\": \"scatter\"}, {\"hovertemplate\": \"Geography=Saskatchewan<br>Time=2014Q3<br>DelinquencyRate=%{x}<br>AverageMortgageAmount=%{y}<br>PopulationSize=%{marker.size}<extra></extra>\", \"ids\": [\"Saskatchewan\"], \"legendgroup\": \"Saskatchewan\", \"marker\": {\"color\": \"#B6E880\", \"size\": [1112979], \"sizemode\": \"area\", \"sizeref\": 36835.035, \"symbol\": \"circle\"}, \"mode\": \"markers\", \"name\": \"Saskatchewan\", \"orientation\": \"v\", \"showlegend\": true, \"x\": [0.32], \"xaxis\": \"x\", \"y\": [231768], \"yaxis\": \"y\", \"type\": \"scatter\"}, {\"hovertemplate\": \"Geography=Alberta<br>Time=2014Q3<br>DelinquencyRate=%{x}<br>AverageMortgageAmount=%{y}<br>PopulationSize=%{marker.size}<extra></extra>\", \"ids\": [\"Alberta\"], \"legendgroup\": \"Alberta\", \"marker\": {\"color\": \"#FF97FF\", \"size\": [4083648], \"sizemode\": \"area\", \"sizeref\": 36835.035, \"symbol\": \"circle\"}, \"mode\": \"markers\", \"name\": \"Alberta\", \"orientation\": \"v\", \"showlegend\": true, \"x\": [0.34], \"xaxis\": \"x\", \"y\": [304374], \"yaxis\": \"y\", \"type\": \"scatter\"}, {\"hovertemplate\": \"Geography=British Columbia<br>Time=2014Q3<br>DelinquencyRate=%{x}<br>AverageMortgageAmount=%{y}<br>PopulationSize=%{marker.size}<extra></extra>\", \"ids\": [\"British Columbia\"], \"legendgroup\": \"British Columbia\", \"marker\": {\"color\": \"#FECB52\", \"size\": [4707103], \"sizemode\": \"area\", \"sizeref\": 36835.035, \"symbol\": \"circle\"}, \"mode\": \"markers\", \"name\": \"British Columbia\", \"orientation\": \"v\", \"showlegend\": true, \"x\": [0.4], \"xaxis\": \"x\", \"y\": [321625], \"yaxis\": \"y\", \"type\": \"scatter\"}], \"name\": \"2014Q3\"}, {\"data\": [{\"hovertemplate\": \"Geography=Newfoundland<br>Time=2014Q4<br>DelinquencyRate=%{x}<br>AverageMortgageAmount=%{y}<br>PopulationSize=%{marker.size}<extra></extra>\", \"ids\": [\"Newfoundland\"], \"legendgroup\": \"Newfoundland\", \"marker\": {\"color\": \"#636efa\", \"size\": [528461], \"sizemode\": \"area\", \"sizeref\": 36835.035, \"symbol\": \"circle\"}, \"mode\": \"markers\", \"name\": \"Newfoundland\", \"orientation\": \"v\", \"showlegend\": true, \"x\": [0.28], \"xaxis\": \"x\", \"y\": [200310], \"yaxis\": \"y\", \"type\": \"scatter\"}, {\"hovertemplate\": \"Geography=Prince Edward Island<br>Time=2014Q4<br>DelinquencyRate=%{x}<br>AverageMortgageAmount=%{y}<br>PopulationSize=%{marker.size}<extra></extra>\", \"ids\": [\"Prince Edward Island\"], \"legendgroup\": \"Prince Edward Island\", \"marker\": {\"color\": \"#EF553B\", \"size\": [144538], \"sizemode\": \"area\", \"sizeref\": 36835.035, \"symbol\": \"circle\"}, \"mode\": \"markers\", \"name\": \"Prince Edward Island\", \"orientation\": \"v\", \"showlegend\": true, \"x\": [0.57], \"xaxis\": \"x\", \"y\": [141232], \"yaxis\": \"y\", \"type\": \"scatter\"}, {\"hovertemplate\": \"Geography=Nova Scotia<br>Time=2014Q4<br>DelinquencyRate=%{x}<br>AverageMortgageAmount=%{y}<br>PopulationSize=%{marker.size}<extra></extra>\", \"ids\": [\"Nova Scotia\"], \"legendgroup\": \"Nova Scotia\", \"marker\": {\"color\": \"#00cc96\", \"size\": [938972], \"sizemode\": \"area\", \"sizeref\": 36835.035, \"symbol\": \"circle\"}, \"mode\": \"markers\", \"name\": \"Nova Scotia\", \"orientation\": \"v\", \"showlegend\": true, \"x\": [0.68], \"xaxis\": \"x\", \"y\": [163584], \"yaxis\": \"y\", \"type\": \"scatter\"}, {\"hovertemplate\": \"Geography=New Brunswick<br>Time=2014Q4<br>DelinquencyRate=%{x}<br>AverageMortgageAmount=%{y}<br>PopulationSize=%{marker.size}<extra></extra>\", \"ids\": [\"New Brunswick\"], \"legendgroup\": \"New Brunswick\", \"marker\": {\"color\": \"#ab63fa\", \"size\": [759524], \"sizemode\": \"area\", \"sizeref\": 36835.035, \"symbol\": \"circle\"}, \"mode\": \"markers\", \"name\": \"New Brunswick\", \"orientation\": \"v\", \"showlegend\": true, \"x\": [0.72], \"xaxis\": \"x\", \"y\": [132766], \"yaxis\": \"y\", \"type\": \"scatter\"}, {\"hovertemplate\": \"Geography=Qu\\u00e9bec<br>Time=2014Q4<br>DelinquencyRate=%{x}<br>AverageMortgageAmount=%{y}<br>PopulationSize=%{marker.size}<extra></extra>\", \"ids\": [\"Qu\\u00e9bec\"], \"legendgroup\": \"Qu\\u00e9bec\", \"marker\": {\"color\": \"#FFA15A\", \"size\": [8165447], \"sizemode\": \"area\", \"sizeref\": 36835.035, \"symbol\": \"circle\"}, \"mode\": \"markers\", \"name\": \"Qu\\u00e9bec\", \"orientation\": \"v\", \"showlegend\": true, \"x\": [0.39], \"xaxis\": \"x\", \"y\": [160073], \"yaxis\": \"y\", \"type\": \"scatter\"}, {\"hovertemplate\": \"Geography=Ontario<br>Time=2014Q4<br>DelinquencyRate=%{x}<br>AverageMortgageAmount=%{y}<br>PopulationSize=%{marker.size}<extra></extra>\", \"ids\": [\"Ontario\"], \"legendgroup\": \"Ontario\", \"marker\": {\"color\": \"#19d3f3\", \"size\": [13661314], \"sizemode\": \"area\", \"sizeref\": 36835.035, \"symbol\": \"circle\"}, \"mode\": \"markers\", \"name\": \"Ontario\", \"orientation\": \"v\", \"showlegend\": true, \"x\": [0.26], \"xaxis\": \"x\", \"y\": [257244], \"yaxis\": \"y\", \"type\": \"scatter\"}, {\"hovertemplate\": \"Geography=Manitoba<br>Time=2014Q4<br>DelinquencyRate=%{x}<br>AverageMortgageAmount=%{y}<br>PopulationSize=%{marker.size}<extra></extra>\", \"ids\": [\"Manitoba\"], \"legendgroup\": \"Manitoba\", \"marker\": {\"color\": \"#FF6692\", \"size\": [1283366], \"sizemode\": \"area\", \"sizeref\": 36835.035, \"symbol\": \"circle\"}, \"mode\": \"markers\", \"name\": \"Manitoba\", \"orientation\": \"v\", \"showlegend\": true, \"x\": [0.27], \"xaxis\": \"x\", \"y\": [197527], \"yaxis\": \"y\", \"type\": \"scatter\"}, {\"hovertemplate\": \"Geography=Saskatchewan<br>Time=2014Q4<br>DelinquencyRate=%{x}<br>AverageMortgageAmount=%{y}<br>PopulationSize=%{marker.size}<extra></extra>\", \"ids\": [\"Saskatchewan\"], \"legendgroup\": \"Saskatchewan\", \"marker\": {\"color\": \"#B6E880\", \"size\": [1116203], \"sizemode\": \"area\", \"sizeref\": 36835.035, \"symbol\": \"circle\"}, \"mode\": \"markers\", \"name\": \"Saskatchewan\", \"orientation\": \"v\", \"showlegend\": true, \"x\": [0.36], \"xaxis\": \"x\", \"y\": [233854], \"yaxis\": \"y\", \"type\": \"scatter\"}, {\"hovertemplate\": \"Geography=Alberta<br>Time=2014Q4<br>DelinquencyRate=%{x}<br>AverageMortgageAmount=%{y}<br>PopulationSize=%{marker.size}<extra></extra>\", \"ids\": [\"Alberta\"], \"legendgroup\": \"Alberta\", \"marker\": {\"color\": \"#FF97FF\", \"size\": [4106056], \"sizemode\": \"area\", \"sizeref\": 36835.035, \"symbol\": \"circle\"}, \"mode\": \"markers\", \"name\": \"Alberta\", \"orientation\": \"v\", \"showlegend\": true, \"x\": [0.32], \"xaxis\": \"x\", \"y\": [305558], \"yaxis\": \"y\", \"type\": \"scatter\"}, {\"hovertemplate\": \"Geography=British Columbia<br>Time=2014Q4<br>DelinquencyRate=%{x}<br>AverageMortgageAmount=%{y}<br>PopulationSize=%{marker.size}<extra></extra>\", \"ids\": [\"British Columbia\"], \"legendgroup\": \"British Columbia\", \"marker\": {\"color\": \"#FECB52\", \"size\": [4737725], \"sizemode\": \"area\", \"sizeref\": 36835.035, \"symbol\": \"circle\"}, \"mode\": \"markers\", \"name\": \"British Columbia\", \"orientation\": \"v\", \"showlegend\": true, \"x\": [0.4], \"xaxis\": \"x\", \"y\": [323373], \"yaxis\": \"y\", \"type\": \"scatter\"}], \"name\": \"2014Q4\"}, {\"data\": [{\"hovertemplate\": \"Geography=Newfoundland<br>Time=2015Q1<br>DelinquencyRate=%{x}<br>AverageMortgageAmount=%{y}<br>PopulationSize=%{marker.size}<extra></extra>\", \"ids\": [\"Newfoundland\"], \"legendgroup\": \"Newfoundland\", \"marker\": {\"color\": \"#636efa\", \"size\": [528361], \"sizemode\": \"area\", \"sizeref\": 36835.035, \"symbol\": \"circle\"}, \"mode\": \"markers\", \"name\": \"Newfoundland\", \"orientation\": \"v\", \"showlegend\": true, \"x\": [0.37], \"xaxis\": \"x\", \"y\": [197406], \"yaxis\": \"y\", \"type\": \"scatter\"}, {\"hovertemplate\": \"Geography=Prince Edward Island<br>Time=2015Q1<br>DelinquencyRate=%{x}<br>AverageMortgageAmount=%{y}<br>PopulationSize=%{marker.size}<extra></extra>\", \"ids\": [\"Prince Edward Island\"], \"legendgroup\": \"Prince Edward Island\", \"marker\": {\"color\": \"#EF553B\", \"size\": [144368], \"sizemode\": \"area\", \"sizeref\": 36835.035, \"symbol\": \"circle\"}, \"mode\": \"markers\", \"name\": \"Prince Edward Island\", \"orientation\": \"v\", \"showlegend\": true, \"x\": [0.68], \"xaxis\": \"x\", \"y\": [146885], \"yaxis\": \"y\", \"type\": \"scatter\"}, {\"hovertemplate\": \"Geography=Nova Scotia<br>Time=2015Q1<br>DelinquencyRate=%{x}<br>AverageMortgageAmount=%{y}<br>PopulationSize=%{marker.size}<extra></extra>\", \"ids\": [\"Nova Scotia\"], \"legendgroup\": \"Nova Scotia\", \"marker\": {\"color\": \"#00cc96\", \"size\": [938296], \"sizemode\": \"area\", \"sizeref\": 36835.035, \"symbol\": \"circle\"}, \"mode\": \"markers\", \"name\": \"Nova Scotia\", \"orientation\": \"v\", \"showlegend\": true, \"x\": [0.7], \"xaxis\": \"x\", \"y\": [163607], \"yaxis\": \"y\", \"type\": \"scatter\"}, {\"hovertemplate\": \"Geography=New Brunswick<br>Time=2015Q1<br>DelinquencyRate=%{x}<br>AverageMortgageAmount=%{y}<br>PopulationSize=%{marker.size}<extra></extra>\", \"ids\": [\"New Brunswick\"], \"legendgroup\": \"New Brunswick\", \"marker\": {\"color\": \"#ab63fa\", \"size\": [759617], \"sizemode\": \"area\", \"sizeref\": 36835.035, \"symbol\": \"circle\"}, \"mode\": \"markers\", \"name\": \"New Brunswick\", \"orientation\": \"v\", \"showlegend\": true, \"x\": [0.79], \"xaxis\": \"x\", \"y\": [132025], \"yaxis\": \"y\", \"type\": \"scatter\"}, {\"hovertemplate\": \"Geography=Qu\\u00e9bec<br>Time=2015Q1<br>DelinquencyRate=%{x}<br>AverageMortgageAmount=%{y}<br>PopulationSize=%{marker.size}<extra></extra>\", \"ids\": [\"Qu\\u00e9bec\"], \"legendgroup\": \"Qu\\u00e9bec\", \"marker\": {\"color\": \"#FFA15A\", \"size\": [8163132], \"sizemode\": \"area\", \"sizeref\": 36835.035, \"symbol\": \"circle\"}, \"mode\": \"markers\", \"name\": \"Qu\\u00e9bec\", \"orientation\": \"v\", \"showlegend\": true, \"x\": [0.42], \"xaxis\": \"x\", \"y\": [161563], \"yaxis\": \"y\", \"type\": \"scatter\"}, {\"hovertemplate\": \"Geography=Ontario<br>Time=2015Q1<br>DelinquencyRate=%{x}<br>AverageMortgageAmount=%{y}<br>PopulationSize=%{marker.size}<extra></extra>\", \"ids\": [\"Ontario\"], \"legendgroup\": \"Ontario\", \"marker\": {\"color\": \"#19d3f3\", \"size\": [13657737], \"sizemode\": \"area\", \"sizeref\": 36835.035, \"symbol\": \"circle\"}, \"mode\": \"markers\", \"name\": \"Ontario\", \"orientation\": \"v\", \"showlegend\": true, \"x\": [0.27], \"xaxis\": \"x\", \"y\": [254854], \"yaxis\": \"y\", \"type\": \"scatter\"}, {\"hovertemplate\": \"Geography=Manitoba<br>Time=2015Q1<br>DelinquencyRate=%{x}<br>AverageMortgageAmount=%{y}<br>PopulationSize=%{marker.size}<extra></extra>\", \"ids\": [\"Manitoba\"], \"legendgroup\": \"Manitoba\", \"marker\": {\"color\": \"#FF6692\", \"size\": [1286453], \"sizemode\": \"area\", \"sizeref\": 36835.035, \"symbol\": \"circle\"}, \"mode\": \"markers\", \"name\": \"Manitoba\", \"orientation\": \"v\", \"showlegend\": true, \"x\": [0.31], \"xaxis\": \"x\", \"y\": [191444], \"yaxis\": \"y\", \"type\": \"scatter\"}, {\"hovertemplate\": \"Geography=Saskatchewan<br>Time=2015Q1<br>DelinquencyRate=%{x}<br>AverageMortgageAmount=%{y}<br>PopulationSize=%{marker.size}<extra></extra>\", \"ids\": [\"Saskatchewan\"], \"legendgroup\": \"Saskatchewan\", \"marker\": {\"color\": \"#B6E880\", \"size\": [1118181], \"sizemode\": \"area\", \"sizeref\": 36835.035, \"symbol\": \"circle\"}, \"mode\": \"markers\", \"name\": \"Saskatchewan\", \"orientation\": \"v\", \"showlegend\": true, \"x\": [0.41], \"xaxis\": \"x\", \"y\": [228569], \"yaxis\": \"y\", \"type\": \"scatter\"}, {\"hovertemplate\": \"Geography=Alberta<br>Time=2015Q1<br>DelinquencyRate=%{x}<br>AverageMortgageAmount=%{y}<br>PopulationSize=%{marker.size}<extra></extra>\", \"ids\": [\"Alberta\"], \"legendgroup\": \"Alberta\", \"marker\": {\"color\": \"#FF97FF\", \"size\": [4116047], \"sizemode\": \"area\", \"sizeref\": 36835.035, \"symbol\": \"circle\"}, \"mode\": \"markers\", \"name\": \"Alberta\", \"orientation\": \"v\", \"showlegend\": true, \"x\": [0.32], \"xaxis\": \"x\", \"y\": [303976], \"yaxis\": \"y\", \"type\": \"scatter\"}, {\"hovertemplate\": \"Geography=British Columbia<br>Time=2015Q1<br>DelinquencyRate=%{x}<br>AverageMortgageAmount=%{y}<br>PopulationSize=%{marker.size}<extra></extra>\", \"ids\": [\"British Columbia\"], \"legendgroup\": \"British Columbia\", \"marker\": {\"color\": \"#FECB52\", \"size\": [4745468], \"sizemode\": \"area\", \"sizeref\": 36835.035, \"symbol\": \"circle\"}, \"mode\": \"markers\", \"name\": \"British Columbia\", \"orientation\": \"v\", \"showlegend\": true, \"x\": [0.4], \"xaxis\": \"x\", \"y\": [325035], \"yaxis\": \"y\", \"type\": \"scatter\"}], \"name\": \"2015Q1\"}, {\"data\": [{\"hovertemplate\": \"Geography=Newfoundland<br>Time=2015Q2<br>DelinquencyRate=%{x}<br>AverageMortgageAmount=%{y}<br>PopulationSize=%{marker.size}<extra></extra>\", \"ids\": [\"Newfoundland\"], \"legendgroup\": \"Newfoundland\", \"marker\": {\"color\": \"#636efa\", \"size\": [528063], \"sizemode\": \"area\", \"sizeref\": 36835.035, \"symbol\": \"circle\"}, \"mode\": \"markers\", \"name\": \"Newfoundland\", \"orientation\": \"v\", \"showlegend\": true, \"x\": [0.37], \"xaxis\": \"x\", \"y\": [193956], \"yaxis\": \"y\", \"type\": \"scatter\"}, {\"hovertemplate\": \"Geography=Prince Edward Island<br>Time=2015Q2<br>DelinquencyRate=%{x}<br>AverageMortgageAmount=%{y}<br>PopulationSize=%{marker.size}<extra></extra>\", \"ids\": [\"Prince Edward Island\"], \"legendgroup\": \"Prince Edward Island\", \"marker\": {\"color\": \"#EF553B\", \"size\": [144259], \"sizemode\": \"area\", \"sizeref\": 36835.035, \"symbol\": \"circle\"}, \"mode\": \"markers\", \"name\": \"Prince Edward Island\", \"orientation\": \"v\", \"showlegend\": true, \"x\": [0.62], \"xaxis\": \"x\", \"y\": [146818], \"yaxis\": \"y\", \"type\": \"scatter\"}, {\"hovertemplate\": \"Geography=Nova Scotia<br>Time=2015Q2<br>DelinquencyRate=%{x}<br>AverageMortgageAmount=%{y}<br>PopulationSize=%{marker.size}<extra></extra>\", \"ids\": [\"Nova Scotia\"], \"legendgroup\": \"Nova Scotia\", \"marker\": {\"color\": \"#00cc96\", \"size\": [936271], \"sizemode\": \"area\", \"sizeref\": 36835.035, \"symbol\": \"circle\"}, \"mode\": \"markers\", \"name\": \"Nova Scotia\", \"orientation\": \"v\", \"showlegend\": true, \"x\": [0.67], \"xaxis\": \"x\", \"y\": [165288], \"yaxis\": \"y\", \"type\": \"scatter\"}, {\"hovertemplate\": \"Geography=New Brunswick<br>Time=2015Q2<br>DelinquencyRate=%{x}<br>AverageMortgageAmount=%{y}<br>PopulationSize=%{marker.size}<extra></extra>\", \"ids\": [\"New Brunswick\"], \"legendgroup\": \"New Brunswick\", \"marker\": {\"color\": \"#ab63fa\", \"size\": [758948], \"sizemode\": \"area\", \"sizeref\": 36835.035, \"symbol\": \"circle\"}, \"mode\": \"markers\", \"name\": \"New Brunswick\", \"orientation\": \"v\", \"showlegend\": true, \"x\": [0.8], \"xaxis\": \"x\", \"y\": [128378], \"yaxis\": \"y\", \"type\": \"scatter\"}, {\"hovertemplate\": \"Geography=Qu\\u00e9bec<br>Time=2015Q2<br>DelinquencyRate=%{x}<br>AverageMortgageAmount=%{y}<br>PopulationSize=%{marker.size}<extra></extra>\", \"ids\": [\"Qu\\u00e9bec\"], \"legendgroup\": \"Qu\\u00e9bec\", \"marker\": {\"color\": \"#FFA15A\", \"size\": [8163063], \"sizemode\": \"area\", \"sizeref\": 36835.035, \"symbol\": \"circle\"}, \"mode\": \"markers\", \"name\": \"Qu\\u00e9bec\", \"orientation\": \"v\", \"showlegend\": true, \"x\": [0.41], \"xaxis\": \"x\", \"y\": [164764], \"yaxis\": \"y\", \"type\": \"scatter\"}, {\"hovertemplate\": \"Geography=Ontario<br>Time=2015Q2<br>DelinquencyRate=%{x}<br>AverageMortgageAmount=%{y}<br>PopulationSize=%{marker.size}<extra></extra>\", \"ids\": [\"Ontario\"], \"legendgroup\": \"Ontario\", \"marker\": {\"color\": \"#19d3f3\", \"size\": [13669860], \"sizemode\": \"area\", \"sizeref\": 36835.035, \"symbol\": \"circle\"}, \"mode\": \"markers\", \"name\": \"Ontario\", \"orientation\": \"v\", \"showlegend\": true, \"x\": [0.25], \"xaxis\": \"x\", \"y\": [259093], \"yaxis\": \"y\", \"type\": \"scatter\"}, {\"hovertemplate\": \"Geography=Manitoba<br>Time=2015Q2<br>DelinquencyRate=%{x}<br>AverageMortgageAmount=%{y}<br>PopulationSize=%{marker.size}<extra></extra>\", \"ids\": [\"Manitoba\"], \"legendgroup\": \"Manitoba\", \"marker\": {\"color\": \"#FF6692\", \"size\": [1288094], \"sizemode\": \"area\", \"sizeref\": 36835.035, \"symbol\": \"circle\"}, \"mode\": \"markers\", \"name\": \"Manitoba\", \"orientation\": \"v\", \"showlegend\": true, \"x\": [0.3], \"xaxis\": \"x\", \"y\": [190383], \"yaxis\": \"y\", \"type\": \"scatter\"}, {\"hovertemplate\": \"Geography=Saskatchewan<br>Time=2015Q2<br>DelinquencyRate=%{x}<br>AverageMortgageAmount=%{y}<br>PopulationSize=%{marker.size}<extra></extra>\", \"ids\": [\"Saskatchewan\"], \"legendgroup\": \"Saskatchewan\", \"marker\": {\"color\": \"#B6E880\", \"size\": [1118806], \"sizemode\": \"area\", \"sizeref\": 36835.035, \"symbol\": \"circle\"}, \"mode\": \"markers\", \"name\": \"Saskatchewan\", \"orientation\": \"v\", \"showlegend\": true, \"x\": [0.43], \"xaxis\": \"x\", \"y\": [226957], \"yaxis\": \"y\", \"type\": \"scatter\"}, {\"hovertemplate\": \"Geography=Alberta<br>Time=2015Q2<br>DelinquencyRate=%{x}<br>AverageMortgageAmount=%{y}<br>PopulationSize=%{marker.size}<extra></extra>\", \"ids\": [\"Alberta\"], \"legendgroup\": \"Alberta\", \"marker\": {\"color\": \"#FF97FF\", \"size\": [4128300], \"sizemode\": \"area\", \"sizeref\": 36835.035, \"symbol\": \"circle\"}, \"mode\": \"markers\", \"name\": \"Alberta\", \"orientation\": \"v\", \"showlegend\": true, \"x\": [0.33], \"xaxis\": \"x\", \"y\": [299837], \"yaxis\": \"y\", \"type\": \"scatter\"}, {\"hovertemplate\": \"Geography=British Columbia<br>Time=2015Q2<br>DelinquencyRate=%{x}<br>AverageMortgageAmount=%{y}<br>PopulationSize=%{marker.size}<extra></extra>\", \"ids\": [\"British Columbia\"], \"legendgroup\": \"British Columbia\", \"marker\": {\"color\": \"#FECB52\", \"size\": [4757759], \"sizemode\": \"area\", \"sizeref\": 36835.035, \"symbol\": \"circle\"}, \"mode\": \"markers\", \"name\": \"British Columbia\", \"orientation\": \"v\", \"showlegend\": true, \"x\": [0.38], \"xaxis\": \"x\", \"y\": [328540], \"yaxis\": \"y\", \"type\": \"scatter\"}], \"name\": \"2015Q2\"}, {\"data\": [{\"hovertemplate\": \"Geography=Newfoundland<br>Time=2015Q3<br>DelinquencyRate=%{x}<br>AverageMortgageAmount=%{y}<br>PopulationSize=%{marker.size}<extra></extra>\", \"ids\": [\"Newfoundland\"], \"legendgroup\": \"Newfoundland\", \"marker\": {\"color\": \"#636efa\", \"size\": [528117], \"sizemode\": \"area\", \"sizeref\": 36835.035, \"symbol\": \"circle\"}, \"mode\": \"markers\", \"name\": \"Newfoundland\", \"orientation\": \"v\", \"showlegend\": true, \"x\": [0.37], \"xaxis\": \"x\", \"y\": [199758], \"yaxis\": \"y\", \"type\": \"scatter\"}, {\"hovertemplate\": \"Geography=Prince Edward Island<br>Time=2015Q3<br>DelinquencyRate=%{x}<br>AverageMortgageAmount=%{y}<br>PopulationSize=%{marker.size}<extra></extra>\", \"ids\": [\"Prince Edward Island\"], \"legendgroup\": \"Prince Edward Island\", \"marker\": {\"color\": \"#EF553B\", \"size\": [144546], \"sizemode\": \"area\", \"sizeref\": 36835.035, \"symbol\": \"circle\"}, \"mode\": \"markers\", \"name\": \"Prince Edward Island\", \"orientation\": \"v\", \"showlegend\": true, \"x\": [0.63], \"xaxis\": \"x\", \"y\": [150403], \"yaxis\": \"y\", \"type\": \"scatter\"}, {\"hovertemplate\": \"Geography=Nova Scotia<br>Time=2015Q3<br>DelinquencyRate=%{x}<br>AverageMortgageAmount=%{y}<br>PopulationSize=%{marker.size}<extra></extra>\", \"ids\": [\"Nova Scotia\"], \"legendgroup\": \"Nova Scotia\", \"marker\": {\"color\": \"#00cc96\", \"size\": [936525], \"sizemode\": \"area\", \"sizeref\": 36835.035, \"symbol\": \"circle\"}, \"mode\": \"markers\", \"name\": \"Nova Scotia\", \"orientation\": \"v\", \"showlegend\": true, \"x\": [0.66], \"xaxis\": \"x\", \"y\": [178091], \"yaxis\": \"y\", \"type\": \"scatter\"}, {\"hovertemplate\": \"Geography=New Brunswick<br>Time=2015Q3<br>DelinquencyRate=%{x}<br>AverageMortgageAmount=%{y}<br>PopulationSize=%{marker.size}<extra></extra>\", \"ids\": [\"New Brunswick\"], \"legendgroup\": \"New Brunswick\", \"marker\": {\"color\": \"#ab63fa\", \"size\": [758842], \"sizemode\": \"area\", \"sizeref\": 36835.035, \"symbol\": \"circle\"}, \"mode\": \"markers\", \"name\": \"New Brunswick\", \"orientation\": \"v\", \"showlegend\": true, \"x\": [0.81], \"xaxis\": \"x\", \"y\": [137565], \"yaxis\": \"y\", \"type\": \"scatter\"}, {\"hovertemplate\": \"Geography=Qu\\u00e9bec<br>Time=2015Q3<br>DelinquencyRate=%{x}<br>AverageMortgageAmount=%{y}<br>PopulationSize=%{marker.size}<extra></extra>\", \"ids\": [\"Qu\\u00e9bec\"], \"legendgroup\": \"Qu\\u00e9bec\", \"marker\": {\"color\": \"#FFA15A\", \"size\": [8175272], \"sizemode\": \"area\", \"sizeref\": 36835.035, \"symbol\": \"circle\"}, \"mode\": \"markers\", \"name\": \"Qu\\u00e9bec\", \"orientation\": \"v\", \"showlegend\": true, \"x\": [0.41], \"xaxis\": \"x\", \"y\": [170403], \"yaxis\": \"y\", \"type\": \"scatter\"}, {\"hovertemplate\": \"Geography=Ontario<br>Time=2015Q3<br>DelinquencyRate=%{x}<br>AverageMortgageAmount=%{y}<br>PopulationSize=%{marker.size}<extra></extra>\", \"ids\": [\"Ontario\"], \"legendgroup\": \"Ontario\", \"marker\": {\"color\": \"#19d3f3\", \"size\": [13707118], \"sizemode\": \"area\", \"sizeref\": 36835.035, \"symbol\": \"circle\"}, \"mode\": \"markers\", \"name\": \"Ontario\", \"orientation\": \"v\", \"showlegend\": true, \"x\": [0.24], \"xaxis\": \"x\", \"y\": [281259], \"yaxis\": \"y\", \"type\": \"scatter\"}, {\"hovertemplate\": \"Geography=Manitoba<br>Time=2015Q3<br>DelinquencyRate=%{x}<br>AverageMortgageAmount=%{y}<br>PopulationSize=%{marker.size}<extra></extra>\", \"ids\": [\"Manitoba\"], \"legendgroup\": \"Manitoba\", \"marker\": {\"color\": \"#FF6692\", \"size\": [1292227], \"sizemode\": \"area\", \"sizeref\": 36835.035, \"symbol\": \"circle\"}, \"mode\": \"markers\", \"name\": \"Manitoba\", \"orientation\": \"v\", \"showlegend\": true, \"x\": [0.29], \"xaxis\": \"x\", \"y\": [206275], \"yaxis\": \"y\", \"type\": \"scatter\"}, {\"hovertemplate\": \"Geography=Saskatchewan<br>Time=2015Q3<br>DelinquencyRate=%{x}<br>AverageMortgageAmount=%{y}<br>PopulationSize=%{marker.size}<extra></extra>\", \"ids\": [\"Saskatchewan\"], \"legendgroup\": \"Saskatchewan\", \"marker\": {\"color\": \"#B6E880\", \"size\": [1120967], \"sizemode\": \"area\", \"sizeref\": 36835.035, \"symbol\": \"circle\"}, \"mode\": \"markers\", \"name\": \"Saskatchewan\", \"orientation\": \"v\", \"showlegend\": true, \"x\": [0.45], \"xaxis\": \"x\", \"y\": [234840], \"yaxis\": \"y\", \"type\": \"scatter\"}, {\"hovertemplate\": \"Geography=Alberta<br>Time=2015Q3<br>DelinquencyRate=%{x}<br>AverageMortgageAmount=%{y}<br>PopulationSize=%{marker.size}<extra></extra>\", \"ids\": [\"Alberta\"], \"legendgroup\": \"Alberta\", \"marker\": {\"color\": \"#FF97FF\", \"size\": [4144491], \"sizemode\": \"area\", \"sizeref\": 36835.035, \"symbol\": \"circle\"}, \"mode\": \"markers\", \"name\": \"Alberta\", \"orientation\": \"v\", \"showlegend\": true, \"x\": [0.35], \"xaxis\": \"x\", \"y\": [309953], \"yaxis\": \"y\", \"type\": \"scatter\"}, {\"hovertemplate\": \"Geography=British Columbia<br>Time=2015Q3<br>DelinquencyRate=%{x}<br>AverageMortgageAmount=%{y}<br>PopulationSize=%{marker.size}<extra></extra>\", \"ids\": [\"British Columbia\"], \"legendgroup\": \"British Columbia\", \"marker\": {\"color\": \"#FECB52\", \"size\": [4776388], \"sizemode\": \"area\", \"sizeref\": 36835.035, \"symbol\": \"circle\"}, \"mode\": \"markers\", \"name\": \"British Columbia\", \"orientation\": \"v\", \"showlegend\": true, \"x\": [0.34], \"xaxis\": \"x\", \"y\": [350672], \"yaxis\": \"y\", \"type\": \"scatter\"}], \"name\": \"2015Q3\"}, {\"data\": [{\"hovertemplate\": \"Geography=Newfoundland<br>Time=2015Q4<br>DelinquencyRate=%{x}<br>AverageMortgageAmount=%{y}<br>PopulationSize=%{marker.size}<extra></extra>\", \"ids\": [\"Newfoundland\"], \"legendgroup\": \"Newfoundland\", \"marker\": {\"color\": \"#636efa\", \"size\": [528696], \"sizemode\": \"area\", \"sizeref\": 36835.035, \"symbol\": \"circle\"}, \"mode\": \"markers\", \"name\": \"Newfoundland\", \"orientation\": \"v\", \"showlegend\": true, \"x\": [0.41], \"xaxis\": \"x\", \"y\": [202487], \"yaxis\": \"y\", \"type\": \"scatter\"}, {\"hovertemplate\": \"Geography=Prince Edward Island<br>Time=2015Q4<br>DelinquencyRate=%{x}<br>AverageMortgageAmount=%{y}<br>PopulationSize=%{marker.size}<extra></extra>\", \"ids\": [\"Prince Edward Island\"], \"legendgroup\": \"Prince Edward Island\", \"marker\": {\"color\": \"#EF553B\", \"size\": [144894], \"sizemode\": \"area\", \"sizeref\": 36835.035, \"symbol\": \"circle\"}, \"mode\": \"markers\", \"name\": \"Prince Edward Island\", \"orientation\": \"v\", \"showlegend\": true, \"x\": [0.67], \"xaxis\": \"x\", \"y\": [155926], \"yaxis\": \"y\", \"type\": \"scatter\"}, {\"hovertemplate\": \"Geography=Nova Scotia<br>Time=2015Q4<br>DelinquencyRate=%{x}<br>AverageMortgageAmount=%{y}<br>PopulationSize=%{marker.size}<extra></extra>\", \"ids\": [\"Nova Scotia\"], \"legendgroup\": \"Nova Scotia\", \"marker\": {\"color\": \"#00cc96\", \"size\": [938320], \"sizemode\": \"area\", \"sizeref\": 36835.035, \"symbol\": \"circle\"}, \"mode\": \"markers\", \"name\": \"Nova Scotia\", \"orientation\": \"v\", \"showlegend\": true, \"x\": [0.68], \"xaxis\": \"x\", \"y\": [172863], \"yaxis\": \"y\", \"type\": \"scatter\"}, {\"hovertemplate\": \"Geography=New Brunswick<br>Time=2015Q4<br>DelinquencyRate=%{x}<br>AverageMortgageAmount=%{y}<br>PopulationSize=%{marker.size}<extra></extra>\", \"ids\": [\"New Brunswick\"], \"legendgroup\": \"New Brunswick\", \"marker\": {\"color\": \"#ab63fa\", \"size\": [759778], \"sizemode\": \"area\", \"sizeref\": 36835.035, \"symbol\": \"circle\"}, \"mode\": \"markers\", \"name\": \"New Brunswick\", \"orientation\": \"v\", \"showlegend\": true, \"x\": [0.79], \"xaxis\": \"x\", \"y\": [137039], \"yaxis\": \"y\", \"type\": \"scatter\"}, {\"hovertemplate\": \"Geography=Qu\\u00e9bec<br>Time=2015Q4<br>DelinquencyRate=%{x}<br>AverageMortgageAmount=%{y}<br>PopulationSize=%{marker.size}<extra></extra>\", \"ids\": [\"Qu\\u00e9bec\"], \"legendgroup\": \"Qu\\u00e9bec\", \"marker\": {\"color\": \"#FFA15A\", \"size\": [8190014], \"sizemode\": \"area\", \"sizeref\": 36835.035, \"symbol\": \"circle\"}, \"mode\": \"markers\", \"name\": \"Qu\\u00e9bec\", \"orientation\": \"v\", \"showlegend\": true, \"x\": [0.42], \"xaxis\": \"x\", \"y\": [164235], \"yaxis\": \"y\", \"type\": \"scatter\"}, {\"hovertemplate\": \"Geography=Ontario<br>Time=2015Q4<br>DelinquencyRate=%{x}<br>AverageMortgageAmount=%{y}<br>PopulationSize=%{marker.size}<extra></extra>\", \"ids\": [\"Ontario\"], \"legendgroup\": \"Ontario\", \"marker\": {\"color\": \"#19d3f3\", \"size\": [13757688], \"sizemode\": \"area\", \"sizeref\": 36835.035, \"symbol\": \"circle\"}, \"mode\": \"markers\", \"name\": \"Ontario\", \"orientation\": \"v\", \"showlegend\": true, \"x\": [0.23], \"xaxis\": \"x\", \"y\": [277802], \"yaxis\": \"y\", \"type\": \"scatter\"}, {\"hovertemplate\": \"Geography=Manitoba<br>Time=2015Q4<br>DelinquencyRate=%{x}<br>AverageMortgageAmount=%{y}<br>PopulationSize=%{marker.size}<extra></extra>\", \"ids\": [\"Manitoba\"], \"legendgroup\": \"Manitoba\", \"marker\": {\"color\": \"#FF6692\", \"size\": [1297329], \"sizemode\": \"area\", \"sizeref\": 36835.035, \"symbol\": \"circle\"}, \"mode\": \"markers\", \"name\": \"Manitoba\", \"orientation\": \"v\", \"showlegend\": true, \"x\": [0.33], \"xaxis\": \"x\", \"y\": [201640], \"yaxis\": \"y\", \"type\": \"scatter\"}, {\"hovertemplate\": \"Geography=Saskatchewan<br>Time=2015Q4<br>DelinquencyRate=%{x}<br>AverageMortgageAmount=%{y}<br>PopulationSize=%{marker.size}<extra></extra>\", \"ids\": [\"Saskatchewan\"], \"legendgroup\": \"Saskatchewan\", \"marker\": {\"color\": \"#B6E880\", \"size\": [1124919], \"sizemode\": \"area\", \"sizeref\": 36835.035, \"symbol\": \"circle\"}, \"mode\": \"markers\", \"name\": \"Saskatchewan\", \"orientation\": \"v\", \"showlegend\": true, \"x\": [0.49], \"xaxis\": \"x\", \"y\": [231611], \"yaxis\": \"y\", \"type\": \"scatter\"}, {\"hovertemplate\": \"Geography=Alberta<br>Time=2015Q4<br>DelinquencyRate=%{x}<br>AverageMortgageAmount=%{y}<br>PopulationSize=%{marker.size}<extra></extra>\", \"ids\": [\"Alberta\"], \"legendgroup\": \"Alberta\", \"marker\": {\"color\": \"#FF97FF\", \"size\": [4159519], \"sizemode\": \"area\", \"sizeref\": 36835.035, \"symbol\": \"circle\"}, \"mode\": \"markers\", \"name\": \"Alberta\", \"orientation\": \"v\", \"showlegend\": true, \"x\": [0.36], \"xaxis\": \"x\", \"y\": [303244], \"yaxis\": \"y\", \"type\": \"scatter\"}, {\"hovertemplate\": \"Geography=British Columbia<br>Time=2015Q4<br>DelinquencyRate=%{x}<br>AverageMortgageAmount=%{y}<br>PopulationSize=%{marker.size}<extra></extra>\", \"ids\": [\"British Columbia\"], \"legendgroup\": \"British Columbia\", \"marker\": {\"color\": \"#FECB52\", \"size\": [4802955], \"sizemode\": \"area\", \"sizeref\": 36835.035, \"symbol\": \"circle\"}, \"mode\": \"markers\", \"name\": \"British Columbia\", \"orientation\": \"v\", \"showlegend\": true, \"x\": [0.32], \"xaxis\": \"x\", \"y\": [357016], \"yaxis\": \"y\", \"type\": \"scatter\"}], \"name\": \"2015Q4\"}, {\"data\": [{\"hovertemplate\": \"Geography=Newfoundland<br>Time=2016Q1<br>DelinquencyRate=%{x}<br>AverageMortgageAmount=%{y}<br>PopulationSize=%{marker.size}<extra></extra>\", \"ids\": [\"Newfoundland\"], \"legendgroup\": \"Newfoundland\", \"marker\": {\"color\": \"#636efa\", \"size\": [528800], \"sizemode\": \"area\", \"sizeref\": 36835.035, \"symbol\": \"circle\"}, \"mode\": \"markers\", \"name\": \"Newfoundland\", \"orientation\": \"v\", \"showlegend\": true, \"x\": [0.45], \"xaxis\": \"x\", \"y\": [196798], \"yaxis\": \"y\", \"type\": \"scatter\"}, {\"hovertemplate\": \"Geography=Prince Edward Island<br>Time=2016Q1<br>DelinquencyRate=%{x}<br>AverageMortgageAmount=%{y}<br>PopulationSize=%{marker.size}<extra></extra>\", \"ids\": [\"Prince Edward Island\"], \"legendgroup\": \"Prince Edward Island\", \"marker\": {\"color\": \"#EF553B\", \"size\": [145202], \"sizemode\": \"area\", \"sizeref\": 36835.035, \"symbol\": \"circle\"}, \"mode\": \"markers\", \"name\": \"Prince Edward Island\", \"orientation\": \"v\", \"showlegend\": true, \"x\": [0.7], \"xaxis\": \"x\", \"y\": [157322], \"yaxis\": \"y\", \"type\": \"scatter\"}, {\"hovertemplate\": \"Geography=Nova Scotia<br>Time=2016Q1<br>DelinquencyRate=%{x}<br>AverageMortgageAmount=%{y}<br>PopulationSize=%{marker.size}<extra></extra>\", \"ids\": [\"Nova Scotia\"], \"legendgroup\": \"Nova Scotia\", \"marker\": {\"color\": \"#00cc96\", \"size\": [938690], \"sizemode\": \"area\", \"sizeref\": 36835.035, \"symbol\": \"circle\"}, \"mode\": \"markers\", \"name\": \"Nova Scotia\", \"orientation\": \"v\", \"showlegend\": true, \"x\": [0.7], \"xaxis\": \"x\", \"y\": [167596], \"yaxis\": \"y\", \"type\": \"scatter\"}, {\"hovertemplate\": \"Geography=New Brunswick<br>Time=2016Q1<br>DelinquencyRate=%{x}<br>AverageMortgageAmount=%{y}<br>PopulationSize=%{marker.size}<extra></extra>\", \"ids\": [\"New Brunswick\"], \"legendgroup\": \"New Brunswick\", \"marker\": {\"color\": \"#ab63fa\", \"size\": [760580], \"sizemode\": \"area\", \"sizeref\": 36835.035, \"symbol\": \"circle\"}, \"mode\": \"markers\", \"name\": \"New Brunswick\", \"orientation\": \"v\", \"showlegend\": true, \"x\": [0.82], \"xaxis\": \"x\", \"y\": [132325], \"yaxis\": \"y\", \"type\": \"scatter\"}, {\"hovertemplate\": \"Geography=Qu\\u00e9bec<br>Time=2016Q1<br>DelinquencyRate=%{x}<br>AverageMortgageAmount=%{y}<br>PopulationSize=%{marker.size}<extra></extra>\", \"ids\": [\"Qu\\u00e9bec\"], \"legendgroup\": \"Qu\\u00e9bec\", \"marker\": {\"color\": \"#FFA15A\", \"size\": [8193624], \"sizemode\": \"area\", \"sizeref\": 36835.035, \"symbol\": \"circle\"}, \"mode\": \"markers\", \"name\": \"Qu\\u00e9bec\", \"orientation\": \"v\", \"showlegend\": true, \"x\": [0.44], \"xaxis\": \"x\", \"y\": [167154], \"yaxis\": \"y\", \"type\": \"scatter\"}, {\"hovertemplate\": \"Geography=Ontario<br>Time=2016Q1<br>DelinquencyRate=%{x}<br>AverageMortgageAmount=%{y}<br>PopulationSize=%{marker.size}<extra></extra>\", \"ids\": [\"Ontario\"], \"legendgroup\": \"Ontario\", \"marker\": {\"color\": \"#19d3f3\", \"size\": [13773629], \"sizemode\": \"area\", \"sizeref\": 36835.035, \"symbol\": \"circle\"}, \"mode\": \"markers\", \"name\": \"Ontario\", \"orientation\": \"v\", \"showlegend\": true, \"x\": [0.24], \"xaxis\": \"x\", \"y\": [278626], \"yaxis\": \"y\", \"type\": \"scatter\"}, {\"hovertemplate\": \"Geography=Manitoba<br>Time=2016Q1<br>DelinquencyRate=%{x}<br>AverageMortgageAmount=%{y}<br>PopulationSize=%{marker.size}<extra></extra>\", \"ids\": [\"Manitoba\"], \"legendgroup\": \"Manitoba\", \"marker\": {\"color\": \"#FF6692\", \"size\": [1302544], \"sizemode\": \"area\", \"sizeref\": 36835.035, \"symbol\": \"circle\"}, \"mode\": \"markers\", \"name\": \"Manitoba\", \"orientation\": \"v\", \"showlegend\": true, \"x\": [0.34], \"xaxis\": \"x\", \"y\": [193970], \"yaxis\": \"y\", \"type\": \"scatter\"}, {\"hovertemplate\": \"Geography=Saskatchewan<br>Time=2016Q1<br>DelinquencyRate=%{x}<br>AverageMortgageAmount=%{y}<br>PopulationSize=%{marker.size}<extra></extra>\", \"ids\": [\"Saskatchewan\"], \"legendgroup\": \"Saskatchewan\", \"marker\": {\"color\": \"#B6E880\", \"size\": [1127773], \"sizemode\": \"area\", \"sizeref\": 36835.035, \"symbol\": \"circle\"}, \"mode\": \"markers\", \"name\": \"Saskatchewan\", \"orientation\": \"v\", \"showlegend\": true, \"x\": [0.54], \"xaxis\": \"x\", \"y\": [225641], \"yaxis\": \"y\", \"type\": \"scatter\"}, {\"hovertemplate\": \"Geography=Alberta<br>Time=2016Q1<br>DelinquencyRate=%{x}<br>AverageMortgageAmount=%{y}<br>PopulationSize=%{marker.size}<extra></extra>\", \"ids\": [\"Alberta\"], \"legendgroup\": \"Alberta\", \"marker\": {\"color\": \"#FF97FF\", \"size\": [4169830], \"sizemode\": \"area\", \"sizeref\": 36835.035, \"symbol\": \"circle\"}, \"mode\": \"markers\", \"name\": \"Alberta\", \"orientation\": \"v\", \"showlegend\": true, \"x\": [0.41], \"xaxis\": \"x\", \"y\": [296111], \"yaxis\": \"y\", \"type\": \"scatter\"}, {\"hovertemplate\": \"Geography=British Columbia<br>Time=2016Q1<br>DelinquencyRate=%{x}<br>AverageMortgageAmount=%{y}<br>PopulationSize=%{marker.size}<extra></extra>\", \"ids\": [\"British Columbia\"], \"legendgroup\": \"British Columbia\", \"marker\": {\"color\": \"#FECB52\", \"size\": [4811465], \"sizemode\": \"area\", \"sizeref\": 36835.035, \"symbol\": \"circle\"}, \"mode\": \"markers\", \"name\": \"British Columbia\", \"orientation\": \"v\", \"showlegend\": true, \"x\": [0.32], \"xaxis\": \"x\", \"y\": [368782], \"yaxis\": \"y\", \"type\": \"scatter\"}], \"name\": \"2016Q1\"}, {\"data\": [{\"hovertemplate\": \"Geography=Newfoundland<br>Time=2016Q2<br>DelinquencyRate=%{x}<br>AverageMortgageAmount=%{y}<br>PopulationSize=%{marker.size}<extra></extra>\", \"ids\": [\"Newfoundland\"], \"legendgroup\": \"Newfoundland\", \"marker\": {\"color\": \"#636efa\", \"size\": [529063], \"sizemode\": \"area\", \"sizeref\": 36835.035, \"symbol\": \"circle\"}, \"mode\": \"markers\", \"name\": \"Newfoundland\", \"orientation\": \"v\", \"showlegend\": true, \"x\": [0.46], \"xaxis\": \"x\", \"y\": [196806], \"yaxis\": \"y\", \"type\": \"scatter\"}, {\"hovertemplate\": \"Geography=Prince Edward Island<br>Time=2016Q2<br>DelinquencyRate=%{x}<br>AverageMortgageAmount=%{y}<br>PopulationSize=%{marker.size}<extra></extra>\", \"ids\": [\"Prince Edward Island\"], \"legendgroup\": \"Prince Edward Island\", \"marker\": {\"color\": \"#EF553B\", \"size\": [145784], \"sizemode\": \"area\", \"sizeref\": 36835.035, \"symbol\": \"circle\"}, \"mode\": \"markers\", \"name\": \"Prince Edward Island\", \"orientation\": \"v\", \"showlegend\": true, \"x\": [0.7], \"xaxis\": \"x\", \"y\": [150732], \"yaxis\": \"y\", \"type\": \"scatter\"}, {\"hovertemplate\": \"Geography=Nova Scotia<br>Time=2016Q2<br>DelinquencyRate=%{x}<br>AverageMortgageAmount=%{y}<br>PopulationSize=%{marker.size}<extra></extra>\", \"ids\": [\"Nova Scotia\"], \"legendgroup\": \"Nova Scotia\", \"marker\": {\"color\": \"#00cc96\", \"size\": [940382], \"sizemode\": \"area\", \"sizeref\": 36835.035, \"symbol\": \"circle\"}, \"mode\": \"markers\", \"name\": \"Nova Scotia\", \"orientation\": \"v\", \"showlegend\": true, \"x\": [0.72], \"xaxis\": \"x\", \"y\": [168948], \"yaxis\": \"y\", \"type\": \"scatter\"}, {\"hovertemplate\": \"Geography=New Brunswick<br>Time=2016Q2<br>DelinquencyRate=%{x}<br>AverageMortgageAmount=%{y}<br>PopulationSize=%{marker.size}<extra></extra>\", \"ids\": [\"New Brunswick\"], \"legendgroup\": \"New Brunswick\", \"marker\": {\"color\": \"#ab63fa\", \"size\": [762289], \"sizemode\": \"area\", \"sizeref\": 36835.035, \"symbol\": \"circle\"}, \"mode\": \"markers\", \"name\": \"New Brunswick\", \"orientation\": \"v\", \"showlegend\": true, \"x\": [0.78], \"xaxis\": \"x\", \"y\": [133027], \"yaxis\": \"y\", \"type\": \"scatter\"}, {\"hovertemplate\": \"Geography=Qu\\u00e9bec<br>Time=2016Q2<br>DelinquencyRate=%{x}<br>AverageMortgageAmount=%{y}<br>PopulationSize=%{marker.size}<extra></extra>\", \"ids\": [\"Qu\\u00e9bec\"], \"legendgroup\": \"Qu\\u00e9bec\", \"marker\": {\"color\": \"#FFA15A\", \"size\": [8204085], \"sizemode\": \"area\", \"sizeref\": 36835.035, \"symbol\": \"circle\"}, \"mode\": \"markers\", \"name\": \"Qu\\u00e9bec\", \"orientation\": \"v\", \"showlegend\": true, \"x\": [0.43], \"xaxis\": \"x\", \"y\": [169326], \"yaxis\": \"y\", \"type\": \"scatter\"}, {\"hovertemplate\": \"Geography=Ontario<br>Time=2016Q2<br>DelinquencyRate=%{x}<br>AverageMortgageAmount=%{y}<br>PopulationSize=%{marker.size}<extra></extra>\", \"ids\": [\"Ontario\"], \"legendgroup\": \"Ontario\", \"marker\": {\"color\": \"#19d3f3\", \"size\": [13816545], \"sizemode\": \"area\", \"sizeref\": 36835.035, \"symbol\": \"circle\"}, \"mode\": \"markers\", \"name\": \"Ontario\", \"orientation\": \"v\", \"showlegend\": true, \"x\": [0.22], \"xaxis\": \"x\", \"y\": [285024], \"yaxis\": \"y\", \"type\": \"scatter\"}, {\"hovertemplate\": \"Geography=Manitoba<br>Time=2016Q2<br>DelinquencyRate=%{x}<br>AverageMortgageAmount=%{y}<br>PopulationSize=%{marker.size}<extra></extra>\", \"ids\": [\"Manitoba\"], \"legendgroup\": \"Manitoba\", \"marker\": {\"color\": \"#FF6692\", \"size\": [1307689], \"sizemode\": \"area\", \"sizeref\": 36835.035, \"symbol\": \"circle\"}, \"mode\": \"markers\", \"name\": \"Manitoba\", \"orientation\": \"v\", \"showlegend\": true, \"x\": [0.35], \"xaxis\": \"x\", \"y\": [196385], \"yaxis\": \"y\", \"type\": \"scatter\"}, {\"hovertemplate\": \"Geography=Saskatchewan<br>Time=2016Q2<br>DelinquencyRate=%{x}<br>AverageMortgageAmount=%{y}<br>PopulationSize=%{marker.size}<extra></extra>\", \"ids\": [\"Saskatchewan\"], \"legendgroup\": \"Saskatchewan\", \"marker\": {\"color\": \"#B6E880\", \"size\": [1131147], \"sizemode\": \"area\", \"sizeref\": 36835.035, \"symbol\": \"circle\"}, \"mode\": \"markers\", \"name\": \"Saskatchewan\", \"orientation\": \"v\", \"showlegend\": true, \"x\": [0.57], \"xaxis\": \"x\", \"y\": [230729], \"yaxis\": \"y\", \"type\": \"scatter\"}, {\"hovertemplate\": \"Geography=Alberta<br>Time=2016Q2<br>DelinquencyRate=%{x}<br>AverageMortgageAmount=%{y}<br>PopulationSize=%{marker.size}<extra></extra>\", \"ids\": [\"Alberta\"], \"legendgroup\": \"Alberta\", \"marker\": {\"color\": \"#FF97FF\", \"size\": [4181765], \"sizemode\": \"area\", \"sizeref\": 36835.035, \"symbol\": \"circle\"}, \"mode\": \"markers\", \"name\": \"Alberta\", \"orientation\": \"v\", \"showlegend\": true, \"x\": [0.45], \"xaxis\": \"x\", \"y\": [298884], \"yaxis\": \"y\", \"type\": \"scatter\"}, {\"hovertemplate\": \"Geography=British Columbia<br>Time=2016Q2<br>DelinquencyRate=%{x}<br>AverageMortgageAmount=%{y}<br>PopulationSize=%{marker.size}<extra></extra>\", \"ids\": [\"British Columbia\"], \"legendgroup\": \"British Columbia\", \"marker\": {\"color\": \"#FECB52\", \"size\": [4832155], \"sizemode\": \"area\", \"sizeref\": 36835.035, \"symbol\": \"circle\"}, \"mode\": \"markers\", \"name\": \"British Columbia\", \"orientation\": \"v\", \"showlegend\": true, \"x\": [0.29], \"xaxis\": \"x\", \"y\": [385910], \"yaxis\": \"y\", \"type\": \"scatter\"}], \"name\": \"2016Q2\"}, {\"data\": [{\"hovertemplate\": \"Geography=Newfoundland<br>Time=2016Q3<br>DelinquencyRate=%{x}<br>AverageMortgageAmount=%{y}<br>PopulationSize=%{marker.size}<extra></extra>\", \"ids\": [\"Newfoundland\"], \"legendgroup\": \"Newfoundland\", \"marker\": {\"color\": \"#636efa\", \"size\": [529426], \"sizemode\": \"area\", \"sizeref\": 36835.035, \"symbol\": \"circle\"}, \"mode\": \"markers\", \"name\": \"Newfoundland\", \"orientation\": \"v\", \"showlegend\": true, \"x\": [0.49], \"xaxis\": \"x\", \"y\": [198265], \"yaxis\": \"y\", \"type\": \"scatter\"}, {\"hovertemplate\": \"Geography=Prince Edward Island<br>Time=2016Q3<br>DelinquencyRate=%{x}<br>AverageMortgageAmount=%{y}<br>PopulationSize=%{marker.size}<extra></extra>\", \"ids\": [\"Prince Edward Island\"], \"legendgroup\": \"Prince Edward Island\", \"marker\": {\"color\": \"#EF553B\", \"size\": [146969], \"sizemode\": \"area\", \"sizeref\": 36835.035, \"symbol\": \"circle\"}, \"mode\": \"markers\", \"name\": \"Prince Edward Island\", \"orientation\": \"v\", \"showlegend\": true, \"x\": [0.67], \"xaxis\": \"x\", \"y\": [169651], \"yaxis\": \"y\", \"type\": \"scatter\"}, {\"hovertemplate\": \"Geography=Nova Scotia<br>Time=2016Q3<br>DelinquencyRate=%{x}<br>AverageMortgageAmount=%{y}<br>PopulationSize=%{marker.size}<extra></extra>\", \"ids\": [\"Nova Scotia\"], \"legendgroup\": \"Nova Scotia\", \"marker\": {\"color\": \"#00cc96\", \"size\": [942790], \"sizemode\": \"area\", \"sizeref\": 36835.035, \"symbol\": \"circle\"}, \"mode\": \"markers\", \"name\": \"Nova Scotia\", \"orientation\": \"v\", \"showlegend\": true, \"x\": [0.76], \"xaxis\": \"x\", \"y\": [178784], \"yaxis\": \"y\", \"type\": \"scatter\"}, {\"hovertemplate\": \"Geography=New Brunswick<br>Time=2016Q3<br>DelinquencyRate=%{x}<br>AverageMortgageAmount=%{y}<br>PopulationSize=%{marker.size}<extra></extra>\", \"ids\": [\"New Brunswick\"], \"legendgroup\": \"New Brunswick\", \"marker\": {\"color\": \"#ab63fa\", \"size\": [763350], \"sizemode\": \"area\", \"sizeref\": 36835.035, \"symbol\": \"circle\"}, \"mode\": \"markers\", \"name\": \"New Brunswick\", \"orientation\": \"v\", \"showlegend\": true, \"x\": [0.84], \"xaxis\": \"x\", \"y\": [143533], \"yaxis\": \"y\", \"type\": \"scatter\"}, {\"hovertemplate\": \"Geography=Qu\\u00e9bec<br>Time=2016Q3<br>DelinquencyRate=%{x}<br>AverageMortgageAmount=%{y}<br>PopulationSize=%{marker.size}<extra></extra>\", \"ids\": [\"Qu\\u00e9bec\"], \"legendgroup\": \"Qu\\u00e9bec\", \"marker\": {\"color\": \"#FFA15A\", \"size\": [8225950], \"sizemode\": \"area\", \"sizeref\": 36835.035, \"symbol\": \"circle\"}, \"mode\": \"markers\", \"name\": \"Qu\\u00e9bec\", \"orientation\": \"v\", \"showlegend\": true, \"x\": [0.42], \"xaxis\": \"x\", \"y\": [176522], \"yaxis\": \"y\", \"type\": \"scatter\"}, {\"hovertemplate\": \"Geography=Ontario<br>Time=2016Q3<br>DelinquencyRate=%{x}<br>AverageMortgageAmount=%{y}<br>PopulationSize=%{marker.size}<extra></extra>\", \"ids\": [\"Ontario\"], \"legendgroup\": \"Ontario\", \"marker\": {\"color\": \"#19d3f3\", \"size\": [13875394], \"sizemode\": \"area\", \"sizeref\": 36835.035, \"symbol\": \"circle\"}, \"mode\": \"markers\", \"name\": \"Ontario\", \"orientation\": \"v\", \"showlegend\": true, \"x\": [0.2], \"xaxis\": \"x\", \"y\": [307369], \"yaxis\": \"y\", \"type\": \"scatter\"}, {\"hovertemplate\": \"Geography=Manitoba<br>Time=2016Q3<br>DelinquencyRate=%{x}<br>AverageMortgageAmount=%{y}<br>PopulationSize=%{marker.size}<extra></extra>\", \"ids\": [\"Manitoba\"], \"legendgroup\": \"Manitoba\", \"marker\": {\"color\": \"#FF6692\", \"size\": [1314139], \"sizemode\": \"area\", \"sizeref\": 36835.035, \"symbol\": \"circle\"}, \"mode\": \"markers\", \"name\": \"Manitoba\", \"orientation\": \"v\", \"showlegend\": true, \"x\": [0.34], \"xaxis\": \"x\", \"y\": [209051], \"yaxis\": \"y\", \"type\": \"scatter\"}, {\"hovertemplate\": \"Geography=Saskatchewan<br>Time=2016Q3<br>DelinquencyRate=%{x}<br>AverageMortgageAmount=%{y}<br>PopulationSize=%{marker.size}<extra></extra>\", \"ids\": [\"Saskatchewan\"], \"legendgroup\": \"Saskatchewan\", \"marker\": {\"color\": \"#B6E880\", \"size\": [1135987], \"sizemode\": \"area\", \"sizeref\": 36835.035, \"symbol\": \"circle\"}, \"mode\": \"markers\", \"name\": \"Saskatchewan\", \"orientation\": \"v\", \"showlegend\": true, \"x\": [0.61], \"xaxis\": \"x\", \"y\": [236380], \"yaxis\": \"y\", \"type\": \"scatter\"}, {\"hovertemplate\": \"Geography=Alberta<br>Time=2016Q3<br>DelinquencyRate=%{x}<br>AverageMortgageAmount=%{y}<br>PopulationSize=%{marker.size}<extra></extra>\", \"ids\": [\"Alberta\"], \"legendgroup\": \"Alberta\", \"marker\": {\"color\": \"#FF97FF\", \"size\": [4196061], \"sizemode\": \"area\", \"sizeref\": 36835.035, \"symbol\": \"circle\"}, \"mode\": \"markers\", \"name\": \"Alberta\", \"orientation\": \"v\", \"showlegend\": true, \"x\": [0.53], \"xaxis\": \"x\", \"y\": [304683], \"yaxis\": \"y\", \"type\": \"scatter\"}, {\"hovertemplate\": \"Geography=British Columbia<br>Time=2016Q3<br>DelinquencyRate=%{x}<br>AverageMortgageAmount=%{y}<br>PopulationSize=%{marker.size}<extra></extra>\", \"ids\": [\"British Columbia\"], \"legendgroup\": \"British Columbia\", \"marker\": {\"color\": \"#FECB52\", \"size\": [4859250], \"sizemode\": \"area\", \"sizeref\": 36835.035, \"symbol\": \"circle\"}, \"mode\": \"markers\", \"name\": \"British Columbia\", \"orientation\": \"v\", \"showlegend\": true, \"x\": [0.26], \"xaxis\": \"x\", \"y\": [395297], \"yaxis\": \"y\", \"type\": \"scatter\"}], \"name\": \"2016Q3\"}, {\"data\": [{\"hovertemplate\": \"Geography=Newfoundland<br>Time=2016Q4<br>DelinquencyRate=%{x}<br>AverageMortgageAmount=%{y}<br>PopulationSize=%{marker.size}<extra></extra>\", \"ids\": [\"Newfoundland\"], \"legendgroup\": \"Newfoundland\", \"marker\": {\"color\": \"#636efa\", \"size\": [529900], \"sizemode\": \"area\", \"sizeref\": 36835.035, \"symbol\": \"circle\"}, \"mode\": \"markers\", \"name\": \"Newfoundland\", \"orientation\": \"v\", \"showlegend\": true, \"x\": [0.46], \"xaxis\": \"x\", \"y\": [197794], \"yaxis\": \"y\", \"type\": \"scatter\"}, {\"hovertemplate\": \"Geography=Prince Edward Island<br>Time=2016Q4<br>DelinquencyRate=%{x}<br>AverageMortgageAmount=%{y}<br>PopulationSize=%{marker.size}<extra></extra>\", \"ids\": [\"Prince Edward Island\"], \"legendgroup\": \"Prince Edward Island\", \"marker\": {\"color\": \"#EF553B\", \"size\": [147936], \"sizemode\": \"area\", \"sizeref\": 36835.035, \"symbol\": \"circle\"}, \"mode\": \"markers\", \"name\": \"Prince Edward Island\", \"orientation\": \"v\", \"showlegend\": true, \"x\": [0.6], \"xaxis\": \"x\", \"y\": [155799], \"yaxis\": \"y\", \"type\": \"scatter\"}, {\"hovertemplate\": \"Geography=Nova Scotia<br>Time=2016Q4<br>DelinquencyRate=%{x}<br>AverageMortgageAmount=%{y}<br>PopulationSize=%{marker.size}<extra></extra>\", \"ids\": [\"Nova Scotia\"], \"legendgroup\": \"Nova Scotia\", \"marker\": {\"color\": \"#00cc96\", \"size\": [946030], \"sizemode\": \"area\", \"sizeref\": 36835.035, \"symbol\": \"circle\"}, \"mode\": \"markers\", \"name\": \"Nova Scotia\", \"orientation\": \"v\", \"showlegend\": true, \"x\": [0.75], \"xaxis\": \"x\", \"y\": [173305], \"yaxis\": \"y\", \"type\": \"scatter\"}, {\"hovertemplate\": \"Geography=New Brunswick<br>Time=2016Q4<br>DelinquencyRate=%{x}<br>AverageMortgageAmount=%{y}<br>PopulationSize=%{marker.size}<extra></extra>\", \"ids\": [\"New Brunswick\"], \"legendgroup\": \"New Brunswick\", \"marker\": {\"color\": \"#ab63fa\", \"size\": [764844], \"sizemode\": \"area\", \"sizeref\": 36835.035, \"symbol\": \"circle\"}, \"mode\": \"markers\", \"name\": \"New Brunswick\", \"orientation\": \"v\", \"showlegend\": true, \"x\": [0.79], \"xaxis\": \"x\", \"y\": [140124], \"yaxis\": \"y\", \"type\": \"scatter\"}, {\"hovertemplate\": \"Geography=Qu\\u00e9bec<br>Time=2016Q4<br>DelinquencyRate=%{x}<br>AverageMortgageAmount=%{y}<br>PopulationSize=%{marker.size}<extra></extra>\", \"ids\": [\"Qu\\u00e9bec\"], \"legendgroup\": \"Qu\\u00e9bec\", \"marker\": {\"color\": \"#FFA15A\", \"size\": [8249692], \"sizemode\": \"area\", \"sizeref\": 36835.035, \"symbol\": \"circle\"}, \"mode\": \"markers\", \"name\": \"Qu\\u00e9bec\", \"orientation\": \"v\", \"showlegend\": true, \"x\": [0.4], \"xaxis\": \"x\", \"y\": [170309], \"yaxis\": \"y\", \"type\": \"scatter\"}, {\"hovertemplate\": \"Geography=Ontario<br>Time=2016Q4<br>DelinquencyRate=%{x}<br>AverageMortgageAmount=%{y}<br>PopulationSize=%{marker.size}<extra></extra>\", \"ids\": [\"Ontario\"], \"legendgroup\": \"Ontario\", \"marker\": {\"color\": \"#19d3f3\", \"size\": [13946431], \"sizemode\": \"area\", \"sizeref\": 36835.035, \"symbol\": \"circle\"}, \"mode\": \"markers\", \"name\": \"Ontario\", \"orientation\": \"v\", \"showlegend\": true, \"x\": [0.19], \"xaxis\": \"x\", \"y\": [310236], \"yaxis\": \"y\", \"type\": \"scatter\"}, {\"hovertemplate\": \"Geography=Manitoba<br>Time=2016Q4<br>DelinquencyRate=%{x}<br>AverageMortgageAmount=%{y}<br>PopulationSize=%{marker.size}<extra></extra>\", \"ids\": [\"Manitoba\"], \"legendgroup\": \"Manitoba\", \"marker\": {\"color\": \"#FF6692\", \"size\": [1319911], \"sizemode\": \"area\", \"sizeref\": 36835.035, \"symbol\": \"circle\"}, \"mode\": \"markers\", \"name\": \"Manitoba\", \"orientation\": \"v\", \"showlegend\": true, \"x\": [0.35], \"xaxis\": \"x\", \"y\": [206958], \"yaxis\": \"y\", \"type\": \"scatter\"}, {\"hovertemplate\": \"Geography=Saskatchewan<br>Time=2016Q4<br>DelinquencyRate=%{x}<br>AverageMortgageAmount=%{y}<br>PopulationSize=%{marker.size}<extra></extra>\", \"ids\": [\"Saskatchewan\"], \"legendgroup\": \"Saskatchewan\", \"marker\": {\"color\": \"#B6E880\", \"size\": [1140690], \"sizemode\": \"area\", \"sizeref\": 36835.035, \"symbol\": \"circle\"}, \"mode\": \"markers\", \"name\": \"Saskatchewan\", \"orientation\": \"v\", \"showlegend\": true, \"x\": [0.62], \"xaxis\": \"x\", \"y\": [232174], \"yaxis\": \"y\", \"type\": \"scatter\"}, {\"hovertemplate\": \"Geography=Alberta<br>Time=2016Q4<br>DelinquencyRate=%{x}<br>AverageMortgageAmount=%{y}<br>PopulationSize=%{marker.size}<extra></extra>\", \"ids\": [\"Alberta\"], \"legendgroup\": \"Alberta\", \"marker\": {\"color\": \"#FF97FF\", \"size\": [4208958], \"sizemode\": \"area\", \"sizeref\": 36835.035, \"symbol\": \"circle\"}, \"mode\": \"markers\", \"name\": \"Alberta\", \"orientation\": \"v\", \"showlegend\": true, \"x\": [0.53], \"xaxis\": \"x\", \"y\": [302095], \"yaxis\": \"y\", \"type\": \"scatter\"}, {\"hovertemplate\": \"Geography=British Columbia<br>Time=2016Q4<br>DelinquencyRate=%{x}<br>AverageMortgageAmount=%{y}<br>PopulationSize=%{marker.size}<extra></extra>\", \"ids\": [\"British Columbia\"], \"legendgroup\": \"British Columbia\", \"marker\": {\"color\": \"#FECB52\", \"size\": [4884002], \"sizemode\": \"area\", \"sizeref\": 36835.035, \"symbol\": \"circle\"}, \"mode\": \"markers\", \"name\": \"British Columbia\", \"orientation\": \"v\", \"showlegend\": true, \"x\": [0.25], \"xaxis\": \"x\", \"y\": [366703], \"yaxis\": \"y\", \"type\": \"scatter\"}], \"name\": \"2016Q4\"}, {\"data\": [{\"hovertemplate\": \"Geography=Newfoundland<br>Time=2017Q1<br>DelinquencyRate=%{x}<br>AverageMortgageAmount=%{y}<br>PopulationSize=%{marker.size}<extra></extra>\", \"ids\": [\"Newfoundland\"], \"legendgroup\": \"Newfoundland\", \"marker\": {\"color\": \"#636efa\", \"size\": [529347], \"sizemode\": \"area\", \"sizeref\": 36835.035, \"symbol\": \"circle\"}, \"mode\": \"markers\", \"name\": \"Newfoundland\", \"orientation\": \"v\", \"showlegend\": true, \"x\": [0.47], \"xaxis\": \"x\", \"y\": [192057], \"yaxis\": \"y\", \"type\": \"scatter\"}, {\"hovertemplate\": \"Geography=Prince Edward Island<br>Time=2017Q1<br>DelinquencyRate=%{x}<br>AverageMortgageAmount=%{y}<br>PopulationSize=%{marker.size}<extra></extra>\", \"ids\": [\"Prince Edward Island\"], \"legendgroup\": \"Prince Edward Island\", \"marker\": {\"color\": \"#EF553B\", \"size\": [148181], \"sizemode\": \"area\", \"sizeref\": 36835.035, \"symbol\": \"circle\"}, \"mode\": \"markers\", \"name\": \"Prince Edward Island\", \"orientation\": \"v\", \"showlegend\": true, \"x\": [0.66], \"xaxis\": \"x\", \"y\": [175124], \"yaxis\": \"y\", \"type\": \"scatter\"}, {\"hovertemplate\": \"Geography=Nova Scotia<br>Time=2017Q1<br>DelinquencyRate=%{x}<br>AverageMortgageAmount=%{y}<br>PopulationSize=%{marker.size}<extra></extra>\", \"ids\": [\"Nova Scotia\"], \"legendgroup\": \"Nova Scotia\", \"marker\": {\"color\": \"#00cc96\", \"size\": [945943], \"sizemode\": \"area\", \"sizeref\": 36835.035, \"symbol\": \"circle\"}, \"mode\": \"markers\", \"name\": \"Nova Scotia\", \"orientation\": \"v\", \"showlegend\": true, \"x\": [0.7], \"xaxis\": \"x\", \"y\": [186024], \"yaxis\": \"y\", \"type\": \"scatter\"}, {\"hovertemplate\": \"Geography=New Brunswick<br>Time=2017Q1<br>DelinquencyRate=%{x}<br>AverageMortgageAmount=%{y}<br>PopulationSize=%{marker.size}<extra></extra>\", \"ids\": [\"New Brunswick\"], \"legendgroup\": \"New Brunswick\", \"marker\": {\"color\": \"#ab63fa\", \"size\": [764617], \"sizemode\": \"area\", \"sizeref\": 36835.035, \"symbol\": \"circle\"}, \"mode\": \"markers\", \"name\": \"New Brunswick\", \"orientation\": \"v\", \"showlegend\": true, \"x\": [0.78], \"xaxis\": \"x\", \"y\": [141196], \"yaxis\": \"y\", \"type\": \"scatter\"}, {\"hovertemplate\": \"Geography=Qu\\u00e9bec<br>Time=2017Q1<br>DelinquencyRate=%{x}<br>AverageMortgageAmount=%{y}<br>PopulationSize=%{marker.size}<extra></extra>\", \"ids\": [\"Qu\\u00e9bec\"], \"legendgroup\": \"Qu\\u00e9bec\", \"marker\": {\"color\": \"#FFA15A\", \"size\": [8257450], \"sizemode\": \"area\", \"sizeref\": 36835.035, \"symbol\": \"circle\"}, \"mode\": \"markers\", \"name\": \"Qu\\u00e9bec\", \"orientation\": \"v\", \"showlegend\": true, \"x\": [0.41], \"xaxis\": \"x\", \"y\": [171992], \"yaxis\": \"y\", \"type\": \"scatter\"}, {\"hovertemplate\": \"Geography=Ontario<br>Time=2017Q1<br>DelinquencyRate=%{x}<br>AverageMortgageAmount=%{y}<br>PopulationSize=%{marker.size}<extra></extra>\", \"ids\": [\"Ontario\"], \"legendgroup\": \"Ontario\", \"marker\": {\"color\": \"#19d3f3\", \"size\": [13971785], \"sizemode\": \"area\", \"sizeref\": 36835.035, \"symbol\": \"circle\"}, \"mode\": \"markers\", \"name\": \"Ontario\", \"orientation\": \"v\", \"showlegend\": true, \"x\": [0.18], \"xaxis\": \"x\", \"y\": [319009], \"yaxis\": \"y\", \"type\": \"scatter\"}, {\"hovertemplate\": \"Geography=Manitoba<br>Time=2017Q1<br>DelinquencyRate=%{x}<br>AverageMortgageAmount=%{y}<br>PopulationSize=%{marker.size}<extra></extra>\", \"ids\": [\"Manitoba\"], \"legendgroup\": \"Manitoba\", \"marker\": {\"color\": \"#FF6692\", \"size\": [1324129], \"sizemode\": \"area\", \"sizeref\": 36835.035, \"symbol\": \"circle\"}, \"mode\": \"markers\", \"name\": \"Manitoba\", \"orientation\": \"v\", \"showlegend\": true, \"x\": [0.36], \"xaxis\": \"x\", \"y\": [203999], \"yaxis\": \"y\", \"type\": \"scatter\"}, {\"hovertemplate\": \"Geography=Saskatchewan<br>Time=2017Q1<br>DelinquencyRate=%{x}<br>AverageMortgageAmount=%{y}<br>PopulationSize=%{marker.size}<extra></extra>\", \"ids\": [\"Saskatchewan\"], \"legendgroup\": \"Saskatchewan\", \"marker\": {\"color\": \"#B6E880\", \"size\": [1143313], \"sizemode\": \"area\", \"sizeref\": 36835.035, \"symbol\": \"circle\"}, \"mode\": \"markers\", \"name\": \"Saskatchewan\", \"orientation\": \"v\", \"showlegend\": true, \"x\": [0.62], \"xaxis\": \"x\", \"y\": [234786], \"yaxis\": \"y\", \"type\": \"scatter\"}, {\"hovertemplate\": \"Geography=Alberta<br>Time=2017Q1<br>DelinquencyRate=%{x}<br>AverageMortgageAmount=%{y}<br>PopulationSize=%{marker.size}<extra></extra>\", \"ids\": [\"Alberta\"], \"legendgroup\": \"Alberta\", \"marker\": {\"color\": \"#FF97FF\", \"size\": [4217855], \"sizemode\": \"area\", \"sizeref\": 36835.035, \"symbol\": \"circle\"}, \"mode\": \"markers\", \"name\": \"Alberta\", \"orientation\": \"v\", \"showlegend\": true, \"x\": [0.54], \"xaxis\": \"x\", \"y\": [301254], \"yaxis\": \"y\", \"type\": \"scatter\"}, {\"hovertemplate\": \"Geography=British Columbia<br>Time=2017Q1<br>DelinquencyRate=%{x}<br>AverageMortgageAmount=%{y}<br>PopulationSize=%{marker.size}<extra></extra>\", \"ids\": [\"British Columbia\"], \"legendgroup\": \"British Columbia\", \"marker\": {\"color\": \"#FECB52\", \"size\": [4890848], \"sizemode\": \"area\", \"sizeref\": 36835.035, \"symbol\": \"circle\"}, \"mode\": \"markers\", \"name\": \"British Columbia\", \"orientation\": \"v\", \"showlegend\": true, \"x\": [0.23], \"xaxis\": \"x\", \"y\": [358655], \"yaxis\": \"y\", \"type\": \"scatter\"}], \"name\": \"2017Q1\"}, {\"data\": [{\"hovertemplate\": \"Geography=Newfoundland<br>Time=2017Q2<br>DelinquencyRate=%{x}<br>AverageMortgageAmount=%{y}<br>PopulationSize=%{marker.size}<extra></extra>\", \"ids\": [\"Newfoundland\"], \"legendgroup\": \"Newfoundland\", \"marker\": {\"color\": \"#636efa\", \"size\": [528544], \"sizemode\": \"area\", \"sizeref\": 36835.035, \"symbol\": \"circle\"}, \"mode\": \"markers\", \"name\": \"Newfoundland\", \"orientation\": \"v\", \"showlegend\": true, \"x\": [0.47], \"xaxis\": \"x\", \"y\": [191412], \"yaxis\": \"y\", \"type\": \"scatter\"}, {\"hovertemplate\": \"Geography=Prince Edward Island<br>Time=2017Q2<br>DelinquencyRate=%{x}<br>AverageMortgageAmount=%{y}<br>PopulationSize=%{marker.size}<extra></extra>\", \"ids\": [\"Prince Edward Island\"], \"legendgroup\": \"Prince Edward Island\", \"marker\": {\"color\": \"#EF553B\", \"size\": [148860], \"sizemode\": \"area\", \"sizeref\": 36835.035, \"symbol\": \"circle\"}, \"mode\": \"markers\", \"name\": \"Prince Edward Island\", \"orientation\": \"v\", \"showlegend\": true, \"x\": [0.55], \"xaxis\": \"x\", \"y\": [174901], \"yaxis\": \"y\", \"type\": \"scatter\"}, {\"hovertemplate\": \"Geography=Nova Scotia<br>Time=2017Q2<br>DelinquencyRate=%{x}<br>AverageMortgageAmount=%{y}<br>PopulationSize=%{marker.size}<extra></extra>\", \"ids\": [\"Nova Scotia\"], \"legendgroup\": \"Nova Scotia\", \"marker\": {\"color\": \"#00cc96\", \"size\": [947384], \"sizemode\": \"area\", \"sizeref\": 36835.035, \"symbol\": \"circle\"}, \"mode\": \"markers\", \"name\": \"Nova Scotia\", \"orientation\": \"v\", \"showlegend\": true, \"x\": [0.64], \"xaxis\": \"x\", \"y\": [182526], \"yaxis\": \"y\", \"type\": \"scatter\"}, {\"hovertemplate\": \"Geography=New Brunswick<br>Time=2017Q2<br>DelinquencyRate=%{x}<br>AverageMortgageAmount=%{y}<br>PopulationSize=%{marker.size}<extra></extra>\", \"ids\": [\"New Brunswick\"], \"legendgroup\": \"New Brunswick\", \"marker\": {\"color\": \"#ab63fa\", \"size\": [764813], \"sizemode\": \"area\", \"sizeref\": 36835.035, \"symbol\": \"circle\"}, \"mode\": \"markers\", \"name\": \"New Brunswick\", \"orientation\": \"v\", \"showlegend\": true, \"x\": [0.73], \"xaxis\": \"x\", \"y\": [135748], \"yaxis\": \"y\", \"type\": \"scatter\"}, {\"hovertemplate\": \"Geography=Qu\\u00e9bec<br>Time=2017Q2<br>DelinquencyRate=%{x}<br>AverageMortgageAmount=%{y}<br>PopulationSize=%{marker.size}<extra></extra>\", \"ids\": [\"Qu\\u00e9bec\"], \"legendgroup\": \"Qu\\u00e9bec\", \"marker\": {\"color\": \"#FFA15A\", \"size\": [8272894], \"sizemode\": \"area\", \"sizeref\": 36835.035, \"symbol\": \"circle\"}, \"mode\": \"markers\", \"name\": \"Qu\\u00e9bec\", \"orientation\": \"v\", \"showlegend\": true, \"x\": [0.4], \"xaxis\": \"x\", \"y\": [171716], \"yaxis\": \"y\", \"type\": \"scatter\"}, {\"hovertemplate\": \"Geography=Ontario<br>Time=2017Q2<br>DelinquencyRate=%{x}<br>AverageMortgageAmount=%{y}<br>PopulationSize=%{marker.size}<extra></extra>\", \"ids\": [\"Ontario\"], \"legendgroup\": \"Ontario\", \"marker\": {\"color\": \"#19d3f3\", \"size\": [14006386], \"sizemode\": \"area\", \"sizeref\": 36835.035, \"symbol\": \"circle\"}, \"mode\": \"markers\", \"name\": \"Ontario\", \"orientation\": \"v\", \"showlegend\": true, \"x\": [0.16], \"xaxis\": \"x\", \"y\": [326645], \"yaxis\": \"y\", \"type\": \"scatter\"}, {\"hovertemplate\": \"Geography=Manitoba<br>Time=2017Q2<br>DelinquencyRate=%{x}<br>AverageMortgageAmount=%{y}<br>PopulationSize=%{marker.size}<extra></extra>\", \"ids\": [\"Manitoba\"], \"legendgroup\": \"Manitoba\", \"marker\": {\"color\": \"#FF6692\", \"size\": [1328412], \"sizemode\": \"area\", \"sizeref\": 36835.035, \"symbol\": \"circle\"}, \"mode\": \"markers\", \"name\": \"Manitoba\", \"orientation\": \"v\", \"showlegend\": true, \"x\": [0.35], \"xaxis\": \"x\", \"y\": [205085], \"yaxis\": \"y\", \"type\": \"scatter\"}, {\"hovertemplate\": \"Geography=Saskatchewan<br>Time=2017Q2<br>DelinquencyRate=%{x}<br>AverageMortgageAmount=%{y}<br>PopulationSize=%{marker.size}<extra></extra>\", \"ids\": [\"Saskatchewan\"], \"legendgroup\": \"Saskatchewan\", \"marker\": {\"color\": \"#B6E880\", \"size\": [1146218], \"sizemode\": \"area\", \"sizeref\": 36835.035, \"symbol\": \"circle\"}, \"mode\": \"markers\", \"name\": \"Saskatchewan\", \"orientation\": \"v\", \"showlegend\": true, \"x\": [0.66], \"xaxis\": \"x\", \"y\": [233545], \"yaxis\": \"y\", \"type\": \"scatter\"}, {\"hovertemplate\": \"Geography=Alberta<br>Time=2017Q2<br>DelinquencyRate=%{x}<br>AverageMortgageAmount=%{y}<br>PopulationSize=%{marker.size}<extra></extra>\", \"ids\": [\"Alberta\"], \"legendgroup\": \"Alberta\", \"marker\": {\"color\": \"#FF97FF\", \"size\": [4227969], \"sizemode\": \"area\", \"sizeref\": 36835.035, \"symbol\": \"circle\"}, \"mode\": \"markers\", \"name\": \"Alberta\", \"orientation\": \"v\", \"showlegend\": true, \"x\": [0.52], \"xaxis\": \"x\", \"y\": [300115], \"yaxis\": \"y\", \"type\": \"scatter\"}, {\"hovertemplate\": \"Geography=British Columbia<br>Time=2017Q2<br>DelinquencyRate=%{x}<br>AverageMortgageAmount=%{y}<br>PopulationSize=%{marker.size}<extra></extra>\", \"ids\": [\"British Columbia\"], \"legendgroup\": \"British Columbia\", \"marker\": {\"color\": \"#FECB52\", \"size\": [4905210], \"sizemode\": \"area\", \"sizeref\": 36835.035, \"symbol\": \"circle\"}, \"mode\": \"markers\", \"name\": \"British Columbia\", \"orientation\": \"v\", \"showlegend\": true, \"x\": [0.2], \"xaxis\": \"x\", \"y\": [369174], \"yaxis\": \"y\", \"type\": \"scatter\"}], \"name\": \"2017Q2\"}, {\"data\": [{\"hovertemplate\": \"Geography=Newfoundland<br>Time=2017Q3<br>DelinquencyRate=%{x}<br>AverageMortgageAmount=%{y}<br>PopulationSize=%{marker.size}<extra></extra>\", \"ids\": [\"Newfoundland\"], \"legendgroup\": \"Newfoundland\", \"marker\": {\"color\": \"#636efa\", \"size\": [528249], \"sizemode\": \"area\", \"sizeref\": 36835.035, \"symbol\": \"circle\"}, \"mode\": \"markers\", \"name\": \"Newfoundland\", \"orientation\": \"v\", \"showlegend\": true, \"x\": [0.46], \"xaxis\": \"x\", \"y\": [200378], \"yaxis\": \"y\", \"type\": \"scatter\"}, {\"hovertemplate\": \"Geography=Prince Edward Island<br>Time=2017Q3<br>DelinquencyRate=%{x}<br>AverageMortgageAmount=%{y}<br>PopulationSize=%{marker.size}<extra></extra>\", \"ids\": [\"Prince Edward Island\"], \"legendgroup\": \"Prince Edward Island\", \"marker\": {\"color\": \"#EF553B\", \"size\": [150402], \"sizemode\": \"area\", \"sizeref\": 36835.035, \"symbol\": \"circle\"}, \"mode\": \"markers\", \"name\": \"Prince Edward Island\", \"orientation\": \"v\", \"showlegend\": true, \"x\": [0.54], \"xaxis\": \"x\", \"y\": [176919], \"yaxis\": \"y\", \"type\": \"scatter\"}, {\"hovertemplate\": \"Geography=Nova Scotia<br>Time=2017Q3<br>DelinquencyRate=%{x}<br>AverageMortgageAmount=%{y}<br>PopulationSize=%{marker.size}<extra></extra>\", \"ids\": [\"Nova Scotia\"], \"legendgroup\": \"Nova Scotia\", \"marker\": {\"color\": \"#00cc96\", \"size\": [950108], \"sizemode\": \"area\", \"sizeref\": 36835.035, \"symbol\": \"circle\"}, \"mode\": \"markers\", \"name\": \"Nova Scotia\", \"orientation\": \"v\", \"showlegend\": true, \"x\": [0.6], \"xaxis\": \"x\", \"y\": [194802], \"yaxis\": \"y\", \"type\": \"scatter\"}, {\"hovertemplate\": \"Geography=New Brunswick<br>Time=2017Q3<br>DelinquencyRate=%{x}<br>AverageMortgageAmount=%{y}<br>PopulationSize=%{marker.size}<extra></extra>\", \"ids\": [\"New Brunswick\"], \"legendgroup\": \"New Brunswick\", \"marker\": {\"color\": \"#ab63fa\", \"size\": [766621], \"sizemode\": \"area\", \"sizeref\": 36835.035, \"symbol\": \"circle\"}, \"mode\": \"markers\", \"name\": \"New Brunswick\", \"orientation\": \"v\", \"showlegend\": true, \"x\": [0.71], \"xaxis\": \"x\", \"y\": [147934], \"yaxis\": \"y\", \"type\": \"scatter\"}, {\"hovertemplate\": \"Geography=Qu\\u00e9bec<br>Time=2017Q3<br>DelinquencyRate=%{x}<br>AverageMortgageAmount=%{y}<br>PopulationSize=%{marker.size}<extra></extra>\", \"ids\": [\"Qu\\u00e9bec\"], \"legendgroup\": \"Qu\\u00e9bec\", \"marker\": {\"color\": \"#FFA15A\", \"size\": [8302063], \"sizemode\": \"area\", \"sizeref\": 36835.035, \"symbol\": \"circle\"}, \"mode\": \"markers\", \"name\": \"Qu\\u00e9bec\", \"orientation\": \"v\", \"showlegend\": true, \"x\": [0.37], \"xaxis\": \"x\", \"y\": [177306], \"yaxis\": \"y\", \"type\": \"scatter\"}, {\"hovertemplate\": \"Geography=Ontario<br>Time=2017Q3<br>DelinquencyRate=%{x}<br>AverageMortgageAmount=%{y}<br>PopulationSize=%{marker.size}<extra></extra>\", \"ids\": [\"Ontario\"], \"legendgroup\": \"Ontario\", \"marker\": {\"color\": \"#19d3f3\", \"size\": [14070141], \"sizemode\": \"area\", \"sizeref\": 36835.035, \"symbol\": \"circle\"}, \"mode\": \"markers\", \"name\": \"Ontario\", \"orientation\": \"v\", \"showlegend\": true, \"x\": [0.16], \"xaxis\": \"x\", \"y\": [338561], \"yaxis\": \"y\", \"type\": \"scatter\"}, {\"hovertemplate\": \"Geography=Manitoba<br>Time=2017Q3<br>DelinquencyRate=%{x}<br>AverageMortgageAmount=%{y}<br>PopulationSize=%{marker.size}<extra></extra>\", \"ids\": [\"Manitoba\"], \"legendgroup\": \"Manitoba\", \"marker\": {\"color\": \"#FF6692\", \"size\": [1334790], \"sizemode\": \"area\", \"sizeref\": 36835.035, \"symbol\": \"circle\"}, \"mode\": \"markers\", \"name\": \"Manitoba\", \"orientation\": \"v\", \"showlegend\": true, \"x\": [0.33], \"xaxis\": \"x\", \"y\": [216750], \"yaxis\": \"y\", \"type\": \"scatter\"}, {\"hovertemplate\": \"Geography=Saskatchewan<br>Time=2017Q3<br>DelinquencyRate=%{x}<br>AverageMortgageAmount=%{y}<br>PopulationSize=%{marker.size}<extra></extra>\", \"ids\": [\"Saskatchewan\"], \"legendgroup\": \"Saskatchewan\", \"marker\": {\"color\": \"#B6E880\", \"size\": [1150331], \"sizemode\": \"area\", \"sizeref\": 36835.035, \"symbol\": \"circle\"}, \"mode\": \"markers\", \"name\": \"Saskatchewan\", \"orientation\": \"v\", \"showlegend\": true, \"x\": [0.65], \"xaxis\": \"x\", \"y\": [238533], \"yaxis\": \"y\", \"type\": \"scatter\"}, {\"hovertemplate\": \"Geography=Alberta<br>Time=2017Q3<br>DelinquencyRate=%{x}<br>AverageMortgageAmount=%{y}<br>PopulationSize=%{marker.size}<extra></extra>\", \"ids\": [\"Alberta\"], \"legendgroup\": \"Alberta\", \"marker\": {\"color\": \"#FF97FF\", \"size\": [4241100], \"sizemode\": \"area\", \"sizeref\": 36835.035, \"symbol\": \"circle\"}, \"mode\": \"markers\", \"name\": \"Alberta\", \"orientation\": \"v\", \"showlegend\": true, \"x\": [0.51], \"xaxis\": \"x\", \"y\": [307837], \"yaxis\": \"y\", \"type\": \"scatter\"}, {\"hovertemplate\": \"Geography=British Columbia<br>Time=2017Q3<br>DelinquencyRate=%{x}<br>AverageMortgageAmount=%{y}<br>PopulationSize=%{marker.size}<extra></extra>\", \"ids\": [\"British Columbia\"], \"legendgroup\": \"British Columbia\", \"marker\": {\"color\": \"#FECB52\", \"size\": [4929384], \"sizemode\": \"area\", \"sizeref\": 36835.035, \"symbol\": \"circle\"}, \"mode\": \"markers\", \"name\": \"British Columbia\", \"orientation\": \"v\", \"showlegend\": true, \"x\": [0.18], \"xaxis\": \"x\", \"y\": [389430], \"yaxis\": \"y\", \"type\": \"scatter\"}], \"name\": \"2017Q3\"}, {\"data\": [{\"hovertemplate\": \"Geography=Newfoundland<br>Time=2017Q4<br>DelinquencyRate=%{x}<br>AverageMortgageAmount=%{y}<br>PopulationSize=%{marker.size}<extra></extra>\", \"ids\": [\"Newfoundland\"], \"legendgroup\": \"Newfoundland\", \"marker\": {\"color\": \"#636efa\", \"size\": [528288], \"sizemode\": \"area\", \"sizeref\": 36835.035, \"symbol\": \"circle\"}, \"mode\": \"markers\", \"name\": \"Newfoundland\", \"orientation\": \"v\", \"showlegend\": true, \"x\": [0.52], \"xaxis\": \"x\", \"y\": [193619], \"yaxis\": \"y\", \"type\": \"scatter\"}, {\"hovertemplate\": \"Geography=Prince Edward Island<br>Time=2017Q4<br>DelinquencyRate=%{x}<br>AverageMortgageAmount=%{y}<br>PopulationSize=%{marker.size}<extra></extra>\", \"ids\": [\"Prince Edward Island\"], \"legendgroup\": \"Prince Edward Island\", \"marker\": {\"color\": \"#EF553B\", \"size\": [151376], \"sizemode\": \"area\", \"sizeref\": 36835.035, \"symbol\": \"circle\"}, \"mode\": \"markers\", \"name\": \"Prince Edward Island\", \"orientation\": \"v\", \"showlegend\": true, \"x\": [0.44], \"xaxis\": \"x\", \"y\": [175523], \"yaxis\": \"y\", \"type\": \"scatter\"}, {\"hovertemplate\": \"Geography=Nova Scotia<br>Time=2017Q4<br>DelinquencyRate=%{x}<br>AverageMortgageAmount=%{y}<br>PopulationSize=%{marker.size}<extra></extra>\", \"ids\": [\"Nova Scotia\"], \"legendgroup\": \"Nova Scotia\", \"marker\": {\"color\": \"#00cc96\", \"size\": [953683], \"sizemode\": \"area\", \"sizeref\": 36835.035, \"symbol\": \"circle\"}, \"mode\": \"markers\", \"name\": \"Nova Scotia\", \"orientation\": \"v\", \"showlegend\": true, \"x\": [0.58], \"xaxis\": \"x\", \"y\": [188559], \"yaxis\": \"y\", \"type\": \"scatter\"}, {\"hovertemplate\": \"Geography=New Brunswick<br>Time=2017Q4<br>DelinquencyRate=%{x}<br>AverageMortgageAmount=%{y}<br>PopulationSize=%{marker.size}<extra></extra>\", \"ids\": [\"New Brunswick\"], \"legendgroup\": \"New Brunswick\", \"marker\": {\"color\": \"#ab63fa\", \"size\": [767935], \"sizemode\": \"area\", \"sizeref\": 36835.035, \"symbol\": \"circle\"}, \"mode\": \"markers\", \"name\": \"New Brunswick\", \"orientation\": \"v\", \"showlegend\": true, \"x\": [0.66], \"xaxis\": \"x\", \"y\": [142799], \"yaxis\": \"y\", \"type\": \"scatter\"}, {\"hovertemplate\": \"Geography=Qu\\u00e9bec<br>Time=2017Q4<br>DelinquencyRate=%{x}<br>AverageMortgageAmount=%{y}<br>PopulationSize=%{marker.size}<extra></extra>\", \"ids\": [\"Qu\\u00e9bec\"], \"legendgroup\": \"Qu\\u00e9bec\", \"marker\": {\"color\": \"#FFA15A\", \"size\": [8336460], \"sizemode\": \"area\", \"sizeref\": 36835.035, \"symbol\": \"circle\"}, \"mode\": \"markers\", \"name\": \"Qu\\u00e9bec\", \"orientation\": \"v\", \"showlegend\": true, \"x\": [0.34], \"xaxis\": \"x\", \"y\": [173182], \"yaxis\": \"y\", \"type\": \"scatter\"}, {\"hovertemplate\": \"Geography=Ontario<br>Time=2017Q4<br>DelinquencyRate=%{x}<br>AverageMortgageAmount=%{y}<br>PopulationSize=%{marker.size}<extra></extra>\", \"ids\": [\"Ontario\"], \"legendgroup\": \"Ontario\", \"marker\": {\"color\": \"#19d3f3\", \"size\": [14150783], \"sizemode\": \"area\", \"sizeref\": 36835.035, \"symbol\": \"circle\"}, \"mode\": \"markers\", \"name\": \"Ontario\", \"orientation\": \"v\", \"showlegend\": true, \"x\": [0.15], \"xaxis\": \"x\", \"y\": [323821], \"yaxis\": \"y\", \"type\": \"scatter\"}, {\"hovertemplate\": \"Geography=Manitoba<br>Time=2017Q4<br>DelinquencyRate=%{x}<br>AverageMortgageAmount=%{y}<br>PopulationSize=%{marker.size}<extra></extra>\", \"ids\": [\"Manitoba\"], \"legendgroup\": \"Manitoba\", \"marker\": {\"color\": \"#FF6692\", \"size\": [1340565], \"sizemode\": \"area\", \"sizeref\": 36835.035, \"symbol\": \"circle\"}, \"mode\": \"markers\", \"name\": \"Manitoba\", \"orientation\": \"v\", \"showlegend\": true, \"x\": [0.3], \"xaxis\": \"x\", \"y\": [217136], \"yaxis\": \"y\", \"type\": \"scatter\"}, {\"hovertemplate\": \"Geography=Saskatchewan<br>Time=2017Q4<br>DelinquencyRate=%{x}<br>AverageMortgageAmount=%{y}<br>PopulationSize=%{marker.size}<extra></extra>\", \"ids\": [\"Saskatchewan\"], \"legendgroup\": \"Saskatchewan\", \"marker\": {\"color\": \"#B6E880\", \"size\": [1154755], \"sizemode\": \"area\", \"sizeref\": 36835.035, \"symbol\": \"circle\"}, \"mode\": \"markers\", \"name\": \"Saskatchewan\", \"orientation\": \"v\", \"showlegend\": true, \"x\": [0.66], \"xaxis\": \"x\", \"y\": [234340], \"yaxis\": \"y\", \"type\": \"scatter\"}, {\"hovertemplate\": \"Geography=Alberta<br>Time=2017Q4<br>DelinquencyRate=%{x}<br>AverageMortgageAmount=%{y}<br>PopulationSize=%{marker.size}<extra></extra>\", \"ids\": [\"Alberta\"], \"legendgroup\": \"Alberta\", \"marker\": {\"color\": \"#FF97FF\", \"size\": [4258195], \"sizemode\": \"area\", \"sizeref\": 36835.035, \"symbol\": \"circle\"}, \"mode\": \"markers\", \"name\": \"Alberta\", \"orientation\": \"v\", \"showlegend\": true, \"x\": [0.5], \"xaxis\": \"x\", \"y\": [307662], \"yaxis\": \"y\", \"type\": \"scatter\"}, {\"hovertemplate\": \"Geography=British Columbia<br>Time=2017Q4<br>DelinquencyRate=%{x}<br>AverageMortgageAmount=%{y}<br>PopulationSize=%{marker.size}<extra></extra>\", \"ids\": [\"British Columbia\"], \"legendgroup\": \"British Columbia\", \"marker\": {\"color\": \"#FECB52\", \"size\": [4956550], \"sizemode\": \"area\", \"sizeref\": 36835.035, \"symbol\": \"circle\"}, \"mode\": \"markers\", \"name\": \"British Columbia\", \"orientation\": \"v\", \"showlegend\": true, \"x\": [0.18], \"xaxis\": \"x\", \"y\": [381223], \"yaxis\": \"y\", \"type\": \"scatter\"}], \"name\": \"2017Q4\"}, {\"data\": [{\"hovertemplate\": \"Geography=Newfoundland<br>Time=2018Q1<br>DelinquencyRate=%{x}<br>AverageMortgageAmount=%{y}<br>PopulationSize=%{marker.size}<extra></extra>\", \"ids\": [\"Newfoundland\"], \"legendgroup\": \"Newfoundland\", \"marker\": {\"color\": \"#636efa\", \"size\": [527544], \"sizemode\": \"area\", \"sizeref\": 36835.035, \"symbol\": \"circle\"}, \"mode\": \"markers\", \"name\": \"Newfoundland\", \"orientation\": \"v\", \"showlegend\": true, \"x\": [0.56], \"xaxis\": \"x\", \"y\": [196431], \"yaxis\": \"y\", \"type\": \"scatter\"}, {\"hovertemplate\": \"Geography=Prince Edward Island<br>Time=2018Q1<br>DelinquencyRate=%{x}<br>AverageMortgageAmount=%{y}<br>PopulationSize=%{marker.size}<extra></extra>\", \"ids\": [\"Prince Edward Island\"], \"legendgroup\": \"Prince Edward Island\", \"marker\": {\"color\": \"#EF553B\", \"size\": [151516], \"sizemode\": \"area\", \"sizeref\": 36835.035, \"symbol\": \"circle\"}, \"mode\": \"markers\", \"name\": \"Prince Edward Island\", \"orientation\": \"v\", \"showlegend\": true, \"x\": [0.5], \"xaxis\": \"x\", \"y\": [179179], \"yaxis\": \"y\", \"type\": \"scatter\"}, {\"hovertemplate\": \"Geography=Nova Scotia<br>Time=2018Q1<br>DelinquencyRate=%{x}<br>AverageMortgageAmount=%{y}<br>PopulationSize=%{marker.size}<extra></extra>\", \"ids\": [\"Nova Scotia\"], \"legendgroup\": \"Nova Scotia\", \"marker\": {\"color\": \"#00cc96\", \"size\": [953838], \"sizemode\": \"area\", \"sizeref\": 36835.035, \"symbol\": \"circle\"}, \"mode\": \"markers\", \"name\": \"Nova Scotia\", \"orientation\": \"v\", \"showlegend\": true, \"x\": [0.59], \"xaxis\": \"x\", \"y\": [185858], \"yaxis\": \"y\", \"type\": \"scatter\"}, {\"hovertemplate\": \"Geography=New Brunswick<br>Time=2018Q1<br>DelinquencyRate=%{x}<br>AverageMortgageAmount=%{y}<br>PopulationSize=%{marker.size}<extra></extra>\", \"ids\": [\"New Brunswick\"], \"legendgroup\": \"New Brunswick\", \"marker\": {\"color\": \"#ab63fa\", \"size\": [768005], \"sizemode\": \"area\", \"sizeref\": 36835.035, \"symbol\": \"circle\"}, \"mode\": \"markers\", \"name\": \"New Brunswick\", \"orientation\": \"v\", \"showlegend\": true, \"x\": [0.65], \"xaxis\": \"x\", \"y\": [139711], \"yaxis\": \"y\", \"type\": \"scatter\"}, {\"hovertemplate\": \"Geography=Qu\\u00e9bec<br>Time=2018Q1<br>DelinquencyRate=%{x}<br>AverageMortgageAmount=%{y}<br>PopulationSize=%{marker.size}<extra></extra>\", \"ids\": [\"Qu\\u00e9bec\"], \"legendgroup\": \"Qu\\u00e9bec\", \"marker\": {\"color\": \"#FFA15A\", \"size\": [8350601], \"sizemode\": \"area\", \"sizeref\": 36835.035, \"symbol\": \"circle\"}, \"mode\": \"markers\", \"name\": \"Qu\\u00e9bec\", \"orientation\": \"v\", \"showlegend\": true, \"x\": [0.34], \"xaxis\": \"x\", \"y\": [175297], \"yaxis\": \"y\", \"type\": \"scatter\"}, {\"hovertemplate\": \"Geography=Ontario<br>Time=2018Q1<br>DelinquencyRate=%{x}<br>AverageMortgageAmount=%{y}<br>PopulationSize=%{marker.size}<extra></extra>\", \"ids\": [\"Ontario\"], \"legendgroup\": \"Ontario\", \"marker\": {\"color\": \"#19d3f3\", \"size\": [14186830], \"sizemode\": \"area\", \"sizeref\": 36835.035, \"symbol\": \"circle\"}, \"mode\": \"markers\", \"name\": \"Ontario\", \"orientation\": \"v\", \"showlegend\": true, \"x\": [0.15], \"xaxis\": \"x\", \"y\": [322179], \"yaxis\": \"y\", \"type\": \"scatter\"}, {\"hovertemplate\": \"Geography=Manitoba<br>Time=2018Q1<br>DelinquencyRate=%{x}<br>AverageMortgageAmount=%{y}<br>PopulationSize=%{marker.size}<extra></extra>\", \"ids\": [\"Manitoba\"], \"legendgroup\": \"Manitoba\", \"marker\": {\"color\": \"#FF6692\", \"size\": [1344418], \"sizemode\": \"area\", \"sizeref\": 36835.035, \"symbol\": \"circle\"}, \"mode\": \"markers\", \"name\": \"Manitoba\", \"orientation\": \"v\", \"showlegend\": true, \"x\": [0.3], \"xaxis\": \"x\", \"y\": [207988], \"yaxis\": \"y\", \"type\": \"scatter\"}, {\"hovertemplate\": \"Geography=Saskatchewan<br>Time=2018Q1<br>DelinquencyRate=%{x}<br>AverageMortgageAmount=%{y}<br>PopulationSize=%{marker.size}<extra></extra>\", \"ids\": [\"Saskatchewan\"], \"legendgroup\": \"Saskatchewan\", \"marker\": {\"color\": \"#B6E880\", \"size\": [1156659], \"sizemode\": \"area\", \"sizeref\": 36835.035, \"symbol\": \"circle\"}, \"mode\": \"markers\", \"name\": \"Saskatchewan\", \"orientation\": \"v\", \"showlegend\": true, \"x\": [0.66], \"xaxis\": \"x\", \"y\": [230702], \"yaxis\": \"y\", \"type\": \"scatter\"}, {\"hovertemplate\": \"Geography=Alberta<br>Time=2018Q1<br>DelinquencyRate=%{x}<br>AverageMortgageAmount=%{y}<br>PopulationSize=%{marker.size}<extra></extra>\", \"ids\": [\"Alberta\"], \"legendgroup\": \"Alberta\", \"marker\": {\"color\": \"#FF97FF\", \"size\": [4268853], \"sizemode\": \"area\", \"sizeref\": 36835.035, \"symbol\": \"circle\"}, \"mode\": \"markers\", \"name\": \"Alberta\", \"orientation\": \"v\", \"showlegend\": true, \"x\": [0.5], \"xaxis\": \"x\", \"y\": [302814], \"yaxis\": \"y\", \"type\": \"scatter\"}, {\"hovertemplate\": \"Geography=British Columbia<br>Time=2018Q1<br>DelinquencyRate=%{x}<br>AverageMortgageAmount=%{y}<br>PopulationSize=%{marker.size}<extra></extra>\", \"ids\": [\"British Columbia\"], \"legendgroup\": \"British Columbia\", \"marker\": {\"color\": \"#FECB52\", \"size\": [4967421], \"sizemode\": \"area\", \"sizeref\": 36835.035, \"symbol\": \"circle\"}, \"mode\": \"markers\", \"name\": \"British Columbia\", \"orientation\": \"v\", \"showlegend\": true, \"x\": [0.17], \"xaxis\": \"x\", \"y\": [384794], \"yaxis\": \"y\", \"type\": \"scatter\"}], \"name\": \"2018Q1\"}, {\"data\": [{\"hovertemplate\": \"Geography=Newfoundland<br>Time=2018Q2<br>DelinquencyRate=%{x}<br>AverageMortgageAmount=%{y}<br>PopulationSize=%{marker.size}<extra></extra>\", \"ids\": [\"Newfoundland\"], \"legendgroup\": \"Newfoundland\", \"marker\": {\"color\": \"#636efa\", \"size\": [526395], \"sizemode\": \"area\", \"sizeref\": 36835.035, \"symbol\": \"circle\"}, \"mode\": \"markers\", \"name\": \"Newfoundland\", \"orientation\": \"v\", \"showlegend\": true, \"x\": [0.6], \"xaxis\": \"x\", \"y\": [192252], \"yaxis\": \"y\", \"type\": \"scatter\"}, {\"hovertemplate\": \"Geography=Prince Edward Island<br>Time=2018Q2<br>DelinquencyRate=%{x}<br>AverageMortgageAmount=%{y}<br>PopulationSize=%{marker.size}<extra></extra>\", \"ids\": [\"Prince Edward Island\"], \"legendgroup\": \"Prince Edward Island\", \"marker\": {\"color\": \"#EF553B\", \"size\": [152039], \"sizemode\": \"area\", \"sizeref\": 36835.035, \"symbol\": \"circle\"}, \"mode\": \"markers\", \"name\": \"Prince Edward Island\", \"orientation\": \"v\", \"showlegend\": true, \"x\": [0.45], \"xaxis\": \"x\", \"y\": [182114], \"yaxis\": \"y\", \"type\": \"scatter\"}, {\"hovertemplate\": \"Geography=Nova Scotia<br>Time=2018Q2<br>DelinquencyRate=%{x}<br>AverageMortgageAmount=%{y}<br>PopulationSize=%{marker.size}<extra></extra>\", \"ids\": [\"Nova Scotia\"], \"legendgroup\": \"Nova Scotia\", \"marker\": {\"color\": \"#00cc96\", \"size\": [954618], \"sizemode\": \"area\", \"sizeref\": 36835.035, \"symbol\": \"circle\"}, \"mode\": \"markers\", \"name\": \"Nova Scotia\", \"orientation\": \"v\", \"showlegend\": true, \"x\": [0.54], \"xaxis\": \"x\", \"y\": [179407], \"yaxis\": \"y\", \"type\": \"scatter\"}, {\"hovertemplate\": \"Geography=New Brunswick<br>Time=2018Q2<br>DelinquencyRate=%{x}<br>AverageMortgageAmount=%{y}<br>PopulationSize=%{marker.size}<extra></extra>\", \"ids\": [\"New Brunswick\"], \"legendgroup\": \"New Brunswick\", \"marker\": {\"color\": \"#ab63fa\", \"size\": [768522], \"sizemode\": \"area\", \"sizeref\": 36835.035, \"symbol\": \"circle\"}, \"mode\": \"markers\", \"name\": \"New Brunswick\", \"orientation\": \"v\", \"showlegend\": true, \"x\": [0.59], \"xaxis\": \"x\", \"y\": [139750], \"yaxis\": \"y\", \"type\": \"scatter\"}, {\"hovertemplate\": \"Geography=Qu\\u00e9bec<br>Time=2018Q2<br>DelinquencyRate=%{x}<br>AverageMortgageAmount=%{y}<br>PopulationSize=%{marker.size}<extra></extra>\", \"ids\": [\"Qu\\u00e9bec\"], \"legendgroup\": \"Qu\\u00e9bec\", \"marker\": {\"color\": \"#FFA15A\", \"size\": [8367551], \"sizemode\": \"area\", \"sizeref\": 36835.035, \"symbol\": \"circle\"}, \"mode\": \"markers\", \"name\": \"Qu\\u00e9bec\", \"orientation\": \"v\", \"showlegend\": true, \"x\": [0.35], \"xaxis\": \"x\", \"y\": [183507], \"yaxis\": \"y\", \"type\": \"scatter\"}, {\"hovertemplate\": \"Geography=Ontario<br>Time=2018Q2<br>DelinquencyRate=%{x}<br>AverageMortgageAmount=%{y}<br>PopulationSize=%{marker.size}<extra></extra>\", \"ids\": [\"Ontario\"], \"legendgroup\": \"Ontario\", \"marker\": {\"color\": \"#19d3f3\", \"size\": [14235643], \"sizemode\": \"area\", \"sizeref\": 36835.035, \"symbol\": \"circle\"}, \"mode\": \"markers\", \"name\": \"Ontario\", \"orientation\": \"v\", \"showlegend\": true, \"x\": [0.14], \"xaxis\": \"x\", \"y\": [315576], \"yaxis\": \"y\", \"type\": \"scatter\"}, {\"hovertemplate\": \"Geography=Manitoba<br>Time=2018Q2<br>DelinquencyRate=%{x}<br>AverageMortgageAmount=%{y}<br>PopulationSize=%{marker.size}<extra></extra>\", \"ids\": [\"Manitoba\"], \"legendgroup\": \"Manitoba\", \"marker\": {\"color\": \"#FF6692\", \"size\": [1347055], \"sizemode\": \"area\", \"sizeref\": 36835.035, \"symbol\": \"circle\"}, \"mode\": \"markers\", \"name\": \"Manitoba\", \"orientation\": \"v\", \"showlegend\": true, \"x\": [0.31], \"xaxis\": \"x\", \"y\": [207436], \"yaxis\": \"y\", \"type\": \"scatter\"}, {\"hovertemplate\": \"Geography=Saskatchewan<br>Time=2018Q2<br>DelinquencyRate=%{x}<br>AverageMortgageAmount=%{y}<br>PopulationSize=%{marker.size}<extra></extra>\", \"ids\": [\"Saskatchewan\"], \"legendgroup\": \"Saskatchewan\", \"marker\": {\"color\": \"#B6E880\", \"size\": [1158451], \"sizemode\": \"area\", \"sizeref\": 36835.035, \"symbol\": \"circle\"}, \"mode\": \"markers\", \"name\": \"Saskatchewan\", \"orientation\": \"v\", \"showlegend\": true, \"x\": [0.67], \"xaxis\": \"x\", \"y\": [229851], \"yaxis\": \"y\", \"type\": \"scatter\"}, {\"hovertemplate\": \"Geography=Alberta<br>Time=2018Q2<br>DelinquencyRate=%{x}<br>AverageMortgageAmount=%{y}<br>PopulationSize=%{marker.size}<extra></extra>\", \"ids\": [\"Alberta\"], \"legendgroup\": \"Alberta\", \"marker\": {\"color\": \"#FF97FF\", \"size\": [4281706], \"sizemode\": \"area\", \"sizeref\": 36835.035, \"symbol\": \"circle\"}, \"mode\": \"markers\", \"name\": \"Alberta\", \"orientation\": \"v\", \"showlegend\": true, \"x\": [0.46], \"xaxis\": \"x\", \"y\": [302116], \"yaxis\": \"y\", \"type\": \"scatter\"}, {\"hovertemplate\": \"Geography=British Columbia<br>Time=2018Q2<br>DelinquencyRate=%{x}<br>AverageMortgageAmount=%{y}<br>PopulationSize=%{marker.size}<extra></extra>\", \"ids\": [\"British Columbia\"], \"legendgroup\": \"British Columbia\", \"marker\": {\"color\": \"#FECB52\", \"size\": [4983183], \"sizemode\": \"area\", \"sizeref\": 36835.035, \"symbol\": \"circle\"}, \"mode\": \"markers\", \"name\": \"British Columbia\", \"orientation\": \"v\", \"showlegend\": true, \"x\": [0.17], \"xaxis\": \"x\", \"y\": [371860], \"yaxis\": \"y\", \"type\": \"scatter\"}], \"name\": \"2018Q2\"}, {\"data\": [{\"hovertemplate\": \"Geography=Newfoundland<br>Time=2018Q3<br>DelinquencyRate=%{x}<br>AverageMortgageAmount=%{y}<br>PopulationSize=%{marker.size}<extra></extra>\", \"ids\": [\"Newfoundland\"], \"legendgroup\": \"Newfoundland\", \"marker\": {\"color\": \"#636efa\", \"size\": [525560], \"sizemode\": \"area\", \"sizeref\": 36835.035, \"symbol\": \"circle\"}, \"mode\": \"markers\", \"name\": \"Newfoundland\", \"orientation\": \"v\", \"showlegend\": true, \"x\": [0.6], \"xaxis\": \"x\", \"y\": [192106], \"yaxis\": \"y\", \"type\": \"scatter\"}, {\"hovertemplate\": \"Geography=Prince Edward Island<br>Time=2018Q3<br>DelinquencyRate=%{x}<br>AverageMortgageAmount=%{y}<br>PopulationSize=%{marker.size}<extra></extra>\", \"ids\": [\"Prince Edward Island\"], \"legendgroup\": \"Prince Edward Island\", \"marker\": {\"color\": \"#EF553B\", \"size\": [153396], \"sizemode\": \"area\", \"sizeref\": 36835.035, \"symbol\": \"circle\"}, \"mode\": \"markers\", \"name\": \"Prince Edward Island\", \"orientation\": \"v\", \"showlegend\": true, \"x\": [0.43], \"xaxis\": \"x\", \"y\": [181967], \"yaxis\": \"y\", \"type\": \"scatter\"}, {\"hovertemplate\": \"Geography=Nova Scotia<br>Time=2018Q3<br>DelinquencyRate=%{x}<br>AverageMortgageAmount=%{y}<br>PopulationSize=%{marker.size}<extra></extra>\", \"ids\": [\"Nova Scotia\"], \"legendgroup\": \"Nova Scotia\", \"marker\": {\"color\": \"#00cc96\", \"size\": [958406], \"sizemode\": \"area\", \"sizeref\": 36835.035, \"symbol\": \"circle\"}, \"mode\": \"markers\", \"name\": \"Nova Scotia\", \"orientation\": \"v\", \"showlegend\": true, \"x\": [0.52], \"xaxis\": \"x\", \"y\": [190443], \"yaxis\": \"y\", \"type\": \"scatter\"}, {\"hovertemplate\": \"Geography=New Brunswick<br>Time=2018Q3<br>DelinquencyRate=%{x}<br>AverageMortgageAmount=%{y}<br>PopulationSize=%{marker.size}<extra></extra>\", \"ids\": [\"New Brunswick\"], \"legendgroup\": \"New Brunswick\", \"marker\": {\"color\": \"#ab63fa\", \"size\": [770301], \"sizemode\": \"area\", \"sizeref\": 36835.035, \"symbol\": \"circle\"}, \"mode\": \"markers\", \"name\": \"New Brunswick\", \"orientation\": \"v\", \"showlegend\": true, \"x\": [0.58], \"xaxis\": \"x\", \"y\": [150353], \"yaxis\": \"y\", \"type\": \"scatter\"}, {\"hovertemplate\": \"Geography=Qu\\u00e9bec<br>Time=2018Q3<br>DelinquencyRate=%{x}<br>AverageMortgageAmount=%{y}<br>PopulationSize=%{marker.size}<extra></extra>\", \"ids\": [\"Qu\\u00e9bec\"], \"legendgroup\": \"Qu\\u00e9bec\", \"marker\": {\"color\": \"#FFA15A\", \"size\": [8401738], \"sizemode\": \"area\", \"sizeref\": 36835.035, \"symbol\": \"circle\"}, \"mode\": \"markers\", \"name\": \"Qu\\u00e9bec\", \"orientation\": \"v\", \"showlegend\": true, \"x\": [0.35], \"xaxis\": \"x\", \"y\": [187727], \"yaxis\": \"y\", \"type\": \"scatter\"}, {\"hovertemplate\": \"Geography=Ontario<br>Time=2018Q3<br>DelinquencyRate=%{x}<br>AverageMortgageAmount=%{y}<br>PopulationSize=%{marker.size}<extra></extra>\", \"ids\": [\"Ontario\"], \"legendgroup\": \"Ontario\", \"marker\": {\"color\": \"#19d3f3\", \"size\": [14308697], \"sizemode\": \"area\", \"sizeref\": 36835.035, \"symbol\": \"circle\"}, \"mode\": \"markers\", \"name\": \"Ontario\", \"orientation\": \"v\", \"showlegend\": true, \"x\": [0.13], \"xaxis\": \"x\", \"y\": [327367], \"yaxis\": \"y\", \"type\": \"scatter\"}, {\"hovertemplate\": \"Geography=Manitoba<br>Time=2018Q3<br>DelinquencyRate=%{x}<br>AverageMortgageAmount=%{y}<br>PopulationSize=%{marker.size}<extra></extra>\", \"ids\": [\"Manitoba\"], \"legendgroup\": \"Manitoba\", \"marker\": {\"color\": \"#FF6692\", \"size\": [1352825], \"sizemode\": \"area\", \"sizeref\": 36835.035, \"symbol\": \"circle\"}, \"mode\": \"markers\", \"name\": \"Manitoba\", \"orientation\": \"v\", \"showlegend\": true, \"x\": [0.32], \"xaxis\": \"x\", \"y\": [220454], \"yaxis\": \"y\", \"type\": \"scatter\"}, {\"hovertemplate\": \"Geography=Saskatchewan<br>Time=2018Q3<br>DelinquencyRate=%{x}<br>AverageMortgageAmount=%{y}<br>PopulationSize=%{marker.size}<extra></extra>\", \"ids\": [\"Saskatchewan\"], \"legendgroup\": \"Saskatchewan\", \"marker\": {\"color\": \"#B6E880\", \"size\": [1161767], \"sizemode\": \"area\", \"sizeref\": 36835.035, \"symbol\": \"circle\"}, \"mode\": \"markers\", \"name\": \"Saskatchewan\", \"orientation\": \"v\", \"showlegend\": true, \"x\": [0.7], \"xaxis\": \"x\", \"y\": [233255], \"yaxis\": \"y\", \"type\": \"scatter\"}, {\"hovertemplate\": \"Geography=Alberta<br>Time=2018Q3<br>DelinquencyRate=%{x}<br>AverageMortgageAmount=%{y}<br>PopulationSize=%{marker.size}<extra></extra>\", \"ids\": [\"Alberta\"], \"legendgroup\": \"Alberta\", \"marker\": {\"color\": \"#FF97FF\", \"size\": [4298275], \"sizemode\": \"area\", \"sizeref\": 36835.035, \"symbol\": \"circle\"}, \"mode\": \"markers\", \"name\": \"Alberta\", \"orientation\": \"v\", \"showlegend\": true, \"x\": [0.47], \"xaxis\": \"x\", \"y\": [305101], \"yaxis\": \"y\", \"type\": \"scatter\"}, {\"hovertemplate\": \"Geography=British Columbia<br>Time=2018Q3<br>DelinquencyRate=%{x}<br>AverageMortgageAmount=%{y}<br>PopulationSize=%{marker.size}<extra></extra>\", \"ids\": [\"British Columbia\"], \"legendgroup\": \"British Columbia\", \"marker\": {\"color\": \"#FECB52\", \"size\": [5010476], \"sizemode\": \"area\", \"sizeref\": 36835.035, \"symbol\": \"circle\"}, \"mode\": \"markers\", \"name\": \"British Columbia\", \"orientation\": \"v\", \"showlegend\": true, \"x\": [0.16], \"xaxis\": \"x\", \"y\": [378187], \"yaxis\": \"y\", \"type\": \"scatter\"}], \"name\": \"2018Q3\"}, {\"data\": [{\"hovertemplate\": \"Geography=Newfoundland<br>Time=2018Q4<br>DelinquencyRate=%{x}<br>AverageMortgageAmount=%{y}<br>PopulationSize=%{marker.size}<extra></extra>\", \"ids\": [\"Newfoundland\"], \"legendgroup\": \"Newfoundland\", \"marker\": {\"color\": \"#636efa\", \"size\": [525765], \"sizemode\": \"area\", \"sizeref\": 36835.035, \"symbol\": \"circle\"}, \"mode\": \"markers\", \"name\": \"Newfoundland\", \"orientation\": \"v\", \"showlegend\": true, \"x\": [0.62], \"xaxis\": \"x\", \"y\": [188614], \"yaxis\": \"y\", \"type\": \"scatter\"}, {\"hovertemplate\": \"Geography=Prince Edward Island<br>Time=2018Q4<br>DelinquencyRate=%{x}<br>AverageMortgageAmount=%{y}<br>PopulationSize=%{marker.size}<extra></extra>\", \"ids\": [\"Prince Edward Island\"], \"legendgroup\": \"Prince Edward Island\", \"marker\": {\"color\": \"#EF553B\", \"size\": [155129], \"sizemode\": \"area\", \"sizeref\": 36835.035, \"symbol\": \"circle\"}, \"mode\": \"markers\", \"name\": \"Prince Edward Island\", \"orientation\": \"v\", \"showlegend\": true, \"x\": [0.39], \"xaxis\": \"x\", \"y\": [178140], \"yaxis\": \"y\", \"type\": \"scatter\"}, {\"hovertemplate\": \"Geography=Nova Scotia<br>Time=2018Q4<br>DelinquencyRate=%{x}<br>AverageMortgageAmount=%{y}<br>PopulationSize=%{marker.size}<extra></extra>\", \"ids\": [\"Nova Scotia\"], \"legendgroup\": \"Nova Scotia\", \"marker\": {\"color\": \"#00cc96\", \"size\": [963309], \"sizemode\": \"area\", \"sizeref\": 36835.035, \"symbol\": \"circle\"}, \"mode\": \"markers\", \"name\": \"Nova Scotia\", \"orientation\": \"v\", \"showlegend\": true, \"x\": [0.56], \"xaxis\": \"x\", \"y\": [179921], \"yaxis\": \"y\", \"type\": \"scatter\"}, {\"hovertemplate\": \"Geography=New Brunswick<br>Time=2018Q4<br>DelinquencyRate=%{x}<br>AverageMortgageAmount=%{y}<br>PopulationSize=%{marker.size}<extra></extra>\", \"ids\": [\"New Brunswick\"], \"legendgroup\": \"New Brunswick\", \"marker\": {\"color\": \"#ab63fa\", \"size\": [772524], \"sizemode\": \"area\", \"sizeref\": 36835.035, \"symbol\": \"circle\"}, \"mode\": \"markers\", \"name\": \"New Brunswick\", \"orientation\": \"v\", \"showlegend\": true, \"x\": [0.62], \"xaxis\": \"x\", \"y\": [143324], \"yaxis\": \"y\", \"type\": \"scatter\"}, {\"hovertemplate\": \"Geography=Qu\\u00e9bec<br>Time=2018Q4<br>DelinquencyRate=%{x}<br>AverageMortgageAmount=%{y}<br>PopulationSize=%{marker.size}<extra></extra>\", \"ids\": [\"Qu\\u00e9bec\"], \"legendgroup\": \"Qu\\u00e9bec\", \"marker\": {\"color\": \"#FFA15A\", \"size\": [8433888], \"sizemode\": \"area\", \"sizeref\": 36835.035, \"symbol\": \"circle\"}, \"mode\": \"markers\", \"name\": \"Qu\\u00e9bec\", \"orientation\": \"v\", \"showlegend\": true, \"x\": [0.38], \"xaxis\": \"x\", \"y\": [173911], \"yaxis\": \"y\", \"type\": \"scatter\"}, {\"hovertemplate\": \"Geography=Ontario<br>Time=2018Q4<br>DelinquencyRate=%{x}<br>AverageMortgageAmount=%{y}<br>PopulationSize=%{marker.size}<extra></extra>\", \"ids\": [\"Ontario\"], \"legendgroup\": \"Ontario\", \"marker\": {\"color\": \"#19d3f3\", \"size\": [14393683], \"sizemode\": \"area\", \"sizeref\": 36835.035, \"symbol\": \"circle\"}, \"mode\": \"markers\", \"name\": \"Ontario\", \"orientation\": \"v\", \"showlegend\": true, \"x\": [0.14], \"xaxis\": \"x\", \"y\": [321579], \"yaxis\": \"y\", \"type\": \"scatter\"}, {\"hovertemplate\": \"Geography=Manitoba<br>Time=2018Q4<br>DelinquencyRate=%{x}<br>AverageMortgageAmount=%{y}<br>PopulationSize=%{marker.size}<extra></extra>\", \"ids\": [\"Manitoba\"], \"legendgroup\": \"Manitoba\", \"marker\": {\"color\": \"#FF6692\", \"size\": [1357879], \"sizemode\": \"area\", \"sizeref\": 36835.035, \"symbol\": \"circle\"}, \"mode\": \"markers\", \"name\": \"Manitoba\", \"orientation\": \"v\", \"showlegend\": true, \"x\": [0.35], \"xaxis\": \"x\", \"y\": [214060], \"yaxis\": \"y\", \"type\": \"scatter\"}, {\"hovertemplate\": \"Geography=Saskatchewan<br>Time=2018Q4<br>DelinquencyRate=%{x}<br>AverageMortgageAmount=%{y}<br>PopulationSize=%{marker.size}<extra></extra>\", \"ids\": [\"Saskatchewan\"], \"legendgroup\": \"Saskatchewan\", \"marker\": {\"color\": \"#B6E880\", \"size\": [1165938], \"sizemode\": \"area\", \"sizeref\": 36835.035, \"symbol\": \"circle\"}, \"mode\": \"markers\", \"name\": \"Saskatchewan\", \"orientation\": \"v\", \"showlegend\": true, \"x\": [0.72], \"xaxis\": \"x\", \"y\": [223628], \"yaxis\": \"y\", \"type\": \"scatter\"}, {\"hovertemplate\": \"Geography=Alberta<br>Time=2018Q4<br>DelinquencyRate=%{x}<br>AverageMortgageAmount=%{y}<br>PopulationSize=%{marker.size}<extra></extra>\", \"ids\": [\"Alberta\"], \"legendgroup\": \"Alberta\", \"marker\": {\"color\": \"#FF97FF\", \"size\": [4317453], \"sizemode\": \"area\", \"sizeref\": 36835.035, \"symbol\": \"circle\"}, \"mode\": \"markers\", \"name\": \"Alberta\", \"orientation\": \"v\", \"showlegend\": true, \"x\": [0.5], \"xaxis\": \"x\", \"y\": [295839], \"yaxis\": \"y\", \"type\": \"scatter\"}, {\"hovertemplate\": \"Geography=British Columbia<br>Time=2018Q4<br>DelinquencyRate=%{x}<br>AverageMortgageAmount=%{y}<br>PopulationSize=%{marker.size}<extra></extra>\", \"ids\": [\"British Columbia\"], \"legendgroup\": \"British Columbia\", \"marker\": {\"color\": \"#FECB52\", \"size\": [5039661], \"sizemode\": \"area\", \"sizeref\": 36835.035, \"symbol\": \"circle\"}, \"mode\": \"markers\", \"name\": \"British Columbia\", \"orientation\": \"v\", \"showlegend\": true, \"x\": [0.17], \"xaxis\": \"x\", \"y\": [364330], \"yaxis\": \"y\", \"type\": \"scatter\"}], \"name\": \"2018Q4\"}, {\"data\": [{\"hovertemplate\": \"Geography=Newfoundland<br>Time=2019Q1<br>DelinquencyRate=%{x}<br>AverageMortgageAmount=%{y}<br>PopulationSize=%{marker.size}<extra></extra>\", \"ids\": [\"Newfoundland\"], \"legendgroup\": \"Newfoundland\", \"marker\": {\"color\": \"#636efa\", \"size\": [524883], \"sizemode\": \"area\", \"sizeref\": 36835.035, \"symbol\": \"circle\"}, \"mode\": \"markers\", \"name\": \"Newfoundland\", \"orientation\": \"v\", \"showlegend\": true, \"x\": [0.64], \"xaxis\": \"x\", \"y\": [185276], \"yaxis\": \"y\", \"type\": \"scatter\"}, {\"hovertemplate\": \"Geography=Prince Edward Island<br>Time=2019Q1<br>DelinquencyRate=%{x}<br>AverageMortgageAmount=%{y}<br>PopulationSize=%{marker.size}<extra></extra>\", \"ids\": [\"Prince Edward Island\"], \"legendgroup\": \"Prince Edward Island\", \"marker\": {\"color\": \"#EF553B\", \"size\": [155244], \"sizemode\": \"area\", \"sizeref\": 36835.035, \"symbol\": \"circle\"}, \"mode\": \"markers\", \"name\": \"Prince Edward Island\", \"orientation\": \"v\", \"showlegend\": true, \"x\": [0.39], \"xaxis\": \"x\", \"y\": [181172], \"yaxis\": \"y\", \"type\": \"scatter\"}, {\"hovertemplate\": \"Geography=Nova Scotia<br>Time=2019Q1<br>DelinquencyRate=%{x}<br>AverageMortgageAmount=%{y}<br>PopulationSize=%{marker.size}<extra></extra>\", \"ids\": [\"Nova Scotia\"], \"legendgroup\": \"Nova Scotia\", \"marker\": {\"color\": \"#00cc96\", \"size\": [963890], \"sizemode\": \"area\", \"sizeref\": 36835.035, \"symbol\": \"circle\"}, \"mode\": \"markers\", \"name\": \"Nova Scotia\", \"orientation\": \"v\", \"showlegend\": true, \"x\": [0.54], \"xaxis\": \"x\", \"y\": [177863], \"yaxis\": \"y\", \"type\": \"scatter\"}, {\"hovertemplate\": \"Geography=New Brunswick<br>Time=2019Q1<br>DelinquencyRate=%{x}<br>AverageMortgageAmount=%{y}<br>PopulationSize=%{marker.size}<extra></extra>\", \"ids\": [\"New Brunswick\"], \"legendgroup\": \"New Brunswick\", \"marker\": {\"color\": \"#ab63fa\", \"size\": [772748], \"sizemode\": \"area\", \"sizeref\": 36835.035, \"symbol\": \"circle\"}, \"mode\": \"markers\", \"name\": \"New Brunswick\", \"orientation\": \"v\", \"showlegend\": true, \"x\": [0.63], \"xaxis\": \"x\", \"y\": [140850], \"yaxis\": \"y\", \"type\": \"scatter\"}, {\"hovertemplate\": \"Geography=Qu\\u00e9bec<br>Time=2019Q1<br>DelinquencyRate=%{x}<br>AverageMortgageAmount=%{y}<br>PopulationSize=%{marker.size}<extra></extra>\", \"ids\": [\"Qu\\u00e9bec\"], \"legendgroup\": \"Qu\\u00e9bec\", \"marker\": {\"color\": \"#FFA15A\", \"size\": [8446906], \"sizemode\": \"area\", \"sizeref\": 36835.035, \"symbol\": \"circle\"}, \"mode\": \"markers\", \"name\": \"Qu\\u00e9bec\", \"orientation\": \"v\", \"showlegend\": true, \"x\": [0.38], \"xaxis\": \"x\", \"y\": [175658], \"yaxis\": \"y\", \"type\": \"scatter\"}, {\"hovertemplate\": \"Geography=Ontario<br>Time=2019Q1<br>DelinquencyRate=%{x}<br>AverageMortgageAmount=%{y}<br>PopulationSize=%{marker.size}<extra></extra>\", \"ids\": [\"Ontario\"], \"legendgroup\": \"Ontario\", \"marker\": {\"color\": \"#19d3f3\", \"size\": [14428712], \"sizemode\": \"area\", \"sizeref\": 36835.035, \"symbol\": \"circle\"}, \"mode\": \"markers\", \"name\": \"Ontario\", \"orientation\": \"v\", \"showlegend\": true, \"x\": [0.14], \"xaxis\": \"x\", \"y\": [321074], \"yaxis\": \"y\", \"type\": \"scatter\"}, {\"hovertemplate\": \"Geography=Manitoba<br>Time=2019Q1<br>DelinquencyRate=%{x}<br>AverageMortgageAmount=%{y}<br>PopulationSize=%{marker.size}<extra></extra>\", \"ids\": [\"Manitoba\"], \"legendgroup\": \"Manitoba\", \"marker\": {\"color\": \"#FF6692\", \"size\": [1361632], \"sizemode\": \"area\", \"sizeref\": 36835.035, \"symbol\": \"circle\"}, \"mode\": \"markers\", \"name\": \"Manitoba\", \"orientation\": \"v\", \"showlegend\": true, \"x\": [0.35], \"xaxis\": \"x\", \"y\": [206692], \"yaxis\": \"y\", \"type\": \"scatter\"}, {\"hovertemplate\": \"Geography=Saskatchewan<br>Time=2019Q1<br>DelinquencyRate=%{x}<br>AverageMortgageAmount=%{y}<br>PopulationSize=%{marker.size}<extra></extra>\", \"ids\": [\"Saskatchewan\"], \"legendgroup\": \"Saskatchewan\", \"marker\": {\"color\": \"#B6E880\", \"size\": [1168461], \"sizemode\": \"area\", \"sizeref\": 36835.035, \"symbol\": \"circle\"}, \"mode\": \"markers\", \"name\": \"Saskatchewan\", \"orientation\": \"v\", \"showlegend\": true, \"x\": [0.74], \"xaxis\": \"x\", \"y\": [217157], \"yaxis\": \"y\", \"type\": \"scatter\"}, {\"hovertemplate\": \"Geography=Alberta<br>Time=2019Q1<br>DelinquencyRate=%{x}<br>AverageMortgageAmount=%{y}<br>PopulationSize=%{marker.size}<extra></extra>\", \"ids\": [\"Alberta\"], \"legendgroup\": \"Alberta\", \"marker\": {\"color\": \"#FF97FF\", \"size\": [4330698], \"sizemode\": \"area\", \"sizeref\": 36835.035, \"symbol\": \"circle\"}, \"mode\": \"markers\", \"name\": \"Alberta\", \"orientation\": \"v\", \"showlegend\": true, \"x\": [0.51], \"xaxis\": \"x\", \"y\": [291721], \"yaxis\": \"y\", \"type\": \"scatter\"}, {\"hovertemplate\": \"Geography=British Columbia<br>Time=2019Q1<br>DelinquencyRate=%{x}<br>AverageMortgageAmount=%{y}<br>PopulationSize=%{marker.size}<extra></extra>\", \"ids\": [\"British Columbia\"], \"legendgroup\": \"British Columbia\", \"marker\": {\"color\": \"#FECB52\", \"size\": [5046576], \"sizemode\": \"area\", \"sizeref\": 36835.035, \"symbol\": \"circle\"}, \"mode\": \"markers\", \"name\": \"British Columbia\", \"orientation\": \"v\", \"showlegend\": true, \"x\": [0.17], \"xaxis\": \"x\", \"y\": [363239], \"yaxis\": \"y\", \"type\": \"scatter\"}], \"name\": \"2019Q1\"}, {\"data\": [{\"hovertemplate\": \"Geography=Newfoundland<br>Time=2019Q2<br>DelinquencyRate=%{x}<br>AverageMortgageAmount=%{y}<br>PopulationSize=%{marker.size}<extra></extra>\", \"ids\": [\"Newfoundland\"], \"legendgroup\": \"Newfoundland\", \"marker\": {\"color\": \"#636efa\", \"size\": [524126], \"sizemode\": \"area\", \"sizeref\": 36835.035, \"symbol\": \"circle\"}, \"mode\": \"markers\", \"name\": \"Newfoundland\", \"orientation\": \"v\", \"showlegend\": true, \"x\": [0.65], \"xaxis\": \"x\", \"y\": [190582], \"yaxis\": \"y\", \"type\": \"scatter\"}, {\"hovertemplate\": \"Geography=Prince Edward Island<br>Time=2019Q2<br>DelinquencyRate=%{x}<br>AverageMortgageAmount=%{y}<br>PopulationSize=%{marker.size}<extra></extra>\", \"ids\": [\"Prince Edward Island\"], \"legendgroup\": \"Prince Edward Island\", \"marker\": {\"color\": \"#EF553B\", \"size\": [155833], \"sizemode\": \"area\", \"sizeref\": 36835.035, \"symbol\": \"circle\"}, \"mode\": \"markers\", \"name\": \"Prince Edward Island\", \"orientation\": \"v\", \"showlegend\": true, \"x\": [0.38], \"xaxis\": \"x\", \"y\": [181358], \"yaxis\": \"y\", \"type\": \"scatter\"}, {\"hovertemplate\": \"Geography=Nova Scotia<br>Time=2019Q2<br>DelinquencyRate=%{x}<br>AverageMortgageAmount=%{y}<br>PopulationSize=%{marker.size}<extra></extra>\", \"ids\": [\"Nova Scotia\"], \"legendgroup\": \"Nova Scotia\", \"marker\": {\"color\": \"#00cc96\", \"size\": [965287], \"sizemode\": \"area\", \"sizeref\": 36835.035, \"symbol\": \"circle\"}, \"mode\": \"markers\", \"name\": \"Nova Scotia\", \"orientation\": \"v\", \"showlegend\": true, \"x\": [0.52], \"xaxis\": \"x\", \"y\": [180958], \"yaxis\": \"y\", \"type\": \"scatter\"}, {\"hovertemplate\": \"Geography=New Brunswick<br>Time=2019Q2<br>DelinquencyRate=%{x}<br>AverageMortgageAmount=%{y}<br>PopulationSize=%{marker.size}<extra></extra>\", \"ids\": [\"New Brunswick\"], \"legendgroup\": \"New Brunswick\", \"marker\": {\"color\": \"#ab63fa\", \"size\": [773805], \"sizemode\": \"area\", \"sizeref\": 36835.035, \"symbol\": \"circle\"}, \"mode\": \"markers\", \"name\": \"New Brunswick\", \"orientation\": \"v\", \"showlegend\": true, \"x\": [0.6], \"xaxis\": \"x\", \"y\": [137809], \"yaxis\": \"y\", \"type\": \"scatter\"}, {\"hovertemplate\": \"Geography=Qu\\u00e9bec<br>Time=2019Q2<br>DelinquencyRate=%{x}<br>AverageMortgageAmount=%{y}<br>PopulationSize=%{marker.size}<extra></extra>\", \"ids\": [\"Qu\\u00e9bec\"], \"legendgroup\": \"Qu\\u00e9bec\", \"marker\": {\"color\": \"#FFA15A\", \"size\": [8465271], \"sizemode\": \"area\", \"sizeref\": 36835.035, \"symbol\": \"circle\"}, \"mode\": \"markers\", \"name\": \"Qu\\u00e9bec\", \"orientation\": \"v\", \"showlegend\": true, \"x\": [0.37], \"xaxis\": \"x\", \"y\": [179523], \"yaxis\": \"y\", \"type\": \"scatter\"}, {\"hovertemplate\": \"Geography=Ontario<br>Time=2019Q2<br>DelinquencyRate=%{x}<br>AverageMortgageAmount=%{y}<br>PopulationSize=%{marker.size}<extra></extra>\", \"ids\": [\"Ontario\"], \"legendgroup\": \"Ontario\", \"marker\": {\"color\": \"#19d3f3\", \"size\": [14467162], \"sizemode\": \"area\", \"sizeref\": 36835.035, \"symbol\": \"circle\"}, \"mode\": \"markers\", \"name\": \"Ontario\", \"orientation\": \"v\", \"showlegend\": true, \"x\": [0.14], \"xaxis\": \"x\", \"y\": [324080], \"yaxis\": \"y\", \"type\": \"scatter\"}, {\"hovertemplate\": \"Geography=Manitoba<br>Time=2019Q2<br>DelinquencyRate=%{x}<br>AverageMortgageAmount=%{y}<br>PopulationSize=%{marker.size}<extra></extra>\", \"ids\": [\"Manitoba\"], \"legendgroup\": \"Manitoba\", \"marker\": {\"color\": \"#FF6692\", \"size\": [1364223], \"sizemode\": \"area\", \"sizeref\": 36835.035, \"symbol\": \"circle\"}, \"mode\": \"markers\", \"name\": \"Manitoba\", \"orientation\": \"v\", \"showlegend\": true, \"x\": [0.35], \"xaxis\": \"x\", \"y\": [214873], \"yaxis\": \"y\", \"type\": \"scatter\"}, {\"hovertemplate\": \"Geography=Saskatchewan<br>Time=2019Q2<br>DelinquencyRate=%{x}<br>AverageMortgageAmount=%{y}<br>PopulationSize=%{marker.size}<extra></extra>\", \"ids\": [\"Saskatchewan\"], \"legendgroup\": \"Saskatchewan\", \"marker\": {\"color\": \"#B6E880\", \"size\": [1169286], \"sizemode\": \"area\", \"sizeref\": 36835.035, \"symbol\": \"circle\"}, \"mode\": \"markers\", \"name\": \"Saskatchewan\", \"orientation\": \"v\", \"showlegend\": true, \"x\": [0.75], \"xaxis\": \"x\", \"y\": [216369], \"yaxis\": \"y\", \"type\": \"scatter\"}, {\"hovertemplate\": \"Geography=Alberta<br>Time=2019Q2<br>DelinquencyRate=%{x}<br>AverageMortgageAmount=%{y}<br>PopulationSize=%{marker.size}<extra></extra>\", \"ids\": [\"Alberta\"], \"legendgroup\": \"Alberta\", \"marker\": {\"color\": \"#FF97FF\", \"size\": [4343951], \"sizemode\": \"area\", \"sizeref\": 36835.035, \"symbol\": \"circle\"}, \"mode\": \"markers\", \"name\": \"Alberta\", \"orientation\": \"v\", \"showlegend\": true, \"x\": [0.53], \"xaxis\": \"x\", \"y\": [293612], \"yaxis\": \"y\", \"type\": \"scatter\"}, {\"hovertemplate\": \"Geography=British Columbia<br>Time=2019Q2<br>DelinquencyRate=%{x}<br>AverageMortgageAmount=%{y}<br>PopulationSize=%{marker.size}<extra></extra>\", \"ids\": [\"British Columbia\"], \"legendgroup\": \"British Columbia\", \"marker\": {\"color\": \"#FECB52\", \"size\": [5063527], \"sizemode\": \"area\", \"sizeref\": 36835.035, \"symbol\": \"circle\"}, \"mode\": \"markers\", \"name\": \"British Columbia\", \"orientation\": \"v\", \"showlegend\": true, \"x\": [0.17], \"xaxis\": \"x\", \"y\": [363924], \"yaxis\": \"y\", \"type\": \"scatter\"}], \"name\": \"2019Q2\"}, {\"data\": [{\"hovertemplate\": \"Geography=Newfoundland<br>Time=2019Q3<br>DelinquencyRate=%{x}<br>AverageMortgageAmount=%{y}<br>PopulationSize=%{marker.size}<extra></extra>\", \"ids\": [\"Newfoundland\"], \"legendgroup\": \"Newfoundland\", \"marker\": {\"color\": \"#636efa\", \"size\": [523476], \"sizemode\": \"area\", \"sizeref\": 36835.035, \"symbol\": \"circle\"}, \"mode\": \"markers\", \"name\": \"Newfoundland\", \"orientation\": \"v\", \"showlegend\": true, \"x\": [0.65], \"xaxis\": \"x\", \"y\": [194536], \"yaxis\": \"y\", \"type\": \"scatter\"}, {\"hovertemplate\": \"Geography=Prince Edward Island<br>Time=2019Q3<br>DelinquencyRate=%{x}<br>AverageMortgageAmount=%{y}<br>PopulationSize=%{marker.size}<extra></extra>\", \"ids\": [\"Prince Edward Island\"], \"legendgroup\": \"Prince Edward Island\", \"marker\": {\"color\": \"#EF553B\", \"size\": [157262], \"sizemode\": \"area\", \"sizeref\": 36835.035, \"symbol\": \"circle\"}, \"mode\": \"markers\", \"name\": \"Prince Edward Island\", \"orientation\": \"v\", \"showlegend\": true, \"x\": [0.34], \"xaxis\": \"x\", \"y\": [190715], \"yaxis\": \"y\", \"type\": \"scatter\"}, {\"hovertemplate\": \"Geography=Nova Scotia<br>Time=2019Q3<br>DelinquencyRate=%{x}<br>AverageMortgageAmount=%{y}<br>PopulationSize=%{marker.size}<extra></extra>\", \"ids\": [\"Nova Scotia\"], \"legendgroup\": \"Nova Scotia\", \"marker\": {\"color\": \"#00cc96\", \"size\": [969747], \"sizemode\": \"area\", \"sizeref\": 36835.035, \"symbol\": \"circle\"}, \"mode\": \"markers\", \"name\": \"Nova Scotia\", \"orientation\": \"v\", \"showlegend\": true, \"x\": [0.5], \"xaxis\": \"x\", \"y\": [193586], \"yaxis\": \"y\", \"type\": \"scatter\"}, {\"hovertemplate\": \"Geography=New Brunswick<br>Time=2019Q3<br>DelinquencyRate=%{x}<br>AverageMortgageAmount=%{y}<br>PopulationSize=%{marker.size}<extra></extra>\", \"ids\": [\"New Brunswick\"], \"legendgroup\": \"New Brunswick\", \"marker\": {\"color\": \"#ab63fa\", \"size\": [776868], \"sizemode\": \"area\", \"sizeref\": 36835.035, \"symbol\": \"circle\"}, \"mode\": \"markers\", \"name\": \"New Brunswick\", \"orientation\": \"v\", \"showlegend\": true, \"x\": [0.57], \"xaxis\": \"x\", \"y\": [152606], \"yaxis\": \"y\", \"type\": \"scatter\"}, {\"hovertemplate\": \"Geography=Qu\\u00e9bec<br>Time=2019Q3<br>DelinquencyRate=%{x}<br>AverageMortgageAmount=%{y}<br>PopulationSize=%{marker.size}<extra></extra>\", \"ids\": [\"Qu\\u00e9bec\"], \"legendgroup\": \"Qu\\u00e9bec\", \"marker\": {\"color\": \"#FFA15A\", \"size\": [8501703], \"sizemode\": \"area\", \"sizeref\": 36835.035, \"symbol\": \"circle\"}, \"mode\": \"markers\", \"name\": \"Qu\\u00e9bec\", \"orientation\": \"v\", \"showlegend\": true, \"x\": [0.37], \"xaxis\": \"x\", \"y\": [187136], \"yaxis\": \"y\", \"type\": \"scatter\"}, {\"hovertemplate\": \"Geography=Ontario<br>Time=2019Q3<br>DelinquencyRate=%{x}<br>AverageMortgageAmount=%{y}<br>PopulationSize=%{marker.size}<extra></extra>\", \"ids\": [\"Ontario\"], \"legendgroup\": \"Ontario\", \"marker\": {\"color\": \"#19d3f3\", \"size\": [14544718], \"sizemode\": \"area\", \"sizeref\": 36835.035, \"symbol\": \"circle\"}, \"mode\": \"markers\", \"name\": \"Ontario\", \"orientation\": \"v\", \"showlegend\": true, \"x\": [0.14], \"xaxis\": \"x\", \"y\": [343117], \"yaxis\": \"y\", \"type\": \"scatter\"}, {\"hovertemplate\": \"Geography=Manitoba<br>Time=2019Q3<br>DelinquencyRate=%{x}<br>AverageMortgageAmount=%{y}<br>PopulationSize=%{marker.size}<extra></extra>\", \"ids\": [\"Manitoba\"], \"legendgroup\": \"Manitoba\", \"marker\": {\"color\": \"#FF6692\", \"size\": [1369540], \"sizemode\": \"area\", \"sizeref\": 36835.035, \"symbol\": \"circle\"}, \"mode\": \"markers\", \"name\": \"Manitoba\", \"orientation\": \"v\", \"showlegend\": true, \"x\": [0.34], \"xaxis\": \"x\", \"y\": [222637], \"yaxis\": \"y\", \"type\": \"scatter\"}, {\"hovertemplate\": \"Geography=Saskatchewan<br>Time=2019Q3<br>DelinquencyRate=%{x}<br>AverageMortgageAmount=%{y}<br>PopulationSize=%{marker.size}<extra></extra>\", \"ids\": [\"Saskatchewan\"], \"legendgroup\": \"Saskatchewan\", \"marker\": {\"color\": \"#B6E880\", \"size\": [1172302], \"sizemode\": \"area\", \"sizeref\": 36835.035, \"symbol\": \"circle\"}, \"mode\": \"markers\", \"name\": \"Saskatchewan\", \"orientation\": \"v\", \"showlegend\": true, \"x\": [0.73], \"xaxis\": \"x\", \"y\": [228721], \"yaxis\": \"y\", \"type\": \"scatter\"}, {\"hovertemplate\": \"Geography=Alberta<br>Time=2019Q3<br>DelinquencyRate=%{x}<br>AverageMortgageAmount=%{y}<br>PopulationSize=%{marker.size}<extra></extra>\", \"ids\": [\"Alberta\"], \"legendgroup\": \"Alberta\", \"marker\": {\"color\": \"#FF97FF\", \"size\": [4361694], \"sizemode\": \"area\", \"sizeref\": 36835.035, \"symbol\": \"circle\"}, \"mode\": \"markers\", \"name\": \"Alberta\", \"orientation\": \"v\", \"showlegend\": true, \"x\": [0.51], \"xaxis\": \"x\", \"y\": [297609], \"yaxis\": \"y\", \"type\": \"scatter\"}, {\"hovertemplate\": \"Geography=British Columbia<br>Time=2019Q3<br>DelinquencyRate=%{x}<br>AverageMortgageAmount=%{y}<br>PopulationSize=%{marker.size}<extra></extra>\", \"ids\": [\"British Columbia\"], \"legendgroup\": \"British Columbia\", \"marker\": {\"color\": \"#FECB52\", \"size\": [5090955], \"sizemode\": \"area\", \"sizeref\": 36835.035, \"symbol\": \"circle\"}, \"mode\": \"markers\", \"name\": \"British Columbia\", \"orientation\": \"v\", \"showlegend\": true, \"x\": [0.16], \"xaxis\": \"x\", \"y\": [376343], \"yaxis\": \"y\", \"type\": \"scatter\"}], \"name\": \"2019Q3\"}, {\"data\": [{\"hovertemplate\": \"Geography=Newfoundland<br>Time=2019Q4<br>DelinquencyRate=%{x}<br>AverageMortgageAmount=%{y}<br>PopulationSize=%{marker.size}<extra></extra>\", \"ids\": [\"Newfoundland\"], \"legendgroup\": \"Newfoundland\", \"marker\": {\"color\": \"#636efa\", \"size\": [524137], \"sizemode\": \"area\", \"sizeref\": 36835.035, \"symbol\": \"circle\"}, \"mode\": \"markers\", \"name\": \"Newfoundland\", \"orientation\": \"v\", \"showlegend\": true, \"x\": [0.65], \"xaxis\": \"x\", \"y\": [193870], \"yaxis\": \"y\", \"type\": \"scatter\"}, {\"hovertemplate\": \"Geography=Prince Edward Island<br>Time=2019Q4<br>DelinquencyRate=%{x}<br>AverageMortgageAmount=%{y}<br>PopulationSize=%{marker.size}<extra></extra>\", \"ids\": [\"Prince Edward Island\"], \"legendgroup\": \"Prince Edward Island\", \"marker\": {\"color\": \"#EF553B\", \"size\": [158334], \"sizemode\": \"area\", \"sizeref\": 36835.035, \"symbol\": \"circle\"}, \"mode\": \"markers\", \"name\": \"Prince Edward Island\", \"orientation\": \"v\", \"showlegend\": true, \"x\": [0.32], \"xaxis\": \"x\", \"y\": [185934], \"yaxis\": \"y\", \"type\": \"scatter\"}, {\"hovertemplate\": \"Geography=Nova Scotia<br>Time=2019Q4<br>DelinquencyRate=%{x}<br>AverageMortgageAmount=%{y}<br>PopulationSize=%{marker.size}<extra></extra>\", \"ids\": [\"Nova Scotia\"], \"legendgroup\": \"Nova Scotia\", \"marker\": {\"color\": \"#00cc96\", \"size\": [975231], \"sizemode\": \"area\", \"sizeref\": 36835.035, \"symbol\": \"circle\"}, \"mode\": \"markers\", \"name\": \"Nova Scotia\", \"orientation\": \"v\", \"showlegend\": true, \"x\": [0.5], \"xaxis\": \"x\", \"y\": [190168], \"yaxis\": \"y\", \"type\": \"scatter\"}, {\"hovertemplate\": \"Geography=New Brunswick<br>Time=2019Q4<br>DelinquencyRate=%{x}<br>AverageMortgageAmount=%{y}<br>PopulationSize=%{marker.size}<extra></extra>\", \"ids\": [\"New Brunswick\"], \"legendgroup\": \"New Brunswick\", \"marker\": {\"color\": \"#ab63fa\", \"size\": [780154], \"sizemode\": \"area\", \"sizeref\": 36835.035, \"symbol\": \"circle\"}, \"mode\": \"markers\", \"name\": \"New Brunswick\", \"orientation\": \"v\", \"showlegend\": true, \"x\": [0.57], \"xaxis\": \"x\", \"y\": [147047], \"yaxis\": \"y\", \"type\": \"scatter\"}, {\"hovertemplate\": \"Geography=Qu\\u00e9bec<br>Time=2019Q4<br>DelinquencyRate=%{x}<br>AverageMortgageAmount=%{y}<br>PopulationSize=%{marker.size}<extra></extra>\", \"ids\": [\"Qu\\u00e9bec\"], \"legendgroup\": \"Qu\\u00e9bec\", \"marker\": {\"color\": \"#FFA15A\", \"size\": [8540429], \"sizemode\": \"area\", \"sizeref\": 36835.035, \"symbol\": \"circle\"}, \"mode\": \"markers\", \"name\": \"Qu\\u00e9bec\", \"orientation\": \"v\", \"showlegend\": true, \"x\": [0.36], \"xaxis\": \"x\", \"y\": [183501], \"yaxis\": \"y\", \"type\": \"scatter\"}, {\"hovertemplate\": \"Geography=Ontario<br>Time=2019Q4<br>DelinquencyRate=%{x}<br>AverageMortgageAmount=%{y}<br>PopulationSize=%{marker.size}<extra></extra>\", \"ids\": [\"Ontario\"], \"legendgroup\": \"Ontario\", \"marker\": {\"color\": \"#19d3f3\", \"size\": [14637880], \"sizemode\": \"area\", \"sizeref\": 36835.035, \"symbol\": \"circle\"}, \"mode\": \"markers\", \"name\": \"Ontario\", \"orientation\": \"v\", \"showlegend\": true, \"x\": [0.14], \"xaxis\": \"x\", \"y\": [343768], \"yaxis\": \"y\", \"type\": \"scatter\"}, {\"hovertemplate\": \"Geography=Manitoba<br>Time=2019Q4<br>DelinquencyRate=%{x}<br>AverageMortgageAmount=%{y}<br>PopulationSize=%{marker.size}<extra></extra>\", \"ids\": [\"Manitoba\"], \"legendgroup\": \"Manitoba\", \"marker\": {\"color\": \"#FF6692\", \"size\": [1373574], \"sizemode\": \"area\", \"sizeref\": 36835.035, \"symbol\": \"circle\"}, \"mode\": \"markers\", \"name\": \"Manitoba\", \"orientation\": \"v\", \"showlegend\": true, \"x\": [0.36], \"xaxis\": \"x\", \"y\": [218918], \"yaxis\": \"y\", \"type\": \"scatter\"}, {\"hovertemplate\": \"Geography=Saskatchewan<br>Time=2019Q4<br>DelinquencyRate=%{x}<br>AverageMortgageAmount=%{y}<br>PopulationSize=%{marker.size}<extra></extra>\", \"ids\": [\"Saskatchewan\"], \"legendgroup\": \"Saskatchewan\", \"marker\": {\"color\": \"#B6E880\", \"size\": [1176272], \"sizemode\": \"area\", \"sizeref\": 36835.035, \"symbol\": \"circle\"}, \"mode\": \"markers\", \"name\": \"Saskatchewan\", \"orientation\": \"v\", \"showlegend\": true, \"x\": [0.73], \"xaxis\": \"x\", \"y\": [224315], \"yaxis\": \"y\", \"type\": \"scatter\"}, {\"hovertemplate\": \"Geography=Alberta<br>Time=2019Q4<br>DelinquencyRate=%{x}<br>AverageMortgageAmount=%{y}<br>PopulationSize=%{marker.size}<extra></extra>\", \"ids\": [\"Alberta\"], \"legendgroup\": \"Alberta\", \"marker\": {\"color\": \"#FF97FF\", \"size\": [4384968], \"sizemode\": \"area\", \"sizeref\": 36835.035, \"symbol\": \"circle\"}, \"mode\": \"markers\", \"name\": \"Alberta\", \"orientation\": \"v\", \"showlegend\": true, \"x\": [0.5], \"xaxis\": \"x\", \"y\": [297552], \"yaxis\": \"y\", \"type\": \"scatter\"}, {\"hovertemplate\": \"Geography=British Columbia<br>Time=2019Q4<br>DelinquencyRate=%{x}<br>AverageMortgageAmount=%{y}<br>PopulationSize=%{marker.size}<extra></extra>\", \"ids\": [\"British Columbia\"], \"legendgroup\": \"British Columbia\", \"marker\": {\"color\": \"#FECB52\", \"size\": [5125659], \"sizemode\": \"area\", \"sizeref\": 36835.035, \"symbol\": \"circle\"}, \"mode\": \"markers\", \"name\": \"British Columbia\", \"orientation\": \"v\", \"showlegend\": true, \"x\": [0.16], \"xaxis\": \"x\", \"y\": [386494], \"yaxis\": \"y\", \"type\": \"scatter\"}], \"name\": \"2019Q4\"}, {\"data\": [{\"hovertemplate\": \"Geography=Newfoundland<br>Time=2020Q1<br>DelinquencyRate=%{x}<br>AverageMortgageAmount=%{y}<br>PopulationSize=%{marker.size}<extra></extra>\", \"ids\": [\"Newfoundland\"], \"legendgroup\": \"Newfoundland\", \"marker\": {\"color\": \"#636efa\", \"size\": [523631], \"sizemode\": \"area\", \"sizeref\": 36835.035, \"symbol\": \"circle\"}, \"mode\": \"markers\", \"name\": \"Newfoundland\", \"orientation\": \"v\", \"showlegend\": true, \"x\": [0.67], \"xaxis\": \"x\", \"y\": [186268], \"yaxis\": \"y\", \"type\": \"scatter\"}, {\"hovertemplate\": \"Geography=Prince Edward Island<br>Time=2020Q1<br>DelinquencyRate=%{x}<br>AverageMortgageAmount=%{y}<br>PopulationSize=%{marker.size}<extra></extra>\", \"ids\": [\"Prince Edward Island\"], \"legendgroup\": \"Prince Edward Island\", \"marker\": {\"color\": \"#EF553B\", \"size\": [158629], \"sizemode\": \"area\", \"sizeref\": 36835.035, \"symbol\": \"circle\"}, \"mode\": \"markers\", \"name\": \"Prince Edward Island\", \"orientation\": \"v\", \"showlegend\": true, \"x\": [0.25], \"xaxis\": \"x\", \"y\": [193439], \"yaxis\": \"y\", \"type\": \"scatter\"}, {\"hovertemplate\": \"Geography=Nova Scotia<br>Time=2020Q1<br>DelinquencyRate=%{x}<br>AverageMortgageAmount=%{y}<br>PopulationSize=%{marker.size}<extra></extra>\", \"ids\": [\"Nova Scotia\"], \"legendgroup\": \"Nova Scotia\", \"marker\": {\"color\": \"#00cc96\", \"size\": [975898], \"sizemode\": \"area\", \"sizeref\": 36835.035, \"symbol\": \"circle\"}, \"mode\": \"markers\", \"name\": \"Nova Scotia\", \"orientation\": \"v\", \"showlegend\": true, \"x\": [0.46], \"xaxis\": \"x\", \"y\": [188267], \"yaxis\": \"y\", \"type\": \"scatter\"}, {\"hovertemplate\": \"Geography=New Brunswick<br>Time=2020Q1<br>DelinquencyRate=%{x}<br>AverageMortgageAmount=%{y}<br>PopulationSize=%{marker.size}<extra></extra>\", \"ids\": [\"New Brunswick\"], \"legendgroup\": \"New Brunswick\", \"marker\": {\"color\": \"#ab63fa\", \"size\": [780040], \"sizemode\": \"area\", \"sizeref\": 36835.035, \"symbol\": \"circle\"}, \"mode\": \"markers\", \"name\": \"New Brunswick\", \"orientation\": \"v\", \"showlegend\": true, \"x\": [0.57], \"xaxis\": \"x\", \"y\": [146701], \"yaxis\": \"y\", \"type\": \"scatter\"}, {\"hovertemplate\": \"Geography=Qu\\u00e9bec<br>Time=2020Q1<br>DelinquencyRate=%{x}<br>AverageMortgageAmount=%{y}<br>PopulationSize=%{marker.size}<extra></extra>\", \"ids\": [\"Qu\\u00e9bec\"], \"legendgroup\": \"Qu\\u00e9bec\", \"marker\": {\"color\": \"#FFA15A\", \"size\": [8556650], \"sizemode\": \"area\", \"sizeref\": 36835.035, \"symbol\": \"circle\"}, \"mode\": \"markers\", \"name\": \"Qu\\u00e9bec\", \"orientation\": \"v\", \"showlegend\": true, \"x\": [0.36], \"xaxis\": \"x\", \"y\": [189390], \"yaxis\": \"y\", \"type\": \"scatter\"}, {\"hovertemplate\": \"Geography=Ontario<br>Time=2020Q1<br>DelinquencyRate=%{x}<br>AverageMortgageAmount=%{y}<br>PopulationSize=%{marker.size}<extra></extra>\", \"ids\": [\"Ontario\"], \"legendgroup\": \"Ontario\", \"marker\": {\"color\": \"#19d3f3\", \"size\": [14689075], \"sizemode\": \"area\", \"sizeref\": 36835.035, \"symbol\": \"circle\"}, \"mode\": \"markers\", \"name\": \"Ontario\", \"orientation\": \"v\", \"showlegend\": true, \"x\": [0.14], \"xaxis\": \"x\", \"y\": [348272], \"yaxis\": \"y\", \"type\": \"scatter\"}, {\"hovertemplate\": \"Geography=Manitoba<br>Time=2020Q1<br>DelinquencyRate=%{x}<br>AverageMortgageAmount=%{y}<br>PopulationSize=%{marker.size}<extra></extra>\", \"ids\": [\"Manitoba\"], \"legendgroup\": \"Manitoba\", \"marker\": {\"color\": \"#FF6692\", \"size\": [1377004], \"sizemode\": \"area\", \"sizeref\": 36835.035, \"symbol\": \"circle\"}, \"mode\": \"markers\", \"name\": \"Manitoba\", \"orientation\": \"v\", \"showlegend\": true, \"x\": [0.37], \"xaxis\": \"x\", \"y\": [212508], \"yaxis\": \"y\", \"type\": \"scatter\"}, {\"hovertemplate\": \"Geography=Saskatchewan<br>Time=2020Q1<br>DelinquencyRate=%{x}<br>AverageMortgageAmount=%{y}<br>PopulationSize=%{marker.size}<extra></extra>\", \"ids\": [\"Saskatchewan\"], \"legendgroup\": \"Saskatchewan\", \"marker\": {\"color\": \"#B6E880\", \"size\": [1179154], \"sizemode\": \"area\", \"sizeref\": 36835.035, \"symbol\": \"circle\"}, \"mode\": \"markers\", \"name\": \"Saskatchewan\", \"orientation\": \"v\", \"showlegend\": true, \"x\": [0.75], \"xaxis\": \"x\", \"y\": [216188], \"yaxis\": \"y\", \"type\": \"scatter\"}, {\"hovertemplate\": \"Geography=Alberta<br>Time=2020Q1<br>DelinquencyRate=%{x}<br>AverageMortgageAmount=%{y}<br>PopulationSize=%{marker.size}<extra></extra>\", \"ids\": [\"Alberta\"], \"legendgroup\": \"Alberta\", \"marker\": {\"color\": \"#FF97FF\", \"size\": [4402045], \"sizemode\": \"area\", \"sizeref\": 36835.035, \"symbol\": \"circle\"}, \"mode\": \"markers\", \"name\": \"Alberta\", \"orientation\": \"v\", \"showlegend\": true, \"x\": [0.52], \"xaxis\": \"x\", \"y\": [291747], \"yaxis\": \"y\", \"type\": \"scatter\"}, {\"hovertemplate\": \"Geography=British Columbia<br>Time=2020Q1<br>DelinquencyRate=%{x}<br>AverageMortgageAmount=%{y}<br>PopulationSize=%{marker.size}<extra></extra>\", \"ids\": [\"British Columbia\"], \"legendgroup\": \"British Columbia\", \"marker\": {\"color\": \"#FECB52\", \"size\": [5131575], \"sizemode\": \"area\", \"sizeref\": 36835.035, \"symbol\": \"circle\"}, \"mode\": \"markers\", \"name\": \"British Columbia\", \"orientation\": \"v\", \"showlegend\": true, \"x\": [0.17], \"xaxis\": \"x\", \"y\": [393711], \"yaxis\": \"y\", \"type\": \"scatter\"}], \"name\": \"2020Q1\"}, {\"data\": [{\"hovertemplate\": \"Geography=Newfoundland<br>Time=2020Q2<br>DelinquencyRate=%{x}<br>AverageMortgageAmount=%{y}<br>PopulationSize=%{marker.size}<extra></extra>\", \"ids\": [\"Newfoundland\"], \"legendgroup\": \"Newfoundland\", \"marker\": {\"color\": \"#636efa\", \"size\": [522994], \"sizemode\": \"area\", \"sizeref\": 36835.035, \"symbol\": \"circle\"}, \"mode\": \"markers\", \"name\": \"Newfoundland\", \"orientation\": \"v\", \"showlegend\": true, \"x\": [0.68], \"xaxis\": \"x\", \"y\": [187431], \"yaxis\": \"y\", \"type\": \"scatter\"}, {\"hovertemplate\": \"Geography=Prince Edward Island<br>Time=2020Q2<br>DelinquencyRate=%{x}<br>AverageMortgageAmount=%{y}<br>PopulationSize=%{marker.size}<extra></extra>\", \"ids\": [\"Prince Edward Island\"], \"legendgroup\": \"Prince Edward Island\", \"marker\": {\"color\": \"#EF553B\", \"size\": [159249], \"sizemode\": \"area\", \"sizeref\": 36835.035, \"symbol\": \"circle\"}, \"mode\": \"markers\", \"name\": \"Prince Edward Island\", \"orientation\": \"v\", \"showlegend\": true, \"x\": [0.26], \"xaxis\": \"x\", \"y\": [189309], \"yaxis\": \"y\", \"type\": \"scatter\"}, {\"hovertemplate\": \"Geography=Nova Scotia<br>Time=2020Q2<br>DelinquencyRate=%{x}<br>AverageMortgageAmount=%{y}<br>PopulationSize=%{marker.size}<extra></extra>\", \"ids\": [\"Nova Scotia\"], \"legendgroup\": \"Nova Scotia\", \"marker\": {\"color\": \"#00cc96\", \"size\": [977043], \"sizemode\": \"area\", \"sizeref\": 36835.035, \"symbol\": \"circle\"}, \"mode\": \"markers\", \"name\": \"Nova Scotia\", \"orientation\": \"v\", \"showlegend\": true, \"x\": [0.47], \"xaxis\": \"x\", \"y\": [192060], \"yaxis\": \"y\", \"type\": \"scatter\"}, {\"hovertemplate\": \"Geography=New Brunswick<br>Time=2020Q2<br>DelinquencyRate=%{x}<br>AverageMortgageAmount=%{y}<br>PopulationSize=%{marker.size}<extra></extra>\", \"ids\": [\"New Brunswick\"], \"legendgroup\": \"New Brunswick\", \"marker\": {\"color\": \"#ab63fa\", \"size\": [781024], \"sizemode\": \"area\", \"sizeref\": 36835.035, \"symbol\": \"circle\"}, \"mode\": \"markers\", \"name\": \"New Brunswick\", \"orientation\": \"v\", \"showlegend\": true, \"x\": [0.54], \"xaxis\": \"x\", \"y\": [149590], \"yaxis\": \"y\", \"type\": \"scatter\"}, {\"hovertemplate\": \"Geography=Qu\\u00e9bec<br>Time=2020Q2<br>DelinquencyRate=%{x}<br>AverageMortgageAmount=%{y}<br>PopulationSize=%{marker.size}<extra></extra>\", \"ids\": [\"Qu\\u00e9bec\"], \"legendgroup\": \"Qu\\u00e9bec\", \"marker\": {\"color\": \"#FFA15A\", \"size\": [8572054], \"sizemode\": \"area\", \"sizeref\": 36835.035, \"symbol\": \"circle\"}, \"mode\": \"markers\", \"name\": \"Qu\\u00e9bec\", \"orientation\": \"v\", \"showlegend\": true, \"x\": [0.34], \"xaxis\": \"x\", \"y\": [195538], \"yaxis\": \"y\", \"type\": \"scatter\"}, {\"hovertemplate\": \"Geography=Ontario<br>Time=2020Q2<br>DelinquencyRate=%{x}<br>AverageMortgageAmount=%{y}<br>PopulationSize=%{marker.size}<extra></extra>\", \"ids\": [\"Ontario\"], \"legendgroup\": \"Ontario\", \"marker\": {\"color\": \"#19d3f3\", \"size\": [14723497], \"sizemode\": \"area\", \"sizeref\": 36835.035, \"symbol\": \"circle\"}, \"mode\": \"markers\", \"name\": \"Ontario\", \"orientation\": \"v\", \"showlegend\": true, \"x\": [0.14], \"xaxis\": \"x\", \"y\": [363432], \"yaxis\": \"y\", \"type\": \"scatter\"}, {\"hovertemplate\": \"Geography=Manitoba<br>Time=2020Q2<br>DelinquencyRate=%{x}<br>AverageMortgageAmount=%{y}<br>PopulationSize=%{marker.size}<extra></extra>\", \"ids\": [\"Manitoba\"], \"legendgroup\": \"Manitoba\", \"marker\": {\"color\": \"#FF6692\", \"size\": [1378818], \"sizemode\": \"area\", \"sizeref\": 36835.035, \"symbol\": \"circle\"}, \"mode\": \"markers\", \"name\": \"Manitoba\", \"orientation\": \"v\", \"showlegend\": true, \"x\": [0.38], \"xaxis\": \"x\", \"y\": [217416], \"yaxis\": \"y\", \"type\": \"scatter\"}, {\"hovertemplate\": \"Geography=Saskatchewan<br>Time=2020Q2<br>DelinquencyRate=%{x}<br>AverageMortgageAmount=%{y}<br>PopulationSize=%{marker.size}<extra></extra>\", \"ids\": [\"Saskatchewan\"], \"legendgroup\": \"Saskatchewan\", \"marker\": {\"color\": \"#B6E880\", \"size\": [1179618], \"sizemode\": \"area\", \"sizeref\": 36835.035, \"symbol\": \"circle\"}, \"mode\": \"markers\", \"name\": \"Saskatchewan\", \"orientation\": \"v\", \"showlegend\": true, \"x\": [0.76], \"xaxis\": \"x\", \"y\": [225641], \"yaxis\": \"y\", \"type\": \"scatter\"}, {\"hovertemplate\": \"Geography=Alberta<br>Time=2020Q2<br>DelinquencyRate=%{x}<br>AverageMortgageAmount=%{y}<br>PopulationSize=%{marker.size}<extra></extra>\", \"ids\": [\"Alberta\"], \"legendgroup\": \"Alberta\", \"marker\": {\"color\": \"#FF97FF\", \"size\": [4417006], \"sizemode\": \"area\", \"sizeref\": 36835.035, \"symbol\": \"circle\"}, \"mode\": \"markers\", \"name\": \"Alberta\", \"orientation\": \"v\", \"showlegend\": true, \"x\": [0.52], \"xaxis\": \"x\", \"y\": [296269], \"yaxis\": \"y\", \"type\": \"scatter\"}, {\"hovertemplate\": \"Geography=British Columbia<br>Time=2020Q2<br>DelinquencyRate=%{x}<br>AverageMortgageAmount=%{y}<br>PopulationSize=%{marker.size}<extra></extra>\", \"ids\": [\"British Columbia\"], \"legendgroup\": \"British Columbia\", \"marker\": {\"color\": \"#FECB52\", \"size\": [5142404], \"sizemode\": \"area\", \"sizeref\": 36835.035, \"symbol\": \"circle\"}, \"mode\": \"markers\", \"name\": \"British Columbia\", \"orientation\": \"v\", \"showlegend\": true, \"x\": [0.19], \"xaxis\": \"x\", \"y\": [397853], \"yaxis\": \"y\", \"type\": \"scatter\"}], \"name\": \"2020Q2\"}, {\"data\": [{\"hovertemplate\": \"Geography=Newfoundland<br>Time=2020Q3<br>DelinquencyRate=%{x}<br>AverageMortgageAmount=%{y}<br>PopulationSize=%{marker.size}<extra></extra>\", \"ids\": [\"Newfoundland\"], \"legendgroup\": \"Newfoundland\", \"marker\": {\"color\": \"#636efa\", \"size\": [522103], \"sizemode\": \"area\", \"sizeref\": 36835.035, \"symbol\": \"circle\"}, \"mode\": \"markers\", \"name\": \"Newfoundland\", \"orientation\": \"v\", \"showlegend\": true, \"x\": [0.64], \"xaxis\": \"x\", \"y\": [196100], \"yaxis\": \"y\", \"type\": \"scatter\"}, {\"hovertemplate\": \"Geography=Prince Edward Island<br>Time=2020Q3<br>DelinquencyRate=%{x}<br>AverageMortgageAmount=%{y}<br>PopulationSize=%{marker.size}<extra></extra>\", \"ids\": [\"Prince Edward Island\"], \"legendgroup\": \"Prince Edward Island\", \"marker\": {\"color\": \"#EF553B\", \"size\": [159625], \"sizemode\": \"area\", \"sizeref\": 36835.035, \"symbol\": \"circle\"}, \"mode\": \"markers\", \"name\": \"Prince Edward Island\", \"orientation\": \"v\", \"showlegend\": true, \"x\": [0.27], \"xaxis\": \"x\", \"y\": [204415], \"yaxis\": \"y\", \"type\": \"scatter\"}, {\"hovertemplate\": \"Geography=Nova Scotia<br>Time=2020Q3<br>DelinquencyRate=%{x}<br>AverageMortgageAmount=%{y}<br>PopulationSize=%{marker.size}<extra></extra>\", \"ids\": [\"Nova Scotia\"], \"legendgroup\": \"Nova Scotia\", \"marker\": {\"color\": \"#00cc96\", \"size\": [979351], \"sizemode\": \"area\", \"sizeref\": 36835.035, \"symbol\": \"circle\"}, \"mode\": \"markers\", \"name\": \"Nova Scotia\", \"orientation\": \"v\", \"showlegend\": true, \"x\": [0.45], \"xaxis\": \"x\", \"y\": [207877], \"yaxis\": \"y\", \"type\": \"scatter\"}, {\"hovertemplate\": \"Geography=New Brunswick<br>Time=2020Q3<br>DelinquencyRate=%{x}<br>AverageMortgageAmount=%{y}<br>PopulationSize=%{marker.size}<extra></extra>\", \"ids\": [\"New Brunswick\"], \"legendgroup\": \"New Brunswick\", \"marker\": {\"color\": \"#ab63fa\", \"size\": [781476], \"sizemode\": \"area\", \"sizeref\": 36835.035, \"symbol\": \"circle\"}, \"mode\": \"markers\", \"name\": \"New Brunswick\", \"orientation\": \"v\", \"showlegend\": true, \"x\": [0.52], \"xaxis\": \"x\", \"y\": [160349], \"yaxis\": \"y\", \"type\": \"scatter\"}, {\"hovertemplate\": \"Geography=Qu\\u00e9bec<br>Time=2020Q3<br>DelinquencyRate=%{x}<br>AverageMortgageAmount=%{y}<br>PopulationSize=%{marker.size}<extra></extra>\", \"ids\": [\"Qu\\u00e9bec\"], \"legendgroup\": \"Qu\\u00e9bec\", \"marker\": {\"color\": \"#FFA15A\", \"size\": [8574571], \"sizemode\": \"area\", \"sizeref\": 36835.035, \"symbol\": \"circle\"}, \"mode\": \"markers\", \"name\": \"Qu\\u00e9bec\", \"orientation\": \"v\", \"showlegend\": true, \"x\": [0.36], \"xaxis\": \"x\", \"y\": [203861], \"yaxis\": \"y\", \"type\": \"scatter\"}, {\"hovertemplate\": \"Geography=Ontario<br>Time=2020Q3<br>DelinquencyRate=%{x}<br>AverageMortgageAmount=%{y}<br>PopulationSize=%{marker.size}<extra></extra>\", \"ids\": [\"Ontario\"], \"legendgroup\": \"Ontario\", \"marker\": {\"color\": \"#19d3f3\", \"size\": [14734014], \"sizemode\": \"area\", \"sizeref\": 36835.035, \"symbol\": \"circle\"}, \"mode\": \"markers\", \"name\": \"Ontario\", \"orientation\": \"v\", \"showlegend\": true, \"x\": [0.14], \"xaxis\": \"x\", \"y\": [373371], \"yaxis\": \"y\", \"type\": \"scatter\"}, {\"hovertemplate\": \"Geography=Manitoba<br>Time=2020Q3<br>DelinquencyRate=%{x}<br>AverageMortgageAmount=%{y}<br>PopulationSize=%{marker.size}<extra></extra>\", \"ids\": [\"Manitoba\"], \"legendgroup\": \"Manitoba\", \"marker\": {\"color\": \"#FF6692\", \"size\": [1379263], \"sizemode\": \"area\", \"sizeref\": 36835.035, \"symbol\": \"circle\"}, \"mode\": \"markers\", \"name\": \"Manitoba\", \"orientation\": \"v\", \"showlegend\": true, \"x\": [0.35], \"xaxis\": \"x\", \"y\": [232725], \"yaxis\": \"y\", \"type\": \"scatter\"}, {\"hovertemplate\": \"Geography=Saskatchewan<br>Time=2020Q3<br>DelinquencyRate=%{x}<br>AverageMortgageAmount=%{y}<br>PopulationSize=%{marker.size}<extra></extra>\", \"ids\": [\"Saskatchewan\"], \"legendgroup\": \"Saskatchewan\", \"marker\": {\"color\": \"#B6E880\", \"size\": [1178681], \"sizemode\": \"area\", \"sizeref\": 36835.035, \"symbol\": \"circle\"}, \"mode\": \"markers\", \"name\": \"Saskatchewan\", \"orientation\": \"v\", \"showlegend\": true, \"x\": [0.72], \"xaxis\": \"x\", \"y\": [237386], \"yaxis\": \"y\", \"type\": \"scatter\"}, {\"hovertemplate\": \"Geography=Alberta<br>Time=2020Q3<br>DelinquencyRate=%{x}<br>AverageMortgageAmount=%{y}<br>PopulationSize=%{marker.size}<extra></extra>\", \"ids\": [\"Alberta\"], \"legendgroup\": \"Alberta\", \"marker\": {\"color\": \"#FF97FF\", \"size\": [4421876], \"sizemode\": \"area\", \"sizeref\": 36835.035, \"symbol\": \"circle\"}, \"mode\": \"markers\", \"name\": \"Alberta\", \"orientation\": \"v\", \"showlegend\": true, \"x\": [0.5], \"xaxis\": \"x\", \"y\": [305600], \"yaxis\": \"y\", \"type\": \"scatter\"}, {\"hovertemplate\": \"Geography=British Columbia<br>Time=2020Q3<br>DelinquencyRate=%{x}<br>AverageMortgageAmount=%{y}<br>PopulationSize=%{marker.size}<extra></extra>\", \"ids\": [\"British Columbia\"], \"legendgroup\": \"British Columbia\", \"marker\": {\"color\": \"#FECB52\", \"size\": [5147712], \"sizemode\": \"area\", \"sizeref\": 36835.035, \"symbol\": \"circle\"}, \"mode\": \"markers\", \"name\": \"British Columbia\", \"orientation\": \"v\", \"showlegend\": true, \"x\": [0.19], \"xaxis\": \"x\", \"y\": [417004], \"yaxis\": \"y\", \"type\": \"scatter\"}], \"name\": \"2020Q3\"}]);\n",
       "                        }).then(function(){\n",
       "                            \n",
       "var gd = document.getElementById('6282dd44-b516-49ca-9234-3c11e7c12892');\n",
       "var x = new MutationObserver(function (mutations, observer) {{\n",
       "        var display = window.getComputedStyle(gd).display;\n",
       "        if (!display || display === 'none') {{\n",
       "            console.log([gd, 'removed!']);\n",
       "            Plotly.purge(gd);\n",
       "            observer.disconnect();\n",
       "        }}\n",
       "}});\n",
       "\n",
       "// Listen for the removal of the full notebook cells\n",
       "var notebookContainer = gd.closest('#notebook-container');\n",
       "if (notebookContainer) {{\n",
       "    x.observe(notebookContainer, {childList: true});\n",
       "}}\n",
       "\n",
       "// Listen for the clearing of the current output cell\n",
       "var outputEl = gd.closest('.output');\n",
       "if (outputEl) {{\n",
       "    x.observe(outputEl, {childList: true});\n",
       "}}\n",
       "\n",
       "                        })                };                });            </script>        </div>"
      ]
     },
     "metadata": {},
     "output_type": "display_data"
    }
   ],
   "source": [
    "region = data_pop_del_mort_df[data_pop_del_mort_df[\"Geography\"]==\"British Columbia\"]\n",
    "fig = px.scatter(data_frame=data_pop_del_mort_df,\n",
    "          y = \"AverageMortgageAmount\",\n",
    "          x = \"DelinquencyRate\",\n",
    "          size= \"PopulationSize\",\n",
    "          color= \"Geography\",\n",
    "          animation_frame=\"Time\",\n",
    "           animation_group=\"Geography\",\n",
    "           title = \"Delinquency rate vs average mortgage over time\"\n",
    "          )\n",
    "fig.update_layout(yaxis_range=[100000,500000])\n",
    "fig.update_layout(xaxis_range=[0,1])\n",
    "fig.show()"
   ]
  },
  {
   "cell_type": "code",
   "execution_count": 51,
   "metadata": {},
   "outputs": [
    {
     "data": {
      "application/vnd.plotly.v1+json": {
       "config": {
        "plotlyServerURL": "https://plot.ly"
       },
       "data": [
        {
         "hovertemplate": "<b>%{hovertext}</b><br><br>Geography=Newfoundland<br>DelinquencyRate=%{x}<br>AverageMortgageAmount=%{y}<br>PopulationSize=%{marker.size}<extra></extra>",
         "hovertext": [
          "2012Q3",
          "2012Q4",
          "2013Q1",
          "2013Q2",
          "2013Q3",
          "2013Q4",
          "2014Q1",
          "2014Q2",
          "2014Q3",
          "2014Q4",
          "2015Q1",
          "2015Q2",
          "2015Q3",
          "2015Q4",
          "2016Q1",
          "2016Q2",
          "2016Q3",
          "2016Q4",
          "2017Q1",
          "2017Q2",
          "2017Q3",
          "2017Q4",
          "2018Q1",
          "2018Q2",
          "2018Q3",
          "2018Q4",
          "2019Q1",
          "2019Q2",
          "2019Q3",
          "2019Q4",
          "2020Q1",
          "2020Q2",
          "2020Q3"
         ],
         "legendgroup": "Newfoundland",
         "marker": {
          "color": "#636efa",
          "size": [
           526345,
           527180,
           527248,
           527313,
           527114,
           528117,
           528242,
           527498,
           528159,
           528461,
           528361,
           528063,
           528117,
           528696,
           528800,
           529063,
           529426,
           529900,
           529347,
           528544,
           528249,
           528288,
           527544,
           526395,
           525560,
           525765,
           524883,
           524126,
           523476,
           524137,
           523631,
           522994,
           522103
          ],
          "sizemode": "area",
          "sizeref": 36835.035,
          "symbol": "circle"
         },
         "mode": "markers",
         "name": "Newfoundland",
         "orientation": "v",
         "showlegend": true,
         "type": "scatter",
         "x": [
          0.24,
          0.22,
          0.25,
          0.19,
          0.2,
          0.22,
          0.23,
          0.25,
          0.26,
          0.28,
          0.37,
          0.37,
          0.37,
          0.41,
          0.45,
          0.46,
          0.49,
          0.46,
          0.47,
          0.47,
          0.46,
          0.52,
          0.56,
          0.6,
          0.6,
          0.62,
          0.64,
          0.65,
          0.65,
          0.65,
          0.67,
          0.68,
          0.64
         ],
         "xaxis": "x",
         "y": [
          188732,
          185794,
          189098,
          181331,
          191818,
          193100,
          195479,
          192856,
          199560,
          200310,
          197406,
          193956,
          199758,
          202487,
          196798,
          196806,
          198265,
          197794,
          192057,
          191412,
          200378,
          193619,
          196431,
          192252,
          192106,
          188614,
          185276,
          190582,
          194536,
          193870,
          186268,
          187431,
          196100
         ],
         "yaxis": "y"
        },
        {
         "hovertemplate": "<b>%{hovertext}</b><br><br>Geography=Prince Edward Island<br>DelinquencyRate=%{x}<br>AverageMortgageAmount=%{y}<br>PopulationSize=%{marker.size}<extra></extra>",
         "hovertext": [
          "2012Q3",
          "2012Q4",
          "2013Q1",
          "2013Q2",
          "2013Q3",
          "2013Q4",
          "2014Q1",
          "2014Q2",
          "2014Q3",
          "2014Q4",
          "2015Q1",
          "2015Q2",
          "2015Q3",
          "2015Q4",
          "2016Q1",
          "2016Q2",
          "2016Q3",
          "2016Q4",
          "2017Q1",
          "2017Q2",
          "2017Q3",
          "2017Q4",
          "2018Q1",
          "2018Q2",
          "2018Q3",
          "2018Q4",
          "2019Q1",
          "2019Q2",
          "2019Q3",
          "2019Q4",
          "2020Q1",
          "2020Q2",
          "2020Q3"
         ],
         "legendgroup": "Prince Edward Island",
         "marker": {
          "color": "#EF553B",
          "size": [
           144530,
           144520,
           144175,
           143948,
           144094,
           144103,
           143996,
           143984,
           144283,
           144538,
           144368,
           144259,
           144546,
           144894,
           145202,
           145784,
           146969,
           147936,
           148181,
           148860,
           150402,
           151376,
           151516,
           152039,
           153396,
           155129,
           155244,
           155833,
           157262,
           158334,
           158629,
           159249,
           159625
          ],
          "sizemode": "area",
          "sizeref": 36835.035,
          "symbol": "circle"
         },
         "mode": "markers",
         "name": "Prince Edward Island",
         "orientation": "v",
         "showlegend": true,
         "type": "scatter",
         "x": [
          0.57,
          0.5,
          0.55,
          0.47,
          0.56,
          0.58,
          0.6,
          0.6,
          0.56,
          0.57,
          0.68,
          0.62,
          0.63,
          0.67,
          0.7,
          0.7,
          0.67,
          0.6,
          0.66,
          0.55,
          0.54,
          0.44,
          0.5,
          0.45,
          0.43,
          0.39,
          0.39,
          0.38,
          0.34,
          0.32,
          0.25,
          0.26,
          0.27
         ],
         "xaxis": "x",
         "y": [
          140279,
          138415,
          137162,
          126763,
          139506,
          141453,
          141141,
          137427,
          143320,
          141232,
          146885,
          146818,
          150403,
          155926,
          157322,
          150732,
          169651,
          155799,
          175124,
          174901,
          176919,
          175523,
          179179,
          182114,
          181967,
          178140,
          181172,
          181358,
          190715,
          185934,
          193439,
          189309,
          204415
         ],
         "yaxis": "y"
        },
        {
         "hovertemplate": "<b>%{hovertext}</b><br><br>Geography=Nova Scotia<br>DelinquencyRate=%{x}<br>AverageMortgageAmount=%{y}<br>PopulationSize=%{marker.size}<extra></extra>",
         "hovertext": [
          "2012Q3",
          "2012Q4",
          "2013Q1",
          "2013Q2",
          "2013Q3",
          "2013Q4",
          "2014Q1",
          "2014Q2",
          "2014Q3",
          "2014Q4",
          "2015Q1",
          "2015Q2",
          "2015Q3",
          "2015Q4",
          "2016Q1",
          "2016Q2",
          "2016Q3",
          "2016Q4",
          "2017Q1",
          "2017Q2",
          "2017Q3",
          "2017Q4",
          "2018Q1",
          "2018Q2",
          "2018Q3",
          "2018Q4",
          "2019Q1",
          "2019Q2",
          "2019Q3",
          "2019Q4",
          "2020Q1",
          "2020Q2",
          "2020Q3"
         ],
         "legendgroup": "Nova Scotia",
         "marker": {
          "color": "#00cc96",
          "size": [
           943635,
           943341,
           942598,
           941230,
           940434,
           940105,
           939867,
           938913,
           938545,
           938972,
           938296,
           936271,
           936525,
           938320,
           938690,
           940382,
           942790,
           946030,
           945943,
           947384,
           950108,
           953683,
           953838,
           954618,
           958406,
           963309,
           963890,
           965287,
           969747,
           975231,
           975898,
           977043,
           979351
          ],
          "sizemode": "area",
          "sizeref": 36835.035,
          "symbol": "circle"
         },
         "mode": "markers",
         "name": "Nova Scotia",
         "orientation": "v",
         "showlegend": true,
         "type": "scatter",
         "x": [
          0.53,
          0.53,
          0.55,
          0.56,
          0.58,
          0.62,
          0.65,
          0.65,
          0.67,
          0.68,
          0.7,
          0.67,
          0.66,
          0.68,
          0.7,
          0.72,
          0.76,
          0.75,
          0.7,
          0.64,
          0.6,
          0.58,
          0.59,
          0.54,
          0.52,
          0.56,
          0.54,
          0.52,
          0.5,
          0.5,
          0.46,
          0.47,
          0.45
         ],
         "xaxis": "x",
         "y": [
          174688,
          160046,
          158806,
          159945,
          166426,
          160189,
          161383,
          157664,
          172827,
          163584,
          163607,
          165288,
          178091,
          172863,
          167596,
          168948,
          178784,
          173305,
          186024,
          182526,
          194802,
          188559,
          185858,
          179407,
          190443,
          179921,
          177863,
          180958,
          193586,
          190168,
          188267,
          192060,
          207877
         ],
         "yaxis": "y"
        },
        {
         "hovertemplate": "<b>%{hovertext}</b><br><br>Geography=New Brunswick<br>DelinquencyRate=%{x}<br>AverageMortgageAmount=%{y}<br>PopulationSize=%{marker.size}<extra></extra>",
         "hovertext": [
          "2012Q3",
          "2012Q4",
          "2013Q1",
          "2013Q2",
          "2013Q3",
          "2013Q4",
          "2014Q1",
          "2014Q2",
          "2014Q3",
          "2014Q4",
          "2015Q1",
          "2015Q2",
          "2015Q3",
          "2015Q4",
          "2016Q1",
          "2016Q2",
          "2016Q3",
          "2016Q4",
          "2017Q1",
          "2017Q2",
          "2017Q3",
          "2017Q4",
          "2018Q1",
          "2018Q2",
          "2018Q3",
          "2018Q4",
          "2019Q1",
          "2019Q2",
          "2019Q3",
          "2019Q4",
          "2020Q1",
          "2020Q2",
          "2020Q3"
         ],
         "legendgroup": "New Brunswick",
         "marker": {
          "color": "#ab63fa",
          "size": [
           758378,
           758673,
           758298,
           758132,
           758544,
           758670,
           759018,
           758876,
           758976,
           759524,
           759617,
           758948,
           758842,
           759778,
           760580,
           762289,
           763350,
           764844,
           764617,
           764813,
           766621,
           767935,
           768005,
           768522,
           770301,
           772524,
           772748,
           773805,
           776868,
           780154,
           780040,
           781024,
           781476
          ],
          "sizemode": "area",
          "sizeref": 36835.035,
          "symbol": "circle"
         },
         "mode": "markers",
         "name": "New Brunswick",
         "orientation": "v",
         "showlegend": true,
         "type": "scatter",
         "x": [
          0.63,
          0.63,
          0.65,
          0.6,
          0.61,
          0.68,
          0.72,
          0.67,
          0.72,
          0.72,
          0.79,
          0.8,
          0.81,
          0.79,
          0.82,
          0.78,
          0.84,
          0.79,
          0.78,
          0.73,
          0.71,
          0.66,
          0.65,
          0.59,
          0.58,
          0.62,
          0.63,
          0.6,
          0.57,
          0.57,
          0.57,
          0.54,
          0.52
         ],
         "xaxis": "x",
         "y": [
          133390,
          126138,
          124645,
          122572,
          131542,
          128155,
          127766,
          124221,
          135592,
          132766,
          132025,
          128378,
          137565,
          137039,
          132325,
          133027,
          143533,
          140124,
          141196,
          135748,
          147934,
          142799,
          139711,
          139750,
          150353,
          143324,
          140850,
          137809,
          152606,
          147047,
          146701,
          149590,
          160349
         ],
         "yaxis": "y"
        },
        {
         "hovertemplate": "<b>%{hovertext}</b><br><br>Geography=Québec<br>DelinquencyRate=%{x}<br>AverageMortgageAmount=%{y}<br>PopulationSize=%{marker.size}<extra></extra>",
         "hovertext": [
          "2012Q3",
          "2012Q4",
          "2013Q1",
          "2013Q2",
          "2013Q3",
          "2013Q4",
          "2014Q1",
          "2014Q2",
          "2014Q3",
          "2014Q4",
          "2015Q1",
          "2015Q2",
          "2015Q3",
          "2015Q4",
          "2016Q1",
          "2016Q2",
          "2016Q3",
          "2016Q4",
          "2017Q1",
          "2017Q2",
          "2017Q3",
          "2017Q4",
          "2018Q1",
          "2018Q2",
          "2018Q3",
          "2018Q4",
          "2019Q1",
          "2019Q2",
          "2019Q3",
          "2019Q4",
          "2020Q1",
          "2020Q2",
          "2020Q3"
         ],
         "legendgroup": "Québec",
         "marker": {
          "color": "#FFA15A",
          "size": [
           8061101,
           8078388,
           8082771,
           8090916,
           8110880,
           8124660,
           8125478,
           8132425,
           8150183,
           8165447,
           8163132,
           8163063,
           8175272,
           8190014,
           8193624,
           8204085,
           8225950,
           8249692,
           8257450,
           8272894,
           8302063,
           8336460,
           8350601,
           8367551,
           8401738,
           8433888,
           8446906,
           8465271,
           8501703,
           8540429,
           8556650,
           8572054,
           8574571
          ],
          "sizemode": "area",
          "sizeref": 36835.035,
          "symbol": "circle"
         },
         "mode": "markers",
         "name": "Québec",
         "orientation": "v",
         "showlegend": true,
         "type": "scatter",
         "x": [
          0.33,
          0.33,
          0.35,
          0.34,
          0.33,
          0.35,
          0.37,
          0.36,
          0.37,
          0.39,
          0.42,
          0.41,
          0.41,
          0.42,
          0.44,
          0.43,
          0.42,
          0.4,
          0.41,
          0.4,
          0.37,
          0.34,
          0.34,
          0.35,
          0.35,
          0.38,
          0.38,
          0.37,
          0.37,
          0.36,
          0.36,
          0.34,
          0.36
         ],
         "xaxis": "x",
         "y": [
          159661,
          153413,
          153909,
          155016,
          160147,
          155512,
          156424,
          160165,
          166426,
          160073,
          161563,
          164764,
          170403,
          164235,
          167154,
          169326,
          176522,
          170309,
          171992,
          171716,
          177306,
          173182,
          175297,
          183507,
          187727,
          173911,
          175658,
          179523,
          187136,
          183501,
          189390,
          195538,
          203861
         ],
         "yaxis": "y"
        },
        {
         "hovertemplate": "<b>%{hovertext}</b><br><br>Geography=Ontario<br>DelinquencyRate=%{x}<br>AverageMortgageAmount=%{y}<br>PopulationSize=%{marker.size}<extra></extra>",
         "hovertext": [
          "2012Q3",
          "2012Q4",
          "2013Q1",
          "2013Q2",
          "2013Q3",
          "2013Q4",
          "2014Q1",
          "2014Q2",
          "2014Q3",
          "2014Q4",
          "2015Q1",
          "2015Q2",
          "2015Q3",
          "2015Q4",
          "2016Q1",
          "2016Q2",
          "2016Q3",
          "2016Q4",
          "2017Q1",
          "2017Q2",
          "2017Q3",
          "2017Q4",
          "2018Q1",
          "2018Q2",
          "2018Q3",
          "2018Q4",
          "2019Q1",
          "2019Q2",
          "2019Q3",
          "2019Q4",
          "2020Q1",
          "2020Q2",
          "2020Q3"
         ],
         "legendgroup": "Ontario",
         "marker": {
          "color": "#19d3f3",
          "size": [
           13390632,
           13434943,
           13444704,
           13467829,
           13510781,
           13558528,
           13562583,
           13582747,
           13617553,
           13661314,
           13657737,
           13669860,
           13707118,
           13757688,
           13773629,
           13816545,
           13875394,
           13946431,
           13971785,
           14006386,
           14070141,
           14150783,
           14186830,
           14235643,
           14308697,
           14393683,
           14428712,
           14467162,
           14544718,
           14637880,
           14689075,
           14723497,
           14734014
          ],
          "sizemode": "area",
          "sizeref": 36835.035,
          "symbol": "circle"
         },
         "mode": "markers",
         "name": "Ontario",
         "orientation": "v",
         "showlegend": true,
         "type": "scatter",
         "x": [
          0.31,
          0.31,
          0.31,
          0.29,
          0.28,
          0.28,
          0.29,
          0.27,
          0.27,
          0.26,
          0.27,
          0.25,
          0.24,
          0.23,
          0.24,
          0.22,
          0.2,
          0.19,
          0.18,
          0.16,
          0.16,
          0.15,
          0.15,
          0.14,
          0.13,
          0.14,
          0.14,
          0.14,
          0.14,
          0.14,
          0.14,
          0.14,
          0.14
         ],
         "xaxis": "x",
         "y": [
          247455,
          235667,
          233122,
          230770,
          249054,
          244060,
          244077,
          240828,
          262838,
          257244,
          254854,
          259093,
          281259,
          277802,
          278626,
          285024,
          307369,
          310236,
          319009,
          326645,
          338561,
          323821,
          322179,
          315576,
          327367,
          321579,
          321074,
          324080,
          343117,
          343768,
          348272,
          363432,
          373371
         ],
         "yaxis": "y"
        },
        {
         "hovertemplate": "<b>%{hovertext}</b><br><br>Geography=Manitoba<br>DelinquencyRate=%{x}<br>AverageMortgageAmount=%{y}<br>PopulationSize=%{marker.size}<extra></extra>",
         "hovertext": [
          "2012Q3",
          "2012Q4",
          "2013Q1",
          "2013Q2",
          "2013Q3",
          "2013Q4",
          "2014Q1",
          "2014Q2",
          "2014Q3",
          "2014Q4",
          "2015Q1",
          "2015Q2",
          "2015Q3",
          "2015Q4",
          "2016Q1",
          "2016Q2",
          "2016Q3",
          "2016Q4",
          "2017Q1",
          "2017Q2",
          "2017Q3",
          "2017Q4",
          "2018Q1",
          "2018Q2",
          "2018Q3",
          "2018Q4",
          "2019Q1",
          "2019Q2",
          "2019Q3",
          "2019Q4",
          "2020Q1",
          "2020Q2",
          "2020Q3"
         ],
         "legendgroup": "Manitoba",
         "marker": {
          "color": "#FF6692",
          "size": [
           1249975,
           1254178,
           1257940,
           1260834,
           1264620,
           1268428,
           1271562,
           1274407,
           1279014,
           1283366,
           1286453,
           1288094,
           1292227,
           1297329,
           1302544,
           1307689,
           1314139,
           1319911,
           1324129,
           1328412,
           1334790,
           1340565,
           1344418,
           1347055,
           1352825,
           1357879,
           1361632,
           1364223,
           1369540,
           1373574,
           1377004,
           1378818,
           1379263
          ],
          "sizemode": "area",
          "sizeref": 36835.035,
          "symbol": "circle"
         },
         "mode": "markers",
         "name": "Manitoba",
         "orientation": "v",
         "showlegend": true,
         "type": "scatter",
         "x": [
          0.25,
          0.27,
          0.28,
          0.26,
          0.28,
          0.28,
          0.28,
          0.25,
          0.24,
          0.27,
          0.31,
          0.3,
          0.29,
          0.33,
          0.34,
          0.35,
          0.34,
          0.35,
          0.36,
          0.35,
          0.33,
          0.3,
          0.3,
          0.31,
          0.32,
          0.35,
          0.35,
          0.35,
          0.34,
          0.36,
          0.37,
          0.38,
          0.35
         ],
         "xaxis": "x",
         "y": [
          188298,
          181097,
          177560,
          177517,
          192732,
          189570,
          188107,
          184554,
          200051,
          197527,
          191444,
          190383,
          206275,
          201640,
          193970,
          196385,
          209051,
          206958,
          203999,
          205085,
          216750,
          217136,
          207988,
          207436,
          220454,
          214060,
          206692,
          214873,
          222637,
          218918,
          212508,
          217416,
          232725
         ],
         "yaxis": "y"
        },
        {
         "hovertemplate": "<b>%{hovertext}</b><br><br>Geography=Saskatchewan<br>DelinquencyRate=%{x}<br>AverageMortgageAmount=%{y}<br>PopulationSize=%{marker.size}<extra></extra>",
         "hovertext": [
          "2012Q3",
          "2012Q4",
          "2013Q1",
          "2013Q2",
          "2013Q3",
          "2013Q4",
          "2014Q1",
          "2014Q2",
          "2014Q3",
          "2014Q4",
          "2015Q1",
          "2015Q2",
          "2015Q3",
          "2015Q4",
          "2016Q1",
          "2016Q2",
          "2016Q3",
          "2016Q4",
          "2017Q1",
          "2017Q2",
          "2017Q3",
          "2017Q4",
          "2018Q1",
          "2018Q2",
          "2018Q3",
          "2018Q4",
          "2019Q1",
          "2019Q2",
          "2019Q3",
          "2019Q4",
          "2020Q1",
          "2020Q2",
          "2020Q3"
         ],
         "legendgroup": "Saskatchewan",
         "marker": {
          "color": "#B6E880",
          "size": [
           1083755,
           1088959,
           1091547,
           1094390,
           1099736,
           1103730,
           1106374,
           1109631,
           1112979,
           1116203,
           1118181,
           1118806,
           1120967,
           1124919,
           1127773,
           1131147,
           1135987,
           1140690,
           1143313,
           1146218,
           1150331,
           1154755,
           1156659,
           1158451,
           1161767,
           1165938,
           1168461,
           1169286,
           1172302,
           1176272,
           1179154,
           1179618,
           1178681
          ],
          "sizemode": "area",
          "sizeref": 36835.035,
          "symbol": "circle"
         },
         "mode": "markers",
         "name": "Saskatchewan",
         "orientation": "v",
         "showlegend": true,
         "type": "scatter",
         "x": [
          0.37,
          0.37,
          0.36,
          0.34,
          0.3,
          0.32,
          0.35,
          0.31,
          0.32,
          0.36,
          0.41,
          0.43,
          0.45,
          0.49,
          0.54,
          0.57,
          0.61,
          0.62,
          0.62,
          0.66,
          0.65,
          0.66,
          0.66,
          0.67,
          0.7,
          0.72,
          0.74,
          0.75,
          0.73,
          0.73,
          0.75,
          0.76,
          0.72
         ],
         "xaxis": "x",
         "y": [
          217945,
          213126,
          206354,
          211979,
          224868,
          225414,
          226559,
          218781,
          231768,
          233854,
          228569,
          226957,
          234840,
          231611,
          225641,
          230729,
          236380,
          232174,
          234786,
          233545,
          238533,
          234340,
          230702,
          229851,
          233255,
          223628,
          217157,
          216369,
          228721,
          224315,
          216188,
          225641,
          237386
         ],
         "yaxis": "y"
        },
        {
         "hovertemplate": "<b>%{hovertext}</b><br><br>Geography=Alberta<br>DelinquencyRate=%{x}<br>AverageMortgageAmount=%{y}<br>PopulationSize=%{marker.size}<extra></extra>",
         "hovertext": [
          "2012Q3",
          "2012Q4",
          "2013Q1",
          "2013Q2",
          "2013Q3",
          "2013Q4",
          "2014Q1",
          "2014Q2",
          "2014Q3",
          "2014Q4",
          "2015Q1",
          "2015Q2",
          "2015Q3",
          "2015Q4",
          "2016Q1",
          "2016Q2",
          "2016Q3",
          "2016Q4",
          "2017Q1",
          "2017Q2",
          "2017Q3",
          "2017Q4",
          "2018Q1",
          "2018Q2",
          "2018Q3",
          "2018Q4",
          "2019Q1",
          "2019Q2",
          "2019Q3",
          "2019Q4",
          "2020Q1",
          "2020Q2",
          "2020Q3"
         ],
         "legendgroup": "Alberta",
         "marker": {
          "color": "#FF97FF",
          "size": [
           3874548,
           3900333,
           3920499,
           3946798,
           3981011,
           4010903,
           4029951,
           4054280,
           4083648,
           4106056,
           4116047,
           4128300,
           4144491,
           4159519,
           4169830,
           4181765,
           4196061,
           4208958,
           4217855,
           4227969,
           4241100,
           4258195,
           4268853,
           4281706,
           4298275,
           4317453,
           4330698,
           4343951,
           4361694,
           4384968,
           4402045,
           4417006,
           4421876
          ],
          "sizemode": "area",
          "sizeref": 36835.035,
          "symbol": "circle"
         },
         "mode": "markers",
         "name": "Alberta",
         "orientation": "v",
         "showlegend": true,
         "type": "scatter",
         "x": [
          0.6,
          0.55,
          0.52,
          0.47,
          0.45,
          0.43,
          0.42,
          0.37,
          0.34,
          0.32,
          0.32,
          0.33,
          0.35,
          0.36,
          0.41,
          0.45,
          0.53,
          0.53,
          0.54,
          0.52,
          0.51,
          0.5,
          0.5,
          0.46,
          0.47,
          0.5,
          0.51,
          0.53,
          0.51,
          0.5,
          0.52,
          0.52,
          0.5
         ],
         "xaxis": "x",
         "y": [
          282371,
          277555,
          277158,
          278516,
          289263,
          284928,
          291926,
          290722,
          304374,
          305558,
          303976,
          299837,
          309953,
          303244,
          296111,
          298884,
          304683,
          302095,
          301254,
          300115,
          307837,
          307662,
          302814,
          302116,
          305101,
          295839,
          291721,
          293612,
          297609,
          297552,
          291747,
          296269,
          305600
         ],
         "yaxis": "y"
        },
        {
         "hovertemplate": "<b>%{hovertext}</b><br><br>Geography=British Columbia<br>DelinquencyRate=%{x}<br>AverageMortgageAmount=%{y}<br>PopulationSize=%{marker.size}<extra></extra>",
         "hovertext": [
          "2012Q3",
          "2012Q4",
          "2013Q1",
          "2013Q2",
          "2013Q3",
          "2013Q4",
          "2014Q1",
          "2014Q2",
          "2014Q3",
          "2014Q4",
          "2015Q1",
          "2015Q2",
          "2015Q3",
          "2015Q4",
          "2016Q1",
          "2016Q2",
          "2016Q3",
          "2016Q4",
          "2017Q1",
          "2017Q2",
          "2017Q3",
          "2017Q4",
          "2018Q1",
          "2018Q2",
          "2018Q3",
          "2018Q4",
          "2019Q1",
          "2019Q2",
          "2019Q3",
          "2019Q4",
          "2020Q1",
          "2020Q2",
          "2020Q3"
         ],
         "legendgroup": "British Columbia",
         "marker": {
          "color": "#FECB52",
          "size": [
           4566769,
           4590545,
           4598255,
           4611648,
           4630077,
           4658875,
           4666788,
           4684490,
           4707103,
           4737725,
           4745468,
           4757759,
           4776388,
           4802955,
           4811465,
           4832155,
           4859250,
           4884002,
           4890848,
           4905210,
           4929384,
           4956550,
           4967421,
           4983183,
           5010476,
           5039661,
           5046576,
           5063527,
           5090955,
           5125659,
           5131575,
           5142404,
           5147712
          ],
          "sizemode": "area",
          "sizeref": 36835.035,
          "symbol": "circle"
         },
         "mode": "markers",
         "name": "British Columbia",
         "orientation": "v",
         "showlegend": true,
         "type": "scatter",
         "x": [
          0.42,
          0.42,
          0.43,
          0.43,
          0.42,
          0.43,
          0.43,
          0.4,
          0.4,
          0.4,
          0.4,
          0.38,
          0.34,
          0.32,
          0.32,
          0.29,
          0.26,
          0.25,
          0.23,
          0.2,
          0.18,
          0.18,
          0.17,
          0.17,
          0.16,
          0.17,
          0.17,
          0.17,
          0.16,
          0.16,
          0.17,
          0.19,
          0.19
         ],
         "xaxis": "x",
         "y": [
          305427,
          289864,
          286652,
          290928,
          303663,
          305256,
          309374,
          305138,
          321625,
          323373,
          325035,
          328540,
          350672,
          357016,
          368782,
          385910,
          395297,
          366703,
          358655,
          369174,
          389430,
          381223,
          384794,
          371860,
          378187,
          364330,
          363239,
          363924,
          376343,
          386494,
          393711,
          397853,
          417004
         ],
         "yaxis": "y"
        }
       ],
       "layout": {
        "legend": {
         "itemsizing": "constant",
         "title": {
          "text": "Geography"
         },
         "tracegroupgap": 0
        },
        "template": {
         "data": {
          "bar": [
           {
            "error_x": {
             "color": "#2a3f5f"
            },
            "error_y": {
             "color": "#2a3f5f"
            },
            "marker": {
             "line": {
              "color": "#E5ECF6",
              "width": 0.5
             }
            },
            "type": "bar"
           }
          ],
          "barpolar": [
           {
            "marker": {
             "line": {
              "color": "#E5ECF6",
              "width": 0.5
             }
            },
            "type": "barpolar"
           }
          ],
          "carpet": [
           {
            "aaxis": {
             "endlinecolor": "#2a3f5f",
             "gridcolor": "white",
             "linecolor": "white",
             "minorgridcolor": "white",
             "startlinecolor": "#2a3f5f"
            },
            "baxis": {
             "endlinecolor": "#2a3f5f",
             "gridcolor": "white",
             "linecolor": "white",
             "minorgridcolor": "white",
             "startlinecolor": "#2a3f5f"
            },
            "type": "carpet"
           }
          ],
          "choropleth": [
           {
            "colorbar": {
             "outlinewidth": 0,
             "ticks": ""
            },
            "type": "choropleth"
           }
          ],
          "contour": [
           {
            "colorbar": {
             "outlinewidth": 0,
             "ticks": ""
            },
            "colorscale": [
             [
              0,
              "#0d0887"
             ],
             [
              0.1111111111111111,
              "#46039f"
             ],
             [
              0.2222222222222222,
              "#7201a8"
             ],
             [
              0.3333333333333333,
              "#9c179e"
             ],
             [
              0.4444444444444444,
              "#bd3786"
             ],
             [
              0.5555555555555556,
              "#d8576b"
             ],
             [
              0.6666666666666666,
              "#ed7953"
             ],
             [
              0.7777777777777778,
              "#fb9f3a"
             ],
             [
              0.8888888888888888,
              "#fdca26"
             ],
             [
              1,
              "#f0f921"
             ]
            ],
            "type": "contour"
           }
          ],
          "contourcarpet": [
           {
            "colorbar": {
             "outlinewidth": 0,
             "ticks": ""
            },
            "type": "contourcarpet"
           }
          ],
          "heatmap": [
           {
            "colorbar": {
             "outlinewidth": 0,
             "ticks": ""
            },
            "colorscale": [
             [
              0,
              "#0d0887"
             ],
             [
              0.1111111111111111,
              "#46039f"
             ],
             [
              0.2222222222222222,
              "#7201a8"
             ],
             [
              0.3333333333333333,
              "#9c179e"
             ],
             [
              0.4444444444444444,
              "#bd3786"
             ],
             [
              0.5555555555555556,
              "#d8576b"
             ],
             [
              0.6666666666666666,
              "#ed7953"
             ],
             [
              0.7777777777777778,
              "#fb9f3a"
             ],
             [
              0.8888888888888888,
              "#fdca26"
             ],
             [
              1,
              "#f0f921"
             ]
            ],
            "type": "heatmap"
           }
          ],
          "heatmapgl": [
           {
            "colorbar": {
             "outlinewidth": 0,
             "ticks": ""
            },
            "colorscale": [
             [
              0,
              "#0d0887"
             ],
             [
              0.1111111111111111,
              "#46039f"
             ],
             [
              0.2222222222222222,
              "#7201a8"
             ],
             [
              0.3333333333333333,
              "#9c179e"
             ],
             [
              0.4444444444444444,
              "#bd3786"
             ],
             [
              0.5555555555555556,
              "#d8576b"
             ],
             [
              0.6666666666666666,
              "#ed7953"
             ],
             [
              0.7777777777777778,
              "#fb9f3a"
             ],
             [
              0.8888888888888888,
              "#fdca26"
             ],
             [
              1,
              "#f0f921"
             ]
            ],
            "type": "heatmapgl"
           }
          ],
          "histogram": [
           {
            "marker": {
             "colorbar": {
              "outlinewidth": 0,
              "ticks": ""
             }
            },
            "type": "histogram"
           }
          ],
          "histogram2d": [
           {
            "colorbar": {
             "outlinewidth": 0,
             "ticks": ""
            },
            "colorscale": [
             [
              0,
              "#0d0887"
             ],
             [
              0.1111111111111111,
              "#46039f"
             ],
             [
              0.2222222222222222,
              "#7201a8"
             ],
             [
              0.3333333333333333,
              "#9c179e"
             ],
             [
              0.4444444444444444,
              "#bd3786"
             ],
             [
              0.5555555555555556,
              "#d8576b"
             ],
             [
              0.6666666666666666,
              "#ed7953"
             ],
             [
              0.7777777777777778,
              "#fb9f3a"
             ],
             [
              0.8888888888888888,
              "#fdca26"
             ],
             [
              1,
              "#f0f921"
             ]
            ],
            "type": "histogram2d"
           }
          ],
          "histogram2dcontour": [
           {
            "colorbar": {
             "outlinewidth": 0,
             "ticks": ""
            },
            "colorscale": [
             [
              0,
              "#0d0887"
             ],
             [
              0.1111111111111111,
              "#46039f"
             ],
             [
              0.2222222222222222,
              "#7201a8"
             ],
             [
              0.3333333333333333,
              "#9c179e"
             ],
             [
              0.4444444444444444,
              "#bd3786"
             ],
             [
              0.5555555555555556,
              "#d8576b"
             ],
             [
              0.6666666666666666,
              "#ed7953"
             ],
             [
              0.7777777777777778,
              "#fb9f3a"
             ],
             [
              0.8888888888888888,
              "#fdca26"
             ],
             [
              1,
              "#f0f921"
             ]
            ],
            "type": "histogram2dcontour"
           }
          ],
          "mesh3d": [
           {
            "colorbar": {
             "outlinewidth": 0,
             "ticks": ""
            },
            "type": "mesh3d"
           }
          ],
          "parcoords": [
           {
            "line": {
             "colorbar": {
              "outlinewidth": 0,
              "ticks": ""
             }
            },
            "type": "parcoords"
           }
          ],
          "pie": [
           {
            "automargin": true,
            "type": "pie"
           }
          ],
          "scatter": [
           {
            "marker": {
             "colorbar": {
              "outlinewidth": 0,
              "ticks": ""
             }
            },
            "type": "scatter"
           }
          ],
          "scatter3d": [
           {
            "line": {
             "colorbar": {
              "outlinewidth": 0,
              "ticks": ""
             }
            },
            "marker": {
             "colorbar": {
              "outlinewidth": 0,
              "ticks": ""
             }
            },
            "type": "scatter3d"
           }
          ],
          "scattercarpet": [
           {
            "marker": {
             "colorbar": {
              "outlinewidth": 0,
              "ticks": ""
             }
            },
            "type": "scattercarpet"
           }
          ],
          "scattergeo": [
           {
            "marker": {
             "colorbar": {
              "outlinewidth": 0,
              "ticks": ""
             }
            },
            "type": "scattergeo"
           }
          ],
          "scattergl": [
           {
            "marker": {
             "colorbar": {
              "outlinewidth": 0,
              "ticks": ""
             }
            },
            "type": "scattergl"
           }
          ],
          "scattermapbox": [
           {
            "marker": {
             "colorbar": {
              "outlinewidth": 0,
              "ticks": ""
             }
            },
            "type": "scattermapbox"
           }
          ],
          "scatterpolar": [
           {
            "marker": {
             "colorbar": {
              "outlinewidth": 0,
              "ticks": ""
             }
            },
            "type": "scatterpolar"
           }
          ],
          "scatterpolargl": [
           {
            "marker": {
             "colorbar": {
              "outlinewidth": 0,
              "ticks": ""
             }
            },
            "type": "scatterpolargl"
           }
          ],
          "scatterternary": [
           {
            "marker": {
             "colorbar": {
              "outlinewidth": 0,
              "ticks": ""
             }
            },
            "type": "scatterternary"
           }
          ],
          "surface": [
           {
            "colorbar": {
             "outlinewidth": 0,
             "ticks": ""
            },
            "colorscale": [
             [
              0,
              "#0d0887"
             ],
             [
              0.1111111111111111,
              "#46039f"
             ],
             [
              0.2222222222222222,
              "#7201a8"
             ],
             [
              0.3333333333333333,
              "#9c179e"
             ],
             [
              0.4444444444444444,
              "#bd3786"
             ],
             [
              0.5555555555555556,
              "#d8576b"
             ],
             [
              0.6666666666666666,
              "#ed7953"
             ],
             [
              0.7777777777777778,
              "#fb9f3a"
             ],
             [
              0.8888888888888888,
              "#fdca26"
             ],
             [
              1,
              "#f0f921"
             ]
            ],
            "type": "surface"
           }
          ],
          "table": [
           {
            "cells": {
             "fill": {
              "color": "#EBF0F8"
             },
             "line": {
              "color": "white"
             }
            },
            "header": {
             "fill": {
              "color": "#C8D4E3"
             },
             "line": {
              "color": "white"
             }
            },
            "type": "table"
           }
          ]
         },
         "layout": {
          "annotationdefaults": {
           "arrowcolor": "#2a3f5f",
           "arrowhead": 0,
           "arrowwidth": 1
          },
          "autotypenumbers": "strict",
          "coloraxis": {
           "colorbar": {
            "outlinewidth": 0,
            "ticks": ""
           }
          },
          "colorscale": {
           "diverging": [
            [
             0,
             "#8e0152"
            ],
            [
             0.1,
             "#c51b7d"
            ],
            [
             0.2,
             "#de77ae"
            ],
            [
             0.3,
             "#f1b6da"
            ],
            [
             0.4,
             "#fde0ef"
            ],
            [
             0.5,
             "#f7f7f7"
            ],
            [
             0.6,
             "#e6f5d0"
            ],
            [
             0.7,
             "#b8e186"
            ],
            [
             0.8,
             "#7fbc41"
            ],
            [
             0.9,
             "#4d9221"
            ],
            [
             1,
             "#276419"
            ]
           ],
           "sequential": [
            [
             0,
             "#0d0887"
            ],
            [
             0.1111111111111111,
             "#46039f"
            ],
            [
             0.2222222222222222,
             "#7201a8"
            ],
            [
             0.3333333333333333,
             "#9c179e"
            ],
            [
             0.4444444444444444,
             "#bd3786"
            ],
            [
             0.5555555555555556,
             "#d8576b"
            ],
            [
             0.6666666666666666,
             "#ed7953"
            ],
            [
             0.7777777777777778,
             "#fb9f3a"
            ],
            [
             0.8888888888888888,
             "#fdca26"
            ],
            [
             1,
             "#f0f921"
            ]
           ],
           "sequentialminus": [
            [
             0,
             "#0d0887"
            ],
            [
             0.1111111111111111,
             "#46039f"
            ],
            [
             0.2222222222222222,
             "#7201a8"
            ],
            [
             0.3333333333333333,
             "#9c179e"
            ],
            [
             0.4444444444444444,
             "#bd3786"
            ],
            [
             0.5555555555555556,
             "#d8576b"
            ],
            [
             0.6666666666666666,
             "#ed7953"
            ],
            [
             0.7777777777777778,
             "#fb9f3a"
            ],
            [
             0.8888888888888888,
             "#fdca26"
            ],
            [
             1,
             "#f0f921"
            ]
           ]
          },
          "colorway": [
           "#636efa",
           "#EF553B",
           "#00cc96",
           "#ab63fa",
           "#FFA15A",
           "#19d3f3",
           "#FF6692",
           "#B6E880",
           "#FF97FF",
           "#FECB52"
          ],
          "font": {
           "color": "#2a3f5f"
          },
          "geo": {
           "bgcolor": "white",
           "lakecolor": "white",
           "landcolor": "#E5ECF6",
           "showlakes": true,
           "showland": true,
           "subunitcolor": "white"
          },
          "hoverlabel": {
           "align": "left"
          },
          "hovermode": "closest",
          "mapbox": {
           "style": "light"
          },
          "paper_bgcolor": "white",
          "plot_bgcolor": "#E5ECF6",
          "polar": {
           "angularaxis": {
            "gridcolor": "white",
            "linecolor": "white",
            "ticks": ""
           },
           "bgcolor": "#E5ECF6",
           "radialaxis": {
            "gridcolor": "white",
            "linecolor": "white",
            "ticks": ""
           }
          },
          "scene": {
           "xaxis": {
            "backgroundcolor": "#E5ECF6",
            "gridcolor": "white",
            "gridwidth": 2,
            "linecolor": "white",
            "showbackground": true,
            "ticks": "",
            "zerolinecolor": "white"
           },
           "yaxis": {
            "backgroundcolor": "#E5ECF6",
            "gridcolor": "white",
            "gridwidth": 2,
            "linecolor": "white",
            "showbackground": true,
            "ticks": "",
            "zerolinecolor": "white"
           },
           "zaxis": {
            "backgroundcolor": "#E5ECF6",
            "gridcolor": "white",
            "gridwidth": 2,
            "linecolor": "white",
            "showbackground": true,
            "ticks": "",
            "zerolinecolor": "white"
           }
          },
          "shapedefaults": {
           "line": {
            "color": "#2a3f5f"
           }
          },
          "ternary": {
           "aaxis": {
            "gridcolor": "white",
            "linecolor": "white",
            "ticks": ""
           },
           "baxis": {
            "gridcolor": "white",
            "linecolor": "white",
            "ticks": ""
           },
           "bgcolor": "#E5ECF6",
           "caxis": {
            "gridcolor": "white",
            "linecolor": "white",
            "ticks": ""
           }
          },
          "title": {
           "x": 0.05
          },
          "xaxis": {
           "automargin": true,
           "gridcolor": "white",
           "linecolor": "white",
           "ticks": "",
           "title": {
            "standoff": 15
           },
           "zerolinecolor": "white",
           "zerolinewidth": 2
          },
          "yaxis": {
           "automargin": true,
           "gridcolor": "white",
           "linecolor": "white",
           "ticks": "",
           "title": {
            "standoff": 15
           },
           "zerolinecolor": "white",
           "zerolinewidth": 2
          }
         }
        },
        "title": {
         "text": "Average mortgage rate to delinquency rate"
        },
        "xaxis": {
         "anchor": "y",
         "domain": [
          0,
          1
         ],
         "title": {
          "text": "DelinquencyRate"
         }
        },
        "yaxis": {
         "anchor": "x",
         "domain": [
          0,
          1
         ],
         "title": {
          "text": "AverageMortgageAmount"
         }
        }
       }
      },
      "text/html": [
       "<div>                            <div id=\"bcedd873-2031-4fc6-bfac-962f32f8e18f\" class=\"plotly-graph-div\" style=\"height:525px; width:100%;\"></div>            <script type=\"text/javascript\">                require([\"plotly\"], function(Plotly) {                    window.PLOTLYENV=window.PLOTLYENV || {};                                    if (document.getElementById(\"bcedd873-2031-4fc6-bfac-962f32f8e18f\")) {                    Plotly.newPlot(                        \"bcedd873-2031-4fc6-bfac-962f32f8e18f\",                        [{\"hovertemplate\": \"<b>%{hovertext}</b><br><br>Geography=Newfoundland<br>DelinquencyRate=%{x}<br>AverageMortgageAmount=%{y}<br>PopulationSize=%{marker.size}<extra></extra>\", \"hovertext\": [\"2012Q3\", \"2012Q4\", \"2013Q1\", \"2013Q2\", \"2013Q3\", \"2013Q4\", \"2014Q1\", \"2014Q2\", \"2014Q3\", \"2014Q4\", \"2015Q1\", \"2015Q2\", \"2015Q3\", \"2015Q4\", \"2016Q1\", \"2016Q2\", \"2016Q3\", \"2016Q4\", \"2017Q1\", \"2017Q2\", \"2017Q3\", \"2017Q4\", \"2018Q1\", \"2018Q2\", \"2018Q3\", \"2018Q4\", \"2019Q1\", \"2019Q2\", \"2019Q3\", \"2019Q4\", \"2020Q1\", \"2020Q2\", \"2020Q3\"], \"legendgroup\": \"Newfoundland\", \"marker\": {\"color\": \"#636efa\", \"size\": [526345, 527180, 527248, 527313, 527114, 528117, 528242, 527498, 528159, 528461, 528361, 528063, 528117, 528696, 528800, 529063, 529426, 529900, 529347, 528544, 528249, 528288, 527544, 526395, 525560, 525765, 524883, 524126, 523476, 524137, 523631, 522994, 522103], \"sizemode\": \"area\", \"sizeref\": 36835.035, \"symbol\": \"circle\"}, \"mode\": \"markers\", \"name\": \"Newfoundland\", \"orientation\": \"v\", \"showlegend\": true, \"type\": \"scatter\", \"x\": [0.24, 0.22, 0.25, 0.19, 0.2, 0.22, 0.23, 0.25, 0.26, 0.28, 0.37, 0.37, 0.37, 0.41, 0.45, 0.46, 0.49, 0.46, 0.47, 0.47, 0.46, 0.52, 0.56, 0.6, 0.6, 0.62, 0.64, 0.65, 0.65, 0.65, 0.67, 0.68, 0.64], \"xaxis\": \"x\", \"y\": [188732, 185794, 189098, 181331, 191818, 193100, 195479, 192856, 199560, 200310, 197406, 193956, 199758, 202487, 196798, 196806, 198265, 197794, 192057, 191412, 200378, 193619, 196431, 192252, 192106, 188614, 185276, 190582, 194536, 193870, 186268, 187431, 196100], \"yaxis\": \"y\"}, {\"hovertemplate\": \"<b>%{hovertext}</b><br><br>Geography=Prince Edward Island<br>DelinquencyRate=%{x}<br>AverageMortgageAmount=%{y}<br>PopulationSize=%{marker.size}<extra></extra>\", \"hovertext\": [\"2012Q3\", \"2012Q4\", \"2013Q1\", \"2013Q2\", \"2013Q3\", \"2013Q4\", \"2014Q1\", \"2014Q2\", \"2014Q3\", \"2014Q4\", \"2015Q1\", \"2015Q2\", \"2015Q3\", \"2015Q4\", \"2016Q1\", \"2016Q2\", \"2016Q3\", \"2016Q4\", \"2017Q1\", \"2017Q2\", \"2017Q3\", \"2017Q4\", \"2018Q1\", \"2018Q2\", \"2018Q3\", \"2018Q4\", \"2019Q1\", \"2019Q2\", \"2019Q3\", \"2019Q4\", \"2020Q1\", \"2020Q2\", \"2020Q3\"], \"legendgroup\": \"Prince Edward Island\", \"marker\": {\"color\": \"#EF553B\", \"size\": [144530, 144520, 144175, 143948, 144094, 144103, 143996, 143984, 144283, 144538, 144368, 144259, 144546, 144894, 145202, 145784, 146969, 147936, 148181, 148860, 150402, 151376, 151516, 152039, 153396, 155129, 155244, 155833, 157262, 158334, 158629, 159249, 159625], \"sizemode\": \"area\", \"sizeref\": 36835.035, \"symbol\": \"circle\"}, \"mode\": \"markers\", \"name\": \"Prince Edward Island\", \"orientation\": \"v\", \"showlegend\": true, \"type\": \"scatter\", \"x\": [0.57, 0.5, 0.55, 0.47, 0.56, 0.58, 0.6, 0.6, 0.56, 0.57, 0.68, 0.62, 0.63, 0.67, 0.7, 0.7, 0.67, 0.6, 0.66, 0.55, 0.54, 0.44, 0.5, 0.45, 0.43, 0.39, 0.39, 0.38, 0.34, 0.32, 0.25, 0.26, 0.27], \"xaxis\": \"x\", \"y\": [140279, 138415, 137162, 126763, 139506, 141453, 141141, 137427, 143320, 141232, 146885, 146818, 150403, 155926, 157322, 150732, 169651, 155799, 175124, 174901, 176919, 175523, 179179, 182114, 181967, 178140, 181172, 181358, 190715, 185934, 193439, 189309, 204415], \"yaxis\": \"y\"}, {\"hovertemplate\": \"<b>%{hovertext}</b><br><br>Geography=Nova Scotia<br>DelinquencyRate=%{x}<br>AverageMortgageAmount=%{y}<br>PopulationSize=%{marker.size}<extra></extra>\", \"hovertext\": [\"2012Q3\", \"2012Q4\", \"2013Q1\", \"2013Q2\", \"2013Q3\", \"2013Q4\", \"2014Q1\", \"2014Q2\", \"2014Q3\", \"2014Q4\", \"2015Q1\", \"2015Q2\", \"2015Q3\", \"2015Q4\", \"2016Q1\", \"2016Q2\", \"2016Q3\", \"2016Q4\", \"2017Q1\", \"2017Q2\", \"2017Q3\", \"2017Q4\", \"2018Q1\", \"2018Q2\", \"2018Q3\", \"2018Q4\", \"2019Q1\", \"2019Q2\", \"2019Q3\", \"2019Q4\", \"2020Q1\", \"2020Q2\", \"2020Q3\"], \"legendgroup\": \"Nova Scotia\", \"marker\": {\"color\": \"#00cc96\", \"size\": [943635, 943341, 942598, 941230, 940434, 940105, 939867, 938913, 938545, 938972, 938296, 936271, 936525, 938320, 938690, 940382, 942790, 946030, 945943, 947384, 950108, 953683, 953838, 954618, 958406, 963309, 963890, 965287, 969747, 975231, 975898, 977043, 979351], \"sizemode\": \"area\", \"sizeref\": 36835.035, \"symbol\": \"circle\"}, \"mode\": \"markers\", \"name\": \"Nova Scotia\", \"orientation\": \"v\", \"showlegend\": true, \"type\": \"scatter\", \"x\": [0.53, 0.53, 0.55, 0.56, 0.58, 0.62, 0.65, 0.65, 0.67, 0.68, 0.7, 0.67, 0.66, 0.68, 0.7, 0.72, 0.76, 0.75, 0.7, 0.64, 0.6, 0.58, 0.59, 0.54, 0.52, 0.56, 0.54, 0.52, 0.5, 0.5, 0.46, 0.47, 0.45], \"xaxis\": \"x\", \"y\": [174688, 160046, 158806, 159945, 166426, 160189, 161383, 157664, 172827, 163584, 163607, 165288, 178091, 172863, 167596, 168948, 178784, 173305, 186024, 182526, 194802, 188559, 185858, 179407, 190443, 179921, 177863, 180958, 193586, 190168, 188267, 192060, 207877], \"yaxis\": \"y\"}, {\"hovertemplate\": \"<b>%{hovertext}</b><br><br>Geography=New Brunswick<br>DelinquencyRate=%{x}<br>AverageMortgageAmount=%{y}<br>PopulationSize=%{marker.size}<extra></extra>\", \"hovertext\": [\"2012Q3\", \"2012Q4\", \"2013Q1\", \"2013Q2\", \"2013Q3\", \"2013Q4\", \"2014Q1\", \"2014Q2\", \"2014Q3\", \"2014Q4\", \"2015Q1\", \"2015Q2\", \"2015Q3\", \"2015Q4\", \"2016Q1\", \"2016Q2\", \"2016Q3\", \"2016Q4\", \"2017Q1\", \"2017Q2\", \"2017Q3\", \"2017Q4\", \"2018Q1\", \"2018Q2\", \"2018Q3\", \"2018Q4\", \"2019Q1\", \"2019Q2\", \"2019Q3\", \"2019Q4\", \"2020Q1\", \"2020Q2\", \"2020Q3\"], \"legendgroup\": \"New Brunswick\", \"marker\": {\"color\": \"#ab63fa\", \"size\": [758378, 758673, 758298, 758132, 758544, 758670, 759018, 758876, 758976, 759524, 759617, 758948, 758842, 759778, 760580, 762289, 763350, 764844, 764617, 764813, 766621, 767935, 768005, 768522, 770301, 772524, 772748, 773805, 776868, 780154, 780040, 781024, 781476], \"sizemode\": \"area\", \"sizeref\": 36835.035, \"symbol\": \"circle\"}, \"mode\": \"markers\", \"name\": \"New Brunswick\", \"orientation\": \"v\", \"showlegend\": true, \"type\": \"scatter\", \"x\": [0.63, 0.63, 0.65, 0.6, 0.61, 0.68, 0.72, 0.67, 0.72, 0.72, 0.79, 0.8, 0.81, 0.79, 0.82, 0.78, 0.84, 0.79, 0.78, 0.73, 0.71, 0.66, 0.65, 0.59, 0.58, 0.62, 0.63, 0.6, 0.57, 0.57, 0.57, 0.54, 0.52], \"xaxis\": \"x\", \"y\": [133390, 126138, 124645, 122572, 131542, 128155, 127766, 124221, 135592, 132766, 132025, 128378, 137565, 137039, 132325, 133027, 143533, 140124, 141196, 135748, 147934, 142799, 139711, 139750, 150353, 143324, 140850, 137809, 152606, 147047, 146701, 149590, 160349], \"yaxis\": \"y\"}, {\"hovertemplate\": \"<b>%{hovertext}</b><br><br>Geography=Qu\\u00e9bec<br>DelinquencyRate=%{x}<br>AverageMortgageAmount=%{y}<br>PopulationSize=%{marker.size}<extra></extra>\", \"hovertext\": [\"2012Q3\", \"2012Q4\", \"2013Q1\", \"2013Q2\", \"2013Q3\", \"2013Q4\", \"2014Q1\", \"2014Q2\", \"2014Q3\", \"2014Q4\", \"2015Q1\", \"2015Q2\", \"2015Q3\", \"2015Q4\", \"2016Q1\", \"2016Q2\", \"2016Q3\", \"2016Q4\", \"2017Q1\", \"2017Q2\", \"2017Q3\", \"2017Q4\", \"2018Q1\", \"2018Q2\", \"2018Q3\", \"2018Q4\", \"2019Q1\", \"2019Q2\", \"2019Q3\", \"2019Q4\", \"2020Q1\", \"2020Q2\", \"2020Q3\"], \"legendgroup\": \"Qu\\u00e9bec\", \"marker\": {\"color\": \"#FFA15A\", \"size\": [8061101, 8078388, 8082771, 8090916, 8110880, 8124660, 8125478, 8132425, 8150183, 8165447, 8163132, 8163063, 8175272, 8190014, 8193624, 8204085, 8225950, 8249692, 8257450, 8272894, 8302063, 8336460, 8350601, 8367551, 8401738, 8433888, 8446906, 8465271, 8501703, 8540429, 8556650, 8572054, 8574571], \"sizemode\": \"area\", \"sizeref\": 36835.035, \"symbol\": \"circle\"}, \"mode\": \"markers\", \"name\": \"Qu\\u00e9bec\", \"orientation\": \"v\", \"showlegend\": true, \"type\": \"scatter\", \"x\": [0.33, 0.33, 0.35, 0.34, 0.33, 0.35, 0.37, 0.36, 0.37, 0.39, 0.42, 0.41, 0.41, 0.42, 0.44, 0.43, 0.42, 0.4, 0.41, 0.4, 0.37, 0.34, 0.34, 0.35, 0.35, 0.38, 0.38, 0.37, 0.37, 0.36, 0.36, 0.34, 0.36], \"xaxis\": \"x\", \"y\": [159661, 153413, 153909, 155016, 160147, 155512, 156424, 160165, 166426, 160073, 161563, 164764, 170403, 164235, 167154, 169326, 176522, 170309, 171992, 171716, 177306, 173182, 175297, 183507, 187727, 173911, 175658, 179523, 187136, 183501, 189390, 195538, 203861], \"yaxis\": \"y\"}, {\"hovertemplate\": \"<b>%{hovertext}</b><br><br>Geography=Ontario<br>DelinquencyRate=%{x}<br>AverageMortgageAmount=%{y}<br>PopulationSize=%{marker.size}<extra></extra>\", \"hovertext\": [\"2012Q3\", \"2012Q4\", \"2013Q1\", \"2013Q2\", \"2013Q3\", \"2013Q4\", \"2014Q1\", \"2014Q2\", \"2014Q3\", \"2014Q4\", \"2015Q1\", \"2015Q2\", \"2015Q3\", \"2015Q4\", \"2016Q1\", \"2016Q2\", \"2016Q3\", \"2016Q4\", \"2017Q1\", \"2017Q2\", \"2017Q3\", \"2017Q4\", \"2018Q1\", \"2018Q2\", \"2018Q3\", \"2018Q4\", \"2019Q1\", \"2019Q2\", \"2019Q3\", \"2019Q4\", \"2020Q1\", \"2020Q2\", \"2020Q3\"], \"legendgroup\": \"Ontario\", \"marker\": {\"color\": \"#19d3f3\", \"size\": [13390632, 13434943, 13444704, 13467829, 13510781, 13558528, 13562583, 13582747, 13617553, 13661314, 13657737, 13669860, 13707118, 13757688, 13773629, 13816545, 13875394, 13946431, 13971785, 14006386, 14070141, 14150783, 14186830, 14235643, 14308697, 14393683, 14428712, 14467162, 14544718, 14637880, 14689075, 14723497, 14734014], \"sizemode\": \"area\", \"sizeref\": 36835.035, \"symbol\": \"circle\"}, \"mode\": \"markers\", \"name\": \"Ontario\", \"orientation\": \"v\", \"showlegend\": true, \"type\": \"scatter\", \"x\": [0.31, 0.31, 0.31, 0.29, 0.28, 0.28, 0.29, 0.27, 0.27, 0.26, 0.27, 0.25, 0.24, 0.23, 0.24, 0.22, 0.2, 0.19, 0.18, 0.16, 0.16, 0.15, 0.15, 0.14, 0.13, 0.14, 0.14, 0.14, 0.14, 0.14, 0.14, 0.14, 0.14], \"xaxis\": \"x\", \"y\": [247455, 235667, 233122, 230770, 249054, 244060, 244077, 240828, 262838, 257244, 254854, 259093, 281259, 277802, 278626, 285024, 307369, 310236, 319009, 326645, 338561, 323821, 322179, 315576, 327367, 321579, 321074, 324080, 343117, 343768, 348272, 363432, 373371], \"yaxis\": \"y\"}, {\"hovertemplate\": \"<b>%{hovertext}</b><br><br>Geography=Manitoba<br>DelinquencyRate=%{x}<br>AverageMortgageAmount=%{y}<br>PopulationSize=%{marker.size}<extra></extra>\", \"hovertext\": [\"2012Q3\", \"2012Q4\", \"2013Q1\", \"2013Q2\", \"2013Q3\", \"2013Q4\", \"2014Q1\", \"2014Q2\", \"2014Q3\", \"2014Q4\", \"2015Q1\", \"2015Q2\", \"2015Q3\", \"2015Q4\", \"2016Q1\", \"2016Q2\", \"2016Q3\", \"2016Q4\", \"2017Q1\", \"2017Q2\", \"2017Q3\", \"2017Q4\", \"2018Q1\", \"2018Q2\", \"2018Q3\", \"2018Q4\", \"2019Q1\", \"2019Q2\", \"2019Q3\", \"2019Q4\", \"2020Q1\", \"2020Q2\", \"2020Q3\"], \"legendgroup\": \"Manitoba\", \"marker\": {\"color\": \"#FF6692\", \"size\": [1249975, 1254178, 1257940, 1260834, 1264620, 1268428, 1271562, 1274407, 1279014, 1283366, 1286453, 1288094, 1292227, 1297329, 1302544, 1307689, 1314139, 1319911, 1324129, 1328412, 1334790, 1340565, 1344418, 1347055, 1352825, 1357879, 1361632, 1364223, 1369540, 1373574, 1377004, 1378818, 1379263], \"sizemode\": \"area\", \"sizeref\": 36835.035, \"symbol\": \"circle\"}, \"mode\": \"markers\", \"name\": \"Manitoba\", \"orientation\": \"v\", \"showlegend\": true, \"type\": \"scatter\", \"x\": [0.25, 0.27, 0.28, 0.26, 0.28, 0.28, 0.28, 0.25, 0.24, 0.27, 0.31, 0.3, 0.29, 0.33, 0.34, 0.35, 0.34, 0.35, 0.36, 0.35, 0.33, 0.3, 0.3, 0.31, 0.32, 0.35, 0.35, 0.35, 0.34, 0.36, 0.37, 0.38, 0.35], \"xaxis\": \"x\", \"y\": [188298, 181097, 177560, 177517, 192732, 189570, 188107, 184554, 200051, 197527, 191444, 190383, 206275, 201640, 193970, 196385, 209051, 206958, 203999, 205085, 216750, 217136, 207988, 207436, 220454, 214060, 206692, 214873, 222637, 218918, 212508, 217416, 232725], \"yaxis\": \"y\"}, {\"hovertemplate\": \"<b>%{hovertext}</b><br><br>Geography=Saskatchewan<br>DelinquencyRate=%{x}<br>AverageMortgageAmount=%{y}<br>PopulationSize=%{marker.size}<extra></extra>\", \"hovertext\": [\"2012Q3\", \"2012Q4\", \"2013Q1\", \"2013Q2\", \"2013Q3\", \"2013Q4\", \"2014Q1\", \"2014Q2\", \"2014Q3\", \"2014Q4\", \"2015Q1\", \"2015Q2\", \"2015Q3\", \"2015Q4\", \"2016Q1\", \"2016Q2\", \"2016Q3\", \"2016Q4\", \"2017Q1\", \"2017Q2\", \"2017Q3\", \"2017Q4\", \"2018Q1\", \"2018Q2\", \"2018Q3\", \"2018Q4\", \"2019Q1\", \"2019Q2\", \"2019Q3\", \"2019Q4\", \"2020Q1\", \"2020Q2\", \"2020Q3\"], \"legendgroup\": \"Saskatchewan\", \"marker\": {\"color\": \"#B6E880\", \"size\": [1083755, 1088959, 1091547, 1094390, 1099736, 1103730, 1106374, 1109631, 1112979, 1116203, 1118181, 1118806, 1120967, 1124919, 1127773, 1131147, 1135987, 1140690, 1143313, 1146218, 1150331, 1154755, 1156659, 1158451, 1161767, 1165938, 1168461, 1169286, 1172302, 1176272, 1179154, 1179618, 1178681], \"sizemode\": \"area\", \"sizeref\": 36835.035, \"symbol\": \"circle\"}, \"mode\": \"markers\", \"name\": \"Saskatchewan\", \"orientation\": \"v\", \"showlegend\": true, \"type\": \"scatter\", \"x\": [0.37, 0.37, 0.36, 0.34, 0.3, 0.32, 0.35, 0.31, 0.32, 0.36, 0.41, 0.43, 0.45, 0.49, 0.54, 0.57, 0.61, 0.62, 0.62, 0.66, 0.65, 0.66, 0.66, 0.67, 0.7, 0.72, 0.74, 0.75, 0.73, 0.73, 0.75, 0.76, 0.72], \"xaxis\": \"x\", \"y\": [217945, 213126, 206354, 211979, 224868, 225414, 226559, 218781, 231768, 233854, 228569, 226957, 234840, 231611, 225641, 230729, 236380, 232174, 234786, 233545, 238533, 234340, 230702, 229851, 233255, 223628, 217157, 216369, 228721, 224315, 216188, 225641, 237386], \"yaxis\": \"y\"}, {\"hovertemplate\": \"<b>%{hovertext}</b><br><br>Geography=Alberta<br>DelinquencyRate=%{x}<br>AverageMortgageAmount=%{y}<br>PopulationSize=%{marker.size}<extra></extra>\", \"hovertext\": [\"2012Q3\", \"2012Q4\", \"2013Q1\", \"2013Q2\", \"2013Q3\", \"2013Q4\", \"2014Q1\", \"2014Q2\", \"2014Q3\", \"2014Q4\", \"2015Q1\", \"2015Q2\", \"2015Q3\", \"2015Q4\", \"2016Q1\", \"2016Q2\", \"2016Q3\", \"2016Q4\", \"2017Q1\", \"2017Q2\", \"2017Q3\", \"2017Q4\", \"2018Q1\", \"2018Q2\", \"2018Q3\", \"2018Q4\", \"2019Q1\", \"2019Q2\", \"2019Q3\", \"2019Q4\", \"2020Q1\", \"2020Q2\", \"2020Q3\"], \"legendgroup\": \"Alberta\", \"marker\": {\"color\": \"#FF97FF\", \"size\": [3874548, 3900333, 3920499, 3946798, 3981011, 4010903, 4029951, 4054280, 4083648, 4106056, 4116047, 4128300, 4144491, 4159519, 4169830, 4181765, 4196061, 4208958, 4217855, 4227969, 4241100, 4258195, 4268853, 4281706, 4298275, 4317453, 4330698, 4343951, 4361694, 4384968, 4402045, 4417006, 4421876], \"sizemode\": \"area\", \"sizeref\": 36835.035, \"symbol\": \"circle\"}, \"mode\": \"markers\", \"name\": \"Alberta\", \"orientation\": \"v\", \"showlegend\": true, \"type\": \"scatter\", \"x\": [0.6, 0.55, 0.52, 0.47, 0.45, 0.43, 0.42, 0.37, 0.34, 0.32, 0.32, 0.33, 0.35, 0.36, 0.41, 0.45, 0.53, 0.53, 0.54, 0.52, 0.51, 0.5, 0.5, 0.46, 0.47, 0.5, 0.51, 0.53, 0.51, 0.5, 0.52, 0.52, 0.5], \"xaxis\": \"x\", \"y\": [282371, 277555, 277158, 278516, 289263, 284928, 291926, 290722, 304374, 305558, 303976, 299837, 309953, 303244, 296111, 298884, 304683, 302095, 301254, 300115, 307837, 307662, 302814, 302116, 305101, 295839, 291721, 293612, 297609, 297552, 291747, 296269, 305600], \"yaxis\": \"y\"}, {\"hovertemplate\": \"<b>%{hovertext}</b><br><br>Geography=British Columbia<br>DelinquencyRate=%{x}<br>AverageMortgageAmount=%{y}<br>PopulationSize=%{marker.size}<extra></extra>\", \"hovertext\": [\"2012Q3\", \"2012Q4\", \"2013Q1\", \"2013Q2\", \"2013Q3\", \"2013Q4\", \"2014Q1\", \"2014Q2\", \"2014Q3\", \"2014Q4\", \"2015Q1\", \"2015Q2\", \"2015Q3\", \"2015Q4\", \"2016Q1\", \"2016Q2\", \"2016Q3\", \"2016Q4\", \"2017Q1\", \"2017Q2\", \"2017Q3\", \"2017Q4\", \"2018Q1\", \"2018Q2\", \"2018Q3\", \"2018Q4\", \"2019Q1\", \"2019Q2\", \"2019Q3\", \"2019Q4\", \"2020Q1\", \"2020Q2\", \"2020Q3\"], \"legendgroup\": \"British Columbia\", \"marker\": {\"color\": \"#FECB52\", \"size\": [4566769, 4590545, 4598255, 4611648, 4630077, 4658875, 4666788, 4684490, 4707103, 4737725, 4745468, 4757759, 4776388, 4802955, 4811465, 4832155, 4859250, 4884002, 4890848, 4905210, 4929384, 4956550, 4967421, 4983183, 5010476, 5039661, 5046576, 5063527, 5090955, 5125659, 5131575, 5142404, 5147712], \"sizemode\": \"area\", \"sizeref\": 36835.035, \"symbol\": \"circle\"}, \"mode\": \"markers\", \"name\": \"British Columbia\", \"orientation\": \"v\", \"showlegend\": true, \"type\": \"scatter\", \"x\": [0.42, 0.42, 0.43, 0.43, 0.42, 0.43, 0.43, 0.4, 0.4, 0.4, 0.4, 0.38, 0.34, 0.32, 0.32, 0.29, 0.26, 0.25, 0.23, 0.2, 0.18, 0.18, 0.17, 0.17, 0.16, 0.17, 0.17, 0.17, 0.16, 0.16, 0.17, 0.19, 0.19], \"xaxis\": \"x\", \"y\": [305427, 289864, 286652, 290928, 303663, 305256, 309374, 305138, 321625, 323373, 325035, 328540, 350672, 357016, 368782, 385910, 395297, 366703, 358655, 369174, 389430, 381223, 384794, 371860, 378187, 364330, 363239, 363924, 376343, 386494, 393711, 397853, 417004], \"yaxis\": \"y\"}],                        {\"legend\": {\"itemsizing\": \"constant\", \"title\": {\"text\": \"Geography\"}, \"tracegroupgap\": 0}, \"template\": {\"data\": {\"bar\": [{\"error_x\": {\"color\": \"#2a3f5f\"}, \"error_y\": {\"color\": \"#2a3f5f\"}, \"marker\": {\"line\": {\"color\": \"#E5ECF6\", \"width\": 0.5}}, \"type\": \"bar\"}], \"barpolar\": [{\"marker\": {\"line\": {\"color\": \"#E5ECF6\", \"width\": 0.5}}, \"type\": \"barpolar\"}], \"carpet\": [{\"aaxis\": {\"endlinecolor\": \"#2a3f5f\", \"gridcolor\": \"white\", \"linecolor\": \"white\", \"minorgridcolor\": \"white\", \"startlinecolor\": \"#2a3f5f\"}, \"baxis\": {\"endlinecolor\": \"#2a3f5f\", \"gridcolor\": \"white\", \"linecolor\": \"white\", \"minorgridcolor\": \"white\", \"startlinecolor\": \"#2a3f5f\"}, \"type\": \"carpet\"}], \"choropleth\": [{\"colorbar\": {\"outlinewidth\": 0, \"ticks\": \"\"}, \"type\": \"choropleth\"}], \"contour\": [{\"colorbar\": {\"outlinewidth\": 0, \"ticks\": \"\"}, \"colorscale\": [[0.0, \"#0d0887\"], [0.1111111111111111, \"#46039f\"], [0.2222222222222222, \"#7201a8\"], [0.3333333333333333, \"#9c179e\"], [0.4444444444444444, \"#bd3786\"], [0.5555555555555556, \"#d8576b\"], [0.6666666666666666, \"#ed7953\"], [0.7777777777777778, \"#fb9f3a\"], [0.8888888888888888, \"#fdca26\"], [1.0, \"#f0f921\"]], \"type\": \"contour\"}], \"contourcarpet\": [{\"colorbar\": {\"outlinewidth\": 0, \"ticks\": \"\"}, \"type\": \"contourcarpet\"}], \"heatmap\": [{\"colorbar\": {\"outlinewidth\": 0, \"ticks\": \"\"}, \"colorscale\": [[0.0, \"#0d0887\"], [0.1111111111111111, \"#46039f\"], [0.2222222222222222, \"#7201a8\"], [0.3333333333333333, \"#9c179e\"], [0.4444444444444444, \"#bd3786\"], [0.5555555555555556, \"#d8576b\"], [0.6666666666666666, \"#ed7953\"], [0.7777777777777778, \"#fb9f3a\"], [0.8888888888888888, \"#fdca26\"], [1.0, \"#f0f921\"]], \"type\": \"heatmap\"}], \"heatmapgl\": [{\"colorbar\": {\"outlinewidth\": 0, \"ticks\": \"\"}, \"colorscale\": [[0.0, \"#0d0887\"], [0.1111111111111111, \"#46039f\"], [0.2222222222222222, \"#7201a8\"], [0.3333333333333333, \"#9c179e\"], [0.4444444444444444, \"#bd3786\"], [0.5555555555555556, \"#d8576b\"], [0.6666666666666666, \"#ed7953\"], [0.7777777777777778, \"#fb9f3a\"], [0.8888888888888888, \"#fdca26\"], [1.0, \"#f0f921\"]], \"type\": \"heatmapgl\"}], \"histogram\": [{\"marker\": {\"colorbar\": {\"outlinewidth\": 0, \"ticks\": \"\"}}, \"type\": \"histogram\"}], \"histogram2d\": [{\"colorbar\": {\"outlinewidth\": 0, \"ticks\": \"\"}, \"colorscale\": [[0.0, \"#0d0887\"], [0.1111111111111111, \"#46039f\"], [0.2222222222222222, \"#7201a8\"], [0.3333333333333333, \"#9c179e\"], [0.4444444444444444, \"#bd3786\"], [0.5555555555555556, \"#d8576b\"], [0.6666666666666666, \"#ed7953\"], [0.7777777777777778, \"#fb9f3a\"], [0.8888888888888888, \"#fdca26\"], [1.0, \"#f0f921\"]], \"type\": \"histogram2d\"}], \"histogram2dcontour\": [{\"colorbar\": {\"outlinewidth\": 0, \"ticks\": \"\"}, \"colorscale\": [[0.0, \"#0d0887\"], [0.1111111111111111, \"#46039f\"], [0.2222222222222222, \"#7201a8\"], [0.3333333333333333, \"#9c179e\"], [0.4444444444444444, \"#bd3786\"], [0.5555555555555556, \"#d8576b\"], [0.6666666666666666, \"#ed7953\"], [0.7777777777777778, \"#fb9f3a\"], [0.8888888888888888, \"#fdca26\"], [1.0, \"#f0f921\"]], \"type\": \"histogram2dcontour\"}], \"mesh3d\": [{\"colorbar\": {\"outlinewidth\": 0, \"ticks\": \"\"}, \"type\": \"mesh3d\"}], \"parcoords\": [{\"line\": {\"colorbar\": {\"outlinewidth\": 0, \"ticks\": \"\"}}, \"type\": \"parcoords\"}], \"pie\": [{\"automargin\": true, \"type\": \"pie\"}], \"scatter\": [{\"marker\": {\"colorbar\": {\"outlinewidth\": 0, \"ticks\": \"\"}}, \"type\": \"scatter\"}], \"scatter3d\": [{\"line\": {\"colorbar\": {\"outlinewidth\": 0, \"ticks\": \"\"}}, \"marker\": {\"colorbar\": {\"outlinewidth\": 0, \"ticks\": \"\"}}, \"type\": \"scatter3d\"}], \"scattercarpet\": [{\"marker\": {\"colorbar\": {\"outlinewidth\": 0, \"ticks\": \"\"}}, \"type\": \"scattercarpet\"}], \"scattergeo\": [{\"marker\": {\"colorbar\": {\"outlinewidth\": 0, \"ticks\": \"\"}}, \"type\": \"scattergeo\"}], \"scattergl\": [{\"marker\": {\"colorbar\": {\"outlinewidth\": 0, \"ticks\": \"\"}}, \"type\": \"scattergl\"}], \"scattermapbox\": [{\"marker\": {\"colorbar\": {\"outlinewidth\": 0, \"ticks\": \"\"}}, \"type\": \"scattermapbox\"}], \"scatterpolar\": [{\"marker\": {\"colorbar\": {\"outlinewidth\": 0, \"ticks\": \"\"}}, \"type\": \"scatterpolar\"}], \"scatterpolargl\": [{\"marker\": {\"colorbar\": {\"outlinewidth\": 0, \"ticks\": \"\"}}, \"type\": \"scatterpolargl\"}], \"scatterternary\": [{\"marker\": {\"colorbar\": {\"outlinewidth\": 0, \"ticks\": \"\"}}, \"type\": \"scatterternary\"}], \"surface\": [{\"colorbar\": {\"outlinewidth\": 0, \"ticks\": \"\"}, \"colorscale\": [[0.0, \"#0d0887\"], [0.1111111111111111, \"#46039f\"], [0.2222222222222222, \"#7201a8\"], [0.3333333333333333, \"#9c179e\"], [0.4444444444444444, \"#bd3786\"], [0.5555555555555556, \"#d8576b\"], [0.6666666666666666, \"#ed7953\"], [0.7777777777777778, \"#fb9f3a\"], [0.8888888888888888, \"#fdca26\"], [1.0, \"#f0f921\"]], \"type\": \"surface\"}], \"table\": [{\"cells\": {\"fill\": {\"color\": \"#EBF0F8\"}, \"line\": {\"color\": \"white\"}}, \"header\": {\"fill\": {\"color\": \"#C8D4E3\"}, \"line\": {\"color\": \"white\"}}, \"type\": \"table\"}]}, \"layout\": {\"annotationdefaults\": {\"arrowcolor\": \"#2a3f5f\", \"arrowhead\": 0, \"arrowwidth\": 1}, \"autotypenumbers\": \"strict\", \"coloraxis\": {\"colorbar\": {\"outlinewidth\": 0, \"ticks\": \"\"}}, \"colorscale\": {\"diverging\": [[0, \"#8e0152\"], [0.1, \"#c51b7d\"], [0.2, \"#de77ae\"], [0.3, \"#f1b6da\"], [0.4, \"#fde0ef\"], [0.5, \"#f7f7f7\"], [0.6, \"#e6f5d0\"], [0.7, \"#b8e186\"], [0.8, \"#7fbc41\"], [0.9, \"#4d9221\"], [1, \"#276419\"]], \"sequential\": [[0.0, \"#0d0887\"], [0.1111111111111111, \"#46039f\"], [0.2222222222222222, \"#7201a8\"], [0.3333333333333333, \"#9c179e\"], [0.4444444444444444, \"#bd3786\"], [0.5555555555555556, \"#d8576b\"], [0.6666666666666666, \"#ed7953\"], [0.7777777777777778, \"#fb9f3a\"], [0.8888888888888888, \"#fdca26\"], [1.0, \"#f0f921\"]], \"sequentialminus\": [[0.0, \"#0d0887\"], [0.1111111111111111, \"#46039f\"], [0.2222222222222222, \"#7201a8\"], [0.3333333333333333, \"#9c179e\"], [0.4444444444444444, \"#bd3786\"], [0.5555555555555556, \"#d8576b\"], [0.6666666666666666, \"#ed7953\"], [0.7777777777777778, \"#fb9f3a\"], [0.8888888888888888, \"#fdca26\"], [1.0, \"#f0f921\"]]}, \"colorway\": [\"#636efa\", \"#EF553B\", \"#00cc96\", \"#ab63fa\", \"#FFA15A\", \"#19d3f3\", \"#FF6692\", \"#B6E880\", \"#FF97FF\", \"#FECB52\"], \"font\": {\"color\": \"#2a3f5f\"}, \"geo\": {\"bgcolor\": \"white\", \"lakecolor\": \"white\", \"landcolor\": \"#E5ECF6\", \"showlakes\": true, \"showland\": true, \"subunitcolor\": \"white\"}, \"hoverlabel\": {\"align\": \"left\"}, \"hovermode\": \"closest\", \"mapbox\": {\"style\": \"light\"}, \"paper_bgcolor\": \"white\", \"plot_bgcolor\": \"#E5ECF6\", \"polar\": {\"angularaxis\": {\"gridcolor\": \"white\", \"linecolor\": \"white\", \"ticks\": \"\"}, \"bgcolor\": \"#E5ECF6\", \"radialaxis\": {\"gridcolor\": \"white\", \"linecolor\": \"white\", \"ticks\": \"\"}}, \"scene\": {\"xaxis\": {\"backgroundcolor\": \"#E5ECF6\", \"gridcolor\": \"white\", \"gridwidth\": 2, \"linecolor\": \"white\", \"showbackground\": true, \"ticks\": \"\", \"zerolinecolor\": \"white\"}, \"yaxis\": {\"backgroundcolor\": \"#E5ECF6\", \"gridcolor\": \"white\", \"gridwidth\": 2, \"linecolor\": \"white\", \"showbackground\": true, \"ticks\": \"\", \"zerolinecolor\": \"white\"}, \"zaxis\": {\"backgroundcolor\": \"#E5ECF6\", \"gridcolor\": \"white\", \"gridwidth\": 2, \"linecolor\": \"white\", \"showbackground\": true, \"ticks\": \"\", \"zerolinecolor\": \"white\"}}, \"shapedefaults\": {\"line\": {\"color\": \"#2a3f5f\"}}, \"ternary\": {\"aaxis\": {\"gridcolor\": \"white\", \"linecolor\": \"white\", \"ticks\": \"\"}, \"baxis\": {\"gridcolor\": \"white\", \"linecolor\": \"white\", \"ticks\": \"\"}, \"bgcolor\": \"#E5ECF6\", \"caxis\": {\"gridcolor\": \"white\", \"linecolor\": \"white\", \"ticks\": \"\"}}, \"title\": {\"x\": 0.05}, \"xaxis\": {\"automargin\": true, \"gridcolor\": \"white\", \"linecolor\": \"white\", \"ticks\": \"\", \"title\": {\"standoff\": 15}, \"zerolinecolor\": \"white\", \"zerolinewidth\": 2}, \"yaxis\": {\"automargin\": true, \"gridcolor\": \"white\", \"linecolor\": \"white\", \"ticks\": \"\", \"title\": {\"standoff\": 15}, \"zerolinecolor\": \"white\", \"zerolinewidth\": 2}}}, \"title\": {\"text\": \"Average mortgage rate to delinquency rate\"}, \"xaxis\": {\"anchor\": \"y\", \"domain\": [0.0, 1.0], \"title\": {\"text\": \"DelinquencyRate\"}}, \"yaxis\": {\"anchor\": \"x\", \"domain\": [0.0, 1.0], \"title\": {\"text\": \"AverageMortgageAmount\"}}},                        {\"responsive\": true}                    ).then(function(){\n",
       "                            \n",
       "var gd = document.getElementById('bcedd873-2031-4fc6-bfac-962f32f8e18f');\n",
       "var x = new MutationObserver(function (mutations, observer) {{\n",
       "        var display = window.getComputedStyle(gd).display;\n",
       "        if (!display || display === 'none') {{\n",
       "            console.log([gd, 'removed!']);\n",
       "            Plotly.purge(gd);\n",
       "            observer.disconnect();\n",
       "        }}\n",
       "}});\n",
       "\n",
       "// Listen for the removal of the full notebook cells\n",
       "var notebookContainer = gd.closest('#notebook-container');\n",
       "if (notebookContainer) {{\n",
       "    x.observe(notebookContainer, {childList: true});\n",
       "}}\n",
       "\n",
       "// Listen for the clearing of the current output cell\n",
       "var outputEl = gd.closest('.output');\n",
       "if (outputEl) {{\n",
       "    x.observe(outputEl, {childList: true});\n",
       "}}\n",
       "\n",
       "                        })                };                });            </script>        </div>"
      ]
     },
     "metadata": {},
     "output_type": "display_data"
    }
   ],
   "source": [
    "px.scatter(data_frame=data_pop_del_mort_df,\n",
    "          y = \"AverageMortgageAmount\",\n",
    "          x = \"DelinquencyRate\",\n",
    "          size= \"PopulationSize\",\n",
    "          color= \"Geography\", \n",
    "          hover_name=\"Time\",\n",
    "          title=\"Average mortgage rate to delinquency rate\")"
   ]
  },
  {
   "cell_type": "code",
   "execution_count": 25,
   "metadata": {},
   "outputs": [
    {
     "data": {
      "application/vnd.plotly.v1+json": {
       "config": {
        "plotlyServerURL": "https://plot.ly"
       },
       "data": [
        {
         "hovertemplate": "<b>%{hovertext}</b><br><br>Geography=Newfoundland<br>Time=%{x}<br>AverageMortgageAmount=%{y}<br>PopulationSize=%{marker.size}<extra></extra>",
         "hovertext": [
          "2012Q3",
          "2012Q4",
          "2013Q1",
          "2013Q2",
          "2013Q3",
          "2013Q4",
          "2014Q1",
          "2014Q2",
          "2014Q3",
          "2014Q4",
          "2015Q1",
          "2015Q2",
          "2015Q3",
          "2015Q4",
          "2016Q1",
          "2016Q2",
          "2016Q3",
          "2016Q4",
          "2017Q1",
          "2017Q2",
          "2017Q3",
          "2017Q4",
          "2018Q1",
          "2018Q2",
          "2018Q3",
          "2018Q4",
          "2019Q1",
          "2019Q2",
          "2019Q3",
          "2019Q4",
          "2020Q1",
          "2020Q2",
          "2020Q3"
         ],
         "legendgroup": "Newfoundland",
         "marker": {
          "color": "#636efa",
          "size": [
           526345,
           527180,
           527248,
           527313,
           527114,
           528117,
           528242,
           527498,
           528159,
           528461,
           528361,
           528063,
           528117,
           528696,
           528800,
           529063,
           529426,
           529900,
           529347,
           528544,
           528249,
           528288,
           527544,
           526395,
           525560,
           525765,
           524883,
           524126,
           523476,
           524137,
           523631,
           522994,
           522103
          ],
          "sizemode": "area",
          "sizeref": 36835.035,
          "symbol": "circle"
         },
         "mode": "markers",
         "name": "Newfoundland",
         "orientation": "v",
         "showlegend": true,
         "type": "scatter",
         "x": [
          "2012Q3",
          "2012Q4",
          "2013Q1",
          "2013Q2",
          "2013Q3",
          "2013Q4",
          "2014Q1",
          "2014Q2",
          "2014Q3",
          "2014Q4",
          "2015Q1",
          "2015Q2",
          "2015Q3",
          "2015Q4",
          "2016Q1",
          "2016Q2",
          "2016Q3",
          "2016Q4",
          "2017Q1",
          "2017Q2",
          "2017Q3",
          "2017Q4",
          "2018Q1",
          "2018Q2",
          "2018Q3",
          "2018Q4",
          "2019Q1",
          "2019Q2",
          "2019Q3",
          "2019Q4",
          "2020Q1",
          "2020Q2",
          "2020Q3"
         ],
         "xaxis": "x",
         "y": [
          188732,
          185794,
          189098,
          181331,
          191818,
          193100,
          195479,
          192856,
          199560,
          200310,
          197406,
          193956,
          199758,
          202487,
          196798,
          196806,
          198265,
          197794,
          192057,
          191412,
          200378,
          193619,
          196431,
          192252,
          192106,
          188614,
          185276,
          190582,
          194536,
          193870,
          186268,
          187431,
          196100
         ],
         "yaxis": "y"
        },
        {
         "hovertemplate": "<b>%{hovertext}</b><br><br>Geography=Prince Edward Island<br>Time=%{x}<br>AverageMortgageAmount=%{y}<br>PopulationSize=%{marker.size}<extra></extra>",
         "hovertext": [
          "2012Q3",
          "2012Q4",
          "2013Q1",
          "2013Q2",
          "2013Q3",
          "2013Q4",
          "2014Q1",
          "2014Q2",
          "2014Q3",
          "2014Q4",
          "2015Q1",
          "2015Q2",
          "2015Q3",
          "2015Q4",
          "2016Q1",
          "2016Q2",
          "2016Q3",
          "2016Q4",
          "2017Q1",
          "2017Q2",
          "2017Q3",
          "2017Q4",
          "2018Q1",
          "2018Q2",
          "2018Q3",
          "2018Q4",
          "2019Q1",
          "2019Q2",
          "2019Q3",
          "2019Q4",
          "2020Q1",
          "2020Q2",
          "2020Q3"
         ],
         "legendgroup": "Prince Edward Island",
         "marker": {
          "color": "#EF553B",
          "size": [
           144530,
           144520,
           144175,
           143948,
           144094,
           144103,
           143996,
           143984,
           144283,
           144538,
           144368,
           144259,
           144546,
           144894,
           145202,
           145784,
           146969,
           147936,
           148181,
           148860,
           150402,
           151376,
           151516,
           152039,
           153396,
           155129,
           155244,
           155833,
           157262,
           158334,
           158629,
           159249,
           159625
          ],
          "sizemode": "area",
          "sizeref": 36835.035,
          "symbol": "circle"
         },
         "mode": "markers",
         "name": "Prince Edward Island",
         "orientation": "v",
         "showlegend": true,
         "type": "scatter",
         "x": [
          "2012Q3",
          "2012Q4",
          "2013Q1",
          "2013Q2",
          "2013Q3",
          "2013Q4",
          "2014Q1",
          "2014Q2",
          "2014Q3",
          "2014Q4",
          "2015Q1",
          "2015Q2",
          "2015Q3",
          "2015Q4",
          "2016Q1",
          "2016Q2",
          "2016Q3",
          "2016Q4",
          "2017Q1",
          "2017Q2",
          "2017Q3",
          "2017Q4",
          "2018Q1",
          "2018Q2",
          "2018Q3",
          "2018Q4",
          "2019Q1",
          "2019Q2",
          "2019Q3",
          "2019Q4",
          "2020Q1",
          "2020Q2",
          "2020Q3"
         ],
         "xaxis": "x",
         "y": [
          140279,
          138415,
          137162,
          126763,
          139506,
          141453,
          141141,
          137427,
          143320,
          141232,
          146885,
          146818,
          150403,
          155926,
          157322,
          150732,
          169651,
          155799,
          175124,
          174901,
          176919,
          175523,
          179179,
          182114,
          181967,
          178140,
          181172,
          181358,
          190715,
          185934,
          193439,
          189309,
          204415
         ],
         "yaxis": "y"
        },
        {
         "hovertemplate": "<b>%{hovertext}</b><br><br>Geography=Nova Scotia<br>Time=%{x}<br>AverageMortgageAmount=%{y}<br>PopulationSize=%{marker.size}<extra></extra>",
         "hovertext": [
          "2012Q3",
          "2012Q4",
          "2013Q1",
          "2013Q2",
          "2013Q3",
          "2013Q4",
          "2014Q1",
          "2014Q2",
          "2014Q3",
          "2014Q4",
          "2015Q1",
          "2015Q2",
          "2015Q3",
          "2015Q4",
          "2016Q1",
          "2016Q2",
          "2016Q3",
          "2016Q4",
          "2017Q1",
          "2017Q2",
          "2017Q3",
          "2017Q4",
          "2018Q1",
          "2018Q2",
          "2018Q3",
          "2018Q4",
          "2019Q1",
          "2019Q2",
          "2019Q3",
          "2019Q4",
          "2020Q1",
          "2020Q2",
          "2020Q3"
         ],
         "legendgroup": "Nova Scotia",
         "marker": {
          "color": "#00cc96",
          "size": [
           943635,
           943341,
           942598,
           941230,
           940434,
           940105,
           939867,
           938913,
           938545,
           938972,
           938296,
           936271,
           936525,
           938320,
           938690,
           940382,
           942790,
           946030,
           945943,
           947384,
           950108,
           953683,
           953838,
           954618,
           958406,
           963309,
           963890,
           965287,
           969747,
           975231,
           975898,
           977043,
           979351
          ],
          "sizemode": "area",
          "sizeref": 36835.035,
          "symbol": "circle"
         },
         "mode": "markers",
         "name": "Nova Scotia",
         "orientation": "v",
         "showlegend": true,
         "type": "scatter",
         "x": [
          "2012Q3",
          "2012Q4",
          "2013Q1",
          "2013Q2",
          "2013Q3",
          "2013Q4",
          "2014Q1",
          "2014Q2",
          "2014Q3",
          "2014Q4",
          "2015Q1",
          "2015Q2",
          "2015Q3",
          "2015Q4",
          "2016Q1",
          "2016Q2",
          "2016Q3",
          "2016Q4",
          "2017Q1",
          "2017Q2",
          "2017Q3",
          "2017Q4",
          "2018Q1",
          "2018Q2",
          "2018Q3",
          "2018Q4",
          "2019Q1",
          "2019Q2",
          "2019Q3",
          "2019Q4",
          "2020Q1",
          "2020Q2",
          "2020Q3"
         ],
         "xaxis": "x",
         "y": [
          174688,
          160046,
          158806,
          159945,
          166426,
          160189,
          161383,
          157664,
          172827,
          163584,
          163607,
          165288,
          178091,
          172863,
          167596,
          168948,
          178784,
          173305,
          186024,
          182526,
          194802,
          188559,
          185858,
          179407,
          190443,
          179921,
          177863,
          180958,
          193586,
          190168,
          188267,
          192060,
          207877
         ],
         "yaxis": "y"
        },
        {
         "hovertemplate": "<b>%{hovertext}</b><br><br>Geography=New Brunswick<br>Time=%{x}<br>AverageMortgageAmount=%{y}<br>PopulationSize=%{marker.size}<extra></extra>",
         "hovertext": [
          "2012Q3",
          "2012Q4",
          "2013Q1",
          "2013Q2",
          "2013Q3",
          "2013Q4",
          "2014Q1",
          "2014Q2",
          "2014Q3",
          "2014Q4",
          "2015Q1",
          "2015Q2",
          "2015Q3",
          "2015Q4",
          "2016Q1",
          "2016Q2",
          "2016Q3",
          "2016Q4",
          "2017Q1",
          "2017Q2",
          "2017Q3",
          "2017Q4",
          "2018Q1",
          "2018Q2",
          "2018Q3",
          "2018Q4",
          "2019Q1",
          "2019Q2",
          "2019Q3",
          "2019Q4",
          "2020Q1",
          "2020Q2",
          "2020Q3"
         ],
         "legendgroup": "New Brunswick",
         "marker": {
          "color": "#ab63fa",
          "size": [
           758378,
           758673,
           758298,
           758132,
           758544,
           758670,
           759018,
           758876,
           758976,
           759524,
           759617,
           758948,
           758842,
           759778,
           760580,
           762289,
           763350,
           764844,
           764617,
           764813,
           766621,
           767935,
           768005,
           768522,
           770301,
           772524,
           772748,
           773805,
           776868,
           780154,
           780040,
           781024,
           781476
          ],
          "sizemode": "area",
          "sizeref": 36835.035,
          "symbol": "circle"
         },
         "mode": "markers",
         "name": "New Brunswick",
         "orientation": "v",
         "showlegend": true,
         "type": "scatter",
         "x": [
          "2012Q3",
          "2012Q4",
          "2013Q1",
          "2013Q2",
          "2013Q3",
          "2013Q4",
          "2014Q1",
          "2014Q2",
          "2014Q3",
          "2014Q4",
          "2015Q1",
          "2015Q2",
          "2015Q3",
          "2015Q4",
          "2016Q1",
          "2016Q2",
          "2016Q3",
          "2016Q4",
          "2017Q1",
          "2017Q2",
          "2017Q3",
          "2017Q4",
          "2018Q1",
          "2018Q2",
          "2018Q3",
          "2018Q4",
          "2019Q1",
          "2019Q2",
          "2019Q3",
          "2019Q4",
          "2020Q1",
          "2020Q2",
          "2020Q3"
         ],
         "xaxis": "x",
         "y": [
          133390,
          126138,
          124645,
          122572,
          131542,
          128155,
          127766,
          124221,
          135592,
          132766,
          132025,
          128378,
          137565,
          137039,
          132325,
          133027,
          143533,
          140124,
          141196,
          135748,
          147934,
          142799,
          139711,
          139750,
          150353,
          143324,
          140850,
          137809,
          152606,
          147047,
          146701,
          149590,
          160349
         ],
         "yaxis": "y"
        },
        {
         "hovertemplate": "<b>%{hovertext}</b><br><br>Geography=Québec<br>Time=%{x}<br>AverageMortgageAmount=%{y}<br>PopulationSize=%{marker.size}<extra></extra>",
         "hovertext": [
          "2012Q3",
          "2012Q4",
          "2013Q1",
          "2013Q2",
          "2013Q3",
          "2013Q4",
          "2014Q1",
          "2014Q2",
          "2014Q3",
          "2014Q4",
          "2015Q1",
          "2015Q2",
          "2015Q3",
          "2015Q4",
          "2016Q1",
          "2016Q2",
          "2016Q3",
          "2016Q4",
          "2017Q1",
          "2017Q2",
          "2017Q3",
          "2017Q4",
          "2018Q1",
          "2018Q2",
          "2018Q3",
          "2018Q4",
          "2019Q1",
          "2019Q2",
          "2019Q3",
          "2019Q4",
          "2020Q1",
          "2020Q2",
          "2020Q3"
         ],
         "legendgroup": "Québec",
         "marker": {
          "color": "#FFA15A",
          "size": [
           8061101,
           8078388,
           8082771,
           8090916,
           8110880,
           8124660,
           8125478,
           8132425,
           8150183,
           8165447,
           8163132,
           8163063,
           8175272,
           8190014,
           8193624,
           8204085,
           8225950,
           8249692,
           8257450,
           8272894,
           8302063,
           8336460,
           8350601,
           8367551,
           8401738,
           8433888,
           8446906,
           8465271,
           8501703,
           8540429,
           8556650,
           8572054,
           8574571
          ],
          "sizemode": "area",
          "sizeref": 36835.035,
          "symbol": "circle"
         },
         "mode": "markers",
         "name": "Québec",
         "orientation": "v",
         "showlegend": true,
         "type": "scatter",
         "x": [
          "2012Q3",
          "2012Q4",
          "2013Q1",
          "2013Q2",
          "2013Q3",
          "2013Q4",
          "2014Q1",
          "2014Q2",
          "2014Q3",
          "2014Q4",
          "2015Q1",
          "2015Q2",
          "2015Q3",
          "2015Q4",
          "2016Q1",
          "2016Q2",
          "2016Q3",
          "2016Q4",
          "2017Q1",
          "2017Q2",
          "2017Q3",
          "2017Q4",
          "2018Q1",
          "2018Q2",
          "2018Q3",
          "2018Q4",
          "2019Q1",
          "2019Q2",
          "2019Q3",
          "2019Q4",
          "2020Q1",
          "2020Q2",
          "2020Q3"
         ],
         "xaxis": "x",
         "y": [
          159661,
          153413,
          153909,
          155016,
          160147,
          155512,
          156424,
          160165,
          166426,
          160073,
          161563,
          164764,
          170403,
          164235,
          167154,
          169326,
          176522,
          170309,
          171992,
          171716,
          177306,
          173182,
          175297,
          183507,
          187727,
          173911,
          175658,
          179523,
          187136,
          183501,
          189390,
          195538,
          203861
         ],
         "yaxis": "y"
        },
        {
         "hovertemplate": "<b>%{hovertext}</b><br><br>Geography=Ontario<br>Time=%{x}<br>AverageMortgageAmount=%{y}<br>PopulationSize=%{marker.size}<extra></extra>",
         "hovertext": [
          "2012Q3",
          "2012Q4",
          "2013Q1",
          "2013Q2",
          "2013Q3",
          "2013Q4",
          "2014Q1",
          "2014Q2",
          "2014Q3",
          "2014Q4",
          "2015Q1",
          "2015Q2",
          "2015Q3",
          "2015Q4",
          "2016Q1",
          "2016Q2",
          "2016Q3",
          "2016Q4",
          "2017Q1",
          "2017Q2",
          "2017Q3",
          "2017Q4",
          "2018Q1",
          "2018Q2",
          "2018Q3",
          "2018Q4",
          "2019Q1",
          "2019Q2",
          "2019Q3",
          "2019Q4",
          "2020Q1",
          "2020Q2",
          "2020Q3"
         ],
         "legendgroup": "Ontario",
         "marker": {
          "color": "#19d3f3",
          "size": [
           13390632,
           13434943,
           13444704,
           13467829,
           13510781,
           13558528,
           13562583,
           13582747,
           13617553,
           13661314,
           13657737,
           13669860,
           13707118,
           13757688,
           13773629,
           13816545,
           13875394,
           13946431,
           13971785,
           14006386,
           14070141,
           14150783,
           14186830,
           14235643,
           14308697,
           14393683,
           14428712,
           14467162,
           14544718,
           14637880,
           14689075,
           14723497,
           14734014
          ],
          "sizemode": "area",
          "sizeref": 36835.035,
          "symbol": "circle"
         },
         "mode": "markers",
         "name": "Ontario",
         "orientation": "v",
         "showlegend": true,
         "type": "scatter",
         "x": [
          "2012Q3",
          "2012Q4",
          "2013Q1",
          "2013Q2",
          "2013Q3",
          "2013Q4",
          "2014Q1",
          "2014Q2",
          "2014Q3",
          "2014Q4",
          "2015Q1",
          "2015Q2",
          "2015Q3",
          "2015Q4",
          "2016Q1",
          "2016Q2",
          "2016Q3",
          "2016Q4",
          "2017Q1",
          "2017Q2",
          "2017Q3",
          "2017Q4",
          "2018Q1",
          "2018Q2",
          "2018Q3",
          "2018Q4",
          "2019Q1",
          "2019Q2",
          "2019Q3",
          "2019Q4",
          "2020Q1",
          "2020Q2",
          "2020Q3"
         ],
         "xaxis": "x",
         "y": [
          247455,
          235667,
          233122,
          230770,
          249054,
          244060,
          244077,
          240828,
          262838,
          257244,
          254854,
          259093,
          281259,
          277802,
          278626,
          285024,
          307369,
          310236,
          319009,
          326645,
          338561,
          323821,
          322179,
          315576,
          327367,
          321579,
          321074,
          324080,
          343117,
          343768,
          348272,
          363432,
          373371
         ],
         "yaxis": "y"
        },
        {
         "hovertemplate": "<b>%{hovertext}</b><br><br>Geography=Manitoba<br>Time=%{x}<br>AverageMortgageAmount=%{y}<br>PopulationSize=%{marker.size}<extra></extra>",
         "hovertext": [
          "2012Q3",
          "2012Q4",
          "2013Q1",
          "2013Q2",
          "2013Q3",
          "2013Q4",
          "2014Q1",
          "2014Q2",
          "2014Q3",
          "2014Q4",
          "2015Q1",
          "2015Q2",
          "2015Q3",
          "2015Q4",
          "2016Q1",
          "2016Q2",
          "2016Q3",
          "2016Q4",
          "2017Q1",
          "2017Q2",
          "2017Q3",
          "2017Q4",
          "2018Q1",
          "2018Q2",
          "2018Q3",
          "2018Q4",
          "2019Q1",
          "2019Q2",
          "2019Q3",
          "2019Q4",
          "2020Q1",
          "2020Q2",
          "2020Q3"
         ],
         "legendgroup": "Manitoba",
         "marker": {
          "color": "#FF6692",
          "size": [
           1249975,
           1254178,
           1257940,
           1260834,
           1264620,
           1268428,
           1271562,
           1274407,
           1279014,
           1283366,
           1286453,
           1288094,
           1292227,
           1297329,
           1302544,
           1307689,
           1314139,
           1319911,
           1324129,
           1328412,
           1334790,
           1340565,
           1344418,
           1347055,
           1352825,
           1357879,
           1361632,
           1364223,
           1369540,
           1373574,
           1377004,
           1378818,
           1379263
          ],
          "sizemode": "area",
          "sizeref": 36835.035,
          "symbol": "circle"
         },
         "mode": "markers",
         "name": "Manitoba",
         "orientation": "v",
         "showlegend": true,
         "type": "scatter",
         "x": [
          "2012Q3",
          "2012Q4",
          "2013Q1",
          "2013Q2",
          "2013Q3",
          "2013Q4",
          "2014Q1",
          "2014Q2",
          "2014Q3",
          "2014Q4",
          "2015Q1",
          "2015Q2",
          "2015Q3",
          "2015Q4",
          "2016Q1",
          "2016Q2",
          "2016Q3",
          "2016Q4",
          "2017Q1",
          "2017Q2",
          "2017Q3",
          "2017Q4",
          "2018Q1",
          "2018Q2",
          "2018Q3",
          "2018Q4",
          "2019Q1",
          "2019Q2",
          "2019Q3",
          "2019Q4",
          "2020Q1",
          "2020Q2",
          "2020Q3"
         ],
         "xaxis": "x",
         "y": [
          188298,
          181097,
          177560,
          177517,
          192732,
          189570,
          188107,
          184554,
          200051,
          197527,
          191444,
          190383,
          206275,
          201640,
          193970,
          196385,
          209051,
          206958,
          203999,
          205085,
          216750,
          217136,
          207988,
          207436,
          220454,
          214060,
          206692,
          214873,
          222637,
          218918,
          212508,
          217416,
          232725
         ],
         "yaxis": "y"
        },
        {
         "hovertemplate": "<b>%{hovertext}</b><br><br>Geography=Saskatchewan<br>Time=%{x}<br>AverageMortgageAmount=%{y}<br>PopulationSize=%{marker.size}<extra></extra>",
         "hovertext": [
          "2012Q3",
          "2012Q4",
          "2013Q1",
          "2013Q2",
          "2013Q3",
          "2013Q4",
          "2014Q1",
          "2014Q2",
          "2014Q3",
          "2014Q4",
          "2015Q1",
          "2015Q2",
          "2015Q3",
          "2015Q4",
          "2016Q1",
          "2016Q2",
          "2016Q3",
          "2016Q4",
          "2017Q1",
          "2017Q2",
          "2017Q3",
          "2017Q4",
          "2018Q1",
          "2018Q2",
          "2018Q3",
          "2018Q4",
          "2019Q1",
          "2019Q2",
          "2019Q3",
          "2019Q4",
          "2020Q1",
          "2020Q2",
          "2020Q3"
         ],
         "legendgroup": "Saskatchewan",
         "marker": {
          "color": "#B6E880",
          "size": [
           1083755,
           1088959,
           1091547,
           1094390,
           1099736,
           1103730,
           1106374,
           1109631,
           1112979,
           1116203,
           1118181,
           1118806,
           1120967,
           1124919,
           1127773,
           1131147,
           1135987,
           1140690,
           1143313,
           1146218,
           1150331,
           1154755,
           1156659,
           1158451,
           1161767,
           1165938,
           1168461,
           1169286,
           1172302,
           1176272,
           1179154,
           1179618,
           1178681
          ],
          "sizemode": "area",
          "sizeref": 36835.035,
          "symbol": "circle"
         },
         "mode": "markers",
         "name": "Saskatchewan",
         "orientation": "v",
         "showlegend": true,
         "type": "scatter",
         "x": [
          "2012Q3",
          "2012Q4",
          "2013Q1",
          "2013Q2",
          "2013Q3",
          "2013Q4",
          "2014Q1",
          "2014Q2",
          "2014Q3",
          "2014Q4",
          "2015Q1",
          "2015Q2",
          "2015Q3",
          "2015Q4",
          "2016Q1",
          "2016Q2",
          "2016Q3",
          "2016Q4",
          "2017Q1",
          "2017Q2",
          "2017Q3",
          "2017Q4",
          "2018Q1",
          "2018Q2",
          "2018Q3",
          "2018Q4",
          "2019Q1",
          "2019Q2",
          "2019Q3",
          "2019Q4",
          "2020Q1",
          "2020Q2",
          "2020Q3"
         ],
         "xaxis": "x",
         "y": [
          217945,
          213126,
          206354,
          211979,
          224868,
          225414,
          226559,
          218781,
          231768,
          233854,
          228569,
          226957,
          234840,
          231611,
          225641,
          230729,
          236380,
          232174,
          234786,
          233545,
          238533,
          234340,
          230702,
          229851,
          233255,
          223628,
          217157,
          216369,
          228721,
          224315,
          216188,
          225641,
          237386
         ],
         "yaxis": "y"
        },
        {
         "hovertemplate": "<b>%{hovertext}</b><br><br>Geography=Alberta<br>Time=%{x}<br>AverageMortgageAmount=%{y}<br>PopulationSize=%{marker.size}<extra></extra>",
         "hovertext": [
          "2012Q3",
          "2012Q4",
          "2013Q1",
          "2013Q2",
          "2013Q3",
          "2013Q4",
          "2014Q1",
          "2014Q2",
          "2014Q3",
          "2014Q4",
          "2015Q1",
          "2015Q2",
          "2015Q3",
          "2015Q4",
          "2016Q1",
          "2016Q2",
          "2016Q3",
          "2016Q4",
          "2017Q1",
          "2017Q2",
          "2017Q3",
          "2017Q4",
          "2018Q1",
          "2018Q2",
          "2018Q3",
          "2018Q4",
          "2019Q1",
          "2019Q2",
          "2019Q3",
          "2019Q4",
          "2020Q1",
          "2020Q2",
          "2020Q3"
         ],
         "legendgroup": "Alberta",
         "marker": {
          "color": "#FF97FF",
          "size": [
           3874548,
           3900333,
           3920499,
           3946798,
           3981011,
           4010903,
           4029951,
           4054280,
           4083648,
           4106056,
           4116047,
           4128300,
           4144491,
           4159519,
           4169830,
           4181765,
           4196061,
           4208958,
           4217855,
           4227969,
           4241100,
           4258195,
           4268853,
           4281706,
           4298275,
           4317453,
           4330698,
           4343951,
           4361694,
           4384968,
           4402045,
           4417006,
           4421876
          ],
          "sizemode": "area",
          "sizeref": 36835.035,
          "symbol": "circle"
         },
         "mode": "markers",
         "name": "Alberta",
         "orientation": "v",
         "showlegend": true,
         "type": "scatter",
         "x": [
          "2012Q3",
          "2012Q4",
          "2013Q1",
          "2013Q2",
          "2013Q3",
          "2013Q4",
          "2014Q1",
          "2014Q2",
          "2014Q3",
          "2014Q4",
          "2015Q1",
          "2015Q2",
          "2015Q3",
          "2015Q4",
          "2016Q1",
          "2016Q2",
          "2016Q3",
          "2016Q4",
          "2017Q1",
          "2017Q2",
          "2017Q3",
          "2017Q4",
          "2018Q1",
          "2018Q2",
          "2018Q3",
          "2018Q4",
          "2019Q1",
          "2019Q2",
          "2019Q3",
          "2019Q4",
          "2020Q1",
          "2020Q2",
          "2020Q3"
         ],
         "xaxis": "x",
         "y": [
          282371,
          277555,
          277158,
          278516,
          289263,
          284928,
          291926,
          290722,
          304374,
          305558,
          303976,
          299837,
          309953,
          303244,
          296111,
          298884,
          304683,
          302095,
          301254,
          300115,
          307837,
          307662,
          302814,
          302116,
          305101,
          295839,
          291721,
          293612,
          297609,
          297552,
          291747,
          296269,
          305600
         ],
         "yaxis": "y"
        },
        {
         "hovertemplate": "<b>%{hovertext}</b><br><br>Geography=British Columbia<br>Time=%{x}<br>AverageMortgageAmount=%{y}<br>PopulationSize=%{marker.size}<extra></extra>",
         "hovertext": [
          "2012Q3",
          "2012Q4",
          "2013Q1",
          "2013Q2",
          "2013Q3",
          "2013Q4",
          "2014Q1",
          "2014Q2",
          "2014Q3",
          "2014Q4",
          "2015Q1",
          "2015Q2",
          "2015Q3",
          "2015Q4",
          "2016Q1",
          "2016Q2",
          "2016Q3",
          "2016Q4",
          "2017Q1",
          "2017Q2",
          "2017Q3",
          "2017Q4",
          "2018Q1",
          "2018Q2",
          "2018Q3",
          "2018Q4",
          "2019Q1",
          "2019Q2",
          "2019Q3",
          "2019Q4",
          "2020Q1",
          "2020Q2",
          "2020Q3"
         ],
         "legendgroup": "British Columbia",
         "marker": {
          "color": "#FECB52",
          "size": [
           4566769,
           4590545,
           4598255,
           4611648,
           4630077,
           4658875,
           4666788,
           4684490,
           4707103,
           4737725,
           4745468,
           4757759,
           4776388,
           4802955,
           4811465,
           4832155,
           4859250,
           4884002,
           4890848,
           4905210,
           4929384,
           4956550,
           4967421,
           4983183,
           5010476,
           5039661,
           5046576,
           5063527,
           5090955,
           5125659,
           5131575,
           5142404,
           5147712
          ],
          "sizemode": "area",
          "sizeref": 36835.035,
          "symbol": "circle"
         },
         "mode": "markers",
         "name": "British Columbia",
         "orientation": "v",
         "showlegend": true,
         "type": "scatter",
         "x": [
          "2012Q3",
          "2012Q4",
          "2013Q1",
          "2013Q2",
          "2013Q3",
          "2013Q4",
          "2014Q1",
          "2014Q2",
          "2014Q3",
          "2014Q4",
          "2015Q1",
          "2015Q2",
          "2015Q3",
          "2015Q4",
          "2016Q1",
          "2016Q2",
          "2016Q3",
          "2016Q4",
          "2017Q1",
          "2017Q2",
          "2017Q3",
          "2017Q4",
          "2018Q1",
          "2018Q2",
          "2018Q3",
          "2018Q4",
          "2019Q1",
          "2019Q2",
          "2019Q3",
          "2019Q4",
          "2020Q1",
          "2020Q2",
          "2020Q3"
         ],
         "xaxis": "x",
         "y": [
          305427,
          289864,
          286652,
          290928,
          303663,
          305256,
          309374,
          305138,
          321625,
          323373,
          325035,
          328540,
          350672,
          357016,
          368782,
          385910,
          395297,
          366703,
          358655,
          369174,
          389430,
          381223,
          384794,
          371860,
          378187,
          364330,
          363239,
          363924,
          376343,
          386494,
          393711,
          397853,
          417004
         ],
         "yaxis": "y"
        }
       ],
       "layout": {
        "legend": {
         "itemsizing": "constant",
         "title": {
          "text": "Geography"
         },
         "tracegroupgap": 0
        },
        "template": {
         "data": {
          "bar": [
           {
            "error_x": {
             "color": "#2a3f5f"
            },
            "error_y": {
             "color": "#2a3f5f"
            },
            "marker": {
             "line": {
              "color": "#E5ECF6",
              "width": 0.5
             }
            },
            "type": "bar"
           }
          ],
          "barpolar": [
           {
            "marker": {
             "line": {
              "color": "#E5ECF6",
              "width": 0.5
             }
            },
            "type": "barpolar"
           }
          ],
          "carpet": [
           {
            "aaxis": {
             "endlinecolor": "#2a3f5f",
             "gridcolor": "white",
             "linecolor": "white",
             "minorgridcolor": "white",
             "startlinecolor": "#2a3f5f"
            },
            "baxis": {
             "endlinecolor": "#2a3f5f",
             "gridcolor": "white",
             "linecolor": "white",
             "minorgridcolor": "white",
             "startlinecolor": "#2a3f5f"
            },
            "type": "carpet"
           }
          ],
          "choropleth": [
           {
            "colorbar": {
             "outlinewidth": 0,
             "ticks": ""
            },
            "type": "choropleth"
           }
          ],
          "contour": [
           {
            "colorbar": {
             "outlinewidth": 0,
             "ticks": ""
            },
            "colorscale": [
             [
              0,
              "#0d0887"
             ],
             [
              0.1111111111111111,
              "#46039f"
             ],
             [
              0.2222222222222222,
              "#7201a8"
             ],
             [
              0.3333333333333333,
              "#9c179e"
             ],
             [
              0.4444444444444444,
              "#bd3786"
             ],
             [
              0.5555555555555556,
              "#d8576b"
             ],
             [
              0.6666666666666666,
              "#ed7953"
             ],
             [
              0.7777777777777778,
              "#fb9f3a"
             ],
             [
              0.8888888888888888,
              "#fdca26"
             ],
             [
              1,
              "#f0f921"
             ]
            ],
            "type": "contour"
           }
          ],
          "contourcarpet": [
           {
            "colorbar": {
             "outlinewidth": 0,
             "ticks": ""
            },
            "type": "contourcarpet"
           }
          ],
          "heatmap": [
           {
            "colorbar": {
             "outlinewidth": 0,
             "ticks": ""
            },
            "colorscale": [
             [
              0,
              "#0d0887"
             ],
             [
              0.1111111111111111,
              "#46039f"
             ],
             [
              0.2222222222222222,
              "#7201a8"
             ],
             [
              0.3333333333333333,
              "#9c179e"
             ],
             [
              0.4444444444444444,
              "#bd3786"
             ],
             [
              0.5555555555555556,
              "#d8576b"
             ],
             [
              0.6666666666666666,
              "#ed7953"
             ],
             [
              0.7777777777777778,
              "#fb9f3a"
             ],
             [
              0.8888888888888888,
              "#fdca26"
             ],
             [
              1,
              "#f0f921"
             ]
            ],
            "type": "heatmap"
           }
          ],
          "heatmapgl": [
           {
            "colorbar": {
             "outlinewidth": 0,
             "ticks": ""
            },
            "colorscale": [
             [
              0,
              "#0d0887"
             ],
             [
              0.1111111111111111,
              "#46039f"
             ],
             [
              0.2222222222222222,
              "#7201a8"
             ],
             [
              0.3333333333333333,
              "#9c179e"
             ],
             [
              0.4444444444444444,
              "#bd3786"
             ],
             [
              0.5555555555555556,
              "#d8576b"
             ],
             [
              0.6666666666666666,
              "#ed7953"
             ],
             [
              0.7777777777777778,
              "#fb9f3a"
             ],
             [
              0.8888888888888888,
              "#fdca26"
             ],
             [
              1,
              "#f0f921"
             ]
            ],
            "type": "heatmapgl"
           }
          ],
          "histogram": [
           {
            "marker": {
             "colorbar": {
              "outlinewidth": 0,
              "ticks": ""
             }
            },
            "type": "histogram"
           }
          ],
          "histogram2d": [
           {
            "colorbar": {
             "outlinewidth": 0,
             "ticks": ""
            },
            "colorscale": [
             [
              0,
              "#0d0887"
             ],
             [
              0.1111111111111111,
              "#46039f"
             ],
             [
              0.2222222222222222,
              "#7201a8"
             ],
             [
              0.3333333333333333,
              "#9c179e"
             ],
             [
              0.4444444444444444,
              "#bd3786"
             ],
             [
              0.5555555555555556,
              "#d8576b"
             ],
             [
              0.6666666666666666,
              "#ed7953"
             ],
             [
              0.7777777777777778,
              "#fb9f3a"
             ],
             [
              0.8888888888888888,
              "#fdca26"
             ],
             [
              1,
              "#f0f921"
             ]
            ],
            "type": "histogram2d"
           }
          ],
          "histogram2dcontour": [
           {
            "colorbar": {
             "outlinewidth": 0,
             "ticks": ""
            },
            "colorscale": [
             [
              0,
              "#0d0887"
             ],
             [
              0.1111111111111111,
              "#46039f"
             ],
             [
              0.2222222222222222,
              "#7201a8"
             ],
             [
              0.3333333333333333,
              "#9c179e"
             ],
             [
              0.4444444444444444,
              "#bd3786"
             ],
             [
              0.5555555555555556,
              "#d8576b"
             ],
             [
              0.6666666666666666,
              "#ed7953"
             ],
             [
              0.7777777777777778,
              "#fb9f3a"
             ],
             [
              0.8888888888888888,
              "#fdca26"
             ],
             [
              1,
              "#f0f921"
             ]
            ],
            "type": "histogram2dcontour"
           }
          ],
          "mesh3d": [
           {
            "colorbar": {
             "outlinewidth": 0,
             "ticks": ""
            },
            "type": "mesh3d"
           }
          ],
          "parcoords": [
           {
            "line": {
             "colorbar": {
              "outlinewidth": 0,
              "ticks": ""
             }
            },
            "type": "parcoords"
           }
          ],
          "pie": [
           {
            "automargin": true,
            "type": "pie"
           }
          ],
          "scatter": [
           {
            "marker": {
             "colorbar": {
              "outlinewidth": 0,
              "ticks": ""
             }
            },
            "type": "scatter"
           }
          ],
          "scatter3d": [
           {
            "line": {
             "colorbar": {
              "outlinewidth": 0,
              "ticks": ""
             }
            },
            "marker": {
             "colorbar": {
              "outlinewidth": 0,
              "ticks": ""
             }
            },
            "type": "scatter3d"
           }
          ],
          "scattercarpet": [
           {
            "marker": {
             "colorbar": {
              "outlinewidth": 0,
              "ticks": ""
             }
            },
            "type": "scattercarpet"
           }
          ],
          "scattergeo": [
           {
            "marker": {
             "colorbar": {
              "outlinewidth": 0,
              "ticks": ""
             }
            },
            "type": "scattergeo"
           }
          ],
          "scattergl": [
           {
            "marker": {
             "colorbar": {
              "outlinewidth": 0,
              "ticks": ""
             }
            },
            "type": "scattergl"
           }
          ],
          "scattermapbox": [
           {
            "marker": {
             "colorbar": {
              "outlinewidth": 0,
              "ticks": ""
             }
            },
            "type": "scattermapbox"
           }
          ],
          "scatterpolar": [
           {
            "marker": {
             "colorbar": {
              "outlinewidth": 0,
              "ticks": ""
             }
            },
            "type": "scatterpolar"
           }
          ],
          "scatterpolargl": [
           {
            "marker": {
             "colorbar": {
              "outlinewidth": 0,
              "ticks": ""
             }
            },
            "type": "scatterpolargl"
           }
          ],
          "scatterternary": [
           {
            "marker": {
             "colorbar": {
              "outlinewidth": 0,
              "ticks": ""
             }
            },
            "type": "scatterternary"
           }
          ],
          "surface": [
           {
            "colorbar": {
             "outlinewidth": 0,
             "ticks": ""
            },
            "colorscale": [
             [
              0,
              "#0d0887"
             ],
             [
              0.1111111111111111,
              "#46039f"
             ],
             [
              0.2222222222222222,
              "#7201a8"
             ],
             [
              0.3333333333333333,
              "#9c179e"
             ],
             [
              0.4444444444444444,
              "#bd3786"
             ],
             [
              0.5555555555555556,
              "#d8576b"
             ],
             [
              0.6666666666666666,
              "#ed7953"
             ],
             [
              0.7777777777777778,
              "#fb9f3a"
             ],
             [
              0.8888888888888888,
              "#fdca26"
             ],
             [
              1,
              "#f0f921"
             ]
            ],
            "type": "surface"
           }
          ],
          "table": [
           {
            "cells": {
             "fill": {
              "color": "#EBF0F8"
             },
             "line": {
              "color": "white"
             }
            },
            "header": {
             "fill": {
              "color": "#C8D4E3"
             },
             "line": {
              "color": "white"
             }
            },
            "type": "table"
           }
          ]
         },
         "layout": {
          "annotationdefaults": {
           "arrowcolor": "#2a3f5f",
           "arrowhead": 0,
           "arrowwidth": 1
          },
          "autotypenumbers": "strict",
          "coloraxis": {
           "colorbar": {
            "outlinewidth": 0,
            "ticks": ""
           }
          },
          "colorscale": {
           "diverging": [
            [
             0,
             "#8e0152"
            ],
            [
             0.1,
             "#c51b7d"
            ],
            [
             0.2,
             "#de77ae"
            ],
            [
             0.3,
             "#f1b6da"
            ],
            [
             0.4,
             "#fde0ef"
            ],
            [
             0.5,
             "#f7f7f7"
            ],
            [
             0.6,
             "#e6f5d0"
            ],
            [
             0.7,
             "#b8e186"
            ],
            [
             0.8,
             "#7fbc41"
            ],
            [
             0.9,
             "#4d9221"
            ],
            [
             1,
             "#276419"
            ]
           ],
           "sequential": [
            [
             0,
             "#0d0887"
            ],
            [
             0.1111111111111111,
             "#46039f"
            ],
            [
             0.2222222222222222,
             "#7201a8"
            ],
            [
             0.3333333333333333,
             "#9c179e"
            ],
            [
             0.4444444444444444,
             "#bd3786"
            ],
            [
             0.5555555555555556,
             "#d8576b"
            ],
            [
             0.6666666666666666,
             "#ed7953"
            ],
            [
             0.7777777777777778,
             "#fb9f3a"
            ],
            [
             0.8888888888888888,
             "#fdca26"
            ],
            [
             1,
             "#f0f921"
            ]
           ],
           "sequentialminus": [
            [
             0,
             "#0d0887"
            ],
            [
             0.1111111111111111,
             "#46039f"
            ],
            [
             0.2222222222222222,
             "#7201a8"
            ],
            [
             0.3333333333333333,
             "#9c179e"
            ],
            [
             0.4444444444444444,
             "#bd3786"
            ],
            [
             0.5555555555555556,
             "#d8576b"
            ],
            [
             0.6666666666666666,
             "#ed7953"
            ],
            [
             0.7777777777777778,
             "#fb9f3a"
            ],
            [
             0.8888888888888888,
             "#fdca26"
            ],
            [
             1,
             "#f0f921"
            ]
           ]
          },
          "colorway": [
           "#636efa",
           "#EF553B",
           "#00cc96",
           "#ab63fa",
           "#FFA15A",
           "#19d3f3",
           "#FF6692",
           "#B6E880",
           "#FF97FF",
           "#FECB52"
          ],
          "font": {
           "color": "#2a3f5f"
          },
          "geo": {
           "bgcolor": "white",
           "lakecolor": "white",
           "landcolor": "#E5ECF6",
           "showlakes": true,
           "showland": true,
           "subunitcolor": "white"
          },
          "hoverlabel": {
           "align": "left"
          },
          "hovermode": "closest",
          "mapbox": {
           "style": "light"
          },
          "paper_bgcolor": "white",
          "plot_bgcolor": "#E5ECF6",
          "polar": {
           "angularaxis": {
            "gridcolor": "white",
            "linecolor": "white",
            "ticks": ""
           },
           "bgcolor": "#E5ECF6",
           "radialaxis": {
            "gridcolor": "white",
            "linecolor": "white",
            "ticks": ""
           }
          },
          "scene": {
           "xaxis": {
            "backgroundcolor": "#E5ECF6",
            "gridcolor": "white",
            "gridwidth": 2,
            "linecolor": "white",
            "showbackground": true,
            "ticks": "",
            "zerolinecolor": "white"
           },
           "yaxis": {
            "backgroundcolor": "#E5ECF6",
            "gridcolor": "white",
            "gridwidth": 2,
            "linecolor": "white",
            "showbackground": true,
            "ticks": "",
            "zerolinecolor": "white"
           },
           "zaxis": {
            "backgroundcolor": "#E5ECF6",
            "gridcolor": "white",
            "gridwidth": 2,
            "linecolor": "white",
            "showbackground": true,
            "ticks": "",
            "zerolinecolor": "white"
           }
          },
          "shapedefaults": {
           "line": {
            "color": "#2a3f5f"
           }
          },
          "ternary": {
           "aaxis": {
            "gridcolor": "white",
            "linecolor": "white",
            "ticks": ""
           },
           "baxis": {
            "gridcolor": "white",
            "linecolor": "white",
            "ticks": ""
           },
           "bgcolor": "#E5ECF6",
           "caxis": {
            "gridcolor": "white",
            "linecolor": "white",
            "ticks": ""
           }
          },
          "title": {
           "x": 0.05
          },
          "xaxis": {
           "automargin": true,
           "gridcolor": "white",
           "linecolor": "white",
           "ticks": "",
           "title": {
            "standoff": 15
           },
           "zerolinecolor": "white",
           "zerolinewidth": 2
          },
          "yaxis": {
           "automargin": true,
           "gridcolor": "white",
           "linecolor": "white",
           "ticks": "",
           "title": {
            "standoff": 15
           },
           "zerolinecolor": "white",
           "zerolinewidth": 2
          }
         }
        },
        "title": {
         "text": "Average Mortgage by Province"
        },
        "xaxis": {
         "anchor": "y",
         "domain": [
          0,
          1
         ],
         "title": {
          "text": "Time"
         }
        },
        "yaxis": {
         "anchor": "x",
         "domain": [
          0,
          1
         ],
         "title": {
          "text": "AverageMortgageAmount"
         }
        }
       }
      },
      "text/html": [
       "<div>                            <div id=\"4010fa2f-44e4-4d45-914a-ecc2d2ec8efc\" class=\"plotly-graph-div\" style=\"height:525px; width:100%;\"></div>            <script type=\"text/javascript\">                require([\"plotly\"], function(Plotly) {                    window.PLOTLYENV=window.PLOTLYENV || {};                                    if (document.getElementById(\"4010fa2f-44e4-4d45-914a-ecc2d2ec8efc\")) {                    Plotly.newPlot(                        \"4010fa2f-44e4-4d45-914a-ecc2d2ec8efc\",                        [{\"hovertemplate\": \"<b>%{hovertext}</b><br><br>Geography=Newfoundland<br>Time=%{x}<br>AverageMortgageAmount=%{y}<br>PopulationSize=%{marker.size}<extra></extra>\", \"hovertext\": [\"2012Q3\", \"2012Q4\", \"2013Q1\", \"2013Q2\", \"2013Q3\", \"2013Q4\", \"2014Q1\", \"2014Q2\", \"2014Q3\", \"2014Q4\", \"2015Q1\", \"2015Q2\", \"2015Q3\", \"2015Q4\", \"2016Q1\", \"2016Q2\", \"2016Q3\", \"2016Q4\", \"2017Q1\", \"2017Q2\", \"2017Q3\", \"2017Q4\", \"2018Q1\", \"2018Q2\", \"2018Q3\", \"2018Q4\", \"2019Q1\", \"2019Q2\", \"2019Q3\", \"2019Q4\", \"2020Q1\", \"2020Q2\", \"2020Q3\"], \"legendgroup\": \"Newfoundland\", \"marker\": {\"color\": \"#636efa\", \"size\": [526345, 527180, 527248, 527313, 527114, 528117, 528242, 527498, 528159, 528461, 528361, 528063, 528117, 528696, 528800, 529063, 529426, 529900, 529347, 528544, 528249, 528288, 527544, 526395, 525560, 525765, 524883, 524126, 523476, 524137, 523631, 522994, 522103], \"sizemode\": \"area\", \"sizeref\": 36835.035, \"symbol\": \"circle\"}, \"mode\": \"markers\", \"name\": \"Newfoundland\", \"orientation\": \"v\", \"showlegend\": true, \"type\": \"scatter\", \"x\": [\"2012Q3\", \"2012Q4\", \"2013Q1\", \"2013Q2\", \"2013Q3\", \"2013Q4\", \"2014Q1\", \"2014Q2\", \"2014Q3\", \"2014Q4\", \"2015Q1\", \"2015Q2\", \"2015Q3\", \"2015Q4\", \"2016Q1\", \"2016Q2\", \"2016Q3\", \"2016Q4\", \"2017Q1\", \"2017Q2\", \"2017Q3\", \"2017Q4\", \"2018Q1\", \"2018Q2\", \"2018Q3\", \"2018Q4\", \"2019Q1\", \"2019Q2\", \"2019Q3\", \"2019Q4\", \"2020Q1\", \"2020Q2\", \"2020Q3\"], \"xaxis\": \"x\", \"y\": [188732, 185794, 189098, 181331, 191818, 193100, 195479, 192856, 199560, 200310, 197406, 193956, 199758, 202487, 196798, 196806, 198265, 197794, 192057, 191412, 200378, 193619, 196431, 192252, 192106, 188614, 185276, 190582, 194536, 193870, 186268, 187431, 196100], \"yaxis\": \"y\"}, {\"hovertemplate\": \"<b>%{hovertext}</b><br><br>Geography=Prince Edward Island<br>Time=%{x}<br>AverageMortgageAmount=%{y}<br>PopulationSize=%{marker.size}<extra></extra>\", \"hovertext\": [\"2012Q3\", \"2012Q4\", \"2013Q1\", \"2013Q2\", \"2013Q3\", \"2013Q4\", \"2014Q1\", \"2014Q2\", \"2014Q3\", \"2014Q4\", \"2015Q1\", \"2015Q2\", \"2015Q3\", \"2015Q4\", \"2016Q1\", \"2016Q2\", \"2016Q3\", \"2016Q4\", \"2017Q1\", \"2017Q2\", \"2017Q3\", \"2017Q4\", \"2018Q1\", \"2018Q2\", \"2018Q3\", \"2018Q4\", \"2019Q1\", \"2019Q2\", \"2019Q3\", \"2019Q4\", \"2020Q1\", \"2020Q2\", \"2020Q3\"], \"legendgroup\": \"Prince Edward Island\", \"marker\": {\"color\": \"#EF553B\", \"size\": [144530, 144520, 144175, 143948, 144094, 144103, 143996, 143984, 144283, 144538, 144368, 144259, 144546, 144894, 145202, 145784, 146969, 147936, 148181, 148860, 150402, 151376, 151516, 152039, 153396, 155129, 155244, 155833, 157262, 158334, 158629, 159249, 159625], \"sizemode\": \"area\", \"sizeref\": 36835.035, \"symbol\": \"circle\"}, \"mode\": \"markers\", \"name\": \"Prince Edward Island\", \"orientation\": \"v\", \"showlegend\": true, \"type\": \"scatter\", \"x\": [\"2012Q3\", \"2012Q4\", \"2013Q1\", \"2013Q2\", \"2013Q3\", \"2013Q4\", \"2014Q1\", \"2014Q2\", \"2014Q3\", \"2014Q4\", \"2015Q1\", \"2015Q2\", \"2015Q3\", \"2015Q4\", \"2016Q1\", \"2016Q2\", \"2016Q3\", \"2016Q4\", \"2017Q1\", \"2017Q2\", \"2017Q3\", \"2017Q4\", \"2018Q1\", \"2018Q2\", \"2018Q3\", \"2018Q4\", \"2019Q1\", \"2019Q2\", \"2019Q3\", \"2019Q4\", \"2020Q1\", \"2020Q2\", \"2020Q3\"], \"xaxis\": \"x\", \"y\": [140279, 138415, 137162, 126763, 139506, 141453, 141141, 137427, 143320, 141232, 146885, 146818, 150403, 155926, 157322, 150732, 169651, 155799, 175124, 174901, 176919, 175523, 179179, 182114, 181967, 178140, 181172, 181358, 190715, 185934, 193439, 189309, 204415], \"yaxis\": \"y\"}, {\"hovertemplate\": \"<b>%{hovertext}</b><br><br>Geography=Nova Scotia<br>Time=%{x}<br>AverageMortgageAmount=%{y}<br>PopulationSize=%{marker.size}<extra></extra>\", \"hovertext\": [\"2012Q3\", \"2012Q4\", \"2013Q1\", \"2013Q2\", \"2013Q3\", \"2013Q4\", \"2014Q1\", \"2014Q2\", \"2014Q3\", \"2014Q4\", \"2015Q1\", \"2015Q2\", \"2015Q3\", \"2015Q4\", \"2016Q1\", \"2016Q2\", \"2016Q3\", \"2016Q4\", \"2017Q1\", \"2017Q2\", \"2017Q3\", \"2017Q4\", \"2018Q1\", \"2018Q2\", \"2018Q3\", \"2018Q4\", \"2019Q1\", \"2019Q2\", \"2019Q3\", \"2019Q4\", \"2020Q1\", \"2020Q2\", \"2020Q3\"], \"legendgroup\": \"Nova Scotia\", \"marker\": {\"color\": \"#00cc96\", \"size\": [943635, 943341, 942598, 941230, 940434, 940105, 939867, 938913, 938545, 938972, 938296, 936271, 936525, 938320, 938690, 940382, 942790, 946030, 945943, 947384, 950108, 953683, 953838, 954618, 958406, 963309, 963890, 965287, 969747, 975231, 975898, 977043, 979351], \"sizemode\": \"area\", \"sizeref\": 36835.035, \"symbol\": \"circle\"}, \"mode\": \"markers\", \"name\": \"Nova Scotia\", \"orientation\": \"v\", \"showlegend\": true, \"type\": \"scatter\", \"x\": [\"2012Q3\", \"2012Q4\", \"2013Q1\", \"2013Q2\", \"2013Q3\", \"2013Q4\", \"2014Q1\", \"2014Q2\", \"2014Q3\", \"2014Q4\", \"2015Q1\", \"2015Q2\", \"2015Q3\", \"2015Q4\", \"2016Q1\", \"2016Q2\", \"2016Q3\", \"2016Q4\", \"2017Q1\", \"2017Q2\", \"2017Q3\", \"2017Q4\", \"2018Q1\", \"2018Q2\", \"2018Q3\", \"2018Q4\", \"2019Q1\", \"2019Q2\", \"2019Q3\", \"2019Q4\", \"2020Q1\", \"2020Q2\", \"2020Q3\"], \"xaxis\": \"x\", \"y\": [174688, 160046, 158806, 159945, 166426, 160189, 161383, 157664, 172827, 163584, 163607, 165288, 178091, 172863, 167596, 168948, 178784, 173305, 186024, 182526, 194802, 188559, 185858, 179407, 190443, 179921, 177863, 180958, 193586, 190168, 188267, 192060, 207877], \"yaxis\": \"y\"}, {\"hovertemplate\": \"<b>%{hovertext}</b><br><br>Geography=New Brunswick<br>Time=%{x}<br>AverageMortgageAmount=%{y}<br>PopulationSize=%{marker.size}<extra></extra>\", \"hovertext\": [\"2012Q3\", \"2012Q4\", \"2013Q1\", \"2013Q2\", \"2013Q3\", \"2013Q4\", \"2014Q1\", \"2014Q2\", \"2014Q3\", \"2014Q4\", \"2015Q1\", \"2015Q2\", \"2015Q3\", \"2015Q4\", \"2016Q1\", \"2016Q2\", \"2016Q3\", \"2016Q4\", \"2017Q1\", \"2017Q2\", \"2017Q3\", \"2017Q4\", \"2018Q1\", \"2018Q2\", \"2018Q3\", \"2018Q4\", \"2019Q1\", \"2019Q2\", \"2019Q3\", \"2019Q4\", \"2020Q1\", \"2020Q2\", \"2020Q3\"], \"legendgroup\": \"New Brunswick\", \"marker\": {\"color\": \"#ab63fa\", \"size\": [758378, 758673, 758298, 758132, 758544, 758670, 759018, 758876, 758976, 759524, 759617, 758948, 758842, 759778, 760580, 762289, 763350, 764844, 764617, 764813, 766621, 767935, 768005, 768522, 770301, 772524, 772748, 773805, 776868, 780154, 780040, 781024, 781476], \"sizemode\": \"area\", \"sizeref\": 36835.035, \"symbol\": \"circle\"}, \"mode\": \"markers\", \"name\": \"New Brunswick\", \"orientation\": \"v\", \"showlegend\": true, \"type\": \"scatter\", \"x\": [\"2012Q3\", \"2012Q4\", \"2013Q1\", \"2013Q2\", \"2013Q3\", \"2013Q4\", \"2014Q1\", \"2014Q2\", \"2014Q3\", \"2014Q4\", \"2015Q1\", \"2015Q2\", \"2015Q3\", \"2015Q4\", \"2016Q1\", \"2016Q2\", \"2016Q3\", \"2016Q4\", \"2017Q1\", \"2017Q2\", \"2017Q3\", \"2017Q4\", \"2018Q1\", \"2018Q2\", \"2018Q3\", \"2018Q4\", \"2019Q1\", \"2019Q2\", \"2019Q3\", \"2019Q4\", \"2020Q1\", \"2020Q2\", \"2020Q3\"], \"xaxis\": \"x\", \"y\": [133390, 126138, 124645, 122572, 131542, 128155, 127766, 124221, 135592, 132766, 132025, 128378, 137565, 137039, 132325, 133027, 143533, 140124, 141196, 135748, 147934, 142799, 139711, 139750, 150353, 143324, 140850, 137809, 152606, 147047, 146701, 149590, 160349], \"yaxis\": \"y\"}, {\"hovertemplate\": \"<b>%{hovertext}</b><br><br>Geography=Qu\\u00e9bec<br>Time=%{x}<br>AverageMortgageAmount=%{y}<br>PopulationSize=%{marker.size}<extra></extra>\", \"hovertext\": [\"2012Q3\", \"2012Q4\", \"2013Q1\", \"2013Q2\", \"2013Q3\", \"2013Q4\", \"2014Q1\", \"2014Q2\", \"2014Q3\", \"2014Q4\", \"2015Q1\", \"2015Q2\", \"2015Q3\", \"2015Q4\", \"2016Q1\", \"2016Q2\", \"2016Q3\", \"2016Q4\", \"2017Q1\", \"2017Q2\", \"2017Q3\", \"2017Q4\", \"2018Q1\", \"2018Q2\", \"2018Q3\", \"2018Q4\", \"2019Q1\", \"2019Q2\", \"2019Q3\", \"2019Q4\", \"2020Q1\", \"2020Q2\", \"2020Q3\"], \"legendgroup\": \"Qu\\u00e9bec\", \"marker\": {\"color\": \"#FFA15A\", \"size\": [8061101, 8078388, 8082771, 8090916, 8110880, 8124660, 8125478, 8132425, 8150183, 8165447, 8163132, 8163063, 8175272, 8190014, 8193624, 8204085, 8225950, 8249692, 8257450, 8272894, 8302063, 8336460, 8350601, 8367551, 8401738, 8433888, 8446906, 8465271, 8501703, 8540429, 8556650, 8572054, 8574571], \"sizemode\": \"area\", \"sizeref\": 36835.035, \"symbol\": \"circle\"}, \"mode\": \"markers\", \"name\": \"Qu\\u00e9bec\", \"orientation\": \"v\", \"showlegend\": true, \"type\": \"scatter\", \"x\": [\"2012Q3\", \"2012Q4\", \"2013Q1\", \"2013Q2\", \"2013Q3\", \"2013Q4\", \"2014Q1\", \"2014Q2\", \"2014Q3\", \"2014Q4\", \"2015Q1\", \"2015Q2\", \"2015Q3\", \"2015Q4\", \"2016Q1\", \"2016Q2\", \"2016Q3\", \"2016Q4\", \"2017Q1\", \"2017Q2\", \"2017Q3\", \"2017Q4\", \"2018Q1\", \"2018Q2\", \"2018Q3\", \"2018Q4\", \"2019Q1\", \"2019Q2\", \"2019Q3\", \"2019Q4\", \"2020Q1\", \"2020Q2\", \"2020Q3\"], \"xaxis\": \"x\", \"y\": [159661, 153413, 153909, 155016, 160147, 155512, 156424, 160165, 166426, 160073, 161563, 164764, 170403, 164235, 167154, 169326, 176522, 170309, 171992, 171716, 177306, 173182, 175297, 183507, 187727, 173911, 175658, 179523, 187136, 183501, 189390, 195538, 203861], \"yaxis\": \"y\"}, {\"hovertemplate\": \"<b>%{hovertext}</b><br><br>Geography=Ontario<br>Time=%{x}<br>AverageMortgageAmount=%{y}<br>PopulationSize=%{marker.size}<extra></extra>\", \"hovertext\": [\"2012Q3\", \"2012Q4\", \"2013Q1\", \"2013Q2\", \"2013Q3\", \"2013Q4\", \"2014Q1\", \"2014Q2\", \"2014Q3\", \"2014Q4\", \"2015Q1\", \"2015Q2\", \"2015Q3\", \"2015Q4\", \"2016Q1\", \"2016Q2\", \"2016Q3\", \"2016Q4\", \"2017Q1\", \"2017Q2\", \"2017Q3\", \"2017Q4\", \"2018Q1\", \"2018Q2\", \"2018Q3\", \"2018Q4\", \"2019Q1\", \"2019Q2\", \"2019Q3\", \"2019Q4\", \"2020Q1\", \"2020Q2\", \"2020Q3\"], \"legendgroup\": \"Ontario\", \"marker\": {\"color\": \"#19d3f3\", \"size\": [13390632, 13434943, 13444704, 13467829, 13510781, 13558528, 13562583, 13582747, 13617553, 13661314, 13657737, 13669860, 13707118, 13757688, 13773629, 13816545, 13875394, 13946431, 13971785, 14006386, 14070141, 14150783, 14186830, 14235643, 14308697, 14393683, 14428712, 14467162, 14544718, 14637880, 14689075, 14723497, 14734014], \"sizemode\": \"area\", \"sizeref\": 36835.035, \"symbol\": \"circle\"}, \"mode\": \"markers\", \"name\": \"Ontario\", \"orientation\": \"v\", \"showlegend\": true, \"type\": \"scatter\", \"x\": [\"2012Q3\", \"2012Q4\", \"2013Q1\", \"2013Q2\", \"2013Q3\", \"2013Q4\", \"2014Q1\", \"2014Q2\", \"2014Q3\", \"2014Q4\", \"2015Q1\", \"2015Q2\", \"2015Q3\", \"2015Q4\", \"2016Q1\", \"2016Q2\", \"2016Q3\", \"2016Q4\", \"2017Q1\", \"2017Q2\", \"2017Q3\", \"2017Q4\", \"2018Q1\", \"2018Q2\", \"2018Q3\", \"2018Q4\", \"2019Q1\", \"2019Q2\", \"2019Q3\", \"2019Q4\", \"2020Q1\", \"2020Q2\", \"2020Q3\"], \"xaxis\": \"x\", \"y\": [247455, 235667, 233122, 230770, 249054, 244060, 244077, 240828, 262838, 257244, 254854, 259093, 281259, 277802, 278626, 285024, 307369, 310236, 319009, 326645, 338561, 323821, 322179, 315576, 327367, 321579, 321074, 324080, 343117, 343768, 348272, 363432, 373371], \"yaxis\": \"y\"}, {\"hovertemplate\": \"<b>%{hovertext}</b><br><br>Geography=Manitoba<br>Time=%{x}<br>AverageMortgageAmount=%{y}<br>PopulationSize=%{marker.size}<extra></extra>\", \"hovertext\": [\"2012Q3\", \"2012Q4\", \"2013Q1\", \"2013Q2\", \"2013Q3\", \"2013Q4\", \"2014Q1\", \"2014Q2\", \"2014Q3\", \"2014Q4\", \"2015Q1\", \"2015Q2\", \"2015Q3\", \"2015Q4\", \"2016Q1\", \"2016Q2\", \"2016Q3\", \"2016Q4\", \"2017Q1\", \"2017Q2\", \"2017Q3\", \"2017Q4\", \"2018Q1\", \"2018Q2\", \"2018Q3\", \"2018Q4\", \"2019Q1\", \"2019Q2\", \"2019Q3\", \"2019Q4\", \"2020Q1\", \"2020Q2\", \"2020Q3\"], \"legendgroup\": \"Manitoba\", \"marker\": {\"color\": \"#FF6692\", \"size\": [1249975, 1254178, 1257940, 1260834, 1264620, 1268428, 1271562, 1274407, 1279014, 1283366, 1286453, 1288094, 1292227, 1297329, 1302544, 1307689, 1314139, 1319911, 1324129, 1328412, 1334790, 1340565, 1344418, 1347055, 1352825, 1357879, 1361632, 1364223, 1369540, 1373574, 1377004, 1378818, 1379263], \"sizemode\": \"area\", \"sizeref\": 36835.035, \"symbol\": \"circle\"}, \"mode\": \"markers\", \"name\": \"Manitoba\", \"orientation\": \"v\", \"showlegend\": true, \"type\": \"scatter\", \"x\": [\"2012Q3\", \"2012Q4\", \"2013Q1\", \"2013Q2\", \"2013Q3\", \"2013Q4\", \"2014Q1\", \"2014Q2\", \"2014Q3\", \"2014Q4\", \"2015Q1\", \"2015Q2\", \"2015Q3\", \"2015Q4\", \"2016Q1\", \"2016Q2\", \"2016Q3\", \"2016Q4\", \"2017Q1\", \"2017Q2\", \"2017Q3\", \"2017Q4\", \"2018Q1\", \"2018Q2\", \"2018Q3\", \"2018Q4\", \"2019Q1\", \"2019Q2\", \"2019Q3\", \"2019Q4\", \"2020Q1\", \"2020Q2\", \"2020Q3\"], \"xaxis\": \"x\", \"y\": [188298, 181097, 177560, 177517, 192732, 189570, 188107, 184554, 200051, 197527, 191444, 190383, 206275, 201640, 193970, 196385, 209051, 206958, 203999, 205085, 216750, 217136, 207988, 207436, 220454, 214060, 206692, 214873, 222637, 218918, 212508, 217416, 232725], \"yaxis\": \"y\"}, {\"hovertemplate\": \"<b>%{hovertext}</b><br><br>Geography=Saskatchewan<br>Time=%{x}<br>AverageMortgageAmount=%{y}<br>PopulationSize=%{marker.size}<extra></extra>\", \"hovertext\": [\"2012Q3\", \"2012Q4\", \"2013Q1\", \"2013Q2\", \"2013Q3\", \"2013Q4\", \"2014Q1\", \"2014Q2\", \"2014Q3\", \"2014Q4\", \"2015Q1\", \"2015Q2\", \"2015Q3\", \"2015Q4\", \"2016Q1\", \"2016Q2\", \"2016Q3\", \"2016Q4\", \"2017Q1\", \"2017Q2\", \"2017Q3\", \"2017Q4\", \"2018Q1\", \"2018Q2\", \"2018Q3\", \"2018Q4\", \"2019Q1\", \"2019Q2\", \"2019Q3\", \"2019Q4\", \"2020Q1\", \"2020Q2\", \"2020Q3\"], \"legendgroup\": \"Saskatchewan\", \"marker\": {\"color\": \"#B6E880\", \"size\": [1083755, 1088959, 1091547, 1094390, 1099736, 1103730, 1106374, 1109631, 1112979, 1116203, 1118181, 1118806, 1120967, 1124919, 1127773, 1131147, 1135987, 1140690, 1143313, 1146218, 1150331, 1154755, 1156659, 1158451, 1161767, 1165938, 1168461, 1169286, 1172302, 1176272, 1179154, 1179618, 1178681], \"sizemode\": \"area\", \"sizeref\": 36835.035, \"symbol\": \"circle\"}, \"mode\": \"markers\", \"name\": \"Saskatchewan\", \"orientation\": \"v\", \"showlegend\": true, \"type\": \"scatter\", \"x\": [\"2012Q3\", \"2012Q4\", \"2013Q1\", \"2013Q2\", \"2013Q3\", \"2013Q4\", \"2014Q1\", \"2014Q2\", \"2014Q3\", \"2014Q4\", \"2015Q1\", \"2015Q2\", \"2015Q3\", \"2015Q4\", \"2016Q1\", \"2016Q2\", \"2016Q3\", \"2016Q4\", \"2017Q1\", \"2017Q2\", \"2017Q3\", \"2017Q4\", \"2018Q1\", \"2018Q2\", \"2018Q3\", \"2018Q4\", \"2019Q1\", \"2019Q2\", \"2019Q3\", \"2019Q4\", \"2020Q1\", \"2020Q2\", \"2020Q3\"], \"xaxis\": \"x\", \"y\": [217945, 213126, 206354, 211979, 224868, 225414, 226559, 218781, 231768, 233854, 228569, 226957, 234840, 231611, 225641, 230729, 236380, 232174, 234786, 233545, 238533, 234340, 230702, 229851, 233255, 223628, 217157, 216369, 228721, 224315, 216188, 225641, 237386], \"yaxis\": \"y\"}, {\"hovertemplate\": \"<b>%{hovertext}</b><br><br>Geography=Alberta<br>Time=%{x}<br>AverageMortgageAmount=%{y}<br>PopulationSize=%{marker.size}<extra></extra>\", \"hovertext\": [\"2012Q3\", \"2012Q4\", \"2013Q1\", \"2013Q2\", \"2013Q3\", \"2013Q4\", \"2014Q1\", \"2014Q2\", \"2014Q3\", \"2014Q4\", \"2015Q1\", \"2015Q2\", \"2015Q3\", \"2015Q4\", \"2016Q1\", \"2016Q2\", \"2016Q3\", \"2016Q4\", \"2017Q1\", \"2017Q2\", \"2017Q3\", \"2017Q4\", \"2018Q1\", \"2018Q2\", \"2018Q3\", \"2018Q4\", \"2019Q1\", \"2019Q2\", \"2019Q3\", \"2019Q4\", \"2020Q1\", \"2020Q2\", \"2020Q3\"], \"legendgroup\": \"Alberta\", \"marker\": {\"color\": \"#FF97FF\", \"size\": [3874548, 3900333, 3920499, 3946798, 3981011, 4010903, 4029951, 4054280, 4083648, 4106056, 4116047, 4128300, 4144491, 4159519, 4169830, 4181765, 4196061, 4208958, 4217855, 4227969, 4241100, 4258195, 4268853, 4281706, 4298275, 4317453, 4330698, 4343951, 4361694, 4384968, 4402045, 4417006, 4421876], \"sizemode\": \"area\", \"sizeref\": 36835.035, \"symbol\": \"circle\"}, \"mode\": \"markers\", \"name\": \"Alberta\", \"orientation\": \"v\", \"showlegend\": true, \"type\": \"scatter\", \"x\": [\"2012Q3\", \"2012Q4\", \"2013Q1\", \"2013Q2\", \"2013Q3\", \"2013Q4\", \"2014Q1\", \"2014Q2\", \"2014Q3\", \"2014Q4\", \"2015Q1\", \"2015Q2\", \"2015Q3\", \"2015Q4\", \"2016Q1\", \"2016Q2\", \"2016Q3\", \"2016Q4\", \"2017Q1\", \"2017Q2\", \"2017Q3\", \"2017Q4\", \"2018Q1\", \"2018Q2\", \"2018Q3\", \"2018Q4\", \"2019Q1\", \"2019Q2\", \"2019Q3\", \"2019Q4\", \"2020Q1\", \"2020Q2\", \"2020Q3\"], \"xaxis\": \"x\", \"y\": [282371, 277555, 277158, 278516, 289263, 284928, 291926, 290722, 304374, 305558, 303976, 299837, 309953, 303244, 296111, 298884, 304683, 302095, 301254, 300115, 307837, 307662, 302814, 302116, 305101, 295839, 291721, 293612, 297609, 297552, 291747, 296269, 305600], \"yaxis\": \"y\"}, {\"hovertemplate\": \"<b>%{hovertext}</b><br><br>Geography=British Columbia<br>Time=%{x}<br>AverageMortgageAmount=%{y}<br>PopulationSize=%{marker.size}<extra></extra>\", \"hovertext\": [\"2012Q3\", \"2012Q4\", \"2013Q1\", \"2013Q2\", \"2013Q3\", \"2013Q4\", \"2014Q1\", \"2014Q2\", \"2014Q3\", \"2014Q4\", \"2015Q1\", \"2015Q2\", \"2015Q3\", \"2015Q4\", \"2016Q1\", \"2016Q2\", \"2016Q3\", \"2016Q4\", \"2017Q1\", \"2017Q2\", \"2017Q3\", \"2017Q4\", \"2018Q1\", \"2018Q2\", \"2018Q3\", \"2018Q4\", \"2019Q1\", \"2019Q2\", \"2019Q3\", \"2019Q4\", \"2020Q1\", \"2020Q2\", \"2020Q3\"], \"legendgroup\": \"British Columbia\", \"marker\": {\"color\": \"#FECB52\", \"size\": [4566769, 4590545, 4598255, 4611648, 4630077, 4658875, 4666788, 4684490, 4707103, 4737725, 4745468, 4757759, 4776388, 4802955, 4811465, 4832155, 4859250, 4884002, 4890848, 4905210, 4929384, 4956550, 4967421, 4983183, 5010476, 5039661, 5046576, 5063527, 5090955, 5125659, 5131575, 5142404, 5147712], \"sizemode\": \"area\", \"sizeref\": 36835.035, \"symbol\": \"circle\"}, \"mode\": \"markers\", \"name\": \"British Columbia\", \"orientation\": \"v\", \"showlegend\": true, \"type\": \"scatter\", \"x\": [\"2012Q3\", \"2012Q4\", \"2013Q1\", \"2013Q2\", \"2013Q3\", \"2013Q4\", \"2014Q1\", \"2014Q2\", \"2014Q3\", \"2014Q4\", \"2015Q1\", \"2015Q2\", \"2015Q3\", \"2015Q4\", \"2016Q1\", \"2016Q2\", \"2016Q3\", \"2016Q4\", \"2017Q1\", \"2017Q2\", \"2017Q3\", \"2017Q4\", \"2018Q1\", \"2018Q2\", \"2018Q3\", \"2018Q4\", \"2019Q1\", \"2019Q2\", \"2019Q3\", \"2019Q4\", \"2020Q1\", \"2020Q2\", \"2020Q3\"], \"xaxis\": \"x\", \"y\": [305427, 289864, 286652, 290928, 303663, 305256, 309374, 305138, 321625, 323373, 325035, 328540, 350672, 357016, 368782, 385910, 395297, 366703, 358655, 369174, 389430, 381223, 384794, 371860, 378187, 364330, 363239, 363924, 376343, 386494, 393711, 397853, 417004], \"yaxis\": \"y\"}],                        {\"legend\": {\"itemsizing\": \"constant\", \"title\": {\"text\": \"Geography\"}, \"tracegroupgap\": 0}, \"template\": {\"data\": {\"bar\": [{\"error_x\": {\"color\": \"#2a3f5f\"}, \"error_y\": {\"color\": \"#2a3f5f\"}, \"marker\": {\"line\": {\"color\": \"#E5ECF6\", \"width\": 0.5}}, \"type\": \"bar\"}], \"barpolar\": [{\"marker\": {\"line\": {\"color\": \"#E5ECF6\", \"width\": 0.5}}, \"type\": \"barpolar\"}], \"carpet\": [{\"aaxis\": {\"endlinecolor\": \"#2a3f5f\", \"gridcolor\": \"white\", \"linecolor\": \"white\", \"minorgridcolor\": \"white\", \"startlinecolor\": \"#2a3f5f\"}, \"baxis\": {\"endlinecolor\": \"#2a3f5f\", \"gridcolor\": \"white\", \"linecolor\": \"white\", \"minorgridcolor\": \"white\", \"startlinecolor\": \"#2a3f5f\"}, \"type\": \"carpet\"}], \"choropleth\": [{\"colorbar\": {\"outlinewidth\": 0, \"ticks\": \"\"}, \"type\": \"choropleth\"}], \"contour\": [{\"colorbar\": {\"outlinewidth\": 0, \"ticks\": \"\"}, \"colorscale\": [[0.0, \"#0d0887\"], [0.1111111111111111, \"#46039f\"], [0.2222222222222222, \"#7201a8\"], [0.3333333333333333, \"#9c179e\"], [0.4444444444444444, \"#bd3786\"], [0.5555555555555556, \"#d8576b\"], [0.6666666666666666, \"#ed7953\"], [0.7777777777777778, \"#fb9f3a\"], [0.8888888888888888, \"#fdca26\"], [1.0, \"#f0f921\"]], \"type\": \"contour\"}], \"contourcarpet\": [{\"colorbar\": {\"outlinewidth\": 0, \"ticks\": \"\"}, \"type\": \"contourcarpet\"}], \"heatmap\": [{\"colorbar\": {\"outlinewidth\": 0, \"ticks\": \"\"}, \"colorscale\": [[0.0, \"#0d0887\"], [0.1111111111111111, \"#46039f\"], [0.2222222222222222, \"#7201a8\"], [0.3333333333333333, \"#9c179e\"], [0.4444444444444444, \"#bd3786\"], [0.5555555555555556, \"#d8576b\"], [0.6666666666666666, \"#ed7953\"], [0.7777777777777778, \"#fb9f3a\"], [0.8888888888888888, \"#fdca26\"], [1.0, \"#f0f921\"]], \"type\": \"heatmap\"}], \"heatmapgl\": [{\"colorbar\": {\"outlinewidth\": 0, \"ticks\": \"\"}, \"colorscale\": [[0.0, \"#0d0887\"], [0.1111111111111111, \"#46039f\"], [0.2222222222222222, \"#7201a8\"], [0.3333333333333333, \"#9c179e\"], [0.4444444444444444, \"#bd3786\"], [0.5555555555555556, \"#d8576b\"], [0.6666666666666666, \"#ed7953\"], [0.7777777777777778, \"#fb9f3a\"], [0.8888888888888888, \"#fdca26\"], [1.0, \"#f0f921\"]], \"type\": \"heatmapgl\"}], \"histogram\": [{\"marker\": {\"colorbar\": {\"outlinewidth\": 0, \"ticks\": \"\"}}, \"type\": \"histogram\"}], \"histogram2d\": [{\"colorbar\": {\"outlinewidth\": 0, \"ticks\": \"\"}, \"colorscale\": [[0.0, \"#0d0887\"], [0.1111111111111111, \"#46039f\"], [0.2222222222222222, \"#7201a8\"], [0.3333333333333333, \"#9c179e\"], [0.4444444444444444, \"#bd3786\"], [0.5555555555555556, \"#d8576b\"], [0.6666666666666666, \"#ed7953\"], [0.7777777777777778, \"#fb9f3a\"], [0.8888888888888888, \"#fdca26\"], [1.0, \"#f0f921\"]], \"type\": \"histogram2d\"}], \"histogram2dcontour\": [{\"colorbar\": {\"outlinewidth\": 0, \"ticks\": \"\"}, \"colorscale\": [[0.0, \"#0d0887\"], [0.1111111111111111, \"#46039f\"], [0.2222222222222222, \"#7201a8\"], [0.3333333333333333, \"#9c179e\"], [0.4444444444444444, \"#bd3786\"], [0.5555555555555556, \"#d8576b\"], [0.6666666666666666, \"#ed7953\"], [0.7777777777777778, \"#fb9f3a\"], [0.8888888888888888, \"#fdca26\"], [1.0, \"#f0f921\"]], \"type\": \"histogram2dcontour\"}], \"mesh3d\": [{\"colorbar\": {\"outlinewidth\": 0, \"ticks\": \"\"}, \"type\": \"mesh3d\"}], \"parcoords\": [{\"line\": {\"colorbar\": {\"outlinewidth\": 0, \"ticks\": \"\"}}, \"type\": \"parcoords\"}], \"pie\": [{\"automargin\": true, \"type\": \"pie\"}], \"scatter\": [{\"marker\": {\"colorbar\": {\"outlinewidth\": 0, \"ticks\": \"\"}}, \"type\": \"scatter\"}], \"scatter3d\": [{\"line\": {\"colorbar\": {\"outlinewidth\": 0, \"ticks\": \"\"}}, \"marker\": {\"colorbar\": {\"outlinewidth\": 0, \"ticks\": \"\"}}, \"type\": \"scatter3d\"}], \"scattercarpet\": [{\"marker\": {\"colorbar\": {\"outlinewidth\": 0, \"ticks\": \"\"}}, \"type\": \"scattercarpet\"}], \"scattergeo\": [{\"marker\": {\"colorbar\": {\"outlinewidth\": 0, \"ticks\": \"\"}}, \"type\": \"scattergeo\"}], \"scattergl\": [{\"marker\": {\"colorbar\": {\"outlinewidth\": 0, \"ticks\": \"\"}}, \"type\": \"scattergl\"}], \"scattermapbox\": [{\"marker\": {\"colorbar\": {\"outlinewidth\": 0, \"ticks\": \"\"}}, \"type\": \"scattermapbox\"}], \"scatterpolar\": [{\"marker\": {\"colorbar\": {\"outlinewidth\": 0, \"ticks\": \"\"}}, \"type\": \"scatterpolar\"}], \"scatterpolargl\": [{\"marker\": {\"colorbar\": {\"outlinewidth\": 0, \"ticks\": \"\"}}, \"type\": \"scatterpolargl\"}], \"scatterternary\": [{\"marker\": {\"colorbar\": {\"outlinewidth\": 0, \"ticks\": \"\"}}, \"type\": \"scatterternary\"}], \"surface\": [{\"colorbar\": {\"outlinewidth\": 0, \"ticks\": \"\"}, \"colorscale\": [[0.0, \"#0d0887\"], [0.1111111111111111, \"#46039f\"], [0.2222222222222222, \"#7201a8\"], [0.3333333333333333, \"#9c179e\"], [0.4444444444444444, \"#bd3786\"], [0.5555555555555556, \"#d8576b\"], [0.6666666666666666, \"#ed7953\"], [0.7777777777777778, \"#fb9f3a\"], [0.8888888888888888, \"#fdca26\"], [1.0, \"#f0f921\"]], \"type\": \"surface\"}], \"table\": [{\"cells\": {\"fill\": {\"color\": \"#EBF0F8\"}, \"line\": {\"color\": \"white\"}}, \"header\": {\"fill\": {\"color\": \"#C8D4E3\"}, \"line\": {\"color\": \"white\"}}, \"type\": \"table\"}]}, \"layout\": {\"annotationdefaults\": {\"arrowcolor\": \"#2a3f5f\", \"arrowhead\": 0, \"arrowwidth\": 1}, \"autotypenumbers\": \"strict\", \"coloraxis\": {\"colorbar\": {\"outlinewidth\": 0, \"ticks\": \"\"}}, \"colorscale\": {\"diverging\": [[0, \"#8e0152\"], [0.1, \"#c51b7d\"], [0.2, \"#de77ae\"], [0.3, \"#f1b6da\"], [0.4, \"#fde0ef\"], [0.5, \"#f7f7f7\"], [0.6, \"#e6f5d0\"], [0.7, \"#b8e186\"], [0.8, \"#7fbc41\"], [0.9, \"#4d9221\"], [1, \"#276419\"]], \"sequential\": [[0.0, \"#0d0887\"], [0.1111111111111111, \"#46039f\"], [0.2222222222222222, \"#7201a8\"], [0.3333333333333333, \"#9c179e\"], [0.4444444444444444, \"#bd3786\"], [0.5555555555555556, \"#d8576b\"], [0.6666666666666666, \"#ed7953\"], [0.7777777777777778, \"#fb9f3a\"], [0.8888888888888888, \"#fdca26\"], [1.0, \"#f0f921\"]], \"sequentialminus\": [[0.0, \"#0d0887\"], [0.1111111111111111, \"#46039f\"], [0.2222222222222222, \"#7201a8\"], [0.3333333333333333, \"#9c179e\"], [0.4444444444444444, \"#bd3786\"], [0.5555555555555556, \"#d8576b\"], [0.6666666666666666, \"#ed7953\"], [0.7777777777777778, \"#fb9f3a\"], [0.8888888888888888, \"#fdca26\"], [1.0, \"#f0f921\"]]}, \"colorway\": [\"#636efa\", \"#EF553B\", \"#00cc96\", \"#ab63fa\", \"#FFA15A\", \"#19d3f3\", \"#FF6692\", \"#B6E880\", \"#FF97FF\", \"#FECB52\"], \"font\": {\"color\": \"#2a3f5f\"}, \"geo\": {\"bgcolor\": \"white\", \"lakecolor\": \"white\", \"landcolor\": \"#E5ECF6\", \"showlakes\": true, \"showland\": true, \"subunitcolor\": \"white\"}, \"hoverlabel\": {\"align\": \"left\"}, \"hovermode\": \"closest\", \"mapbox\": {\"style\": \"light\"}, \"paper_bgcolor\": \"white\", \"plot_bgcolor\": \"#E5ECF6\", \"polar\": {\"angularaxis\": {\"gridcolor\": \"white\", \"linecolor\": \"white\", \"ticks\": \"\"}, \"bgcolor\": \"#E5ECF6\", \"radialaxis\": {\"gridcolor\": \"white\", \"linecolor\": \"white\", \"ticks\": \"\"}}, \"scene\": {\"xaxis\": {\"backgroundcolor\": \"#E5ECF6\", \"gridcolor\": \"white\", \"gridwidth\": 2, \"linecolor\": \"white\", \"showbackground\": true, \"ticks\": \"\", \"zerolinecolor\": \"white\"}, \"yaxis\": {\"backgroundcolor\": \"#E5ECF6\", \"gridcolor\": \"white\", \"gridwidth\": 2, \"linecolor\": \"white\", \"showbackground\": true, \"ticks\": \"\", \"zerolinecolor\": \"white\"}, \"zaxis\": {\"backgroundcolor\": \"#E5ECF6\", \"gridcolor\": \"white\", \"gridwidth\": 2, \"linecolor\": \"white\", \"showbackground\": true, \"ticks\": \"\", \"zerolinecolor\": \"white\"}}, \"shapedefaults\": {\"line\": {\"color\": \"#2a3f5f\"}}, \"ternary\": {\"aaxis\": {\"gridcolor\": \"white\", \"linecolor\": \"white\", \"ticks\": \"\"}, \"baxis\": {\"gridcolor\": \"white\", \"linecolor\": \"white\", \"ticks\": \"\"}, \"bgcolor\": \"#E5ECF6\", \"caxis\": {\"gridcolor\": \"white\", \"linecolor\": \"white\", \"ticks\": \"\"}}, \"title\": {\"x\": 0.05}, \"xaxis\": {\"automargin\": true, \"gridcolor\": \"white\", \"linecolor\": \"white\", \"ticks\": \"\", \"title\": {\"standoff\": 15}, \"zerolinecolor\": \"white\", \"zerolinewidth\": 2}, \"yaxis\": {\"automargin\": true, \"gridcolor\": \"white\", \"linecolor\": \"white\", \"ticks\": \"\", \"title\": {\"standoff\": 15}, \"zerolinecolor\": \"white\", \"zerolinewidth\": 2}}}, \"title\": {\"text\": \"Average Mortgage by Province\"}, \"xaxis\": {\"anchor\": \"y\", \"domain\": [0.0, 1.0], \"title\": {\"text\": \"Time\"}}, \"yaxis\": {\"anchor\": \"x\", \"domain\": [0.0, 1.0], \"title\": {\"text\": \"AverageMortgageAmount\"}}},                        {\"responsive\": true}                    ).then(function(){\n",
       "                            \n",
       "var gd = document.getElementById('4010fa2f-44e4-4d45-914a-ecc2d2ec8efc');\n",
       "var x = new MutationObserver(function (mutations, observer) {{\n",
       "        var display = window.getComputedStyle(gd).display;\n",
       "        if (!display || display === 'none') {{\n",
       "            console.log([gd, 'removed!']);\n",
       "            Plotly.purge(gd);\n",
       "            observer.disconnect();\n",
       "        }}\n",
       "}});\n",
       "\n",
       "// Listen for the removal of the full notebook cells\n",
       "var notebookContainer = gd.closest('#notebook-container');\n",
       "if (notebookContainer) {{\n",
       "    x.observe(notebookContainer, {childList: true});\n",
       "}}\n",
       "\n",
       "// Listen for the clearing of the current output cell\n",
       "var outputEl = gd.closest('.output');\n",
       "if (outputEl) {{\n",
       "    x.observe(outputEl, {childList: true});\n",
       "}}\n",
       "\n",
       "                        })                };                });            </script>        </div>"
      ]
     },
     "metadata": {},
     "output_type": "display_data"
    }
   ],
   "source": [
    "px.scatter(data_frame=data_pop_del_mort_df,\n",
    "          y = \"AverageMortgageAmount\",\n",
    "          x = \"Time\",\n",
    "          size= \"PopulationSize\",\n",
    "          color= \"Geography\", \n",
    "          hover_name=\"Time\",\n",
    "          title=\"Average Mortgage by Province\")"
   ]
  },
  {
   "cell_type": "code",
   "execution_count": 30,
   "metadata": {},
   "outputs": [
    {
     "data": {
      "application/vnd.plotly.v1+json": {
       "config": {
        "plotlyServerURL": "https://plot.ly"
       },
       "data": [
        {
         "hovertemplate": "<b>%{hovertext}</b><br><br>Geography=Newfoundland<br>Time=%{x}<br>DelinquencyRate=%{y}<br>PopulationSize=%{marker.size}<extra></extra>",
         "hovertext": [
          "2012Q3",
          "2012Q4",
          "2013Q1",
          "2013Q2",
          "2013Q3",
          "2013Q4",
          "2014Q1",
          "2014Q2",
          "2014Q3",
          "2014Q4",
          "2015Q1",
          "2015Q2",
          "2015Q3",
          "2015Q4",
          "2016Q1",
          "2016Q2",
          "2016Q3",
          "2016Q4",
          "2017Q1",
          "2017Q2",
          "2017Q3",
          "2017Q4",
          "2018Q1",
          "2018Q2",
          "2018Q3",
          "2018Q4",
          "2019Q1",
          "2019Q2",
          "2019Q3",
          "2019Q4",
          "2020Q1",
          "2020Q2",
          "2020Q3"
         ],
         "legendgroup": "Newfoundland",
         "marker": {
          "color": "#636efa",
          "size": [
           526345,
           527180,
           527248,
           527313,
           527114,
           528117,
           528242,
           527498,
           528159,
           528461,
           528361,
           528063,
           528117,
           528696,
           528800,
           529063,
           529426,
           529900,
           529347,
           528544,
           528249,
           528288,
           527544,
           526395,
           525560,
           525765,
           524883,
           524126,
           523476,
           524137,
           523631,
           522994,
           522103
          ],
          "sizemode": "area",
          "sizeref": 36835.035,
          "symbol": "circle"
         },
         "mode": "markers",
         "name": "Newfoundland",
         "orientation": "v",
         "showlegend": true,
         "type": "scatter",
         "x": [
          "2012Q3",
          "2012Q4",
          "2013Q1",
          "2013Q2",
          "2013Q3",
          "2013Q4",
          "2014Q1",
          "2014Q2",
          "2014Q3",
          "2014Q4",
          "2015Q1",
          "2015Q2",
          "2015Q3",
          "2015Q4",
          "2016Q1",
          "2016Q2",
          "2016Q3",
          "2016Q4",
          "2017Q1",
          "2017Q2",
          "2017Q3",
          "2017Q4",
          "2018Q1",
          "2018Q2",
          "2018Q3",
          "2018Q4",
          "2019Q1",
          "2019Q2",
          "2019Q3",
          "2019Q4",
          "2020Q1",
          "2020Q2",
          "2020Q3"
         ],
         "xaxis": "x",
         "y": [
          0.24,
          0.22,
          0.25,
          0.19,
          0.2,
          0.22,
          0.23,
          0.25,
          0.26,
          0.28,
          0.37,
          0.37,
          0.37,
          0.41,
          0.45,
          0.46,
          0.49,
          0.46,
          0.47,
          0.47,
          0.46,
          0.52,
          0.56,
          0.6,
          0.6,
          0.62,
          0.64,
          0.65,
          0.65,
          0.65,
          0.67,
          0.68,
          0.64
         ],
         "yaxis": "y"
        },
        {
         "hovertemplate": "<b>%{hovertext}</b><br><br>Geography=Prince Edward Island<br>Time=%{x}<br>DelinquencyRate=%{y}<br>PopulationSize=%{marker.size}<extra></extra>",
         "hovertext": [
          "2012Q3",
          "2012Q4",
          "2013Q1",
          "2013Q2",
          "2013Q3",
          "2013Q4",
          "2014Q1",
          "2014Q2",
          "2014Q3",
          "2014Q4",
          "2015Q1",
          "2015Q2",
          "2015Q3",
          "2015Q4",
          "2016Q1",
          "2016Q2",
          "2016Q3",
          "2016Q4",
          "2017Q1",
          "2017Q2",
          "2017Q3",
          "2017Q4",
          "2018Q1",
          "2018Q2",
          "2018Q3",
          "2018Q4",
          "2019Q1",
          "2019Q2",
          "2019Q3",
          "2019Q4",
          "2020Q1",
          "2020Q2",
          "2020Q3"
         ],
         "legendgroup": "Prince Edward Island",
         "marker": {
          "color": "#EF553B",
          "size": [
           144530,
           144520,
           144175,
           143948,
           144094,
           144103,
           143996,
           143984,
           144283,
           144538,
           144368,
           144259,
           144546,
           144894,
           145202,
           145784,
           146969,
           147936,
           148181,
           148860,
           150402,
           151376,
           151516,
           152039,
           153396,
           155129,
           155244,
           155833,
           157262,
           158334,
           158629,
           159249,
           159625
          ],
          "sizemode": "area",
          "sizeref": 36835.035,
          "symbol": "circle"
         },
         "mode": "markers",
         "name": "Prince Edward Island",
         "orientation": "v",
         "showlegend": true,
         "type": "scatter",
         "x": [
          "2012Q3",
          "2012Q4",
          "2013Q1",
          "2013Q2",
          "2013Q3",
          "2013Q4",
          "2014Q1",
          "2014Q2",
          "2014Q3",
          "2014Q4",
          "2015Q1",
          "2015Q2",
          "2015Q3",
          "2015Q4",
          "2016Q1",
          "2016Q2",
          "2016Q3",
          "2016Q4",
          "2017Q1",
          "2017Q2",
          "2017Q3",
          "2017Q4",
          "2018Q1",
          "2018Q2",
          "2018Q3",
          "2018Q4",
          "2019Q1",
          "2019Q2",
          "2019Q3",
          "2019Q4",
          "2020Q1",
          "2020Q2",
          "2020Q3"
         ],
         "xaxis": "x",
         "y": [
          0.57,
          0.5,
          0.55,
          0.47,
          0.56,
          0.58,
          0.6,
          0.6,
          0.56,
          0.57,
          0.68,
          0.62,
          0.63,
          0.67,
          0.7,
          0.7,
          0.67,
          0.6,
          0.66,
          0.55,
          0.54,
          0.44,
          0.5,
          0.45,
          0.43,
          0.39,
          0.39,
          0.38,
          0.34,
          0.32,
          0.25,
          0.26,
          0.27
         ],
         "yaxis": "y"
        },
        {
         "hovertemplate": "<b>%{hovertext}</b><br><br>Geography=Nova Scotia<br>Time=%{x}<br>DelinquencyRate=%{y}<br>PopulationSize=%{marker.size}<extra></extra>",
         "hovertext": [
          "2012Q3",
          "2012Q4",
          "2013Q1",
          "2013Q2",
          "2013Q3",
          "2013Q4",
          "2014Q1",
          "2014Q2",
          "2014Q3",
          "2014Q4",
          "2015Q1",
          "2015Q2",
          "2015Q3",
          "2015Q4",
          "2016Q1",
          "2016Q2",
          "2016Q3",
          "2016Q4",
          "2017Q1",
          "2017Q2",
          "2017Q3",
          "2017Q4",
          "2018Q1",
          "2018Q2",
          "2018Q3",
          "2018Q4",
          "2019Q1",
          "2019Q2",
          "2019Q3",
          "2019Q4",
          "2020Q1",
          "2020Q2",
          "2020Q3"
         ],
         "legendgroup": "Nova Scotia",
         "marker": {
          "color": "#00cc96",
          "size": [
           943635,
           943341,
           942598,
           941230,
           940434,
           940105,
           939867,
           938913,
           938545,
           938972,
           938296,
           936271,
           936525,
           938320,
           938690,
           940382,
           942790,
           946030,
           945943,
           947384,
           950108,
           953683,
           953838,
           954618,
           958406,
           963309,
           963890,
           965287,
           969747,
           975231,
           975898,
           977043,
           979351
          ],
          "sizemode": "area",
          "sizeref": 36835.035,
          "symbol": "circle"
         },
         "mode": "markers",
         "name": "Nova Scotia",
         "orientation": "v",
         "showlegend": true,
         "type": "scatter",
         "x": [
          "2012Q3",
          "2012Q4",
          "2013Q1",
          "2013Q2",
          "2013Q3",
          "2013Q4",
          "2014Q1",
          "2014Q2",
          "2014Q3",
          "2014Q4",
          "2015Q1",
          "2015Q2",
          "2015Q3",
          "2015Q4",
          "2016Q1",
          "2016Q2",
          "2016Q3",
          "2016Q4",
          "2017Q1",
          "2017Q2",
          "2017Q3",
          "2017Q4",
          "2018Q1",
          "2018Q2",
          "2018Q3",
          "2018Q4",
          "2019Q1",
          "2019Q2",
          "2019Q3",
          "2019Q4",
          "2020Q1",
          "2020Q2",
          "2020Q3"
         ],
         "xaxis": "x",
         "y": [
          0.53,
          0.53,
          0.55,
          0.56,
          0.58,
          0.62,
          0.65,
          0.65,
          0.67,
          0.68,
          0.7,
          0.67,
          0.66,
          0.68,
          0.7,
          0.72,
          0.76,
          0.75,
          0.7,
          0.64,
          0.6,
          0.58,
          0.59,
          0.54,
          0.52,
          0.56,
          0.54,
          0.52,
          0.5,
          0.5,
          0.46,
          0.47,
          0.45
         ],
         "yaxis": "y"
        },
        {
         "hovertemplate": "<b>%{hovertext}</b><br><br>Geography=New Brunswick<br>Time=%{x}<br>DelinquencyRate=%{y}<br>PopulationSize=%{marker.size}<extra></extra>",
         "hovertext": [
          "2012Q3",
          "2012Q4",
          "2013Q1",
          "2013Q2",
          "2013Q3",
          "2013Q4",
          "2014Q1",
          "2014Q2",
          "2014Q3",
          "2014Q4",
          "2015Q1",
          "2015Q2",
          "2015Q3",
          "2015Q4",
          "2016Q1",
          "2016Q2",
          "2016Q3",
          "2016Q4",
          "2017Q1",
          "2017Q2",
          "2017Q3",
          "2017Q4",
          "2018Q1",
          "2018Q2",
          "2018Q3",
          "2018Q4",
          "2019Q1",
          "2019Q2",
          "2019Q3",
          "2019Q4",
          "2020Q1",
          "2020Q2",
          "2020Q3"
         ],
         "legendgroup": "New Brunswick",
         "marker": {
          "color": "#ab63fa",
          "size": [
           758378,
           758673,
           758298,
           758132,
           758544,
           758670,
           759018,
           758876,
           758976,
           759524,
           759617,
           758948,
           758842,
           759778,
           760580,
           762289,
           763350,
           764844,
           764617,
           764813,
           766621,
           767935,
           768005,
           768522,
           770301,
           772524,
           772748,
           773805,
           776868,
           780154,
           780040,
           781024,
           781476
          ],
          "sizemode": "area",
          "sizeref": 36835.035,
          "symbol": "circle"
         },
         "mode": "markers",
         "name": "New Brunswick",
         "orientation": "v",
         "showlegend": true,
         "type": "scatter",
         "x": [
          "2012Q3",
          "2012Q4",
          "2013Q1",
          "2013Q2",
          "2013Q3",
          "2013Q4",
          "2014Q1",
          "2014Q2",
          "2014Q3",
          "2014Q4",
          "2015Q1",
          "2015Q2",
          "2015Q3",
          "2015Q4",
          "2016Q1",
          "2016Q2",
          "2016Q3",
          "2016Q4",
          "2017Q1",
          "2017Q2",
          "2017Q3",
          "2017Q4",
          "2018Q1",
          "2018Q2",
          "2018Q3",
          "2018Q4",
          "2019Q1",
          "2019Q2",
          "2019Q3",
          "2019Q4",
          "2020Q1",
          "2020Q2",
          "2020Q3"
         ],
         "xaxis": "x",
         "y": [
          0.63,
          0.63,
          0.65,
          0.6,
          0.61,
          0.68,
          0.72,
          0.67,
          0.72,
          0.72,
          0.79,
          0.8,
          0.81,
          0.79,
          0.82,
          0.78,
          0.84,
          0.79,
          0.78,
          0.73,
          0.71,
          0.66,
          0.65,
          0.59,
          0.58,
          0.62,
          0.63,
          0.6,
          0.57,
          0.57,
          0.57,
          0.54,
          0.52
         ],
         "yaxis": "y"
        },
        {
         "hovertemplate": "<b>%{hovertext}</b><br><br>Geography=Québec<br>Time=%{x}<br>DelinquencyRate=%{y}<br>PopulationSize=%{marker.size}<extra></extra>",
         "hovertext": [
          "2012Q3",
          "2012Q4",
          "2013Q1",
          "2013Q2",
          "2013Q3",
          "2013Q4",
          "2014Q1",
          "2014Q2",
          "2014Q3",
          "2014Q4",
          "2015Q1",
          "2015Q2",
          "2015Q3",
          "2015Q4",
          "2016Q1",
          "2016Q2",
          "2016Q3",
          "2016Q4",
          "2017Q1",
          "2017Q2",
          "2017Q3",
          "2017Q4",
          "2018Q1",
          "2018Q2",
          "2018Q3",
          "2018Q4",
          "2019Q1",
          "2019Q2",
          "2019Q3",
          "2019Q4",
          "2020Q1",
          "2020Q2",
          "2020Q3"
         ],
         "legendgroup": "Québec",
         "marker": {
          "color": "#FFA15A",
          "size": [
           8061101,
           8078388,
           8082771,
           8090916,
           8110880,
           8124660,
           8125478,
           8132425,
           8150183,
           8165447,
           8163132,
           8163063,
           8175272,
           8190014,
           8193624,
           8204085,
           8225950,
           8249692,
           8257450,
           8272894,
           8302063,
           8336460,
           8350601,
           8367551,
           8401738,
           8433888,
           8446906,
           8465271,
           8501703,
           8540429,
           8556650,
           8572054,
           8574571
          ],
          "sizemode": "area",
          "sizeref": 36835.035,
          "symbol": "circle"
         },
         "mode": "markers",
         "name": "Québec",
         "orientation": "v",
         "showlegend": true,
         "type": "scatter",
         "x": [
          "2012Q3",
          "2012Q4",
          "2013Q1",
          "2013Q2",
          "2013Q3",
          "2013Q4",
          "2014Q1",
          "2014Q2",
          "2014Q3",
          "2014Q4",
          "2015Q1",
          "2015Q2",
          "2015Q3",
          "2015Q4",
          "2016Q1",
          "2016Q2",
          "2016Q3",
          "2016Q4",
          "2017Q1",
          "2017Q2",
          "2017Q3",
          "2017Q4",
          "2018Q1",
          "2018Q2",
          "2018Q3",
          "2018Q4",
          "2019Q1",
          "2019Q2",
          "2019Q3",
          "2019Q4",
          "2020Q1",
          "2020Q2",
          "2020Q3"
         ],
         "xaxis": "x",
         "y": [
          0.33,
          0.33,
          0.35,
          0.34,
          0.33,
          0.35,
          0.37,
          0.36,
          0.37,
          0.39,
          0.42,
          0.41,
          0.41,
          0.42,
          0.44,
          0.43,
          0.42,
          0.4,
          0.41,
          0.4,
          0.37,
          0.34,
          0.34,
          0.35,
          0.35,
          0.38,
          0.38,
          0.37,
          0.37,
          0.36,
          0.36,
          0.34,
          0.36
         ],
         "yaxis": "y"
        },
        {
         "hovertemplate": "<b>%{hovertext}</b><br><br>Geography=Ontario<br>Time=%{x}<br>DelinquencyRate=%{y}<br>PopulationSize=%{marker.size}<extra></extra>",
         "hovertext": [
          "2012Q3",
          "2012Q4",
          "2013Q1",
          "2013Q2",
          "2013Q3",
          "2013Q4",
          "2014Q1",
          "2014Q2",
          "2014Q3",
          "2014Q4",
          "2015Q1",
          "2015Q2",
          "2015Q3",
          "2015Q4",
          "2016Q1",
          "2016Q2",
          "2016Q3",
          "2016Q4",
          "2017Q1",
          "2017Q2",
          "2017Q3",
          "2017Q4",
          "2018Q1",
          "2018Q2",
          "2018Q3",
          "2018Q4",
          "2019Q1",
          "2019Q2",
          "2019Q3",
          "2019Q4",
          "2020Q1",
          "2020Q2",
          "2020Q3"
         ],
         "legendgroup": "Ontario",
         "marker": {
          "color": "#19d3f3",
          "size": [
           13390632,
           13434943,
           13444704,
           13467829,
           13510781,
           13558528,
           13562583,
           13582747,
           13617553,
           13661314,
           13657737,
           13669860,
           13707118,
           13757688,
           13773629,
           13816545,
           13875394,
           13946431,
           13971785,
           14006386,
           14070141,
           14150783,
           14186830,
           14235643,
           14308697,
           14393683,
           14428712,
           14467162,
           14544718,
           14637880,
           14689075,
           14723497,
           14734014
          ],
          "sizemode": "area",
          "sizeref": 36835.035,
          "symbol": "circle"
         },
         "mode": "markers",
         "name": "Ontario",
         "orientation": "v",
         "showlegend": true,
         "type": "scatter",
         "x": [
          "2012Q3",
          "2012Q4",
          "2013Q1",
          "2013Q2",
          "2013Q3",
          "2013Q4",
          "2014Q1",
          "2014Q2",
          "2014Q3",
          "2014Q4",
          "2015Q1",
          "2015Q2",
          "2015Q3",
          "2015Q4",
          "2016Q1",
          "2016Q2",
          "2016Q3",
          "2016Q4",
          "2017Q1",
          "2017Q2",
          "2017Q3",
          "2017Q4",
          "2018Q1",
          "2018Q2",
          "2018Q3",
          "2018Q4",
          "2019Q1",
          "2019Q2",
          "2019Q3",
          "2019Q4",
          "2020Q1",
          "2020Q2",
          "2020Q3"
         ],
         "xaxis": "x",
         "y": [
          0.31,
          0.31,
          0.31,
          0.29,
          0.28,
          0.28,
          0.29,
          0.27,
          0.27,
          0.26,
          0.27,
          0.25,
          0.24,
          0.23,
          0.24,
          0.22,
          0.2,
          0.19,
          0.18,
          0.16,
          0.16,
          0.15,
          0.15,
          0.14,
          0.13,
          0.14,
          0.14,
          0.14,
          0.14,
          0.14,
          0.14,
          0.14,
          0.14
         ],
         "yaxis": "y"
        },
        {
         "hovertemplate": "<b>%{hovertext}</b><br><br>Geography=Manitoba<br>Time=%{x}<br>DelinquencyRate=%{y}<br>PopulationSize=%{marker.size}<extra></extra>",
         "hovertext": [
          "2012Q3",
          "2012Q4",
          "2013Q1",
          "2013Q2",
          "2013Q3",
          "2013Q4",
          "2014Q1",
          "2014Q2",
          "2014Q3",
          "2014Q4",
          "2015Q1",
          "2015Q2",
          "2015Q3",
          "2015Q4",
          "2016Q1",
          "2016Q2",
          "2016Q3",
          "2016Q4",
          "2017Q1",
          "2017Q2",
          "2017Q3",
          "2017Q4",
          "2018Q1",
          "2018Q2",
          "2018Q3",
          "2018Q4",
          "2019Q1",
          "2019Q2",
          "2019Q3",
          "2019Q4",
          "2020Q1",
          "2020Q2",
          "2020Q3"
         ],
         "legendgroup": "Manitoba",
         "marker": {
          "color": "#FF6692",
          "size": [
           1249975,
           1254178,
           1257940,
           1260834,
           1264620,
           1268428,
           1271562,
           1274407,
           1279014,
           1283366,
           1286453,
           1288094,
           1292227,
           1297329,
           1302544,
           1307689,
           1314139,
           1319911,
           1324129,
           1328412,
           1334790,
           1340565,
           1344418,
           1347055,
           1352825,
           1357879,
           1361632,
           1364223,
           1369540,
           1373574,
           1377004,
           1378818,
           1379263
          ],
          "sizemode": "area",
          "sizeref": 36835.035,
          "symbol": "circle"
         },
         "mode": "markers",
         "name": "Manitoba",
         "orientation": "v",
         "showlegend": true,
         "type": "scatter",
         "x": [
          "2012Q3",
          "2012Q4",
          "2013Q1",
          "2013Q2",
          "2013Q3",
          "2013Q4",
          "2014Q1",
          "2014Q2",
          "2014Q3",
          "2014Q4",
          "2015Q1",
          "2015Q2",
          "2015Q3",
          "2015Q4",
          "2016Q1",
          "2016Q2",
          "2016Q3",
          "2016Q4",
          "2017Q1",
          "2017Q2",
          "2017Q3",
          "2017Q4",
          "2018Q1",
          "2018Q2",
          "2018Q3",
          "2018Q4",
          "2019Q1",
          "2019Q2",
          "2019Q3",
          "2019Q4",
          "2020Q1",
          "2020Q2",
          "2020Q3"
         ],
         "xaxis": "x",
         "y": [
          0.25,
          0.27,
          0.28,
          0.26,
          0.28,
          0.28,
          0.28,
          0.25,
          0.24,
          0.27,
          0.31,
          0.3,
          0.29,
          0.33,
          0.34,
          0.35,
          0.34,
          0.35,
          0.36,
          0.35,
          0.33,
          0.3,
          0.3,
          0.31,
          0.32,
          0.35,
          0.35,
          0.35,
          0.34,
          0.36,
          0.37,
          0.38,
          0.35
         ],
         "yaxis": "y"
        },
        {
         "hovertemplate": "<b>%{hovertext}</b><br><br>Geography=Saskatchewan<br>Time=%{x}<br>DelinquencyRate=%{y}<br>PopulationSize=%{marker.size}<extra></extra>",
         "hovertext": [
          "2012Q3",
          "2012Q4",
          "2013Q1",
          "2013Q2",
          "2013Q3",
          "2013Q4",
          "2014Q1",
          "2014Q2",
          "2014Q3",
          "2014Q4",
          "2015Q1",
          "2015Q2",
          "2015Q3",
          "2015Q4",
          "2016Q1",
          "2016Q2",
          "2016Q3",
          "2016Q4",
          "2017Q1",
          "2017Q2",
          "2017Q3",
          "2017Q4",
          "2018Q1",
          "2018Q2",
          "2018Q3",
          "2018Q4",
          "2019Q1",
          "2019Q2",
          "2019Q3",
          "2019Q4",
          "2020Q1",
          "2020Q2",
          "2020Q3"
         ],
         "legendgroup": "Saskatchewan",
         "marker": {
          "color": "#B6E880",
          "size": [
           1083755,
           1088959,
           1091547,
           1094390,
           1099736,
           1103730,
           1106374,
           1109631,
           1112979,
           1116203,
           1118181,
           1118806,
           1120967,
           1124919,
           1127773,
           1131147,
           1135987,
           1140690,
           1143313,
           1146218,
           1150331,
           1154755,
           1156659,
           1158451,
           1161767,
           1165938,
           1168461,
           1169286,
           1172302,
           1176272,
           1179154,
           1179618,
           1178681
          ],
          "sizemode": "area",
          "sizeref": 36835.035,
          "symbol": "circle"
         },
         "mode": "markers",
         "name": "Saskatchewan",
         "orientation": "v",
         "showlegend": true,
         "type": "scatter",
         "x": [
          "2012Q3",
          "2012Q4",
          "2013Q1",
          "2013Q2",
          "2013Q3",
          "2013Q4",
          "2014Q1",
          "2014Q2",
          "2014Q3",
          "2014Q4",
          "2015Q1",
          "2015Q2",
          "2015Q3",
          "2015Q4",
          "2016Q1",
          "2016Q2",
          "2016Q3",
          "2016Q4",
          "2017Q1",
          "2017Q2",
          "2017Q3",
          "2017Q4",
          "2018Q1",
          "2018Q2",
          "2018Q3",
          "2018Q4",
          "2019Q1",
          "2019Q2",
          "2019Q3",
          "2019Q4",
          "2020Q1",
          "2020Q2",
          "2020Q3"
         ],
         "xaxis": "x",
         "y": [
          0.37,
          0.37,
          0.36,
          0.34,
          0.3,
          0.32,
          0.35,
          0.31,
          0.32,
          0.36,
          0.41,
          0.43,
          0.45,
          0.49,
          0.54,
          0.57,
          0.61,
          0.62,
          0.62,
          0.66,
          0.65,
          0.66,
          0.66,
          0.67,
          0.7,
          0.72,
          0.74,
          0.75,
          0.73,
          0.73,
          0.75,
          0.76,
          0.72
         ],
         "yaxis": "y"
        },
        {
         "hovertemplate": "<b>%{hovertext}</b><br><br>Geography=Alberta<br>Time=%{x}<br>DelinquencyRate=%{y}<br>PopulationSize=%{marker.size}<extra></extra>",
         "hovertext": [
          "2012Q3",
          "2012Q4",
          "2013Q1",
          "2013Q2",
          "2013Q3",
          "2013Q4",
          "2014Q1",
          "2014Q2",
          "2014Q3",
          "2014Q4",
          "2015Q1",
          "2015Q2",
          "2015Q3",
          "2015Q4",
          "2016Q1",
          "2016Q2",
          "2016Q3",
          "2016Q4",
          "2017Q1",
          "2017Q2",
          "2017Q3",
          "2017Q4",
          "2018Q1",
          "2018Q2",
          "2018Q3",
          "2018Q4",
          "2019Q1",
          "2019Q2",
          "2019Q3",
          "2019Q4",
          "2020Q1",
          "2020Q2",
          "2020Q3"
         ],
         "legendgroup": "Alberta",
         "marker": {
          "color": "#FF97FF",
          "size": [
           3874548,
           3900333,
           3920499,
           3946798,
           3981011,
           4010903,
           4029951,
           4054280,
           4083648,
           4106056,
           4116047,
           4128300,
           4144491,
           4159519,
           4169830,
           4181765,
           4196061,
           4208958,
           4217855,
           4227969,
           4241100,
           4258195,
           4268853,
           4281706,
           4298275,
           4317453,
           4330698,
           4343951,
           4361694,
           4384968,
           4402045,
           4417006,
           4421876
          ],
          "sizemode": "area",
          "sizeref": 36835.035,
          "symbol": "circle"
         },
         "mode": "markers",
         "name": "Alberta",
         "orientation": "v",
         "showlegend": true,
         "type": "scatter",
         "x": [
          "2012Q3",
          "2012Q4",
          "2013Q1",
          "2013Q2",
          "2013Q3",
          "2013Q4",
          "2014Q1",
          "2014Q2",
          "2014Q3",
          "2014Q4",
          "2015Q1",
          "2015Q2",
          "2015Q3",
          "2015Q4",
          "2016Q1",
          "2016Q2",
          "2016Q3",
          "2016Q4",
          "2017Q1",
          "2017Q2",
          "2017Q3",
          "2017Q4",
          "2018Q1",
          "2018Q2",
          "2018Q3",
          "2018Q4",
          "2019Q1",
          "2019Q2",
          "2019Q3",
          "2019Q4",
          "2020Q1",
          "2020Q2",
          "2020Q3"
         ],
         "xaxis": "x",
         "y": [
          0.6,
          0.55,
          0.52,
          0.47,
          0.45,
          0.43,
          0.42,
          0.37,
          0.34,
          0.32,
          0.32,
          0.33,
          0.35,
          0.36,
          0.41,
          0.45,
          0.53,
          0.53,
          0.54,
          0.52,
          0.51,
          0.5,
          0.5,
          0.46,
          0.47,
          0.5,
          0.51,
          0.53,
          0.51,
          0.5,
          0.52,
          0.52,
          0.5
         ],
         "yaxis": "y"
        },
        {
         "hovertemplate": "<b>%{hovertext}</b><br><br>Geography=British Columbia<br>Time=%{x}<br>DelinquencyRate=%{y}<br>PopulationSize=%{marker.size}<extra></extra>",
         "hovertext": [
          "2012Q3",
          "2012Q4",
          "2013Q1",
          "2013Q2",
          "2013Q3",
          "2013Q4",
          "2014Q1",
          "2014Q2",
          "2014Q3",
          "2014Q4",
          "2015Q1",
          "2015Q2",
          "2015Q3",
          "2015Q4",
          "2016Q1",
          "2016Q2",
          "2016Q3",
          "2016Q4",
          "2017Q1",
          "2017Q2",
          "2017Q3",
          "2017Q4",
          "2018Q1",
          "2018Q2",
          "2018Q3",
          "2018Q4",
          "2019Q1",
          "2019Q2",
          "2019Q3",
          "2019Q4",
          "2020Q1",
          "2020Q2",
          "2020Q3"
         ],
         "legendgroup": "British Columbia",
         "marker": {
          "color": "#FECB52",
          "size": [
           4566769,
           4590545,
           4598255,
           4611648,
           4630077,
           4658875,
           4666788,
           4684490,
           4707103,
           4737725,
           4745468,
           4757759,
           4776388,
           4802955,
           4811465,
           4832155,
           4859250,
           4884002,
           4890848,
           4905210,
           4929384,
           4956550,
           4967421,
           4983183,
           5010476,
           5039661,
           5046576,
           5063527,
           5090955,
           5125659,
           5131575,
           5142404,
           5147712
          ],
          "sizemode": "area",
          "sizeref": 36835.035,
          "symbol": "circle"
         },
         "mode": "markers",
         "name": "British Columbia",
         "orientation": "v",
         "showlegend": true,
         "type": "scatter",
         "x": [
          "2012Q3",
          "2012Q4",
          "2013Q1",
          "2013Q2",
          "2013Q3",
          "2013Q4",
          "2014Q1",
          "2014Q2",
          "2014Q3",
          "2014Q4",
          "2015Q1",
          "2015Q2",
          "2015Q3",
          "2015Q4",
          "2016Q1",
          "2016Q2",
          "2016Q3",
          "2016Q4",
          "2017Q1",
          "2017Q2",
          "2017Q3",
          "2017Q4",
          "2018Q1",
          "2018Q2",
          "2018Q3",
          "2018Q4",
          "2019Q1",
          "2019Q2",
          "2019Q3",
          "2019Q4",
          "2020Q1",
          "2020Q2",
          "2020Q3"
         ],
         "xaxis": "x",
         "y": [
          0.42,
          0.42,
          0.43,
          0.43,
          0.42,
          0.43,
          0.43,
          0.4,
          0.4,
          0.4,
          0.4,
          0.38,
          0.34,
          0.32,
          0.32,
          0.29,
          0.26,
          0.25,
          0.23,
          0.2,
          0.18,
          0.18,
          0.17,
          0.17,
          0.16,
          0.17,
          0.17,
          0.17,
          0.16,
          0.16,
          0.17,
          0.19,
          0.19
         ],
         "yaxis": "y"
        }
       ],
       "layout": {
        "legend": {
         "itemsizing": "constant",
         "title": {
          "text": "Geography"
         },
         "tracegroupgap": 0
        },
        "template": {
         "data": {
          "bar": [
           {
            "error_x": {
             "color": "#2a3f5f"
            },
            "error_y": {
             "color": "#2a3f5f"
            },
            "marker": {
             "line": {
              "color": "#E5ECF6",
              "width": 0.5
             }
            },
            "type": "bar"
           }
          ],
          "barpolar": [
           {
            "marker": {
             "line": {
              "color": "#E5ECF6",
              "width": 0.5
             }
            },
            "type": "barpolar"
           }
          ],
          "carpet": [
           {
            "aaxis": {
             "endlinecolor": "#2a3f5f",
             "gridcolor": "white",
             "linecolor": "white",
             "minorgridcolor": "white",
             "startlinecolor": "#2a3f5f"
            },
            "baxis": {
             "endlinecolor": "#2a3f5f",
             "gridcolor": "white",
             "linecolor": "white",
             "minorgridcolor": "white",
             "startlinecolor": "#2a3f5f"
            },
            "type": "carpet"
           }
          ],
          "choropleth": [
           {
            "colorbar": {
             "outlinewidth": 0,
             "ticks": ""
            },
            "type": "choropleth"
           }
          ],
          "contour": [
           {
            "colorbar": {
             "outlinewidth": 0,
             "ticks": ""
            },
            "colorscale": [
             [
              0,
              "#0d0887"
             ],
             [
              0.1111111111111111,
              "#46039f"
             ],
             [
              0.2222222222222222,
              "#7201a8"
             ],
             [
              0.3333333333333333,
              "#9c179e"
             ],
             [
              0.4444444444444444,
              "#bd3786"
             ],
             [
              0.5555555555555556,
              "#d8576b"
             ],
             [
              0.6666666666666666,
              "#ed7953"
             ],
             [
              0.7777777777777778,
              "#fb9f3a"
             ],
             [
              0.8888888888888888,
              "#fdca26"
             ],
             [
              1,
              "#f0f921"
             ]
            ],
            "type": "contour"
           }
          ],
          "contourcarpet": [
           {
            "colorbar": {
             "outlinewidth": 0,
             "ticks": ""
            },
            "type": "contourcarpet"
           }
          ],
          "heatmap": [
           {
            "colorbar": {
             "outlinewidth": 0,
             "ticks": ""
            },
            "colorscale": [
             [
              0,
              "#0d0887"
             ],
             [
              0.1111111111111111,
              "#46039f"
             ],
             [
              0.2222222222222222,
              "#7201a8"
             ],
             [
              0.3333333333333333,
              "#9c179e"
             ],
             [
              0.4444444444444444,
              "#bd3786"
             ],
             [
              0.5555555555555556,
              "#d8576b"
             ],
             [
              0.6666666666666666,
              "#ed7953"
             ],
             [
              0.7777777777777778,
              "#fb9f3a"
             ],
             [
              0.8888888888888888,
              "#fdca26"
             ],
             [
              1,
              "#f0f921"
             ]
            ],
            "type": "heatmap"
           }
          ],
          "heatmapgl": [
           {
            "colorbar": {
             "outlinewidth": 0,
             "ticks": ""
            },
            "colorscale": [
             [
              0,
              "#0d0887"
             ],
             [
              0.1111111111111111,
              "#46039f"
             ],
             [
              0.2222222222222222,
              "#7201a8"
             ],
             [
              0.3333333333333333,
              "#9c179e"
             ],
             [
              0.4444444444444444,
              "#bd3786"
             ],
             [
              0.5555555555555556,
              "#d8576b"
             ],
             [
              0.6666666666666666,
              "#ed7953"
             ],
             [
              0.7777777777777778,
              "#fb9f3a"
             ],
             [
              0.8888888888888888,
              "#fdca26"
             ],
             [
              1,
              "#f0f921"
             ]
            ],
            "type": "heatmapgl"
           }
          ],
          "histogram": [
           {
            "marker": {
             "colorbar": {
              "outlinewidth": 0,
              "ticks": ""
             }
            },
            "type": "histogram"
           }
          ],
          "histogram2d": [
           {
            "colorbar": {
             "outlinewidth": 0,
             "ticks": ""
            },
            "colorscale": [
             [
              0,
              "#0d0887"
             ],
             [
              0.1111111111111111,
              "#46039f"
             ],
             [
              0.2222222222222222,
              "#7201a8"
             ],
             [
              0.3333333333333333,
              "#9c179e"
             ],
             [
              0.4444444444444444,
              "#bd3786"
             ],
             [
              0.5555555555555556,
              "#d8576b"
             ],
             [
              0.6666666666666666,
              "#ed7953"
             ],
             [
              0.7777777777777778,
              "#fb9f3a"
             ],
             [
              0.8888888888888888,
              "#fdca26"
             ],
             [
              1,
              "#f0f921"
             ]
            ],
            "type": "histogram2d"
           }
          ],
          "histogram2dcontour": [
           {
            "colorbar": {
             "outlinewidth": 0,
             "ticks": ""
            },
            "colorscale": [
             [
              0,
              "#0d0887"
             ],
             [
              0.1111111111111111,
              "#46039f"
             ],
             [
              0.2222222222222222,
              "#7201a8"
             ],
             [
              0.3333333333333333,
              "#9c179e"
             ],
             [
              0.4444444444444444,
              "#bd3786"
             ],
             [
              0.5555555555555556,
              "#d8576b"
             ],
             [
              0.6666666666666666,
              "#ed7953"
             ],
             [
              0.7777777777777778,
              "#fb9f3a"
             ],
             [
              0.8888888888888888,
              "#fdca26"
             ],
             [
              1,
              "#f0f921"
             ]
            ],
            "type": "histogram2dcontour"
           }
          ],
          "mesh3d": [
           {
            "colorbar": {
             "outlinewidth": 0,
             "ticks": ""
            },
            "type": "mesh3d"
           }
          ],
          "parcoords": [
           {
            "line": {
             "colorbar": {
              "outlinewidth": 0,
              "ticks": ""
             }
            },
            "type": "parcoords"
           }
          ],
          "pie": [
           {
            "automargin": true,
            "type": "pie"
           }
          ],
          "scatter": [
           {
            "marker": {
             "colorbar": {
              "outlinewidth": 0,
              "ticks": ""
             }
            },
            "type": "scatter"
           }
          ],
          "scatter3d": [
           {
            "line": {
             "colorbar": {
              "outlinewidth": 0,
              "ticks": ""
             }
            },
            "marker": {
             "colorbar": {
              "outlinewidth": 0,
              "ticks": ""
             }
            },
            "type": "scatter3d"
           }
          ],
          "scattercarpet": [
           {
            "marker": {
             "colorbar": {
              "outlinewidth": 0,
              "ticks": ""
             }
            },
            "type": "scattercarpet"
           }
          ],
          "scattergeo": [
           {
            "marker": {
             "colorbar": {
              "outlinewidth": 0,
              "ticks": ""
             }
            },
            "type": "scattergeo"
           }
          ],
          "scattergl": [
           {
            "marker": {
             "colorbar": {
              "outlinewidth": 0,
              "ticks": ""
             }
            },
            "type": "scattergl"
           }
          ],
          "scattermapbox": [
           {
            "marker": {
             "colorbar": {
              "outlinewidth": 0,
              "ticks": ""
             }
            },
            "type": "scattermapbox"
           }
          ],
          "scatterpolar": [
           {
            "marker": {
             "colorbar": {
              "outlinewidth": 0,
              "ticks": ""
             }
            },
            "type": "scatterpolar"
           }
          ],
          "scatterpolargl": [
           {
            "marker": {
             "colorbar": {
              "outlinewidth": 0,
              "ticks": ""
             }
            },
            "type": "scatterpolargl"
           }
          ],
          "scatterternary": [
           {
            "marker": {
             "colorbar": {
              "outlinewidth": 0,
              "ticks": ""
             }
            },
            "type": "scatterternary"
           }
          ],
          "surface": [
           {
            "colorbar": {
             "outlinewidth": 0,
             "ticks": ""
            },
            "colorscale": [
             [
              0,
              "#0d0887"
             ],
             [
              0.1111111111111111,
              "#46039f"
             ],
             [
              0.2222222222222222,
              "#7201a8"
             ],
             [
              0.3333333333333333,
              "#9c179e"
             ],
             [
              0.4444444444444444,
              "#bd3786"
             ],
             [
              0.5555555555555556,
              "#d8576b"
             ],
             [
              0.6666666666666666,
              "#ed7953"
             ],
             [
              0.7777777777777778,
              "#fb9f3a"
             ],
             [
              0.8888888888888888,
              "#fdca26"
             ],
             [
              1,
              "#f0f921"
             ]
            ],
            "type": "surface"
           }
          ],
          "table": [
           {
            "cells": {
             "fill": {
              "color": "#EBF0F8"
             },
             "line": {
              "color": "white"
             }
            },
            "header": {
             "fill": {
              "color": "#C8D4E3"
             },
             "line": {
              "color": "white"
             }
            },
            "type": "table"
           }
          ]
         },
         "layout": {
          "annotationdefaults": {
           "arrowcolor": "#2a3f5f",
           "arrowhead": 0,
           "arrowwidth": 1
          },
          "autotypenumbers": "strict",
          "coloraxis": {
           "colorbar": {
            "outlinewidth": 0,
            "ticks": ""
           }
          },
          "colorscale": {
           "diverging": [
            [
             0,
             "#8e0152"
            ],
            [
             0.1,
             "#c51b7d"
            ],
            [
             0.2,
             "#de77ae"
            ],
            [
             0.3,
             "#f1b6da"
            ],
            [
             0.4,
             "#fde0ef"
            ],
            [
             0.5,
             "#f7f7f7"
            ],
            [
             0.6,
             "#e6f5d0"
            ],
            [
             0.7,
             "#b8e186"
            ],
            [
             0.8,
             "#7fbc41"
            ],
            [
             0.9,
             "#4d9221"
            ],
            [
             1,
             "#276419"
            ]
           ],
           "sequential": [
            [
             0,
             "#0d0887"
            ],
            [
             0.1111111111111111,
             "#46039f"
            ],
            [
             0.2222222222222222,
             "#7201a8"
            ],
            [
             0.3333333333333333,
             "#9c179e"
            ],
            [
             0.4444444444444444,
             "#bd3786"
            ],
            [
             0.5555555555555556,
             "#d8576b"
            ],
            [
             0.6666666666666666,
             "#ed7953"
            ],
            [
             0.7777777777777778,
             "#fb9f3a"
            ],
            [
             0.8888888888888888,
             "#fdca26"
            ],
            [
             1,
             "#f0f921"
            ]
           ],
           "sequentialminus": [
            [
             0,
             "#0d0887"
            ],
            [
             0.1111111111111111,
             "#46039f"
            ],
            [
             0.2222222222222222,
             "#7201a8"
            ],
            [
             0.3333333333333333,
             "#9c179e"
            ],
            [
             0.4444444444444444,
             "#bd3786"
            ],
            [
             0.5555555555555556,
             "#d8576b"
            ],
            [
             0.6666666666666666,
             "#ed7953"
            ],
            [
             0.7777777777777778,
             "#fb9f3a"
            ],
            [
             0.8888888888888888,
             "#fdca26"
            ],
            [
             1,
             "#f0f921"
            ]
           ]
          },
          "colorway": [
           "#636efa",
           "#EF553B",
           "#00cc96",
           "#ab63fa",
           "#FFA15A",
           "#19d3f3",
           "#FF6692",
           "#B6E880",
           "#FF97FF",
           "#FECB52"
          ],
          "font": {
           "color": "#2a3f5f"
          },
          "geo": {
           "bgcolor": "white",
           "lakecolor": "white",
           "landcolor": "#E5ECF6",
           "showlakes": true,
           "showland": true,
           "subunitcolor": "white"
          },
          "hoverlabel": {
           "align": "left"
          },
          "hovermode": "closest",
          "mapbox": {
           "style": "light"
          },
          "paper_bgcolor": "white",
          "plot_bgcolor": "#E5ECF6",
          "polar": {
           "angularaxis": {
            "gridcolor": "white",
            "linecolor": "white",
            "ticks": ""
           },
           "bgcolor": "#E5ECF6",
           "radialaxis": {
            "gridcolor": "white",
            "linecolor": "white",
            "ticks": ""
           }
          },
          "scene": {
           "xaxis": {
            "backgroundcolor": "#E5ECF6",
            "gridcolor": "white",
            "gridwidth": 2,
            "linecolor": "white",
            "showbackground": true,
            "ticks": "",
            "zerolinecolor": "white"
           },
           "yaxis": {
            "backgroundcolor": "#E5ECF6",
            "gridcolor": "white",
            "gridwidth": 2,
            "linecolor": "white",
            "showbackground": true,
            "ticks": "",
            "zerolinecolor": "white"
           },
           "zaxis": {
            "backgroundcolor": "#E5ECF6",
            "gridcolor": "white",
            "gridwidth": 2,
            "linecolor": "white",
            "showbackground": true,
            "ticks": "",
            "zerolinecolor": "white"
           }
          },
          "shapedefaults": {
           "line": {
            "color": "#2a3f5f"
           }
          },
          "ternary": {
           "aaxis": {
            "gridcolor": "white",
            "linecolor": "white",
            "ticks": ""
           },
           "baxis": {
            "gridcolor": "white",
            "linecolor": "white",
            "ticks": ""
           },
           "bgcolor": "#E5ECF6",
           "caxis": {
            "gridcolor": "white",
            "linecolor": "white",
            "ticks": ""
           }
          },
          "title": {
           "x": 0.05
          },
          "xaxis": {
           "automargin": true,
           "gridcolor": "white",
           "linecolor": "white",
           "ticks": "",
           "title": {
            "standoff": 15
           },
           "zerolinecolor": "white",
           "zerolinewidth": 2
          },
          "yaxis": {
           "automargin": true,
           "gridcolor": "white",
           "linecolor": "white",
           "ticks": "",
           "title": {
            "standoff": 15
           },
           "zerolinecolor": "white",
           "zerolinewidth": 2
          }
         }
        },
        "title": {
         "text": "Delinquency Rate by Province"
        },
        "xaxis": {
         "anchor": "y",
         "domain": [
          0,
          1
         ],
         "title": {
          "text": "Time"
         }
        },
        "yaxis": {
         "anchor": "x",
         "domain": [
          0,
          1
         ],
         "title": {
          "text": "DelinquencyRate"
         }
        }
       }
      },
      "text/html": [
       "<div>                            <div id=\"141d9990-0681-4bf3-9783-7cef757b9091\" class=\"plotly-graph-div\" style=\"height:525px; width:100%;\"></div>            <script type=\"text/javascript\">                require([\"plotly\"], function(Plotly) {                    window.PLOTLYENV=window.PLOTLYENV || {};                                    if (document.getElementById(\"141d9990-0681-4bf3-9783-7cef757b9091\")) {                    Plotly.newPlot(                        \"141d9990-0681-4bf3-9783-7cef757b9091\",                        [{\"hovertemplate\": \"<b>%{hovertext}</b><br><br>Geography=Newfoundland<br>Time=%{x}<br>DelinquencyRate=%{y}<br>PopulationSize=%{marker.size}<extra></extra>\", \"hovertext\": [\"2012Q3\", \"2012Q4\", \"2013Q1\", \"2013Q2\", \"2013Q3\", \"2013Q4\", \"2014Q1\", \"2014Q2\", \"2014Q3\", \"2014Q4\", \"2015Q1\", \"2015Q2\", \"2015Q3\", \"2015Q4\", \"2016Q1\", \"2016Q2\", \"2016Q3\", \"2016Q4\", \"2017Q1\", \"2017Q2\", \"2017Q3\", \"2017Q4\", \"2018Q1\", \"2018Q2\", \"2018Q3\", \"2018Q4\", \"2019Q1\", \"2019Q2\", \"2019Q3\", \"2019Q4\", \"2020Q1\", \"2020Q2\", \"2020Q3\"], \"legendgroup\": \"Newfoundland\", \"marker\": {\"color\": \"#636efa\", \"size\": [526345, 527180, 527248, 527313, 527114, 528117, 528242, 527498, 528159, 528461, 528361, 528063, 528117, 528696, 528800, 529063, 529426, 529900, 529347, 528544, 528249, 528288, 527544, 526395, 525560, 525765, 524883, 524126, 523476, 524137, 523631, 522994, 522103], \"sizemode\": \"area\", \"sizeref\": 36835.035, \"symbol\": \"circle\"}, \"mode\": \"markers\", \"name\": \"Newfoundland\", \"orientation\": \"v\", \"showlegend\": true, \"type\": \"scatter\", \"x\": [\"2012Q3\", \"2012Q4\", \"2013Q1\", \"2013Q2\", \"2013Q3\", \"2013Q4\", \"2014Q1\", \"2014Q2\", \"2014Q3\", \"2014Q4\", \"2015Q1\", \"2015Q2\", \"2015Q3\", \"2015Q4\", \"2016Q1\", \"2016Q2\", \"2016Q3\", \"2016Q4\", \"2017Q1\", \"2017Q2\", \"2017Q3\", \"2017Q4\", \"2018Q1\", \"2018Q2\", \"2018Q3\", \"2018Q4\", \"2019Q1\", \"2019Q2\", \"2019Q3\", \"2019Q4\", \"2020Q1\", \"2020Q2\", \"2020Q3\"], \"xaxis\": \"x\", \"y\": [0.24, 0.22, 0.25, 0.19, 0.2, 0.22, 0.23, 0.25, 0.26, 0.28, 0.37, 0.37, 0.37, 0.41, 0.45, 0.46, 0.49, 0.46, 0.47, 0.47, 0.46, 0.52, 0.56, 0.6, 0.6, 0.62, 0.64, 0.65, 0.65, 0.65, 0.67, 0.68, 0.64], \"yaxis\": \"y\"}, {\"hovertemplate\": \"<b>%{hovertext}</b><br><br>Geography=Prince Edward Island<br>Time=%{x}<br>DelinquencyRate=%{y}<br>PopulationSize=%{marker.size}<extra></extra>\", \"hovertext\": [\"2012Q3\", \"2012Q4\", \"2013Q1\", \"2013Q2\", \"2013Q3\", \"2013Q4\", \"2014Q1\", \"2014Q2\", \"2014Q3\", \"2014Q4\", \"2015Q1\", \"2015Q2\", \"2015Q3\", \"2015Q4\", \"2016Q1\", \"2016Q2\", \"2016Q3\", \"2016Q4\", \"2017Q1\", \"2017Q2\", \"2017Q3\", \"2017Q4\", \"2018Q1\", \"2018Q2\", \"2018Q3\", \"2018Q4\", \"2019Q1\", \"2019Q2\", \"2019Q3\", \"2019Q4\", \"2020Q1\", \"2020Q2\", \"2020Q3\"], \"legendgroup\": \"Prince Edward Island\", \"marker\": {\"color\": \"#EF553B\", \"size\": [144530, 144520, 144175, 143948, 144094, 144103, 143996, 143984, 144283, 144538, 144368, 144259, 144546, 144894, 145202, 145784, 146969, 147936, 148181, 148860, 150402, 151376, 151516, 152039, 153396, 155129, 155244, 155833, 157262, 158334, 158629, 159249, 159625], \"sizemode\": \"area\", \"sizeref\": 36835.035, \"symbol\": \"circle\"}, \"mode\": \"markers\", \"name\": \"Prince Edward Island\", \"orientation\": \"v\", \"showlegend\": true, \"type\": \"scatter\", \"x\": [\"2012Q3\", \"2012Q4\", \"2013Q1\", \"2013Q2\", \"2013Q3\", \"2013Q4\", \"2014Q1\", \"2014Q2\", \"2014Q3\", \"2014Q4\", \"2015Q1\", \"2015Q2\", \"2015Q3\", \"2015Q4\", \"2016Q1\", \"2016Q2\", \"2016Q3\", \"2016Q4\", \"2017Q1\", \"2017Q2\", \"2017Q3\", \"2017Q4\", \"2018Q1\", \"2018Q2\", \"2018Q3\", \"2018Q4\", \"2019Q1\", \"2019Q2\", \"2019Q3\", \"2019Q4\", \"2020Q1\", \"2020Q2\", \"2020Q3\"], \"xaxis\": \"x\", \"y\": [0.57, 0.5, 0.55, 0.47, 0.56, 0.58, 0.6, 0.6, 0.56, 0.57, 0.68, 0.62, 0.63, 0.67, 0.7, 0.7, 0.67, 0.6, 0.66, 0.55, 0.54, 0.44, 0.5, 0.45, 0.43, 0.39, 0.39, 0.38, 0.34, 0.32, 0.25, 0.26, 0.27], \"yaxis\": \"y\"}, {\"hovertemplate\": \"<b>%{hovertext}</b><br><br>Geography=Nova Scotia<br>Time=%{x}<br>DelinquencyRate=%{y}<br>PopulationSize=%{marker.size}<extra></extra>\", \"hovertext\": [\"2012Q3\", \"2012Q4\", \"2013Q1\", \"2013Q2\", \"2013Q3\", \"2013Q4\", \"2014Q1\", \"2014Q2\", \"2014Q3\", \"2014Q4\", \"2015Q1\", \"2015Q2\", \"2015Q3\", \"2015Q4\", \"2016Q1\", \"2016Q2\", \"2016Q3\", \"2016Q4\", \"2017Q1\", \"2017Q2\", \"2017Q3\", \"2017Q4\", \"2018Q1\", \"2018Q2\", \"2018Q3\", \"2018Q4\", \"2019Q1\", \"2019Q2\", \"2019Q3\", \"2019Q4\", \"2020Q1\", \"2020Q2\", \"2020Q3\"], \"legendgroup\": \"Nova Scotia\", \"marker\": {\"color\": \"#00cc96\", \"size\": [943635, 943341, 942598, 941230, 940434, 940105, 939867, 938913, 938545, 938972, 938296, 936271, 936525, 938320, 938690, 940382, 942790, 946030, 945943, 947384, 950108, 953683, 953838, 954618, 958406, 963309, 963890, 965287, 969747, 975231, 975898, 977043, 979351], \"sizemode\": \"area\", \"sizeref\": 36835.035, \"symbol\": \"circle\"}, \"mode\": \"markers\", \"name\": \"Nova Scotia\", \"orientation\": \"v\", \"showlegend\": true, \"type\": \"scatter\", \"x\": [\"2012Q3\", \"2012Q4\", \"2013Q1\", \"2013Q2\", \"2013Q3\", \"2013Q4\", \"2014Q1\", \"2014Q2\", \"2014Q3\", \"2014Q4\", \"2015Q1\", \"2015Q2\", \"2015Q3\", \"2015Q4\", \"2016Q1\", \"2016Q2\", \"2016Q3\", \"2016Q4\", \"2017Q1\", \"2017Q2\", \"2017Q3\", \"2017Q4\", \"2018Q1\", \"2018Q2\", \"2018Q3\", \"2018Q4\", \"2019Q1\", \"2019Q2\", \"2019Q3\", \"2019Q4\", \"2020Q1\", \"2020Q2\", \"2020Q3\"], \"xaxis\": \"x\", \"y\": [0.53, 0.53, 0.55, 0.56, 0.58, 0.62, 0.65, 0.65, 0.67, 0.68, 0.7, 0.67, 0.66, 0.68, 0.7, 0.72, 0.76, 0.75, 0.7, 0.64, 0.6, 0.58, 0.59, 0.54, 0.52, 0.56, 0.54, 0.52, 0.5, 0.5, 0.46, 0.47, 0.45], \"yaxis\": \"y\"}, {\"hovertemplate\": \"<b>%{hovertext}</b><br><br>Geography=New Brunswick<br>Time=%{x}<br>DelinquencyRate=%{y}<br>PopulationSize=%{marker.size}<extra></extra>\", \"hovertext\": [\"2012Q3\", \"2012Q4\", \"2013Q1\", \"2013Q2\", \"2013Q3\", \"2013Q4\", \"2014Q1\", \"2014Q2\", \"2014Q3\", \"2014Q4\", \"2015Q1\", \"2015Q2\", \"2015Q3\", \"2015Q4\", \"2016Q1\", \"2016Q2\", \"2016Q3\", \"2016Q4\", \"2017Q1\", \"2017Q2\", \"2017Q3\", \"2017Q4\", \"2018Q1\", \"2018Q2\", \"2018Q3\", \"2018Q4\", \"2019Q1\", \"2019Q2\", \"2019Q3\", \"2019Q4\", \"2020Q1\", \"2020Q2\", \"2020Q3\"], \"legendgroup\": \"New Brunswick\", \"marker\": {\"color\": \"#ab63fa\", \"size\": [758378, 758673, 758298, 758132, 758544, 758670, 759018, 758876, 758976, 759524, 759617, 758948, 758842, 759778, 760580, 762289, 763350, 764844, 764617, 764813, 766621, 767935, 768005, 768522, 770301, 772524, 772748, 773805, 776868, 780154, 780040, 781024, 781476], \"sizemode\": \"area\", \"sizeref\": 36835.035, \"symbol\": \"circle\"}, \"mode\": \"markers\", \"name\": \"New Brunswick\", \"orientation\": \"v\", \"showlegend\": true, \"type\": \"scatter\", \"x\": [\"2012Q3\", \"2012Q4\", \"2013Q1\", \"2013Q2\", \"2013Q3\", \"2013Q4\", \"2014Q1\", \"2014Q2\", \"2014Q3\", \"2014Q4\", \"2015Q1\", \"2015Q2\", \"2015Q3\", \"2015Q4\", \"2016Q1\", \"2016Q2\", \"2016Q3\", \"2016Q4\", \"2017Q1\", \"2017Q2\", \"2017Q3\", \"2017Q4\", \"2018Q1\", \"2018Q2\", \"2018Q3\", \"2018Q4\", \"2019Q1\", \"2019Q2\", \"2019Q3\", \"2019Q4\", \"2020Q1\", \"2020Q2\", \"2020Q3\"], \"xaxis\": \"x\", \"y\": [0.63, 0.63, 0.65, 0.6, 0.61, 0.68, 0.72, 0.67, 0.72, 0.72, 0.79, 0.8, 0.81, 0.79, 0.82, 0.78, 0.84, 0.79, 0.78, 0.73, 0.71, 0.66, 0.65, 0.59, 0.58, 0.62, 0.63, 0.6, 0.57, 0.57, 0.57, 0.54, 0.52], \"yaxis\": \"y\"}, {\"hovertemplate\": \"<b>%{hovertext}</b><br><br>Geography=Qu\\u00e9bec<br>Time=%{x}<br>DelinquencyRate=%{y}<br>PopulationSize=%{marker.size}<extra></extra>\", \"hovertext\": [\"2012Q3\", \"2012Q4\", \"2013Q1\", \"2013Q2\", \"2013Q3\", \"2013Q4\", \"2014Q1\", \"2014Q2\", \"2014Q3\", \"2014Q4\", \"2015Q1\", \"2015Q2\", \"2015Q3\", \"2015Q4\", \"2016Q1\", \"2016Q2\", \"2016Q3\", \"2016Q4\", \"2017Q1\", \"2017Q2\", \"2017Q3\", \"2017Q4\", \"2018Q1\", \"2018Q2\", \"2018Q3\", \"2018Q4\", \"2019Q1\", \"2019Q2\", \"2019Q3\", \"2019Q4\", \"2020Q1\", \"2020Q2\", \"2020Q3\"], \"legendgroup\": \"Qu\\u00e9bec\", \"marker\": {\"color\": \"#FFA15A\", \"size\": [8061101, 8078388, 8082771, 8090916, 8110880, 8124660, 8125478, 8132425, 8150183, 8165447, 8163132, 8163063, 8175272, 8190014, 8193624, 8204085, 8225950, 8249692, 8257450, 8272894, 8302063, 8336460, 8350601, 8367551, 8401738, 8433888, 8446906, 8465271, 8501703, 8540429, 8556650, 8572054, 8574571], \"sizemode\": \"area\", \"sizeref\": 36835.035, \"symbol\": \"circle\"}, \"mode\": \"markers\", \"name\": \"Qu\\u00e9bec\", \"orientation\": \"v\", \"showlegend\": true, \"type\": \"scatter\", \"x\": [\"2012Q3\", \"2012Q4\", \"2013Q1\", \"2013Q2\", \"2013Q3\", \"2013Q4\", \"2014Q1\", \"2014Q2\", \"2014Q3\", \"2014Q4\", \"2015Q1\", \"2015Q2\", \"2015Q3\", \"2015Q4\", \"2016Q1\", \"2016Q2\", \"2016Q3\", \"2016Q4\", \"2017Q1\", \"2017Q2\", \"2017Q3\", \"2017Q4\", \"2018Q1\", \"2018Q2\", \"2018Q3\", \"2018Q4\", \"2019Q1\", \"2019Q2\", \"2019Q3\", \"2019Q4\", \"2020Q1\", \"2020Q2\", \"2020Q3\"], \"xaxis\": \"x\", \"y\": [0.33, 0.33, 0.35, 0.34, 0.33, 0.35, 0.37, 0.36, 0.37, 0.39, 0.42, 0.41, 0.41, 0.42, 0.44, 0.43, 0.42, 0.4, 0.41, 0.4, 0.37, 0.34, 0.34, 0.35, 0.35, 0.38, 0.38, 0.37, 0.37, 0.36, 0.36, 0.34, 0.36], \"yaxis\": \"y\"}, {\"hovertemplate\": \"<b>%{hovertext}</b><br><br>Geography=Ontario<br>Time=%{x}<br>DelinquencyRate=%{y}<br>PopulationSize=%{marker.size}<extra></extra>\", \"hovertext\": [\"2012Q3\", \"2012Q4\", \"2013Q1\", \"2013Q2\", \"2013Q3\", \"2013Q4\", \"2014Q1\", \"2014Q2\", \"2014Q3\", \"2014Q4\", \"2015Q1\", \"2015Q2\", \"2015Q3\", \"2015Q4\", \"2016Q1\", \"2016Q2\", \"2016Q3\", \"2016Q4\", \"2017Q1\", \"2017Q2\", \"2017Q3\", \"2017Q4\", \"2018Q1\", \"2018Q2\", \"2018Q3\", \"2018Q4\", \"2019Q1\", \"2019Q2\", \"2019Q3\", \"2019Q4\", \"2020Q1\", \"2020Q2\", \"2020Q3\"], \"legendgroup\": \"Ontario\", \"marker\": {\"color\": \"#19d3f3\", \"size\": [13390632, 13434943, 13444704, 13467829, 13510781, 13558528, 13562583, 13582747, 13617553, 13661314, 13657737, 13669860, 13707118, 13757688, 13773629, 13816545, 13875394, 13946431, 13971785, 14006386, 14070141, 14150783, 14186830, 14235643, 14308697, 14393683, 14428712, 14467162, 14544718, 14637880, 14689075, 14723497, 14734014], \"sizemode\": \"area\", \"sizeref\": 36835.035, \"symbol\": \"circle\"}, \"mode\": \"markers\", \"name\": \"Ontario\", \"orientation\": \"v\", \"showlegend\": true, \"type\": \"scatter\", \"x\": [\"2012Q3\", \"2012Q4\", \"2013Q1\", \"2013Q2\", \"2013Q3\", \"2013Q4\", \"2014Q1\", \"2014Q2\", \"2014Q3\", \"2014Q4\", \"2015Q1\", \"2015Q2\", \"2015Q3\", \"2015Q4\", \"2016Q1\", \"2016Q2\", \"2016Q3\", \"2016Q4\", \"2017Q1\", \"2017Q2\", \"2017Q3\", \"2017Q4\", \"2018Q1\", \"2018Q2\", \"2018Q3\", \"2018Q4\", \"2019Q1\", \"2019Q2\", \"2019Q3\", \"2019Q4\", \"2020Q1\", \"2020Q2\", \"2020Q3\"], \"xaxis\": \"x\", \"y\": [0.31, 0.31, 0.31, 0.29, 0.28, 0.28, 0.29, 0.27, 0.27, 0.26, 0.27, 0.25, 0.24, 0.23, 0.24, 0.22, 0.2, 0.19, 0.18, 0.16, 0.16, 0.15, 0.15, 0.14, 0.13, 0.14, 0.14, 0.14, 0.14, 0.14, 0.14, 0.14, 0.14], \"yaxis\": \"y\"}, {\"hovertemplate\": \"<b>%{hovertext}</b><br><br>Geography=Manitoba<br>Time=%{x}<br>DelinquencyRate=%{y}<br>PopulationSize=%{marker.size}<extra></extra>\", \"hovertext\": [\"2012Q3\", \"2012Q4\", \"2013Q1\", \"2013Q2\", \"2013Q3\", \"2013Q4\", \"2014Q1\", \"2014Q2\", \"2014Q3\", \"2014Q4\", \"2015Q1\", \"2015Q2\", \"2015Q3\", \"2015Q4\", \"2016Q1\", \"2016Q2\", \"2016Q3\", \"2016Q4\", \"2017Q1\", \"2017Q2\", \"2017Q3\", \"2017Q4\", \"2018Q1\", \"2018Q2\", \"2018Q3\", \"2018Q4\", \"2019Q1\", \"2019Q2\", \"2019Q3\", \"2019Q4\", \"2020Q1\", \"2020Q2\", \"2020Q3\"], \"legendgroup\": \"Manitoba\", \"marker\": {\"color\": \"#FF6692\", \"size\": [1249975, 1254178, 1257940, 1260834, 1264620, 1268428, 1271562, 1274407, 1279014, 1283366, 1286453, 1288094, 1292227, 1297329, 1302544, 1307689, 1314139, 1319911, 1324129, 1328412, 1334790, 1340565, 1344418, 1347055, 1352825, 1357879, 1361632, 1364223, 1369540, 1373574, 1377004, 1378818, 1379263], \"sizemode\": \"area\", \"sizeref\": 36835.035, \"symbol\": \"circle\"}, \"mode\": \"markers\", \"name\": \"Manitoba\", \"orientation\": \"v\", \"showlegend\": true, \"type\": \"scatter\", \"x\": [\"2012Q3\", \"2012Q4\", \"2013Q1\", \"2013Q2\", \"2013Q3\", \"2013Q4\", \"2014Q1\", \"2014Q2\", \"2014Q3\", \"2014Q4\", \"2015Q1\", \"2015Q2\", \"2015Q3\", \"2015Q4\", \"2016Q1\", \"2016Q2\", \"2016Q3\", \"2016Q4\", \"2017Q1\", \"2017Q2\", \"2017Q3\", \"2017Q4\", \"2018Q1\", \"2018Q2\", \"2018Q3\", \"2018Q4\", \"2019Q1\", \"2019Q2\", \"2019Q3\", \"2019Q4\", \"2020Q1\", \"2020Q2\", \"2020Q3\"], \"xaxis\": \"x\", \"y\": [0.25, 0.27, 0.28, 0.26, 0.28, 0.28, 0.28, 0.25, 0.24, 0.27, 0.31, 0.3, 0.29, 0.33, 0.34, 0.35, 0.34, 0.35, 0.36, 0.35, 0.33, 0.3, 0.3, 0.31, 0.32, 0.35, 0.35, 0.35, 0.34, 0.36, 0.37, 0.38, 0.35], \"yaxis\": \"y\"}, {\"hovertemplate\": \"<b>%{hovertext}</b><br><br>Geography=Saskatchewan<br>Time=%{x}<br>DelinquencyRate=%{y}<br>PopulationSize=%{marker.size}<extra></extra>\", \"hovertext\": [\"2012Q3\", \"2012Q4\", \"2013Q1\", \"2013Q2\", \"2013Q3\", \"2013Q4\", \"2014Q1\", \"2014Q2\", \"2014Q3\", \"2014Q4\", \"2015Q1\", \"2015Q2\", \"2015Q3\", \"2015Q4\", \"2016Q1\", \"2016Q2\", \"2016Q3\", \"2016Q4\", \"2017Q1\", \"2017Q2\", \"2017Q3\", \"2017Q4\", \"2018Q1\", \"2018Q2\", \"2018Q3\", \"2018Q4\", \"2019Q1\", \"2019Q2\", \"2019Q3\", \"2019Q4\", \"2020Q1\", \"2020Q2\", \"2020Q3\"], \"legendgroup\": \"Saskatchewan\", \"marker\": {\"color\": \"#B6E880\", \"size\": [1083755, 1088959, 1091547, 1094390, 1099736, 1103730, 1106374, 1109631, 1112979, 1116203, 1118181, 1118806, 1120967, 1124919, 1127773, 1131147, 1135987, 1140690, 1143313, 1146218, 1150331, 1154755, 1156659, 1158451, 1161767, 1165938, 1168461, 1169286, 1172302, 1176272, 1179154, 1179618, 1178681], \"sizemode\": \"area\", \"sizeref\": 36835.035, \"symbol\": \"circle\"}, \"mode\": \"markers\", \"name\": \"Saskatchewan\", \"orientation\": \"v\", \"showlegend\": true, \"type\": \"scatter\", \"x\": [\"2012Q3\", \"2012Q4\", \"2013Q1\", \"2013Q2\", \"2013Q3\", \"2013Q4\", \"2014Q1\", \"2014Q2\", \"2014Q3\", \"2014Q4\", \"2015Q1\", \"2015Q2\", \"2015Q3\", \"2015Q4\", \"2016Q1\", \"2016Q2\", \"2016Q3\", \"2016Q4\", \"2017Q1\", \"2017Q2\", \"2017Q3\", \"2017Q4\", \"2018Q1\", \"2018Q2\", \"2018Q3\", \"2018Q4\", \"2019Q1\", \"2019Q2\", \"2019Q3\", \"2019Q4\", \"2020Q1\", \"2020Q2\", \"2020Q3\"], \"xaxis\": \"x\", \"y\": [0.37, 0.37, 0.36, 0.34, 0.3, 0.32, 0.35, 0.31, 0.32, 0.36, 0.41, 0.43, 0.45, 0.49, 0.54, 0.57, 0.61, 0.62, 0.62, 0.66, 0.65, 0.66, 0.66, 0.67, 0.7, 0.72, 0.74, 0.75, 0.73, 0.73, 0.75, 0.76, 0.72], \"yaxis\": \"y\"}, {\"hovertemplate\": \"<b>%{hovertext}</b><br><br>Geography=Alberta<br>Time=%{x}<br>DelinquencyRate=%{y}<br>PopulationSize=%{marker.size}<extra></extra>\", \"hovertext\": [\"2012Q3\", \"2012Q4\", \"2013Q1\", \"2013Q2\", \"2013Q3\", \"2013Q4\", \"2014Q1\", \"2014Q2\", \"2014Q3\", \"2014Q4\", \"2015Q1\", \"2015Q2\", \"2015Q3\", \"2015Q4\", \"2016Q1\", \"2016Q2\", \"2016Q3\", \"2016Q4\", \"2017Q1\", \"2017Q2\", \"2017Q3\", \"2017Q4\", \"2018Q1\", \"2018Q2\", \"2018Q3\", \"2018Q4\", \"2019Q1\", \"2019Q2\", \"2019Q3\", \"2019Q4\", \"2020Q1\", \"2020Q2\", \"2020Q3\"], \"legendgroup\": \"Alberta\", \"marker\": {\"color\": \"#FF97FF\", \"size\": [3874548, 3900333, 3920499, 3946798, 3981011, 4010903, 4029951, 4054280, 4083648, 4106056, 4116047, 4128300, 4144491, 4159519, 4169830, 4181765, 4196061, 4208958, 4217855, 4227969, 4241100, 4258195, 4268853, 4281706, 4298275, 4317453, 4330698, 4343951, 4361694, 4384968, 4402045, 4417006, 4421876], \"sizemode\": \"area\", \"sizeref\": 36835.035, \"symbol\": \"circle\"}, \"mode\": \"markers\", \"name\": \"Alberta\", \"orientation\": \"v\", \"showlegend\": true, \"type\": \"scatter\", \"x\": [\"2012Q3\", \"2012Q4\", \"2013Q1\", \"2013Q2\", \"2013Q3\", \"2013Q4\", \"2014Q1\", \"2014Q2\", \"2014Q3\", \"2014Q4\", \"2015Q1\", \"2015Q2\", \"2015Q3\", \"2015Q4\", \"2016Q1\", \"2016Q2\", \"2016Q3\", \"2016Q4\", \"2017Q1\", \"2017Q2\", \"2017Q3\", \"2017Q4\", \"2018Q1\", \"2018Q2\", \"2018Q3\", \"2018Q4\", \"2019Q1\", \"2019Q2\", \"2019Q3\", \"2019Q4\", \"2020Q1\", \"2020Q2\", \"2020Q3\"], \"xaxis\": \"x\", \"y\": [0.6, 0.55, 0.52, 0.47, 0.45, 0.43, 0.42, 0.37, 0.34, 0.32, 0.32, 0.33, 0.35, 0.36, 0.41, 0.45, 0.53, 0.53, 0.54, 0.52, 0.51, 0.5, 0.5, 0.46, 0.47, 0.5, 0.51, 0.53, 0.51, 0.5, 0.52, 0.52, 0.5], \"yaxis\": \"y\"}, {\"hovertemplate\": \"<b>%{hovertext}</b><br><br>Geography=British Columbia<br>Time=%{x}<br>DelinquencyRate=%{y}<br>PopulationSize=%{marker.size}<extra></extra>\", \"hovertext\": [\"2012Q3\", \"2012Q4\", \"2013Q1\", \"2013Q2\", \"2013Q3\", \"2013Q4\", \"2014Q1\", \"2014Q2\", \"2014Q3\", \"2014Q4\", \"2015Q1\", \"2015Q2\", \"2015Q3\", \"2015Q4\", \"2016Q1\", \"2016Q2\", \"2016Q3\", \"2016Q4\", \"2017Q1\", \"2017Q2\", \"2017Q3\", \"2017Q4\", \"2018Q1\", \"2018Q2\", \"2018Q3\", \"2018Q4\", \"2019Q1\", \"2019Q2\", \"2019Q3\", \"2019Q4\", \"2020Q1\", \"2020Q2\", \"2020Q3\"], \"legendgroup\": \"British Columbia\", \"marker\": {\"color\": \"#FECB52\", \"size\": [4566769, 4590545, 4598255, 4611648, 4630077, 4658875, 4666788, 4684490, 4707103, 4737725, 4745468, 4757759, 4776388, 4802955, 4811465, 4832155, 4859250, 4884002, 4890848, 4905210, 4929384, 4956550, 4967421, 4983183, 5010476, 5039661, 5046576, 5063527, 5090955, 5125659, 5131575, 5142404, 5147712], \"sizemode\": \"area\", \"sizeref\": 36835.035, \"symbol\": \"circle\"}, \"mode\": \"markers\", \"name\": \"British Columbia\", \"orientation\": \"v\", \"showlegend\": true, \"type\": \"scatter\", \"x\": [\"2012Q3\", \"2012Q4\", \"2013Q1\", \"2013Q2\", \"2013Q3\", \"2013Q4\", \"2014Q1\", \"2014Q2\", \"2014Q3\", \"2014Q4\", \"2015Q1\", \"2015Q2\", \"2015Q3\", \"2015Q4\", \"2016Q1\", \"2016Q2\", \"2016Q3\", \"2016Q4\", \"2017Q1\", \"2017Q2\", \"2017Q3\", \"2017Q4\", \"2018Q1\", \"2018Q2\", \"2018Q3\", \"2018Q4\", \"2019Q1\", \"2019Q2\", \"2019Q3\", \"2019Q4\", \"2020Q1\", \"2020Q2\", \"2020Q3\"], \"xaxis\": \"x\", \"y\": [0.42, 0.42, 0.43, 0.43, 0.42, 0.43, 0.43, 0.4, 0.4, 0.4, 0.4, 0.38, 0.34, 0.32, 0.32, 0.29, 0.26, 0.25, 0.23, 0.2, 0.18, 0.18, 0.17, 0.17, 0.16, 0.17, 0.17, 0.17, 0.16, 0.16, 0.17, 0.19, 0.19], \"yaxis\": \"y\"}],                        {\"legend\": {\"itemsizing\": \"constant\", \"title\": {\"text\": \"Geography\"}, \"tracegroupgap\": 0}, \"template\": {\"data\": {\"bar\": [{\"error_x\": {\"color\": \"#2a3f5f\"}, \"error_y\": {\"color\": \"#2a3f5f\"}, \"marker\": {\"line\": {\"color\": \"#E5ECF6\", \"width\": 0.5}}, \"type\": \"bar\"}], \"barpolar\": [{\"marker\": {\"line\": {\"color\": \"#E5ECF6\", \"width\": 0.5}}, \"type\": \"barpolar\"}], \"carpet\": [{\"aaxis\": {\"endlinecolor\": \"#2a3f5f\", \"gridcolor\": \"white\", \"linecolor\": \"white\", \"minorgridcolor\": \"white\", \"startlinecolor\": \"#2a3f5f\"}, \"baxis\": {\"endlinecolor\": \"#2a3f5f\", \"gridcolor\": \"white\", \"linecolor\": \"white\", \"minorgridcolor\": \"white\", \"startlinecolor\": \"#2a3f5f\"}, \"type\": \"carpet\"}], \"choropleth\": [{\"colorbar\": {\"outlinewidth\": 0, \"ticks\": \"\"}, \"type\": \"choropleth\"}], \"contour\": [{\"colorbar\": {\"outlinewidth\": 0, \"ticks\": \"\"}, \"colorscale\": [[0.0, \"#0d0887\"], [0.1111111111111111, \"#46039f\"], [0.2222222222222222, \"#7201a8\"], [0.3333333333333333, \"#9c179e\"], [0.4444444444444444, \"#bd3786\"], [0.5555555555555556, \"#d8576b\"], [0.6666666666666666, \"#ed7953\"], [0.7777777777777778, \"#fb9f3a\"], [0.8888888888888888, \"#fdca26\"], [1.0, \"#f0f921\"]], \"type\": \"contour\"}], \"contourcarpet\": [{\"colorbar\": {\"outlinewidth\": 0, \"ticks\": \"\"}, \"type\": \"contourcarpet\"}], \"heatmap\": [{\"colorbar\": {\"outlinewidth\": 0, \"ticks\": \"\"}, \"colorscale\": [[0.0, \"#0d0887\"], [0.1111111111111111, \"#46039f\"], [0.2222222222222222, \"#7201a8\"], [0.3333333333333333, \"#9c179e\"], [0.4444444444444444, \"#bd3786\"], [0.5555555555555556, \"#d8576b\"], [0.6666666666666666, \"#ed7953\"], [0.7777777777777778, \"#fb9f3a\"], [0.8888888888888888, \"#fdca26\"], [1.0, \"#f0f921\"]], \"type\": \"heatmap\"}], \"heatmapgl\": [{\"colorbar\": {\"outlinewidth\": 0, \"ticks\": \"\"}, \"colorscale\": [[0.0, \"#0d0887\"], [0.1111111111111111, \"#46039f\"], [0.2222222222222222, \"#7201a8\"], [0.3333333333333333, \"#9c179e\"], [0.4444444444444444, \"#bd3786\"], [0.5555555555555556, \"#d8576b\"], [0.6666666666666666, \"#ed7953\"], [0.7777777777777778, \"#fb9f3a\"], [0.8888888888888888, \"#fdca26\"], [1.0, \"#f0f921\"]], \"type\": \"heatmapgl\"}], \"histogram\": [{\"marker\": {\"colorbar\": {\"outlinewidth\": 0, \"ticks\": \"\"}}, \"type\": \"histogram\"}], \"histogram2d\": [{\"colorbar\": {\"outlinewidth\": 0, \"ticks\": \"\"}, \"colorscale\": [[0.0, \"#0d0887\"], [0.1111111111111111, \"#46039f\"], [0.2222222222222222, \"#7201a8\"], [0.3333333333333333, \"#9c179e\"], [0.4444444444444444, \"#bd3786\"], [0.5555555555555556, \"#d8576b\"], [0.6666666666666666, \"#ed7953\"], [0.7777777777777778, \"#fb9f3a\"], [0.8888888888888888, \"#fdca26\"], [1.0, \"#f0f921\"]], \"type\": \"histogram2d\"}], \"histogram2dcontour\": [{\"colorbar\": {\"outlinewidth\": 0, \"ticks\": \"\"}, \"colorscale\": [[0.0, \"#0d0887\"], [0.1111111111111111, \"#46039f\"], [0.2222222222222222, \"#7201a8\"], [0.3333333333333333, \"#9c179e\"], [0.4444444444444444, \"#bd3786\"], [0.5555555555555556, \"#d8576b\"], [0.6666666666666666, \"#ed7953\"], [0.7777777777777778, \"#fb9f3a\"], [0.8888888888888888, \"#fdca26\"], [1.0, \"#f0f921\"]], \"type\": \"histogram2dcontour\"}], \"mesh3d\": [{\"colorbar\": {\"outlinewidth\": 0, \"ticks\": \"\"}, \"type\": \"mesh3d\"}], \"parcoords\": [{\"line\": {\"colorbar\": {\"outlinewidth\": 0, \"ticks\": \"\"}}, \"type\": \"parcoords\"}], \"pie\": [{\"automargin\": true, \"type\": \"pie\"}], \"scatter\": [{\"marker\": {\"colorbar\": {\"outlinewidth\": 0, \"ticks\": \"\"}}, \"type\": \"scatter\"}], \"scatter3d\": [{\"line\": {\"colorbar\": {\"outlinewidth\": 0, \"ticks\": \"\"}}, \"marker\": {\"colorbar\": {\"outlinewidth\": 0, \"ticks\": \"\"}}, \"type\": \"scatter3d\"}], \"scattercarpet\": [{\"marker\": {\"colorbar\": {\"outlinewidth\": 0, \"ticks\": \"\"}}, \"type\": \"scattercarpet\"}], \"scattergeo\": [{\"marker\": {\"colorbar\": {\"outlinewidth\": 0, \"ticks\": \"\"}}, \"type\": \"scattergeo\"}], \"scattergl\": [{\"marker\": {\"colorbar\": {\"outlinewidth\": 0, \"ticks\": \"\"}}, \"type\": \"scattergl\"}], \"scattermapbox\": [{\"marker\": {\"colorbar\": {\"outlinewidth\": 0, \"ticks\": \"\"}}, \"type\": \"scattermapbox\"}], \"scatterpolar\": [{\"marker\": {\"colorbar\": {\"outlinewidth\": 0, \"ticks\": \"\"}}, \"type\": \"scatterpolar\"}], \"scatterpolargl\": [{\"marker\": {\"colorbar\": {\"outlinewidth\": 0, \"ticks\": \"\"}}, \"type\": \"scatterpolargl\"}], \"scatterternary\": [{\"marker\": {\"colorbar\": {\"outlinewidth\": 0, \"ticks\": \"\"}}, \"type\": \"scatterternary\"}], \"surface\": [{\"colorbar\": {\"outlinewidth\": 0, \"ticks\": \"\"}, \"colorscale\": [[0.0, \"#0d0887\"], [0.1111111111111111, \"#46039f\"], [0.2222222222222222, \"#7201a8\"], [0.3333333333333333, \"#9c179e\"], [0.4444444444444444, \"#bd3786\"], [0.5555555555555556, \"#d8576b\"], [0.6666666666666666, \"#ed7953\"], [0.7777777777777778, \"#fb9f3a\"], [0.8888888888888888, \"#fdca26\"], [1.0, \"#f0f921\"]], \"type\": \"surface\"}], \"table\": [{\"cells\": {\"fill\": {\"color\": \"#EBF0F8\"}, \"line\": {\"color\": \"white\"}}, \"header\": {\"fill\": {\"color\": \"#C8D4E3\"}, \"line\": {\"color\": \"white\"}}, \"type\": \"table\"}]}, \"layout\": {\"annotationdefaults\": {\"arrowcolor\": \"#2a3f5f\", \"arrowhead\": 0, \"arrowwidth\": 1}, \"autotypenumbers\": \"strict\", \"coloraxis\": {\"colorbar\": {\"outlinewidth\": 0, \"ticks\": \"\"}}, \"colorscale\": {\"diverging\": [[0, \"#8e0152\"], [0.1, \"#c51b7d\"], [0.2, \"#de77ae\"], [0.3, \"#f1b6da\"], [0.4, \"#fde0ef\"], [0.5, \"#f7f7f7\"], [0.6, \"#e6f5d0\"], [0.7, \"#b8e186\"], [0.8, \"#7fbc41\"], [0.9, \"#4d9221\"], [1, \"#276419\"]], \"sequential\": [[0.0, \"#0d0887\"], [0.1111111111111111, \"#46039f\"], [0.2222222222222222, \"#7201a8\"], [0.3333333333333333, \"#9c179e\"], [0.4444444444444444, \"#bd3786\"], [0.5555555555555556, \"#d8576b\"], [0.6666666666666666, \"#ed7953\"], [0.7777777777777778, \"#fb9f3a\"], [0.8888888888888888, \"#fdca26\"], [1.0, \"#f0f921\"]], \"sequentialminus\": [[0.0, \"#0d0887\"], [0.1111111111111111, \"#46039f\"], [0.2222222222222222, \"#7201a8\"], [0.3333333333333333, \"#9c179e\"], [0.4444444444444444, \"#bd3786\"], [0.5555555555555556, \"#d8576b\"], [0.6666666666666666, \"#ed7953\"], [0.7777777777777778, \"#fb9f3a\"], [0.8888888888888888, \"#fdca26\"], [1.0, \"#f0f921\"]]}, \"colorway\": [\"#636efa\", \"#EF553B\", \"#00cc96\", \"#ab63fa\", \"#FFA15A\", \"#19d3f3\", \"#FF6692\", \"#B6E880\", \"#FF97FF\", \"#FECB52\"], \"font\": {\"color\": \"#2a3f5f\"}, \"geo\": {\"bgcolor\": \"white\", \"lakecolor\": \"white\", \"landcolor\": \"#E5ECF6\", \"showlakes\": true, \"showland\": true, \"subunitcolor\": \"white\"}, \"hoverlabel\": {\"align\": \"left\"}, \"hovermode\": \"closest\", \"mapbox\": {\"style\": \"light\"}, \"paper_bgcolor\": \"white\", \"plot_bgcolor\": \"#E5ECF6\", \"polar\": {\"angularaxis\": {\"gridcolor\": \"white\", \"linecolor\": \"white\", \"ticks\": \"\"}, \"bgcolor\": \"#E5ECF6\", \"radialaxis\": {\"gridcolor\": \"white\", \"linecolor\": \"white\", \"ticks\": \"\"}}, \"scene\": {\"xaxis\": {\"backgroundcolor\": \"#E5ECF6\", \"gridcolor\": \"white\", \"gridwidth\": 2, \"linecolor\": \"white\", \"showbackground\": true, \"ticks\": \"\", \"zerolinecolor\": \"white\"}, \"yaxis\": {\"backgroundcolor\": \"#E5ECF6\", \"gridcolor\": \"white\", \"gridwidth\": 2, \"linecolor\": \"white\", \"showbackground\": true, \"ticks\": \"\", \"zerolinecolor\": \"white\"}, \"zaxis\": {\"backgroundcolor\": \"#E5ECF6\", \"gridcolor\": \"white\", \"gridwidth\": 2, \"linecolor\": \"white\", \"showbackground\": true, \"ticks\": \"\", \"zerolinecolor\": \"white\"}}, \"shapedefaults\": {\"line\": {\"color\": \"#2a3f5f\"}}, \"ternary\": {\"aaxis\": {\"gridcolor\": \"white\", \"linecolor\": \"white\", \"ticks\": \"\"}, \"baxis\": {\"gridcolor\": \"white\", \"linecolor\": \"white\", \"ticks\": \"\"}, \"bgcolor\": \"#E5ECF6\", \"caxis\": {\"gridcolor\": \"white\", \"linecolor\": \"white\", \"ticks\": \"\"}}, \"title\": {\"x\": 0.05}, \"xaxis\": {\"automargin\": true, \"gridcolor\": \"white\", \"linecolor\": \"white\", \"ticks\": \"\", \"title\": {\"standoff\": 15}, \"zerolinecolor\": \"white\", \"zerolinewidth\": 2}, \"yaxis\": {\"automargin\": true, \"gridcolor\": \"white\", \"linecolor\": \"white\", \"ticks\": \"\", \"title\": {\"standoff\": 15}, \"zerolinecolor\": \"white\", \"zerolinewidth\": 2}}}, \"title\": {\"text\": \"Delinquency Rate by Province\"}, \"xaxis\": {\"anchor\": \"y\", \"domain\": [0.0, 1.0], \"title\": {\"text\": \"Time\"}}, \"yaxis\": {\"anchor\": \"x\", \"domain\": [0.0, 1.0], \"title\": {\"text\": \"DelinquencyRate\"}}},                        {\"responsive\": true}                    ).then(function(){\n",
       "                            \n",
       "var gd = document.getElementById('141d9990-0681-4bf3-9783-7cef757b9091');\n",
       "var x = new MutationObserver(function (mutations, observer) {{\n",
       "        var display = window.getComputedStyle(gd).display;\n",
       "        if (!display || display === 'none') {{\n",
       "            console.log([gd, 'removed!']);\n",
       "            Plotly.purge(gd);\n",
       "            observer.disconnect();\n",
       "        }}\n",
       "}});\n",
       "\n",
       "// Listen for the removal of the full notebook cells\n",
       "var notebookContainer = gd.closest('#notebook-container');\n",
       "if (notebookContainer) {{\n",
       "    x.observe(notebookContainer, {childList: true});\n",
       "}}\n",
       "\n",
       "// Listen for the clearing of the current output cell\n",
       "var outputEl = gd.closest('.output');\n",
       "if (outputEl) {{\n",
       "    x.observe(outputEl, {childList: true});\n",
       "}}\n",
       "\n",
       "                        })                };                });            </script>        </div>"
      ]
     },
     "metadata": {},
     "output_type": "display_data"
    }
   ],
   "source": [
    "px.scatter(data_frame=data_pop_del_mort_df,\n",
    "          y = \"DelinquencyRate\",\n",
    "          x = \"Time\",\n",
    "          size= \"PopulationSize\",\n",
    "          color= \"Geography\", \n",
    "          hover_name=\"Time\",\n",
    "          title=\"Delinquency Rate by Province\")"
   ]
  },
  {
   "cell_type": "code",
   "execution_count": 31,
   "metadata": {},
   "outputs": [
    {
     "data": {
      "application/vnd.plotly.v1+json": {
       "config": {
        "plotlyServerURL": "https://plot.ly"
       },
       "data": [
        {
         "hovertemplate": "<b>%{hovertext}</b><br><br>Geography=Newfoundland<br>Time=%{x}<br>PopulationSize=%{y}<extra></extra>",
         "hovertext": [
          "2012Q3",
          "2012Q4",
          "2013Q1",
          "2013Q2",
          "2013Q3",
          "2013Q4",
          "2014Q1",
          "2014Q2",
          "2014Q3",
          "2014Q4",
          "2015Q1",
          "2015Q2",
          "2015Q3",
          "2015Q4",
          "2016Q1",
          "2016Q2",
          "2016Q3",
          "2016Q4",
          "2017Q1",
          "2017Q2",
          "2017Q3",
          "2017Q4",
          "2018Q1",
          "2018Q2",
          "2018Q3",
          "2018Q4",
          "2019Q1",
          "2019Q2",
          "2019Q3",
          "2019Q4",
          "2020Q1",
          "2020Q2",
          "2020Q3"
         ],
         "legendgroup": "Newfoundland",
         "marker": {
          "color": "#636efa",
          "symbol": "circle"
         },
         "mode": "markers",
         "name": "Newfoundland",
         "orientation": "v",
         "showlegend": true,
         "type": "scatter",
         "x": [
          "2012Q3",
          "2012Q4",
          "2013Q1",
          "2013Q2",
          "2013Q3",
          "2013Q4",
          "2014Q1",
          "2014Q2",
          "2014Q3",
          "2014Q4",
          "2015Q1",
          "2015Q2",
          "2015Q3",
          "2015Q4",
          "2016Q1",
          "2016Q2",
          "2016Q3",
          "2016Q4",
          "2017Q1",
          "2017Q2",
          "2017Q3",
          "2017Q4",
          "2018Q1",
          "2018Q2",
          "2018Q3",
          "2018Q4",
          "2019Q1",
          "2019Q2",
          "2019Q3",
          "2019Q4",
          "2020Q1",
          "2020Q2",
          "2020Q3"
         ],
         "xaxis": "x",
         "y": [
          526345,
          527180,
          527248,
          527313,
          527114,
          528117,
          528242,
          527498,
          528159,
          528461,
          528361,
          528063,
          528117,
          528696,
          528800,
          529063,
          529426,
          529900,
          529347,
          528544,
          528249,
          528288,
          527544,
          526395,
          525560,
          525765,
          524883,
          524126,
          523476,
          524137,
          523631,
          522994,
          522103
         ],
         "yaxis": "y"
        },
        {
         "hovertemplate": "<b>%{hovertext}</b><br><br>Geography=Prince Edward Island<br>Time=%{x}<br>PopulationSize=%{y}<extra></extra>",
         "hovertext": [
          "2012Q3",
          "2012Q4",
          "2013Q1",
          "2013Q2",
          "2013Q3",
          "2013Q4",
          "2014Q1",
          "2014Q2",
          "2014Q3",
          "2014Q4",
          "2015Q1",
          "2015Q2",
          "2015Q3",
          "2015Q4",
          "2016Q1",
          "2016Q2",
          "2016Q3",
          "2016Q4",
          "2017Q1",
          "2017Q2",
          "2017Q3",
          "2017Q4",
          "2018Q1",
          "2018Q2",
          "2018Q3",
          "2018Q4",
          "2019Q1",
          "2019Q2",
          "2019Q3",
          "2019Q4",
          "2020Q1",
          "2020Q2",
          "2020Q3"
         ],
         "legendgroup": "Prince Edward Island",
         "marker": {
          "color": "#EF553B",
          "symbol": "circle"
         },
         "mode": "markers",
         "name": "Prince Edward Island",
         "orientation": "v",
         "showlegend": true,
         "type": "scatter",
         "x": [
          "2012Q3",
          "2012Q4",
          "2013Q1",
          "2013Q2",
          "2013Q3",
          "2013Q4",
          "2014Q1",
          "2014Q2",
          "2014Q3",
          "2014Q4",
          "2015Q1",
          "2015Q2",
          "2015Q3",
          "2015Q4",
          "2016Q1",
          "2016Q2",
          "2016Q3",
          "2016Q4",
          "2017Q1",
          "2017Q2",
          "2017Q3",
          "2017Q4",
          "2018Q1",
          "2018Q2",
          "2018Q3",
          "2018Q4",
          "2019Q1",
          "2019Q2",
          "2019Q3",
          "2019Q4",
          "2020Q1",
          "2020Q2",
          "2020Q3"
         ],
         "xaxis": "x",
         "y": [
          144530,
          144520,
          144175,
          143948,
          144094,
          144103,
          143996,
          143984,
          144283,
          144538,
          144368,
          144259,
          144546,
          144894,
          145202,
          145784,
          146969,
          147936,
          148181,
          148860,
          150402,
          151376,
          151516,
          152039,
          153396,
          155129,
          155244,
          155833,
          157262,
          158334,
          158629,
          159249,
          159625
         ],
         "yaxis": "y"
        },
        {
         "hovertemplate": "<b>%{hovertext}</b><br><br>Geography=Nova Scotia<br>Time=%{x}<br>PopulationSize=%{y}<extra></extra>",
         "hovertext": [
          "2012Q3",
          "2012Q4",
          "2013Q1",
          "2013Q2",
          "2013Q3",
          "2013Q4",
          "2014Q1",
          "2014Q2",
          "2014Q3",
          "2014Q4",
          "2015Q1",
          "2015Q2",
          "2015Q3",
          "2015Q4",
          "2016Q1",
          "2016Q2",
          "2016Q3",
          "2016Q4",
          "2017Q1",
          "2017Q2",
          "2017Q3",
          "2017Q4",
          "2018Q1",
          "2018Q2",
          "2018Q3",
          "2018Q4",
          "2019Q1",
          "2019Q2",
          "2019Q3",
          "2019Q4",
          "2020Q1",
          "2020Q2",
          "2020Q3"
         ],
         "legendgroup": "Nova Scotia",
         "marker": {
          "color": "#00cc96",
          "symbol": "circle"
         },
         "mode": "markers",
         "name": "Nova Scotia",
         "orientation": "v",
         "showlegend": true,
         "type": "scatter",
         "x": [
          "2012Q3",
          "2012Q4",
          "2013Q1",
          "2013Q2",
          "2013Q3",
          "2013Q4",
          "2014Q1",
          "2014Q2",
          "2014Q3",
          "2014Q4",
          "2015Q1",
          "2015Q2",
          "2015Q3",
          "2015Q4",
          "2016Q1",
          "2016Q2",
          "2016Q3",
          "2016Q4",
          "2017Q1",
          "2017Q2",
          "2017Q3",
          "2017Q4",
          "2018Q1",
          "2018Q2",
          "2018Q3",
          "2018Q4",
          "2019Q1",
          "2019Q2",
          "2019Q3",
          "2019Q4",
          "2020Q1",
          "2020Q2",
          "2020Q3"
         ],
         "xaxis": "x",
         "y": [
          943635,
          943341,
          942598,
          941230,
          940434,
          940105,
          939867,
          938913,
          938545,
          938972,
          938296,
          936271,
          936525,
          938320,
          938690,
          940382,
          942790,
          946030,
          945943,
          947384,
          950108,
          953683,
          953838,
          954618,
          958406,
          963309,
          963890,
          965287,
          969747,
          975231,
          975898,
          977043,
          979351
         ],
         "yaxis": "y"
        },
        {
         "hovertemplate": "<b>%{hovertext}</b><br><br>Geography=New Brunswick<br>Time=%{x}<br>PopulationSize=%{y}<extra></extra>",
         "hovertext": [
          "2012Q3",
          "2012Q4",
          "2013Q1",
          "2013Q2",
          "2013Q3",
          "2013Q4",
          "2014Q1",
          "2014Q2",
          "2014Q3",
          "2014Q4",
          "2015Q1",
          "2015Q2",
          "2015Q3",
          "2015Q4",
          "2016Q1",
          "2016Q2",
          "2016Q3",
          "2016Q4",
          "2017Q1",
          "2017Q2",
          "2017Q3",
          "2017Q4",
          "2018Q1",
          "2018Q2",
          "2018Q3",
          "2018Q4",
          "2019Q1",
          "2019Q2",
          "2019Q3",
          "2019Q4",
          "2020Q1",
          "2020Q2",
          "2020Q3"
         ],
         "legendgroup": "New Brunswick",
         "marker": {
          "color": "#ab63fa",
          "symbol": "circle"
         },
         "mode": "markers",
         "name": "New Brunswick",
         "orientation": "v",
         "showlegend": true,
         "type": "scatter",
         "x": [
          "2012Q3",
          "2012Q4",
          "2013Q1",
          "2013Q2",
          "2013Q3",
          "2013Q4",
          "2014Q1",
          "2014Q2",
          "2014Q3",
          "2014Q4",
          "2015Q1",
          "2015Q2",
          "2015Q3",
          "2015Q4",
          "2016Q1",
          "2016Q2",
          "2016Q3",
          "2016Q4",
          "2017Q1",
          "2017Q2",
          "2017Q3",
          "2017Q4",
          "2018Q1",
          "2018Q2",
          "2018Q3",
          "2018Q4",
          "2019Q1",
          "2019Q2",
          "2019Q3",
          "2019Q4",
          "2020Q1",
          "2020Q2",
          "2020Q3"
         ],
         "xaxis": "x",
         "y": [
          758378,
          758673,
          758298,
          758132,
          758544,
          758670,
          759018,
          758876,
          758976,
          759524,
          759617,
          758948,
          758842,
          759778,
          760580,
          762289,
          763350,
          764844,
          764617,
          764813,
          766621,
          767935,
          768005,
          768522,
          770301,
          772524,
          772748,
          773805,
          776868,
          780154,
          780040,
          781024,
          781476
         ],
         "yaxis": "y"
        },
        {
         "hovertemplate": "<b>%{hovertext}</b><br><br>Geography=Québec<br>Time=%{x}<br>PopulationSize=%{y}<extra></extra>",
         "hovertext": [
          "2012Q3",
          "2012Q4",
          "2013Q1",
          "2013Q2",
          "2013Q3",
          "2013Q4",
          "2014Q1",
          "2014Q2",
          "2014Q3",
          "2014Q4",
          "2015Q1",
          "2015Q2",
          "2015Q3",
          "2015Q4",
          "2016Q1",
          "2016Q2",
          "2016Q3",
          "2016Q4",
          "2017Q1",
          "2017Q2",
          "2017Q3",
          "2017Q4",
          "2018Q1",
          "2018Q2",
          "2018Q3",
          "2018Q4",
          "2019Q1",
          "2019Q2",
          "2019Q3",
          "2019Q4",
          "2020Q1",
          "2020Q2",
          "2020Q3"
         ],
         "legendgroup": "Québec",
         "marker": {
          "color": "#FFA15A",
          "symbol": "circle"
         },
         "mode": "markers",
         "name": "Québec",
         "orientation": "v",
         "showlegend": true,
         "type": "scatter",
         "x": [
          "2012Q3",
          "2012Q4",
          "2013Q1",
          "2013Q2",
          "2013Q3",
          "2013Q4",
          "2014Q1",
          "2014Q2",
          "2014Q3",
          "2014Q4",
          "2015Q1",
          "2015Q2",
          "2015Q3",
          "2015Q4",
          "2016Q1",
          "2016Q2",
          "2016Q3",
          "2016Q4",
          "2017Q1",
          "2017Q2",
          "2017Q3",
          "2017Q4",
          "2018Q1",
          "2018Q2",
          "2018Q3",
          "2018Q4",
          "2019Q1",
          "2019Q2",
          "2019Q3",
          "2019Q4",
          "2020Q1",
          "2020Q2",
          "2020Q3"
         ],
         "xaxis": "x",
         "y": [
          8061101,
          8078388,
          8082771,
          8090916,
          8110880,
          8124660,
          8125478,
          8132425,
          8150183,
          8165447,
          8163132,
          8163063,
          8175272,
          8190014,
          8193624,
          8204085,
          8225950,
          8249692,
          8257450,
          8272894,
          8302063,
          8336460,
          8350601,
          8367551,
          8401738,
          8433888,
          8446906,
          8465271,
          8501703,
          8540429,
          8556650,
          8572054,
          8574571
         ],
         "yaxis": "y"
        },
        {
         "hovertemplate": "<b>%{hovertext}</b><br><br>Geography=Ontario<br>Time=%{x}<br>PopulationSize=%{y}<extra></extra>",
         "hovertext": [
          "2012Q3",
          "2012Q4",
          "2013Q1",
          "2013Q2",
          "2013Q3",
          "2013Q4",
          "2014Q1",
          "2014Q2",
          "2014Q3",
          "2014Q4",
          "2015Q1",
          "2015Q2",
          "2015Q3",
          "2015Q4",
          "2016Q1",
          "2016Q2",
          "2016Q3",
          "2016Q4",
          "2017Q1",
          "2017Q2",
          "2017Q3",
          "2017Q4",
          "2018Q1",
          "2018Q2",
          "2018Q3",
          "2018Q4",
          "2019Q1",
          "2019Q2",
          "2019Q3",
          "2019Q4",
          "2020Q1",
          "2020Q2",
          "2020Q3"
         ],
         "legendgroup": "Ontario",
         "marker": {
          "color": "#19d3f3",
          "symbol": "circle"
         },
         "mode": "markers",
         "name": "Ontario",
         "orientation": "v",
         "showlegend": true,
         "type": "scatter",
         "x": [
          "2012Q3",
          "2012Q4",
          "2013Q1",
          "2013Q2",
          "2013Q3",
          "2013Q4",
          "2014Q1",
          "2014Q2",
          "2014Q3",
          "2014Q4",
          "2015Q1",
          "2015Q2",
          "2015Q3",
          "2015Q4",
          "2016Q1",
          "2016Q2",
          "2016Q3",
          "2016Q4",
          "2017Q1",
          "2017Q2",
          "2017Q3",
          "2017Q4",
          "2018Q1",
          "2018Q2",
          "2018Q3",
          "2018Q4",
          "2019Q1",
          "2019Q2",
          "2019Q3",
          "2019Q4",
          "2020Q1",
          "2020Q2",
          "2020Q3"
         ],
         "xaxis": "x",
         "y": [
          13390632,
          13434943,
          13444704,
          13467829,
          13510781,
          13558528,
          13562583,
          13582747,
          13617553,
          13661314,
          13657737,
          13669860,
          13707118,
          13757688,
          13773629,
          13816545,
          13875394,
          13946431,
          13971785,
          14006386,
          14070141,
          14150783,
          14186830,
          14235643,
          14308697,
          14393683,
          14428712,
          14467162,
          14544718,
          14637880,
          14689075,
          14723497,
          14734014
         ],
         "yaxis": "y"
        },
        {
         "hovertemplate": "<b>%{hovertext}</b><br><br>Geography=Manitoba<br>Time=%{x}<br>PopulationSize=%{y}<extra></extra>",
         "hovertext": [
          "2012Q3",
          "2012Q4",
          "2013Q1",
          "2013Q2",
          "2013Q3",
          "2013Q4",
          "2014Q1",
          "2014Q2",
          "2014Q3",
          "2014Q4",
          "2015Q1",
          "2015Q2",
          "2015Q3",
          "2015Q4",
          "2016Q1",
          "2016Q2",
          "2016Q3",
          "2016Q4",
          "2017Q1",
          "2017Q2",
          "2017Q3",
          "2017Q4",
          "2018Q1",
          "2018Q2",
          "2018Q3",
          "2018Q4",
          "2019Q1",
          "2019Q2",
          "2019Q3",
          "2019Q4",
          "2020Q1",
          "2020Q2",
          "2020Q3"
         ],
         "legendgroup": "Manitoba",
         "marker": {
          "color": "#FF6692",
          "symbol": "circle"
         },
         "mode": "markers",
         "name": "Manitoba",
         "orientation": "v",
         "showlegend": true,
         "type": "scatter",
         "x": [
          "2012Q3",
          "2012Q4",
          "2013Q1",
          "2013Q2",
          "2013Q3",
          "2013Q4",
          "2014Q1",
          "2014Q2",
          "2014Q3",
          "2014Q4",
          "2015Q1",
          "2015Q2",
          "2015Q3",
          "2015Q4",
          "2016Q1",
          "2016Q2",
          "2016Q3",
          "2016Q4",
          "2017Q1",
          "2017Q2",
          "2017Q3",
          "2017Q4",
          "2018Q1",
          "2018Q2",
          "2018Q3",
          "2018Q4",
          "2019Q1",
          "2019Q2",
          "2019Q3",
          "2019Q4",
          "2020Q1",
          "2020Q2",
          "2020Q3"
         ],
         "xaxis": "x",
         "y": [
          1249975,
          1254178,
          1257940,
          1260834,
          1264620,
          1268428,
          1271562,
          1274407,
          1279014,
          1283366,
          1286453,
          1288094,
          1292227,
          1297329,
          1302544,
          1307689,
          1314139,
          1319911,
          1324129,
          1328412,
          1334790,
          1340565,
          1344418,
          1347055,
          1352825,
          1357879,
          1361632,
          1364223,
          1369540,
          1373574,
          1377004,
          1378818,
          1379263
         ],
         "yaxis": "y"
        },
        {
         "hovertemplate": "<b>%{hovertext}</b><br><br>Geography=Saskatchewan<br>Time=%{x}<br>PopulationSize=%{y}<extra></extra>",
         "hovertext": [
          "2012Q3",
          "2012Q4",
          "2013Q1",
          "2013Q2",
          "2013Q3",
          "2013Q4",
          "2014Q1",
          "2014Q2",
          "2014Q3",
          "2014Q4",
          "2015Q1",
          "2015Q2",
          "2015Q3",
          "2015Q4",
          "2016Q1",
          "2016Q2",
          "2016Q3",
          "2016Q4",
          "2017Q1",
          "2017Q2",
          "2017Q3",
          "2017Q4",
          "2018Q1",
          "2018Q2",
          "2018Q3",
          "2018Q4",
          "2019Q1",
          "2019Q2",
          "2019Q3",
          "2019Q4",
          "2020Q1",
          "2020Q2",
          "2020Q3"
         ],
         "legendgroup": "Saskatchewan",
         "marker": {
          "color": "#B6E880",
          "symbol": "circle"
         },
         "mode": "markers",
         "name": "Saskatchewan",
         "orientation": "v",
         "showlegend": true,
         "type": "scatter",
         "x": [
          "2012Q3",
          "2012Q4",
          "2013Q1",
          "2013Q2",
          "2013Q3",
          "2013Q4",
          "2014Q1",
          "2014Q2",
          "2014Q3",
          "2014Q4",
          "2015Q1",
          "2015Q2",
          "2015Q3",
          "2015Q4",
          "2016Q1",
          "2016Q2",
          "2016Q3",
          "2016Q4",
          "2017Q1",
          "2017Q2",
          "2017Q3",
          "2017Q4",
          "2018Q1",
          "2018Q2",
          "2018Q3",
          "2018Q4",
          "2019Q1",
          "2019Q2",
          "2019Q3",
          "2019Q4",
          "2020Q1",
          "2020Q2",
          "2020Q3"
         ],
         "xaxis": "x",
         "y": [
          1083755,
          1088959,
          1091547,
          1094390,
          1099736,
          1103730,
          1106374,
          1109631,
          1112979,
          1116203,
          1118181,
          1118806,
          1120967,
          1124919,
          1127773,
          1131147,
          1135987,
          1140690,
          1143313,
          1146218,
          1150331,
          1154755,
          1156659,
          1158451,
          1161767,
          1165938,
          1168461,
          1169286,
          1172302,
          1176272,
          1179154,
          1179618,
          1178681
         ],
         "yaxis": "y"
        },
        {
         "hovertemplate": "<b>%{hovertext}</b><br><br>Geography=Alberta<br>Time=%{x}<br>PopulationSize=%{y}<extra></extra>",
         "hovertext": [
          "2012Q3",
          "2012Q4",
          "2013Q1",
          "2013Q2",
          "2013Q3",
          "2013Q4",
          "2014Q1",
          "2014Q2",
          "2014Q3",
          "2014Q4",
          "2015Q1",
          "2015Q2",
          "2015Q3",
          "2015Q4",
          "2016Q1",
          "2016Q2",
          "2016Q3",
          "2016Q4",
          "2017Q1",
          "2017Q2",
          "2017Q3",
          "2017Q4",
          "2018Q1",
          "2018Q2",
          "2018Q3",
          "2018Q4",
          "2019Q1",
          "2019Q2",
          "2019Q3",
          "2019Q4",
          "2020Q1",
          "2020Q2",
          "2020Q3"
         ],
         "legendgroup": "Alberta",
         "marker": {
          "color": "#FF97FF",
          "symbol": "circle"
         },
         "mode": "markers",
         "name": "Alberta",
         "orientation": "v",
         "showlegend": true,
         "type": "scatter",
         "x": [
          "2012Q3",
          "2012Q4",
          "2013Q1",
          "2013Q2",
          "2013Q3",
          "2013Q4",
          "2014Q1",
          "2014Q2",
          "2014Q3",
          "2014Q4",
          "2015Q1",
          "2015Q2",
          "2015Q3",
          "2015Q4",
          "2016Q1",
          "2016Q2",
          "2016Q3",
          "2016Q4",
          "2017Q1",
          "2017Q2",
          "2017Q3",
          "2017Q4",
          "2018Q1",
          "2018Q2",
          "2018Q3",
          "2018Q4",
          "2019Q1",
          "2019Q2",
          "2019Q3",
          "2019Q4",
          "2020Q1",
          "2020Q2",
          "2020Q3"
         ],
         "xaxis": "x",
         "y": [
          3874548,
          3900333,
          3920499,
          3946798,
          3981011,
          4010903,
          4029951,
          4054280,
          4083648,
          4106056,
          4116047,
          4128300,
          4144491,
          4159519,
          4169830,
          4181765,
          4196061,
          4208958,
          4217855,
          4227969,
          4241100,
          4258195,
          4268853,
          4281706,
          4298275,
          4317453,
          4330698,
          4343951,
          4361694,
          4384968,
          4402045,
          4417006,
          4421876
         ],
         "yaxis": "y"
        },
        {
         "hovertemplate": "<b>%{hovertext}</b><br><br>Geography=British Columbia<br>Time=%{x}<br>PopulationSize=%{y}<extra></extra>",
         "hovertext": [
          "2012Q3",
          "2012Q4",
          "2013Q1",
          "2013Q2",
          "2013Q3",
          "2013Q4",
          "2014Q1",
          "2014Q2",
          "2014Q3",
          "2014Q4",
          "2015Q1",
          "2015Q2",
          "2015Q3",
          "2015Q4",
          "2016Q1",
          "2016Q2",
          "2016Q3",
          "2016Q4",
          "2017Q1",
          "2017Q2",
          "2017Q3",
          "2017Q4",
          "2018Q1",
          "2018Q2",
          "2018Q3",
          "2018Q4",
          "2019Q1",
          "2019Q2",
          "2019Q3",
          "2019Q4",
          "2020Q1",
          "2020Q2",
          "2020Q3"
         ],
         "legendgroup": "British Columbia",
         "marker": {
          "color": "#FECB52",
          "symbol": "circle"
         },
         "mode": "markers",
         "name": "British Columbia",
         "orientation": "v",
         "showlegend": true,
         "type": "scatter",
         "x": [
          "2012Q3",
          "2012Q4",
          "2013Q1",
          "2013Q2",
          "2013Q3",
          "2013Q4",
          "2014Q1",
          "2014Q2",
          "2014Q3",
          "2014Q4",
          "2015Q1",
          "2015Q2",
          "2015Q3",
          "2015Q4",
          "2016Q1",
          "2016Q2",
          "2016Q3",
          "2016Q4",
          "2017Q1",
          "2017Q2",
          "2017Q3",
          "2017Q4",
          "2018Q1",
          "2018Q2",
          "2018Q3",
          "2018Q4",
          "2019Q1",
          "2019Q2",
          "2019Q3",
          "2019Q4",
          "2020Q1",
          "2020Q2",
          "2020Q3"
         ],
         "xaxis": "x",
         "y": [
          4566769,
          4590545,
          4598255,
          4611648,
          4630077,
          4658875,
          4666788,
          4684490,
          4707103,
          4737725,
          4745468,
          4757759,
          4776388,
          4802955,
          4811465,
          4832155,
          4859250,
          4884002,
          4890848,
          4905210,
          4929384,
          4956550,
          4967421,
          4983183,
          5010476,
          5039661,
          5046576,
          5063527,
          5090955,
          5125659,
          5131575,
          5142404,
          5147712
         ],
         "yaxis": "y"
        }
       ],
       "layout": {
        "legend": {
         "title": {
          "text": "Geography"
         },
         "tracegroupgap": 0
        },
        "template": {
         "data": {
          "bar": [
           {
            "error_x": {
             "color": "#2a3f5f"
            },
            "error_y": {
             "color": "#2a3f5f"
            },
            "marker": {
             "line": {
              "color": "#E5ECF6",
              "width": 0.5
             }
            },
            "type": "bar"
           }
          ],
          "barpolar": [
           {
            "marker": {
             "line": {
              "color": "#E5ECF6",
              "width": 0.5
             }
            },
            "type": "barpolar"
           }
          ],
          "carpet": [
           {
            "aaxis": {
             "endlinecolor": "#2a3f5f",
             "gridcolor": "white",
             "linecolor": "white",
             "minorgridcolor": "white",
             "startlinecolor": "#2a3f5f"
            },
            "baxis": {
             "endlinecolor": "#2a3f5f",
             "gridcolor": "white",
             "linecolor": "white",
             "minorgridcolor": "white",
             "startlinecolor": "#2a3f5f"
            },
            "type": "carpet"
           }
          ],
          "choropleth": [
           {
            "colorbar": {
             "outlinewidth": 0,
             "ticks": ""
            },
            "type": "choropleth"
           }
          ],
          "contour": [
           {
            "colorbar": {
             "outlinewidth": 0,
             "ticks": ""
            },
            "colorscale": [
             [
              0,
              "#0d0887"
             ],
             [
              0.1111111111111111,
              "#46039f"
             ],
             [
              0.2222222222222222,
              "#7201a8"
             ],
             [
              0.3333333333333333,
              "#9c179e"
             ],
             [
              0.4444444444444444,
              "#bd3786"
             ],
             [
              0.5555555555555556,
              "#d8576b"
             ],
             [
              0.6666666666666666,
              "#ed7953"
             ],
             [
              0.7777777777777778,
              "#fb9f3a"
             ],
             [
              0.8888888888888888,
              "#fdca26"
             ],
             [
              1,
              "#f0f921"
             ]
            ],
            "type": "contour"
           }
          ],
          "contourcarpet": [
           {
            "colorbar": {
             "outlinewidth": 0,
             "ticks": ""
            },
            "type": "contourcarpet"
           }
          ],
          "heatmap": [
           {
            "colorbar": {
             "outlinewidth": 0,
             "ticks": ""
            },
            "colorscale": [
             [
              0,
              "#0d0887"
             ],
             [
              0.1111111111111111,
              "#46039f"
             ],
             [
              0.2222222222222222,
              "#7201a8"
             ],
             [
              0.3333333333333333,
              "#9c179e"
             ],
             [
              0.4444444444444444,
              "#bd3786"
             ],
             [
              0.5555555555555556,
              "#d8576b"
             ],
             [
              0.6666666666666666,
              "#ed7953"
             ],
             [
              0.7777777777777778,
              "#fb9f3a"
             ],
             [
              0.8888888888888888,
              "#fdca26"
             ],
             [
              1,
              "#f0f921"
             ]
            ],
            "type": "heatmap"
           }
          ],
          "heatmapgl": [
           {
            "colorbar": {
             "outlinewidth": 0,
             "ticks": ""
            },
            "colorscale": [
             [
              0,
              "#0d0887"
             ],
             [
              0.1111111111111111,
              "#46039f"
             ],
             [
              0.2222222222222222,
              "#7201a8"
             ],
             [
              0.3333333333333333,
              "#9c179e"
             ],
             [
              0.4444444444444444,
              "#bd3786"
             ],
             [
              0.5555555555555556,
              "#d8576b"
             ],
             [
              0.6666666666666666,
              "#ed7953"
             ],
             [
              0.7777777777777778,
              "#fb9f3a"
             ],
             [
              0.8888888888888888,
              "#fdca26"
             ],
             [
              1,
              "#f0f921"
             ]
            ],
            "type": "heatmapgl"
           }
          ],
          "histogram": [
           {
            "marker": {
             "colorbar": {
              "outlinewidth": 0,
              "ticks": ""
             }
            },
            "type": "histogram"
           }
          ],
          "histogram2d": [
           {
            "colorbar": {
             "outlinewidth": 0,
             "ticks": ""
            },
            "colorscale": [
             [
              0,
              "#0d0887"
             ],
             [
              0.1111111111111111,
              "#46039f"
             ],
             [
              0.2222222222222222,
              "#7201a8"
             ],
             [
              0.3333333333333333,
              "#9c179e"
             ],
             [
              0.4444444444444444,
              "#bd3786"
             ],
             [
              0.5555555555555556,
              "#d8576b"
             ],
             [
              0.6666666666666666,
              "#ed7953"
             ],
             [
              0.7777777777777778,
              "#fb9f3a"
             ],
             [
              0.8888888888888888,
              "#fdca26"
             ],
             [
              1,
              "#f0f921"
             ]
            ],
            "type": "histogram2d"
           }
          ],
          "histogram2dcontour": [
           {
            "colorbar": {
             "outlinewidth": 0,
             "ticks": ""
            },
            "colorscale": [
             [
              0,
              "#0d0887"
             ],
             [
              0.1111111111111111,
              "#46039f"
             ],
             [
              0.2222222222222222,
              "#7201a8"
             ],
             [
              0.3333333333333333,
              "#9c179e"
             ],
             [
              0.4444444444444444,
              "#bd3786"
             ],
             [
              0.5555555555555556,
              "#d8576b"
             ],
             [
              0.6666666666666666,
              "#ed7953"
             ],
             [
              0.7777777777777778,
              "#fb9f3a"
             ],
             [
              0.8888888888888888,
              "#fdca26"
             ],
             [
              1,
              "#f0f921"
             ]
            ],
            "type": "histogram2dcontour"
           }
          ],
          "mesh3d": [
           {
            "colorbar": {
             "outlinewidth": 0,
             "ticks": ""
            },
            "type": "mesh3d"
           }
          ],
          "parcoords": [
           {
            "line": {
             "colorbar": {
              "outlinewidth": 0,
              "ticks": ""
             }
            },
            "type": "parcoords"
           }
          ],
          "pie": [
           {
            "automargin": true,
            "type": "pie"
           }
          ],
          "scatter": [
           {
            "marker": {
             "colorbar": {
              "outlinewidth": 0,
              "ticks": ""
             }
            },
            "type": "scatter"
           }
          ],
          "scatter3d": [
           {
            "line": {
             "colorbar": {
              "outlinewidth": 0,
              "ticks": ""
             }
            },
            "marker": {
             "colorbar": {
              "outlinewidth": 0,
              "ticks": ""
             }
            },
            "type": "scatter3d"
           }
          ],
          "scattercarpet": [
           {
            "marker": {
             "colorbar": {
              "outlinewidth": 0,
              "ticks": ""
             }
            },
            "type": "scattercarpet"
           }
          ],
          "scattergeo": [
           {
            "marker": {
             "colorbar": {
              "outlinewidth": 0,
              "ticks": ""
             }
            },
            "type": "scattergeo"
           }
          ],
          "scattergl": [
           {
            "marker": {
             "colorbar": {
              "outlinewidth": 0,
              "ticks": ""
             }
            },
            "type": "scattergl"
           }
          ],
          "scattermapbox": [
           {
            "marker": {
             "colorbar": {
              "outlinewidth": 0,
              "ticks": ""
             }
            },
            "type": "scattermapbox"
           }
          ],
          "scatterpolar": [
           {
            "marker": {
             "colorbar": {
              "outlinewidth": 0,
              "ticks": ""
             }
            },
            "type": "scatterpolar"
           }
          ],
          "scatterpolargl": [
           {
            "marker": {
             "colorbar": {
              "outlinewidth": 0,
              "ticks": ""
             }
            },
            "type": "scatterpolargl"
           }
          ],
          "scatterternary": [
           {
            "marker": {
             "colorbar": {
              "outlinewidth": 0,
              "ticks": ""
             }
            },
            "type": "scatterternary"
           }
          ],
          "surface": [
           {
            "colorbar": {
             "outlinewidth": 0,
             "ticks": ""
            },
            "colorscale": [
             [
              0,
              "#0d0887"
             ],
             [
              0.1111111111111111,
              "#46039f"
             ],
             [
              0.2222222222222222,
              "#7201a8"
             ],
             [
              0.3333333333333333,
              "#9c179e"
             ],
             [
              0.4444444444444444,
              "#bd3786"
             ],
             [
              0.5555555555555556,
              "#d8576b"
             ],
             [
              0.6666666666666666,
              "#ed7953"
             ],
             [
              0.7777777777777778,
              "#fb9f3a"
             ],
             [
              0.8888888888888888,
              "#fdca26"
             ],
             [
              1,
              "#f0f921"
             ]
            ],
            "type": "surface"
           }
          ],
          "table": [
           {
            "cells": {
             "fill": {
              "color": "#EBF0F8"
             },
             "line": {
              "color": "white"
             }
            },
            "header": {
             "fill": {
              "color": "#C8D4E3"
             },
             "line": {
              "color": "white"
             }
            },
            "type": "table"
           }
          ]
         },
         "layout": {
          "annotationdefaults": {
           "arrowcolor": "#2a3f5f",
           "arrowhead": 0,
           "arrowwidth": 1
          },
          "autotypenumbers": "strict",
          "coloraxis": {
           "colorbar": {
            "outlinewidth": 0,
            "ticks": ""
           }
          },
          "colorscale": {
           "diverging": [
            [
             0,
             "#8e0152"
            ],
            [
             0.1,
             "#c51b7d"
            ],
            [
             0.2,
             "#de77ae"
            ],
            [
             0.3,
             "#f1b6da"
            ],
            [
             0.4,
             "#fde0ef"
            ],
            [
             0.5,
             "#f7f7f7"
            ],
            [
             0.6,
             "#e6f5d0"
            ],
            [
             0.7,
             "#b8e186"
            ],
            [
             0.8,
             "#7fbc41"
            ],
            [
             0.9,
             "#4d9221"
            ],
            [
             1,
             "#276419"
            ]
           ],
           "sequential": [
            [
             0,
             "#0d0887"
            ],
            [
             0.1111111111111111,
             "#46039f"
            ],
            [
             0.2222222222222222,
             "#7201a8"
            ],
            [
             0.3333333333333333,
             "#9c179e"
            ],
            [
             0.4444444444444444,
             "#bd3786"
            ],
            [
             0.5555555555555556,
             "#d8576b"
            ],
            [
             0.6666666666666666,
             "#ed7953"
            ],
            [
             0.7777777777777778,
             "#fb9f3a"
            ],
            [
             0.8888888888888888,
             "#fdca26"
            ],
            [
             1,
             "#f0f921"
            ]
           ],
           "sequentialminus": [
            [
             0,
             "#0d0887"
            ],
            [
             0.1111111111111111,
             "#46039f"
            ],
            [
             0.2222222222222222,
             "#7201a8"
            ],
            [
             0.3333333333333333,
             "#9c179e"
            ],
            [
             0.4444444444444444,
             "#bd3786"
            ],
            [
             0.5555555555555556,
             "#d8576b"
            ],
            [
             0.6666666666666666,
             "#ed7953"
            ],
            [
             0.7777777777777778,
             "#fb9f3a"
            ],
            [
             0.8888888888888888,
             "#fdca26"
            ],
            [
             1,
             "#f0f921"
            ]
           ]
          },
          "colorway": [
           "#636efa",
           "#EF553B",
           "#00cc96",
           "#ab63fa",
           "#FFA15A",
           "#19d3f3",
           "#FF6692",
           "#B6E880",
           "#FF97FF",
           "#FECB52"
          ],
          "font": {
           "color": "#2a3f5f"
          },
          "geo": {
           "bgcolor": "white",
           "lakecolor": "white",
           "landcolor": "#E5ECF6",
           "showlakes": true,
           "showland": true,
           "subunitcolor": "white"
          },
          "hoverlabel": {
           "align": "left"
          },
          "hovermode": "closest",
          "mapbox": {
           "style": "light"
          },
          "paper_bgcolor": "white",
          "plot_bgcolor": "#E5ECF6",
          "polar": {
           "angularaxis": {
            "gridcolor": "white",
            "linecolor": "white",
            "ticks": ""
           },
           "bgcolor": "#E5ECF6",
           "radialaxis": {
            "gridcolor": "white",
            "linecolor": "white",
            "ticks": ""
           }
          },
          "scene": {
           "xaxis": {
            "backgroundcolor": "#E5ECF6",
            "gridcolor": "white",
            "gridwidth": 2,
            "linecolor": "white",
            "showbackground": true,
            "ticks": "",
            "zerolinecolor": "white"
           },
           "yaxis": {
            "backgroundcolor": "#E5ECF6",
            "gridcolor": "white",
            "gridwidth": 2,
            "linecolor": "white",
            "showbackground": true,
            "ticks": "",
            "zerolinecolor": "white"
           },
           "zaxis": {
            "backgroundcolor": "#E5ECF6",
            "gridcolor": "white",
            "gridwidth": 2,
            "linecolor": "white",
            "showbackground": true,
            "ticks": "",
            "zerolinecolor": "white"
           }
          },
          "shapedefaults": {
           "line": {
            "color": "#2a3f5f"
           }
          },
          "ternary": {
           "aaxis": {
            "gridcolor": "white",
            "linecolor": "white",
            "ticks": ""
           },
           "baxis": {
            "gridcolor": "white",
            "linecolor": "white",
            "ticks": ""
           },
           "bgcolor": "#E5ECF6",
           "caxis": {
            "gridcolor": "white",
            "linecolor": "white",
            "ticks": ""
           }
          },
          "title": {
           "x": 0.05
          },
          "xaxis": {
           "automargin": true,
           "gridcolor": "white",
           "linecolor": "white",
           "ticks": "",
           "title": {
            "standoff": 15
           },
           "zerolinecolor": "white",
           "zerolinewidth": 2
          },
          "yaxis": {
           "automargin": true,
           "gridcolor": "white",
           "linecolor": "white",
           "ticks": "",
           "title": {
            "standoff": 15
           },
           "zerolinecolor": "white",
           "zerolinewidth": 2
          }
         }
        },
        "title": {
         "text": "Population Size by Province"
        },
        "xaxis": {
         "anchor": "y",
         "domain": [
          0,
          1
         ],
         "title": {
          "text": "Time"
         }
        },
        "yaxis": {
         "anchor": "x",
         "domain": [
          0,
          1
         ],
         "title": {
          "text": "PopulationSize"
         }
        }
       }
      },
      "text/html": [
       "<div>                            <div id=\"5a84134b-88d1-485c-9d67-45db9215b5c8\" class=\"plotly-graph-div\" style=\"height:525px; width:100%;\"></div>            <script type=\"text/javascript\">                require([\"plotly\"], function(Plotly) {                    window.PLOTLYENV=window.PLOTLYENV || {};                                    if (document.getElementById(\"5a84134b-88d1-485c-9d67-45db9215b5c8\")) {                    Plotly.newPlot(                        \"5a84134b-88d1-485c-9d67-45db9215b5c8\",                        [{\"hovertemplate\": \"<b>%{hovertext}</b><br><br>Geography=Newfoundland<br>Time=%{x}<br>PopulationSize=%{y}<extra></extra>\", \"hovertext\": [\"2012Q3\", \"2012Q4\", \"2013Q1\", \"2013Q2\", \"2013Q3\", \"2013Q4\", \"2014Q1\", \"2014Q2\", \"2014Q3\", \"2014Q4\", \"2015Q1\", \"2015Q2\", \"2015Q3\", \"2015Q4\", \"2016Q1\", \"2016Q2\", \"2016Q3\", \"2016Q4\", \"2017Q1\", \"2017Q2\", \"2017Q3\", \"2017Q4\", \"2018Q1\", \"2018Q2\", \"2018Q3\", \"2018Q4\", \"2019Q1\", \"2019Q2\", \"2019Q3\", \"2019Q4\", \"2020Q1\", \"2020Q2\", \"2020Q3\"], \"legendgroup\": \"Newfoundland\", \"marker\": {\"color\": \"#636efa\", \"symbol\": \"circle\"}, \"mode\": \"markers\", \"name\": \"Newfoundland\", \"orientation\": \"v\", \"showlegend\": true, \"type\": \"scatter\", \"x\": [\"2012Q3\", \"2012Q4\", \"2013Q1\", \"2013Q2\", \"2013Q3\", \"2013Q4\", \"2014Q1\", \"2014Q2\", \"2014Q3\", \"2014Q4\", \"2015Q1\", \"2015Q2\", \"2015Q3\", \"2015Q4\", \"2016Q1\", \"2016Q2\", \"2016Q3\", \"2016Q4\", \"2017Q1\", \"2017Q2\", \"2017Q3\", \"2017Q4\", \"2018Q1\", \"2018Q2\", \"2018Q3\", \"2018Q4\", \"2019Q1\", \"2019Q2\", \"2019Q3\", \"2019Q4\", \"2020Q1\", \"2020Q2\", \"2020Q3\"], \"xaxis\": \"x\", \"y\": [526345, 527180, 527248, 527313, 527114, 528117, 528242, 527498, 528159, 528461, 528361, 528063, 528117, 528696, 528800, 529063, 529426, 529900, 529347, 528544, 528249, 528288, 527544, 526395, 525560, 525765, 524883, 524126, 523476, 524137, 523631, 522994, 522103], \"yaxis\": \"y\"}, {\"hovertemplate\": \"<b>%{hovertext}</b><br><br>Geography=Prince Edward Island<br>Time=%{x}<br>PopulationSize=%{y}<extra></extra>\", \"hovertext\": [\"2012Q3\", \"2012Q4\", \"2013Q1\", \"2013Q2\", \"2013Q3\", \"2013Q4\", \"2014Q1\", \"2014Q2\", \"2014Q3\", \"2014Q4\", \"2015Q1\", \"2015Q2\", \"2015Q3\", \"2015Q4\", \"2016Q1\", \"2016Q2\", \"2016Q3\", \"2016Q4\", \"2017Q1\", \"2017Q2\", \"2017Q3\", \"2017Q4\", \"2018Q1\", \"2018Q2\", \"2018Q3\", \"2018Q4\", \"2019Q1\", \"2019Q2\", \"2019Q3\", \"2019Q4\", \"2020Q1\", \"2020Q2\", \"2020Q3\"], \"legendgroup\": \"Prince Edward Island\", \"marker\": {\"color\": \"#EF553B\", \"symbol\": \"circle\"}, \"mode\": \"markers\", \"name\": \"Prince Edward Island\", \"orientation\": \"v\", \"showlegend\": true, \"type\": \"scatter\", \"x\": [\"2012Q3\", \"2012Q4\", \"2013Q1\", \"2013Q2\", \"2013Q3\", \"2013Q4\", \"2014Q1\", \"2014Q2\", \"2014Q3\", \"2014Q4\", \"2015Q1\", \"2015Q2\", \"2015Q3\", \"2015Q4\", \"2016Q1\", \"2016Q2\", \"2016Q3\", \"2016Q4\", \"2017Q1\", \"2017Q2\", \"2017Q3\", \"2017Q4\", \"2018Q1\", \"2018Q2\", \"2018Q3\", \"2018Q4\", \"2019Q1\", \"2019Q2\", \"2019Q3\", \"2019Q4\", \"2020Q1\", \"2020Q2\", \"2020Q3\"], \"xaxis\": \"x\", \"y\": [144530, 144520, 144175, 143948, 144094, 144103, 143996, 143984, 144283, 144538, 144368, 144259, 144546, 144894, 145202, 145784, 146969, 147936, 148181, 148860, 150402, 151376, 151516, 152039, 153396, 155129, 155244, 155833, 157262, 158334, 158629, 159249, 159625], \"yaxis\": \"y\"}, {\"hovertemplate\": \"<b>%{hovertext}</b><br><br>Geography=Nova Scotia<br>Time=%{x}<br>PopulationSize=%{y}<extra></extra>\", \"hovertext\": [\"2012Q3\", \"2012Q4\", \"2013Q1\", \"2013Q2\", \"2013Q3\", \"2013Q4\", \"2014Q1\", \"2014Q2\", \"2014Q3\", \"2014Q4\", \"2015Q1\", \"2015Q2\", \"2015Q3\", \"2015Q4\", \"2016Q1\", \"2016Q2\", \"2016Q3\", \"2016Q4\", \"2017Q1\", \"2017Q2\", \"2017Q3\", \"2017Q4\", \"2018Q1\", \"2018Q2\", \"2018Q3\", \"2018Q4\", \"2019Q1\", \"2019Q2\", \"2019Q3\", \"2019Q4\", \"2020Q1\", \"2020Q2\", \"2020Q3\"], \"legendgroup\": \"Nova Scotia\", \"marker\": {\"color\": \"#00cc96\", \"symbol\": \"circle\"}, \"mode\": \"markers\", \"name\": \"Nova Scotia\", \"orientation\": \"v\", \"showlegend\": true, \"type\": \"scatter\", \"x\": [\"2012Q3\", \"2012Q4\", \"2013Q1\", \"2013Q2\", \"2013Q3\", \"2013Q4\", \"2014Q1\", \"2014Q2\", \"2014Q3\", \"2014Q4\", \"2015Q1\", \"2015Q2\", \"2015Q3\", \"2015Q4\", \"2016Q1\", \"2016Q2\", \"2016Q3\", \"2016Q4\", \"2017Q1\", \"2017Q2\", \"2017Q3\", \"2017Q4\", \"2018Q1\", \"2018Q2\", \"2018Q3\", \"2018Q4\", \"2019Q1\", \"2019Q2\", \"2019Q3\", \"2019Q4\", \"2020Q1\", \"2020Q2\", \"2020Q3\"], \"xaxis\": \"x\", \"y\": [943635, 943341, 942598, 941230, 940434, 940105, 939867, 938913, 938545, 938972, 938296, 936271, 936525, 938320, 938690, 940382, 942790, 946030, 945943, 947384, 950108, 953683, 953838, 954618, 958406, 963309, 963890, 965287, 969747, 975231, 975898, 977043, 979351], \"yaxis\": \"y\"}, {\"hovertemplate\": \"<b>%{hovertext}</b><br><br>Geography=New Brunswick<br>Time=%{x}<br>PopulationSize=%{y}<extra></extra>\", \"hovertext\": [\"2012Q3\", \"2012Q4\", \"2013Q1\", \"2013Q2\", \"2013Q3\", \"2013Q4\", \"2014Q1\", \"2014Q2\", \"2014Q3\", \"2014Q4\", \"2015Q1\", \"2015Q2\", \"2015Q3\", \"2015Q4\", \"2016Q1\", \"2016Q2\", \"2016Q3\", \"2016Q4\", \"2017Q1\", \"2017Q2\", \"2017Q3\", \"2017Q4\", \"2018Q1\", \"2018Q2\", \"2018Q3\", \"2018Q4\", \"2019Q1\", \"2019Q2\", \"2019Q3\", \"2019Q4\", \"2020Q1\", \"2020Q2\", \"2020Q3\"], \"legendgroup\": \"New Brunswick\", \"marker\": {\"color\": \"#ab63fa\", \"symbol\": \"circle\"}, \"mode\": \"markers\", \"name\": \"New Brunswick\", \"orientation\": \"v\", \"showlegend\": true, \"type\": \"scatter\", \"x\": [\"2012Q3\", \"2012Q4\", \"2013Q1\", \"2013Q2\", \"2013Q3\", \"2013Q4\", \"2014Q1\", \"2014Q2\", \"2014Q3\", \"2014Q4\", \"2015Q1\", \"2015Q2\", \"2015Q3\", \"2015Q4\", \"2016Q1\", \"2016Q2\", \"2016Q3\", \"2016Q4\", \"2017Q1\", \"2017Q2\", \"2017Q3\", \"2017Q4\", \"2018Q1\", \"2018Q2\", \"2018Q3\", \"2018Q4\", \"2019Q1\", \"2019Q2\", \"2019Q3\", \"2019Q4\", \"2020Q1\", \"2020Q2\", \"2020Q3\"], \"xaxis\": \"x\", \"y\": [758378, 758673, 758298, 758132, 758544, 758670, 759018, 758876, 758976, 759524, 759617, 758948, 758842, 759778, 760580, 762289, 763350, 764844, 764617, 764813, 766621, 767935, 768005, 768522, 770301, 772524, 772748, 773805, 776868, 780154, 780040, 781024, 781476], \"yaxis\": \"y\"}, {\"hovertemplate\": \"<b>%{hovertext}</b><br><br>Geography=Qu\\u00e9bec<br>Time=%{x}<br>PopulationSize=%{y}<extra></extra>\", \"hovertext\": [\"2012Q3\", \"2012Q4\", \"2013Q1\", \"2013Q2\", \"2013Q3\", \"2013Q4\", \"2014Q1\", \"2014Q2\", \"2014Q3\", \"2014Q4\", \"2015Q1\", \"2015Q2\", \"2015Q3\", \"2015Q4\", \"2016Q1\", \"2016Q2\", \"2016Q3\", \"2016Q4\", \"2017Q1\", \"2017Q2\", \"2017Q3\", \"2017Q4\", \"2018Q1\", \"2018Q2\", \"2018Q3\", \"2018Q4\", \"2019Q1\", \"2019Q2\", \"2019Q3\", \"2019Q4\", \"2020Q1\", \"2020Q2\", \"2020Q3\"], \"legendgroup\": \"Qu\\u00e9bec\", \"marker\": {\"color\": \"#FFA15A\", \"symbol\": \"circle\"}, \"mode\": \"markers\", \"name\": \"Qu\\u00e9bec\", \"orientation\": \"v\", \"showlegend\": true, \"type\": \"scatter\", \"x\": [\"2012Q3\", \"2012Q4\", \"2013Q1\", \"2013Q2\", \"2013Q3\", \"2013Q4\", \"2014Q1\", \"2014Q2\", \"2014Q3\", \"2014Q4\", \"2015Q1\", \"2015Q2\", \"2015Q3\", \"2015Q4\", \"2016Q1\", \"2016Q2\", \"2016Q3\", \"2016Q4\", \"2017Q1\", \"2017Q2\", \"2017Q3\", \"2017Q4\", \"2018Q1\", \"2018Q2\", \"2018Q3\", \"2018Q4\", \"2019Q1\", \"2019Q2\", \"2019Q3\", \"2019Q4\", \"2020Q1\", \"2020Q2\", \"2020Q3\"], \"xaxis\": \"x\", \"y\": [8061101, 8078388, 8082771, 8090916, 8110880, 8124660, 8125478, 8132425, 8150183, 8165447, 8163132, 8163063, 8175272, 8190014, 8193624, 8204085, 8225950, 8249692, 8257450, 8272894, 8302063, 8336460, 8350601, 8367551, 8401738, 8433888, 8446906, 8465271, 8501703, 8540429, 8556650, 8572054, 8574571], \"yaxis\": \"y\"}, {\"hovertemplate\": \"<b>%{hovertext}</b><br><br>Geography=Ontario<br>Time=%{x}<br>PopulationSize=%{y}<extra></extra>\", \"hovertext\": [\"2012Q3\", \"2012Q4\", \"2013Q1\", \"2013Q2\", \"2013Q3\", \"2013Q4\", \"2014Q1\", \"2014Q2\", \"2014Q3\", \"2014Q4\", \"2015Q1\", \"2015Q2\", \"2015Q3\", \"2015Q4\", \"2016Q1\", \"2016Q2\", \"2016Q3\", \"2016Q4\", \"2017Q1\", \"2017Q2\", \"2017Q3\", \"2017Q4\", \"2018Q1\", \"2018Q2\", \"2018Q3\", \"2018Q4\", \"2019Q1\", \"2019Q2\", \"2019Q3\", \"2019Q4\", \"2020Q1\", \"2020Q2\", \"2020Q3\"], \"legendgroup\": \"Ontario\", \"marker\": {\"color\": \"#19d3f3\", \"symbol\": \"circle\"}, \"mode\": \"markers\", \"name\": \"Ontario\", \"orientation\": \"v\", \"showlegend\": true, \"type\": \"scatter\", \"x\": [\"2012Q3\", \"2012Q4\", \"2013Q1\", \"2013Q2\", \"2013Q3\", \"2013Q4\", \"2014Q1\", \"2014Q2\", \"2014Q3\", \"2014Q4\", \"2015Q1\", \"2015Q2\", \"2015Q3\", \"2015Q4\", \"2016Q1\", \"2016Q2\", \"2016Q3\", \"2016Q4\", \"2017Q1\", \"2017Q2\", \"2017Q3\", \"2017Q4\", \"2018Q1\", \"2018Q2\", \"2018Q3\", \"2018Q4\", \"2019Q1\", \"2019Q2\", \"2019Q3\", \"2019Q4\", \"2020Q1\", \"2020Q2\", \"2020Q3\"], \"xaxis\": \"x\", \"y\": [13390632, 13434943, 13444704, 13467829, 13510781, 13558528, 13562583, 13582747, 13617553, 13661314, 13657737, 13669860, 13707118, 13757688, 13773629, 13816545, 13875394, 13946431, 13971785, 14006386, 14070141, 14150783, 14186830, 14235643, 14308697, 14393683, 14428712, 14467162, 14544718, 14637880, 14689075, 14723497, 14734014], \"yaxis\": \"y\"}, {\"hovertemplate\": \"<b>%{hovertext}</b><br><br>Geography=Manitoba<br>Time=%{x}<br>PopulationSize=%{y}<extra></extra>\", \"hovertext\": [\"2012Q3\", \"2012Q4\", \"2013Q1\", \"2013Q2\", \"2013Q3\", \"2013Q4\", \"2014Q1\", \"2014Q2\", \"2014Q3\", \"2014Q4\", \"2015Q1\", \"2015Q2\", \"2015Q3\", \"2015Q4\", \"2016Q1\", \"2016Q2\", \"2016Q3\", \"2016Q4\", \"2017Q1\", \"2017Q2\", \"2017Q3\", \"2017Q4\", \"2018Q1\", \"2018Q2\", \"2018Q3\", \"2018Q4\", \"2019Q1\", \"2019Q2\", \"2019Q3\", \"2019Q4\", \"2020Q1\", \"2020Q2\", \"2020Q3\"], \"legendgroup\": \"Manitoba\", \"marker\": {\"color\": \"#FF6692\", \"symbol\": \"circle\"}, \"mode\": \"markers\", \"name\": \"Manitoba\", \"orientation\": \"v\", \"showlegend\": true, \"type\": \"scatter\", \"x\": [\"2012Q3\", \"2012Q4\", \"2013Q1\", \"2013Q2\", \"2013Q3\", \"2013Q4\", \"2014Q1\", \"2014Q2\", \"2014Q3\", \"2014Q4\", \"2015Q1\", \"2015Q2\", \"2015Q3\", \"2015Q4\", \"2016Q1\", \"2016Q2\", \"2016Q3\", \"2016Q4\", \"2017Q1\", \"2017Q2\", \"2017Q3\", \"2017Q4\", \"2018Q1\", \"2018Q2\", \"2018Q3\", \"2018Q4\", \"2019Q1\", \"2019Q2\", \"2019Q3\", \"2019Q4\", \"2020Q1\", \"2020Q2\", \"2020Q3\"], \"xaxis\": \"x\", \"y\": [1249975, 1254178, 1257940, 1260834, 1264620, 1268428, 1271562, 1274407, 1279014, 1283366, 1286453, 1288094, 1292227, 1297329, 1302544, 1307689, 1314139, 1319911, 1324129, 1328412, 1334790, 1340565, 1344418, 1347055, 1352825, 1357879, 1361632, 1364223, 1369540, 1373574, 1377004, 1378818, 1379263], \"yaxis\": \"y\"}, {\"hovertemplate\": \"<b>%{hovertext}</b><br><br>Geography=Saskatchewan<br>Time=%{x}<br>PopulationSize=%{y}<extra></extra>\", \"hovertext\": [\"2012Q3\", \"2012Q4\", \"2013Q1\", \"2013Q2\", \"2013Q3\", \"2013Q4\", \"2014Q1\", \"2014Q2\", \"2014Q3\", \"2014Q4\", \"2015Q1\", \"2015Q2\", \"2015Q3\", \"2015Q4\", \"2016Q1\", \"2016Q2\", \"2016Q3\", \"2016Q4\", \"2017Q1\", \"2017Q2\", \"2017Q3\", \"2017Q4\", \"2018Q1\", \"2018Q2\", \"2018Q3\", \"2018Q4\", \"2019Q1\", \"2019Q2\", \"2019Q3\", \"2019Q4\", \"2020Q1\", \"2020Q2\", \"2020Q3\"], \"legendgroup\": \"Saskatchewan\", \"marker\": {\"color\": \"#B6E880\", \"symbol\": \"circle\"}, \"mode\": \"markers\", \"name\": \"Saskatchewan\", \"orientation\": \"v\", \"showlegend\": true, \"type\": \"scatter\", \"x\": [\"2012Q3\", \"2012Q4\", \"2013Q1\", \"2013Q2\", \"2013Q3\", \"2013Q4\", \"2014Q1\", \"2014Q2\", \"2014Q3\", \"2014Q4\", \"2015Q1\", \"2015Q2\", \"2015Q3\", \"2015Q4\", \"2016Q1\", \"2016Q2\", \"2016Q3\", \"2016Q4\", \"2017Q1\", \"2017Q2\", \"2017Q3\", \"2017Q4\", \"2018Q1\", \"2018Q2\", \"2018Q3\", \"2018Q4\", \"2019Q1\", \"2019Q2\", \"2019Q3\", \"2019Q4\", \"2020Q1\", \"2020Q2\", \"2020Q3\"], \"xaxis\": \"x\", \"y\": [1083755, 1088959, 1091547, 1094390, 1099736, 1103730, 1106374, 1109631, 1112979, 1116203, 1118181, 1118806, 1120967, 1124919, 1127773, 1131147, 1135987, 1140690, 1143313, 1146218, 1150331, 1154755, 1156659, 1158451, 1161767, 1165938, 1168461, 1169286, 1172302, 1176272, 1179154, 1179618, 1178681], \"yaxis\": \"y\"}, {\"hovertemplate\": \"<b>%{hovertext}</b><br><br>Geography=Alberta<br>Time=%{x}<br>PopulationSize=%{y}<extra></extra>\", \"hovertext\": [\"2012Q3\", \"2012Q4\", \"2013Q1\", \"2013Q2\", \"2013Q3\", \"2013Q4\", \"2014Q1\", \"2014Q2\", \"2014Q3\", \"2014Q4\", \"2015Q1\", \"2015Q2\", \"2015Q3\", \"2015Q4\", \"2016Q1\", \"2016Q2\", \"2016Q3\", \"2016Q4\", \"2017Q1\", \"2017Q2\", \"2017Q3\", \"2017Q4\", \"2018Q1\", \"2018Q2\", \"2018Q3\", \"2018Q4\", \"2019Q1\", \"2019Q2\", \"2019Q3\", \"2019Q4\", \"2020Q1\", \"2020Q2\", \"2020Q3\"], \"legendgroup\": \"Alberta\", \"marker\": {\"color\": \"#FF97FF\", \"symbol\": \"circle\"}, \"mode\": \"markers\", \"name\": \"Alberta\", \"orientation\": \"v\", \"showlegend\": true, \"type\": \"scatter\", \"x\": [\"2012Q3\", \"2012Q4\", \"2013Q1\", \"2013Q2\", \"2013Q3\", \"2013Q4\", \"2014Q1\", \"2014Q2\", \"2014Q3\", \"2014Q4\", \"2015Q1\", \"2015Q2\", \"2015Q3\", \"2015Q4\", \"2016Q1\", \"2016Q2\", \"2016Q3\", \"2016Q4\", \"2017Q1\", \"2017Q2\", \"2017Q3\", \"2017Q4\", \"2018Q1\", \"2018Q2\", \"2018Q3\", \"2018Q4\", \"2019Q1\", \"2019Q2\", \"2019Q3\", \"2019Q4\", \"2020Q1\", \"2020Q2\", \"2020Q3\"], \"xaxis\": \"x\", \"y\": [3874548, 3900333, 3920499, 3946798, 3981011, 4010903, 4029951, 4054280, 4083648, 4106056, 4116047, 4128300, 4144491, 4159519, 4169830, 4181765, 4196061, 4208958, 4217855, 4227969, 4241100, 4258195, 4268853, 4281706, 4298275, 4317453, 4330698, 4343951, 4361694, 4384968, 4402045, 4417006, 4421876], \"yaxis\": \"y\"}, {\"hovertemplate\": \"<b>%{hovertext}</b><br><br>Geography=British Columbia<br>Time=%{x}<br>PopulationSize=%{y}<extra></extra>\", \"hovertext\": [\"2012Q3\", \"2012Q4\", \"2013Q1\", \"2013Q2\", \"2013Q3\", \"2013Q4\", \"2014Q1\", \"2014Q2\", \"2014Q3\", \"2014Q4\", \"2015Q1\", \"2015Q2\", \"2015Q3\", \"2015Q4\", \"2016Q1\", \"2016Q2\", \"2016Q3\", \"2016Q4\", \"2017Q1\", \"2017Q2\", \"2017Q3\", \"2017Q4\", \"2018Q1\", \"2018Q2\", \"2018Q3\", \"2018Q4\", \"2019Q1\", \"2019Q2\", \"2019Q3\", \"2019Q4\", \"2020Q1\", \"2020Q2\", \"2020Q3\"], \"legendgroup\": \"British Columbia\", \"marker\": {\"color\": \"#FECB52\", \"symbol\": \"circle\"}, \"mode\": \"markers\", \"name\": \"British Columbia\", \"orientation\": \"v\", \"showlegend\": true, \"type\": \"scatter\", \"x\": [\"2012Q3\", \"2012Q4\", \"2013Q1\", \"2013Q2\", \"2013Q3\", \"2013Q4\", \"2014Q1\", \"2014Q2\", \"2014Q3\", \"2014Q4\", \"2015Q1\", \"2015Q2\", \"2015Q3\", \"2015Q4\", \"2016Q1\", \"2016Q2\", \"2016Q3\", \"2016Q4\", \"2017Q1\", \"2017Q2\", \"2017Q3\", \"2017Q4\", \"2018Q1\", \"2018Q2\", \"2018Q3\", \"2018Q4\", \"2019Q1\", \"2019Q2\", \"2019Q3\", \"2019Q4\", \"2020Q1\", \"2020Q2\", \"2020Q3\"], \"xaxis\": \"x\", \"y\": [4566769, 4590545, 4598255, 4611648, 4630077, 4658875, 4666788, 4684490, 4707103, 4737725, 4745468, 4757759, 4776388, 4802955, 4811465, 4832155, 4859250, 4884002, 4890848, 4905210, 4929384, 4956550, 4967421, 4983183, 5010476, 5039661, 5046576, 5063527, 5090955, 5125659, 5131575, 5142404, 5147712], \"yaxis\": \"y\"}],                        {\"legend\": {\"title\": {\"text\": \"Geography\"}, \"tracegroupgap\": 0}, \"template\": {\"data\": {\"bar\": [{\"error_x\": {\"color\": \"#2a3f5f\"}, \"error_y\": {\"color\": \"#2a3f5f\"}, \"marker\": {\"line\": {\"color\": \"#E5ECF6\", \"width\": 0.5}}, \"type\": \"bar\"}], \"barpolar\": [{\"marker\": {\"line\": {\"color\": \"#E5ECF6\", \"width\": 0.5}}, \"type\": \"barpolar\"}], \"carpet\": [{\"aaxis\": {\"endlinecolor\": \"#2a3f5f\", \"gridcolor\": \"white\", \"linecolor\": \"white\", \"minorgridcolor\": \"white\", \"startlinecolor\": \"#2a3f5f\"}, \"baxis\": {\"endlinecolor\": \"#2a3f5f\", \"gridcolor\": \"white\", \"linecolor\": \"white\", \"minorgridcolor\": \"white\", \"startlinecolor\": \"#2a3f5f\"}, \"type\": \"carpet\"}], \"choropleth\": [{\"colorbar\": {\"outlinewidth\": 0, \"ticks\": \"\"}, \"type\": \"choropleth\"}], \"contour\": [{\"colorbar\": {\"outlinewidth\": 0, \"ticks\": \"\"}, \"colorscale\": [[0.0, \"#0d0887\"], [0.1111111111111111, \"#46039f\"], [0.2222222222222222, \"#7201a8\"], [0.3333333333333333, \"#9c179e\"], [0.4444444444444444, \"#bd3786\"], [0.5555555555555556, \"#d8576b\"], [0.6666666666666666, \"#ed7953\"], [0.7777777777777778, \"#fb9f3a\"], [0.8888888888888888, \"#fdca26\"], [1.0, \"#f0f921\"]], \"type\": \"contour\"}], \"contourcarpet\": [{\"colorbar\": {\"outlinewidth\": 0, \"ticks\": \"\"}, \"type\": \"contourcarpet\"}], \"heatmap\": [{\"colorbar\": {\"outlinewidth\": 0, \"ticks\": \"\"}, \"colorscale\": [[0.0, \"#0d0887\"], [0.1111111111111111, \"#46039f\"], [0.2222222222222222, \"#7201a8\"], [0.3333333333333333, \"#9c179e\"], [0.4444444444444444, \"#bd3786\"], [0.5555555555555556, \"#d8576b\"], [0.6666666666666666, \"#ed7953\"], [0.7777777777777778, \"#fb9f3a\"], [0.8888888888888888, \"#fdca26\"], [1.0, \"#f0f921\"]], \"type\": \"heatmap\"}], \"heatmapgl\": [{\"colorbar\": {\"outlinewidth\": 0, \"ticks\": \"\"}, \"colorscale\": [[0.0, \"#0d0887\"], [0.1111111111111111, \"#46039f\"], [0.2222222222222222, \"#7201a8\"], [0.3333333333333333, \"#9c179e\"], [0.4444444444444444, \"#bd3786\"], [0.5555555555555556, \"#d8576b\"], [0.6666666666666666, \"#ed7953\"], [0.7777777777777778, \"#fb9f3a\"], [0.8888888888888888, \"#fdca26\"], [1.0, \"#f0f921\"]], \"type\": \"heatmapgl\"}], \"histogram\": [{\"marker\": {\"colorbar\": {\"outlinewidth\": 0, \"ticks\": \"\"}}, \"type\": \"histogram\"}], \"histogram2d\": [{\"colorbar\": {\"outlinewidth\": 0, \"ticks\": \"\"}, \"colorscale\": [[0.0, \"#0d0887\"], [0.1111111111111111, \"#46039f\"], [0.2222222222222222, \"#7201a8\"], [0.3333333333333333, \"#9c179e\"], [0.4444444444444444, \"#bd3786\"], [0.5555555555555556, \"#d8576b\"], [0.6666666666666666, \"#ed7953\"], [0.7777777777777778, \"#fb9f3a\"], [0.8888888888888888, \"#fdca26\"], [1.0, \"#f0f921\"]], \"type\": \"histogram2d\"}], \"histogram2dcontour\": [{\"colorbar\": {\"outlinewidth\": 0, \"ticks\": \"\"}, \"colorscale\": [[0.0, \"#0d0887\"], [0.1111111111111111, \"#46039f\"], [0.2222222222222222, \"#7201a8\"], [0.3333333333333333, \"#9c179e\"], [0.4444444444444444, \"#bd3786\"], [0.5555555555555556, \"#d8576b\"], [0.6666666666666666, \"#ed7953\"], [0.7777777777777778, \"#fb9f3a\"], [0.8888888888888888, \"#fdca26\"], [1.0, \"#f0f921\"]], \"type\": \"histogram2dcontour\"}], \"mesh3d\": [{\"colorbar\": {\"outlinewidth\": 0, \"ticks\": \"\"}, \"type\": \"mesh3d\"}], \"parcoords\": [{\"line\": {\"colorbar\": {\"outlinewidth\": 0, \"ticks\": \"\"}}, \"type\": \"parcoords\"}], \"pie\": [{\"automargin\": true, \"type\": \"pie\"}], \"scatter\": [{\"marker\": {\"colorbar\": {\"outlinewidth\": 0, \"ticks\": \"\"}}, \"type\": \"scatter\"}], \"scatter3d\": [{\"line\": {\"colorbar\": {\"outlinewidth\": 0, \"ticks\": \"\"}}, \"marker\": {\"colorbar\": {\"outlinewidth\": 0, \"ticks\": \"\"}}, \"type\": \"scatter3d\"}], \"scattercarpet\": [{\"marker\": {\"colorbar\": {\"outlinewidth\": 0, \"ticks\": \"\"}}, \"type\": \"scattercarpet\"}], \"scattergeo\": [{\"marker\": {\"colorbar\": {\"outlinewidth\": 0, \"ticks\": \"\"}}, \"type\": \"scattergeo\"}], \"scattergl\": [{\"marker\": {\"colorbar\": {\"outlinewidth\": 0, \"ticks\": \"\"}}, \"type\": \"scattergl\"}], \"scattermapbox\": [{\"marker\": {\"colorbar\": {\"outlinewidth\": 0, \"ticks\": \"\"}}, \"type\": \"scattermapbox\"}], \"scatterpolar\": [{\"marker\": {\"colorbar\": {\"outlinewidth\": 0, \"ticks\": \"\"}}, \"type\": \"scatterpolar\"}], \"scatterpolargl\": [{\"marker\": {\"colorbar\": {\"outlinewidth\": 0, \"ticks\": \"\"}}, \"type\": \"scatterpolargl\"}], \"scatterternary\": [{\"marker\": {\"colorbar\": {\"outlinewidth\": 0, \"ticks\": \"\"}}, \"type\": \"scatterternary\"}], \"surface\": [{\"colorbar\": {\"outlinewidth\": 0, \"ticks\": \"\"}, \"colorscale\": [[0.0, \"#0d0887\"], [0.1111111111111111, \"#46039f\"], [0.2222222222222222, \"#7201a8\"], [0.3333333333333333, \"#9c179e\"], [0.4444444444444444, \"#bd3786\"], [0.5555555555555556, \"#d8576b\"], [0.6666666666666666, \"#ed7953\"], [0.7777777777777778, \"#fb9f3a\"], [0.8888888888888888, \"#fdca26\"], [1.0, \"#f0f921\"]], \"type\": \"surface\"}], \"table\": [{\"cells\": {\"fill\": {\"color\": \"#EBF0F8\"}, \"line\": {\"color\": \"white\"}}, \"header\": {\"fill\": {\"color\": \"#C8D4E3\"}, \"line\": {\"color\": \"white\"}}, \"type\": \"table\"}]}, \"layout\": {\"annotationdefaults\": {\"arrowcolor\": \"#2a3f5f\", \"arrowhead\": 0, \"arrowwidth\": 1}, \"autotypenumbers\": \"strict\", \"coloraxis\": {\"colorbar\": {\"outlinewidth\": 0, \"ticks\": \"\"}}, \"colorscale\": {\"diverging\": [[0, \"#8e0152\"], [0.1, \"#c51b7d\"], [0.2, \"#de77ae\"], [0.3, \"#f1b6da\"], [0.4, \"#fde0ef\"], [0.5, \"#f7f7f7\"], [0.6, \"#e6f5d0\"], [0.7, \"#b8e186\"], [0.8, \"#7fbc41\"], [0.9, \"#4d9221\"], [1, \"#276419\"]], \"sequential\": [[0.0, \"#0d0887\"], [0.1111111111111111, \"#46039f\"], [0.2222222222222222, \"#7201a8\"], [0.3333333333333333, \"#9c179e\"], [0.4444444444444444, \"#bd3786\"], [0.5555555555555556, \"#d8576b\"], [0.6666666666666666, \"#ed7953\"], [0.7777777777777778, \"#fb9f3a\"], [0.8888888888888888, \"#fdca26\"], [1.0, \"#f0f921\"]], \"sequentialminus\": [[0.0, \"#0d0887\"], [0.1111111111111111, \"#46039f\"], [0.2222222222222222, \"#7201a8\"], [0.3333333333333333, \"#9c179e\"], [0.4444444444444444, \"#bd3786\"], [0.5555555555555556, \"#d8576b\"], [0.6666666666666666, \"#ed7953\"], [0.7777777777777778, \"#fb9f3a\"], [0.8888888888888888, \"#fdca26\"], [1.0, \"#f0f921\"]]}, \"colorway\": [\"#636efa\", \"#EF553B\", \"#00cc96\", \"#ab63fa\", \"#FFA15A\", \"#19d3f3\", \"#FF6692\", \"#B6E880\", \"#FF97FF\", \"#FECB52\"], \"font\": {\"color\": \"#2a3f5f\"}, \"geo\": {\"bgcolor\": \"white\", \"lakecolor\": \"white\", \"landcolor\": \"#E5ECF6\", \"showlakes\": true, \"showland\": true, \"subunitcolor\": \"white\"}, \"hoverlabel\": {\"align\": \"left\"}, \"hovermode\": \"closest\", \"mapbox\": {\"style\": \"light\"}, \"paper_bgcolor\": \"white\", \"plot_bgcolor\": \"#E5ECF6\", \"polar\": {\"angularaxis\": {\"gridcolor\": \"white\", \"linecolor\": \"white\", \"ticks\": \"\"}, \"bgcolor\": \"#E5ECF6\", \"radialaxis\": {\"gridcolor\": \"white\", \"linecolor\": \"white\", \"ticks\": \"\"}}, \"scene\": {\"xaxis\": {\"backgroundcolor\": \"#E5ECF6\", \"gridcolor\": \"white\", \"gridwidth\": 2, \"linecolor\": \"white\", \"showbackground\": true, \"ticks\": \"\", \"zerolinecolor\": \"white\"}, \"yaxis\": {\"backgroundcolor\": \"#E5ECF6\", \"gridcolor\": \"white\", \"gridwidth\": 2, \"linecolor\": \"white\", \"showbackground\": true, \"ticks\": \"\", \"zerolinecolor\": \"white\"}, \"zaxis\": {\"backgroundcolor\": \"#E5ECF6\", \"gridcolor\": \"white\", \"gridwidth\": 2, \"linecolor\": \"white\", \"showbackground\": true, \"ticks\": \"\", \"zerolinecolor\": \"white\"}}, \"shapedefaults\": {\"line\": {\"color\": \"#2a3f5f\"}}, \"ternary\": {\"aaxis\": {\"gridcolor\": \"white\", \"linecolor\": \"white\", \"ticks\": \"\"}, \"baxis\": {\"gridcolor\": \"white\", \"linecolor\": \"white\", \"ticks\": \"\"}, \"bgcolor\": \"#E5ECF6\", \"caxis\": {\"gridcolor\": \"white\", \"linecolor\": \"white\", \"ticks\": \"\"}}, \"title\": {\"x\": 0.05}, \"xaxis\": {\"automargin\": true, \"gridcolor\": \"white\", \"linecolor\": \"white\", \"ticks\": \"\", \"title\": {\"standoff\": 15}, \"zerolinecolor\": \"white\", \"zerolinewidth\": 2}, \"yaxis\": {\"automargin\": true, \"gridcolor\": \"white\", \"linecolor\": \"white\", \"ticks\": \"\", \"title\": {\"standoff\": 15}, \"zerolinecolor\": \"white\", \"zerolinewidth\": 2}}}, \"title\": {\"text\": \"Population Size by Province\"}, \"xaxis\": {\"anchor\": \"y\", \"domain\": [0.0, 1.0], \"title\": {\"text\": \"Time\"}}, \"yaxis\": {\"anchor\": \"x\", \"domain\": [0.0, 1.0], \"title\": {\"text\": \"PopulationSize\"}}},                        {\"responsive\": true}                    ).then(function(){\n",
       "                            \n",
       "var gd = document.getElementById('5a84134b-88d1-485c-9d67-45db9215b5c8');\n",
       "var x = new MutationObserver(function (mutations, observer) {{\n",
       "        var display = window.getComputedStyle(gd).display;\n",
       "        if (!display || display === 'none') {{\n",
       "            console.log([gd, 'removed!']);\n",
       "            Plotly.purge(gd);\n",
       "            observer.disconnect();\n",
       "        }}\n",
       "}});\n",
       "\n",
       "// Listen for the removal of the full notebook cells\n",
       "var notebookContainer = gd.closest('#notebook-container');\n",
       "if (notebookContainer) {{\n",
       "    x.observe(notebookContainer, {childList: true});\n",
       "}}\n",
       "\n",
       "// Listen for the clearing of the current output cell\n",
       "var outputEl = gd.closest('.output');\n",
       "if (outputEl) {{\n",
       "    x.observe(outputEl, {childList: true});\n",
       "}}\n",
       "\n",
       "                        })                };                });            </script>        </div>"
      ]
     },
     "metadata": {},
     "output_type": "display_data"
    }
   ],
   "source": [
    "px.scatter(data_frame=data_pop_del_mort_df,\n",
    "          y = \"PopulationSize\",\n",
    "          x = \"Time\",\n",
    "          color= \"Geography\", \n",
    "          hover_name=\"Time\",\n",
    "          title=\"Population Size by Province\")"
   ]
  },
  {
   "cell_type": "code",
   "execution_count": null,
   "metadata": {},
   "outputs": [],
   "source": []
  }
 ],
 "metadata": {
  "kernelspec": {
   "display_name": "Python 3",
   "language": "python",
   "name": "python3"
  },
  "language_info": {
   "codemirror_mode": {
    "name": "ipython",
    "version": 3
   },
   "file_extension": ".py",
   "mimetype": "text/x-python",
   "name": "python",
   "nbconvert_exporter": "python",
   "pygments_lexer": "ipython3",
   "version": "3.7.6"
  }
 },
 "nbformat": 4,
 "nbformat_minor": 4
}
