{
 "cells": [
  {
   "cell_type": "markdown",
   "metadata": {},
   "source": [
    "## Generating time series plot"
   ]
  },
  {
   "cell_type": "code",
   "execution_count": null,
   "metadata": {},
   "outputs": [],
   "source": [
    "import pandas as pd\n",
    "import pathlib\n",
    "import plotly.express as px\n",
    "import sys\n",
    "sys.path.append(r'C:\\Users\\Laura GF\\Documents\\GitHub\\dashboard-workshop-dash\\scripts/')\n",
    "import data_cleaning"
   ]
  },
  {
   "cell_type": "code",
   "execution_count": null,
   "metadata": {},
   "outputs": [],
   "source": [
    "# Read data\n",
    "data = r'C:\\Users\\Laura GF\\Documents\\GitHub\\dashboard-workshop-dash\\data/'\n",
    "merged_filename = \"delinquency_mortgage_population_2021_2020.csv\"\n",
    "data_pop_del_mort = pathlib.Path(data, merged_filename)\n",
    "\n",
    "# Format data as a pandas dataframe\n",
    "\n",
    "data_pop_del_mort_df  = pd.read_csv(data_pop_del_mort)"
   ]
  },
  {
   "cell_type": "code",
   "execution_count": null,
   "metadata": {},
   "outputs": [],
   "source": [
    "# Column cleanup\n",
    "data_pop_del_mort_df.drop(columns=['Unnamed: 0'], inplace=True)"
   ]
  },
  {
   "cell_type": "code",
   "execution_count": null,
   "metadata": {},
   "outputs": [],
   "source": [
    "data_pop_del_mort_df.head()"
   ]
  },
  {
   "cell_type": "code",
   "execution_count": null,
   "metadata": {},
   "outputs": [],
   "source": [
    "px.scatter(data_frame=data_pop_del_mort_df,\n",
    "          x = \"AverageMortgageAmount\",\n",
    "          y = \"DelinquencyRate\",\n",
    "          size= \"PopulationSize\",\n",
    "          color= \"Geography\")"
   ]
  },
  {
   "cell_type": "code",
   "execution_count": null,
   "metadata": {},
   "outputs": [],
   "source": []
  }
 ],
 "metadata": {
  "kernelspec": {
   "display_name": "Python 3",
   "language": "python",
   "name": "python3"
  },
  "language_info": {
   "codemirror_mode": {
    "name": "ipython",
    "version": 3
   },
   "file_extension": ".py",
   "mimetype": "text/x-python",
   "name": "python",
   "nbconvert_exporter": "python",
   "pygments_lexer": "ipython3",
   "version": "3.7.6"
  }
 },
 "nbformat": 4,
 "nbformat_minor": 4
}
