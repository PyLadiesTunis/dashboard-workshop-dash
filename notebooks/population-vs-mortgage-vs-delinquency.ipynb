{
 "cells": [
  {
   "cell_type": "markdown",
   "metadata": {},
   "source": [
    "## Generating time series plot"
   ]
  },
  {
   "cell_type": "code",
   "execution_count": 1,
   "metadata": {},
   "outputs": [],
   "source": [
    "import pandas as pd\n",
    "import pathlib\n",
    "import plotly.express as px\n",
    "import sys\n",
    "sys.path.append(r'C:\\Users\\Laura GF\\Documents\\GitHub\\dashboard-workshop-dash\\scripts/')\n",
    "import data_cleaning"
   ]
  },
  {
   "cell_type": "code",
   "execution_count": 2,
   "metadata": {},
   "outputs": [],
   "source": [
    "# Read data\n",
    "data = r'C:\\Users\\Laura GF\\Documents\\GitHub\\dashboard-workshop-dash\\data/'\n",
    "merged_filename = \"delinquency_mortgage_population_2021_2020.csv\"\n",
    "data_pop_del_mort = pathlib.Path(data, merged_filename)\n",
    "\n",
    "# Format data as a pandas dataframe\n",
    "\n",
    "data_pop_del_mort_df  = pd.read_csv(data_pop_del_mort)"
   ]
  },
  {
   "cell_type": "code",
   "execution_count": 3,
   "metadata": {},
   "outputs": [],
   "source": [
    "# Column cleanup\n",
    "data_pop_del_mort_df.drop(columns=['Unnamed: 0'], inplace=True)"
   ]
  },
  {
   "cell_type": "code",
   "execution_count": 4,
   "metadata": {},
   "outputs": [
    {
     "data": {
      "text/html": [
       "<div>\n",
       "<style scoped>\n",
       "    .dataframe tbody tr th:only-of-type {\n",
       "        vertical-align: middle;\n",
       "    }\n",
       "\n",
       "    .dataframe tbody tr th {\n",
       "        vertical-align: top;\n",
       "    }\n",
       "\n",
       "    .dataframe thead th {\n",
       "        text-align: right;\n",
       "    }\n",
       "</style>\n",
       "<table border=\"1\" class=\"dataframe\">\n",
       "  <thead>\n",
       "    <tr style=\"text-align: right;\">\n",
       "      <th></th>\n",
       "      <th>Geography</th>\n",
       "      <th>Time</th>\n",
       "      <th>DelinquencyRate</th>\n",
       "      <th>AverageMortgageAmount</th>\n",
       "      <th>PopulationSize</th>\n",
       "    </tr>\n",
       "  </thead>\n",
       "  <tbody>\n",
       "    <tr>\n",
       "      <th>0</th>\n",
       "      <td>Newfoundland</td>\n",
       "      <td>2012Q3</td>\n",
       "      <td>0.24</td>\n",
       "      <td>188732</td>\n",
       "      <td>526345</td>\n",
       "    </tr>\n",
       "    <tr>\n",
       "      <th>1</th>\n",
       "      <td>Prince Edward Island</td>\n",
       "      <td>2012Q3</td>\n",
       "      <td>0.57</td>\n",
       "      <td>140279</td>\n",
       "      <td>144530</td>\n",
       "    </tr>\n",
       "    <tr>\n",
       "      <th>2</th>\n",
       "      <td>Nova Scotia</td>\n",
       "      <td>2012Q3</td>\n",
       "      <td>0.53</td>\n",
       "      <td>174688</td>\n",
       "      <td>943635</td>\n",
       "    </tr>\n",
       "    <tr>\n",
       "      <th>3</th>\n",
       "      <td>New Brunswick</td>\n",
       "      <td>2012Q3</td>\n",
       "      <td>0.63</td>\n",
       "      <td>133390</td>\n",
       "      <td>758378</td>\n",
       "    </tr>\n",
       "    <tr>\n",
       "      <th>4</th>\n",
       "      <td>Québec</td>\n",
       "      <td>2012Q3</td>\n",
       "      <td>0.33</td>\n",
       "      <td>159661</td>\n",
       "      <td>8061101</td>\n",
       "    </tr>\n",
       "  </tbody>\n",
       "</table>\n",
       "</div>"
      ],
      "text/plain": [
       "              Geography    Time  DelinquencyRate  AverageMortgageAmount  \\\n",
       "0          Newfoundland  2012Q3             0.24                 188732   \n",
       "1  Prince Edward Island  2012Q3             0.57                 140279   \n",
       "2           Nova Scotia  2012Q3             0.53                 174688   \n",
       "3         New Brunswick  2012Q3             0.63                 133390   \n",
       "4                Québec  2012Q3             0.33                 159661   \n",
       "\n",
       "   PopulationSize  \n",
       "0          526345  \n",
       "1          144530  \n",
       "2          943635  \n",
       "3          758378  \n",
       "4         8061101  "
      ]
     },
     "execution_count": 4,
     "metadata": {},
     "output_type": "execute_result"
    }
   ],
   "source": [
    "data_pop_del_mort_df.head()"
   ]
  },
  {
   "cell_type": "code",
   "execution_count": 8,
   "metadata": {},
   "outputs": [
    {
     "data": {
      "application/vnd.plotly.v1+json": {
       "config": {
        "plotlyServerURL": "https://plot.ly"
       },
       "data": [
        {
         "hovertemplate": "Geography=Newfoundland<br>Time=2012Q3<br>AverageMortgageAmount=%{x}<br>DelinquencyRate=%{y}<br>PopulationSize=%{marker.size}<extra></extra>",
         "ids": [
          "Newfoundland"
         ],
         "legendgroup": "Newfoundland",
         "marker": {
          "color": "#636efa",
          "size": [
           526345
          ],
          "sizemode": "area",
          "sizeref": 36835.035,
          "symbol": "circle"
         },
         "mode": "markers",
         "name": "Newfoundland",
         "orientation": "v",
         "showlegend": true,
         "type": "scatter",
         "x": [
          188732
         ],
         "xaxis": "x",
         "y": [
          0.24
         ],
         "yaxis": "y"
        },
        {
         "hovertemplate": "Geography=Prince Edward Island<br>Time=2012Q3<br>AverageMortgageAmount=%{x}<br>DelinquencyRate=%{y}<br>PopulationSize=%{marker.size}<extra></extra>",
         "ids": [
          "Prince Edward Island"
         ],
         "legendgroup": "Prince Edward Island",
         "marker": {
          "color": "#EF553B",
          "size": [
           144530
          ],
          "sizemode": "area",
          "sizeref": 36835.035,
          "symbol": "circle"
         },
         "mode": "markers",
         "name": "Prince Edward Island",
         "orientation": "v",
         "showlegend": true,
         "type": "scatter",
         "x": [
          140279
         ],
         "xaxis": "x",
         "y": [
          0.57
         ],
         "yaxis": "y"
        },
        {
         "hovertemplate": "Geography=Nova Scotia<br>Time=2012Q3<br>AverageMortgageAmount=%{x}<br>DelinquencyRate=%{y}<br>PopulationSize=%{marker.size}<extra></extra>",
         "ids": [
          "Nova Scotia"
         ],
         "legendgroup": "Nova Scotia",
         "marker": {
          "color": "#00cc96",
          "size": [
           943635
          ],
          "sizemode": "area",
          "sizeref": 36835.035,
          "symbol": "circle"
         },
         "mode": "markers",
         "name": "Nova Scotia",
         "orientation": "v",
         "showlegend": true,
         "type": "scatter",
         "x": [
          174688
         ],
         "xaxis": "x",
         "y": [
          0.53
         ],
         "yaxis": "y"
        },
        {
         "hovertemplate": "Geography=New Brunswick<br>Time=2012Q3<br>AverageMortgageAmount=%{x}<br>DelinquencyRate=%{y}<br>PopulationSize=%{marker.size}<extra></extra>",
         "ids": [
          "New Brunswick"
         ],
         "legendgroup": "New Brunswick",
         "marker": {
          "color": "#ab63fa",
          "size": [
           758378
          ],
          "sizemode": "area",
          "sizeref": 36835.035,
          "symbol": "circle"
         },
         "mode": "markers",
         "name": "New Brunswick",
         "orientation": "v",
         "showlegend": true,
         "type": "scatter",
         "x": [
          133390
         ],
         "xaxis": "x",
         "y": [
          0.63
         ],
         "yaxis": "y"
        },
        {
         "hovertemplate": "Geography=Québec<br>Time=2012Q3<br>AverageMortgageAmount=%{x}<br>DelinquencyRate=%{y}<br>PopulationSize=%{marker.size}<extra></extra>",
         "ids": [
          "Québec"
         ],
         "legendgroup": "Québec",
         "marker": {
          "color": "#FFA15A",
          "size": [
           8061101
          ],
          "sizemode": "area",
          "sizeref": 36835.035,
          "symbol": "circle"
         },
         "mode": "markers",
         "name": "Québec",
         "orientation": "v",
         "showlegend": true,
         "type": "scatter",
         "x": [
          159661
         ],
         "xaxis": "x",
         "y": [
          0.33
         ],
         "yaxis": "y"
        },
        {
         "hovertemplate": "Geography=Ontario<br>Time=2012Q3<br>AverageMortgageAmount=%{x}<br>DelinquencyRate=%{y}<br>PopulationSize=%{marker.size}<extra></extra>",
         "ids": [
          "Ontario"
         ],
         "legendgroup": "Ontario",
         "marker": {
          "color": "#19d3f3",
          "size": [
           13390632
          ],
          "sizemode": "area",
          "sizeref": 36835.035,
          "symbol": "circle"
         },
         "mode": "markers",
         "name": "Ontario",
         "orientation": "v",
         "showlegend": true,
         "type": "scatter",
         "x": [
          247455
         ],
         "xaxis": "x",
         "y": [
          0.31
         ],
         "yaxis": "y"
        },
        {
         "hovertemplate": "Geography=Manitoba<br>Time=2012Q3<br>AverageMortgageAmount=%{x}<br>DelinquencyRate=%{y}<br>PopulationSize=%{marker.size}<extra></extra>",
         "ids": [
          "Manitoba"
         ],
         "legendgroup": "Manitoba",
         "marker": {
          "color": "#FF6692",
          "size": [
           1249975
          ],
          "sizemode": "area",
          "sizeref": 36835.035,
          "symbol": "circle"
         },
         "mode": "markers",
         "name": "Manitoba",
         "orientation": "v",
         "showlegend": true,
         "type": "scatter",
         "x": [
          188298
         ],
         "xaxis": "x",
         "y": [
          0.25
         ],
         "yaxis": "y"
        },
        {
         "hovertemplate": "Geography=Saskatchewan<br>Time=2012Q3<br>AverageMortgageAmount=%{x}<br>DelinquencyRate=%{y}<br>PopulationSize=%{marker.size}<extra></extra>",
         "ids": [
          "Saskatchewan"
         ],
         "legendgroup": "Saskatchewan",
         "marker": {
          "color": "#B6E880",
          "size": [
           1083755
          ],
          "sizemode": "area",
          "sizeref": 36835.035,
          "symbol": "circle"
         },
         "mode": "markers",
         "name": "Saskatchewan",
         "orientation": "v",
         "showlegend": true,
         "type": "scatter",
         "x": [
          217945
         ],
         "xaxis": "x",
         "y": [
          0.37
         ],
         "yaxis": "y"
        },
        {
         "hovertemplate": "Geography=Alberta<br>Time=2012Q3<br>AverageMortgageAmount=%{x}<br>DelinquencyRate=%{y}<br>PopulationSize=%{marker.size}<extra></extra>",
         "ids": [
          "Alberta"
         ],
         "legendgroup": "Alberta",
         "marker": {
          "color": "#FF97FF",
          "size": [
           3874548
          ],
          "sizemode": "area",
          "sizeref": 36835.035,
          "symbol": "circle"
         },
         "mode": "markers",
         "name": "Alberta",
         "orientation": "v",
         "showlegend": true,
         "type": "scatter",
         "x": [
          282371
         ],
         "xaxis": "x",
         "y": [
          0.6
         ],
         "yaxis": "y"
        },
        {
         "hovertemplate": "Geography=British Columbia<br>Time=2012Q3<br>AverageMortgageAmount=%{x}<br>DelinquencyRate=%{y}<br>PopulationSize=%{marker.size}<extra></extra>",
         "ids": [
          "British Columbia"
         ],
         "legendgroup": "British Columbia",
         "marker": {
          "color": "#FECB52",
          "size": [
           4566769
          ],
          "sizemode": "area",
          "sizeref": 36835.035,
          "symbol": "circle"
         },
         "mode": "markers",
         "name": "British Columbia",
         "orientation": "v",
         "showlegend": true,
         "type": "scatter",
         "x": [
          305427
         ],
         "xaxis": "x",
         "y": [
          0.42
         ],
         "yaxis": "y"
        }
       ],
       "frames": [
        {
         "data": [
          {
           "hovertemplate": "Geography=Newfoundland<br>Time=2012Q3<br>AverageMortgageAmount=%{x}<br>DelinquencyRate=%{y}<br>PopulationSize=%{marker.size}<extra></extra>",
           "ids": [
            "Newfoundland"
           ],
           "legendgroup": "Newfoundland",
           "marker": {
            "color": "#636efa",
            "size": [
             526345
            ],
            "sizemode": "area",
            "sizeref": 36835.035,
            "symbol": "circle"
           },
           "mode": "markers",
           "name": "Newfoundland",
           "orientation": "v",
           "showlegend": true,
           "type": "scatter",
           "x": [
            188732
           ],
           "xaxis": "x",
           "y": [
            0.24
           ],
           "yaxis": "y"
          },
          {
           "hovertemplate": "Geography=Prince Edward Island<br>Time=2012Q3<br>AverageMortgageAmount=%{x}<br>DelinquencyRate=%{y}<br>PopulationSize=%{marker.size}<extra></extra>",
           "ids": [
            "Prince Edward Island"
           ],
           "legendgroup": "Prince Edward Island",
           "marker": {
            "color": "#EF553B",
            "size": [
             144530
            ],
            "sizemode": "area",
            "sizeref": 36835.035,
            "symbol": "circle"
           },
           "mode": "markers",
           "name": "Prince Edward Island",
           "orientation": "v",
           "showlegend": true,
           "type": "scatter",
           "x": [
            140279
           ],
           "xaxis": "x",
           "y": [
            0.57
           ],
           "yaxis": "y"
          },
          {
           "hovertemplate": "Geography=Nova Scotia<br>Time=2012Q3<br>AverageMortgageAmount=%{x}<br>DelinquencyRate=%{y}<br>PopulationSize=%{marker.size}<extra></extra>",
           "ids": [
            "Nova Scotia"
           ],
           "legendgroup": "Nova Scotia",
           "marker": {
            "color": "#00cc96",
            "size": [
             943635
            ],
            "sizemode": "area",
            "sizeref": 36835.035,
            "symbol": "circle"
           },
           "mode": "markers",
           "name": "Nova Scotia",
           "orientation": "v",
           "showlegend": true,
           "type": "scatter",
           "x": [
            174688
           ],
           "xaxis": "x",
           "y": [
            0.53
           ],
           "yaxis": "y"
          },
          {
           "hovertemplate": "Geography=New Brunswick<br>Time=2012Q3<br>AverageMortgageAmount=%{x}<br>DelinquencyRate=%{y}<br>PopulationSize=%{marker.size}<extra></extra>",
           "ids": [
            "New Brunswick"
           ],
           "legendgroup": "New Brunswick",
           "marker": {
            "color": "#ab63fa",
            "size": [
             758378
            ],
            "sizemode": "area",
            "sizeref": 36835.035,
            "symbol": "circle"
           },
           "mode": "markers",
           "name": "New Brunswick",
           "orientation": "v",
           "showlegend": true,
           "type": "scatter",
           "x": [
            133390
           ],
           "xaxis": "x",
           "y": [
            0.63
           ],
           "yaxis": "y"
          },
          {
           "hovertemplate": "Geography=Québec<br>Time=2012Q3<br>AverageMortgageAmount=%{x}<br>DelinquencyRate=%{y}<br>PopulationSize=%{marker.size}<extra></extra>",
           "ids": [
            "Québec"
           ],
           "legendgroup": "Québec",
           "marker": {
            "color": "#FFA15A",
            "size": [
             8061101
            ],
            "sizemode": "area",
            "sizeref": 36835.035,
            "symbol": "circle"
           },
           "mode": "markers",
           "name": "Québec",
           "orientation": "v",
           "showlegend": true,
           "type": "scatter",
           "x": [
            159661
           ],
           "xaxis": "x",
           "y": [
            0.33
           ],
           "yaxis": "y"
          },
          {
           "hovertemplate": "Geography=Ontario<br>Time=2012Q3<br>AverageMortgageAmount=%{x}<br>DelinquencyRate=%{y}<br>PopulationSize=%{marker.size}<extra></extra>",
           "ids": [
            "Ontario"
           ],
           "legendgroup": "Ontario",
           "marker": {
            "color": "#19d3f3",
            "size": [
             13390632
            ],
            "sizemode": "area",
            "sizeref": 36835.035,
            "symbol": "circle"
           },
           "mode": "markers",
           "name": "Ontario",
           "orientation": "v",
           "showlegend": true,
           "type": "scatter",
           "x": [
            247455
           ],
           "xaxis": "x",
           "y": [
            0.31
           ],
           "yaxis": "y"
          },
          {
           "hovertemplate": "Geography=Manitoba<br>Time=2012Q3<br>AverageMortgageAmount=%{x}<br>DelinquencyRate=%{y}<br>PopulationSize=%{marker.size}<extra></extra>",
           "ids": [
            "Manitoba"
           ],
           "legendgroup": "Manitoba",
           "marker": {
            "color": "#FF6692",
            "size": [
             1249975
            ],
            "sizemode": "area",
            "sizeref": 36835.035,
            "symbol": "circle"
           },
           "mode": "markers",
           "name": "Manitoba",
           "orientation": "v",
           "showlegend": true,
           "type": "scatter",
           "x": [
            188298
           ],
           "xaxis": "x",
           "y": [
            0.25
           ],
           "yaxis": "y"
          },
          {
           "hovertemplate": "Geography=Saskatchewan<br>Time=2012Q3<br>AverageMortgageAmount=%{x}<br>DelinquencyRate=%{y}<br>PopulationSize=%{marker.size}<extra></extra>",
           "ids": [
            "Saskatchewan"
           ],
           "legendgroup": "Saskatchewan",
           "marker": {
            "color": "#B6E880",
            "size": [
             1083755
            ],
            "sizemode": "area",
            "sizeref": 36835.035,
            "symbol": "circle"
           },
           "mode": "markers",
           "name": "Saskatchewan",
           "orientation": "v",
           "showlegend": true,
           "type": "scatter",
           "x": [
            217945
           ],
           "xaxis": "x",
           "y": [
            0.37
           ],
           "yaxis": "y"
          },
          {
           "hovertemplate": "Geography=Alberta<br>Time=2012Q3<br>AverageMortgageAmount=%{x}<br>DelinquencyRate=%{y}<br>PopulationSize=%{marker.size}<extra></extra>",
           "ids": [
            "Alberta"
           ],
           "legendgroup": "Alberta",
           "marker": {
            "color": "#FF97FF",
            "size": [
             3874548
            ],
            "sizemode": "area",
            "sizeref": 36835.035,
            "symbol": "circle"
           },
           "mode": "markers",
           "name": "Alberta",
           "orientation": "v",
           "showlegend": true,
           "type": "scatter",
           "x": [
            282371
           ],
           "xaxis": "x",
           "y": [
            0.6
           ],
           "yaxis": "y"
          },
          {
           "hovertemplate": "Geography=British Columbia<br>Time=2012Q3<br>AverageMortgageAmount=%{x}<br>DelinquencyRate=%{y}<br>PopulationSize=%{marker.size}<extra></extra>",
           "ids": [
            "British Columbia"
           ],
           "legendgroup": "British Columbia",
           "marker": {
            "color": "#FECB52",
            "size": [
             4566769
            ],
            "sizemode": "area",
            "sizeref": 36835.035,
            "symbol": "circle"
           },
           "mode": "markers",
           "name": "British Columbia",
           "orientation": "v",
           "showlegend": true,
           "type": "scatter",
           "x": [
            305427
           ],
           "xaxis": "x",
           "y": [
            0.42
           ],
           "yaxis": "y"
          }
         ],
         "name": "2012Q3"
        },
        {
         "data": [
          {
           "hovertemplate": "Geography=Newfoundland<br>Time=2012Q4<br>AverageMortgageAmount=%{x}<br>DelinquencyRate=%{y}<br>PopulationSize=%{marker.size}<extra></extra>",
           "ids": [
            "Newfoundland"
           ],
           "legendgroup": "Newfoundland",
           "marker": {
            "color": "#636efa",
            "size": [
             527180
            ],
            "sizemode": "area",
            "sizeref": 36835.035,
            "symbol": "circle"
           },
           "mode": "markers",
           "name": "Newfoundland",
           "orientation": "v",
           "showlegend": true,
           "type": "scatter",
           "x": [
            185794
           ],
           "xaxis": "x",
           "y": [
            0.22
           ],
           "yaxis": "y"
          },
          {
           "hovertemplate": "Geography=Prince Edward Island<br>Time=2012Q4<br>AverageMortgageAmount=%{x}<br>DelinquencyRate=%{y}<br>PopulationSize=%{marker.size}<extra></extra>",
           "ids": [
            "Prince Edward Island"
           ],
           "legendgroup": "Prince Edward Island",
           "marker": {
            "color": "#EF553B",
            "size": [
             144520
            ],
            "sizemode": "area",
            "sizeref": 36835.035,
            "symbol": "circle"
           },
           "mode": "markers",
           "name": "Prince Edward Island",
           "orientation": "v",
           "showlegend": true,
           "type": "scatter",
           "x": [
            138415
           ],
           "xaxis": "x",
           "y": [
            0.5
           ],
           "yaxis": "y"
          },
          {
           "hovertemplate": "Geography=Nova Scotia<br>Time=2012Q4<br>AverageMortgageAmount=%{x}<br>DelinquencyRate=%{y}<br>PopulationSize=%{marker.size}<extra></extra>",
           "ids": [
            "Nova Scotia"
           ],
           "legendgroup": "Nova Scotia",
           "marker": {
            "color": "#00cc96",
            "size": [
             943341
            ],
            "sizemode": "area",
            "sizeref": 36835.035,
            "symbol": "circle"
           },
           "mode": "markers",
           "name": "Nova Scotia",
           "orientation": "v",
           "showlegend": true,
           "type": "scatter",
           "x": [
            160046
           ],
           "xaxis": "x",
           "y": [
            0.53
           ],
           "yaxis": "y"
          },
          {
           "hovertemplate": "Geography=New Brunswick<br>Time=2012Q4<br>AverageMortgageAmount=%{x}<br>DelinquencyRate=%{y}<br>PopulationSize=%{marker.size}<extra></extra>",
           "ids": [
            "New Brunswick"
           ],
           "legendgroup": "New Brunswick",
           "marker": {
            "color": "#ab63fa",
            "size": [
             758673
            ],
            "sizemode": "area",
            "sizeref": 36835.035,
            "symbol": "circle"
           },
           "mode": "markers",
           "name": "New Brunswick",
           "orientation": "v",
           "showlegend": true,
           "type": "scatter",
           "x": [
            126138
           ],
           "xaxis": "x",
           "y": [
            0.63
           ],
           "yaxis": "y"
          },
          {
           "hovertemplate": "Geography=Québec<br>Time=2012Q4<br>AverageMortgageAmount=%{x}<br>DelinquencyRate=%{y}<br>PopulationSize=%{marker.size}<extra></extra>",
           "ids": [
            "Québec"
           ],
           "legendgroup": "Québec",
           "marker": {
            "color": "#FFA15A",
            "size": [
             8078388
            ],
            "sizemode": "area",
            "sizeref": 36835.035,
            "symbol": "circle"
           },
           "mode": "markers",
           "name": "Québec",
           "orientation": "v",
           "showlegend": true,
           "type": "scatter",
           "x": [
            153413
           ],
           "xaxis": "x",
           "y": [
            0.33
           ],
           "yaxis": "y"
          },
          {
           "hovertemplate": "Geography=Ontario<br>Time=2012Q4<br>AverageMortgageAmount=%{x}<br>DelinquencyRate=%{y}<br>PopulationSize=%{marker.size}<extra></extra>",
           "ids": [
            "Ontario"
           ],
           "legendgroup": "Ontario",
           "marker": {
            "color": "#19d3f3",
            "size": [
             13434943
            ],
            "sizemode": "area",
            "sizeref": 36835.035,
            "symbol": "circle"
           },
           "mode": "markers",
           "name": "Ontario",
           "orientation": "v",
           "showlegend": true,
           "type": "scatter",
           "x": [
            235667
           ],
           "xaxis": "x",
           "y": [
            0.31
           ],
           "yaxis": "y"
          },
          {
           "hovertemplate": "Geography=Manitoba<br>Time=2012Q4<br>AverageMortgageAmount=%{x}<br>DelinquencyRate=%{y}<br>PopulationSize=%{marker.size}<extra></extra>",
           "ids": [
            "Manitoba"
           ],
           "legendgroup": "Manitoba",
           "marker": {
            "color": "#FF6692",
            "size": [
             1254178
            ],
            "sizemode": "area",
            "sizeref": 36835.035,
            "symbol": "circle"
           },
           "mode": "markers",
           "name": "Manitoba",
           "orientation": "v",
           "showlegend": true,
           "type": "scatter",
           "x": [
            181097
           ],
           "xaxis": "x",
           "y": [
            0.27
           ],
           "yaxis": "y"
          },
          {
           "hovertemplate": "Geography=Saskatchewan<br>Time=2012Q4<br>AverageMortgageAmount=%{x}<br>DelinquencyRate=%{y}<br>PopulationSize=%{marker.size}<extra></extra>",
           "ids": [
            "Saskatchewan"
           ],
           "legendgroup": "Saskatchewan",
           "marker": {
            "color": "#B6E880",
            "size": [
             1088959
            ],
            "sizemode": "area",
            "sizeref": 36835.035,
            "symbol": "circle"
           },
           "mode": "markers",
           "name": "Saskatchewan",
           "orientation": "v",
           "showlegend": true,
           "type": "scatter",
           "x": [
            213126
           ],
           "xaxis": "x",
           "y": [
            0.37
           ],
           "yaxis": "y"
          },
          {
           "hovertemplate": "Geography=Alberta<br>Time=2012Q4<br>AverageMortgageAmount=%{x}<br>DelinquencyRate=%{y}<br>PopulationSize=%{marker.size}<extra></extra>",
           "ids": [
            "Alberta"
           ],
           "legendgroup": "Alberta",
           "marker": {
            "color": "#FF97FF",
            "size": [
             3900333
            ],
            "sizemode": "area",
            "sizeref": 36835.035,
            "symbol": "circle"
           },
           "mode": "markers",
           "name": "Alberta",
           "orientation": "v",
           "showlegend": true,
           "type": "scatter",
           "x": [
            277555
           ],
           "xaxis": "x",
           "y": [
            0.55
           ],
           "yaxis": "y"
          },
          {
           "hovertemplate": "Geography=British Columbia<br>Time=2012Q4<br>AverageMortgageAmount=%{x}<br>DelinquencyRate=%{y}<br>PopulationSize=%{marker.size}<extra></extra>",
           "ids": [
            "British Columbia"
           ],
           "legendgroup": "British Columbia",
           "marker": {
            "color": "#FECB52",
            "size": [
             4590545
            ],
            "sizemode": "area",
            "sizeref": 36835.035,
            "symbol": "circle"
           },
           "mode": "markers",
           "name": "British Columbia",
           "orientation": "v",
           "showlegend": true,
           "type": "scatter",
           "x": [
            289864
           ],
           "xaxis": "x",
           "y": [
            0.42
           ],
           "yaxis": "y"
          }
         ],
         "name": "2012Q4"
        },
        {
         "data": [
          {
           "hovertemplate": "Geography=Newfoundland<br>Time=2013Q1<br>AverageMortgageAmount=%{x}<br>DelinquencyRate=%{y}<br>PopulationSize=%{marker.size}<extra></extra>",
           "ids": [
            "Newfoundland"
           ],
           "legendgroup": "Newfoundland",
           "marker": {
            "color": "#636efa",
            "size": [
             527248
            ],
            "sizemode": "area",
            "sizeref": 36835.035,
            "symbol": "circle"
           },
           "mode": "markers",
           "name": "Newfoundland",
           "orientation": "v",
           "showlegend": true,
           "type": "scatter",
           "x": [
            189098
           ],
           "xaxis": "x",
           "y": [
            0.25
           ],
           "yaxis": "y"
          },
          {
           "hovertemplate": "Geography=Prince Edward Island<br>Time=2013Q1<br>AverageMortgageAmount=%{x}<br>DelinquencyRate=%{y}<br>PopulationSize=%{marker.size}<extra></extra>",
           "ids": [
            "Prince Edward Island"
           ],
           "legendgroup": "Prince Edward Island",
           "marker": {
            "color": "#EF553B",
            "size": [
             144175
            ],
            "sizemode": "area",
            "sizeref": 36835.035,
            "symbol": "circle"
           },
           "mode": "markers",
           "name": "Prince Edward Island",
           "orientation": "v",
           "showlegend": true,
           "type": "scatter",
           "x": [
            137162
           ],
           "xaxis": "x",
           "y": [
            0.55
           ],
           "yaxis": "y"
          },
          {
           "hovertemplate": "Geography=Nova Scotia<br>Time=2013Q1<br>AverageMortgageAmount=%{x}<br>DelinquencyRate=%{y}<br>PopulationSize=%{marker.size}<extra></extra>",
           "ids": [
            "Nova Scotia"
           ],
           "legendgroup": "Nova Scotia",
           "marker": {
            "color": "#00cc96",
            "size": [
             942598
            ],
            "sizemode": "area",
            "sizeref": 36835.035,
            "symbol": "circle"
           },
           "mode": "markers",
           "name": "Nova Scotia",
           "orientation": "v",
           "showlegend": true,
           "type": "scatter",
           "x": [
            158806
           ],
           "xaxis": "x",
           "y": [
            0.55
           ],
           "yaxis": "y"
          },
          {
           "hovertemplate": "Geography=New Brunswick<br>Time=2013Q1<br>AverageMortgageAmount=%{x}<br>DelinquencyRate=%{y}<br>PopulationSize=%{marker.size}<extra></extra>",
           "ids": [
            "New Brunswick"
           ],
           "legendgroup": "New Brunswick",
           "marker": {
            "color": "#ab63fa",
            "size": [
             758298
            ],
            "sizemode": "area",
            "sizeref": 36835.035,
            "symbol": "circle"
           },
           "mode": "markers",
           "name": "New Brunswick",
           "orientation": "v",
           "showlegend": true,
           "type": "scatter",
           "x": [
            124645
           ],
           "xaxis": "x",
           "y": [
            0.65
           ],
           "yaxis": "y"
          },
          {
           "hovertemplate": "Geography=Québec<br>Time=2013Q1<br>AverageMortgageAmount=%{x}<br>DelinquencyRate=%{y}<br>PopulationSize=%{marker.size}<extra></extra>",
           "ids": [
            "Québec"
           ],
           "legendgroup": "Québec",
           "marker": {
            "color": "#FFA15A",
            "size": [
             8082771
            ],
            "sizemode": "area",
            "sizeref": 36835.035,
            "symbol": "circle"
           },
           "mode": "markers",
           "name": "Québec",
           "orientation": "v",
           "showlegend": true,
           "type": "scatter",
           "x": [
            153909
           ],
           "xaxis": "x",
           "y": [
            0.35
           ],
           "yaxis": "y"
          },
          {
           "hovertemplate": "Geography=Ontario<br>Time=2013Q1<br>AverageMortgageAmount=%{x}<br>DelinquencyRate=%{y}<br>PopulationSize=%{marker.size}<extra></extra>",
           "ids": [
            "Ontario"
           ],
           "legendgroup": "Ontario",
           "marker": {
            "color": "#19d3f3",
            "size": [
             13444704
            ],
            "sizemode": "area",
            "sizeref": 36835.035,
            "symbol": "circle"
           },
           "mode": "markers",
           "name": "Ontario",
           "orientation": "v",
           "showlegend": true,
           "type": "scatter",
           "x": [
            233122
           ],
           "xaxis": "x",
           "y": [
            0.31
           ],
           "yaxis": "y"
          },
          {
           "hovertemplate": "Geography=Manitoba<br>Time=2013Q1<br>AverageMortgageAmount=%{x}<br>DelinquencyRate=%{y}<br>PopulationSize=%{marker.size}<extra></extra>",
           "ids": [
            "Manitoba"
           ],
           "legendgroup": "Manitoba",
           "marker": {
            "color": "#FF6692",
            "size": [
             1257940
            ],
            "sizemode": "area",
            "sizeref": 36835.035,
            "symbol": "circle"
           },
           "mode": "markers",
           "name": "Manitoba",
           "orientation": "v",
           "showlegend": true,
           "type": "scatter",
           "x": [
            177560
           ],
           "xaxis": "x",
           "y": [
            0.28
           ],
           "yaxis": "y"
          },
          {
           "hovertemplate": "Geography=Saskatchewan<br>Time=2013Q1<br>AverageMortgageAmount=%{x}<br>DelinquencyRate=%{y}<br>PopulationSize=%{marker.size}<extra></extra>",
           "ids": [
            "Saskatchewan"
           ],
           "legendgroup": "Saskatchewan",
           "marker": {
            "color": "#B6E880",
            "size": [
             1091547
            ],
            "sizemode": "area",
            "sizeref": 36835.035,
            "symbol": "circle"
           },
           "mode": "markers",
           "name": "Saskatchewan",
           "orientation": "v",
           "showlegend": true,
           "type": "scatter",
           "x": [
            206354
           ],
           "xaxis": "x",
           "y": [
            0.36
           ],
           "yaxis": "y"
          },
          {
           "hovertemplate": "Geography=Alberta<br>Time=2013Q1<br>AverageMortgageAmount=%{x}<br>DelinquencyRate=%{y}<br>PopulationSize=%{marker.size}<extra></extra>",
           "ids": [
            "Alberta"
           ],
           "legendgroup": "Alberta",
           "marker": {
            "color": "#FF97FF",
            "size": [
             3920499
            ],
            "sizemode": "area",
            "sizeref": 36835.035,
            "symbol": "circle"
           },
           "mode": "markers",
           "name": "Alberta",
           "orientation": "v",
           "showlegend": true,
           "type": "scatter",
           "x": [
            277158
           ],
           "xaxis": "x",
           "y": [
            0.52
           ],
           "yaxis": "y"
          },
          {
           "hovertemplate": "Geography=British Columbia<br>Time=2013Q1<br>AverageMortgageAmount=%{x}<br>DelinquencyRate=%{y}<br>PopulationSize=%{marker.size}<extra></extra>",
           "ids": [
            "British Columbia"
           ],
           "legendgroup": "British Columbia",
           "marker": {
            "color": "#FECB52",
            "size": [
             4598255
            ],
            "sizemode": "area",
            "sizeref": 36835.035,
            "symbol": "circle"
           },
           "mode": "markers",
           "name": "British Columbia",
           "orientation": "v",
           "showlegend": true,
           "type": "scatter",
           "x": [
            286652
           ],
           "xaxis": "x",
           "y": [
            0.43
           ],
           "yaxis": "y"
          }
         ],
         "name": "2013Q1"
        },
        {
         "data": [
          {
           "hovertemplate": "Geography=Newfoundland<br>Time=2013Q2<br>AverageMortgageAmount=%{x}<br>DelinquencyRate=%{y}<br>PopulationSize=%{marker.size}<extra></extra>",
           "ids": [
            "Newfoundland"
           ],
           "legendgroup": "Newfoundland",
           "marker": {
            "color": "#636efa",
            "size": [
             527313
            ],
            "sizemode": "area",
            "sizeref": 36835.035,
            "symbol": "circle"
           },
           "mode": "markers",
           "name": "Newfoundland",
           "orientation": "v",
           "showlegend": true,
           "type": "scatter",
           "x": [
            181331
           ],
           "xaxis": "x",
           "y": [
            0.19
           ],
           "yaxis": "y"
          },
          {
           "hovertemplate": "Geography=Prince Edward Island<br>Time=2013Q2<br>AverageMortgageAmount=%{x}<br>DelinquencyRate=%{y}<br>PopulationSize=%{marker.size}<extra></extra>",
           "ids": [
            "Prince Edward Island"
           ],
           "legendgroup": "Prince Edward Island",
           "marker": {
            "color": "#EF553B",
            "size": [
             143948
            ],
            "sizemode": "area",
            "sizeref": 36835.035,
            "symbol": "circle"
           },
           "mode": "markers",
           "name": "Prince Edward Island",
           "orientation": "v",
           "showlegend": true,
           "type": "scatter",
           "x": [
            126763
           ],
           "xaxis": "x",
           "y": [
            0.47
           ],
           "yaxis": "y"
          },
          {
           "hovertemplate": "Geography=Nova Scotia<br>Time=2013Q2<br>AverageMortgageAmount=%{x}<br>DelinquencyRate=%{y}<br>PopulationSize=%{marker.size}<extra></extra>",
           "ids": [
            "Nova Scotia"
           ],
           "legendgroup": "Nova Scotia",
           "marker": {
            "color": "#00cc96",
            "size": [
             941230
            ],
            "sizemode": "area",
            "sizeref": 36835.035,
            "symbol": "circle"
           },
           "mode": "markers",
           "name": "Nova Scotia",
           "orientation": "v",
           "showlegend": true,
           "type": "scatter",
           "x": [
            159945
           ],
           "xaxis": "x",
           "y": [
            0.56
           ],
           "yaxis": "y"
          },
          {
           "hovertemplate": "Geography=New Brunswick<br>Time=2013Q2<br>AverageMortgageAmount=%{x}<br>DelinquencyRate=%{y}<br>PopulationSize=%{marker.size}<extra></extra>",
           "ids": [
            "New Brunswick"
           ],
           "legendgroup": "New Brunswick",
           "marker": {
            "color": "#ab63fa",
            "size": [
             758132
            ],
            "sizemode": "area",
            "sizeref": 36835.035,
            "symbol": "circle"
           },
           "mode": "markers",
           "name": "New Brunswick",
           "orientation": "v",
           "showlegend": true,
           "type": "scatter",
           "x": [
            122572
           ],
           "xaxis": "x",
           "y": [
            0.6
           ],
           "yaxis": "y"
          },
          {
           "hovertemplate": "Geography=Québec<br>Time=2013Q2<br>AverageMortgageAmount=%{x}<br>DelinquencyRate=%{y}<br>PopulationSize=%{marker.size}<extra></extra>",
           "ids": [
            "Québec"
           ],
           "legendgroup": "Québec",
           "marker": {
            "color": "#FFA15A",
            "size": [
             8090916
            ],
            "sizemode": "area",
            "sizeref": 36835.035,
            "symbol": "circle"
           },
           "mode": "markers",
           "name": "Québec",
           "orientation": "v",
           "showlegend": true,
           "type": "scatter",
           "x": [
            155016
           ],
           "xaxis": "x",
           "y": [
            0.34
           ],
           "yaxis": "y"
          },
          {
           "hovertemplate": "Geography=Ontario<br>Time=2013Q2<br>AverageMortgageAmount=%{x}<br>DelinquencyRate=%{y}<br>PopulationSize=%{marker.size}<extra></extra>",
           "ids": [
            "Ontario"
           ],
           "legendgroup": "Ontario",
           "marker": {
            "color": "#19d3f3",
            "size": [
             13467829
            ],
            "sizemode": "area",
            "sizeref": 36835.035,
            "symbol": "circle"
           },
           "mode": "markers",
           "name": "Ontario",
           "orientation": "v",
           "showlegend": true,
           "type": "scatter",
           "x": [
            230770
           ],
           "xaxis": "x",
           "y": [
            0.29
           ],
           "yaxis": "y"
          },
          {
           "hovertemplate": "Geography=Manitoba<br>Time=2013Q2<br>AverageMortgageAmount=%{x}<br>DelinquencyRate=%{y}<br>PopulationSize=%{marker.size}<extra></extra>",
           "ids": [
            "Manitoba"
           ],
           "legendgroup": "Manitoba",
           "marker": {
            "color": "#FF6692",
            "size": [
             1260834
            ],
            "sizemode": "area",
            "sizeref": 36835.035,
            "symbol": "circle"
           },
           "mode": "markers",
           "name": "Manitoba",
           "orientation": "v",
           "showlegend": true,
           "type": "scatter",
           "x": [
            177517
           ],
           "xaxis": "x",
           "y": [
            0.26
           ],
           "yaxis": "y"
          },
          {
           "hovertemplate": "Geography=Saskatchewan<br>Time=2013Q2<br>AverageMortgageAmount=%{x}<br>DelinquencyRate=%{y}<br>PopulationSize=%{marker.size}<extra></extra>",
           "ids": [
            "Saskatchewan"
           ],
           "legendgroup": "Saskatchewan",
           "marker": {
            "color": "#B6E880",
            "size": [
             1094390
            ],
            "sizemode": "area",
            "sizeref": 36835.035,
            "symbol": "circle"
           },
           "mode": "markers",
           "name": "Saskatchewan",
           "orientation": "v",
           "showlegend": true,
           "type": "scatter",
           "x": [
            211979
           ],
           "xaxis": "x",
           "y": [
            0.34
           ],
           "yaxis": "y"
          },
          {
           "hovertemplate": "Geography=Alberta<br>Time=2013Q2<br>AverageMortgageAmount=%{x}<br>DelinquencyRate=%{y}<br>PopulationSize=%{marker.size}<extra></extra>",
           "ids": [
            "Alberta"
           ],
           "legendgroup": "Alberta",
           "marker": {
            "color": "#FF97FF",
            "size": [
             3946798
            ],
            "sizemode": "area",
            "sizeref": 36835.035,
            "symbol": "circle"
           },
           "mode": "markers",
           "name": "Alberta",
           "orientation": "v",
           "showlegend": true,
           "type": "scatter",
           "x": [
            278516
           ],
           "xaxis": "x",
           "y": [
            0.47
           ],
           "yaxis": "y"
          },
          {
           "hovertemplate": "Geography=British Columbia<br>Time=2013Q2<br>AverageMortgageAmount=%{x}<br>DelinquencyRate=%{y}<br>PopulationSize=%{marker.size}<extra></extra>",
           "ids": [
            "British Columbia"
           ],
           "legendgroup": "British Columbia",
           "marker": {
            "color": "#FECB52",
            "size": [
             4611648
            ],
            "sizemode": "area",
            "sizeref": 36835.035,
            "symbol": "circle"
           },
           "mode": "markers",
           "name": "British Columbia",
           "orientation": "v",
           "showlegend": true,
           "type": "scatter",
           "x": [
            290928
           ],
           "xaxis": "x",
           "y": [
            0.43
           ],
           "yaxis": "y"
          }
         ],
         "name": "2013Q2"
        },
        {
         "data": [
          {
           "hovertemplate": "Geography=Newfoundland<br>Time=2013Q3<br>AverageMortgageAmount=%{x}<br>DelinquencyRate=%{y}<br>PopulationSize=%{marker.size}<extra></extra>",
           "ids": [
            "Newfoundland"
           ],
           "legendgroup": "Newfoundland",
           "marker": {
            "color": "#636efa",
            "size": [
             527114
            ],
            "sizemode": "area",
            "sizeref": 36835.035,
            "symbol": "circle"
           },
           "mode": "markers",
           "name": "Newfoundland",
           "orientation": "v",
           "showlegend": true,
           "type": "scatter",
           "x": [
            191818
           ],
           "xaxis": "x",
           "y": [
            0.2
           ],
           "yaxis": "y"
          },
          {
           "hovertemplate": "Geography=Prince Edward Island<br>Time=2013Q3<br>AverageMortgageAmount=%{x}<br>DelinquencyRate=%{y}<br>PopulationSize=%{marker.size}<extra></extra>",
           "ids": [
            "Prince Edward Island"
           ],
           "legendgroup": "Prince Edward Island",
           "marker": {
            "color": "#EF553B",
            "size": [
             144094
            ],
            "sizemode": "area",
            "sizeref": 36835.035,
            "symbol": "circle"
           },
           "mode": "markers",
           "name": "Prince Edward Island",
           "orientation": "v",
           "showlegend": true,
           "type": "scatter",
           "x": [
            139506
           ],
           "xaxis": "x",
           "y": [
            0.56
           ],
           "yaxis": "y"
          },
          {
           "hovertemplate": "Geography=Nova Scotia<br>Time=2013Q3<br>AverageMortgageAmount=%{x}<br>DelinquencyRate=%{y}<br>PopulationSize=%{marker.size}<extra></extra>",
           "ids": [
            "Nova Scotia"
           ],
           "legendgroup": "Nova Scotia",
           "marker": {
            "color": "#00cc96",
            "size": [
             940434
            ],
            "sizemode": "area",
            "sizeref": 36835.035,
            "symbol": "circle"
           },
           "mode": "markers",
           "name": "Nova Scotia",
           "orientation": "v",
           "showlegend": true,
           "type": "scatter",
           "x": [
            166426
           ],
           "xaxis": "x",
           "y": [
            0.58
           ],
           "yaxis": "y"
          },
          {
           "hovertemplate": "Geography=New Brunswick<br>Time=2013Q3<br>AverageMortgageAmount=%{x}<br>DelinquencyRate=%{y}<br>PopulationSize=%{marker.size}<extra></extra>",
           "ids": [
            "New Brunswick"
           ],
           "legendgroup": "New Brunswick",
           "marker": {
            "color": "#ab63fa",
            "size": [
             758544
            ],
            "sizemode": "area",
            "sizeref": 36835.035,
            "symbol": "circle"
           },
           "mode": "markers",
           "name": "New Brunswick",
           "orientation": "v",
           "showlegend": true,
           "type": "scatter",
           "x": [
            131542
           ],
           "xaxis": "x",
           "y": [
            0.61
           ],
           "yaxis": "y"
          },
          {
           "hovertemplate": "Geography=Québec<br>Time=2013Q3<br>AverageMortgageAmount=%{x}<br>DelinquencyRate=%{y}<br>PopulationSize=%{marker.size}<extra></extra>",
           "ids": [
            "Québec"
           ],
           "legendgroup": "Québec",
           "marker": {
            "color": "#FFA15A",
            "size": [
             8110880
            ],
            "sizemode": "area",
            "sizeref": 36835.035,
            "symbol": "circle"
           },
           "mode": "markers",
           "name": "Québec",
           "orientation": "v",
           "showlegend": true,
           "type": "scatter",
           "x": [
            160147
           ],
           "xaxis": "x",
           "y": [
            0.33
           ],
           "yaxis": "y"
          },
          {
           "hovertemplate": "Geography=Ontario<br>Time=2013Q3<br>AverageMortgageAmount=%{x}<br>DelinquencyRate=%{y}<br>PopulationSize=%{marker.size}<extra></extra>",
           "ids": [
            "Ontario"
           ],
           "legendgroup": "Ontario",
           "marker": {
            "color": "#19d3f3",
            "size": [
             13510781
            ],
            "sizemode": "area",
            "sizeref": 36835.035,
            "symbol": "circle"
           },
           "mode": "markers",
           "name": "Ontario",
           "orientation": "v",
           "showlegend": true,
           "type": "scatter",
           "x": [
            249054
           ],
           "xaxis": "x",
           "y": [
            0.28
           ],
           "yaxis": "y"
          },
          {
           "hovertemplate": "Geography=Manitoba<br>Time=2013Q3<br>AverageMortgageAmount=%{x}<br>DelinquencyRate=%{y}<br>PopulationSize=%{marker.size}<extra></extra>",
           "ids": [
            "Manitoba"
           ],
           "legendgroup": "Manitoba",
           "marker": {
            "color": "#FF6692",
            "size": [
             1264620
            ],
            "sizemode": "area",
            "sizeref": 36835.035,
            "symbol": "circle"
           },
           "mode": "markers",
           "name": "Manitoba",
           "orientation": "v",
           "showlegend": true,
           "type": "scatter",
           "x": [
            192732
           ],
           "xaxis": "x",
           "y": [
            0.28
           ],
           "yaxis": "y"
          },
          {
           "hovertemplate": "Geography=Saskatchewan<br>Time=2013Q3<br>AverageMortgageAmount=%{x}<br>DelinquencyRate=%{y}<br>PopulationSize=%{marker.size}<extra></extra>",
           "ids": [
            "Saskatchewan"
           ],
           "legendgroup": "Saskatchewan",
           "marker": {
            "color": "#B6E880",
            "size": [
             1099736
            ],
            "sizemode": "area",
            "sizeref": 36835.035,
            "symbol": "circle"
           },
           "mode": "markers",
           "name": "Saskatchewan",
           "orientation": "v",
           "showlegend": true,
           "type": "scatter",
           "x": [
            224868
           ],
           "xaxis": "x",
           "y": [
            0.3
           ],
           "yaxis": "y"
          },
          {
           "hovertemplate": "Geography=Alberta<br>Time=2013Q3<br>AverageMortgageAmount=%{x}<br>DelinquencyRate=%{y}<br>PopulationSize=%{marker.size}<extra></extra>",
           "ids": [
            "Alberta"
           ],
           "legendgroup": "Alberta",
           "marker": {
            "color": "#FF97FF",
            "size": [
             3981011
            ],
            "sizemode": "area",
            "sizeref": 36835.035,
            "symbol": "circle"
           },
           "mode": "markers",
           "name": "Alberta",
           "orientation": "v",
           "showlegend": true,
           "type": "scatter",
           "x": [
            289263
           ],
           "xaxis": "x",
           "y": [
            0.45
           ],
           "yaxis": "y"
          },
          {
           "hovertemplate": "Geography=British Columbia<br>Time=2013Q3<br>AverageMortgageAmount=%{x}<br>DelinquencyRate=%{y}<br>PopulationSize=%{marker.size}<extra></extra>",
           "ids": [
            "British Columbia"
           ],
           "legendgroup": "British Columbia",
           "marker": {
            "color": "#FECB52",
            "size": [
             4630077
            ],
            "sizemode": "area",
            "sizeref": 36835.035,
            "symbol": "circle"
           },
           "mode": "markers",
           "name": "British Columbia",
           "orientation": "v",
           "showlegend": true,
           "type": "scatter",
           "x": [
            303663
           ],
           "xaxis": "x",
           "y": [
            0.42
           ],
           "yaxis": "y"
          }
         ],
         "name": "2013Q3"
        },
        {
         "data": [
          {
           "hovertemplate": "Geography=Newfoundland<br>Time=2013Q4<br>AverageMortgageAmount=%{x}<br>DelinquencyRate=%{y}<br>PopulationSize=%{marker.size}<extra></extra>",
           "ids": [
            "Newfoundland"
           ],
           "legendgroup": "Newfoundland",
           "marker": {
            "color": "#636efa",
            "size": [
             528117
            ],
            "sizemode": "area",
            "sizeref": 36835.035,
            "symbol": "circle"
           },
           "mode": "markers",
           "name": "Newfoundland",
           "orientation": "v",
           "showlegend": true,
           "type": "scatter",
           "x": [
            193100
           ],
           "xaxis": "x",
           "y": [
            0.22
           ],
           "yaxis": "y"
          },
          {
           "hovertemplate": "Geography=Prince Edward Island<br>Time=2013Q4<br>AverageMortgageAmount=%{x}<br>DelinquencyRate=%{y}<br>PopulationSize=%{marker.size}<extra></extra>",
           "ids": [
            "Prince Edward Island"
           ],
           "legendgroup": "Prince Edward Island",
           "marker": {
            "color": "#EF553B",
            "size": [
             144103
            ],
            "sizemode": "area",
            "sizeref": 36835.035,
            "symbol": "circle"
           },
           "mode": "markers",
           "name": "Prince Edward Island",
           "orientation": "v",
           "showlegend": true,
           "type": "scatter",
           "x": [
            141453
           ],
           "xaxis": "x",
           "y": [
            0.58
           ],
           "yaxis": "y"
          },
          {
           "hovertemplate": "Geography=Nova Scotia<br>Time=2013Q4<br>AverageMortgageAmount=%{x}<br>DelinquencyRate=%{y}<br>PopulationSize=%{marker.size}<extra></extra>",
           "ids": [
            "Nova Scotia"
           ],
           "legendgroup": "Nova Scotia",
           "marker": {
            "color": "#00cc96",
            "size": [
             940105
            ],
            "sizemode": "area",
            "sizeref": 36835.035,
            "symbol": "circle"
           },
           "mode": "markers",
           "name": "Nova Scotia",
           "orientation": "v",
           "showlegend": true,
           "type": "scatter",
           "x": [
            160189
           ],
           "xaxis": "x",
           "y": [
            0.62
           ],
           "yaxis": "y"
          },
          {
           "hovertemplate": "Geography=New Brunswick<br>Time=2013Q4<br>AverageMortgageAmount=%{x}<br>DelinquencyRate=%{y}<br>PopulationSize=%{marker.size}<extra></extra>",
           "ids": [
            "New Brunswick"
           ],
           "legendgroup": "New Brunswick",
           "marker": {
            "color": "#ab63fa",
            "size": [
             758670
            ],
            "sizemode": "area",
            "sizeref": 36835.035,
            "symbol": "circle"
           },
           "mode": "markers",
           "name": "New Brunswick",
           "orientation": "v",
           "showlegend": true,
           "type": "scatter",
           "x": [
            128155
           ],
           "xaxis": "x",
           "y": [
            0.68
           ],
           "yaxis": "y"
          },
          {
           "hovertemplate": "Geography=Québec<br>Time=2013Q4<br>AverageMortgageAmount=%{x}<br>DelinquencyRate=%{y}<br>PopulationSize=%{marker.size}<extra></extra>",
           "ids": [
            "Québec"
           ],
           "legendgroup": "Québec",
           "marker": {
            "color": "#FFA15A",
            "size": [
             8124660
            ],
            "sizemode": "area",
            "sizeref": 36835.035,
            "symbol": "circle"
           },
           "mode": "markers",
           "name": "Québec",
           "orientation": "v",
           "showlegend": true,
           "type": "scatter",
           "x": [
            155512
           ],
           "xaxis": "x",
           "y": [
            0.35
           ],
           "yaxis": "y"
          },
          {
           "hovertemplate": "Geography=Ontario<br>Time=2013Q4<br>AverageMortgageAmount=%{x}<br>DelinquencyRate=%{y}<br>PopulationSize=%{marker.size}<extra></extra>",
           "ids": [
            "Ontario"
           ],
           "legendgroup": "Ontario",
           "marker": {
            "color": "#19d3f3",
            "size": [
             13558528
            ],
            "sizemode": "area",
            "sizeref": 36835.035,
            "symbol": "circle"
           },
           "mode": "markers",
           "name": "Ontario",
           "orientation": "v",
           "showlegend": true,
           "type": "scatter",
           "x": [
            244060
           ],
           "xaxis": "x",
           "y": [
            0.28
           ],
           "yaxis": "y"
          },
          {
           "hovertemplate": "Geography=Manitoba<br>Time=2013Q4<br>AverageMortgageAmount=%{x}<br>DelinquencyRate=%{y}<br>PopulationSize=%{marker.size}<extra></extra>",
           "ids": [
            "Manitoba"
           ],
           "legendgroup": "Manitoba",
           "marker": {
            "color": "#FF6692",
            "size": [
             1268428
            ],
            "sizemode": "area",
            "sizeref": 36835.035,
            "symbol": "circle"
           },
           "mode": "markers",
           "name": "Manitoba",
           "orientation": "v",
           "showlegend": true,
           "type": "scatter",
           "x": [
            189570
           ],
           "xaxis": "x",
           "y": [
            0.28
           ],
           "yaxis": "y"
          },
          {
           "hovertemplate": "Geography=Saskatchewan<br>Time=2013Q4<br>AverageMortgageAmount=%{x}<br>DelinquencyRate=%{y}<br>PopulationSize=%{marker.size}<extra></extra>",
           "ids": [
            "Saskatchewan"
           ],
           "legendgroup": "Saskatchewan",
           "marker": {
            "color": "#B6E880",
            "size": [
             1103730
            ],
            "sizemode": "area",
            "sizeref": 36835.035,
            "symbol": "circle"
           },
           "mode": "markers",
           "name": "Saskatchewan",
           "orientation": "v",
           "showlegend": true,
           "type": "scatter",
           "x": [
            225414
           ],
           "xaxis": "x",
           "y": [
            0.32
           ],
           "yaxis": "y"
          },
          {
           "hovertemplate": "Geography=Alberta<br>Time=2013Q4<br>AverageMortgageAmount=%{x}<br>DelinquencyRate=%{y}<br>PopulationSize=%{marker.size}<extra></extra>",
           "ids": [
            "Alberta"
           ],
           "legendgroup": "Alberta",
           "marker": {
            "color": "#FF97FF",
            "size": [
             4010903
            ],
            "sizemode": "area",
            "sizeref": 36835.035,
            "symbol": "circle"
           },
           "mode": "markers",
           "name": "Alberta",
           "orientation": "v",
           "showlegend": true,
           "type": "scatter",
           "x": [
            284928
           ],
           "xaxis": "x",
           "y": [
            0.43
           ],
           "yaxis": "y"
          },
          {
           "hovertemplate": "Geography=British Columbia<br>Time=2013Q4<br>AverageMortgageAmount=%{x}<br>DelinquencyRate=%{y}<br>PopulationSize=%{marker.size}<extra></extra>",
           "ids": [
            "British Columbia"
           ],
           "legendgroup": "British Columbia",
           "marker": {
            "color": "#FECB52",
            "size": [
             4658875
            ],
            "sizemode": "area",
            "sizeref": 36835.035,
            "symbol": "circle"
           },
           "mode": "markers",
           "name": "British Columbia",
           "orientation": "v",
           "showlegend": true,
           "type": "scatter",
           "x": [
            305256
           ],
           "xaxis": "x",
           "y": [
            0.43
           ],
           "yaxis": "y"
          }
         ],
         "name": "2013Q4"
        },
        {
         "data": [
          {
           "hovertemplate": "Geography=Newfoundland<br>Time=2014Q1<br>AverageMortgageAmount=%{x}<br>DelinquencyRate=%{y}<br>PopulationSize=%{marker.size}<extra></extra>",
           "ids": [
            "Newfoundland"
           ],
           "legendgroup": "Newfoundland",
           "marker": {
            "color": "#636efa",
            "size": [
             528242
            ],
            "sizemode": "area",
            "sizeref": 36835.035,
            "symbol": "circle"
           },
           "mode": "markers",
           "name": "Newfoundland",
           "orientation": "v",
           "showlegend": true,
           "type": "scatter",
           "x": [
            195479
           ],
           "xaxis": "x",
           "y": [
            0.23
           ],
           "yaxis": "y"
          },
          {
           "hovertemplate": "Geography=Prince Edward Island<br>Time=2014Q1<br>AverageMortgageAmount=%{x}<br>DelinquencyRate=%{y}<br>PopulationSize=%{marker.size}<extra></extra>",
           "ids": [
            "Prince Edward Island"
           ],
           "legendgroup": "Prince Edward Island",
           "marker": {
            "color": "#EF553B",
            "size": [
             143996
            ],
            "sizemode": "area",
            "sizeref": 36835.035,
            "symbol": "circle"
           },
           "mode": "markers",
           "name": "Prince Edward Island",
           "orientation": "v",
           "showlegend": true,
           "type": "scatter",
           "x": [
            141141
           ],
           "xaxis": "x",
           "y": [
            0.6
           ],
           "yaxis": "y"
          },
          {
           "hovertemplate": "Geography=Nova Scotia<br>Time=2014Q1<br>AverageMortgageAmount=%{x}<br>DelinquencyRate=%{y}<br>PopulationSize=%{marker.size}<extra></extra>",
           "ids": [
            "Nova Scotia"
           ],
           "legendgroup": "Nova Scotia",
           "marker": {
            "color": "#00cc96",
            "size": [
             939867
            ],
            "sizemode": "area",
            "sizeref": 36835.035,
            "symbol": "circle"
           },
           "mode": "markers",
           "name": "Nova Scotia",
           "orientation": "v",
           "showlegend": true,
           "type": "scatter",
           "x": [
            161383
           ],
           "xaxis": "x",
           "y": [
            0.65
           ],
           "yaxis": "y"
          },
          {
           "hovertemplate": "Geography=New Brunswick<br>Time=2014Q1<br>AverageMortgageAmount=%{x}<br>DelinquencyRate=%{y}<br>PopulationSize=%{marker.size}<extra></extra>",
           "ids": [
            "New Brunswick"
           ],
           "legendgroup": "New Brunswick",
           "marker": {
            "color": "#ab63fa",
            "size": [
             759018
            ],
            "sizemode": "area",
            "sizeref": 36835.035,
            "symbol": "circle"
           },
           "mode": "markers",
           "name": "New Brunswick",
           "orientation": "v",
           "showlegend": true,
           "type": "scatter",
           "x": [
            127766
           ],
           "xaxis": "x",
           "y": [
            0.72
           ],
           "yaxis": "y"
          },
          {
           "hovertemplate": "Geography=Québec<br>Time=2014Q1<br>AverageMortgageAmount=%{x}<br>DelinquencyRate=%{y}<br>PopulationSize=%{marker.size}<extra></extra>",
           "ids": [
            "Québec"
           ],
           "legendgroup": "Québec",
           "marker": {
            "color": "#FFA15A",
            "size": [
             8125478
            ],
            "sizemode": "area",
            "sizeref": 36835.035,
            "symbol": "circle"
           },
           "mode": "markers",
           "name": "Québec",
           "orientation": "v",
           "showlegend": true,
           "type": "scatter",
           "x": [
            156424
           ],
           "xaxis": "x",
           "y": [
            0.37
           ],
           "yaxis": "y"
          },
          {
           "hovertemplate": "Geography=Ontario<br>Time=2014Q1<br>AverageMortgageAmount=%{x}<br>DelinquencyRate=%{y}<br>PopulationSize=%{marker.size}<extra></extra>",
           "ids": [
            "Ontario"
           ],
           "legendgroup": "Ontario",
           "marker": {
            "color": "#19d3f3",
            "size": [
             13562583
            ],
            "sizemode": "area",
            "sizeref": 36835.035,
            "symbol": "circle"
           },
           "mode": "markers",
           "name": "Ontario",
           "orientation": "v",
           "showlegend": true,
           "type": "scatter",
           "x": [
            244077
           ],
           "xaxis": "x",
           "y": [
            0.29
           ],
           "yaxis": "y"
          },
          {
           "hovertemplate": "Geography=Manitoba<br>Time=2014Q1<br>AverageMortgageAmount=%{x}<br>DelinquencyRate=%{y}<br>PopulationSize=%{marker.size}<extra></extra>",
           "ids": [
            "Manitoba"
           ],
           "legendgroup": "Manitoba",
           "marker": {
            "color": "#FF6692",
            "size": [
             1271562
            ],
            "sizemode": "area",
            "sizeref": 36835.035,
            "symbol": "circle"
           },
           "mode": "markers",
           "name": "Manitoba",
           "orientation": "v",
           "showlegend": true,
           "type": "scatter",
           "x": [
            188107
           ],
           "xaxis": "x",
           "y": [
            0.28
           ],
           "yaxis": "y"
          },
          {
           "hovertemplate": "Geography=Saskatchewan<br>Time=2014Q1<br>AverageMortgageAmount=%{x}<br>DelinquencyRate=%{y}<br>PopulationSize=%{marker.size}<extra></extra>",
           "ids": [
            "Saskatchewan"
           ],
           "legendgroup": "Saskatchewan",
           "marker": {
            "color": "#B6E880",
            "size": [
             1106374
            ],
            "sizemode": "area",
            "sizeref": 36835.035,
            "symbol": "circle"
           },
           "mode": "markers",
           "name": "Saskatchewan",
           "orientation": "v",
           "showlegend": true,
           "type": "scatter",
           "x": [
            226559
           ],
           "xaxis": "x",
           "y": [
            0.35
           ],
           "yaxis": "y"
          },
          {
           "hovertemplate": "Geography=Alberta<br>Time=2014Q1<br>AverageMortgageAmount=%{x}<br>DelinquencyRate=%{y}<br>PopulationSize=%{marker.size}<extra></extra>",
           "ids": [
            "Alberta"
           ],
           "legendgroup": "Alberta",
           "marker": {
            "color": "#FF97FF",
            "size": [
             4029951
            ],
            "sizemode": "area",
            "sizeref": 36835.035,
            "symbol": "circle"
           },
           "mode": "markers",
           "name": "Alberta",
           "orientation": "v",
           "showlegend": true,
           "type": "scatter",
           "x": [
            291926
           ],
           "xaxis": "x",
           "y": [
            0.42
           ],
           "yaxis": "y"
          },
          {
           "hovertemplate": "Geography=British Columbia<br>Time=2014Q1<br>AverageMortgageAmount=%{x}<br>DelinquencyRate=%{y}<br>PopulationSize=%{marker.size}<extra></extra>",
           "ids": [
            "British Columbia"
           ],
           "legendgroup": "British Columbia",
           "marker": {
            "color": "#FECB52",
            "size": [
             4666788
            ],
            "sizemode": "area",
            "sizeref": 36835.035,
            "symbol": "circle"
           },
           "mode": "markers",
           "name": "British Columbia",
           "orientation": "v",
           "showlegend": true,
           "type": "scatter",
           "x": [
            309374
           ],
           "xaxis": "x",
           "y": [
            0.43
           ],
           "yaxis": "y"
          }
         ],
         "name": "2014Q1"
        },
        {
         "data": [
          {
           "hovertemplate": "Geography=Newfoundland<br>Time=2014Q2<br>AverageMortgageAmount=%{x}<br>DelinquencyRate=%{y}<br>PopulationSize=%{marker.size}<extra></extra>",
           "ids": [
            "Newfoundland"
           ],
           "legendgroup": "Newfoundland",
           "marker": {
            "color": "#636efa",
            "size": [
             527498
            ],
            "sizemode": "area",
            "sizeref": 36835.035,
            "symbol": "circle"
           },
           "mode": "markers",
           "name": "Newfoundland",
           "orientation": "v",
           "showlegend": true,
           "type": "scatter",
           "x": [
            192856
           ],
           "xaxis": "x",
           "y": [
            0.25
           ],
           "yaxis": "y"
          },
          {
           "hovertemplate": "Geography=Prince Edward Island<br>Time=2014Q2<br>AverageMortgageAmount=%{x}<br>DelinquencyRate=%{y}<br>PopulationSize=%{marker.size}<extra></extra>",
           "ids": [
            "Prince Edward Island"
           ],
           "legendgroup": "Prince Edward Island",
           "marker": {
            "color": "#EF553B",
            "size": [
             143984
            ],
            "sizemode": "area",
            "sizeref": 36835.035,
            "symbol": "circle"
           },
           "mode": "markers",
           "name": "Prince Edward Island",
           "orientation": "v",
           "showlegend": true,
           "type": "scatter",
           "x": [
            137427
           ],
           "xaxis": "x",
           "y": [
            0.6
           ],
           "yaxis": "y"
          },
          {
           "hovertemplate": "Geography=Nova Scotia<br>Time=2014Q2<br>AverageMortgageAmount=%{x}<br>DelinquencyRate=%{y}<br>PopulationSize=%{marker.size}<extra></extra>",
           "ids": [
            "Nova Scotia"
           ],
           "legendgroup": "Nova Scotia",
           "marker": {
            "color": "#00cc96",
            "size": [
             938913
            ],
            "sizemode": "area",
            "sizeref": 36835.035,
            "symbol": "circle"
           },
           "mode": "markers",
           "name": "Nova Scotia",
           "orientation": "v",
           "showlegend": true,
           "type": "scatter",
           "x": [
            157664
           ],
           "xaxis": "x",
           "y": [
            0.65
           ],
           "yaxis": "y"
          },
          {
           "hovertemplate": "Geography=New Brunswick<br>Time=2014Q2<br>AverageMortgageAmount=%{x}<br>DelinquencyRate=%{y}<br>PopulationSize=%{marker.size}<extra></extra>",
           "ids": [
            "New Brunswick"
           ],
           "legendgroup": "New Brunswick",
           "marker": {
            "color": "#ab63fa",
            "size": [
             758876
            ],
            "sizemode": "area",
            "sizeref": 36835.035,
            "symbol": "circle"
           },
           "mode": "markers",
           "name": "New Brunswick",
           "orientation": "v",
           "showlegend": true,
           "type": "scatter",
           "x": [
            124221
           ],
           "xaxis": "x",
           "y": [
            0.67
           ],
           "yaxis": "y"
          },
          {
           "hovertemplate": "Geography=Québec<br>Time=2014Q2<br>AverageMortgageAmount=%{x}<br>DelinquencyRate=%{y}<br>PopulationSize=%{marker.size}<extra></extra>",
           "ids": [
            "Québec"
           ],
           "legendgroup": "Québec",
           "marker": {
            "color": "#FFA15A",
            "size": [
             8132425
            ],
            "sizemode": "area",
            "sizeref": 36835.035,
            "symbol": "circle"
           },
           "mode": "markers",
           "name": "Québec",
           "orientation": "v",
           "showlegend": true,
           "type": "scatter",
           "x": [
            160165
           ],
           "xaxis": "x",
           "y": [
            0.36
           ],
           "yaxis": "y"
          },
          {
           "hovertemplate": "Geography=Ontario<br>Time=2014Q2<br>AverageMortgageAmount=%{x}<br>DelinquencyRate=%{y}<br>PopulationSize=%{marker.size}<extra></extra>",
           "ids": [
            "Ontario"
           ],
           "legendgroup": "Ontario",
           "marker": {
            "color": "#19d3f3",
            "size": [
             13582747
            ],
            "sizemode": "area",
            "sizeref": 36835.035,
            "symbol": "circle"
           },
           "mode": "markers",
           "name": "Ontario",
           "orientation": "v",
           "showlegend": true,
           "type": "scatter",
           "x": [
            240828
           ],
           "xaxis": "x",
           "y": [
            0.27
           ],
           "yaxis": "y"
          },
          {
           "hovertemplate": "Geography=Manitoba<br>Time=2014Q2<br>AverageMortgageAmount=%{x}<br>DelinquencyRate=%{y}<br>PopulationSize=%{marker.size}<extra></extra>",
           "ids": [
            "Manitoba"
           ],
           "legendgroup": "Manitoba",
           "marker": {
            "color": "#FF6692",
            "size": [
             1274407
            ],
            "sizemode": "area",
            "sizeref": 36835.035,
            "symbol": "circle"
           },
           "mode": "markers",
           "name": "Manitoba",
           "orientation": "v",
           "showlegend": true,
           "type": "scatter",
           "x": [
            184554
           ],
           "xaxis": "x",
           "y": [
            0.25
           ],
           "yaxis": "y"
          },
          {
           "hovertemplate": "Geography=Saskatchewan<br>Time=2014Q2<br>AverageMortgageAmount=%{x}<br>DelinquencyRate=%{y}<br>PopulationSize=%{marker.size}<extra></extra>",
           "ids": [
            "Saskatchewan"
           ],
           "legendgroup": "Saskatchewan",
           "marker": {
            "color": "#B6E880",
            "size": [
             1109631
            ],
            "sizemode": "area",
            "sizeref": 36835.035,
            "symbol": "circle"
           },
           "mode": "markers",
           "name": "Saskatchewan",
           "orientation": "v",
           "showlegend": true,
           "type": "scatter",
           "x": [
            218781
           ],
           "xaxis": "x",
           "y": [
            0.31
           ],
           "yaxis": "y"
          },
          {
           "hovertemplate": "Geography=Alberta<br>Time=2014Q2<br>AverageMortgageAmount=%{x}<br>DelinquencyRate=%{y}<br>PopulationSize=%{marker.size}<extra></extra>",
           "ids": [
            "Alberta"
           ],
           "legendgroup": "Alberta",
           "marker": {
            "color": "#FF97FF",
            "size": [
             4054280
            ],
            "sizemode": "area",
            "sizeref": 36835.035,
            "symbol": "circle"
           },
           "mode": "markers",
           "name": "Alberta",
           "orientation": "v",
           "showlegend": true,
           "type": "scatter",
           "x": [
            290722
           ],
           "xaxis": "x",
           "y": [
            0.37
           ],
           "yaxis": "y"
          },
          {
           "hovertemplate": "Geography=British Columbia<br>Time=2014Q2<br>AverageMortgageAmount=%{x}<br>DelinquencyRate=%{y}<br>PopulationSize=%{marker.size}<extra></extra>",
           "ids": [
            "British Columbia"
           ],
           "legendgroup": "British Columbia",
           "marker": {
            "color": "#FECB52",
            "size": [
             4684490
            ],
            "sizemode": "area",
            "sizeref": 36835.035,
            "symbol": "circle"
           },
           "mode": "markers",
           "name": "British Columbia",
           "orientation": "v",
           "showlegend": true,
           "type": "scatter",
           "x": [
            305138
           ],
           "xaxis": "x",
           "y": [
            0.4
           ],
           "yaxis": "y"
          }
         ],
         "name": "2014Q2"
        },
        {
         "data": [
          {
           "hovertemplate": "Geography=Newfoundland<br>Time=2014Q3<br>AverageMortgageAmount=%{x}<br>DelinquencyRate=%{y}<br>PopulationSize=%{marker.size}<extra></extra>",
           "ids": [
            "Newfoundland"
           ],
           "legendgroup": "Newfoundland",
           "marker": {
            "color": "#636efa",
            "size": [
             528159
            ],
            "sizemode": "area",
            "sizeref": 36835.035,
            "symbol": "circle"
           },
           "mode": "markers",
           "name": "Newfoundland",
           "orientation": "v",
           "showlegend": true,
           "type": "scatter",
           "x": [
            199560
           ],
           "xaxis": "x",
           "y": [
            0.26
           ],
           "yaxis": "y"
          },
          {
           "hovertemplate": "Geography=Prince Edward Island<br>Time=2014Q3<br>AverageMortgageAmount=%{x}<br>DelinquencyRate=%{y}<br>PopulationSize=%{marker.size}<extra></extra>",
           "ids": [
            "Prince Edward Island"
           ],
           "legendgroup": "Prince Edward Island",
           "marker": {
            "color": "#EF553B",
            "size": [
             144283
            ],
            "sizemode": "area",
            "sizeref": 36835.035,
            "symbol": "circle"
           },
           "mode": "markers",
           "name": "Prince Edward Island",
           "orientation": "v",
           "showlegend": true,
           "type": "scatter",
           "x": [
            143320
           ],
           "xaxis": "x",
           "y": [
            0.56
           ],
           "yaxis": "y"
          },
          {
           "hovertemplate": "Geography=Nova Scotia<br>Time=2014Q3<br>AverageMortgageAmount=%{x}<br>DelinquencyRate=%{y}<br>PopulationSize=%{marker.size}<extra></extra>",
           "ids": [
            "Nova Scotia"
           ],
           "legendgroup": "Nova Scotia",
           "marker": {
            "color": "#00cc96",
            "size": [
             938545
            ],
            "sizemode": "area",
            "sizeref": 36835.035,
            "symbol": "circle"
           },
           "mode": "markers",
           "name": "Nova Scotia",
           "orientation": "v",
           "showlegend": true,
           "type": "scatter",
           "x": [
            172827
           ],
           "xaxis": "x",
           "y": [
            0.67
           ],
           "yaxis": "y"
          },
          {
           "hovertemplate": "Geography=New Brunswick<br>Time=2014Q3<br>AverageMortgageAmount=%{x}<br>DelinquencyRate=%{y}<br>PopulationSize=%{marker.size}<extra></extra>",
           "ids": [
            "New Brunswick"
           ],
           "legendgroup": "New Brunswick",
           "marker": {
            "color": "#ab63fa",
            "size": [
             758976
            ],
            "sizemode": "area",
            "sizeref": 36835.035,
            "symbol": "circle"
           },
           "mode": "markers",
           "name": "New Brunswick",
           "orientation": "v",
           "showlegend": true,
           "type": "scatter",
           "x": [
            135592
           ],
           "xaxis": "x",
           "y": [
            0.72
           ],
           "yaxis": "y"
          },
          {
           "hovertemplate": "Geography=Québec<br>Time=2014Q3<br>AverageMortgageAmount=%{x}<br>DelinquencyRate=%{y}<br>PopulationSize=%{marker.size}<extra></extra>",
           "ids": [
            "Québec"
           ],
           "legendgroup": "Québec",
           "marker": {
            "color": "#FFA15A",
            "size": [
             8150183
            ],
            "sizemode": "area",
            "sizeref": 36835.035,
            "symbol": "circle"
           },
           "mode": "markers",
           "name": "Québec",
           "orientation": "v",
           "showlegend": true,
           "type": "scatter",
           "x": [
            166426
           ],
           "xaxis": "x",
           "y": [
            0.37
           ],
           "yaxis": "y"
          },
          {
           "hovertemplate": "Geography=Ontario<br>Time=2014Q3<br>AverageMortgageAmount=%{x}<br>DelinquencyRate=%{y}<br>PopulationSize=%{marker.size}<extra></extra>",
           "ids": [
            "Ontario"
           ],
           "legendgroup": "Ontario",
           "marker": {
            "color": "#19d3f3",
            "size": [
             13617553
            ],
            "sizemode": "area",
            "sizeref": 36835.035,
            "symbol": "circle"
           },
           "mode": "markers",
           "name": "Ontario",
           "orientation": "v",
           "showlegend": true,
           "type": "scatter",
           "x": [
            262838
           ],
           "xaxis": "x",
           "y": [
            0.27
           ],
           "yaxis": "y"
          },
          {
           "hovertemplate": "Geography=Manitoba<br>Time=2014Q3<br>AverageMortgageAmount=%{x}<br>DelinquencyRate=%{y}<br>PopulationSize=%{marker.size}<extra></extra>",
           "ids": [
            "Manitoba"
           ],
           "legendgroup": "Manitoba",
           "marker": {
            "color": "#FF6692",
            "size": [
             1279014
            ],
            "sizemode": "area",
            "sizeref": 36835.035,
            "symbol": "circle"
           },
           "mode": "markers",
           "name": "Manitoba",
           "orientation": "v",
           "showlegend": true,
           "type": "scatter",
           "x": [
            200051
           ],
           "xaxis": "x",
           "y": [
            0.24
           ],
           "yaxis": "y"
          },
          {
           "hovertemplate": "Geography=Saskatchewan<br>Time=2014Q3<br>AverageMortgageAmount=%{x}<br>DelinquencyRate=%{y}<br>PopulationSize=%{marker.size}<extra></extra>",
           "ids": [
            "Saskatchewan"
           ],
           "legendgroup": "Saskatchewan",
           "marker": {
            "color": "#B6E880",
            "size": [
             1112979
            ],
            "sizemode": "area",
            "sizeref": 36835.035,
            "symbol": "circle"
           },
           "mode": "markers",
           "name": "Saskatchewan",
           "orientation": "v",
           "showlegend": true,
           "type": "scatter",
           "x": [
            231768
           ],
           "xaxis": "x",
           "y": [
            0.32
           ],
           "yaxis": "y"
          },
          {
           "hovertemplate": "Geography=Alberta<br>Time=2014Q3<br>AverageMortgageAmount=%{x}<br>DelinquencyRate=%{y}<br>PopulationSize=%{marker.size}<extra></extra>",
           "ids": [
            "Alberta"
           ],
           "legendgroup": "Alberta",
           "marker": {
            "color": "#FF97FF",
            "size": [
             4083648
            ],
            "sizemode": "area",
            "sizeref": 36835.035,
            "symbol": "circle"
           },
           "mode": "markers",
           "name": "Alberta",
           "orientation": "v",
           "showlegend": true,
           "type": "scatter",
           "x": [
            304374
           ],
           "xaxis": "x",
           "y": [
            0.34
           ],
           "yaxis": "y"
          },
          {
           "hovertemplate": "Geography=British Columbia<br>Time=2014Q3<br>AverageMortgageAmount=%{x}<br>DelinquencyRate=%{y}<br>PopulationSize=%{marker.size}<extra></extra>",
           "ids": [
            "British Columbia"
           ],
           "legendgroup": "British Columbia",
           "marker": {
            "color": "#FECB52",
            "size": [
             4707103
            ],
            "sizemode": "area",
            "sizeref": 36835.035,
            "symbol": "circle"
           },
           "mode": "markers",
           "name": "British Columbia",
           "orientation": "v",
           "showlegend": true,
           "type": "scatter",
           "x": [
            321625
           ],
           "xaxis": "x",
           "y": [
            0.4
           ],
           "yaxis": "y"
          }
         ],
         "name": "2014Q3"
        },
        {
         "data": [
          {
           "hovertemplate": "Geography=Newfoundland<br>Time=2014Q4<br>AverageMortgageAmount=%{x}<br>DelinquencyRate=%{y}<br>PopulationSize=%{marker.size}<extra></extra>",
           "ids": [
            "Newfoundland"
           ],
           "legendgroup": "Newfoundland",
           "marker": {
            "color": "#636efa",
            "size": [
             528461
            ],
            "sizemode": "area",
            "sizeref": 36835.035,
            "symbol": "circle"
           },
           "mode": "markers",
           "name": "Newfoundland",
           "orientation": "v",
           "showlegend": true,
           "type": "scatter",
           "x": [
            200310
           ],
           "xaxis": "x",
           "y": [
            0.28
           ],
           "yaxis": "y"
          },
          {
           "hovertemplate": "Geography=Prince Edward Island<br>Time=2014Q4<br>AverageMortgageAmount=%{x}<br>DelinquencyRate=%{y}<br>PopulationSize=%{marker.size}<extra></extra>",
           "ids": [
            "Prince Edward Island"
           ],
           "legendgroup": "Prince Edward Island",
           "marker": {
            "color": "#EF553B",
            "size": [
             144538
            ],
            "sizemode": "area",
            "sizeref": 36835.035,
            "symbol": "circle"
           },
           "mode": "markers",
           "name": "Prince Edward Island",
           "orientation": "v",
           "showlegend": true,
           "type": "scatter",
           "x": [
            141232
           ],
           "xaxis": "x",
           "y": [
            0.57
           ],
           "yaxis": "y"
          },
          {
           "hovertemplate": "Geography=Nova Scotia<br>Time=2014Q4<br>AverageMortgageAmount=%{x}<br>DelinquencyRate=%{y}<br>PopulationSize=%{marker.size}<extra></extra>",
           "ids": [
            "Nova Scotia"
           ],
           "legendgroup": "Nova Scotia",
           "marker": {
            "color": "#00cc96",
            "size": [
             938972
            ],
            "sizemode": "area",
            "sizeref": 36835.035,
            "symbol": "circle"
           },
           "mode": "markers",
           "name": "Nova Scotia",
           "orientation": "v",
           "showlegend": true,
           "type": "scatter",
           "x": [
            163584
           ],
           "xaxis": "x",
           "y": [
            0.68
           ],
           "yaxis": "y"
          },
          {
           "hovertemplate": "Geography=New Brunswick<br>Time=2014Q4<br>AverageMortgageAmount=%{x}<br>DelinquencyRate=%{y}<br>PopulationSize=%{marker.size}<extra></extra>",
           "ids": [
            "New Brunswick"
           ],
           "legendgroup": "New Brunswick",
           "marker": {
            "color": "#ab63fa",
            "size": [
             759524
            ],
            "sizemode": "area",
            "sizeref": 36835.035,
            "symbol": "circle"
           },
           "mode": "markers",
           "name": "New Brunswick",
           "orientation": "v",
           "showlegend": true,
           "type": "scatter",
           "x": [
            132766
           ],
           "xaxis": "x",
           "y": [
            0.72
           ],
           "yaxis": "y"
          },
          {
           "hovertemplate": "Geography=Québec<br>Time=2014Q4<br>AverageMortgageAmount=%{x}<br>DelinquencyRate=%{y}<br>PopulationSize=%{marker.size}<extra></extra>",
           "ids": [
            "Québec"
           ],
           "legendgroup": "Québec",
           "marker": {
            "color": "#FFA15A",
            "size": [
             8165447
            ],
            "sizemode": "area",
            "sizeref": 36835.035,
            "symbol": "circle"
           },
           "mode": "markers",
           "name": "Québec",
           "orientation": "v",
           "showlegend": true,
           "type": "scatter",
           "x": [
            160073
           ],
           "xaxis": "x",
           "y": [
            0.39
           ],
           "yaxis": "y"
          },
          {
           "hovertemplate": "Geography=Ontario<br>Time=2014Q4<br>AverageMortgageAmount=%{x}<br>DelinquencyRate=%{y}<br>PopulationSize=%{marker.size}<extra></extra>",
           "ids": [
            "Ontario"
           ],
           "legendgroup": "Ontario",
           "marker": {
            "color": "#19d3f3",
            "size": [
             13661314
            ],
            "sizemode": "area",
            "sizeref": 36835.035,
            "symbol": "circle"
           },
           "mode": "markers",
           "name": "Ontario",
           "orientation": "v",
           "showlegend": true,
           "type": "scatter",
           "x": [
            257244
           ],
           "xaxis": "x",
           "y": [
            0.26
           ],
           "yaxis": "y"
          },
          {
           "hovertemplate": "Geography=Manitoba<br>Time=2014Q4<br>AverageMortgageAmount=%{x}<br>DelinquencyRate=%{y}<br>PopulationSize=%{marker.size}<extra></extra>",
           "ids": [
            "Manitoba"
           ],
           "legendgroup": "Manitoba",
           "marker": {
            "color": "#FF6692",
            "size": [
             1283366
            ],
            "sizemode": "area",
            "sizeref": 36835.035,
            "symbol": "circle"
           },
           "mode": "markers",
           "name": "Manitoba",
           "orientation": "v",
           "showlegend": true,
           "type": "scatter",
           "x": [
            197527
           ],
           "xaxis": "x",
           "y": [
            0.27
           ],
           "yaxis": "y"
          },
          {
           "hovertemplate": "Geography=Saskatchewan<br>Time=2014Q4<br>AverageMortgageAmount=%{x}<br>DelinquencyRate=%{y}<br>PopulationSize=%{marker.size}<extra></extra>",
           "ids": [
            "Saskatchewan"
           ],
           "legendgroup": "Saskatchewan",
           "marker": {
            "color": "#B6E880",
            "size": [
             1116203
            ],
            "sizemode": "area",
            "sizeref": 36835.035,
            "symbol": "circle"
           },
           "mode": "markers",
           "name": "Saskatchewan",
           "orientation": "v",
           "showlegend": true,
           "type": "scatter",
           "x": [
            233854
           ],
           "xaxis": "x",
           "y": [
            0.36
           ],
           "yaxis": "y"
          },
          {
           "hovertemplate": "Geography=Alberta<br>Time=2014Q4<br>AverageMortgageAmount=%{x}<br>DelinquencyRate=%{y}<br>PopulationSize=%{marker.size}<extra></extra>",
           "ids": [
            "Alberta"
           ],
           "legendgroup": "Alberta",
           "marker": {
            "color": "#FF97FF",
            "size": [
             4106056
            ],
            "sizemode": "area",
            "sizeref": 36835.035,
            "symbol": "circle"
           },
           "mode": "markers",
           "name": "Alberta",
           "orientation": "v",
           "showlegend": true,
           "type": "scatter",
           "x": [
            305558
           ],
           "xaxis": "x",
           "y": [
            0.32
           ],
           "yaxis": "y"
          },
          {
           "hovertemplate": "Geography=British Columbia<br>Time=2014Q4<br>AverageMortgageAmount=%{x}<br>DelinquencyRate=%{y}<br>PopulationSize=%{marker.size}<extra></extra>",
           "ids": [
            "British Columbia"
           ],
           "legendgroup": "British Columbia",
           "marker": {
            "color": "#FECB52",
            "size": [
             4737725
            ],
            "sizemode": "area",
            "sizeref": 36835.035,
            "symbol": "circle"
           },
           "mode": "markers",
           "name": "British Columbia",
           "orientation": "v",
           "showlegend": true,
           "type": "scatter",
           "x": [
            323373
           ],
           "xaxis": "x",
           "y": [
            0.4
           ],
           "yaxis": "y"
          }
         ],
         "name": "2014Q4"
        },
        {
         "data": [
          {
           "hovertemplate": "Geography=Newfoundland<br>Time=2015Q1<br>AverageMortgageAmount=%{x}<br>DelinquencyRate=%{y}<br>PopulationSize=%{marker.size}<extra></extra>",
           "ids": [
            "Newfoundland"
           ],
           "legendgroup": "Newfoundland",
           "marker": {
            "color": "#636efa",
            "size": [
             528361
            ],
            "sizemode": "area",
            "sizeref": 36835.035,
            "symbol": "circle"
           },
           "mode": "markers",
           "name": "Newfoundland",
           "orientation": "v",
           "showlegend": true,
           "type": "scatter",
           "x": [
            197406
           ],
           "xaxis": "x",
           "y": [
            0.37
           ],
           "yaxis": "y"
          },
          {
           "hovertemplate": "Geography=Prince Edward Island<br>Time=2015Q1<br>AverageMortgageAmount=%{x}<br>DelinquencyRate=%{y}<br>PopulationSize=%{marker.size}<extra></extra>",
           "ids": [
            "Prince Edward Island"
           ],
           "legendgroup": "Prince Edward Island",
           "marker": {
            "color": "#EF553B",
            "size": [
             144368
            ],
            "sizemode": "area",
            "sizeref": 36835.035,
            "symbol": "circle"
           },
           "mode": "markers",
           "name": "Prince Edward Island",
           "orientation": "v",
           "showlegend": true,
           "type": "scatter",
           "x": [
            146885
           ],
           "xaxis": "x",
           "y": [
            0.68
           ],
           "yaxis": "y"
          },
          {
           "hovertemplate": "Geography=Nova Scotia<br>Time=2015Q1<br>AverageMortgageAmount=%{x}<br>DelinquencyRate=%{y}<br>PopulationSize=%{marker.size}<extra></extra>",
           "ids": [
            "Nova Scotia"
           ],
           "legendgroup": "Nova Scotia",
           "marker": {
            "color": "#00cc96",
            "size": [
             938296
            ],
            "sizemode": "area",
            "sizeref": 36835.035,
            "symbol": "circle"
           },
           "mode": "markers",
           "name": "Nova Scotia",
           "orientation": "v",
           "showlegend": true,
           "type": "scatter",
           "x": [
            163607
           ],
           "xaxis": "x",
           "y": [
            0.7
           ],
           "yaxis": "y"
          },
          {
           "hovertemplate": "Geography=New Brunswick<br>Time=2015Q1<br>AverageMortgageAmount=%{x}<br>DelinquencyRate=%{y}<br>PopulationSize=%{marker.size}<extra></extra>",
           "ids": [
            "New Brunswick"
           ],
           "legendgroup": "New Brunswick",
           "marker": {
            "color": "#ab63fa",
            "size": [
             759617
            ],
            "sizemode": "area",
            "sizeref": 36835.035,
            "symbol": "circle"
           },
           "mode": "markers",
           "name": "New Brunswick",
           "orientation": "v",
           "showlegend": true,
           "type": "scatter",
           "x": [
            132025
           ],
           "xaxis": "x",
           "y": [
            0.79
           ],
           "yaxis": "y"
          },
          {
           "hovertemplate": "Geography=Québec<br>Time=2015Q1<br>AverageMortgageAmount=%{x}<br>DelinquencyRate=%{y}<br>PopulationSize=%{marker.size}<extra></extra>",
           "ids": [
            "Québec"
           ],
           "legendgroup": "Québec",
           "marker": {
            "color": "#FFA15A",
            "size": [
             8163132
            ],
            "sizemode": "area",
            "sizeref": 36835.035,
            "symbol": "circle"
           },
           "mode": "markers",
           "name": "Québec",
           "orientation": "v",
           "showlegend": true,
           "type": "scatter",
           "x": [
            161563
           ],
           "xaxis": "x",
           "y": [
            0.42
           ],
           "yaxis": "y"
          },
          {
           "hovertemplate": "Geography=Ontario<br>Time=2015Q1<br>AverageMortgageAmount=%{x}<br>DelinquencyRate=%{y}<br>PopulationSize=%{marker.size}<extra></extra>",
           "ids": [
            "Ontario"
           ],
           "legendgroup": "Ontario",
           "marker": {
            "color": "#19d3f3",
            "size": [
             13657737
            ],
            "sizemode": "area",
            "sizeref": 36835.035,
            "symbol": "circle"
           },
           "mode": "markers",
           "name": "Ontario",
           "orientation": "v",
           "showlegend": true,
           "type": "scatter",
           "x": [
            254854
           ],
           "xaxis": "x",
           "y": [
            0.27
           ],
           "yaxis": "y"
          },
          {
           "hovertemplate": "Geography=Manitoba<br>Time=2015Q1<br>AverageMortgageAmount=%{x}<br>DelinquencyRate=%{y}<br>PopulationSize=%{marker.size}<extra></extra>",
           "ids": [
            "Manitoba"
           ],
           "legendgroup": "Manitoba",
           "marker": {
            "color": "#FF6692",
            "size": [
             1286453
            ],
            "sizemode": "area",
            "sizeref": 36835.035,
            "symbol": "circle"
           },
           "mode": "markers",
           "name": "Manitoba",
           "orientation": "v",
           "showlegend": true,
           "type": "scatter",
           "x": [
            191444
           ],
           "xaxis": "x",
           "y": [
            0.31
           ],
           "yaxis": "y"
          },
          {
           "hovertemplate": "Geography=Saskatchewan<br>Time=2015Q1<br>AverageMortgageAmount=%{x}<br>DelinquencyRate=%{y}<br>PopulationSize=%{marker.size}<extra></extra>",
           "ids": [
            "Saskatchewan"
           ],
           "legendgroup": "Saskatchewan",
           "marker": {
            "color": "#B6E880",
            "size": [
             1118181
            ],
            "sizemode": "area",
            "sizeref": 36835.035,
            "symbol": "circle"
           },
           "mode": "markers",
           "name": "Saskatchewan",
           "orientation": "v",
           "showlegend": true,
           "type": "scatter",
           "x": [
            228569
           ],
           "xaxis": "x",
           "y": [
            0.41
           ],
           "yaxis": "y"
          },
          {
           "hovertemplate": "Geography=Alberta<br>Time=2015Q1<br>AverageMortgageAmount=%{x}<br>DelinquencyRate=%{y}<br>PopulationSize=%{marker.size}<extra></extra>",
           "ids": [
            "Alberta"
           ],
           "legendgroup": "Alberta",
           "marker": {
            "color": "#FF97FF",
            "size": [
             4116047
            ],
            "sizemode": "area",
            "sizeref": 36835.035,
            "symbol": "circle"
           },
           "mode": "markers",
           "name": "Alberta",
           "orientation": "v",
           "showlegend": true,
           "type": "scatter",
           "x": [
            303976
           ],
           "xaxis": "x",
           "y": [
            0.32
           ],
           "yaxis": "y"
          },
          {
           "hovertemplate": "Geography=British Columbia<br>Time=2015Q1<br>AverageMortgageAmount=%{x}<br>DelinquencyRate=%{y}<br>PopulationSize=%{marker.size}<extra></extra>",
           "ids": [
            "British Columbia"
           ],
           "legendgroup": "British Columbia",
           "marker": {
            "color": "#FECB52",
            "size": [
             4745468
            ],
            "sizemode": "area",
            "sizeref": 36835.035,
            "symbol": "circle"
           },
           "mode": "markers",
           "name": "British Columbia",
           "orientation": "v",
           "showlegend": true,
           "type": "scatter",
           "x": [
            325035
           ],
           "xaxis": "x",
           "y": [
            0.4
           ],
           "yaxis": "y"
          }
         ],
         "name": "2015Q1"
        },
        {
         "data": [
          {
           "hovertemplate": "Geography=Newfoundland<br>Time=2015Q2<br>AverageMortgageAmount=%{x}<br>DelinquencyRate=%{y}<br>PopulationSize=%{marker.size}<extra></extra>",
           "ids": [
            "Newfoundland"
           ],
           "legendgroup": "Newfoundland",
           "marker": {
            "color": "#636efa",
            "size": [
             528063
            ],
            "sizemode": "area",
            "sizeref": 36835.035,
            "symbol": "circle"
           },
           "mode": "markers",
           "name": "Newfoundland",
           "orientation": "v",
           "showlegend": true,
           "type": "scatter",
           "x": [
            193956
           ],
           "xaxis": "x",
           "y": [
            0.37
           ],
           "yaxis": "y"
          },
          {
           "hovertemplate": "Geography=Prince Edward Island<br>Time=2015Q2<br>AverageMortgageAmount=%{x}<br>DelinquencyRate=%{y}<br>PopulationSize=%{marker.size}<extra></extra>",
           "ids": [
            "Prince Edward Island"
           ],
           "legendgroup": "Prince Edward Island",
           "marker": {
            "color": "#EF553B",
            "size": [
             144259
            ],
            "sizemode": "area",
            "sizeref": 36835.035,
            "symbol": "circle"
           },
           "mode": "markers",
           "name": "Prince Edward Island",
           "orientation": "v",
           "showlegend": true,
           "type": "scatter",
           "x": [
            146818
           ],
           "xaxis": "x",
           "y": [
            0.62
           ],
           "yaxis": "y"
          },
          {
           "hovertemplate": "Geography=Nova Scotia<br>Time=2015Q2<br>AverageMortgageAmount=%{x}<br>DelinquencyRate=%{y}<br>PopulationSize=%{marker.size}<extra></extra>",
           "ids": [
            "Nova Scotia"
           ],
           "legendgroup": "Nova Scotia",
           "marker": {
            "color": "#00cc96",
            "size": [
             936271
            ],
            "sizemode": "area",
            "sizeref": 36835.035,
            "symbol": "circle"
           },
           "mode": "markers",
           "name": "Nova Scotia",
           "orientation": "v",
           "showlegend": true,
           "type": "scatter",
           "x": [
            165288
           ],
           "xaxis": "x",
           "y": [
            0.67
           ],
           "yaxis": "y"
          },
          {
           "hovertemplate": "Geography=New Brunswick<br>Time=2015Q2<br>AverageMortgageAmount=%{x}<br>DelinquencyRate=%{y}<br>PopulationSize=%{marker.size}<extra></extra>",
           "ids": [
            "New Brunswick"
           ],
           "legendgroup": "New Brunswick",
           "marker": {
            "color": "#ab63fa",
            "size": [
             758948
            ],
            "sizemode": "area",
            "sizeref": 36835.035,
            "symbol": "circle"
           },
           "mode": "markers",
           "name": "New Brunswick",
           "orientation": "v",
           "showlegend": true,
           "type": "scatter",
           "x": [
            128378
           ],
           "xaxis": "x",
           "y": [
            0.8
           ],
           "yaxis": "y"
          },
          {
           "hovertemplate": "Geography=Québec<br>Time=2015Q2<br>AverageMortgageAmount=%{x}<br>DelinquencyRate=%{y}<br>PopulationSize=%{marker.size}<extra></extra>",
           "ids": [
            "Québec"
           ],
           "legendgroup": "Québec",
           "marker": {
            "color": "#FFA15A",
            "size": [
             8163063
            ],
            "sizemode": "area",
            "sizeref": 36835.035,
            "symbol": "circle"
           },
           "mode": "markers",
           "name": "Québec",
           "orientation": "v",
           "showlegend": true,
           "type": "scatter",
           "x": [
            164764
           ],
           "xaxis": "x",
           "y": [
            0.41
           ],
           "yaxis": "y"
          },
          {
           "hovertemplate": "Geography=Ontario<br>Time=2015Q2<br>AverageMortgageAmount=%{x}<br>DelinquencyRate=%{y}<br>PopulationSize=%{marker.size}<extra></extra>",
           "ids": [
            "Ontario"
           ],
           "legendgroup": "Ontario",
           "marker": {
            "color": "#19d3f3",
            "size": [
             13669860
            ],
            "sizemode": "area",
            "sizeref": 36835.035,
            "symbol": "circle"
           },
           "mode": "markers",
           "name": "Ontario",
           "orientation": "v",
           "showlegend": true,
           "type": "scatter",
           "x": [
            259093
           ],
           "xaxis": "x",
           "y": [
            0.25
           ],
           "yaxis": "y"
          },
          {
           "hovertemplate": "Geography=Manitoba<br>Time=2015Q2<br>AverageMortgageAmount=%{x}<br>DelinquencyRate=%{y}<br>PopulationSize=%{marker.size}<extra></extra>",
           "ids": [
            "Manitoba"
           ],
           "legendgroup": "Manitoba",
           "marker": {
            "color": "#FF6692",
            "size": [
             1288094
            ],
            "sizemode": "area",
            "sizeref": 36835.035,
            "symbol": "circle"
           },
           "mode": "markers",
           "name": "Manitoba",
           "orientation": "v",
           "showlegend": true,
           "type": "scatter",
           "x": [
            190383
           ],
           "xaxis": "x",
           "y": [
            0.3
           ],
           "yaxis": "y"
          },
          {
           "hovertemplate": "Geography=Saskatchewan<br>Time=2015Q2<br>AverageMortgageAmount=%{x}<br>DelinquencyRate=%{y}<br>PopulationSize=%{marker.size}<extra></extra>",
           "ids": [
            "Saskatchewan"
           ],
           "legendgroup": "Saskatchewan",
           "marker": {
            "color": "#B6E880",
            "size": [
             1118806
            ],
            "sizemode": "area",
            "sizeref": 36835.035,
            "symbol": "circle"
           },
           "mode": "markers",
           "name": "Saskatchewan",
           "orientation": "v",
           "showlegend": true,
           "type": "scatter",
           "x": [
            226957
           ],
           "xaxis": "x",
           "y": [
            0.43
           ],
           "yaxis": "y"
          },
          {
           "hovertemplate": "Geography=Alberta<br>Time=2015Q2<br>AverageMortgageAmount=%{x}<br>DelinquencyRate=%{y}<br>PopulationSize=%{marker.size}<extra></extra>",
           "ids": [
            "Alberta"
           ],
           "legendgroup": "Alberta",
           "marker": {
            "color": "#FF97FF",
            "size": [
             4128300
            ],
            "sizemode": "area",
            "sizeref": 36835.035,
            "symbol": "circle"
           },
           "mode": "markers",
           "name": "Alberta",
           "orientation": "v",
           "showlegend": true,
           "type": "scatter",
           "x": [
            299837
           ],
           "xaxis": "x",
           "y": [
            0.33
           ],
           "yaxis": "y"
          },
          {
           "hovertemplate": "Geography=British Columbia<br>Time=2015Q2<br>AverageMortgageAmount=%{x}<br>DelinquencyRate=%{y}<br>PopulationSize=%{marker.size}<extra></extra>",
           "ids": [
            "British Columbia"
           ],
           "legendgroup": "British Columbia",
           "marker": {
            "color": "#FECB52",
            "size": [
             4757759
            ],
            "sizemode": "area",
            "sizeref": 36835.035,
            "symbol": "circle"
           },
           "mode": "markers",
           "name": "British Columbia",
           "orientation": "v",
           "showlegend": true,
           "type": "scatter",
           "x": [
            328540
           ],
           "xaxis": "x",
           "y": [
            0.38
           ],
           "yaxis": "y"
          }
         ],
         "name": "2015Q2"
        },
        {
         "data": [
          {
           "hovertemplate": "Geography=Newfoundland<br>Time=2015Q3<br>AverageMortgageAmount=%{x}<br>DelinquencyRate=%{y}<br>PopulationSize=%{marker.size}<extra></extra>",
           "ids": [
            "Newfoundland"
           ],
           "legendgroup": "Newfoundland",
           "marker": {
            "color": "#636efa",
            "size": [
             528117
            ],
            "sizemode": "area",
            "sizeref": 36835.035,
            "symbol": "circle"
           },
           "mode": "markers",
           "name": "Newfoundland",
           "orientation": "v",
           "showlegend": true,
           "type": "scatter",
           "x": [
            199758
           ],
           "xaxis": "x",
           "y": [
            0.37
           ],
           "yaxis": "y"
          },
          {
           "hovertemplate": "Geography=Prince Edward Island<br>Time=2015Q3<br>AverageMortgageAmount=%{x}<br>DelinquencyRate=%{y}<br>PopulationSize=%{marker.size}<extra></extra>",
           "ids": [
            "Prince Edward Island"
           ],
           "legendgroup": "Prince Edward Island",
           "marker": {
            "color": "#EF553B",
            "size": [
             144546
            ],
            "sizemode": "area",
            "sizeref": 36835.035,
            "symbol": "circle"
           },
           "mode": "markers",
           "name": "Prince Edward Island",
           "orientation": "v",
           "showlegend": true,
           "type": "scatter",
           "x": [
            150403
           ],
           "xaxis": "x",
           "y": [
            0.63
           ],
           "yaxis": "y"
          },
          {
           "hovertemplate": "Geography=Nova Scotia<br>Time=2015Q3<br>AverageMortgageAmount=%{x}<br>DelinquencyRate=%{y}<br>PopulationSize=%{marker.size}<extra></extra>",
           "ids": [
            "Nova Scotia"
           ],
           "legendgroup": "Nova Scotia",
           "marker": {
            "color": "#00cc96",
            "size": [
             936525
            ],
            "sizemode": "area",
            "sizeref": 36835.035,
            "symbol": "circle"
           },
           "mode": "markers",
           "name": "Nova Scotia",
           "orientation": "v",
           "showlegend": true,
           "type": "scatter",
           "x": [
            178091
           ],
           "xaxis": "x",
           "y": [
            0.66
           ],
           "yaxis": "y"
          },
          {
           "hovertemplate": "Geography=New Brunswick<br>Time=2015Q3<br>AverageMortgageAmount=%{x}<br>DelinquencyRate=%{y}<br>PopulationSize=%{marker.size}<extra></extra>",
           "ids": [
            "New Brunswick"
           ],
           "legendgroup": "New Brunswick",
           "marker": {
            "color": "#ab63fa",
            "size": [
             758842
            ],
            "sizemode": "area",
            "sizeref": 36835.035,
            "symbol": "circle"
           },
           "mode": "markers",
           "name": "New Brunswick",
           "orientation": "v",
           "showlegend": true,
           "type": "scatter",
           "x": [
            137565
           ],
           "xaxis": "x",
           "y": [
            0.81
           ],
           "yaxis": "y"
          },
          {
           "hovertemplate": "Geography=Québec<br>Time=2015Q3<br>AverageMortgageAmount=%{x}<br>DelinquencyRate=%{y}<br>PopulationSize=%{marker.size}<extra></extra>",
           "ids": [
            "Québec"
           ],
           "legendgroup": "Québec",
           "marker": {
            "color": "#FFA15A",
            "size": [
             8175272
            ],
            "sizemode": "area",
            "sizeref": 36835.035,
            "symbol": "circle"
           },
           "mode": "markers",
           "name": "Québec",
           "orientation": "v",
           "showlegend": true,
           "type": "scatter",
           "x": [
            170403
           ],
           "xaxis": "x",
           "y": [
            0.41
           ],
           "yaxis": "y"
          },
          {
           "hovertemplate": "Geography=Ontario<br>Time=2015Q3<br>AverageMortgageAmount=%{x}<br>DelinquencyRate=%{y}<br>PopulationSize=%{marker.size}<extra></extra>",
           "ids": [
            "Ontario"
           ],
           "legendgroup": "Ontario",
           "marker": {
            "color": "#19d3f3",
            "size": [
             13707118
            ],
            "sizemode": "area",
            "sizeref": 36835.035,
            "symbol": "circle"
           },
           "mode": "markers",
           "name": "Ontario",
           "orientation": "v",
           "showlegend": true,
           "type": "scatter",
           "x": [
            281259
           ],
           "xaxis": "x",
           "y": [
            0.24
           ],
           "yaxis": "y"
          },
          {
           "hovertemplate": "Geography=Manitoba<br>Time=2015Q3<br>AverageMortgageAmount=%{x}<br>DelinquencyRate=%{y}<br>PopulationSize=%{marker.size}<extra></extra>",
           "ids": [
            "Manitoba"
           ],
           "legendgroup": "Manitoba",
           "marker": {
            "color": "#FF6692",
            "size": [
             1292227
            ],
            "sizemode": "area",
            "sizeref": 36835.035,
            "symbol": "circle"
           },
           "mode": "markers",
           "name": "Manitoba",
           "orientation": "v",
           "showlegend": true,
           "type": "scatter",
           "x": [
            206275
           ],
           "xaxis": "x",
           "y": [
            0.29
           ],
           "yaxis": "y"
          },
          {
           "hovertemplate": "Geography=Saskatchewan<br>Time=2015Q3<br>AverageMortgageAmount=%{x}<br>DelinquencyRate=%{y}<br>PopulationSize=%{marker.size}<extra></extra>",
           "ids": [
            "Saskatchewan"
           ],
           "legendgroup": "Saskatchewan",
           "marker": {
            "color": "#B6E880",
            "size": [
             1120967
            ],
            "sizemode": "area",
            "sizeref": 36835.035,
            "symbol": "circle"
           },
           "mode": "markers",
           "name": "Saskatchewan",
           "orientation": "v",
           "showlegend": true,
           "type": "scatter",
           "x": [
            234840
           ],
           "xaxis": "x",
           "y": [
            0.45
           ],
           "yaxis": "y"
          },
          {
           "hovertemplate": "Geography=Alberta<br>Time=2015Q3<br>AverageMortgageAmount=%{x}<br>DelinquencyRate=%{y}<br>PopulationSize=%{marker.size}<extra></extra>",
           "ids": [
            "Alberta"
           ],
           "legendgroup": "Alberta",
           "marker": {
            "color": "#FF97FF",
            "size": [
             4144491
            ],
            "sizemode": "area",
            "sizeref": 36835.035,
            "symbol": "circle"
           },
           "mode": "markers",
           "name": "Alberta",
           "orientation": "v",
           "showlegend": true,
           "type": "scatter",
           "x": [
            309953
           ],
           "xaxis": "x",
           "y": [
            0.35
           ],
           "yaxis": "y"
          },
          {
           "hovertemplate": "Geography=British Columbia<br>Time=2015Q3<br>AverageMortgageAmount=%{x}<br>DelinquencyRate=%{y}<br>PopulationSize=%{marker.size}<extra></extra>",
           "ids": [
            "British Columbia"
           ],
           "legendgroup": "British Columbia",
           "marker": {
            "color": "#FECB52",
            "size": [
             4776388
            ],
            "sizemode": "area",
            "sizeref": 36835.035,
            "symbol": "circle"
           },
           "mode": "markers",
           "name": "British Columbia",
           "orientation": "v",
           "showlegend": true,
           "type": "scatter",
           "x": [
            350672
           ],
           "xaxis": "x",
           "y": [
            0.34
           ],
           "yaxis": "y"
          }
         ],
         "name": "2015Q3"
        },
        {
         "data": [
          {
           "hovertemplate": "Geography=Newfoundland<br>Time=2015Q4<br>AverageMortgageAmount=%{x}<br>DelinquencyRate=%{y}<br>PopulationSize=%{marker.size}<extra></extra>",
           "ids": [
            "Newfoundland"
           ],
           "legendgroup": "Newfoundland",
           "marker": {
            "color": "#636efa",
            "size": [
             528696
            ],
            "sizemode": "area",
            "sizeref": 36835.035,
            "symbol": "circle"
           },
           "mode": "markers",
           "name": "Newfoundland",
           "orientation": "v",
           "showlegend": true,
           "type": "scatter",
           "x": [
            202487
           ],
           "xaxis": "x",
           "y": [
            0.41
           ],
           "yaxis": "y"
          },
          {
           "hovertemplate": "Geography=Prince Edward Island<br>Time=2015Q4<br>AverageMortgageAmount=%{x}<br>DelinquencyRate=%{y}<br>PopulationSize=%{marker.size}<extra></extra>",
           "ids": [
            "Prince Edward Island"
           ],
           "legendgroup": "Prince Edward Island",
           "marker": {
            "color": "#EF553B",
            "size": [
             144894
            ],
            "sizemode": "area",
            "sizeref": 36835.035,
            "symbol": "circle"
           },
           "mode": "markers",
           "name": "Prince Edward Island",
           "orientation": "v",
           "showlegend": true,
           "type": "scatter",
           "x": [
            155926
           ],
           "xaxis": "x",
           "y": [
            0.67
           ],
           "yaxis": "y"
          },
          {
           "hovertemplate": "Geography=Nova Scotia<br>Time=2015Q4<br>AverageMortgageAmount=%{x}<br>DelinquencyRate=%{y}<br>PopulationSize=%{marker.size}<extra></extra>",
           "ids": [
            "Nova Scotia"
           ],
           "legendgroup": "Nova Scotia",
           "marker": {
            "color": "#00cc96",
            "size": [
             938320
            ],
            "sizemode": "area",
            "sizeref": 36835.035,
            "symbol": "circle"
           },
           "mode": "markers",
           "name": "Nova Scotia",
           "orientation": "v",
           "showlegend": true,
           "type": "scatter",
           "x": [
            172863
           ],
           "xaxis": "x",
           "y": [
            0.68
           ],
           "yaxis": "y"
          },
          {
           "hovertemplate": "Geography=New Brunswick<br>Time=2015Q4<br>AverageMortgageAmount=%{x}<br>DelinquencyRate=%{y}<br>PopulationSize=%{marker.size}<extra></extra>",
           "ids": [
            "New Brunswick"
           ],
           "legendgroup": "New Brunswick",
           "marker": {
            "color": "#ab63fa",
            "size": [
             759778
            ],
            "sizemode": "area",
            "sizeref": 36835.035,
            "symbol": "circle"
           },
           "mode": "markers",
           "name": "New Brunswick",
           "orientation": "v",
           "showlegend": true,
           "type": "scatter",
           "x": [
            137039
           ],
           "xaxis": "x",
           "y": [
            0.79
           ],
           "yaxis": "y"
          },
          {
           "hovertemplate": "Geography=Québec<br>Time=2015Q4<br>AverageMortgageAmount=%{x}<br>DelinquencyRate=%{y}<br>PopulationSize=%{marker.size}<extra></extra>",
           "ids": [
            "Québec"
           ],
           "legendgroup": "Québec",
           "marker": {
            "color": "#FFA15A",
            "size": [
             8190014
            ],
            "sizemode": "area",
            "sizeref": 36835.035,
            "symbol": "circle"
           },
           "mode": "markers",
           "name": "Québec",
           "orientation": "v",
           "showlegend": true,
           "type": "scatter",
           "x": [
            164235
           ],
           "xaxis": "x",
           "y": [
            0.42
           ],
           "yaxis": "y"
          },
          {
           "hovertemplate": "Geography=Ontario<br>Time=2015Q4<br>AverageMortgageAmount=%{x}<br>DelinquencyRate=%{y}<br>PopulationSize=%{marker.size}<extra></extra>",
           "ids": [
            "Ontario"
           ],
           "legendgroup": "Ontario",
           "marker": {
            "color": "#19d3f3",
            "size": [
             13757688
            ],
            "sizemode": "area",
            "sizeref": 36835.035,
            "symbol": "circle"
           },
           "mode": "markers",
           "name": "Ontario",
           "orientation": "v",
           "showlegend": true,
           "type": "scatter",
           "x": [
            277802
           ],
           "xaxis": "x",
           "y": [
            0.23
           ],
           "yaxis": "y"
          },
          {
           "hovertemplate": "Geography=Manitoba<br>Time=2015Q4<br>AverageMortgageAmount=%{x}<br>DelinquencyRate=%{y}<br>PopulationSize=%{marker.size}<extra></extra>",
           "ids": [
            "Manitoba"
           ],
           "legendgroup": "Manitoba",
           "marker": {
            "color": "#FF6692",
            "size": [
             1297329
            ],
            "sizemode": "area",
            "sizeref": 36835.035,
            "symbol": "circle"
           },
           "mode": "markers",
           "name": "Manitoba",
           "orientation": "v",
           "showlegend": true,
           "type": "scatter",
           "x": [
            201640
           ],
           "xaxis": "x",
           "y": [
            0.33
           ],
           "yaxis": "y"
          },
          {
           "hovertemplate": "Geography=Saskatchewan<br>Time=2015Q4<br>AverageMortgageAmount=%{x}<br>DelinquencyRate=%{y}<br>PopulationSize=%{marker.size}<extra></extra>",
           "ids": [
            "Saskatchewan"
           ],
           "legendgroup": "Saskatchewan",
           "marker": {
            "color": "#B6E880",
            "size": [
             1124919
            ],
            "sizemode": "area",
            "sizeref": 36835.035,
            "symbol": "circle"
           },
           "mode": "markers",
           "name": "Saskatchewan",
           "orientation": "v",
           "showlegend": true,
           "type": "scatter",
           "x": [
            231611
           ],
           "xaxis": "x",
           "y": [
            0.49
           ],
           "yaxis": "y"
          },
          {
           "hovertemplate": "Geography=Alberta<br>Time=2015Q4<br>AverageMortgageAmount=%{x}<br>DelinquencyRate=%{y}<br>PopulationSize=%{marker.size}<extra></extra>",
           "ids": [
            "Alberta"
           ],
           "legendgroup": "Alberta",
           "marker": {
            "color": "#FF97FF",
            "size": [
             4159519
            ],
            "sizemode": "area",
            "sizeref": 36835.035,
            "symbol": "circle"
           },
           "mode": "markers",
           "name": "Alberta",
           "orientation": "v",
           "showlegend": true,
           "type": "scatter",
           "x": [
            303244
           ],
           "xaxis": "x",
           "y": [
            0.36
           ],
           "yaxis": "y"
          },
          {
           "hovertemplate": "Geography=British Columbia<br>Time=2015Q4<br>AverageMortgageAmount=%{x}<br>DelinquencyRate=%{y}<br>PopulationSize=%{marker.size}<extra></extra>",
           "ids": [
            "British Columbia"
           ],
           "legendgroup": "British Columbia",
           "marker": {
            "color": "#FECB52",
            "size": [
             4802955
            ],
            "sizemode": "area",
            "sizeref": 36835.035,
            "symbol": "circle"
           },
           "mode": "markers",
           "name": "British Columbia",
           "orientation": "v",
           "showlegend": true,
           "type": "scatter",
           "x": [
            357016
           ],
           "xaxis": "x",
           "y": [
            0.32
           ],
           "yaxis": "y"
          }
         ],
         "name": "2015Q4"
        },
        {
         "data": [
          {
           "hovertemplate": "Geography=Newfoundland<br>Time=2016Q1<br>AverageMortgageAmount=%{x}<br>DelinquencyRate=%{y}<br>PopulationSize=%{marker.size}<extra></extra>",
           "ids": [
            "Newfoundland"
           ],
           "legendgroup": "Newfoundland",
           "marker": {
            "color": "#636efa",
            "size": [
             528800
            ],
            "sizemode": "area",
            "sizeref": 36835.035,
            "symbol": "circle"
           },
           "mode": "markers",
           "name": "Newfoundland",
           "orientation": "v",
           "showlegend": true,
           "type": "scatter",
           "x": [
            196798
           ],
           "xaxis": "x",
           "y": [
            0.45
           ],
           "yaxis": "y"
          },
          {
           "hovertemplate": "Geography=Prince Edward Island<br>Time=2016Q1<br>AverageMortgageAmount=%{x}<br>DelinquencyRate=%{y}<br>PopulationSize=%{marker.size}<extra></extra>",
           "ids": [
            "Prince Edward Island"
           ],
           "legendgroup": "Prince Edward Island",
           "marker": {
            "color": "#EF553B",
            "size": [
             145202
            ],
            "sizemode": "area",
            "sizeref": 36835.035,
            "symbol": "circle"
           },
           "mode": "markers",
           "name": "Prince Edward Island",
           "orientation": "v",
           "showlegend": true,
           "type": "scatter",
           "x": [
            157322
           ],
           "xaxis": "x",
           "y": [
            0.7
           ],
           "yaxis": "y"
          },
          {
           "hovertemplate": "Geography=Nova Scotia<br>Time=2016Q1<br>AverageMortgageAmount=%{x}<br>DelinquencyRate=%{y}<br>PopulationSize=%{marker.size}<extra></extra>",
           "ids": [
            "Nova Scotia"
           ],
           "legendgroup": "Nova Scotia",
           "marker": {
            "color": "#00cc96",
            "size": [
             938690
            ],
            "sizemode": "area",
            "sizeref": 36835.035,
            "symbol": "circle"
           },
           "mode": "markers",
           "name": "Nova Scotia",
           "orientation": "v",
           "showlegend": true,
           "type": "scatter",
           "x": [
            167596
           ],
           "xaxis": "x",
           "y": [
            0.7
           ],
           "yaxis": "y"
          },
          {
           "hovertemplate": "Geography=New Brunswick<br>Time=2016Q1<br>AverageMortgageAmount=%{x}<br>DelinquencyRate=%{y}<br>PopulationSize=%{marker.size}<extra></extra>",
           "ids": [
            "New Brunswick"
           ],
           "legendgroup": "New Brunswick",
           "marker": {
            "color": "#ab63fa",
            "size": [
             760580
            ],
            "sizemode": "area",
            "sizeref": 36835.035,
            "symbol": "circle"
           },
           "mode": "markers",
           "name": "New Brunswick",
           "orientation": "v",
           "showlegend": true,
           "type": "scatter",
           "x": [
            132325
           ],
           "xaxis": "x",
           "y": [
            0.82
           ],
           "yaxis": "y"
          },
          {
           "hovertemplate": "Geography=Québec<br>Time=2016Q1<br>AverageMortgageAmount=%{x}<br>DelinquencyRate=%{y}<br>PopulationSize=%{marker.size}<extra></extra>",
           "ids": [
            "Québec"
           ],
           "legendgroup": "Québec",
           "marker": {
            "color": "#FFA15A",
            "size": [
             8193624
            ],
            "sizemode": "area",
            "sizeref": 36835.035,
            "symbol": "circle"
           },
           "mode": "markers",
           "name": "Québec",
           "orientation": "v",
           "showlegend": true,
           "type": "scatter",
           "x": [
            167154
           ],
           "xaxis": "x",
           "y": [
            0.44
           ],
           "yaxis": "y"
          },
          {
           "hovertemplate": "Geography=Ontario<br>Time=2016Q1<br>AverageMortgageAmount=%{x}<br>DelinquencyRate=%{y}<br>PopulationSize=%{marker.size}<extra></extra>",
           "ids": [
            "Ontario"
           ],
           "legendgroup": "Ontario",
           "marker": {
            "color": "#19d3f3",
            "size": [
             13773629
            ],
            "sizemode": "area",
            "sizeref": 36835.035,
            "symbol": "circle"
           },
           "mode": "markers",
           "name": "Ontario",
           "orientation": "v",
           "showlegend": true,
           "type": "scatter",
           "x": [
            278626
           ],
           "xaxis": "x",
           "y": [
            0.24
           ],
           "yaxis": "y"
          },
          {
           "hovertemplate": "Geography=Manitoba<br>Time=2016Q1<br>AverageMortgageAmount=%{x}<br>DelinquencyRate=%{y}<br>PopulationSize=%{marker.size}<extra></extra>",
           "ids": [
            "Manitoba"
           ],
           "legendgroup": "Manitoba",
           "marker": {
            "color": "#FF6692",
            "size": [
             1302544
            ],
            "sizemode": "area",
            "sizeref": 36835.035,
            "symbol": "circle"
           },
           "mode": "markers",
           "name": "Manitoba",
           "orientation": "v",
           "showlegend": true,
           "type": "scatter",
           "x": [
            193970
           ],
           "xaxis": "x",
           "y": [
            0.34
           ],
           "yaxis": "y"
          },
          {
           "hovertemplate": "Geography=Saskatchewan<br>Time=2016Q1<br>AverageMortgageAmount=%{x}<br>DelinquencyRate=%{y}<br>PopulationSize=%{marker.size}<extra></extra>",
           "ids": [
            "Saskatchewan"
           ],
           "legendgroup": "Saskatchewan",
           "marker": {
            "color": "#B6E880",
            "size": [
             1127773
            ],
            "sizemode": "area",
            "sizeref": 36835.035,
            "symbol": "circle"
           },
           "mode": "markers",
           "name": "Saskatchewan",
           "orientation": "v",
           "showlegend": true,
           "type": "scatter",
           "x": [
            225641
           ],
           "xaxis": "x",
           "y": [
            0.54
           ],
           "yaxis": "y"
          },
          {
           "hovertemplate": "Geography=Alberta<br>Time=2016Q1<br>AverageMortgageAmount=%{x}<br>DelinquencyRate=%{y}<br>PopulationSize=%{marker.size}<extra></extra>",
           "ids": [
            "Alberta"
           ],
           "legendgroup": "Alberta",
           "marker": {
            "color": "#FF97FF",
            "size": [
             4169830
            ],
            "sizemode": "area",
            "sizeref": 36835.035,
            "symbol": "circle"
           },
           "mode": "markers",
           "name": "Alberta",
           "orientation": "v",
           "showlegend": true,
           "type": "scatter",
           "x": [
            296111
           ],
           "xaxis": "x",
           "y": [
            0.41
           ],
           "yaxis": "y"
          },
          {
           "hovertemplate": "Geography=British Columbia<br>Time=2016Q1<br>AverageMortgageAmount=%{x}<br>DelinquencyRate=%{y}<br>PopulationSize=%{marker.size}<extra></extra>",
           "ids": [
            "British Columbia"
           ],
           "legendgroup": "British Columbia",
           "marker": {
            "color": "#FECB52",
            "size": [
             4811465
            ],
            "sizemode": "area",
            "sizeref": 36835.035,
            "symbol": "circle"
           },
           "mode": "markers",
           "name": "British Columbia",
           "orientation": "v",
           "showlegend": true,
           "type": "scatter",
           "x": [
            368782
           ],
           "xaxis": "x",
           "y": [
            0.32
           ],
           "yaxis": "y"
          }
         ],
         "name": "2016Q1"
        },
        {
         "data": [
          {
           "hovertemplate": "Geography=Newfoundland<br>Time=2016Q2<br>AverageMortgageAmount=%{x}<br>DelinquencyRate=%{y}<br>PopulationSize=%{marker.size}<extra></extra>",
           "ids": [
            "Newfoundland"
           ],
           "legendgroup": "Newfoundland",
           "marker": {
            "color": "#636efa",
            "size": [
             529063
            ],
            "sizemode": "area",
            "sizeref": 36835.035,
            "symbol": "circle"
           },
           "mode": "markers",
           "name": "Newfoundland",
           "orientation": "v",
           "showlegend": true,
           "type": "scatter",
           "x": [
            196806
           ],
           "xaxis": "x",
           "y": [
            0.46
           ],
           "yaxis": "y"
          },
          {
           "hovertemplate": "Geography=Prince Edward Island<br>Time=2016Q2<br>AverageMortgageAmount=%{x}<br>DelinquencyRate=%{y}<br>PopulationSize=%{marker.size}<extra></extra>",
           "ids": [
            "Prince Edward Island"
           ],
           "legendgroup": "Prince Edward Island",
           "marker": {
            "color": "#EF553B",
            "size": [
             145784
            ],
            "sizemode": "area",
            "sizeref": 36835.035,
            "symbol": "circle"
           },
           "mode": "markers",
           "name": "Prince Edward Island",
           "orientation": "v",
           "showlegend": true,
           "type": "scatter",
           "x": [
            150732
           ],
           "xaxis": "x",
           "y": [
            0.7
           ],
           "yaxis": "y"
          },
          {
           "hovertemplate": "Geography=Nova Scotia<br>Time=2016Q2<br>AverageMortgageAmount=%{x}<br>DelinquencyRate=%{y}<br>PopulationSize=%{marker.size}<extra></extra>",
           "ids": [
            "Nova Scotia"
           ],
           "legendgroup": "Nova Scotia",
           "marker": {
            "color": "#00cc96",
            "size": [
             940382
            ],
            "sizemode": "area",
            "sizeref": 36835.035,
            "symbol": "circle"
           },
           "mode": "markers",
           "name": "Nova Scotia",
           "orientation": "v",
           "showlegend": true,
           "type": "scatter",
           "x": [
            168948
           ],
           "xaxis": "x",
           "y": [
            0.72
           ],
           "yaxis": "y"
          },
          {
           "hovertemplate": "Geography=New Brunswick<br>Time=2016Q2<br>AverageMortgageAmount=%{x}<br>DelinquencyRate=%{y}<br>PopulationSize=%{marker.size}<extra></extra>",
           "ids": [
            "New Brunswick"
           ],
           "legendgroup": "New Brunswick",
           "marker": {
            "color": "#ab63fa",
            "size": [
             762289
            ],
            "sizemode": "area",
            "sizeref": 36835.035,
            "symbol": "circle"
           },
           "mode": "markers",
           "name": "New Brunswick",
           "orientation": "v",
           "showlegend": true,
           "type": "scatter",
           "x": [
            133027
           ],
           "xaxis": "x",
           "y": [
            0.78
           ],
           "yaxis": "y"
          },
          {
           "hovertemplate": "Geography=Québec<br>Time=2016Q2<br>AverageMortgageAmount=%{x}<br>DelinquencyRate=%{y}<br>PopulationSize=%{marker.size}<extra></extra>",
           "ids": [
            "Québec"
           ],
           "legendgroup": "Québec",
           "marker": {
            "color": "#FFA15A",
            "size": [
             8204085
            ],
            "sizemode": "area",
            "sizeref": 36835.035,
            "symbol": "circle"
           },
           "mode": "markers",
           "name": "Québec",
           "orientation": "v",
           "showlegend": true,
           "type": "scatter",
           "x": [
            169326
           ],
           "xaxis": "x",
           "y": [
            0.43
           ],
           "yaxis": "y"
          },
          {
           "hovertemplate": "Geography=Ontario<br>Time=2016Q2<br>AverageMortgageAmount=%{x}<br>DelinquencyRate=%{y}<br>PopulationSize=%{marker.size}<extra></extra>",
           "ids": [
            "Ontario"
           ],
           "legendgroup": "Ontario",
           "marker": {
            "color": "#19d3f3",
            "size": [
             13816545
            ],
            "sizemode": "area",
            "sizeref": 36835.035,
            "symbol": "circle"
           },
           "mode": "markers",
           "name": "Ontario",
           "orientation": "v",
           "showlegend": true,
           "type": "scatter",
           "x": [
            285024
           ],
           "xaxis": "x",
           "y": [
            0.22
           ],
           "yaxis": "y"
          },
          {
           "hovertemplate": "Geography=Manitoba<br>Time=2016Q2<br>AverageMortgageAmount=%{x}<br>DelinquencyRate=%{y}<br>PopulationSize=%{marker.size}<extra></extra>",
           "ids": [
            "Manitoba"
           ],
           "legendgroup": "Manitoba",
           "marker": {
            "color": "#FF6692",
            "size": [
             1307689
            ],
            "sizemode": "area",
            "sizeref": 36835.035,
            "symbol": "circle"
           },
           "mode": "markers",
           "name": "Manitoba",
           "orientation": "v",
           "showlegend": true,
           "type": "scatter",
           "x": [
            196385
           ],
           "xaxis": "x",
           "y": [
            0.35
           ],
           "yaxis": "y"
          },
          {
           "hovertemplate": "Geography=Saskatchewan<br>Time=2016Q2<br>AverageMortgageAmount=%{x}<br>DelinquencyRate=%{y}<br>PopulationSize=%{marker.size}<extra></extra>",
           "ids": [
            "Saskatchewan"
           ],
           "legendgroup": "Saskatchewan",
           "marker": {
            "color": "#B6E880",
            "size": [
             1131147
            ],
            "sizemode": "area",
            "sizeref": 36835.035,
            "symbol": "circle"
           },
           "mode": "markers",
           "name": "Saskatchewan",
           "orientation": "v",
           "showlegend": true,
           "type": "scatter",
           "x": [
            230729
           ],
           "xaxis": "x",
           "y": [
            0.57
           ],
           "yaxis": "y"
          },
          {
           "hovertemplate": "Geography=Alberta<br>Time=2016Q2<br>AverageMortgageAmount=%{x}<br>DelinquencyRate=%{y}<br>PopulationSize=%{marker.size}<extra></extra>",
           "ids": [
            "Alberta"
           ],
           "legendgroup": "Alberta",
           "marker": {
            "color": "#FF97FF",
            "size": [
             4181765
            ],
            "sizemode": "area",
            "sizeref": 36835.035,
            "symbol": "circle"
           },
           "mode": "markers",
           "name": "Alberta",
           "orientation": "v",
           "showlegend": true,
           "type": "scatter",
           "x": [
            298884
           ],
           "xaxis": "x",
           "y": [
            0.45
           ],
           "yaxis": "y"
          },
          {
           "hovertemplate": "Geography=British Columbia<br>Time=2016Q2<br>AverageMortgageAmount=%{x}<br>DelinquencyRate=%{y}<br>PopulationSize=%{marker.size}<extra></extra>",
           "ids": [
            "British Columbia"
           ],
           "legendgroup": "British Columbia",
           "marker": {
            "color": "#FECB52",
            "size": [
             4832155
            ],
            "sizemode": "area",
            "sizeref": 36835.035,
            "symbol": "circle"
           },
           "mode": "markers",
           "name": "British Columbia",
           "orientation": "v",
           "showlegend": true,
           "type": "scatter",
           "x": [
            385910
           ],
           "xaxis": "x",
           "y": [
            0.29
           ],
           "yaxis": "y"
          }
         ],
         "name": "2016Q2"
        },
        {
         "data": [
          {
           "hovertemplate": "Geography=Newfoundland<br>Time=2016Q3<br>AverageMortgageAmount=%{x}<br>DelinquencyRate=%{y}<br>PopulationSize=%{marker.size}<extra></extra>",
           "ids": [
            "Newfoundland"
           ],
           "legendgroup": "Newfoundland",
           "marker": {
            "color": "#636efa",
            "size": [
             529426
            ],
            "sizemode": "area",
            "sizeref": 36835.035,
            "symbol": "circle"
           },
           "mode": "markers",
           "name": "Newfoundland",
           "orientation": "v",
           "showlegend": true,
           "type": "scatter",
           "x": [
            198265
           ],
           "xaxis": "x",
           "y": [
            0.49
           ],
           "yaxis": "y"
          },
          {
           "hovertemplate": "Geography=Prince Edward Island<br>Time=2016Q3<br>AverageMortgageAmount=%{x}<br>DelinquencyRate=%{y}<br>PopulationSize=%{marker.size}<extra></extra>",
           "ids": [
            "Prince Edward Island"
           ],
           "legendgroup": "Prince Edward Island",
           "marker": {
            "color": "#EF553B",
            "size": [
             146969
            ],
            "sizemode": "area",
            "sizeref": 36835.035,
            "symbol": "circle"
           },
           "mode": "markers",
           "name": "Prince Edward Island",
           "orientation": "v",
           "showlegend": true,
           "type": "scatter",
           "x": [
            169651
           ],
           "xaxis": "x",
           "y": [
            0.67
           ],
           "yaxis": "y"
          },
          {
           "hovertemplate": "Geography=Nova Scotia<br>Time=2016Q3<br>AverageMortgageAmount=%{x}<br>DelinquencyRate=%{y}<br>PopulationSize=%{marker.size}<extra></extra>",
           "ids": [
            "Nova Scotia"
           ],
           "legendgroup": "Nova Scotia",
           "marker": {
            "color": "#00cc96",
            "size": [
             942790
            ],
            "sizemode": "area",
            "sizeref": 36835.035,
            "symbol": "circle"
           },
           "mode": "markers",
           "name": "Nova Scotia",
           "orientation": "v",
           "showlegend": true,
           "type": "scatter",
           "x": [
            178784
           ],
           "xaxis": "x",
           "y": [
            0.76
           ],
           "yaxis": "y"
          },
          {
           "hovertemplate": "Geography=New Brunswick<br>Time=2016Q3<br>AverageMortgageAmount=%{x}<br>DelinquencyRate=%{y}<br>PopulationSize=%{marker.size}<extra></extra>",
           "ids": [
            "New Brunswick"
           ],
           "legendgroup": "New Brunswick",
           "marker": {
            "color": "#ab63fa",
            "size": [
             763350
            ],
            "sizemode": "area",
            "sizeref": 36835.035,
            "symbol": "circle"
           },
           "mode": "markers",
           "name": "New Brunswick",
           "orientation": "v",
           "showlegend": true,
           "type": "scatter",
           "x": [
            143533
           ],
           "xaxis": "x",
           "y": [
            0.84
           ],
           "yaxis": "y"
          },
          {
           "hovertemplate": "Geography=Québec<br>Time=2016Q3<br>AverageMortgageAmount=%{x}<br>DelinquencyRate=%{y}<br>PopulationSize=%{marker.size}<extra></extra>",
           "ids": [
            "Québec"
           ],
           "legendgroup": "Québec",
           "marker": {
            "color": "#FFA15A",
            "size": [
             8225950
            ],
            "sizemode": "area",
            "sizeref": 36835.035,
            "symbol": "circle"
           },
           "mode": "markers",
           "name": "Québec",
           "orientation": "v",
           "showlegend": true,
           "type": "scatter",
           "x": [
            176522
           ],
           "xaxis": "x",
           "y": [
            0.42
           ],
           "yaxis": "y"
          },
          {
           "hovertemplate": "Geography=Ontario<br>Time=2016Q3<br>AverageMortgageAmount=%{x}<br>DelinquencyRate=%{y}<br>PopulationSize=%{marker.size}<extra></extra>",
           "ids": [
            "Ontario"
           ],
           "legendgroup": "Ontario",
           "marker": {
            "color": "#19d3f3",
            "size": [
             13875394
            ],
            "sizemode": "area",
            "sizeref": 36835.035,
            "symbol": "circle"
           },
           "mode": "markers",
           "name": "Ontario",
           "orientation": "v",
           "showlegend": true,
           "type": "scatter",
           "x": [
            307369
           ],
           "xaxis": "x",
           "y": [
            0.2
           ],
           "yaxis": "y"
          },
          {
           "hovertemplate": "Geography=Manitoba<br>Time=2016Q3<br>AverageMortgageAmount=%{x}<br>DelinquencyRate=%{y}<br>PopulationSize=%{marker.size}<extra></extra>",
           "ids": [
            "Manitoba"
           ],
           "legendgroup": "Manitoba",
           "marker": {
            "color": "#FF6692",
            "size": [
             1314139
            ],
            "sizemode": "area",
            "sizeref": 36835.035,
            "symbol": "circle"
           },
           "mode": "markers",
           "name": "Manitoba",
           "orientation": "v",
           "showlegend": true,
           "type": "scatter",
           "x": [
            209051
           ],
           "xaxis": "x",
           "y": [
            0.34
           ],
           "yaxis": "y"
          },
          {
           "hovertemplate": "Geography=Saskatchewan<br>Time=2016Q3<br>AverageMortgageAmount=%{x}<br>DelinquencyRate=%{y}<br>PopulationSize=%{marker.size}<extra></extra>",
           "ids": [
            "Saskatchewan"
           ],
           "legendgroup": "Saskatchewan",
           "marker": {
            "color": "#B6E880",
            "size": [
             1135987
            ],
            "sizemode": "area",
            "sizeref": 36835.035,
            "symbol": "circle"
           },
           "mode": "markers",
           "name": "Saskatchewan",
           "orientation": "v",
           "showlegend": true,
           "type": "scatter",
           "x": [
            236380
           ],
           "xaxis": "x",
           "y": [
            0.61
           ],
           "yaxis": "y"
          },
          {
           "hovertemplate": "Geography=Alberta<br>Time=2016Q3<br>AverageMortgageAmount=%{x}<br>DelinquencyRate=%{y}<br>PopulationSize=%{marker.size}<extra></extra>",
           "ids": [
            "Alberta"
           ],
           "legendgroup": "Alberta",
           "marker": {
            "color": "#FF97FF",
            "size": [
             4196061
            ],
            "sizemode": "area",
            "sizeref": 36835.035,
            "symbol": "circle"
           },
           "mode": "markers",
           "name": "Alberta",
           "orientation": "v",
           "showlegend": true,
           "type": "scatter",
           "x": [
            304683
           ],
           "xaxis": "x",
           "y": [
            0.53
           ],
           "yaxis": "y"
          },
          {
           "hovertemplate": "Geography=British Columbia<br>Time=2016Q3<br>AverageMortgageAmount=%{x}<br>DelinquencyRate=%{y}<br>PopulationSize=%{marker.size}<extra></extra>",
           "ids": [
            "British Columbia"
           ],
           "legendgroup": "British Columbia",
           "marker": {
            "color": "#FECB52",
            "size": [
             4859250
            ],
            "sizemode": "area",
            "sizeref": 36835.035,
            "symbol": "circle"
           },
           "mode": "markers",
           "name": "British Columbia",
           "orientation": "v",
           "showlegend": true,
           "type": "scatter",
           "x": [
            395297
           ],
           "xaxis": "x",
           "y": [
            0.26
           ],
           "yaxis": "y"
          }
         ],
         "name": "2016Q3"
        },
        {
         "data": [
          {
           "hovertemplate": "Geography=Newfoundland<br>Time=2016Q4<br>AverageMortgageAmount=%{x}<br>DelinquencyRate=%{y}<br>PopulationSize=%{marker.size}<extra></extra>",
           "ids": [
            "Newfoundland"
           ],
           "legendgroup": "Newfoundland",
           "marker": {
            "color": "#636efa",
            "size": [
             529900
            ],
            "sizemode": "area",
            "sizeref": 36835.035,
            "symbol": "circle"
           },
           "mode": "markers",
           "name": "Newfoundland",
           "orientation": "v",
           "showlegend": true,
           "type": "scatter",
           "x": [
            197794
           ],
           "xaxis": "x",
           "y": [
            0.46
           ],
           "yaxis": "y"
          },
          {
           "hovertemplate": "Geography=Prince Edward Island<br>Time=2016Q4<br>AverageMortgageAmount=%{x}<br>DelinquencyRate=%{y}<br>PopulationSize=%{marker.size}<extra></extra>",
           "ids": [
            "Prince Edward Island"
           ],
           "legendgroup": "Prince Edward Island",
           "marker": {
            "color": "#EF553B",
            "size": [
             147936
            ],
            "sizemode": "area",
            "sizeref": 36835.035,
            "symbol": "circle"
           },
           "mode": "markers",
           "name": "Prince Edward Island",
           "orientation": "v",
           "showlegend": true,
           "type": "scatter",
           "x": [
            155799
           ],
           "xaxis": "x",
           "y": [
            0.6
           ],
           "yaxis": "y"
          },
          {
           "hovertemplate": "Geography=Nova Scotia<br>Time=2016Q4<br>AverageMortgageAmount=%{x}<br>DelinquencyRate=%{y}<br>PopulationSize=%{marker.size}<extra></extra>",
           "ids": [
            "Nova Scotia"
           ],
           "legendgroup": "Nova Scotia",
           "marker": {
            "color": "#00cc96",
            "size": [
             946030
            ],
            "sizemode": "area",
            "sizeref": 36835.035,
            "symbol": "circle"
           },
           "mode": "markers",
           "name": "Nova Scotia",
           "orientation": "v",
           "showlegend": true,
           "type": "scatter",
           "x": [
            173305
           ],
           "xaxis": "x",
           "y": [
            0.75
           ],
           "yaxis": "y"
          },
          {
           "hovertemplate": "Geography=New Brunswick<br>Time=2016Q4<br>AverageMortgageAmount=%{x}<br>DelinquencyRate=%{y}<br>PopulationSize=%{marker.size}<extra></extra>",
           "ids": [
            "New Brunswick"
           ],
           "legendgroup": "New Brunswick",
           "marker": {
            "color": "#ab63fa",
            "size": [
             764844
            ],
            "sizemode": "area",
            "sizeref": 36835.035,
            "symbol": "circle"
           },
           "mode": "markers",
           "name": "New Brunswick",
           "orientation": "v",
           "showlegend": true,
           "type": "scatter",
           "x": [
            140124
           ],
           "xaxis": "x",
           "y": [
            0.79
           ],
           "yaxis": "y"
          },
          {
           "hovertemplate": "Geography=Québec<br>Time=2016Q4<br>AverageMortgageAmount=%{x}<br>DelinquencyRate=%{y}<br>PopulationSize=%{marker.size}<extra></extra>",
           "ids": [
            "Québec"
           ],
           "legendgroup": "Québec",
           "marker": {
            "color": "#FFA15A",
            "size": [
             8249692
            ],
            "sizemode": "area",
            "sizeref": 36835.035,
            "symbol": "circle"
           },
           "mode": "markers",
           "name": "Québec",
           "orientation": "v",
           "showlegend": true,
           "type": "scatter",
           "x": [
            170309
           ],
           "xaxis": "x",
           "y": [
            0.4
           ],
           "yaxis": "y"
          },
          {
           "hovertemplate": "Geography=Ontario<br>Time=2016Q4<br>AverageMortgageAmount=%{x}<br>DelinquencyRate=%{y}<br>PopulationSize=%{marker.size}<extra></extra>",
           "ids": [
            "Ontario"
           ],
           "legendgroup": "Ontario",
           "marker": {
            "color": "#19d3f3",
            "size": [
             13946431
            ],
            "sizemode": "area",
            "sizeref": 36835.035,
            "symbol": "circle"
           },
           "mode": "markers",
           "name": "Ontario",
           "orientation": "v",
           "showlegend": true,
           "type": "scatter",
           "x": [
            310236
           ],
           "xaxis": "x",
           "y": [
            0.19
           ],
           "yaxis": "y"
          },
          {
           "hovertemplate": "Geography=Manitoba<br>Time=2016Q4<br>AverageMortgageAmount=%{x}<br>DelinquencyRate=%{y}<br>PopulationSize=%{marker.size}<extra></extra>",
           "ids": [
            "Manitoba"
           ],
           "legendgroup": "Manitoba",
           "marker": {
            "color": "#FF6692",
            "size": [
             1319911
            ],
            "sizemode": "area",
            "sizeref": 36835.035,
            "symbol": "circle"
           },
           "mode": "markers",
           "name": "Manitoba",
           "orientation": "v",
           "showlegend": true,
           "type": "scatter",
           "x": [
            206958
           ],
           "xaxis": "x",
           "y": [
            0.35
           ],
           "yaxis": "y"
          },
          {
           "hovertemplate": "Geography=Saskatchewan<br>Time=2016Q4<br>AverageMortgageAmount=%{x}<br>DelinquencyRate=%{y}<br>PopulationSize=%{marker.size}<extra></extra>",
           "ids": [
            "Saskatchewan"
           ],
           "legendgroup": "Saskatchewan",
           "marker": {
            "color": "#B6E880",
            "size": [
             1140690
            ],
            "sizemode": "area",
            "sizeref": 36835.035,
            "symbol": "circle"
           },
           "mode": "markers",
           "name": "Saskatchewan",
           "orientation": "v",
           "showlegend": true,
           "type": "scatter",
           "x": [
            232174
           ],
           "xaxis": "x",
           "y": [
            0.62
           ],
           "yaxis": "y"
          },
          {
           "hovertemplate": "Geography=Alberta<br>Time=2016Q4<br>AverageMortgageAmount=%{x}<br>DelinquencyRate=%{y}<br>PopulationSize=%{marker.size}<extra></extra>",
           "ids": [
            "Alberta"
           ],
           "legendgroup": "Alberta",
           "marker": {
            "color": "#FF97FF",
            "size": [
             4208958
            ],
            "sizemode": "area",
            "sizeref": 36835.035,
            "symbol": "circle"
           },
           "mode": "markers",
           "name": "Alberta",
           "orientation": "v",
           "showlegend": true,
           "type": "scatter",
           "x": [
            302095
           ],
           "xaxis": "x",
           "y": [
            0.53
           ],
           "yaxis": "y"
          },
          {
           "hovertemplate": "Geography=British Columbia<br>Time=2016Q4<br>AverageMortgageAmount=%{x}<br>DelinquencyRate=%{y}<br>PopulationSize=%{marker.size}<extra></extra>",
           "ids": [
            "British Columbia"
           ],
           "legendgroup": "British Columbia",
           "marker": {
            "color": "#FECB52",
            "size": [
             4884002
            ],
            "sizemode": "area",
            "sizeref": 36835.035,
            "symbol": "circle"
           },
           "mode": "markers",
           "name": "British Columbia",
           "orientation": "v",
           "showlegend": true,
           "type": "scatter",
           "x": [
            366703
           ],
           "xaxis": "x",
           "y": [
            0.25
           ],
           "yaxis": "y"
          }
         ],
         "name": "2016Q4"
        },
        {
         "data": [
          {
           "hovertemplate": "Geography=Newfoundland<br>Time=2017Q1<br>AverageMortgageAmount=%{x}<br>DelinquencyRate=%{y}<br>PopulationSize=%{marker.size}<extra></extra>",
           "ids": [
            "Newfoundland"
           ],
           "legendgroup": "Newfoundland",
           "marker": {
            "color": "#636efa",
            "size": [
             529347
            ],
            "sizemode": "area",
            "sizeref": 36835.035,
            "symbol": "circle"
           },
           "mode": "markers",
           "name": "Newfoundland",
           "orientation": "v",
           "showlegend": true,
           "type": "scatter",
           "x": [
            192057
           ],
           "xaxis": "x",
           "y": [
            0.47
           ],
           "yaxis": "y"
          },
          {
           "hovertemplate": "Geography=Prince Edward Island<br>Time=2017Q1<br>AverageMortgageAmount=%{x}<br>DelinquencyRate=%{y}<br>PopulationSize=%{marker.size}<extra></extra>",
           "ids": [
            "Prince Edward Island"
           ],
           "legendgroup": "Prince Edward Island",
           "marker": {
            "color": "#EF553B",
            "size": [
             148181
            ],
            "sizemode": "area",
            "sizeref": 36835.035,
            "symbol": "circle"
           },
           "mode": "markers",
           "name": "Prince Edward Island",
           "orientation": "v",
           "showlegend": true,
           "type": "scatter",
           "x": [
            175124
           ],
           "xaxis": "x",
           "y": [
            0.66
           ],
           "yaxis": "y"
          },
          {
           "hovertemplate": "Geography=Nova Scotia<br>Time=2017Q1<br>AverageMortgageAmount=%{x}<br>DelinquencyRate=%{y}<br>PopulationSize=%{marker.size}<extra></extra>",
           "ids": [
            "Nova Scotia"
           ],
           "legendgroup": "Nova Scotia",
           "marker": {
            "color": "#00cc96",
            "size": [
             945943
            ],
            "sizemode": "area",
            "sizeref": 36835.035,
            "symbol": "circle"
           },
           "mode": "markers",
           "name": "Nova Scotia",
           "orientation": "v",
           "showlegend": true,
           "type": "scatter",
           "x": [
            186024
           ],
           "xaxis": "x",
           "y": [
            0.7
           ],
           "yaxis": "y"
          },
          {
           "hovertemplate": "Geography=New Brunswick<br>Time=2017Q1<br>AverageMortgageAmount=%{x}<br>DelinquencyRate=%{y}<br>PopulationSize=%{marker.size}<extra></extra>",
           "ids": [
            "New Brunswick"
           ],
           "legendgroup": "New Brunswick",
           "marker": {
            "color": "#ab63fa",
            "size": [
             764617
            ],
            "sizemode": "area",
            "sizeref": 36835.035,
            "symbol": "circle"
           },
           "mode": "markers",
           "name": "New Brunswick",
           "orientation": "v",
           "showlegend": true,
           "type": "scatter",
           "x": [
            141196
           ],
           "xaxis": "x",
           "y": [
            0.78
           ],
           "yaxis": "y"
          },
          {
           "hovertemplate": "Geography=Québec<br>Time=2017Q1<br>AverageMortgageAmount=%{x}<br>DelinquencyRate=%{y}<br>PopulationSize=%{marker.size}<extra></extra>",
           "ids": [
            "Québec"
           ],
           "legendgroup": "Québec",
           "marker": {
            "color": "#FFA15A",
            "size": [
             8257450
            ],
            "sizemode": "area",
            "sizeref": 36835.035,
            "symbol": "circle"
           },
           "mode": "markers",
           "name": "Québec",
           "orientation": "v",
           "showlegend": true,
           "type": "scatter",
           "x": [
            171992
           ],
           "xaxis": "x",
           "y": [
            0.41
           ],
           "yaxis": "y"
          },
          {
           "hovertemplate": "Geography=Ontario<br>Time=2017Q1<br>AverageMortgageAmount=%{x}<br>DelinquencyRate=%{y}<br>PopulationSize=%{marker.size}<extra></extra>",
           "ids": [
            "Ontario"
           ],
           "legendgroup": "Ontario",
           "marker": {
            "color": "#19d3f3",
            "size": [
             13971785
            ],
            "sizemode": "area",
            "sizeref": 36835.035,
            "symbol": "circle"
           },
           "mode": "markers",
           "name": "Ontario",
           "orientation": "v",
           "showlegend": true,
           "type": "scatter",
           "x": [
            319009
           ],
           "xaxis": "x",
           "y": [
            0.18
           ],
           "yaxis": "y"
          },
          {
           "hovertemplate": "Geography=Manitoba<br>Time=2017Q1<br>AverageMortgageAmount=%{x}<br>DelinquencyRate=%{y}<br>PopulationSize=%{marker.size}<extra></extra>",
           "ids": [
            "Manitoba"
           ],
           "legendgroup": "Manitoba",
           "marker": {
            "color": "#FF6692",
            "size": [
             1324129
            ],
            "sizemode": "area",
            "sizeref": 36835.035,
            "symbol": "circle"
           },
           "mode": "markers",
           "name": "Manitoba",
           "orientation": "v",
           "showlegend": true,
           "type": "scatter",
           "x": [
            203999
           ],
           "xaxis": "x",
           "y": [
            0.36
           ],
           "yaxis": "y"
          },
          {
           "hovertemplate": "Geography=Saskatchewan<br>Time=2017Q1<br>AverageMortgageAmount=%{x}<br>DelinquencyRate=%{y}<br>PopulationSize=%{marker.size}<extra></extra>",
           "ids": [
            "Saskatchewan"
           ],
           "legendgroup": "Saskatchewan",
           "marker": {
            "color": "#B6E880",
            "size": [
             1143313
            ],
            "sizemode": "area",
            "sizeref": 36835.035,
            "symbol": "circle"
           },
           "mode": "markers",
           "name": "Saskatchewan",
           "orientation": "v",
           "showlegend": true,
           "type": "scatter",
           "x": [
            234786
           ],
           "xaxis": "x",
           "y": [
            0.62
           ],
           "yaxis": "y"
          },
          {
           "hovertemplate": "Geography=Alberta<br>Time=2017Q1<br>AverageMortgageAmount=%{x}<br>DelinquencyRate=%{y}<br>PopulationSize=%{marker.size}<extra></extra>",
           "ids": [
            "Alberta"
           ],
           "legendgroup": "Alberta",
           "marker": {
            "color": "#FF97FF",
            "size": [
             4217855
            ],
            "sizemode": "area",
            "sizeref": 36835.035,
            "symbol": "circle"
           },
           "mode": "markers",
           "name": "Alberta",
           "orientation": "v",
           "showlegend": true,
           "type": "scatter",
           "x": [
            301254
           ],
           "xaxis": "x",
           "y": [
            0.54
           ],
           "yaxis": "y"
          },
          {
           "hovertemplate": "Geography=British Columbia<br>Time=2017Q1<br>AverageMortgageAmount=%{x}<br>DelinquencyRate=%{y}<br>PopulationSize=%{marker.size}<extra></extra>",
           "ids": [
            "British Columbia"
           ],
           "legendgroup": "British Columbia",
           "marker": {
            "color": "#FECB52",
            "size": [
             4890848
            ],
            "sizemode": "area",
            "sizeref": 36835.035,
            "symbol": "circle"
           },
           "mode": "markers",
           "name": "British Columbia",
           "orientation": "v",
           "showlegend": true,
           "type": "scatter",
           "x": [
            358655
           ],
           "xaxis": "x",
           "y": [
            0.23
           ],
           "yaxis": "y"
          }
         ],
         "name": "2017Q1"
        },
        {
         "data": [
          {
           "hovertemplate": "Geography=Newfoundland<br>Time=2017Q2<br>AverageMortgageAmount=%{x}<br>DelinquencyRate=%{y}<br>PopulationSize=%{marker.size}<extra></extra>",
           "ids": [
            "Newfoundland"
           ],
           "legendgroup": "Newfoundland",
           "marker": {
            "color": "#636efa",
            "size": [
             528544
            ],
            "sizemode": "area",
            "sizeref": 36835.035,
            "symbol": "circle"
           },
           "mode": "markers",
           "name": "Newfoundland",
           "orientation": "v",
           "showlegend": true,
           "type": "scatter",
           "x": [
            191412
           ],
           "xaxis": "x",
           "y": [
            0.47
           ],
           "yaxis": "y"
          },
          {
           "hovertemplate": "Geography=Prince Edward Island<br>Time=2017Q2<br>AverageMortgageAmount=%{x}<br>DelinquencyRate=%{y}<br>PopulationSize=%{marker.size}<extra></extra>",
           "ids": [
            "Prince Edward Island"
           ],
           "legendgroup": "Prince Edward Island",
           "marker": {
            "color": "#EF553B",
            "size": [
             148860
            ],
            "sizemode": "area",
            "sizeref": 36835.035,
            "symbol": "circle"
           },
           "mode": "markers",
           "name": "Prince Edward Island",
           "orientation": "v",
           "showlegend": true,
           "type": "scatter",
           "x": [
            174901
           ],
           "xaxis": "x",
           "y": [
            0.55
           ],
           "yaxis": "y"
          },
          {
           "hovertemplate": "Geography=Nova Scotia<br>Time=2017Q2<br>AverageMortgageAmount=%{x}<br>DelinquencyRate=%{y}<br>PopulationSize=%{marker.size}<extra></extra>",
           "ids": [
            "Nova Scotia"
           ],
           "legendgroup": "Nova Scotia",
           "marker": {
            "color": "#00cc96",
            "size": [
             947384
            ],
            "sizemode": "area",
            "sizeref": 36835.035,
            "symbol": "circle"
           },
           "mode": "markers",
           "name": "Nova Scotia",
           "orientation": "v",
           "showlegend": true,
           "type": "scatter",
           "x": [
            182526
           ],
           "xaxis": "x",
           "y": [
            0.64
           ],
           "yaxis": "y"
          },
          {
           "hovertemplate": "Geography=New Brunswick<br>Time=2017Q2<br>AverageMortgageAmount=%{x}<br>DelinquencyRate=%{y}<br>PopulationSize=%{marker.size}<extra></extra>",
           "ids": [
            "New Brunswick"
           ],
           "legendgroup": "New Brunswick",
           "marker": {
            "color": "#ab63fa",
            "size": [
             764813
            ],
            "sizemode": "area",
            "sizeref": 36835.035,
            "symbol": "circle"
           },
           "mode": "markers",
           "name": "New Brunswick",
           "orientation": "v",
           "showlegend": true,
           "type": "scatter",
           "x": [
            135748
           ],
           "xaxis": "x",
           "y": [
            0.73
           ],
           "yaxis": "y"
          },
          {
           "hovertemplate": "Geography=Québec<br>Time=2017Q2<br>AverageMortgageAmount=%{x}<br>DelinquencyRate=%{y}<br>PopulationSize=%{marker.size}<extra></extra>",
           "ids": [
            "Québec"
           ],
           "legendgroup": "Québec",
           "marker": {
            "color": "#FFA15A",
            "size": [
             8272894
            ],
            "sizemode": "area",
            "sizeref": 36835.035,
            "symbol": "circle"
           },
           "mode": "markers",
           "name": "Québec",
           "orientation": "v",
           "showlegend": true,
           "type": "scatter",
           "x": [
            171716
           ],
           "xaxis": "x",
           "y": [
            0.4
           ],
           "yaxis": "y"
          },
          {
           "hovertemplate": "Geography=Ontario<br>Time=2017Q2<br>AverageMortgageAmount=%{x}<br>DelinquencyRate=%{y}<br>PopulationSize=%{marker.size}<extra></extra>",
           "ids": [
            "Ontario"
           ],
           "legendgroup": "Ontario",
           "marker": {
            "color": "#19d3f3",
            "size": [
             14006386
            ],
            "sizemode": "area",
            "sizeref": 36835.035,
            "symbol": "circle"
           },
           "mode": "markers",
           "name": "Ontario",
           "orientation": "v",
           "showlegend": true,
           "type": "scatter",
           "x": [
            326645
           ],
           "xaxis": "x",
           "y": [
            0.16
           ],
           "yaxis": "y"
          },
          {
           "hovertemplate": "Geography=Manitoba<br>Time=2017Q2<br>AverageMortgageAmount=%{x}<br>DelinquencyRate=%{y}<br>PopulationSize=%{marker.size}<extra></extra>",
           "ids": [
            "Manitoba"
           ],
           "legendgroup": "Manitoba",
           "marker": {
            "color": "#FF6692",
            "size": [
             1328412
            ],
            "sizemode": "area",
            "sizeref": 36835.035,
            "symbol": "circle"
           },
           "mode": "markers",
           "name": "Manitoba",
           "orientation": "v",
           "showlegend": true,
           "type": "scatter",
           "x": [
            205085
           ],
           "xaxis": "x",
           "y": [
            0.35
           ],
           "yaxis": "y"
          },
          {
           "hovertemplate": "Geography=Saskatchewan<br>Time=2017Q2<br>AverageMortgageAmount=%{x}<br>DelinquencyRate=%{y}<br>PopulationSize=%{marker.size}<extra></extra>",
           "ids": [
            "Saskatchewan"
           ],
           "legendgroup": "Saskatchewan",
           "marker": {
            "color": "#B6E880",
            "size": [
             1146218
            ],
            "sizemode": "area",
            "sizeref": 36835.035,
            "symbol": "circle"
           },
           "mode": "markers",
           "name": "Saskatchewan",
           "orientation": "v",
           "showlegend": true,
           "type": "scatter",
           "x": [
            233545
           ],
           "xaxis": "x",
           "y": [
            0.66
           ],
           "yaxis": "y"
          },
          {
           "hovertemplate": "Geography=Alberta<br>Time=2017Q2<br>AverageMortgageAmount=%{x}<br>DelinquencyRate=%{y}<br>PopulationSize=%{marker.size}<extra></extra>",
           "ids": [
            "Alberta"
           ],
           "legendgroup": "Alberta",
           "marker": {
            "color": "#FF97FF",
            "size": [
             4227969
            ],
            "sizemode": "area",
            "sizeref": 36835.035,
            "symbol": "circle"
           },
           "mode": "markers",
           "name": "Alberta",
           "orientation": "v",
           "showlegend": true,
           "type": "scatter",
           "x": [
            300115
           ],
           "xaxis": "x",
           "y": [
            0.52
           ],
           "yaxis": "y"
          },
          {
           "hovertemplate": "Geography=British Columbia<br>Time=2017Q2<br>AverageMortgageAmount=%{x}<br>DelinquencyRate=%{y}<br>PopulationSize=%{marker.size}<extra></extra>",
           "ids": [
            "British Columbia"
           ],
           "legendgroup": "British Columbia",
           "marker": {
            "color": "#FECB52",
            "size": [
             4905210
            ],
            "sizemode": "area",
            "sizeref": 36835.035,
            "symbol": "circle"
           },
           "mode": "markers",
           "name": "British Columbia",
           "orientation": "v",
           "showlegend": true,
           "type": "scatter",
           "x": [
            369174
           ],
           "xaxis": "x",
           "y": [
            0.2
           ],
           "yaxis": "y"
          }
         ],
         "name": "2017Q2"
        },
        {
         "data": [
          {
           "hovertemplate": "Geography=Newfoundland<br>Time=2017Q3<br>AverageMortgageAmount=%{x}<br>DelinquencyRate=%{y}<br>PopulationSize=%{marker.size}<extra></extra>",
           "ids": [
            "Newfoundland"
           ],
           "legendgroup": "Newfoundland",
           "marker": {
            "color": "#636efa",
            "size": [
             528249
            ],
            "sizemode": "area",
            "sizeref": 36835.035,
            "symbol": "circle"
           },
           "mode": "markers",
           "name": "Newfoundland",
           "orientation": "v",
           "showlegend": true,
           "type": "scatter",
           "x": [
            200378
           ],
           "xaxis": "x",
           "y": [
            0.46
           ],
           "yaxis": "y"
          },
          {
           "hovertemplate": "Geography=Prince Edward Island<br>Time=2017Q3<br>AverageMortgageAmount=%{x}<br>DelinquencyRate=%{y}<br>PopulationSize=%{marker.size}<extra></extra>",
           "ids": [
            "Prince Edward Island"
           ],
           "legendgroup": "Prince Edward Island",
           "marker": {
            "color": "#EF553B",
            "size": [
             150402
            ],
            "sizemode": "area",
            "sizeref": 36835.035,
            "symbol": "circle"
           },
           "mode": "markers",
           "name": "Prince Edward Island",
           "orientation": "v",
           "showlegend": true,
           "type": "scatter",
           "x": [
            176919
           ],
           "xaxis": "x",
           "y": [
            0.54
           ],
           "yaxis": "y"
          },
          {
           "hovertemplate": "Geography=Nova Scotia<br>Time=2017Q3<br>AverageMortgageAmount=%{x}<br>DelinquencyRate=%{y}<br>PopulationSize=%{marker.size}<extra></extra>",
           "ids": [
            "Nova Scotia"
           ],
           "legendgroup": "Nova Scotia",
           "marker": {
            "color": "#00cc96",
            "size": [
             950108
            ],
            "sizemode": "area",
            "sizeref": 36835.035,
            "symbol": "circle"
           },
           "mode": "markers",
           "name": "Nova Scotia",
           "orientation": "v",
           "showlegend": true,
           "type": "scatter",
           "x": [
            194802
           ],
           "xaxis": "x",
           "y": [
            0.6
           ],
           "yaxis": "y"
          },
          {
           "hovertemplate": "Geography=New Brunswick<br>Time=2017Q3<br>AverageMortgageAmount=%{x}<br>DelinquencyRate=%{y}<br>PopulationSize=%{marker.size}<extra></extra>",
           "ids": [
            "New Brunswick"
           ],
           "legendgroup": "New Brunswick",
           "marker": {
            "color": "#ab63fa",
            "size": [
             766621
            ],
            "sizemode": "area",
            "sizeref": 36835.035,
            "symbol": "circle"
           },
           "mode": "markers",
           "name": "New Brunswick",
           "orientation": "v",
           "showlegend": true,
           "type": "scatter",
           "x": [
            147934
           ],
           "xaxis": "x",
           "y": [
            0.71
           ],
           "yaxis": "y"
          },
          {
           "hovertemplate": "Geography=Québec<br>Time=2017Q3<br>AverageMortgageAmount=%{x}<br>DelinquencyRate=%{y}<br>PopulationSize=%{marker.size}<extra></extra>",
           "ids": [
            "Québec"
           ],
           "legendgroup": "Québec",
           "marker": {
            "color": "#FFA15A",
            "size": [
             8302063
            ],
            "sizemode": "area",
            "sizeref": 36835.035,
            "symbol": "circle"
           },
           "mode": "markers",
           "name": "Québec",
           "orientation": "v",
           "showlegend": true,
           "type": "scatter",
           "x": [
            177306
           ],
           "xaxis": "x",
           "y": [
            0.37
           ],
           "yaxis": "y"
          },
          {
           "hovertemplate": "Geography=Ontario<br>Time=2017Q3<br>AverageMortgageAmount=%{x}<br>DelinquencyRate=%{y}<br>PopulationSize=%{marker.size}<extra></extra>",
           "ids": [
            "Ontario"
           ],
           "legendgroup": "Ontario",
           "marker": {
            "color": "#19d3f3",
            "size": [
             14070141
            ],
            "sizemode": "area",
            "sizeref": 36835.035,
            "symbol": "circle"
           },
           "mode": "markers",
           "name": "Ontario",
           "orientation": "v",
           "showlegend": true,
           "type": "scatter",
           "x": [
            338561
           ],
           "xaxis": "x",
           "y": [
            0.16
           ],
           "yaxis": "y"
          },
          {
           "hovertemplate": "Geography=Manitoba<br>Time=2017Q3<br>AverageMortgageAmount=%{x}<br>DelinquencyRate=%{y}<br>PopulationSize=%{marker.size}<extra></extra>",
           "ids": [
            "Manitoba"
           ],
           "legendgroup": "Manitoba",
           "marker": {
            "color": "#FF6692",
            "size": [
             1334790
            ],
            "sizemode": "area",
            "sizeref": 36835.035,
            "symbol": "circle"
           },
           "mode": "markers",
           "name": "Manitoba",
           "orientation": "v",
           "showlegend": true,
           "type": "scatter",
           "x": [
            216750
           ],
           "xaxis": "x",
           "y": [
            0.33
           ],
           "yaxis": "y"
          },
          {
           "hovertemplate": "Geography=Saskatchewan<br>Time=2017Q3<br>AverageMortgageAmount=%{x}<br>DelinquencyRate=%{y}<br>PopulationSize=%{marker.size}<extra></extra>",
           "ids": [
            "Saskatchewan"
           ],
           "legendgroup": "Saskatchewan",
           "marker": {
            "color": "#B6E880",
            "size": [
             1150331
            ],
            "sizemode": "area",
            "sizeref": 36835.035,
            "symbol": "circle"
           },
           "mode": "markers",
           "name": "Saskatchewan",
           "orientation": "v",
           "showlegend": true,
           "type": "scatter",
           "x": [
            238533
           ],
           "xaxis": "x",
           "y": [
            0.65
           ],
           "yaxis": "y"
          },
          {
           "hovertemplate": "Geography=Alberta<br>Time=2017Q3<br>AverageMortgageAmount=%{x}<br>DelinquencyRate=%{y}<br>PopulationSize=%{marker.size}<extra></extra>",
           "ids": [
            "Alberta"
           ],
           "legendgroup": "Alberta",
           "marker": {
            "color": "#FF97FF",
            "size": [
             4241100
            ],
            "sizemode": "area",
            "sizeref": 36835.035,
            "symbol": "circle"
           },
           "mode": "markers",
           "name": "Alberta",
           "orientation": "v",
           "showlegend": true,
           "type": "scatter",
           "x": [
            307837
           ],
           "xaxis": "x",
           "y": [
            0.51
           ],
           "yaxis": "y"
          },
          {
           "hovertemplate": "Geography=British Columbia<br>Time=2017Q3<br>AverageMortgageAmount=%{x}<br>DelinquencyRate=%{y}<br>PopulationSize=%{marker.size}<extra></extra>",
           "ids": [
            "British Columbia"
           ],
           "legendgroup": "British Columbia",
           "marker": {
            "color": "#FECB52",
            "size": [
             4929384
            ],
            "sizemode": "area",
            "sizeref": 36835.035,
            "symbol": "circle"
           },
           "mode": "markers",
           "name": "British Columbia",
           "orientation": "v",
           "showlegend": true,
           "type": "scatter",
           "x": [
            389430
           ],
           "xaxis": "x",
           "y": [
            0.18
           ],
           "yaxis": "y"
          }
         ],
         "name": "2017Q3"
        },
        {
         "data": [
          {
           "hovertemplate": "Geography=Newfoundland<br>Time=2017Q4<br>AverageMortgageAmount=%{x}<br>DelinquencyRate=%{y}<br>PopulationSize=%{marker.size}<extra></extra>",
           "ids": [
            "Newfoundland"
           ],
           "legendgroup": "Newfoundland",
           "marker": {
            "color": "#636efa",
            "size": [
             528288
            ],
            "sizemode": "area",
            "sizeref": 36835.035,
            "symbol": "circle"
           },
           "mode": "markers",
           "name": "Newfoundland",
           "orientation": "v",
           "showlegend": true,
           "type": "scatter",
           "x": [
            193619
           ],
           "xaxis": "x",
           "y": [
            0.52
           ],
           "yaxis": "y"
          },
          {
           "hovertemplate": "Geography=Prince Edward Island<br>Time=2017Q4<br>AverageMortgageAmount=%{x}<br>DelinquencyRate=%{y}<br>PopulationSize=%{marker.size}<extra></extra>",
           "ids": [
            "Prince Edward Island"
           ],
           "legendgroup": "Prince Edward Island",
           "marker": {
            "color": "#EF553B",
            "size": [
             151376
            ],
            "sizemode": "area",
            "sizeref": 36835.035,
            "symbol": "circle"
           },
           "mode": "markers",
           "name": "Prince Edward Island",
           "orientation": "v",
           "showlegend": true,
           "type": "scatter",
           "x": [
            175523
           ],
           "xaxis": "x",
           "y": [
            0.44
           ],
           "yaxis": "y"
          },
          {
           "hovertemplate": "Geography=Nova Scotia<br>Time=2017Q4<br>AverageMortgageAmount=%{x}<br>DelinquencyRate=%{y}<br>PopulationSize=%{marker.size}<extra></extra>",
           "ids": [
            "Nova Scotia"
           ],
           "legendgroup": "Nova Scotia",
           "marker": {
            "color": "#00cc96",
            "size": [
             953683
            ],
            "sizemode": "area",
            "sizeref": 36835.035,
            "symbol": "circle"
           },
           "mode": "markers",
           "name": "Nova Scotia",
           "orientation": "v",
           "showlegend": true,
           "type": "scatter",
           "x": [
            188559
           ],
           "xaxis": "x",
           "y": [
            0.58
           ],
           "yaxis": "y"
          },
          {
           "hovertemplate": "Geography=New Brunswick<br>Time=2017Q4<br>AverageMortgageAmount=%{x}<br>DelinquencyRate=%{y}<br>PopulationSize=%{marker.size}<extra></extra>",
           "ids": [
            "New Brunswick"
           ],
           "legendgroup": "New Brunswick",
           "marker": {
            "color": "#ab63fa",
            "size": [
             767935
            ],
            "sizemode": "area",
            "sizeref": 36835.035,
            "symbol": "circle"
           },
           "mode": "markers",
           "name": "New Brunswick",
           "orientation": "v",
           "showlegend": true,
           "type": "scatter",
           "x": [
            142799
           ],
           "xaxis": "x",
           "y": [
            0.66
           ],
           "yaxis": "y"
          },
          {
           "hovertemplate": "Geography=Québec<br>Time=2017Q4<br>AverageMortgageAmount=%{x}<br>DelinquencyRate=%{y}<br>PopulationSize=%{marker.size}<extra></extra>",
           "ids": [
            "Québec"
           ],
           "legendgroup": "Québec",
           "marker": {
            "color": "#FFA15A",
            "size": [
             8336460
            ],
            "sizemode": "area",
            "sizeref": 36835.035,
            "symbol": "circle"
           },
           "mode": "markers",
           "name": "Québec",
           "orientation": "v",
           "showlegend": true,
           "type": "scatter",
           "x": [
            173182
           ],
           "xaxis": "x",
           "y": [
            0.34
           ],
           "yaxis": "y"
          },
          {
           "hovertemplate": "Geography=Ontario<br>Time=2017Q4<br>AverageMortgageAmount=%{x}<br>DelinquencyRate=%{y}<br>PopulationSize=%{marker.size}<extra></extra>",
           "ids": [
            "Ontario"
           ],
           "legendgroup": "Ontario",
           "marker": {
            "color": "#19d3f3",
            "size": [
             14150783
            ],
            "sizemode": "area",
            "sizeref": 36835.035,
            "symbol": "circle"
           },
           "mode": "markers",
           "name": "Ontario",
           "orientation": "v",
           "showlegend": true,
           "type": "scatter",
           "x": [
            323821
           ],
           "xaxis": "x",
           "y": [
            0.15
           ],
           "yaxis": "y"
          },
          {
           "hovertemplate": "Geography=Manitoba<br>Time=2017Q4<br>AverageMortgageAmount=%{x}<br>DelinquencyRate=%{y}<br>PopulationSize=%{marker.size}<extra></extra>",
           "ids": [
            "Manitoba"
           ],
           "legendgroup": "Manitoba",
           "marker": {
            "color": "#FF6692",
            "size": [
             1340565
            ],
            "sizemode": "area",
            "sizeref": 36835.035,
            "symbol": "circle"
           },
           "mode": "markers",
           "name": "Manitoba",
           "orientation": "v",
           "showlegend": true,
           "type": "scatter",
           "x": [
            217136
           ],
           "xaxis": "x",
           "y": [
            0.3
           ],
           "yaxis": "y"
          },
          {
           "hovertemplate": "Geography=Saskatchewan<br>Time=2017Q4<br>AverageMortgageAmount=%{x}<br>DelinquencyRate=%{y}<br>PopulationSize=%{marker.size}<extra></extra>",
           "ids": [
            "Saskatchewan"
           ],
           "legendgroup": "Saskatchewan",
           "marker": {
            "color": "#B6E880",
            "size": [
             1154755
            ],
            "sizemode": "area",
            "sizeref": 36835.035,
            "symbol": "circle"
           },
           "mode": "markers",
           "name": "Saskatchewan",
           "orientation": "v",
           "showlegend": true,
           "type": "scatter",
           "x": [
            234340
           ],
           "xaxis": "x",
           "y": [
            0.66
           ],
           "yaxis": "y"
          },
          {
           "hovertemplate": "Geography=Alberta<br>Time=2017Q4<br>AverageMortgageAmount=%{x}<br>DelinquencyRate=%{y}<br>PopulationSize=%{marker.size}<extra></extra>",
           "ids": [
            "Alberta"
           ],
           "legendgroup": "Alberta",
           "marker": {
            "color": "#FF97FF",
            "size": [
             4258195
            ],
            "sizemode": "area",
            "sizeref": 36835.035,
            "symbol": "circle"
           },
           "mode": "markers",
           "name": "Alberta",
           "orientation": "v",
           "showlegend": true,
           "type": "scatter",
           "x": [
            307662
           ],
           "xaxis": "x",
           "y": [
            0.5
           ],
           "yaxis": "y"
          },
          {
           "hovertemplate": "Geography=British Columbia<br>Time=2017Q4<br>AverageMortgageAmount=%{x}<br>DelinquencyRate=%{y}<br>PopulationSize=%{marker.size}<extra></extra>",
           "ids": [
            "British Columbia"
           ],
           "legendgroup": "British Columbia",
           "marker": {
            "color": "#FECB52",
            "size": [
             4956550
            ],
            "sizemode": "area",
            "sizeref": 36835.035,
            "symbol": "circle"
           },
           "mode": "markers",
           "name": "British Columbia",
           "orientation": "v",
           "showlegend": true,
           "type": "scatter",
           "x": [
            381223
           ],
           "xaxis": "x",
           "y": [
            0.18
           ],
           "yaxis": "y"
          }
         ],
         "name": "2017Q4"
        },
        {
         "data": [
          {
           "hovertemplate": "Geography=Newfoundland<br>Time=2018Q1<br>AverageMortgageAmount=%{x}<br>DelinquencyRate=%{y}<br>PopulationSize=%{marker.size}<extra></extra>",
           "ids": [
            "Newfoundland"
           ],
           "legendgroup": "Newfoundland",
           "marker": {
            "color": "#636efa",
            "size": [
             527544
            ],
            "sizemode": "area",
            "sizeref": 36835.035,
            "symbol": "circle"
           },
           "mode": "markers",
           "name": "Newfoundland",
           "orientation": "v",
           "showlegend": true,
           "type": "scatter",
           "x": [
            196431
           ],
           "xaxis": "x",
           "y": [
            0.56
           ],
           "yaxis": "y"
          },
          {
           "hovertemplate": "Geography=Prince Edward Island<br>Time=2018Q1<br>AverageMortgageAmount=%{x}<br>DelinquencyRate=%{y}<br>PopulationSize=%{marker.size}<extra></extra>",
           "ids": [
            "Prince Edward Island"
           ],
           "legendgroup": "Prince Edward Island",
           "marker": {
            "color": "#EF553B",
            "size": [
             151516
            ],
            "sizemode": "area",
            "sizeref": 36835.035,
            "symbol": "circle"
           },
           "mode": "markers",
           "name": "Prince Edward Island",
           "orientation": "v",
           "showlegend": true,
           "type": "scatter",
           "x": [
            179179
           ],
           "xaxis": "x",
           "y": [
            0.5
           ],
           "yaxis": "y"
          },
          {
           "hovertemplate": "Geography=Nova Scotia<br>Time=2018Q1<br>AverageMortgageAmount=%{x}<br>DelinquencyRate=%{y}<br>PopulationSize=%{marker.size}<extra></extra>",
           "ids": [
            "Nova Scotia"
           ],
           "legendgroup": "Nova Scotia",
           "marker": {
            "color": "#00cc96",
            "size": [
             953838
            ],
            "sizemode": "area",
            "sizeref": 36835.035,
            "symbol": "circle"
           },
           "mode": "markers",
           "name": "Nova Scotia",
           "orientation": "v",
           "showlegend": true,
           "type": "scatter",
           "x": [
            185858
           ],
           "xaxis": "x",
           "y": [
            0.59
           ],
           "yaxis": "y"
          },
          {
           "hovertemplate": "Geography=New Brunswick<br>Time=2018Q1<br>AverageMortgageAmount=%{x}<br>DelinquencyRate=%{y}<br>PopulationSize=%{marker.size}<extra></extra>",
           "ids": [
            "New Brunswick"
           ],
           "legendgroup": "New Brunswick",
           "marker": {
            "color": "#ab63fa",
            "size": [
             768005
            ],
            "sizemode": "area",
            "sizeref": 36835.035,
            "symbol": "circle"
           },
           "mode": "markers",
           "name": "New Brunswick",
           "orientation": "v",
           "showlegend": true,
           "type": "scatter",
           "x": [
            139711
           ],
           "xaxis": "x",
           "y": [
            0.65
           ],
           "yaxis": "y"
          },
          {
           "hovertemplate": "Geography=Québec<br>Time=2018Q1<br>AverageMortgageAmount=%{x}<br>DelinquencyRate=%{y}<br>PopulationSize=%{marker.size}<extra></extra>",
           "ids": [
            "Québec"
           ],
           "legendgroup": "Québec",
           "marker": {
            "color": "#FFA15A",
            "size": [
             8350601
            ],
            "sizemode": "area",
            "sizeref": 36835.035,
            "symbol": "circle"
           },
           "mode": "markers",
           "name": "Québec",
           "orientation": "v",
           "showlegend": true,
           "type": "scatter",
           "x": [
            175297
           ],
           "xaxis": "x",
           "y": [
            0.34
           ],
           "yaxis": "y"
          },
          {
           "hovertemplate": "Geography=Ontario<br>Time=2018Q1<br>AverageMortgageAmount=%{x}<br>DelinquencyRate=%{y}<br>PopulationSize=%{marker.size}<extra></extra>",
           "ids": [
            "Ontario"
           ],
           "legendgroup": "Ontario",
           "marker": {
            "color": "#19d3f3",
            "size": [
             14186830
            ],
            "sizemode": "area",
            "sizeref": 36835.035,
            "symbol": "circle"
           },
           "mode": "markers",
           "name": "Ontario",
           "orientation": "v",
           "showlegend": true,
           "type": "scatter",
           "x": [
            322179
           ],
           "xaxis": "x",
           "y": [
            0.15
           ],
           "yaxis": "y"
          },
          {
           "hovertemplate": "Geography=Manitoba<br>Time=2018Q1<br>AverageMortgageAmount=%{x}<br>DelinquencyRate=%{y}<br>PopulationSize=%{marker.size}<extra></extra>",
           "ids": [
            "Manitoba"
           ],
           "legendgroup": "Manitoba",
           "marker": {
            "color": "#FF6692",
            "size": [
             1344418
            ],
            "sizemode": "area",
            "sizeref": 36835.035,
            "symbol": "circle"
           },
           "mode": "markers",
           "name": "Manitoba",
           "orientation": "v",
           "showlegend": true,
           "type": "scatter",
           "x": [
            207988
           ],
           "xaxis": "x",
           "y": [
            0.3
           ],
           "yaxis": "y"
          },
          {
           "hovertemplate": "Geography=Saskatchewan<br>Time=2018Q1<br>AverageMortgageAmount=%{x}<br>DelinquencyRate=%{y}<br>PopulationSize=%{marker.size}<extra></extra>",
           "ids": [
            "Saskatchewan"
           ],
           "legendgroup": "Saskatchewan",
           "marker": {
            "color": "#B6E880",
            "size": [
             1156659
            ],
            "sizemode": "area",
            "sizeref": 36835.035,
            "symbol": "circle"
           },
           "mode": "markers",
           "name": "Saskatchewan",
           "orientation": "v",
           "showlegend": true,
           "type": "scatter",
           "x": [
            230702
           ],
           "xaxis": "x",
           "y": [
            0.66
           ],
           "yaxis": "y"
          },
          {
           "hovertemplate": "Geography=Alberta<br>Time=2018Q1<br>AverageMortgageAmount=%{x}<br>DelinquencyRate=%{y}<br>PopulationSize=%{marker.size}<extra></extra>",
           "ids": [
            "Alberta"
           ],
           "legendgroup": "Alberta",
           "marker": {
            "color": "#FF97FF",
            "size": [
             4268853
            ],
            "sizemode": "area",
            "sizeref": 36835.035,
            "symbol": "circle"
           },
           "mode": "markers",
           "name": "Alberta",
           "orientation": "v",
           "showlegend": true,
           "type": "scatter",
           "x": [
            302814
           ],
           "xaxis": "x",
           "y": [
            0.5
           ],
           "yaxis": "y"
          },
          {
           "hovertemplate": "Geography=British Columbia<br>Time=2018Q1<br>AverageMortgageAmount=%{x}<br>DelinquencyRate=%{y}<br>PopulationSize=%{marker.size}<extra></extra>",
           "ids": [
            "British Columbia"
           ],
           "legendgroup": "British Columbia",
           "marker": {
            "color": "#FECB52",
            "size": [
             4967421
            ],
            "sizemode": "area",
            "sizeref": 36835.035,
            "symbol": "circle"
           },
           "mode": "markers",
           "name": "British Columbia",
           "orientation": "v",
           "showlegend": true,
           "type": "scatter",
           "x": [
            384794
           ],
           "xaxis": "x",
           "y": [
            0.17
           ],
           "yaxis": "y"
          }
         ],
         "name": "2018Q1"
        },
        {
         "data": [
          {
           "hovertemplate": "Geography=Newfoundland<br>Time=2018Q2<br>AverageMortgageAmount=%{x}<br>DelinquencyRate=%{y}<br>PopulationSize=%{marker.size}<extra></extra>",
           "ids": [
            "Newfoundland"
           ],
           "legendgroup": "Newfoundland",
           "marker": {
            "color": "#636efa",
            "size": [
             526395
            ],
            "sizemode": "area",
            "sizeref": 36835.035,
            "symbol": "circle"
           },
           "mode": "markers",
           "name": "Newfoundland",
           "orientation": "v",
           "showlegend": true,
           "type": "scatter",
           "x": [
            192252
           ],
           "xaxis": "x",
           "y": [
            0.6
           ],
           "yaxis": "y"
          },
          {
           "hovertemplate": "Geography=Prince Edward Island<br>Time=2018Q2<br>AverageMortgageAmount=%{x}<br>DelinquencyRate=%{y}<br>PopulationSize=%{marker.size}<extra></extra>",
           "ids": [
            "Prince Edward Island"
           ],
           "legendgroup": "Prince Edward Island",
           "marker": {
            "color": "#EF553B",
            "size": [
             152039
            ],
            "sizemode": "area",
            "sizeref": 36835.035,
            "symbol": "circle"
           },
           "mode": "markers",
           "name": "Prince Edward Island",
           "orientation": "v",
           "showlegend": true,
           "type": "scatter",
           "x": [
            182114
           ],
           "xaxis": "x",
           "y": [
            0.45
           ],
           "yaxis": "y"
          },
          {
           "hovertemplate": "Geography=Nova Scotia<br>Time=2018Q2<br>AverageMortgageAmount=%{x}<br>DelinquencyRate=%{y}<br>PopulationSize=%{marker.size}<extra></extra>",
           "ids": [
            "Nova Scotia"
           ],
           "legendgroup": "Nova Scotia",
           "marker": {
            "color": "#00cc96",
            "size": [
             954618
            ],
            "sizemode": "area",
            "sizeref": 36835.035,
            "symbol": "circle"
           },
           "mode": "markers",
           "name": "Nova Scotia",
           "orientation": "v",
           "showlegend": true,
           "type": "scatter",
           "x": [
            179407
           ],
           "xaxis": "x",
           "y": [
            0.54
           ],
           "yaxis": "y"
          },
          {
           "hovertemplate": "Geography=New Brunswick<br>Time=2018Q2<br>AverageMortgageAmount=%{x}<br>DelinquencyRate=%{y}<br>PopulationSize=%{marker.size}<extra></extra>",
           "ids": [
            "New Brunswick"
           ],
           "legendgroup": "New Brunswick",
           "marker": {
            "color": "#ab63fa",
            "size": [
             768522
            ],
            "sizemode": "area",
            "sizeref": 36835.035,
            "symbol": "circle"
           },
           "mode": "markers",
           "name": "New Brunswick",
           "orientation": "v",
           "showlegend": true,
           "type": "scatter",
           "x": [
            139750
           ],
           "xaxis": "x",
           "y": [
            0.59
           ],
           "yaxis": "y"
          },
          {
           "hovertemplate": "Geography=Québec<br>Time=2018Q2<br>AverageMortgageAmount=%{x}<br>DelinquencyRate=%{y}<br>PopulationSize=%{marker.size}<extra></extra>",
           "ids": [
            "Québec"
           ],
           "legendgroup": "Québec",
           "marker": {
            "color": "#FFA15A",
            "size": [
             8367551
            ],
            "sizemode": "area",
            "sizeref": 36835.035,
            "symbol": "circle"
           },
           "mode": "markers",
           "name": "Québec",
           "orientation": "v",
           "showlegend": true,
           "type": "scatter",
           "x": [
            183507
           ],
           "xaxis": "x",
           "y": [
            0.35
           ],
           "yaxis": "y"
          },
          {
           "hovertemplate": "Geography=Ontario<br>Time=2018Q2<br>AverageMortgageAmount=%{x}<br>DelinquencyRate=%{y}<br>PopulationSize=%{marker.size}<extra></extra>",
           "ids": [
            "Ontario"
           ],
           "legendgroup": "Ontario",
           "marker": {
            "color": "#19d3f3",
            "size": [
             14235643
            ],
            "sizemode": "area",
            "sizeref": 36835.035,
            "symbol": "circle"
           },
           "mode": "markers",
           "name": "Ontario",
           "orientation": "v",
           "showlegend": true,
           "type": "scatter",
           "x": [
            315576
           ],
           "xaxis": "x",
           "y": [
            0.14
           ],
           "yaxis": "y"
          },
          {
           "hovertemplate": "Geography=Manitoba<br>Time=2018Q2<br>AverageMortgageAmount=%{x}<br>DelinquencyRate=%{y}<br>PopulationSize=%{marker.size}<extra></extra>",
           "ids": [
            "Manitoba"
           ],
           "legendgroup": "Manitoba",
           "marker": {
            "color": "#FF6692",
            "size": [
             1347055
            ],
            "sizemode": "area",
            "sizeref": 36835.035,
            "symbol": "circle"
           },
           "mode": "markers",
           "name": "Manitoba",
           "orientation": "v",
           "showlegend": true,
           "type": "scatter",
           "x": [
            207436
           ],
           "xaxis": "x",
           "y": [
            0.31
           ],
           "yaxis": "y"
          },
          {
           "hovertemplate": "Geography=Saskatchewan<br>Time=2018Q2<br>AverageMortgageAmount=%{x}<br>DelinquencyRate=%{y}<br>PopulationSize=%{marker.size}<extra></extra>",
           "ids": [
            "Saskatchewan"
           ],
           "legendgroup": "Saskatchewan",
           "marker": {
            "color": "#B6E880",
            "size": [
             1158451
            ],
            "sizemode": "area",
            "sizeref": 36835.035,
            "symbol": "circle"
           },
           "mode": "markers",
           "name": "Saskatchewan",
           "orientation": "v",
           "showlegend": true,
           "type": "scatter",
           "x": [
            229851
           ],
           "xaxis": "x",
           "y": [
            0.67
           ],
           "yaxis": "y"
          },
          {
           "hovertemplate": "Geography=Alberta<br>Time=2018Q2<br>AverageMortgageAmount=%{x}<br>DelinquencyRate=%{y}<br>PopulationSize=%{marker.size}<extra></extra>",
           "ids": [
            "Alberta"
           ],
           "legendgroup": "Alberta",
           "marker": {
            "color": "#FF97FF",
            "size": [
             4281706
            ],
            "sizemode": "area",
            "sizeref": 36835.035,
            "symbol": "circle"
           },
           "mode": "markers",
           "name": "Alberta",
           "orientation": "v",
           "showlegend": true,
           "type": "scatter",
           "x": [
            302116
           ],
           "xaxis": "x",
           "y": [
            0.46
           ],
           "yaxis": "y"
          },
          {
           "hovertemplate": "Geography=British Columbia<br>Time=2018Q2<br>AverageMortgageAmount=%{x}<br>DelinquencyRate=%{y}<br>PopulationSize=%{marker.size}<extra></extra>",
           "ids": [
            "British Columbia"
           ],
           "legendgroup": "British Columbia",
           "marker": {
            "color": "#FECB52",
            "size": [
             4983183
            ],
            "sizemode": "area",
            "sizeref": 36835.035,
            "symbol": "circle"
           },
           "mode": "markers",
           "name": "British Columbia",
           "orientation": "v",
           "showlegend": true,
           "type": "scatter",
           "x": [
            371860
           ],
           "xaxis": "x",
           "y": [
            0.17
           ],
           "yaxis": "y"
          }
         ],
         "name": "2018Q2"
        },
        {
         "data": [
          {
           "hovertemplate": "Geography=Newfoundland<br>Time=2018Q3<br>AverageMortgageAmount=%{x}<br>DelinquencyRate=%{y}<br>PopulationSize=%{marker.size}<extra></extra>",
           "ids": [
            "Newfoundland"
           ],
           "legendgroup": "Newfoundland",
           "marker": {
            "color": "#636efa",
            "size": [
             525560
            ],
            "sizemode": "area",
            "sizeref": 36835.035,
            "symbol": "circle"
           },
           "mode": "markers",
           "name": "Newfoundland",
           "orientation": "v",
           "showlegend": true,
           "type": "scatter",
           "x": [
            192106
           ],
           "xaxis": "x",
           "y": [
            0.6
           ],
           "yaxis": "y"
          },
          {
           "hovertemplate": "Geography=Prince Edward Island<br>Time=2018Q3<br>AverageMortgageAmount=%{x}<br>DelinquencyRate=%{y}<br>PopulationSize=%{marker.size}<extra></extra>",
           "ids": [
            "Prince Edward Island"
           ],
           "legendgroup": "Prince Edward Island",
           "marker": {
            "color": "#EF553B",
            "size": [
             153396
            ],
            "sizemode": "area",
            "sizeref": 36835.035,
            "symbol": "circle"
           },
           "mode": "markers",
           "name": "Prince Edward Island",
           "orientation": "v",
           "showlegend": true,
           "type": "scatter",
           "x": [
            181967
           ],
           "xaxis": "x",
           "y": [
            0.43
           ],
           "yaxis": "y"
          },
          {
           "hovertemplate": "Geography=Nova Scotia<br>Time=2018Q3<br>AverageMortgageAmount=%{x}<br>DelinquencyRate=%{y}<br>PopulationSize=%{marker.size}<extra></extra>",
           "ids": [
            "Nova Scotia"
           ],
           "legendgroup": "Nova Scotia",
           "marker": {
            "color": "#00cc96",
            "size": [
             958406
            ],
            "sizemode": "area",
            "sizeref": 36835.035,
            "symbol": "circle"
           },
           "mode": "markers",
           "name": "Nova Scotia",
           "orientation": "v",
           "showlegend": true,
           "type": "scatter",
           "x": [
            190443
           ],
           "xaxis": "x",
           "y": [
            0.52
           ],
           "yaxis": "y"
          },
          {
           "hovertemplate": "Geography=New Brunswick<br>Time=2018Q3<br>AverageMortgageAmount=%{x}<br>DelinquencyRate=%{y}<br>PopulationSize=%{marker.size}<extra></extra>",
           "ids": [
            "New Brunswick"
           ],
           "legendgroup": "New Brunswick",
           "marker": {
            "color": "#ab63fa",
            "size": [
             770301
            ],
            "sizemode": "area",
            "sizeref": 36835.035,
            "symbol": "circle"
           },
           "mode": "markers",
           "name": "New Brunswick",
           "orientation": "v",
           "showlegend": true,
           "type": "scatter",
           "x": [
            150353
           ],
           "xaxis": "x",
           "y": [
            0.58
           ],
           "yaxis": "y"
          },
          {
           "hovertemplate": "Geography=Québec<br>Time=2018Q3<br>AverageMortgageAmount=%{x}<br>DelinquencyRate=%{y}<br>PopulationSize=%{marker.size}<extra></extra>",
           "ids": [
            "Québec"
           ],
           "legendgroup": "Québec",
           "marker": {
            "color": "#FFA15A",
            "size": [
             8401738
            ],
            "sizemode": "area",
            "sizeref": 36835.035,
            "symbol": "circle"
           },
           "mode": "markers",
           "name": "Québec",
           "orientation": "v",
           "showlegend": true,
           "type": "scatter",
           "x": [
            187727
           ],
           "xaxis": "x",
           "y": [
            0.35
           ],
           "yaxis": "y"
          },
          {
           "hovertemplate": "Geography=Ontario<br>Time=2018Q3<br>AverageMortgageAmount=%{x}<br>DelinquencyRate=%{y}<br>PopulationSize=%{marker.size}<extra></extra>",
           "ids": [
            "Ontario"
           ],
           "legendgroup": "Ontario",
           "marker": {
            "color": "#19d3f3",
            "size": [
             14308697
            ],
            "sizemode": "area",
            "sizeref": 36835.035,
            "symbol": "circle"
           },
           "mode": "markers",
           "name": "Ontario",
           "orientation": "v",
           "showlegend": true,
           "type": "scatter",
           "x": [
            327367
           ],
           "xaxis": "x",
           "y": [
            0.13
           ],
           "yaxis": "y"
          },
          {
           "hovertemplate": "Geography=Manitoba<br>Time=2018Q3<br>AverageMortgageAmount=%{x}<br>DelinquencyRate=%{y}<br>PopulationSize=%{marker.size}<extra></extra>",
           "ids": [
            "Manitoba"
           ],
           "legendgroup": "Manitoba",
           "marker": {
            "color": "#FF6692",
            "size": [
             1352825
            ],
            "sizemode": "area",
            "sizeref": 36835.035,
            "symbol": "circle"
           },
           "mode": "markers",
           "name": "Manitoba",
           "orientation": "v",
           "showlegend": true,
           "type": "scatter",
           "x": [
            220454
           ],
           "xaxis": "x",
           "y": [
            0.32
           ],
           "yaxis": "y"
          },
          {
           "hovertemplate": "Geography=Saskatchewan<br>Time=2018Q3<br>AverageMortgageAmount=%{x}<br>DelinquencyRate=%{y}<br>PopulationSize=%{marker.size}<extra></extra>",
           "ids": [
            "Saskatchewan"
           ],
           "legendgroup": "Saskatchewan",
           "marker": {
            "color": "#B6E880",
            "size": [
             1161767
            ],
            "sizemode": "area",
            "sizeref": 36835.035,
            "symbol": "circle"
           },
           "mode": "markers",
           "name": "Saskatchewan",
           "orientation": "v",
           "showlegend": true,
           "type": "scatter",
           "x": [
            233255
           ],
           "xaxis": "x",
           "y": [
            0.7
           ],
           "yaxis": "y"
          },
          {
           "hovertemplate": "Geography=Alberta<br>Time=2018Q3<br>AverageMortgageAmount=%{x}<br>DelinquencyRate=%{y}<br>PopulationSize=%{marker.size}<extra></extra>",
           "ids": [
            "Alberta"
           ],
           "legendgroup": "Alberta",
           "marker": {
            "color": "#FF97FF",
            "size": [
             4298275
            ],
            "sizemode": "area",
            "sizeref": 36835.035,
            "symbol": "circle"
           },
           "mode": "markers",
           "name": "Alberta",
           "orientation": "v",
           "showlegend": true,
           "type": "scatter",
           "x": [
            305101
           ],
           "xaxis": "x",
           "y": [
            0.47
           ],
           "yaxis": "y"
          },
          {
           "hovertemplate": "Geography=British Columbia<br>Time=2018Q3<br>AverageMortgageAmount=%{x}<br>DelinquencyRate=%{y}<br>PopulationSize=%{marker.size}<extra></extra>",
           "ids": [
            "British Columbia"
           ],
           "legendgroup": "British Columbia",
           "marker": {
            "color": "#FECB52",
            "size": [
             5010476
            ],
            "sizemode": "area",
            "sizeref": 36835.035,
            "symbol": "circle"
           },
           "mode": "markers",
           "name": "British Columbia",
           "orientation": "v",
           "showlegend": true,
           "type": "scatter",
           "x": [
            378187
           ],
           "xaxis": "x",
           "y": [
            0.16
           ],
           "yaxis": "y"
          }
         ],
         "name": "2018Q3"
        },
        {
         "data": [
          {
           "hovertemplate": "Geography=Newfoundland<br>Time=2018Q4<br>AverageMortgageAmount=%{x}<br>DelinquencyRate=%{y}<br>PopulationSize=%{marker.size}<extra></extra>",
           "ids": [
            "Newfoundland"
           ],
           "legendgroup": "Newfoundland",
           "marker": {
            "color": "#636efa",
            "size": [
             525765
            ],
            "sizemode": "area",
            "sizeref": 36835.035,
            "symbol": "circle"
           },
           "mode": "markers",
           "name": "Newfoundland",
           "orientation": "v",
           "showlegend": true,
           "type": "scatter",
           "x": [
            188614
           ],
           "xaxis": "x",
           "y": [
            0.62
           ],
           "yaxis": "y"
          },
          {
           "hovertemplate": "Geography=Prince Edward Island<br>Time=2018Q4<br>AverageMortgageAmount=%{x}<br>DelinquencyRate=%{y}<br>PopulationSize=%{marker.size}<extra></extra>",
           "ids": [
            "Prince Edward Island"
           ],
           "legendgroup": "Prince Edward Island",
           "marker": {
            "color": "#EF553B",
            "size": [
             155129
            ],
            "sizemode": "area",
            "sizeref": 36835.035,
            "symbol": "circle"
           },
           "mode": "markers",
           "name": "Prince Edward Island",
           "orientation": "v",
           "showlegend": true,
           "type": "scatter",
           "x": [
            178140
           ],
           "xaxis": "x",
           "y": [
            0.39
           ],
           "yaxis": "y"
          },
          {
           "hovertemplate": "Geography=Nova Scotia<br>Time=2018Q4<br>AverageMortgageAmount=%{x}<br>DelinquencyRate=%{y}<br>PopulationSize=%{marker.size}<extra></extra>",
           "ids": [
            "Nova Scotia"
           ],
           "legendgroup": "Nova Scotia",
           "marker": {
            "color": "#00cc96",
            "size": [
             963309
            ],
            "sizemode": "area",
            "sizeref": 36835.035,
            "symbol": "circle"
           },
           "mode": "markers",
           "name": "Nova Scotia",
           "orientation": "v",
           "showlegend": true,
           "type": "scatter",
           "x": [
            179921
           ],
           "xaxis": "x",
           "y": [
            0.56
           ],
           "yaxis": "y"
          },
          {
           "hovertemplate": "Geography=New Brunswick<br>Time=2018Q4<br>AverageMortgageAmount=%{x}<br>DelinquencyRate=%{y}<br>PopulationSize=%{marker.size}<extra></extra>",
           "ids": [
            "New Brunswick"
           ],
           "legendgroup": "New Brunswick",
           "marker": {
            "color": "#ab63fa",
            "size": [
             772524
            ],
            "sizemode": "area",
            "sizeref": 36835.035,
            "symbol": "circle"
           },
           "mode": "markers",
           "name": "New Brunswick",
           "orientation": "v",
           "showlegend": true,
           "type": "scatter",
           "x": [
            143324
           ],
           "xaxis": "x",
           "y": [
            0.62
           ],
           "yaxis": "y"
          },
          {
           "hovertemplate": "Geography=Québec<br>Time=2018Q4<br>AverageMortgageAmount=%{x}<br>DelinquencyRate=%{y}<br>PopulationSize=%{marker.size}<extra></extra>",
           "ids": [
            "Québec"
           ],
           "legendgroup": "Québec",
           "marker": {
            "color": "#FFA15A",
            "size": [
             8433888
            ],
            "sizemode": "area",
            "sizeref": 36835.035,
            "symbol": "circle"
           },
           "mode": "markers",
           "name": "Québec",
           "orientation": "v",
           "showlegend": true,
           "type": "scatter",
           "x": [
            173911
           ],
           "xaxis": "x",
           "y": [
            0.38
           ],
           "yaxis": "y"
          },
          {
           "hovertemplate": "Geography=Ontario<br>Time=2018Q4<br>AverageMortgageAmount=%{x}<br>DelinquencyRate=%{y}<br>PopulationSize=%{marker.size}<extra></extra>",
           "ids": [
            "Ontario"
           ],
           "legendgroup": "Ontario",
           "marker": {
            "color": "#19d3f3",
            "size": [
             14393683
            ],
            "sizemode": "area",
            "sizeref": 36835.035,
            "symbol": "circle"
           },
           "mode": "markers",
           "name": "Ontario",
           "orientation": "v",
           "showlegend": true,
           "type": "scatter",
           "x": [
            321579
           ],
           "xaxis": "x",
           "y": [
            0.14
           ],
           "yaxis": "y"
          },
          {
           "hovertemplate": "Geography=Manitoba<br>Time=2018Q4<br>AverageMortgageAmount=%{x}<br>DelinquencyRate=%{y}<br>PopulationSize=%{marker.size}<extra></extra>",
           "ids": [
            "Manitoba"
           ],
           "legendgroup": "Manitoba",
           "marker": {
            "color": "#FF6692",
            "size": [
             1357879
            ],
            "sizemode": "area",
            "sizeref": 36835.035,
            "symbol": "circle"
           },
           "mode": "markers",
           "name": "Manitoba",
           "orientation": "v",
           "showlegend": true,
           "type": "scatter",
           "x": [
            214060
           ],
           "xaxis": "x",
           "y": [
            0.35
           ],
           "yaxis": "y"
          },
          {
           "hovertemplate": "Geography=Saskatchewan<br>Time=2018Q4<br>AverageMortgageAmount=%{x}<br>DelinquencyRate=%{y}<br>PopulationSize=%{marker.size}<extra></extra>",
           "ids": [
            "Saskatchewan"
           ],
           "legendgroup": "Saskatchewan",
           "marker": {
            "color": "#B6E880",
            "size": [
             1165938
            ],
            "sizemode": "area",
            "sizeref": 36835.035,
            "symbol": "circle"
           },
           "mode": "markers",
           "name": "Saskatchewan",
           "orientation": "v",
           "showlegend": true,
           "type": "scatter",
           "x": [
            223628
           ],
           "xaxis": "x",
           "y": [
            0.72
           ],
           "yaxis": "y"
          },
          {
           "hovertemplate": "Geography=Alberta<br>Time=2018Q4<br>AverageMortgageAmount=%{x}<br>DelinquencyRate=%{y}<br>PopulationSize=%{marker.size}<extra></extra>",
           "ids": [
            "Alberta"
           ],
           "legendgroup": "Alberta",
           "marker": {
            "color": "#FF97FF",
            "size": [
             4317453
            ],
            "sizemode": "area",
            "sizeref": 36835.035,
            "symbol": "circle"
           },
           "mode": "markers",
           "name": "Alberta",
           "orientation": "v",
           "showlegend": true,
           "type": "scatter",
           "x": [
            295839
           ],
           "xaxis": "x",
           "y": [
            0.5
           ],
           "yaxis": "y"
          },
          {
           "hovertemplate": "Geography=British Columbia<br>Time=2018Q4<br>AverageMortgageAmount=%{x}<br>DelinquencyRate=%{y}<br>PopulationSize=%{marker.size}<extra></extra>",
           "ids": [
            "British Columbia"
           ],
           "legendgroup": "British Columbia",
           "marker": {
            "color": "#FECB52",
            "size": [
             5039661
            ],
            "sizemode": "area",
            "sizeref": 36835.035,
            "symbol": "circle"
           },
           "mode": "markers",
           "name": "British Columbia",
           "orientation": "v",
           "showlegend": true,
           "type": "scatter",
           "x": [
            364330
           ],
           "xaxis": "x",
           "y": [
            0.17
           ],
           "yaxis": "y"
          }
         ],
         "name": "2018Q4"
        },
        {
         "data": [
          {
           "hovertemplate": "Geography=Newfoundland<br>Time=2019Q1<br>AverageMortgageAmount=%{x}<br>DelinquencyRate=%{y}<br>PopulationSize=%{marker.size}<extra></extra>",
           "ids": [
            "Newfoundland"
           ],
           "legendgroup": "Newfoundland",
           "marker": {
            "color": "#636efa",
            "size": [
             524883
            ],
            "sizemode": "area",
            "sizeref": 36835.035,
            "symbol": "circle"
           },
           "mode": "markers",
           "name": "Newfoundland",
           "orientation": "v",
           "showlegend": true,
           "type": "scatter",
           "x": [
            185276
           ],
           "xaxis": "x",
           "y": [
            0.64
           ],
           "yaxis": "y"
          },
          {
           "hovertemplate": "Geography=Prince Edward Island<br>Time=2019Q1<br>AverageMortgageAmount=%{x}<br>DelinquencyRate=%{y}<br>PopulationSize=%{marker.size}<extra></extra>",
           "ids": [
            "Prince Edward Island"
           ],
           "legendgroup": "Prince Edward Island",
           "marker": {
            "color": "#EF553B",
            "size": [
             155244
            ],
            "sizemode": "area",
            "sizeref": 36835.035,
            "symbol": "circle"
           },
           "mode": "markers",
           "name": "Prince Edward Island",
           "orientation": "v",
           "showlegend": true,
           "type": "scatter",
           "x": [
            181172
           ],
           "xaxis": "x",
           "y": [
            0.39
           ],
           "yaxis": "y"
          },
          {
           "hovertemplate": "Geography=Nova Scotia<br>Time=2019Q1<br>AverageMortgageAmount=%{x}<br>DelinquencyRate=%{y}<br>PopulationSize=%{marker.size}<extra></extra>",
           "ids": [
            "Nova Scotia"
           ],
           "legendgroup": "Nova Scotia",
           "marker": {
            "color": "#00cc96",
            "size": [
             963890
            ],
            "sizemode": "area",
            "sizeref": 36835.035,
            "symbol": "circle"
           },
           "mode": "markers",
           "name": "Nova Scotia",
           "orientation": "v",
           "showlegend": true,
           "type": "scatter",
           "x": [
            177863
           ],
           "xaxis": "x",
           "y": [
            0.54
           ],
           "yaxis": "y"
          },
          {
           "hovertemplate": "Geography=New Brunswick<br>Time=2019Q1<br>AverageMortgageAmount=%{x}<br>DelinquencyRate=%{y}<br>PopulationSize=%{marker.size}<extra></extra>",
           "ids": [
            "New Brunswick"
           ],
           "legendgroup": "New Brunswick",
           "marker": {
            "color": "#ab63fa",
            "size": [
             772748
            ],
            "sizemode": "area",
            "sizeref": 36835.035,
            "symbol": "circle"
           },
           "mode": "markers",
           "name": "New Brunswick",
           "orientation": "v",
           "showlegend": true,
           "type": "scatter",
           "x": [
            140850
           ],
           "xaxis": "x",
           "y": [
            0.63
           ],
           "yaxis": "y"
          },
          {
           "hovertemplate": "Geography=Québec<br>Time=2019Q1<br>AverageMortgageAmount=%{x}<br>DelinquencyRate=%{y}<br>PopulationSize=%{marker.size}<extra></extra>",
           "ids": [
            "Québec"
           ],
           "legendgroup": "Québec",
           "marker": {
            "color": "#FFA15A",
            "size": [
             8446906
            ],
            "sizemode": "area",
            "sizeref": 36835.035,
            "symbol": "circle"
           },
           "mode": "markers",
           "name": "Québec",
           "orientation": "v",
           "showlegend": true,
           "type": "scatter",
           "x": [
            175658
           ],
           "xaxis": "x",
           "y": [
            0.38
           ],
           "yaxis": "y"
          },
          {
           "hovertemplate": "Geography=Ontario<br>Time=2019Q1<br>AverageMortgageAmount=%{x}<br>DelinquencyRate=%{y}<br>PopulationSize=%{marker.size}<extra></extra>",
           "ids": [
            "Ontario"
           ],
           "legendgroup": "Ontario",
           "marker": {
            "color": "#19d3f3",
            "size": [
             14428712
            ],
            "sizemode": "area",
            "sizeref": 36835.035,
            "symbol": "circle"
           },
           "mode": "markers",
           "name": "Ontario",
           "orientation": "v",
           "showlegend": true,
           "type": "scatter",
           "x": [
            321074
           ],
           "xaxis": "x",
           "y": [
            0.14
           ],
           "yaxis": "y"
          },
          {
           "hovertemplate": "Geography=Manitoba<br>Time=2019Q1<br>AverageMortgageAmount=%{x}<br>DelinquencyRate=%{y}<br>PopulationSize=%{marker.size}<extra></extra>",
           "ids": [
            "Manitoba"
           ],
           "legendgroup": "Manitoba",
           "marker": {
            "color": "#FF6692",
            "size": [
             1361632
            ],
            "sizemode": "area",
            "sizeref": 36835.035,
            "symbol": "circle"
           },
           "mode": "markers",
           "name": "Manitoba",
           "orientation": "v",
           "showlegend": true,
           "type": "scatter",
           "x": [
            206692
           ],
           "xaxis": "x",
           "y": [
            0.35
           ],
           "yaxis": "y"
          },
          {
           "hovertemplate": "Geography=Saskatchewan<br>Time=2019Q1<br>AverageMortgageAmount=%{x}<br>DelinquencyRate=%{y}<br>PopulationSize=%{marker.size}<extra></extra>",
           "ids": [
            "Saskatchewan"
           ],
           "legendgroup": "Saskatchewan",
           "marker": {
            "color": "#B6E880",
            "size": [
             1168461
            ],
            "sizemode": "area",
            "sizeref": 36835.035,
            "symbol": "circle"
           },
           "mode": "markers",
           "name": "Saskatchewan",
           "orientation": "v",
           "showlegend": true,
           "type": "scatter",
           "x": [
            217157
           ],
           "xaxis": "x",
           "y": [
            0.74
           ],
           "yaxis": "y"
          },
          {
           "hovertemplate": "Geography=Alberta<br>Time=2019Q1<br>AverageMortgageAmount=%{x}<br>DelinquencyRate=%{y}<br>PopulationSize=%{marker.size}<extra></extra>",
           "ids": [
            "Alberta"
           ],
           "legendgroup": "Alberta",
           "marker": {
            "color": "#FF97FF",
            "size": [
             4330698
            ],
            "sizemode": "area",
            "sizeref": 36835.035,
            "symbol": "circle"
           },
           "mode": "markers",
           "name": "Alberta",
           "orientation": "v",
           "showlegend": true,
           "type": "scatter",
           "x": [
            291721
           ],
           "xaxis": "x",
           "y": [
            0.51
           ],
           "yaxis": "y"
          },
          {
           "hovertemplate": "Geography=British Columbia<br>Time=2019Q1<br>AverageMortgageAmount=%{x}<br>DelinquencyRate=%{y}<br>PopulationSize=%{marker.size}<extra></extra>",
           "ids": [
            "British Columbia"
           ],
           "legendgroup": "British Columbia",
           "marker": {
            "color": "#FECB52",
            "size": [
             5046576
            ],
            "sizemode": "area",
            "sizeref": 36835.035,
            "symbol": "circle"
           },
           "mode": "markers",
           "name": "British Columbia",
           "orientation": "v",
           "showlegend": true,
           "type": "scatter",
           "x": [
            363239
           ],
           "xaxis": "x",
           "y": [
            0.17
           ],
           "yaxis": "y"
          }
         ],
         "name": "2019Q1"
        },
        {
         "data": [
          {
           "hovertemplate": "Geography=Newfoundland<br>Time=2019Q2<br>AverageMortgageAmount=%{x}<br>DelinquencyRate=%{y}<br>PopulationSize=%{marker.size}<extra></extra>",
           "ids": [
            "Newfoundland"
           ],
           "legendgroup": "Newfoundland",
           "marker": {
            "color": "#636efa",
            "size": [
             524126
            ],
            "sizemode": "area",
            "sizeref": 36835.035,
            "symbol": "circle"
           },
           "mode": "markers",
           "name": "Newfoundland",
           "orientation": "v",
           "showlegend": true,
           "type": "scatter",
           "x": [
            190582
           ],
           "xaxis": "x",
           "y": [
            0.65
           ],
           "yaxis": "y"
          },
          {
           "hovertemplate": "Geography=Prince Edward Island<br>Time=2019Q2<br>AverageMortgageAmount=%{x}<br>DelinquencyRate=%{y}<br>PopulationSize=%{marker.size}<extra></extra>",
           "ids": [
            "Prince Edward Island"
           ],
           "legendgroup": "Prince Edward Island",
           "marker": {
            "color": "#EF553B",
            "size": [
             155833
            ],
            "sizemode": "area",
            "sizeref": 36835.035,
            "symbol": "circle"
           },
           "mode": "markers",
           "name": "Prince Edward Island",
           "orientation": "v",
           "showlegend": true,
           "type": "scatter",
           "x": [
            181358
           ],
           "xaxis": "x",
           "y": [
            0.38
           ],
           "yaxis": "y"
          },
          {
           "hovertemplate": "Geography=Nova Scotia<br>Time=2019Q2<br>AverageMortgageAmount=%{x}<br>DelinquencyRate=%{y}<br>PopulationSize=%{marker.size}<extra></extra>",
           "ids": [
            "Nova Scotia"
           ],
           "legendgroup": "Nova Scotia",
           "marker": {
            "color": "#00cc96",
            "size": [
             965287
            ],
            "sizemode": "area",
            "sizeref": 36835.035,
            "symbol": "circle"
           },
           "mode": "markers",
           "name": "Nova Scotia",
           "orientation": "v",
           "showlegend": true,
           "type": "scatter",
           "x": [
            180958
           ],
           "xaxis": "x",
           "y": [
            0.52
           ],
           "yaxis": "y"
          },
          {
           "hovertemplate": "Geography=New Brunswick<br>Time=2019Q2<br>AverageMortgageAmount=%{x}<br>DelinquencyRate=%{y}<br>PopulationSize=%{marker.size}<extra></extra>",
           "ids": [
            "New Brunswick"
           ],
           "legendgroup": "New Brunswick",
           "marker": {
            "color": "#ab63fa",
            "size": [
             773805
            ],
            "sizemode": "area",
            "sizeref": 36835.035,
            "symbol": "circle"
           },
           "mode": "markers",
           "name": "New Brunswick",
           "orientation": "v",
           "showlegend": true,
           "type": "scatter",
           "x": [
            137809
           ],
           "xaxis": "x",
           "y": [
            0.6
           ],
           "yaxis": "y"
          },
          {
           "hovertemplate": "Geography=Québec<br>Time=2019Q2<br>AverageMortgageAmount=%{x}<br>DelinquencyRate=%{y}<br>PopulationSize=%{marker.size}<extra></extra>",
           "ids": [
            "Québec"
           ],
           "legendgroup": "Québec",
           "marker": {
            "color": "#FFA15A",
            "size": [
             8465271
            ],
            "sizemode": "area",
            "sizeref": 36835.035,
            "symbol": "circle"
           },
           "mode": "markers",
           "name": "Québec",
           "orientation": "v",
           "showlegend": true,
           "type": "scatter",
           "x": [
            179523
           ],
           "xaxis": "x",
           "y": [
            0.37
           ],
           "yaxis": "y"
          },
          {
           "hovertemplate": "Geography=Ontario<br>Time=2019Q2<br>AverageMortgageAmount=%{x}<br>DelinquencyRate=%{y}<br>PopulationSize=%{marker.size}<extra></extra>",
           "ids": [
            "Ontario"
           ],
           "legendgroup": "Ontario",
           "marker": {
            "color": "#19d3f3",
            "size": [
             14467162
            ],
            "sizemode": "area",
            "sizeref": 36835.035,
            "symbol": "circle"
           },
           "mode": "markers",
           "name": "Ontario",
           "orientation": "v",
           "showlegend": true,
           "type": "scatter",
           "x": [
            324080
           ],
           "xaxis": "x",
           "y": [
            0.14
           ],
           "yaxis": "y"
          },
          {
           "hovertemplate": "Geography=Manitoba<br>Time=2019Q2<br>AverageMortgageAmount=%{x}<br>DelinquencyRate=%{y}<br>PopulationSize=%{marker.size}<extra></extra>",
           "ids": [
            "Manitoba"
           ],
           "legendgroup": "Manitoba",
           "marker": {
            "color": "#FF6692",
            "size": [
             1364223
            ],
            "sizemode": "area",
            "sizeref": 36835.035,
            "symbol": "circle"
           },
           "mode": "markers",
           "name": "Manitoba",
           "orientation": "v",
           "showlegend": true,
           "type": "scatter",
           "x": [
            214873
           ],
           "xaxis": "x",
           "y": [
            0.35
           ],
           "yaxis": "y"
          },
          {
           "hovertemplate": "Geography=Saskatchewan<br>Time=2019Q2<br>AverageMortgageAmount=%{x}<br>DelinquencyRate=%{y}<br>PopulationSize=%{marker.size}<extra></extra>",
           "ids": [
            "Saskatchewan"
           ],
           "legendgroup": "Saskatchewan",
           "marker": {
            "color": "#B6E880",
            "size": [
             1169286
            ],
            "sizemode": "area",
            "sizeref": 36835.035,
            "symbol": "circle"
           },
           "mode": "markers",
           "name": "Saskatchewan",
           "orientation": "v",
           "showlegend": true,
           "type": "scatter",
           "x": [
            216369
           ],
           "xaxis": "x",
           "y": [
            0.75
           ],
           "yaxis": "y"
          },
          {
           "hovertemplate": "Geography=Alberta<br>Time=2019Q2<br>AverageMortgageAmount=%{x}<br>DelinquencyRate=%{y}<br>PopulationSize=%{marker.size}<extra></extra>",
           "ids": [
            "Alberta"
           ],
           "legendgroup": "Alberta",
           "marker": {
            "color": "#FF97FF",
            "size": [
             4343951
            ],
            "sizemode": "area",
            "sizeref": 36835.035,
            "symbol": "circle"
           },
           "mode": "markers",
           "name": "Alberta",
           "orientation": "v",
           "showlegend": true,
           "type": "scatter",
           "x": [
            293612
           ],
           "xaxis": "x",
           "y": [
            0.53
           ],
           "yaxis": "y"
          },
          {
           "hovertemplate": "Geography=British Columbia<br>Time=2019Q2<br>AverageMortgageAmount=%{x}<br>DelinquencyRate=%{y}<br>PopulationSize=%{marker.size}<extra></extra>",
           "ids": [
            "British Columbia"
           ],
           "legendgroup": "British Columbia",
           "marker": {
            "color": "#FECB52",
            "size": [
             5063527
            ],
            "sizemode": "area",
            "sizeref": 36835.035,
            "symbol": "circle"
           },
           "mode": "markers",
           "name": "British Columbia",
           "orientation": "v",
           "showlegend": true,
           "type": "scatter",
           "x": [
            363924
           ],
           "xaxis": "x",
           "y": [
            0.17
           ],
           "yaxis": "y"
          }
         ],
         "name": "2019Q2"
        },
        {
         "data": [
          {
           "hovertemplate": "Geography=Newfoundland<br>Time=2019Q3<br>AverageMortgageAmount=%{x}<br>DelinquencyRate=%{y}<br>PopulationSize=%{marker.size}<extra></extra>",
           "ids": [
            "Newfoundland"
           ],
           "legendgroup": "Newfoundland",
           "marker": {
            "color": "#636efa",
            "size": [
             523476
            ],
            "sizemode": "area",
            "sizeref": 36835.035,
            "symbol": "circle"
           },
           "mode": "markers",
           "name": "Newfoundland",
           "orientation": "v",
           "showlegend": true,
           "type": "scatter",
           "x": [
            194536
           ],
           "xaxis": "x",
           "y": [
            0.65
           ],
           "yaxis": "y"
          },
          {
           "hovertemplate": "Geography=Prince Edward Island<br>Time=2019Q3<br>AverageMortgageAmount=%{x}<br>DelinquencyRate=%{y}<br>PopulationSize=%{marker.size}<extra></extra>",
           "ids": [
            "Prince Edward Island"
           ],
           "legendgroup": "Prince Edward Island",
           "marker": {
            "color": "#EF553B",
            "size": [
             157262
            ],
            "sizemode": "area",
            "sizeref": 36835.035,
            "symbol": "circle"
           },
           "mode": "markers",
           "name": "Prince Edward Island",
           "orientation": "v",
           "showlegend": true,
           "type": "scatter",
           "x": [
            190715
           ],
           "xaxis": "x",
           "y": [
            0.34
           ],
           "yaxis": "y"
          },
          {
           "hovertemplate": "Geography=Nova Scotia<br>Time=2019Q3<br>AverageMortgageAmount=%{x}<br>DelinquencyRate=%{y}<br>PopulationSize=%{marker.size}<extra></extra>",
           "ids": [
            "Nova Scotia"
           ],
           "legendgroup": "Nova Scotia",
           "marker": {
            "color": "#00cc96",
            "size": [
             969747
            ],
            "sizemode": "area",
            "sizeref": 36835.035,
            "symbol": "circle"
           },
           "mode": "markers",
           "name": "Nova Scotia",
           "orientation": "v",
           "showlegend": true,
           "type": "scatter",
           "x": [
            193586
           ],
           "xaxis": "x",
           "y": [
            0.5
           ],
           "yaxis": "y"
          },
          {
           "hovertemplate": "Geography=New Brunswick<br>Time=2019Q3<br>AverageMortgageAmount=%{x}<br>DelinquencyRate=%{y}<br>PopulationSize=%{marker.size}<extra></extra>",
           "ids": [
            "New Brunswick"
           ],
           "legendgroup": "New Brunswick",
           "marker": {
            "color": "#ab63fa",
            "size": [
             776868
            ],
            "sizemode": "area",
            "sizeref": 36835.035,
            "symbol": "circle"
           },
           "mode": "markers",
           "name": "New Brunswick",
           "orientation": "v",
           "showlegend": true,
           "type": "scatter",
           "x": [
            152606
           ],
           "xaxis": "x",
           "y": [
            0.57
           ],
           "yaxis": "y"
          },
          {
           "hovertemplate": "Geography=Québec<br>Time=2019Q3<br>AverageMortgageAmount=%{x}<br>DelinquencyRate=%{y}<br>PopulationSize=%{marker.size}<extra></extra>",
           "ids": [
            "Québec"
           ],
           "legendgroup": "Québec",
           "marker": {
            "color": "#FFA15A",
            "size": [
             8501703
            ],
            "sizemode": "area",
            "sizeref": 36835.035,
            "symbol": "circle"
           },
           "mode": "markers",
           "name": "Québec",
           "orientation": "v",
           "showlegend": true,
           "type": "scatter",
           "x": [
            187136
           ],
           "xaxis": "x",
           "y": [
            0.37
           ],
           "yaxis": "y"
          },
          {
           "hovertemplate": "Geography=Ontario<br>Time=2019Q3<br>AverageMortgageAmount=%{x}<br>DelinquencyRate=%{y}<br>PopulationSize=%{marker.size}<extra></extra>",
           "ids": [
            "Ontario"
           ],
           "legendgroup": "Ontario",
           "marker": {
            "color": "#19d3f3",
            "size": [
             14544718
            ],
            "sizemode": "area",
            "sizeref": 36835.035,
            "symbol": "circle"
           },
           "mode": "markers",
           "name": "Ontario",
           "orientation": "v",
           "showlegend": true,
           "type": "scatter",
           "x": [
            343117
           ],
           "xaxis": "x",
           "y": [
            0.14
           ],
           "yaxis": "y"
          },
          {
           "hovertemplate": "Geography=Manitoba<br>Time=2019Q3<br>AverageMortgageAmount=%{x}<br>DelinquencyRate=%{y}<br>PopulationSize=%{marker.size}<extra></extra>",
           "ids": [
            "Manitoba"
           ],
           "legendgroup": "Manitoba",
           "marker": {
            "color": "#FF6692",
            "size": [
             1369540
            ],
            "sizemode": "area",
            "sizeref": 36835.035,
            "symbol": "circle"
           },
           "mode": "markers",
           "name": "Manitoba",
           "orientation": "v",
           "showlegend": true,
           "type": "scatter",
           "x": [
            222637
           ],
           "xaxis": "x",
           "y": [
            0.34
           ],
           "yaxis": "y"
          },
          {
           "hovertemplate": "Geography=Saskatchewan<br>Time=2019Q3<br>AverageMortgageAmount=%{x}<br>DelinquencyRate=%{y}<br>PopulationSize=%{marker.size}<extra></extra>",
           "ids": [
            "Saskatchewan"
           ],
           "legendgroup": "Saskatchewan",
           "marker": {
            "color": "#B6E880",
            "size": [
             1172302
            ],
            "sizemode": "area",
            "sizeref": 36835.035,
            "symbol": "circle"
           },
           "mode": "markers",
           "name": "Saskatchewan",
           "orientation": "v",
           "showlegend": true,
           "type": "scatter",
           "x": [
            228721
           ],
           "xaxis": "x",
           "y": [
            0.73
           ],
           "yaxis": "y"
          },
          {
           "hovertemplate": "Geography=Alberta<br>Time=2019Q3<br>AverageMortgageAmount=%{x}<br>DelinquencyRate=%{y}<br>PopulationSize=%{marker.size}<extra></extra>",
           "ids": [
            "Alberta"
           ],
           "legendgroup": "Alberta",
           "marker": {
            "color": "#FF97FF",
            "size": [
             4361694
            ],
            "sizemode": "area",
            "sizeref": 36835.035,
            "symbol": "circle"
           },
           "mode": "markers",
           "name": "Alberta",
           "orientation": "v",
           "showlegend": true,
           "type": "scatter",
           "x": [
            297609
           ],
           "xaxis": "x",
           "y": [
            0.51
           ],
           "yaxis": "y"
          },
          {
           "hovertemplate": "Geography=British Columbia<br>Time=2019Q3<br>AverageMortgageAmount=%{x}<br>DelinquencyRate=%{y}<br>PopulationSize=%{marker.size}<extra></extra>",
           "ids": [
            "British Columbia"
           ],
           "legendgroup": "British Columbia",
           "marker": {
            "color": "#FECB52",
            "size": [
             5090955
            ],
            "sizemode": "area",
            "sizeref": 36835.035,
            "symbol": "circle"
           },
           "mode": "markers",
           "name": "British Columbia",
           "orientation": "v",
           "showlegend": true,
           "type": "scatter",
           "x": [
            376343
           ],
           "xaxis": "x",
           "y": [
            0.16
           ],
           "yaxis": "y"
          }
         ],
         "name": "2019Q3"
        },
        {
         "data": [
          {
           "hovertemplate": "Geography=Newfoundland<br>Time=2019Q4<br>AverageMortgageAmount=%{x}<br>DelinquencyRate=%{y}<br>PopulationSize=%{marker.size}<extra></extra>",
           "ids": [
            "Newfoundland"
           ],
           "legendgroup": "Newfoundland",
           "marker": {
            "color": "#636efa",
            "size": [
             524137
            ],
            "sizemode": "area",
            "sizeref": 36835.035,
            "symbol": "circle"
           },
           "mode": "markers",
           "name": "Newfoundland",
           "orientation": "v",
           "showlegend": true,
           "type": "scatter",
           "x": [
            193870
           ],
           "xaxis": "x",
           "y": [
            0.65
           ],
           "yaxis": "y"
          },
          {
           "hovertemplate": "Geography=Prince Edward Island<br>Time=2019Q4<br>AverageMortgageAmount=%{x}<br>DelinquencyRate=%{y}<br>PopulationSize=%{marker.size}<extra></extra>",
           "ids": [
            "Prince Edward Island"
           ],
           "legendgroup": "Prince Edward Island",
           "marker": {
            "color": "#EF553B",
            "size": [
             158334
            ],
            "sizemode": "area",
            "sizeref": 36835.035,
            "symbol": "circle"
           },
           "mode": "markers",
           "name": "Prince Edward Island",
           "orientation": "v",
           "showlegend": true,
           "type": "scatter",
           "x": [
            185934
           ],
           "xaxis": "x",
           "y": [
            0.32
           ],
           "yaxis": "y"
          },
          {
           "hovertemplate": "Geography=Nova Scotia<br>Time=2019Q4<br>AverageMortgageAmount=%{x}<br>DelinquencyRate=%{y}<br>PopulationSize=%{marker.size}<extra></extra>",
           "ids": [
            "Nova Scotia"
           ],
           "legendgroup": "Nova Scotia",
           "marker": {
            "color": "#00cc96",
            "size": [
             975231
            ],
            "sizemode": "area",
            "sizeref": 36835.035,
            "symbol": "circle"
           },
           "mode": "markers",
           "name": "Nova Scotia",
           "orientation": "v",
           "showlegend": true,
           "type": "scatter",
           "x": [
            190168
           ],
           "xaxis": "x",
           "y": [
            0.5
           ],
           "yaxis": "y"
          },
          {
           "hovertemplate": "Geography=New Brunswick<br>Time=2019Q4<br>AverageMortgageAmount=%{x}<br>DelinquencyRate=%{y}<br>PopulationSize=%{marker.size}<extra></extra>",
           "ids": [
            "New Brunswick"
           ],
           "legendgroup": "New Brunswick",
           "marker": {
            "color": "#ab63fa",
            "size": [
             780154
            ],
            "sizemode": "area",
            "sizeref": 36835.035,
            "symbol": "circle"
           },
           "mode": "markers",
           "name": "New Brunswick",
           "orientation": "v",
           "showlegend": true,
           "type": "scatter",
           "x": [
            147047
           ],
           "xaxis": "x",
           "y": [
            0.57
           ],
           "yaxis": "y"
          },
          {
           "hovertemplate": "Geography=Québec<br>Time=2019Q4<br>AverageMortgageAmount=%{x}<br>DelinquencyRate=%{y}<br>PopulationSize=%{marker.size}<extra></extra>",
           "ids": [
            "Québec"
           ],
           "legendgroup": "Québec",
           "marker": {
            "color": "#FFA15A",
            "size": [
             8540429
            ],
            "sizemode": "area",
            "sizeref": 36835.035,
            "symbol": "circle"
           },
           "mode": "markers",
           "name": "Québec",
           "orientation": "v",
           "showlegend": true,
           "type": "scatter",
           "x": [
            183501
           ],
           "xaxis": "x",
           "y": [
            0.36
           ],
           "yaxis": "y"
          },
          {
           "hovertemplate": "Geography=Ontario<br>Time=2019Q4<br>AverageMortgageAmount=%{x}<br>DelinquencyRate=%{y}<br>PopulationSize=%{marker.size}<extra></extra>",
           "ids": [
            "Ontario"
           ],
           "legendgroup": "Ontario",
           "marker": {
            "color": "#19d3f3",
            "size": [
             14637880
            ],
            "sizemode": "area",
            "sizeref": 36835.035,
            "symbol": "circle"
           },
           "mode": "markers",
           "name": "Ontario",
           "orientation": "v",
           "showlegend": true,
           "type": "scatter",
           "x": [
            343768
           ],
           "xaxis": "x",
           "y": [
            0.14
           ],
           "yaxis": "y"
          },
          {
           "hovertemplate": "Geography=Manitoba<br>Time=2019Q4<br>AverageMortgageAmount=%{x}<br>DelinquencyRate=%{y}<br>PopulationSize=%{marker.size}<extra></extra>",
           "ids": [
            "Manitoba"
           ],
           "legendgroup": "Manitoba",
           "marker": {
            "color": "#FF6692",
            "size": [
             1373574
            ],
            "sizemode": "area",
            "sizeref": 36835.035,
            "symbol": "circle"
           },
           "mode": "markers",
           "name": "Manitoba",
           "orientation": "v",
           "showlegend": true,
           "type": "scatter",
           "x": [
            218918
           ],
           "xaxis": "x",
           "y": [
            0.36
           ],
           "yaxis": "y"
          },
          {
           "hovertemplate": "Geography=Saskatchewan<br>Time=2019Q4<br>AverageMortgageAmount=%{x}<br>DelinquencyRate=%{y}<br>PopulationSize=%{marker.size}<extra></extra>",
           "ids": [
            "Saskatchewan"
           ],
           "legendgroup": "Saskatchewan",
           "marker": {
            "color": "#B6E880",
            "size": [
             1176272
            ],
            "sizemode": "area",
            "sizeref": 36835.035,
            "symbol": "circle"
           },
           "mode": "markers",
           "name": "Saskatchewan",
           "orientation": "v",
           "showlegend": true,
           "type": "scatter",
           "x": [
            224315
           ],
           "xaxis": "x",
           "y": [
            0.73
           ],
           "yaxis": "y"
          },
          {
           "hovertemplate": "Geography=Alberta<br>Time=2019Q4<br>AverageMortgageAmount=%{x}<br>DelinquencyRate=%{y}<br>PopulationSize=%{marker.size}<extra></extra>",
           "ids": [
            "Alberta"
           ],
           "legendgroup": "Alberta",
           "marker": {
            "color": "#FF97FF",
            "size": [
             4384968
            ],
            "sizemode": "area",
            "sizeref": 36835.035,
            "symbol": "circle"
           },
           "mode": "markers",
           "name": "Alberta",
           "orientation": "v",
           "showlegend": true,
           "type": "scatter",
           "x": [
            297552
           ],
           "xaxis": "x",
           "y": [
            0.5
           ],
           "yaxis": "y"
          },
          {
           "hovertemplate": "Geography=British Columbia<br>Time=2019Q4<br>AverageMortgageAmount=%{x}<br>DelinquencyRate=%{y}<br>PopulationSize=%{marker.size}<extra></extra>",
           "ids": [
            "British Columbia"
           ],
           "legendgroup": "British Columbia",
           "marker": {
            "color": "#FECB52",
            "size": [
             5125659
            ],
            "sizemode": "area",
            "sizeref": 36835.035,
            "symbol": "circle"
           },
           "mode": "markers",
           "name": "British Columbia",
           "orientation": "v",
           "showlegend": true,
           "type": "scatter",
           "x": [
            386494
           ],
           "xaxis": "x",
           "y": [
            0.16
           ],
           "yaxis": "y"
          }
         ],
         "name": "2019Q4"
        },
        {
         "data": [
          {
           "hovertemplate": "Geography=Newfoundland<br>Time=2020Q1<br>AverageMortgageAmount=%{x}<br>DelinquencyRate=%{y}<br>PopulationSize=%{marker.size}<extra></extra>",
           "ids": [
            "Newfoundland"
           ],
           "legendgroup": "Newfoundland",
           "marker": {
            "color": "#636efa",
            "size": [
             523631
            ],
            "sizemode": "area",
            "sizeref": 36835.035,
            "symbol": "circle"
           },
           "mode": "markers",
           "name": "Newfoundland",
           "orientation": "v",
           "showlegend": true,
           "type": "scatter",
           "x": [
            186268
           ],
           "xaxis": "x",
           "y": [
            0.67
           ],
           "yaxis": "y"
          },
          {
           "hovertemplate": "Geography=Prince Edward Island<br>Time=2020Q1<br>AverageMortgageAmount=%{x}<br>DelinquencyRate=%{y}<br>PopulationSize=%{marker.size}<extra></extra>",
           "ids": [
            "Prince Edward Island"
           ],
           "legendgroup": "Prince Edward Island",
           "marker": {
            "color": "#EF553B",
            "size": [
             158629
            ],
            "sizemode": "area",
            "sizeref": 36835.035,
            "symbol": "circle"
           },
           "mode": "markers",
           "name": "Prince Edward Island",
           "orientation": "v",
           "showlegend": true,
           "type": "scatter",
           "x": [
            193439
           ],
           "xaxis": "x",
           "y": [
            0.25
           ],
           "yaxis": "y"
          },
          {
           "hovertemplate": "Geography=Nova Scotia<br>Time=2020Q1<br>AverageMortgageAmount=%{x}<br>DelinquencyRate=%{y}<br>PopulationSize=%{marker.size}<extra></extra>",
           "ids": [
            "Nova Scotia"
           ],
           "legendgroup": "Nova Scotia",
           "marker": {
            "color": "#00cc96",
            "size": [
             975898
            ],
            "sizemode": "area",
            "sizeref": 36835.035,
            "symbol": "circle"
           },
           "mode": "markers",
           "name": "Nova Scotia",
           "orientation": "v",
           "showlegend": true,
           "type": "scatter",
           "x": [
            188267
           ],
           "xaxis": "x",
           "y": [
            0.46
           ],
           "yaxis": "y"
          },
          {
           "hovertemplate": "Geography=New Brunswick<br>Time=2020Q1<br>AverageMortgageAmount=%{x}<br>DelinquencyRate=%{y}<br>PopulationSize=%{marker.size}<extra></extra>",
           "ids": [
            "New Brunswick"
           ],
           "legendgroup": "New Brunswick",
           "marker": {
            "color": "#ab63fa",
            "size": [
             780040
            ],
            "sizemode": "area",
            "sizeref": 36835.035,
            "symbol": "circle"
           },
           "mode": "markers",
           "name": "New Brunswick",
           "orientation": "v",
           "showlegend": true,
           "type": "scatter",
           "x": [
            146701
           ],
           "xaxis": "x",
           "y": [
            0.57
           ],
           "yaxis": "y"
          },
          {
           "hovertemplate": "Geography=Québec<br>Time=2020Q1<br>AverageMortgageAmount=%{x}<br>DelinquencyRate=%{y}<br>PopulationSize=%{marker.size}<extra></extra>",
           "ids": [
            "Québec"
           ],
           "legendgroup": "Québec",
           "marker": {
            "color": "#FFA15A",
            "size": [
             8556650
            ],
            "sizemode": "area",
            "sizeref": 36835.035,
            "symbol": "circle"
           },
           "mode": "markers",
           "name": "Québec",
           "orientation": "v",
           "showlegend": true,
           "type": "scatter",
           "x": [
            189390
           ],
           "xaxis": "x",
           "y": [
            0.36
           ],
           "yaxis": "y"
          },
          {
           "hovertemplate": "Geography=Ontario<br>Time=2020Q1<br>AverageMortgageAmount=%{x}<br>DelinquencyRate=%{y}<br>PopulationSize=%{marker.size}<extra></extra>",
           "ids": [
            "Ontario"
           ],
           "legendgroup": "Ontario",
           "marker": {
            "color": "#19d3f3",
            "size": [
             14689075
            ],
            "sizemode": "area",
            "sizeref": 36835.035,
            "symbol": "circle"
           },
           "mode": "markers",
           "name": "Ontario",
           "orientation": "v",
           "showlegend": true,
           "type": "scatter",
           "x": [
            348272
           ],
           "xaxis": "x",
           "y": [
            0.14
           ],
           "yaxis": "y"
          },
          {
           "hovertemplate": "Geography=Manitoba<br>Time=2020Q1<br>AverageMortgageAmount=%{x}<br>DelinquencyRate=%{y}<br>PopulationSize=%{marker.size}<extra></extra>",
           "ids": [
            "Manitoba"
           ],
           "legendgroup": "Manitoba",
           "marker": {
            "color": "#FF6692",
            "size": [
             1377004
            ],
            "sizemode": "area",
            "sizeref": 36835.035,
            "symbol": "circle"
           },
           "mode": "markers",
           "name": "Manitoba",
           "orientation": "v",
           "showlegend": true,
           "type": "scatter",
           "x": [
            212508
           ],
           "xaxis": "x",
           "y": [
            0.37
           ],
           "yaxis": "y"
          },
          {
           "hovertemplate": "Geography=Saskatchewan<br>Time=2020Q1<br>AverageMortgageAmount=%{x}<br>DelinquencyRate=%{y}<br>PopulationSize=%{marker.size}<extra></extra>",
           "ids": [
            "Saskatchewan"
           ],
           "legendgroup": "Saskatchewan",
           "marker": {
            "color": "#B6E880",
            "size": [
             1179154
            ],
            "sizemode": "area",
            "sizeref": 36835.035,
            "symbol": "circle"
           },
           "mode": "markers",
           "name": "Saskatchewan",
           "orientation": "v",
           "showlegend": true,
           "type": "scatter",
           "x": [
            216188
           ],
           "xaxis": "x",
           "y": [
            0.75
           ],
           "yaxis": "y"
          },
          {
           "hovertemplate": "Geography=Alberta<br>Time=2020Q1<br>AverageMortgageAmount=%{x}<br>DelinquencyRate=%{y}<br>PopulationSize=%{marker.size}<extra></extra>",
           "ids": [
            "Alberta"
           ],
           "legendgroup": "Alberta",
           "marker": {
            "color": "#FF97FF",
            "size": [
             4402045
            ],
            "sizemode": "area",
            "sizeref": 36835.035,
            "symbol": "circle"
           },
           "mode": "markers",
           "name": "Alberta",
           "orientation": "v",
           "showlegend": true,
           "type": "scatter",
           "x": [
            291747
           ],
           "xaxis": "x",
           "y": [
            0.52
           ],
           "yaxis": "y"
          },
          {
           "hovertemplate": "Geography=British Columbia<br>Time=2020Q1<br>AverageMortgageAmount=%{x}<br>DelinquencyRate=%{y}<br>PopulationSize=%{marker.size}<extra></extra>",
           "ids": [
            "British Columbia"
           ],
           "legendgroup": "British Columbia",
           "marker": {
            "color": "#FECB52",
            "size": [
             5131575
            ],
            "sizemode": "area",
            "sizeref": 36835.035,
            "symbol": "circle"
           },
           "mode": "markers",
           "name": "British Columbia",
           "orientation": "v",
           "showlegend": true,
           "type": "scatter",
           "x": [
            393711
           ],
           "xaxis": "x",
           "y": [
            0.17
           ],
           "yaxis": "y"
          }
         ],
         "name": "2020Q1"
        },
        {
         "data": [
          {
           "hovertemplate": "Geography=Newfoundland<br>Time=2020Q2<br>AverageMortgageAmount=%{x}<br>DelinquencyRate=%{y}<br>PopulationSize=%{marker.size}<extra></extra>",
           "ids": [
            "Newfoundland"
           ],
           "legendgroup": "Newfoundland",
           "marker": {
            "color": "#636efa",
            "size": [
             522994
            ],
            "sizemode": "area",
            "sizeref": 36835.035,
            "symbol": "circle"
           },
           "mode": "markers",
           "name": "Newfoundland",
           "orientation": "v",
           "showlegend": true,
           "type": "scatter",
           "x": [
            187431
           ],
           "xaxis": "x",
           "y": [
            0.68
           ],
           "yaxis": "y"
          },
          {
           "hovertemplate": "Geography=Prince Edward Island<br>Time=2020Q2<br>AverageMortgageAmount=%{x}<br>DelinquencyRate=%{y}<br>PopulationSize=%{marker.size}<extra></extra>",
           "ids": [
            "Prince Edward Island"
           ],
           "legendgroup": "Prince Edward Island",
           "marker": {
            "color": "#EF553B",
            "size": [
             159249
            ],
            "sizemode": "area",
            "sizeref": 36835.035,
            "symbol": "circle"
           },
           "mode": "markers",
           "name": "Prince Edward Island",
           "orientation": "v",
           "showlegend": true,
           "type": "scatter",
           "x": [
            189309
           ],
           "xaxis": "x",
           "y": [
            0.26
           ],
           "yaxis": "y"
          },
          {
           "hovertemplate": "Geography=Nova Scotia<br>Time=2020Q2<br>AverageMortgageAmount=%{x}<br>DelinquencyRate=%{y}<br>PopulationSize=%{marker.size}<extra></extra>",
           "ids": [
            "Nova Scotia"
           ],
           "legendgroup": "Nova Scotia",
           "marker": {
            "color": "#00cc96",
            "size": [
             977043
            ],
            "sizemode": "area",
            "sizeref": 36835.035,
            "symbol": "circle"
           },
           "mode": "markers",
           "name": "Nova Scotia",
           "orientation": "v",
           "showlegend": true,
           "type": "scatter",
           "x": [
            192060
           ],
           "xaxis": "x",
           "y": [
            0.47
           ],
           "yaxis": "y"
          },
          {
           "hovertemplate": "Geography=New Brunswick<br>Time=2020Q2<br>AverageMortgageAmount=%{x}<br>DelinquencyRate=%{y}<br>PopulationSize=%{marker.size}<extra></extra>",
           "ids": [
            "New Brunswick"
           ],
           "legendgroup": "New Brunswick",
           "marker": {
            "color": "#ab63fa",
            "size": [
             781024
            ],
            "sizemode": "area",
            "sizeref": 36835.035,
            "symbol": "circle"
           },
           "mode": "markers",
           "name": "New Brunswick",
           "orientation": "v",
           "showlegend": true,
           "type": "scatter",
           "x": [
            149590
           ],
           "xaxis": "x",
           "y": [
            0.54
           ],
           "yaxis": "y"
          },
          {
           "hovertemplate": "Geography=Québec<br>Time=2020Q2<br>AverageMortgageAmount=%{x}<br>DelinquencyRate=%{y}<br>PopulationSize=%{marker.size}<extra></extra>",
           "ids": [
            "Québec"
           ],
           "legendgroup": "Québec",
           "marker": {
            "color": "#FFA15A",
            "size": [
             8572054
            ],
            "sizemode": "area",
            "sizeref": 36835.035,
            "symbol": "circle"
           },
           "mode": "markers",
           "name": "Québec",
           "orientation": "v",
           "showlegend": true,
           "type": "scatter",
           "x": [
            195538
           ],
           "xaxis": "x",
           "y": [
            0.34
           ],
           "yaxis": "y"
          },
          {
           "hovertemplate": "Geography=Ontario<br>Time=2020Q2<br>AverageMortgageAmount=%{x}<br>DelinquencyRate=%{y}<br>PopulationSize=%{marker.size}<extra></extra>",
           "ids": [
            "Ontario"
           ],
           "legendgroup": "Ontario",
           "marker": {
            "color": "#19d3f3",
            "size": [
             14723497
            ],
            "sizemode": "area",
            "sizeref": 36835.035,
            "symbol": "circle"
           },
           "mode": "markers",
           "name": "Ontario",
           "orientation": "v",
           "showlegend": true,
           "type": "scatter",
           "x": [
            363432
           ],
           "xaxis": "x",
           "y": [
            0.14
           ],
           "yaxis": "y"
          },
          {
           "hovertemplate": "Geography=Manitoba<br>Time=2020Q2<br>AverageMortgageAmount=%{x}<br>DelinquencyRate=%{y}<br>PopulationSize=%{marker.size}<extra></extra>",
           "ids": [
            "Manitoba"
           ],
           "legendgroup": "Manitoba",
           "marker": {
            "color": "#FF6692",
            "size": [
             1378818
            ],
            "sizemode": "area",
            "sizeref": 36835.035,
            "symbol": "circle"
           },
           "mode": "markers",
           "name": "Manitoba",
           "orientation": "v",
           "showlegend": true,
           "type": "scatter",
           "x": [
            217416
           ],
           "xaxis": "x",
           "y": [
            0.38
           ],
           "yaxis": "y"
          },
          {
           "hovertemplate": "Geography=Saskatchewan<br>Time=2020Q2<br>AverageMortgageAmount=%{x}<br>DelinquencyRate=%{y}<br>PopulationSize=%{marker.size}<extra></extra>",
           "ids": [
            "Saskatchewan"
           ],
           "legendgroup": "Saskatchewan",
           "marker": {
            "color": "#B6E880",
            "size": [
             1179618
            ],
            "sizemode": "area",
            "sizeref": 36835.035,
            "symbol": "circle"
           },
           "mode": "markers",
           "name": "Saskatchewan",
           "orientation": "v",
           "showlegend": true,
           "type": "scatter",
           "x": [
            225641
           ],
           "xaxis": "x",
           "y": [
            0.76
           ],
           "yaxis": "y"
          },
          {
           "hovertemplate": "Geography=Alberta<br>Time=2020Q2<br>AverageMortgageAmount=%{x}<br>DelinquencyRate=%{y}<br>PopulationSize=%{marker.size}<extra></extra>",
           "ids": [
            "Alberta"
           ],
           "legendgroup": "Alberta",
           "marker": {
            "color": "#FF97FF",
            "size": [
             4417006
            ],
            "sizemode": "area",
            "sizeref": 36835.035,
            "symbol": "circle"
           },
           "mode": "markers",
           "name": "Alberta",
           "orientation": "v",
           "showlegend": true,
           "type": "scatter",
           "x": [
            296269
           ],
           "xaxis": "x",
           "y": [
            0.52
           ],
           "yaxis": "y"
          },
          {
           "hovertemplate": "Geography=British Columbia<br>Time=2020Q2<br>AverageMortgageAmount=%{x}<br>DelinquencyRate=%{y}<br>PopulationSize=%{marker.size}<extra></extra>",
           "ids": [
            "British Columbia"
           ],
           "legendgroup": "British Columbia",
           "marker": {
            "color": "#FECB52",
            "size": [
             5142404
            ],
            "sizemode": "area",
            "sizeref": 36835.035,
            "symbol": "circle"
           },
           "mode": "markers",
           "name": "British Columbia",
           "orientation": "v",
           "showlegend": true,
           "type": "scatter",
           "x": [
            397853
           ],
           "xaxis": "x",
           "y": [
            0.19
           ],
           "yaxis": "y"
          }
         ],
         "name": "2020Q2"
        },
        {
         "data": [
          {
           "hovertemplate": "Geography=Newfoundland<br>Time=2020Q3<br>AverageMortgageAmount=%{x}<br>DelinquencyRate=%{y}<br>PopulationSize=%{marker.size}<extra></extra>",
           "ids": [
            "Newfoundland"
           ],
           "legendgroup": "Newfoundland",
           "marker": {
            "color": "#636efa",
            "size": [
             522103
            ],
            "sizemode": "area",
            "sizeref": 36835.035,
            "symbol": "circle"
           },
           "mode": "markers",
           "name": "Newfoundland",
           "orientation": "v",
           "showlegend": true,
           "type": "scatter",
           "x": [
            196100
           ],
           "xaxis": "x",
           "y": [
            0.64
           ],
           "yaxis": "y"
          },
          {
           "hovertemplate": "Geography=Prince Edward Island<br>Time=2020Q3<br>AverageMortgageAmount=%{x}<br>DelinquencyRate=%{y}<br>PopulationSize=%{marker.size}<extra></extra>",
           "ids": [
            "Prince Edward Island"
           ],
           "legendgroup": "Prince Edward Island",
           "marker": {
            "color": "#EF553B",
            "size": [
             159625
            ],
            "sizemode": "area",
            "sizeref": 36835.035,
            "symbol": "circle"
           },
           "mode": "markers",
           "name": "Prince Edward Island",
           "orientation": "v",
           "showlegend": true,
           "type": "scatter",
           "x": [
            204415
           ],
           "xaxis": "x",
           "y": [
            0.27
           ],
           "yaxis": "y"
          },
          {
           "hovertemplate": "Geography=Nova Scotia<br>Time=2020Q3<br>AverageMortgageAmount=%{x}<br>DelinquencyRate=%{y}<br>PopulationSize=%{marker.size}<extra></extra>",
           "ids": [
            "Nova Scotia"
           ],
           "legendgroup": "Nova Scotia",
           "marker": {
            "color": "#00cc96",
            "size": [
             979351
            ],
            "sizemode": "area",
            "sizeref": 36835.035,
            "symbol": "circle"
           },
           "mode": "markers",
           "name": "Nova Scotia",
           "orientation": "v",
           "showlegend": true,
           "type": "scatter",
           "x": [
            207877
           ],
           "xaxis": "x",
           "y": [
            0.45
           ],
           "yaxis": "y"
          },
          {
           "hovertemplate": "Geography=New Brunswick<br>Time=2020Q3<br>AverageMortgageAmount=%{x}<br>DelinquencyRate=%{y}<br>PopulationSize=%{marker.size}<extra></extra>",
           "ids": [
            "New Brunswick"
           ],
           "legendgroup": "New Brunswick",
           "marker": {
            "color": "#ab63fa",
            "size": [
             781476
            ],
            "sizemode": "area",
            "sizeref": 36835.035,
            "symbol": "circle"
           },
           "mode": "markers",
           "name": "New Brunswick",
           "orientation": "v",
           "showlegend": true,
           "type": "scatter",
           "x": [
            160349
           ],
           "xaxis": "x",
           "y": [
            0.52
           ],
           "yaxis": "y"
          },
          {
           "hovertemplate": "Geography=Québec<br>Time=2020Q3<br>AverageMortgageAmount=%{x}<br>DelinquencyRate=%{y}<br>PopulationSize=%{marker.size}<extra></extra>",
           "ids": [
            "Québec"
           ],
           "legendgroup": "Québec",
           "marker": {
            "color": "#FFA15A",
            "size": [
             8574571
            ],
            "sizemode": "area",
            "sizeref": 36835.035,
            "symbol": "circle"
           },
           "mode": "markers",
           "name": "Québec",
           "orientation": "v",
           "showlegend": true,
           "type": "scatter",
           "x": [
            203861
           ],
           "xaxis": "x",
           "y": [
            0.36
           ],
           "yaxis": "y"
          },
          {
           "hovertemplate": "Geography=Ontario<br>Time=2020Q3<br>AverageMortgageAmount=%{x}<br>DelinquencyRate=%{y}<br>PopulationSize=%{marker.size}<extra></extra>",
           "ids": [
            "Ontario"
           ],
           "legendgroup": "Ontario",
           "marker": {
            "color": "#19d3f3",
            "size": [
             14734014
            ],
            "sizemode": "area",
            "sizeref": 36835.035,
            "symbol": "circle"
           },
           "mode": "markers",
           "name": "Ontario",
           "orientation": "v",
           "showlegend": true,
           "type": "scatter",
           "x": [
            373371
           ],
           "xaxis": "x",
           "y": [
            0.14
           ],
           "yaxis": "y"
          },
          {
           "hovertemplate": "Geography=Manitoba<br>Time=2020Q3<br>AverageMortgageAmount=%{x}<br>DelinquencyRate=%{y}<br>PopulationSize=%{marker.size}<extra></extra>",
           "ids": [
            "Manitoba"
           ],
           "legendgroup": "Manitoba",
           "marker": {
            "color": "#FF6692",
            "size": [
             1379263
            ],
            "sizemode": "area",
            "sizeref": 36835.035,
            "symbol": "circle"
           },
           "mode": "markers",
           "name": "Manitoba",
           "orientation": "v",
           "showlegend": true,
           "type": "scatter",
           "x": [
            232725
           ],
           "xaxis": "x",
           "y": [
            0.35
           ],
           "yaxis": "y"
          },
          {
           "hovertemplate": "Geography=Saskatchewan<br>Time=2020Q3<br>AverageMortgageAmount=%{x}<br>DelinquencyRate=%{y}<br>PopulationSize=%{marker.size}<extra></extra>",
           "ids": [
            "Saskatchewan"
           ],
           "legendgroup": "Saskatchewan",
           "marker": {
            "color": "#B6E880",
            "size": [
             1178681
            ],
            "sizemode": "area",
            "sizeref": 36835.035,
            "symbol": "circle"
           },
           "mode": "markers",
           "name": "Saskatchewan",
           "orientation": "v",
           "showlegend": true,
           "type": "scatter",
           "x": [
            237386
           ],
           "xaxis": "x",
           "y": [
            0.72
           ],
           "yaxis": "y"
          },
          {
           "hovertemplate": "Geography=Alberta<br>Time=2020Q3<br>AverageMortgageAmount=%{x}<br>DelinquencyRate=%{y}<br>PopulationSize=%{marker.size}<extra></extra>",
           "ids": [
            "Alberta"
           ],
           "legendgroup": "Alberta",
           "marker": {
            "color": "#FF97FF",
            "size": [
             4421876
            ],
            "sizemode": "area",
            "sizeref": 36835.035,
            "symbol": "circle"
           },
           "mode": "markers",
           "name": "Alberta",
           "orientation": "v",
           "showlegend": true,
           "type": "scatter",
           "x": [
            305600
           ],
           "xaxis": "x",
           "y": [
            0.5
           ],
           "yaxis": "y"
          },
          {
           "hovertemplate": "Geography=British Columbia<br>Time=2020Q3<br>AverageMortgageAmount=%{x}<br>DelinquencyRate=%{y}<br>PopulationSize=%{marker.size}<extra></extra>",
           "ids": [
            "British Columbia"
           ],
           "legendgroup": "British Columbia",
           "marker": {
            "color": "#FECB52",
            "size": [
             5147712
            ],
            "sizemode": "area",
            "sizeref": 36835.035,
            "symbol": "circle"
           },
           "mode": "markers",
           "name": "British Columbia",
           "orientation": "v",
           "showlegend": true,
           "type": "scatter",
           "x": [
            417004
           ],
           "xaxis": "x",
           "y": [
            0.19
           ],
           "yaxis": "y"
          }
         ],
         "name": "2020Q3"
        }
       ],
       "layout": {
        "legend": {
         "itemsizing": "constant",
         "title": {
          "text": "Geography"
         },
         "tracegroupgap": 0
        },
        "margin": {
         "t": 60
        },
        "sliders": [
         {
          "active": 0,
          "currentvalue": {
           "prefix": "Time="
          },
          "len": 0.9,
          "pad": {
           "b": 10,
           "t": 60
          },
          "steps": [
           {
            "args": [
             [
              "2012Q3"
             ],
             {
              "frame": {
               "duration": 0,
               "redraw": false
              },
              "fromcurrent": true,
              "mode": "immediate",
              "transition": {
               "duration": 0,
               "easing": "linear"
              }
             }
            ],
            "label": "2012Q3",
            "method": "animate"
           },
           {
            "args": [
             [
              "2012Q4"
             ],
             {
              "frame": {
               "duration": 0,
               "redraw": false
              },
              "fromcurrent": true,
              "mode": "immediate",
              "transition": {
               "duration": 0,
               "easing": "linear"
              }
             }
            ],
            "label": "2012Q4",
            "method": "animate"
           },
           {
            "args": [
             [
              "2013Q1"
             ],
             {
              "frame": {
               "duration": 0,
               "redraw": false
              },
              "fromcurrent": true,
              "mode": "immediate",
              "transition": {
               "duration": 0,
               "easing": "linear"
              }
             }
            ],
            "label": "2013Q1",
            "method": "animate"
           },
           {
            "args": [
             [
              "2013Q2"
             ],
             {
              "frame": {
               "duration": 0,
               "redraw": false
              },
              "fromcurrent": true,
              "mode": "immediate",
              "transition": {
               "duration": 0,
               "easing": "linear"
              }
             }
            ],
            "label": "2013Q2",
            "method": "animate"
           },
           {
            "args": [
             [
              "2013Q3"
             ],
             {
              "frame": {
               "duration": 0,
               "redraw": false
              },
              "fromcurrent": true,
              "mode": "immediate",
              "transition": {
               "duration": 0,
               "easing": "linear"
              }
             }
            ],
            "label": "2013Q3",
            "method": "animate"
           },
           {
            "args": [
             [
              "2013Q4"
             ],
             {
              "frame": {
               "duration": 0,
               "redraw": false
              },
              "fromcurrent": true,
              "mode": "immediate",
              "transition": {
               "duration": 0,
               "easing": "linear"
              }
             }
            ],
            "label": "2013Q4",
            "method": "animate"
           },
           {
            "args": [
             [
              "2014Q1"
             ],
             {
              "frame": {
               "duration": 0,
               "redraw": false
              },
              "fromcurrent": true,
              "mode": "immediate",
              "transition": {
               "duration": 0,
               "easing": "linear"
              }
             }
            ],
            "label": "2014Q1",
            "method": "animate"
           },
           {
            "args": [
             [
              "2014Q2"
             ],
             {
              "frame": {
               "duration": 0,
               "redraw": false
              },
              "fromcurrent": true,
              "mode": "immediate",
              "transition": {
               "duration": 0,
               "easing": "linear"
              }
             }
            ],
            "label": "2014Q2",
            "method": "animate"
           },
           {
            "args": [
             [
              "2014Q3"
             ],
             {
              "frame": {
               "duration": 0,
               "redraw": false
              },
              "fromcurrent": true,
              "mode": "immediate",
              "transition": {
               "duration": 0,
               "easing": "linear"
              }
             }
            ],
            "label": "2014Q3",
            "method": "animate"
           },
           {
            "args": [
             [
              "2014Q4"
             ],
             {
              "frame": {
               "duration": 0,
               "redraw": false
              },
              "fromcurrent": true,
              "mode": "immediate",
              "transition": {
               "duration": 0,
               "easing": "linear"
              }
             }
            ],
            "label": "2014Q4",
            "method": "animate"
           },
           {
            "args": [
             [
              "2015Q1"
             ],
             {
              "frame": {
               "duration": 0,
               "redraw": false
              },
              "fromcurrent": true,
              "mode": "immediate",
              "transition": {
               "duration": 0,
               "easing": "linear"
              }
             }
            ],
            "label": "2015Q1",
            "method": "animate"
           },
           {
            "args": [
             [
              "2015Q2"
             ],
             {
              "frame": {
               "duration": 0,
               "redraw": false
              },
              "fromcurrent": true,
              "mode": "immediate",
              "transition": {
               "duration": 0,
               "easing": "linear"
              }
             }
            ],
            "label": "2015Q2",
            "method": "animate"
           },
           {
            "args": [
             [
              "2015Q3"
             ],
             {
              "frame": {
               "duration": 0,
               "redraw": false
              },
              "fromcurrent": true,
              "mode": "immediate",
              "transition": {
               "duration": 0,
               "easing": "linear"
              }
             }
            ],
            "label": "2015Q3",
            "method": "animate"
           },
           {
            "args": [
             [
              "2015Q4"
             ],
             {
              "frame": {
               "duration": 0,
               "redraw": false
              },
              "fromcurrent": true,
              "mode": "immediate",
              "transition": {
               "duration": 0,
               "easing": "linear"
              }
             }
            ],
            "label": "2015Q4",
            "method": "animate"
           },
           {
            "args": [
             [
              "2016Q1"
             ],
             {
              "frame": {
               "duration": 0,
               "redraw": false
              },
              "fromcurrent": true,
              "mode": "immediate",
              "transition": {
               "duration": 0,
               "easing": "linear"
              }
             }
            ],
            "label": "2016Q1",
            "method": "animate"
           },
           {
            "args": [
             [
              "2016Q2"
             ],
             {
              "frame": {
               "duration": 0,
               "redraw": false
              },
              "fromcurrent": true,
              "mode": "immediate",
              "transition": {
               "duration": 0,
               "easing": "linear"
              }
             }
            ],
            "label": "2016Q2",
            "method": "animate"
           },
           {
            "args": [
             [
              "2016Q3"
             ],
             {
              "frame": {
               "duration": 0,
               "redraw": false
              },
              "fromcurrent": true,
              "mode": "immediate",
              "transition": {
               "duration": 0,
               "easing": "linear"
              }
             }
            ],
            "label": "2016Q3",
            "method": "animate"
           },
           {
            "args": [
             [
              "2016Q4"
             ],
             {
              "frame": {
               "duration": 0,
               "redraw": false
              },
              "fromcurrent": true,
              "mode": "immediate",
              "transition": {
               "duration": 0,
               "easing": "linear"
              }
             }
            ],
            "label": "2016Q4",
            "method": "animate"
           },
           {
            "args": [
             [
              "2017Q1"
             ],
             {
              "frame": {
               "duration": 0,
               "redraw": false
              },
              "fromcurrent": true,
              "mode": "immediate",
              "transition": {
               "duration": 0,
               "easing": "linear"
              }
             }
            ],
            "label": "2017Q1",
            "method": "animate"
           },
           {
            "args": [
             [
              "2017Q2"
             ],
             {
              "frame": {
               "duration": 0,
               "redraw": false
              },
              "fromcurrent": true,
              "mode": "immediate",
              "transition": {
               "duration": 0,
               "easing": "linear"
              }
             }
            ],
            "label": "2017Q2",
            "method": "animate"
           },
           {
            "args": [
             [
              "2017Q3"
             ],
             {
              "frame": {
               "duration": 0,
               "redraw": false
              },
              "fromcurrent": true,
              "mode": "immediate",
              "transition": {
               "duration": 0,
               "easing": "linear"
              }
             }
            ],
            "label": "2017Q3",
            "method": "animate"
           },
           {
            "args": [
             [
              "2017Q4"
             ],
             {
              "frame": {
               "duration": 0,
               "redraw": false
              },
              "fromcurrent": true,
              "mode": "immediate",
              "transition": {
               "duration": 0,
               "easing": "linear"
              }
             }
            ],
            "label": "2017Q4",
            "method": "animate"
           },
           {
            "args": [
             [
              "2018Q1"
             ],
             {
              "frame": {
               "duration": 0,
               "redraw": false
              },
              "fromcurrent": true,
              "mode": "immediate",
              "transition": {
               "duration": 0,
               "easing": "linear"
              }
             }
            ],
            "label": "2018Q1",
            "method": "animate"
           },
           {
            "args": [
             [
              "2018Q2"
             ],
             {
              "frame": {
               "duration": 0,
               "redraw": false
              },
              "fromcurrent": true,
              "mode": "immediate",
              "transition": {
               "duration": 0,
               "easing": "linear"
              }
             }
            ],
            "label": "2018Q2",
            "method": "animate"
           },
           {
            "args": [
             [
              "2018Q3"
             ],
             {
              "frame": {
               "duration": 0,
               "redraw": false
              },
              "fromcurrent": true,
              "mode": "immediate",
              "transition": {
               "duration": 0,
               "easing": "linear"
              }
             }
            ],
            "label": "2018Q3",
            "method": "animate"
           },
           {
            "args": [
             [
              "2018Q4"
             ],
             {
              "frame": {
               "duration": 0,
               "redraw": false
              },
              "fromcurrent": true,
              "mode": "immediate",
              "transition": {
               "duration": 0,
               "easing": "linear"
              }
             }
            ],
            "label": "2018Q4",
            "method": "animate"
           },
           {
            "args": [
             [
              "2019Q1"
             ],
             {
              "frame": {
               "duration": 0,
               "redraw": false
              },
              "fromcurrent": true,
              "mode": "immediate",
              "transition": {
               "duration": 0,
               "easing": "linear"
              }
             }
            ],
            "label": "2019Q1",
            "method": "animate"
           },
           {
            "args": [
             [
              "2019Q2"
             ],
             {
              "frame": {
               "duration": 0,
               "redraw": false
              },
              "fromcurrent": true,
              "mode": "immediate",
              "transition": {
               "duration": 0,
               "easing": "linear"
              }
             }
            ],
            "label": "2019Q2",
            "method": "animate"
           },
           {
            "args": [
             [
              "2019Q3"
             ],
             {
              "frame": {
               "duration": 0,
               "redraw": false
              },
              "fromcurrent": true,
              "mode": "immediate",
              "transition": {
               "duration": 0,
               "easing": "linear"
              }
             }
            ],
            "label": "2019Q3",
            "method": "animate"
           },
           {
            "args": [
             [
              "2019Q4"
             ],
             {
              "frame": {
               "duration": 0,
               "redraw": false
              },
              "fromcurrent": true,
              "mode": "immediate",
              "transition": {
               "duration": 0,
               "easing": "linear"
              }
             }
            ],
            "label": "2019Q4",
            "method": "animate"
           },
           {
            "args": [
             [
              "2020Q1"
             ],
             {
              "frame": {
               "duration": 0,
               "redraw": false
              },
              "fromcurrent": true,
              "mode": "immediate",
              "transition": {
               "duration": 0,
               "easing": "linear"
              }
             }
            ],
            "label": "2020Q1",
            "method": "animate"
           },
           {
            "args": [
             [
              "2020Q2"
             ],
             {
              "frame": {
               "duration": 0,
               "redraw": false
              },
              "fromcurrent": true,
              "mode": "immediate",
              "transition": {
               "duration": 0,
               "easing": "linear"
              }
             }
            ],
            "label": "2020Q2",
            "method": "animate"
           },
           {
            "args": [
             [
              "2020Q3"
             ],
             {
              "frame": {
               "duration": 0,
               "redraw": false
              },
              "fromcurrent": true,
              "mode": "immediate",
              "transition": {
               "duration": 0,
               "easing": "linear"
              }
             }
            ],
            "label": "2020Q3",
            "method": "animate"
           }
          ],
          "x": 0.1,
          "xanchor": "left",
          "y": 0,
          "yanchor": "top"
         }
        ],
        "template": {
         "data": {
          "bar": [
           {
            "error_x": {
             "color": "#2a3f5f"
            },
            "error_y": {
             "color": "#2a3f5f"
            },
            "marker": {
             "line": {
              "color": "#E5ECF6",
              "width": 0.5
             }
            },
            "type": "bar"
           }
          ],
          "barpolar": [
           {
            "marker": {
             "line": {
              "color": "#E5ECF6",
              "width": 0.5
             }
            },
            "type": "barpolar"
           }
          ],
          "carpet": [
           {
            "aaxis": {
             "endlinecolor": "#2a3f5f",
             "gridcolor": "white",
             "linecolor": "white",
             "minorgridcolor": "white",
             "startlinecolor": "#2a3f5f"
            },
            "baxis": {
             "endlinecolor": "#2a3f5f",
             "gridcolor": "white",
             "linecolor": "white",
             "minorgridcolor": "white",
             "startlinecolor": "#2a3f5f"
            },
            "type": "carpet"
           }
          ],
          "choropleth": [
           {
            "colorbar": {
             "outlinewidth": 0,
             "ticks": ""
            },
            "type": "choropleth"
           }
          ],
          "contour": [
           {
            "colorbar": {
             "outlinewidth": 0,
             "ticks": ""
            },
            "colorscale": [
             [
              0,
              "#0d0887"
             ],
             [
              0.1111111111111111,
              "#46039f"
             ],
             [
              0.2222222222222222,
              "#7201a8"
             ],
             [
              0.3333333333333333,
              "#9c179e"
             ],
             [
              0.4444444444444444,
              "#bd3786"
             ],
             [
              0.5555555555555556,
              "#d8576b"
             ],
             [
              0.6666666666666666,
              "#ed7953"
             ],
             [
              0.7777777777777778,
              "#fb9f3a"
             ],
             [
              0.8888888888888888,
              "#fdca26"
             ],
             [
              1,
              "#f0f921"
             ]
            ],
            "type": "contour"
           }
          ],
          "contourcarpet": [
           {
            "colorbar": {
             "outlinewidth": 0,
             "ticks": ""
            },
            "type": "contourcarpet"
           }
          ],
          "heatmap": [
           {
            "colorbar": {
             "outlinewidth": 0,
             "ticks": ""
            },
            "colorscale": [
             [
              0,
              "#0d0887"
             ],
             [
              0.1111111111111111,
              "#46039f"
             ],
             [
              0.2222222222222222,
              "#7201a8"
             ],
             [
              0.3333333333333333,
              "#9c179e"
             ],
             [
              0.4444444444444444,
              "#bd3786"
             ],
             [
              0.5555555555555556,
              "#d8576b"
             ],
             [
              0.6666666666666666,
              "#ed7953"
             ],
             [
              0.7777777777777778,
              "#fb9f3a"
             ],
             [
              0.8888888888888888,
              "#fdca26"
             ],
             [
              1,
              "#f0f921"
             ]
            ],
            "type": "heatmap"
           }
          ],
          "heatmapgl": [
           {
            "colorbar": {
             "outlinewidth": 0,
             "ticks": ""
            },
            "colorscale": [
             [
              0,
              "#0d0887"
             ],
             [
              0.1111111111111111,
              "#46039f"
             ],
             [
              0.2222222222222222,
              "#7201a8"
             ],
             [
              0.3333333333333333,
              "#9c179e"
             ],
             [
              0.4444444444444444,
              "#bd3786"
             ],
             [
              0.5555555555555556,
              "#d8576b"
             ],
             [
              0.6666666666666666,
              "#ed7953"
             ],
             [
              0.7777777777777778,
              "#fb9f3a"
             ],
             [
              0.8888888888888888,
              "#fdca26"
             ],
             [
              1,
              "#f0f921"
             ]
            ],
            "type": "heatmapgl"
           }
          ],
          "histogram": [
           {
            "marker": {
             "colorbar": {
              "outlinewidth": 0,
              "ticks": ""
             }
            },
            "type": "histogram"
           }
          ],
          "histogram2d": [
           {
            "colorbar": {
             "outlinewidth": 0,
             "ticks": ""
            },
            "colorscale": [
             [
              0,
              "#0d0887"
             ],
             [
              0.1111111111111111,
              "#46039f"
             ],
             [
              0.2222222222222222,
              "#7201a8"
             ],
             [
              0.3333333333333333,
              "#9c179e"
             ],
             [
              0.4444444444444444,
              "#bd3786"
             ],
             [
              0.5555555555555556,
              "#d8576b"
             ],
             [
              0.6666666666666666,
              "#ed7953"
             ],
             [
              0.7777777777777778,
              "#fb9f3a"
             ],
             [
              0.8888888888888888,
              "#fdca26"
             ],
             [
              1,
              "#f0f921"
             ]
            ],
            "type": "histogram2d"
           }
          ],
          "histogram2dcontour": [
           {
            "colorbar": {
             "outlinewidth": 0,
             "ticks": ""
            },
            "colorscale": [
             [
              0,
              "#0d0887"
             ],
             [
              0.1111111111111111,
              "#46039f"
             ],
             [
              0.2222222222222222,
              "#7201a8"
             ],
             [
              0.3333333333333333,
              "#9c179e"
             ],
             [
              0.4444444444444444,
              "#bd3786"
             ],
             [
              0.5555555555555556,
              "#d8576b"
             ],
             [
              0.6666666666666666,
              "#ed7953"
             ],
             [
              0.7777777777777778,
              "#fb9f3a"
             ],
             [
              0.8888888888888888,
              "#fdca26"
             ],
             [
              1,
              "#f0f921"
             ]
            ],
            "type": "histogram2dcontour"
           }
          ],
          "mesh3d": [
           {
            "colorbar": {
             "outlinewidth": 0,
             "ticks": ""
            },
            "type": "mesh3d"
           }
          ],
          "parcoords": [
           {
            "line": {
             "colorbar": {
              "outlinewidth": 0,
              "ticks": ""
             }
            },
            "type": "parcoords"
           }
          ],
          "pie": [
           {
            "automargin": true,
            "type": "pie"
           }
          ],
          "scatter": [
           {
            "marker": {
             "colorbar": {
              "outlinewidth": 0,
              "ticks": ""
             }
            },
            "type": "scatter"
           }
          ],
          "scatter3d": [
           {
            "line": {
             "colorbar": {
              "outlinewidth": 0,
              "ticks": ""
             }
            },
            "marker": {
             "colorbar": {
              "outlinewidth": 0,
              "ticks": ""
             }
            },
            "type": "scatter3d"
           }
          ],
          "scattercarpet": [
           {
            "marker": {
             "colorbar": {
              "outlinewidth": 0,
              "ticks": ""
             }
            },
            "type": "scattercarpet"
           }
          ],
          "scattergeo": [
           {
            "marker": {
             "colorbar": {
              "outlinewidth": 0,
              "ticks": ""
             }
            },
            "type": "scattergeo"
           }
          ],
          "scattergl": [
           {
            "marker": {
             "colorbar": {
              "outlinewidth": 0,
              "ticks": ""
             }
            },
            "type": "scattergl"
           }
          ],
          "scattermapbox": [
           {
            "marker": {
             "colorbar": {
              "outlinewidth": 0,
              "ticks": ""
             }
            },
            "type": "scattermapbox"
           }
          ],
          "scatterpolar": [
           {
            "marker": {
             "colorbar": {
              "outlinewidth": 0,
              "ticks": ""
             }
            },
            "type": "scatterpolar"
           }
          ],
          "scatterpolargl": [
           {
            "marker": {
             "colorbar": {
              "outlinewidth": 0,
              "ticks": ""
             }
            },
            "type": "scatterpolargl"
           }
          ],
          "scatterternary": [
           {
            "marker": {
             "colorbar": {
              "outlinewidth": 0,
              "ticks": ""
             }
            },
            "type": "scatterternary"
           }
          ],
          "surface": [
           {
            "colorbar": {
             "outlinewidth": 0,
             "ticks": ""
            },
            "colorscale": [
             [
              0,
              "#0d0887"
             ],
             [
              0.1111111111111111,
              "#46039f"
             ],
             [
              0.2222222222222222,
              "#7201a8"
             ],
             [
              0.3333333333333333,
              "#9c179e"
             ],
             [
              0.4444444444444444,
              "#bd3786"
             ],
             [
              0.5555555555555556,
              "#d8576b"
             ],
             [
              0.6666666666666666,
              "#ed7953"
             ],
             [
              0.7777777777777778,
              "#fb9f3a"
             ],
             [
              0.8888888888888888,
              "#fdca26"
             ],
             [
              1,
              "#f0f921"
             ]
            ],
            "type": "surface"
           }
          ],
          "table": [
           {
            "cells": {
             "fill": {
              "color": "#EBF0F8"
             },
             "line": {
              "color": "white"
             }
            },
            "header": {
             "fill": {
              "color": "#C8D4E3"
             },
             "line": {
              "color": "white"
             }
            },
            "type": "table"
           }
          ]
         },
         "layout": {
          "annotationdefaults": {
           "arrowcolor": "#2a3f5f",
           "arrowhead": 0,
           "arrowwidth": 1
          },
          "autotypenumbers": "strict",
          "coloraxis": {
           "colorbar": {
            "outlinewidth": 0,
            "ticks": ""
           }
          },
          "colorscale": {
           "diverging": [
            [
             0,
             "#8e0152"
            ],
            [
             0.1,
             "#c51b7d"
            ],
            [
             0.2,
             "#de77ae"
            ],
            [
             0.3,
             "#f1b6da"
            ],
            [
             0.4,
             "#fde0ef"
            ],
            [
             0.5,
             "#f7f7f7"
            ],
            [
             0.6,
             "#e6f5d0"
            ],
            [
             0.7,
             "#b8e186"
            ],
            [
             0.8,
             "#7fbc41"
            ],
            [
             0.9,
             "#4d9221"
            ],
            [
             1,
             "#276419"
            ]
           ],
           "sequential": [
            [
             0,
             "#0d0887"
            ],
            [
             0.1111111111111111,
             "#46039f"
            ],
            [
             0.2222222222222222,
             "#7201a8"
            ],
            [
             0.3333333333333333,
             "#9c179e"
            ],
            [
             0.4444444444444444,
             "#bd3786"
            ],
            [
             0.5555555555555556,
             "#d8576b"
            ],
            [
             0.6666666666666666,
             "#ed7953"
            ],
            [
             0.7777777777777778,
             "#fb9f3a"
            ],
            [
             0.8888888888888888,
             "#fdca26"
            ],
            [
             1,
             "#f0f921"
            ]
           ],
           "sequentialminus": [
            [
             0,
             "#0d0887"
            ],
            [
             0.1111111111111111,
             "#46039f"
            ],
            [
             0.2222222222222222,
             "#7201a8"
            ],
            [
             0.3333333333333333,
             "#9c179e"
            ],
            [
             0.4444444444444444,
             "#bd3786"
            ],
            [
             0.5555555555555556,
             "#d8576b"
            ],
            [
             0.6666666666666666,
             "#ed7953"
            ],
            [
             0.7777777777777778,
             "#fb9f3a"
            ],
            [
             0.8888888888888888,
             "#fdca26"
            ],
            [
             1,
             "#f0f921"
            ]
           ]
          },
          "colorway": [
           "#636efa",
           "#EF553B",
           "#00cc96",
           "#ab63fa",
           "#FFA15A",
           "#19d3f3",
           "#FF6692",
           "#B6E880",
           "#FF97FF",
           "#FECB52"
          ],
          "font": {
           "color": "#2a3f5f"
          },
          "geo": {
           "bgcolor": "white",
           "lakecolor": "white",
           "landcolor": "#E5ECF6",
           "showlakes": true,
           "showland": true,
           "subunitcolor": "white"
          },
          "hoverlabel": {
           "align": "left"
          },
          "hovermode": "closest",
          "mapbox": {
           "style": "light"
          },
          "paper_bgcolor": "white",
          "plot_bgcolor": "#E5ECF6",
          "polar": {
           "angularaxis": {
            "gridcolor": "white",
            "linecolor": "white",
            "ticks": ""
           },
           "bgcolor": "#E5ECF6",
           "radialaxis": {
            "gridcolor": "white",
            "linecolor": "white",
            "ticks": ""
           }
          },
          "scene": {
           "xaxis": {
            "backgroundcolor": "#E5ECF6",
            "gridcolor": "white",
            "gridwidth": 2,
            "linecolor": "white",
            "showbackground": true,
            "ticks": "",
            "zerolinecolor": "white"
           },
           "yaxis": {
            "backgroundcolor": "#E5ECF6",
            "gridcolor": "white",
            "gridwidth": 2,
            "linecolor": "white",
            "showbackground": true,
            "ticks": "",
            "zerolinecolor": "white"
           },
           "zaxis": {
            "backgroundcolor": "#E5ECF6",
            "gridcolor": "white",
            "gridwidth": 2,
            "linecolor": "white",
            "showbackground": true,
            "ticks": "",
            "zerolinecolor": "white"
           }
          },
          "shapedefaults": {
           "line": {
            "color": "#2a3f5f"
           }
          },
          "ternary": {
           "aaxis": {
            "gridcolor": "white",
            "linecolor": "white",
            "ticks": ""
           },
           "baxis": {
            "gridcolor": "white",
            "linecolor": "white",
            "ticks": ""
           },
           "bgcolor": "#E5ECF6",
           "caxis": {
            "gridcolor": "white",
            "linecolor": "white",
            "ticks": ""
           }
          },
          "title": {
           "x": 0.05
          },
          "xaxis": {
           "automargin": true,
           "gridcolor": "white",
           "linecolor": "white",
           "ticks": "",
           "title": {
            "standoff": 15
           },
           "zerolinecolor": "white",
           "zerolinewidth": 2
          },
          "yaxis": {
           "automargin": true,
           "gridcolor": "white",
           "linecolor": "white",
           "ticks": "",
           "title": {
            "standoff": 15
           },
           "zerolinecolor": "white",
           "zerolinewidth": 2
          }
         }
        },
        "updatemenus": [
         {
          "buttons": [
           {
            "args": [
             null,
             {
              "frame": {
               "duration": 500,
               "redraw": false
              },
              "fromcurrent": true,
              "mode": "immediate",
              "transition": {
               "duration": 500,
               "easing": "linear"
              }
             }
            ],
            "label": "&#9654;",
            "method": "animate"
           },
           {
            "args": [
             [
              null
             ],
             {
              "frame": {
               "duration": 0,
               "redraw": false
              },
              "fromcurrent": true,
              "mode": "immediate",
              "transition": {
               "duration": 0,
               "easing": "linear"
              }
             }
            ],
            "label": "&#9724;",
            "method": "animate"
           }
          ],
          "direction": "left",
          "pad": {
           "r": 10,
           "t": 70
          },
          "showactive": false,
          "type": "buttons",
          "x": 0.1,
          "xanchor": "right",
          "y": 0,
          "yanchor": "top"
         }
        ],
        "xaxis": {
         "anchor": "y",
         "domain": [
          0,
          1
         ],
         "title": {
          "text": "AverageMortgageAmount"
         }
        },
        "yaxis": {
         "anchor": "x",
         "domain": [
          0,
          1
         ],
         "title": {
          "text": "DelinquencyRate"
         }
        }
       }
      },
      "text/html": [
       "<div>                            <div id=\"00c08e44-ce46-4846-9dcb-0373b05be282\" class=\"plotly-graph-div\" style=\"height:525px; width:100%;\"></div>            <script type=\"text/javascript\">                require([\"plotly\"], function(Plotly) {                    window.PLOTLYENV=window.PLOTLYENV || {};                                    if (document.getElementById(\"00c08e44-ce46-4846-9dcb-0373b05be282\")) {                    Plotly.newPlot(                        \"00c08e44-ce46-4846-9dcb-0373b05be282\",                        [{\"hovertemplate\": \"Geography=Newfoundland<br>Time=2012Q3<br>AverageMortgageAmount=%{x}<br>DelinquencyRate=%{y}<br>PopulationSize=%{marker.size}<extra></extra>\", \"ids\": [\"Newfoundland\"], \"legendgroup\": \"Newfoundland\", \"marker\": {\"color\": \"#636efa\", \"size\": [526345], \"sizemode\": \"area\", \"sizeref\": 36835.035, \"symbol\": \"circle\"}, \"mode\": \"markers\", \"name\": \"Newfoundland\", \"orientation\": \"v\", \"showlegend\": true, \"type\": \"scatter\", \"x\": [188732], \"xaxis\": \"x\", \"y\": [0.24], \"yaxis\": \"y\"}, {\"hovertemplate\": \"Geography=Prince Edward Island<br>Time=2012Q3<br>AverageMortgageAmount=%{x}<br>DelinquencyRate=%{y}<br>PopulationSize=%{marker.size}<extra></extra>\", \"ids\": [\"Prince Edward Island\"], \"legendgroup\": \"Prince Edward Island\", \"marker\": {\"color\": \"#EF553B\", \"size\": [144530], \"sizemode\": \"area\", \"sizeref\": 36835.035, \"symbol\": \"circle\"}, \"mode\": \"markers\", \"name\": \"Prince Edward Island\", \"orientation\": \"v\", \"showlegend\": true, \"type\": \"scatter\", \"x\": [140279], \"xaxis\": \"x\", \"y\": [0.57], \"yaxis\": \"y\"}, {\"hovertemplate\": \"Geography=Nova Scotia<br>Time=2012Q3<br>AverageMortgageAmount=%{x}<br>DelinquencyRate=%{y}<br>PopulationSize=%{marker.size}<extra></extra>\", \"ids\": [\"Nova Scotia\"], \"legendgroup\": \"Nova Scotia\", \"marker\": {\"color\": \"#00cc96\", \"size\": [943635], \"sizemode\": \"area\", \"sizeref\": 36835.035, \"symbol\": \"circle\"}, \"mode\": \"markers\", \"name\": \"Nova Scotia\", \"orientation\": \"v\", \"showlegend\": true, \"type\": \"scatter\", \"x\": [174688], \"xaxis\": \"x\", \"y\": [0.53], \"yaxis\": \"y\"}, {\"hovertemplate\": \"Geography=New Brunswick<br>Time=2012Q3<br>AverageMortgageAmount=%{x}<br>DelinquencyRate=%{y}<br>PopulationSize=%{marker.size}<extra></extra>\", \"ids\": [\"New Brunswick\"], \"legendgroup\": \"New Brunswick\", \"marker\": {\"color\": \"#ab63fa\", \"size\": [758378], \"sizemode\": \"area\", \"sizeref\": 36835.035, \"symbol\": \"circle\"}, \"mode\": \"markers\", \"name\": \"New Brunswick\", \"orientation\": \"v\", \"showlegend\": true, \"type\": \"scatter\", \"x\": [133390], \"xaxis\": \"x\", \"y\": [0.63], \"yaxis\": \"y\"}, {\"hovertemplate\": \"Geography=Qu\\u00e9bec<br>Time=2012Q3<br>AverageMortgageAmount=%{x}<br>DelinquencyRate=%{y}<br>PopulationSize=%{marker.size}<extra></extra>\", \"ids\": [\"Qu\\u00e9bec\"], \"legendgroup\": \"Qu\\u00e9bec\", \"marker\": {\"color\": \"#FFA15A\", \"size\": [8061101], \"sizemode\": \"area\", \"sizeref\": 36835.035, \"symbol\": \"circle\"}, \"mode\": \"markers\", \"name\": \"Qu\\u00e9bec\", \"orientation\": \"v\", \"showlegend\": true, \"type\": \"scatter\", \"x\": [159661], \"xaxis\": \"x\", \"y\": [0.33], \"yaxis\": \"y\"}, {\"hovertemplate\": \"Geography=Ontario<br>Time=2012Q3<br>AverageMortgageAmount=%{x}<br>DelinquencyRate=%{y}<br>PopulationSize=%{marker.size}<extra></extra>\", \"ids\": [\"Ontario\"], \"legendgroup\": \"Ontario\", \"marker\": {\"color\": \"#19d3f3\", \"size\": [13390632], \"sizemode\": \"area\", \"sizeref\": 36835.035, \"symbol\": \"circle\"}, \"mode\": \"markers\", \"name\": \"Ontario\", \"orientation\": \"v\", \"showlegend\": true, \"type\": \"scatter\", \"x\": [247455], \"xaxis\": \"x\", \"y\": [0.31], \"yaxis\": \"y\"}, {\"hovertemplate\": \"Geography=Manitoba<br>Time=2012Q3<br>AverageMortgageAmount=%{x}<br>DelinquencyRate=%{y}<br>PopulationSize=%{marker.size}<extra></extra>\", \"ids\": [\"Manitoba\"], \"legendgroup\": \"Manitoba\", \"marker\": {\"color\": \"#FF6692\", \"size\": [1249975], \"sizemode\": \"area\", \"sizeref\": 36835.035, \"symbol\": \"circle\"}, \"mode\": \"markers\", \"name\": \"Manitoba\", \"orientation\": \"v\", \"showlegend\": true, \"type\": \"scatter\", \"x\": [188298], \"xaxis\": \"x\", \"y\": [0.25], \"yaxis\": \"y\"}, {\"hovertemplate\": \"Geography=Saskatchewan<br>Time=2012Q3<br>AverageMortgageAmount=%{x}<br>DelinquencyRate=%{y}<br>PopulationSize=%{marker.size}<extra></extra>\", \"ids\": [\"Saskatchewan\"], \"legendgroup\": \"Saskatchewan\", \"marker\": {\"color\": \"#B6E880\", \"size\": [1083755], \"sizemode\": \"area\", \"sizeref\": 36835.035, \"symbol\": \"circle\"}, \"mode\": \"markers\", \"name\": \"Saskatchewan\", \"orientation\": \"v\", \"showlegend\": true, \"type\": \"scatter\", \"x\": [217945], \"xaxis\": \"x\", \"y\": [0.37], \"yaxis\": \"y\"}, {\"hovertemplate\": \"Geography=Alberta<br>Time=2012Q3<br>AverageMortgageAmount=%{x}<br>DelinquencyRate=%{y}<br>PopulationSize=%{marker.size}<extra></extra>\", \"ids\": [\"Alberta\"], \"legendgroup\": \"Alberta\", \"marker\": {\"color\": \"#FF97FF\", \"size\": [3874548], \"sizemode\": \"area\", \"sizeref\": 36835.035, \"symbol\": \"circle\"}, \"mode\": \"markers\", \"name\": \"Alberta\", \"orientation\": \"v\", \"showlegend\": true, \"type\": \"scatter\", \"x\": [282371], \"xaxis\": \"x\", \"y\": [0.6], \"yaxis\": \"y\"}, {\"hovertemplate\": \"Geography=British Columbia<br>Time=2012Q3<br>AverageMortgageAmount=%{x}<br>DelinquencyRate=%{y}<br>PopulationSize=%{marker.size}<extra></extra>\", \"ids\": [\"British Columbia\"], \"legendgroup\": \"British Columbia\", \"marker\": {\"color\": \"#FECB52\", \"size\": [4566769], \"sizemode\": \"area\", \"sizeref\": 36835.035, \"symbol\": \"circle\"}, \"mode\": \"markers\", \"name\": \"British Columbia\", \"orientation\": \"v\", \"showlegend\": true, \"type\": \"scatter\", \"x\": [305427], \"xaxis\": \"x\", \"y\": [0.42], \"yaxis\": \"y\"}],                        {\"legend\": {\"itemsizing\": \"constant\", \"title\": {\"text\": \"Geography\"}, \"tracegroupgap\": 0}, \"margin\": {\"t\": 60}, \"sliders\": [{\"active\": 0, \"currentvalue\": {\"prefix\": \"Time=\"}, \"len\": 0.9, \"pad\": {\"b\": 10, \"t\": 60}, \"steps\": [{\"args\": [[\"2012Q3\"], {\"frame\": {\"duration\": 0, \"redraw\": false}, \"fromcurrent\": true, \"mode\": \"immediate\", \"transition\": {\"duration\": 0, \"easing\": \"linear\"}}], \"label\": \"2012Q3\", \"method\": \"animate\"}, {\"args\": [[\"2012Q4\"], {\"frame\": {\"duration\": 0, \"redraw\": false}, \"fromcurrent\": true, \"mode\": \"immediate\", \"transition\": {\"duration\": 0, \"easing\": \"linear\"}}], \"label\": \"2012Q4\", \"method\": \"animate\"}, {\"args\": [[\"2013Q1\"], {\"frame\": {\"duration\": 0, \"redraw\": false}, \"fromcurrent\": true, \"mode\": \"immediate\", \"transition\": {\"duration\": 0, \"easing\": \"linear\"}}], \"label\": \"2013Q1\", \"method\": \"animate\"}, {\"args\": [[\"2013Q2\"], {\"frame\": {\"duration\": 0, \"redraw\": false}, \"fromcurrent\": true, \"mode\": \"immediate\", \"transition\": {\"duration\": 0, \"easing\": \"linear\"}}], \"label\": \"2013Q2\", \"method\": \"animate\"}, {\"args\": [[\"2013Q3\"], {\"frame\": {\"duration\": 0, \"redraw\": false}, \"fromcurrent\": true, \"mode\": \"immediate\", \"transition\": {\"duration\": 0, \"easing\": \"linear\"}}], \"label\": \"2013Q3\", \"method\": \"animate\"}, {\"args\": [[\"2013Q4\"], {\"frame\": {\"duration\": 0, \"redraw\": false}, \"fromcurrent\": true, \"mode\": \"immediate\", \"transition\": {\"duration\": 0, \"easing\": \"linear\"}}], \"label\": \"2013Q4\", \"method\": \"animate\"}, {\"args\": [[\"2014Q1\"], {\"frame\": {\"duration\": 0, \"redraw\": false}, \"fromcurrent\": true, \"mode\": \"immediate\", \"transition\": {\"duration\": 0, \"easing\": \"linear\"}}], \"label\": \"2014Q1\", \"method\": \"animate\"}, {\"args\": [[\"2014Q2\"], {\"frame\": {\"duration\": 0, \"redraw\": false}, \"fromcurrent\": true, \"mode\": \"immediate\", \"transition\": {\"duration\": 0, \"easing\": \"linear\"}}], \"label\": \"2014Q2\", \"method\": \"animate\"}, {\"args\": [[\"2014Q3\"], {\"frame\": {\"duration\": 0, \"redraw\": false}, \"fromcurrent\": true, \"mode\": \"immediate\", \"transition\": {\"duration\": 0, \"easing\": \"linear\"}}], \"label\": \"2014Q3\", \"method\": \"animate\"}, {\"args\": [[\"2014Q4\"], {\"frame\": {\"duration\": 0, \"redraw\": false}, \"fromcurrent\": true, \"mode\": \"immediate\", \"transition\": {\"duration\": 0, \"easing\": \"linear\"}}], \"label\": \"2014Q4\", \"method\": \"animate\"}, {\"args\": [[\"2015Q1\"], {\"frame\": {\"duration\": 0, \"redraw\": false}, \"fromcurrent\": true, \"mode\": \"immediate\", \"transition\": {\"duration\": 0, \"easing\": \"linear\"}}], \"label\": \"2015Q1\", \"method\": \"animate\"}, {\"args\": [[\"2015Q2\"], {\"frame\": {\"duration\": 0, \"redraw\": false}, \"fromcurrent\": true, \"mode\": \"immediate\", \"transition\": {\"duration\": 0, \"easing\": \"linear\"}}], \"label\": \"2015Q2\", \"method\": \"animate\"}, {\"args\": [[\"2015Q3\"], {\"frame\": {\"duration\": 0, \"redraw\": false}, \"fromcurrent\": true, \"mode\": \"immediate\", \"transition\": {\"duration\": 0, \"easing\": \"linear\"}}], \"label\": \"2015Q3\", \"method\": \"animate\"}, {\"args\": [[\"2015Q4\"], {\"frame\": {\"duration\": 0, \"redraw\": false}, \"fromcurrent\": true, \"mode\": \"immediate\", \"transition\": {\"duration\": 0, \"easing\": \"linear\"}}], \"label\": \"2015Q4\", \"method\": \"animate\"}, {\"args\": [[\"2016Q1\"], {\"frame\": {\"duration\": 0, \"redraw\": false}, \"fromcurrent\": true, \"mode\": \"immediate\", \"transition\": {\"duration\": 0, \"easing\": \"linear\"}}], \"label\": \"2016Q1\", \"method\": \"animate\"}, {\"args\": [[\"2016Q2\"], {\"frame\": {\"duration\": 0, \"redraw\": false}, \"fromcurrent\": true, \"mode\": \"immediate\", \"transition\": {\"duration\": 0, \"easing\": \"linear\"}}], \"label\": \"2016Q2\", \"method\": \"animate\"}, {\"args\": [[\"2016Q3\"], {\"frame\": {\"duration\": 0, \"redraw\": false}, \"fromcurrent\": true, \"mode\": \"immediate\", \"transition\": {\"duration\": 0, \"easing\": \"linear\"}}], \"label\": \"2016Q3\", \"method\": \"animate\"}, {\"args\": [[\"2016Q4\"], {\"frame\": {\"duration\": 0, \"redraw\": false}, \"fromcurrent\": true, \"mode\": \"immediate\", \"transition\": {\"duration\": 0, \"easing\": \"linear\"}}], \"label\": \"2016Q4\", \"method\": \"animate\"}, {\"args\": [[\"2017Q1\"], {\"frame\": {\"duration\": 0, \"redraw\": false}, \"fromcurrent\": true, \"mode\": \"immediate\", \"transition\": {\"duration\": 0, \"easing\": \"linear\"}}], \"label\": \"2017Q1\", \"method\": \"animate\"}, {\"args\": [[\"2017Q2\"], {\"frame\": {\"duration\": 0, \"redraw\": false}, \"fromcurrent\": true, \"mode\": \"immediate\", \"transition\": {\"duration\": 0, \"easing\": \"linear\"}}], \"label\": \"2017Q2\", \"method\": \"animate\"}, {\"args\": [[\"2017Q3\"], {\"frame\": {\"duration\": 0, \"redraw\": false}, \"fromcurrent\": true, \"mode\": \"immediate\", \"transition\": {\"duration\": 0, \"easing\": \"linear\"}}], \"label\": \"2017Q3\", \"method\": \"animate\"}, {\"args\": [[\"2017Q4\"], {\"frame\": {\"duration\": 0, \"redraw\": false}, \"fromcurrent\": true, \"mode\": \"immediate\", \"transition\": {\"duration\": 0, \"easing\": \"linear\"}}], \"label\": \"2017Q4\", \"method\": \"animate\"}, {\"args\": [[\"2018Q1\"], {\"frame\": {\"duration\": 0, \"redraw\": false}, \"fromcurrent\": true, \"mode\": \"immediate\", \"transition\": {\"duration\": 0, \"easing\": \"linear\"}}], \"label\": \"2018Q1\", \"method\": \"animate\"}, {\"args\": [[\"2018Q2\"], {\"frame\": {\"duration\": 0, \"redraw\": false}, \"fromcurrent\": true, \"mode\": \"immediate\", \"transition\": {\"duration\": 0, \"easing\": \"linear\"}}], \"label\": \"2018Q2\", \"method\": \"animate\"}, {\"args\": [[\"2018Q3\"], {\"frame\": {\"duration\": 0, \"redraw\": false}, \"fromcurrent\": true, \"mode\": \"immediate\", \"transition\": {\"duration\": 0, \"easing\": \"linear\"}}], \"label\": \"2018Q3\", \"method\": \"animate\"}, {\"args\": [[\"2018Q4\"], {\"frame\": {\"duration\": 0, \"redraw\": false}, \"fromcurrent\": true, \"mode\": \"immediate\", \"transition\": {\"duration\": 0, \"easing\": \"linear\"}}], \"label\": \"2018Q4\", \"method\": \"animate\"}, {\"args\": [[\"2019Q1\"], {\"frame\": {\"duration\": 0, \"redraw\": false}, \"fromcurrent\": true, \"mode\": \"immediate\", \"transition\": {\"duration\": 0, \"easing\": \"linear\"}}], \"label\": \"2019Q1\", \"method\": \"animate\"}, {\"args\": [[\"2019Q2\"], {\"frame\": {\"duration\": 0, \"redraw\": false}, \"fromcurrent\": true, \"mode\": \"immediate\", \"transition\": {\"duration\": 0, \"easing\": \"linear\"}}], \"label\": \"2019Q2\", \"method\": \"animate\"}, {\"args\": [[\"2019Q3\"], {\"frame\": {\"duration\": 0, \"redraw\": false}, \"fromcurrent\": true, \"mode\": \"immediate\", \"transition\": {\"duration\": 0, \"easing\": \"linear\"}}], \"label\": \"2019Q3\", \"method\": \"animate\"}, {\"args\": [[\"2019Q4\"], {\"frame\": {\"duration\": 0, \"redraw\": false}, \"fromcurrent\": true, \"mode\": \"immediate\", \"transition\": {\"duration\": 0, \"easing\": \"linear\"}}], \"label\": \"2019Q4\", \"method\": \"animate\"}, {\"args\": [[\"2020Q1\"], {\"frame\": {\"duration\": 0, \"redraw\": false}, \"fromcurrent\": true, \"mode\": \"immediate\", \"transition\": {\"duration\": 0, \"easing\": \"linear\"}}], \"label\": \"2020Q1\", \"method\": \"animate\"}, {\"args\": [[\"2020Q2\"], {\"frame\": {\"duration\": 0, \"redraw\": false}, \"fromcurrent\": true, \"mode\": \"immediate\", \"transition\": {\"duration\": 0, \"easing\": \"linear\"}}], \"label\": \"2020Q2\", \"method\": \"animate\"}, {\"args\": [[\"2020Q3\"], {\"frame\": {\"duration\": 0, \"redraw\": false}, \"fromcurrent\": true, \"mode\": \"immediate\", \"transition\": {\"duration\": 0, \"easing\": \"linear\"}}], \"label\": \"2020Q3\", \"method\": \"animate\"}], \"x\": 0.1, \"xanchor\": \"left\", \"y\": 0, \"yanchor\": \"top\"}], \"template\": {\"data\": {\"bar\": [{\"error_x\": {\"color\": \"#2a3f5f\"}, \"error_y\": {\"color\": \"#2a3f5f\"}, \"marker\": {\"line\": {\"color\": \"#E5ECF6\", \"width\": 0.5}}, \"type\": \"bar\"}], \"barpolar\": [{\"marker\": {\"line\": {\"color\": \"#E5ECF6\", \"width\": 0.5}}, \"type\": \"barpolar\"}], \"carpet\": [{\"aaxis\": {\"endlinecolor\": \"#2a3f5f\", \"gridcolor\": \"white\", \"linecolor\": \"white\", \"minorgridcolor\": \"white\", \"startlinecolor\": \"#2a3f5f\"}, \"baxis\": {\"endlinecolor\": \"#2a3f5f\", \"gridcolor\": \"white\", \"linecolor\": \"white\", \"minorgridcolor\": \"white\", \"startlinecolor\": \"#2a3f5f\"}, \"type\": \"carpet\"}], \"choropleth\": [{\"colorbar\": {\"outlinewidth\": 0, \"ticks\": \"\"}, \"type\": \"choropleth\"}], \"contour\": [{\"colorbar\": {\"outlinewidth\": 0, \"ticks\": \"\"}, \"colorscale\": [[0.0, \"#0d0887\"], [0.1111111111111111, \"#46039f\"], [0.2222222222222222, \"#7201a8\"], [0.3333333333333333, \"#9c179e\"], [0.4444444444444444, \"#bd3786\"], [0.5555555555555556, \"#d8576b\"], [0.6666666666666666, \"#ed7953\"], [0.7777777777777778, \"#fb9f3a\"], [0.8888888888888888, \"#fdca26\"], [1.0, \"#f0f921\"]], \"type\": \"contour\"}], \"contourcarpet\": [{\"colorbar\": {\"outlinewidth\": 0, \"ticks\": \"\"}, \"type\": \"contourcarpet\"}], \"heatmap\": [{\"colorbar\": {\"outlinewidth\": 0, \"ticks\": \"\"}, \"colorscale\": [[0.0, \"#0d0887\"], [0.1111111111111111, \"#46039f\"], [0.2222222222222222, \"#7201a8\"], [0.3333333333333333, \"#9c179e\"], [0.4444444444444444, \"#bd3786\"], [0.5555555555555556, \"#d8576b\"], [0.6666666666666666, \"#ed7953\"], [0.7777777777777778, \"#fb9f3a\"], [0.8888888888888888, \"#fdca26\"], [1.0, \"#f0f921\"]], \"type\": \"heatmap\"}], \"heatmapgl\": [{\"colorbar\": {\"outlinewidth\": 0, \"ticks\": \"\"}, \"colorscale\": [[0.0, \"#0d0887\"], [0.1111111111111111, \"#46039f\"], [0.2222222222222222, \"#7201a8\"], [0.3333333333333333, \"#9c179e\"], [0.4444444444444444, \"#bd3786\"], [0.5555555555555556, \"#d8576b\"], [0.6666666666666666, \"#ed7953\"], [0.7777777777777778, \"#fb9f3a\"], [0.8888888888888888, \"#fdca26\"], [1.0, \"#f0f921\"]], \"type\": \"heatmapgl\"}], \"histogram\": [{\"marker\": {\"colorbar\": {\"outlinewidth\": 0, \"ticks\": \"\"}}, \"type\": \"histogram\"}], \"histogram2d\": [{\"colorbar\": {\"outlinewidth\": 0, \"ticks\": \"\"}, \"colorscale\": [[0.0, \"#0d0887\"], [0.1111111111111111, \"#46039f\"], [0.2222222222222222, \"#7201a8\"], [0.3333333333333333, \"#9c179e\"], [0.4444444444444444, \"#bd3786\"], [0.5555555555555556, \"#d8576b\"], [0.6666666666666666, \"#ed7953\"], [0.7777777777777778, \"#fb9f3a\"], [0.8888888888888888, \"#fdca26\"], [1.0, \"#f0f921\"]], \"type\": \"histogram2d\"}], \"histogram2dcontour\": [{\"colorbar\": {\"outlinewidth\": 0, \"ticks\": \"\"}, \"colorscale\": [[0.0, \"#0d0887\"], [0.1111111111111111, \"#46039f\"], [0.2222222222222222, \"#7201a8\"], [0.3333333333333333, \"#9c179e\"], [0.4444444444444444, \"#bd3786\"], [0.5555555555555556, \"#d8576b\"], [0.6666666666666666, \"#ed7953\"], [0.7777777777777778, \"#fb9f3a\"], [0.8888888888888888, \"#fdca26\"], [1.0, \"#f0f921\"]], \"type\": \"histogram2dcontour\"}], \"mesh3d\": [{\"colorbar\": {\"outlinewidth\": 0, \"ticks\": \"\"}, \"type\": \"mesh3d\"}], \"parcoords\": [{\"line\": {\"colorbar\": {\"outlinewidth\": 0, \"ticks\": \"\"}}, \"type\": \"parcoords\"}], \"pie\": [{\"automargin\": true, \"type\": \"pie\"}], \"scatter\": [{\"marker\": {\"colorbar\": {\"outlinewidth\": 0, \"ticks\": \"\"}}, \"type\": \"scatter\"}], \"scatter3d\": [{\"line\": {\"colorbar\": {\"outlinewidth\": 0, \"ticks\": \"\"}}, \"marker\": {\"colorbar\": {\"outlinewidth\": 0, \"ticks\": \"\"}}, \"type\": \"scatter3d\"}], \"scattercarpet\": [{\"marker\": {\"colorbar\": {\"outlinewidth\": 0, \"ticks\": \"\"}}, \"type\": \"scattercarpet\"}], \"scattergeo\": [{\"marker\": {\"colorbar\": {\"outlinewidth\": 0, \"ticks\": \"\"}}, \"type\": \"scattergeo\"}], \"scattergl\": [{\"marker\": {\"colorbar\": {\"outlinewidth\": 0, \"ticks\": \"\"}}, \"type\": \"scattergl\"}], \"scattermapbox\": [{\"marker\": {\"colorbar\": {\"outlinewidth\": 0, \"ticks\": \"\"}}, \"type\": \"scattermapbox\"}], \"scatterpolar\": [{\"marker\": {\"colorbar\": {\"outlinewidth\": 0, \"ticks\": \"\"}}, \"type\": \"scatterpolar\"}], \"scatterpolargl\": [{\"marker\": {\"colorbar\": {\"outlinewidth\": 0, \"ticks\": \"\"}}, \"type\": \"scatterpolargl\"}], \"scatterternary\": [{\"marker\": {\"colorbar\": {\"outlinewidth\": 0, \"ticks\": \"\"}}, \"type\": \"scatterternary\"}], \"surface\": [{\"colorbar\": {\"outlinewidth\": 0, \"ticks\": \"\"}, \"colorscale\": [[0.0, \"#0d0887\"], [0.1111111111111111, \"#46039f\"], [0.2222222222222222, \"#7201a8\"], [0.3333333333333333, \"#9c179e\"], [0.4444444444444444, \"#bd3786\"], [0.5555555555555556, \"#d8576b\"], [0.6666666666666666, \"#ed7953\"], [0.7777777777777778, \"#fb9f3a\"], [0.8888888888888888, \"#fdca26\"], [1.0, \"#f0f921\"]], \"type\": \"surface\"}], \"table\": [{\"cells\": {\"fill\": {\"color\": \"#EBF0F8\"}, \"line\": {\"color\": \"white\"}}, \"header\": {\"fill\": {\"color\": \"#C8D4E3\"}, \"line\": {\"color\": \"white\"}}, \"type\": \"table\"}]}, \"layout\": {\"annotationdefaults\": {\"arrowcolor\": \"#2a3f5f\", \"arrowhead\": 0, \"arrowwidth\": 1}, \"autotypenumbers\": \"strict\", \"coloraxis\": {\"colorbar\": {\"outlinewidth\": 0, \"ticks\": \"\"}}, \"colorscale\": {\"diverging\": [[0, \"#8e0152\"], [0.1, \"#c51b7d\"], [0.2, \"#de77ae\"], [0.3, \"#f1b6da\"], [0.4, \"#fde0ef\"], [0.5, \"#f7f7f7\"], [0.6, \"#e6f5d0\"], [0.7, \"#b8e186\"], [0.8, \"#7fbc41\"], [0.9, \"#4d9221\"], [1, \"#276419\"]], \"sequential\": [[0.0, \"#0d0887\"], [0.1111111111111111, \"#46039f\"], [0.2222222222222222, \"#7201a8\"], [0.3333333333333333, \"#9c179e\"], [0.4444444444444444, \"#bd3786\"], [0.5555555555555556, \"#d8576b\"], [0.6666666666666666, \"#ed7953\"], [0.7777777777777778, \"#fb9f3a\"], [0.8888888888888888, \"#fdca26\"], [1.0, \"#f0f921\"]], \"sequentialminus\": [[0.0, \"#0d0887\"], [0.1111111111111111, \"#46039f\"], [0.2222222222222222, \"#7201a8\"], [0.3333333333333333, \"#9c179e\"], [0.4444444444444444, \"#bd3786\"], [0.5555555555555556, \"#d8576b\"], [0.6666666666666666, \"#ed7953\"], [0.7777777777777778, \"#fb9f3a\"], [0.8888888888888888, \"#fdca26\"], [1.0, \"#f0f921\"]]}, \"colorway\": [\"#636efa\", \"#EF553B\", \"#00cc96\", \"#ab63fa\", \"#FFA15A\", \"#19d3f3\", \"#FF6692\", \"#B6E880\", \"#FF97FF\", \"#FECB52\"], \"font\": {\"color\": \"#2a3f5f\"}, \"geo\": {\"bgcolor\": \"white\", \"lakecolor\": \"white\", \"landcolor\": \"#E5ECF6\", \"showlakes\": true, \"showland\": true, \"subunitcolor\": \"white\"}, \"hoverlabel\": {\"align\": \"left\"}, \"hovermode\": \"closest\", \"mapbox\": {\"style\": \"light\"}, \"paper_bgcolor\": \"white\", \"plot_bgcolor\": \"#E5ECF6\", \"polar\": {\"angularaxis\": {\"gridcolor\": \"white\", \"linecolor\": \"white\", \"ticks\": \"\"}, \"bgcolor\": \"#E5ECF6\", \"radialaxis\": {\"gridcolor\": \"white\", \"linecolor\": \"white\", \"ticks\": \"\"}}, \"scene\": {\"xaxis\": {\"backgroundcolor\": \"#E5ECF6\", \"gridcolor\": \"white\", \"gridwidth\": 2, \"linecolor\": \"white\", \"showbackground\": true, \"ticks\": \"\", \"zerolinecolor\": \"white\"}, \"yaxis\": {\"backgroundcolor\": \"#E5ECF6\", \"gridcolor\": \"white\", \"gridwidth\": 2, \"linecolor\": \"white\", \"showbackground\": true, \"ticks\": \"\", \"zerolinecolor\": \"white\"}, \"zaxis\": {\"backgroundcolor\": \"#E5ECF6\", \"gridcolor\": \"white\", \"gridwidth\": 2, \"linecolor\": \"white\", \"showbackground\": true, \"ticks\": \"\", \"zerolinecolor\": \"white\"}}, \"shapedefaults\": {\"line\": {\"color\": \"#2a3f5f\"}}, \"ternary\": {\"aaxis\": {\"gridcolor\": \"white\", \"linecolor\": \"white\", \"ticks\": \"\"}, \"baxis\": {\"gridcolor\": \"white\", \"linecolor\": \"white\", \"ticks\": \"\"}, \"bgcolor\": \"#E5ECF6\", \"caxis\": {\"gridcolor\": \"white\", \"linecolor\": \"white\", \"ticks\": \"\"}}, \"title\": {\"x\": 0.05}, \"xaxis\": {\"automargin\": true, \"gridcolor\": \"white\", \"linecolor\": \"white\", \"ticks\": \"\", \"title\": {\"standoff\": 15}, \"zerolinecolor\": \"white\", \"zerolinewidth\": 2}, \"yaxis\": {\"automargin\": true, \"gridcolor\": \"white\", \"linecolor\": \"white\", \"ticks\": \"\", \"title\": {\"standoff\": 15}, \"zerolinecolor\": \"white\", \"zerolinewidth\": 2}}}, \"updatemenus\": [{\"buttons\": [{\"args\": [null, {\"frame\": {\"duration\": 500, \"redraw\": false}, \"fromcurrent\": true, \"mode\": \"immediate\", \"transition\": {\"duration\": 500, \"easing\": \"linear\"}}], \"label\": \"&#9654;\", \"method\": \"animate\"}, {\"args\": [[null], {\"frame\": {\"duration\": 0, \"redraw\": false}, \"fromcurrent\": true, \"mode\": \"immediate\", \"transition\": {\"duration\": 0, \"easing\": \"linear\"}}], \"label\": \"&#9724;\", \"method\": \"animate\"}], \"direction\": \"left\", \"pad\": {\"r\": 10, \"t\": 70}, \"showactive\": false, \"type\": \"buttons\", \"x\": 0.1, \"xanchor\": \"right\", \"y\": 0, \"yanchor\": \"top\"}], \"xaxis\": {\"anchor\": \"y\", \"domain\": [0.0, 1.0], \"title\": {\"text\": \"AverageMortgageAmount\"}}, \"yaxis\": {\"anchor\": \"x\", \"domain\": [0.0, 1.0], \"title\": {\"text\": \"DelinquencyRate\"}}},                        {\"responsive\": true}                    ).then(function(){\n",
       "                            Plotly.addFrames('00c08e44-ce46-4846-9dcb-0373b05be282', [{\"data\": [{\"hovertemplate\": \"Geography=Newfoundland<br>Time=2012Q3<br>AverageMortgageAmount=%{x}<br>DelinquencyRate=%{y}<br>PopulationSize=%{marker.size}<extra></extra>\", \"ids\": [\"Newfoundland\"], \"legendgroup\": \"Newfoundland\", \"marker\": {\"color\": \"#636efa\", \"size\": [526345], \"sizemode\": \"area\", \"sizeref\": 36835.035, \"symbol\": \"circle\"}, \"mode\": \"markers\", \"name\": \"Newfoundland\", \"orientation\": \"v\", \"showlegend\": true, \"x\": [188732], \"xaxis\": \"x\", \"y\": [0.24], \"yaxis\": \"y\", \"type\": \"scatter\"}, {\"hovertemplate\": \"Geography=Prince Edward Island<br>Time=2012Q3<br>AverageMortgageAmount=%{x}<br>DelinquencyRate=%{y}<br>PopulationSize=%{marker.size}<extra></extra>\", \"ids\": [\"Prince Edward Island\"], \"legendgroup\": \"Prince Edward Island\", \"marker\": {\"color\": \"#EF553B\", \"size\": [144530], \"sizemode\": \"area\", \"sizeref\": 36835.035, \"symbol\": \"circle\"}, \"mode\": \"markers\", \"name\": \"Prince Edward Island\", \"orientation\": \"v\", \"showlegend\": true, \"x\": [140279], \"xaxis\": \"x\", \"y\": [0.57], \"yaxis\": \"y\", \"type\": \"scatter\"}, {\"hovertemplate\": \"Geography=Nova Scotia<br>Time=2012Q3<br>AverageMortgageAmount=%{x}<br>DelinquencyRate=%{y}<br>PopulationSize=%{marker.size}<extra></extra>\", \"ids\": [\"Nova Scotia\"], \"legendgroup\": \"Nova Scotia\", \"marker\": {\"color\": \"#00cc96\", \"size\": [943635], \"sizemode\": \"area\", \"sizeref\": 36835.035, \"symbol\": \"circle\"}, \"mode\": \"markers\", \"name\": \"Nova Scotia\", \"orientation\": \"v\", \"showlegend\": true, \"x\": [174688], \"xaxis\": \"x\", \"y\": [0.53], \"yaxis\": \"y\", \"type\": \"scatter\"}, {\"hovertemplate\": \"Geography=New Brunswick<br>Time=2012Q3<br>AverageMortgageAmount=%{x}<br>DelinquencyRate=%{y}<br>PopulationSize=%{marker.size}<extra></extra>\", \"ids\": [\"New Brunswick\"], \"legendgroup\": \"New Brunswick\", \"marker\": {\"color\": \"#ab63fa\", \"size\": [758378], \"sizemode\": \"area\", \"sizeref\": 36835.035, \"symbol\": \"circle\"}, \"mode\": \"markers\", \"name\": \"New Brunswick\", \"orientation\": \"v\", \"showlegend\": true, \"x\": [133390], \"xaxis\": \"x\", \"y\": [0.63], \"yaxis\": \"y\", \"type\": \"scatter\"}, {\"hovertemplate\": \"Geography=Qu\\u00e9bec<br>Time=2012Q3<br>AverageMortgageAmount=%{x}<br>DelinquencyRate=%{y}<br>PopulationSize=%{marker.size}<extra></extra>\", \"ids\": [\"Qu\\u00e9bec\"], \"legendgroup\": \"Qu\\u00e9bec\", \"marker\": {\"color\": \"#FFA15A\", \"size\": [8061101], \"sizemode\": \"area\", \"sizeref\": 36835.035, \"symbol\": \"circle\"}, \"mode\": \"markers\", \"name\": \"Qu\\u00e9bec\", \"orientation\": \"v\", \"showlegend\": true, \"x\": [159661], \"xaxis\": \"x\", \"y\": [0.33], \"yaxis\": \"y\", \"type\": \"scatter\"}, {\"hovertemplate\": \"Geography=Ontario<br>Time=2012Q3<br>AverageMortgageAmount=%{x}<br>DelinquencyRate=%{y}<br>PopulationSize=%{marker.size}<extra></extra>\", \"ids\": [\"Ontario\"], \"legendgroup\": \"Ontario\", \"marker\": {\"color\": \"#19d3f3\", \"size\": [13390632], \"sizemode\": \"area\", \"sizeref\": 36835.035, \"symbol\": \"circle\"}, \"mode\": \"markers\", \"name\": \"Ontario\", \"orientation\": \"v\", \"showlegend\": true, \"x\": [247455], \"xaxis\": \"x\", \"y\": [0.31], \"yaxis\": \"y\", \"type\": \"scatter\"}, {\"hovertemplate\": \"Geography=Manitoba<br>Time=2012Q3<br>AverageMortgageAmount=%{x}<br>DelinquencyRate=%{y}<br>PopulationSize=%{marker.size}<extra></extra>\", \"ids\": [\"Manitoba\"], \"legendgroup\": \"Manitoba\", \"marker\": {\"color\": \"#FF6692\", \"size\": [1249975], \"sizemode\": \"area\", \"sizeref\": 36835.035, \"symbol\": \"circle\"}, \"mode\": \"markers\", \"name\": \"Manitoba\", \"orientation\": \"v\", \"showlegend\": true, \"x\": [188298], \"xaxis\": \"x\", \"y\": [0.25], \"yaxis\": \"y\", \"type\": \"scatter\"}, {\"hovertemplate\": \"Geography=Saskatchewan<br>Time=2012Q3<br>AverageMortgageAmount=%{x}<br>DelinquencyRate=%{y}<br>PopulationSize=%{marker.size}<extra></extra>\", \"ids\": [\"Saskatchewan\"], \"legendgroup\": \"Saskatchewan\", \"marker\": {\"color\": \"#B6E880\", \"size\": [1083755], \"sizemode\": \"area\", \"sizeref\": 36835.035, \"symbol\": \"circle\"}, \"mode\": \"markers\", \"name\": \"Saskatchewan\", \"orientation\": \"v\", \"showlegend\": true, \"x\": [217945], \"xaxis\": \"x\", \"y\": [0.37], \"yaxis\": \"y\", \"type\": \"scatter\"}, {\"hovertemplate\": \"Geography=Alberta<br>Time=2012Q3<br>AverageMortgageAmount=%{x}<br>DelinquencyRate=%{y}<br>PopulationSize=%{marker.size}<extra></extra>\", \"ids\": [\"Alberta\"], \"legendgroup\": \"Alberta\", \"marker\": {\"color\": \"#FF97FF\", \"size\": [3874548], \"sizemode\": \"area\", \"sizeref\": 36835.035, \"symbol\": \"circle\"}, \"mode\": \"markers\", \"name\": \"Alberta\", \"orientation\": \"v\", \"showlegend\": true, \"x\": [282371], \"xaxis\": \"x\", \"y\": [0.6], \"yaxis\": \"y\", \"type\": \"scatter\"}, {\"hovertemplate\": \"Geography=British Columbia<br>Time=2012Q3<br>AverageMortgageAmount=%{x}<br>DelinquencyRate=%{y}<br>PopulationSize=%{marker.size}<extra></extra>\", \"ids\": [\"British Columbia\"], \"legendgroup\": \"British Columbia\", \"marker\": {\"color\": \"#FECB52\", \"size\": [4566769], \"sizemode\": \"area\", \"sizeref\": 36835.035, \"symbol\": \"circle\"}, \"mode\": \"markers\", \"name\": \"British Columbia\", \"orientation\": \"v\", \"showlegend\": true, \"x\": [305427], \"xaxis\": \"x\", \"y\": [0.42], \"yaxis\": \"y\", \"type\": \"scatter\"}], \"name\": \"2012Q3\"}, {\"data\": [{\"hovertemplate\": \"Geography=Newfoundland<br>Time=2012Q4<br>AverageMortgageAmount=%{x}<br>DelinquencyRate=%{y}<br>PopulationSize=%{marker.size}<extra></extra>\", \"ids\": [\"Newfoundland\"], \"legendgroup\": \"Newfoundland\", \"marker\": {\"color\": \"#636efa\", \"size\": [527180], \"sizemode\": \"area\", \"sizeref\": 36835.035, \"symbol\": \"circle\"}, \"mode\": \"markers\", \"name\": \"Newfoundland\", \"orientation\": \"v\", \"showlegend\": true, \"x\": [185794], \"xaxis\": \"x\", \"y\": [0.22], \"yaxis\": \"y\", \"type\": \"scatter\"}, {\"hovertemplate\": \"Geography=Prince Edward Island<br>Time=2012Q4<br>AverageMortgageAmount=%{x}<br>DelinquencyRate=%{y}<br>PopulationSize=%{marker.size}<extra></extra>\", \"ids\": [\"Prince Edward Island\"], \"legendgroup\": \"Prince Edward Island\", \"marker\": {\"color\": \"#EF553B\", \"size\": [144520], \"sizemode\": \"area\", \"sizeref\": 36835.035, \"symbol\": \"circle\"}, \"mode\": \"markers\", \"name\": \"Prince Edward Island\", \"orientation\": \"v\", \"showlegend\": true, \"x\": [138415], \"xaxis\": \"x\", \"y\": [0.5], \"yaxis\": \"y\", \"type\": \"scatter\"}, {\"hovertemplate\": \"Geography=Nova Scotia<br>Time=2012Q4<br>AverageMortgageAmount=%{x}<br>DelinquencyRate=%{y}<br>PopulationSize=%{marker.size}<extra></extra>\", \"ids\": [\"Nova Scotia\"], \"legendgroup\": \"Nova Scotia\", \"marker\": {\"color\": \"#00cc96\", \"size\": [943341], \"sizemode\": \"area\", \"sizeref\": 36835.035, \"symbol\": \"circle\"}, \"mode\": \"markers\", \"name\": \"Nova Scotia\", \"orientation\": \"v\", \"showlegend\": true, \"x\": [160046], \"xaxis\": \"x\", \"y\": [0.53], \"yaxis\": \"y\", \"type\": \"scatter\"}, {\"hovertemplate\": \"Geography=New Brunswick<br>Time=2012Q4<br>AverageMortgageAmount=%{x}<br>DelinquencyRate=%{y}<br>PopulationSize=%{marker.size}<extra></extra>\", \"ids\": [\"New Brunswick\"], \"legendgroup\": \"New Brunswick\", \"marker\": {\"color\": \"#ab63fa\", \"size\": [758673], \"sizemode\": \"area\", \"sizeref\": 36835.035, \"symbol\": \"circle\"}, \"mode\": \"markers\", \"name\": \"New Brunswick\", \"orientation\": \"v\", \"showlegend\": true, \"x\": [126138], \"xaxis\": \"x\", \"y\": [0.63], \"yaxis\": \"y\", \"type\": \"scatter\"}, {\"hovertemplate\": \"Geography=Qu\\u00e9bec<br>Time=2012Q4<br>AverageMortgageAmount=%{x}<br>DelinquencyRate=%{y}<br>PopulationSize=%{marker.size}<extra></extra>\", \"ids\": [\"Qu\\u00e9bec\"], \"legendgroup\": \"Qu\\u00e9bec\", \"marker\": {\"color\": \"#FFA15A\", \"size\": [8078388], \"sizemode\": \"area\", \"sizeref\": 36835.035, \"symbol\": \"circle\"}, \"mode\": \"markers\", \"name\": \"Qu\\u00e9bec\", \"orientation\": \"v\", \"showlegend\": true, \"x\": [153413], \"xaxis\": \"x\", \"y\": [0.33], \"yaxis\": \"y\", \"type\": \"scatter\"}, {\"hovertemplate\": \"Geography=Ontario<br>Time=2012Q4<br>AverageMortgageAmount=%{x}<br>DelinquencyRate=%{y}<br>PopulationSize=%{marker.size}<extra></extra>\", \"ids\": [\"Ontario\"], \"legendgroup\": \"Ontario\", \"marker\": {\"color\": \"#19d3f3\", \"size\": [13434943], \"sizemode\": \"area\", \"sizeref\": 36835.035, \"symbol\": \"circle\"}, \"mode\": \"markers\", \"name\": \"Ontario\", \"orientation\": \"v\", \"showlegend\": true, \"x\": [235667], \"xaxis\": \"x\", \"y\": [0.31], \"yaxis\": \"y\", \"type\": \"scatter\"}, {\"hovertemplate\": \"Geography=Manitoba<br>Time=2012Q4<br>AverageMortgageAmount=%{x}<br>DelinquencyRate=%{y}<br>PopulationSize=%{marker.size}<extra></extra>\", \"ids\": [\"Manitoba\"], \"legendgroup\": \"Manitoba\", \"marker\": {\"color\": \"#FF6692\", \"size\": [1254178], \"sizemode\": \"area\", \"sizeref\": 36835.035, \"symbol\": \"circle\"}, \"mode\": \"markers\", \"name\": \"Manitoba\", \"orientation\": \"v\", \"showlegend\": true, \"x\": [181097], \"xaxis\": \"x\", \"y\": [0.27], \"yaxis\": \"y\", \"type\": \"scatter\"}, {\"hovertemplate\": \"Geography=Saskatchewan<br>Time=2012Q4<br>AverageMortgageAmount=%{x}<br>DelinquencyRate=%{y}<br>PopulationSize=%{marker.size}<extra></extra>\", \"ids\": [\"Saskatchewan\"], \"legendgroup\": \"Saskatchewan\", \"marker\": {\"color\": \"#B6E880\", \"size\": [1088959], \"sizemode\": \"area\", \"sizeref\": 36835.035, \"symbol\": \"circle\"}, \"mode\": \"markers\", \"name\": \"Saskatchewan\", \"orientation\": \"v\", \"showlegend\": true, \"x\": [213126], \"xaxis\": \"x\", \"y\": [0.37], \"yaxis\": \"y\", \"type\": \"scatter\"}, {\"hovertemplate\": \"Geography=Alberta<br>Time=2012Q4<br>AverageMortgageAmount=%{x}<br>DelinquencyRate=%{y}<br>PopulationSize=%{marker.size}<extra></extra>\", \"ids\": [\"Alberta\"], \"legendgroup\": \"Alberta\", \"marker\": {\"color\": \"#FF97FF\", \"size\": [3900333], \"sizemode\": \"area\", \"sizeref\": 36835.035, \"symbol\": \"circle\"}, \"mode\": \"markers\", \"name\": \"Alberta\", \"orientation\": \"v\", \"showlegend\": true, \"x\": [277555], \"xaxis\": \"x\", \"y\": [0.55], \"yaxis\": \"y\", \"type\": \"scatter\"}, {\"hovertemplate\": \"Geography=British Columbia<br>Time=2012Q4<br>AverageMortgageAmount=%{x}<br>DelinquencyRate=%{y}<br>PopulationSize=%{marker.size}<extra></extra>\", \"ids\": [\"British Columbia\"], \"legendgroup\": \"British Columbia\", \"marker\": {\"color\": \"#FECB52\", \"size\": [4590545], \"sizemode\": \"area\", \"sizeref\": 36835.035, \"symbol\": \"circle\"}, \"mode\": \"markers\", \"name\": \"British Columbia\", \"orientation\": \"v\", \"showlegend\": true, \"x\": [289864], \"xaxis\": \"x\", \"y\": [0.42], \"yaxis\": \"y\", \"type\": \"scatter\"}], \"name\": \"2012Q4\"}, {\"data\": [{\"hovertemplate\": \"Geography=Newfoundland<br>Time=2013Q1<br>AverageMortgageAmount=%{x}<br>DelinquencyRate=%{y}<br>PopulationSize=%{marker.size}<extra></extra>\", \"ids\": [\"Newfoundland\"], \"legendgroup\": \"Newfoundland\", \"marker\": {\"color\": \"#636efa\", \"size\": [527248], \"sizemode\": \"area\", \"sizeref\": 36835.035, \"symbol\": \"circle\"}, \"mode\": \"markers\", \"name\": \"Newfoundland\", \"orientation\": \"v\", \"showlegend\": true, \"x\": [189098], \"xaxis\": \"x\", \"y\": [0.25], \"yaxis\": \"y\", \"type\": \"scatter\"}, {\"hovertemplate\": \"Geography=Prince Edward Island<br>Time=2013Q1<br>AverageMortgageAmount=%{x}<br>DelinquencyRate=%{y}<br>PopulationSize=%{marker.size}<extra></extra>\", \"ids\": [\"Prince Edward Island\"], \"legendgroup\": \"Prince Edward Island\", \"marker\": {\"color\": \"#EF553B\", \"size\": [144175], \"sizemode\": \"area\", \"sizeref\": 36835.035, \"symbol\": \"circle\"}, \"mode\": \"markers\", \"name\": \"Prince Edward Island\", \"orientation\": \"v\", \"showlegend\": true, \"x\": [137162], \"xaxis\": \"x\", \"y\": [0.55], \"yaxis\": \"y\", \"type\": \"scatter\"}, {\"hovertemplate\": \"Geography=Nova Scotia<br>Time=2013Q1<br>AverageMortgageAmount=%{x}<br>DelinquencyRate=%{y}<br>PopulationSize=%{marker.size}<extra></extra>\", \"ids\": [\"Nova Scotia\"], \"legendgroup\": \"Nova Scotia\", \"marker\": {\"color\": \"#00cc96\", \"size\": [942598], \"sizemode\": \"area\", \"sizeref\": 36835.035, \"symbol\": \"circle\"}, \"mode\": \"markers\", \"name\": \"Nova Scotia\", \"orientation\": \"v\", \"showlegend\": true, \"x\": [158806], \"xaxis\": \"x\", \"y\": [0.55], \"yaxis\": \"y\", \"type\": \"scatter\"}, {\"hovertemplate\": \"Geography=New Brunswick<br>Time=2013Q1<br>AverageMortgageAmount=%{x}<br>DelinquencyRate=%{y}<br>PopulationSize=%{marker.size}<extra></extra>\", \"ids\": [\"New Brunswick\"], \"legendgroup\": \"New Brunswick\", \"marker\": {\"color\": \"#ab63fa\", \"size\": [758298], \"sizemode\": \"area\", \"sizeref\": 36835.035, \"symbol\": \"circle\"}, \"mode\": \"markers\", \"name\": \"New Brunswick\", \"orientation\": \"v\", \"showlegend\": true, \"x\": [124645], \"xaxis\": \"x\", \"y\": [0.65], \"yaxis\": \"y\", \"type\": \"scatter\"}, {\"hovertemplate\": \"Geography=Qu\\u00e9bec<br>Time=2013Q1<br>AverageMortgageAmount=%{x}<br>DelinquencyRate=%{y}<br>PopulationSize=%{marker.size}<extra></extra>\", \"ids\": [\"Qu\\u00e9bec\"], \"legendgroup\": \"Qu\\u00e9bec\", \"marker\": {\"color\": \"#FFA15A\", \"size\": [8082771], \"sizemode\": \"area\", \"sizeref\": 36835.035, \"symbol\": \"circle\"}, \"mode\": \"markers\", \"name\": \"Qu\\u00e9bec\", \"orientation\": \"v\", \"showlegend\": true, \"x\": [153909], \"xaxis\": \"x\", \"y\": [0.35], \"yaxis\": \"y\", \"type\": \"scatter\"}, {\"hovertemplate\": \"Geography=Ontario<br>Time=2013Q1<br>AverageMortgageAmount=%{x}<br>DelinquencyRate=%{y}<br>PopulationSize=%{marker.size}<extra></extra>\", \"ids\": [\"Ontario\"], \"legendgroup\": \"Ontario\", \"marker\": {\"color\": \"#19d3f3\", \"size\": [13444704], \"sizemode\": \"area\", \"sizeref\": 36835.035, \"symbol\": \"circle\"}, \"mode\": \"markers\", \"name\": \"Ontario\", \"orientation\": \"v\", \"showlegend\": true, \"x\": [233122], \"xaxis\": \"x\", \"y\": [0.31], \"yaxis\": \"y\", \"type\": \"scatter\"}, {\"hovertemplate\": \"Geography=Manitoba<br>Time=2013Q1<br>AverageMortgageAmount=%{x}<br>DelinquencyRate=%{y}<br>PopulationSize=%{marker.size}<extra></extra>\", \"ids\": [\"Manitoba\"], \"legendgroup\": \"Manitoba\", \"marker\": {\"color\": \"#FF6692\", \"size\": [1257940], \"sizemode\": \"area\", \"sizeref\": 36835.035, \"symbol\": \"circle\"}, \"mode\": \"markers\", \"name\": \"Manitoba\", \"orientation\": \"v\", \"showlegend\": true, \"x\": [177560], \"xaxis\": \"x\", \"y\": [0.28], \"yaxis\": \"y\", \"type\": \"scatter\"}, {\"hovertemplate\": \"Geography=Saskatchewan<br>Time=2013Q1<br>AverageMortgageAmount=%{x}<br>DelinquencyRate=%{y}<br>PopulationSize=%{marker.size}<extra></extra>\", \"ids\": [\"Saskatchewan\"], \"legendgroup\": \"Saskatchewan\", \"marker\": {\"color\": \"#B6E880\", \"size\": [1091547], \"sizemode\": \"area\", \"sizeref\": 36835.035, \"symbol\": \"circle\"}, \"mode\": \"markers\", \"name\": \"Saskatchewan\", \"orientation\": \"v\", \"showlegend\": true, \"x\": [206354], \"xaxis\": \"x\", \"y\": [0.36], \"yaxis\": \"y\", \"type\": \"scatter\"}, {\"hovertemplate\": \"Geography=Alberta<br>Time=2013Q1<br>AverageMortgageAmount=%{x}<br>DelinquencyRate=%{y}<br>PopulationSize=%{marker.size}<extra></extra>\", \"ids\": [\"Alberta\"], \"legendgroup\": \"Alberta\", \"marker\": {\"color\": \"#FF97FF\", \"size\": [3920499], \"sizemode\": \"area\", \"sizeref\": 36835.035, \"symbol\": \"circle\"}, \"mode\": \"markers\", \"name\": \"Alberta\", \"orientation\": \"v\", \"showlegend\": true, \"x\": [277158], \"xaxis\": \"x\", \"y\": [0.52], \"yaxis\": \"y\", \"type\": \"scatter\"}, {\"hovertemplate\": \"Geography=British Columbia<br>Time=2013Q1<br>AverageMortgageAmount=%{x}<br>DelinquencyRate=%{y}<br>PopulationSize=%{marker.size}<extra></extra>\", \"ids\": [\"British Columbia\"], \"legendgroup\": \"British Columbia\", \"marker\": {\"color\": \"#FECB52\", \"size\": [4598255], \"sizemode\": \"area\", \"sizeref\": 36835.035, \"symbol\": \"circle\"}, \"mode\": \"markers\", \"name\": \"British Columbia\", \"orientation\": \"v\", \"showlegend\": true, \"x\": [286652], \"xaxis\": \"x\", \"y\": [0.43], \"yaxis\": \"y\", \"type\": \"scatter\"}], \"name\": \"2013Q1\"}, {\"data\": [{\"hovertemplate\": \"Geography=Newfoundland<br>Time=2013Q2<br>AverageMortgageAmount=%{x}<br>DelinquencyRate=%{y}<br>PopulationSize=%{marker.size}<extra></extra>\", \"ids\": [\"Newfoundland\"], \"legendgroup\": \"Newfoundland\", \"marker\": {\"color\": \"#636efa\", \"size\": [527313], \"sizemode\": \"area\", \"sizeref\": 36835.035, \"symbol\": \"circle\"}, \"mode\": \"markers\", \"name\": \"Newfoundland\", \"orientation\": \"v\", \"showlegend\": true, \"x\": [181331], \"xaxis\": \"x\", \"y\": [0.19], \"yaxis\": \"y\", \"type\": \"scatter\"}, {\"hovertemplate\": \"Geography=Prince Edward Island<br>Time=2013Q2<br>AverageMortgageAmount=%{x}<br>DelinquencyRate=%{y}<br>PopulationSize=%{marker.size}<extra></extra>\", \"ids\": [\"Prince Edward Island\"], \"legendgroup\": \"Prince Edward Island\", \"marker\": {\"color\": \"#EF553B\", \"size\": [143948], \"sizemode\": \"area\", \"sizeref\": 36835.035, \"symbol\": \"circle\"}, \"mode\": \"markers\", \"name\": \"Prince Edward Island\", \"orientation\": \"v\", \"showlegend\": true, \"x\": [126763], \"xaxis\": \"x\", \"y\": [0.47], \"yaxis\": \"y\", \"type\": \"scatter\"}, {\"hovertemplate\": \"Geography=Nova Scotia<br>Time=2013Q2<br>AverageMortgageAmount=%{x}<br>DelinquencyRate=%{y}<br>PopulationSize=%{marker.size}<extra></extra>\", \"ids\": [\"Nova Scotia\"], \"legendgroup\": \"Nova Scotia\", \"marker\": {\"color\": \"#00cc96\", \"size\": [941230], \"sizemode\": \"area\", \"sizeref\": 36835.035, \"symbol\": \"circle\"}, \"mode\": \"markers\", \"name\": \"Nova Scotia\", \"orientation\": \"v\", \"showlegend\": true, \"x\": [159945], \"xaxis\": \"x\", \"y\": [0.56], \"yaxis\": \"y\", \"type\": \"scatter\"}, {\"hovertemplate\": \"Geography=New Brunswick<br>Time=2013Q2<br>AverageMortgageAmount=%{x}<br>DelinquencyRate=%{y}<br>PopulationSize=%{marker.size}<extra></extra>\", \"ids\": [\"New Brunswick\"], \"legendgroup\": \"New Brunswick\", \"marker\": {\"color\": \"#ab63fa\", \"size\": [758132], \"sizemode\": \"area\", \"sizeref\": 36835.035, \"symbol\": \"circle\"}, \"mode\": \"markers\", \"name\": \"New Brunswick\", \"orientation\": \"v\", \"showlegend\": true, \"x\": [122572], \"xaxis\": \"x\", \"y\": [0.6], \"yaxis\": \"y\", \"type\": \"scatter\"}, {\"hovertemplate\": \"Geography=Qu\\u00e9bec<br>Time=2013Q2<br>AverageMortgageAmount=%{x}<br>DelinquencyRate=%{y}<br>PopulationSize=%{marker.size}<extra></extra>\", \"ids\": [\"Qu\\u00e9bec\"], \"legendgroup\": \"Qu\\u00e9bec\", \"marker\": {\"color\": \"#FFA15A\", \"size\": [8090916], \"sizemode\": \"area\", \"sizeref\": 36835.035, \"symbol\": \"circle\"}, \"mode\": \"markers\", \"name\": \"Qu\\u00e9bec\", \"orientation\": \"v\", \"showlegend\": true, \"x\": [155016], \"xaxis\": \"x\", \"y\": [0.34], \"yaxis\": \"y\", \"type\": \"scatter\"}, {\"hovertemplate\": \"Geography=Ontario<br>Time=2013Q2<br>AverageMortgageAmount=%{x}<br>DelinquencyRate=%{y}<br>PopulationSize=%{marker.size}<extra></extra>\", \"ids\": [\"Ontario\"], \"legendgroup\": \"Ontario\", \"marker\": {\"color\": \"#19d3f3\", \"size\": [13467829], \"sizemode\": \"area\", \"sizeref\": 36835.035, \"symbol\": \"circle\"}, \"mode\": \"markers\", \"name\": \"Ontario\", \"orientation\": \"v\", \"showlegend\": true, \"x\": [230770], \"xaxis\": \"x\", \"y\": [0.29], \"yaxis\": \"y\", \"type\": \"scatter\"}, {\"hovertemplate\": \"Geography=Manitoba<br>Time=2013Q2<br>AverageMortgageAmount=%{x}<br>DelinquencyRate=%{y}<br>PopulationSize=%{marker.size}<extra></extra>\", \"ids\": [\"Manitoba\"], \"legendgroup\": \"Manitoba\", \"marker\": {\"color\": \"#FF6692\", \"size\": [1260834], \"sizemode\": \"area\", \"sizeref\": 36835.035, \"symbol\": \"circle\"}, \"mode\": \"markers\", \"name\": \"Manitoba\", \"orientation\": \"v\", \"showlegend\": true, \"x\": [177517], \"xaxis\": \"x\", \"y\": [0.26], \"yaxis\": \"y\", \"type\": \"scatter\"}, {\"hovertemplate\": \"Geography=Saskatchewan<br>Time=2013Q2<br>AverageMortgageAmount=%{x}<br>DelinquencyRate=%{y}<br>PopulationSize=%{marker.size}<extra></extra>\", \"ids\": [\"Saskatchewan\"], \"legendgroup\": \"Saskatchewan\", \"marker\": {\"color\": \"#B6E880\", \"size\": [1094390], \"sizemode\": \"area\", \"sizeref\": 36835.035, \"symbol\": \"circle\"}, \"mode\": \"markers\", \"name\": \"Saskatchewan\", \"orientation\": \"v\", \"showlegend\": true, \"x\": [211979], \"xaxis\": \"x\", \"y\": [0.34], \"yaxis\": \"y\", \"type\": \"scatter\"}, {\"hovertemplate\": \"Geography=Alberta<br>Time=2013Q2<br>AverageMortgageAmount=%{x}<br>DelinquencyRate=%{y}<br>PopulationSize=%{marker.size}<extra></extra>\", \"ids\": [\"Alberta\"], \"legendgroup\": \"Alberta\", \"marker\": {\"color\": \"#FF97FF\", \"size\": [3946798], \"sizemode\": \"area\", \"sizeref\": 36835.035, \"symbol\": \"circle\"}, \"mode\": \"markers\", \"name\": \"Alberta\", \"orientation\": \"v\", \"showlegend\": true, \"x\": [278516], \"xaxis\": \"x\", \"y\": [0.47], \"yaxis\": \"y\", \"type\": \"scatter\"}, {\"hovertemplate\": \"Geography=British Columbia<br>Time=2013Q2<br>AverageMortgageAmount=%{x}<br>DelinquencyRate=%{y}<br>PopulationSize=%{marker.size}<extra></extra>\", \"ids\": [\"British Columbia\"], \"legendgroup\": \"British Columbia\", \"marker\": {\"color\": \"#FECB52\", \"size\": [4611648], \"sizemode\": \"area\", \"sizeref\": 36835.035, \"symbol\": \"circle\"}, \"mode\": \"markers\", \"name\": \"British Columbia\", \"orientation\": \"v\", \"showlegend\": true, \"x\": [290928], \"xaxis\": \"x\", \"y\": [0.43], \"yaxis\": \"y\", \"type\": \"scatter\"}], \"name\": \"2013Q2\"}, {\"data\": [{\"hovertemplate\": \"Geography=Newfoundland<br>Time=2013Q3<br>AverageMortgageAmount=%{x}<br>DelinquencyRate=%{y}<br>PopulationSize=%{marker.size}<extra></extra>\", \"ids\": [\"Newfoundland\"], \"legendgroup\": \"Newfoundland\", \"marker\": {\"color\": \"#636efa\", \"size\": [527114], \"sizemode\": \"area\", \"sizeref\": 36835.035, \"symbol\": \"circle\"}, \"mode\": \"markers\", \"name\": \"Newfoundland\", \"orientation\": \"v\", \"showlegend\": true, \"x\": [191818], \"xaxis\": \"x\", \"y\": [0.2], \"yaxis\": \"y\", \"type\": \"scatter\"}, {\"hovertemplate\": \"Geography=Prince Edward Island<br>Time=2013Q3<br>AverageMortgageAmount=%{x}<br>DelinquencyRate=%{y}<br>PopulationSize=%{marker.size}<extra></extra>\", \"ids\": [\"Prince Edward Island\"], \"legendgroup\": \"Prince Edward Island\", \"marker\": {\"color\": \"#EF553B\", \"size\": [144094], \"sizemode\": \"area\", \"sizeref\": 36835.035, \"symbol\": \"circle\"}, \"mode\": \"markers\", \"name\": \"Prince Edward Island\", \"orientation\": \"v\", \"showlegend\": true, \"x\": [139506], \"xaxis\": \"x\", \"y\": [0.56], \"yaxis\": \"y\", \"type\": \"scatter\"}, {\"hovertemplate\": \"Geography=Nova Scotia<br>Time=2013Q3<br>AverageMortgageAmount=%{x}<br>DelinquencyRate=%{y}<br>PopulationSize=%{marker.size}<extra></extra>\", \"ids\": [\"Nova Scotia\"], \"legendgroup\": \"Nova Scotia\", \"marker\": {\"color\": \"#00cc96\", \"size\": [940434], \"sizemode\": \"area\", \"sizeref\": 36835.035, \"symbol\": \"circle\"}, \"mode\": \"markers\", \"name\": \"Nova Scotia\", \"orientation\": \"v\", \"showlegend\": true, \"x\": [166426], \"xaxis\": \"x\", \"y\": [0.58], \"yaxis\": \"y\", \"type\": \"scatter\"}, {\"hovertemplate\": \"Geography=New Brunswick<br>Time=2013Q3<br>AverageMortgageAmount=%{x}<br>DelinquencyRate=%{y}<br>PopulationSize=%{marker.size}<extra></extra>\", \"ids\": [\"New Brunswick\"], \"legendgroup\": \"New Brunswick\", \"marker\": {\"color\": \"#ab63fa\", \"size\": [758544], \"sizemode\": \"area\", \"sizeref\": 36835.035, \"symbol\": \"circle\"}, \"mode\": \"markers\", \"name\": \"New Brunswick\", \"orientation\": \"v\", \"showlegend\": true, \"x\": [131542], \"xaxis\": \"x\", \"y\": [0.61], \"yaxis\": \"y\", \"type\": \"scatter\"}, {\"hovertemplate\": \"Geography=Qu\\u00e9bec<br>Time=2013Q3<br>AverageMortgageAmount=%{x}<br>DelinquencyRate=%{y}<br>PopulationSize=%{marker.size}<extra></extra>\", \"ids\": [\"Qu\\u00e9bec\"], \"legendgroup\": \"Qu\\u00e9bec\", \"marker\": {\"color\": \"#FFA15A\", \"size\": [8110880], \"sizemode\": \"area\", \"sizeref\": 36835.035, \"symbol\": \"circle\"}, \"mode\": \"markers\", \"name\": \"Qu\\u00e9bec\", \"orientation\": \"v\", \"showlegend\": true, \"x\": [160147], \"xaxis\": \"x\", \"y\": [0.33], \"yaxis\": \"y\", \"type\": \"scatter\"}, {\"hovertemplate\": \"Geography=Ontario<br>Time=2013Q3<br>AverageMortgageAmount=%{x}<br>DelinquencyRate=%{y}<br>PopulationSize=%{marker.size}<extra></extra>\", \"ids\": [\"Ontario\"], \"legendgroup\": \"Ontario\", \"marker\": {\"color\": \"#19d3f3\", \"size\": [13510781], \"sizemode\": \"area\", \"sizeref\": 36835.035, \"symbol\": \"circle\"}, \"mode\": \"markers\", \"name\": \"Ontario\", \"orientation\": \"v\", \"showlegend\": true, \"x\": [249054], \"xaxis\": \"x\", \"y\": [0.28], \"yaxis\": \"y\", \"type\": \"scatter\"}, {\"hovertemplate\": \"Geography=Manitoba<br>Time=2013Q3<br>AverageMortgageAmount=%{x}<br>DelinquencyRate=%{y}<br>PopulationSize=%{marker.size}<extra></extra>\", \"ids\": [\"Manitoba\"], \"legendgroup\": \"Manitoba\", \"marker\": {\"color\": \"#FF6692\", \"size\": [1264620], \"sizemode\": \"area\", \"sizeref\": 36835.035, \"symbol\": \"circle\"}, \"mode\": \"markers\", \"name\": \"Manitoba\", \"orientation\": \"v\", \"showlegend\": true, \"x\": [192732], \"xaxis\": \"x\", \"y\": [0.28], \"yaxis\": \"y\", \"type\": \"scatter\"}, {\"hovertemplate\": \"Geography=Saskatchewan<br>Time=2013Q3<br>AverageMortgageAmount=%{x}<br>DelinquencyRate=%{y}<br>PopulationSize=%{marker.size}<extra></extra>\", \"ids\": [\"Saskatchewan\"], \"legendgroup\": \"Saskatchewan\", \"marker\": {\"color\": \"#B6E880\", \"size\": [1099736], \"sizemode\": \"area\", \"sizeref\": 36835.035, \"symbol\": \"circle\"}, \"mode\": \"markers\", \"name\": \"Saskatchewan\", \"orientation\": \"v\", \"showlegend\": true, \"x\": [224868], \"xaxis\": \"x\", \"y\": [0.3], \"yaxis\": \"y\", \"type\": \"scatter\"}, {\"hovertemplate\": \"Geography=Alberta<br>Time=2013Q3<br>AverageMortgageAmount=%{x}<br>DelinquencyRate=%{y}<br>PopulationSize=%{marker.size}<extra></extra>\", \"ids\": [\"Alberta\"], \"legendgroup\": \"Alberta\", \"marker\": {\"color\": \"#FF97FF\", \"size\": [3981011], \"sizemode\": \"area\", \"sizeref\": 36835.035, \"symbol\": \"circle\"}, \"mode\": \"markers\", \"name\": \"Alberta\", \"orientation\": \"v\", \"showlegend\": true, \"x\": [289263], \"xaxis\": \"x\", \"y\": [0.45], \"yaxis\": \"y\", \"type\": \"scatter\"}, {\"hovertemplate\": \"Geography=British Columbia<br>Time=2013Q3<br>AverageMortgageAmount=%{x}<br>DelinquencyRate=%{y}<br>PopulationSize=%{marker.size}<extra></extra>\", \"ids\": [\"British Columbia\"], \"legendgroup\": \"British Columbia\", \"marker\": {\"color\": \"#FECB52\", \"size\": [4630077], \"sizemode\": \"area\", \"sizeref\": 36835.035, \"symbol\": \"circle\"}, \"mode\": \"markers\", \"name\": \"British Columbia\", \"orientation\": \"v\", \"showlegend\": true, \"x\": [303663], \"xaxis\": \"x\", \"y\": [0.42], \"yaxis\": \"y\", \"type\": \"scatter\"}], \"name\": \"2013Q3\"}, {\"data\": [{\"hovertemplate\": \"Geography=Newfoundland<br>Time=2013Q4<br>AverageMortgageAmount=%{x}<br>DelinquencyRate=%{y}<br>PopulationSize=%{marker.size}<extra></extra>\", \"ids\": [\"Newfoundland\"], \"legendgroup\": \"Newfoundland\", \"marker\": {\"color\": \"#636efa\", \"size\": [528117], \"sizemode\": \"area\", \"sizeref\": 36835.035, \"symbol\": \"circle\"}, \"mode\": \"markers\", \"name\": \"Newfoundland\", \"orientation\": \"v\", \"showlegend\": true, \"x\": [193100], \"xaxis\": \"x\", \"y\": [0.22], \"yaxis\": \"y\", \"type\": \"scatter\"}, {\"hovertemplate\": \"Geography=Prince Edward Island<br>Time=2013Q4<br>AverageMortgageAmount=%{x}<br>DelinquencyRate=%{y}<br>PopulationSize=%{marker.size}<extra></extra>\", \"ids\": [\"Prince Edward Island\"], \"legendgroup\": \"Prince Edward Island\", \"marker\": {\"color\": \"#EF553B\", \"size\": [144103], \"sizemode\": \"area\", \"sizeref\": 36835.035, \"symbol\": \"circle\"}, \"mode\": \"markers\", \"name\": \"Prince Edward Island\", \"orientation\": \"v\", \"showlegend\": true, \"x\": [141453], \"xaxis\": \"x\", \"y\": [0.58], \"yaxis\": \"y\", \"type\": \"scatter\"}, {\"hovertemplate\": \"Geography=Nova Scotia<br>Time=2013Q4<br>AverageMortgageAmount=%{x}<br>DelinquencyRate=%{y}<br>PopulationSize=%{marker.size}<extra></extra>\", \"ids\": [\"Nova Scotia\"], \"legendgroup\": \"Nova Scotia\", \"marker\": {\"color\": \"#00cc96\", \"size\": [940105], \"sizemode\": \"area\", \"sizeref\": 36835.035, \"symbol\": \"circle\"}, \"mode\": \"markers\", \"name\": \"Nova Scotia\", \"orientation\": \"v\", \"showlegend\": true, \"x\": [160189], \"xaxis\": \"x\", \"y\": [0.62], \"yaxis\": \"y\", \"type\": \"scatter\"}, {\"hovertemplate\": \"Geography=New Brunswick<br>Time=2013Q4<br>AverageMortgageAmount=%{x}<br>DelinquencyRate=%{y}<br>PopulationSize=%{marker.size}<extra></extra>\", \"ids\": [\"New Brunswick\"], \"legendgroup\": \"New Brunswick\", \"marker\": {\"color\": \"#ab63fa\", \"size\": [758670], \"sizemode\": \"area\", \"sizeref\": 36835.035, \"symbol\": \"circle\"}, \"mode\": \"markers\", \"name\": \"New Brunswick\", \"orientation\": \"v\", \"showlegend\": true, \"x\": [128155], \"xaxis\": \"x\", \"y\": [0.68], \"yaxis\": \"y\", \"type\": \"scatter\"}, {\"hovertemplate\": \"Geography=Qu\\u00e9bec<br>Time=2013Q4<br>AverageMortgageAmount=%{x}<br>DelinquencyRate=%{y}<br>PopulationSize=%{marker.size}<extra></extra>\", \"ids\": [\"Qu\\u00e9bec\"], \"legendgroup\": \"Qu\\u00e9bec\", \"marker\": {\"color\": \"#FFA15A\", \"size\": [8124660], \"sizemode\": \"area\", \"sizeref\": 36835.035, \"symbol\": \"circle\"}, \"mode\": \"markers\", \"name\": \"Qu\\u00e9bec\", \"orientation\": \"v\", \"showlegend\": true, \"x\": [155512], \"xaxis\": \"x\", \"y\": [0.35], \"yaxis\": \"y\", \"type\": \"scatter\"}, {\"hovertemplate\": \"Geography=Ontario<br>Time=2013Q4<br>AverageMortgageAmount=%{x}<br>DelinquencyRate=%{y}<br>PopulationSize=%{marker.size}<extra></extra>\", \"ids\": [\"Ontario\"], \"legendgroup\": \"Ontario\", \"marker\": {\"color\": \"#19d3f3\", \"size\": [13558528], \"sizemode\": \"area\", \"sizeref\": 36835.035, \"symbol\": \"circle\"}, \"mode\": \"markers\", \"name\": \"Ontario\", \"orientation\": \"v\", \"showlegend\": true, \"x\": [244060], \"xaxis\": \"x\", \"y\": [0.28], \"yaxis\": \"y\", \"type\": \"scatter\"}, {\"hovertemplate\": \"Geography=Manitoba<br>Time=2013Q4<br>AverageMortgageAmount=%{x}<br>DelinquencyRate=%{y}<br>PopulationSize=%{marker.size}<extra></extra>\", \"ids\": [\"Manitoba\"], \"legendgroup\": \"Manitoba\", \"marker\": {\"color\": \"#FF6692\", \"size\": [1268428], \"sizemode\": \"area\", \"sizeref\": 36835.035, \"symbol\": \"circle\"}, \"mode\": \"markers\", \"name\": \"Manitoba\", \"orientation\": \"v\", \"showlegend\": true, \"x\": [189570], \"xaxis\": \"x\", \"y\": [0.28], \"yaxis\": \"y\", \"type\": \"scatter\"}, {\"hovertemplate\": \"Geography=Saskatchewan<br>Time=2013Q4<br>AverageMortgageAmount=%{x}<br>DelinquencyRate=%{y}<br>PopulationSize=%{marker.size}<extra></extra>\", \"ids\": [\"Saskatchewan\"], \"legendgroup\": \"Saskatchewan\", \"marker\": {\"color\": \"#B6E880\", \"size\": [1103730], \"sizemode\": \"area\", \"sizeref\": 36835.035, \"symbol\": \"circle\"}, \"mode\": \"markers\", \"name\": \"Saskatchewan\", \"orientation\": \"v\", \"showlegend\": true, \"x\": [225414], \"xaxis\": \"x\", \"y\": [0.32], \"yaxis\": \"y\", \"type\": \"scatter\"}, {\"hovertemplate\": \"Geography=Alberta<br>Time=2013Q4<br>AverageMortgageAmount=%{x}<br>DelinquencyRate=%{y}<br>PopulationSize=%{marker.size}<extra></extra>\", \"ids\": [\"Alberta\"], \"legendgroup\": \"Alberta\", \"marker\": {\"color\": \"#FF97FF\", \"size\": [4010903], \"sizemode\": \"area\", \"sizeref\": 36835.035, \"symbol\": \"circle\"}, \"mode\": \"markers\", \"name\": \"Alberta\", \"orientation\": \"v\", \"showlegend\": true, \"x\": [284928], \"xaxis\": \"x\", \"y\": [0.43], \"yaxis\": \"y\", \"type\": \"scatter\"}, {\"hovertemplate\": \"Geography=British Columbia<br>Time=2013Q4<br>AverageMortgageAmount=%{x}<br>DelinquencyRate=%{y}<br>PopulationSize=%{marker.size}<extra></extra>\", \"ids\": [\"British Columbia\"], \"legendgroup\": \"British Columbia\", \"marker\": {\"color\": \"#FECB52\", \"size\": [4658875], \"sizemode\": \"area\", \"sizeref\": 36835.035, \"symbol\": \"circle\"}, \"mode\": \"markers\", \"name\": \"British Columbia\", \"orientation\": \"v\", \"showlegend\": true, \"x\": [305256], \"xaxis\": \"x\", \"y\": [0.43], \"yaxis\": \"y\", \"type\": \"scatter\"}], \"name\": \"2013Q4\"}, {\"data\": [{\"hovertemplate\": \"Geography=Newfoundland<br>Time=2014Q1<br>AverageMortgageAmount=%{x}<br>DelinquencyRate=%{y}<br>PopulationSize=%{marker.size}<extra></extra>\", \"ids\": [\"Newfoundland\"], \"legendgroup\": \"Newfoundland\", \"marker\": {\"color\": \"#636efa\", \"size\": [528242], \"sizemode\": \"area\", \"sizeref\": 36835.035, \"symbol\": \"circle\"}, \"mode\": \"markers\", \"name\": \"Newfoundland\", \"orientation\": \"v\", \"showlegend\": true, \"x\": [195479], \"xaxis\": \"x\", \"y\": [0.23], \"yaxis\": \"y\", \"type\": \"scatter\"}, {\"hovertemplate\": \"Geography=Prince Edward Island<br>Time=2014Q1<br>AverageMortgageAmount=%{x}<br>DelinquencyRate=%{y}<br>PopulationSize=%{marker.size}<extra></extra>\", \"ids\": [\"Prince Edward Island\"], \"legendgroup\": \"Prince Edward Island\", \"marker\": {\"color\": \"#EF553B\", \"size\": [143996], \"sizemode\": \"area\", \"sizeref\": 36835.035, \"symbol\": \"circle\"}, \"mode\": \"markers\", \"name\": \"Prince Edward Island\", \"orientation\": \"v\", \"showlegend\": true, \"x\": [141141], \"xaxis\": \"x\", \"y\": [0.6], \"yaxis\": \"y\", \"type\": \"scatter\"}, {\"hovertemplate\": \"Geography=Nova Scotia<br>Time=2014Q1<br>AverageMortgageAmount=%{x}<br>DelinquencyRate=%{y}<br>PopulationSize=%{marker.size}<extra></extra>\", \"ids\": [\"Nova Scotia\"], \"legendgroup\": \"Nova Scotia\", \"marker\": {\"color\": \"#00cc96\", \"size\": [939867], \"sizemode\": \"area\", \"sizeref\": 36835.035, \"symbol\": \"circle\"}, \"mode\": \"markers\", \"name\": \"Nova Scotia\", \"orientation\": \"v\", \"showlegend\": true, \"x\": [161383], \"xaxis\": \"x\", \"y\": [0.65], \"yaxis\": \"y\", \"type\": \"scatter\"}, {\"hovertemplate\": \"Geography=New Brunswick<br>Time=2014Q1<br>AverageMortgageAmount=%{x}<br>DelinquencyRate=%{y}<br>PopulationSize=%{marker.size}<extra></extra>\", \"ids\": [\"New Brunswick\"], \"legendgroup\": \"New Brunswick\", \"marker\": {\"color\": \"#ab63fa\", \"size\": [759018], \"sizemode\": \"area\", \"sizeref\": 36835.035, \"symbol\": \"circle\"}, \"mode\": \"markers\", \"name\": \"New Brunswick\", \"orientation\": \"v\", \"showlegend\": true, \"x\": [127766], \"xaxis\": \"x\", \"y\": [0.72], \"yaxis\": \"y\", \"type\": \"scatter\"}, {\"hovertemplate\": \"Geography=Qu\\u00e9bec<br>Time=2014Q1<br>AverageMortgageAmount=%{x}<br>DelinquencyRate=%{y}<br>PopulationSize=%{marker.size}<extra></extra>\", \"ids\": [\"Qu\\u00e9bec\"], \"legendgroup\": \"Qu\\u00e9bec\", \"marker\": {\"color\": \"#FFA15A\", \"size\": [8125478], \"sizemode\": \"area\", \"sizeref\": 36835.035, \"symbol\": \"circle\"}, \"mode\": \"markers\", \"name\": \"Qu\\u00e9bec\", \"orientation\": \"v\", \"showlegend\": true, \"x\": [156424], \"xaxis\": \"x\", \"y\": [0.37], \"yaxis\": \"y\", \"type\": \"scatter\"}, {\"hovertemplate\": \"Geography=Ontario<br>Time=2014Q1<br>AverageMortgageAmount=%{x}<br>DelinquencyRate=%{y}<br>PopulationSize=%{marker.size}<extra></extra>\", \"ids\": [\"Ontario\"], \"legendgroup\": \"Ontario\", \"marker\": {\"color\": \"#19d3f3\", \"size\": [13562583], \"sizemode\": \"area\", \"sizeref\": 36835.035, \"symbol\": \"circle\"}, \"mode\": \"markers\", \"name\": \"Ontario\", \"orientation\": \"v\", \"showlegend\": true, \"x\": [244077], \"xaxis\": \"x\", \"y\": [0.29], \"yaxis\": \"y\", \"type\": \"scatter\"}, {\"hovertemplate\": \"Geography=Manitoba<br>Time=2014Q1<br>AverageMortgageAmount=%{x}<br>DelinquencyRate=%{y}<br>PopulationSize=%{marker.size}<extra></extra>\", \"ids\": [\"Manitoba\"], \"legendgroup\": \"Manitoba\", \"marker\": {\"color\": \"#FF6692\", \"size\": [1271562], \"sizemode\": \"area\", \"sizeref\": 36835.035, \"symbol\": \"circle\"}, \"mode\": \"markers\", \"name\": \"Manitoba\", \"orientation\": \"v\", \"showlegend\": true, \"x\": [188107], \"xaxis\": \"x\", \"y\": [0.28], \"yaxis\": \"y\", \"type\": \"scatter\"}, {\"hovertemplate\": \"Geography=Saskatchewan<br>Time=2014Q1<br>AverageMortgageAmount=%{x}<br>DelinquencyRate=%{y}<br>PopulationSize=%{marker.size}<extra></extra>\", \"ids\": [\"Saskatchewan\"], \"legendgroup\": \"Saskatchewan\", \"marker\": {\"color\": \"#B6E880\", \"size\": [1106374], \"sizemode\": \"area\", \"sizeref\": 36835.035, \"symbol\": \"circle\"}, \"mode\": \"markers\", \"name\": \"Saskatchewan\", \"orientation\": \"v\", \"showlegend\": true, \"x\": [226559], \"xaxis\": \"x\", \"y\": [0.35], \"yaxis\": \"y\", \"type\": \"scatter\"}, {\"hovertemplate\": \"Geography=Alberta<br>Time=2014Q1<br>AverageMortgageAmount=%{x}<br>DelinquencyRate=%{y}<br>PopulationSize=%{marker.size}<extra></extra>\", \"ids\": [\"Alberta\"], \"legendgroup\": \"Alberta\", \"marker\": {\"color\": \"#FF97FF\", \"size\": [4029951], \"sizemode\": \"area\", \"sizeref\": 36835.035, \"symbol\": \"circle\"}, \"mode\": \"markers\", \"name\": \"Alberta\", \"orientation\": \"v\", \"showlegend\": true, \"x\": [291926], \"xaxis\": \"x\", \"y\": [0.42], \"yaxis\": \"y\", \"type\": \"scatter\"}, {\"hovertemplate\": \"Geography=British Columbia<br>Time=2014Q1<br>AverageMortgageAmount=%{x}<br>DelinquencyRate=%{y}<br>PopulationSize=%{marker.size}<extra></extra>\", \"ids\": [\"British Columbia\"], \"legendgroup\": \"British Columbia\", \"marker\": {\"color\": \"#FECB52\", \"size\": [4666788], \"sizemode\": \"area\", \"sizeref\": 36835.035, \"symbol\": \"circle\"}, \"mode\": \"markers\", \"name\": \"British Columbia\", \"orientation\": \"v\", \"showlegend\": true, \"x\": [309374], \"xaxis\": \"x\", \"y\": [0.43], \"yaxis\": \"y\", \"type\": \"scatter\"}], \"name\": \"2014Q1\"}, {\"data\": [{\"hovertemplate\": \"Geography=Newfoundland<br>Time=2014Q2<br>AverageMortgageAmount=%{x}<br>DelinquencyRate=%{y}<br>PopulationSize=%{marker.size}<extra></extra>\", \"ids\": [\"Newfoundland\"], \"legendgroup\": \"Newfoundland\", \"marker\": {\"color\": \"#636efa\", \"size\": [527498], \"sizemode\": \"area\", \"sizeref\": 36835.035, \"symbol\": \"circle\"}, \"mode\": \"markers\", \"name\": \"Newfoundland\", \"orientation\": \"v\", \"showlegend\": true, \"x\": [192856], \"xaxis\": \"x\", \"y\": [0.25], \"yaxis\": \"y\", \"type\": \"scatter\"}, {\"hovertemplate\": \"Geography=Prince Edward Island<br>Time=2014Q2<br>AverageMortgageAmount=%{x}<br>DelinquencyRate=%{y}<br>PopulationSize=%{marker.size}<extra></extra>\", \"ids\": [\"Prince Edward Island\"], \"legendgroup\": \"Prince Edward Island\", \"marker\": {\"color\": \"#EF553B\", \"size\": [143984], \"sizemode\": \"area\", \"sizeref\": 36835.035, \"symbol\": \"circle\"}, \"mode\": \"markers\", \"name\": \"Prince Edward Island\", \"orientation\": \"v\", \"showlegend\": true, \"x\": [137427], \"xaxis\": \"x\", \"y\": [0.6], \"yaxis\": \"y\", \"type\": \"scatter\"}, {\"hovertemplate\": \"Geography=Nova Scotia<br>Time=2014Q2<br>AverageMortgageAmount=%{x}<br>DelinquencyRate=%{y}<br>PopulationSize=%{marker.size}<extra></extra>\", \"ids\": [\"Nova Scotia\"], \"legendgroup\": \"Nova Scotia\", \"marker\": {\"color\": \"#00cc96\", \"size\": [938913], \"sizemode\": \"area\", \"sizeref\": 36835.035, \"symbol\": \"circle\"}, \"mode\": \"markers\", \"name\": \"Nova Scotia\", \"orientation\": \"v\", \"showlegend\": true, \"x\": [157664], \"xaxis\": \"x\", \"y\": [0.65], \"yaxis\": \"y\", \"type\": \"scatter\"}, {\"hovertemplate\": \"Geography=New Brunswick<br>Time=2014Q2<br>AverageMortgageAmount=%{x}<br>DelinquencyRate=%{y}<br>PopulationSize=%{marker.size}<extra></extra>\", \"ids\": [\"New Brunswick\"], \"legendgroup\": \"New Brunswick\", \"marker\": {\"color\": \"#ab63fa\", \"size\": [758876], \"sizemode\": \"area\", \"sizeref\": 36835.035, \"symbol\": \"circle\"}, \"mode\": \"markers\", \"name\": \"New Brunswick\", \"orientation\": \"v\", \"showlegend\": true, \"x\": [124221], \"xaxis\": \"x\", \"y\": [0.67], \"yaxis\": \"y\", \"type\": \"scatter\"}, {\"hovertemplate\": \"Geography=Qu\\u00e9bec<br>Time=2014Q2<br>AverageMortgageAmount=%{x}<br>DelinquencyRate=%{y}<br>PopulationSize=%{marker.size}<extra></extra>\", \"ids\": [\"Qu\\u00e9bec\"], \"legendgroup\": \"Qu\\u00e9bec\", \"marker\": {\"color\": \"#FFA15A\", \"size\": [8132425], \"sizemode\": \"area\", \"sizeref\": 36835.035, \"symbol\": \"circle\"}, \"mode\": \"markers\", \"name\": \"Qu\\u00e9bec\", \"orientation\": \"v\", \"showlegend\": true, \"x\": [160165], \"xaxis\": \"x\", \"y\": [0.36], \"yaxis\": \"y\", \"type\": \"scatter\"}, {\"hovertemplate\": \"Geography=Ontario<br>Time=2014Q2<br>AverageMortgageAmount=%{x}<br>DelinquencyRate=%{y}<br>PopulationSize=%{marker.size}<extra></extra>\", \"ids\": [\"Ontario\"], \"legendgroup\": \"Ontario\", \"marker\": {\"color\": \"#19d3f3\", \"size\": [13582747], \"sizemode\": \"area\", \"sizeref\": 36835.035, \"symbol\": \"circle\"}, \"mode\": \"markers\", \"name\": \"Ontario\", \"orientation\": \"v\", \"showlegend\": true, \"x\": [240828], \"xaxis\": \"x\", \"y\": [0.27], \"yaxis\": \"y\", \"type\": \"scatter\"}, {\"hovertemplate\": \"Geography=Manitoba<br>Time=2014Q2<br>AverageMortgageAmount=%{x}<br>DelinquencyRate=%{y}<br>PopulationSize=%{marker.size}<extra></extra>\", \"ids\": [\"Manitoba\"], \"legendgroup\": \"Manitoba\", \"marker\": {\"color\": \"#FF6692\", \"size\": [1274407], \"sizemode\": \"area\", \"sizeref\": 36835.035, \"symbol\": \"circle\"}, \"mode\": \"markers\", \"name\": \"Manitoba\", \"orientation\": \"v\", \"showlegend\": true, \"x\": [184554], \"xaxis\": \"x\", \"y\": [0.25], \"yaxis\": \"y\", \"type\": \"scatter\"}, {\"hovertemplate\": \"Geography=Saskatchewan<br>Time=2014Q2<br>AverageMortgageAmount=%{x}<br>DelinquencyRate=%{y}<br>PopulationSize=%{marker.size}<extra></extra>\", \"ids\": [\"Saskatchewan\"], \"legendgroup\": \"Saskatchewan\", \"marker\": {\"color\": \"#B6E880\", \"size\": [1109631], \"sizemode\": \"area\", \"sizeref\": 36835.035, \"symbol\": \"circle\"}, \"mode\": \"markers\", \"name\": \"Saskatchewan\", \"orientation\": \"v\", \"showlegend\": true, \"x\": [218781], \"xaxis\": \"x\", \"y\": [0.31], \"yaxis\": \"y\", \"type\": \"scatter\"}, {\"hovertemplate\": \"Geography=Alberta<br>Time=2014Q2<br>AverageMortgageAmount=%{x}<br>DelinquencyRate=%{y}<br>PopulationSize=%{marker.size}<extra></extra>\", \"ids\": [\"Alberta\"], \"legendgroup\": \"Alberta\", \"marker\": {\"color\": \"#FF97FF\", \"size\": [4054280], \"sizemode\": \"area\", \"sizeref\": 36835.035, \"symbol\": \"circle\"}, \"mode\": \"markers\", \"name\": \"Alberta\", \"orientation\": \"v\", \"showlegend\": true, \"x\": [290722], \"xaxis\": \"x\", \"y\": [0.37], \"yaxis\": \"y\", \"type\": \"scatter\"}, {\"hovertemplate\": \"Geography=British Columbia<br>Time=2014Q2<br>AverageMortgageAmount=%{x}<br>DelinquencyRate=%{y}<br>PopulationSize=%{marker.size}<extra></extra>\", \"ids\": [\"British Columbia\"], \"legendgroup\": \"British Columbia\", \"marker\": {\"color\": \"#FECB52\", \"size\": [4684490], \"sizemode\": \"area\", \"sizeref\": 36835.035, \"symbol\": \"circle\"}, \"mode\": \"markers\", \"name\": \"British Columbia\", \"orientation\": \"v\", \"showlegend\": true, \"x\": [305138], \"xaxis\": \"x\", \"y\": [0.4], \"yaxis\": \"y\", \"type\": \"scatter\"}], \"name\": \"2014Q2\"}, {\"data\": [{\"hovertemplate\": \"Geography=Newfoundland<br>Time=2014Q3<br>AverageMortgageAmount=%{x}<br>DelinquencyRate=%{y}<br>PopulationSize=%{marker.size}<extra></extra>\", \"ids\": [\"Newfoundland\"], \"legendgroup\": \"Newfoundland\", \"marker\": {\"color\": \"#636efa\", \"size\": [528159], \"sizemode\": \"area\", \"sizeref\": 36835.035, \"symbol\": \"circle\"}, \"mode\": \"markers\", \"name\": \"Newfoundland\", \"orientation\": \"v\", \"showlegend\": true, \"x\": [199560], \"xaxis\": \"x\", \"y\": [0.26], \"yaxis\": \"y\", \"type\": \"scatter\"}, {\"hovertemplate\": \"Geography=Prince Edward Island<br>Time=2014Q3<br>AverageMortgageAmount=%{x}<br>DelinquencyRate=%{y}<br>PopulationSize=%{marker.size}<extra></extra>\", \"ids\": [\"Prince Edward Island\"], \"legendgroup\": \"Prince Edward Island\", \"marker\": {\"color\": \"#EF553B\", \"size\": [144283], \"sizemode\": \"area\", \"sizeref\": 36835.035, \"symbol\": \"circle\"}, \"mode\": \"markers\", \"name\": \"Prince Edward Island\", \"orientation\": \"v\", \"showlegend\": true, \"x\": [143320], \"xaxis\": \"x\", \"y\": [0.56], \"yaxis\": \"y\", \"type\": \"scatter\"}, {\"hovertemplate\": \"Geography=Nova Scotia<br>Time=2014Q3<br>AverageMortgageAmount=%{x}<br>DelinquencyRate=%{y}<br>PopulationSize=%{marker.size}<extra></extra>\", \"ids\": [\"Nova Scotia\"], \"legendgroup\": \"Nova Scotia\", \"marker\": {\"color\": \"#00cc96\", \"size\": [938545], \"sizemode\": \"area\", \"sizeref\": 36835.035, \"symbol\": \"circle\"}, \"mode\": \"markers\", \"name\": \"Nova Scotia\", \"orientation\": \"v\", \"showlegend\": true, \"x\": [172827], \"xaxis\": \"x\", \"y\": [0.67], \"yaxis\": \"y\", \"type\": \"scatter\"}, {\"hovertemplate\": \"Geography=New Brunswick<br>Time=2014Q3<br>AverageMortgageAmount=%{x}<br>DelinquencyRate=%{y}<br>PopulationSize=%{marker.size}<extra></extra>\", \"ids\": [\"New Brunswick\"], \"legendgroup\": \"New Brunswick\", \"marker\": {\"color\": \"#ab63fa\", \"size\": [758976], \"sizemode\": \"area\", \"sizeref\": 36835.035, \"symbol\": \"circle\"}, \"mode\": \"markers\", \"name\": \"New Brunswick\", \"orientation\": \"v\", \"showlegend\": true, \"x\": [135592], \"xaxis\": \"x\", \"y\": [0.72], \"yaxis\": \"y\", \"type\": \"scatter\"}, {\"hovertemplate\": \"Geography=Qu\\u00e9bec<br>Time=2014Q3<br>AverageMortgageAmount=%{x}<br>DelinquencyRate=%{y}<br>PopulationSize=%{marker.size}<extra></extra>\", \"ids\": [\"Qu\\u00e9bec\"], \"legendgroup\": \"Qu\\u00e9bec\", \"marker\": {\"color\": \"#FFA15A\", \"size\": [8150183], \"sizemode\": \"area\", \"sizeref\": 36835.035, \"symbol\": \"circle\"}, \"mode\": \"markers\", \"name\": \"Qu\\u00e9bec\", \"orientation\": \"v\", \"showlegend\": true, \"x\": [166426], \"xaxis\": \"x\", \"y\": [0.37], \"yaxis\": \"y\", \"type\": \"scatter\"}, {\"hovertemplate\": \"Geography=Ontario<br>Time=2014Q3<br>AverageMortgageAmount=%{x}<br>DelinquencyRate=%{y}<br>PopulationSize=%{marker.size}<extra></extra>\", \"ids\": [\"Ontario\"], \"legendgroup\": \"Ontario\", \"marker\": {\"color\": \"#19d3f3\", \"size\": [13617553], \"sizemode\": \"area\", \"sizeref\": 36835.035, \"symbol\": \"circle\"}, \"mode\": \"markers\", \"name\": \"Ontario\", \"orientation\": \"v\", \"showlegend\": true, \"x\": [262838], \"xaxis\": \"x\", \"y\": [0.27], \"yaxis\": \"y\", \"type\": \"scatter\"}, {\"hovertemplate\": \"Geography=Manitoba<br>Time=2014Q3<br>AverageMortgageAmount=%{x}<br>DelinquencyRate=%{y}<br>PopulationSize=%{marker.size}<extra></extra>\", \"ids\": [\"Manitoba\"], \"legendgroup\": \"Manitoba\", \"marker\": {\"color\": \"#FF6692\", \"size\": [1279014], \"sizemode\": \"area\", \"sizeref\": 36835.035, \"symbol\": \"circle\"}, \"mode\": \"markers\", \"name\": \"Manitoba\", \"orientation\": \"v\", \"showlegend\": true, \"x\": [200051], \"xaxis\": \"x\", \"y\": [0.24], \"yaxis\": \"y\", \"type\": \"scatter\"}, {\"hovertemplate\": \"Geography=Saskatchewan<br>Time=2014Q3<br>AverageMortgageAmount=%{x}<br>DelinquencyRate=%{y}<br>PopulationSize=%{marker.size}<extra></extra>\", \"ids\": [\"Saskatchewan\"], \"legendgroup\": \"Saskatchewan\", \"marker\": {\"color\": \"#B6E880\", \"size\": [1112979], \"sizemode\": \"area\", \"sizeref\": 36835.035, \"symbol\": \"circle\"}, \"mode\": \"markers\", \"name\": \"Saskatchewan\", \"orientation\": \"v\", \"showlegend\": true, \"x\": [231768], \"xaxis\": \"x\", \"y\": [0.32], \"yaxis\": \"y\", \"type\": \"scatter\"}, {\"hovertemplate\": \"Geography=Alberta<br>Time=2014Q3<br>AverageMortgageAmount=%{x}<br>DelinquencyRate=%{y}<br>PopulationSize=%{marker.size}<extra></extra>\", \"ids\": [\"Alberta\"], \"legendgroup\": \"Alberta\", \"marker\": {\"color\": \"#FF97FF\", \"size\": [4083648], \"sizemode\": \"area\", \"sizeref\": 36835.035, \"symbol\": \"circle\"}, \"mode\": \"markers\", \"name\": \"Alberta\", \"orientation\": \"v\", \"showlegend\": true, \"x\": [304374], \"xaxis\": \"x\", \"y\": [0.34], \"yaxis\": \"y\", \"type\": \"scatter\"}, {\"hovertemplate\": \"Geography=British Columbia<br>Time=2014Q3<br>AverageMortgageAmount=%{x}<br>DelinquencyRate=%{y}<br>PopulationSize=%{marker.size}<extra></extra>\", \"ids\": [\"British Columbia\"], \"legendgroup\": \"British Columbia\", \"marker\": {\"color\": \"#FECB52\", \"size\": [4707103], \"sizemode\": \"area\", \"sizeref\": 36835.035, \"symbol\": \"circle\"}, \"mode\": \"markers\", \"name\": \"British Columbia\", \"orientation\": \"v\", \"showlegend\": true, \"x\": [321625], \"xaxis\": \"x\", \"y\": [0.4], \"yaxis\": \"y\", \"type\": \"scatter\"}], \"name\": \"2014Q3\"}, {\"data\": [{\"hovertemplate\": \"Geography=Newfoundland<br>Time=2014Q4<br>AverageMortgageAmount=%{x}<br>DelinquencyRate=%{y}<br>PopulationSize=%{marker.size}<extra></extra>\", \"ids\": [\"Newfoundland\"], \"legendgroup\": \"Newfoundland\", \"marker\": {\"color\": \"#636efa\", \"size\": [528461], \"sizemode\": \"area\", \"sizeref\": 36835.035, \"symbol\": \"circle\"}, \"mode\": \"markers\", \"name\": \"Newfoundland\", \"orientation\": \"v\", \"showlegend\": true, \"x\": [200310], \"xaxis\": \"x\", \"y\": [0.28], \"yaxis\": \"y\", \"type\": \"scatter\"}, {\"hovertemplate\": \"Geography=Prince Edward Island<br>Time=2014Q4<br>AverageMortgageAmount=%{x}<br>DelinquencyRate=%{y}<br>PopulationSize=%{marker.size}<extra></extra>\", \"ids\": [\"Prince Edward Island\"], \"legendgroup\": \"Prince Edward Island\", \"marker\": {\"color\": \"#EF553B\", \"size\": [144538], \"sizemode\": \"area\", \"sizeref\": 36835.035, \"symbol\": \"circle\"}, \"mode\": \"markers\", \"name\": \"Prince Edward Island\", \"orientation\": \"v\", \"showlegend\": true, \"x\": [141232], \"xaxis\": \"x\", \"y\": [0.57], \"yaxis\": \"y\", \"type\": \"scatter\"}, {\"hovertemplate\": \"Geography=Nova Scotia<br>Time=2014Q4<br>AverageMortgageAmount=%{x}<br>DelinquencyRate=%{y}<br>PopulationSize=%{marker.size}<extra></extra>\", \"ids\": [\"Nova Scotia\"], \"legendgroup\": \"Nova Scotia\", \"marker\": {\"color\": \"#00cc96\", \"size\": [938972], \"sizemode\": \"area\", \"sizeref\": 36835.035, \"symbol\": \"circle\"}, \"mode\": \"markers\", \"name\": \"Nova Scotia\", \"orientation\": \"v\", \"showlegend\": true, \"x\": [163584], \"xaxis\": \"x\", \"y\": [0.68], \"yaxis\": \"y\", \"type\": \"scatter\"}, {\"hovertemplate\": \"Geography=New Brunswick<br>Time=2014Q4<br>AverageMortgageAmount=%{x}<br>DelinquencyRate=%{y}<br>PopulationSize=%{marker.size}<extra></extra>\", \"ids\": [\"New Brunswick\"], \"legendgroup\": \"New Brunswick\", \"marker\": {\"color\": \"#ab63fa\", \"size\": [759524], \"sizemode\": \"area\", \"sizeref\": 36835.035, \"symbol\": \"circle\"}, \"mode\": \"markers\", \"name\": \"New Brunswick\", \"orientation\": \"v\", \"showlegend\": true, \"x\": [132766], \"xaxis\": \"x\", \"y\": [0.72], \"yaxis\": \"y\", \"type\": \"scatter\"}, {\"hovertemplate\": \"Geography=Qu\\u00e9bec<br>Time=2014Q4<br>AverageMortgageAmount=%{x}<br>DelinquencyRate=%{y}<br>PopulationSize=%{marker.size}<extra></extra>\", \"ids\": [\"Qu\\u00e9bec\"], \"legendgroup\": \"Qu\\u00e9bec\", \"marker\": {\"color\": \"#FFA15A\", \"size\": [8165447], \"sizemode\": \"area\", \"sizeref\": 36835.035, \"symbol\": \"circle\"}, \"mode\": \"markers\", \"name\": \"Qu\\u00e9bec\", \"orientation\": \"v\", \"showlegend\": true, \"x\": [160073], \"xaxis\": \"x\", \"y\": [0.39], \"yaxis\": \"y\", \"type\": \"scatter\"}, {\"hovertemplate\": \"Geography=Ontario<br>Time=2014Q4<br>AverageMortgageAmount=%{x}<br>DelinquencyRate=%{y}<br>PopulationSize=%{marker.size}<extra></extra>\", \"ids\": [\"Ontario\"], \"legendgroup\": \"Ontario\", \"marker\": {\"color\": \"#19d3f3\", \"size\": [13661314], \"sizemode\": \"area\", \"sizeref\": 36835.035, \"symbol\": \"circle\"}, \"mode\": \"markers\", \"name\": \"Ontario\", \"orientation\": \"v\", \"showlegend\": true, \"x\": [257244], \"xaxis\": \"x\", \"y\": [0.26], \"yaxis\": \"y\", \"type\": \"scatter\"}, {\"hovertemplate\": \"Geography=Manitoba<br>Time=2014Q4<br>AverageMortgageAmount=%{x}<br>DelinquencyRate=%{y}<br>PopulationSize=%{marker.size}<extra></extra>\", \"ids\": [\"Manitoba\"], \"legendgroup\": \"Manitoba\", \"marker\": {\"color\": \"#FF6692\", \"size\": [1283366], \"sizemode\": \"area\", \"sizeref\": 36835.035, \"symbol\": \"circle\"}, \"mode\": \"markers\", \"name\": \"Manitoba\", \"orientation\": \"v\", \"showlegend\": true, \"x\": [197527], \"xaxis\": \"x\", \"y\": [0.27], \"yaxis\": \"y\", \"type\": \"scatter\"}, {\"hovertemplate\": \"Geography=Saskatchewan<br>Time=2014Q4<br>AverageMortgageAmount=%{x}<br>DelinquencyRate=%{y}<br>PopulationSize=%{marker.size}<extra></extra>\", \"ids\": [\"Saskatchewan\"], \"legendgroup\": \"Saskatchewan\", \"marker\": {\"color\": \"#B6E880\", \"size\": [1116203], \"sizemode\": \"area\", \"sizeref\": 36835.035, \"symbol\": \"circle\"}, \"mode\": \"markers\", \"name\": \"Saskatchewan\", \"orientation\": \"v\", \"showlegend\": true, \"x\": [233854], \"xaxis\": \"x\", \"y\": [0.36], \"yaxis\": \"y\", \"type\": \"scatter\"}, {\"hovertemplate\": \"Geography=Alberta<br>Time=2014Q4<br>AverageMortgageAmount=%{x}<br>DelinquencyRate=%{y}<br>PopulationSize=%{marker.size}<extra></extra>\", \"ids\": [\"Alberta\"], \"legendgroup\": \"Alberta\", \"marker\": {\"color\": \"#FF97FF\", \"size\": [4106056], \"sizemode\": \"area\", \"sizeref\": 36835.035, \"symbol\": \"circle\"}, \"mode\": \"markers\", \"name\": \"Alberta\", \"orientation\": \"v\", \"showlegend\": true, \"x\": [305558], \"xaxis\": \"x\", \"y\": [0.32], \"yaxis\": \"y\", \"type\": \"scatter\"}, {\"hovertemplate\": \"Geography=British Columbia<br>Time=2014Q4<br>AverageMortgageAmount=%{x}<br>DelinquencyRate=%{y}<br>PopulationSize=%{marker.size}<extra></extra>\", \"ids\": [\"British Columbia\"], \"legendgroup\": \"British Columbia\", \"marker\": {\"color\": \"#FECB52\", \"size\": [4737725], \"sizemode\": \"area\", \"sizeref\": 36835.035, \"symbol\": \"circle\"}, \"mode\": \"markers\", \"name\": \"British Columbia\", \"orientation\": \"v\", \"showlegend\": true, \"x\": [323373], \"xaxis\": \"x\", \"y\": [0.4], \"yaxis\": \"y\", \"type\": \"scatter\"}], \"name\": \"2014Q4\"}, {\"data\": [{\"hovertemplate\": \"Geography=Newfoundland<br>Time=2015Q1<br>AverageMortgageAmount=%{x}<br>DelinquencyRate=%{y}<br>PopulationSize=%{marker.size}<extra></extra>\", \"ids\": [\"Newfoundland\"], \"legendgroup\": \"Newfoundland\", \"marker\": {\"color\": \"#636efa\", \"size\": [528361], \"sizemode\": \"area\", \"sizeref\": 36835.035, \"symbol\": \"circle\"}, \"mode\": \"markers\", \"name\": \"Newfoundland\", \"orientation\": \"v\", \"showlegend\": true, \"x\": [197406], \"xaxis\": \"x\", \"y\": [0.37], \"yaxis\": \"y\", \"type\": \"scatter\"}, {\"hovertemplate\": \"Geography=Prince Edward Island<br>Time=2015Q1<br>AverageMortgageAmount=%{x}<br>DelinquencyRate=%{y}<br>PopulationSize=%{marker.size}<extra></extra>\", \"ids\": [\"Prince Edward Island\"], \"legendgroup\": \"Prince Edward Island\", \"marker\": {\"color\": \"#EF553B\", \"size\": [144368], \"sizemode\": \"area\", \"sizeref\": 36835.035, \"symbol\": \"circle\"}, \"mode\": \"markers\", \"name\": \"Prince Edward Island\", \"orientation\": \"v\", \"showlegend\": true, \"x\": [146885], \"xaxis\": \"x\", \"y\": [0.68], \"yaxis\": \"y\", \"type\": \"scatter\"}, {\"hovertemplate\": \"Geography=Nova Scotia<br>Time=2015Q1<br>AverageMortgageAmount=%{x}<br>DelinquencyRate=%{y}<br>PopulationSize=%{marker.size}<extra></extra>\", \"ids\": [\"Nova Scotia\"], \"legendgroup\": \"Nova Scotia\", \"marker\": {\"color\": \"#00cc96\", \"size\": [938296], \"sizemode\": \"area\", \"sizeref\": 36835.035, \"symbol\": \"circle\"}, \"mode\": \"markers\", \"name\": \"Nova Scotia\", \"orientation\": \"v\", \"showlegend\": true, \"x\": [163607], \"xaxis\": \"x\", \"y\": [0.7], \"yaxis\": \"y\", \"type\": \"scatter\"}, {\"hovertemplate\": \"Geography=New Brunswick<br>Time=2015Q1<br>AverageMortgageAmount=%{x}<br>DelinquencyRate=%{y}<br>PopulationSize=%{marker.size}<extra></extra>\", \"ids\": [\"New Brunswick\"], \"legendgroup\": \"New Brunswick\", \"marker\": {\"color\": \"#ab63fa\", \"size\": [759617], \"sizemode\": \"area\", \"sizeref\": 36835.035, \"symbol\": \"circle\"}, \"mode\": \"markers\", \"name\": \"New Brunswick\", \"orientation\": \"v\", \"showlegend\": true, \"x\": [132025], \"xaxis\": \"x\", \"y\": [0.79], \"yaxis\": \"y\", \"type\": \"scatter\"}, {\"hovertemplate\": \"Geography=Qu\\u00e9bec<br>Time=2015Q1<br>AverageMortgageAmount=%{x}<br>DelinquencyRate=%{y}<br>PopulationSize=%{marker.size}<extra></extra>\", \"ids\": [\"Qu\\u00e9bec\"], \"legendgroup\": \"Qu\\u00e9bec\", \"marker\": {\"color\": \"#FFA15A\", \"size\": [8163132], \"sizemode\": \"area\", \"sizeref\": 36835.035, \"symbol\": \"circle\"}, \"mode\": \"markers\", \"name\": \"Qu\\u00e9bec\", \"orientation\": \"v\", \"showlegend\": true, \"x\": [161563], \"xaxis\": \"x\", \"y\": [0.42], \"yaxis\": \"y\", \"type\": \"scatter\"}, {\"hovertemplate\": \"Geography=Ontario<br>Time=2015Q1<br>AverageMortgageAmount=%{x}<br>DelinquencyRate=%{y}<br>PopulationSize=%{marker.size}<extra></extra>\", \"ids\": [\"Ontario\"], \"legendgroup\": \"Ontario\", \"marker\": {\"color\": \"#19d3f3\", \"size\": [13657737], \"sizemode\": \"area\", \"sizeref\": 36835.035, \"symbol\": \"circle\"}, \"mode\": \"markers\", \"name\": \"Ontario\", \"orientation\": \"v\", \"showlegend\": true, \"x\": [254854], \"xaxis\": \"x\", \"y\": [0.27], \"yaxis\": \"y\", \"type\": \"scatter\"}, {\"hovertemplate\": \"Geography=Manitoba<br>Time=2015Q1<br>AverageMortgageAmount=%{x}<br>DelinquencyRate=%{y}<br>PopulationSize=%{marker.size}<extra></extra>\", \"ids\": [\"Manitoba\"], \"legendgroup\": \"Manitoba\", \"marker\": {\"color\": \"#FF6692\", \"size\": [1286453], \"sizemode\": \"area\", \"sizeref\": 36835.035, \"symbol\": \"circle\"}, \"mode\": \"markers\", \"name\": \"Manitoba\", \"orientation\": \"v\", \"showlegend\": true, \"x\": [191444], \"xaxis\": \"x\", \"y\": [0.31], \"yaxis\": \"y\", \"type\": \"scatter\"}, {\"hovertemplate\": \"Geography=Saskatchewan<br>Time=2015Q1<br>AverageMortgageAmount=%{x}<br>DelinquencyRate=%{y}<br>PopulationSize=%{marker.size}<extra></extra>\", \"ids\": [\"Saskatchewan\"], \"legendgroup\": \"Saskatchewan\", \"marker\": {\"color\": \"#B6E880\", \"size\": [1118181], \"sizemode\": \"area\", \"sizeref\": 36835.035, \"symbol\": \"circle\"}, \"mode\": \"markers\", \"name\": \"Saskatchewan\", \"orientation\": \"v\", \"showlegend\": true, \"x\": [228569], \"xaxis\": \"x\", \"y\": [0.41], \"yaxis\": \"y\", \"type\": \"scatter\"}, {\"hovertemplate\": \"Geography=Alberta<br>Time=2015Q1<br>AverageMortgageAmount=%{x}<br>DelinquencyRate=%{y}<br>PopulationSize=%{marker.size}<extra></extra>\", \"ids\": [\"Alberta\"], \"legendgroup\": \"Alberta\", \"marker\": {\"color\": \"#FF97FF\", \"size\": [4116047], \"sizemode\": \"area\", \"sizeref\": 36835.035, \"symbol\": \"circle\"}, \"mode\": \"markers\", \"name\": \"Alberta\", \"orientation\": \"v\", \"showlegend\": true, \"x\": [303976], \"xaxis\": \"x\", \"y\": [0.32], \"yaxis\": \"y\", \"type\": \"scatter\"}, {\"hovertemplate\": \"Geography=British Columbia<br>Time=2015Q1<br>AverageMortgageAmount=%{x}<br>DelinquencyRate=%{y}<br>PopulationSize=%{marker.size}<extra></extra>\", \"ids\": [\"British Columbia\"], \"legendgroup\": \"British Columbia\", \"marker\": {\"color\": \"#FECB52\", \"size\": [4745468], \"sizemode\": \"area\", \"sizeref\": 36835.035, \"symbol\": \"circle\"}, \"mode\": \"markers\", \"name\": \"British Columbia\", \"orientation\": \"v\", \"showlegend\": true, \"x\": [325035], \"xaxis\": \"x\", \"y\": [0.4], \"yaxis\": \"y\", \"type\": \"scatter\"}], \"name\": \"2015Q1\"}, {\"data\": [{\"hovertemplate\": \"Geography=Newfoundland<br>Time=2015Q2<br>AverageMortgageAmount=%{x}<br>DelinquencyRate=%{y}<br>PopulationSize=%{marker.size}<extra></extra>\", \"ids\": [\"Newfoundland\"], \"legendgroup\": \"Newfoundland\", \"marker\": {\"color\": \"#636efa\", \"size\": [528063], \"sizemode\": \"area\", \"sizeref\": 36835.035, \"symbol\": \"circle\"}, \"mode\": \"markers\", \"name\": \"Newfoundland\", \"orientation\": \"v\", \"showlegend\": true, \"x\": [193956], \"xaxis\": \"x\", \"y\": [0.37], \"yaxis\": \"y\", \"type\": \"scatter\"}, {\"hovertemplate\": \"Geography=Prince Edward Island<br>Time=2015Q2<br>AverageMortgageAmount=%{x}<br>DelinquencyRate=%{y}<br>PopulationSize=%{marker.size}<extra></extra>\", \"ids\": [\"Prince Edward Island\"], \"legendgroup\": \"Prince Edward Island\", \"marker\": {\"color\": \"#EF553B\", \"size\": [144259], \"sizemode\": \"area\", \"sizeref\": 36835.035, \"symbol\": \"circle\"}, \"mode\": \"markers\", \"name\": \"Prince Edward Island\", \"orientation\": \"v\", \"showlegend\": true, \"x\": [146818], \"xaxis\": \"x\", \"y\": [0.62], \"yaxis\": \"y\", \"type\": \"scatter\"}, {\"hovertemplate\": \"Geography=Nova Scotia<br>Time=2015Q2<br>AverageMortgageAmount=%{x}<br>DelinquencyRate=%{y}<br>PopulationSize=%{marker.size}<extra></extra>\", \"ids\": [\"Nova Scotia\"], \"legendgroup\": \"Nova Scotia\", \"marker\": {\"color\": \"#00cc96\", \"size\": [936271], \"sizemode\": \"area\", \"sizeref\": 36835.035, \"symbol\": \"circle\"}, \"mode\": \"markers\", \"name\": \"Nova Scotia\", \"orientation\": \"v\", \"showlegend\": true, \"x\": [165288], \"xaxis\": \"x\", \"y\": [0.67], \"yaxis\": \"y\", \"type\": \"scatter\"}, {\"hovertemplate\": \"Geography=New Brunswick<br>Time=2015Q2<br>AverageMortgageAmount=%{x}<br>DelinquencyRate=%{y}<br>PopulationSize=%{marker.size}<extra></extra>\", \"ids\": [\"New Brunswick\"], \"legendgroup\": \"New Brunswick\", \"marker\": {\"color\": \"#ab63fa\", \"size\": [758948], \"sizemode\": \"area\", \"sizeref\": 36835.035, \"symbol\": \"circle\"}, \"mode\": \"markers\", \"name\": \"New Brunswick\", \"orientation\": \"v\", \"showlegend\": true, \"x\": [128378], \"xaxis\": \"x\", \"y\": [0.8], \"yaxis\": \"y\", \"type\": \"scatter\"}, {\"hovertemplate\": \"Geography=Qu\\u00e9bec<br>Time=2015Q2<br>AverageMortgageAmount=%{x}<br>DelinquencyRate=%{y}<br>PopulationSize=%{marker.size}<extra></extra>\", \"ids\": [\"Qu\\u00e9bec\"], \"legendgroup\": \"Qu\\u00e9bec\", \"marker\": {\"color\": \"#FFA15A\", \"size\": [8163063], \"sizemode\": \"area\", \"sizeref\": 36835.035, \"symbol\": \"circle\"}, \"mode\": \"markers\", \"name\": \"Qu\\u00e9bec\", \"orientation\": \"v\", \"showlegend\": true, \"x\": [164764], \"xaxis\": \"x\", \"y\": [0.41], \"yaxis\": \"y\", \"type\": \"scatter\"}, {\"hovertemplate\": \"Geography=Ontario<br>Time=2015Q2<br>AverageMortgageAmount=%{x}<br>DelinquencyRate=%{y}<br>PopulationSize=%{marker.size}<extra></extra>\", \"ids\": [\"Ontario\"], \"legendgroup\": \"Ontario\", \"marker\": {\"color\": \"#19d3f3\", \"size\": [13669860], \"sizemode\": \"area\", \"sizeref\": 36835.035, \"symbol\": \"circle\"}, \"mode\": \"markers\", \"name\": \"Ontario\", \"orientation\": \"v\", \"showlegend\": true, \"x\": [259093], \"xaxis\": \"x\", \"y\": [0.25], \"yaxis\": \"y\", \"type\": \"scatter\"}, {\"hovertemplate\": \"Geography=Manitoba<br>Time=2015Q2<br>AverageMortgageAmount=%{x}<br>DelinquencyRate=%{y}<br>PopulationSize=%{marker.size}<extra></extra>\", \"ids\": [\"Manitoba\"], \"legendgroup\": \"Manitoba\", \"marker\": {\"color\": \"#FF6692\", \"size\": [1288094], \"sizemode\": \"area\", \"sizeref\": 36835.035, \"symbol\": \"circle\"}, \"mode\": \"markers\", \"name\": \"Manitoba\", \"orientation\": \"v\", \"showlegend\": true, \"x\": [190383], \"xaxis\": \"x\", \"y\": [0.3], \"yaxis\": \"y\", \"type\": \"scatter\"}, {\"hovertemplate\": \"Geography=Saskatchewan<br>Time=2015Q2<br>AverageMortgageAmount=%{x}<br>DelinquencyRate=%{y}<br>PopulationSize=%{marker.size}<extra></extra>\", \"ids\": [\"Saskatchewan\"], \"legendgroup\": \"Saskatchewan\", \"marker\": {\"color\": \"#B6E880\", \"size\": [1118806], \"sizemode\": \"area\", \"sizeref\": 36835.035, \"symbol\": \"circle\"}, \"mode\": \"markers\", \"name\": \"Saskatchewan\", \"orientation\": \"v\", \"showlegend\": true, \"x\": [226957], \"xaxis\": \"x\", \"y\": [0.43], \"yaxis\": \"y\", \"type\": \"scatter\"}, {\"hovertemplate\": \"Geography=Alberta<br>Time=2015Q2<br>AverageMortgageAmount=%{x}<br>DelinquencyRate=%{y}<br>PopulationSize=%{marker.size}<extra></extra>\", \"ids\": [\"Alberta\"], \"legendgroup\": \"Alberta\", \"marker\": {\"color\": \"#FF97FF\", \"size\": [4128300], \"sizemode\": \"area\", \"sizeref\": 36835.035, \"symbol\": \"circle\"}, \"mode\": \"markers\", \"name\": \"Alberta\", \"orientation\": \"v\", \"showlegend\": true, \"x\": [299837], \"xaxis\": \"x\", \"y\": [0.33], \"yaxis\": \"y\", \"type\": \"scatter\"}, {\"hovertemplate\": \"Geography=British Columbia<br>Time=2015Q2<br>AverageMortgageAmount=%{x}<br>DelinquencyRate=%{y}<br>PopulationSize=%{marker.size}<extra></extra>\", \"ids\": [\"British Columbia\"], \"legendgroup\": \"British Columbia\", \"marker\": {\"color\": \"#FECB52\", \"size\": [4757759], \"sizemode\": \"area\", \"sizeref\": 36835.035, \"symbol\": \"circle\"}, \"mode\": \"markers\", \"name\": \"British Columbia\", \"orientation\": \"v\", \"showlegend\": true, \"x\": [328540], \"xaxis\": \"x\", \"y\": [0.38], \"yaxis\": \"y\", \"type\": \"scatter\"}], \"name\": \"2015Q2\"}, {\"data\": [{\"hovertemplate\": \"Geography=Newfoundland<br>Time=2015Q3<br>AverageMortgageAmount=%{x}<br>DelinquencyRate=%{y}<br>PopulationSize=%{marker.size}<extra></extra>\", \"ids\": [\"Newfoundland\"], \"legendgroup\": \"Newfoundland\", \"marker\": {\"color\": \"#636efa\", \"size\": [528117], \"sizemode\": \"area\", \"sizeref\": 36835.035, \"symbol\": \"circle\"}, \"mode\": \"markers\", \"name\": \"Newfoundland\", \"orientation\": \"v\", \"showlegend\": true, \"x\": [199758], \"xaxis\": \"x\", \"y\": [0.37], \"yaxis\": \"y\", \"type\": \"scatter\"}, {\"hovertemplate\": \"Geography=Prince Edward Island<br>Time=2015Q3<br>AverageMortgageAmount=%{x}<br>DelinquencyRate=%{y}<br>PopulationSize=%{marker.size}<extra></extra>\", \"ids\": [\"Prince Edward Island\"], \"legendgroup\": \"Prince Edward Island\", \"marker\": {\"color\": \"#EF553B\", \"size\": [144546], \"sizemode\": \"area\", \"sizeref\": 36835.035, \"symbol\": \"circle\"}, \"mode\": \"markers\", \"name\": \"Prince Edward Island\", \"orientation\": \"v\", \"showlegend\": true, \"x\": [150403], \"xaxis\": \"x\", \"y\": [0.63], \"yaxis\": \"y\", \"type\": \"scatter\"}, {\"hovertemplate\": \"Geography=Nova Scotia<br>Time=2015Q3<br>AverageMortgageAmount=%{x}<br>DelinquencyRate=%{y}<br>PopulationSize=%{marker.size}<extra></extra>\", \"ids\": [\"Nova Scotia\"], \"legendgroup\": \"Nova Scotia\", \"marker\": {\"color\": \"#00cc96\", \"size\": [936525], \"sizemode\": \"area\", \"sizeref\": 36835.035, \"symbol\": \"circle\"}, \"mode\": \"markers\", \"name\": \"Nova Scotia\", \"orientation\": \"v\", \"showlegend\": true, \"x\": [178091], \"xaxis\": \"x\", \"y\": [0.66], \"yaxis\": \"y\", \"type\": \"scatter\"}, {\"hovertemplate\": \"Geography=New Brunswick<br>Time=2015Q3<br>AverageMortgageAmount=%{x}<br>DelinquencyRate=%{y}<br>PopulationSize=%{marker.size}<extra></extra>\", \"ids\": [\"New Brunswick\"], \"legendgroup\": \"New Brunswick\", \"marker\": {\"color\": \"#ab63fa\", \"size\": [758842], \"sizemode\": \"area\", \"sizeref\": 36835.035, \"symbol\": \"circle\"}, \"mode\": \"markers\", \"name\": \"New Brunswick\", \"orientation\": \"v\", \"showlegend\": true, \"x\": [137565], \"xaxis\": \"x\", \"y\": [0.81], \"yaxis\": \"y\", \"type\": \"scatter\"}, {\"hovertemplate\": \"Geography=Qu\\u00e9bec<br>Time=2015Q3<br>AverageMortgageAmount=%{x}<br>DelinquencyRate=%{y}<br>PopulationSize=%{marker.size}<extra></extra>\", \"ids\": [\"Qu\\u00e9bec\"], \"legendgroup\": \"Qu\\u00e9bec\", \"marker\": {\"color\": \"#FFA15A\", \"size\": [8175272], \"sizemode\": \"area\", \"sizeref\": 36835.035, \"symbol\": \"circle\"}, \"mode\": \"markers\", \"name\": \"Qu\\u00e9bec\", \"orientation\": \"v\", \"showlegend\": true, \"x\": [170403], \"xaxis\": \"x\", \"y\": [0.41], \"yaxis\": \"y\", \"type\": \"scatter\"}, {\"hovertemplate\": \"Geography=Ontario<br>Time=2015Q3<br>AverageMortgageAmount=%{x}<br>DelinquencyRate=%{y}<br>PopulationSize=%{marker.size}<extra></extra>\", \"ids\": [\"Ontario\"], \"legendgroup\": \"Ontario\", \"marker\": {\"color\": \"#19d3f3\", \"size\": [13707118], \"sizemode\": \"area\", \"sizeref\": 36835.035, \"symbol\": \"circle\"}, \"mode\": \"markers\", \"name\": \"Ontario\", \"orientation\": \"v\", \"showlegend\": true, \"x\": [281259], \"xaxis\": \"x\", \"y\": [0.24], \"yaxis\": \"y\", \"type\": \"scatter\"}, {\"hovertemplate\": \"Geography=Manitoba<br>Time=2015Q3<br>AverageMortgageAmount=%{x}<br>DelinquencyRate=%{y}<br>PopulationSize=%{marker.size}<extra></extra>\", \"ids\": [\"Manitoba\"], \"legendgroup\": \"Manitoba\", \"marker\": {\"color\": \"#FF6692\", \"size\": [1292227], \"sizemode\": \"area\", \"sizeref\": 36835.035, \"symbol\": \"circle\"}, \"mode\": \"markers\", \"name\": \"Manitoba\", \"orientation\": \"v\", \"showlegend\": true, \"x\": [206275], \"xaxis\": \"x\", \"y\": [0.29], \"yaxis\": \"y\", \"type\": \"scatter\"}, {\"hovertemplate\": \"Geography=Saskatchewan<br>Time=2015Q3<br>AverageMortgageAmount=%{x}<br>DelinquencyRate=%{y}<br>PopulationSize=%{marker.size}<extra></extra>\", \"ids\": [\"Saskatchewan\"], \"legendgroup\": \"Saskatchewan\", \"marker\": {\"color\": \"#B6E880\", \"size\": [1120967], \"sizemode\": \"area\", \"sizeref\": 36835.035, \"symbol\": \"circle\"}, \"mode\": \"markers\", \"name\": \"Saskatchewan\", \"orientation\": \"v\", \"showlegend\": true, \"x\": [234840], \"xaxis\": \"x\", \"y\": [0.45], \"yaxis\": \"y\", \"type\": \"scatter\"}, {\"hovertemplate\": \"Geography=Alberta<br>Time=2015Q3<br>AverageMortgageAmount=%{x}<br>DelinquencyRate=%{y}<br>PopulationSize=%{marker.size}<extra></extra>\", \"ids\": [\"Alberta\"], \"legendgroup\": \"Alberta\", \"marker\": {\"color\": \"#FF97FF\", \"size\": [4144491], \"sizemode\": \"area\", \"sizeref\": 36835.035, \"symbol\": \"circle\"}, \"mode\": \"markers\", \"name\": \"Alberta\", \"orientation\": \"v\", \"showlegend\": true, \"x\": [309953], \"xaxis\": \"x\", \"y\": [0.35], \"yaxis\": \"y\", \"type\": \"scatter\"}, {\"hovertemplate\": \"Geography=British Columbia<br>Time=2015Q3<br>AverageMortgageAmount=%{x}<br>DelinquencyRate=%{y}<br>PopulationSize=%{marker.size}<extra></extra>\", \"ids\": [\"British Columbia\"], \"legendgroup\": \"British Columbia\", \"marker\": {\"color\": \"#FECB52\", \"size\": [4776388], \"sizemode\": \"area\", \"sizeref\": 36835.035, \"symbol\": \"circle\"}, \"mode\": \"markers\", \"name\": \"British Columbia\", \"orientation\": \"v\", \"showlegend\": true, \"x\": [350672], \"xaxis\": \"x\", \"y\": [0.34], \"yaxis\": \"y\", \"type\": \"scatter\"}], \"name\": \"2015Q3\"}, {\"data\": [{\"hovertemplate\": \"Geography=Newfoundland<br>Time=2015Q4<br>AverageMortgageAmount=%{x}<br>DelinquencyRate=%{y}<br>PopulationSize=%{marker.size}<extra></extra>\", \"ids\": [\"Newfoundland\"], \"legendgroup\": \"Newfoundland\", \"marker\": {\"color\": \"#636efa\", \"size\": [528696], \"sizemode\": \"area\", \"sizeref\": 36835.035, \"symbol\": \"circle\"}, \"mode\": \"markers\", \"name\": \"Newfoundland\", \"orientation\": \"v\", \"showlegend\": true, \"x\": [202487], \"xaxis\": \"x\", \"y\": [0.41], \"yaxis\": \"y\", \"type\": \"scatter\"}, {\"hovertemplate\": \"Geography=Prince Edward Island<br>Time=2015Q4<br>AverageMortgageAmount=%{x}<br>DelinquencyRate=%{y}<br>PopulationSize=%{marker.size}<extra></extra>\", \"ids\": [\"Prince Edward Island\"], \"legendgroup\": \"Prince Edward Island\", \"marker\": {\"color\": \"#EF553B\", \"size\": [144894], \"sizemode\": \"area\", \"sizeref\": 36835.035, \"symbol\": \"circle\"}, \"mode\": \"markers\", \"name\": \"Prince Edward Island\", \"orientation\": \"v\", \"showlegend\": true, \"x\": [155926], \"xaxis\": \"x\", \"y\": [0.67], \"yaxis\": \"y\", \"type\": \"scatter\"}, {\"hovertemplate\": \"Geography=Nova Scotia<br>Time=2015Q4<br>AverageMortgageAmount=%{x}<br>DelinquencyRate=%{y}<br>PopulationSize=%{marker.size}<extra></extra>\", \"ids\": [\"Nova Scotia\"], \"legendgroup\": \"Nova Scotia\", \"marker\": {\"color\": \"#00cc96\", \"size\": [938320], \"sizemode\": \"area\", \"sizeref\": 36835.035, \"symbol\": \"circle\"}, \"mode\": \"markers\", \"name\": \"Nova Scotia\", \"orientation\": \"v\", \"showlegend\": true, \"x\": [172863], \"xaxis\": \"x\", \"y\": [0.68], \"yaxis\": \"y\", \"type\": \"scatter\"}, {\"hovertemplate\": \"Geography=New Brunswick<br>Time=2015Q4<br>AverageMortgageAmount=%{x}<br>DelinquencyRate=%{y}<br>PopulationSize=%{marker.size}<extra></extra>\", \"ids\": [\"New Brunswick\"], \"legendgroup\": \"New Brunswick\", \"marker\": {\"color\": \"#ab63fa\", \"size\": [759778], \"sizemode\": \"area\", \"sizeref\": 36835.035, \"symbol\": \"circle\"}, \"mode\": \"markers\", \"name\": \"New Brunswick\", \"orientation\": \"v\", \"showlegend\": true, \"x\": [137039], \"xaxis\": \"x\", \"y\": [0.79], \"yaxis\": \"y\", \"type\": \"scatter\"}, {\"hovertemplate\": \"Geography=Qu\\u00e9bec<br>Time=2015Q4<br>AverageMortgageAmount=%{x}<br>DelinquencyRate=%{y}<br>PopulationSize=%{marker.size}<extra></extra>\", \"ids\": [\"Qu\\u00e9bec\"], \"legendgroup\": \"Qu\\u00e9bec\", \"marker\": {\"color\": \"#FFA15A\", \"size\": [8190014], \"sizemode\": \"area\", \"sizeref\": 36835.035, \"symbol\": \"circle\"}, \"mode\": \"markers\", \"name\": \"Qu\\u00e9bec\", \"orientation\": \"v\", \"showlegend\": true, \"x\": [164235], \"xaxis\": \"x\", \"y\": [0.42], \"yaxis\": \"y\", \"type\": \"scatter\"}, {\"hovertemplate\": \"Geography=Ontario<br>Time=2015Q4<br>AverageMortgageAmount=%{x}<br>DelinquencyRate=%{y}<br>PopulationSize=%{marker.size}<extra></extra>\", \"ids\": [\"Ontario\"], \"legendgroup\": \"Ontario\", \"marker\": {\"color\": \"#19d3f3\", \"size\": [13757688], \"sizemode\": \"area\", \"sizeref\": 36835.035, \"symbol\": \"circle\"}, \"mode\": \"markers\", \"name\": \"Ontario\", \"orientation\": \"v\", \"showlegend\": true, \"x\": [277802], \"xaxis\": \"x\", \"y\": [0.23], \"yaxis\": \"y\", \"type\": \"scatter\"}, {\"hovertemplate\": \"Geography=Manitoba<br>Time=2015Q4<br>AverageMortgageAmount=%{x}<br>DelinquencyRate=%{y}<br>PopulationSize=%{marker.size}<extra></extra>\", \"ids\": [\"Manitoba\"], \"legendgroup\": \"Manitoba\", \"marker\": {\"color\": \"#FF6692\", \"size\": [1297329], \"sizemode\": \"area\", \"sizeref\": 36835.035, \"symbol\": \"circle\"}, \"mode\": \"markers\", \"name\": \"Manitoba\", \"orientation\": \"v\", \"showlegend\": true, \"x\": [201640], \"xaxis\": \"x\", \"y\": [0.33], \"yaxis\": \"y\", \"type\": \"scatter\"}, {\"hovertemplate\": \"Geography=Saskatchewan<br>Time=2015Q4<br>AverageMortgageAmount=%{x}<br>DelinquencyRate=%{y}<br>PopulationSize=%{marker.size}<extra></extra>\", \"ids\": [\"Saskatchewan\"], \"legendgroup\": \"Saskatchewan\", \"marker\": {\"color\": \"#B6E880\", \"size\": [1124919], \"sizemode\": \"area\", \"sizeref\": 36835.035, \"symbol\": \"circle\"}, \"mode\": \"markers\", \"name\": \"Saskatchewan\", \"orientation\": \"v\", \"showlegend\": true, \"x\": [231611], \"xaxis\": \"x\", \"y\": [0.49], \"yaxis\": \"y\", \"type\": \"scatter\"}, {\"hovertemplate\": \"Geography=Alberta<br>Time=2015Q4<br>AverageMortgageAmount=%{x}<br>DelinquencyRate=%{y}<br>PopulationSize=%{marker.size}<extra></extra>\", \"ids\": [\"Alberta\"], \"legendgroup\": \"Alberta\", \"marker\": {\"color\": \"#FF97FF\", \"size\": [4159519], \"sizemode\": \"area\", \"sizeref\": 36835.035, \"symbol\": \"circle\"}, \"mode\": \"markers\", \"name\": \"Alberta\", \"orientation\": \"v\", \"showlegend\": true, \"x\": [303244], \"xaxis\": \"x\", \"y\": [0.36], \"yaxis\": \"y\", \"type\": \"scatter\"}, {\"hovertemplate\": \"Geography=British Columbia<br>Time=2015Q4<br>AverageMortgageAmount=%{x}<br>DelinquencyRate=%{y}<br>PopulationSize=%{marker.size}<extra></extra>\", \"ids\": [\"British Columbia\"], \"legendgroup\": \"British Columbia\", \"marker\": {\"color\": \"#FECB52\", \"size\": [4802955], \"sizemode\": \"area\", \"sizeref\": 36835.035, \"symbol\": \"circle\"}, \"mode\": \"markers\", \"name\": \"British Columbia\", \"orientation\": \"v\", \"showlegend\": true, \"x\": [357016], \"xaxis\": \"x\", \"y\": [0.32], \"yaxis\": \"y\", \"type\": \"scatter\"}], \"name\": \"2015Q4\"}, {\"data\": [{\"hovertemplate\": \"Geography=Newfoundland<br>Time=2016Q1<br>AverageMortgageAmount=%{x}<br>DelinquencyRate=%{y}<br>PopulationSize=%{marker.size}<extra></extra>\", \"ids\": [\"Newfoundland\"], \"legendgroup\": \"Newfoundland\", \"marker\": {\"color\": \"#636efa\", \"size\": [528800], \"sizemode\": \"area\", \"sizeref\": 36835.035, \"symbol\": \"circle\"}, \"mode\": \"markers\", \"name\": \"Newfoundland\", \"orientation\": \"v\", \"showlegend\": true, \"x\": [196798], \"xaxis\": \"x\", \"y\": [0.45], \"yaxis\": \"y\", \"type\": \"scatter\"}, {\"hovertemplate\": \"Geography=Prince Edward Island<br>Time=2016Q1<br>AverageMortgageAmount=%{x}<br>DelinquencyRate=%{y}<br>PopulationSize=%{marker.size}<extra></extra>\", \"ids\": [\"Prince Edward Island\"], \"legendgroup\": \"Prince Edward Island\", \"marker\": {\"color\": \"#EF553B\", \"size\": [145202], \"sizemode\": \"area\", \"sizeref\": 36835.035, \"symbol\": \"circle\"}, \"mode\": \"markers\", \"name\": \"Prince Edward Island\", \"orientation\": \"v\", \"showlegend\": true, \"x\": [157322], \"xaxis\": \"x\", \"y\": [0.7], \"yaxis\": \"y\", \"type\": \"scatter\"}, {\"hovertemplate\": \"Geography=Nova Scotia<br>Time=2016Q1<br>AverageMortgageAmount=%{x}<br>DelinquencyRate=%{y}<br>PopulationSize=%{marker.size}<extra></extra>\", \"ids\": [\"Nova Scotia\"], \"legendgroup\": \"Nova Scotia\", \"marker\": {\"color\": \"#00cc96\", \"size\": [938690], \"sizemode\": \"area\", \"sizeref\": 36835.035, \"symbol\": \"circle\"}, \"mode\": \"markers\", \"name\": \"Nova Scotia\", \"orientation\": \"v\", \"showlegend\": true, \"x\": [167596], \"xaxis\": \"x\", \"y\": [0.7], \"yaxis\": \"y\", \"type\": \"scatter\"}, {\"hovertemplate\": \"Geography=New Brunswick<br>Time=2016Q1<br>AverageMortgageAmount=%{x}<br>DelinquencyRate=%{y}<br>PopulationSize=%{marker.size}<extra></extra>\", \"ids\": [\"New Brunswick\"], \"legendgroup\": \"New Brunswick\", \"marker\": {\"color\": \"#ab63fa\", \"size\": [760580], \"sizemode\": \"area\", \"sizeref\": 36835.035, \"symbol\": \"circle\"}, \"mode\": \"markers\", \"name\": \"New Brunswick\", \"orientation\": \"v\", \"showlegend\": true, \"x\": [132325], \"xaxis\": \"x\", \"y\": [0.82], \"yaxis\": \"y\", \"type\": \"scatter\"}, {\"hovertemplate\": \"Geography=Qu\\u00e9bec<br>Time=2016Q1<br>AverageMortgageAmount=%{x}<br>DelinquencyRate=%{y}<br>PopulationSize=%{marker.size}<extra></extra>\", \"ids\": [\"Qu\\u00e9bec\"], \"legendgroup\": \"Qu\\u00e9bec\", \"marker\": {\"color\": \"#FFA15A\", \"size\": [8193624], \"sizemode\": \"area\", \"sizeref\": 36835.035, \"symbol\": \"circle\"}, \"mode\": \"markers\", \"name\": \"Qu\\u00e9bec\", \"orientation\": \"v\", \"showlegend\": true, \"x\": [167154], \"xaxis\": \"x\", \"y\": [0.44], \"yaxis\": \"y\", \"type\": \"scatter\"}, {\"hovertemplate\": \"Geography=Ontario<br>Time=2016Q1<br>AverageMortgageAmount=%{x}<br>DelinquencyRate=%{y}<br>PopulationSize=%{marker.size}<extra></extra>\", \"ids\": [\"Ontario\"], \"legendgroup\": \"Ontario\", \"marker\": {\"color\": \"#19d3f3\", \"size\": [13773629], \"sizemode\": \"area\", \"sizeref\": 36835.035, \"symbol\": \"circle\"}, \"mode\": \"markers\", \"name\": \"Ontario\", \"orientation\": \"v\", \"showlegend\": true, \"x\": [278626], \"xaxis\": \"x\", \"y\": [0.24], \"yaxis\": \"y\", \"type\": \"scatter\"}, {\"hovertemplate\": \"Geography=Manitoba<br>Time=2016Q1<br>AverageMortgageAmount=%{x}<br>DelinquencyRate=%{y}<br>PopulationSize=%{marker.size}<extra></extra>\", \"ids\": [\"Manitoba\"], \"legendgroup\": \"Manitoba\", \"marker\": {\"color\": \"#FF6692\", \"size\": [1302544], \"sizemode\": \"area\", \"sizeref\": 36835.035, \"symbol\": \"circle\"}, \"mode\": \"markers\", \"name\": \"Manitoba\", \"orientation\": \"v\", \"showlegend\": true, \"x\": [193970], \"xaxis\": \"x\", \"y\": [0.34], \"yaxis\": \"y\", \"type\": \"scatter\"}, {\"hovertemplate\": \"Geography=Saskatchewan<br>Time=2016Q1<br>AverageMortgageAmount=%{x}<br>DelinquencyRate=%{y}<br>PopulationSize=%{marker.size}<extra></extra>\", \"ids\": [\"Saskatchewan\"], \"legendgroup\": \"Saskatchewan\", \"marker\": {\"color\": \"#B6E880\", \"size\": [1127773], \"sizemode\": \"area\", \"sizeref\": 36835.035, \"symbol\": \"circle\"}, \"mode\": \"markers\", \"name\": \"Saskatchewan\", \"orientation\": \"v\", \"showlegend\": true, \"x\": [225641], \"xaxis\": \"x\", \"y\": [0.54], \"yaxis\": \"y\", \"type\": \"scatter\"}, {\"hovertemplate\": \"Geography=Alberta<br>Time=2016Q1<br>AverageMortgageAmount=%{x}<br>DelinquencyRate=%{y}<br>PopulationSize=%{marker.size}<extra></extra>\", \"ids\": [\"Alberta\"], \"legendgroup\": \"Alberta\", \"marker\": {\"color\": \"#FF97FF\", \"size\": [4169830], \"sizemode\": \"area\", \"sizeref\": 36835.035, \"symbol\": \"circle\"}, \"mode\": \"markers\", \"name\": \"Alberta\", \"orientation\": \"v\", \"showlegend\": true, \"x\": [296111], \"xaxis\": \"x\", \"y\": [0.41], \"yaxis\": \"y\", \"type\": \"scatter\"}, {\"hovertemplate\": \"Geography=British Columbia<br>Time=2016Q1<br>AverageMortgageAmount=%{x}<br>DelinquencyRate=%{y}<br>PopulationSize=%{marker.size}<extra></extra>\", \"ids\": [\"British Columbia\"], \"legendgroup\": \"British Columbia\", \"marker\": {\"color\": \"#FECB52\", \"size\": [4811465], \"sizemode\": \"area\", \"sizeref\": 36835.035, \"symbol\": \"circle\"}, \"mode\": \"markers\", \"name\": \"British Columbia\", \"orientation\": \"v\", \"showlegend\": true, \"x\": [368782], \"xaxis\": \"x\", \"y\": [0.32], \"yaxis\": \"y\", \"type\": \"scatter\"}], \"name\": \"2016Q1\"}, {\"data\": [{\"hovertemplate\": \"Geography=Newfoundland<br>Time=2016Q2<br>AverageMortgageAmount=%{x}<br>DelinquencyRate=%{y}<br>PopulationSize=%{marker.size}<extra></extra>\", \"ids\": [\"Newfoundland\"], \"legendgroup\": \"Newfoundland\", \"marker\": {\"color\": \"#636efa\", \"size\": [529063], \"sizemode\": \"area\", \"sizeref\": 36835.035, \"symbol\": \"circle\"}, \"mode\": \"markers\", \"name\": \"Newfoundland\", \"orientation\": \"v\", \"showlegend\": true, \"x\": [196806], \"xaxis\": \"x\", \"y\": [0.46], \"yaxis\": \"y\", \"type\": \"scatter\"}, {\"hovertemplate\": \"Geography=Prince Edward Island<br>Time=2016Q2<br>AverageMortgageAmount=%{x}<br>DelinquencyRate=%{y}<br>PopulationSize=%{marker.size}<extra></extra>\", \"ids\": [\"Prince Edward Island\"], \"legendgroup\": \"Prince Edward Island\", \"marker\": {\"color\": \"#EF553B\", \"size\": [145784], \"sizemode\": \"area\", \"sizeref\": 36835.035, \"symbol\": \"circle\"}, \"mode\": \"markers\", \"name\": \"Prince Edward Island\", \"orientation\": \"v\", \"showlegend\": true, \"x\": [150732], \"xaxis\": \"x\", \"y\": [0.7], \"yaxis\": \"y\", \"type\": \"scatter\"}, {\"hovertemplate\": \"Geography=Nova Scotia<br>Time=2016Q2<br>AverageMortgageAmount=%{x}<br>DelinquencyRate=%{y}<br>PopulationSize=%{marker.size}<extra></extra>\", \"ids\": [\"Nova Scotia\"], \"legendgroup\": \"Nova Scotia\", \"marker\": {\"color\": \"#00cc96\", \"size\": [940382], \"sizemode\": \"area\", \"sizeref\": 36835.035, \"symbol\": \"circle\"}, \"mode\": \"markers\", \"name\": \"Nova Scotia\", \"orientation\": \"v\", \"showlegend\": true, \"x\": [168948], \"xaxis\": \"x\", \"y\": [0.72], \"yaxis\": \"y\", \"type\": \"scatter\"}, {\"hovertemplate\": \"Geography=New Brunswick<br>Time=2016Q2<br>AverageMortgageAmount=%{x}<br>DelinquencyRate=%{y}<br>PopulationSize=%{marker.size}<extra></extra>\", \"ids\": [\"New Brunswick\"], \"legendgroup\": \"New Brunswick\", \"marker\": {\"color\": \"#ab63fa\", \"size\": [762289], \"sizemode\": \"area\", \"sizeref\": 36835.035, \"symbol\": \"circle\"}, \"mode\": \"markers\", \"name\": \"New Brunswick\", \"orientation\": \"v\", \"showlegend\": true, \"x\": [133027], \"xaxis\": \"x\", \"y\": [0.78], \"yaxis\": \"y\", \"type\": \"scatter\"}, {\"hovertemplate\": \"Geography=Qu\\u00e9bec<br>Time=2016Q2<br>AverageMortgageAmount=%{x}<br>DelinquencyRate=%{y}<br>PopulationSize=%{marker.size}<extra></extra>\", \"ids\": [\"Qu\\u00e9bec\"], \"legendgroup\": \"Qu\\u00e9bec\", \"marker\": {\"color\": \"#FFA15A\", \"size\": [8204085], \"sizemode\": \"area\", \"sizeref\": 36835.035, \"symbol\": \"circle\"}, \"mode\": \"markers\", \"name\": \"Qu\\u00e9bec\", \"orientation\": \"v\", \"showlegend\": true, \"x\": [169326], \"xaxis\": \"x\", \"y\": [0.43], \"yaxis\": \"y\", \"type\": \"scatter\"}, {\"hovertemplate\": \"Geography=Ontario<br>Time=2016Q2<br>AverageMortgageAmount=%{x}<br>DelinquencyRate=%{y}<br>PopulationSize=%{marker.size}<extra></extra>\", \"ids\": [\"Ontario\"], \"legendgroup\": \"Ontario\", \"marker\": {\"color\": \"#19d3f3\", \"size\": [13816545], \"sizemode\": \"area\", \"sizeref\": 36835.035, \"symbol\": \"circle\"}, \"mode\": \"markers\", \"name\": \"Ontario\", \"orientation\": \"v\", \"showlegend\": true, \"x\": [285024], \"xaxis\": \"x\", \"y\": [0.22], \"yaxis\": \"y\", \"type\": \"scatter\"}, {\"hovertemplate\": \"Geography=Manitoba<br>Time=2016Q2<br>AverageMortgageAmount=%{x}<br>DelinquencyRate=%{y}<br>PopulationSize=%{marker.size}<extra></extra>\", \"ids\": [\"Manitoba\"], \"legendgroup\": \"Manitoba\", \"marker\": {\"color\": \"#FF6692\", \"size\": [1307689], \"sizemode\": \"area\", \"sizeref\": 36835.035, \"symbol\": \"circle\"}, \"mode\": \"markers\", \"name\": \"Manitoba\", \"orientation\": \"v\", \"showlegend\": true, \"x\": [196385], \"xaxis\": \"x\", \"y\": [0.35], \"yaxis\": \"y\", \"type\": \"scatter\"}, {\"hovertemplate\": \"Geography=Saskatchewan<br>Time=2016Q2<br>AverageMortgageAmount=%{x}<br>DelinquencyRate=%{y}<br>PopulationSize=%{marker.size}<extra></extra>\", \"ids\": [\"Saskatchewan\"], \"legendgroup\": \"Saskatchewan\", \"marker\": {\"color\": \"#B6E880\", \"size\": [1131147], \"sizemode\": \"area\", \"sizeref\": 36835.035, \"symbol\": \"circle\"}, \"mode\": \"markers\", \"name\": \"Saskatchewan\", \"orientation\": \"v\", \"showlegend\": true, \"x\": [230729], \"xaxis\": \"x\", \"y\": [0.57], \"yaxis\": \"y\", \"type\": \"scatter\"}, {\"hovertemplate\": \"Geography=Alberta<br>Time=2016Q2<br>AverageMortgageAmount=%{x}<br>DelinquencyRate=%{y}<br>PopulationSize=%{marker.size}<extra></extra>\", \"ids\": [\"Alberta\"], \"legendgroup\": \"Alberta\", \"marker\": {\"color\": \"#FF97FF\", \"size\": [4181765], \"sizemode\": \"area\", \"sizeref\": 36835.035, \"symbol\": \"circle\"}, \"mode\": \"markers\", \"name\": \"Alberta\", \"orientation\": \"v\", \"showlegend\": true, \"x\": [298884], \"xaxis\": \"x\", \"y\": [0.45], \"yaxis\": \"y\", \"type\": \"scatter\"}, {\"hovertemplate\": \"Geography=British Columbia<br>Time=2016Q2<br>AverageMortgageAmount=%{x}<br>DelinquencyRate=%{y}<br>PopulationSize=%{marker.size}<extra></extra>\", \"ids\": [\"British Columbia\"], \"legendgroup\": \"British Columbia\", \"marker\": {\"color\": \"#FECB52\", \"size\": [4832155], \"sizemode\": \"area\", \"sizeref\": 36835.035, \"symbol\": \"circle\"}, \"mode\": \"markers\", \"name\": \"British Columbia\", \"orientation\": \"v\", \"showlegend\": true, \"x\": [385910], \"xaxis\": \"x\", \"y\": [0.29], \"yaxis\": \"y\", \"type\": \"scatter\"}], \"name\": \"2016Q2\"}, {\"data\": [{\"hovertemplate\": \"Geography=Newfoundland<br>Time=2016Q3<br>AverageMortgageAmount=%{x}<br>DelinquencyRate=%{y}<br>PopulationSize=%{marker.size}<extra></extra>\", \"ids\": [\"Newfoundland\"], \"legendgroup\": \"Newfoundland\", \"marker\": {\"color\": \"#636efa\", \"size\": [529426], \"sizemode\": \"area\", \"sizeref\": 36835.035, \"symbol\": \"circle\"}, \"mode\": \"markers\", \"name\": \"Newfoundland\", \"orientation\": \"v\", \"showlegend\": true, \"x\": [198265], \"xaxis\": \"x\", \"y\": [0.49], \"yaxis\": \"y\", \"type\": \"scatter\"}, {\"hovertemplate\": \"Geography=Prince Edward Island<br>Time=2016Q3<br>AverageMortgageAmount=%{x}<br>DelinquencyRate=%{y}<br>PopulationSize=%{marker.size}<extra></extra>\", \"ids\": [\"Prince Edward Island\"], \"legendgroup\": \"Prince Edward Island\", \"marker\": {\"color\": \"#EF553B\", \"size\": [146969], \"sizemode\": \"area\", \"sizeref\": 36835.035, \"symbol\": \"circle\"}, \"mode\": \"markers\", \"name\": \"Prince Edward Island\", \"orientation\": \"v\", \"showlegend\": true, \"x\": [169651], \"xaxis\": \"x\", \"y\": [0.67], \"yaxis\": \"y\", \"type\": \"scatter\"}, {\"hovertemplate\": \"Geography=Nova Scotia<br>Time=2016Q3<br>AverageMortgageAmount=%{x}<br>DelinquencyRate=%{y}<br>PopulationSize=%{marker.size}<extra></extra>\", \"ids\": [\"Nova Scotia\"], \"legendgroup\": \"Nova Scotia\", \"marker\": {\"color\": \"#00cc96\", \"size\": [942790], \"sizemode\": \"area\", \"sizeref\": 36835.035, \"symbol\": \"circle\"}, \"mode\": \"markers\", \"name\": \"Nova Scotia\", \"orientation\": \"v\", \"showlegend\": true, \"x\": [178784], \"xaxis\": \"x\", \"y\": [0.76], \"yaxis\": \"y\", \"type\": \"scatter\"}, {\"hovertemplate\": \"Geography=New Brunswick<br>Time=2016Q3<br>AverageMortgageAmount=%{x}<br>DelinquencyRate=%{y}<br>PopulationSize=%{marker.size}<extra></extra>\", \"ids\": [\"New Brunswick\"], \"legendgroup\": \"New Brunswick\", \"marker\": {\"color\": \"#ab63fa\", \"size\": [763350], \"sizemode\": \"area\", \"sizeref\": 36835.035, \"symbol\": \"circle\"}, \"mode\": \"markers\", \"name\": \"New Brunswick\", \"orientation\": \"v\", \"showlegend\": true, \"x\": [143533], \"xaxis\": \"x\", \"y\": [0.84], \"yaxis\": \"y\", \"type\": \"scatter\"}, {\"hovertemplate\": \"Geography=Qu\\u00e9bec<br>Time=2016Q3<br>AverageMortgageAmount=%{x}<br>DelinquencyRate=%{y}<br>PopulationSize=%{marker.size}<extra></extra>\", \"ids\": [\"Qu\\u00e9bec\"], \"legendgroup\": \"Qu\\u00e9bec\", \"marker\": {\"color\": \"#FFA15A\", \"size\": [8225950], \"sizemode\": \"area\", \"sizeref\": 36835.035, \"symbol\": \"circle\"}, \"mode\": \"markers\", \"name\": \"Qu\\u00e9bec\", \"orientation\": \"v\", \"showlegend\": true, \"x\": [176522], \"xaxis\": \"x\", \"y\": [0.42], \"yaxis\": \"y\", \"type\": \"scatter\"}, {\"hovertemplate\": \"Geography=Ontario<br>Time=2016Q3<br>AverageMortgageAmount=%{x}<br>DelinquencyRate=%{y}<br>PopulationSize=%{marker.size}<extra></extra>\", \"ids\": [\"Ontario\"], \"legendgroup\": \"Ontario\", \"marker\": {\"color\": \"#19d3f3\", \"size\": [13875394], \"sizemode\": \"area\", \"sizeref\": 36835.035, \"symbol\": \"circle\"}, \"mode\": \"markers\", \"name\": \"Ontario\", \"orientation\": \"v\", \"showlegend\": true, \"x\": [307369], \"xaxis\": \"x\", \"y\": [0.2], \"yaxis\": \"y\", \"type\": \"scatter\"}, {\"hovertemplate\": \"Geography=Manitoba<br>Time=2016Q3<br>AverageMortgageAmount=%{x}<br>DelinquencyRate=%{y}<br>PopulationSize=%{marker.size}<extra></extra>\", \"ids\": [\"Manitoba\"], \"legendgroup\": \"Manitoba\", \"marker\": {\"color\": \"#FF6692\", \"size\": [1314139], \"sizemode\": \"area\", \"sizeref\": 36835.035, \"symbol\": \"circle\"}, \"mode\": \"markers\", \"name\": \"Manitoba\", \"orientation\": \"v\", \"showlegend\": true, \"x\": [209051], \"xaxis\": \"x\", \"y\": [0.34], \"yaxis\": \"y\", \"type\": \"scatter\"}, {\"hovertemplate\": \"Geography=Saskatchewan<br>Time=2016Q3<br>AverageMortgageAmount=%{x}<br>DelinquencyRate=%{y}<br>PopulationSize=%{marker.size}<extra></extra>\", \"ids\": [\"Saskatchewan\"], \"legendgroup\": \"Saskatchewan\", \"marker\": {\"color\": \"#B6E880\", \"size\": [1135987], \"sizemode\": \"area\", \"sizeref\": 36835.035, \"symbol\": \"circle\"}, \"mode\": \"markers\", \"name\": \"Saskatchewan\", \"orientation\": \"v\", \"showlegend\": true, \"x\": [236380], \"xaxis\": \"x\", \"y\": [0.61], \"yaxis\": \"y\", \"type\": \"scatter\"}, {\"hovertemplate\": \"Geography=Alberta<br>Time=2016Q3<br>AverageMortgageAmount=%{x}<br>DelinquencyRate=%{y}<br>PopulationSize=%{marker.size}<extra></extra>\", \"ids\": [\"Alberta\"], \"legendgroup\": \"Alberta\", \"marker\": {\"color\": \"#FF97FF\", \"size\": [4196061], \"sizemode\": \"area\", \"sizeref\": 36835.035, \"symbol\": \"circle\"}, \"mode\": \"markers\", \"name\": \"Alberta\", \"orientation\": \"v\", \"showlegend\": true, \"x\": [304683], \"xaxis\": \"x\", \"y\": [0.53], \"yaxis\": \"y\", \"type\": \"scatter\"}, {\"hovertemplate\": \"Geography=British Columbia<br>Time=2016Q3<br>AverageMortgageAmount=%{x}<br>DelinquencyRate=%{y}<br>PopulationSize=%{marker.size}<extra></extra>\", \"ids\": [\"British Columbia\"], \"legendgroup\": \"British Columbia\", \"marker\": {\"color\": \"#FECB52\", \"size\": [4859250], \"sizemode\": \"area\", \"sizeref\": 36835.035, \"symbol\": \"circle\"}, \"mode\": \"markers\", \"name\": \"British Columbia\", \"orientation\": \"v\", \"showlegend\": true, \"x\": [395297], \"xaxis\": \"x\", \"y\": [0.26], \"yaxis\": \"y\", \"type\": \"scatter\"}], \"name\": \"2016Q3\"}, {\"data\": [{\"hovertemplate\": \"Geography=Newfoundland<br>Time=2016Q4<br>AverageMortgageAmount=%{x}<br>DelinquencyRate=%{y}<br>PopulationSize=%{marker.size}<extra></extra>\", \"ids\": [\"Newfoundland\"], \"legendgroup\": \"Newfoundland\", \"marker\": {\"color\": \"#636efa\", \"size\": [529900], \"sizemode\": \"area\", \"sizeref\": 36835.035, \"symbol\": \"circle\"}, \"mode\": \"markers\", \"name\": \"Newfoundland\", \"orientation\": \"v\", \"showlegend\": true, \"x\": [197794], \"xaxis\": \"x\", \"y\": [0.46], \"yaxis\": \"y\", \"type\": \"scatter\"}, {\"hovertemplate\": \"Geography=Prince Edward Island<br>Time=2016Q4<br>AverageMortgageAmount=%{x}<br>DelinquencyRate=%{y}<br>PopulationSize=%{marker.size}<extra></extra>\", \"ids\": [\"Prince Edward Island\"], \"legendgroup\": \"Prince Edward Island\", \"marker\": {\"color\": \"#EF553B\", \"size\": [147936], \"sizemode\": \"area\", \"sizeref\": 36835.035, \"symbol\": \"circle\"}, \"mode\": \"markers\", \"name\": \"Prince Edward Island\", \"orientation\": \"v\", \"showlegend\": true, \"x\": [155799], \"xaxis\": \"x\", \"y\": [0.6], \"yaxis\": \"y\", \"type\": \"scatter\"}, {\"hovertemplate\": \"Geography=Nova Scotia<br>Time=2016Q4<br>AverageMortgageAmount=%{x}<br>DelinquencyRate=%{y}<br>PopulationSize=%{marker.size}<extra></extra>\", \"ids\": [\"Nova Scotia\"], \"legendgroup\": \"Nova Scotia\", \"marker\": {\"color\": \"#00cc96\", \"size\": [946030], \"sizemode\": \"area\", \"sizeref\": 36835.035, \"symbol\": \"circle\"}, \"mode\": \"markers\", \"name\": \"Nova Scotia\", \"orientation\": \"v\", \"showlegend\": true, \"x\": [173305], \"xaxis\": \"x\", \"y\": [0.75], \"yaxis\": \"y\", \"type\": \"scatter\"}, {\"hovertemplate\": \"Geography=New Brunswick<br>Time=2016Q4<br>AverageMortgageAmount=%{x}<br>DelinquencyRate=%{y}<br>PopulationSize=%{marker.size}<extra></extra>\", \"ids\": [\"New Brunswick\"], \"legendgroup\": \"New Brunswick\", \"marker\": {\"color\": \"#ab63fa\", \"size\": [764844], \"sizemode\": \"area\", \"sizeref\": 36835.035, \"symbol\": \"circle\"}, \"mode\": \"markers\", \"name\": \"New Brunswick\", \"orientation\": \"v\", \"showlegend\": true, \"x\": [140124], \"xaxis\": \"x\", \"y\": [0.79], \"yaxis\": \"y\", \"type\": \"scatter\"}, {\"hovertemplate\": \"Geography=Qu\\u00e9bec<br>Time=2016Q4<br>AverageMortgageAmount=%{x}<br>DelinquencyRate=%{y}<br>PopulationSize=%{marker.size}<extra></extra>\", \"ids\": [\"Qu\\u00e9bec\"], \"legendgroup\": \"Qu\\u00e9bec\", \"marker\": {\"color\": \"#FFA15A\", \"size\": [8249692], \"sizemode\": \"area\", \"sizeref\": 36835.035, \"symbol\": \"circle\"}, \"mode\": \"markers\", \"name\": \"Qu\\u00e9bec\", \"orientation\": \"v\", \"showlegend\": true, \"x\": [170309], \"xaxis\": \"x\", \"y\": [0.4], \"yaxis\": \"y\", \"type\": \"scatter\"}, {\"hovertemplate\": \"Geography=Ontario<br>Time=2016Q4<br>AverageMortgageAmount=%{x}<br>DelinquencyRate=%{y}<br>PopulationSize=%{marker.size}<extra></extra>\", \"ids\": [\"Ontario\"], \"legendgroup\": \"Ontario\", \"marker\": {\"color\": \"#19d3f3\", \"size\": [13946431], \"sizemode\": \"area\", \"sizeref\": 36835.035, \"symbol\": \"circle\"}, \"mode\": \"markers\", \"name\": \"Ontario\", \"orientation\": \"v\", \"showlegend\": true, \"x\": [310236], \"xaxis\": \"x\", \"y\": [0.19], \"yaxis\": \"y\", \"type\": \"scatter\"}, {\"hovertemplate\": \"Geography=Manitoba<br>Time=2016Q4<br>AverageMortgageAmount=%{x}<br>DelinquencyRate=%{y}<br>PopulationSize=%{marker.size}<extra></extra>\", \"ids\": [\"Manitoba\"], \"legendgroup\": \"Manitoba\", \"marker\": {\"color\": \"#FF6692\", \"size\": [1319911], \"sizemode\": \"area\", \"sizeref\": 36835.035, \"symbol\": \"circle\"}, \"mode\": \"markers\", \"name\": \"Manitoba\", \"orientation\": \"v\", \"showlegend\": true, \"x\": [206958], \"xaxis\": \"x\", \"y\": [0.35], \"yaxis\": \"y\", \"type\": \"scatter\"}, {\"hovertemplate\": \"Geography=Saskatchewan<br>Time=2016Q4<br>AverageMortgageAmount=%{x}<br>DelinquencyRate=%{y}<br>PopulationSize=%{marker.size}<extra></extra>\", \"ids\": [\"Saskatchewan\"], \"legendgroup\": \"Saskatchewan\", \"marker\": {\"color\": \"#B6E880\", \"size\": [1140690], \"sizemode\": \"area\", \"sizeref\": 36835.035, \"symbol\": \"circle\"}, \"mode\": \"markers\", \"name\": \"Saskatchewan\", \"orientation\": \"v\", \"showlegend\": true, \"x\": [232174], \"xaxis\": \"x\", \"y\": [0.62], \"yaxis\": \"y\", \"type\": \"scatter\"}, {\"hovertemplate\": \"Geography=Alberta<br>Time=2016Q4<br>AverageMortgageAmount=%{x}<br>DelinquencyRate=%{y}<br>PopulationSize=%{marker.size}<extra></extra>\", \"ids\": [\"Alberta\"], \"legendgroup\": \"Alberta\", \"marker\": {\"color\": \"#FF97FF\", \"size\": [4208958], \"sizemode\": \"area\", \"sizeref\": 36835.035, \"symbol\": \"circle\"}, \"mode\": \"markers\", \"name\": \"Alberta\", \"orientation\": \"v\", \"showlegend\": true, \"x\": [302095], \"xaxis\": \"x\", \"y\": [0.53], \"yaxis\": \"y\", \"type\": \"scatter\"}, {\"hovertemplate\": \"Geography=British Columbia<br>Time=2016Q4<br>AverageMortgageAmount=%{x}<br>DelinquencyRate=%{y}<br>PopulationSize=%{marker.size}<extra></extra>\", \"ids\": [\"British Columbia\"], \"legendgroup\": \"British Columbia\", \"marker\": {\"color\": \"#FECB52\", \"size\": [4884002], \"sizemode\": \"area\", \"sizeref\": 36835.035, \"symbol\": \"circle\"}, \"mode\": \"markers\", \"name\": \"British Columbia\", \"orientation\": \"v\", \"showlegend\": true, \"x\": [366703], \"xaxis\": \"x\", \"y\": [0.25], \"yaxis\": \"y\", \"type\": \"scatter\"}], \"name\": \"2016Q4\"}, {\"data\": [{\"hovertemplate\": \"Geography=Newfoundland<br>Time=2017Q1<br>AverageMortgageAmount=%{x}<br>DelinquencyRate=%{y}<br>PopulationSize=%{marker.size}<extra></extra>\", \"ids\": [\"Newfoundland\"], \"legendgroup\": \"Newfoundland\", \"marker\": {\"color\": \"#636efa\", \"size\": [529347], \"sizemode\": \"area\", \"sizeref\": 36835.035, \"symbol\": \"circle\"}, \"mode\": \"markers\", \"name\": \"Newfoundland\", \"orientation\": \"v\", \"showlegend\": true, \"x\": [192057], \"xaxis\": \"x\", \"y\": [0.47], \"yaxis\": \"y\", \"type\": \"scatter\"}, {\"hovertemplate\": \"Geography=Prince Edward Island<br>Time=2017Q1<br>AverageMortgageAmount=%{x}<br>DelinquencyRate=%{y}<br>PopulationSize=%{marker.size}<extra></extra>\", \"ids\": [\"Prince Edward Island\"], \"legendgroup\": \"Prince Edward Island\", \"marker\": {\"color\": \"#EF553B\", \"size\": [148181], \"sizemode\": \"area\", \"sizeref\": 36835.035, \"symbol\": \"circle\"}, \"mode\": \"markers\", \"name\": \"Prince Edward Island\", \"orientation\": \"v\", \"showlegend\": true, \"x\": [175124], \"xaxis\": \"x\", \"y\": [0.66], \"yaxis\": \"y\", \"type\": \"scatter\"}, {\"hovertemplate\": \"Geography=Nova Scotia<br>Time=2017Q1<br>AverageMortgageAmount=%{x}<br>DelinquencyRate=%{y}<br>PopulationSize=%{marker.size}<extra></extra>\", \"ids\": [\"Nova Scotia\"], \"legendgroup\": \"Nova Scotia\", \"marker\": {\"color\": \"#00cc96\", \"size\": [945943], \"sizemode\": \"area\", \"sizeref\": 36835.035, \"symbol\": \"circle\"}, \"mode\": \"markers\", \"name\": \"Nova Scotia\", \"orientation\": \"v\", \"showlegend\": true, \"x\": [186024], \"xaxis\": \"x\", \"y\": [0.7], \"yaxis\": \"y\", \"type\": \"scatter\"}, {\"hovertemplate\": \"Geography=New Brunswick<br>Time=2017Q1<br>AverageMortgageAmount=%{x}<br>DelinquencyRate=%{y}<br>PopulationSize=%{marker.size}<extra></extra>\", \"ids\": [\"New Brunswick\"], \"legendgroup\": \"New Brunswick\", \"marker\": {\"color\": \"#ab63fa\", \"size\": [764617], \"sizemode\": \"area\", \"sizeref\": 36835.035, \"symbol\": \"circle\"}, \"mode\": \"markers\", \"name\": \"New Brunswick\", \"orientation\": \"v\", \"showlegend\": true, \"x\": [141196], \"xaxis\": \"x\", \"y\": [0.78], \"yaxis\": \"y\", \"type\": \"scatter\"}, {\"hovertemplate\": \"Geography=Qu\\u00e9bec<br>Time=2017Q1<br>AverageMortgageAmount=%{x}<br>DelinquencyRate=%{y}<br>PopulationSize=%{marker.size}<extra></extra>\", \"ids\": [\"Qu\\u00e9bec\"], \"legendgroup\": \"Qu\\u00e9bec\", \"marker\": {\"color\": \"#FFA15A\", \"size\": [8257450], \"sizemode\": \"area\", \"sizeref\": 36835.035, \"symbol\": \"circle\"}, \"mode\": \"markers\", \"name\": \"Qu\\u00e9bec\", \"orientation\": \"v\", \"showlegend\": true, \"x\": [171992], \"xaxis\": \"x\", \"y\": [0.41], \"yaxis\": \"y\", \"type\": \"scatter\"}, {\"hovertemplate\": \"Geography=Ontario<br>Time=2017Q1<br>AverageMortgageAmount=%{x}<br>DelinquencyRate=%{y}<br>PopulationSize=%{marker.size}<extra></extra>\", \"ids\": [\"Ontario\"], \"legendgroup\": \"Ontario\", \"marker\": {\"color\": \"#19d3f3\", \"size\": [13971785], \"sizemode\": \"area\", \"sizeref\": 36835.035, \"symbol\": \"circle\"}, \"mode\": \"markers\", \"name\": \"Ontario\", \"orientation\": \"v\", \"showlegend\": true, \"x\": [319009], \"xaxis\": \"x\", \"y\": [0.18], \"yaxis\": \"y\", \"type\": \"scatter\"}, {\"hovertemplate\": \"Geography=Manitoba<br>Time=2017Q1<br>AverageMortgageAmount=%{x}<br>DelinquencyRate=%{y}<br>PopulationSize=%{marker.size}<extra></extra>\", \"ids\": [\"Manitoba\"], \"legendgroup\": \"Manitoba\", \"marker\": {\"color\": \"#FF6692\", \"size\": [1324129], \"sizemode\": \"area\", \"sizeref\": 36835.035, \"symbol\": \"circle\"}, \"mode\": \"markers\", \"name\": \"Manitoba\", \"orientation\": \"v\", \"showlegend\": true, \"x\": [203999], \"xaxis\": \"x\", \"y\": [0.36], \"yaxis\": \"y\", \"type\": \"scatter\"}, {\"hovertemplate\": \"Geography=Saskatchewan<br>Time=2017Q1<br>AverageMortgageAmount=%{x}<br>DelinquencyRate=%{y}<br>PopulationSize=%{marker.size}<extra></extra>\", \"ids\": [\"Saskatchewan\"], \"legendgroup\": \"Saskatchewan\", \"marker\": {\"color\": \"#B6E880\", \"size\": [1143313], \"sizemode\": \"area\", \"sizeref\": 36835.035, \"symbol\": \"circle\"}, \"mode\": \"markers\", \"name\": \"Saskatchewan\", \"orientation\": \"v\", \"showlegend\": true, \"x\": [234786], \"xaxis\": \"x\", \"y\": [0.62], \"yaxis\": \"y\", \"type\": \"scatter\"}, {\"hovertemplate\": \"Geography=Alberta<br>Time=2017Q1<br>AverageMortgageAmount=%{x}<br>DelinquencyRate=%{y}<br>PopulationSize=%{marker.size}<extra></extra>\", \"ids\": [\"Alberta\"], \"legendgroup\": \"Alberta\", \"marker\": {\"color\": \"#FF97FF\", \"size\": [4217855], \"sizemode\": \"area\", \"sizeref\": 36835.035, \"symbol\": \"circle\"}, \"mode\": \"markers\", \"name\": \"Alberta\", \"orientation\": \"v\", \"showlegend\": true, \"x\": [301254], \"xaxis\": \"x\", \"y\": [0.54], \"yaxis\": \"y\", \"type\": \"scatter\"}, {\"hovertemplate\": \"Geography=British Columbia<br>Time=2017Q1<br>AverageMortgageAmount=%{x}<br>DelinquencyRate=%{y}<br>PopulationSize=%{marker.size}<extra></extra>\", \"ids\": [\"British Columbia\"], \"legendgroup\": \"British Columbia\", \"marker\": {\"color\": \"#FECB52\", \"size\": [4890848], \"sizemode\": \"area\", \"sizeref\": 36835.035, \"symbol\": \"circle\"}, \"mode\": \"markers\", \"name\": \"British Columbia\", \"orientation\": \"v\", \"showlegend\": true, \"x\": [358655], \"xaxis\": \"x\", \"y\": [0.23], \"yaxis\": \"y\", \"type\": \"scatter\"}], \"name\": \"2017Q1\"}, {\"data\": [{\"hovertemplate\": \"Geography=Newfoundland<br>Time=2017Q2<br>AverageMortgageAmount=%{x}<br>DelinquencyRate=%{y}<br>PopulationSize=%{marker.size}<extra></extra>\", \"ids\": [\"Newfoundland\"], \"legendgroup\": \"Newfoundland\", \"marker\": {\"color\": \"#636efa\", \"size\": [528544], \"sizemode\": \"area\", \"sizeref\": 36835.035, \"symbol\": \"circle\"}, \"mode\": \"markers\", \"name\": \"Newfoundland\", \"orientation\": \"v\", \"showlegend\": true, \"x\": [191412], \"xaxis\": \"x\", \"y\": [0.47], \"yaxis\": \"y\", \"type\": \"scatter\"}, {\"hovertemplate\": \"Geography=Prince Edward Island<br>Time=2017Q2<br>AverageMortgageAmount=%{x}<br>DelinquencyRate=%{y}<br>PopulationSize=%{marker.size}<extra></extra>\", \"ids\": [\"Prince Edward Island\"], \"legendgroup\": \"Prince Edward Island\", \"marker\": {\"color\": \"#EF553B\", \"size\": [148860], \"sizemode\": \"area\", \"sizeref\": 36835.035, \"symbol\": \"circle\"}, \"mode\": \"markers\", \"name\": \"Prince Edward Island\", \"orientation\": \"v\", \"showlegend\": true, \"x\": [174901], \"xaxis\": \"x\", \"y\": [0.55], \"yaxis\": \"y\", \"type\": \"scatter\"}, {\"hovertemplate\": \"Geography=Nova Scotia<br>Time=2017Q2<br>AverageMortgageAmount=%{x}<br>DelinquencyRate=%{y}<br>PopulationSize=%{marker.size}<extra></extra>\", \"ids\": [\"Nova Scotia\"], \"legendgroup\": \"Nova Scotia\", \"marker\": {\"color\": \"#00cc96\", \"size\": [947384], \"sizemode\": \"area\", \"sizeref\": 36835.035, \"symbol\": \"circle\"}, \"mode\": \"markers\", \"name\": \"Nova Scotia\", \"orientation\": \"v\", \"showlegend\": true, \"x\": [182526], \"xaxis\": \"x\", \"y\": [0.64], \"yaxis\": \"y\", \"type\": \"scatter\"}, {\"hovertemplate\": \"Geography=New Brunswick<br>Time=2017Q2<br>AverageMortgageAmount=%{x}<br>DelinquencyRate=%{y}<br>PopulationSize=%{marker.size}<extra></extra>\", \"ids\": [\"New Brunswick\"], \"legendgroup\": \"New Brunswick\", \"marker\": {\"color\": \"#ab63fa\", \"size\": [764813], \"sizemode\": \"area\", \"sizeref\": 36835.035, \"symbol\": \"circle\"}, \"mode\": \"markers\", \"name\": \"New Brunswick\", \"orientation\": \"v\", \"showlegend\": true, \"x\": [135748], \"xaxis\": \"x\", \"y\": [0.73], \"yaxis\": \"y\", \"type\": \"scatter\"}, {\"hovertemplate\": \"Geography=Qu\\u00e9bec<br>Time=2017Q2<br>AverageMortgageAmount=%{x}<br>DelinquencyRate=%{y}<br>PopulationSize=%{marker.size}<extra></extra>\", \"ids\": [\"Qu\\u00e9bec\"], \"legendgroup\": \"Qu\\u00e9bec\", \"marker\": {\"color\": \"#FFA15A\", \"size\": [8272894], \"sizemode\": \"area\", \"sizeref\": 36835.035, \"symbol\": \"circle\"}, \"mode\": \"markers\", \"name\": \"Qu\\u00e9bec\", \"orientation\": \"v\", \"showlegend\": true, \"x\": [171716], \"xaxis\": \"x\", \"y\": [0.4], \"yaxis\": \"y\", \"type\": \"scatter\"}, {\"hovertemplate\": \"Geography=Ontario<br>Time=2017Q2<br>AverageMortgageAmount=%{x}<br>DelinquencyRate=%{y}<br>PopulationSize=%{marker.size}<extra></extra>\", \"ids\": [\"Ontario\"], \"legendgroup\": \"Ontario\", \"marker\": {\"color\": \"#19d3f3\", \"size\": [14006386], \"sizemode\": \"area\", \"sizeref\": 36835.035, \"symbol\": \"circle\"}, \"mode\": \"markers\", \"name\": \"Ontario\", \"orientation\": \"v\", \"showlegend\": true, \"x\": [326645], \"xaxis\": \"x\", \"y\": [0.16], \"yaxis\": \"y\", \"type\": \"scatter\"}, {\"hovertemplate\": \"Geography=Manitoba<br>Time=2017Q2<br>AverageMortgageAmount=%{x}<br>DelinquencyRate=%{y}<br>PopulationSize=%{marker.size}<extra></extra>\", \"ids\": [\"Manitoba\"], \"legendgroup\": \"Manitoba\", \"marker\": {\"color\": \"#FF6692\", \"size\": [1328412], \"sizemode\": \"area\", \"sizeref\": 36835.035, \"symbol\": \"circle\"}, \"mode\": \"markers\", \"name\": \"Manitoba\", \"orientation\": \"v\", \"showlegend\": true, \"x\": [205085], \"xaxis\": \"x\", \"y\": [0.35], \"yaxis\": \"y\", \"type\": \"scatter\"}, {\"hovertemplate\": \"Geography=Saskatchewan<br>Time=2017Q2<br>AverageMortgageAmount=%{x}<br>DelinquencyRate=%{y}<br>PopulationSize=%{marker.size}<extra></extra>\", \"ids\": [\"Saskatchewan\"], \"legendgroup\": \"Saskatchewan\", \"marker\": {\"color\": \"#B6E880\", \"size\": [1146218], \"sizemode\": \"area\", \"sizeref\": 36835.035, \"symbol\": \"circle\"}, \"mode\": \"markers\", \"name\": \"Saskatchewan\", \"orientation\": \"v\", \"showlegend\": true, \"x\": [233545], \"xaxis\": \"x\", \"y\": [0.66], \"yaxis\": \"y\", \"type\": \"scatter\"}, {\"hovertemplate\": \"Geography=Alberta<br>Time=2017Q2<br>AverageMortgageAmount=%{x}<br>DelinquencyRate=%{y}<br>PopulationSize=%{marker.size}<extra></extra>\", \"ids\": [\"Alberta\"], \"legendgroup\": \"Alberta\", \"marker\": {\"color\": \"#FF97FF\", \"size\": [4227969], \"sizemode\": \"area\", \"sizeref\": 36835.035, \"symbol\": \"circle\"}, \"mode\": \"markers\", \"name\": \"Alberta\", \"orientation\": \"v\", \"showlegend\": true, \"x\": [300115], \"xaxis\": \"x\", \"y\": [0.52], \"yaxis\": \"y\", \"type\": \"scatter\"}, {\"hovertemplate\": \"Geography=British Columbia<br>Time=2017Q2<br>AverageMortgageAmount=%{x}<br>DelinquencyRate=%{y}<br>PopulationSize=%{marker.size}<extra></extra>\", \"ids\": [\"British Columbia\"], \"legendgroup\": \"British Columbia\", \"marker\": {\"color\": \"#FECB52\", \"size\": [4905210], \"sizemode\": \"area\", \"sizeref\": 36835.035, \"symbol\": \"circle\"}, \"mode\": \"markers\", \"name\": \"British Columbia\", \"orientation\": \"v\", \"showlegend\": true, \"x\": [369174], \"xaxis\": \"x\", \"y\": [0.2], \"yaxis\": \"y\", \"type\": \"scatter\"}], \"name\": \"2017Q2\"}, {\"data\": [{\"hovertemplate\": \"Geography=Newfoundland<br>Time=2017Q3<br>AverageMortgageAmount=%{x}<br>DelinquencyRate=%{y}<br>PopulationSize=%{marker.size}<extra></extra>\", \"ids\": [\"Newfoundland\"], \"legendgroup\": \"Newfoundland\", \"marker\": {\"color\": \"#636efa\", \"size\": [528249], \"sizemode\": \"area\", \"sizeref\": 36835.035, \"symbol\": \"circle\"}, \"mode\": \"markers\", \"name\": \"Newfoundland\", \"orientation\": \"v\", \"showlegend\": true, \"x\": [200378], \"xaxis\": \"x\", \"y\": [0.46], \"yaxis\": \"y\", \"type\": \"scatter\"}, {\"hovertemplate\": \"Geography=Prince Edward Island<br>Time=2017Q3<br>AverageMortgageAmount=%{x}<br>DelinquencyRate=%{y}<br>PopulationSize=%{marker.size}<extra></extra>\", \"ids\": [\"Prince Edward Island\"], \"legendgroup\": \"Prince Edward Island\", \"marker\": {\"color\": \"#EF553B\", \"size\": [150402], \"sizemode\": \"area\", \"sizeref\": 36835.035, \"symbol\": \"circle\"}, \"mode\": \"markers\", \"name\": \"Prince Edward Island\", \"orientation\": \"v\", \"showlegend\": true, \"x\": [176919], \"xaxis\": \"x\", \"y\": [0.54], \"yaxis\": \"y\", \"type\": \"scatter\"}, {\"hovertemplate\": \"Geography=Nova Scotia<br>Time=2017Q3<br>AverageMortgageAmount=%{x}<br>DelinquencyRate=%{y}<br>PopulationSize=%{marker.size}<extra></extra>\", \"ids\": [\"Nova Scotia\"], \"legendgroup\": \"Nova Scotia\", \"marker\": {\"color\": \"#00cc96\", \"size\": [950108], \"sizemode\": \"area\", \"sizeref\": 36835.035, \"symbol\": \"circle\"}, \"mode\": \"markers\", \"name\": \"Nova Scotia\", \"orientation\": \"v\", \"showlegend\": true, \"x\": [194802], \"xaxis\": \"x\", \"y\": [0.6], \"yaxis\": \"y\", \"type\": \"scatter\"}, {\"hovertemplate\": \"Geography=New Brunswick<br>Time=2017Q3<br>AverageMortgageAmount=%{x}<br>DelinquencyRate=%{y}<br>PopulationSize=%{marker.size}<extra></extra>\", \"ids\": [\"New Brunswick\"], \"legendgroup\": \"New Brunswick\", \"marker\": {\"color\": \"#ab63fa\", \"size\": [766621], \"sizemode\": \"area\", \"sizeref\": 36835.035, \"symbol\": \"circle\"}, \"mode\": \"markers\", \"name\": \"New Brunswick\", \"orientation\": \"v\", \"showlegend\": true, \"x\": [147934], \"xaxis\": \"x\", \"y\": [0.71], \"yaxis\": \"y\", \"type\": \"scatter\"}, {\"hovertemplate\": \"Geography=Qu\\u00e9bec<br>Time=2017Q3<br>AverageMortgageAmount=%{x}<br>DelinquencyRate=%{y}<br>PopulationSize=%{marker.size}<extra></extra>\", \"ids\": [\"Qu\\u00e9bec\"], \"legendgroup\": \"Qu\\u00e9bec\", \"marker\": {\"color\": \"#FFA15A\", \"size\": [8302063], \"sizemode\": \"area\", \"sizeref\": 36835.035, \"symbol\": \"circle\"}, \"mode\": \"markers\", \"name\": \"Qu\\u00e9bec\", \"orientation\": \"v\", \"showlegend\": true, \"x\": [177306], \"xaxis\": \"x\", \"y\": [0.37], \"yaxis\": \"y\", \"type\": \"scatter\"}, {\"hovertemplate\": \"Geography=Ontario<br>Time=2017Q3<br>AverageMortgageAmount=%{x}<br>DelinquencyRate=%{y}<br>PopulationSize=%{marker.size}<extra></extra>\", \"ids\": [\"Ontario\"], \"legendgroup\": \"Ontario\", \"marker\": {\"color\": \"#19d3f3\", \"size\": [14070141], \"sizemode\": \"area\", \"sizeref\": 36835.035, \"symbol\": \"circle\"}, \"mode\": \"markers\", \"name\": \"Ontario\", \"orientation\": \"v\", \"showlegend\": true, \"x\": [338561], \"xaxis\": \"x\", \"y\": [0.16], \"yaxis\": \"y\", \"type\": \"scatter\"}, {\"hovertemplate\": \"Geography=Manitoba<br>Time=2017Q3<br>AverageMortgageAmount=%{x}<br>DelinquencyRate=%{y}<br>PopulationSize=%{marker.size}<extra></extra>\", \"ids\": [\"Manitoba\"], \"legendgroup\": \"Manitoba\", \"marker\": {\"color\": \"#FF6692\", \"size\": [1334790], \"sizemode\": \"area\", \"sizeref\": 36835.035, \"symbol\": \"circle\"}, \"mode\": \"markers\", \"name\": \"Manitoba\", \"orientation\": \"v\", \"showlegend\": true, \"x\": [216750], \"xaxis\": \"x\", \"y\": [0.33], \"yaxis\": \"y\", \"type\": \"scatter\"}, {\"hovertemplate\": \"Geography=Saskatchewan<br>Time=2017Q3<br>AverageMortgageAmount=%{x}<br>DelinquencyRate=%{y}<br>PopulationSize=%{marker.size}<extra></extra>\", \"ids\": [\"Saskatchewan\"], \"legendgroup\": \"Saskatchewan\", \"marker\": {\"color\": \"#B6E880\", \"size\": [1150331], \"sizemode\": \"area\", \"sizeref\": 36835.035, \"symbol\": \"circle\"}, \"mode\": \"markers\", \"name\": \"Saskatchewan\", \"orientation\": \"v\", \"showlegend\": true, \"x\": [238533], \"xaxis\": \"x\", \"y\": [0.65], \"yaxis\": \"y\", \"type\": \"scatter\"}, {\"hovertemplate\": \"Geography=Alberta<br>Time=2017Q3<br>AverageMortgageAmount=%{x}<br>DelinquencyRate=%{y}<br>PopulationSize=%{marker.size}<extra></extra>\", \"ids\": [\"Alberta\"], \"legendgroup\": \"Alberta\", \"marker\": {\"color\": \"#FF97FF\", \"size\": [4241100], \"sizemode\": \"area\", \"sizeref\": 36835.035, \"symbol\": \"circle\"}, \"mode\": \"markers\", \"name\": \"Alberta\", \"orientation\": \"v\", \"showlegend\": true, \"x\": [307837], \"xaxis\": \"x\", \"y\": [0.51], \"yaxis\": \"y\", \"type\": \"scatter\"}, {\"hovertemplate\": \"Geography=British Columbia<br>Time=2017Q3<br>AverageMortgageAmount=%{x}<br>DelinquencyRate=%{y}<br>PopulationSize=%{marker.size}<extra></extra>\", \"ids\": [\"British Columbia\"], \"legendgroup\": \"British Columbia\", \"marker\": {\"color\": \"#FECB52\", \"size\": [4929384], \"sizemode\": \"area\", \"sizeref\": 36835.035, \"symbol\": \"circle\"}, \"mode\": \"markers\", \"name\": \"British Columbia\", \"orientation\": \"v\", \"showlegend\": true, \"x\": [389430], \"xaxis\": \"x\", \"y\": [0.18], \"yaxis\": \"y\", \"type\": \"scatter\"}], \"name\": \"2017Q3\"}, {\"data\": [{\"hovertemplate\": \"Geography=Newfoundland<br>Time=2017Q4<br>AverageMortgageAmount=%{x}<br>DelinquencyRate=%{y}<br>PopulationSize=%{marker.size}<extra></extra>\", \"ids\": [\"Newfoundland\"], \"legendgroup\": \"Newfoundland\", \"marker\": {\"color\": \"#636efa\", \"size\": [528288], \"sizemode\": \"area\", \"sizeref\": 36835.035, \"symbol\": \"circle\"}, \"mode\": \"markers\", \"name\": \"Newfoundland\", \"orientation\": \"v\", \"showlegend\": true, \"x\": [193619], \"xaxis\": \"x\", \"y\": [0.52], \"yaxis\": \"y\", \"type\": \"scatter\"}, {\"hovertemplate\": \"Geography=Prince Edward Island<br>Time=2017Q4<br>AverageMortgageAmount=%{x}<br>DelinquencyRate=%{y}<br>PopulationSize=%{marker.size}<extra></extra>\", \"ids\": [\"Prince Edward Island\"], \"legendgroup\": \"Prince Edward Island\", \"marker\": {\"color\": \"#EF553B\", \"size\": [151376], \"sizemode\": \"area\", \"sizeref\": 36835.035, \"symbol\": \"circle\"}, \"mode\": \"markers\", \"name\": \"Prince Edward Island\", \"orientation\": \"v\", \"showlegend\": true, \"x\": [175523], \"xaxis\": \"x\", \"y\": [0.44], \"yaxis\": \"y\", \"type\": \"scatter\"}, {\"hovertemplate\": \"Geography=Nova Scotia<br>Time=2017Q4<br>AverageMortgageAmount=%{x}<br>DelinquencyRate=%{y}<br>PopulationSize=%{marker.size}<extra></extra>\", \"ids\": [\"Nova Scotia\"], \"legendgroup\": \"Nova Scotia\", \"marker\": {\"color\": \"#00cc96\", \"size\": [953683], \"sizemode\": \"area\", \"sizeref\": 36835.035, \"symbol\": \"circle\"}, \"mode\": \"markers\", \"name\": \"Nova Scotia\", \"orientation\": \"v\", \"showlegend\": true, \"x\": [188559], \"xaxis\": \"x\", \"y\": [0.58], \"yaxis\": \"y\", \"type\": \"scatter\"}, {\"hovertemplate\": \"Geography=New Brunswick<br>Time=2017Q4<br>AverageMortgageAmount=%{x}<br>DelinquencyRate=%{y}<br>PopulationSize=%{marker.size}<extra></extra>\", \"ids\": [\"New Brunswick\"], \"legendgroup\": \"New Brunswick\", \"marker\": {\"color\": \"#ab63fa\", \"size\": [767935], \"sizemode\": \"area\", \"sizeref\": 36835.035, \"symbol\": \"circle\"}, \"mode\": \"markers\", \"name\": \"New Brunswick\", \"orientation\": \"v\", \"showlegend\": true, \"x\": [142799], \"xaxis\": \"x\", \"y\": [0.66], \"yaxis\": \"y\", \"type\": \"scatter\"}, {\"hovertemplate\": \"Geography=Qu\\u00e9bec<br>Time=2017Q4<br>AverageMortgageAmount=%{x}<br>DelinquencyRate=%{y}<br>PopulationSize=%{marker.size}<extra></extra>\", \"ids\": [\"Qu\\u00e9bec\"], \"legendgroup\": \"Qu\\u00e9bec\", \"marker\": {\"color\": \"#FFA15A\", \"size\": [8336460], \"sizemode\": \"area\", \"sizeref\": 36835.035, \"symbol\": \"circle\"}, \"mode\": \"markers\", \"name\": \"Qu\\u00e9bec\", \"orientation\": \"v\", \"showlegend\": true, \"x\": [173182], \"xaxis\": \"x\", \"y\": [0.34], \"yaxis\": \"y\", \"type\": \"scatter\"}, {\"hovertemplate\": \"Geography=Ontario<br>Time=2017Q4<br>AverageMortgageAmount=%{x}<br>DelinquencyRate=%{y}<br>PopulationSize=%{marker.size}<extra></extra>\", \"ids\": [\"Ontario\"], \"legendgroup\": \"Ontario\", \"marker\": {\"color\": \"#19d3f3\", \"size\": [14150783], \"sizemode\": \"area\", \"sizeref\": 36835.035, \"symbol\": \"circle\"}, \"mode\": \"markers\", \"name\": \"Ontario\", \"orientation\": \"v\", \"showlegend\": true, \"x\": [323821], \"xaxis\": \"x\", \"y\": [0.15], \"yaxis\": \"y\", \"type\": \"scatter\"}, {\"hovertemplate\": \"Geography=Manitoba<br>Time=2017Q4<br>AverageMortgageAmount=%{x}<br>DelinquencyRate=%{y}<br>PopulationSize=%{marker.size}<extra></extra>\", \"ids\": [\"Manitoba\"], \"legendgroup\": \"Manitoba\", \"marker\": {\"color\": \"#FF6692\", \"size\": [1340565], \"sizemode\": \"area\", \"sizeref\": 36835.035, \"symbol\": \"circle\"}, \"mode\": \"markers\", \"name\": \"Manitoba\", \"orientation\": \"v\", \"showlegend\": true, \"x\": [217136], \"xaxis\": \"x\", \"y\": [0.3], \"yaxis\": \"y\", \"type\": \"scatter\"}, {\"hovertemplate\": \"Geography=Saskatchewan<br>Time=2017Q4<br>AverageMortgageAmount=%{x}<br>DelinquencyRate=%{y}<br>PopulationSize=%{marker.size}<extra></extra>\", \"ids\": [\"Saskatchewan\"], \"legendgroup\": \"Saskatchewan\", \"marker\": {\"color\": \"#B6E880\", \"size\": [1154755], \"sizemode\": \"area\", \"sizeref\": 36835.035, \"symbol\": \"circle\"}, \"mode\": \"markers\", \"name\": \"Saskatchewan\", \"orientation\": \"v\", \"showlegend\": true, \"x\": [234340], \"xaxis\": \"x\", \"y\": [0.66], \"yaxis\": \"y\", \"type\": \"scatter\"}, {\"hovertemplate\": \"Geography=Alberta<br>Time=2017Q4<br>AverageMortgageAmount=%{x}<br>DelinquencyRate=%{y}<br>PopulationSize=%{marker.size}<extra></extra>\", \"ids\": [\"Alberta\"], \"legendgroup\": \"Alberta\", \"marker\": {\"color\": \"#FF97FF\", \"size\": [4258195], \"sizemode\": \"area\", \"sizeref\": 36835.035, \"symbol\": \"circle\"}, \"mode\": \"markers\", \"name\": \"Alberta\", \"orientation\": \"v\", \"showlegend\": true, \"x\": [307662], \"xaxis\": \"x\", \"y\": [0.5], \"yaxis\": \"y\", \"type\": \"scatter\"}, {\"hovertemplate\": \"Geography=British Columbia<br>Time=2017Q4<br>AverageMortgageAmount=%{x}<br>DelinquencyRate=%{y}<br>PopulationSize=%{marker.size}<extra></extra>\", \"ids\": [\"British Columbia\"], \"legendgroup\": \"British Columbia\", \"marker\": {\"color\": \"#FECB52\", \"size\": [4956550], \"sizemode\": \"area\", \"sizeref\": 36835.035, \"symbol\": \"circle\"}, \"mode\": \"markers\", \"name\": \"British Columbia\", \"orientation\": \"v\", \"showlegend\": true, \"x\": [381223], \"xaxis\": \"x\", \"y\": [0.18], \"yaxis\": \"y\", \"type\": \"scatter\"}], \"name\": \"2017Q4\"}, {\"data\": [{\"hovertemplate\": \"Geography=Newfoundland<br>Time=2018Q1<br>AverageMortgageAmount=%{x}<br>DelinquencyRate=%{y}<br>PopulationSize=%{marker.size}<extra></extra>\", \"ids\": [\"Newfoundland\"], \"legendgroup\": \"Newfoundland\", \"marker\": {\"color\": \"#636efa\", \"size\": [527544], \"sizemode\": \"area\", \"sizeref\": 36835.035, \"symbol\": \"circle\"}, \"mode\": \"markers\", \"name\": \"Newfoundland\", \"orientation\": \"v\", \"showlegend\": true, \"x\": [196431], \"xaxis\": \"x\", \"y\": [0.56], \"yaxis\": \"y\", \"type\": \"scatter\"}, {\"hovertemplate\": \"Geography=Prince Edward Island<br>Time=2018Q1<br>AverageMortgageAmount=%{x}<br>DelinquencyRate=%{y}<br>PopulationSize=%{marker.size}<extra></extra>\", \"ids\": [\"Prince Edward Island\"], \"legendgroup\": \"Prince Edward Island\", \"marker\": {\"color\": \"#EF553B\", \"size\": [151516], \"sizemode\": \"area\", \"sizeref\": 36835.035, \"symbol\": \"circle\"}, \"mode\": \"markers\", \"name\": \"Prince Edward Island\", \"orientation\": \"v\", \"showlegend\": true, \"x\": [179179], \"xaxis\": \"x\", \"y\": [0.5], \"yaxis\": \"y\", \"type\": \"scatter\"}, {\"hovertemplate\": \"Geography=Nova Scotia<br>Time=2018Q1<br>AverageMortgageAmount=%{x}<br>DelinquencyRate=%{y}<br>PopulationSize=%{marker.size}<extra></extra>\", \"ids\": [\"Nova Scotia\"], \"legendgroup\": \"Nova Scotia\", \"marker\": {\"color\": \"#00cc96\", \"size\": [953838], \"sizemode\": \"area\", \"sizeref\": 36835.035, \"symbol\": \"circle\"}, \"mode\": \"markers\", \"name\": \"Nova Scotia\", \"orientation\": \"v\", \"showlegend\": true, \"x\": [185858], \"xaxis\": \"x\", \"y\": [0.59], \"yaxis\": \"y\", \"type\": \"scatter\"}, {\"hovertemplate\": \"Geography=New Brunswick<br>Time=2018Q1<br>AverageMortgageAmount=%{x}<br>DelinquencyRate=%{y}<br>PopulationSize=%{marker.size}<extra></extra>\", \"ids\": [\"New Brunswick\"], \"legendgroup\": \"New Brunswick\", \"marker\": {\"color\": \"#ab63fa\", \"size\": [768005], \"sizemode\": \"area\", \"sizeref\": 36835.035, \"symbol\": \"circle\"}, \"mode\": \"markers\", \"name\": \"New Brunswick\", \"orientation\": \"v\", \"showlegend\": true, \"x\": [139711], \"xaxis\": \"x\", \"y\": [0.65], \"yaxis\": \"y\", \"type\": \"scatter\"}, {\"hovertemplate\": \"Geography=Qu\\u00e9bec<br>Time=2018Q1<br>AverageMortgageAmount=%{x}<br>DelinquencyRate=%{y}<br>PopulationSize=%{marker.size}<extra></extra>\", \"ids\": [\"Qu\\u00e9bec\"], \"legendgroup\": \"Qu\\u00e9bec\", \"marker\": {\"color\": \"#FFA15A\", \"size\": [8350601], \"sizemode\": \"area\", \"sizeref\": 36835.035, \"symbol\": \"circle\"}, \"mode\": \"markers\", \"name\": \"Qu\\u00e9bec\", \"orientation\": \"v\", \"showlegend\": true, \"x\": [175297], \"xaxis\": \"x\", \"y\": [0.34], \"yaxis\": \"y\", \"type\": \"scatter\"}, {\"hovertemplate\": \"Geography=Ontario<br>Time=2018Q1<br>AverageMortgageAmount=%{x}<br>DelinquencyRate=%{y}<br>PopulationSize=%{marker.size}<extra></extra>\", \"ids\": [\"Ontario\"], \"legendgroup\": \"Ontario\", \"marker\": {\"color\": \"#19d3f3\", \"size\": [14186830], \"sizemode\": \"area\", \"sizeref\": 36835.035, \"symbol\": \"circle\"}, \"mode\": \"markers\", \"name\": \"Ontario\", \"orientation\": \"v\", \"showlegend\": true, \"x\": [322179], \"xaxis\": \"x\", \"y\": [0.15], \"yaxis\": \"y\", \"type\": \"scatter\"}, {\"hovertemplate\": \"Geography=Manitoba<br>Time=2018Q1<br>AverageMortgageAmount=%{x}<br>DelinquencyRate=%{y}<br>PopulationSize=%{marker.size}<extra></extra>\", \"ids\": [\"Manitoba\"], \"legendgroup\": \"Manitoba\", \"marker\": {\"color\": \"#FF6692\", \"size\": [1344418], \"sizemode\": \"area\", \"sizeref\": 36835.035, \"symbol\": \"circle\"}, \"mode\": \"markers\", \"name\": \"Manitoba\", \"orientation\": \"v\", \"showlegend\": true, \"x\": [207988], \"xaxis\": \"x\", \"y\": [0.3], \"yaxis\": \"y\", \"type\": \"scatter\"}, {\"hovertemplate\": \"Geography=Saskatchewan<br>Time=2018Q1<br>AverageMortgageAmount=%{x}<br>DelinquencyRate=%{y}<br>PopulationSize=%{marker.size}<extra></extra>\", \"ids\": [\"Saskatchewan\"], \"legendgroup\": \"Saskatchewan\", \"marker\": {\"color\": \"#B6E880\", \"size\": [1156659], \"sizemode\": \"area\", \"sizeref\": 36835.035, \"symbol\": \"circle\"}, \"mode\": \"markers\", \"name\": \"Saskatchewan\", \"orientation\": \"v\", \"showlegend\": true, \"x\": [230702], \"xaxis\": \"x\", \"y\": [0.66], \"yaxis\": \"y\", \"type\": \"scatter\"}, {\"hovertemplate\": \"Geography=Alberta<br>Time=2018Q1<br>AverageMortgageAmount=%{x}<br>DelinquencyRate=%{y}<br>PopulationSize=%{marker.size}<extra></extra>\", \"ids\": [\"Alberta\"], \"legendgroup\": \"Alberta\", \"marker\": {\"color\": \"#FF97FF\", \"size\": [4268853], \"sizemode\": \"area\", \"sizeref\": 36835.035, \"symbol\": \"circle\"}, \"mode\": \"markers\", \"name\": \"Alberta\", \"orientation\": \"v\", \"showlegend\": true, \"x\": [302814], \"xaxis\": \"x\", \"y\": [0.5], \"yaxis\": \"y\", \"type\": \"scatter\"}, {\"hovertemplate\": \"Geography=British Columbia<br>Time=2018Q1<br>AverageMortgageAmount=%{x}<br>DelinquencyRate=%{y}<br>PopulationSize=%{marker.size}<extra></extra>\", \"ids\": [\"British Columbia\"], \"legendgroup\": \"British Columbia\", \"marker\": {\"color\": \"#FECB52\", \"size\": [4967421], \"sizemode\": \"area\", \"sizeref\": 36835.035, \"symbol\": \"circle\"}, \"mode\": \"markers\", \"name\": \"British Columbia\", \"orientation\": \"v\", \"showlegend\": true, \"x\": [384794], \"xaxis\": \"x\", \"y\": [0.17], \"yaxis\": \"y\", \"type\": \"scatter\"}], \"name\": \"2018Q1\"}, {\"data\": [{\"hovertemplate\": \"Geography=Newfoundland<br>Time=2018Q2<br>AverageMortgageAmount=%{x}<br>DelinquencyRate=%{y}<br>PopulationSize=%{marker.size}<extra></extra>\", \"ids\": [\"Newfoundland\"], \"legendgroup\": \"Newfoundland\", \"marker\": {\"color\": \"#636efa\", \"size\": [526395], \"sizemode\": \"area\", \"sizeref\": 36835.035, \"symbol\": \"circle\"}, \"mode\": \"markers\", \"name\": \"Newfoundland\", \"orientation\": \"v\", \"showlegend\": true, \"x\": [192252], \"xaxis\": \"x\", \"y\": [0.6], \"yaxis\": \"y\", \"type\": \"scatter\"}, {\"hovertemplate\": \"Geography=Prince Edward Island<br>Time=2018Q2<br>AverageMortgageAmount=%{x}<br>DelinquencyRate=%{y}<br>PopulationSize=%{marker.size}<extra></extra>\", \"ids\": [\"Prince Edward Island\"], \"legendgroup\": \"Prince Edward Island\", \"marker\": {\"color\": \"#EF553B\", \"size\": [152039], \"sizemode\": \"area\", \"sizeref\": 36835.035, \"symbol\": \"circle\"}, \"mode\": \"markers\", \"name\": \"Prince Edward Island\", \"orientation\": \"v\", \"showlegend\": true, \"x\": [182114], \"xaxis\": \"x\", \"y\": [0.45], \"yaxis\": \"y\", \"type\": \"scatter\"}, {\"hovertemplate\": \"Geography=Nova Scotia<br>Time=2018Q2<br>AverageMortgageAmount=%{x}<br>DelinquencyRate=%{y}<br>PopulationSize=%{marker.size}<extra></extra>\", \"ids\": [\"Nova Scotia\"], \"legendgroup\": \"Nova Scotia\", \"marker\": {\"color\": \"#00cc96\", \"size\": [954618], \"sizemode\": \"area\", \"sizeref\": 36835.035, \"symbol\": \"circle\"}, \"mode\": \"markers\", \"name\": \"Nova Scotia\", \"orientation\": \"v\", \"showlegend\": true, \"x\": [179407], \"xaxis\": \"x\", \"y\": [0.54], \"yaxis\": \"y\", \"type\": \"scatter\"}, {\"hovertemplate\": \"Geography=New Brunswick<br>Time=2018Q2<br>AverageMortgageAmount=%{x}<br>DelinquencyRate=%{y}<br>PopulationSize=%{marker.size}<extra></extra>\", \"ids\": [\"New Brunswick\"], \"legendgroup\": \"New Brunswick\", \"marker\": {\"color\": \"#ab63fa\", \"size\": [768522], \"sizemode\": \"area\", \"sizeref\": 36835.035, \"symbol\": \"circle\"}, \"mode\": \"markers\", \"name\": \"New Brunswick\", \"orientation\": \"v\", \"showlegend\": true, \"x\": [139750], \"xaxis\": \"x\", \"y\": [0.59], \"yaxis\": \"y\", \"type\": \"scatter\"}, {\"hovertemplate\": \"Geography=Qu\\u00e9bec<br>Time=2018Q2<br>AverageMortgageAmount=%{x}<br>DelinquencyRate=%{y}<br>PopulationSize=%{marker.size}<extra></extra>\", \"ids\": [\"Qu\\u00e9bec\"], \"legendgroup\": \"Qu\\u00e9bec\", \"marker\": {\"color\": \"#FFA15A\", \"size\": [8367551], \"sizemode\": \"area\", \"sizeref\": 36835.035, \"symbol\": \"circle\"}, \"mode\": \"markers\", \"name\": \"Qu\\u00e9bec\", \"orientation\": \"v\", \"showlegend\": true, \"x\": [183507], \"xaxis\": \"x\", \"y\": [0.35], \"yaxis\": \"y\", \"type\": \"scatter\"}, {\"hovertemplate\": \"Geography=Ontario<br>Time=2018Q2<br>AverageMortgageAmount=%{x}<br>DelinquencyRate=%{y}<br>PopulationSize=%{marker.size}<extra></extra>\", \"ids\": [\"Ontario\"], \"legendgroup\": \"Ontario\", \"marker\": {\"color\": \"#19d3f3\", \"size\": [14235643], \"sizemode\": \"area\", \"sizeref\": 36835.035, \"symbol\": \"circle\"}, \"mode\": \"markers\", \"name\": \"Ontario\", \"orientation\": \"v\", \"showlegend\": true, \"x\": [315576], \"xaxis\": \"x\", \"y\": [0.14], \"yaxis\": \"y\", \"type\": \"scatter\"}, {\"hovertemplate\": \"Geography=Manitoba<br>Time=2018Q2<br>AverageMortgageAmount=%{x}<br>DelinquencyRate=%{y}<br>PopulationSize=%{marker.size}<extra></extra>\", \"ids\": [\"Manitoba\"], \"legendgroup\": \"Manitoba\", \"marker\": {\"color\": \"#FF6692\", \"size\": [1347055], \"sizemode\": \"area\", \"sizeref\": 36835.035, \"symbol\": \"circle\"}, \"mode\": \"markers\", \"name\": \"Manitoba\", \"orientation\": \"v\", \"showlegend\": true, \"x\": [207436], \"xaxis\": \"x\", \"y\": [0.31], \"yaxis\": \"y\", \"type\": \"scatter\"}, {\"hovertemplate\": \"Geography=Saskatchewan<br>Time=2018Q2<br>AverageMortgageAmount=%{x}<br>DelinquencyRate=%{y}<br>PopulationSize=%{marker.size}<extra></extra>\", \"ids\": [\"Saskatchewan\"], \"legendgroup\": \"Saskatchewan\", \"marker\": {\"color\": \"#B6E880\", \"size\": [1158451], \"sizemode\": \"area\", \"sizeref\": 36835.035, \"symbol\": \"circle\"}, \"mode\": \"markers\", \"name\": \"Saskatchewan\", \"orientation\": \"v\", \"showlegend\": true, \"x\": [229851], \"xaxis\": \"x\", \"y\": [0.67], \"yaxis\": \"y\", \"type\": \"scatter\"}, {\"hovertemplate\": \"Geography=Alberta<br>Time=2018Q2<br>AverageMortgageAmount=%{x}<br>DelinquencyRate=%{y}<br>PopulationSize=%{marker.size}<extra></extra>\", \"ids\": [\"Alberta\"], \"legendgroup\": \"Alberta\", \"marker\": {\"color\": \"#FF97FF\", \"size\": [4281706], \"sizemode\": \"area\", \"sizeref\": 36835.035, \"symbol\": \"circle\"}, \"mode\": \"markers\", \"name\": \"Alberta\", \"orientation\": \"v\", \"showlegend\": true, \"x\": [302116], \"xaxis\": \"x\", \"y\": [0.46], \"yaxis\": \"y\", \"type\": \"scatter\"}, {\"hovertemplate\": \"Geography=British Columbia<br>Time=2018Q2<br>AverageMortgageAmount=%{x}<br>DelinquencyRate=%{y}<br>PopulationSize=%{marker.size}<extra></extra>\", \"ids\": [\"British Columbia\"], \"legendgroup\": \"British Columbia\", \"marker\": {\"color\": \"#FECB52\", \"size\": [4983183], \"sizemode\": \"area\", \"sizeref\": 36835.035, \"symbol\": \"circle\"}, \"mode\": \"markers\", \"name\": \"British Columbia\", \"orientation\": \"v\", \"showlegend\": true, \"x\": [371860], \"xaxis\": \"x\", \"y\": [0.17], \"yaxis\": \"y\", \"type\": \"scatter\"}], \"name\": \"2018Q2\"}, {\"data\": [{\"hovertemplate\": \"Geography=Newfoundland<br>Time=2018Q3<br>AverageMortgageAmount=%{x}<br>DelinquencyRate=%{y}<br>PopulationSize=%{marker.size}<extra></extra>\", \"ids\": [\"Newfoundland\"], \"legendgroup\": \"Newfoundland\", \"marker\": {\"color\": \"#636efa\", \"size\": [525560], \"sizemode\": \"area\", \"sizeref\": 36835.035, \"symbol\": \"circle\"}, \"mode\": \"markers\", \"name\": \"Newfoundland\", \"orientation\": \"v\", \"showlegend\": true, \"x\": [192106], \"xaxis\": \"x\", \"y\": [0.6], \"yaxis\": \"y\", \"type\": \"scatter\"}, {\"hovertemplate\": \"Geography=Prince Edward Island<br>Time=2018Q3<br>AverageMortgageAmount=%{x}<br>DelinquencyRate=%{y}<br>PopulationSize=%{marker.size}<extra></extra>\", \"ids\": [\"Prince Edward Island\"], \"legendgroup\": \"Prince Edward Island\", \"marker\": {\"color\": \"#EF553B\", \"size\": [153396], \"sizemode\": \"area\", \"sizeref\": 36835.035, \"symbol\": \"circle\"}, \"mode\": \"markers\", \"name\": \"Prince Edward Island\", \"orientation\": \"v\", \"showlegend\": true, \"x\": [181967], \"xaxis\": \"x\", \"y\": [0.43], \"yaxis\": \"y\", \"type\": \"scatter\"}, {\"hovertemplate\": \"Geography=Nova Scotia<br>Time=2018Q3<br>AverageMortgageAmount=%{x}<br>DelinquencyRate=%{y}<br>PopulationSize=%{marker.size}<extra></extra>\", \"ids\": [\"Nova Scotia\"], \"legendgroup\": \"Nova Scotia\", \"marker\": {\"color\": \"#00cc96\", \"size\": [958406], \"sizemode\": \"area\", \"sizeref\": 36835.035, \"symbol\": \"circle\"}, \"mode\": \"markers\", \"name\": \"Nova Scotia\", \"orientation\": \"v\", \"showlegend\": true, \"x\": [190443], \"xaxis\": \"x\", \"y\": [0.52], \"yaxis\": \"y\", \"type\": \"scatter\"}, {\"hovertemplate\": \"Geography=New Brunswick<br>Time=2018Q3<br>AverageMortgageAmount=%{x}<br>DelinquencyRate=%{y}<br>PopulationSize=%{marker.size}<extra></extra>\", \"ids\": [\"New Brunswick\"], \"legendgroup\": \"New Brunswick\", \"marker\": {\"color\": \"#ab63fa\", \"size\": [770301], \"sizemode\": \"area\", \"sizeref\": 36835.035, \"symbol\": \"circle\"}, \"mode\": \"markers\", \"name\": \"New Brunswick\", \"orientation\": \"v\", \"showlegend\": true, \"x\": [150353], \"xaxis\": \"x\", \"y\": [0.58], \"yaxis\": \"y\", \"type\": \"scatter\"}, {\"hovertemplate\": \"Geography=Qu\\u00e9bec<br>Time=2018Q3<br>AverageMortgageAmount=%{x}<br>DelinquencyRate=%{y}<br>PopulationSize=%{marker.size}<extra></extra>\", \"ids\": [\"Qu\\u00e9bec\"], \"legendgroup\": \"Qu\\u00e9bec\", \"marker\": {\"color\": \"#FFA15A\", \"size\": [8401738], \"sizemode\": \"area\", \"sizeref\": 36835.035, \"symbol\": \"circle\"}, \"mode\": \"markers\", \"name\": \"Qu\\u00e9bec\", \"orientation\": \"v\", \"showlegend\": true, \"x\": [187727], \"xaxis\": \"x\", \"y\": [0.35], \"yaxis\": \"y\", \"type\": \"scatter\"}, {\"hovertemplate\": \"Geography=Ontario<br>Time=2018Q3<br>AverageMortgageAmount=%{x}<br>DelinquencyRate=%{y}<br>PopulationSize=%{marker.size}<extra></extra>\", \"ids\": [\"Ontario\"], \"legendgroup\": \"Ontario\", \"marker\": {\"color\": \"#19d3f3\", \"size\": [14308697], \"sizemode\": \"area\", \"sizeref\": 36835.035, \"symbol\": \"circle\"}, \"mode\": \"markers\", \"name\": \"Ontario\", \"orientation\": \"v\", \"showlegend\": true, \"x\": [327367], \"xaxis\": \"x\", \"y\": [0.13], \"yaxis\": \"y\", \"type\": \"scatter\"}, {\"hovertemplate\": \"Geography=Manitoba<br>Time=2018Q3<br>AverageMortgageAmount=%{x}<br>DelinquencyRate=%{y}<br>PopulationSize=%{marker.size}<extra></extra>\", \"ids\": [\"Manitoba\"], \"legendgroup\": \"Manitoba\", \"marker\": {\"color\": \"#FF6692\", \"size\": [1352825], \"sizemode\": \"area\", \"sizeref\": 36835.035, \"symbol\": \"circle\"}, \"mode\": \"markers\", \"name\": \"Manitoba\", \"orientation\": \"v\", \"showlegend\": true, \"x\": [220454], \"xaxis\": \"x\", \"y\": [0.32], \"yaxis\": \"y\", \"type\": \"scatter\"}, {\"hovertemplate\": \"Geography=Saskatchewan<br>Time=2018Q3<br>AverageMortgageAmount=%{x}<br>DelinquencyRate=%{y}<br>PopulationSize=%{marker.size}<extra></extra>\", \"ids\": [\"Saskatchewan\"], \"legendgroup\": \"Saskatchewan\", \"marker\": {\"color\": \"#B6E880\", \"size\": [1161767], \"sizemode\": \"area\", \"sizeref\": 36835.035, \"symbol\": \"circle\"}, \"mode\": \"markers\", \"name\": \"Saskatchewan\", \"orientation\": \"v\", \"showlegend\": true, \"x\": [233255], \"xaxis\": \"x\", \"y\": [0.7], \"yaxis\": \"y\", \"type\": \"scatter\"}, {\"hovertemplate\": \"Geography=Alberta<br>Time=2018Q3<br>AverageMortgageAmount=%{x}<br>DelinquencyRate=%{y}<br>PopulationSize=%{marker.size}<extra></extra>\", \"ids\": [\"Alberta\"], \"legendgroup\": \"Alberta\", \"marker\": {\"color\": \"#FF97FF\", \"size\": [4298275], \"sizemode\": \"area\", \"sizeref\": 36835.035, \"symbol\": \"circle\"}, \"mode\": \"markers\", \"name\": \"Alberta\", \"orientation\": \"v\", \"showlegend\": true, \"x\": [305101], \"xaxis\": \"x\", \"y\": [0.47], \"yaxis\": \"y\", \"type\": \"scatter\"}, {\"hovertemplate\": \"Geography=British Columbia<br>Time=2018Q3<br>AverageMortgageAmount=%{x}<br>DelinquencyRate=%{y}<br>PopulationSize=%{marker.size}<extra></extra>\", \"ids\": [\"British Columbia\"], \"legendgroup\": \"British Columbia\", \"marker\": {\"color\": \"#FECB52\", \"size\": [5010476], \"sizemode\": \"area\", \"sizeref\": 36835.035, \"symbol\": \"circle\"}, \"mode\": \"markers\", \"name\": \"British Columbia\", \"orientation\": \"v\", \"showlegend\": true, \"x\": [378187], \"xaxis\": \"x\", \"y\": [0.16], \"yaxis\": \"y\", \"type\": \"scatter\"}], \"name\": \"2018Q3\"}, {\"data\": [{\"hovertemplate\": \"Geography=Newfoundland<br>Time=2018Q4<br>AverageMortgageAmount=%{x}<br>DelinquencyRate=%{y}<br>PopulationSize=%{marker.size}<extra></extra>\", \"ids\": [\"Newfoundland\"], \"legendgroup\": \"Newfoundland\", \"marker\": {\"color\": \"#636efa\", \"size\": [525765], \"sizemode\": \"area\", \"sizeref\": 36835.035, \"symbol\": \"circle\"}, \"mode\": \"markers\", \"name\": \"Newfoundland\", \"orientation\": \"v\", \"showlegend\": true, \"x\": [188614], \"xaxis\": \"x\", \"y\": [0.62], \"yaxis\": \"y\", \"type\": \"scatter\"}, {\"hovertemplate\": \"Geography=Prince Edward Island<br>Time=2018Q4<br>AverageMortgageAmount=%{x}<br>DelinquencyRate=%{y}<br>PopulationSize=%{marker.size}<extra></extra>\", \"ids\": [\"Prince Edward Island\"], \"legendgroup\": \"Prince Edward Island\", \"marker\": {\"color\": \"#EF553B\", \"size\": [155129], \"sizemode\": \"area\", \"sizeref\": 36835.035, \"symbol\": \"circle\"}, \"mode\": \"markers\", \"name\": \"Prince Edward Island\", \"orientation\": \"v\", \"showlegend\": true, \"x\": [178140], \"xaxis\": \"x\", \"y\": [0.39], \"yaxis\": \"y\", \"type\": \"scatter\"}, {\"hovertemplate\": \"Geography=Nova Scotia<br>Time=2018Q4<br>AverageMortgageAmount=%{x}<br>DelinquencyRate=%{y}<br>PopulationSize=%{marker.size}<extra></extra>\", \"ids\": [\"Nova Scotia\"], \"legendgroup\": \"Nova Scotia\", \"marker\": {\"color\": \"#00cc96\", \"size\": [963309], \"sizemode\": \"area\", \"sizeref\": 36835.035, \"symbol\": \"circle\"}, \"mode\": \"markers\", \"name\": \"Nova Scotia\", \"orientation\": \"v\", \"showlegend\": true, \"x\": [179921], \"xaxis\": \"x\", \"y\": [0.56], \"yaxis\": \"y\", \"type\": \"scatter\"}, {\"hovertemplate\": \"Geography=New Brunswick<br>Time=2018Q4<br>AverageMortgageAmount=%{x}<br>DelinquencyRate=%{y}<br>PopulationSize=%{marker.size}<extra></extra>\", \"ids\": [\"New Brunswick\"], \"legendgroup\": \"New Brunswick\", \"marker\": {\"color\": \"#ab63fa\", \"size\": [772524], \"sizemode\": \"area\", \"sizeref\": 36835.035, \"symbol\": \"circle\"}, \"mode\": \"markers\", \"name\": \"New Brunswick\", \"orientation\": \"v\", \"showlegend\": true, \"x\": [143324], \"xaxis\": \"x\", \"y\": [0.62], \"yaxis\": \"y\", \"type\": \"scatter\"}, {\"hovertemplate\": \"Geography=Qu\\u00e9bec<br>Time=2018Q4<br>AverageMortgageAmount=%{x}<br>DelinquencyRate=%{y}<br>PopulationSize=%{marker.size}<extra></extra>\", \"ids\": [\"Qu\\u00e9bec\"], \"legendgroup\": \"Qu\\u00e9bec\", \"marker\": {\"color\": \"#FFA15A\", \"size\": [8433888], \"sizemode\": \"area\", \"sizeref\": 36835.035, \"symbol\": \"circle\"}, \"mode\": \"markers\", \"name\": \"Qu\\u00e9bec\", \"orientation\": \"v\", \"showlegend\": true, \"x\": [173911], \"xaxis\": \"x\", \"y\": [0.38], \"yaxis\": \"y\", \"type\": \"scatter\"}, {\"hovertemplate\": \"Geography=Ontario<br>Time=2018Q4<br>AverageMortgageAmount=%{x}<br>DelinquencyRate=%{y}<br>PopulationSize=%{marker.size}<extra></extra>\", \"ids\": [\"Ontario\"], \"legendgroup\": \"Ontario\", \"marker\": {\"color\": \"#19d3f3\", \"size\": [14393683], \"sizemode\": \"area\", \"sizeref\": 36835.035, \"symbol\": \"circle\"}, \"mode\": \"markers\", \"name\": \"Ontario\", \"orientation\": \"v\", \"showlegend\": true, \"x\": [321579], \"xaxis\": \"x\", \"y\": [0.14], \"yaxis\": \"y\", \"type\": \"scatter\"}, {\"hovertemplate\": \"Geography=Manitoba<br>Time=2018Q4<br>AverageMortgageAmount=%{x}<br>DelinquencyRate=%{y}<br>PopulationSize=%{marker.size}<extra></extra>\", \"ids\": [\"Manitoba\"], \"legendgroup\": \"Manitoba\", \"marker\": {\"color\": \"#FF6692\", \"size\": [1357879], \"sizemode\": \"area\", \"sizeref\": 36835.035, \"symbol\": \"circle\"}, \"mode\": \"markers\", \"name\": \"Manitoba\", \"orientation\": \"v\", \"showlegend\": true, \"x\": [214060], \"xaxis\": \"x\", \"y\": [0.35], \"yaxis\": \"y\", \"type\": \"scatter\"}, {\"hovertemplate\": \"Geography=Saskatchewan<br>Time=2018Q4<br>AverageMortgageAmount=%{x}<br>DelinquencyRate=%{y}<br>PopulationSize=%{marker.size}<extra></extra>\", \"ids\": [\"Saskatchewan\"], \"legendgroup\": \"Saskatchewan\", \"marker\": {\"color\": \"#B6E880\", \"size\": [1165938], \"sizemode\": \"area\", \"sizeref\": 36835.035, \"symbol\": \"circle\"}, \"mode\": \"markers\", \"name\": \"Saskatchewan\", \"orientation\": \"v\", \"showlegend\": true, \"x\": [223628], \"xaxis\": \"x\", \"y\": [0.72], \"yaxis\": \"y\", \"type\": \"scatter\"}, {\"hovertemplate\": \"Geography=Alberta<br>Time=2018Q4<br>AverageMortgageAmount=%{x}<br>DelinquencyRate=%{y}<br>PopulationSize=%{marker.size}<extra></extra>\", \"ids\": [\"Alberta\"], \"legendgroup\": \"Alberta\", \"marker\": {\"color\": \"#FF97FF\", \"size\": [4317453], \"sizemode\": \"area\", \"sizeref\": 36835.035, \"symbol\": \"circle\"}, \"mode\": \"markers\", \"name\": \"Alberta\", \"orientation\": \"v\", \"showlegend\": true, \"x\": [295839], \"xaxis\": \"x\", \"y\": [0.5], \"yaxis\": \"y\", \"type\": \"scatter\"}, {\"hovertemplate\": \"Geography=British Columbia<br>Time=2018Q4<br>AverageMortgageAmount=%{x}<br>DelinquencyRate=%{y}<br>PopulationSize=%{marker.size}<extra></extra>\", \"ids\": [\"British Columbia\"], \"legendgroup\": \"British Columbia\", \"marker\": {\"color\": \"#FECB52\", \"size\": [5039661], \"sizemode\": \"area\", \"sizeref\": 36835.035, \"symbol\": \"circle\"}, \"mode\": \"markers\", \"name\": \"British Columbia\", \"orientation\": \"v\", \"showlegend\": true, \"x\": [364330], \"xaxis\": \"x\", \"y\": [0.17], \"yaxis\": \"y\", \"type\": \"scatter\"}], \"name\": \"2018Q4\"}, {\"data\": [{\"hovertemplate\": \"Geography=Newfoundland<br>Time=2019Q1<br>AverageMortgageAmount=%{x}<br>DelinquencyRate=%{y}<br>PopulationSize=%{marker.size}<extra></extra>\", \"ids\": [\"Newfoundland\"], \"legendgroup\": \"Newfoundland\", \"marker\": {\"color\": \"#636efa\", \"size\": [524883], \"sizemode\": \"area\", \"sizeref\": 36835.035, \"symbol\": \"circle\"}, \"mode\": \"markers\", \"name\": \"Newfoundland\", \"orientation\": \"v\", \"showlegend\": true, \"x\": [185276], \"xaxis\": \"x\", \"y\": [0.64], \"yaxis\": \"y\", \"type\": \"scatter\"}, {\"hovertemplate\": \"Geography=Prince Edward Island<br>Time=2019Q1<br>AverageMortgageAmount=%{x}<br>DelinquencyRate=%{y}<br>PopulationSize=%{marker.size}<extra></extra>\", \"ids\": [\"Prince Edward Island\"], \"legendgroup\": \"Prince Edward Island\", \"marker\": {\"color\": \"#EF553B\", \"size\": [155244], \"sizemode\": \"area\", \"sizeref\": 36835.035, \"symbol\": \"circle\"}, \"mode\": \"markers\", \"name\": \"Prince Edward Island\", \"orientation\": \"v\", \"showlegend\": true, \"x\": [181172], \"xaxis\": \"x\", \"y\": [0.39], \"yaxis\": \"y\", \"type\": \"scatter\"}, {\"hovertemplate\": \"Geography=Nova Scotia<br>Time=2019Q1<br>AverageMortgageAmount=%{x}<br>DelinquencyRate=%{y}<br>PopulationSize=%{marker.size}<extra></extra>\", \"ids\": [\"Nova Scotia\"], \"legendgroup\": \"Nova Scotia\", \"marker\": {\"color\": \"#00cc96\", \"size\": [963890], \"sizemode\": \"area\", \"sizeref\": 36835.035, \"symbol\": \"circle\"}, \"mode\": \"markers\", \"name\": \"Nova Scotia\", \"orientation\": \"v\", \"showlegend\": true, \"x\": [177863], \"xaxis\": \"x\", \"y\": [0.54], \"yaxis\": \"y\", \"type\": \"scatter\"}, {\"hovertemplate\": \"Geography=New Brunswick<br>Time=2019Q1<br>AverageMortgageAmount=%{x}<br>DelinquencyRate=%{y}<br>PopulationSize=%{marker.size}<extra></extra>\", \"ids\": [\"New Brunswick\"], \"legendgroup\": \"New Brunswick\", \"marker\": {\"color\": \"#ab63fa\", \"size\": [772748], \"sizemode\": \"area\", \"sizeref\": 36835.035, \"symbol\": \"circle\"}, \"mode\": \"markers\", \"name\": \"New Brunswick\", \"orientation\": \"v\", \"showlegend\": true, \"x\": [140850], \"xaxis\": \"x\", \"y\": [0.63], \"yaxis\": \"y\", \"type\": \"scatter\"}, {\"hovertemplate\": \"Geography=Qu\\u00e9bec<br>Time=2019Q1<br>AverageMortgageAmount=%{x}<br>DelinquencyRate=%{y}<br>PopulationSize=%{marker.size}<extra></extra>\", \"ids\": [\"Qu\\u00e9bec\"], \"legendgroup\": \"Qu\\u00e9bec\", \"marker\": {\"color\": \"#FFA15A\", \"size\": [8446906], \"sizemode\": \"area\", \"sizeref\": 36835.035, \"symbol\": \"circle\"}, \"mode\": \"markers\", \"name\": \"Qu\\u00e9bec\", \"orientation\": \"v\", \"showlegend\": true, \"x\": [175658], \"xaxis\": \"x\", \"y\": [0.38], \"yaxis\": \"y\", \"type\": \"scatter\"}, {\"hovertemplate\": \"Geography=Ontario<br>Time=2019Q1<br>AverageMortgageAmount=%{x}<br>DelinquencyRate=%{y}<br>PopulationSize=%{marker.size}<extra></extra>\", \"ids\": [\"Ontario\"], \"legendgroup\": \"Ontario\", \"marker\": {\"color\": \"#19d3f3\", \"size\": [14428712], \"sizemode\": \"area\", \"sizeref\": 36835.035, \"symbol\": \"circle\"}, \"mode\": \"markers\", \"name\": \"Ontario\", \"orientation\": \"v\", \"showlegend\": true, \"x\": [321074], \"xaxis\": \"x\", \"y\": [0.14], \"yaxis\": \"y\", \"type\": \"scatter\"}, {\"hovertemplate\": \"Geography=Manitoba<br>Time=2019Q1<br>AverageMortgageAmount=%{x}<br>DelinquencyRate=%{y}<br>PopulationSize=%{marker.size}<extra></extra>\", \"ids\": [\"Manitoba\"], \"legendgroup\": \"Manitoba\", \"marker\": {\"color\": \"#FF6692\", \"size\": [1361632], \"sizemode\": \"area\", \"sizeref\": 36835.035, \"symbol\": \"circle\"}, \"mode\": \"markers\", \"name\": \"Manitoba\", \"orientation\": \"v\", \"showlegend\": true, \"x\": [206692], \"xaxis\": \"x\", \"y\": [0.35], \"yaxis\": \"y\", \"type\": \"scatter\"}, {\"hovertemplate\": \"Geography=Saskatchewan<br>Time=2019Q1<br>AverageMortgageAmount=%{x}<br>DelinquencyRate=%{y}<br>PopulationSize=%{marker.size}<extra></extra>\", \"ids\": [\"Saskatchewan\"], \"legendgroup\": \"Saskatchewan\", \"marker\": {\"color\": \"#B6E880\", \"size\": [1168461], \"sizemode\": \"area\", \"sizeref\": 36835.035, \"symbol\": \"circle\"}, \"mode\": \"markers\", \"name\": \"Saskatchewan\", \"orientation\": \"v\", \"showlegend\": true, \"x\": [217157], \"xaxis\": \"x\", \"y\": [0.74], \"yaxis\": \"y\", \"type\": \"scatter\"}, {\"hovertemplate\": \"Geography=Alberta<br>Time=2019Q1<br>AverageMortgageAmount=%{x}<br>DelinquencyRate=%{y}<br>PopulationSize=%{marker.size}<extra></extra>\", \"ids\": [\"Alberta\"], \"legendgroup\": \"Alberta\", \"marker\": {\"color\": \"#FF97FF\", \"size\": [4330698], \"sizemode\": \"area\", \"sizeref\": 36835.035, \"symbol\": \"circle\"}, \"mode\": \"markers\", \"name\": \"Alberta\", \"orientation\": \"v\", \"showlegend\": true, \"x\": [291721], \"xaxis\": \"x\", \"y\": [0.51], \"yaxis\": \"y\", \"type\": \"scatter\"}, {\"hovertemplate\": \"Geography=British Columbia<br>Time=2019Q1<br>AverageMortgageAmount=%{x}<br>DelinquencyRate=%{y}<br>PopulationSize=%{marker.size}<extra></extra>\", \"ids\": [\"British Columbia\"], \"legendgroup\": \"British Columbia\", \"marker\": {\"color\": \"#FECB52\", \"size\": [5046576], \"sizemode\": \"area\", \"sizeref\": 36835.035, \"symbol\": \"circle\"}, \"mode\": \"markers\", \"name\": \"British Columbia\", \"orientation\": \"v\", \"showlegend\": true, \"x\": [363239], \"xaxis\": \"x\", \"y\": [0.17], \"yaxis\": \"y\", \"type\": \"scatter\"}], \"name\": \"2019Q1\"}, {\"data\": [{\"hovertemplate\": \"Geography=Newfoundland<br>Time=2019Q2<br>AverageMortgageAmount=%{x}<br>DelinquencyRate=%{y}<br>PopulationSize=%{marker.size}<extra></extra>\", \"ids\": [\"Newfoundland\"], \"legendgroup\": \"Newfoundland\", \"marker\": {\"color\": \"#636efa\", \"size\": [524126], \"sizemode\": \"area\", \"sizeref\": 36835.035, \"symbol\": \"circle\"}, \"mode\": \"markers\", \"name\": \"Newfoundland\", \"orientation\": \"v\", \"showlegend\": true, \"x\": [190582], \"xaxis\": \"x\", \"y\": [0.65], \"yaxis\": \"y\", \"type\": \"scatter\"}, {\"hovertemplate\": \"Geography=Prince Edward Island<br>Time=2019Q2<br>AverageMortgageAmount=%{x}<br>DelinquencyRate=%{y}<br>PopulationSize=%{marker.size}<extra></extra>\", \"ids\": [\"Prince Edward Island\"], \"legendgroup\": \"Prince Edward Island\", \"marker\": {\"color\": \"#EF553B\", \"size\": [155833], \"sizemode\": \"area\", \"sizeref\": 36835.035, \"symbol\": \"circle\"}, \"mode\": \"markers\", \"name\": \"Prince Edward Island\", \"orientation\": \"v\", \"showlegend\": true, \"x\": [181358], \"xaxis\": \"x\", \"y\": [0.38], \"yaxis\": \"y\", \"type\": \"scatter\"}, {\"hovertemplate\": \"Geography=Nova Scotia<br>Time=2019Q2<br>AverageMortgageAmount=%{x}<br>DelinquencyRate=%{y}<br>PopulationSize=%{marker.size}<extra></extra>\", \"ids\": [\"Nova Scotia\"], \"legendgroup\": \"Nova Scotia\", \"marker\": {\"color\": \"#00cc96\", \"size\": [965287], \"sizemode\": \"area\", \"sizeref\": 36835.035, \"symbol\": \"circle\"}, \"mode\": \"markers\", \"name\": \"Nova Scotia\", \"orientation\": \"v\", \"showlegend\": true, \"x\": [180958], \"xaxis\": \"x\", \"y\": [0.52], \"yaxis\": \"y\", \"type\": \"scatter\"}, {\"hovertemplate\": \"Geography=New Brunswick<br>Time=2019Q2<br>AverageMortgageAmount=%{x}<br>DelinquencyRate=%{y}<br>PopulationSize=%{marker.size}<extra></extra>\", \"ids\": [\"New Brunswick\"], \"legendgroup\": \"New Brunswick\", \"marker\": {\"color\": \"#ab63fa\", \"size\": [773805], \"sizemode\": \"area\", \"sizeref\": 36835.035, \"symbol\": \"circle\"}, \"mode\": \"markers\", \"name\": \"New Brunswick\", \"orientation\": \"v\", \"showlegend\": true, \"x\": [137809], \"xaxis\": \"x\", \"y\": [0.6], \"yaxis\": \"y\", \"type\": \"scatter\"}, {\"hovertemplate\": \"Geography=Qu\\u00e9bec<br>Time=2019Q2<br>AverageMortgageAmount=%{x}<br>DelinquencyRate=%{y}<br>PopulationSize=%{marker.size}<extra></extra>\", \"ids\": [\"Qu\\u00e9bec\"], \"legendgroup\": \"Qu\\u00e9bec\", \"marker\": {\"color\": \"#FFA15A\", \"size\": [8465271], \"sizemode\": \"area\", \"sizeref\": 36835.035, \"symbol\": \"circle\"}, \"mode\": \"markers\", \"name\": \"Qu\\u00e9bec\", \"orientation\": \"v\", \"showlegend\": true, \"x\": [179523], \"xaxis\": \"x\", \"y\": [0.37], \"yaxis\": \"y\", \"type\": \"scatter\"}, {\"hovertemplate\": \"Geography=Ontario<br>Time=2019Q2<br>AverageMortgageAmount=%{x}<br>DelinquencyRate=%{y}<br>PopulationSize=%{marker.size}<extra></extra>\", \"ids\": [\"Ontario\"], \"legendgroup\": \"Ontario\", \"marker\": {\"color\": \"#19d3f3\", \"size\": [14467162], \"sizemode\": \"area\", \"sizeref\": 36835.035, \"symbol\": \"circle\"}, \"mode\": \"markers\", \"name\": \"Ontario\", \"orientation\": \"v\", \"showlegend\": true, \"x\": [324080], \"xaxis\": \"x\", \"y\": [0.14], \"yaxis\": \"y\", \"type\": \"scatter\"}, {\"hovertemplate\": \"Geography=Manitoba<br>Time=2019Q2<br>AverageMortgageAmount=%{x}<br>DelinquencyRate=%{y}<br>PopulationSize=%{marker.size}<extra></extra>\", \"ids\": [\"Manitoba\"], \"legendgroup\": \"Manitoba\", \"marker\": {\"color\": \"#FF6692\", \"size\": [1364223], \"sizemode\": \"area\", \"sizeref\": 36835.035, \"symbol\": \"circle\"}, \"mode\": \"markers\", \"name\": \"Manitoba\", \"orientation\": \"v\", \"showlegend\": true, \"x\": [214873], \"xaxis\": \"x\", \"y\": [0.35], \"yaxis\": \"y\", \"type\": \"scatter\"}, {\"hovertemplate\": \"Geography=Saskatchewan<br>Time=2019Q2<br>AverageMortgageAmount=%{x}<br>DelinquencyRate=%{y}<br>PopulationSize=%{marker.size}<extra></extra>\", \"ids\": [\"Saskatchewan\"], \"legendgroup\": \"Saskatchewan\", \"marker\": {\"color\": \"#B6E880\", \"size\": [1169286], \"sizemode\": \"area\", \"sizeref\": 36835.035, \"symbol\": \"circle\"}, \"mode\": \"markers\", \"name\": \"Saskatchewan\", \"orientation\": \"v\", \"showlegend\": true, \"x\": [216369], \"xaxis\": \"x\", \"y\": [0.75], \"yaxis\": \"y\", \"type\": \"scatter\"}, {\"hovertemplate\": \"Geography=Alberta<br>Time=2019Q2<br>AverageMortgageAmount=%{x}<br>DelinquencyRate=%{y}<br>PopulationSize=%{marker.size}<extra></extra>\", \"ids\": [\"Alberta\"], \"legendgroup\": \"Alberta\", \"marker\": {\"color\": \"#FF97FF\", \"size\": [4343951], \"sizemode\": \"area\", \"sizeref\": 36835.035, \"symbol\": \"circle\"}, \"mode\": \"markers\", \"name\": \"Alberta\", \"orientation\": \"v\", \"showlegend\": true, \"x\": [293612], \"xaxis\": \"x\", \"y\": [0.53], \"yaxis\": \"y\", \"type\": \"scatter\"}, {\"hovertemplate\": \"Geography=British Columbia<br>Time=2019Q2<br>AverageMortgageAmount=%{x}<br>DelinquencyRate=%{y}<br>PopulationSize=%{marker.size}<extra></extra>\", \"ids\": [\"British Columbia\"], \"legendgroup\": \"British Columbia\", \"marker\": {\"color\": \"#FECB52\", \"size\": [5063527], \"sizemode\": \"area\", \"sizeref\": 36835.035, \"symbol\": \"circle\"}, \"mode\": \"markers\", \"name\": \"British Columbia\", \"orientation\": \"v\", \"showlegend\": true, \"x\": [363924], \"xaxis\": \"x\", \"y\": [0.17], \"yaxis\": \"y\", \"type\": \"scatter\"}], \"name\": \"2019Q2\"}, {\"data\": [{\"hovertemplate\": \"Geography=Newfoundland<br>Time=2019Q3<br>AverageMortgageAmount=%{x}<br>DelinquencyRate=%{y}<br>PopulationSize=%{marker.size}<extra></extra>\", \"ids\": [\"Newfoundland\"], \"legendgroup\": \"Newfoundland\", \"marker\": {\"color\": \"#636efa\", \"size\": [523476], \"sizemode\": \"area\", \"sizeref\": 36835.035, \"symbol\": \"circle\"}, \"mode\": \"markers\", \"name\": \"Newfoundland\", \"orientation\": \"v\", \"showlegend\": true, \"x\": [194536], \"xaxis\": \"x\", \"y\": [0.65], \"yaxis\": \"y\", \"type\": \"scatter\"}, {\"hovertemplate\": \"Geography=Prince Edward Island<br>Time=2019Q3<br>AverageMortgageAmount=%{x}<br>DelinquencyRate=%{y}<br>PopulationSize=%{marker.size}<extra></extra>\", \"ids\": [\"Prince Edward Island\"], \"legendgroup\": \"Prince Edward Island\", \"marker\": {\"color\": \"#EF553B\", \"size\": [157262], \"sizemode\": \"area\", \"sizeref\": 36835.035, \"symbol\": \"circle\"}, \"mode\": \"markers\", \"name\": \"Prince Edward Island\", \"orientation\": \"v\", \"showlegend\": true, \"x\": [190715], \"xaxis\": \"x\", \"y\": [0.34], \"yaxis\": \"y\", \"type\": \"scatter\"}, {\"hovertemplate\": \"Geography=Nova Scotia<br>Time=2019Q3<br>AverageMortgageAmount=%{x}<br>DelinquencyRate=%{y}<br>PopulationSize=%{marker.size}<extra></extra>\", \"ids\": [\"Nova Scotia\"], \"legendgroup\": \"Nova Scotia\", \"marker\": {\"color\": \"#00cc96\", \"size\": [969747], \"sizemode\": \"area\", \"sizeref\": 36835.035, \"symbol\": \"circle\"}, \"mode\": \"markers\", \"name\": \"Nova Scotia\", \"orientation\": \"v\", \"showlegend\": true, \"x\": [193586], \"xaxis\": \"x\", \"y\": [0.5], \"yaxis\": \"y\", \"type\": \"scatter\"}, {\"hovertemplate\": \"Geography=New Brunswick<br>Time=2019Q3<br>AverageMortgageAmount=%{x}<br>DelinquencyRate=%{y}<br>PopulationSize=%{marker.size}<extra></extra>\", \"ids\": [\"New Brunswick\"], \"legendgroup\": \"New Brunswick\", \"marker\": {\"color\": \"#ab63fa\", \"size\": [776868], \"sizemode\": \"area\", \"sizeref\": 36835.035, \"symbol\": \"circle\"}, \"mode\": \"markers\", \"name\": \"New Brunswick\", \"orientation\": \"v\", \"showlegend\": true, \"x\": [152606], \"xaxis\": \"x\", \"y\": [0.57], \"yaxis\": \"y\", \"type\": \"scatter\"}, {\"hovertemplate\": \"Geography=Qu\\u00e9bec<br>Time=2019Q3<br>AverageMortgageAmount=%{x}<br>DelinquencyRate=%{y}<br>PopulationSize=%{marker.size}<extra></extra>\", \"ids\": [\"Qu\\u00e9bec\"], \"legendgroup\": \"Qu\\u00e9bec\", \"marker\": {\"color\": \"#FFA15A\", \"size\": [8501703], \"sizemode\": \"area\", \"sizeref\": 36835.035, \"symbol\": \"circle\"}, \"mode\": \"markers\", \"name\": \"Qu\\u00e9bec\", \"orientation\": \"v\", \"showlegend\": true, \"x\": [187136], \"xaxis\": \"x\", \"y\": [0.37], \"yaxis\": \"y\", \"type\": \"scatter\"}, {\"hovertemplate\": \"Geography=Ontario<br>Time=2019Q3<br>AverageMortgageAmount=%{x}<br>DelinquencyRate=%{y}<br>PopulationSize=%{marker.size}<extra></extra>\", \"ids\": [\"Ontario\"], \"legendgroup\": \"Ontario\", \"marker\": {\"color\": \"#19d3f3\", \"size\": [14544718], \"sizemode\": \"area\", \"sizeref\": 36835.035, \"symbol\": \"circle\"}, \"mode\": \"markers\", \"name\": \"Ontario\", \"orientation\": \"v\", \"showlegend\": true, \"x\": [343117], \"xaxis\": \"x\", \"y\": [0.14], \"yaxis\": \"y\", \"type\": \"scatter\"}, {\"hovertemplate\": \"Geography=Manitoba<br>Time=2019Q3<br>AverageMortgageAmount=%{x}<br>DelinquencyRate=%{y}<br>PopulationSize=%{marker.size}<extra></extra>\", \"ids\": [\"Manitoba\"], \"legendgroup\": \"Manitoba\", \"marker\": {\"color\": \"#FF6692\", \"size\": [1369540], \"sizemode\": \"area\", \"sizeref\": 36835.035, \"symbol\": \"circle\"}, \"mode\": \"markers\", \"name\": \"Manitoba\", \"orientation\": \"v\", \"showlegend\": true, \"x\": [222637], \"xaxis\": \"x\", \"y\": [0.34], \"yaxis\": \"y\", \"type\": \"scatter\"}, {\"hovertemplate\": \"Geography=Saskatchewan<br>Time=2019Q3<br>AverageMortgageAmount=%{x}<br>DelinquencyRate=%{y}<br>PopulationSize=%{marker.size}<extra></extra>\", \"ids\": [\"Saskatchewan\"], \"legendgroup\": \"Saskatchewan\", \"marker\": {\"color\": \"#B6E880\", \"size\": [1172302], \"sizemode\": \"area\", \"sizeref\": 36835.035, \"symbol\": \"circle\"}, \"mode\": \"markers\", \"name\": \"Saskatchewan\", \"orientation\": \"v\", \"showlegend\": true, \"x\": [228721], \"xaxis\": \"x\", \"y\": [0.73], \"yaxis\": \"y\", \"type\": \"scatter\"}, {\"hovertemplate\": \"Geography=Alberta<br>Time=2019Q3<br>AverageMortgageAmount=%{x}<br>DelinquencyRate=%{y}<br>PopulationSize=%{marker.size}<extra></extra>\", \"ids\": [\"Alberta\"], \"legendgroup\": \"Alberta\", \"marker\": {\"color\": \"#FF97FF\", \"size\": [4361694], \"sizemode\": \"area\", \"sizeref\": 36835.035, \"symbol\": \"circle\"}, \"mode\": \"markers\", \"name\": \"Alberta\", \"orientation\": \"v\", \"showlegend\": true, \"x\": [297609], \"xaxis\": \"x\", \"y\": [0.51], \"yaxis\": \"y\", \"type\": \"scatter\"}, {\"hovertemplate\": \"Geography=British Columbia<br>Time=2019Q3<br>AverageMortgageAmount=%{x}<br>DelinquencyRate=%{y}<br>PopulationSize=%{marker.size}<extra></extra>\", \"ids\": [\"British Columbia\"], \"legendgroup\": \"British Columbia\", \"marker\": {\"color\": \"#FECB52\", \"size\": [5090955], \"sizemode\": \"area\", \"sizeref\": 36835.035, \"symbol\": \"circle\"}, \"mode\": \"markers\", \"name\": \"British Columbia\", \"orientation\": \"v\", \"showlegend\": true, \"x\": [376343], \"xaxis\": \"x\", \"y\": [0.16], \"yaxis\": \"y\", \"type\": \"scatter\"}], \"name\": \"2019Q3\"}, {\"data\": [{\"hovertemplate\": \"Geography=Newfoundland<br>Time=2019Q4<br>AverageMortgageAmount=%{x}<br>DelinquencyRate=%{y}<br>PopulationSize=%{marker.size}<extra></extra>\", \"ids\": [\"Newfoundland\"], \"legendgroup\": \"Newfoundland\", \"marker\": {\"color\": \"#636efa\", \"size\": [524137], \"sizemode\": \"area\", \"sizeref\": 36835.035, \"symbol\": \"circle\"}, \"mode\": \"markers\", \"name\": \"Newfoundland\", \"orientation\": \"v\", \"showlegend\": true, \"x\": [193870], \"xaxis\": \"x\", \"y\": [0.65], \"yaxis\": \"y\", \"type\": \"scatter\"}, {\"hovertemplate\": \"Geography=Prince Edward Island<br>Time=2019Q4<br>AverageMortgageAmount=%{x}<br>DelinquencyRate=%{y}<br>PopulationSize=%{marker.size}<extra></extra>\", \"ids\": [\"Prince Edward Island\"], \"legendgroup\": \"Prince Edward Island\", \"marker\": {\"color\": \"#EF553B\", \"size\": [158334], \"sizemode\": \"area\", \"sizeref\": 36835.035, \"symbol\": \"circle\"}, \"mode\": \"markers\", \"name\": \"Prince Edward Island\", \"orientation\": \"v\", \"showlegend\": true, \"x\": [185934], \"xaxis\": \"x\", \"y\": [0.32], \"yaxis\": \"y\", \"type\": \"scatter\"}, {\"hovertemplate\": \"Geography=Nova Scotia<br>Time=2019Q4<br>AverageMortgageAmount=%{x}<br>DelinquencyRate=%{y}<br>PopulationSize=%{marker.size}<extra></extra>\", \"ids\": [\"Nova Scotia\"], \"legendgroup\": \"Nova Scotia\", \"marker\": {\"color\": \"#00cc96\", \"size\": [975231], \"sizemode\": \"area\", \"sizeref\": 36835.035, \"symbol\": \"circle\"}, \"mode\": \"markers\", \"name\": \"Nova Scotia\", \"orientation\": \"v\", \"showlegend\": true, \"x\": [190168], \"xaxis\": \"x\", \"y\": [0.5], \"yaxis\": \"y\", \"type\": \"scatter\"}, {\"hovertemplate\": \"Geography=New Brunswick<br>Time=2019Q4<br>AverageMortgageAmount=%{x}<br>DelinquencyRate=%{y}<br>PopulationSize=%{marker.size}<extra></extra>\", \"ids\": [\"New Brunswick\"], \"legendgroup\": \"New Brunswick\", \"marker\": {\"color\": \"#ab63fa\", \"size\": [780154], \"sizemode\": \"area\", \"sizeref\": 36835.035, \"symbol\": \"circle\"}, \"mode\": \"markers\", \"name\": \"New Brunswick\", \"orientation\": \"v\", \"showlegend\": true, \"x\": [147047], \"xaxis\": \"x\", \"y\": [0.57], \"yaxis\": \"y\", \"type\": \"scatter\"}, {\"hovertemplate\": \"Geography=Qu\\u00e9bec<br>Time=2019Q4<br>AverageMortgageAmount=%{x}<br>DelinquencyRate=%{y}<br>PopulationSize=%{marker.size}<extra></extra>\", \"ids\": [\"Qu\\u00e9bec\"], \"legendgroup\": \"Qu\\u00e9bec\", \"marker\": {\"color\": \"#FFA15A\", \"size\": [8540429], \"sizemode\": \"area\", \"sizeref\": 36835.035, \"symbol\": \"circle\"}, \"mode\": \"markers\", \"name\": \"Qu\\u00e9bec\", \"orientation\": \"v\", \"showlegend\": true, \"x\": [183501], \"xaxis\": \"x\", \"y\": [0.36], \"yaxis\": \"y\", \"type\": \"scatter\"}, {\"hovertemplate\": \"Geography=Ontario<br>Time=2019Q4<br>AverageMortgageAmount=%{x}<br>DelinquencyRate=%{y}<br>PopulationSize=%{marker.size}<extra></extra>\", \"ids\": [\"Ontario\"], \"legendgroup\": \"Ontario\", \"marker\": {\"color\": \"#19d3f3\", \"size\": [14637880], \"sizemode\": \"area\", \"sizeref\": 36835.035, \"symbol\": \"circle\"}, \"mode\": \"markers\", \"name\": \"Ontario\", \"orientation\": \"v\", \"showlegend\": true, \"x\": [343768], \"xaxis\": \"x\", \"y\": [0.14], \"yaxis\": \"y\", \"type\": \"scatter\"}, {\"hovertemplate\": \"Geography=Manitoba<br>Time=2019Q4<br>AverageMortgageAmount=%{x}<br>DelinquencyRate=%{y}<br>PopulationSize=%{marker.size}<extra></extra>\", \"ids\": [\"Manitoba\"], \"legendgroup\": \"Manitoba\", \"marker\": {\"color\": \"#FF6692\", \"size\": [1373574], \"sizemode\": \"area\", \"sizeref\": 36835.035, \"symbol\": \"circle\"}, \"mode\": \"markers\", \"name\": \"Manitoba\", \"orientation\": \"v\", \"showlegend\": true, \"x\": [218918], \"xaxis\": \"x\", \"y\": [0.36], \"yaxis\": \"y\", \"type\": \"scatter\"}, {\"hovertemplate\": \"Geography=Saskatchewan<br>Time=2019Q4<br>AverageMortgageAmount=%{x}<br>DelinquencyRate=%{y}<br>PopulationSize=%{marker.size}<extra></extra>\", \"ids\": [\"Saskatchewan\"], \"legendgroup\": \"Saskatchewan\", \"marker\": {\"color\": \"#B6E880\", \"size\": [1176272], \"sizemode\": \"area\", \"sizeref\": 36835.035, \"symbol\": \"circle\"}, \"mode\": \"markers\", \"name\": \"Saskatchewan\", \"orientation\": \"v\", \"showlegend\": true, \"x\": [224315], \"xaxis\": \"x\", \"y\": [0.73], \"yaxis\": \"y\", \"type\": \"scatter\"}, {\"hovertemplate\": \"Geography=Alberta<br>Time=2019Q4<br>AverageMortgageAmount=%{x}<br>DelinquencyRate=%{y}<br>PopulationSize=%{marker.size}<extra></extra>\", \"ids\": [\"Alberta\"], \"legendgroup\": \"Alberta\", \"marker\": {\"color\": \"#FF97FF\", \"size\": [4384968], \"sizemode\": \"area\", \"sizeref\": 36835.035, \"symbol\": \"circle\"}, \"mode\": \"markers\", \"name\": \"Alberta\", \"orientation\": \"v\", \"showlegend\": true, \"x\": [297552], \"xaxis\": \"x\", \"y\": [0.5], \"yaxis\": \"y\", \"type\": \"scatter\"}, {\"hovertemplate\": \"Geography=British Columbia<br>Time=2019Q4<br>AverageMortgageAmount=%{x}<br>DelinquencyRate=%{y}<br>PopulationSize=%{marker.size}<extra></extra>\", \"ids\": [\"British Columbia\"], \"legendgroup\": \"British Columbia\", \"marker\": {\"color\": \"#FECB52\", \"size\": [5125659], \"sizemode\": \"area\", \"sizeref\": 36835.035, \"symbol\": \"circle\"}, \"mode\": \"markers\", \"name\": \"British Columbia\", \"orientation\": \"v\", \"showlegend\": true, \"x\": [386494], \"xaxis\": \"x\", \"y\": [0.16], \"yaxis\": \"y\", \"type\": \"scatter\"}], \"name\": \"2019Q4\"}, {\"data\": [{\"hovertemplate\": \"Geography=Newfoundland<br>Time=2020Q1<br>AverageMortgageAmount=%{x}<br>DelinquencyRate=%{y}<br>PopulationSize=%{marker.size}<extra></extra>\", \"ids\": [\"Newfoundland\"], \"legendgroup\": \"Newfoundland\", \"marker\": {\"color\": \"#636efa\", \"size\": [523631], \"sizemode\": \"area\", \"sizeref\": 36835.035, \"symbol\": \"circle\"}, \"mode\": \"markers\", \"name\": \"Newfoundland\", \"orientation\": \"v\", \"showlegend\": true, \"x\": [186268], \"xaxis\": \"x\", \"y\": [0.67], \"yaxis\": \"y\", \"type\": \"scatter\"}, {\"hovertemplate\": \"Geography=Prince Edward Island<br>Time=2020Q1<br>AverageMortgageAmount=%{x}<br>DelinquencyRate=%{y}<br>PopulationSize=%{marker.size}<extra></extra>\", \"ids\": [\"Prince Edward Island\"], \"legendgroup\": \"Prince Edward Island\", \"marker\": {\"color\": \"#EF553B\", \"size\": [158629], \"sizemode\": \"area\", \"sizeref\": 36835.035, \"symbol\": \"circle\"}, \"mode\": \"markers\", \"name\": \"Prince Edward Island\", \"orientation\": \"v\", \"showlegend\": true, \"x\": [193439], \"xaxis\": \"x\", \"y\": [0.25], \"yaxis\": \"y\", \"type\": \"scatter\"}, {\"hovertemplate\": \"Geography=Nova Scotia<br>Time=2020Q1<br>AverageMortgageAmount=%{x}<br>DelinquencyRate=%{y}<br>PopulationSize=%{marker.size}<extra></extra>\", \"ids\": [\"Nova Scotia\"], \"legendgroup\": \"Nova Scotia\", \"marker\": {\"color\": \"#00cc96\", \"size\": [975898], \"sizemode\": \"area\", \"sizeref\": 36835.035, \"symbol\": \"circle\"}, \"mode\": \"markers\", \"name\": \"Nova Scotia\", \"orientation\": \"v\", \"showlegend\": true, \"x\": [188267], \"xaxis\": \"x\", \"y\": [0.46], \"yaxis\": \"y\", \"type\": \"scatter\"}, {\"hovertemplate\": \"Geography=New Brunswick<br>Time=2020Q1<br>AverageMortgageAmount=%{x}<br>DelinquencyRate=%{y}<br>PopulationSize=%{marker.size}<extra></extra>\", \"ids\": [\"New Brunswick\"], \"legendgroup\": \"New Brunswick\", \"marker\": {\"color\": \"#ab63fa\", \"size\": [780040], \"sizemode\": \"area\", \"sizeref\": 36835.035, \"symbol\": \"circle\"}, \"mode\": \"markers\", \"name\": \"New Brunswick\", \"orientation\": \"v\", \"showlegend\": true, \"x\": [146701], \"xaxis\": \"x\", \"y\": [0.57], \"yaxis\": \"y\", \"type\": \"scatter\"}, {\"hovertemplate\": \"Geography=Qu\\u00e9bec<br>Time=2020Q1<br>AverageMortgageAmount=%{x}<br>DelinquencyRate=%{y}<br>PopulationSize=%{marker.size}<extra></extra>\", \"ids\": [\"Qu\\u00e9bec\"], \"legendgroup\": \"Qu\\u00e9bec\", \"marker\": {\"color\": \"#FFA15A\", \"size\": [8556650], \"sizemode\": \"area\", \"sizeref\": 36835.035, \"symbol\": \"circle\"}, \"mode\": \"markers\", \"name\": \"Qu\\u00e9bec\", \"orientation\": \"v\", \"showlegend\": true, \"x\": [189390], \"xaxis\": \"x\", \"y\": [0.36], \"yaxis\": \"y\", \"type\": \"scatter\"}, {\"hovertemplate\": \"Geography=Ontario<br>Time=2020Q1<br>AverageMortgageAmount=%{x}<br>DelinquencyRate=%{y}<br>PopulationSize=%{marker.size}<extra></extra>\", \"ids\": [\"Ontario\"], \"legendgroup\": \"Ontario\", \"marker\": {\"color\": \"#19d3f3\", \"size\": [14689075], \"sizemode\": \"area\", \"sizeref\": 36835.035, \"symbol\": \"circle\"}, \"mode\": \"markers\", \"name\": \"Ontario\", \"orientation\": \"v\", \"showlegend\": true, \"x\": [348272], \"xaxis\": \"x\", \"y\": [0.14], \"yaxis\": \"y\", \"type\": \"scatter\"}, {\"hovertemplate\": \"Geography=Manitoba<br>Time=2020Q1<br>AverageMortgageAmount=%{x}<br>DelinquencyRate=%{y}<br>PopulationSize=%{marker.size}<extra></extra>\", \"ids\": [\"Manitoba\"], \"legendgroup\": \"Manitoba\", \"marker\": {\"color\": \"#FF6692\", \"size\": [1377004], \"sizemode\": \"area\", \"sizeref\": 36835.035, \"symbol\": \"circle\"}, \"mode\": \"markers\", \"name\": \"Manitoba\", \"orientation\": \"v\", \"showlegend\": true, \"x\": [212508], \"xaxis\": \"x\", \"y\": [0.37], \"yaxis\": \"y\", \"type\": \"scatter\"}, {\"hovertemplate\": \"Geography=Saskatchewan<br>Time=2020Q1<br>AverageMortgageAmount=%{x}<br>DelinquencyRate=%{y}<br>PopulationSize=%{marker.size}<extra></extra>\", \"ids\": [\"Saskatchewan\"], \"legendgroup\": \"Saskatchewan\", \"marker\": {\"color\": \"#B6E880\", \"size\": [1179154], \"sizemode\": \"area\", \"sizeref\": 36835.035, \"symbol\": \"circle\"}, \"mode\": \"markers\", \"name\": \"Saskatchewan\", \"orientation\": \"v\", \"showlegend\": true, \"x\": [216188], \"xaxis\": \"x\", \"y\": [0.75], \"yaxis\": \"y\", \"type\": \"scatter\"}, {\"hovertemplate\": \"Geography=Alberta<br>Time=2020Q1<br>AverageMortgageAmount=%{x}<br>DelinquencyRate=%{y}<br>PopulationSize=%{marker.size}<extra></extra>\", \"ids\": [\"Alberta\"], \"legendgroup\": \"Alberta\", \"marker\": {\"color\": \"#FF97FF\", \"size\": [4402045], \"sizemode\": \"area\", \"sizeref\": 36835.035, \"symbol\": \"circle\"}, \"mode\": \"markers\", \"name\": \"Alberta\", \"orientation\": \"v\", \"showlegend\": true, \"x\": [291747], \"xaxis\": \"x\", \"y\": [0.52], \"yaxis\": \"y\", \"type\": \"scatter\"}, {\"hovertemplate\": \"Geography=British Columbia<br>Time=2020Q1<br>AverageMortgageAmount=%{x}<br>DelinquencyRate=%{y}<br>PopulationSize=%{marker.size}<extra></extra>\", \"ids\": [\"British Columbia\"], \"legendgroup\": \"British Columbia\", \"marker\": {\"color\": \"#FECB52\", \"size\": [5131575], \"sizemode\": \"area\", \"sizeref\": 36835.035, \"symbol\": \"circle\"}, \"mode\": \"markers\", \"name\": \"British Columbia\", \"orientation\": \"v\", \"showlegend\": true, \"x\": [393711], \"xaxis\": \"x\", \"y\": [0.17], \"yaxis\": \"y\", \"type\": \"scatter\"}], \"name\": \"2020Q1\"}, {\"data\": [{\"hovertemplate\": \"Geography=Newfoundland<br>Time=2020Q2<br>AverageMortgageAmount=%{x}<br>DelinquencyRate=%{y}<br>PopulationSize=%{marker.size}<extra></extra>\", \"ids\": [\"Newfoundland\"], \"legendgroup\": \"Newfoundland\", \"marker\": {\"color\": \"#636efa\", \"size\": [522994], \"sizemode\": \"area\", \"sizeref\": 36835.035, \"symbol\": \"circle\"}, \"mode\": \"markers\", \"name\": \"Newfoundland\", \"orientation\": \"v\", \"showlegend\": true, \"x\": [187431], \"xaxis\": \"x\", \"y\": [0.68], \"yaxis\": \"y\", \"type\": \"scatter\"}, {\"hovertemplate\": \"Geography=Prince Edward Island<br>Time=2020Q2<br>AverageMortgageAmount=%{x}<br>DelinquencyRate=%{y}<br>PopulationSize=%{marker.size}<extra></extra>\", \"ids\": [\"Prince Edward Island\"], \"legendgroup\": \"Prince Edward Island\", \"marker\": {\"color\": \"#EF553B\", \"size\": [159249], \"sizemode\": \"area\", \"sizeref\": 36835.035, \"symbol\": \"circle\"}, \"mode\": \"markers\", \"name\": \"Prince Edward Island\", \"orientation\": \"v\", \"showlegend\": true, \"x\": [189309], \"xaxis\": \"x\", \"y\": [0.26], \"yaxis\": \"y\", \"type\": \"scatter\"}, {\"hovertemplate\": \"Geography=Nova Scotia<br>Time=2020Q2<br>AverageMortgageAmount=%{x}<br>DelinquencyRate=%{y}<br>PopulationSize=%{marker.size}<extra></extra>\", \"ids\": [\"Nova Scotia\"], \"legendgroup\": \"Nova Scotia\", \"marker\": {\"color\": \"#00cc96\", \"size\": [977043], \"sizemode\": \"area\", \"sizeref\": 36835.035, \"symbol\": \"circle\"}, \"mode\": \"markers\", \"name\": \"Nova Scotia\", \"orientation\": \"v\", \"showlegend\": true, \"x\": [192060], \"xaxis\": \"x\", \"y\": [0.47], \"yaxis\": \"y\", \"type\": \"scatter\"}, {\"hovertemplate\": \"Geography=New Brunswick<br>Time=2020Q2<br>AverageMortgageAmount=%{x}<br>DelinquencyRate=%{y}<br>PopulationSize=%{marker.size}<extra></extra>\", \"ids\": [\"New Brunswick\"], \"legendgroup\": \"New Brunswick\", \"marker\": {\"color\": \"#ab63fa\", \"size\": [781024], \"sizemode\": \"area\", \"sizeref\": 36835.035, \"symbol\": \"circle\"}, \"mode\": \"markers\", \"name\": \"New Brunswick\", \"orientation\": \"v\", \"showlegend\": true, \"x\": [149590], \"xaxis\": \"x\", \"y\": [0.54], \"yaxis\": \"y\", \"type\": \"scatter\"}, {\"hovertemplate\": \"Geography=Qu\\u00e9bec<br>Time=2020Q2<br>AverageMortgageAmount=%{x}<br>DelinquencyRate=%{y}<br>PopulationSize=%{marker.size}<extra></extra>\", \"ids\": [\"Qu\\u00e9bec\"], \"legendgroup\": \"Qu\\u00e9bec\", \"marker\": {\"color\": \"#FFA15A\", \"size\": [8572054], \"sizemode\": \"area\", \"sizeref\": 36835.035, \"symbol\": \"circle\"}, \"mode\": \"markers\", \"name\": \"Qu\\u00e9bec\", \"orientation\": \"v\", \"showlegend\": true, \"x\": [195538], \"xaxis\": \"x\", \"y\": [0.34], \"yaxis\": \"y\", \"type\": \"scatter\"}, {\"hovertemplate\": \"Geography=Ontario<br>Time=2020Q2<br>AverageMortgageAmount=%{x}<br>DelinquencyRate=%{y}<br>PopulationSize=%{marker.size}<extra></extra>\", \"ids\": [\"Ontario\"], \"legendgroup\": \"Ontario\", \"marker\": {\"color\": \"#19d3f3\", \"size\": [14723497], \"sizemode\": \"area\", \"sizeref\": 36835.035, \"symbol\": \"circle\"}, \"mode\": \"markers\", \"name\": \"Ontario\", \"orientation\": \"v\", \"showlegend\": true, \"x\": [363432], \"xaxis\": \"x\", \"y\": [0.14], \"yaxis\": \"y\", \"type\": \"scatter\"}, {\"hovertemplate\": \"Geography=Manitoba<br>Time=2020Q2<br>AverageMortgageAmount=%{x}<br>DelinquencyRate=%{y}<br>PopulationSize=%{marker.size}<extra></extra>\", \"ids\": [\"Manitoba\"], \"legendgroup\": \"Manitoba\", \"marker\": {\"color\": \"#FF6692\", \"size\": [1378818], \"sizemode\": \"area\", \"sizeref\": 36835.035, \"symbol\": \"circle\"}, \"mode\": \"markers\", \"name\": \"Manitoba\", \"orientation\": \"v\", \"showlegend\": true, \"x\": [217416], \"xaxis\": \"x\", \"y\": [0.38], \"yaxis\": \"y\", \"type\": \"scatter\"}, {\"hovertemplate\": \"Geography=Saskatchewan<br>Time=2020Q2<br>AverageMortgageAmount=%{x}<br>DelinquencyRate=%{y}<br>PopulationSize=%{marker.size}<extra></extra>\", \"ids\": [\"Saskatchewan\"], \"legendgroup\": \"Saskatchewan\", \"marker\": {\"color\": \"#B6E880\", \"size\": [1179618], \"sizemode\": \"area\", \"sizeref\": 36835.035, \"symbol\": \"circle\"}, \"mode\": \"markers\", \"name\": \"Saskatchewan\", \"orientation\": \"v\", \"showlegend\": true, \"x\": [225641], \"xaxis\": \"x\", \"y\": [0.76], \"yaxis\": \"y\", \"type\": \"scatter\"}, {\"hovertemplate\": \"Geography=Alberta<br>Time=2020Q2<br>AverageMortgageAmount=%{x}<br>DelinquencyRate=%{y}<br>PopulationSize=%{marker.size}<extra></extra>\", \"ids\": [\"Alberta\"], \"legendgroup\": \"Alberta\", \"marker\": {\"color\": \"#FF97FF\", \"size\": [4417006], \"sizemode\": \"area\", \"sizeref\": 36835.035, \"symbol\": \"circle\"}, \"mode\": \"markers\", \"name\": \"Alberta\", \"orientation\": \"v\", \"showlegend\": true, \"x\": [296269], \"xaxis\": \"x\", \"y\": [0.52], \"yaxis\": \"y\", \"type\": \"scatter\"}, {\"hovertemplate\": \"Geography=British Columbia<br>Time=2020Q2<br>AverageMortgageAmount=%{x}<br>DelinquencyRate=%{y}<br>PopulationSize=%{marker.size}<extra></extra>\", \"ids\": [\"British Columbia\"], \"legendgroup\": \"British Columbia\", \"marker\": {\"color\": \"#FECB52\", \"size\": [5142404], \"sizemode\": \"area\", \"sizeref\": 36835.035, \"symbol\": \"circle\"}, \"mode\": \"markers\", \"name\": \"British Columbia\", \"orientation\": \"v\", \"showlegend\": true, \"x\": [397853], \"xaxis\": \"x\", \"y\": [0.19], \"yaxis\": \"y\", \"type\": \"scatter\"}], \"name\": \"2020Q2\"}, {\"data\": [{\"hovertemplate\": \"Geography=Newfoundland<br>Time=2020Q3<br>AverageMortgageAmount=%{x}<br>DelinquencyRate=%{y}<br>PopulationSize=%{marker.size}<extra></extra>\", \"ids\": [\"Newfoundland\"], \"legendgroup\": \"Newfoundland\", \"marker\": {\"color\": \"#636efa\", \"size\": [522103], \"sizemode\": \"area\", \"sizeref\": 36835.035, \"symbol\": \"circle\"}, \"mode\": \"markers\", \"name\": \"Newfoundland\", \"orientation\": \"v\", \"showlegend\": true, \"x\": [196100], \"xaxis\": \"x\", \"y\": [0.64], \"yaxis\": \"y\", \"type\": \"scatter\"}, {\"hovertemplate\": \"Geography=Prince Edward Island<br>Time=2020Q3<br>AverageMortgageAmount=%{x}<br>DelinquencyRate=%{y}<br>PopulationSize=%{marker.size}<extra></extra>\", \"ids\": [\"Prince Edward Island\"], \"legendgroup\": \"Prince Edward Island\", \"marker\": {\"color\": \"#EF553B\", \"size\": [159625], \"sizemode\": \"area\", \"sizeref\": 36835.035, \"symbol\": \"circle\"}, \"mode\": \"markers\", \"name\": \"Prince Edward Island\", \"orientation\": \"v\", \"showlegend\": true, \"x\": [204415], \"xaxis\": \"x\", \"y\": [0.27], \"yaxis\": \"y\", \"type\": \"scatter\"}, {\"hovertemplate\": \"Geography=Nova Scotia<br>Time=2020Q3<br>AverageMortgageAmount=%{x}<br>DelinquencyRate=%{y}<br>PopulationSize=%{marker.size}<extra></extra>\", \"ids\": [\"Nova Scotia\"], \"legendgroup\": \"Nova Scotia\", \"marker\": {\"color\": \"#00cc96\", \"size\": [979351], \"sizemode\": \"area\", \"sizeref\": 36835.035, \"symbol\": \"circle\"}, \"mode\": \"markers\", \"name\": \"Nova Scotia\", \"orientation\": \"v\", \"showlegend\": true, \"x\": [207877], \"xaxis\": \"x\", \"y\": [0.45], \"yaxis\": \"y\", \"type\": \"scatter\"}, {\"hovertemplate\": \"Geography=New Brunswick<br>Time=2020Q3<br>AverageMortgageAmount=%{x}<br>DelinquencyRate=%{y}<br>PopulationSize=%{marker.size}<extra></extra>\", \"ids\": [\"New Brunswick\"], \"legendgroup\": \"New Brunswick\", \"marker\": {\"color\": \"#ab63fa\", \"size\": [781476], \"sizemode\": \"area\", \"sizeref\": 36835.035, \"symbol\": \"circle\"}, \"mode\": \"markers\", \"name\": \"New Brunswick\", \"orientation\": \"v\", \"showlegend\": true, \"x\": [160349], \"xaxis\": \"x\", \"y\": [0.52], \"yaxis\": \"y\", \"type\": \"scatter\"}, {\"hovertemplate\": \"Geography=Qu\\u00e9bec<br>Time=2020Q3<br>AverageMortgageAmount=%{x}<br>DelinquencyRate=%{y}<br>PopulationSize=%{marker.size}<extra></extra>\", \"ids\": [\"Qu\\u00e9bec\"], \"legendgroup\": \"Qu\\u00e9bec\", \"marker\": {\"color\": \"#FFA15A\", \"size\": [8574571], \"sizemode\": \"area\", \"sizeref\": 36835.035, \"symbol\": \"circle\"}, \"mode\": \"markers\", \"name\": \"Qu\\u00e9bec\", \"orientation\": \"v\", \"showlegend\": true, \"x\": [203861], \"xaxis\": \"x\", \"y\": [0.36], \"yaxis\": \"y\", \"type\": \"scatter\"}, {\"hovertemplate\": \"Geography=Ontario<br>Time=2020Q3<br>AverageMortgageAmount=%{x}<br>DelinquencyRate=%{y}<br>PopulationSize=%{marker.size}<extra></extra>\", \"ids\": [\"Ontario\"], \"legendgroup\": \"Ontario\", \"marker\": {\"color\": \"#19d3f3\", \"size\": [14734014], \"sizemode\": \"area\", \"sizeref\": 36835.035, \"symbol\": \"circle\"}, \"mode\": \"markers\", \"name\": \"Ontario\", \"orientation\": \"v\", \"showlegend\": true, \"x\": [373371], \"xaxis\": \"x\", \"y\": [0.14], \"yaxis\": \"y\", \"type\": \"scatter\"}, {\"hovertemplate\": \"Geography=Manitoba<br>Time=2020Q3<br>AverageMortgageAmount=%{x}<br>DelinquencyRate=%{y}<br>PopulationSize=%{marker.size}<extra></extra>\", \"ids\": [\"Manitoba\"], \"legendgroup\": \"Manitoba\", \"marker\": {\"color\": \"#FF6692\", \"size\": [1379263], \"sizemode\": \"area\", \"sizeref\": 36835.035, \"symbol\": \"circle\"}, \"mode\": \"markers\", \"name\": \"Manitoba\", \"orientation\": \"v\", \"showlegend\": true, \"x\": [232725], \"xaxis\": \"x\", \"y\": [0.35], \"yaxis\": \"y\", \"type\": \"scatter\"}, {\"hovertemplate\": \"Geography=Saskatchewan<br>Time=2020Q3<br>AverageMortgageAmount=%{x}<br>DelinquencyRate=%{y}<br>PopulationSize=%{marker.size}<extra></extra>\", \"ids\": [\"Saskatchewan\"], \"legendgroup\": \"Saskatchewan\", \"marker\": {\"color\": \"#B6E880\", \"size\": [1178681], \"sizemode\": \"area\", \"sizeref\": 36835.035, \"symbol\": \"circle\"}, \"mode\": \"markers\", \"name\": \"Saskatchewan\", \"orientation\": \"v\", \"showlegend\": true, \"x\": [237386], \"xaxis\": \"x\", \"y\": [0.72], \"yaxis\": \"y\", \"type\": \"scatter\"}, {\"hovertemplate\": \"Geography=Alberta<br>Time=2020Q3<br>AverageMortgageAmount=%{x}<br>DelinquencyRate=%{y}<br>PopulationSize=%{marker.size}<extra></extra>\", \"ids\": [\"Alberta\"], \"legendgroup\": \"Alberta\", \"marker\": {\"color\": \"#FF97FF\", \"size\": [4421876], \"sizemode\": \"area\", \"sizeref\": 36835.035, \"symbol\": \"circle\"}, \"mode\": \"markers\", \"name\": \"Alberta\", \"orientation\": \"v\", \"showlegend\": true, \"x\": [305600], \"xaxis\": \"x\", \"y\": [0.5], \"yaxis\": \"y\", \"type\": \"scatter\"}, {\"hovertemplate\": \"Geography=British Columbia<br>Time=2020Q3<br>AverageMortgageAmount=%{x}<br>DelinquencyRate=%{y}<br>PopulationSize=%{marker.size}<extra></extra>\", \"ids\": [\"British Columbia\"], \"legendgroup\": \"British Columbia\", \"marker\": {\"color\": \"#FECB52\", \"size\": [5147712], \"sizemode\": \"area\", \"sizeref\": 36835.035, \"symbol\": \"circle\"}, \"mode\": \"markers\", \"name\": \"British Columbia\", \"orientation\": \"v\", \"showlegend\": true, \"x\": [417004], \"xaxis\": \"x\", \"y\": [0.19], \"yaxis\": \"y\", \"type\": \"scatter\"}], \"name\": \"2020Q3\"}]);\n",
       "                        }).then(function(){\n",
       "                            \n",
       "var gd = document.getElementById('00c08e44-ce46-4846-9dcb-0373b05be282');\n",
       "var x = new MutationObserver(function (mutations, observer) {{\n",
       "        var display = window.getComputedStyle(gd).display;\n",
       "        if (!display || display === 'none') {{\n",
       "            console.log([gd, 'removed!']);\n",
       "            Plotly.purge(gd);\n",
       "            observer.disconnect();\n",
       "        }}\n",
       "}});\n",
       "\n",
       "// Listen for the removal of the full notebook cells\n",
       "var notebookContainer = gd.closest('#notebook-container');\n",
       "if (notebookContainer) {{\n",
       "    x.observe(notebookContainer, {childList: true});\n",
       "}}\n",
       "\n",
       "// Listen for the clearing of the current output cell\n",
       "var outputEl = gd.closest('.output');\n",
       "if (outputEl) {{\n",
       "    x.observe(outputEl, {childList: true});\n",
       "}}\n",
       "\n",
       "                        })                };                });            </script>        </div>"
      ]
     },
     "metadata": {},
     "output_type": "display_data"
    }
   ],
   "source": [
    "px.scatter(data_frame=data_pop_del_mort_df,\n",
    "          x = \"AverageMortgageAmount\",\n",
    "          y = \"DelinquencyRate\",\n",
    "          size= \"PopulationSize\",\n",
    "          color= \"Geography\",\n",
    "          animation_frame=\"Time\",\n",
    "           animation_group=\"Geography\")"
   ]
  },
  {
   "cell_type": "code",
   "execution_count": 11,
   "metadata": {},
   "outputs": [
    {
     "data": {
      "application/vnd.plotly.v1+json": {
       "config": {
        "plotlyServerURL": "https://plot.ly"
       },
       "data": [
        {
         "hovertemplate": "<b>%{hovertext}</b><br><br>Geography=Newfoundland<br>AverageMortgageAmount=%{x}<br>DelinquencyRate=%{y}<br>PopulationSize=%{marker.size}<extra></extra>",
         "hovertext": [
          "2012Q3",
          "2012Q4",
          "2013Q1",
          "2013Q2",
          "2013Q3",
          "2013Q4",
          "2014Q1",
          "2014Q2",
          "2014Q3",
          "2014Q4",
          "2015Q1",
          "2015Q2",
          "2015Q3",
          "2015Q4",
          "2016Q1",
          "2016Q2",
          "2016Q3",
          "2016Q4",
          "2017Q1",
          "2017Q2",
          "2017Q3",
          "2017Q4",
          "2018Q1",
          "2018Q2",
          "2018Q3",
          "2018Q4",
          "2019Q1",
          "2019Q2",
          "2019Q3",
          "2019Q4",
          "2020Q1",
          "2020Q2",
          "2020Q3"
         ],
         "legendgroup": "Newfoundland",
         "marker": {
          "color": "#636efa",
          "size": [
           526345,
           527180,
           527248,
           527313,
           527114,
           528117,
           528242,
           527498,
           528159,
           528461,
           528361,
           528063,
           528117,
           528696,
           528800,
           529063,
           529426,
           529900,
           529347,
           528544,
           528249,
           528288,
           527544,
           526395,
           525560,
           525765,
           524883,
           524126,
           523476,
           524137,
           523631,
           522994,
           522103
          ],
          "sizemode": "area",
          "sizeref": 36835.035,
          "symbol": "circle"
         },
         "mode": "markers",
         "name": "Newfoundland",
         "orientation": "v",
         "showlegend": true,
         "type": "scatter",
         "x": [
          188732,
          185794,
          189098,
          181331,
          191818,
          193100,
          195479,
          192856,
          199560,
          200310,
          197406,
          193956,
          199758,
          202487,
          196798,
          196806,
          198265,
          197794,
          192057,
          191412,
          200378,
          193619,
          196431,
          192252,
          192106,
          188614,
          185276,
          190582,
          194536,
          193870,
          186268,
          187431,
          196100
         ],
         "xaxis": "x",
         "y": [
          0.24,
          0.22,
          0.25,
          0.19,
          0.2,
          0.22,
          0.23,
          0.25,
          0.26,
          0.28,
          0.37,
          0.37,
          0.37,
          0.41,
          0.45,
          0.46,
          0.49,
          0.46,
          0.47,
          0.47,
          0.46,
          0.52,
          0.56,
          0.6,
          0.6,
          0.62,
          0.64,
          0.65,
          0.65,
          0.65,
          0.67,
          0.68,
          0.64
         ],
         "yaxis": "y"
        },
        {
         "hovertemplate": "<b>%{hovertext}</b><br><br>Geography=Prince Edward Island<br>AverageMortgageAmount=%{x}<br>DelinquencyRate=%{y}<br>PopulationSize=%{marker.size}<extra></extra>",
         "hovertext": [
          "2012Q3",
          "2012Q4",
          "2013Q1",
          "2013Q2",
          "2013Q3",
          "2013Q4",
          "2014Q1",
          "2014Q2",
          "2014Q3",
          "2014Q4",
          "2015Q1",
          "2015Q2",
          "2015Q3",
          "2015Q4",
          "2016Q1",
          "2016Q2",
          "2016Q3",
          "2016Q4",
          "2017Q1",
          "2017Q2",
          "2017Q3",
          "2017Q4",
          "2018Q1",
          "2018Q2",
          "2018Q3",
          "2018Q4",
          "2019Q1",
          "2019Q2",
          "2019Q3",
          "2019Q4",
          "2020Q1",
          "2020Q2",
          "2020Q3"
         ],
         "legendgroup": "Prince Edward Island",
         "marker": {
          "color": "#EF553B",
          "size": [
           144530,
           144520,
           144175,
           143948,
           144094,
           144103,
           143996,
           143984,
           144283,
           144538,
           144368,
           144259,
           144546,
           144894,
           145202,
           145784,
           146969,
           147936,
           148181,
           148860,
           150402,
           151376,
           151516,
           152039,
           153396,
           155129,
           155244,
           155833,
           157262,
           158334,
           158629,
           159249,
           159625
          ],
          "sizemode": "area",
          "sizeref": 36835.035,
          "symbol": "circle"
         },
         "mode": "markers",
         "name": "Prince Edward Island",
         "orientation": "v",
         "showlegend": true,
         "type": "scatter",
         "x": [
          140279,
          138415,
          137162,
          126763,
          139506,
          141453,
          141141,
          137427,
          143320,
          141232,
          146885,
          146818,
          150403,
          155926,
          157322,
          150732,
          169651,
          155799,
          175124,
          174901,
          176919,
          175523,
          179179,
          182114,
          181967,
          178140,
          181172,
          181358,
          190715,
          185934,
          193439,
          189309,
          204415
         ],
         "xaxis": "x",
         "y": [
          0.57,
          0.5,
          0.55,
          0.47,
          0.56,
          0.58,
          0.6,
          0.6,
          0.56,
          0.57,
          0.68,
          0.62,
          0.63,
          0.67,
          0.7,
          0.7,
          0.67,
          0.6,
          0.66,
          0.55,
          0.54,
          0.44,
          0.5,
          0.45,
          0.43,
          0.39,
          0.39,
          0.38,
          0.34,
          0.32,
          0.25,
          0.26,
          0.27
         ],
         "yaxis": "y"
        },
        {
         "hovertemplate": "<b>%{hovertext}</b><br><br>Geography=Nova Scotia<br>AverageMortgageAmount=%{x}<br>DelinquencyRate=%{y}<br>PopulationSize=%{marker.size}<extra></extra>",
         "hovertext": [
          "2012Q3",
          "2012Q4",
          "2013Q1",
          "2013Q2",
          "2013Q3",
          "2013Q4",
          "2014Q1",
          "2014Q2",
          "2014Q3",
          "2014Q4",
          "2015Q1",
          "2015Q2",
          "2015Q3",
          "2015Q4",
          "2016Q1",
          "2016Q2",
          "2016Q3",
          "2016Q4",
          "2017Q1",
          "2017Q2",
          "2017Q3",
          "2017Q4",
          "2018Q1",
          "2018Q2",
          "2018Q3",
          "2018Q4",
          "2019Q1",
          "2019Q2",
          "2019Q3",
          "2019Q4",
          "2020Q1",
          "2020Q2",
          "2020Q3"
         ],
         "legendgroup": "Nova Scotia",
         "marker": {
          "color": "#00cc96",
          "size": [
           943635,
           943341,
           942598,
           941230,
           940434,
           940105,
           939867,
           938913,
           938545,
           938972,
           938296,
           936271,
           936525,
           938320,
           938690,
           940382,
           942790,
           946030,
           945943,
           947384,
           950108,
           953683,
           953838,
           954618,
           958406,
           963309,
           963890,
           965287,
           969747,
           975231,
           975898,
           977043,
           979351
          ],
          "sizemode": "area",
          "sizeref": 36835.035,
          "symbol": "circle"
         },
         "mode": "markers",
         "name": "Nova Scotia",
         "orientation": "v",
         "showlegend": true,
         "type": "scatter",
         "x": [
          174688,
          160046,
          158806,
          159945,
          166426,
          160189,
          161383,
          157664,
          172827,
          163584,
          163607,
          165288,
          178091,
          172863,
          167596,
          168948,
          178784,
          173305,
          186024,
          182526,
          194802,
          188559,
          185858,
          179407,
          190443,
          179921,
          177863,
          180958,
          193586,
          190168,
          188267,
          192060,
          207877
         ],
         "xaxis": "x",
         "y": [
          0.53,
          0.53,
          0.55,
          0.56,
          0.58,
          0.62,
          0.65,
          0.65,
          0.67,
          0.68,
          0.7,
          0.67,
          0.66,
          0.68,
          0.7,
          0.72,
          0.76,
          0.75,
          0.7,
          0.64,
          0.6,
          0.58,
          0.59,
          0.54,
          0.52,
          0.56,
          0.54,
          0.52,
          0.5,
          0.5,
          0.46,
          0.47,
          0.45
         ],
         "yaxis": "y"
        },
        {
         "hovertemplate": "<b>%{hovertext}</b><br><br>Geography=New Brunswick<br>AverageMortgageAmount=%{x}<br>DelinquencyRate=%{y}<br>PopulationSize=%{marker.size}<extra></extra>",
         "hovertext": [
          "2012Q3",
          "2012Q4",
          "2013Q1",
          "2013Q2",
          "2013Q3",
          "2013Q4",
          "2014Q1",
          "2014Q2",
          "2014Q3",
          "2014Q4",
          "2015Q1",
          "2015Q2",
          "2015Q3",
          "2015Q4",
          "2016Q1",
          "2016Q2",
          "2016Q3",
          "2016Q4",
          "2017Q1",
          "2017Q2",
          "2017Q3",
          "2017Q4",
          "2018Q1",
          "2018Q2",
          "2018Q3",
          "2018Q4",
          "2019Q1",
          "2019Q2",
          "2019Q3",
          "2019Q4",
          "2020Q1",
          "2020Q2",
          "2020Q3"
         ],
         "legendgroup": "New Brunswick",
         "marker": {
          "color": "#ab63fa",
          "size": [
           758378,
           758673,
           758298,
           758132,
           758544,
           758670,
           759018,
           758876,
           758976,
           759524,
           759617,
           758948,
           758842,
           759778,
           760580,
           762289,
           763350,
           764844,
           764617,
           764813,
           766621,
           767935,
           768005,
           768522,
           770301,
           772524,
           772748,
           773805,
           776868,
           780154,
           780040,
           781024,
           781476
          ],
          "sizemode": "area",
          "sizeref": 36835.035,
          "symbol": "circle"
         },
         "mode": "markers",
         "name": "New Brunswick",
         "orientation": "v",
         "showlegend": true,
         "type": "scatter",
         "x": [
          133390,
          126138,
          124645,
          122572,
          131542,
          128155,
          127766,
          124221,
          135592,
          132766,
          132025,
          128378,
          137565,
          137039,
          132325,
          133027,
          143533,
          140124,
          141196,
          135748,
          147934,
          142799,
          139711,
          139750,
          150353,
          143324,
          140850,
          137809,
          152606,
          147047,
          146701,
          149590,
          160349
         ],
         "xaxis": "x",
         "y": [
          0.63,
          0.63,
          0.65,
          0.6,
          0.61,
          0.68,
          0.72,
          0.67,
          0.72,
          0.72,
          0.79,
          0.8,
          0.81,
          0.79,
          0.82,
          0.78,
          0.84,
          0.79,
          0.78,
          0.73,
          0.71,
          0.66,
          0.65,
          0.59,
          0.58,
          0.62,
          0.63,
          0.6,
          0.57,
          0.57,
          0.57,
          0.54,
          0.52
         ],
         "yaxis": "y"
        },
        {
         "hovertemplate": "<b>%{hovertext}</b><br><br>Geography=Québec<br>AverageMortgageAmount=%{x}<br>DelinquencyRate=%{y}<br>PopulationSize=%{marker.size}<extra></extra>",
         "hovertext": [
          "2012Q3",
          "2012Q4",
          "2013Q1",
          "2013Q2",
          "2013Q3",
          "2013Q4",
          "2014Q1",
          "2014Q2",
          "2014Q3",
          "2014Q4",
          "2015Q1",
          "2015Q2",
          "2015Q3",
          "2015Q4",
          "2016Q1",
          "2016Q2",
          "2016Q3",
          "2016Q4",
          "2017Q1",
          "2017Q2",
          "2017Q3",
          "2017Q4",
          "2018Q1",
          "2018Q2",
          "2018Q3",
          "2018Q4",
          "2019Q1",
          "2019Q2",
          "2019Q3",
          "2019Q4",
          "2020Q1",
          "2020Q2",
          "2020Q3"
         ],
         "legendgroup": "Québec",
         "marker": {
          "color": "#FFA15A",
          "size": [
           8061101,
           8078388,
           8082771,
           8090916,
           8110880,
           8124660,
           8125478,
           8132425,
           8150183,
           8165447,
           8163132,
           8163063,
           8175272,
           8190014,
           8193624,
           8204085,
           8225950,
           8249692,
           8257450,
           8272894,
           8302063,
           8336460,
           8350601,
           8367551,
           8401738,
           8433888,
           8446906,
           8465271,
           8501703,
           8540429,
           8556650,
           8572054,
           8574571
          ],
          "sizemode": "area",
          "sizeref": 36835.035,
          "symbol": "circle"
         },
         "mode": "markers",
         "name": "Québec",
         "orientation": "v",
         "showlegend": true,
         "type": "scatter",
         "x": [
          159661,
          153413,
          153909,
          155016,
          160147,
          155512,
          156424,
          160165,
          166426,
          160073,
          161563,
          164764,
          170403,
          164235,
          167154,
          169326,
          176522,
          170309,
          171992,
          171716,
          177306,
          173182,
          175297,
          183507,
          187727,
          173911,
          175658,
          179523,
          187136,
          183501,
          189390,
          195538,
          203861
         ],
         "xaxis": "x",
         "y": [
          0.33,
          0.33,
          0.35,
          0.34,
          0.33,
          0.35,
          0.37,
          0.36,
          0.37,
          0.39,
          0.42,
          0.41,
          0.41,
          0.42,
          0.44,
          0.43,
          0.42,
          0.4,
          0.41,
          0.4,
          0.37,
          0.34,
          0.34,
          0.35,
          0.35,
          0.38,
          0.38,
          0.37,
          0.37,
          0.36,
          0.36,
          0.34,
          0.36
         ],
         "yaxis": "y"
        },
        {
         "hovertemplate": "<b>%{hovertext}</b><br><br>Geography=Ontario<br>AverageMortgageAmount=%{x}<br>DelinquencyRate=%{y}<br>PopulationSize=%{marker.size}<extra></extra>",
         "hovertext": [
          "2012Q3",
          "2012Q4",
          "2013Q1",
          "2013Q2",
          "2013Q3",
          "2013Q4",
          "2014Q1",
          "2014Q2",
          "2014Q3",
          "2014Q4",
          "2015Q1",
          "2015Q2",
          "2015Q3",
          "2015Q4",
          "2016Q1",
          "2016Q2",
          "2016Q3",
          "2016Q4",
          "2017Q1",
          "2017Q2",
          "2017Q3",
          "2017Q4",
          "2018Q1",
          "2018Q2",
          "2018Q3",
          "2018Q4",
          "2019Q1",
          "2019Q2",
          "2019Q3",
          "2019Q4",
          "2020Q1",
          "2020Q2",
          "2020Q3"
         ],
         "legendgroup": "Ontario",
         "marker": {
          "color": "#19d3f3",
          "size": [
           13390632,
           13434943,
           13444704,
           13467829,
           13510781,
           13558528,
           13562583,
           13582747,
           13617553,
           13661314,
           13657737,
           13669860,
           13707118,
           13757688,
           13773629,
           13816545,
           13875394,
           13946431,
           13971785,
           14006386,
           14070141,
           14150783,
           14186830,
           14235643,
           14308697,
           14393683,
           14428712,
           14467162,
           14544718,
           14637880,
           14689075,
           14723497,
           14734014
          ],
          "sizemode": "area",
          "sizeref": 36835.035,
          "symbol": "circle"
         },
         "mode": "markers",
         "name": "Ontario",
         "orientation": "v",
         "showlegend": true,
         "type": "scatter",
         "x": [
          247455,
          235667,
          233122,
          230770,
          249054,
          244060,
          244077,
          240828,
          262838,
          257244,
          254854,
          259093,
          281259,
          277802,
          278626,
          285024,
          307369,
          310236,
          319009,
          326645,
          338561,
          323821,
          322179,
          315576,
          327367,
          321579,
          321074,
          324080,
          343117,
          343768,
          348272,
          363432,
          373371
         ],
         "xaxis": "x",
         "y": [
          0.31,
          0.31,
          0.31,
          0.29,
          0.28,
          0.28,
          0.29,
          0.27,
          0.27,
          0.26,
          0.27,
          0.25,
          0.24,
          0.23,
          0.24,
          0.22,
          0.2,
          0.19,
          0.18,
          0.16,
          0.16,
          0.15,
          0.15,
          0.14,
          0.13,
          0.14,
          0.14,
          0.14,
          0.14,
          0.14,
          0.14,
          0.14,
          0.14
         ],
         "yaxis": "y"
        },
        {
         "hovertemplate": "<b>%{hovertext}</b><br><br>Geography=Manitoba<br>AverageMortgageAmount=%{x}<br>DelinquencyRate=%{y}<br>PopulationSize=%{marker.size}<extra></extra>",
         "hovertext": [
          "2012Q3",
          "2012Q4",
          "2013Q1",
          "2013Q2",
          "2013Q3",
          "2013Q4",
          "2014Q1",
          "2014Q2",
          "2014Q3",
          "2014Q4",
          "2015Q1",
          "2015Q2",
          "2015Q3",
          "2015Q4",
          "2016Q1",
          "2016Q2",
          "2016Q3",
          "2016Q4",
          "2017Q1",
          "2017Q2",
          "2017Q3",
          "2017Q4",
          "2018Q1",
          "2018Q2",
          "2018Q3",
          "2018Q4",
          "2019Q1",
          "2019Q2",
          "2019Q3",
          "2019Q4",
          "2020Q1",
          "2020Q2",
          "2020Q3"
         ],
         "legendgroup": "Manitoba",
         "marker": {
          "color": "#FF6692",
          "size": [
           1249975,
           1254178,
           1257940,
           1260834,
           1264620,
           1268428,
           1271562,
           1274407,
           1279014,
           1283366,
           1286453,
           1288094,
           1292227,
           1297329,
           1302544,
           1307689,
           1314139,
           1319911,
           1324129,
           1328412,
           1334790,
           1340565,
           1344418,
           1347055,
           1352825,
           1357879,
           1361632,
           1364223,
           1369540,
           1373574,
           1377004,
           1378818,
           1379263
          ],
          "sizemode": "area",
          "sizeref": 36835.035,
          "symbol": "circle"
         },
         "mode": "markers",
         "name": "Manitoba",
         "orientation": "v",
         "showlegend": true,
         "type": "scatter",
         "x": [
          188298,
          181097,
          177560,
          177517,
          192732,
          189570,
          188107,
          184554,
          200051,
          197527,
          191444,
          190383,
          206275,
          201640,
          193970,
          196385,
          209051,
          206958,
          203999,
          205085,
          216750,
          217136,
          207988,
          207436,
          220454,
          214060,
          206692,
          214873,
          222637,
          218918,
          212508,
          217416,
          232725
         ],
         "xaxis": "x",
         "y": [
          0.25,
          0.27,
          0.28,
          0.26,
          0.28,
          0.28,
          0.28,
          0.25,
          0.24,
          0.27,
          0.31,
          0.3,
          0.29,
          0.33,
          0.34,
          0.35,
          0.34,
          0.35,
          0.36,
          0.35,
          0.33,
          0.3,
          0.3,
          0.31,
          0.32,
          0.35,
          0.35,
          0.35,
          0.34,
          0.36,
          0.37,
          0.38,
          0.35
         ],
         "yaxis": "y"
        },
        {
         "hovertemplate": "<b>%{hovertext}</b><br><br>Geography=Saskatchewan<br>AverageMortgageAmount=%{x}<br>DelinquencyRate=%{y}<br>PopulationSize=%{marker.size}<extra></extra>",
         "hovertext": [
          "2012Q3",
          "2012Q4",
          "2013Q1",
          "2013Q2",
          "2013Q3",
          "2013Q4",
          "2014Q1",
          "2014Q2",
          "2014Q3",
          "2014Q4",
          "2015Q1",
          "2015Q2",
          "2015Q3",
          "2015Q4",
          "2016Q1",
          "2016Q2",
          "2016Q3",
          "2016Q4",
          "2017Q1",
          "2017Q2",
          "2017Q3",
          "2017Q4",
          "2018Q1",
          "2018Q2",
          "2018Q3",
          "2018Q4",
          "2019Q1",
          "2019Q2",
          "2019Q3",
          "2019Q4",
          "2020Q1",
          "2020Q2",
          "2020Q3"
         ],
         "legendgroup": "Saskatchewan",
         "marker": {
          "color": "#B6E880",
          "size": [
           1083755,
           1088959,
           1091547,
           1094390,
           1099736,
           1103730,
           1106374,
           1109631,
           1112979,
           1116203,
           1118181,
           1118806,
           1120967,
           1124919,
           1127773,
           1131147,
           1135987,
           1140690,
           1143313,
           1146218,
           1150331,
           1154755,
           1156659,
           1158451,
           1161767,
           1165938,
           1168461,
           1169286,
           1172302,
           1176272,
           1179154,
           1179618,
           1178681
          ],
          "sizemode": "area",
          "sizeref": 36835.035,
          "symbol": "circle"
         },
         "mode": "markers",
         "name": "Saskatchewan",
         "orientation": "v",
         "showlegend": true,
         "type": "scatter",
         "x": [
          217945,
          213126,
          206354,
          211979,
          224868,
          225414,
          226559,
          218781,
          231768,
          233854,
          228569,
          226957,
          234840,
          231611,
          225641,
          230729,
          236380,
          232174,
          234786,
          233545,
          238533,
          234340,
          230702,
          229851,
          233255,
          223628,
          217157,
          216369,
          228721,
          224315,
          216188,
          225641,
          237386
         ],
         "xaxis": "x",
         "y": [
          0.37,
          0.37,
          0.36,
          0.34,
          0.3,
          0.32,
          0.35,
          0.31,
          0.32,
          0.36,
          0.41,
          0.43,
          0.45,
          0.49,
          0.54,
          0.57,
          0.61,
          0.62,
          0.62,
          0.66,
          0.65,
          0.66,
          0.66,
          0.67,
          0.7,
          0.72,
          0.74,
          0.75,
          0.73,
          0.73,
          0.75,
          0.76,
          0.72
         ],
         "yaxis": "y"
        },
        {
         "hovertemplate": "<b>%{hovertext}</b><br><br>Geography=Alberta<br>AverageMortgageAmount=%{x}<br>DelinquencyRate=%{y}<br>PopulationSize=%{marker.size}<extra></extra>",
         "hovertext": [
          "2012Q3",
          "2012Q4",
          "2013Q1",
          "2013Q2",
          "2013Q3",
          "2013Q4",
          "2014Q1",
          "2014Q2",
          "2014Q3",
          "2014Q4",
          "2015Q1",
          "2015Q2",
          "2015Q3",
          "2015Q4",
          "2016Q1",
          "2016Q2",
          "2016Q3",
          "2016Q4",
          "2017Q1",
          "2017Q2",
          "2017Q3",
          "2017Q4",
          "2018Q1",
          "2018Q2",
          "2018Q3",
          "2018Q4",
          "2019Q1",
          "2019Q2",
          "2019Q3",
          "2019Q4",
          "2020Q1",
          "2020Q2",
          "2020Q3"
         ],
         "legendgroup": "Alberta",
         "marker": {
          "color": "#FF97FF",
          "size": [
           3874548,
           3900333,
           3920499,
           3946798,
           3981011,
           4010903,
           4029951,
           4054280,
           4083648,
           4106056,
           4116047,
           4128300,
           4144491,
           4159519,
           4169830,
           4181765,
           4196061,
           4208958,
           4217855,
           4227969,
           4241100,
           4258195,
           4268853,
           4281706,
           4298275,
           4317453,
           4330698,
           4343951,
           4361694,
           4384968,
           4402045,
           4417006,
           4421876
          ],
          "sizemode": "area",
          "sizeref": 36835.035,
          "symbol": "circle"
         },
         "mode": "markers",
         "name": "Alberta",
         "orientation": "v",
         "showlegend": true,
         "type": "scatter",
         "x": [
          282371,
          277555,
          277158,
          278516,
          289263,
          284928,
          291926,
          290722,
          304374,
          305558,
          303976,
          299837,
          309953,
          303244,
          296111,
          298884,
          304683,
          302095,
          301254,
          300115,
          307837,
          307662,
          302814,
          302116,
          305101,
          295839,
          291721,
          293612,
          297609,
          297552,
          291747,
          296269,
          305600
         ],
         "xaxis": "x",
         "y": [
          0.6,
          0.55,
          0.52,
          0.47,
          0.45,
          0.43,
          0.42,
          0.37,
          0.34,
          0.32,
          0.32,
          0.33,
          0.35,
          0.36,
          0.41,
          0.45,
          0.53,
          0.53,
          0.54,
          0.52,
          0.51,
          0.5,
          0.5,
          0.46,
          0.47,
          0.5,
          0.51,
          0.53,
          0.51,
          0.5,
          0.52,
          0.52,
          0.5
         ],
         "yaxis": "y"
        },
        {
         "hovertemplate": "<b>%{hovertext}</b><br><br>Geography=British Columbia<br>AverageMortgageAmount=%{x}<br>DelinquencyRate=%{y}<br>PopulationSize=%{marker.size}<extra></extra>",
         "hovertext": [
          "2012Q3",
          "2012Q4",
          "2013Q1",
          "2013Q2",
          "2013Q3",
          "2013Q4",
          "2014Q1",
          "2014Q2",
          "2014Q3",
          "2014Q4",
          "2015Q1",
          "2015Q2",
          "2015Q3",
          "2015Q4",
          "2016Q1",
          "2016Q2",
          "2016Q3",
          "2016Q4",
          "2017Q1",
          "2017Q2",
          "2017Q3",
          "2017Q4",
          "2018Q1",
          "2018Q2",
          "2018Q3",
          "2018Q4",
          "2019Q1",
          "2019Q2",
          "2019Q3",
          "2019Q4",
          "2020Q1",
          "2020Q2",
          "2020Q3"
         ],
         "legendgroup": "British Columbia",
         "marker": {
          "color": "#FECB52",
          "size": [
           4566769,
           4590545,
           4598255,
           4611648,
           4630077,
           4658875,
           4666788,
           4684490,
           4707103,
           4737725,
           4745468,
           4757759,
           4776388,
           4802955,
           4811465,
           4832155,
           4859250,
           4884002,
           4890848,
           4905210,
           4929384,
           4956550,
           4967421,
           4983183,
           5010476,
           5039661,
           5046576,
           5063527,
           5090955,
           5125659,
           5131575,
           5142404,
           5147712
          ],
          "sizemode": "area",
          "sizeref": 36835.035,
          "symbol": "circle"
         },
         "mode": "markers",
         "name": "British Columbia",
         "orientation": "v",
         "showlegend": true,
         "type": "scatter",
         "x": [
          305427,
          289864,
          286652,
          290928,
          303663,
          305256,
          309374,
          305138,
          321625,
          323373,
          325035,
          328540,
          350672,
          357016,
          368782,
          385910,
          395297,
          366703,
          358655,
          369174,
          389430,
          381223,
          384794,
          371860,
          378187,
          364330,
          363239,
          363924,
          376343,
          386494,
          393711,
          397853,
          417004
         ],
         "xaxis": "x",
         "y": [
          0.42,
          0.42,
          0.43,
          0.43,
          0.42,
          0.43,
          0.43,
          0.4,
          0.4,
          0.4,
          0.4,
          0.38,
          0.34,
          0.32,
          0.32,
          0.29,
          0.26,
          0.25,
          0.23,
          0.2,
          0.18,
          0.18,
          0.17,
          0.17,
          0.16,
          0.17,
          0.17,
          0.17,
          0.16,
          0.16,
          0.17,
          0.19,
          0.19
         ],
         "yaxis": "y"
        }
       ],
       "layout": {
        "legend": {
         "itemsizing": "constant",
         "title": {
          "text": "Geography"
         },
         "tracegroupgap": 0
        },
        "margin": {
         "t": 60
        },
        "template": {
         "data": {
          "bar": [
           {
            "error_x": {
             "color": "#2a3f5f"
            },
            "error_y": {
             "color": "#2a3f5f"
            },
            "marker": {
             "line": {
              "color": "#E5ECF6",
              "width": 0.5
             }
            },
            "type": "bar"
           }
          ],
          "barpolar": [
           {
            "marker": {
             "line": {
              "color": "#E5ECF6",
              "width": 0.5
             }
            },
            "type": "barpolar"
           }
          ],
          "carpet": [
           {
            "aaxis": {
             "endlinecolor": "#2a3f5f",
             "gridcolor": "white",
             "linecolor": "white",
             "minorgridcolor": "white",
             "startlinecolor": "#2a3f5f"
            },
            "baxis": {
             "endlinecolor": "#2a3f5f",
             "gridcolor": "white",
             "linecolor": "white",
             "minorgridcolor": "white",
             "startlinecolor": "#2a3f5f"
            },
            "type": "carpet"
           }
          ],
          "choropleth": [
           {
            "colorbar": {
             "outlinewidth": 0,
             "ticks": ""
            },
            "type": "choropleth"
           }
          ],
          "contour": [
           {
            "colorbar": {
             "outlinewidth": 0,
             "ticks": ""
            },
            "colorscale": [
             [
              0,
              "#0d0887"
             ],
             [
              0.1111111111111111,
              "#46039f"
             ],
             [
              0.2222222222222222,
              "#7201a8"
             ],
             [
              0.3333333333333333,
              "#9c179e"
             ],
             [
              0.4444444444444444,
              "#bd3786"
             ],
             [
              0.5555555555555556,
              "#d8576b"
             ],
             [
              0.6666666666666666,
              "#ed7953"
             ],
             [
              0.7777777777777778,
              "#fb9f3a"
             ],
             [
              0.8888888888888888,
              "#fdca26"
             ],
             [
              1,
              "#f0f921"
             ]
            ],
            "type": "contour"
           }
          ],
          "contourcarpet": [
           {
            "colorbar": {
             "outlinewidth": 0,
             "ticks": ""
            },
            "type": "contourcarpet"
           }
          ],
          "heatmap": [
           {
            "colorbar": {
             "outlinewidth": 0,
             "ticks": ""
            },
            "colorscale": [
             [
              0,
              "#0d0887"
             ],
             [
              0.1111111111111111,
              "#46039f"
             ],
             [
              0.2222222222222222,
              "#7201a8"
             ],
             [
              0.3333333333333333,
              "#9c179e"
             ],
             [
              0.4444444444444444,
              "#bd3786"
             ],
             [
              0.5555555555555556,
              "#d8576b"
             ],
             [
              0.6666666666666666,
              "#ed7953"
             ],
             [
              0.7777777777777778,
              "#fb9f3a"
             ],
             [
              0.8888888888888888,
              "#fdca26"
             ],
             [
              1,
              "#f0f921"
             ]
            ],
            "type": "heatmap"
           }
          ],
          "heatmapgl": [
           {
            "colorbar": {
             "outlinewidth": 0,
             "ticks": ""
            },
            "colorscale": [
             [
              0,
              "#0d0887"
             ],
             [
              0.1111111111111111,
              "#46039f"
             ],
             [
              0.2222222222222222,
              "#7201a8"
             ],
             [
              0.3333333333333333,
              "#9c179e"
             ],
             [
              0.4444444444444444,
              "#bd3786"
             ],
             [
              0.5555555555555556,
              "#d8576b"
             ],
             [
              0.6666666666666666,
              "#ed7953"
             ],
             [
              0.7777777777777778,
              "#fb9f3a"
             ],
             [
              0.8888888888888888,
              "#fdca26"
             ],
             [
              1,
              "#f0f921"
             ]
            ],
            "type": "heatmapgl"
           }
          ],
          "histogram": [
           {
            "marker": {
             "colorbar": {
              "outlinewidth": 0,
              "ticks": ""
             }
            },
            "type": "histogram"
           }
          ],
          "histogram2d": [
           {
            "colorbar": {
             "outlinewidth": 0,
             "ticks": ""
            },
            "colorscale": [
             [
              0,
              "#0d0887"
             ],
             [
              0.1111111111111111,
              "#46039f"
             ],
             [
              0.2222222222222222,
              "#7201a8"
             ],
             [
              0.3333333333333333,
              "#9c179e"
             ],
             [
              0.4444444444444444,
              "#bd3786"
             ],
             [
              0.5555555555555556,
              "#d8576b"
             ],
             [
              0.6666666666666666,
              "#ed7953"
             ],
             [
              0.7777777777777778,
              "#fb9f3a"
             ],
             [
              0.8888888888888888,
              "#fdca26"
             ],
             [
              1,
              "#f0f921"
             ]
            ],
            "type": "histogram2d"
           }
          ],
          "histogram2dcontour": [
           {
            "colorbar": {
             "outlinewidth": 0,
             "ticks": ""
            },
            "colorscale": [
             [
              0,
              "#0d0887"
             ],
             [
              0.1111111111111111,
              "#46039f"
             ],
             [
              0.2222222222222222,
              "#7201a8"
             ],
             [
              0.3333333333333333,
              "#9c179e"
             ],
             [
              0.4444444444444444,
              "#bd3786"
             ],
             [
              0.5555555555555556,
              "#d8576b"
             ],
             [
              0.6666666666666666,
              "#ed7953"
             ],
             [
              0.7777777777777778,
              "#fb9f3a"
             ],
             [
              0.8888888888888888,
              "#fdca26"
             ],
             [
              1,
              "#f0f921"
             ]
            ],
            "type": "histogram2dcontour"
           }
          ],
          "mesh3d": [
           {
            "colorbar": {
             "outlinewidth": 0,
             "ticks": ""
            },
            "type": "mesh3d"
           }
          ],
          "parcoords": [
           {
            "line": {
             "colorbar": {
              "outlinewidth": 0,
              "ticks": ""
             }
            },
            "type": "parcoords"
           }
          ],
          "pie": [
           {
            "automargin": true,
            "type": "pie"
           }
          ],
          "scatter": [
           {
            "marker": {
             "colorbar": {
              "outlinewidth": 0,
              "ticks": ""
             }
            },
            "type": "scatter"
           }
          ],
          "scatter3d": [
           {
            "line": {
             "colorbar": {
              "outlinewidth": 0,
              "ticks": ""
             }
            },
            "marker": {
             "colorbar": {
              "outlinewidth": 0,
              "ticks": ""
             }
            },
            "type": "scatter3d"
           }
          ],
          "scattercarpet": [
           {
            "marker": {
             "colorbar": {
              "outlinewidth": 0,
              "ticks": ""
             }
            },
            "type": "scattercarpet"
           }
          ],
          "scattergeo": [
           {
            "marker": {
             "colorbar": {
              "outlinewidth": 0,
              "ticks": ""
             }
            },
            "type": "scattergeo"
           }
          ],
          "scattergl": [
           {
            "marker": {
             "colorbar": {
              "outlinewidth": 0,
              "ticks": ""
             }
            },
            "type": "scattergl"
           }
          ],
          "scattermapbox": [
           {
            "marker": {
             "colorbar": {
              "outlinewidth": 0,
              "ticks": ""
             }
            },
            "type": "scattermapbox"
           }
          ],
          "scatterpolar": [
           {
            "marker": {
             "colorbar": {
              "outlinewidth": 0,
              "ticks": ""
             }
            },
            "type": "scatterpolar"
           }
          ],
          "scatterpolargl": [
           {
            "marker": {
             "colorbar": {
              "outlinewidth": 0,
              "ticks": ""
             }
            },
            "type": "scatterpolargl"
           }
          ],
          "scatterternary": [
           {
            "marker": {
             "colorbar": {
              "outlinewidth": 0,
              "ticks": ""
             }
            },
            "type": "scatterternary"
           }
          ],
          "surface": [
           {
            "colorbar": {
             "outlinewidth": 0,
             "ticks": ""
            },
            "colorscale": [
             [
              0,
              "#0d0887"
             ],
             [
              0.1111111111111111,
              "#46039f"
             ],
             [
              0.2222222222222222,
              "#7201a8"
             ],
             [
              0.3333333333333333,
              "#9c179e"
             ],
             [
              0.4444444444444444,
              "#bd3786"
             ],
             [
              0.5555555555555556,
              "#d8576b"
             ],
             [
              0.6666666666666666,
              "#ed7953"
             ],
             [
              0.7777777777777778,
              "#fb9f3a"
             ],
             [
              0.8888888888888888,
              "#fdca26"
             ],
             [
              1,
              "#f0f921"
             ]
            ],
            "type": "surface"
           }
          ],
          "table": [
           {
            "cells": {
             "fill": {
              "color": "#EBF0F8"
             },
             "line": {
              "color": "white"
             }
            },
            "header": {
             "fill": {
              "color": "#C8D4E3"
             },
             "line": {
              "color": "white"
             }
            },
            "type": "table"
           }
          ]
         },
         "layout": {
          "annotationdefaults": {
           "arrowcolor": "#2a3f5f",
           "arrowhead": 0,
           "arrowwidth": 1
          },
          "autotypenumbers": "strict",
          "coloraxis": {
           "colorbar": {
            "outlinewidth": 0,
            "ticks": ""
           }
          },
          "colorscale": {
           "diverging": [
            [
             0,
             "#8e0152"
            ],
            [
             0.1,
             "#c51b7d"
            ],
            [
             0.2,
             "#de77ae"
            ],
            [
             0.3,
             "#f1b6da"
            ],
            [
             0.4,
             "#fde0ef"
            ],
            [
             0.5,
             "#f7f7f7"
            ],
            [
             0.6,
             "#e6f5d0"
            ],
            [
             0.7,
             "#b8e186"
            ],
            [
             0.8,
             "#7fbc41"
            ],
            [
             0.9,
             "#4d9221"
            ],
            [
             1,
             "#276419"
            ]
           ],
           "sequential": [
            [
             0,
             "#0d0887"
            ],
            [
             0.1111111111111111,
             "#46039f"
            ],
            [
             0.2222222222222222,
             "#7201a8"
            ],
            [
             0.3333333333333333,
             "#9c179e"
            ],
            [
             0.4444444444444444,
             "#bd3786"
            ],
            [
             0.5555555555555556,
             "#d8576b"
            ],
            [
             0.6666666666666666,
             "#ed7953"
            ],
            [
             0.7777777777777778,
             "#fb9f3a"
            ],
            [
             0.8888888888888888,
             "#fdca26"
            ],
            [
             1,
             "#f0f921"
            ]
           ],
           "sequentialminus": [
            [
             0,
             "#0d0887"
            ],
            [
             0.1111111111111111,
             "#46039f"
            ],
            [
             0.2222222222222222,
             "#7201a8"
            ],
            [
             0.3333333333333333,
             "#9c179e"
            ],
            [
             0.4444444444444444,
             "#bd3786"
            ],
            [
             0.5555555555555556,
             "#d8576b"
            ],
            [
             0.6666666666666666,
             "#ed7953"
            ],
            [
             0.7777777777777778,
             "#fb9f3a"
            ],
            [
             0.8888888888888888,
             "#fdca26"
            ],
            [
             1,
             "#f0f921"
            ]
           ]
          },
          "colorway": [
           "#636efa",
           "#EF553B",
           "#00cc96",
           "#ab63fa",
           "#FFA15A",
           "#19d3f3",
           "#FF6692",
           "#B6E880",
           "#FF97FF",
           "#FECB52"
          ],
          "font": {
           "color": "#2a3f5f"
          },
          "geo": {
           "bgcolor": "white",
           "lakecolor": "white",
           "landcolor": "#E5ECF6",
           "showlakes": true,
           "showland": true,
           "subunitcolor": "white"
          },
          "hoverlabel": {
           "align": "left"
          },
          "hovermode": "closest",
          "mapbox": {
           "style": "light"
          },
          "paper_bgcolor": "white",
          "plot_bgcolor": "#E5ECF6",
          "polar": {
           "angularaxis": {
            "gridcolor": "white",
            "linecolor": "white",
            "ticks": ""
           },
           "bgcolor": "#E5ECF6",
           "radialaxis": {
            "gridcolor": "white",
            "linecolor": "white",
            "ticks": ""
           }
          },
          "scene": {
           "xaxis": {
            "backgroundcolor": "#E5ECF6",
            "gridcolor": "white",
            "gridwidth": 2,
            "linecolor": "white",
            "showbackground": true,
            "ticks": "",
            "zerolinecolor": "white"
           },
           "yaxis": {
            "backgroundcolor": "#E5ECF6",
            "gridcolor": "white",
            "gridwidth": 2,
            "linecolor": "white",
            "showbackground": true,
            "ticks": "",
            "zerolinecolor": "white"
           },
           "zaxis": {
            "backgroundcolor": "#E5ECF6",
            "gridcolor": "white",
            "gridwidth": 2,
            "linecolor": "white",
            "showbackground": true,
            "ticks": "",
            "zerolinecolor": "white"
           }
          },
          "shapedefaults": {
           "line": {
            "color": "#2a3f5f"
           }
          },
          "ternary": {
           "aaxis": {
            "gridcolor": "white",
            "linecolor": "white",
            "ticks": ""
           },
           "baxis": {
            "gridcolor": "white",
            "linecolor": "white",
            "ticks": ""
           },
           "bgcolor": "#E5ECF6",
           "caxis": {
            "gridcolor": "white",
            "linecolor": "white",
            "ticks": ""
           }
          },
          "title": {
           "x": 0.05
          },
          "xaxis": {
           "automargin": true,
           "gridcolor": "white",
           "linecolor": "white",
           "ticks": "",
           "title": {
            "standoff": 15
           },
           "zerolinecolor": "white",
           "zerolinewidth": 2
          },
          "yaxis": {
           "automargin": true,
           "gridcolor": "white",
           "linecolor": "white",
           "ticks": "",
           "title": {
            "standoff": 15
           },
           "zerolinecolor": "white",
           "zerolinewidth": 2
          }
         }
        },
        "xaxis": {
         "anchor": "y",
         "domain": [
          0,
          1
         ],
         "title": {
          "text": "AverageMortgageAmount"
         }
        },
        "yaxis": {
         "anchor": "x",
         "domain": [
          0,
          1
         ],
         "title": {
          "text": "DelinquencyRate"
         }
        }
       }
      },
      "text/html": [
       "<div>                            <div id=\"dbec6bac-d7a5-4976-9284-c4f0b799aabd\" class=\"plotly-graph-div\" style=\"height:525px; width:100%;\"></div>            <script type=\"text/javascript\">                require([\"plotly\"], function(Plotly) {                    window.PLOTLYENV=window.PLOTLYENV || {};                                    if (document.getElementById(\"dbec6bac-d7a5-4976-9284-c4f0b799aabd\")) {                    Plotly.newPlot(                        \"dbec6bac-d7a5-4976-9284-c4f0b799aabd\",                        [{\"hovertemplate\": \"<b>%{hovertext}</b><br><br>Geography=Newfoundland<br>AverageMortgageAmount=%{x}<br>DelinquencyRate=%{y}<br>PopulationSize=%{marker.size}<extra></extra>\", \"hovertext\": [\"2012Q3\", \"2012Q4\", \"2013Q1\", \"2013Q2\", \"2013Q3\", \"2013Q4\", \"2014Q1\", \"2014Q2\", \"2014Q3\", \"2014Q4\", \"2015Q1\", \"2015Q2\", \"2015Q3\", \"2015Q4\", \"2016Q1\", \"2016Q2\", \"2016Q3\", \"2016Q4\", \"2017Q1\", \"2017Q2\", \"2017Q3\", \"2017Q4\", \"2018Q1\", \"2018Q2\", \"2018Q3\", \"2018Q4\", \"2019Q1\", \"2019Q2\", \"2019Q3\", \"2019Q4\", \"2020Q1\", \"2020Q2\", \"2020Q3\"], \"legendgroup\": \"Newfoundland\", \"marker\": {\"color\": \"#636efa\", \"size\": [526345, 527180, 527248, 527313, 527114, 528117, 528242, 527498, 528159, 528461, 528361, 528063, 528117, 528696, 528800, 529063, 529426, 529900, 529347, 528544, 528249, 528288, 527544, 526395, 525560, 525765, 524883, 524126, 523476, 524137, 523631, 522994, 522103], \"sizemode\": \"area\", \"sizeref\": 36835.035, \"symbol\": \"circle\"}, \"mode\": \"markers\", \"name\": \"Newfoundland\", \"orientation\": \"v\", \"showlegend\": true, \"type\": \"scatter\", \"x\": [188732, 185794, 189098, 181331, 191818, 193100, 195479, 192856, 199560, 200310, 197406, 193956, 199758, 202487, 196798, 196806, 198265, 197794, 192057, 191412, 200378, 193619, 196431, 192252, 192106, 188614, 185276, 190582, 194536, 193870, 186268, 187431, 196100], \"xaxis\": \"x\", \"y\": [0.24, 0.22, 0.25, 0.19, 0.2, 0.22, 0.23, 0.25, 0.26, 0.28, 0.37, 0.37, 0.37, 0.41, 0.45, 0.46, 0.49, 0.46, 0.47, 0.47, 0.46, 0.52, 0.56, 0.6, 0.6, 0.62, 0.64, 0.65, 0.65, 0.65, 0.67, 0.68, 0.64], \"yaxis\": \"y\"}, {\"hovertemplate\": \"<b>%{hovertext}</b><br><br>Geography=Prince Edward Island<br>AverageMortgageAmount=%{x}<br>DelinquencyRate=%{y}<br>PopulationSize=%{marker.size}<extra></extra>\", \"hovertext\": [\"2012Q3\", \"2012Q4\", \"2013Q1\", \"2013Q2\", \"2013Q3\", \"2013Q4\", \"2014Q1\", \"2014Q2\", \"2014Q3\", \"2014Q4\", \"2015Q1\", \"2015Q2\", \"2015Q3\", \"2015Q4\", \"2016Q1\", \"2016Q2\", \"2016Q3\", \"2016Q4\", \"2017Q1\", \"2017Q2\", \"2017Q3\", \"2017Q4\", \"2018Q1\", \"2018Q2\", \"2018Q3\", \"2018Q4\", \"2019Q1\", \"2019Q2\", \"2019Q3\", \"2019Q4\", \"2020Q1\", \"2020Q2\", \"2020Q3\"], \"legendgroup\": \"Prince Edward Island\", \"marker\": {\"color\": \"#EF553B\", \"size\": [144530, 144520, 144175, 143948, 144094, 144103, 143996, 143984, 144283, 144538, 144368, 144259, 144546, 144894, 145202, 145784, 146969, 147936, 148181, 148860, 150402, 151376, 151516, 152039, 153396, 155129, 155244, 155833, 157262, 158334, 158629, 159249, 159625], \"sizemode\": \"area\", \"sizeref\": 36835.035, \"symbol\": \"circle\"}, \"mode\": \"markers\", \"name\": \"Prince Edward Island\", \"orientation\": \"v\", \"showlegend\": true, \"type\": \"scatter\", \"x\": [140279, 138415, 137162, 126763, 139506, 141453, 141141, 137427, 143320, 141232, 146885, 146818, 150403, 155926, 157322, 150732, 169651, 155799, 175124, 174901, 176919, 175523, 179179, 182114, 181967, 178140, 181172, 181358, 190715, 185934, 193439, 189309, 204415], \"xaxis\": \"x\", \"y\": [0.57, 0.5, 0.55, 0.47, 0.56, 0.58, 0.6, 0.6, 0.56, 0.57, 0.68, 0.62, 0.63, 0.67, 0.7, 0.7, 0.67, 0.6, 0.66, 0.55, 0.54, 0.44, 0.5, 0.45, 0.43, 0.39, 0.39, 0.38, 0.34, 0.32, 0.25, 0.26, 0.27], \"yaxis\": \"y\"}, {\"hovertemplate\": \"<b>%{hovertext}</b><br><br>Geography=Nova Scotia<br>AverageMortgageAmount=%{x}<br>DelinquencyRate=%{y}<br>PopulationSize=%{marker.size}<extra></extra>\", \"hovertext\": [\"2012Q3\", \"2012Q4\", \"2013Q1\", \"2013Q2\", \"2013Q3\", \"2013Q4\", \"2014Q1\", \"2014Q2\", \"2014Q3\", \"2014Q4\", \"2015Q1\", \"2015Q2\", \"2015Q3\", \"2015Q4\", \"2016Q1\", \"2016Q2\", \"2016Q3\", \"2016Q4\", \"2017Q1\", \"2017Q2\", \"2017Q3\", \"2017Q4\", \"2018Q1\", \"2018Q2\", \"2018Q3\", \"2018Q4\", \"2019Q1\", \"2019Q2\", \"2019Q3\", \"2019Q4\", \"2020Q1\", \"2020Q2\", \"2020Q3\"], \"legendgroup\": \"Nova Scotia\", \"marker\": {\"color\": \"#00cc96\", \"size\": [943635, 943341, 942598, 941230, 940434, 940105, 939867, 938913, 938545, 938972, 938296, 936271, 936525, 938320, 938690, 940382, 942790, 946030, 945943, 947384, 950108, 953683, 953838, 954618, 958406, 963309, 963890, 965287, 969747, 975231, 975898, 977043, 979351], \"sizemode\": \"area\", \"sizeref\": 36835.035, \"symbol\": \"circle\"}, \"mode\": \"markers\", \"name\": \"Nova Scotia\", \"orientation\": \"v\", \"showlegend\": true, \"type\": \"scatter\", \"x\": [174688, 160046, 158806, 159945, 166426, 160189, 161383, 157664, 172827, 163584, 163607, 165288, 178091, 172863, 167596, 168948, 178784, 173305, 186024, 182526, 194802, 188559, 185858, 179407, 190443, 179921, 177863, 180958, 193586, 190168, 188267, 192060, 207877], \"xaxis\": \"x\", \"y\": [0.53, 0.53, 0.55, 0.56, 0.58, 0.62, 0.65, 0.65, 0.67, 0.68, 0.7, 0.67, 0.66, 0.68, 0.7, 0.72, 0.76, 0.75, 0.7, 0.64, 0.6, 0.58, 0.59, 0.54, 0.52, 0.56, 0.54, 0.52, 0.5, 0.5, 0.46, 0.47, 0.45], \"yaxis\": \"y\"}, {\"hovertemplate\": \"<b>%{hovertext}</b><br><br>Geography=New Brunswick<br>AverageMortgageAmount=%{x}<br>DelinquencyRate=%{y}<br>PopulationSize=%{marker.size}<extra></extra>\", \"hovertext\": [\"2012Q3\", \"2012Q4\", \"2013Q1\", \"2013Q2\", \"2013Q3\", \"2013Q4\", \"2014Q1\", \"2014Q2\", \"2014Q3\", \"2014Q4\", \"2015Q1\", \"2015Q2\", \"2015Q3\", \"2015Q4\", \"2016Q1\", \"2016Q2\", \"2016Q3\", \"2016Q4\", \"2017Q1\", \"2017Q2\", \"2017Q3\", \"2017Q4\", \"2018Q1\", \"2018Q2\", \"2018Q3\", \"2018Q4\", \"2019Q1\", \"2019Q2\", \"2019Q3\", \"2019Q4\", \"2020Q1\", \"2020Q2\", \"2020Q3\"], \"legendgroup\": \"New Brunswick\", \"marker\": {\"color\": \"#ab63fa\", \"size\": [758378, 758673, 758298, 758132, 758544, 758670, 759018, 758876, 758976, 759524, 759617, 758948, 758842, 759778, 760580, 762289, 763350, 764844, 764617, 764813, 766621, 767935, 768005, 768522, 770301, 772524, 772748, 773805, 776868, 780154, 780040, 781024, 781476], \"sizemode\": \"area\", \"sizeref\": 36835.035, \"symbol\": \"circle\"}, \"mode\": \"markers\", \"name\": \"New Brunswick\", \"orientation\": \"v\", \"showlegend\": true, \"type\": \"scatter\", \"x\": [133390, 126138, 124645, 122572, 131542, 128155, 127766, 124221, 135592, 132766, 132025, 128378, 137565, 137039, 132325, 133027, 143533, 140124, 141196, 135748, 147934, 142799, 139711, 139750, 150353, 143324, 140850, 137809, 152606, 147047, 146701, 149590, 160349], \"xaxis\": \"x\", \"y\": [0.63, 0.63, 0.65, 0.6, 0.61, 0.68, 0.72, 0.67, 0.72, 0.72, 0.79, 0.8, 0.81, 0.79, 0.82, 0.78, 0.84, 0.79, 0.78, 0.73, 0.71, 0.66, 0.65, 0.59, 0.58, 0.62, 0.63, 0.6, 0.57, 0.57, 0.57, 0.54, 0.52], \"yaxis\": \"y\"}, {\"hovertemplate\": \"<b>%{hovertext}</b><br><br>Geography=Qu\\u00e9bec<br>AverageMortgageAmount=%{x}<br>DelinquencyRate=%{y}<br>PopulationSize=%{marker.size}<extra></extra>\", \"hovertext\": [\"2012Q3\", \"2012Q4\", \"2013Q1\", \"2013Q2\", \"2013Q3\", \"2013Q4\", \"2014Q1\", \"2014Q2\", \"2014Q3\", \"2014Q4\", \"2015Q1\", \"2015Q2\", \"2015Q3\", \"2015Q4\", \"2016Q1\", \"2016Q2\", \"2016Q3\", \"2016Q4\", \"2017Q1\", \"2017Q2\", \"2017Q3\", \"2017Q4\", \"2018Q1\", \"2018Q2\", \"2018Q3\", \"2018Q4\", \"2019Q1\", \"2019Q2\", \"2019Q3\", \"2019Q4\", \"2020Q1\", \"2020Q2\", \"2020Q3\"], \"legendgroup\": \"Qu\\u00e9bec\", \"marker\": {\"color\": \"#FFA15A\", \"size\": [8061101, 8078388, 8082771, 8090916, 8110880, 8124660, 8125478, 8132425, 8150183, 8165447, 8163132, 8163063, 8175272, 8190014, 8193624, 8204085, 8225950, 8249692, 8257450, 8272894, 8302063, 8336460, 8350601, 8367551, 8401738, 8433888, 8446906, 8465271, 8501703, 8540429, 8556650, 8572054, 8574571], \"sizemode\": \"area\", \"sizeref\": 36835.035, \"symbol\": \"circle\"}, \"mode\": \"markers\", \"name\": \"Qu\\u00e9bec\", \"orientation\": \"v\", \"showlegend\": true, \"type\": \"scatter\", \"x\": [159661, 153413, 153909, 155016, 160147, 155512, 156424, 160165, 166426, 160073, 161563, 164764, 170403, 164235, 167154, 169326, 176522, 170309, 171992, 171716, 177306, 173182, 175297, 183507, 187727, 173911, 175658, 179523, 187136, 183501, 189390, 195538, 203861], \"xaxis\": \"x\", \"y\": [0.33, 0.33, 0.35, 0.34, 0.33, 0.35, 0.37, 0.36, 0.37, 0.39, 0.42, 0.41, 0.41, 0.42, 0.44, 0.43, 0.42, 0.4, 0.41, 0.4, 0.37, 0.34, 0.34, 0.35, 0.35, 0.38, 0.38, 0.37, 0.37, 0.36, 0.36, 0.34, 0.36], \"yaxis\": \"y\"}, {\"hovertemplate\": \"<b>%{hovertext}</b><br><br>Geography=Ontario<br>AverageMortgageAmount=%{x}<br>DelinquencyRate=%{y}<br>PopulationSize=%{marker.size}<extra></extra>\", \"hovertext\": [\"2012Q3\", \"2012Q4\", \"2013Q1\", \"2013Q2\", \"2013Q3\", \"2013Q4\", \"2014Q1\", \"2014Q2\", \"2014Q3\", \"2014Q4\", \"2015Q1\", \"2015Q2\", \"2015Q3\", \"2015Q4\", \"2016Q1\", \"2016Q2\", \"2016Q3\", \"2016Q4\", \"2017Q1\", \"2017Q2\", \"2017Q3\", \"2017Q4\", \"2018Q1\", \"2018Q2\", \"2018Q3\", \"2018Q4\", \"2019Q1\", \"2019Q2\", \"2019Q3\", \"2019Q4\", \"2020Q1\", \"2020Q2\", \"2020Q3\"], \"legendgroup\": \"Ontario\", \"marker\": {\"color\": \"#19d3f3\", \"size\": [13390632, 13434943, 13444704, 13467829, 13510781, 13558528, 13562583, 13582747, 13617553, 13661314, 13657737, 13669860, 13707118, 13757688, 13773629, 13816545, 13875394, 13946431, 13971785, 14006386, 14070141, 14150783, 14186830, 14235643, 14308697, 14393683, 14428712, 14467162, 14544718, 14637880, 14689075, 14723497, 14734014], \"sizemode\": \"area\", \"sizeref\": 36835.035, \"symbol\": \"circle\"}, \"mode\": \"markers\", \"name\": \"Ontario\", \"orientation\": \"v\", \"showlegend\": true, \"type\": \"scatter\", \"x\": [247455, 235667, 233122, 230770, 249054, 244060, 244077, 240828, 262838, 257244, 254854, 259093, 281259, 277802, 278626, 285024, 307369, 310236, 319009, 326645, 338561, 323821, 322179, 315576, 327367, 321579, 321074, 324080, 343117, 343768, 348272, 363432, 373371], \"xaxis\": \"x\", \"y\": [0.31, 0.31, 0.31, 0.29, 0.28, 0.28, 0.29, 0.27, 0.27, 0.26, 0.27, 0.25, 0.24, 0.23, 0.24, 0.22, 0.2, 0.19, 0.18, 0.16, 0.16, 0.15, 0.15, 0.14, 0.13, 0.14, 0.14, 0.14, 0.14, 0.14, 0.14, 0.14, 0.14], \"yaxis\": \"y\"}, {\"hovertemplate\": \"<b>%{hovertext}</b><br><br>Geography=Manitoba<br>AverageMortgageAmount=%{x}<br>DelinquencyRate=%{y}<br>PopulationSize=%{marker.size}<extra></extra>\", \"hovertext\": [\"2012Q3\", \"2012Q4\", \"2013Q1\", \"2013Q2\", \"2013Q3\", \"2013Q4\", \"2014Q1\", \"2014Q2\", \"2014Q3\", \"2014Q4\", \"2015Q1\", \"2015Q2\", \"2015Q3\", \"2015Q4\", \"2016Q1\", \"2016Q2\", \"2016Q3\", \"2016Q4\", \"2017Q1\", \"2017Q2\", \"2017Q3\", \"2017Q4\", \"2018Q1\", \"2018Q2\", \"2018Q3\", \"2018Q4\", \"2019Q1\", \"2019Q2\", \"2019Q3\", \"2019Q4\", \"2020Q1\", \"2020Q2\", \"2020Q3\"], \"legendgroup\": \"Manitoba\", \"marker\": {\"color\": \"#FF6692\", \"size\": [1249975, 1254178, 1257940, 1260834, 1264620, 1268428, 1271562, 1274407, 1279014, 1283366, 1286453, 1288094, 1292227, 1297329, 1302544, 1307689, 1314139, 1319911, 1324129, 1328412, 1334790, 1340565, 1344418, 1347055, 1352825, 1357879, 1361632, 1364223, 1369540, 1373574, 1377004, 1378818, 1379263], \"sizemode\": \"area\", \"sizeref\": 36835.035, \"symbol\": \"circle\"}, \"mode\": \"markers\", \"name\": \"Manitoba\", \"orientation\": \"v\", \"showlegend\": true, \"type\": \"scatter\", \"x\": [188298, 181097, 177560, 177517, 192732, 189570, 188107, 184554, 200051, 197527, 191444, 190383, 206275, 201640, 193970, 196385, 209051, 206958, 203999, 205085, 216750, 217136, 207988, 207436, 220454, 214060, 206692, 214873, 222637, 218918, 212508, 217416, 232725], \"xaxis\": \"x\", \"y\": [0.25, 0.27, 0.28, 0.26, 0.28, 0.28, 0.28, 0.25, 0.24, 0.27, 0.31, 0.3, 0.29, 0.33, 0.34, 0.35, 0.34, 0.35, 0.36, 0.35, 0.33, 0.3, 0.3, 0.31, 0.32, 0.35, 0.35, 0.35, 0.34, 0.36, 0.37, 0.38, 0.35], \"yaxis\": \"y\"}, {\"hovertemplate\": \"<b>%{hovertext}</b><br><br>Geography=Saskatchewan<br>AverageMortgageAmount=%{x}<br>DelinquencyRate=%{y}<br>PopulationSize=%{marker.size}<extra></extra>\", \"hovertext\": [\"2012Q3\", \"2012Q4\", \"2013Q1\", \"2013Q2\", \"2013Q3\", \"2013Q4\", \"2014Q1\", \"2014Q2\", \"2014Q3\", \"2014Q4\", \"2015Q1\", \"2015Q2\", \"2015Q3\", \"2015Q4\", \"2016Q1\", \"2016Q2\", \"2016Q3\", \"2016Q4\", \"2017Q1\", \"2017Q2\", \"2017Q3\", \"2017Q4\", \"2018Q1\", \"2018Q2\", \"2018Q3\", \"2018Q4\", \"2019Q1\", \"2019Q2\", \"2019Q3\", \"2019Q4\", \"2020Q1\", \"2020Q2\", \"2020Q3\"], \"legendgroup\": \"Saskatchewan\", \"marker\": {\"color\": \"#B6E880\", \"size\": [1083755, 1088959, 1091547, 1094390, 1099736, 1103730, 1106374, 1109631, 1112979, 1116203, 1118181, 1118806, 1120967, 1124919, 1127773, 1131147, 1135987, 1140690, 1143313, 1146218, 1150331, 1154755, 1156659, 1158451, 1161767, 1165938, 1168461, 1169286, 1172302, 1176272, 1179154, 1179618, 1178681], \"sizemode\": \"area\", \"sizeref\": 36835.035, \"symbol\": \"circle\"}, \"mode\": \"markers\", \"name\": \"Saskatchewan\", \"orientation\": \"v\", \"showlegend\": true, \"type\": \"scatter\", \"x\": [217945, 213126, 206354, 211979, 224868, 225414, 226559, 218781, 231768, 233854, 228569, 226957, 234840, 231611, 225641, 230729, 236380, 232174, 234786, 233545, 238533, 234340, 230702, 229851, 233255, 223628, 217157, 216369, 228721, 224315, 216188, 225641, 237386], \"xaxis\": \"x\", \"y\": [0.37, 0.37, 0.36, 0.34, 0.3, 0.32, 0.35, 0.31, 0.32, 0.36, 0.41, 0.43, 0.45, 0.49, 0.54, 0.57, 0.61, 0.62, 0.62, 0.66, 0.65, 0.66, 0.66, 0.67, 0.7, 0.72, 0.74, 0.75, 0.73, 0.73, 0.75, 0.76, 0.72], \"yaxis\": \"y\"}, {\"hovertemplate\": \"<b>%{hovertext}</b><br><br>Geography=Alberta<br>AverageMortgageAmount=%{x}<br>DelinquencyRate=%{y}<br>PopulationSize=%{marker.size}<extra></extra>\", \"hovertext\": [\"2012Q3\", \"2012Q4\", \"2013Q1\", \"2013Q2\", \"2013Q3\", \"2013Q4\", \"2014Q1\", \"2014Q2\", \"2014Q3\", \"2014Q4\", \"2015Q1\", \"2015Q2\", \"2015Q3\", \"2015Q4\", \"2016Q1\", \"2016Q2\", \"2016Q3\", \"2016Q4\", \"2017Q1\", \"2017Q2\", \"2017Q3\", \"2017Q4\", \"2018Q1\", \"2018Q2\", \"2018Q3\", \"2018Q4\", \"2019Q1\", \"2019Q2\", \"2019Q3\", \"2019Q4\", \"2020Q1\", \"2020Q2\", \"2020Q3\"], \"legendgroup\": \"Alberta\", \"marker\": {\"color\": \"#FF97FF\", \"size\": [3874548, 3900333, 3920499, 3946798, 3981011, 4010903, 4029951, 4054280, 4083648, 4106056, 4116047, 4128300, 4144491, 4159519, 4169830, 4181765, 4196061, 4208958, 4217855, 4227969, 4241100, 4258195, 4268853, 4281706, 4298275, 4317453, 4330698, 4343951, 4361694, 4384968, 4402045, 4417006, 4421876], \"sizemode\": \"area\", \"sizeref\": 36835.035, \"symbol\": \"circle\"}, \"mode\": \"markers\", \"name\": \"Alberta\", \"orientation\": \"v\", \"showlegend\": true, \"type\": \"scatter\", \"x\": [282371, 277555, 277158, 278516, 289263, 284928, 291926, 290722, 304374, 305558, 303976, 299837, 309953, 303244, 296111, 298884, 304683, 302095, 301254, 300115, 307837, 307662, 302814, 302116, 305101, 295839, 291721, 293612, 297609, 297552, 291747, 296269, 305600], \"xaxis\": \"x\", \"y\": [0.6, 0.55, 0.52, 0.47, 0.45, 0.43, 0.42, 0.37, 0.34, 0.32, 0.32, 0.33, 0.35, 0.36, 0.41, 0.45, 0.53, 0.53, 0.54, 0.52, 0.51, 0.5, 0.5, 0.46, 0.47, 0.5, 0.51, 0.53, 0.51, 0.5, 0.52, 0.52, 0.5], \"yaxis\": \"y\"}, {\"hovertemplate\": \"<b>%{hovertext}</b><br><br>Geography=British Columbia<br>AverageMortgageAmount=%{x}<br>DelinquencyRate=%{y}<br>PopulationSize=%{marker.size}<extra></extra>\", \"hovertext\": [\"2012Q3\", \"2012Q4\", \"2013Q1\", \"2013Q2\", \"2013Q3\", \"2013Q4\", \"2014Q1\", \"2014Q2\", \"2014Q3\", \"2014Q4\", \"2015Q1\", \"2015Q2\", \"2015Q3\", \"2015Q4\", \"2016Q1\", \"2016Q2\", \"2016Q3\", \"2016Q4\", \"2017Q1\", \"2017Q2\", \"2017Q3\", \"2017Q4\", \"2018Q1\", \"2018Q2\", \"2018Q3\", \"2018Q4\", \"2019Q1\", \"2019Q2\", \"2019Q3\", \"2019Q4\", \"2020Q1\", \"2020Q2\", \"2020Q3\"], \"legendgroup\": \"British Columbia\", \"marker\": {\"color\": \"#FECB52\", \"size\": [4566769, 4590545, 4598255, 4611648, 4630077, 4658875, 4666788, 4684490, 4707103, 4737725, 4745468, 4757759, 4776388, 4802955, 4811465, 4832155, 4859250, 4884002, 4890848, 4905210, 4929384, 4956550, 4967421, 4983183, 5010476, 5039661, 5046576, 5063527, 5090955, 5125659, 5131575, 5142404, 5147712], \"sizemode\": \"area\", \"sizeref\": 36835.035, \"symbol\": \"circle\"}, \"mode\": \"markers\", \"name\": \"British Columbia\", \"orientation\": \"v\", \"showlegend\": true, \"type\": \"scatter\", \"x\": [305427, 289864, 286652, 290928, 303663, 305256, 309374, 305138, 321625, 323373, 325035, 328540, 350672, 357016, 368782, 385910, 395297, 366703, 358655, 369174, 389430, 381223, 384794, 371860, 378187, 364330, 363239, 363924, 376343, 386494, 393711, 397853, 417004], \"xaxis\": \"x\", \"y\": [0.42, 0.42, 0.43, 0.43, 0.42, 0.43, 0.43, 0.4, 0.4, 0.4, 0.4, 0.38, 0.34, 0.32, 0.32, 0.29, 0.26, 0.25, 0.23, 0.2, 0.18, 0.18, 0.17, 0.17, 0.16, 0.17, 0.17, 0.17, 0.16, 0.16, 0.17, 0.19, 0.19], \"yaxis\": \"y\"}],                        {\"legend\": {\"itemsizing\": \"constant\", \"title\": {\"text\": \"Geography\"}, \"tracegroupgap\": 0}, \"margin\": {\"t\": 60}, \"template\": {\"data\": {\"bar\": [{\"error_x\": {\"color\": \"#2a3f5f\"}, \"error_y\": {\"color\": \"#2a3f5f\"}, \"marker\": {\"line\": {\"color\": \"#E5ECF6\", \"width\": 0.5}}, \"type\": \"bar\"}], \"barpolar\": [{\"marker\": {\"line\": {\"color\": \"#E5ECF6\", \"width\": 0.5}}, \"type\": \"barpolar\"}], \"carpet\": [{\"aaxis\": {\"endlinecolor\": \"#2a3f5f\", \"gridcolor\": \"white\", \"linecolor\": \"white\", \"minorgridcolor\": \"white\", \"startlinecolor\": \"#2a3f5f\"}, \"baxis\": {\"endlinecolor\": \"#2a3f5f\", \"gridcolor\": \"white\", \"linecolor\": \"white\", \"minorgridcolor\": \"white\", \"startlinecolor\": \"#2a3f5f\"}, \"type\": \"carpet\"}], \"choropleth\": [{\"colorbar\": {\"outlinewidth\": 0, \"ticks\": \"\"}, \"type\": \"choropleth\"}], \"contour\": [{\"colorbar\": {\"outlinewidth\": 0, \"ticks\": \"\"}, \"colorscale\": [[0.0, \"#0d0887\"], [0.1111111111111111, \"#46039f\"], [0.2222222222222222, \"#7201a8\"], [0.3333333333333333, \"#9c179e\"], [0.4444444444444444, \"#bd3786\"], [0.5555555555555556, \"#d8576b\"], [0.6666666666666666, \"#ed7953\"], [0.7777777777777778, \"#fb9f3a\"], [0.8888888888888888, \"#fdca26\"], [1.0, \"#f0f921\"]], \"type\": \"contour\"}], \"contourcarpet\": [{\"colorbar\": {\"outlinewidth\": 0, \"ticks\": \"\"}, \"type\": \"contourcarpet\"}], \"heatmap\": [{\"colorbar\": {\"outlinewidth\": 0, \"ticks\": \"\"}, \"colorscale\": [[0.0, \"#0d0887\"], [0.1111111111111111, \"#46039f\"], [0.2222222222222222, \"#7201a8\"], [0.3333333333333333, \"#9c179e\"], [0.4444444444444444, \"#bd3786\"], [0.5555555555555556, \"#d8576b\"], [0.6666666666666666, \"#ed7953\"], [0.7777777777777778, \"#fb9f3a\"], [0.8888888888888888, \"#fdca26\"], [1.0, \"#f0f921\"]], \"type\": \"heatmap\"}], \"heatmapgl\": [{\"colorbar\": {\"outlinewidth\": 0, \"ticks\": \"\"}, \"colorscale\": [[0.0, \"#0d0887\"], [0.1111111111111111, \"#46039f\"], [0.2222222222222222, \"#7201a8\"], [0.3333333333333333, \"#9c179e\"], [0.4444444444444444, \"#bd3786\"], [0.5555555555555556, \"#d8576b\"], [0.6666666666666666, \"#ed7953\"], [0.7777777777777778, \"#fb9f3a\"], [0.8888888888888888, \"#fdca26\"], [1.0, \"#f0f921\"]], \"type\": \"heatmapgl\"}], \"histogram\": [{\"marker\": {\"colorbar\": {\"outlinewidth\": 0, \"ticks\": \"\"}}, \"type\": \"histogram\"}], \"histogram2d\": [{\"colorbar\": {\"outlinewidth\": 0, \"ticks\": \"\"}, \"colorscale\": [[0.0, \"#0d0887\"], [0.1111111111111111, \"#46039f\"], [0.2222222222222222, \"#7201a8\"], [0.3333333333333333, \"#9c179e\"], [0.4444444444444444, \"#bd3786\"], [0.5555555555555556, \"#d8576b\"], [0.6666666666666666, \"#ed7953\"], [0.7777777777777778, \"#fb9f3a\"], [0.8888888888888888, \"#fdca26\"], [1.0, \"#f0f921\"]], \"type\": \"histogram2d\"}], \"histogram2dcontour\": [{\"colorbar\": {\"outlinewidth\": 0, \"ticks\": \"\"}, \"colorscale\": [[0.0, \"#0d0887\"], [0.1111111111111111, \"#46039f\"], [0.2222222222222222, \"#7201a8\"], [0.3333333333333333, \"#9c179e\"], [0.4444444444444444, \"#bd3786\"], [0.5555555555555556, \"#d8576b\"], [0.6666666666666666, \"#ed7953\"], [0.7777777777777778, \"#fb9f3a\"], [0.8888888888888888, \"#fdca26\"], [1.0, \"#f0f921\"]], \"type\": \"histogram2dcontour\"}], \"mesh3d\": [{\"colorbar\": {\"outlinewidth\": 0, \"ticks\": \"\"}, \"type\": \"mesh3d\"}], \"parcoords\": [{\"line\": {\"colorbar\": {\"outlinewidth\": 0, \"ticks\": \"\"}}, \"type\": \"parcoords\"}], \"pie\": [{\"automargin\": true, \"type\": \"pie\"}], \"scatter\": [{\"marker\": {\"colorbar\": {\"outlinewidth\": 0, \"ticks\": \"\"}}, \"type\": \"scatter\"}], \"scatter3d\": [{\"line\": {\"colorbar\": {\"outlinewidth\": 0, \"ticks\": \"\"}}, \"marker\": {\"colorbar\": {\"outlinewidth\": 0, \"ticks\": \"\"}}, \"type\": \"scatter3d\"}], \"scattercarpet\": [{\"marker\": {\"colorbar\": {\"outlinewidth\": 0, \"ticks\": \"\"}}, \"type\": \"scattercarpet\"}], \"scattergeo\": [{\"marker\": {\"colorbar\": {\"outlinewidth\": 0, \"ticks\": \"\"}}, \"type\": \"scattergeo\"}], \"scattergl\": [{\"marker\": {\"colorbar\": {\"outlinewidth\": 0, \"ticks\": \"\"}}, \"type\": \"scattergl\"}], \"scattermapbox\": [{\"marker\": {\"colorbar\": {\"outlinewidth\": 0, \"ticks\": \"\"}}, \"type\": \"scattermapbox\"}], \"scatterpolar\": [{\"marker\": {\"colorbar\": {\"outlinewidth\": 0, \"ticks\": \"\"}}, \"type\": \"scatterpolar\"}], \"scatterpolargl\": [{\"marker\": {\"colorbar\": {\"outlinewidth\": 0, \"ticks\": \"\"}}, \"type\": \"scatterpolargl\"}], \"scatterternary\": [{\"marker\": {\"colorbar\": {\"outlinewidth\": 0, \"ticks\": \"\"}}, \"type\": \"scatterternary\"}], \"surface\": [{\"colorbar\": {\"outlinewidth\": 0, \"ticks\": \"\"}, \"colorscale\": [[0.0, \"#0d0887\"], [0.1111111111111111, \"#46039f\"], [0.2222222222222222, \"#7201a8\"], [0.3333333333333333, \"#9c179e\"], [0.4444444444444444, \"#bd3786\"], [0.5555555555555556, \"#d8576b\"], [0.6666666666666666, \"#ed7953\"], [0.7777777777777778, \"#fb9f3a\"], [0.8888888888888888, \"#fdca26\"], [1.0, \"#f0f921\"]], \"type\": \"surface\"}], \"table\": [{\"cells\": {\"fill\": {\"color\": \"#EBF0F8\"}, \"line\": {\"color\": \"white\"}}, \"header\": {\"fill\": {\"color\": \"#C8D4E3\"}, \"line\": {\"color\": \"white\"}}, \"type\": \"table\"}]}, \"layout\": {\"annotationdefaults\": {\"arrowcolor\": \"#2a3f5f\", \"arrowhead\": 0, \"arrowwidth\": 1}, \"autotypenumbers\": \"strict\", \"coloraxis\": {\"colorbar\": {\"outlinewidth\": 0, \"ticks\": \"\"}}, \"colorscale\": {\"diverging\": [[0, \"#8e0152\"], [0.1, \"#c51b7d\"], [0.2, \"#de77ae\"], [0.3, \"#f1b6da\"], [0.4, \"#fde0ef\"], [0.5, \"#f7f7f7\"], [0.6, \"#e6f5d0\"], [0.7, \"#b8e186\"], [0.8, \"#7fbc41\"], [0.9, \"#4d9221\"], [1, \"#276419\"]], \"sequential\": [[0.0, \"#0d0887\"], [0.1111111111111111, \"#46039f\"], [0.2222222222222222, \"#7201a8\"], [0.3333333333333333, \"#9c179e\"], [0.4444444444444444, \"#bd3786\"], [0.5555555555555556, \"#d8576b\"], [0.6666666666666666, \"#ed7953\"], [0.7777777777777778, \"#fb9f3a\"], [0.8888888888888888, \"#fdca26\"], [1.0, \"#f0f921\"]], \"sequentialminus\": [[0.0, \"#0d0887\"], [0.1111111111111111, \"#46039f\"], [0.2222222222222222, \"#7201a8\"], [0.3333333333333333, \"#9c179e\"], [0.4444444444444444, \"#bd3786\"], [0.5555555555555556, \"#d8576b\"], [0.6666666666666666, \"#ed7953\"], [0.7777777777777778, \"#fb9f3a\"], [0.8888888888888888, \"#fdca26\"], [1.0, \"#f0f921\"]]}, \"colorway\": [\"#636efa\", \"#EF553B\", \"#00cc96\", \"#ab63fa\", \"#FFA15A\", \"#19d3f3\", \"#FF6692\", \"#B6E880\", \"#FF97FF\", \"#FECB52\"], \"font\": {\"color\": \"#2a3f5f\"}, \"geo\": {\"bgcolor\": \"white\", \"lakecolor\": \"white\", \"landcolor\": \"#E5ECF6\", \"showlakes\": true, \"showland\": true, \"subunitcolor\": \"white\"}, \"hoverlabel\": {\"align\": \"left\"}, \"hovermode\": \"closest\", \"mapbox\": {\"style\": \"light\"}, \"paper_bgcolor\": \"white\", \"plot_bgcolor\": \"#E5ECF6\", \"polar\": {\"angularaxis\": {\"gridcolor\": \"white\", \"linecolor\": \"white\", \"ticks\": \"\"}, \"bgcolor\": \"#E5ECF6\", \"radialaxis\": {\"gridcolor\": \"white\", \"linecolor\": \"white\", \"ticks\": \"\"}}, \"scene\": {\"xaxis\": {\"backgroundcolor\": \"#E5ECF6\", \"gridcolor\": \"white\", \"gridwidth\": 2, \"linecolor\": \"white\", \"showbackground\": true, \"ticks\": \"\", \"zerolinecolor\": \"white\"}, \"yaxis\": {\"backgroundcolor\": \"#E5ECF6\", \"gridcolor\": \"white\", \"gridwidth\": 2, \"linecolor\": \"white\", \"showbackground\": true, \"ticks\": \"\", \"zerolinecolor\": \"white\"}, \"zaxis\": {\"backgroundcolor\": \"#E5ECF6\", \"gridcolor\": \"white\", \"gridwidth\": 2, \"linecolor\": \"white\", \"showbackground\": true, \"ticks\": \"\", \"zerolinecolor\": \"white\"}}, \"shapedefaults\": {\"line\": {\"color\": \"#2a3f5f\"}}, \"ternary\": {\"aaxis\": {\"gridcolor\": \"white\", \"linecolor\": \"white\", \"ticks\": \"\"}, \"baxis\": {\"gridcolor\": \"white\", \"linecolor\": \"white\", \"ticks\": \"\"}, \"bgcolor\": \"#E5ECF6\", \"caxis\": {\"gridcolor\": \"white\", \"linecolor\": \"white\", \"ticks\": \"\"}}, \"title\": {\"x\": 0.05}, \"xaxis\": {\"automargin\": true, \"gridcolor\": \"white\", \"linecolor\": \"white\", \"ticks\": \"\", \"title\": {\"standoff\": 15}, \"zerolinecolor\": \"white\", \"zerolinewidth\": 2}, \"yaxis\": {\"automargin\": true, \"gridcolor\": \"white\", \"linecolor\": \"white\", \"ticks\": \"\", \"title\": {\"standoff\": 15}, \"zerolinecolor\": \"white\", \"zerolinewidth\": 2}}}, \"xaxis\": {\"anchor\": \"y\", \"domain\": [0.0, 1.0], \"title\": {\"text\": \"AverageMortgageAmount\"}}, \"yaxis\": {\"anchor\": \"x\", \"domain\": [0.0, 1.0], \"title\": {\"text\": \"DelinquencyRate\"}}},                        {\"responsive\": true}                    ).then(function(){\n",
       "                            \n",
       "var gd = document.getElementById('dbec6bac-d7a5-4976-9284-c4f0b799aabd');\n",
       "var x = new MutationObserver(function (mutations, observer) {{\n",
       "        var display = window.getComputedStyle(gd).display;\n",
       "        if (!display || display === 'none') {{\n",
       "            console.log([gd, 'removed!']);\n",
       "            Plotly.purge(gd);\n",
       "            observer.disconnect();\n",
       "        }}\n",
       "}});\n",
       "\n",
       "// Listen for the removal of the full notebook cells\n",
       "var notebookContainer = gd.closest('#notebook-container');\n",
       "if (notebookContainer) {{\n",
       "    x.observe(notebookContainer, {childList: true});\n",
       "}}\n",
       "\n",
       "// Listen for the clearing of the current output cell\n",
       "var outputEl = gd.closest('.output');\n",
       "if (outputEl) {{\n",
       "    x.observe(outputEl, {childList: true});\n",
       "}}\n",
       "\n",
       "                        })                };                });            </script>        </div>"
      ]
     },
     "metadata": {},
     "output_type": "display_data"
    }
   ],
   "source": [
    "px.scatter(data_frame=data_pop_del_mort_df,\n",
    "          x = \"AverageMortgageAmount\",\n",
    "          y = \"DelinquencyRate\",\n",
    "          size= \"PopulationSize\",\n",
    "          color= \"Geography\", \n",
    "          hover_name=\"Time\")"
   ]
  },
  {
   "cell_type": "code",
   "execution_count": null,
   "metadata": {},
   "outputs": [],
   "source": []
  }
 ],
 "metadata": {
  "kernelspec": {
   "display_name": "Python 3",
   "language": "python",
   "name": "python3"
  },
  "language_info": {
   "codemirror_mode": {
    "name": "ipython",
    "version": 3
   },
   "file_extension": ".py",
   "mimetype": "text/x-python",
   "name": "python",
   "nbconvert_exporter": "python",
   "pygments_lexer": "ipython3",
   "version": "3.7.6"
  }
 },
 "nbformat": 4,
 "nbformat_minor": 4
}
