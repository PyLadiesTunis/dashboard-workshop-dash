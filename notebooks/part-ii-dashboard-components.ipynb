{
 "cells": [
  {
   "cell_type": "markdown",
   "metadata": {
    "slideshow": {
     "slide_type": "slide"
    }
   },
   "source": [
    "# Welcome to introduction to dashboards with Plotly and Dash\n",
    "\n",
    "-------------------------------------------------------------------------------------------------------------------------------\n",
    "\n",
    "\n",
    "### Workshop facilitators: Laura Gutierrez Funderburk, Hanh Tong\n",
    "\n",
    "### About this workshop\n",
    "\n",
    "In this workshop we will explore key characteristics of the housing market in Vancouver, BC. \n",
    "\n",
    "It is important to note that this workshop assumes:\n",
    "\n",
    "1. Data cleaning and exploration was completed prior to developing the dashboard\n",
    "2. Some comfort with `pandas` and visualization is assumed\n",
    "3. Comfort navigating the Jupyter environment is needed\n"
   ]
  },
  {
   "cell_type": "markdown",
   "metadata": {
    "slideshow": {
     "slide_type": "slide"
    }
   },
   "source": [
    "\n",
    "### Workshop schedule:\n",
    "-------------------------------------------------------------------------------------------------------------------------------\n",
    "\n",
    "\n",
    "#### 1. Part I: Data exploration\n",
    "\n",
    "In this section, we will first spend time getting familiar with the data. We will use the `pandas` and `plotly` libraries, we will also explore the `DEX` feature within Noteable to ease getting a good sense for what the data contains.\n",
    "\n",
    "In this section, we will also explore the notion of factoring code into functions, and the notion of writing a Python script that we can use to easily recreate our results. \n",
    "\n",
    "#### 2. Part II: Dashboard components\n",
    "\n",
    "In this section, we will take what we built together in part I and explore the main components in a Dash dashboard. "
   ]
  },
  {
   "cell_type": "markdown",
   "metadata": {
    "slideshow": {
     "slide_type": "slide"
    }
   },
   "source": [
    "## Part II: Dashboard components\n",
    "-------------------------------------------------------------------------------------------------------------------------------\n",
    "\n",
    "\n",
    "The four main components in a Dash dashboard are:\n",
    "\n",
    "1. A .py script (also known as your dashboard app) `app.py`\n",
    "\n",
    "2. A requirements.txt file with the Python dependencies for your app\n",
    "\n",
    "3. A Procfile\n",
    "\n",
    "4. A .gitignore file"
   ]
  },
  {
   "cell_type": "markdown",
   "metadata": {
    "slideshow": {
     "slide_type": "slide"
    }
   },
   "source": [
    "\n",
    "### The .py script `app.py`\n",
    "\n",
    "-------------------------------------------------------------------------------------------------------------------------------\n",
    "\n",
    "\n",
    "The anatomy of a .py script is as follows:\n",
    "\n",
    "```python\n",
    "import math\n",
    "\n",
    "def function1(par1: int, par2: str) -> None:\n",
    "    \"\"\"\n",
    "    Parameters\n",
    "    ----------\n",
    "        par1: (dataframe object) reshaped data frame object with mortage, delinquency and population data\n",
    "        par2: (string) \"box\", \"violin\", \"scatter\", \"line\"\n",
    "         \n",
    "    Returns:\n",
    "    --------\n",
    "        None\n",
    "    \"\"\"\n",
    "    print(f\"{par1} is spelled '{par2}'\")\n",
    "        \n",
    "if __name__ == '__main__':  \n",
    "    \n",
    "    # Code that does something\n",
    "    function1(1, \"one\")\n",
    "```"
   ]
  },
  {
   "cell_type": "markdown",
   "metadata": {
    "slideshow": {
     "slide_type": "slide"
    }
   },
   "source": [
    "### A running example\n",
    "\n",
    "-------------------------------------------------------------------------------------------------------------------------------\n",
    "\n",
    "Let's package the content of the function `graph_region` that we crafted in part I. The script looks as follows:"
   ]
  },
  {
   "cell_type": "code",
   "execution_count": null,
   "metadata": {
    "slideshow": {
     "slide_type": "slide"
    }
   },
   "outputs": [],
   "source": [
    "# %load ./nb-scripts/base_script.py\n",
    "import pandas as pd\n",
    "import plotly.express as px\n",
    "\n",
    "def graph_region(region_df, graph_type: str, dimension1: str, dimension2: str) -> None:\n",
    "    \"\"\"\n",
    "    Parameters\n",
    "    ----------\n",
    "        region_df: (dataframe object) reshaped data frame object with mortage, delinquency and population data\n",
    "        graph_type: (string) \"box\", \"violin\", \"scatter\", \"line\"\n",
    "        dimension1: (str) one of 'Time' or 'Geography'\n",
    "        dimension2: (str) one of 'AverageMortgageAmount', 'AverageMortgageAmount' or 'PopulationSize'\n",
    "        \n",
    "    Returns:\n",
    "    --------\n",
    "        None\n",
    "    \"\"\"\n",
    "    \n",
    "    plot_dict = {'box': px.box,'violin': px.violin, 'scatter': px.scatter, 'line':px.line}\n",
    "        \n",
    "    try:\n",
    "        # Initialize function\n",
    "        fig = plot_dict[graph_type](region_df, \n",
    "                                    x=dimension1, \n",
    "                                    y=dimension2, \n",
    "                                    color = \"Geography\",\n",
    "                                   hover_name = \"Time\")\n",
    "        # Format figure \n",
    "        title_string = f'Chart: {graph_type} plot of {dimension1} and {dimension2} by Geography'\n",
    "        fig.update_layout(title = title_string)\n",
    "        fig.update_xaxes(tickangle=-45)\n",
    "        fig.show()\n",
    "    \n",
    "    except KeyError:\n",
    "        print(\"Key not found. Make sure that 'graph_type' is in ['box','violin', 'scatter', 'line']\")\n",
    "    except ValueError:\n",
    "        print(\"Dimension is not valid. dimension1 is one of 'Time' or 'Geography'\")\n",
    "        print(\"dimension2 is one of 'AverageMortgageAmount', 'DelinquencyRate', 'PopulationSize'\")\n",
    "        \n",
    "        \n",
    "if __name__ == '__main__':  \n",
    "    \n",
    "    # Read the data into a dataframe \n",
    "    url = 'https://raw.githubusercontent.com/Vancouver-Datajam/dashboard-workshop-dash/main/data/delinquency_mortgage_population_2021_2020.csv'\n",
    "    data_pop_del_mort_df = pd.read_csv(url, index_col=0)\n",
    "    \n",
    "    # See the first few rows\n",
    "    display(data_pop_del_mort_df.head(10))\n",
    "    \n",
    "    # Visualize\n",
    "    graph_region(data_pop_del_mort_df, 'line', \"Time\", \"AverageMortgageAmount\")\n",
    "    graph_region(data_pop_del_mort_df, 'box', \"Geography\", \"AverageMortgageAmount\")\n",
    "    graph_region(data_pop_del_mort_df, 'scatter', \"AverageMortgageAmount\", \"DelinquencyRate\")"
   ]
  },
  {
   "cell_type": "code",
   "execution_count": null,
   "metadata": {
    "scrolled": false,
    "slideshow": {
     "slide_type": "slide"
    }
   },
   "outputs": [],
   "source": [
    "%run -i ./nb-scripts/base_script.py"
   ]
  },
  {
   "cell_type": "markdown",
   "metadata": {
    "slideshow": {
     "slide_type": "slide"
    }
   },
   "source": [
    "\n",
    "### What is wrong with the plots being laid out this way?\n",
    "-------------------------------------------------------------------------------------------------------------------------------\n",
    "\n",
    "\n",
    "A lot...\n",
    "\n",
    "This is hard to read, hard to interact with, and overwhelming. We introduce the app machinery."
   ]
  },
  {
   "cell_type": "markdown",
   "metadata": {
    "slideshow": {
     "slide_type": "slide"
    }
   },
   "source": [
    "The `app.py` script is just a .py script with additional machinery. \n"
   ]
  },
  {
   "cell_type": "markdown",
   "metadata": {
    "slideshow": {
     "slide_type": "slide"
    }
   },
   "source": [
    "### The `app.py` additional machinery\n",
    "-------------------------------------------------------------------------------------------------------------------------------\n",
    "\n",
    "Our app is going to contain mostly the same as a regular .py script, plus a few new items:\n",
    "\n",
    "- Dash library imports\n",
    "- External stylesheets\n",
    "- App initialization\n",
    "- App layout\n",
    "- Decorator callbacks"
   ]
  },
  {
   "cell_type": "markdown",
   "metadata": {
    "slideshow": {
     "slide_type": "subslide"
    }
   },
   "source": [
    "### Dash library imports\n",
    "-------------------------------------------------------------------------------------------------------------------------------\n",
    "\n",
    "```python\n",
    "\n",
    "import dash\n",
    "import dash_core_components as dcc\n",
    "import dash_html_components as html\n",
    "from dash.dependencies import Input, Output\n",
    "\n",
    "```"
   ]
  },
  {
   "cell_type": "markdown",
   "metadata": {
    "slideshow": {
     "slide_type": "subslide"
    }
   },
   "source": [
    "### External stylesheets\n",
    "-------------------------------------------------------------------------------------------------------------------------------\n",
    "\n",
    "```python\n",
    "\n",
    "# Stylesheets\n",
    "external_stylesheets = ['https://codepen.io/chriddyp/pen/bWLwgP.css']\n",
    "\n",
    "\n",
    "```\n",
    "\n",
    "Dash applications are rendered in the web browser with CSS and JavaScript. On page load, Dash serves a small HTML template that includes references to the CSS and JavaScript that are required to render the application. You can use stylesheets in your dashboard, similarly to how you'd use them to style your website.\n",
    "\n",
    "Read more https://dash.plotly.com/external-resources"
   ]
  },
  {
   "cell_type": "markdown",
   "metadata": {
    "slideshow": {
     "slide_type": "subslide"
    }
   },
   "source": [
    "### App initialization\n",
    "-------------------------------------------------------------------------------------------------------------------------------\n",
    "\n",
    "```python\n",
    "\n",
    "# Intialize app\n",
    "app = dash.Dash(__name__, external_stylesheets=external_stylesheets)\n",
    "server = app.server\n",
    "\n",
    "\n",
    "```\n"
   ]
  },
  {
   "cell_type": "markdown",
   "metadata": {
    "slideshow": {
     "slide_type": "subslide"
    }
   },
   "source": [
    "### App layout\n",
    "-------------------------------------------------------------------------------------------------------------------------------\n",
    "\n",
    "```python\n",
    "\n",
    "app.layout = html.Div([sidebar, content])\n",
    "\n",
    "\n",
    "```\n",
    "\n",
    "This component describes what the application looks like.\n",
    "\n",
    "https://dash.plotly.com/layout"
   ]
  },
  {
   "cell_type": "markdown",
   "metadata": {
    "slideshow": {
     "slide_type": "subslide"
    }
   },
   "source": [
    "### Decorator callbacks\n",
    "-------------------------------------------------------------------------------------------------------------------------------\n",
    "\n",
    "```python\n",
    "\n",
    "@app.callback(\n",
    "     Output('graph-id', 'figure'),\n",
    "    Input('value-id', 'value')\n",
    "def update_figure(parameter):\n",
    "    \"\"\"\n",
    "    Parameters\n",
    "    ----------\n",
    "        parameter: This is the value that will be updated in the app\n",
    "    \"\"\"\n",
    "    \n",
    "    # Code that uses the variable value to make a change \n",
    "    ...\n",
    "    # Code that generates figure based on value\n",
    "    fig = ...\n",
    "\n",
    "    return fig\n",
    "\n",
    "\n",
    "```\n",
    "\n",
    "\n",
    "Decorator callbacks act Python functions that are automatically called by Dash whenever an input component's property changes. This is what makes it possible for dashboards to be interactive.\n",
    "\n",
    "Read more https://dash.plotly.com/basic-callbacks"
   ]
  },
  {
   "cell_type": "markdown",
   "metadata": {
    "slideshow": {
     "slide_type": "slide"
    }
   },
   "source": [
    "Exit slideshow to see full script.\n",
    "\n",
    "```python\n",
    "import pandas as pd\n",
    "import plotly.express as px\n",
    "import dash\n",
    "import dash_core_components as dcc\n",
    "import dash_html_components as html\n",
    "from dash.dependencies import Input, Output\n",
    "\n",
    "# ----------------------------------------------------------------------------------#\n",
    "# Read data\n",
    "\n",
    "\n",
    "# ----------------------------------------------------------------------------------#\n",
    "# App section\n",
    "\n",
    "# Stylesheets\n",
    "external_stylesheets = ['https://codepen.io/chriddyp/pen/bWLwgP.css']\n",
    "\n",
    "# Intialize app\n",
    "app = dash.Dash(__name__, external_stylesheets=external_stylesheets)\n",
    "server = app.server\n",
    "\n",
    "app.layout = # some code with our layout\n",
    "\n",
    "\n",
    "@app.callback(\n",
    "     Output('graph-id', 'figure'),\n",
    "    Input('value-id', 'value')\n",
    "def update_figure(parameter):\n",
    "    \"\"\"\n",
    "    Parameters\n",
    "    ----------\n",
    "        parameter: This is the value that will be updated in the app\n",
    "    \"\"\"\n",
    "    \n",
    "    # Code that uses the variable value to make a change \n",
    "    ...\n",
    "    # Code that generates figure based on value\n",
    "    fig = ...\n",
    "\n",
    "    return fig\n",
    "\n",
    "\n",
    "if __name__ == '__main__':  \n",
    "    app.run_server(debug=True) \n",
    "```\n",
    "\n"
   ]
  },
  {
   "cell_type": "markdown",
   "metadata": {
    "slideshow": {
     "slide_type": "slide"
    }
   },
   "source": [
    "### Let's work together to turn our plotting script into an app using Dash\n",
    "\n",
    "-------------------------------------------------------------------------------------------------------------------------------\n"
   ]
  },
  {
   "cell_type": "code",
   "execution_count": 17,
   "metadata": {
    "slideshow": {
     "slide_type": "slide"
    }
   },
   "outputs": [
    {
     "name": "stdout",
     "output_type": "stream",
     "text": [
      "Dash is running on http://127.0.0.1:8050/\n",
      "\n",
      "Dash is running on http://127.0.0.1:8050/\n",
      "\n",
      "Dash is running on http://127.0.0.1:8050/\n",
      "\n",
      "Dash is running on http://127.0.0.1:8050/\n",
      "\n",
      "Dash is running on http://127.0.0.1:8050/\n",
      "\n",
      "Dash is running on http://127.0.0.1:8050/\n",
      "\n",
      " * Serving Flask app \"__main__\" (lazy loading)\n",
      " * Environment: production\n",
      "   WARNING: This is a development server. Do not use it in a production deployment.\n",
      "   Use a production WSGI server instead.\n",
      " * Debug mode: on\n"
     ]
    },
    {
     "ename": "SystemExit",
     "evalue": "1",
     "output_type": "error",
     "traceback": [
      "An exception has occurred, use %tb to see the full traceback.\n",
      "\u001b[1;31mSystemExit\u001b[0m\u001b[1;31m:\u001b[0m 1\n"
     ]
    }
   ],
   "source": [
    "\n",
    "import pandas as pd\n",
    "import plotly.express as px\n",
    "import dash\n",
    "import dash_core_components as dcc\n",
    "import dash_html_components as html\n",
    "from dash.dependencies import Input, Output\n",
    "\n",
    "def graph_region(region_df, graph_type: str, dimension1: str, dimension2: str) -> None:\n",
    "    \"\"\"\n",
    "    Parameters\n",
    "    ----------\n",
    "        region_df: (dataframe object) reshaped data frame object with mortage, delinquency and population data\n",
    "        graph_type: (string) \"box\", \"violin\", \"scatter\", \"line\"\n",
    "        dimension1: (str) one of 'Time' or 'Geography'\n",
    "        dimension2: (str) one of 'AverageMortgageAmount', 'AverageMortgageAmount' or 'PopulationSize'\n",
    "        \n",
    "    Returns:\n",
    "    --------\n",
    "        None\n",
    "    \"\"\"\n",
    "    \n",
    "    plot_dict = {'box': px.box,'violin': px.violin, 'scatter': px.scatter, 'line':px.line}\n",
    "        \n",
    "    try:\n",
    "        # Initialize function\n",
    "        fig = plot_dict[graph_type](region_df, \n",
    "                                    x=dimension1, \n",
    "                                    y=dimension2, \n",
    "                                    color = \"Geography\",\n",
    "                                   hover_name = \"Time\")\n",
    "        # Format figure \n",
    "        title_string = f'Chart: {graph_type} plot of {dimension1} and {dimension2} by Geography'\n",
    "        fig.update_layout(title = title_string)\n",
    "        fig.update_xaxes(tickangle=-45)\n",
    "        fig.show()\n",
    "    \n",
    "    except KeyError:\n",
    "        print(\"Key not found. Make sure that 'graph_type' is in ['box','violin', 'scatter', 'line']\")\n",
    "    except ValueError:\n",
    "        print(\"Dimension is not valid. dimension1 is one of 'Time' or 'Geography'\")\n",
    "        print(\"dimension2 is one of 'AverageMortgageAmount', 'DelinquencyRate', 'PopulationSize'\")\n",
    "        \n",
    "        \n",
    "# ----------------------------------------------------------------------------------#\n",
    "# Read data\n",
    "\n",
    "url = 'https://raw.githubusercontent.com/Vancouver-Datajam/dashboard-workshop-dash/main/data/delinquency_mortgage_population_2021_2020.csv'\n",
    "data_pop_del_mort_df = pd.read_csv(url, index_col=0)\n",
    "\n",
    "# ----------------------------------------------------------------------------------#\n",
    "# App section        \n",
    "        \n",
    "\n",
    "# Stylesheets\n",
    "external_stylesheets = ['https://codepen.io/chriddyp/pen/bWLwgP.css']\n",
    "\n",
    "# Intialize app\n",
    "app = dash.Dash(__name__, external_stylesheets=external_stylesheets)\n",
    "server = app.server\n",
    "\n",
    "app.layout = html.Div([\n",
    "        html.H1(\"Housing graphs\"),\n",
    "        dcc.Dropdown(\n",
    "            id='province',\n",
    "            options=[{'label': i, 'value': i} for i in data_pop_del_mort_df['Geography'].unique()],\n",
    "            value= 'Newfoundland'\n",
    "        )\n",
    "    ])\n",
    "\n",
    "\n",
    "        \n",
    "if __name__ == '__main__':  \n",
    "    \n",
    "    app.run_server(debug=True) "
   ]
  },
  {
   "cell_type": "code",
   "execution_count": null,
   "metadata": {},
   "outputs": [],
   "source": []
  }
 ],
 "metadata": {
  "celltoolbar": "Slideshow",
  "kernelspec": {
   "display_name": "Python 3",
   "language": "python",
   "name": "python3"
  },
  "language_info": {
   "codemirror_mode": {
    "name": "ipython",
    "version": 3
   },
   "file_extension": ".py",
   "mimetype": "text/x-python",
   "name": "python",
   "nbconvert_exporter": "python",
   "pygments_lexer": "ipython3",
   "version": "3.7.6"
  }
 },
 "nbformat": 4,
 "nbformat_minor": 4
}
