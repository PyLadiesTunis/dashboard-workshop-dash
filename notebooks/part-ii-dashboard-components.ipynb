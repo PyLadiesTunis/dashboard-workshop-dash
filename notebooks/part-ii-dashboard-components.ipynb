{
 "cells": [
  {
   "cell_type": "markdown",
   "metadata": {},
   "source": [
    "# Welcome to introduction to dashboards with Plotly and Dash\n",
    "\n",
    "### Workshop facilitators: Laura Gutierrez Funderburk, Hanh Tong\n",
    "\n",
    "### About this workshop\n",
    "\n",
    "In this workshop we will explore key characteristics of the housing market in Vancouver, BC. \n",
    "\n",
    "It is important to note that this workshop assumes:\n",
    "\n",
    "1. Data cleaning and exploration was completed prior to developing the dashboard\n",
    "2. Some comfort with `pandas` and visualization is assumed\n",
    "3. Comfort navigating the Jupyter environment is needed\n",
    "\n",
    "### Workshop schedule:\n",
    "\n",
    "#### 1. Part I: Data exploration\n",
    "\n",
    "In this section, we will first spend time getting familiar with the data. We will use the `pandas` and `plotly` libraries, we will also explore the `DEX` feature within Noteable to ease getting a good sense for what the data contains.\n",
    "\n",
    "In this section, we will also explore the notion of factoring code into functions, and the notion of writing a Python script that we can use to easily recreate our results. \n",
    "\n",
    "#### 2. Part II: Dashboard components\n",
    "\n",
    "In this section, we will take what we built together in part I and explore the main components in a Dash dashboard. "
   ]
  },
  {
   "cell_type": "markdown",
   "metadata": {},
   "source": [
    "## Part II: Dashboard components\n",
    "\n",
    "The four main components in a Dash dashboard are:\n",
    "\n",
    "1. A .py script (also known as your dashboard app) `app.py`\n",
    "\n",
    "2. A requirements.txt file with the Python dependencies for your app\n",
    "\n",
    "3. A Procfile\n",
    "\n",
    "4. A .gitignore file"
   ]
  },
  {
   "cell_type": "markdown",
   "metadata": {},
   "source": [
    "### The .py script `app.py`\n",
    "\n",
    "The anatomy of a .py script is as follows:"
   ]
  },
  {
   "cell_type": "code",
   "execution_count": 2,
   "metadata": {},
   "outputs": [
    {
     "ename": "ModuleNotFoundError",
     "evalue": "No module named 'library1'",
     "output_type": "error",
     "traceback": [
      "\u001b[1;31m---------------------------------------------------------------------------\u001b[0m",
      "\u001b[1;31mModuleNotFoundError\u001b[0m                       Traceback (most recent call last)",
      "\u001b[1;32m<ipython-input-2-8cb82b428863>\u001b[0m in \u001b[0;36m<module>\u001b[1;34m\u001b[0m\n\u001b[1;32m----> 1\u001b[1;33m \u001b[1;32mimport\u001b[0m \u001b[0mlibrary1\u001b[0m\u001b[1;33m\u001b[0m\u001b[1;33m\u001b[0m\u001b[0m\n\u001b[0m\u001b[0;32m      2\u001b[0m \u001b[1;32mimport\u001b[0m \u001b[0mlibrary2\u001b[0m\u001b[1;33m\u001b[0m\u001b[1;33m\u001b[0m\u001b[0m\n\u001b[0;32m      3\u001b[0m \u001b[1;33m\u001b[0m\u001b[0m\n\u001b[0;32m      4\u001b[0m \u001b[1;32mdef\u001b[0m \u001b[0mfunction1\u001b[0m\u001b[1;33m(\u001b[0m\u001b[0mpar1\u001b[0m\u001b[1;33m:\u001b[0m \u001b[0mint\u001b[0m\u001b[1;33m,\u001b[0m \u001b[0mpar2\u001b[0m\u001b[1;33m:\u001b[0m \u001b[0mstr\u001b[0m\u001b[1;33m)\u001b[0m \u001b[1;33m->\u001b[0m \u001b[1;32mNone\u001b[0m\u001b[1;33m:\u001b[0m\u001b[1;33m\u001b[0m\u001b[1;33m\u001b[0m\u001b[0m\n\u001b[0;32m      5\u001b[0m     \"\"\"\n",
      "\u001b[1;31mModuleNotFoundError\u001b[0m: No module named 'library1'"
     ]
    }
   ],
   "source": [
    "import library1\n",
    "import library2\n",
    "\n",
    "def function1(par1: int, par2: str) -> None:\n",
    "    \"\"\"\n",
    "    Parameters\n",
    "    ----------\n",
    "        par1: (dataframe object) reshaped data frame object with mortage, delinquency and population data\n",
    "        par2: (string) \"box\", \"violin\", \"scatter\", \"line\"\n",
    "         \n",
    "    Returns:\n",
    "    --------\n",
    "        None\n",
    "    \"\"\"\n",
    "    \n",
    "    # Function does something\n",
    "        \n",
    "if __name__ == '__main__':  \n",
    "    # Code that does something\n",
    "    print(function1(1, \"one\"))"
   ]
  },
  {
   "cell_type": "code",
   "execution_count": null,
   "metadata": {},
   "outputs": [],
   "source": []
  }
 ],
 "metadata": {
  "kernelspec": {
   "display_name": "Python 3",
   "language": "python",
   "name": "python3"
  },
  "language_info": {
   "codemirror_mode": {
    "name": "ipython",
    "version": 3
   },
   "file_extension": ".py",
   "mimetype": "text/x-python",
   "name": "python",
   "nbconvert_exporter": "python",
   "pygments_lexer": "ipython3",
   "version": "3.7.6"
  }
 },
 "nbformat": 4,
 "nbformat_minor": 4
}
