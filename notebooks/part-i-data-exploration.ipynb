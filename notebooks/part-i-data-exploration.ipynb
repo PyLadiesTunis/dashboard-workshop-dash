{
 "cells": [
  {
   "cell_type": "markdown",
   "id": "681863b0-eb80-470a-8fc2-605f6294982f",
   "metadata": {
    "noteable": {
     "cell_type": "markdown",
     "transaction_ids": {
      "source": "da4eac05-48d1-4618-b38f-fa4730ad4167"
     }
    },
    "nteract": {
     "transient": {
      "deleting": false
     }
    }
   },
   "source": [
    "# Welcome to introduction to dashboards with Plotly and Dash\n",
    "\n",
    "### Workshop facilitators: Laura Gutierrez Funderburk, Hanh Tong\n",
    "\n",
    "### About this workshop\n",
    "\n",
    "In this workshop we will explore key characteristics of the housing market in Vancouver, BC. \n",
    "\n",
    "It is important to note that this workshop assumes:\n",
    "\n",
    "1. Data cleaning and exploration was completed prior to developing the dashboard\n",
    "2. Some comfort with `pandas` and visualization is assumed\n",
    "3. Comfort navigating the Jupyter environment is needed\n",
    "\n",
    "### Workshop schedule:\n",
    "\n",
    "#### 1. Part I: Data exploration\n",
    "\n",
    "In this section, we will first spend time getting familiar with the data. We will use the `pandas` and `plotly` libraries, we will also explore the `DEX` feature within Noteable to ease getting a good sense for what the data contains.\n",
    "\n",
    "In this section, we will also explore the notion of factoring code into functions, and the notion of writing a Python script that we can use to easily recreate our results. \n",
    "\n",
    "#### 2. Part II: Dashboard components\n",
    "\n",
    "In this section, we will take what we built together "
   ]
  },
  {
   "cell_type": "code",
   "execution_count": 2,
   "id": "73ba57e3-c505-4018-a4d1-06fc1a9c2b67",
   "metadata": {
    "execution": {
     "iopub.execute_input": "2021-09-13T19:41:26.763Z",
     "iopub.status.busy": "2021-09-13T19:41:26.716Z",
     "iopub.status.idle": "2021-09-08T00:25:02.801Z",
     "shell.execute_reply": "2021-09-08T00:24:58.375Z"
    },
    "jupyter": {
     "outputs_hidden": true,
     "source_hidden": false
    },
    "noteable": {
     "cell_type": "code",
     "output_collection_id": "5dc93236-fd45-4a31-bb9d-992b11e98f7e",
     "transaction_ids": {
      "source": "39c369b6-3020-4243-b964-190d497e7563"
     }
    },
    "nteract": {
     "transient": {
      "deleting": false
     }
    }
   },
   "outputs": [
    {
     "name": "stdout",
     "output_type": "stream",
     "text": [
      "Collecting plotly\n",
      "  Downloading plotly-5.3.1-py2.py3-none-any.whl (23.9 MB)\n",
      "\u001b[K     |████████████████████████████████| 23.9 MB 26.9 MB/s eta 0:00:01\n",
      "\u001b[?25hRequirement already satisfied: six in /opt/conda/lib/python3.9/site-packages (from plotly) (1.16.0)\n",
      "Requirement already satisfied: tenacity>=6.2.0 in /opt/conda/lib/python3.9/site-packages (from plotly) (8.0.1)\n",
      "Installing collected packages: plotly\n",
      "Successfully installed plotly-5.3.1\n",
      "Collecting pandas_profiling\n",
      "  Downloading pandas_profiling-3.0.0-py2.py3-none-any.whl (248 kB)\n",
      "\u001b[K     |████████████████████████████████| 248 kB 26.6 MB/s eta 0:00:01\n",
      "\u001b[?25hRequirement already satisfied: requests>=2.24.0 in /opt/conda/lib/python3.9/site-packages (from pandas_profiling) (2.26.0)\n",
      "Requirement already satisfied: scipy>=1.4.1 in /opt/conda/lib/python3.9/site-packages (from pandas_profiling) (1.7.1)\n",
      "Collecting htmlmin>=0.1.12\n",
      "  Downloading htmlmin-0.1.12.tar.gz (19 kB)\n",
      "Collecting phik>=0.11.1\n",
      "  Downloading phik-0.12.0-cp39-cp39-manylinux2010_x86_64.whl (676 kB)\n",
      "\u001b[K     |████████████████████████████████| 676 kB 65.8 MB/s eta 0:00:01\n",
      "\u001b[?25hCollecting visions[type_image_path]==0.7.1\n",
      "  Downloading visions-0.7.1-py3-none-any.whl (102 kB)\n",
      "\u001b[K     |████████████████████████████████| 102 kB 64.2 MB/s eta 0:00:01\n",
      "\u001b[?25hRequirement already satisfied: pydantic>=1.8.1 in /opt/conda/lib/python3.9/site-packages (from pandas_profiling) (1.8.2)\n",
      "Requirement already satisfied: jinja2>=2.11.1 in /opt/conda/lib/python3.9/site-packages (from pandas_profiling) (3.0.1)\n",
      "Collecting tangled-up-in-unicode==0.1.0\n",
      "  Downloading tangled_up_in_unicode-0.1.0-py3-none-any.whl (3.1 MB)\n",
      "\u001b[K     |████████████████████████████████| 3.1 MB 58.1 MB/s eta 0:00:01\n",
      "\u001b[?25hRequirement already satisfied: seaborn>=0.10.1 in /opt/conda/lib/python3.9/site-packages (from pandas_profiling) (0.11.2)\n",
      "Collecting missingno>=0.4.2\n",
      "  Downloading missingno-0.5.0-py3-none-any.whl (8.8 kB)\n",
      "Requirement already satisfied: pandas!=1.0.0,!=1.0.1,!=1.0.2,!=1.1.0,>=0.25.3 in /opt/conda/lib/python3.9/site-packages (from pandas_profiling) (1.3.2)\n",
      "Requirement already satisfied: numpy>=1.16.0 in /opt/conda/lib/python3.9/site-packages (from pandas_profiling) (1.21.2)\n",
      "Requirement already satisfied: PyYAML>=5.0.0 in /opt/conda/lib/python3.9/site-packages (from pandas_profiling) (5.4.1)\n",
      "Requirement already satisfied: joblib in /opt/conda/lib/python3.9/site-packages (from pandas_profiling) (1.0.1)\n",
      "Requirement already satisfied: tqdm>=4.48.2 in /opt/conda/lib/python3.9/site-packages (from pandas_profiling) (4.62.2)\n",
      "Requirement already satisfied: matplotlib>=3.2.0 in /opt/conda/lib/python3.9/site-packages (from pandas_profiling) (3.4.3)\n",
      "Requirement already satisfied: networkx>=2.4 in /opt/conda/lib/python3.9/site-packages (from visions[type_image_path]==0.7.1->pandas_profiling) (2.5)\n",
      "Collecting multimethod==1.4\n",
      "  Downloading multimethod-1.4-py2.py3-none-any.whl (7.3 kB)\n",
      "Requirement already satisfied: attrs>=19.3.0 in /opt/conda/lib/python3.9/site-packages (from visions[type_image_path]==0.7.1->pandas_profiling) (21.2.0)\n",
      "Requirement already satisfied: bottleneck in /opt/conda/lib/python3.9/site-packages (from visions[type_image_path]==0.7.1->pandas_profiling) (1.3.2)\n",
      "Requirement already satisfied: Pillow in /opt/conda/lib/python3.9/site-packages (from visions[type_image_path]==0.7.1->pandas_profiling) (8.3.1)\n",
      "Collecting imagehash\n",
      "  Downloading ImageHash-4.2.1.tar.gz (812 kB)\n",
      "\u001b[K     |████████████████████████████████| 812 kB 73.1 MB/s eta 0:00:01\n",
      "\u001b[?25hRequirement already satisfied: MarkupSafe>=2.0 in /opt/conda/lib/python3.9/site-packages (from jinja2>=2.11.1->pandas_profiling) (2.0.1)\n",
      "Requirement already satisfied: python-dateutil>=2.7 in /opt/conda/lib/python3.9/site-packages (from matplotlib>=3.2.0->pandas_profiling) (2.8.2)\n",
      "Requirement already satisfied: kiwisolver>=1.0.1 in /opt/conda/lib/python3.9/site-packages (from matplotlib>=3.2.0->pandas_profiling) (1.3.2)\n",
      "Requirement already satisfied: pyparsing>=2.2.1 in /opt/conda/lib/python3.9/site-packages (from matplotlib>=3.2.0->pandas_profiling) (2.4.7)\n",
      "Requirement already satisfied: cycler>=0.10 in /opt/conda/lib/python3.9/site-packages (from matplotlib>=3.2.0->pandas_profiling) (0.10.0)\n",
      "Requirement already satisfied: six in /opt/conda/lib/python3.9/site-packages (from cycler>=0.10->matplotlib>=3.2.0->pandas_profiling) (1.16.0)\n",
      "Requirement already satisfied: decorator>=4.3.0 in /opt/conda/lib/python3.9/site-packages (from networkx>=2.4->visions[type_image_path]==0.7.1->pandas_profiling) (5.0.9)\n",
      "Requirement already satisfied: pytz>=2017.3 in /opt/conda/lib/python3.9/site-packages (from pandas!=1.0.0,!=1.0.1,!=1.0.2,!=1.1.0,>=0.25.3->pandas_profiling) (2021.1)\n",
      "Requirement already satisfied: typing-extensions>=3.7.4.3 in /opt/conda/lib/python3.9/site-packages (from pydantic>=1.8.1->pandas_profiling) (3.10.0.2)\n",
      "Requirement already satisfied: certifi>=2017.4.17 in /opt/conda/lib/python3.9/site-packages (from requests>=2.24.0->pandas_profiling) (2021.5.30)\n",
      "Requirement already satisfied: idna<4,>=2.5 in /opt/conda/lib/python3.9/site-packages (from requests>=2.24.0->pandas_profiling) (3.2)\n",
      "Requirement already satisfied: urllib3<1.27,>=1.21.1 in /opt/conda/lib/python3.9/site-packages (from requests>=2.24.0->pandas_profiling) (1.26.6)\n",
      "Requirement already satisfied: charset-normalizer~=2.0.0 in /opt/conda/lib/python3.9/site-packages (from requests>=2.24.0->pandas_profiling) (2.0.4)\n",
      "Requirement already satisfied: PyWavelets in /opt/conda/lib/python3.9/site-packages (from imagehash->visions[type_image_path]==0.7.1->pandas_profiling) (1.1.1)\n",
      "Building wheels for collected packages: htmlmin, imagehash\n",
      "  Building wheel for htmlmin (setup.py) ... \u001b[?25l-\b \bdone\n",
      "\u001b[?25h  Created wheel for htmlmin: filename=htmlmin-0.1.12-py3-none-any.whl size=27098 sha256=e822203d2d05202d5a189530c089f3571f442e4e5fc24170e10ccfc4d4ae655d\n",
      "  Stored in directory: /home/noteable/.cache/pip/wheels/1d/05/04/c6d7d3b66539d9e659ac6dfe81e2d0fd4c1a8316cc5a403300\n",
      "  Building wheel for imagehash (setup.py) ... \u001b[?25l-\b \bdone\n",
      "\u001b[?25h  Created wheel for imagehash: filename=ImageHash-4.2.1-py2.py3-none-any.whl size=295207 sha256=f138900f0e1d0324c0e7bca0de94f5637cd0a4f4b7b8488341da5f63e1b4f27b\n",
      "  Stored in directory: /home/noteable/.cache/pip/wheels/51/f9/a5/740af2fdb0ad1edf79aabdc41531be0b6f0b2e2be684c388cf\n",
      "Successfully built htmlmin imagehash\n",
      "Installing collected packages: tangled-up-in-unicode, multimethod, visions, imagehash, phik, missingno, htmlmin, pandas-profiling\n",
      "Successfully installed htmlmin-0.1.12 imagehash-4.2.1 missingno-0.5.0 multimethod-1.4 pandas-profiling-3.0.0 phik-0.12.0 tangled-up-in-unicode-0.1.0 visions-0.7.1\n",
      "Collecting scipy==1.5.2\n",
      "  Downloading scipy-1.5.2.tar.gz (25.4 MB)\n",
      "\u001b[K     |██████████████████▍             | 14.6 MB 28.8 MB/s eta 0:00:01"
     ]
    }
   ],
   "source": [
    "!pip install plotly\n",
    "!pip install pandas_profiling\n",
    "!pip install scipy==1.5.2"
   ]
  },
  {
   "cell_type": "code",
   "execution_count": 1,
   "id": "77ad2dda",
   "metadata": {
    "execution": {
     "iopub.execute_input": "2021-09-13T19:41:24.753Z",
     "iopub.status.busy": "2021-09-13T19:41:24.703Z",
     "iopub.status.idle": "2021-09-13T19:41:24.866Z",
     "shell.execute_reply": "2021-09-13T19:41:24.932Z"
    },
    "noteable": {
     "output_collection_id": "725608ac-686b-4d5b-a6e5-23ecfcf14322",
     "transaction_ids": {
      "source": "8d5bac8e-08c5-4779-b29c-d3e7af9e6f42"
     }
    }
   },
   "outputs": [
    {
     "ename": "ModuleNotFoundError",
     "evalue": "No module named 'plotly'",
     "output_type": "error",
     "traceback": [
      "\u001b[0;31m---------------------------------------------------------------------------\u001b[0m",
      "\u001b[0;31mModuleNotFoundError\u001b[0m                       Traceback (most recent call last)",
      "\u001b[0;32m<ipython-input-1-59fcde4b72e9>\u001b[0m in \u001b[0;36m<module>\u001b[0;34m\u001b[0m\n\u001b[1;32m      1\u001b[0m \u001b[0;32mimport\u001b[0m \u001b[0mpandas\u001b[0m \u001b[0;32mas\u001b[0m \u001b[0mpd\u001b[0m\u001b[0;34m\u001b[0m\u001b[0;34m\u001b[0m\u001b[0m\n\u001b[1;32m      2\u001b[0m \u001b[0;32mimport\u001b[0m \u001b[0mpathlib\u001b[0m\u001b[0;34m\u001b[0m\u001b[0;34m\u001b[0m\u001b[0m\n\u001b[0;32m----> 3\u001b[0;31m \u001b[0;32mimport\u001b[0m \u001b[0mplotly\u001b[0m\u001b[0;34m.\u001b[0m\u001b[0mexpress\u001b[0m \u001b[0;32mas\u001b[0m \u001b[0mpx\u001b[0m\u001b[0;34m\u001b[0m\u001b[0;34m\u001b[0m\u001b[0m\n\u001b[0m\u001b[1;32m      4\u001b[0m \u001b[0;32mimport\u001b[0m \u001b[0msys\u001b[0m\u001b[0;34m\u001b[0m\u001b[0;34m\u001b[0m\u001b[0m\n\u001b[1;32m      5\u001b[0m \u001b[0msys\u001b[0m\u001b[0;34m.\u001b[0m\u001b[0mpath\u001b[0m\u001b[0;34m.\u001b[0m\u001b[0mappend\u001b[0m\u001b[0;34m(\u001b[0m\u001b[0;34mr'./scripts/'\u001b[0m\u001b[0;34m)\u001b[0m\u001b[0;34m\u001b[0m\u001b[0;34m\u001b[0m\u001b[0m\n",
      "\u001b[0;31mModuleNotFoundError\u001b[0m: No module named 'plotly'"
     ]
    }
   ],
   "source": [
    "import pandas as pd\n",
    "import pathlib\n",
    "import plotly.express as px\n",
    "import sys\n",
    "sys.path.append(r'./scripts/')"
   ]
  },
  {
   "cell_type": "code",
   "execution_count": null,
   "id": "6398ae90-e0cd-494d-bfb5-092b49ca1a93",
   "metadata": {
    "execution": {
     "iopub.execute_input": "2021-09-08T00:26:45.894Z",
     "iopub.status.busy": "2021-09-08T00:26:45.869Z",
     "iopub.status.idle": "2021-09-08T00:26:45.923Z",
     "shell.execute_reply": "2021-09-08T00:26:45.951Z"
    },
    "jupyter": {
     "outputs_hidden": false,
     "source_hidden": false
    },
    "noteable": {
     "cell_type": "code",
     "transaction_ids": {
      "source": "8ed69257-c7a8-4eb7-a13f-8ed72dab7b20"
     }
    },
    "nteract": {
     "transient": {
      "deleting": false
     }
    }
   },
   "outputs": [],
   "source": [
    "# Read data\n",
    "url = 'https://raw.githubusercontent.com/Vancouver-Datajam/dashboard-workshop-dash/main/data/delinquency_mortgage_population_2021_2020.csv'\n",
    "df = pd.read_csv(url, index_col=0)\n",
    "df.head(10)\n",
    "\n",
    "# Format data as a pandas dataframe\n",
    "data_pop_del_mort_df  = pd.read_csv(data_pop_del_mort, index_col=0)"
   ]
  },
  {
   "cell_type": "markdown",
   "id": "3470364b-3773-46af-82d5-52985868e3fe",
   "metadata": {
    "noteable": {
     "cell_type": "markdown",
     "transaction_ids": {
      "source": "58f383e3-de6c-40b9-8cce-4680b83ea047"
     }
    },
    "nteract": {
     "transient": {
      "deleting": false
     }
    }
   },
   "source": [
    "## Exercise: Get familiar with the table\n",
    "\n",
    "1. Run all cells\n",
    "\n",
    "2. Execute the cell containing the variable `data_pop_del_mort_df`\n",
    "\n",
    "3. On the bottom right corner, switch from `Table` to `DEX`.\n",
    "\n",
    "4. Select the `Table` feature. \n",
    "\n",
    "\n",
    "#### Questions\n",
    "\n",
    "a) What are relevant variables in the data?\n",
    "\n",
    "b)What is the extent (range), mean and median of columns `DelinquencyRate`, `AverageMortgageAmount` and `PopulationSize`?\n",
    "\n",
    "c) What is the time range and frequency of the data?"
   ]
  },
  {
   "cell_type": "code",
   "execution_count": null,
   "id": "91246d15-7ba7-4bd3-b96f-6fb33978f0e0",
   "metadata": {
    "dx": {
     "dashboard": {
      "multiViews": []
     },
     "decoration": {},
     "fieldMetadata": {},
     "filters": {
      "c9a67a11-1a89-4923-9fd3-8ec954341f77": {
       "DATE_FILTER": {},
       "DIMENSION_FILTER": {},
       "METRIC_FILTER": {}
      },
      "transitory": {
       "c9a67a11-1a89-4923-9fd3-8ec954341f77": {
        "DATE_FILTER": {},
        "DIMENSION_FILTER": {},
        "METRIC_FILTER": {}
       }
      }
     },
     "mode": "exploration",
     "sampling": {
      "sampleSeed": 4748360911,
      "sampleSize": 10000,
      "sampleStrategy": "none"
     },
     "simpleTable": false,
     "styles": {
      "colors": [
       "#005066",
       "#b3331d",
       "#b6a756",
       "#122753",
       "#b86117",
       "#27552d",
       "#e46538",
       "#96bb77",
       "#e5e36e",
       "#e6a19f",
       "#159eb7",
       "#827abf",
       "#f62150",
       "#6f89b6",
       "#f5e0b7",
       "#5b1e37",
       "#b9e3c5"
      ]
     },
     "views": [
      {
       "chart": {
        "areaType": "hexbin",
        "barGrouping": "Clustered",
        "baseLayer": "world",
        "baseLayerFill": "#FFFFFF",
        "baseLayerStroke": "#000000",
        "bgColor": "none",
        "candleClose": "DelinquencyRate",
        "candleHigh": "DelinquencyRate",
        "candleLow": "DelinquencyRate",
        "candleOpen": "DelinquencyRate",
        "combinationMode": "AVG",
        "dim1": "Geography",
        "dim2": "Time",
        "dim3": "none",
        "filteredDataOnly": "All Data",
        "funnelData": "metric",
        "funnelMetricOrder": [
         "index",
         "DelinquencyRate",
         "AverageMortgageAmount",
         "PopulationSize"
        ],
        "funnelMode": "bar",
        "hierarchyType": "dendrogram",
        "layerSettings": [
         {
          "color": "#000000",
          "hoverOpts": {
           "dims": [
            "Geography",
            "Time"
           ],
           "mets": [
            "index",
            "DelinquencyRate",
            "AverageMortgageAmount",
            "PopulationSize"
           ]
          },
          "id": "936493b3-7b1b-4e34-bbe6-4ce8c5cc2500",
          "latDim": "index",
          "longDim": "index",
          "pointColorOpts": {
           "color": "#000000",
           "gradient": {
            "interpolater": "(t) => interpolateTurbo(0.05 + 0.95 * t)",
            "name": "Turbo"
           },
           "max": 329,
           "met": "index",
           "min": 0,
           "mode": "gradient",
           "scale": {
            "name": "Linear",
            "scale": "scaleLinear"
           }
          },
          "pointSizeOpts": {
           "max": 329,
           "met": "index",
           "min": 0,
           "mode": "function",
           "scale": {
            "name": "Linear",
            "scale": "scaleLinear"
           },
           "size": 2,
           "sizeMax": 10,
           "sizeMin": 1
          },
          "size": 2,
          "stroke": "#000000",
          "strokeWidth": 1,
          "transparency": 0.75,
          "type": "point"
         }
        ],
        "lineType": "line",
        "mapMode": "point",
        "mapZoom": "basemap",
        "marginalGraphics": "none",
        "metric1": "index",
        "metric2": "DelinquencyRate",
        "metric3": "none",
        "metric4": "none",
        "networkLabel": "none",
        "networkType": "force",
        "parCoordsColor": "none",
        "pieceType": "bar",
        "proBarMode": "Combined",
        "scatterplotColor": "none",
        "selectedDimensions": [
         "Geography"
        ],
        "selectedMetrics": [],
        "sparkchart": "none",
        "summaryBins": 30,
        "summaryType": "violin",
        "trendLine": "none"
       },
       "chartMode": "grid",
       "decoration": {
        "footer": "",
        "subtitle": "",
        "title": "Table"
       },
       "id": "c9a67a11-1a89-4923-9fd3-8ec954341f77",
       "isComment": false,
       "isDefault": true,
       "type": "public",
       "userID": "Test"
      }
     ]
    },
    "execution": {
     "iopub.execute_input": "2021-09-08T00:56:16.039Z",
     "iopub.status.busy": "2021-09-08T00:56:15.997Z",
     "iopub.status.idle": "2021-09-08T00:56:18.182Z",
     "shell.execute_reply": "2021-09-08T00:56:18.229Z"
    },
    "jupyter": {
     "outputs_hidden": false,
     "source_hidden": false
    },
    "noteable": {
     "cell_type": "python",
     "transaction_ids": {
      "source": "b660334b-53c8-4fac-a010-28573c190d42"
     }
    },
    "nteract": {
     "transient": {
      "deleting": false
     }
    }
   },
   "outputs": [],
   "source": [
    "data_pop_del_mort_df"
   ]
  },
  {
   "cell_type": "markdown",
   "id": "04f1e44c-6542-46f2-9fd8-3e266311057c",
   "metadata": {
    "noteable": {
     "cell_type": "markdown",
     "transaction_ids": {
      "source": "be60054a-b2b5-4e26-ae50-aeead256f012"
     }
    },
    "nteract": {
     "transient": {
      "deleting": false
     }
    }
   },
   "source": [
    "## Exercise: Data exploration\n",
    "\n",
    "1. Execute all cells from top to bottom to read data. \n",
    "\n",
    "2. Explore data content in variable data_pop_del_mort_df\n",
    "\n",
    "3. On the bottom right corner of the cell, switch from Table to DEX to generate visualizations.\n",
    "\n",
    "4. A user menu will pop up. \n",
    "\n",
    "5. Select comparison charts. \n",
    "\n",
    "6. Change the X axis to have `AverageMortgageAmount` and the Y axis to have `PopulationSize`.\n",
    "\n",
    "7. Click on the `Color` menu. Select `Geography. `\n",
    "\n",
    "8. Change the Y axis to have `DelinquencyRate`.\n",
    "\n",
    "9. In `Circle Size Metric` change it from `None` to `PopulationSize`."
   ]
  },
  {
   "cell_type": "code",
   "execution_count": null,
   "id": "349e23ae-85a7-48a1-aefc-37383b06ba46",
   "metadata": {
    "dx": {
     "dashboard": {
      "multiViews": []
     },
     "decoration": {},
     "fieldMetadata": {},
     "filters": {
      "093c56d1-02b5-4e23-b0b6-597fcc1f25b9": {
       "DATE_FILTER": {},
       "DIMENSION_FILTER": {},
       "METRIC_FILTER": {}
      },
      "transitory": {
       "093c56d1-02b5-4e23-b0b6-597fcc1f25b9": {
        "DATE_FILTER": {},
        "DIMENSION_FILTER": {},
        "METRIC_FILTER": {}
       }
      }
     },
     "mode": "exploration",
     "sampling": {
      "sampleSeed": 1129311063,
      "sampleSize": 10000,
      "sampleStrategy": "none"
     },
     "simpleTable": false,
     "styles": {
      "colors": [
       "#005066",
       "#b3331d",
       "#b6a756",
       "#122753",
       "#b86117",
       "#27552d",
       "#e46538",
       "#96bb77",
       "#e5e36e",
       "#e6a19f",
       "#159eb7",
       "#827abf",
       "#f62150",
       "#6f89b6",
       "#f5e0b7",
       "#5b1e37",
       "#b9e3c5"
      ]
     },
     "views": [
      {
       "chart": {
        "areaType": "hexbin",
        "barGrouping": "Clustered",
        "baseLayer": "world",
        "baseLayerFill": "#FFFFFF",
        "baseLayerStroke": "#000000",
        "bgColor": "none",
        "candleClose": "DelinquencyRate",
        "candleHigh": "DelinquencyRate",
        "candleLow": "DelinquencyRate",
        "candleOpen": "DelinquencyRate",
        "combinationMode": "AVG",
        "dim1": "Geography",
        "dim2": "Time",
        "dim3": "none",
        "filteredDataOnly": "All Data",
        "funnelData": "metric",
        "funnelMetricOrder": [
         "index",
         "DelinquencyRate",
         "AverageMortgageAmount",
         "PopulationSize"
        ],
        "funnelMode": "bar",
        "hierarchyType": "dendrogram",
        "layerSettings": [
         {
          "color": "#000000",
          "hoverOpts": {
           "dims": [
            "Geography",
            "Time"
           ],
           "mets": [
            "index",
            "DelinquencyRate",
            "AverageMortgageAmount",
            "PopulationSize"
           ]
          },
          "id": "1e5a55bb-57dd-4abd-bb94-1293a9632c1f",
          "latDim": "index",
          "longDim": "index",
          "pointColorOpts": {
           "color": "#000000",
           "gradient": {
            "interpolater": "(t) => interpolateTurbo(0.05 + 0.95 * t)",
            "name": "Turbo"
           },
           "max": 329,
           "met": "index",
           "min": 0,
           "mode": "gradient",
           "scale": {
            "name": "Linear",
            "scale": "scaleLinear"
           }
          },
          "pointSizeOpts": {
           "max": 329,
           "met": "index",
           "min": 0,
           "mode": "function",
           "scale": {
            "name": "Linear",
            "scale": "scaleLinear"
           },
           "size": 2,
           "sizeMax": 10,
           "sizeMin": 1
          },
          "size": 2,
          "stroke": "#000000",
          "strokeWidth": 1,
          "transparency": 0.75,
          "type": "point"
         }
        ],
        "lineType": "line",
        "mapMode": "point",
        "mapZoom": "basemap",
        "marginalGraphics": "none",
        "metric1": "index",
        "metric2": "DelinquencyRate",
        "metric3": "none",
        "metric4": "none",
        "networkLabel": "none",
        "networkType": "force",
        "parCoordsColor": "none",
        "pieceType": "bar",
        "proBarMode": "Combined",
        "scatterplotColor": "none",
        "selectedDimensions": [
         "Geography"
        ],
        "selectedMetrics": [],
        "sparkchart": "none",
        "summaryBins": 30,
        "summaryType": "violin",
        "trendLine": "none"
       },
       "chartMode": "grid",
       "decoration": {
        "footer": "",
        "subtitle": "",
        "title": "Table"
       },
       "id": "093c56d1-02b5-4e23-b0b6-597fcc1f25b9",
       "isComment": false,
       "isDefault": true,
       "type": "public",
       "userID": "Test"
      }
     ]
    },
    "execution": {
     "iopub.execute_input": "2021-09-08T00:26:47.012Z",
     "iopub.status.busy": "2021-09-08T00:26:46.985Z",
     "iopub.status.idle": "2021-09-08T00:26:47.738Z",
     "shell.execute_reply": "2021-09-08T00:26:47.786Z"
    },
    "jupyter": {
     "outputs_hidden": false,
     "source_hidden": false
    },
    "noteable": {
     "cell_type": "code",
     "output_collection_id": "9cd6fe55-c2a6-4de3-ac50-35a610f969e4",
     "transaction_ids": {
      "source": "124b6ca1-617a-4ec8-9187-f81789fc2d44"
     }
    },
    "nteract": {
     "transient": {
      "deleting": false
     }
    }
   },
   "outputs": [],
   "source": [
    "data_pop_del_mort_df"
   ]
  },
  {
   "cell_type": "markdown",
   "id": "fecad50c-a35c-4465-b4bd-eda18d53eb2c",
   "metadata": {
    "noteable": {
     "cell_type": "markdown",
     "transaction_ids": {
      "source": "980414ee-4982-45a8-830a-b136b4a47ad9"
     }
    },
    "nteract": {
     "transient": {
      "deleting": false
     }
    }
   },
   "source": [
    "## Exercise: Data Interpretation\n",
    "\n",
    "What are interesting insights you find? Use the following questions to guide you:\n",
    "\n",
    "1. Do you see a trend when comparing the average mortgage amount vs delinquency rate or population size?\n",
    "\n",
    "2. Are there provinces with specific or interesting patterns with respect to their delinquency rate, average mortgage price or population size?"
   ]
  },
  {
   "cell_type": "markdown",
   "id": "6e53fedd-d915-41e6-953f-6280b1c974c6",
   "metadata": {
    "noteable": {
     "cell_type": "markdown",
     "transaction_ids": {
      "source": "c8f8b572-533d-4d06-a4e7-fa99702afd8b"
     }
    },
    "nteract": {
     "transient": {
      "deleting": false
     }
    }
   },
   "source": [
    "## Using Python and Plotly to generate interactive plots\n",
    "\n"
   ]
  },
  {
   "cell_type": "code",
   "execution_count": null,
   "id": "b791978c-e85a-46e8-8cd1-2a104dd651f5",
   "metadata": {
    "jupyter": {
     "outputs_hidden": false,
     "source_hidden": false
    },
    "noteable": {
     "cell_type": "python",
     "transaction_ids": {
      "source": "9130bd96-9e2b-4ac9-85b9-550069d6e469"
     }
    },
    "nteract": {
     "transient": {
      "deleting": false
     }
    }
   },
   "outputs": [],
   "source": [
    "px."
   ]
  },
  {
   "cell_type": "markdown",
   "id": "f3389772-b745-45a9-8751-f2d44c081e72",
   "metadata": {
    "noteable": {
     "cell_type": "markdown",
     "transaction_ids": {
      "source": "279cc34d-be0b-4846-bd9a-a0eb60831f2a"
     }
    },
    "nteract": {
     "transient": {
      "deleting": false
     }
    }
   },
   "source": [
    "## Refactoring code into functions\n",
    "\n",
    "In the next section we will refactor our code to ease reproducibility and also to ensure our Dash app is cleaner. "
   ]
  },
  {
   "cell_type": "code",
   "execution_count": null,
   "id": "0f93c3ed-88bc-41d4-aeb7-25da33cd711c",
   "metadata": {
    "execution": {
     "iopub.execute_input": "2021-09-08T01:52:42.307Z",
     "iopub.status.busy": "2021-09-08T01:52:42.256Z",
     "iopub.status.idle": "2021-09-08T01:52:42.352Z",
     "shell.execute_reply": "2021-09-08T01:52:42.489Z"
    },
    "jupyter": {
     "outputs_hidden": false,
     "source_hidden": false
    },
    "noteable": {
     "cell_type": "python",
     "transaction_ids": {
      "source": "997df682-f0a1-4204-b7a1-6e3decde5d4e"
     }
    },
    "nteract": {
     "transient": {
      "deleting": false
     }
    }
   },
   "outputs": [],
   "source": [
    "# a function for box or violin graphs\n",
    "def graph_region(region_df, graph_type: str, dimension1, dimension2):\n",
    "    \"\"\"\n",
    "    region_df: reshaped data frame object with mortage data\n",
    "    graph_type: \"box\", \"violin\"\n",
    "    title: title of the graph\n",
    "    \"\"\"\n",
    "    \n",
    "    plot_dict = {'box': px.box,'violin': px.violin, 'scatter': px.scatter, 'line':px.line}\n",
    "        \n",
    "    try:\n",
    "        fig = plot_dict[graph_type](region_df, \n",
    "                                    x=dimension1, \n",
    "                                    y=dimension2, \n",
    "                                    color = \"Geography\")\n",
    "        title_string = f'Chart: {graph_type} plot of {dimension1} and {dimension2} by Geography'\n",
    "        fig.update_layout(title = title_string)\n",
    "        fig.update_xaxes(tickangle=-45)\n",
    "        fig.show()\n",
    "    \n",
    "    except KeyError:\n",
    "        print(\"Key not found. Make sure that 'graph_type' is in ['box','violin']\")"
   ]
  },
  {
   "cell_type": "code",
   "execution_count": null,
   "id": "62afbfa9-3679-4f67-af56-eb853b40b2bb",
   "metadata": {
    "execution": {
     "iopub.execute_input": "2021-09-08T01:52:46.381Z",
     "iopub.status.busy": "2021-09-08T01:52:46.306Z",
     "iopub.status.idle": "2021-09-08T01:52:46.659Z",
     "shell.execute_reply": "2021-09-08T01:52:46.706Z"
    },
    "jupyter": {
     "outputs_hidden": false,
     "source_hidden": false
    },
    "noteable": {
     "cell_type": "code",
     "transaction_ids": {
      "source": "23016612-ce30-461e-b3fe-e48b2059cc90"
     }
    },
    "nteract": {
     "transient": {
      "deleting": false
     }
    }
   },
   "outputs": [],
   "source": [
    "graph_region(data_pop_del_mort_df, 'line', \"Time\", \"AverageMortgageAmount\")"
   ]
  },
  {
   "cell_type": "code",
   "execution_count": null,
   "id": "078047bf-fd5a-4359-8f0b-451d418f11d6",
   "metadata": {
    "execution": {
     "iopub.execute_input": "2021-09-08T01:52:16.155Z",
     "iopub.status.busy": "2021-09-08T01:52:16.095Z",
     "iopub.status.idle": "2021-09-08T01:52:16.490Z",
     "shell.execute_reply": "2021-09-08T01:52:16.538Z"
    },
    "jupyter": {
     "outputs_hidden": false,
     "source_hidden": false
    },
    "noteable": {
     "cell_type": "code",
     "transaction_ids": {
      "source": "a15352a9-4d1b-4b8a-8565-c36ae35619eb"
     }
    },
    "nteract": {
     "transient": {
      "deleting": false
     }
    }
   },
   "outputs": [],
   "source": [
    "graph_region(data_pop_del_mort_df, 'box', \"Geography\", \"DelinquencyRate\")"
   ]
  },
  {
   "cell_type": "code",
   "execution_count": null,
   "id": "a3b50de6-a99a-4afc-bee1-60321b186e1b",
   "metadata": {
    "jupyter": {
     "outputs_hidden": false,
     "source_hidden": false
    },
    "noteable": {
     "cell_type": "code"
    },
    "nteract": {
     "transient": {
      "deleting": false
     }
    }
   },
   "outputs": [],
   "source": []
  }
 ],
 "metadata": {
  "display_mode": "fullwidth",
  "noteable": {
   "last_transaction_id": "ca0dca7b-6250-4d52-9988-56458b3d5655"
  },
  "nteract": {
   "version": "noteable@2.1.0"
  },
  "selected_hardware_size": "small"
 },
 "nbformat": 4,
 "nbformat_minor": 5
}
